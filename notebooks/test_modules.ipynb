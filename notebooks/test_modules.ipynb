{
 "cells": [
  {
   "cell_type": "code",
   "execution_count": 1,
   "id": "846b067d-679f-4a67-ae3c-672614a3b511",
   "metadata": {},
   "outputs": [
    {
     "name": "stderr",
     "output_type": "stream",
     "text": [
      "/backup/vova/src/exps/bird_clef_2024/.venv/lib/python3.11/site-packages/tqdm/auto.py:21: TqdmWarning: IProgress not found. Please update jupyter and ipywidgets. See https://ipywidgets.readthedocs.io/en/stable/user_install.html\n",
      "  from .autonotebook import tqdm as notebook_tqdm\n",
      "/backup/vova/src/exps/bird_clef_2024/.venv/lib/python3.11/site-packages/nnAudio/Spectrogram.py:4: Warning: importing Spectrogram subpackage will be deprecated soon. You should import the feature extractor from the feature subpackage. See actual documentation.\n",
      "  warnings.warn(\n"
     ]
    },
    {
     "name": "stdout",
     "output_type": "stream",
     "text": [
      "`speechbrain` was not imported\n",
      "`LEAF` was not imported\n",
      "colorednoise package is missing\n"
     ]
    }
   ],
   "source": [
    "%load_ext autoreload\n",
    "%autoreload 2\n",
    "\n",
    "import os\n",
    "os.environ[\"CUDA_VISIBLE_DEVICES\"]=\"2\"\n",
    "\n",
    "import pandas as pd\n",
    "import numpy as np\n",
    "import librosa\n",
    "import seaborn as sns\n",
    "import os\n",
    "import json\n",
    "import IPython.display as ipd\n",
    "import soundfile as sf\n",
    "import torch\n",
    "import collections\n",
    "import h5py\n",
    "import timm\n",
    "import torch.nn as nn\n",
    "import onnxruntime as ort\n",
    "import torchaudio\n",
    "\n",
    "from glob import glob\n",
    "from tqdm import tqdm\n",
    "from matplotlib import pyplot as plt\n",
    "from itertools import chain\n",
    "from os.path import join as pjoin\n",
    "from torchaudio.transforms import AmplitudeToDB, MelSpectrogram\n",
    "from copy import deepcopy\n",
    "from typing import Callable\n",
    "from nnAudio.Spectrogram import CQT1992v2\n",
    "# import leaf_audio_pytorch.frontend as frontend\n",
    "from torchaudio.transforms import TimeMasking, FrequencyMasking\n",
    "from shutil import copyfile\n",
    "from torchaudio.transforms import Resample\n",
    "\n",
    "# from code_base.utils import parallel_librosa_load, groupby_np_array, stack_and_max_by_samples, load_pp_audio\n",
    "# from code_base.utils.constants import SAMPLE_RATE, N_CLASSES_2021_2022\n",
    "from code_base.utils.onnx_utils import convert_to_onnx\n",
    "from code_base.models import WaveCNNClasifier, WaveCNNAttenClasifier, WaveTDNNClasifier, RandomFiltering\n",
    "from code_base.models.blocks import TraceableMelspec, NormalizeMelSpec, GeMFreqFixed\n",
    "# from code_base.models.wave_clasifier import WaveCNNAttenClasifier\n",
    "from code_base.datasets import WaveDataset, WaveAllFileDataset\n",
    "from code_base.utils import load_json\n",
    "# from code_base.augmentations.background_noise import AddBackgoundFromSoundScapes\n",
    "# from code_base.augmentations.transforms import BackgroundNoise, Compose, GaussianNoise, PinkNoise, OneOf\n",
    "# from code_base.forwards import MultilabelClsForwardLongShort\n",
    "# from code_base.utils.onnx_utils import ONNXEnsemble, convert_to_onnx\n",
    "from code_base.augmentations.transforms import (\n",
    "    BackgroundNoise,\n",
    "    Compose,\n",
    "    GaussianNoise,\n",
    "    OneOf,\n",
    "    PinkNoise,\n",
    ")\n",
    "%matplotlib inline\n"
   ]
  },
  {
   "cell_type": "code",
   "execution_count": null,
   "id": "000888c8-8adc-4b88-a9bc-77a4bbb088ad",
   "metadata": {},
   "outputs": [],
   "source": [
    "!nvidia-smi"
   ]
  },
  {
   "cell_type": "code",
   "execution_count": null,
   "id": "285f4630-0490-47cb-b7ce-5704663d75b8",
   "metadata": {},
   "outputs": [],
   "source": [
    "# for logdir in os.listdir(\"../logdirs/\"):\n",
    "#     full_logdir_path = os.path.join(\n",
    "#         \"../logdirs\",\n",
    "#         logdir,\n",
    "#         \"code\",\n",
    "#         \"train_configs___*\"\n",
    "#     )\n",
    "#     all_current_train_configs = glob(full_logdir_path)\n",
    "#     if len(all_current_train_configs) == 1:\n",
    "#         copyfile(\n",
    "#             all_current_train_configs[0],\n",
    "#             os.path.join(\"../logdirs/\", logdir + \".py\")\n",
    "#         )\n",
    "#     # else:\n",
    "#     #     print(logdir)"
   ]
  },
  {
   "cell_type": "code",
   "execution_count": null,
   "id": "ab457fb2-1e3f-4544-bbe3-dd11b34afa2f",
   "metadata": {},
   "outputs": [],
   "source": [
    "# for el in glob(\"../logdirs/*\"):\n",
    "#     if os.path.isdir(el):\n",
    "#         !rm {el} -r"
   ]
  },
  {
   "cell_type": "markdown",
   "id": "c4f88409-2499-46a3-a32b-22c6d45ca2ad",
   "metadata": {},
   "source": [
    "# Data"
   ]
  },
  {
   "cell_type": "code",
   "execution_count": 2,
   "id": "6c5eb2de-f276-48be-bf11-16f58a62cde5",
   "metadata": {},
   "outputs": [
    {
     "data": {
      "text/html": [
       "<div>\n",
       "<style scoped>\n",
       "    .dataframe tbody tr th:only-of-type {\n",
       "        vertical-align: middle;\n",
       "    }\n",
       "\n",
       "    .dataframe tbody tr th {\n",
       "        vertical-align: top;\n",
       "    }\n",
       "\n",
       "    .dataframe thead th {\n",
       "        text-align: right;\n",
       "    }\n",
       "</style>\n",
       "<table border=\"1\" class=\"dataframe\">\n",
       "  <thead>\n",
       "    <tr style=\"text-align: right;\">\n",
       "      <th></th>\n",
       "      <th>primary_label</th>\n",
       "      <th>secondary_labels</th>\n",
       "      <th>type</th>\n",
       "      <th>latitude</th>\n",
       "      <th>longitude</th>\n",
       "      <th>scientific_name</th>\n",
       "      <th>common_name</th>\n",
       "      <th>author</th>\n",
       "      <th>license</th>\n",
       "      <th>rating</th>\n",
       "      <th>url</th>\n",
       "      <th>filename</th>\n",
       "      <th>duration_s</th>\n",
       "      <th>all_labels</th>\n",
       "      <th>stratify_col</th>\n",
       "      <th>id</th>\n",
       "    </tr>\n",
       "  </thead>\n",
       "  <tbody>\n",
       "    <tr>\n",
       "      <th>0</th>\n",
       "      <td>asbfly</td>\n",
       "      <td>[]</td>\n",
       "      <td>['call']</td>\n",
       "      <td>39.2297</td>\n",
       "      <td>118.1987</td>\n",
       "      <td>Muscicapa dauurica</td>\n",
       "      <td>Asian Brown Flycatcher</td>\n",
       "      <td>Matt Slaymaker</td>\n",
       "      <td>Creative Commons Attribution-NonCommercial-Sha...</td>\n",
       "      <td>5.0</td>\n",
       "      <td>https://www.xeno-canto.org/134896</td>\n",
       "      <td>asbfly/XC134896.ogg</td>\n",
       "      <td>27.350219</td>\n",
       "      <td>['asbfly']</td>\n",
       "      <td>asbfly</td>\n",
       "      <td>134896</td>\n",
       "    </tr>\n",
       "    <tr>\n",
       "      <th>1</th>\n",
       "      <td>asbfly</td>\n",
       "      <td>[]</td>\n",
       "      <td>['song']</td>\n",
       "      <td>51.4030</td>\n",
       "      <td>104.6401</td>\n",
       "      <td>Muscicapa dauurica</td>\n",
       "      <td>Asian Brown Flycatcher</td>\n",
       "      <td>Magnus Hellström</td>\n",
       "      <td>Creative Commons Attribution-NonCommercial-Sha...</td>\n",
       "      <td>2.5</td>\n",
       "      <td>https://www.xeno-canto.org/164848</td>\n",
       "      <td>asbfly/XC164848.ogg</td>\n",
       "      <td>15.804094</td>\n",
       "      <td>['asbfly']</td>\n",
       "      <td>asbfly</td>\n",
       "      <td>164848</td>\n",
       "    </tr>\n",
       "    <tr>\n",
       "      <th>2</th>\n",
       "      <td>asbfly</td>\n",
       "      <td>[]</td>\n",
       "      <td>['song']</td>\n",
       "      <td>36.3319</td>\n",
       "      <td>127.3555</td>\n",
       "      <td>Muscicapa dauurica</td>\n",
       "      <td>Asian Brown Flycatcher</td>\n",
       "      <td>Stuart Fisher</td>\n",
       "      <td>Creative Commons Attribution-NonCommercial-Sha...</td>\n",
       "      <td>2.5</td>\n",
       "      <td>https://www.xeno-canto.org/175797</td>\n",
       "      <td>asbfly/XC175797.ogg</td>\n",
       "      <td>29.257156</td>\n",
       "      <td>['asbfly']</td>\n",
       "      <td>asbfly</td>\n",
       "      <td>175797</td>\n",
       "    </tr>\n",
       "    <tr>\n",
       "      <th>3</th>\n",
       "      <td>asbfly</td>\n",
       "      <td>[]</td>\n",
       "      <td>['call']</td>\n",
       "      <td>21.1697</td>\n",
       "      <td>70.6005</td>\n",
       "      <td>Muscicapa dauurica</td>\n",
       "      <td>Asian Brown Flycatcher</td>\n",
       "      <td>vir joshi</td>\n",
       "      <td>Creative Commons Attribution-NonCommercial-Sha...</td>\n",
       "      <td>4.0</td>\n",
       "      <td>https://www.xeno-canto.org/207738</td>\n",
       "      <td>asbfly/XC207738.ogg</td>\n",
       "      <td>14.158375</td>\n",
       "      <td>['asbfly']</td>\n",
       "      <td>asbfly</td>\n",
       "      <td>207738</td>\n",
       "    </tr>\n",
       "    <tr>\n",
       "      <th>4</th>\n",
       "      <td>asbfly</td>\n",
       "      <td>[]</td>\n",
       "      <td>['call']</td>\n",
       "      <td>15.5442</td>\n",
       "      <td>73.7733</td>\n",
       "      <td>Muscicapa dauurica</td>\n",
       "      <td>Asian Brown Flycatcher</td>\n",
       "      <td>Albert Lastukhin &amp; Sergei Karpeev</td>\n",
       "      <td>Creative Commons Attribution-NonCommercial-Sha...</td>\n",
       "      <td>4.0</td>\n",
       "      <td>https://www.xeno-canto.org/209218</td>\n",
       "      <td>asbfly/XC209218.ogg</td>\n",
       "      <td>47.882438</td>\n",
       "      <td>['asbfly']</td>\n",
       "      <td>asbfly</td>\n",
       "      <td>209218</td>\n",
       "    </tr>\n",
       "  </tbody>\n",
       "</table>\n",
       "</div>"
      ],
      "text/plain": [
       "  primary_label secondary_labels      type  latitude  longitude  \\\n",
       "0        asbfly               []  ['call']   39.2297   118.1987   \n",
       "1        asbfly               []  ['song']   51.4030   104.6401   \n",
       "2        asbfly               []  ['song']   36.3319   127.3555   \n",
       "3        asbfly               []  ['call']   21.1697    70.6005   \n",
       "4        asbfly               []  ['call']   15.5442    73.7733   \n",
       "\n",
       "      scientific_name             common_name  \\\n",
       "0  Muscicapa dauurica  Asian Brown Flycatcher   \n",
       "1  Muscicapa dauurica  Asian Brown Flycatcher   \n",
       "2  Muscicapa dauurica  Asian Brown Flycatcher   \n",
       "3  Muscicapa dauurica  Asian Brown Flycatcher   \n",
       "4  Muscicapa dauurica  Asian Brown Flycatcher   \n",
       "\n",
       "                              author  \\\n",
       "0                     Matt Slaymaker   \n",
       "1                   Magnus Hellström   \n",
       "2                      Stuart Fisher   \n",
       "3                          vir joshi   \n",
       "4  Albert Lastukhin & Sergei Karpeev   \n",
       "\n",
       "                                             license  rating  \\\n",
       "0  Creative Commons Attribution-NonCommercial-Sha...     5.0   \n",
       "1  Creative Commons Attribution-NonCommercial-Sha...     2.5   \n",
       "2  Creative Commons Attribution-NonCommercial-Sha...     2.5   \n",
       "3  Creative Commons Attribution-NonCommercial-Sha...     4.0   \n",
       "4  Creative Commons Attribution-NonCommercial-Sha...     4.0   \n",
       "\n",
       "                                 url             filename  duration_s  \\\n",
       "0  https://www.xeno-canto.org/134896  asbfly/XC134896.ogg   27.350219   \n",
       "1  https://www.xeno-canto.org/164848  asbfly/XC164848.ogg   15.804094   \n",
       "2  https://www.xeno-canto.org/175797  asbfly/XC175797.ogg   29.257156   \n",
       "3  https://www.xeno-canto.org/207738  asbfly/XC207738.ogg   14.158375   \n",
       "4  https://www.xeno-canto.org/209218  asbfly/XC209218.ogg   47.882438   \n",
       "\n",
       "   all_labels stratify_col      id  \n",
       "0  ['asbfly']       asbfly  134896  \n",
       "1  ['asbfly']       asbfly  164848  \n",
       "2  ['asbfly']       asbfly  175797  \n",
       "3  ['asbfly']       asbfly  207738  \n",
       "4  ['asbfly']       asbfly  209218  "
      ]
     },
     "execution_count": 2,
     "metadata": {},
     "output_type": "execute_result"
    }
   ],
   "source": [
    "df = pd.read_csv(\"/home/vova/data/exps/birdclef_2024/birdclef_2024/train_metadata_extended_noduplv1.csv\")\n",
    "taxonomy = pd.read_csv(\"/home/vova/data/exps/birdclef_2024/birdclef_2024/eBird_Taxonomy_v2021.csv\")\n",
    "# df = pd.read_csv(\"/home/vova/data/exps/BirdCLEF_2023/xeno_canto/train_metadata_extended_shorten_and_2023x_v1.csv\")\n",
    "df.head()"
   ]
  },
  {
   "cell_type": "code",
   "execution_count": null,
   "id": "c1730745-0b95-4a07-8a07-c8129bcedb29",
   "metadata": {},
   "outputs": [],
   "source": [
    "df"
   ]
  },
  {
   "cell_type": "code",
   "execution_count": null,
   "id": "40b68fdb-cfce-4ff9-b87c-49d2aa0fc7ff",
   "metadata": {},
   "outputs": [],
   "source": [
    "df.shape[0] / 64"
   ]
  },
  {
   "cell_type": "code",
   "execution_count": null,
   "id": "66d245d6-b0d0-4d42-80d9-c8ab0d10994a",
   "metadata": {},
   "outputs": [],
   "source": [
    "df[\"secondary_labels\"].apply(eval).apply(len).value_counts()"
   ]
  },
  {
   "cell_type": "code",
   "execution_count": null,
   "id": "fad1dcf3-b836-4d0d-95a5-fbdf1a166839",
   "metadata": {},
   "outputs": [],
   "source": [
    "df"
   ]
  },
  {
   "cell_type": "code",
   "execution_count": null,
   "id": "0a6aafc1-8e82-4dec-8751-82c1823296d8",
   "metadata": {},
   "outputs": [],
   "source": [
    "df = df.sample(frac=1).reset_index(drop=True).iloc[:100]\n"
   ]
  },
  {
   "cell_type": "code",
   "execution_count": null,
   "id": "4494baca-c225-4810-8b99-65161b14d899",
   "metadata": {},
   "outputs": [],
   "source": [
    "df[\"primary_label\"].value_counts()"
   ]
  },
  {
   "cell_type": "code",
   "execution_count": null,
   "id": "f62952f5-f298-4eea-9755-d8a3f0a79a4f",
   "metadata": {},
   "outputs": [],
   "source": [
    "df[\"duration_s\"].iloc[:10].max()"
   ]
  },
  {
   "cell_type": "code",
   "execution_count": null,
   "id": "db09a1b5-52a9-4ec3-a663-91b581b9cd4b",
   "metadata": {},
   "outputs": [],
   "source": [
    "ab = 0.75\n",
    "plt.hist(np.clip(np.random.beta(ab, ab, size=1000), 0.2, 0.8))"
   ]
  },
  {
   "cell_type": "code",
   "execution_count": null,
   "id": "3a2de4cd-0e7d-4f08-9147-ef774b03226f",
   "metadata": {},
   "outputs": [],
   "source": [
    "mel_spec_paramms={\n",
    "    \"sample_rate\": 32000,\n",
    "    \"n_mels\": 128,\n",
    "    \"f_min\": 20,\n",
    "    \"n_fft\": 2048,\n",
    "    \"hop_length\": 512,\n",
    "    \"normalized\": True,\n",
    "}\n",
    "mel_spec = nn.Sequential(\n",
    "    TraceableMelspec(**mel_spec_paramms, quantizable=False),\n",
    "    AmplitudeToDB(top_db=80.0),\n",
    "    NormalizeMelSpec(exportable=True),\n",
    ")"
   ]
  },
  {
   "cell_type": "code",
   "execution_count": 3,
   "id": "1a5e55b4-31e2-48e1-9a40-2f6ad10d66ad",
   "metadata": {},
   "outputs": [],
   "source": [
    "# train_dataset = WaveDataset(\n",
    "#     df=df,\n",
    "#     root=\"/home/vova/data/exps/BirdCLEF_2023/birdclef_2023/train_audio/\",\n",
    "#     label_str2int_mapping_path=\"/home/vova/data/exps/BirdCLEF_2023/bird2int_202x.json\",\n",
    "#     precompute=True,\n",
    "#     n_cores=4,\n",
    "#     debug=True,\n",
    "#     do_mixup=True,\n",
    "#     mixup_params={\"prob\": 1.0, \"alpha\": None, \"weights_path\": \"/home/vova/data/exps/BirdCLEF_2023/xc_birds_202x_only_scored_sample_weights_v1.json\"},\n",
    "#     segment_len=5,\n",
    "#     late_normalize=True,\n",
    "#     use_sampler=True\n",
    "# )\n",
    "    \n",
    "# train_dataset = WaveDataset(\n",
    "#     df=df,\n",
    "#     root=\"/home/vova/data/exps/birdclef_2024/birdclef_2024/train_features/\",\n",
    "#     label_str2int_mapping_path=\"/home/vova/data/exps/birdclef_2024/class_mappings/bird2int_2024.json\",\n",
    "#     precompute=False,\n",
    "#     n_cores=4,\n",
    "#     debug=False,\n",
    "#     # do_mixup=True,\n",
    "#     # mixup_params={\"prob\": 0.5, \"alpha\": None},\n",
    "#     segment_len=5,\n",
    "#     late_normalize=True,\n",
    "#     sampler_col=\"stratify_col\",\n",
    "#     sec_target_col=None,\n",
    "#     use_h5py=True,\n",
    "#     # shuffle=True,\n",
    "#     add_df_paths=[\n",
    "#         \"/home/vova/data/exps/birdclef_2024/dfs/full_noduplsV3_scored_meta_prev_comps_extended_2024SecLabels.csv\",\n",
    "#         \"/home/vova/data/exps/birdclef_2024/xeno_canto/dataset_2024_classes/train_metadata_noduplV3_extended_2024SecLabels.csv\"\n",
    "#     ],\n",
    "#     filename_change_mapping={\n",
    "#         \"base\": \"birdclef_2024/train_features/\",\n",
    "#         \"comp_2021\":\"birdclef_2021/train_features/\",\n",
    "#         \"comp_2023\":\"birdclef_2023/train_features/\",\n",
    "#         \"comp_2022\":\"birdclef_2022/train_features/\",\n",
    "#         \"comp_2020\":\"birdsong_recognition/train_features/\",\n",
    "#         \"a_m_2020\": \"xeno_canto_bird_recordings_extended_a_m/train_features/\",\n",
    "#         \"n_z_2020\": \"xeno_canto_bird_recordings_extended_n_z/train_features/\",\n",
    "#         \"xc_2024_classes\": \"xeno_canto/dataset_2024_classes/train_features/\"\n",
    "#     },\n",
    "#     empty_soundscape_config={\n",
    "#         \"prob\": 0.5,\n",
    "#         \"sampler_config\": {\n",
    "#             \"esc50_root\": \"/home/vova/data/exps/birdclef_2024/my_2023_data/soundscapes_nocall/train_audio\",\n",
    "#             \"esc50_df_path\": \"/home/vova/data/exps/birdclef_2024/my_2023_data/soundscapes_nocall/v1_no_call_meta.csv\",\n",
    "#             \"normalize\": False,\n",
    "#             \"debug\": True\n",
    "#         }\n",
    "#     }\n",
    "# )\n",
    "\n",
    "train_dataset_full = WaveAllFileDataset(\n",
    "    df=df,\n",
    "    # root=\"/home/vova/data/exps/birdclef_2024/birdclef_2024/train_features/\",\n",
    "    root=\"/home/vova/data/exps/birdclef_2024/birdclef_2024/train_audio\",\n",
    "    label_str2int_mapping_path=\"/home/vova/data/exps/birdclef_2024/class_mappings/bird2int_2024.json\",\n",
    "    precompute=False,\n",
    "    n_cores=4,\n",
    "    debug=False,\n",
    "    segment_len=5,\n",
    "    sample_id=None,\n",
    "    late_normalize=False,\n",
    "    use_h5py=False,\n",
    "    load_normalize=False,\n",
    "\n",
    "    use_audio_cache=True,\n",
    "    test_mode=True\n",
    ")"
   ]
  },
  {
   "cell_type": "code",
   "execution_count": 7,
   "id": "3002ced9-8be9-4334-9823-0d55d9d4a8d3",
   "metadata": {},
   "outputs": [
    {
     "data": {
      "text/plain": [
       "-0.14110152"
      ]
     },
     "execution_count": 7,
     "metadata": {},
     "output_type": "execute_result"
    }
   ],
   "source": [
    "train_dataset_full[0][0].min()"
   ]
  },
  {
   "cell_type": "code",
   "execution_count": 10,
   "id": "0108a81d-0d53-40dd-a0a8-eea050a44756",
   "metadata": {},
   "outputs": [
    {
     "data": {
      "text/plain": [
       "-0.21652658"
      ]
     },
     "execution_count": 10,
     "metadata": {},
     "output_type": "execute_result"
    }
   ],
   "source": [
    "train_dataset_full.test_audio_cache[\"au\"].min()"
   ]
  },
  {
   "cell_type": "code",
   "execution_count": null,
   "id": "f4a80cb4-ecff-4671-9b1e-3ac60a62cd7f",
   "metadata": {},
   "outputs": [],
   "source": [
    "sorted(set(train_dataset.df[\"primary_label\"]))"
   ]
  },
  {
   "cell_type": "code",
   "execution_count": null,
   "id": "f809ab6e-f430-4287-9cb4-73cce7b73f3b",
   "metadata": {},
   "outputs": [],
   "source": [
    "train_dataset.df.loc[train_dataset.df[\"dataset\"] == \"xc_2024_classes\", \"primary_label\"].value_counts()"
   ]
  },
  {
   "cell_type": "code",
   "execution_count": null,
   "id": "08f2a4b5-91db-4eff-82db-9625dc22627d",
   "metadata": {},
   "outputs": [],
   "source": [
    "taxonomy"
   ]
  },
  {
   "cell_type": "code",
   "execution_count": null,
   "id": "bebd56b2-8a14-489f-bcae-defe6a8ab2ca",
   "metadata": {},
   "outputs": [],
   "source": [
    "taxonomy[taxonomy[\"PRIMARY_COM_NAME\"].apply(lambda x: x.startswith(\"Intermediate Egret\"))]"
   ]
  },
  {
   "cell_type": "code",
   "execution_count": null,
   "id": "a9bb5923-f52e-42ef-95e3-16033e177bd7",
   "metadata": {},
   "outputs": [],
   "source": [
    "train_dataset.df[(train_dataset.df[\"dataset\"] == \"xc_2024_classes\") & (train_dataset.df[\"primary_label\"] == \"integr\")]"
   ]
  },
  {
   "cell_type": "code",
   "execution_count": null,
   "id": "84e5e2a6-1468-48c9-908b-997353c965ba",
   "metadata": {},
   "outputs": [],
   "source": [
    "# train_dataset.df[train_dataset.df.primary_label == \"brnfio1\"]"
   ]
  },
  {
   "cell_type": "code",
   "execution_count": null,
   "id": "5a8ee827-5773-4e66-a0d9-f87a4e4d12e9",
   "metadata": {},
   "outputs": [],
   "source": [
    "train_dataset.df[(train_dataset.df[\"dataset\"] == \"base\") & (train_dataset.df[\"primary_label\"] == \"integr\")]"
   ]
  },
  {
   "cell_type": "code",
   "execution_count": null,
   "id": "a1f09ce3-97df-4410-953f-07c0124970d8",
   "metadata": {},
   "outputs": [],
   "source": []
  },
  {
   "cell_type": "code",
   "execution_count": null,
   "id": "c2fad9f7-0ede-471f-9ae8-7309807c50d8",
   "metadata": {},
   "outputs": [],
   "source": [
    "train_dataset.label_str2int[\"asbfly\"]"
   ]
  },
  {
   "cell_type": "code",
   "execution_count": null,
   "id": "08a3d40b-a654-4ba4-8612-79f2f7cf147b",
   "metadata": {},
   "outputs": [],
   "source": [
    "torch.where(train_dataset[22][1] > 0)[0]"
   ]
  },
  {
   "cell_type": "code",
   "execution_count": null,
   "id": "6da3ae01-8d86-4085-b42b-4fbe7a7df15d",
   "metadata": {},
   "outputs": [],
   "source": [
    "train_dataset.df[\"filename_with_root\"].apply(os.path.exists).all()"
   ]
  },
  {
   "cell_type": "code",
   "execution_count": null,
   "id": "fcffe0c1-8c07-4c90-96b0-13c72a9d257b",
   "metadata": {},
   "outputs": [],
   "source": [
    "train_dataset.df.shape"
   ]
  },
  {
   "cell_type": "code",
   "execution_count": null,
   "id": "8db0cf1e-cc09-4319-93b6-b5c938706236",
   "metadata": {},
   "outputs": [],
   "source": [
    "vc = train_dataset.df[\"url\"].apply(lambda x: x.split(\"/\")[-1]).value_counts()"
   ]
  },
  {
   "cell_type": "code",
   "execution_count": null,
   "id": "ba73e0a5-469b-4c0f-8827-06b5cf8bc1a6",
   "metadata": {},
   "outputs": [],
   "source": [
    "train_dataset.df[]"
   ]
  },
  {
   "cell_type": "code",
   "execution_count": null,
   "id": "a153cf6a-f140-41f9-af9b-5d41f3d478c9",
   "metadata": {},
   "outputs": [],
   "source": [
    "train_dataset.df[train_dataset.df[\"url\"].apply(lambda x: x.split(\"/\")[-1]).isin(vc[vc > 1].index)].sort_values(\"url\")"
   ]
  },
  {
   "cell_type": "code",
   "execution_count": null,
   "id": "84d7cf3d-1dc4-49ae-b816-0009689abe94",
   "metadata": {},
   "outputs": [],
   "source": [
    "sample_au, target_au = train_dataset[1000]"
   ]
  },
  {
   "cell_type": "code",
   "execution_count": null,
   "id": "09ed9960-3304-4c10-bf2a-efffcb1a1e0a",
   "metadata": {},
   "outputs": [],
   "source": [
    "sample_au.min(), sample_au.max()"
   ]
  },
  {
   "cell_type": "code",
   "execution_count": null,
   "id": "a8b0cc2b-78d0-4e72-80b0-4d20d46c92d4",
   "metadata": {},
   "outputs": [],
   "source": [
    "# sample_au, target_au = train_dataset[0]\n",
    "sample_au, target_au = train_dataset[120]\n",
    "\n",
    "print(\"Target IDS:\", np.where(target_au > 0)[0])\n",
    "\n",
    "# plt.figure(figsize=(20,10))\n",
    "spec = mel_spec(torch.from_numpy(sample_au)[None,...])\n",
    "plt.imshow(spec[0])\n",
    "# plt.show()"
   ]
  },
  {
   "cell_type": "code",
   "execution_count": null,
   "id": "4013ba67-c808-4afe-bfc5-25ea1b2ed3cd",
   "metadata": {},
   "outputs": [],
   "source": [
    "np.abs(sample_au).max()"
   ]
  },
  {
   "cell_type": "code",
   "execution_count": null,
   "id": "6d53dfa6-46e0-46a8-bb08-f40eb1e77ced",
   "metadata": {},
   "outputs": [],
   "source": [
    "ipd.Audio(sample_au, rate=32000)"
   ]
  },
  {
   "cell_type": "code",
   "execution_count": null,
   "id": "154b42db-600f-4a70-9379-c75073160963",
   "metadata": {},
   "outputs": [],
   "source": [
    "# sample_au, target_au = train_dataset[0]\n",
    "sample_au, target_au = train_dataset[35706]\n",
    "\n",
    "plt.figure(figsize=(20,10))\n",
    "spec = mel_spec(torch.from_numpy(sample_au)[None,...])\n",
    "plt.imshow(spec[0])\n",
    "plt.show()"
   ]
  },
  {
   "cell_type": "code",
   "execution_count": null,
   "id": "5b49eee7-a044-4e73-9d82-64b2a8e3d1bc",
   "metadata": {},
   "outputs": [],
   "source": [
    "ipd.Audio(sample_au, rate=32000)"
   ]
  },
  {
   "cell_type": "code",
   "execution_count": null,
   "id": "90bda8ae-fc63-48ea-b6e4-5203df37337e",
   "metadata": {},
   "outputs": [],
   "source": [
    "check_labels = torch.stack([train_dataset_full[idx][1] for idx in range(990,990+30)])"
   ]
  },
  {
   "cell_type": "code",
   "execution_count": null,
   "id": "25dd128a-7e72-4455-90d7-523b2169a59f",
   "metadata": {},
   "outputs": [],
   "source": [
    "torch.where(check_labels > 0)[1]"
   ]
  },
  {
   "cell_type": "code",
   "execution_count": null,
   "id": "e5c4b14a-10a9-4fe4-95f0-c989b7db2ae5",
   "metadata": {},
   "outputs": [],
   "source": [
    "train_dataset_full.df.iloc[120]"
   ]
  },
  {
   "cell_type": "code",
   "execution_count": null,
   "id": "e6014eb3-8006-4e44-86ab-bd635c1afcf1",
   "metadata": {},
   "outputs": [],
   "source": [
    "train_dataset_full.sampleidx_2_dfidx[991]"
   ]
  },
  {
   "cell_type": "code",
   "execution_count": null,
   "id": "681bb303-d39c-4c05-8b96-0959332838ca",
   "metadata": {},
   "outputs": [],
   "source": [
    "original_sample = librosa.load(\"/home/vova/data/exps/birdclef_2024/birdclef_2024/train_audio/asbfly/XC134896.ogg\", sr=32000)[0]"
   ]
  },
  {
   "cell_type": "code",
   "execution_count": null,
   "id": "21977b64-2b23-49df-9e4b-28f4f888970e",
   "metadata": {},
   "outputs": [],
   "source": [
    "librosa.util.normalize(original_sample[:32000*5])"
   ]
  },
  {
   "cell_type": "code",
   "execution_count": null,
   "id": "8a162c8e-96bd-4036-b407-1f2044c3be65",
   "metadata": {},
   "outputs": [],
   "source": [
    "full_sample_au, full_target_au, dfidx, start, end = train_dataset_full[1]"
   ]
  },
  {
   "cell_type": "code",
   "execution_count": null,
   "id": "0ea43356-2cd1-4280-aa9d-79173d91f012",
   "metadata": {},
   "outputs": [],
   "source": [
    "np.allclose(full_sample_au, librosa.util.normalize(original_sample[32000*5:32000*10]))"
   ]
  },
  {
   "cell_type": "code",
   "execution_count": null,
   "id": "71559658-d821-4c18-8806-fe6887c3d6a8",
   "metadata": {},
   "outputs": [],
   "source": [
    "ipd.Audio(sample_au_aug, rate=32000)"
   ]
  },
  {
   "cell_type": "code",
   "execution_count": null,
   "id": "a0695998-6785-4ca7-a71c-eb1d9b44d899",
   "metadata": {},
   "outputs": [],
   "source": [
    "target_au_aug"
   ]
  },
  {
   "cell_type": "code",
   "execution_count": null,
   "id": "368b8cbc-21b3-40ae-a5af-d88e8926c35c",
   "metadata": {},
   "outputs": [],
   "source": [
    "maybe_dupl1 = librosa.util.normalize(librosa.load(\n",
    "    \"/home/vova/data/exps/birdclef_2024/birdclef_2022/train_audio/brant/XC294370.ogg\", sr=32000\n",
    ")[0])\n",
    "maybe_dupl2 = librosa.util.normalize(librosa.load(\n",
    "    \"/home/vova/data/exps/birdclef_2024/birdclef_2022/train_audio/gadwal/XC294370.ogg\", sr=32000\n",
    ")[0])"
   ]
  },
  {
   "cell_type": "code",
   "execution_count": null,
   "id": "707aa13d-7756-4608-87a0-2cfab536dffc",
   "metadata": {},
   "outputs": [],
   "source": [
    "plt.figure(figsize=(20,10))\n",
    "plt.imshow(mel_spec(torch.from_numpy(maybe_dupl1)[None,...])[0])\n",
    "plt.show()\n",
    "\n",
    "plt.figure(figsize=(20,10))\n",
    "plt.imshow(mel_spec(torch.from_numpy(maybe_dupl2)[None,...])[0])\n",
    "plt.show()"
   ]
  },
  {
   "cell_type": "code",
   "execution_count": null,
   "id": "27bbdb81-e553-41bd-96ee-aab6a0b25bb7",
   "metadata": {},
   "outputs": [],
   "source": [
    "# ipd.Audio(sample_au, rate=32_000)"
   ]
  },
  {
   "cell_type": "code",
   "execution_count": null,
   "id": "36c529e1-0d2f-4f59-adf2-5d8a99e9e3ee",
   "metadata": {},
   "outputs": [],
   "source": [
    "ipd.Audio(sample_au_aug, rate=32_000)"
   ]
  },
  {
   "cell_type": "code",
   "execution_count": null,
   "id": "b2216899-5774-4f45-8574-30bbc0f4bc8a",
   "metadata": {},
   "outputs": [],
   "source": [
    "np.abs(sample_au_aug).max()"
   ]
  },
  {
   "cell_type": "code",
   "execution_count": null,
   "id": "f69dd9dd-d47a-4564-9866-d317c4622eeb",
   "metadata": {},
   "outputs": [],
   "source": [
    "torch.unique(target_au_aug), torch.sum(target_au_aug)"
   ]
  },
  {
   "cell_type": "code",
   "execution_count": null,
   "id": "6561280f-9fb7-4871-bf81-040d626afec3",
   "metadata": {},
   "outputs": [],
   "source": [
    "plt.figure(figsize=(10,10))\n",
    "plt.imshow(my_spec(torch.from_numpy(sample_au_aug)[None,:])[0])\n",
    "plt.show();"
   ]
  },
  {
   "cell_type": "code",
   "execution_count": null,
   "id": "f2298b14-4381-4cb8-9186-2f16ca5bdacb",
   "metadata": {},
   "outputs": [],
   "source": [
    "target_au.max()"
   ]
  },
  {
   "cell_type": "code",
   "execution_count": null,
   "id": "f9c6a87d-c2e0-4fa6-808e-b4d56873c3e0",
   "metadata": {},
   "outputs": [],
   "source": [
    "torch.allclose(target_au, target_au_aug)"
   ]
  },
  {
   "cell_type": "code",
   "execution_count": null,
   "id": "259302ee-3f22-4d42-857f-0f3541ed2e4a",
   "metadata": {},
   "outputs": [],
   "source": [
    "np.abs(sample_au - sample_au_aug).max()"
   ]
  },
  {
   "cell_type": "code",
   "execution_count": null,
   "id": "c3c96bfe-670a-4c2a-a699-b0e4b7b2d96e",
   "metadata": {},
   "outputs": [],
   "source": [
    "plt.plot(sample_au)"
   ]
  },
  {
   "cell_type": "code",
   "execution_count": null,
   "id": "fe74aaf3-669e-49d1-ad5f-524067f3459d",
   "metadata": {},
   "outputs": [],
   "source": [
    "plt.plot(sample_au_aug)"
   ]
  },
  {
   "cell_type": "code",
   "execution_count": null,
   "id": "d81ad423-8e40-4aee-b07c-4a3b54368da4",
   "metadata": {},
   "outputs": [],
   "source": [
    "ipd.Audio(sample_au, rate=32000)"
   ]
  },
  {
   "cell_type": "code",
   "execution_count": null,
   "id": "e51d6464-5bfa-4b1c-aff7-b7611fd99fca",
   "metadata": {},
   "outputs": [],
   "source": [
    "ipd.Audio(sample_au_aug, rate=32000)"
   ]
  },
  {
   "cell_type": "code",
   "execution_count": null,
   "id": "6bc3adcd-291f-48e6-bbd8-f55e90214b12",
   "metadata": {},
   "outputs": [],
   "source": [
    "np.allclose(sample_au, sample_feat)"
   ]
  },
  {
   "cell_type": "code",
   "execution_count": null,
   "id": "d5df7e9f-c4fc-4089-a23a-a560601745e2",
   "metadata": {},
   "outputs": [],
   "source": [
    "# train_dataset = WaveDataset(\n",
    "#     df=df,\n",
    "#     root=\"/home/vova/data/exps/BirdCLEF_2023/birdclef_2023/train_audio/\",\n",
    "#     label_str2int_mapping_path=\"/home/vova/data/exps/BirdCLEF_2023/birdclef_2023/bird2int_2023.json\",\n",
    "#     precompute=False,\n",
    "#     n_cores=32,\n",
    "#     debug=True,\n",
    "#     do_mixup=False,\n",
    "#     # mixup_params={\"prob\": 0.5, \"alpha\": None},\n",
    "#     segment_len=5.0,\n",
    "#     late_normalize=True,\n",
    "#     sec_target_col=None\n",
    "# )\n",
    "\n",
    "# train_dataset_extended = WaveDataset(\n",
    "#     df=df,\n",
    "#     root=\"/home/vova/data/exps/BirdCLEF_2023/birdclef_2023/train_audio/\",\n",
    "#     label_str2int_mapping_path=\"/home/vova/data/exps/BirdCLEF_2023/birdclef_2023/bird2int_2023.json\",\n",
    "#     precompute=True,\n",
    "#     n_cores=32,\n",
    "#     debug=False,\n",
    "#     do_mixup=True,\n",
    "#     mixup_params={\"prob\": 0.5, \"alpha\": None},\n",
    "#     segment_len=5.0,\n",
    "#     late_normalize=True,\n",
    "#     add_df_paths=[\n",
    "#         \"/home/vova/data/exps/BirdCLEF_2023/train_metadata_extended_2020_2022_no2023_scored.csv\"\n",
    "#     ],\n",
    "#     sampler_col=\"sw_col\"\n",
    "# )"
   ]
  },
  {
   "cell_type": "code",
   "execution_count": null,
   "id": "b2bcb61b-27a4-433a-b45f-1fa219c1f0f6",
   "metadata": {},
   "outputs": [],
   "source": []
  },
  {
   "cell_type": "code",
   "execution_count": null,
   "id": "5a77110e-4564-4319-a5f5-dc24fe1c8da8",
   "metadata": {},
   "outputs": [],
   "source": [
    "train_dataset[11][1].sum()"
   ]
  },
  {
   "cell_type": "code",
   "execution_count": null,
   "id": "243cf640-d0fc-4c2d-b01b-f50b375892a0",
   "metadata": {},
   "outputs": [],
   "source": [
    "train_dataset.df[train_dataset.df.secondary_labels.apply(len) > 1]"
   ]
  },
  {
   "cell_type": "code",
   "execution_count": null,
   "id": "1230fdb1-d301-4d76-8e33-855796cdb52b",
   "metadata": {},
   "outputs": [],
   "source": [
    "train_dataset_extended.df[]"
   ]
  },
  {
   "cell_type": "code",
   "execution_count": null,
   "id": "6bb0da1c-c63a-46cd-8946-7c1bbf2b75c2",
   "metadata": {},
   "outputs": [],
   "source": [
    "set(train_dataset_extended.df[\"sw_col\"]) - set(load_json(\"/home/vova/data/exps/BirdCLEF_2023/birdclef_2023/scored_birds.json\"))"
   ]
  },
  {
   "cell_type": "code",
   "execution_count": null,
   "id": "efcc32f5-2a6e-4e25-8453-1bba592c865a",
   "metadata": {},
   "outputs": [],
   "source": [
    "train_dataset_extended.df[\"filename_with_root\"].iloc[-1]"
   ]
  },
  {
   "cell_type": "code",
   "execution_count": null,
   "id": "6f7780ff-e5b1-41e4-849e-1c005e59ac97",
   "metadata": {},
   "outputs": [],
   "source": [
    "sample_au, sample_label = train_dataset[0]\n",
    "sample_au = torch.from_numpy(sample_au)[None,:]"
   ]
  },
  {
   "cell_type": "code",
   "execution_count": null,
   "id": "1e1728e1-862d-4557-9b91-e7e14d543161",
   "metadata": {},
   "outputs": [],
   "source": [
    "sample_au_spec = model.forward(sample_au, return_spec_feature=True)"
   ]
  },
  {
   "cell_type": "code",
   "execution_count": null,
   "id": "1317942d-026e-4e44-b134-4277c5d4f44d",
   "metadata": {},
   "outputs": [],
   "source": [
    "plt.imshow(sample_au_spec[0].numpy())"
   ]
  },
  {
   "cell_type": "code",
   "execution_count": null,
   "id": "5ce19c3a-32a9-4676-8b18-e3417def29ac",
   "metadata": {},
   "outputs": [],
   "source": [
    "# ipd.Audio(sample_au, rate=32_000)"
   ]
  },
  {
   "cell_type": "code",
   "execution_count": null,
   "id": "748930d6-3111-45ae-ae89-adb2dd177e7f",
   "metadata": {},
   "outputs": [],
   "source": [
    "aug_block = RandomFiltering(\n",
    "    min_db=-20,\n",
    "    is_wave=True,\n",
    "    normalize_wave=True\n",
    ")"
   ]
  },
  {
   "cell_type": "code",
   "execution_count": null,
   "id": "e8e8c049-b499-40e2-a9db-dd47d780aaac",
   "metadata": {},
   "outputs": [],
   "source": [
    "auged_sample_au = aug_block(sample_au)"
   ]
  },
  {
   "cell_type": "code",
   "execution_count": null,
   "id": "f1cbaafc-1d79-44b8-990a-e22d605d9467",
   "metadata": {},
   "outputs": [],
   "source": [
    "auged_sample_au_spec = model.forward(auged_sample_au, return_spec_feature=True)"
   ]
  },
  {
   "cell_type": "code",
   "execution_count": null,
   "id": "b179dc44-b23c-4347-830c-b9d8b377bc04",
   "metadata": {},
   "outputs": [],
   "source": [
    "plt.imshow(auged_sample_au_spec[0].numpy())"
   ]
  },
  {
   "cell_type": "code",
   "execution_count": null,
   "id": "23a1059a-8056-4472-91ae-8aafbbe1bd36",
   "metadata": {},
   "outputs": [],
   "source": [
    "plt.imshow(auged_sample_au_spec[0].numpy() - sample_au_spec[0].numpy())"
   ]
  },
  {
   "cell_type": "code",
   "execution_count": null,
   "id": "da3ed744-0836-4f08-a429-2b691e67d130",
   "metadata": {},
   "outputs": [],
   "source": [
    "ipd.Audio(auged_sample_au, rate=32_000)"
   ]
  },
  {
   "cell_type": "code",
   "execution_count": null,
   "id": "aaa949a3-2ad7-49f8-a63d-bc467fb26047",
   "metadata": {},
   "outputs": [],
   "source": [
    "valid_dataset = WaveAllFileDataset(\n",
    "    df=df,\n",
    "    root=\"/home/vova/data/exps/BirdCLEF_2023/birdclef_2023/train_audio/\",\n",
    "    label_str2int_mapping_path=\"/home/vova/data/exps/BirdCLEF_2023/birdclef_2023/bird2int_2023.json\",\n",
    "    precompute=True,\n",
    "    n_cores=32,\n",
    "    debug=True,\n",
    "    segment_len=5,\n",
    "    lookback=2.5,\n",
    "    lookahead=2.5,\n",
    "    late_normalize=True,\n",
    "    sample_id=None\n",
    ")"
   ]
  },
  {
   "cell_type": "code",
   "execution_count": null,
   "id": "6a45fee7-f840-4afc-9e71-4d82b4ce1df6",
   "metadata": {},
   "outputs": [],
   "source": [
    "sample_au, sample_label, sample_df_id, sample_start, sample_end_s = valid_dataset[0]"
   ]
  },
  {
   "cell_type": "code",
   "execution_count": null,
   "id": "f781a468-126c-4630-bc31-f63e4f0ee953",
   "metadata": {},
   "outputs": [],
   "source": [
    "len(sample_au) / 32_000"
   ]
  },
  {
   "cell_type": "code",
   "execution_count": null,
   "id": "69489c17-411c-47c4-8183-30dd52b731ed",
   "metadata": {},
   "outputs": [],
   "source": [
    "sample_au"
   ]
  },
  {
   "cell_type": "markdown",
   "id": "bd23c978-b31b-4f78-bed9-b75f7802359d",
   "metadata": {},
   "source": [
    "# Sounscapes"
   ]
  },
  {
   "cell_type": "code",
   "execution_count": null,
   "id": "0277dc4e-354a-47ec-9291-276de393fec0",
   "metadata": {},
   "outputs": [],
   "source": [
    "un_ss = glob(\"/home/vova/data/exps/birdclef_2024/birdclef_2024/unlabeled_soundscapes/*.ogg\")"
   ]
  },
  {
   "cell_type": "code",
   "execution_count": null,
   "id": "a1bd01fb-131e-4120-8ccd-2e5fb63b6949",
   "metadata": {},
   "outputs": [],
   "source": [
    "sample, _ = librosa.load(un_ss[500], sr=None)\n",
    "# sample = librosa.util.normalize(sample)"
   ]
  },
  {
   "cell_type": "code",
   "execution_count": null,
   "id": "00f0adb4-f33c-4f39-9625-e9660c58e8f9",
   "metadata": {},
   "outputs": [],
   "source": [
    "plt.plot(sample)"
   ]
  },
  {
   "cell_type": "code",
   "execution_count": null,
   "id": "ebf23c18-f1cd-407e-9c81-6ec759eaf100",
   "metadata": {},
   "outputs": [],
   "source": [
    "sample_slice = sample[32000*70:32000*90]\n",
    "ipd.Audio(sample_slice, rate=32000)"
   ]
  },
  {
   "cell_type": "code",
   "execution_count": null,
   "id": "eebf125d-9e51-4a69-95ae-28b051d6df17",
   "metadata": {},
   "outputs": [],
   "source": [
    "plt.figure(figsize=(20,10))\n",
    "plt.imshow(mel_spec(torch.from_numpy(sample_slice)[None,...])[0])\n",
    "plt.show()"
   ]
  },
  {
   "cell_type": "markdown",
   "id": "0fea89d4-1bf5-4274-9c8d-3f25574af87a",
   "metadata": {},
   "source": [
    "# Compare librosa and torchaudio"
   ]
  },
  {
   "cell_type": "code",
   "execution_count": null,
   "id": "979ec514-984d-469c-a574-6ce3e78bc01a",
   "metadata": {},
   "outputs": [],
   "source": [
    "librosa_loaded = librosa.load(\"/home/vova/data/exps/birdclef_2024/birdclef_2024/train_audio/asbfly/XC453302.ogg\", sr=32000)[0]"
   ]
  },
  {
   "cell_type": "code",
   "execution_count": null,
   "id": "df0bee7e-2944-4009-9a0d-b876313243cf",
   "metadata": {},
   "outputs": [],
   "source": [
    "torchaudio_loaded, torchaudio_sr = torchaudio.load(\"/home/vova/data/exps/birdclef_2024/birdclef_2024/train_audio/asbfly/XC453302.ogg\")\n",
    "torchaudio_loaded = Resample(orig_freq=torchaudio_sr, new_freq=16000)(torchaudio_loaded)[0]"
   ]
  },
  {
   "cell_type": "code",
   "execution_count": null,
   "id": "bfffd648-df72-4d6a-a76b-ac142483fe7c",
   "metadata": {},
   "outputs": [],
   "source": [
    "torchaudio_loaded.shape"
   ]
  },
  {
   "cell_type": "code",
   "execution_count": null,
   "id": "4d3c7347-db3e-4f1b-ab2d-cb50c7c3d4dc",
   "metadata": {},
   "outputs": [],
   "source": [
    "librosa_loaded.shape"
   ]
  },
  {
   "cell_type": "code",
   "execution_count": null,
   "id": "ac90c02a-ebf4-426d-b1ad-a5c2435808b9",
   "metadata": {},
   "outputs": [],
   "source": [
    "len(librosa_loaded) / 32000"
   ]
  },
  {
   "cell_type": "code",
   "execution_count": null,
   "id": "34598856-deba-4c1d-8d70-1733a707fece",
   "metadata": {},
   "outputs": [],
   "source": [
    "len(torchaudio_loaded) / 32000"
   ]
  },
  {
   "cell_type": "code",
   "execution_count": null,
   "id": "226b55cf-dd02-4656-9fa1-01f2132261a2",
   "metadata": {},
   "outputs": [],
   "source": [
    "np.abs(torchaudio_loaded[len(torchaudio_loaded) - len(librosa_loaded):] - librosa_loaded).max()"
   ]
  },
  {
   "cell_type": "code",
   "execution_count": null,
   "id": "6720c168-d385-49b1-bf67-d0cc3eeacc6f",
   "metadata": {},
   "outputs": [],
   "source": [
    "np.abs(torchaudio_loaded[:len(librosa_loaded)] - librosa_loaded).max()"
   ]
  },
  {
   "cell_type": "code",
   "execution_count": null,
   "id": "3c45ee64-966a-4776-bba6-7cffa717e4f2",
   "metadata": {},
   "outputs": [],
   "source": [
    "np.allclose(torchaudio_loaded[:len(librosa_loaded)], librosa_loaded)"
   ]
  },
  {
   "cell_type": "code",
   "execution_count": null,
   "id": "54c3f3f1-1a24-462a-9b52-ff175172a267",
   "metadata": {},
   "outputs": [],
   "source": [
    "len(librosa_loaded) / 32000"
   ]
  },
  {
   "cell_type": "code",
   "execution_count": null,
   "id": "19f6203b-05f3-4f6a-a127-1d52f37fb23c",
   "metadata": {},
   "outputs": [],
   "source": [
    "len(torchaudio_loaded) / 32000"
   ]
  },
  {
   "cell_type": "markdown",
   "id": "bab41236-5e5d-4036-8986-82544850a425",
   "metadata": {},
   "source": [
    "# Spectogram"
   ]
  },
  {
   "cell_type": "code",
   "execution_count": null,
   "id": "eb6f5cd4-fc30-4e35-925b-13bbef6e0940",
   "metadata": {},
   "outputs": [],
   "source": [
    "test_pred = pd.read_csv(\"submission.csv\")"
   ]
  },
  {
   "cell_type": "code",
   "execution_count": null,
   "id": "c7dcc765-85c1-4d47-be95-3194e0e81b50",
   "metadata": {},
   "outputs": [],
   "source": [
    "np.sort(test_pred.iloc[:,1:].values.flatten())[-20:]"
   ]
  },
  {
   "cell_type": "code",
   "execution_count": null,
   "id": "62005372-3a28-4683-b1ed-2cda4f4602ef",
   "metadata": {},
   "outputs": [],
   "source": [
    "np.where(test_pred.iloc[:,1:].max(axis=1) > 0.9)"
   ]
  },
  {
   "cell_type": "code",
   "execution_count": null,
   "id": "44e98467-e86c-4c95-9911-2aa556c561d0",
   "metadata": {},
   "outputs": [],
   "source": [
    "test_pred.iloc[65]"
   ]
  },
  {
   "cell_type": "code",
   "execution_count": null,
   "id": "bb1d4773-658c-4fd2-b38f-e68d29b80298",
   "metadata": {},
   "outputs": [],
   "source": [
    "test_audio, test_sr = librosa.load(\"/home/vova/data/exps/BirdCLEF_2023/birdclef_2023/test_soundscapes/soundscape_29201.ogg\", sr=None)\n",
    "test_audio = librosa.util.normalize(test_audio)"
   ]
  },
  {
   "cell_type": "code",
   "execution_count": null,
   "id": "f6c3b8bd-e134-4e1b-8444-8f58c474590e",
   "metadata": {},
   "outputs": [],
   "source": [
    "test_sr"
   ]
  },
  {
   "cell_type": "code",
   "execution_count": null,
   "id": "ccf8c7d1-bc81-4df0-aef6-154f281e5182",
   "metadata": {},
   "outputs": [],
   "source": [
    "ipd.Audio(\n",
    "    test_audio[test_sr*0:test_sr*5],\n",
    "    rate=test_sr\n",
    ")"
   ]
  },
  {
   "cell_type": "code",
   "execution_count": null,
   "id": "18e6dc5a-0315-44b0-9a0b-8f38c3da5156",
   "metadata": {},
   "outputs": [],
   "source": [
    "test_sr"
   ]
  },
  {
   "cell_type": "code",
   "execution_count": null,
   "id": "5a53b625-d8ac-45cd-ad7f-7b175330a32a",
   "metadata": {},
   "outputs": [],
   "source": [
    "test_pred.iloc[65].iloc[1:].sort_values()"
   ]
  },
  {
   "cell_type": "code",
   "execution_count": null,
   "id": "0bce2f6a-fbae-4474-938c-3a94fe114832",
   "metadata": {},
   "outputs": [],
   "source": [
    "mel_spec_paramms={\n",
    "    \"sample_rate\": 32000,\n",
    "    \"n_mels\": 128,\n",
    "    \"f_min\": 20,\n",
    "    \"n_fft\": 2048,\n",
    "    \"hop_length\": 512,\n",
    "    \"normalized\": True,\n",
    "}\n",
    "mel_spec = nn.Sequential(\n",
    "    TraceableMelspec(**mel_spec_paramms, quantizable=False),\n",
    "    AmplitudeToDB(top_db=80.0),\n",
    "    NormalizeMelSpec(exportable=True),\n",
    ")\n",
    "\n",
    "# leaf_spec = {\n",
    "#     \"sample_rate\": 32000,\n",
    "#     \"n_filters\": 128,\n",
    "#     # \"window_stride\": 15\n",
    "# }\n",
    "\n",
    "# leaf_complex = nn.Sequential(\n",
    "#     frontend.Leaf(**leaf_spec, onnx_export=True, compression_fn=None),\n",
    "#     AmplitudeToDB(top_db=80.0),\n",
    "#     NormalizeMelSpec(exportable=True),\n",
    "# )\n",
    "\n",
    "# leaf_noncomplex = nn.Sequential(\n",
    "#     frontend.Leaf(**leaf_spec, onnx_export=True),\n",
    "#     NormalizeMelSpec(exportable=True),\n",
    "# )"
   ]
  },
  {
   "cell_type": "code",
   "execution_count": null,
   "id": "96bef539-d4b3-4440-a18a-02a511152ca5",
   "metadata": {},
   "outputs": [],
   "source": [
    "spec = mel_spec(torch.from_numpy(librosa.util.normalize(test_audio[\n",
    "    test_sr*0:\n",
    "    test_sr*5\n",
    "]))[None,:])\n",
    "spec = torch.cat([spec,spec,spec])\n",
    "\n",
    "# leaf_1 = leaf_complex(torch.from_numpy(librosa.util.normalize(test_audio[\n",
    "#     test_sr*0:\n",
    "#     test_sr*5\n",
    "# ]))[None,:])\n",
    "# leaf_2 = leaf_noncomplex(torch.from_numpy(librosa.util.normalize(test_audio[\n",
    "#     test_sr*0:\n",
    "#     test_sr*5\n",
    "# ]))[None,:])"
   ]
  },
  {
   "cell_type": "code",
   "execution_count": null,
   "id": "3fe39f43-296f-40e5-9d0d-be76a7a39790",
   "metadata": {},
   "outputs": [],
   "source": [
    "class CustomMasking(nn.Module):\n",
    "    def __init__(\n",
    "        self,\n",
    "        mask_max_length: int,\n",
    "        mask_max_masks: int,\n",
    "        p=1.0,\n",
    "        inplace=True\n",
    "    ):\n",
    "        super().__init__()\n",
    "        assert isinstance(mask_max_masks, int) and mask_max_masks > 0 \n",
    "        self.mask_max_masks = mask_max_masks\n",
    "        self.mask_max_length = mask_max_length\n",
    "        self.mask_module = None\n",
    "        self.p = p\n",
    "        self.inplace = inplace\n",
    "    \n",
    "    def forward(self, x):\n",
    "        if not self.inplace:\n",
    "            output = x.clone()\n",
    "        for i in range(x.shape[0]):\n",
    "            if np.random.binomial(n=1, p=self.p):\n",
    "                n_applies = np.random.randint(low=1, high=self.mask_max_masks+1)\n",
    "                print(f\"Applying {n_applies} times\")\n",
    "                for _ in range(n_applies):\n",
    "                    if self.inplace:\n",
    "                        x[i:i+1] = self.mask_module(x[i:i+1])\n",
    "                    else:\n",
    "                        output[i:i+1] = self.mask_module(output[i:i+1])\n",
    "        if self.inplace:\n",
    "            return x\n",
    "        else: \n",
    "            return output\n",
    "        \n",
    "class CustomTimeMasking(CustomMasking):\n",
    "    def __init__(\n",
    "        self,\n",
    "        mask_max_length: int,\n",
    "        mask_max_masks: int,\n",
    "        p=1.0,\n",
    "        inplace=True\n",
    "    ):\n",
    "        super().__init__(\n",
    "            mask_max_length=mask_max_length,\n",
    "            mask_max_masks=mask_max_masks,\n",
    "            p=p,\n",
    "            inplace=inplace\n",
    "        )\n",
    "        self.mask_module = TimeMasking(\n",
    "            time_mask_param=mask_max_length\n",
    "        )\n",
    "        \n",
    "class CustomFreqMasking(CustomMasking):\n",
    "    def __init__(\n",
    "        self,\n",
    "        mask_max_length: int,\n",
    "        mask_max_masks: int,\n",
    "        p=1.0,\n",
    "        inplace=True\n",
    "    ):\n",
    "        super().__init__(\n",
    "            mask_max_length=mask_max_length,\n",
    "            mask_max_masks=mask_max_masks,\n",
    "            p=p,\n",
    "            inplace=inplace\n",
    "        )\n",
    "        self.mask_module = FrequencyMasking(\n",
    "            freq_mask_param=mask_max_length\n",
    "        )"
   ]
  },
  {
   "cell_type": "code",
   "execution_count": null,
   "id": "26c98b44-3f22-4d38-848d-0d44b975f605",
   "metadata": {},
   "outputs": [],
   "source": [
    "np.random.randint(low=1, high=1+1)"
   ]
  },
  {
   "cell_type": "code",
   "execution_count": null,
   "id": "7ce27b2a-ebaf-4e04-862c-310bed88dccc",
   "metadata": {},
   "outputs": [],
   "source": [
    "# time_masking = CustomTimeMasking(\n",
    "#     mask_max_length=20,\n",
    "#     mask_max_masks=3,\n",
    "#     p=0.5,\n",
    "#     inplace=True\n",
    "# )\n",
    "# freq_masking = CustomFreqMasking(\n",
    "#     mask_max_length=10,\n",
    "#     mask_max_masks=3,\n",
    "#     p=0.5,\n",
    "#     inplace=True\n",
    "# )"
   ]
  },
  {
   "cell_type": "code",
   "execution_count": null,
   "id": "ac663992-ef76-4a08-a534-0b1f8aecdbf4",
   "metadata": {},
   "outputs": [],
   "source": [
    "both_masking = nn.Sequential(\n",
    "    CustomTimeMasking(\n",
    "        mask_max_length=20,\n",
    "        mask_max_masks=3,\n",
    "        p=0.3,\n",
    "        inplace=True\n",
    "    ),\n",
    "    CustomFreqMasking(\n",
    "        mask_max_length=10,\n",
    "        mask_max_masks=3,\n",
    "        p=0.3,\n",
    "        inplace=True\n",
    "    )\n",
    ")"
   ]
  },
  {
   "cell_type": "code",
   "execution_count": null,
   "id": "309003a5-1e6e-44be-828a-d1652d3947a3",
   "metadata": {},
   "outputs": [],
   "source": [
    "# time_masked = time_masking(spec)\n",
    "# freq_masked = freq_masking(spec)\n",
    "\n",
    "both_masked = both_masking(spec)"
   ]
  },
  {
   "cell_type": "code",
   "execution_count": null,
   "id": "c4c2d097-e6b6-4ad3-a1ba-cf327daa119e",
   "metadata": {},
   "outputs": [],
   "source": [
    "swin = timm.create_model(\n",
    "    \"swinv2_tiny_window8_256\", \n",
    "    in_chans=1, \n",
    "    # features_only=True,\n",
    "    dropout_rate=0.2,\n",
    "    num_classes=20\n",
    ")\n",
    "# swin.head.drop.p = 0.4\n",
    "# swin.head = nn.Identity()"
   ]
  },
  {
   "cell_type": "code",
   "execution_count": null,
   "id": "2b7cfc15-609f-4466-a784-0933681554de",
   "metadata": {},
   "outputs": [],
   "source": [
    "swin.head"
   ]
  },
  {
   "cell_type": "code",
   "execution_count": null,
   "id": "b4ed3f8c-29b9-476c-82f6-dab7f0f83ce7",
   "metadata": {},
   "outputs": [],
   "source": [
    "swin.train();"
   ]
  },
  {
   "cell_type": "code",
   "execution_count": null,
   "id": "a18de5db-0f19-4565-819e-94592e5440b1",
   "metadata": {},
   "outputs": [],
   "source": [
    "swin.head.drop.p = 0.4"
   ]
  },
  {
   "cell_type": "code",
   "execution_count": null,
   "id": "536d4639-c233-421b-95b0-e56cd00c716f",
   "metadata": {
    "tags": []
   },
   "outputs": [],
   "source": [
    "swin(spec[:,None,:,:])[-1]"
   ]
  },
  {
   "cell_type": "code",
   "execution_count": null,
   "id": "449260f8-5c80-4a96-b202-c7a7fa0b9c07",
   "metadata": {},
   "outputs": [],
   "source": []
  },
  {
   "cell_type": "code",
   "execution_count": null,
   "id": "74bbd2b1-20db-48cf-b5c4-87943829042b",
   "metadata": {
    "tags": []
   },
   "outputs": [],
   "source": [
    "torch.abs(leaf_1- leaf_2).max()"
   ]
  },
  {
   "cell_type": "code",
   "execution_count": null,
   "id": "4b3b4efb-fb87-4f9c-8684-7bff07bfd96e",
   "metadata": {},
   "outputs": [],
   "source": [
    "time_masked = time_masking(spec[0])\n",
    "freq_masked = freq_masking(spec[0])"
   ]
  },
  {
   "cell_type": "code",
   "execution_count": null,
   "id": "90ace1b5-093a-4611-802c-33be117a1c82",
   "metadata": {},
   "outputs": [],
   "source": [
    "# time_masked = time_masking(spec)\n",
    "# freq_masked = freq_masking(spec)\n",
    "\n",
    "plt.figure(figsize=(10,10))\n",
    "plt.imshow(spec[0].detach().cpu().numpy())\n",
    "plt.show();\n",
    "\n",
    "plt.figure(figsize=(10,10))\n",
    "plt.imshow(spec[1].detach().cpu().numpy())\n",
    "plt.show();\n",
    "\n",
    "plt.figure(figsize=(10,10))\n",
    "plt.imshow(spec[2].detach().cpu().numpy())\n",
    "plt.show();\n",
    "\n",
    "# plt.figure(figsize=(10,10))\n",
    "# plt.imshow(both_masked[0].detach().cpu().numpy())\n",
    "# plt.show();\n",
    "\n",
    "# plt.figure(figsize=(10,10))\n",
    "# plt.imshow(both_masked[1].detach().cpu().numpy())\n",
    "# plt.show();\n",
    "\n",
    "# plt.figure(figsize=(10,10))\n",
    "# plt.imshow(both_masked[2].detach().cpu().numpy())\n",
    "# plt.show();\n",
    "\n",
    "# plt.figure(figsize=(10,10))\n",
    "# plt.imshow(freq_masked[0].detach().cpu().numpy())\n",
    "# plt.show();\n",
    "\n",
    "# plt.figure(figsize=(10,10))\n",
    "# plt.imshow(freq_masked[1].detach().cpu().numpy())\n",
    "# plt.show();\n",
    "\n",
    "# plt.figure(figsize=(10,10))\n",
    "# plt.imshow(freq_masked[2].detach().cpu().numpy())\n",
    "# plt.show();\n",
    "\n",
    "# plt.figure(figsize=(10,10))\n",
    "# plt.imshow(freq_masked[0].detach().cpu().numpy())\n",
    "# plt.show();"
   ]
  },
  {
   "cell_type": "code",
   "execution_count": null,
   "id": "b50dcf00-83a1-4553-bbb4-edf8e2a07432",
   "metadata": {},
   "outputs": [],
   "source": [
    "test_audio, test_sr = librosa.load(\"/home/vova/data/exps/BirdCLEF_2023/birdclef_2023/train_audio/pygbat1/XC755905.ogg\", sr=None)\n",
    "test_audio = librosa.util.normalize(test_audio)"
   ]
  },
  {
   "cell_type": "code",
   "execution_count": null,
   "id": "066b3629-b9a3-4862-a1e8-fc666b8d192d",
   "metadata": {},
   "outputs": [],
   "source": [
    "test_sr"
   ]
  },
  {
   "cell_type": "code",
   "execution_count": null,
   "id": "3e13932d-279c-4231-a995-b74faae28119",
   "metadata": {},
   "outputs": [],
   "source": [
    "spec = my_spec(torch.from_numpy(librosa.util.normalize(test_audio))[None,:])\n",
    "# cqt_spec = cqt(torch.from_numpy(sample_au)[None,:])"
   ]
  },
  {
   "cell_type": "code",
   "execution_count": null,
   "id": "478166a0-35f9-4734-920e-1607238faf76",
   "metadata": {},
   "outputs": [],
   "source": [
    "plt.figure(figsize=(20,20))\n",
    "plt.imshow(spec[0])\n",
    "plt.show();\n",
    "# plt.imshow(cqt_spec[0])\n",
    "# plt.show();"
   ]
  },
  {
   "cell_type": "code",
   "execution_count": null,
   "id": "5f36c98f-cf60-46f2-8f58-0c48b90edd08",
   "metadata": {},
   "outputs": [],
   "source": [
    "spec.shape, cqt_spec.shape"
   ]
  },
  {
   "cell_type": "code",
   "execution_count": null,
   "id": "d5124902-a477-4b63-b8c9-79004f28450e",
   "metadata": {},
   "outputs": [],
   "source": [
    "spec.max(), spec.min()"
   ]
  },
  {
   "cell_type": "code",
   "execution_count": null,
   "id": "aecc6ec7-9014-4944-b143-fe54af06de0d",
   "metadata": {},
   "outputs": [],
   "source": [
    "cqt_spec.max(), cqt_spec.min()"
   ]
  },
  {
   "cell_type": "markdown",
   "id": "286878dc-1911-42f4-ba10-072bb605c13e",
   "metadata": {},
   "source": [
    "# Tune Scheduler"
   ]
  },
  {
   "cell_type": "code",
   "execution_count": null,
   "id": "86cba492-3f16-4f2f-a588-af4d19080c6e",
   "metadata": {},
   "outputs": [],
   "source": [
    "from torch.optim.lr_scheduler import CosineAnnealingLR, CosineAnnealingWarmRestarts, ReduceLROnPlateau, OneCycleLR"
   ]
  },
  {
   "cell_type": "code",
   "execution_count": null,
   "id": "6db67300-795b-4063-9f26-d0f1a553d33e",
   "metadata": {},
   "outputs": [],
   "source": [
    "optimizer = optim.SGD([\n",
    "          {'params': param_groups[0], 'lr': CFG.lr, 'weight_decay': CFG.weight_decay},\n",
    "          {'params': param_groups[1], 'lr': 2*CFG.lr, 'weight_decay': 0},\n",
    "          {'params': param_groups[2], 'lr': 10*CFG.lr, 'weight_decay': CFG.weight_decay},\n",
    "          {'params': param_groups[3], 'lr': 20*CFG.lr, 'weight_decay': 0},\n",
    "      ], lr=CFG.lr, momentum=0.9, weight_decay=CFG.weight_decay, nesterov=CFG.nesterov)"
   ]
  },
  {
   "cell_type": "code",
   "execution_count": null,
   "id": "4463de0e-5d09-4ac9-9781-9ac07ec04c42",
   "metadata": {},
   "outputs": [],
   "source": [
    "def visualise_lr_scheduling(lr_scheduler_from_opt, n_steps, verbose=True, lr=1e-3):\n",
    "    # t_opt = torch.optim.SGD([torch.tensor(1)], lr=lr)\n",
    "    t_opt = torch.optim.SGD([\n",
    "        {'params': torch.tensor(1), 'lr': lr},\n",
    "        {'params': torch.tensor(1), 'lr': lr/20}\n",
    "    ])\n",
    "    t_sched = lr_scheduler_from_opt(t_opt)\n",
    "    lrs = []\n",
    "    for i in range(n_steps):\n",
    "        t_opt.step()\n",
    "        lrs.append(t_sched.get_lr()[1])\n",
    "        t_sched.step()\n",
    "        \n",
    "    if verbose:\n",
    "        plt.title(\"Learning Rate Schedule\")\n",
    "        plt.xlabel(\"Iteration\")\n",
    "        plt.ylabel(\"Learning Rate\")\n",
    "        plt.plot(lrs)\n",
    "        plt.show()\n",
    "        \n",
    "    print(f\"Min LR : {min(lrs)}. Max LR: {max(lrs)}\")\n",
    "    return lrs"
   ]
  },
  {
   "cell_type": "code",
   "execution_count": null,
   "id": "0ec6023b-58b1-4f68-82cc-2b582f376242",
   "metadata": {},
   "outputs": [],
   "source": [
    "visualise_lr_scheduling(\n",
    "    lr_scheduler_from_opt=lambda opt: CosineAnnealingLR(\n",
    "        optimizer=opt, \n",
    "        T_max=100,\n",
    "        # T_mult=1,\n",
    "        eta_min=1e-6, \n",
    "        last_epoch=-1,\n",
    "        verbose=True\n",
    "    ),\n",
    "    n_steps=100,\n",
    "    lr=1e-4\n",
    ");"
   ]
  },
  {
   "cell_type": "markdown",
   "id": "17f24f01-ff58-43f0-a5df-1d2d500aaecf",
   "metadata": {},
   "source": [
    "# Model"
   ]
  },
  {
   "cell_type": "code",
   "execution_count": null,
   "id": "7a33c8d6-e7d1-4527-a385-30b2f1c2e861",
   "metadata": {},
   "outputs": [],
   "source": []
  },
  {
   "cell_type": "code",
   "execution_count": null,
   "id": "8005146a-f4d7-4ec5-982a-22e3b7e24d33",
   "metadata": {},
   "outputs": [],
   "source": [
    "timm.list_models(\"tf_efficientnetv2*\")"
   ]
  },
  {
   "cell_type": "code",
   "execution_count": null,
   "id": "3c87c931-1004-440e-9200-167e2ce4702b",
   "metadata": {},
   "outputs": [],
   "source": [
    "backbone_model = timm.create_model(\"efficientformerv2_s2.snap_dist_in1k\", features_only=True)"
   ]
  },
  {
   "cell_type": "code",
   "execution_count": null,
   "id": "6ad0f8e7-1a34-4cb4-8e81-ec3ce3f3682a",
   "metadata": {
    "tags": []
   },
   "outputs": [],
   "source": [
    "backbone_model"
   ]
  },
  {
   "cell_type": "code",
   "execution_count": null,
   "id": "eb602c85-90ea-4594-8d10-0a0dc5f3cb64",
   "metadata": {},
   "outputs": [],
   "source": [
    "TRAIN_PERIOD = 5.0\n",
    "\n",
    "# model_config = dict(\n",
    "#     backbone=\"eca_nfnet_l0\",\n",
    "#     add_backbone_config={\n",
    "#         \"drop_path_rate\": 0.2\n",
    "#     },\n",
    "#     mel_spec_paramms={\n",
    "#         \"sample_rate\": 32000,\n",
    "#         \"n_mels\": 128,\n",
    "#         \"f_min\": 20,\n",
    "#         \"n_fft\": 2048,\n",
    "#         \"hop_length\": 512,\n",
    "#         \"normalized\": True,\n",
    "#     },\n",
    "#     head_config={\n",
    "#         \"p\": 0.5,\n",
    "#         \"num_class\": 264,\n",
    "#         \"train_period\": TRAIN_PERIOD,\n",
    "#         \"infer_period\": TRAIN_PERIOD,\n",
    "#     },\n",
    "#     exportable=True,\n",
    "#     # deep_supervision_steps=3\n",
    "# )\n",
    "model_config = dict(\n",
    "    backbone=\"eca_nfnet_l0\",\n",
    "    add_backbone_config={\n",
    "        \"drop_path_rate\": 0.2\n",
    "    },\n",
    "    mel_spec_paramms={\n",
    "        \"sample_rate\": 32000,\n",
    "        \"n_mels\": 128,\n",
    "        \"f_min\": 20,\n",
    "        \"n_fft\": 2048,\n",
    "        \"hop_length\": 512,\n",
    "        \"normalized\": True,\n",
    "    },\n",
    "    spec_augment_config={\n",
    "        \"freq_mask\":{\n",
    "            \"mask_max_length\": 10,\n",
    "            \"mask_max_masks\": 3,\n",
    "            \"p\": 0.3,\n",
    "            \"inplace\": True\n",
    "        },\n",
    "        \"time_mask\":{\n",
    "            \"mask_max_length\": 20,\n",
    "            \"mask_max_masks\": 3,\n",
    "            \"p\": 0.3,\n",
    "            \"inplace\": True\n",
    "        }\n",
    "    },\n",
    "    head_config={\n",
    "        \"p\": 0.5,\n",
    "        \"num_class\": 264,\n",
    "        \"train_period\": TRAIN_PERIOD,\n",
    "        \"infer_period\": TRAIN_PERIOD,\n",
    "        \"output_type\": \"clipwise_pred_long\"\n",
    "    },\n",
    "    exportable=True\n",
    ")\n",
    "\n",
    "model = WaveCNNAttenClasifier(**model_config, device=\"cpu\")"
   ]
  },
  {
   "cell_type": "code",
   "execution_count": null,
   "id": "beac990d-e20d-489c-a41c-677bd6ec837f",
   "metadata": {},
   "outputs": [],
   "source": [
    "both_masking = nn.Sequential(\n",
    "    CustomTimeMasking(\n",
    "        mask_max_length=20,\n",
    "        mask_max_masks=3,\n",
    "        p=0.3,\n",
    "        inplace=True\n",
    "    ),\n",
    "    CustomFreqMasking(\n",
    "        mask_max_length=10,\n",
    "        mask_max_masks=3,\n",
    "        p=0.3,\n",
    "        inplace=True\n",
    "    )\n",
    ")"
   ]
  },
  {
   "cell_type": "code",
   "execution_count": null,
   "id": "bd3a087c-de73-431c-ac90-35b14f399c5c",
   "metadata": {
    "tags": []
   },
   "outputs": [],
   "source": [
    "model"
   ]
  },
  {
   "cell_type": "code",
   "execution_count": null,
   "id": "c6d56e0e-6027-4018-b055-dc65e9542b4a",
   "metadata": {},
   "outputs": [],
   "source": [
    "sample = torch.randn((4, int(TRAIN_PERIOD*32_000)))"
   ]
  },
  {
   "cell_type": "code",
   "execution_count": null,
   "id": "86aca70c-0386-4a98-9e7e-4b527238437f",
   "metadata": {},
   "outputs": [],
   "source": [
    "sample = torch.from_numpy(librosa.util.normalize(test_audio[\n",
    "    test_sr*0:\n",
    "    test_sr*5\n",
    "]))[None,:]"
   ]
  },
  {
   "cell_type": "code",
   "execution_count": null,
   "id": "8db3750b-af8c-4c73-a886-7123650c550a",
   "metadata": {},
   "outputs": [],
   "source": [
    "sample.shape"
   ]
  },
  {
   "cell_type": "code",
   "execution_count": null,
   "id": "ab516bda-ea4c-4c78-a54a-0ec1f8b16f43",
   "metadata": {},
   "outputs": [],
   "source": [
    "spec = model.logmelspec_extractor(sample)"
   ]
  },
  {
   "cell_type": "code",
   "execution_count": null,
   "id": "c65ec2e2-bb16-489a-bda9-25ee840f9791",
   "metadata": {},
   "outputs": [],
   "source": [
    "spec.shape"
   ]
  },
  {
   "cell_type": "code",
   "execution_count": null,
   "id": "aa4fa713-fb0f-436c-8655-2f39350ab8e5",
   "metadata": {},
   "outputs": [],
   "source": [
    "spec.shape"
   ]
  },
  {
   "cell_type": "code",
   "execution_count": null,
   "id": "b58fb75a-f72d-4dcd-968b-56e7ba5632ed",
   "metadata": {},
   "outputs": [],
   "source": [
    "model.logmelspec_extractor"
   ]
  },
  {
   "cell_type": "code",
   "execution_count": null,
   "id": "c779b79e-ba96-438d-8b2e-a73b1ad25c9f",
   "metadata": {},
   "outputs": [],
   "source": [
    "embs = model.backbone(spec)"
   ]
  },
  {
   "cell_type": "code",
   "execution_count": null,
   "id": "865f5096-d6e9-4510-9f56-99b419f76586",
   "metadata": {},
   "outputs": [],
   "source": [
    "# model.train();\n",
    "model.eval();\n",
    "embs = model.forward(sample, return_spec_feature=True)"
   ]
  },
  {
   "cell_type": "code",
   "execution_count": null,
   "id": "44bf8459-e51d-47e4-9756-a303bd339e4f",
   "metadata": {},
   "outputs": [],
   "source": [
    "plt.imshow(embs[0,0])"
   ]
  },
  {
   "cell_type": "code",
   "execution_count": null,
   "id": "83bb626b-42aa-4634-94f7-0852691a42bc",
   "metadata": {},
   "outputs": [],
   "source": [
    "embs[\"clipwise_pred_long\"].min()"
   ]
  },
  {
   "cell_type": "code",
   "execution_count": null,
   "id": "fe712e37-60cd-497d-8f28-ec633c6b3b27",
   "metadata": {},
   "outputs": [],
   "source": [
    "embs.shape"
   ]
  },
  {
   "cell_type": "code",
   "execution_count": null,
   "id": "524bb925-5630-4e93-a2b0-63f663032614",
   "metadata": {},
   "outputs": [],
   "source": [
    "len(embs)"
   ]
  },
  {
   "cell_type": "code",
   "execution_count": null,
   "id": "9ba341c5-7c20-4fae-bf56-30f7d28282ca",
   "metadata": {},
   "outputs": [],
   "source": [
    "model.forward(sample)"
   ]
  },
  {
   "cell_type": "code",
   "execution_count": null,
   "id": "6379d11f-6549-4b39-9f22-c911806c7cfa",
   "metadata": {},
   "outputs": [],
   "source": [
    "embs.transpose()"
   ]
  },
  {
   "cell_type": "code",
   "execution_count": null,
   "id": "3f1f1c03-d569-46d8-9dee-687deacfc56f",
   "metadata": {},
   "outputs": [],
   "source": [
    "# torch.Size([4, 2304, 4, 10])"
   ]
  },
  {
   "cell_type": "code",
   "execution_count": null,
   "id": "92472284-689a-4cc5-97e9-24f3dfb5dc56",
   "metadata": {},
   "outputs": [],
   "source": [
    "len(embs)"
   ]
  },
  {
   "cell_type": "code",
   "execution_count": null,
   "id": "b66aa263-1b14-46c9-8cbd-91fd3a0f94fd",
   "metadata": {},
   "outputs": [],
   "source": [
    "probs = model.forward(sample)"
   ]
  },
  {
   "cell_type": "code",
   "execution_count": null,
   "id": "298e8f57-9d86-4b92-8933-733c1e2dfd34",
   "metadata": {},
   "outputs": [],
   "source": [
    "probs"
   ]
  },
  {
   "cell_type": "code",
   "execution_count": null,
   "id": "0bba9fd4-4908-40cf-ae5f-d41905390a95",
   "metadata": {},
   "outputs": [],
   "source": [
    "embs[2].shape"
   ]
  },
  {
   "cell_type": "code",
   "execution_count": null,
   "id": "f8a213dd-069d-4fa6-a5c2-13f404147d1d",
   "metadata": {},
   "outputs": [],
   "source": [
    "pool_layers = nn.ModuleList([\n",
    "    GeMFreqFixed(time_kernel_size=k*2 if k>0 else 1) for k in list(reversed(range(len(embs))))\n",
    "])"
   ]
  },
  {
   "cell_type": "code",
   "execution_count": null,
   "id": "0c59610e-77a7-4316-86f8-7b1880bb1fc4",
   "metadata": {},
   "outputs": [],
   "source": [
    "pooled_embs = [p(emb) for p, emb in zip(pool_layers, embs)]"
   ]
  },
  {
   "cell_type": "code",
   "execution_count": null,
   "id": "76f7511e-ddb9-442d-ae4b-3e119359645b",
   "metadata": {},
   "outputs": [],
   "source": [
    "for i in range(len(embs)):\n",
    "    print(pooled_embs[i].shape, embs[i].shape)"
   ]
  },
  {
   "cell_type": "code",
   "execution_count": null,
   "id": "defa86a9-e586-459c-bb7c-59b19a46dca5",
   "metadata": {},
   "outputs": [],
   "source": [
    "pooled_embs[3].shape, embs[3].shape"
   ]
  },
  {
   "cell_type": "code",
   "execution_count": null,
   "id": "c09718cd-e2bb-46c7-b8c3-3b21677de747",
   "metadata": {},
   "outputs": [],
   "source": []
  },
  {
   "cell_type": "code",
   "execution_count": null,
   "id": "992ac35a-6be8-431e-b47d-682b894d1456",
   "metadata": {},
   "outputs": [],
   "source": [
    "[k*2 if k>0 else 1 for k in list(reversed(range(len(embs))))]"
   ]
  },
  {
   "cell_type": "code",
   "execution_count": null,
   "id": "4e8a877a-341e-4647-b69b-05413c1a2414",
   "metadata": {},
   "outputs": [],
   "source": [
    "list(reversed(range(1, len(embs))))"
   ]
  },
  {
   "cell_type": "code",
   "execution_count": null,
   "id": "745a117e-8953-40c5-a26e-30cc759084d1",
   "metadata": {},
   "outputs": [],
   "source": [
    "[el.shape for el in embs]"
   ]
  },
  {
   "cell_type": "code",
   "execution_count": null,
   "id": "43e84d2b-d2de-45ea-ad24-bc6c8cee438c",
   "metadata": {},
   "outputs": [],
   "source": [
    "avg_pool = torch.nn.AvgPool2d(kernel_size=(2,2))"
   ]
  },
  {
   "cell_type": "code",
   "execution_count": null,
   "id": "4e0bb690-ade1-4193-a21f-b4eab9c0c945",
   "metadata": {},
   "outputs": [],
   "source": [
    "avg_pool(embs[-2]).shape"
   ]
  },
  {
   "cell_type": "code",
   "execution_count": null,
   "id": "41a963cd-0441-463c-94e4-b27dfcb2d0f2",
   "metadata": {},
   "outputs": [],
   "source": [
    "spec = model(sample)"
   ]
  },
  {
   "cell_type": "code",
   "execution_count": null,
   "id": "feaeb533-bec8-47d5-ab59-f69d9d62c963",
   "metadata": {},
   "outputs": [],
   "source": [
    "spec.shape"
   ]
  },
  {
   "cell_type": "code",
   "execution_count": null,
   "id": "b20b37ed-2100-4074-89a3-cd12b02f6e71",
   "metadata": {},
   "outputs": [],
   "source": [
    "!rm test_onnx -rf"
   ]
  },
  {
   "cell_type": "code",
   "execution_count": null,
   "id": "3faeaddb-0a57-46fe-8daf-239f94659cbe",
   "metadata": {},
   "outputs": [],
   "source": [
    "model.eval()\n",
    "convert_to_onnx(\n",
    "    model_to_convert=model,\n",
    "    sample_input=torch.randn(4, int(TRAIN_PERIOD * 32_000)),\n",
    "    # base_path=f\"../logdirs/tf_efficientnetv2_m_in21ft1k_convnext_tiny_in22ft1k_eca_nfnet_l0_noval_v3AllTune_075Clipwise025TimeMax_GausMean/onnx_ensem\"\n",
    "    base_path=\"test_onnx\"\n",
    ")"
   ]
  },
  {
   "cell_type": "code",
   "execution_count": null,
   "id": "0eb8fa2c-bcba-4620-91ca-631d2c0e9206",
   "metadata": {},
   "outputs": [],
   "source": [
    "model = ort.InferenceSession(f\"test_onnx/model_simpl.onnx\")"
   ]
  },
  {
   "cell_type": "code",
   "execution_count": null,
   "id": "1f84d6d9-6c63-4a75-b462-26031147dbab",
   "metadata": {},
   "outputs": [],
   "source": [
    "out = model.run(None, {\"input\": torch.randn(4, int(TRAIN_PERIOD * 32_000)).numpy()})[0]"
   ]
  },
  {
   "cell_type": "code",
   "execution_count": null,
   "id": "8552f139-afa0-487c-9b60-2ad16a2e7289",
   "metadata": {},
   "outputs": [],
   "source": [
    "out.shape"
   ]
  },
  {
   "cell_type": "code",
   "execution_count": null,
   "id": "6d1ab01e-8169-48d3-b7a6-3820fd6cbb31",
   "metadata": {},
   "outputs": [],
   "source": [
    "out"
   ]
  },
  {
   "cell_type": "markdown",
   "id": "f4d76856-d03e-4c77-94e5-aa4d07d84070",
   "metadata": {},
   "source": [
    "# Prepare final datasets"
   ]
  },
  {
   "cell_type": "code",
   "execution_count": null,
   "id": "606b1145-e73a-4388-928a-ca572522dc77",
   "metadata": {},
   "outputs": [],
   "source": [
    "train_metadata_extended_202x = pd.read_csv(\n",
    "    \"/home/vova/data/exps/BirdCLEF_2023/train_metadata_extended_2020_2022_no2023_scored_nodupl_v1_only_prime_2023SecLabels.csv\"\n",
    ")\n",
    "xc_add_first = pd.read_csv(\n",
    "    \"/home/vova/data/exps/BirdCLEF_2023/xeno_canto/scored_2023_xc_2023SecLabels.csv\"\n",
    ")\n",
    "xc_add_second = pd.read_csv(\n",
    "    \"/home/vova/data/exps/BirdCLEF_2023/xeno_canto/scored_2023_xc_2023SecLabels_till_12_05_2023_v2.csv\"\n",
    ")"
   ]
  },
  {
   "cell_type": "code",
   "execution_count": null,
   "id": "e6041d72-c252-4f4e-a841-1f81caa37de9",
   "metadata": {},
   "outputs": [],
   "source": [
    "xc_add_first.filename.iloc[0]"
   ]
  },
  {
   "cell_type": "code",
   "execution_count": null,
   "id": "34747da5-872b-4ce4-ab6a-2e7cfc022a51",
   "metadata": {},
   "outputs": [],
   "source": [
    "for fname in tqdm(xc_add_second[\"filename\"]):\n",
    "    splitted_fname = fname.split(\"/\")\n",
    "    new_fname = os.path.join(\"/home/vova/src/exps/BirdCLEF_2023_1st_place/data/birdclef_2023_data_part1/audio/\", splitted_fname[-2], splitted_fname[-1])\n",
    "    if not os.path.exists(os.path.dirname(new_fname)):\n",
    "        os.makedirs(os.path.dirname(new_fname))\n",
    "    copyfile(\n",
    "        fname,\n",
    "        os.path.join(\"/home/vova/src/exps/BirdCLEF_2023_1st_place/data/birdclef_2023_data_part1/audio/\", splitted_fname[-2], splitted_fname[-1])\n",
    "    )"
   ]
  },
  {
   "cell_type": "code",
   "execution_count": null,
   "id": "f8b60198-074a-4dd8-b269-08ebd41a4f88",
   "metadata": {},
   "outputs": [],
   "source": [
    "def modify_name(input):\n",
    "    splitted_fname = input.split(\"/\")\n",
    "    return os.path.join(splitted_fname[-2], splitted_fname[-1])"
   ]
  },
  {
   "cell_type": "code",
   "execution_count": null,
   "id": "593a4ead-bcfc-4815-a037-2ba3b707004b",
   "metadata": {},
   "outputs": [],
   "source": [
    "train_metadata_extended_202x[\"filename\"] = train_metadata_extended_202x[\"filename\"].apply(modify_name)\n",
    "xc_add_first[\"filename\"] = xc_add_first[\"filename\"].apply(modify_name)\n",
    "xc_add_second[\"filename\"] = xc_add_second[\"filename\"].apply(modify_name)"
   ]
  },
  {
   "cell_type": "code",
   "execution_count": null,
   "id": "742765ad-b2a1-4a75-85c9-8ab22cda8a7d",
   "metadata": {},
   "outputs": [],
   "source": [
    "train_metadata_extended_202x.drop(columns=\"Unnamed: 0\").to_csv(\n",
    "    \"/home/vova/src/exps/BirdCLEF_2023_1st_place/data/birdclef_2023_data_part1/train_metadata_extended_2020_2022_no2023_scored_nodupl_v1_only_prime_2023SecLabels.csv\",\n",
    "    index=False\n",
    ")\n",
    "xc_add_first.to_csv(\n",
    "    \"/home/vova/src/exps/BirdCLEF_2023_1st_place/data/birdclef_2023_data_part1/scored_2023_xc_2023SecLabels.csv\",\n",
    "    index=False\n",
    ")\n",
    "xc_add_second.to_csv(\n",
    "    \"/home/vova/src/exps/BirdCLEF_2023_1st_place/data/birdclef_2023_data_part1/scored_2023_xc_2023SecLabels_till_12_05_2023_v2.csv\",\n",
    "    index=False\n",
    ")"
   ]
  },
  {
   "cell_type": "code",
   "execution_count": null,
   "id": "ab2cc715-8956-4276-8d5d-243a45e14f33",
   "metadata": {},
   "outputs": [],
   "source": [
    "background_noise = pd.read_csv(\n",
    "    \"/home/vova/data/exps/BirdCLEF_2023/soundscapes_processed/v1_no_call_meta.csv\"\n",
    ")"
   ]
  },
  {
   "cell_type": "code",
   "execution_count": null,
   "id": "df4d0bb6-ce58-4986-bd2e-550492884937",
   "metadata": {},
   "outputs": [],
   "source": [
    "background_noise[\"filename\"].iloc[0]"
   ]
  },
  {
   "cell_type": "code",
   "execution_count": null,
   "id": "32810c0f-a7ba-47dd-9f0c-14d12ec443db",
   "metadata": {},
   "outputs": [],
   "source": [
    "for fname in tqdm(background_noise[\"filename\"]):\n",
    "    splitted_fname = fname.split(\"/\")\n",
    "    new_fname = os.path.join(\"/home/vova/src/exps/BirdCLEF_2023_1st_place/data/birdclef_2023_data_part1/soundscapes_nocall/\", splitted_fname[-2], splitted_fname[-1])\n",
    "    if os.path.exists(new_fname):\n",
    "        continue\n",
    "    if not os.path.exists(os.path.dirname(new_fname)):\n",
    "        os.makedirs(os.path.dirname(new_fname))\n",
    "    copyfile(\n",
    "        fname,\n",
    "        new_fname\n",
    "    )"
   ]
  },
  {
   "cell_type": "code",
   "execution_count": null,
   "id": "73afe515-511f-49f8-94ba-14dcb297d40f",
   "metadata": {},
   "outputs": [],
   "source": [
    "background_noise[\"filename\"] = background_noise[\"filename\"].apply(os.path.basename)"
   ]
  },
  {
   "cell_type": "code",
   "execution_count": null,
   "id": "615f6952-62d2-49d7-80e9-69665387ece5",
   "metadata": {},
   "outputs": [],
   "source": [
    "background_noise"
   ]
  },
  {
   "cell_type": "code",
   "execution_count": null,
   "id": "a3fcf053-316e-4b73-bf95-defd756fd7e5",
   "metadata": {},
   "outputs": [],
   "source": [
    "background_noise.to_csv(\n",
    "    \"/home/vova/src/exps/BirdCLEF_2023_1st_place/data/birdclef_2023_data_part1/v1_no_call_meta.csv\",\n",
    "    index=False\n",
    ")"
   ]
  },
  {
   "cell_type": "code",
   "execution_count": null,
   "id": "26402e00-8530-4169-89df-6b73d0bdb816",
   "metadata": {},
   "outputs": [],
   "source": [
    "background_noise_esc50 = pd.read_csv(\n",
    "    \"../../BirdCLEF_2023_1st_place/data/birdclef_2023_data_part1/esc50_background.csv\"\n",
    ")"
   ]
  },
  {
   "cell_type": "code",
   "execution_count": null,
   "id": "eeb20b7c-4dc9-4d27-9e00-27e42622623f",
   "metadata": {},
   "outputs": [],
   "source": [
    "for fname in tqdm(background_noise_esc50[\"filename\"]):\n",
    "    splitted_fname = fname.split(\"/\")\n",
    "    new_fname = os.path.join(\"/home/vova/src/exps/BirdCLEF_2023_1st_place/data/birdclef_2023_data_part1/esc50/\", splitted_fname[-2], splitted_fname[-1])\n",
    "    if os.path.exists(new_fname):\n",
    "        continue\n",
    "    if not os.path.exists(os.path.dirname(new_fname)):\n",
    "        os.makedirs(os.path.dirname(new_fname))\n",
    "    copyfile(\n",
    "        fname,\n",
    "        new_fname\n",
    "    )"
   ]
  },
  {
   "cell_type": "code",
   "execution_count": null,
   "id": "32e34031-f67f-45e7-9af6-5a476bee521a",
   "metadata": {},
   "outputs": [],
   "source": [
    "background_noise_esc50[\"filename\"] = background_noise_esc50[\"filename\"].apply(os.path.basename)"
   ]
  },
  {
   "cell_type": "code",
   "execution_count": null,
   "id": "f2cf08ef-6219-479b-8c6e-176487b510d8",
   "metadata": {},
   "outputs": [],
   "source": [
    "background_noise_esc50.to_csv(\n",
    "    \"/home/vova/src/exps/BirdCLEF_2023_1st_place/data/birdclef_2023_data_part1/esc50_background.csv\",\n",
    "    index=False\n",
    ")"
   ]
  },
  {
   "cell_type": "code",
   "execution_count": null,
   "id": "e4b9aeed-2167-4b45-9fca-8c21b6dbd7ca",
   "metadata": {},
   "outputs": [],
   "source": [
    "pretrain_dataset = pd.read_csv(\n",
    "    \"/home/vova/data/exps/BirdCLEF_2023/xeno_canto/train_metadata_extended_shorten_and_2023x_v3.csv\"\n",
    ")"
   ]
  },
  {
   "cell_type": "code",
   "execution_count": null,
   "id": "ebea09e9-14a9-49f7-80eb-238bccb52ffc",
   "metadata": {},
   "outputs": [],
   "source": [
    "pretrain_dataset[\"filename\"].apply(lambda x: \"/\".join(x.split(\"/\")[:-2])).value_counts()"
   ]
  },
  {
   "cell_type": "code",
   "execution_count": null,
   "id": "0cd657cf-d97a-4756-a468-4faf178d9b19",
   "metadata": {},
   "outputs": [],
   "source": [
    "pretrain_dataset_2021 = pretrain_dataset[\n",
    "    pretrain_dataset[\"filename\"].apply(lambda x: \"/\".join(x.split(\"/\")[:-2])) == \"/home/vova/data/exps/BirdCLEF_2023/birdclef_2021/train_short_audio\"\n",
    "]"
   ]
  },
  {
   "cell_type": "code",
   "execution_count": null,
   "id": "9fb16d5b-1a03-45fd-9b63-6c69b3af52b5",
   "metadata": {},
   "outputs": [],
   "source": [
    "pretrain_dataset_2021[\"filename\"].apply(lambda x: \"/\".join(x.split(\"/\")[:-2])).value_counts()"
   ]
  },
  {
   "cell_type": "code",
   "execution_count": null,
   "id": "fb1a5557-272d-4a6d-9587-7a15ca11e777",
   "metadata": {},
   "outputs": [],
   "source": [
    "pretrain_dataset_2021[\"filename\"].iloc[0]"
   ]
  },
  {
   "cell_type": "code",
   "execution_count": null,
   "id": "b635dc54-f717-456e-a032-96b89bd1add2",
   "metadata": {},
   "outputs": [],
   "source": [
    "for fname in tqdm(pretrain_dataset_2021[\"filename\"]):\n",
    "    splitted_fname = fname.split(\"/\")\n",
    "    new_fname = os.path.join(\"/home/vova/src/exps/BirdCLEF_2023_1st_place/data/birdclef_2023_data_part5/birdclef_2021\", splitted_fname[-2], splitted_fname[-1])\n",
    "    if os.path.exists(new_fname):\n",
    "        continue\n",
    "    if not os.path.exists(os.path.dirname(new_fname)):\n",
    "        os.makedirs(os.path.dirname(new_fname))\n",
    "    copyfile(\n",
    "        fname,\n",
    "        new_fname\n",
    "    )"
   ]
  },
  {
   "cell_type": "code",
   "execution_count": null,
   "id": "5f7c2eb2-5d5e-44a8-bc7b-b1542655ebb0",
   "metadata": {},
   "outputs": [],
   "source": [
    "pretrain_dataset_xc = pretrain_dataset[\n",
    "    pretrain_dataset[\"filename\"].apply(lambda x: \"/\".join(x.split(\"/\")[:-2])) == \"/home/vova/data/exps/BirdCLEF_2023/xeno_canto/dataset/audio\"\n",
    "]"
   ]
  },
  {
   "cell_type": "code",
   "execution_count": null,
   "id": "e339654b-577e-455e-9c79-0d693e85be0e",
   "metadata": {},
   "outputs": [],
   "source": [
    "pretrain_dataset_xc[\"filename\"].apply(lambda x: \"/\".join(x.split(\"/\")[:-2])).value_counts()"
   ]
  },
  {
   "cell_type": "code",
   "execution_count": null,
   "id": "170cdb0a-a6fe-4cdb-bcb2-0cf3e42bc8c5",
   "metadata": {},
   "outputs": [],
   "source": [
    "for fname in tqdm(pretrain_dataset_xc[\"filename\"]):\n",
    "    splitted_fname = fname.split(\"/\")\n",
    "    new_fname = os.path.join(\"/home/vova/src/exps/BirdCLEF_2023_1st_place/data/birdclef_2023_data_part6/xeno_canto/\", splitted_fname[-2], splitted_fname[-1])\n",
    "    if os.path.exists(new_fname):\n",
    "        continue\n",
    "    if not os.path.exists(os.path.dirname(new_fname)):\n",
    "        os.makedirs(os.path.dirname(new_fname))\n",
    "    copyfile(\n",
    "        fname,\n",
    "        new_fname\n",
    "    )"
   ]
  },
  {
   "cell_type": "code",
   "execution_count": null,
   "id": "4f7ec946-b207-4218-9b1c-23972c122eeb",
   "metadata": {},
   "outputs": [],
   "source": [
    "pretrain_dataset[\"temp\"] = pretrain_dataset[\"filename_h5py\"].apply(lambda x: \"/\".join(x.split(\"/\")[:-2]))"
   ]
  },
  {
   "cell_type": "code",
   "execution_count": null,
   "id": "44ebce04-a8db-4e9b-bdd9-6e643260846e",
   "metadata": {},
   "outputs": [],
   "source": [
    "pretrain_dataset_2022 = pretrain_dataset[\n",
    "    pretrain_dataset[\"filename\"].apply(lambda x: \"/\".join(x.split(\"/\")[:-2])) == \"/home/vova/data/exps/BirdCLEF_2023/birdclef_2022/train_audio\"\n",
    "]"
   ]
  },
  {
   "cell_type": "code",
   "execution_count": null,
   "id": "5f607675-4343-42a7-b83a-759e6483dac7",
   "metadata": {},
   "outputs": [],
   "source": [
    "pretrain_dataset[\"temp\"].value_counts()"
   ]
  },
  {
   "cell_type": "code",
   "execution_count": null,
   "id": "bbce8c9e-b722-406c-9f2a-44e8bd464219",
   "metadata": {},
   "outputs": [],
   "source": [
    "for fname in tqdm(pretrain_dataset_2022[\"filename\"]):\n",
    "    splitted_fname = fname.split(\"/\")\n",
    "    new_fname = os.path.join(\"/home/vova/src/exps/BirdCLEF_2023_1st_place/data/birdclef_2023_data_part8/birdclef_2022\", splitted_fname[-2], splitted_fname[-1])\n",
    "    if os.path.exists(new_fname):\n",
    "        continue\n",
    "    if not os.path.exists(os.path.dirname(new_fname)):\n",
    "        os.makedirs(os.path.dirname(new_fname))\n",
    "    copyfile(\n",
    "        fname,\n",
    "        new_fname\n",
    "    )"
   ]
  },
  {
   "cell_type": "code",
   "execution_count": null,
   "id": "27372fde-800d-4fed-b58c-28e18c3706f1",
   "metadata": {},
   "outputs": [],
   "source": [
    "# /home/vova/data/exps/BirdCLEF_2023/birdclef_2020/audio_features\n",
    "pretrain_dataset.loc[\n",
    "    pretrain_dataset[\"temp\"] == \"/home/vova/data/exps/BirdCLEF_2023/birdclef_2020/audio_features\",\n",
    "    \"filename_h5py\"\n",
    "] = pretrain_dataset.loc[\n",
    "    pretrain_dataset[\"temp\"] == \"/home/vova/data/exps/BirdCLEF_2023/birdclef_2020/audio_features\",\n",
    "    \"filename_h5py\"\n",
    "].apply(lambda x: x.replace(\"/home/vova/data/exps/BirdCLEF_2023/birdclef_2020/audio_features\", \"data/birdclef_2020_features\"))\n",
    "# /home/vova/data/exps/BirdCLEF_2023/birdclef_2020_xc_a_m/audio_features\n",
    "pretrain_dataset.loc[\n",
    "    pretrain_dataset[\"temp\"] == \"/home/vova/data/exps/BirdCLEF_2023/birdclef_2020_xc_a_m/audio_features\",\n",
    "    \"filename_h5py\"\n",
    "] = pretrain_dataset.loc[\n",
    "    pretrain_dataset[\"temp\"] == \"/home/vova/data/exps/BirdCLEF_2023/birdclef_2020_xc_a_m/audio_features\",\n",
    "    \"filename_h5py\"\n",
    "].apply(lambda x: x.replace(\"/home/vova/data/exps/BirdCLEF_2023/birdclef_2020_xc_a_m/audio_features\", \"data/birdclef_2020_xc_a_m_features\"))\n",
    "# /home/vova/data/exps/BirdCLEF_2023/birdclef_2020_xc_n_z/audio_features\n",
    "pretrain_dataset.loc[\n",
    "    pretrain_dataset[\"temp\"] == \"/home/vova/data/exps/BirdCLEF_2023/birdclef_2020_xc_n_z/audio_features\",\n",
    "    \"filename_h5py\"\n",
    "] = pretrain_dataset.loc[\n",
    "    pretrain_dataset[\"temp\"] == \"/home/vova/data/exps/BirdCLEF_2023/birdclef_2020_xc_n_z/audio_features\",\n",
    "    \"filename_h5py\"\n",
    "].apply(lambda x: x.replace(\"/home/vova/data/exps/BirdCLEF_2023/birdclef_2020_xc_n_z/audio_features\", \"data/birdclef_2020_xc_n_z_features\"))\n",
    "# /home/vova/data/exps/BirdCLEF_2023/birdclef_2021/audio_features\n",
    "pretrain_dataset.loc[\n",
    "    pretrain_dataset[\"temp\"] == \"/home/vova/data/exps/BirdCLEF_2023/birdclef_2021/audio_features\",\n",
    "    \"filename_h5py\"\n",
    "] = pretrain_dataset.loc[\n",
    "    pretrain_dataset[\"temp\"] == \"/home/vova/data/exps/BirdCLEF_2023/birdclef_2021/audio_features\",\n",
    "    \"filename_h5py\"\n",
    "].apply(lambda x: x.replace(\"/home/vova/data/exps/BirdCLEF_2023/birdclef_2021/audio_features\", \"data/birdclef_2021_features\"))\n",
    "# /home/vova/data/exps/BirdCLEF_2023/birdclef_2022/train_audio\n",
    "pretrain_dataset.loc[\n",
    "    pretrain_dataset[\"temp\"] == \"/home/vova/data/exps/BirdCLEF_2023/birdclef_2022/audio_features\",\n",
    "    \"filename_h5py\"\n",
    "] = pretrain_dataset.loc[\n",
    "    pretrain_dataset[\"temp\"] == \"/home/vova/data/exps/BirdCLEF_2023/birdclef_2022/audio_features\",\n",
    "    \"filename_h5py\"\n",
    "].apply(lambda x: x.replace(\"/home/vova/data/exps/BirdCLEF_2023/birdclef_2022/audio_features\", \"data/birdclef_2022_features\"))\n",
    "# /home/vova/data/exps/BirdCLEF_2023/xeno_canto/audio_features\n",
    "pretrain_dataset.loc[\n",
    "    pretrain_dataset[\"temp\"] == \"/home/vova/data/exps/BirdCLEF_2023/xeno_canto/audio_features\",\n",
    "    \"filename_h5py\"\n",
    "] = pretrain_dataset.loc[\n",
    "    pretrain_dataset[\"temp\"] == \"/home/vova/data/exps/BirdCLEF_2023/xeno_canto/audio_features\",\n",
    "    \"filename_h5py\"\n",
    "].apply(lambda x: x.replace(\"/home/vova/data/exps/BirdCLEF_2023/xeno_canto/audio_features\", \"data/xeno_canto_features\"))"
   ]
  },
  {
   "cell_type": "code",
   "execution_count": null,
   "id": "b3cbe4ec-a407-4c3c-af17-44680c29651c",
   "metadata": {},
   "outputs": [],
   "source": [
    "pretrain_dataset.loc[\n",
    "    pretrain_dataset[\"filename_h5py\"].apply(lambda x: os.path.exists(os.path.join(\"/home/vova/src/exps/BirdCLEF_2023_1st_place\", x))), \n",
    "    \"temp\"\n",
    "].value_counts()"
   ]
  },
  {
   "cell_type": "code",
   "execution_count": null,
   "id": "b96be60d-cf6c-467c-a631-b692cb83dee9",
   "metadata": {},
   "outputs": [],
   "source": [
    "pretrain_dataset.loc[\n",
    "    ~pretrain_dataset[\"filename_h5py\"].apply(lambda x: os.path.exists(os.path.join(\"/home/vova/src/exps/BirdCLEF_2023_1st_place\", x))), \n",
    "    \"temp\"\n",
    "].value_counts()"
   ]
  },
  {
   "cell_type": "code",
   "execution_count": null,
   "id": "976e3c9f-0a0e-4624-a5c1-998dc891b3d7",
   "metadata": {},
   "outputs": [],
   "source": [
    "pretrain_dataset = pretrain_dataset.drop(columns=[\"temp\"])\n",
    "pretrain_dataset[\"filename\"] = pretrain_dataset[\"filename\"].apply(modify_name)"
   ]
  },
  {
   "cell_type": "code",
   "execution_count": null,
   "id": "b5f4d19e-07d8-415e-9a35-ed42384a764f",
   "metadata": {},
   "outputs": [],
   "source": [
    "pretrain_dataset.to_csv(\n",
    "    \"/home/vova/src/exps/BirdCLEF_2023_1st_place/data/train_metadata_extended_shorten_and_2023x_v3.csv\",\n",
    "    index=False\n",
    ")"
   ]
  },
  {
   "cell_type": "code",
   "execution_count": null,
   "id": "f7d171ea-50b7-4a16-b851-276a36ddc219",
   "metadata": {},
   "outputs": [],
   "source": [
    "background_noise_esc50"
   ]
  },
  {
   "cell_type": "code",
   "execution_count": null,
   "id": "3af1a27f-e349-4814-8b04-cd3f39523dce",
   "metadata": {},
   "outputs": [],
   "source": [
    "v1_no_call_meta = pd.read_csv(\"/home/vova/src/exps/BirdCLEF_2023_1st_place/data/v1_no_call_meta.csv\")"
   ]
  },
  {
   "cell_type": "code",
   "execution_count": null,
   "id": "9dfafaf9-6bb0-4310-baa6-d3ecd3e36d7b",
   "metadata": {},
   "outputs": [],
   "source": [
    "v1_no_call_meta[\n",
    "    ~v1_no_call_meta[\"filename\"].apply(lambda x: os.path.exists(os.path.join(\"/home/vova/src/exps/BirdCLEF_2023_1st_place/data/soundscapes_nocall/train_audio/\", x)))\n",
    "]"
   ]
  },
  {
   "cell_type": "code",
   "execution_count": null,
   "id": "821c9d52-dc04-4b66-94ae-aaa5c457b9a7",
   "metadata": {},
   "outputs": [],
   "source": []
  }
 ],
 "metadata": {
  "kernelspec": {
   "display_name": "Python 3 (ipykernel)",
   "language": "python",
   "name": "python3"
  },
  "language_info": {
   "codemirror_mode": {
    "name": "ipython",
    "version": 3
   },
   "file_extension": ".py",
   "mimetype": "text/x-python",
   "name": "python",
   "nbconvert_exporter": "python",
   "pygments_lexer": "ipython3",
   "version": "3.11.6"
  }
 },
 "nbformat": 4,
 "nbformat_minor": 5
}
