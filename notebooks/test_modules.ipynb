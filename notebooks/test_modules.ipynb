{
 "cells": [
  {
   "cell_type": "code",
   "execution_count": null,
   "id": "846b067d-679f-4a67-ae3c-672614a3b511",
   "metadata": {},
   "outputs": [],
   "source": [
    "%load_ext autoreload\n",
    "%autoreload 2\n",
    "\n",
    "import os\n",
    "os.environ[\"CUDA_VISIBLE_DEVICES\"]=\"\"\n",
    "\n",
    "import pandas as pd\n",
    "import numpy as np\n",
    "import librosa\n",
    "import seaborn as sns\n",
    "import os\n",
    "import json\n",
    "import IPython.display as ipd\n",
    "import soundfile as sf\n",
    "import torch\n",
    "import collections\n",
    "import h5py\n",
    "# import timm\n",
    "import torch.nn as nn\n",
    "import onnxruntime as ort\n",
    "import torchaudio\n",
    "\n",
    "from glob import glob\n",
    "from tqdm import tqdm\n",
    "from matplotlib import pyplot as plt\n",
    "from itertools import chain\n",
    "from os.path import join as pjoin\n",
    "from torchaudio.transforms import AmplitudeToDB, MelSpectrogram\n",
    "from copy import deepcopy\n",
    "from typing import Callable\n",
    "from nnAudio.Spectrogram import CQT1992v2\n",
    "# import leaf_audio_pytorch.frontend as frontend\n",
    "from torchaudio.transforms import TimeMasking, FrequencyMasking\n",
    "from shutil import copyfile\n",
    "from torchaudio.transforms import Resample\n",
    "from torchaudio.transforms import MelSpectrogram\n",
    "\n",
    "# from code_base.utils import parallel_librosa_load, groupby_np_array, stack_and_max_by_samples, load_pp_audio\n",
    "# from code_base.utils.constants import SAMPLE_RATE, N_CLASSES_2021_2022\n",
    "from code_base.utils.onnx_utils import convert_to_onnx\n",
    "from code_base.models import WaveCNNClasifier, WaveCNNAttenClasifier, WaveTDNNClasifier, RandomFiltering\n",
    "from code_base.models.blocks import TraceableMelspec, NormalizeMelSpec, GeMFreqFixed, ChannelAgnosticAmplitudeToDB\n",
    "# from code_base.models.wave_clasifier import WaveCNNAttenClasifier\n",
    "from code_base.datasets import WaveDataset, WaveAllFileDataset\n",
    "from code_base.utils import load_json, write_json\n",
    "from code_base.utils.audio_utils import get_librosa_load\n",
    "from code_base.schedulers import GradualWarmupSchedulerV2\n",
    "from code_base.utils.audio_utils import get_audio_metadata\n",
    "# from code_base.augmentations.background_noise import AddBackgoundFromSoundScapes\n",
    "# from code_base.augmentations.transforms import BackgroundNoise, Compose, GaussianNoise, PinkNoise, OneOf\n",
    "# from code_base.forwards import MultilabelClsForwardLongShort\n",
    "# from code_base.utils.onnx_utils import ONNXEnsemble, convert_to_onnx\n",
    "from code_base.augmentations.transforms import (\n",
    "    BackgroundNoise,\n",
    "    Compose,\n",
    "    GaussianNoise,\n",
    "    OneOf,\n",
    "    PinkNoise,\n",
    "    TimeFlip\n",
    ")\n",
    "%matplotlib inline\n"
   ]
  },
  {
   "cell_type": "code",
   "execution_count": null,
   "id": "458c4b15-b52c-4535-b669-303487ed9898",
   "metadata": {},
   "outputs": [],
   "source": [
    "andrii_meta = pd.read_csv(\n",
    "    \"/gpfs/space/projects/BetterMedicine/volodymyr1/exps/bird_clef_2025/kaggle_datasets/andrii_generated_data/splits.csv\"\n",
    ").drop(columns=\"Unnamed: 0\")"
   ]
  },
  {
   "cell_type": "code",
   "execution_count": null,
   "id": "dcfa3647-c54d-4516-b6da-35997ee57c1a",
   "metadata": {},
   "outputs": [],
   "source": [
    "andrii_meta[\"primary_label\"] = andrii_meta[\"ebird_code\"]\n",
    "andrii_meta[\"secondary_labels\"] = [[] for _ in range(len(andrii_meta))]\n",
    "andrii_meta[\"filename\"] = andrii_meta[\"short_filename\"]\n",
    "andrii_meta[\"data_root_id\"] = \"add_train_audio_andrii_generated_undersample\"\n",
    "andrii_meta[\"url\"] = \"andrii_url\""
   ]
  },
  {
   "cell_type": "code",
   "execution_count": null,
   "id": "b6c7c4da-e4b7-40aa-a789-c119cac6a98c",
   "metadata": {},
   "outputs": [],
   "source": [
    "add_audio_meta = pd.DataFrame(andrii_meta[\"filename\"].apply(lambda x: get_audio_metadata(os.path.join(\n",
    "    \"../data/add_train_audio_andrii_generated_undersample/\",\n",
    "    x\n",
    "))).to_list())"
   ]
  },
  {
   "cell_type": "code",
   "execution_count": null,
   "id": "23b0abe4-27d8-4e0d-a848-7ef6619f45ca",
   "metadata": {},
   "outputs": [],
   "source": [
    "add_audio_meta"
   ]
  },
  {
   "cell_type": "code",
   "execution_count": null,
   "id": "c66ccedd-2bfc-4714-9883-d17a1bb3640e",
   "metadata": {},
   "outputs": [],
   "source": [
    "andrii_meta = pd.concat([andrii_meta, add_audio_meta], axis=1)"
   ]
  },
  {
   "cell_type": "code",
   "execution_count": null,
   "id": "e6fefdc5-e07d-40e7-8d60-2edf99005080",
   "metadata": {},
   "outputs": [],
   "source": [
    "andrii_meta.isna().sum()"
   ]
  },
  {
   "cell_type": "code",
   "execution_count": null,
   "id": "c35743f3-f5e4-45ec-9956-fe73aa82c28f",
   "metadata": {},
   "outputs": [],
   "source": [
    "andrii_meta.to_csv(\n",
    "    \"/gpfs/space/projects/BetterMedicine/volodymyr1/exps/bird_clef_2025/kaggle_datasets/andrii_generated_data/splits_extended.csv\", index=False\n",
    ")"
   ]
  },
  {
   "cell_type": "code",
   "execution_count": null,
   "id": "9b17ca3d-fcbe-47ec-b423-f541d8a464c1",
   "metadata": {},
   "outputs": [],
   "source": [
    "andrii_meta.head()"
   ]
  },
  {
   "cell_type": "code",
   "execution_count": null,
   "id": "7a3c9527-ccb7-4d6f-9975-abd6452ee17f",
   "metadata": {},
   "outputs": [],
   "source": [
    "andrii_meta_uniform = andrii_meta[andrii_meta[\"uniform\"]].reset_index(drop=True)\n",
    "andrii_meta_filtered = andrii_meta[andrii_meta[\"filtered\"]].reset_index(drop=True)\n",
    "andrii_meta_filtered_limited = andrii_meta[andrii_meta[\"filtered_limited\"]].reset_index(drop=True)\n",
    "andrii_meta_filtered_oversampled = andrii_meta[andrii_meta[\"filtered_oversampled\"]].reset_index(drop=True)\n",
    "\n",
    "andrii_meta_uniform.to_csv(\n",
    "    \"/gpfs/space/projects/BetterMedicine/volodymyr1/exps/bird_clef_2025/kaggle_datasets/andrii_generated_data/andrii_meta_uniform.csv\", index=False\n",
    ")\n",
    "andrii_meta_filtered.to_csv(\n",
    "    \"/gpfs/space/projects/BetterMedicine/volodymyr1/exps/bird_clef_2025/kaggle_datasets/andrii_generated_data/andrii_meta_filtered.csv\", index=False\n",
    ")\n",
    "andrii_meta_filtered_limited.to_csv(\n",
    "    \"/gpfs/space/projects/BetterMedicine/volodymyr1/exps/bird_clef_2025/kaggle_datasets/andrii_generated_data/andrii_meta_filtered_limited.csv\", index=False\n",
    ")\n",
    "andrii_meta_filtered_oversampled.to_csv(\n",
    "    \"/gpfs/space/projects/BetterMedicine/volodymyr1/exps/bird_clef_2025/kaggle_datasets/andrii_generated_data/andrii_meta_filtered_oversampled.csv\", index=False\n",
    ")"
   ]
  },
  {
   "cell_type": "code",
   "execution_count": null,
   "id": "9b8b92d4-cdc2-466d-a7a4-0dd9d9cd0dbc",
   "metadata": {},
   "outputs": [],
   "source": [
    "andrii_meta_uniform.shape, andrii_meta_filtered.shape, andrii_meta_filtered_limited.shape, andrii_meta_filtered_oversampled.shape"
   ]
  },
  {
   "cell_type": "code",
   "execution_count": null,
   "id": "e034aeb7-1076-4ba1-801b-6b943eec8830",
   "metadata": {},
   "outputs": [],
   "source": [
    "# all_submited_models = glob(\n",
    "#     \"/gpfs/space/projects/BetterMedicine/volodymyr1/exps/bird_clef_2025/kaggle_datasets/bird_clef_2025_models/*.zip\"\n",
    "# )\n",
    "# len(all_submited_models)"
   ]
  },
  {
   "cell_type": "code",
   "execution_count": null,
   "id": "097c21ae-4429-4e1b-940b-3ea2c6df17de",
   "metadata": {},
   "outputs": [],
   "source": [
    "# accepted_regex = [\n",
    "#     \"Pseudo\",\n",
    "#     \"FromV2Y2025Last\",\n",
    "# ]\n",
    "# for sub_m in all_submited_models:\n",
    "#     if not any(el in sub_m for el in accepted_regex):\n",
    "#         os.remove(sub_m)\n",
    "        "
   ]
  },
  {
   "cell_type": "code",
   "execution_count": null,
   "id": "f8deb2f1-3809-40db-8acf-fbffba10390e",
   "metadata": {},
   "outputs": [],
   "source": [
    "chkp = torch.load(\n",
    "    \"/gpfs/helios/home/volodymyr1/src/bird_clef_2025/logdirs/convnext_small_fb_in22k_ft_in1k_384_Exp_noamp_64bs_5sec_mixupP05_RandomFiltering_balancedSampler_Radamlr1e4_CosBatchLR1e6_Epoch50_SpecAugV1_FocalLoss_Full_PretrainPrevCompSp10/checkpoints/last.ckpt\",\n",
    "    map_location=\"cpu\"\n",
    ")"
   ]
  },
  {
   "cell_type": "code",
   "execution_count": null,
   "id": "6583ba5f-6fab-4b2a-b5f8-4678fdc1c138",
   "metadata": {},
   "outputs": [],
   "source": [
    "from collections import OrderedDict"
   ]
  },
  {
   "cell_type": "code",
   "execution_count": null,
   "id": "109d8290-ef16-43d9-8494-294c90df5498",
   "metadata": {},
   "outputs": [],
   "source": [
    "chkp = chkp[\"state_dict\"]\n",
    "\n",
    "distilled_chkp = OrderedDict()\n",
    "for key in chkp:\n",
    "    if key.startswith(\"model.backbone.\"):\n",
    "        distilled_chkp[key.replace(\"model.backbone.\", \"\")] = chkp[key]"
   ]
  },
  {
   "cell_type": "code",
   "execution_count": null,
   "id": "047e1a72-a5b7-4aa7-99d0-5c7b3efe2ccb",
   "metadata": {},
   "outputs": [],
   "source": [
    "TRAIN_PERIOD = 5.0\n",
    "full_config = dict(\n",
    "    backbone=\"convnext_small.fb_in22k_ft_in1k_384\",\n",
    "    mel_spec_paramms={\n",
    "        \"sample_rate\": 32000,\n",
    "        \"n_mels\": 128,\n",
    "        \"f_min\": 20,\n",
    "        \"n_fft\": 2048,\n",
    "        \"hop_length\": 512,\n",
    "        \"normalized\": True,\n",
    "    },\n",
    "    spec_augment_config={\n",
    "        \"freq_mask\": {\n",
    "            \"mask_max_length\": 10,\n",
    "            \"mask_max_masks\": 3,\n",
    "            \"p\": 0.3,\n",
    "            \"inplace\": True,\n",
    "        },\n",
    "        \"time_mask\": {\n",
    "            \"mask_max_length\": 20,\n",
    "            \"mask_max_masks\": 3,\n",
    "            \"p\": 0.3,\n",
    "            \"inplace\": True,\n",
    "        },\n",
    "    },\n",
    "    head_config={\n",
    "        \"p\": 0.5,\n",
    "        \"num_class\": 188,\n",
    "        \"train_period\": TRAIN_PERIOD,\n",
    "        \"infer_period\": TRAIN_PERIOD,\n",
    "    },\n",
    "    exportable=True,\n",
    ")"
   ]
  },
  {
   "cell_type": "code",
   "execution_count": null,
   "id": "8f6e4976-f1c2-42f3-99e2-ee048ce67416",
   "metadata": {},
   "outputs": [],
   "source": [
    "ful_model = WaveCNNAttenClasifier(**full_config,device=\"cpu\")"
   ]
  },
  {
   "cell_type": "code",
   "execution_count": null,
   "id": "ca2c35e4-cc66-4aa9-adeb-0aae8a0dc7ac",
   "metadata": {},
   "outputs": [],
   "source": [
    "ful_model.backbone.load_state_dict(distilled_chkp)"
   ]
  },
  {
   "cell_type": "code",
   "execution_count": null,
   "id": "8b36fccb-7b48-4c9c-a6a9-765eb558006c",
   "metadata": {},
   "outputs": [],
   "source": [
    "ful_model.backbone.state_dict().keys()"
   ]
  },
  {
   "cell_type": "code",
   "execution_count": null,
   "id": "561b28d3-213a-449b-84d3-41751515f15f",
   "metadata": {},
   "outputs": [],
   "source": [
    "backbone = timm.create_model(\n",
    "    \"convnext_small.fb_in22k_ft_in1k_384\",\n",
    "    features_only=True,\n",
    "    pretrained=False,\n",
    "    exportable=True,\n",
    "    in_chans=1,\n",
    ")"
   ]
  },
  {
   "cell_type": "code",
   "execution_count": null,
   "id": "f037c9e7-3539-432d-83c1-bf2a2f2a9fc8",
   "metadata": {},
   "outputs": [],
   "source": [
    "backbone.load_state_dict(distilled_chkp)"
   ]
  },
  {
   "cell_type": "code",
   "execution_count": null,
   "id": "07dbe689-4cc5-42f1-9904-f633b25ee35f",
   "metadata": {},
   "outputs": [],
   "source": [
    "distilled_chkp.keys()"
   ]
  },
  {
   "cell_type": "code",
   "execution_count": null,
   "id": "fc22f74b-0da6-4d31-81cc-d208ab59370c",
   "metadata": {},
   "outputs": [],
   "source": [
    "temp_df = pd.read_csv(\n",
    "    \"/gpfs/space/projects/BetterMedicine/volodymyr1/exps/bird_clef_2025/birdclef_2025/train_and_prev_comps_extendedv1_pruneSL_XConly2025_snipet28032025_hdf5.csv\"\n",
    ")"
   ]
  },
  {
   "cell_type": "code",
   "execution_count": null,
   "id": "714582a7-157d-4fef-af95-ecbaa96e26c6",
   "metadata": {},
   "outputs": [],
   "source": [
    "temp_df[\"data_root_id\"].value_counts()"
   ]
  },
  {
   "cell_type": "code",
   "execution_count": null,
   "id": "925e31b9-8ba4-4557-8dd8-a81309911910",
   "metadata": {},
   "outputs": [],
   "source": [
    "!ls -lt /home/vova/data/exps/birdclef_2024/kaggle_datasets/bird_clef_2024_addones/pretrained_backbones/"
   ]
  },
  {
   "cell_type": "code",
   "execution_count": null,
   "id": "6656a2f2-f60b-423e-b56c-9dba8213cbb5",
   "metadata": {},
   "outputs": [],
   "source": [
    "one_df = pd.read_csv(\"/home/vova/data/exps/birdclef_2024/dfs/full_noduplsV3_meta_prev_comps_extended.csv\")\n",
    "second_df = pd.read_csv(\"/home/vova/data/exps/birdclef_2024/xeno_canto/dataset_NO2024_classes/train_metadata_noduplV5_extended_india_vc50.csv\")"
   ]
  },
  {
   "cell_type": "code",
   "execution_count": null,
   "id": "c6e01482-7333-4929-a926-78741099334b",
   "metadata": {},
   "outputs": [],
   "source": [
    "one_df.shape[0] + second_df.shape[0]"
   ]
  },
  {
   "cell_type": "code",
   "execution_count": null,
   "id": "2eae3004-6874-456b-a480-ecca9fd3bd51",
   "metadata": {},
   "outputs": [],
   "source": [
    "chkp = torch.load(\n",
    "    \"/home/vova/src/exps/bird_clef_2024/logdirs/eca_nfnet_l0_Exp_noamp_FixedAmp2DbAmin1e6_64bs_RandFirst10sec_AllPrevCompDataAndXcIndiaVC50_TimeFlip05_FormixupAlpha05NormedBinTgtEqW_balSampl_Radamlr1e3_CosBatchLR1e6_Epoch50_FocalBCELoss_FullTrain_NoDuplsV5/checkpoints/last.ckpt\", map_location=\"cpu\"\n",
    ")"
   ]
  },
  {
   "cell_type": "code",
   "execution_count": null,
   "id": "a0dc8cae-aee8-45d3-8802-b132eb9b6552",
   "metadata": {},
   "outputs": [],
   "source": [
    "chkp = chkp[\"state_dict\"]\n",
    "chkp = {k.replace(\"model.backbone.\", \"\"):v for k,v in chkp.items() if k.startswith(\"model.backbone.\")}"
   ]
  },
  {
   "cell_type": "code",
   "execution_count": null,
   "id": "2c854092-a641-4322-b1b3-22c1beb5cede",
   "metadata": {},
   "outputs": [],
   "source": [
    "any([torch.isnan(tens).any() for tens in chkp.values()])"
   ]
  },
  {
   "cell_type": "code",
   "execution_count": null,
   "id": "a53320c0-7ab1-441e-ae97-14c562346263",
   "metadata": {},
   "outputs": [],
   "source": [
    "chkp = torch.load(\n",
    "    \"/home/vova/data/exps/birdclef_2024/kaggle_datasets/bird_clef_2024_addones/pretrained_backbones/tf_efficientnetv2_b1_in1k_Pretrainversion2.pth\", map_location=\"cpu\"\n",
    ")\n",
    "any([torch.isnan(tens).any() for tens in chkp.values()])"
   ]
  },
  {
   "cell_type": "code",
   "execution_count": null,
   "id": "8ba6162e-7dda-4327-b250-47ee2e781d6c",
   "metadata": {},
   "outputs": [],
   "source": [
    "any([torch.isnan(tens).any() for tens in chkp.values()])"
   ]
  },
  {
   "cell_type": "code",
   "execution_count": null,
   "id": "b484c4a1-751b-4243-a69f-df2875be2e51",
   "metadata": {},
   "outputs": [],
   "source": [
    "32_000 * 5 // (256 - 1)"
   ]
  },
  {
   "cell_type": "code",
   "execution_count": null,
   "id": "730de6d4-c854-4e24-bdc3-749854413ad0",
   "metadata": {},
   "outputs": [],
   "source": [
    "def parameter_counter(input_model, model_name, only_trainable=False):\n",
    "    counter = 0\n",
    "    for param in input_model.parameters():\n",
    "        if not only_trainable or param.requires_grad:\n",
    "            counter += param.shape.numel()\n",
    "    print(f\"{model_name} Parameters Count: {f'{counter/1_000_000:.1f}M'}\")\n",
    "\n",
    "model1 = timm.create_model(\n",
    "    \"tf_efficientnetv2_b2.in1k\",\n",
    "    features_only=True,\n",
    "    pretrained=True,\n",
    "    exportable=True,\n",
    "    in_chans=1,\n",
    ")\n",
    "parameter_counter(model1, \"tf_efficientnetv2_b2_in1k\")\n",
    "model2 = timm.create_model(\n",
    "    \"tf_efficientnetv2_s\",\n",
    "    features_only=True,\n",
    "    pretrained=True,\n",
    "    exportable=True,\n",
    "    in_chans=1,\n",
    ")\n",
    "parameter_counter(model2, \"tf_efficientnetv2_s\")"
   ]
  },
  {
   "cell_type": "code",
   "execution_count": null,
   "id": "e51ed8df-f12b-42a3-a2a5-f054c4b13bb1",
   "metadata": {},
   "outputs": [],
   "source": [
    "model1 = timm.create_model(\n",
    "    \"tf_efficientnetv2_s_in21k\",\n",
    "    features_only=True,\n",
    "    pretrained=True,\n",
    "    exportable=True,\n",
    "    in_chans=1,\n",
    ")"
   ]
  },
  {
   "cell_type": "code",
   "execution_count": null,
   "id": "b6092a11-62ae-48d1-961e-3b773421439e",
   "metadata": {},
   "outputs": [],
   "source": [
    "parameter_counter(model1, \"tf_efficientnetv2_s_in21k\")"
   ]
  },
  {
   "cell_type": "code",
   "execution_count": null,
   "id": "cd4b86d4-03d8-4979-9880-37ec98ce2592",
   "metadata": {},
   "outputs": [],
   "source": [
    "model2 = timm.create_model(\n",
    "    \"tf_efficientnetv2_s\",\n",
    "    features_only=True,\n",
    "    pretrained=True,\n",
    "    exportable=True,\n",
    "    in_chans=1,\n",
    ")\n",
    "model2_sd = model2.state_dict()"
   ]
  },
  {
   "cell_type": "code",
   "execution_count": null,
   "id": "c8014e28-7467-41b3-8afd-314330b24d5e",
   "metadata": {},
   "outputs": [],
   "source": [
    "parameter_counter(model2, \"tf_efficientnetv2_s\")"
   ]
  },
  {
   "cell_type": "code",
   "execution_count": null,
   "id": "3e31254f-5bb2-4f22-b5fc-4e33b96e6443",
   "metadata": {},
   "outputs": [],
   "source": [
    "all(torch.allclose(model1_sd[key], model2_sd[key]) for key in model1_sd.keys())"
   ]
  },
  {
   "cell_type": "code",
   "execution_count": null,
   "id": "39c6b2bb-a00a-416d-af9b-5efa3f64c518",
   "metadata": {},
   "outputs": [],
   "source": [
    "model.load_state_dict(chkp)"
   ]
  },
  {
   "cell_type": "code",
   "execution_count": null,
   "id": "4a7e814d-9b8a-4195-9cd9-fd8ef080b02e",
   "metadata": {},
   "outputs": [],
   "source": [
    "torch.save(\n",
    "    chkp,\n",
    "    \"/home/vova/data/exps/birdclef_2024/kaggle_datasets/bird_clef_2024_addones/pretrained_backbones/eca_nfnet_l0_Pretrainversion3.pth\"\n",
    ")"
   ]
  },
  {
   "cell_type": "code",
   "execution_count": null,
   "id": "d6223a46-bb43-4950-9c48-f741b170c087",
   "metadata": {},
   "outputs": [],
   "source": [
    "chkp"
   ]
  },
  {
   "cell_type": "code",
   "execution_count": null,
   "id": "76c5c270-08d0-4ba6-acc3-873ea51ea517",
   "metadata": {},
   "outputs": [],
   "source": [
    "len(glob(\"/home/vova/data/exps/birdclef_2024/birdclef_2024/unlabeled_soundscapes_features/*.hdf5\"))"
   ]
  },
  {
   "cell_type": "markdown",
   "id": "97cd4bcd-8f00-4212-bef6-8b4deafdd02d",
   "metadata": {},
   "source": [
    "# Make Fast Holdout"
   ]
  },
  {
   "cell_type": "code",
   "execution_count": null,
   "id": "bc6e3775-6a8e-4558-870d-00742cb57d1c",
   "metadata": {},
   "outputs": [],
   "source": [
    "full_df = pd.read_csv(\n",
    "    \"/home/vova/data/exps/birdclef_2024/birdclef_2024/merged_train_metadata_extended_noduplv2.csv\"\n",
    ")\n",
    "train_data = pd.read_csv(\n",
    "    \"/home/vova/data/exps/birdclef_2024/birdclef_2024/train_metadata_extended_noduplv1.csv\"\n",
    ")"
   ]
  },
  {
   "cell_type": "code",
   "execution_count": null,
   "id": "311fdbf2-561d-43d9-9f46-cce4f0e9c0f3",
   "metadata": {},
   "outputs": [],
   "source": [
    "def extract_id(fname):\n",
    "    fname = os.path.splitext(os.path.basename(fname))[0]\n",
    "    if fname.startswith(\"XC\"):\n",
    "        fname = fname[2:]\n",
    "    return int(fname)"
   ]
  },
  {
   "cell_type": "code",
   "execution_count": null,
   "id": "eaafde43-8fef-451a-b0af-cd209d2ad861",
   "metadata": {},
   "outputs": [],
   "source": [
    "train_data[\"id\"] = train_data[\"filename\"].apply(extract_id)\n",
    "full_df[\"id\"] = full_df[\"filename\"].apply(extract_id)"
   ]
  },
  {
   "cell_type": "code",
   "execution_count": null,
   "id": "3e771e78-dc4c-49ec-8136-c805c1ee83e9",
   "metadata": {},
   "outputs": [],
   "source": [
    "full_df[\"id\"].isin(train_data[\"id\"]).sum()"
   ]
  },
  {
   "cell_type": "code",
   "execution_count": null,
   "id": "84f1b762-9a7d-43ad-aa53-a49407b5bb29",
   "metadata": {},
   "outputs": [],
   "source": [
    "np.where(~full_df[\"id\"].isin(train_data[\"id\"]))[0]"
   ]
  },
  {
   "cell_type": "code",
   "execution_count": null,
   "id": "42c3bba9-950a-4b7e-a9ec-86112690bd37",
   "metadata": {},
   "outputs": [],
   "source": [
    "cv_split = [\n",
    "    [\n",
    "        np.where(full_df[\"id\"].isin(train_data[\"id\"]))[0],\n",
    "        np.where(~full_df[\"id\"].isin(train_data[\"id\"]))[0]\n",
    "    ]\n",
    "]"
   ]
  },
  {
   "cell_type": "code",
   "execution_count": null,
   "id": "ca58be77-8d3e-4e5d-9d46-ade593af9f12",
   "metadata": {},
   "outputs": [],
   "source": [
    "np.save(\n",
    "    \"/home/vova/data/exps/birdclef_2024/cv_splits/merged_holdout.npy\",\n",
    "    np.array(cv_split, dtype=object)\n",
    ")"
   ]
  },
  {
   "cell_type": "code",
   "execution_count": null,
   "id": "a9c2e61a-6623-4f30-b7c4-0ec8382d96d4",
   "metadata": {},
   "outputs": [],
   "source": [
    "len(glob(\"/home/vova/data/exps/birdclef_2024/birdclef_2024/unlabeled_soundscapes_features/*.hdf5\"))"
   ]
  },
  {
   "cell_type": "markdown",
   "id": "c4f88409-2499-46a3-a32b-22c6d45ca2ad",
   "metadata": {},
   "source": [
    "# Data"
   ]
  },
  {
   "cell_type": "code",
   "execution_count": null,
   "id": "4ddb8e9a-54cf-4d31-9628-1347207c293b",
   "metadata": {},
   "outputs": [],
   "source": [
    "def sample_uniformly_np_index(merged_intervals):\n",
    "    # Calculate the total span of all intervals in terms of seconds\n",
    "    total_seconds = sum(interval[1] - interval[0] for interval in merged_intervals)\n",
    "\n",
    "    # Generate a random position within the total span as a float\n",
    "    random_position = np.random.uniform(0, total_seconds)\n",
    "    \n",
    "    # Map the random position to an actual interval\n",
    "    current_position = 0\n",
    "    for index, (start, end, labels) in enumerate(merged_intervals):\n",
    "        interval_length = end - start\n",
    "        if current_position + interval_length > random_position:\n",
    "            # Calculate the actual second within the interval as a float\n",
    "            sampled_second = start + (random_position - current_position)\n",
    "            return sampled_second, index\n",
    "        current_position += interval_length\n",
    "\n",
    "    raise RuntimeError(\"sample_uniformly_np_index was not able to pick chunk\")"
   ]
  },
  {
   "cell_type": "code",
   "execution_count": null,
   "id": "6c5eb2de-f276-48be-bf11-16f58a62cde5",
   "metadata": {},
   "outputs": [],
   "source": [
    "# df = pd.read_csv(\"/home/vova/data/exps/birdclef_2024/birdclef_2024/train_metadata_extended_noduplv1.csv\")\n",
    "df = pd.read_csv(\n",
    "    \"/gpfs/space/projects/BetterMedicine/volodymyr1/exps/bird_clef_2025/birdclef_2025/train_and_prev_comps_extendedv1_pruneSL_XConly2025_snipet28032025_hdf5.csv\"\n",
    ")\n",
    "# df = pd.read_csv(\n",
    "#     \"/home/vova/data/exps/birdclef_2024/birdclef_2024/train_metadata_extended_noduplv1_GBirdV1.csv\",\n",
    "#     # converters={\"label_second\": eval}\n",
    "# )\n",
    "# df = pd.read_csv(\n",
    "#     \"/home/vova/src/exps/bird_clef_2024/google_bird_predictions/unlabeled_data/processed_data_v1_add_train.csv\",\n",
    "#     # converters={\"label_second\": eval}\n",
    "# )\n",
    "# taxonomy = pd.read_csv(\"/home/vova/data/exps/birdclef_2024/birdclef_2024/eBird_Taxonomy_v2021.csv\")\n",
    "# previous_soundscapes = pd.read_csv(\n",
    "#     \"/home/vova/data/exps/birdclef_2024/my_2023_data/soundscapes_nocall/v1_no_call_meta_fixed.csv\"\n",
    "# )\n",
    "# scored_birds = load_json(\n",
    "#     \"/home/vova/data/exps/birdclef_2024/scored_birds/sb_2024.json\"\n",
    "# )\n",
    "# df = pd.read_csv(\"/home/vova/data/exps/BirdCLEF_2023/xeno_canto/train_metadata_extended_shorten_and_2023x_v1.csv\")\n",
    "# df.head()"
   ]
  },
  {
   "cell_type": "code",
   "execution_count": null,
   "id": "cffee80a-3bba-4a57-92be-9d6f1a158210",
   "metadata": {},
   "outputs": [],
   "source": [
    "df[df[\"label_second\"].apply(lambda x: len(set(chain(*[el[-1] for el in x])))) > 1]"
   ]
  },
  {
   "cell_type": "code",
   "execution_count": null,
   "id": "f9b896d9-3563-41f9-89b5-f1080686d254",
   "metadata": {},
   "outputs": [],
   "source": [
    "df[\"label_second\"].iloc[13]"
   ]
  },
  {
   "cell_type": "code",
   "execution_count": null,
   "id": "0eaaa728-6352-4100-9afb-7fef6cac7e61",
   "metadata": {},
   "outputs": [],
   "source": [
    "sample_uniformly_np_index(df[\"label_second\"].iloc[13])"
   ]
  },
  {
   "cell_type": "code",
   "execution_count": null,
   "id": "b34ae89a-45f5-4cec-969f-5f10f7a5c3b6",
   "metadata": {},
   "outputs": [],
   "source": [
    "seconds = [sample_uniformly_np_float(df[\"label_second\"].iloc[13])[0] for _ in range(100000)]"
   ]
  },
  {
   "cell_type": "code",
   "execution_count": null,
   "id": "63e431f0-af4d-42c7-ad16-0a9d444fee77",
   "metadata": {},
   "outputs": [],
   "source": [
    "plt.hist(seconds, bins=100);"
   ]
  },
  {
   "cell_type": "code",
   "execution_count": null,
   "id": "9bfd1770-0641-4142-a71b-6eeeb103f03b",
   "metadata": {},
   "outputs": [],
   "source": [
    "# previous_soundscapes[\"filename\"] = previous_soundscapes[\"filename\"].apply(lambda x: os.path.join(\n",
    "#     \"/home/vova/data/exps/birdclef_2024/my_2023_data/soundscapes_nocall/train_audio\", x\n",
    "# ))\n",
    "\n",
    "# def check_is_capable_to_load(path):\n",
    "#     try:\n",
    "#         librosa.load(path, sr=32000)\n",
    "#         return True\n",
    "#     except:\n",
    "#         return False\n",
    "\n",
    "# previous_soundscapes[\"is_corrupted\"] = previous_soundscapes[\"filename\"].apply(check_is_capable_to_load)\n",
    "\n",
    "# or_previous_soundscapes = pd.read_csv(\n",
    "#     \"/home/vova/data/exps/birdclef_2024/my_2023_data/soundscapes_nocall/v1_no_call_meta.csv\"\n",
    "# )\n",
    "# or_previous_soundscapes[previous_soundscapes[\"is_corrupted\"]].reset_index(drop=True).to_csv(\n",
    "#     \"/home/vova/data/exps/birdclef_2024/my_2023_data/soundscapes_nocall/v1_no_call_meta_fixed.csv\",\n",
    "#     index=False\n",
    "# )"
   ]
  },
  {
   "cell_type": "code",
   "execution_count": null,
   "id": "ea2de843-ffbd-4b73-94bc-2c95c55c606c",
   "metadata": {},
   "outputs": [],
   "source": [
    "# previous_soundscapes[\"primary_label\"] = \"nocall\"\n",
    "# previous_soundscapes.to_csv(\n",
    "#     \"/home/vova/data/exps/birdclef_2024/my_2023_data/soundscapes_nocall/v1_no_call_meta.csv\", index=False\n",
    "# )"
   ]
  },
  {
   "cell_type": "code",
   "execution_count": null,
   "id": "c1730745-0b95-4a07-8a07-c8129bcedb29",
   "metadata": {},
   "outputs": [],
   "source": [
    "df"
   ]
  },
  {
   "cell_type": "code",
   "execution_count": null,
   "id": "40b68fdb-cfce-4ff9-b87c-49d2aa0fc7ff",
   "metadata": {},
   "outputs": [],
   "source": [
    "df.shape[0] / 64"
   ]
  },
  {
   "cell_type": "code",
   "execution_count": null,
   "id": "66d245d6-b0d0-4d42-80d9-c8ab0d10994a",
   "metadata": {},
   "outputs": [],
   "source": [
    "df[\"secondary_labels\"].apply(eval).apply(len).value_counts()"
   ]
  },
  {
   "cell_type": "code",
   "execution_count": null,
   "id": "fad1dcf3-b836-4d0d-95a5-fbdf1a166839",
   "metadata": {},
   "outputs": [],
   "source": [
    "df"
   ]
  },
  {
   "cell_type": "code",
   "execution_count": null,
   "id": "0a6aafc1-8e82-4dec-8751-82c1823296d8",
   "metadata": {},
   "outputs": [],
   "source": [
    "df = df.sample(frac=1).reset_index(drop=True).iloc[:100]\n"
   ]
  },
  {
   "cell_type": "code",
   "execution_count": null,
   "id": "4494baca-c225-4810-8b99-65161b14d899",
   "metadata": {},
   "outputs": [],
   "source": [
    "df[\"primary_label\"].value_counts()"
   ]
  },
  {
   "cell_type": "code",
   "execution_count": null,
   "id": "f62952f5-f298-4eea-9755-d8a3f0a79a4f",
   "metadata": {},
   "outputs": [],
   "source": [
    "df[\"duration_s\"].iloc[:10].max()"
   ]
  },
  {
   "cell_type": "code",
   "execution_count": null,
   "id": "db09a1b5-52a9-4ec3-a663-91b581b9cd4b",
   "metadata": {},
   "outputs": [],
   "source": [
    "ab = 0.75\n",
    "plt.hist(np.clip(np.random.beta(ab, ab, size=1000), 0.2, 0.8))"
   ]
  },
  {
   "cell_type": "code",
   "execution_count": null,
   "id": "3a2de4cd-0e7d-4f08-9147-ef774b03226f",
   "metadata": {},
   "outputs": [],
   "source": [
    "mel_spec_paramms={\n",
    "    \"sample_rate\": 32000,\n",
    "    \"n_mels\": 128,\n",
    "    \"f_min\": 20,\n",
    "    \"n_fft\": 2048,\n",
    "    \"hop_length\": 512,\n",
    "    \"normalized\": True,\n",
    "}\n",
    "mel_spec = nn.Sequential(\n",
    "    TraceableMelspec(**mel_spec_paramms, quantizable=False),\n",
    "    ChannelAgnosticAmplitudeToDB(top_db=80.0),\n",
    "    NormalizeMelSpec(exportable=True),\n",
    ")"
   ]
  },
  {
   "cell_type": "code",
   "execution_count": null,
   "id": "868db8cf-e044-4916-9bcc-83b5d36bdf00",
   "metadata": {},
   "outputs": [],
   "source": [
    "background_module = BackgroundNoise(**{\n",
    "    \"esc50_root\": \"/home/vova/data/exps/birdclef_2024/birdclef_2024/unlabeled_soundscapes/\",\n",
    "    \"esc50_df_path\": \"../pseudo/v1/negative_filtered_02.csv\",\n",
    "    \"precompute\": False,\n",
    "    \"load_normalize\": False,\n",
    "    \"normalize_chunks\": True,\n",
    "    \"normalize\": True,\n",
    "    \"chunks_column\": \"nocall\"\n",
    "})"
   ]
  },
  {
   "cell_type": "code",
   "execution_count": null,
   "id": "7639c247-b6dd-4265-8d84-666e89296079",
   "metadata": {},
   "outputs": [],
   "source": [
    "audio = background_module.sample(32000 * 5)\n",
    "spec = mel_spec(torch.from_numpy(audio)[None,...])\n",
    "plt.imshow(spec[0])\n",
    "ipd.Audio(audio, rate=32000)"
   ]
  },
  {
   "cell_type": "code",
   "execution_count": null,
   "id": "cd9a08dc-2e25-42a8-8c05-165e2ccff5ff",
   "metadata": {},
   "outputs": [],
   "source": [
    "audio.shape[0] / 32000"
   ]
  },
  {
   "cell_type": "code",
   "execution_count": null,
   "id": "edaa597d-5381-48df-830e-c849e811bce2",
   "metadata": {},
   "outputs": [],
   "source": [
    "background_module.sample_names[1482]"
   ]
  },
  {
   "cell_type": "code",
   "execution_count": null,
   "id": "edfbe731-39a1-4a21-a13c-9182a692527a",
   "metadata": {},
   "outputs": [],
   "source": [
    "np.allclose(\n",
    "    librosa.util.normalize(\n",
    "        librosa.load(background_module.sample_names[1482], sr=32_000)[0][:5*32000]\n",
    "    ), \n",
    "    audio\n",
    ")"
   ]
  },
  {
   "cell_type": "code",
   "execution_count": null,
   "id": "88a924aa-4154-4fbc-ae65-16ff0c0a5fcb",
   "metadata": {},
   "outputs": [],
   "source": [
    "# np.abs(background_module.sample(32000*5)).max()"
   ]
  },
  {
   "cell_type": "code",
   "execution_count": null,
   "id": "9025fca5-3324-45ac-880a-701dc9070ccf",
   "metadata": {},
   "outputs": [],
   "source": [
    "# np.abs(background_module._pick_random_valid_sample()).max()"
   ]
  },
  {
   "cell_type": "code",
   "execution_count": null,
   "id": "7b1f2473-2ba2-4ebf-8257-2ce138c5602d",
   "metadata": {},
   "outputs": [],
   "source": [
    "plt.hist(np.random.beta(0.5, 0.5, size=(10000)))"
   ]
  },
  {
   "cell_type": "code",
   "execution_count": null,
   "id": "1a5e55b4-31e2-48e1-9a40-2f6ad10d66ad",
   "metadata": {},
   "outputs": [],
   "source": [
    "# train_dataset = WaveDataset(\n",
    "#     df=df,\n",
    "#     root=\"../data/train_audio\",\n",
    "#     label_str2int_mapping_path=\"/gpfs/space/projects/BetterMedicine/volodymyr1/exps/bird_clef_2025/birdclef_2025/bird2int_2025.json\",\n",
    "#     precompute=False,\n",
    "#     n_cores=4,\n",
    "#     debug=False,\n",
    "#     segment_len=5,\n",
    "#     late_normalize=True,\n",
    "#     sampler_col=\"primary_label\",\n",
    "#     use_h5py=True,\n",
    "#     replace_pathes=(\"train_audio\", \"train_features\"),\n",
    "#     filename_change_mapping={\n",
    "#         \"base\": \"train_audio\",\n",
    "#         \"train_audio\": \"train_audio\",\n",
    "#         \"add_train_audio_from_prev_comps\": \"add_train_audio_from_prev_comps\",\n",
    "#         \"add_train_audio_from_xeno_canto_28032025\": \"add_train_audio_from_xeno_canto_28032025\",\n",
    "#     },\n",
    "#     ignore_setting_dataset_value=True,\n",
    "#     curation_json_path=\"../data/train_data_curation_10042025_sr32K.json\"\n",
    "# )\n",
    "\n",
    "train_dataset_without_cur = WaveDataset(\n",
    "    df=df,\n",
    "    root=\"../data/train_audio\",\n",
    "    label_str2int_mapping_path=\"/gpfs/space/projects/BetterMedicine/volodymyr1/exps/bird_clef_2025/birdclef_2025/bird2int_2025.json\",\n",
    "    precompute=False,\n",
    "    n_cores=4,\n",
    "    debug=False,\n",
    "    segment_len=5,\n",
    "    late_normalize=True,\n",
    "    sampler_col=\"primary_label\",\n",
    "    use_h5py=True,\n",
    "    replace_pathes=(\"train_audio\", \"train_features22050\"),\n",
    "    filename_change_mapping={\n",
    "        \"base\": \"train_audio\",\n",
    "        \"train_audio\": \"train_audio\",\n",
    "        \"add_train_audio_from_prev_comps\": \"add_train_audio_from_prev_comps\",\n",
    "        \"add_train_audio_from_xeno_canto_28032025\": \"add_train_audio_from_xeno_canto_28032025\",\n",
    "        \"soundscape_0\": \"train_features_soundscapes\",\n",
    "        \"soundscape_1\": \"train_features_soundscapes\",\n",
    "        \"add_train_audio_andrii_generated_undersample\": \"add_train_audio_andrii_generated_undersample\"\n",
    "    },\n",
    "    ignore_setting_dataset_value=True,\n",
    "    # add_df_paths=[\n",
    "    #     \"/gpfs/space/projects/BetterMedicine/volodymyr1/exps/bird_clef_2025/kaggle_datasets/andrii_generated_data/andrii_meta_filtered_limited.csv\"\n",
    "    # ]\n",
    "    soundscape_pseudo_df_path=[\n",
    "        \"../data/pseudo/eca_124__eca_117__eca_112__eca_118__eca_113__ebs_123__eca_120__eca_121/v0_0.csv\",\n",
    "        \"../data/pseudo/eca_nfnet_l0_Exp_noamp_64bs_5sec_mixupP05_RandomFiltering_SqrtBalancing_Radamlr1e3_CosBatchLR1e6_Epoch50_BackGroundSoundScapeORESC50P05_SpecAugV1_FocalBCELoss_LSF1005_5Folds_ScoredPrevCompsAndXCsnipet28032025_FromV2Y2025Last_PseudoF1PT05MT01P04/v0_0.csv\",\n",
    "    ],\n",
    "    soundscape_pseudo_config={\n",
    "        \"primary_label_min_prob\": 0.5,\n",
    "        \"trim_min_prob\": 0.1,\n",
    "        \"sampling_prob\": 0.4\n",
    "    },\n",
    "    # do_mixup=True,\n",
    "    # mixup_params={\"prob\": 0.5, \"alpha\": None, \"target_aggregation\": \"max\"},\n",
    "    # label_smoothing=0.05\n",
    "    # curation_json_path=\"../data/train_data_curation_10042025_sr32K.json\"\n",
    ")"
   ]
  },
  {
   "cell_type": "code",
   "execution_count": null,
   "id": "df81c4f8-560d-4c99-9fd9-32e0cde55b38",
   "metadata": {},
   "outputs": [],
   "source": [
    "train_dataset_without_cur.df[\"data_root_id\"].value_counts()"
   ]
  },
  {
   "cell_type": "code",
   "execution_count": null,
   "id": "2e7d3c21-73c8-4782-ab6f-4027067fa93f",
   "metadata": {},
   "outputs": [],
   "source": [
    "train_dataset_without_cur.soundscape_df[\"data_root_id\"].value_counts()"
   ]
  },
  {
   "cell_type": "code",
   "execution_count": null,
   "id": "1bc05c66-64e6-431d-b5a0-f2ae60d30933",
   "metadata": {},
   "outputs": [],
   "source": [
    "train_dataset_without_cur.soundscape_df[\"primary_label\"].value_counts()"
   ]
  },
  {
   "cell_type": "code",
   "execution_count": null,
   "id": "3076768b-42d2-42f1-807a-97002afaa3c6",
   "metadata": {},
   "outputs": [],
   "source": [
    "train_dataset_without_cur[np.random.randint(0, len(train_dataset_without_cur))]"
   ]
  },
  {
   "cell_type": "code",
   "execution_count": null,
   "id": "89800530-c88d-49e3-a69d-70778fe94c6a",
   "metadata": {},
   "outputs": [],
   "source": [
    "sample_idx = np.random.choice(np.where(train_dataset_without_cur.df[\"data_root_id\"] == \"add_train_audio_andrii_generated_undersample\")[0])"
   ]
  },
  {
   "cell_type": "code",
   "execution_count": null,
   "id": "9f37e113-f2d8-477d-bba6-a6517a8701fe",
   "metadata": {},
   "outputs": [],
   "source": [
    "sample_idx = np.random.choice(np.where(train_dataset_without_cur.df[\"data_root_id\"] == \"add_train_audio_andrii_generated_undersample\")[0])\n",
    "\n",
    "au, target = train_dataset_without_cur[sample_idx]"
   ]
  },
  {
   "cell_type": "code",
   "execution_count": null,
   "id": "adc55434-ddd2-46d3-aa2f-7b9a4be94162",
   "metadata": {},
   "outputs": [],
   "source": [
    "ipd.Audio(au, rate=22050)"
   ]
  },
  {
   "cell_type": "code",
   "execution_count": null,
   "id": "0e8a3bdd-fc57-4af8-8183-dbcf1a31c0b3",
   "metadata": {},
   "outputs": [],
   "source": [
    "train_dataset_without_cur.df[train_dataset_without_cur.df[\"primary_label\"].isin(train_dataset_without_cur.soundscape_df[\"primary_label\"])]"
   ]
  },
  {
   "cell_type": "code",
   "execution_count": null,
   "id": "0f324f34-2723-4368-bb20-5fe937f3b785",
   "metadata": {},
   "outputs": [],
   "source": [
    "train_dataset_without_cur[1000][0].shape[0] / 32000"
   ]
  },
  {
   "cell_type": "code",
   "execution_count": null,
   "id": "9d9b08b6-e523-4aff-9405-8d1bb8eba840",
   "metadata": {},
   "outputs": [],
   "source": [
    "boundaries = load_json(\n",
    "    \"../data/train_data_curation_10042025_sr32K.json\"\n",
    ")"
   ]
  },
  {
   "cell_type": "code",
   "execution_count": null,
   "id": "57542adb-31fb-43a8-a49a-3aa21e84e15c",
   "metadata": {},
   "outputs": [],
   "source": [
    "boundaries[\"blkvul/XC143654\"][1] / 32000"
   ]
  },
  {
   "cell_type": "code",
   "execution_count": null,
   "id": "e65555fd-73f3-4053-875e-7f891b1894d8",
   "metadata": {},
   "outputs": [],
   "source": [
    "for key, value in boundaries.items():\n",
    "    if value[-1] == -1:\n",
    "        print(key)"
   ]
  },
  {
   "cell_type": "code",
   "execution_count": null,
   "id": "9175e7e8-58d3-41bc-acd2-bade8e3b91f6",
   "metadata": {},
   "outputs": [],
   "source": [
    "boundaries[\"21211/XC882652\"]"
   ]
  },
  {
   "cell_type": "code",
   "execution_count": null,
   "id": "21c4e11a-ed42-4db4-9445-2031e027e5a1",
   "metadata": {},
   "outputs": [],
   "source": []
  },
  {
   "cell_type": "code",
   "execution_count": null,
   "id": "f073be8e-a358-4b32-beae-bbc576050eba",
   "metadata": {},
   "outputs": [],
   "source": [
    "train_dataset.df[\"filename_with_root\"].iloc[0]"
   ]
  },
  {
   "cell_type": "code",
   "execution_count": null,
   "id": "4cdafec5-660e-4821-9aaf-a910db03858e",
   "metadata": {},
   "outputs": [],
   "source": [
    "train_dataset.df[\"stratify_col\"].isna().sum()"
   ]
  },
  {
   "cell_type": "code",
   "execution_count": null,
   "id": "19adf69e-e0d6-467b-be18-424a92ff40be",
   "metadata": {},
   "outputs": [],
   "source": [
    "not_base_df = train_dataset.df[train_dataset.df[\"dataset\"] != \"base\"].reset_index(drop=True)"
   ]
  },
  {
   "cell_type": "code",
   "execution_count": null,
   "id": "592238b8-45a5-4ee2-b095-b17aa6a96f74",
   "metadata": {},
   "outputs": [],
   "source": [
    "for fname in tqdm(not_base_df[\"filename_with_root\"].to_list()):\n",
    "    try:\n",
    "        copyfile(\n",
    "            fname, \n",
    "            os.path.join(\"/home/vova/data/exps/birdclef_2024/kaggle_datasets/bird_clef_2024_add_data/scored_add_data\", os.path.basename(fname))\n",
    "        )\n",
    "    except Exception as e:\n",
    "        fname = fname.replace(\".ogg\", \".mp3\")\n",
    "        copyfile(\n",
    "            fname, \n",
    "            os.path.join(\"/home/vova/data/exps/birdclef_2024/kaggle_datasets/bird_clef_2024_add_data/scored_add_data\", os.path.basename(fname))\n",
    "        )"
   ]
  },
  {
   "cell_type": "code",
   "execution_count": null,
   "id": "a7918a02-c787-4c51-b28a-d725b028337b",
   "metadata": {},
   "outputs": [],
   "source": [
    "id2bird = {v:k for k,v in train_dataset.label_str2int.items()}"
   ]
  },
  {
   "cell_type": "code",
   "execution_count": null,
   "id": "528c4b0b-514f-4e22-9042-1e934967402b",
   "metadata": {},
   "outputs": [],
   "source": [
    "len(set(train_dataset.df[\"primary_label\"]))"
   ]
  },
  {
   "cell_type": "code",
   "execution_count": null,
   "id": "3afa8151-ef4d-4578-b0bd-7c2a8d334cc9",
   "metadata": {},
   "outputs": [],
   "source": [
    "set(scored_birds) == set(train_dataset.df[\"primary_label\"])"
   ]
  },
  {
   "cell_type": "code",
   "execution_count": null,
   "id": "dff9c724-c6e3-44bd-93ad-2cdaf7ced858",
   "metadata": {},
   "outputs": [],
   "source": [
    "train_dataset.df[\"dataset\"].value_counts(normalize=True)"
   ]
  },
  {
   "cell_type": "code",
   "execution_count": null,
   "id": "20aa23fb-1b55-474e-9995-00f724baddaa",
   "metadata": {},
   "outputs": [],
   "source": [
    "train_dataset.df[train_dataset.df[\"dataset\"] == \"soundscape\"]"
   ]
  },
  {
   "cell_type": "code",
   "execution_count": null,
   "id": "d98a6175-d275-4874-a1d7-26ce5cf933c3",
   "metadata": {},
   "outputs": [],
   "source": [
    "train_dataset.df[train_dataset.df.duration_s <= 5]"
   ]
  },
  {
   "cell_type": "code",
   "execution_count": null,
   "id": "6ae7f9e3-5d0c-46f1-af92-7072dd071980",
   "metadata": {},
   "outputs": [],
   "source": [
    "train_dataset.df.duration_s.median()"
   ]
  },
  {
   "cell_type": "code",
   "execution_count": null,
   "id": "ac9e007b-3e07-499f-bb4c-92da818d4413",
   "metadata": {},
   "outputs": [],
   "source": [
    "np.quantile(train_dataset.df.duration_s, 0.85)"
   ]
  },
  {
   "cell_type": "code",
   "execution_count": null,
   "id": "cf316409-0ad8-4e2d-8f7c-404221bcd3ce",
   "metadata": {},
   "outputs": [],
   "source": [
    "train_dataset.df.duration_s.hist(bins=30)"
   ]
  },
  {
   "cell_type": "code",
   "execution_count": null,
   "id": "18e056d4-97e2-4c4b-8b7f-f6b0f8c204f9",
   "metadata": {},
   "outputs": [],
   "source": [
    "train_dataset.df[train_dataset.df[\"dataset\"] == \"soundscape\"]"
   ]
  },
  {
   "cell_type": "code",
   "execution_count": null,
   "id": "9d61264b-c10b-4207-8a26-60c4c80a5cca",
   "metadata": {},
   "outputs": [],
   "source": [
    "df.shape[0] / len(train_dataset), len(train_dataset)"
   ]
  },
  {
   "cell_type": "code",
   "execution_count": null,
   "id": "a0fbf92e-0f9e-4e1d-b608-89b07449fd39",
   "metadata": {},
   "outputs": [],
   "source": [
    "train_dataset[35530]"
   ]
  },
  {
   "cell_type": "code",
   "execution_count": null,
   "id": "b502bb7f-8440-4269-97ef-45c249ec89d5",
   "metadata": {},
   "outputs": [],
   "source": [
    "len(train_dataset), len(train_dataset_ss), len(merged_dataset)"
   ]
  },
  {
   "cell_type": "code",
   "execution_count": null,
   "id": "ab211ac0-4d49-4bd5-8992-64fbfef3629c",
   "metadata": {},
   "outputs": [],
   "source": [
    "pd.Series(train_dataset.targets).value_counts()"
   ]
  },
  {
   "cell_type": "code",
   "execution_count": null,
   "id": "ac56c009-9404-4f35-8ee6-1ffc7b1f4f0d",
   "metadata": {},
   "outputs": [],
   "source": [
    "all_tgts = pd.Series(train_dataset.targets)\n",
    "sample_weights = (all_tgts.value_counts() / all_tgts.value_counts().sum())  ** (-0.5)\n",
    "write_json(\n",
    "    \"/home/vova/data/exps/birdclef_2024/sample_weights/sw_2024_v1_pseudov1_StratV2.json\",\n",
    "    sample_weights.to_dict()\n",
    ")"
   ]
  },
  {
   "cell_type": "code",
   "execution_count": null,
   "id": "15176218-d065-4276-acb2-0f349fe79145",
   "metadata": {},
   "outputs": [],
   "source": [
    "# all_tgts = pd.Series(list(chain(*[ds.targets for ds in merged_dataset.datasets])))\n",
    "# sample_weights = (all_tgts.value_counts() / all_tgts.value_counts().sum())  ** (-0.5)\n",
    "# write_json(\n",
    "#     \"/home/vova/data/exps/birdclef_2024/sample_weights/sw_2024_add_data_v1_with_nocall.json\",\n",
    "#     sample_weights.to_dict()\n",
    "# )"
   ]
  },
  {
   "cell_type": "code",
   "execution_count": null,
   "id": "a2f44837-6e47-46e4-9eb2-b3c2b55dea18",
   "metadata": {},
   "outputs": [],
   "source": [
    "class_weights = load_json(\"/home/vova/data/exps/birdclef_2024/sample_weights/sw_2024_add_data_v1_with_nocall.json\")\n",
    "sample_weights = np.array([\n",
    "    class_weights[el] for el in list(chain(*[ds.targets for ds in merged_dataset.datasets]))\n",
    "])\n",
    "sampler = torch.utils.data.WeightedRandomSampler(sample_weights, len(sample_weights))"
   ]
  },
  {
   "cell_type": "code",
   "execution_count": null,
   "id": "08860b68-d21f-45df-9f1b-8c78d44b9622",
   "metadata": {},
   "outputs": [],
   "source": [
    "def worker_init_fn(worker_id):\n",
    "    np.random.seed(np.random.get_state()[1][0] + worker_id)\n",
    "\n",
    "loader = torch.utils.data.DataLoader(\n",
    "    merged_dataset,\n",
    "    worker_init_fn=worker_init_fn,\n",
    "    sampler=sampler,\n",
    "    **{\n",
    "        \"batch_size\": 64,\n",
    "        \"shuffle\": False,\n",
    "        \"drop_last\": True,\n",
    "        \"num_workers\": 0,\n",
    "        \"pin_memory\": True,\n",
    "    },\n",
    ")"
   ]
  },
  {
   "cell_type": "code",
   "execution_count": null,
   "id": "e568e053-f0f5-41ae-83fb-845586f9adec",
   "metadata": {},
   "outputs": [],
   "source": [
    "len(loader)"
   ]
  },
  {
   "cell_type": "code",
   "execution_count": null,
   "id": "628e29ac-9d1b-4a29-9ad9-fd540369b8c8",
   "metadata": {},
   "outputs": [],
   "source": [
    "\n",
    "for idx, b in enumerate(loader):\n",
    "    print(f\"Empty Fraction: {(b[1].sum(axis=1) == 0).sum() / b[1].shape[0]}\")\n",
    "    if idx > 10:\n",
    "        break"
   ]
  },
  {
   "cell_type": "code",
   "execution_count": null,
   "id": "f1ea858c-1ec1-4a0f-b9d9-de5a81a8a99f",
   "metadata": {},
   "outputs": [],
   "source": [
    "(batch[1].sum(axis=1) == 0).sum() / batch[1].shape[0]"
   ]
  },
  {
   "cell_type": "code",
   "execution_count": null,
   "id": "13133f74-6abc-488d-b855-bc6643358e99",
   "metadata": {},
   "outputs": [],
   "source": [
    "au, tgt = train_dataset_ss[0]"
   ]
  },
  {
   "cell_type": "code",
   "execution_count": null,
   "id": "85e2b96d-7dd1-448f-be55-f08961edda88",
   "metadata": {},
   "outputs": [],
   "source": [
    "np.abs(au).max(), tgt.sum()"
   ]
  },
  {
   "cell_type": "code",
   "execution_count": null,
   "id": "3002ced9-8be9-4334-9823-0d55d9d4a8d3",
   "metadata": {},
   "outputs": [],
   "source": [
    "train_dataset_full[0][0].min()"
   ]
  },
  {
   "cell_type": "code",
   "execution_count": null,
   "id": "0108a81d-0d53-40dd-a0a8-eea050a44756",
   "metadata": {},
   "outputs": [],
   "source": [
    "train_dataset_full.test_audio_cache[\"au\"].min()"
   ]
  },
  {
   "cell_type": "code",
   "execution_count": null,
   "id": "f4a80cb4-ecff-4671-9b1e-3ac60a62cd7f",
   "metadata": {},
   "outputs": [],
   "source": [
    "sorted(set(train_dataset.df[\"primary_label\"]))"
   ]
  },
  {
   "cell_type": "code",
   "execution_count": null,
   "id": "f809ab6e-f430-4287-9cb4-73cce7b73f3b",
   "metadata": {},
   "outputs": [],
   "source": [
    "train_dataset.df.loc[train_dataset.df[\"dataset\"] == \"xc_2024_classes\", \"primary_label\"].value_counts()"
   ]
  },
  {
   "cell_type": "code",
   "execution_count": null,
   "id": "08f2a4b5-91db-4eff-82db-9625dc22627d",
   "metadata": {},
   "outputs": [],
   "source": [
    "taxonomy"
   ]
  },
  {
   "cell_type": "code",
   "execution_count": null,
   "id": "bebd56b2-8a14-489f-bcae-defe6a8ab2ca",
   "metadata": {},
   "outputs": [],
   "source": [
    "taxonomy[taxonomy[\"PRIMARY_COM_NAME\"].apply(lambda x: x.startswith(\"Intermediate Egret\"))]"
   ]
  },
  {
   "cell_type": "code",
   "execution_count": null,
   "id": "a9bb5923-f52e-42ef-95e3-16033e177bd7",
   "metadata": {},
   "outputs": [],
   "source": [
    "train_dataset.df[(train_dataset.df[\"dataset\"] == \"xc_2024_classes\") & (train_dataset.df[\"primary_label\"] == \"integr\")]"
   ]
  },
  {
   "cell_type": "code",
   "execution_count": null,
   "id": "84e5e2a6-1468-48c9-908b-997353c965ba",
   "metadata": {},
   "outputs": [],
   "source": [
    "# train_dataset.df[train_dataset.df.primary_label == \"brnfio1\"]"
   ]
  },
  {
   "cell_type": "code",
   "execution_count": null,
   "id": "5a8ee827-5773-4e66-a0d9-f87a4e4d12e9",
   "metadata": {},
   "outputs": [],
   "source": [
    "train_dataset.df[(train_dataset.df[\"dataset\"] == \"base\") & (train_dataset.df[\"primary_label\"] == \"integr\")]"
   ]
  },
  {
   "cell_type": "code",
   "execution_count": null,
   "id": "a1f09ce3-97df-4410-953f-07c0124970d8",
   "metadata": {},
   "outputs": [],
   "source": []
  },
  {
   "cell_type": "code",
   "execution_count": null,
   "id": "c2fad9f7-0ede-471f-9ae8-7309807c50d8",
   "metadata": {},
   "outputs": [],
   "source": [
    "train_dataset.label_str2int[\"asbfly\"]"
   ]
  },
  {
   "cell_type": "code",
   "execution_count": null,
   "id": "08a3d40b-a654-4ba4-8612-79f2f7cf147b",
   "metadata": {},
   "outputs": [],
   "source": [
    "torch.where(train_dataset[22][1] > 0)[0]"
   ]
  },
  {
   "cell_type": "code",
   "execution_count": null,
   "id": "6da3ae01-8d86-4085-b42b-4fbe7a7df15d",
   "metadata": {},
   "outputs": [],
   "source": [
    "train_dataset.df[\"filename_with_root\"].apply(os.path.exists).all()"
   ]
  },
  {
   "cell_type": "code",
   "execution_count": null,
   "id": "fcffe0c1-8c07-4c90-96b0-13c72a9d257b",
   "metadata": {},
   "outputs": [],
   "source": [
    "train_dataset.df.shape"
   ]
  },
  {
   "cell_type": "code",
   "execution_count": null,
   "id": "8db0cf1e-cc09-4319-93b6-b5c938706236",
   "metadata": {},
   "outputs": [],
   "source": [
    "vc = train_dataset.df[\"url\"].apply(lambda x: x.split(\"/\")[-1]).value_counts()"
   ]
  },
  {
   "cell_type": "code",
   "execution_count": null,
   "id": "ba73e0a5-469b-4c0f-8827-06b5cf8bc1a6",
   "metadata": {},
   "outputs": [],
   "source": [
    "train_dataset.df[]"
   ]
  },
  {
   "cell_type": "code",
   "execution_count": null,
   "id": "a153cf6a-f140-41f9-af9b-5d41f3d478c9",
   "metadata": {},
   "outputs": [],
   "source": [
    "train_dataset.df[train_dataset.df[\"url\"].apply(lambda x: x.split(\"/\")[-1]).isin(vc[vc > 1].index)].sort_values(\"url\")"
   ]
  },
  {
   "cell_type": "code",
   "execution_count": null,
   "id": "84d7cf3d-1dc4-49ae-b816-0009689abe94",
   "metadata": {},
   "outputs": [],
   "source": [
    "sample_au, target_au = train_dataset[1000]"
   ]
  },
  {
   "cell_type": "code",
   "execution_count": null,
   "id": "09ed9960-3304-4c10-bf2a-efffcb1a1e0a",
   "metadata": {},
   "outputs": [],
   "source": [
    "sample_au.min(), sample_au.max()"
   ]
  },
  {
   "cell_type": "code",
   "execution_count": null,
   "id": "1dc7cd71-c9b0-434c-a2d1-e7f7c3de4897",
   "metadata": {},
   "outputs": [],
   "source": [
    "df[df[\"primary_label\"] == \"comtai1\"].url"
   ]
  },
  {
   "cell_type": "code",
   "execution_count": null,
   "id": "488de4f8-b4f2-43fb-80fb-47f1810dcff2",
   "metadata": {},
   "outputs": [],
   "source": [
    "sample_weights = pd.Series(load_json(\"/home/vova/data/exps/birdclef_2024/sample_weights/sw_2024_add_data_v1.json\"))"
   ]
  },
  {
   "cell_type": "code",
   "execution_count": null,
   "id": "c2dcb4d1-75dc-40fd-a5ab-3c81352b0471",
   "metadata": {},
   "outputs": [],
   "source": [
    "sample_weights"
   ]
  },
  {
   "cell_type": "code",
   "execution_count": null,
   "id": "a0f31413-090d-4366-a34d-f02fc202890d",
   "metadata": {},
   "outputs": [],
   "source": [
    "sampled_birds = []\n",
    "for _ in tqdm(range(1000)):\n",
    "    sample_au, target_au = train_dataset[0]\n",
    "    sampled_birds.extend([id2bird[el] for el in np.where(target_au > 0)[0]])"
   ]
  },
  {
   "cell_type": "code",
   "execution_count": null,
   "id": "f4e4a0ab-370b-4a6b-8e22-7b402bd4d985",
   "metadata": {},
   "outputs": [],
   "source": [
    "pd.Series(sampled_birds).value_counts().iloc[1:20]"
   ]
  },
  {
   "cell_type": "code",
   "execution_count": null,
   "id": "3ad9a3d5-5f88-4d8c-9e1a-6b0f196d1499",
   "metadata": {},
   "outputs": [],
   "source": [
    "train_dataset.df.primary_label.value_counts().iloc[1:20]"
   ]
  },
  {
   "cell_type": "code",
   "execution_count": null,
   "id": "a9c810bc-62d2-49da-9949-68ec157c5377",
   "metadata": {},
   "outputs": [],
   "source": [
    "train_dataset.df[\"label_second\"]"
   ]
  },
  {
   "cell_type": "code",
   "execution_count": null,
   "id": "2be55678-9982-4520-b278-9e0609183abb",
   "metadata": {},
   "outputs": [],
   "source": [
    "train_dataset.df[train_dataset.df[\"label_second\"].apply(lambda x: len(set(chain(*[el[-1] for el in x])))) > 1]"
   ]
  },
  {
   "cell_type": "code",
   "execution_count": null,
   "id": "ab6066ab-69f8-4521-b7bc-deb0d40cc561",
   "metadata": {},
   "outputs": [],
   "source": [
    "train_dataset.df[\n",
    "    (train_dataset.df[\"label_second\"].apply(lambda x: x[-1][1] - x[-1][0]) < 2.5) &\n",
    "    (train_dataset.df[\"label_second\"].apply(len) == 1) &\n",
    "    (train_dataset.df[\"duration_s\"] > 5)\n",
    "]"
   ]
  },
  {
   "cell_type": "code",
   "execution_count": null,
   "id": "2f0afddd-253f-467f-8b18-6d738948b35a",
   "metadata": {},
   "outputs": [],
   "source": [
    "train_dataset.df[train_dataset.df[\"duration_s\"] < 5]"
   ]
  },
  {
   "cell_type": "code",
   "execution_count": null,
   "id": "ea5e3411-13b1-4bf1-a850-e65214c0754a",
   "metadata": {},
   "outputs": [],
   "source": [
    "int((27.35021875 - 5) * 32000)"
   ]
  },
  {
   "cell_type": "code",
   "execution_count": null,
   "id": "dc8df22b-4459-432e-9abb-2ebf7f92f029",
   "metadata": {},
   "outputs": [],
   "source": [
    "(33.64571875 - 5) * 32000"
   ]
  },
  {
   "cell_type": "code",
   "execution_count": null,
   "id": "7efc13e6-d7f5-4e67-b0b3-da76ea7aefd0",
   "metadata": {},
   "outputs": [],
   "source": [
    "(30 - 2.5) * 32000"
   ]
  },
  {
   "cell_type": "code",
   "execution_count": null,
   "id": "b36d653f-bb00-4b57-bc8f-e3d7dc457e29",
   "metadata": {},
   "outputs": [],
   "source": [
    "train_dataset.df[train_dataset.df.duration_s <= 5]"
   ]
  },
  {
   "cell_type": "code",
   "execution_count": null,
   "id": "455ccab1-1515-4887-b51e-9fc9570cfafb",
   "metadata": {},
   "outputs": [],
   "source": [
    "mel_spec_paramms={\n",
    "    \"sample_rate\": 32000,\n",
    "    \"n_mels\": 128,\n",
    "    \"f_min\": 20,\n",
    "    \"n_fft\": 2048,\n",
    "    \"hop_length\": 512,\n",
    "    \"normalized\": True,\n",
    "}\n",
    "mel_spec = nn.Sequential(\n",
    "    TraceableMelspec(**mel_spec_paramms, quantizable=False),\n",
    "    AmplitudeToDB(top_db=80.0),\n",
    "    NormalizeMelSpec(exportable=True),\n",
    ")\n",
    "mel_spec_new = nn.Sequential(\n",
    "    TraceableMelspec(**mel_spec_paramms, quantizable=False),\n",
    "    ChannelAgnosticAmplitudeToDB(top_db=80.0),\n",
    "    NormalizeMelSpec(exportable=True),\n",
    ")"
   ]
  },
  {
   "cell_type": "code",
   "execution_count": null,
   "id": "1eacb594-fe1f-492e-ae46-7dac1b20d2e0",
   "metadata": {},
   "outputs": [],
   "source": [
    "train_dataset.df.loc[train_dataset.df[\"dataset\"] == \"soundscape\", \"primary_label\"].value_counts().head(20)"
   ]
  },
  {
   "cell_type": "code",
   "execution_count": null,
   "id": "f1322932-2461-4933-8bca-c9213ed55ca7",
   "metadata": {},
   "outputs": [],
   "source": [
    "train_dataset.df[\n",
    "    (train_dataset.df[\"primary_label\"] == \"whcbar1\") &\n",
    "    (train_dataset.df[\"dataset\"] != \"soundscape\")\n",
    "]"
   ]
  },
  {
   "cell_type": "code",
   "execution_count": null,
   "id": "4ad7bc82-b943-4bba-bb01-d51169926be6",
   "metadata": {},
   "outputs": [],
   "source": [
    "class_name = \"brcful1\""
   ]
  },
  {
   "cell_type": "code",
   "execution_count": null,
   "id": "977e1369-7220-4fb2-b69f-738bebaa0c0d",
   "metadata": {},
   "outputs": [],
   "source": [
    "target_au"
   ]
  },
  {
   "cell_type": "code",
   "execution_count": null,
   "id": "881552bc-0205-4914-9cc5-c1157d72473e",
   "metadata": {},
   "outputs": [],
   "source": [
    "# sample_au, target_au = train_dataset[0]\n",
    "# sample_id = np.random.randint(0, len(train_dataset))\n",
    "sample_id = 9831 #np.random.choice(train_dataset.df[\n",
    "#     (train_dataset.df[\"primary_label\"] == class_name) &\n",
    "#     (train_dataset.df[\"dataset\"] == \"soundscape\")\n",
    "# ].index)\n",
    "print(\"Sample ID\", sample_id)\n",
    "sample_au, target_au, sample_au_unlabeled = train_dataset[sample_id]\n",
    "\n",
    "print(\"Target IDS:\", np.where(target_au > 0)[0])\n",
    "print(\"Birds: \", [id2bird[el] for el in np.where(target_au > 0)[0]])\n",
    "\n",
    "# plt.figure(figsize=(20,10))\n",
    "spec = mel_spec(torch.from_numpy((sample_au))[None,...]) \n",
    "plt.imshow(spec[0])\n",
    "plt.show()\n",
    "\n",
    "spec_unlabeled = mel_spec(torch.from_numpy((sample_au_unlabeled))[None,...]) \n",
    "plt.imshow(spec_unlabeled[0])\n",
    "plt.show()\n",
    "\n",
    "ipd.Audio(sample_au, rate=32000)"
   ]
  },
  {
   "cell_type": "code",
   "execution_count": null,
   "id": "66f913b3-1d9d-4653-9299-d53cebf9777f",
   "metadata": {},
   "outputs": [],
   "source": [
    "ipd.Audio(sample_au_unlabeled, rate=32000)"
   ]
  },
  {
   "cell_type": "code",
   "execution_count": null,
   "id": "a56a7d1c-cb0c-4605-9508-9653c9353031",
   "metadata": {},
   "outputs": [],
   "source": [
    "plt.hist(spec.flatten(), bins=30);"
   ]
  },
  {
   "cell_type": "code",
   "execution_count": null,
   "id": "6acfd065-c0c4-4692-a7e0-66d97a35791e",
   "metadata": {},
   "outputs": [],
   "source": [
    "160000.0"
   ]
  },
  {
   "cell_type": "code",
   "execution_count": null,
   "id": "4a9c085d-9adb-41f4-86f3-7b5e3e6ef71e",
   "metadata": {},
   "outputs": [],
   "source": [
    "# sample_au, target_au = train_dataset[0]\n",
    "# sample_id = np.random.randint(0, len(train_dataset))\n",
    "sample_id = 9831 #np.random.choice(train_dataset.df[\n",
    "#     (train_dataset.df[\"primary_label\"] == class_name) &\n",
    "#     (train_dataset.df[\"dataset\"] == \"soundscape\")\n",
    "# ].index)\n",
    "print(\"Sample ID\", sample_id)\n",
    "sample_au, target_au, mask = train_dataset[sample_id]\n",
    "\n",
    "print(mask)\n",
    "\n",
    "print(\"Target IDS:\", np.where(target_au > 0)[0])\n",
    "print(\"Birds: \", [id2bird[el] for el in np.where(target_au > 0)[0]])\n",
    "\n",
    "# plt.figure(figsize=(20,10))\n",
    "spec = mel_spec(torch.from_numpy((sample_au))[None,...]) \n",
    "plt.imshow(spec[0])\n",
    "plt.show()\n",
    "\n",
    "ipd.Audio(sample_au, rate=32000)"
   ]
  },
  {
   "cell_type": "code",
   "execution_count": null,
   "id": "86e769c5-1e6e-4ade-a8ec-3c5fb2d22da1",
   "metadata": {},
   "outputs": [],
   "source": [
    "torch.all(target_au == mask)"
   ]
  },
  {
   "cell_type": "code",
   "execution_count": null,
   "id": "a8b0cc2b-78d0-4e72-80b0-4d20d46c92d4",
   "metadata": {},
   "outputs": [],
   "source": [
    "# sample_au, target_au = train_dataset[0]\n",
    "sample_id = 3770 #np.random.choice(train_dataset.df[\n",
    "#     (train_dataset.df[\"primary_label\"] == class_name) &\n",
    "#     (train_dataset.df[\"dataset\"] != \"soundscape\")\n",
    "# ].index)\n",
    "print(\"Sample ID\", sample_id)\n",
    "sample_au, target_au = train_dataset[sample_id]\n",
    "\n",
    "print(\"Target IDS:\", np.where(target_au > 0)[0])\n",
    "print(\"Birds: \", [id2bird[el] for el in np.where(target_au > 0)[0]])\n",
    "\n",
    "# plt.figure(figsize=(20,10))\n",
    "spec = mel_spec(torch.from_numpy((sample_au))[None,...]) #** 0.6080866059834527\n",
    "plt.imshow(spec[0])\n",
    "plt.show()\n",
    "\n",
    "ipd.Audio(sample_au, rate=32000)"
   ]
  },
  {
   "cell_type": "code",
   "execution_count": null,
   "id": "3d543817-596b-4a86-9b37-0773773d294c",
   "metadata": {},
   "outputs": [],
   "source": [
    "(spec - spec_new).abs().amax(axis=(1,2))"
   ]
  },
  {
   "cell_type": "code",
   "execution_count": null,
   "id": "2e05a520-63e3-4010-887a-4cd727b38b86",
   "metadata": {},
   "outputs": [],
   "source": [
    "target_au"
   ]
  },
  {
   "cell_type": "code",
   "execution_count": null,
   "id": "89ff4bee-0af6-487f-bd90-22a0c0079142",
   "metadata": {},
   "outputs": [],
   "source": [
    "sample_au_full, sample_sr_full = librosa.load(\n",
    "    train_dataset.df[\"filename_with_root\"].iloc[sample_id].replace(\"train_features\", \"train_audio\").replace(\".hdf5\", \".ogg\"),\n",
    "    sr=None\n",
    ")\n",
    "plt.imshow(mel_spec(torch.from_numpy(sample_au_full[2097528:2097528 + 5*32000])[None,...])[0])"
   ]
  },
  {
   "cell_type": "code",
   "execution_count": null,
   "id": "d85564af-3700-4a9f-80dd-887c364238f9",
   "metadata": {},
   "outputs": [],
   "source": [
    "np.allclose(sample_au, librosa.util.normalize(sample_au_full[2097528:2097528 + 5*32000]))"
   ]
  },
  {
   "cell_type": "code",
   "execution_count": null,
   "id": "c0e1cf68-d647-42a5-886f-ff4d61c8dddc",
   "metadata": {},
   "outputs": [],
   "source": [
    "sample_au.shape"
   ]
  },
  {
   "cell_type": "code",
   "execution_count": null,
   "id": "6fdfbf35-938a-4d56-bf69-6c271023424d",
   "metadata": {},
   "outputs": [],
   "source": [
    "sample_au[:sample_sr*,]"
   ]
  },
  {
   "cell_type": "code",
   "execution_count": null,
   "id": "4013ba67-c808-4afe-bfc5-25ea1b2ed3cd",
   "metadata": {},
   "outputs": [],
   "source": [
    "np.abs(sample_au).max()"
   ]
  },
  {
   "cell_type": "code",
   "execution_count": null,
   "id": "6d53dfa6-46e0-46a8-bb08-f40eb1e77ced",
   "metadata": {},
   "outputs": [],
   "source": [
    "ipd.Audio(sample_au, rate=32000)"
   ]
  },
  {
   "cell_type": "code",
   "execution_count": null,
   "id": "154b42db-600f-4a70-9379-c75073160963",
   "metadata": {},
   "outputs": [],
   "source": [
    "# sample_au, target_au = train_dataset[0]\n",
    "sample_au, target_au = train_dataset[35706]\n",
    "\n",
    "plt.figure(figsize=(20,10))\n",
    "spec = mel_spec(torch.from_numpy(sample_au)[None,...])\n",
    "plt.imshow(spec[0])\n",
    "plt.show()"
   ]
  },
  {
   "cell_type": "code",
   "execution_count": null,
   "id": "5b49eee7-a044-4e73-9d82-64b2a8e3d1bc",
   "metadata": {},
   "outputs": [],
   "source": [
    "ipd.Audio(sample_au, rate=32000)"
   ]
  },
  {
   "cell_type": "code",
   "execution_count": null,
   "id": "90bda8ae-fc63-48ea-b6e4-5203df37337e",
   "metadata": {},
   "outputs": [],
   "source": [
    "check_labels = torch.stack([train_dataset_full[idx][1] for idx in range(990,990+30)])"
   ]
  },
  {
   "cell_type": "code",
   "execution_count": null,
   "id": "25dd128a-7e72-4455-90d7-523b2169a59f",
   "metadata": {},
   "outputs": [],
   "source": [
    "torch.where(check_labels > 0)[1]"
   ]
  },
  {
   "cell_type": "code",
   "execution_count": null,
   "id": "e5c4b14a-10a9-4fe4-95f0-c989b7db2ae5",
   "metadata": {},
   "outputs": [],
   "source": [
    "train_dataset_full.df.iloc[120]"
   ]
  },
  {
   "cell_type": "code",
   "execution_count": null,
   "id": "e6014eb3-8006-4e44-86ab-bd635c1afcf1",
   "metadata": {},
   "outputs": [],
   "source": [
    "train_dataset_full.sampleidx_2_dfidx[991]"
   ]
  },
  {
   "cell_type": "code",
   "execution_count": null,
   "id": "681bb303-d39c-4c05-8b96-0959332838ca",
   "metadata": {},
   "outputs": [],
   "source": [
    "original_sample = librosa.load(\"/home/vova/data/exps/birdclef_2024/birdclef_2024/train_audio/asbfly/XC134896.ogg\", sr=32000)[0]"
   ]
  },
  {
   "cell_type": "code",
   "execution_count": null,
   "id": "21977b64-2b23-49df-9e4b-28f4f888970e",
   "metadata": {},
   "outputs": [],
   "source": [
    "librosa.util.normalize(original_sample[:32000*5])"
   ]
  },
  {
   "cell_type": "code",
   "execution_count": null,
   "id": "8a162c8e-96bd-4036-b407-1f2044c3be65",
   "metadata": {},
   "outputs": [],
   "source": [
    "full_sample_au, full_target_au, dfidx, start, end = train_dataset_full[1]"
   ]
  },
  {
   "cell_type": "code",
   "execution_count": null,
   "id": "0ea43356-2cd1-4280-aa9d-79173d91f012",
   "metadata": {},
   "outputs": [],
   "source": [
    "np.allclose(full_sample_au, librosa.util.normalize(original_sample[32000*5:32000*10]))"
   ]
  },
  {
   "cell_type": "code",
   "execution_count": null,
   "id": "71559658-d821-4c18-8806-fe6887c3d6a8",
   "metadata": {},
   "outputs": [],
   "source": [
    "ipd.Audio(sample_au_aug, rate=32000)"
   ]
  },
  {
   "cell_type": "code",
   "execution_count": null,
   "id": "a0695998-6785-4ca7-a71c-eb1d9b44d899",
   "metadata": {},
   "outputs": [],
   "source": [
    "target_au_aug"
   ]
  },
  {
   "cell_type": "code",
   "execution_count": null,
   "id": "368b8cbc-21b3-40ae-a5af-d88e8926c35c",
   "metadata": {},
   "outputs": [],
   "source": [
    "maybe_dupl1 = librosa.util.normalize(librosa.load(\n",
    "    \"/home/vova/data/exps/birdclef_2024/birdclef_2022/train_audio/brant/XC294370.ogg\", sr=32000\n",
    ")[0])\n",
    "maybe_dupl2 = librosa.util.normalize(librosa.load(\n",
    "    \"/home/vova/data/exps/birdclef_2024/birdclef_2022/train_audio/gadwal/XC294370.ogg\", sr=32000\n",
    ")[0])"
   ]
  },
  {
   "cell_type": "code",
   "execution_count": null,
   "id": "707aa13d-7756-4608-87a0-2cfab536dffc",
   "metadata": {},
   "outputs": [],
   "source": [
    "plt.figure(figsize=(20,10))\n",
    "plt.imshow(mel_spec(torch.from_numpy(maybe_dupl1)[None,...])[0])\n",
    "plt.show()\n",
    "\n",
    "plt.figure(figsize=(20,10))\n",
    "plt.imshow(mel_spec(torch.from_numpy(maybe_dupl2)[None,...])[0])\n",
    "plt.show()"
   ]
  },
  {
   "cell_type": "code",
   "execution_count": null,
   "id": "27bbdb81-e553-41bd-96ee-aab6a0b25bb7",
   "metadata": {},
   "outputs": [],
   "source": [
    "# ipd.Audio(sample_au, rate=32_000)"
   ]
  },
  {
   "cell_type": "code",
   "execution_count": null,
   "id": "36c529e1-0d2f-4f59-adf2-5d8a99e9e3ee",
   "metadata": {},
   "outputs": [],
   "source": [
    "ipd.Audio(sample_au_aug, rate=32_000)"
   ]
  },
  {
   "cell_type": "code",
   "execution_count": null,
   "id": "b2216899-5774-4f45-8574-30bbc0f4bc8a",
   "metadata": {},
   "outputs": [],
   "source": [
    "np.abs(sample_au_aug).max()"
   ]
  },
  {
   "cell_type": "code",
   "execution_count": null,
   "id": "f69dd9dd-d47a-4564-9866-d317c4622eeb",
   "metadata": {},
   "outputs": [],
   "source": [
    "torch.unique(target_au_aug), torch.sum(target_au_aug)"
   ]
  },
  {
   "cell_type": "code",
   "execution_count": null,
   "id": "6561280f-9fb7-4871-bf81-040d626afec3",
   "metadata": {},
   "outputs": [],
   "source": [
    "plt.figure(figsize=(10,10))\n",
    "plt.imshow(my_spec(torch.from_numpy(sample_au_aug)[None,:])[0])\n",
    "plt.show();"
   ]
  },
  {
   "cell_type": "code",
   "execution_count": null,
   "id": "f2298b14-4381-4cb8-9186-2f16ca5bdacb",
   "metadata": {},
   "outputs": [],
   "source": [
    "target_au.max()"
   ]
  },
  {
   "cell_type": "code",
   "execution_count": null,
   "id": "f9c6a87d-c2e0-4fa6-808e-b4d56873c3e0",
   "metadata": {},
   "outputs": [],
   "source": [
    "torch.allclose(target_au, target_au_aug)"
   ]
  },
  {
   "cell_type": "code",
   "execution_count": null,
   "id": "259302ee-3f22-4d42-857f-0f3541ed2e4a",
   "metadata": {},
   "outputs": [],
   "source": [
    "np.abs(sample_au - sample_au_aug).max()"
   ]
  },
  {
   "cell_type": "code",
   "execution_count": null,
   "id": "c3c96bfe-670a-4c2a-a699-b0e4b7b2d96e",
   "metadata": {},
   "outputs": [],
   "source": [
    "plt.plot(sample_au)"
   ]
  },
  {
   "cell_type": "code",
   "execution_count": null,
   "id": "fe74aaf3-669e-49d1-ad5f-524067f3459d",
   "metadata": {},
   "outputs": [],
   "source": [
    "plt.plot(sample_au_aug)"
   ]
  },
  {
   "cell_type": "code",
   "execution_count": null,
   "id": "d81ad423-8e40-4aee-b07c-4a3b54368da4",
   "metadata": {},
   "outputs": [],
   "source": [
    "ipd.Audio(sample_au, rate=32000)"
   ]
  },
  {
   "cell_type": "code",
   "execution_count": null,
   "id": "e51d6464-5bfa-4b1c-aff7-b7611fd99fca",
   "metadata": {},
   "outputs": [],
   "source": [
    "ipd.Audio(sample_au_aug, rate=32000)"
   ]
  },
  {
   "cell_type": "code",
   "execution_count": null,
   "id": "6bc3adcd-291f-48e6-bbd8-f55e90214b12",
   "metadata": {},
   "outputs": [],
   "source": [
    "np.allclose(sample_au, sample_feat)"
   ]
  },
  {
   "cell_type": "code",
   "execution_count": null,
   "id": "d5df7e9f-c4fc-4089-a23a-a560601745e2",
   "metadata": {},
   "outputs": [],
   "source": [
    "# train_dataset = WaveDataset(\n",
    "#     df=df,\n",
    "#     root=\"/home/vova/data/exps/BirdCLEF_2023/birdclef_2023/train_audio/\",\n",
    "#     label_str2int_mapping_path=\"/home/vova/data/exps/BirdCLEF_2023/birdclef_2023/bird2int_2023.json\",\n",
    "#     precompute=False,\n",
    "#     n_cores=32,\n",
    "#     debug=True,\n",
    "#     do_mixup=False,\n",
    "#     # mixup_params={\"prob\": 0.5, \"alpha\": None},\n",
    "#     segment_len=5.0,\n",
    "#     late_normalize=True,\n",
    "#     sec_target_col=None\n",
    "# )\n",
    "\n",
    "# train_dataset_extended = WaveDataset(\n",
    "#     df=df,\n",
    "#     root=\"/home/vova/data/exps/BirdCLEF_2023/birdclef_2023/train_audio/\",\n",
    "#     label_str2int_mapping_path=\"/home/vova/data/exps/BirdCLEF_2023/birdclef_2023/bird2int_2023.json\",\n",
    "#     precompute=True,\n",
    "#     n_cores=32,\n",
    "#     debug=False,\n",
    "#     do_mixup=True,\n",
    "#     mixup_params={\"prob\": 0.5, \"alpha\": None},\n",
    "#     segment_len=5.0,\n",
    "#     late_normalize=True,\n",
    "#     add_df_paths=[\n",
    "#         \"/home/vova/data/exps/BirdCLEF_2023/train_metadata_extended_2020_2022_no2023_scored.csv\"\n",
    "#     ],\n",
    "#     sampler_col=\"sw_col\"\n",
    "# )"
   ]
  },
  {
   "cell_type": "code",
   "execution_count": null,
   "id": "b2bcb61b-27a4-433a-b45f-1fa219c1f0f6",
   "metadata": {},
   "outputs": [],
   "source": []
  },
  {
   "cell_type": "code",
   "execution_count": null,
   "id": "5a77110e-4564-4319-a5f5-dc24fe1c8da8",
   "metadata": {},
   "outputs": [],
   "source": [
    "train_dataset[11][1].sum()"
   ]
  },
  {
   "cell_type": "code",
   "execution_count": null,
   "id": "243cf640-d0fc-4c2d-b01b-f50b375892a0",
   "metadata": {},
   "outputs": [],
   "source": [
    "train_dataset.df[train_dataset.df.secondary_labels.apply(len) > 1]"
   ]
  },
  {
   "cell_type": "code",
   "execution_count": null,
   "id": "1230fdb1-d301-4d76-8e33-855796cdb52b",
   "metadata": {},
   "outputs": [],
   "source": [
    "train_dataset_extended.df[]"
   ]
  },
  {
   "cell_type": "code",
   "execution_count": null,
   "id": "6bb0da1c-c63a-46cd-8946-7c1bbf2b75c2",
   "metadata": {},
   "outputs": [],
   "source": [
    "set(train_dataset_extended.df[\"sw_col\"]) - set(load_json(\"/home/vova/data/exps/BirdCLEF_2023/birdclef_2023/scored_birds.json\"))"
   ]
  },
  {
   "cell_type": "code",
   "execution_count": null,
   "id": "efcc32f5-2a6e-4e25-8453-1bba592c865a",
   "metadata": {},
   "outputs": [],
   "source": [
    "train_dataset_extended.df[\"filename_with_root\"].iloc[-1]"
   ]
  },
  {
   "cell_type": "code",
   "execution_count": null,
   "id": "6f7780ff-e5b1-41e4-849e-1c005e59ac97",
   "metadata": {},
   "outputs": [],
   "source": [
    "sample_au, sample_label = train_dataset[0]\n",
    "sample_au = torch.from_numpy(sample_au)[None,:]"
   ]
  },
  {
   "cell_type": "code",
   "execution_count": null,
   "id": "1e1728e1-862d-4557-9b91-e7e14d543161",
   "metadata": {},
   "outputs": [],
   "source": [
    "sample_au_spec = model.forward(sample_au, return_spec_feature=True)"
   ]
  },
  {
   "cell_type": "code",
   "execution_count": null,
   "id": "1317942d-026e-4e44-b134-4277c5d4f44d",
   "metadata": {},
   "outputs": [],
   "source": [
    "plt.imshow(sample_au_spec[0].numpy())"
   ]
  },
  {
   "cell_type": "code",
   "execution_count": null,
   "id": "5ce19c3a-32a9-4676-8b18-e3417def29ac",
   "metadata": {},
   "outputs": [],
   "source": [
    "# ipd.Audio(sample_au, rate=32_000)"
   ]
  },
  {
   "cell_type": "code",
   "execution_count": null,
   "id": "748930d6-3111-45ae-ae89-adb2dd177e7f",
   "metadata": {},
   "outputs": [],
   "source": [
    "aug_block = RandomFiltering(\n",
    "    min_db=-20,\n",
    "    is_wave=True,\n",
    "    normalize_wave=True\n",
    ")"
   ]
  },
  {
   "cell_type": "code",
   "execution_count": null,
   "id": "e8e8c049-b499-40e2-a9db-dd47d780aaac",
   "metadata": {},
   "outputs": [],
   "source": [
    "auged_sample_au = aug_block(sample_au)"
   ]
  },
  {
   "cell_type": "code",
   "execution_count": null,
   "id": "f1cbaafc-1d79-44b8-990a-e22d605d9467",
   "metadata": {},
   "outputs": [],
   "source": [
    "auged_sample_au_spec = model.forward(auged_sample_au, return_spec_feature=True)"
   ]
  },
  {
   "cell_type": "code",
   "execution_count": null,
   "id": "b179dc44-b23c-4347-830c-b9d8b377bc04",
   "metadata": {},
   "outputs": [],
   "source": [
    "plt.imshow(auged_sample_au_spec[0].numpy())"
   ]
  },
  {
   "cell_type": "code",
   "execution_count": null,
   "id": "23a1059a-8056-4472-91ae-8aafbbe1bd36",
   "metadata": {},
   "outputs": [],
   "source": [
    "plt.imshow(auged_sample_au_spec[0].numpy() - sample_au_spec[0].numpy())"
   ]
  },
  {
   "cell_type": "code",
   "execution_count": null,
   "id": "da3ed744-0836-4f08-a429-2b691e67d130",
   "metadata": {},
   "outputs": [],
   "source": [
    "ipd.Audio(auged_sample_au, rate=32_000)"
   ]
  },
  {
   "cell_type": "code",
   "execution_count": null,
   "id": "aaa949a3-2ad7-49f8-a63d-bc467fb26047",
   "metadata": {},
   "outputs": [],
   "source": [
    "valid_dataset = WaveAllFileDataset(\n",
    "    df=df,\n",
    "    root=\"/home/vova/data/exps/BirdCLEF_2023/birdclef_2023/train_audio/\",\n",
    "    label_str2int_mapping_path=\"/home/vova/data/exps/BirdCLEF_2023/birdclef_2023/bird2int_2023.json\",\n",
    "    precompute=True,\n",
    "    n_cores=32,\n",
    "    debug=True,\n",
    "    segment_len=5,\n",
    "    lookback=2.5,\n",
    "    lookahead=2.5,\n",
    "    late_normalize=True,\n",
    "    sample_id=None\n",
    ")"
   ]
  },
  {
   "cell_type": "code",
   "execution_count": null,
   "id": "6a45fee7-f840-4afc-9e71-4d82b4ce1df6",
   "metadata": {},
   "outputs": [],
   "source": [
    "sample_au, sample_label, sample_df_id, sample_start, sample_end_s = valid_dataset[0]"
   ]
  },
  {
   "cell_type": "code",
   "execution_count": null,
   "id": "f781a468-126c-4630-bc31-f63e4f0ee953",
   "metadata": {},
   "outputs": [],
   "source": [
    "len(sample_au) / 32_000"
   ]
  },
  {
   "cell_type": "code",
   "execution_count": null,
   "id": "69489c17-411c-47c4-8183-30dd52b731ed",
   "metadata": {},
   "outputs": [],
   "source": [
    "sample_au"
   ]
  },
  {
   "cell_type": "markdown",
   "id": "bd23c978-b31b-4f78-bed9-b75f7802359d",
   "metadata": {},
   "source": [
    "# Sounscapes"
   ]
  },
  {
   "cell_type": "code",
   "execution_count": null,
   "id": "0277dc4e-354a-47ec-9291-276de393fec0",
   "metadata": {},
   "outputs": [],
   "source": [
    "un_ss = glob(\"/home/vova/data/exps/birdclef_2024/birdclef_2024/unlabeled_soundscapes/*.ogg\")"
   ]
  },
  {
   "cell_type": "code",
   "execution_count": null,
   "id": "c49457af-ffad-4362-9d04-35d59e03c08b",
   "metadata": {},
   "outputs": [],
   "source": [
    "pseudo = pd.read_csv(\"../pseudo/v1/positive_filtered_07.csv\", converters={\"all_labels\": eval})"
   ]
  },
  {
   "cell_type": "code",
   "execution_count": null,
   "id": "c53d1c86-a53e-4ba8-8dfb-f52103fffb13",
   "metadata": {},
   "outputs": [],
   "source": [
    "pseudo"
   ]
  },
  {
   "cell_type": "code",
   "execution_count": null,
   "id": "f93e23b0-a76e-4daa-a8a0-79cbb410b98f",
   "metadata": {
    "scrolled": true
   },
   "outputs": [],
   "source": [
    "un_ss"
   ]
  },
  {
   "cell_type": "code",
   "execution_count": null,
   "id": "dbbdde50-81e2-4c2c-80c0-67d43cecd8b3",
   "metadata": {},
   "outputs": [],
   "source": [
    "pseudo[\"sample_id\"] = pseudo[\"row_id\"].apply(lambda x: x.split(\"_\")[0])"
   ]
  },
  {
   "cell_type": "code",
   "execution_count": null,
   "id": "c83cd6ae-9968-4052-8547-0b00626cc478",
   "metadata": {},
   "outputs": [],
   "source": [
    "pseudo"
   ]
  },
  {
   "cell_type": "code",
   "execution_count": null,
   "id": "d6287cb1-f4e9-42ac-8597-c8391f37cc08",
   "metadata": {},
   "outputs": [],
   "source": [
    "pseudo[pseudo[\"sample_id\"] == \"100238396\"]"
   ]
  },
  {
   "cell_type": "code",
   "execution_count": null,
   "id": "fbf54b49-2442-4d88-87de-6ca26ad6289f",
   "metadata": {},
   "outputs": [],
   "source": [
    "pseudo_samples"
   ]
  },
  {
   "cell_type": "code",
   "execution_count": null,
   "id": "afc93076-a3a5-41e6-820c-0059988c85a9",
   "metadata": {},
   "outputs": [],
   "source": [
    "df_idx = 6143"
   ]
  },
  {
   "cell_type": "code",
   "execution_count": null,
   "id": "a1bd01fb-131e-4120-8ccd-2e5fb63b6949",
   "metadata": {},
   "outputs": [],
   "source": [
    "sample_idx, end_second = pseudo[\"row_id\"].iloc[df_idx].split(\"_\")\n",
    "\n",
    "sample, _ = librosa.load(\n",
    "    # un_ss[500], \n",
    "    f'/home/vova/data/exps/birdclef_2024/birdclef_2024/unlabeled_soundscapes/{sample_idx}.ogg',\n",
    "    sr=None\n",
    ")\n",
    "# sample = librosa.util.normalize(sample)"
   ]
  },
  {
   "cell_type": "code",
   "execution_count": null,
   "id": "ebf23c18-f1cd-407e-9c81-6ec759eaf100",
   "metadata": {},
   "outputs": [],
   "source": [
    "sample_slice = sample[32000*(int(end_second) - 5):32000*int(end_second)]\n",
    "ipd.Audio(sample_slice, rate=32000)"
   ]
  },
  {
   "cell_type": "code",
   "execution_count": null,
   "id": "eebf125d-9e51-4a69-95ae-28b051d6df17",
   "metadata": {},
   "outputs": [],
   "source": [
    "plt.figure(figsize=(20,10))\n",
    "plt.imshow(mel_spec(torch.from_numpy(sample_slice)[None,...])[0])\n",
    "plt.show()"
   ]
  },
  {
   "cell_type": "markdown",
   "id": "0fea89d4-1bf5-4274-9c8d-3f25574af87a",
   "metadata": {},
   "source": [
    "# Compare librosa and torchaudio"
   ]
  },
  {
   "cell_type": "code",
   "execution_count": null,
   "id": "979ec514-984d-469c-a574-6ce3e78bc01a",
   "metadata": {},
   "outputs": [],
   "source": [
    "librosa_loaded = librosa.load(\"/home/vova/data/exps/birdclef_2024/birdclef_2024/train_audio/asbfly/XC453302.ogg\", sr=32000)[0]"
   ]
  },
  {
   "cell_type": "code",
   "execution_count": null,
   "id": "df0bee7e-2944-4009-9a0d-b876313243cf",
   "metadata": {},
   "outputs": [],
   "source": [
    "torchaudio_loaded, torchaudio_sr = torchaudio.load(\"/home/vova/data/exps/birdclef_2024/birdclef_2024/train_audio/asbfly/XC453302.ogg\")\n",
    "torchaudio_loaded = Resample(orig_freq=torchaudio_sr, new_freq=16000)(torchaudio_loaded)[0]"
   ]
  },
  {
   "cell_type": "code",
   "execution_count": null,
   "id": "bfffd648-df72-4d6a-a76b-ac142483fe7c",
   "metadata": {},
   "outputs": [],
   "source": [
    "torchaudio_loaded.shape"
   ]
  },
  {
   "cell_type": "code",
   "execution_count": null,
   "id": "4d3c7347-db3e-4f1b-ab2d-cb50c7c3d4dc",
   "metadata": {},
   "outputs": [],
   "source": [
    "librosa_loaded.shape"
   ]
  },
  {
   "cell_type": "code",
   "execution_count": null,
   "id": "ac90c02a-ebf4-426d-b1ad-a5c2435808b9",
   "metadata": {},
   "outputs": [],
   "source": [
    "len(librosa_loaded) / 32000"
   ]
  },
  {
   "cell_type": "code",
   "execution_count": null,
   "id": "34598856-deba-4c1d-8d70-1733a707fece",
   "metadata": {},
   "outputs": [],
   "source": [
    "len(torchaudio_loaded) / 32000"
   ]
  },
  {
   "cell_type": "code",
   "execution_count": null,
   "id": "226b55cf-dd02-4656-9fa1-01f2132261a2",
   "metadata": {},
   "outputs": [],
   "source": [
    "np.abs(torchaudio_loaded[len(torchaudio_loaded) - len(librosa_loaded):] - librosa_loaded).max()"
   ]
  },
  {
   "cell_type": "code",
   "execution_count": null,
   "id": "6720c168-d385-49b1-bf67-d0cc3eeacc6f",
   "metadata": {},
   "outputs": [],
   "source": [
    "np.abs(torchaudio_loaded[:len(librosa_loaded)] - librosa_loaded).max()"
   ]
  },
  {
   "cell_type": "code",
   "execution_count": null,
   "id": "3c45ee64-966a-4776-bba6-7cffa717e4f2",
   "metadata": {},
   "outputs": [],
   "source": [
    "np.allclose(torchaudio_loaded[:len(librosa_loaded)], librosa_loaded)"
   ]
  },
  {
   "cell_type": "code",
   "execution_count": null,
   "id": "54c3f3f1-1a24-462a-9b52-ff175172a267",
   "metadata": {},
   "outputs": [],
   "source": [
    "len(librosa_loaded) / 32000"
   ]
  },
  {
   "cell_type": "code",
   "execution_count": null,
   "id": "19f6203b-05f3-4f6a-a127-1d52f37fb23c",
   "metadata": {},
   "outputs": [],
   "source": [
    "len(torchaudio_loaded) / 32000"
   ]
  },
  {
   "cell_type": "markdown",
   "id": "bab41236-5e5d-4036-8986-82544850a425",
   "metadata": {},
   "source": [
    "# Spectogram"
   ]
  },
  {
   "cell_type": "code",
   "execution_count": null,
   "id": "eb6f5cd4-fc30-4e35-925b-13bbef6e0940",
   "metadata": {},
   "outputs": [],
   "source": [
    "test_pred = pd.read_csv(\"submission.csv\")"
   ]
  },
  {
   "cell_type": "code",
   "execution_count": null,
   "id": "c7dcc765-85c1-4d47-be95-3194e0e81b50",
   "metadata": {},
   "outputs": [],
   "source": [
    "np.sort(test_pred.iloc[:,1:].values.flatten())[-20:]"
   ]
  },
  {
   "cell_type": "code",
   "execution_count": null,
   "id": "62005372-3a28-4683-b1ed-2cda4f4602ef",
   "metadata": {},
   "outputs": [],
   "source": [
    "np.where(test_pred.iloc[:,1:].max(axis=1) > 0.9)"
   ]
  },
  {
   "cell_type": "code",
   "execution_count": null,
   "id": "44e98467-e86c-4c95-9911-2aa556c561d0",
   "metadata": {},
   "outputs": [],
   "source": [
    "test_pred.iloc[65]"
   ]
  },
  {
   "cell_type": "code",
   "execution_count": null,
   "id": "bb1d4773-658c-4fd2-b38f-e68d29b80298",
   "metadata": {},
   "outputs": [],
   "source": [
    "test_audio, test_sr = librosa.load(\"/home/vova/data/exps/BirdCLEF_2023/birdclef_2023/test_soundscapes/soundscape_29201.ogg\", sr=None)\n",
    "test_audio = librosa.util.normalize(test_audio)"
   ]
  },
  {
   "cell_type": "code",
   "execution_count": null,
   "id": "f6c3b8bd-e134-4e1b-8444-8f58c474590e",
   "metadata": {},
   "outputs": [],
   "source": [
    "test_sr"
   ]
  },
  {
   "cell_type": "code",
   "execution_count": null,
   "id": "ccf8c7d1-bc81-4df0-aef6-154f281e5182",
   "metadata": {},
   "outputs": [],
   "source": [
    "ipd.Audio(\n",
    "    test_audio[test_sr*0:test_sr*5],\n",
    "    rate=test_sr\n",
    ")"
   ]
  },
  {
   "cell_type": "code",
   "execution_count": null,
   "id": "18e6dc5a-0315-44b0-9a0b-8f38c3da5156",
   "metadata": {},
   "outputs": [],
   "source": [
    "test_sr"
   ]
  },
  {
   "cell_type": "code",
   "execution_count": null,
   "id": "5a53b625-d8ac-45cd-ad7f-7b175330a32a",
   "metadata": {},
   "outputs": [],
   "source": [
    "test_pred.iloc[65].iloc[1:].sort_values()"
   ]
  },
  {
   "cell_type": "code",
   "execution_count": null,
   "id": "0bce2f6a-fbae-4474-938c-3a94fe114832",
   "metadata": {},
   "outputs": [],
   "source": [
    "mel_spec_paramms={\n",
    "    \"sample_rate\": 32000,\n",
    "    \"n_mels\": 128,\n",
    "    \"f_min\": 20,\n",
    "    \"n_fft\": 2048,\n",
    "    \"hop_length\": 512,\n",
    "    \"normalized\": True,\n",
    "}\n",
    "mel_spec = nn.Sequential(\n",
    "    TraceableMelspec(**mel_spec_paramms, quantizable=False),\n",
    "    AmplitudeToDB(top_db=80.0),\n",
    "    NormalizeMelSpec(exportable=True),\n",
    ")\n",
    "\n",
    "# leaf_spec = {\n",
    "#     \"sample_rate\": 32000,\n",
    "#     \"n_filters\": 128,\n",
    "#     # \"window_stride\": 15\n",
    "# }\n",
    "\n",
    "# leaf_complex = nn.Sequential(\n",
    "#     frontend.Leaf(**leaf_spec, onnx_export=True, compression_fn=None),\n",
    "#     AmplitudeToDB(top_db=80.0),\n",
    "#     NormalizeMelSpec(exportable=True),\n",
    "# )\n",
    "\n",
    "# leaf_noncomplex = nn.Sequential(\n",
    "#     frontend.Leaf(**leaf_spec, onnx_export=True),\n",
    "#     NormalizeMelSpec(exportable=True),\n",
    "# )"
   ]
  },
  {
   "cell_type": "code",
   "execution_count": null,
   "id": "96bef539-d4b3-4440-a18a-02a511152ca5",
   "metadata": {},
   "outputs": [],
   "source": [
    "spec = mel_spec(torch.from_numpy(librosa.util.normalize(test_audio[\n",
    "    test_sr*0:\n",
    "    test_sr*5\n",
    "]))[None,:])\n",
    "spec = torch.cat([spec,spec,spec])\n",
    "\n",
    "# leaf_1 = leaf_complex(torch.from_numpy(librosa.util.normalize(test_audio[\n",
    "#     test_sr*0:\n",
    "#     test_sr*5\n",
    "# ]))[None,:])\n",
    "# leaf_2 = leaf_noncomplex(torch.from_numpy(librosa.util.normalize(test_audio[\n",
    "#     test_sr*0:\n",
    "#     test_sr*5\n",
    "# ]))[None,:])"
   ]
  },
  {
   "cell_type": "code",
   "execution_count": null,
   "id": "3fe39f43-296f-40e5-9d0d-be76a7a39790",
   "metadata": {},
   "outputs": [],
   "source": [
    "class CustomMasking(nn.Module):\n",
    "    def __init__(\n",
    "        self,\n",
    "        mask_max_length: int,\n",
    "        mask_max_masks: int,\n",
    "        p=1.0,\n",
    "        inplace=True\n",
    "    ):\n",
    "        super().__init__()\n",
    "        assert isinstance(mask_max_masks, int) and mask_max_masks > 0 \n",
    "        self.mask_max_masks = mask_max_masks\n",
    "        self.mask_max_length = mask_max_length\n",
    "        self.mask_module = None\n",
    "        self.p = p\n",
    "        self.inplace = inplace\n",
    "    \n",
    "    def forward(self, x):\n",
    "        if not self.inplace:\n",
    "            output = x.clone()\n",
    "        for i in range(x.shape[0]):\n",
    "            if np.random.binomial(n=1, p=self.p):\n",
    "                n_applies = np.random.randint(low=1, high=self.mask_max_masks+1)\n",
    "                print(f\"Applying {n_applies} times\")\n",
    "                for _ in range(n_applies):\n",
    "                    if self.inplace:\n",
    "                        x[i:i+1] = self.mask_module(x[i:i+1])\n",
    "                    else:\n",
    "                        output[i:i+1] = self.mask_module(output[i:i+1])\n",
    "        if self.inplace:\n",
    "            return x\n",
    "        else: \n",
    "            return output\n",
    "        \n",
    "class CustomTimeMasking(CustomMasking):\n",
    "    def __init__(\n",
    "        self,\n",
    "        mask_max_length: int,\n",
    "        mask_max_masks: int,\n",
    "        p=1.0,\n",
    "        inplace=True\n",
    "    ):\n",
    "        super().__init__(\n",
    "            mask_max_length=mask_max_length,\n",
    "            mask_max_masks=mask_max_masks,\n",
    "            p=p,\n",
    "            inplace=inplace\n",
    "        )\n",
    "        self.mask_module = TimeMasking(\n",
    "            time_mask_param=mask_max_length\n",
    "        )\n",
    "        \n",
    "class CustomFreqMasking(CustomMasking):\n",
    "    def __init__(\n",
    "        self,\n",
    "        mask_max_length: int,\n",
    "        mask_max_masks: int,\n",
    "        p=1.0,\n",
    "        inplace=True\n",
    "    ):\n",
    "        super().__init__(\n",
    "            mask_max_length=mask_max_length,\n",
    "            mask_max_masks=mask_max_masks,\n",
    "            p=p,\n",
    "            inplace=inplace\n",
    "        )\n",
    "        self.mask_module = FrequencyMasking(\n",
    "            freq_mask_param=mask_max_length\n",
    "        )"
   ]
  },
  {
   "cell_type": "code",
   "execution_count": null,
   "id": "26c98b44-3f22-4d38-848d-0d44b975f605",
   "metadata": {},
   "outputs": [],
   "source": [
    "np.random.randint(low=1, high=1+1)"
   ]
  },
  {
   "cell_type": "code",
   "execution_count": null,
   "id": "7ce27b2a-ebaf-4e04-862c-310bed88dccc",
   "metadata": {},
   "outputs": [],
   "source": [
    "# time_masking = CustomTimeMasking(\n",
    "#     mask_max_length=20,\n",
    "#     mask_max_masks=3,\n",
    "#     p=0.5,\n",
    "#     inplace=True\n",
    "# )\n",
    "# freq_masking = CustomFreqMasking(\n",
    "#     mask_max_length=10,\n",
    "#     mask_max_masks=3,\n",
    "#     p=0.5,\n",
    "#     inplace=True\n",
    "# )"
   ]
  },
  {
   "cell_type": "code",
   "execution_count": null,
   "id": "ac663992-ef76-4a08-a534-0b1f8aecdbf4",
   "metadata": {},
   "outputs": [],
   "source": [
    "both_masking = nn.Sequential(\n",
    "    CustomTimeMasking(\n",
    "        mask_max_length=20,\n",
    "        mask_max_masks=3,\n",
    "        p=0.3,\n",
    "        inplace=True\n",
    "    ),\n",
    "    CustomFreqMasking(\n",
    "        mask_max_length=10,\n",
    "        mask_max_masks=3,\n",
    "        p=0.3,\n",
    "        inplace=True\n",
    "    )\n",
    ")"
   ]
  },
  {
   "cell_type": "code",
   "execution_count": null,
   "id": "309003a5-1e6e-44be-828a-d1652d3947a3",
   "metadata": {},
   "outputs": [],
   "source": [
    "# time_masked = time_masking(spec)\n",
    "# freq_masked = freq_masking(spec)\n",
    "\n",
    "both_masked = both_masking(spec)"
   ]
  },
  {
   "cell_type": "code",
   "execution_count": null,
   "id": "c4c2d097-e6b6-4ad3-a1ba-cf327daa119e",
   "metadata": {},
   "outputs": [],
   "source": [
    "swin = timm.create_model(\n",
    "    \"swinv2_tiny_window8_256\", \n",
    "    in_chans=1, \n",
    "    # features_only=True,\n",
    "    dropout_rate=0.2,\n",
    "    num_classes=20\n",
    ")\n",
    "# swin.head.drop.p = 0.4\n",
    "# swin.head = nn.Identity()"
   ]
  },
  {
   "cell_type": "code",
   "execution_count": null,
   "id": "2b7cfc15-609f-4466-a784-0933681554de",
   "metadata": {},
   "outputs": [],
   "source": [
    "swin.head"
   ]
  },
  {
   "cell_type": "code",
   "execution_count": null,
   "id": "b4ed3f8c-29b9-476c-82f6-dab7f0f83ce7",
   "metadata": {},
   "outputs": [],
   "source": [
    "swin.train();"
   ]
  },
  {
   "cell_type": "code",
   "execution_count": null,
   "id": "a18de5db-0f19-4565-819e-94592e5440b1",
   "metadata": {},
   "outputs": [],
   "source": [
    "swin.head.drop.p = 0.4"
   ]
  },
  {
   "cell_type": "code",
   "execution_count": null,
   "id": "536d4639-c233-421b-95b0-e56cd00c716f",
   "metadata": {
    "tags": []
   },
   "outputs": [],
   "source": [
    "swin(spec[:,None,:,:])[-1]"
   ]
  },
  {
   "cell_type": "code",
   "execution_count": null,
   "id": "449260f8-5c80-4a96-b202-c7a7fa0b9c07",
   "metadata": {},
   "outputs": [],
   "source": []
  },
  {
   "cell_type": "code",
   "execution_count": null,
   "id": "74bbd2b1-20db-48cf-b5c4-87943829042b",
   "metadata": {
    "tags": []
   },
   "outputs": [],
   "source": [
    "torch.abs(leaf_1- leaf_2).max()"
   ]
  },
  {
   "cell_type": "code",
   "execution_count": null,
   "id": "4b3b4efb-fb87-4f9c-8684-7bff07bfd96e",
   "metadata": {},
   "outputs": [],
   "source": [
    "time_masked = time_masking(spec[0])\n",
    "freq_masked = freq_masking(spec[0])"
   ]
  },
  {
   "cell_type": "code",
   "execution_count": null,
   "id": "90ace1b5-093a-4611-802c-33be117a1c82",
   "metadata": {},
   "outputs": [],
   "source": [
    "# time_masked = time_masking(spec)\n",
    "# freq_masked = freq_masking(spec)\n",
    "\n",
    "plt.figure(figsize=(10,10))\n",
    "plt.imshow(spec[0].detach().cpu().numpy())\n",
    "plt.show();\n",
    "\n",
    "plt.figure(figsize=(10,10))\n",
    "plt.imshow(spec[1].detach().cpu().numpy())\n",
    "plt.show();\n",
    "\n",
    "plt.figure(figsize=(10,10))\n",
    "plt.imshow(spec[2].detach().cpu().numpy())\n",
    "plt.show();\n",
    "\n",
    "# plt.figure(figsize=(10,10))\n",
    "# plt.imshow(both_masked[0].detach().cpu().numpy())\n",
    "# plt.show();\n",
    "\n",
    "# plt.figure(figsize=(10,10))\n",
    "# plt.imshow(both_masked[1].detach().cpu().numpy())\n",
    "# plt.show();\n",
    "\n",
    "# plt.figure(figsize=(10,10))\n",
    "# plt.imshow(both_masked[2].detach().cpu().numpy())\n",
    "# plt.show();\n",
    "\n",
    "# plt.figure(figsize=(10,10))\n",
    "# plt.imshow(freq_masked[0].detach().cpu().numpy())\n",
    "# plt.show();\n",
    "\n",
    "# plt.figure(figsize=(10,10))\n",
    "# plt.imshow(freq_masked[1].detach().cpu().numpy())\n",
    "# plt.show();\n",
    "\n",
    "# plt.figure(figsize=(10,10))\n",
    "# plt.imshow(freq_masked[2].detach().cpu().numpy())\n",
    "# plt.show();\n",
    "\n",
    "# plt.figure(figsize=(10,10))\n",
    "# plt.imshow(freq_masked[0].detach().cpu().numpy())\n",
    "# plt.show();"
   ]
  },
  {
   "cell_type": "code",
   "execution_count": null,
   "id": "b50dcf00-83a1-4553-bbb4-edf8e2a07432",
   "metadata": {},
   "outputs": [],
   "source": [
    "test_audio, test_sr = librosa.load(\"/home/vova/data/exps/BirdCLEF_2023/birdclef_2023/train_audio/pygbat1/XC755905.ogg\", sr=None)\n",
    "test_audio = librosa.util.normalize(test_audio)"
   ]
  },
  {
   "cell_type": "code",
   "execution_count": null,
   "id": "066b3629-b9a3-4862-a1e8-fc666b8d192d",
   "metadata": {},
   "outputs": [],
   "source": [
    "test_sr"
   ]
  },
  {
   "cell_type": "code",
   "execution_count": null,
   "id": "3e13932d-279c-4231-a995-b74faae28119",
   "metadata": {},
   "outputs": [],
   "source": [
    "spec = my_spec(torch.from_numpy(librosa.util.normalize(test_audio))[None,:])\n",
    "# cqt_spec = cqt(torch.from_numpy(sample_au)[None,:])"
   ]
  },
  {
   "cell_type": "code",
   "execution_count": null,
   "id": "478166a0-35f9-4734-920e-1607238faf76",
   "metadata": {},
   "outputs": [],
   "source": [
    "plt.figure(figsize=(20,20))\n",
    "plt.imshow(spec[0])\n",
    "plt.show();\n",
    "# plt.imshow(cqt_spec[0])\n",
    "# plt.show();"
   ]
  },
  {
   "cell_type": "code",
   "execution_count": null,
   "id": "5f36c98f-cf60-46f2-8f58-0c48b90edd08",
   "metadata": {},
   "outputs": [],
   "source": [
    "spec.shape, cqt_spec.shape"
   ]
  },
  {
   "cell_type": "code",
   "execution_count": null,
   "id": "d5124902-a477-4b63-b8c9-79004f28450e",
   "metadata": {},
   "outputs": [],
   "source": [
    "spec.max(), spec.min()"
   ]
  },
  {
   "cell_type": "code",
   "execution_count": null,
   "id": "aecc6ec7-9014-4944-b143-fe54af06de0d",
   "metadata": {},
   "outputs": [],
   "source": [
    "cqt_spec.max(), cqt_spec.min()"
   ]
  },
  {
   "cell_type": "markdown",
   "id": "286878dc-1911-42f4-ba10-072bb605c13e",
   "metadata": {},
   "source": [
    "# Tune Scheduler"
   ]
  },
  {
   "cell_type": "code",
   "execution_count": null,
   "id": "86cba492-3f16-4f2f-a588-af4d19080c6e",
   "metadata": {},
   "outputs": [],
   "source": [
    "from torch.optim.lr_scheduler import CosineAnnealingLR, CosineAnnealingWarmRestarts, ReduceLROnPlateau, OneCycleLR"
   ]
  },
  {
   "cell_type": "code",
   "execution_count": null,
   "id": "4463de0e-5d09-4ac9-9781-9ac07ec04c42",
   "metadata": {},
   "outputs": [],
   "source": [
    "def visualise_lr_scheduling(lr_scheduler_from_opt, n_steps, verbose=True, lr=1e-3):\n",
    "    # t_opt = torch.optim.SGD([torch.tensor(1)], lr=lr)\n",
    "    t_opt = torch.optim.SGD([\n",
    "        {'params': torch.tensor(1), 'lr': lr},\n",
    "        # {'params': torch.tensor(1), 'lr': lr/20}\n",
    "    ])\n",
    "    t_sched = lr_scheduler_from_opt(t_opt)\n",
    "    lrs = []\n",
    "    for i in range(n_steps):\n",
    "        t_opt.step()\n",
    "        lrs.append(t_sched.get_lr()[0])\n",
    "        t_sched.step()\n",
    "        \n",
    "    if verbose:\n",
    "        plt.title(\"Learning Rate Schedule\")\n",
    "        plt.xlabel(\"Iteration\")\n",
    "        plt.ylabel(\"Learning Rate\")\n",
    "        plt.plot(lrs)\n",
    "        plt.show()\n",
    "        \n",
    "    print(f\"Min LR : {min(lrs)}. Max LR: {max(lrs)}\")\n",
    "    return lrs"
   ]
  },
  {
   "cell_type": "code",
   "execution_count": null,
   "id": "0ec6023b-58b1-4f68-82cc-2b582f376242",
   "metadata": {},
   "outputs": [],
   "source": [
    "visualise_lr_scheduling(\n",
    "    lr_scheduler_from_opt=lambda opt: GradualWarmupSchedulerV2(\n",
    "        optimizer=opt, \n",
    "        multiplier=10,\n",
    "        total_epoch=5,\n",
    "        after_scheduler=torch.optim.lr_scheduler.CosineAnnealingLR(\n",
    "            opt,\n",
    "            T_max=45,\n",
    "            eta_min=1e-7\n",
    "        )\n",
    "    ),\n",
    "    n_steps=50+2,\n",
    "    lr=1e-5\n",
    ");"
   ]
  },
  {
   "cell_type": "markdown",
   "id": "17f24f01-ff58-43f0-a5df-1d2d500aaecf",
   "metadata": {},
   "source": [
    "# Model"
   ]
  },
  {
   "cell_type": "code",
   "execution_count": null,
   "id": "7a33c8d6-e7d1-4527-a385-30b2f1c2e861",
   "metadata": {},
   "outputs": [],
   "source": []
  },
  {
   "cell_type": "code",
   "execution_count": null,
   "id": "8005146a-f4d7-4ec5-982a-22e3b7e24d33",
   "metadata": {},
   "outputs": [],
   "source": [
    "timm.list_models(\"tf_efficientnetv2*\")"
   ]
  },
  {
   "cell_type": "code",
   "execution_count": null,
   "id": "3c87c931-1004-440e-9200-167e2ce4702b",
   "metadata": {},
   "outputs": [],
   "source": [
    "backbone_model = timm.create_model(\"efficientformerv2_s2.snap_dist_in1k\", features_only=True)"
   ]
  },
  {
   "cell_type": "code",
   "execution_count": null,
   "id": "6ad0f8e7-1a34-4cb4-8e81-ec3ce3f3682a",
   "metadata": {
    "tags": []
   },
   "outputs": [],
   "source": [
    "backbone_model"
   ]
  },
  {
   "cell_type": "code",
   "execution_count": null,
   "id": "eb602c85-90ea-4594-8d10-0a0dc5f3cb64",
   "metadata": {},
   "outputs": [],
   "source": [
    "TRAIN_PERIOD = 5.0\n",
    "\n",
    "# model_config = dict(\n",
    "#     backbone=\"eca_nfnet_l0\",\n",
    "#     add_backbone_config={\n",
    "#         \"drop_path_rate\": 0.2\n",
    "#     },\n",
    "#     mel_spec_paramms={\n",
    "#         \"sample_rate\": 32000,\n",
    "#         \"n_mels\": 128,\n",
    "#         \"f_min\": 20,\n",
    "#         \"n_fft\": 2048,\n",
    "#         \"hop_length\": 512,\n",
    "#         \"normalized\": True,\n",
    "#     },\n",
    "#     head_config={\n",
    "#         \"p\": 0.5,\n",
    "#         \"num_class\": 264,\n",
    "#         \"train_period\": TRAIN_PERIOD,\n",
    "#         \"infer_period\": TRAIN_PERIOD,\n",
    "#     },\n",
    "#     exportable=True,\n",
    "#     # deep_supervision_steps=3\n",
    "# )\n",
    "model_config = dict(\n",
    "    backbone=\"tf_efficientnetv2_b1.in1k\",\n",
    "    mel_spec_paramms={\n",
    "        \"sample_rate\": 32000,\n",
    "        \"n_mels\": 128,\n",
    "        \"f_min\": 20,\n",
    "        \"n_fft\": 2048,\n",
    "        \"hop_length\": 512,\n",
    "        \"normalized\": True,\n",
    "    },\n",
    "    spec_augment_config={\n",
    "        \"bandpass_noise\":{\n",
    "            \"p\": 1.0,\n",
    "            \"inplace\": True\n",
    "        },\n",
    "        # \"power_aug\":{\n",
    "        #     \"power_range\": (0.5, 3.0),\n",
    "        #     \"p\": 1.0,\n",
    "        #     \"inplace\": True\n",
    "        # },\n",
    "        # \"freq_mask\": {\n",
    "        #     \"mask_max_length\": 20,\n",
    "        #     \"mask_max_masks\": 3,\n",
    "        #     \"p\": 0.7,\n",
    "        #     \"inplace\": True,\n",
    "        # },\n",
    "        # \"time_mask\": {\n",
    "        #     \"mask_max_length\": 30,\n",
    "        #     \"mask_max_masks\": 3,\n",
    "        #     \"p\": 0.7,\n",
    "        #     \"inplace\": True,\n",
    "        # },\n",
    "    },\n",
    "    head_config={\n",
    "        \"p\": 0.5,\n",
    "        \"num_class\": 998,\n",
    "        \"train_period\": TRAIN_PERIOD,\n",
    "        \"infer_period\": TRAIN_PERIOD,\n",
    "    },\n",
    "    exportable=True,\n",
    "    fixed_amplitude_to_db=True\n",
    ")\n",
    "\n",
    "model = WaveCNNAttenClasifier(**model_config, device=\"cpu\")\n",
    "\n",
    "model.train();"
   ]
  },
  {
   "cell_type": "code",
   "execution_count": null,
   "id": "1d6ffd0f-a8c2-4f12-8fc8-633bbd14416a",
   "metadata": {},
   "outputs": [],
   "source": [
    "spec = model.forward(torch.from_numpy(sample_au)[None,...], return_spec_feature=True)\n",
    "plt.imshow(spec[0,0])"
   ]
  },
  {
   "cell_type": "code",
   "execution_count": null,
   "id": "9a0229d0-12ae-45c0-8531-7b22451e0755",
   "metadata": {},
   "outputs": [],
   "source": [
    "plt.hist(noise.flatten(), bins=30)"
   ]
  },
  {
   "cell_type": "code",
   "execution_count": null,
   "id": "05abf0e5-f69d-40d6-a06a-4295eaff6158",
   "metadata": {},
   "outputs": [],
   "source": [
    "plt.hist(np.random.uniform(low=0.10, high=0.2, size=(10000,)))"
   ]
  },
  {
   "cell_type": "code",
   "execution_count": null,
   "id": "ba001837-bebf-4928-a4ef-68a71db76c10",
   "metadata": {},
   "outputs": [],
   "source": [
    "import random"
   ]
  },
  {
   "cell_type": "code",
   "execution_count": null,
   "id": "b40ee6a5-5405-41cf-8588-68dec4d81daf",
   "metadata": {},
   "outputs": [],
   "source": [
    "random.uniform(0.2, 0.3)"
   ]
  },
  {
   "cell_type": "code",
   "execution_count": null,
   "id": "aa66d4f2-a3ba-4ab8-820d-1da73b919773",
   "metadata": {},
   "outputs": [],
   "source": [
    "# noise = (np.random.sample((spec[0,0].shape[0], spec[0,0].shape[1])).astype(np.float32)) * 0.05 * (np.random.sample() + 0.3)\n",
    "plt.imshow(spec[0,0] + torch.randn_like(spec[0,0]) * 0.2 * (np.random.sample() + 0.3))"
   ]
  },
  {
   "cell_type": "code",
   "execution_count": null,
   "id": "6d882cf8-5c91-4e10-8e4d-0fe5766b0822",
   "metadata": {},
   "outputs": [],
   "source": [
    "torch.randn_like(spec[0,0])"
   ]
  },
  {
   "cell_type": "code",
   "execution_count": null,
   "id": "1faf9add-a26a-4ed2-a461-453623c22b6f",
   "metadata": {},
   "outputs": [],
   "source": [
    "plt.hist(torch.randn_like(spec[0,0]).flatten(), bins=30)"
   ]
  },
  {
   "cell_type": "code",
   "execution_count": null,
   "id": "bc1d6b41-05b1-4d85-b2ae-9ec90bfbceee",
   "metadata": {},
   "outputs": [],
   "source": [
    "plt.imshow(spec[0,0])"
   ]
  },
  {
   "cell_type": "code",
   "execution_count": null,
   "id": "41e1ff7d-dbe5-4881-a12b-150ceb1c81f1",
   "metadata": {},
   "outputs": [],
   "source": [
    "plt.imshow(spec[0,0])"
   ]
  },
  {
   "cell_type": "code",
   "execution_count": null,
   "id": "eece6076-ba21-45d2-be43-d6a09b8d7eae",
   "metadata": {},
   "outputs": [],
   "source": [
    "plt.imshow(spec[0,0])"
   ]
  },
  {
   "cell_type": "code",
   "execution_count": null,
   "id": "fee41815-8848-4f99-8316-c04911f6d833",
   "metadata": {},
   "outputs": [],
   "source": [
    "plt.imshow(spec[0,0]* pink_noise)"
   ]
  },
  {
   "cell_type": "code",
   "execution_count": null,
   "id": "30c3faf2-b99d-4018-b1c5-e15b2733513a",
   "metadata": {},
   "outputs": [],
   "source": [
    "import random"
   ]
  },
  {
   "cell_type": "code",
   "execution_count": null,
   "id": "b2e58605-6cc3-420a-aa32-400b565f9df1",
   "metadata": {},
   "outputs": [],
   "source": [
    "noise = (np.random.sample((spec[0,0].shape[0], spec[0,0].shape[1])).astype(np.float32)) * 0.05 * (np.random.sample() + 0.3)"
   ]
  },
  {
   "cell_type": "code",
   "execution_count": null,
   "id": "d522cf4e-07c9-4b4b-ae84-1bcf4dcda81b",
   "metadata": {},
   "outputs": [],
   "source": [
    "r = random.randint(spec[0,0].shape[0]//2,spec[0,0].shape[0])\n",
    "x = random.random()/2\n",
    "pink_noise = torch.from_numpy(np.array([np.concatenate((1-np.arange(r)*x/r,np.zeros(spec[0,0].shape[0]-r)-x+1))]).T)"
   ]
  },
  {
   "cell_type": "code",
   "execution_count": null,
   "id": "0e5353ae-bdb6-45c4-a4a5-82032bec7a8e",
   "metadata": {},
   "outputs": [],
   "source": [
    "pink_noise.shape"
   ]
  },
  {
   "cell_type": "code",
   "execution_count": null,
   "id": "97112118-4b65-4d46-93d8-fd2c44157699",
   "metadata": {},
   "outputs": [],
   "source": [
    "spec[0,0] = spec[0,0] * pink_noise "
   ]
  },
  {
   "cell_type": "code",
   "execution_count": null,
   "id": "58a347fc-0233-4998-be60-8d908498ed5e",
   "metadata": {},
   "outputs": [],
   "source": [
    "plt.hist(torch.randn_like(spec[0,0]).numpy().flatten())"
   ]
  },
  {
   "cell_type": "code",
   "execution_count": null,
   "id": "381f8760-d271-46f1-b4cf-c7d2cce5afbf",
   "metadata": {},
   "outputs": [],
   "source": [
    "spec[0,0].min()"
   ]
  },
  {
   "cell_type": "code",
   "execution_count": null,
   "id": "0f33365b-9c3d-4b47-83c6-ca1e96ce1208",
   "metadata": {},
   "outputs": [],
   "source": [
    "sample = torch.randn(4, int(32000 * TRAIN_PERIOD))"
   ]
  },
  {
   "cell_type": "code",
   "execution_count": null,
   "id": "d9b987cb-33a9-43ea-8358-9b417a55c987",
   "metadata": {},
   "outputs": [],
   "source": [
    "with torch.no_grad():\n",
    "    out = model(sample)"
   ]
  },
  {
   "cell_type": "code",
   "execution_count": null,
   "id": "047b45be-f393-48cf-9dd4-59eb10006e37",
   "metadata": {},
   "outputs": [],
   "source": [
    "out[\"clipwise_pred_long\"]"
   ]
  },
  {
   "cell_type": "code",
   "execution_count": null,
   "id": "db95c88e-8185-4a7a-b337-0e9be4850e5a",
   "metadata": {},
   "outputs": [],
   "source": [
    "out_2[\"clipwise_pred_long\"]"
   ]
  },
  {
   "cell_type": "code",
   "execution_count": null,
   "id": "6478a20c-d451-42c0-9e2f-883c3c6422d1",
   "metadata": {},
   "outputs": [],
   "source": [
    "out_old[\"clipwise_pred_long\"]"
   ]
  },
  {
   "cell_type": "code",
   "execution_count": null,
   "id": "af5cf592-c65b-4928-b1aa-7f3af4f944d0",
   "metadata": {},
   "outputs": [],
   "source": [
    "out_old_2[\"clipwise_pred_long\"]"
   ]
  },
  {
   "cell_type": "code",
   "execution_count": null,
   "id": "beac990d-e20d-489c-a41c-677bd6ec837f",
   "metadata": {},
   "outputs": [],
   "source": [
    "both_masking = nn.Sequential(\n",
    "    CustomTimeMasking(\n",
    "        mask_max_length=20,\n",
    "        mask_max_masks=3,\n",
    "        p=0.3,\n",
    "        inplace=True\n",
    "    ),\n",
    "    CustomFreqMasking(\n",
    "        mask_max_length=10,\n",
    "        mask_max_masks=3,\n",
    "        p=0.3,\n",
    "        inplace=True\n",
    "    )\n",
    ")"
   ]
  },
  {
   "cell_type": "code",
   "execution_count": null,
   "id": "00a563f2-9cb2-4735-b775-d0bb29d5e561",
   "metadata": {},
   "outputs": [],
   "source": [
    "128 / 8"
   ]
  },
  {
   "cell_type": "code",
   "execution_count": null,
   "id": "42bbed3c-ee66-437d-9fef-27e41c5f6b3b",
   "metadata": {},
   "outputs": [],
   "source": [
    "256 / 8"
   ]
  },
  {
   "cell_type": "code",
   "execution_count": null,
   "id": "bd3a087c-de73-431c-ac90-35b14f399c5c",
   "metadata": {
    "tags": []
   },
   "outputs": [],
   "source": [
    "model"
   ]
  },
  {
   "cell_type": "code",
   "execution_count": null,
   "id": "0e881f93-a3a6-4796-a8b2-e454b4ede3c5",
   "metadata": {},
   "outputs": [],
   "source": [
    "sample_au = torch.from_numpy(sample_au)[None,...]\n",
    "# sample_au = torch.stack([sample_au, sample_au, sample_au, sample_au])"
   ]
  },
  {
   "cell_type": "code",
   "execution_count": null,
   "id": "528669dd-198f-46ca-99b7-0969fdf82e25",
   "metadata": {},
   "outputs": [],
   "source": [
    "spec = model.forward(\n",
    "    sample_au,\n",
    "    # torch.from_numpy(sample_au)[None,...],\n",
    "    return_spec_feature=True\n",
    ")"
   ]
  },
  {
   "cell_type": "code",
   "execution_count": null,
   "id": "4433ce4f-aa90-4008-97e6-db4a50118909",
   "metadata": {},
   "outputs": [],
   "source": [
    "spec"
   ]
  },
  {
   "cell_type": "code",
   "execution_count": null,
   "id": "68897ee9-f0db-4995-9141-a7b56433f1c5",
   "metadata": {},
   "outputs": [],
   "source": [
    "len(spec)"
   ]
  },
  {
   "cell_type": "code",
   "execution_count": null,
   "id": "44b2c960-c73a-44d1-8d8b-6be0e583755e",
   "metadata": {},
   "outputs": [],
   "source": [
    "plt.imshow(spec[0,0].detach())"
   ]
  },
  {
   "cell_type": "code",
   "execution_count": null,
   "id": "9615af34-7ca9-4a02-8618-8522d6f664cc",
   "metadata": {},
   "outputs": [],
   "source": [
    "plt.imshow(spec[0,0].detach())"
   ]
  },
  {
   "cell_type": "code",
   "execution_count": null,
   "id": "4dea602c-2795-4fc8-9be4-3614543488de",
   "metadata": {},
   "outputs": [],
   "source": [
    "some_backbone = timm.create_model(\n",
    "    \"eca_nfnet_l0\",\n",
    "    features_only=True,\n",
    "    pretrained=True,\n",
    "    exportable=True,\n",
    "    in_chans=2,\n",
    "    out_indices=None\n",
    ")\n",
    "some_backbone.eval();"
   ]
  },
  {
   "cell_type": "code",
   "execution_count": null,
   "id": "94c4c2bb-756b-4e4f-a1e5-62e9fbbb61a0",
   "metadata": {},
   "outputs": [],
   "source": [
    "some_backbone.feature_info.info"
   ]
  },
  {
   "cell_type": "code",
   "execution_count": null,
   "id": "28717014-0a0f-4b2c-a105-ac162262f780",
   "metadata": {},
   "outputs": [],
   "source": [
    "sample_input = torch.randn((1,2,256,256))"
   ]
  },
  {
   "cell_type": "code",
   "execution_count": null,
   "id": "30e174d2-9742-4a16-8772-94802515924a",
   "metadata": {},
   "outputs": [],
   "source": [
    "sample_input.mean((2,3), keepdims=True)"
   ]
  },
  {
   "cell_type": "code",
   "execution_count": null,
   "id": "10a00076-9b32-4995-a996-2b61ce00e65f",
   "metadata": {},
   "outputs": [],
   "source": [
    "type(sample_output_1)"
   ]
  },
  {
   "cell_type": "code",
   "execution_count": null,
   "id": "d366adc4-25aa-423d-9d26-f047aa44a3a4",
   "metadata": {},
   "outputs": [],
   "source": [
    "with torch.no_grad():\n",
    "    sample_output_2 = some_backbone(sample_input)"
   ]
  },
  {
   "cell_type": "code",
   "execution_count": null,
   "id": "aed39a8e-bb90-4bbc-b024-2ee9f5a46d0e",
   "metadata": {},
   "outputs": [],
   "source": [
    "len(sample_output_1), len(sample_output_2)"
   ]
  },
  {
   "cell_type": "code",
   "execution_count": null,
   "id": "ec744ad8-1371-43a0-ae9b-96569475002b",
   "metadata": {},
   "outputs": [],
   "source": [
    "torch.allclose(sample_output_1[3], sample_output_2[1])"
   ]
  },
  {
   "cell_type": "code",
   "execution_count": null,
   "id": "c6d56e0e-6027-4018-b055-dc65e9542b4a",
   "metadata": {},
   "outputs": [],
   "source": [
    "sample = torch.randn((4, int(TRAIN_PERIOD*32_000)))"
   ]
  },
  {
   "cell_type": "code",
   "execution_count": null,
   "id": "24eaf6ff-c5ef-4e45-b9a6-f530e63506c2",
   "metadata": {},
   "outputs": [],
   "source": [
    "model(sample)[\"clipwise_pred\"].shape"
   ]
  },
  {
   "cell_type": "code",
   "execution_count": null,
   "id": "86aca70c-0386-4a98-9e7e-4b527238437f",
   "metadata": {},
   "outputs": [],
   "source": [
    "sample = torch.from_numpy(librosa.util.normalize(test_audio[\n",
    "    test_sr*0:\n",
    "    test_sr*5\n",
    "]))[None,:]"
   ]
  },
  {
   "cell_type": "code",
   "execution_count": null,
   "id": "8db3750b-af8c-4c73-a886-7123650c550a",
   "metadata": {},
   "outputs": [],
   "source": [
    "sample.shape"
   ]
  },
  {
   "cell_type": "code",
   "execution_count": null,
   "id": "ab516bda-ea4c-4c78-a54a-0ec1f8b16f43",
   "metadata": {},
   "outputs": [],
   "source": [
    "spec = model.logmelspec_extractor(sample)"
   ]
  },
  {
   "cell_type": "code",
   "execution_count": null,
   "id": "c65ec2e2-bb16-489a-bda9-25ee840f9791",
   "metadata": {},
   "outputs": [],
   "source": [
    "spec.shape"
   ]
  },
  {
   "cell_type": "code",
   "execution_count": null,
   "id": "aa4fa713-fb0f-436c-8655-2f39350ab8e5",
   "metadata": {},
   "outputs": [],
   "source": [
    "spec.shape"
   ]
  },
  {
   "cell_type": "code",
   "execution_count": null,
   "id": "b58fb75a-f72d-4dcd-968b-56e7ba5632ed",
   "metadata": {},
   "outputs": [],
   "source": [
    "model.logmelspec_extractor"
   ]
  },
  {
   "cell_type": "code",
   "execution_count": null,
   "id": "c779b79e-ba96-438d-8b2e-a73b1ad25c9f",
   "metadata": {},
   "outputs": [],
   "source": [
    "embs = model.backbone(spec)"
   ]
  },
  {
   "cell_type": "code",
   "execution_count": null,
   "id": "865f5096-d6e9-4510-9f56-99b419f76586",
   "metadata": {},
   "outputs": [],
   "source": [
    "# model.train();\n",
    "model.eval();\n",
    "embs = model.forward(sample, return_spec_feature=True)"
   ]
  },
  {
   "cell_type": "code",
   "execution_count": null,
   "id": "44bf8459-e51d-47e4-9756-a303bd339e4f",
   "metadata": {},
   "outputs": [],
   "source": [
    "plt.imshow(embs[0,0])"
   ]
  },
  {
   "cell_type": "code",
   "execution_count": null,
   "id": "83bb626b-42aa-4634-94f7-0852691a42bc",
   "metadata": {},
   "outputs": [],
   "source": [
    "embs[\"clipwise_pred_long\"].min()"
   ]
  },
  {
   "cell_type": "code",
   "execution_count": null,
   "id": "fe712e37-60cd-497d-8f28-ec633c6b3b27",
   "metadata": {},
   "outputs": [],
   "source": [
    "embs.shape"
   ]
  },
  {
   "cell_type": "code",
   "execution_count": null,
   "id": "524bb925-5630-4e93-a2b0-63f663032614",
   "metadata": {},
   "outputs": [],
   "source": [
    "len(embs)"
   ]
  },
  {
   "cell_type": "code",
   "execution_count": null,
   "id": "9ba341c5-7c20-4fae-bf56-30f7d28282ca",
   "metadata": {},
   "outputs": [],
   "source": [
    "model.forward(sample)"
   ]
  },
  {
   "cell_type": "code",
   "execution_count": null,
   "id": "6379d11f-6549-4b39-9f22-c911806c7cfa",
   "metadata": {},
   "outputs": [],
   "source": [
    "embs.transpose()"
   ]
  },
  {
   "cell_type": "code",
   "execution_count": null,
   "id": "3f1f1c03-d569-46d8-9dee-687deacfc56f",
   "metadata": {},
   "outputs": [],
   "source": [
    "# torch.Size([4, 2304, 4, 10])"
   ]
  },
  {
   "cell_type": "code",
   "execution_count": null,
   "id": "92472284-689a-4cc5-97e9-24f3dfb5dc56",
   "metadata": {},
   "outputs": [],
   "source": [
    "len(embs)"
   ]
  },
  {
   "cell_type": "code",
   "execution_count": null,
   "id": "b66aa263-1b14-46c9-8cbd-91fd3a0f94fd",
   "metadata": {},
   "outputs": [],
   "source": [
    "probs = model.forward(sample)"
   ]
  },
  {
   "cell_type": "code",
   "execution_count": null,
   "id": "298e8f57-9d86-4b92-8933-733c1e2dfd34",
   "metadata": {},
   "outputs": [],
   "source": [
    "probs"
   ]
  },
  {
   "cell_type": "code",
   "execution_count": null,
   "id": "0bba9fd4-4908-40cf-ae5f-d41905390a95",
   "metadata": {},
   "outputs": [],
   "source": [
    "embs[2].shape"
   ]
  },
  {
   "cell_type": "code",
   "execution_count": null,
   "id": "f8a213dd-069d-4fa6-a5c2-13f404147d1d",
   "metadata": {},
   "outputs": [],
   "source": [
    "pool_layers = nn.ModuleList([\n",
    "    GeMFreqFixed(time_kernel_size=k*2 if k>0 else 1) for k in list(reversed(range(len(embs))))\n",
    "])"
   ]
  },
  {
   "cell_type": "code",
   "execution_count": null,
   "id": "0c59610e-77a7-4316-86f8-7b1880bb1fc4",
   "metadata": {},
   "outputs": [],
   "source": [
    "pooled_embs = [p(emb) for p, emb in zip(pool_layers, embs)]"
   ]
  },
  {
   "cell_type": "code",
   "execution_count": null,
   "id": "76f7511e-ddb9-442d-ae4b-3e119359645b",
   "metadata": {},
   "outputs": [],
   "source": [
    "for i in range(len(embs)):\n",
    "    print(pooled_embs[i].shape, embs[i].shape)"
   ]
  },
  {
   "cell_type": "code",
   "execution_count": null,
   "id": "defa86a9-e586-459c-bb7c-59b19a46dca5",
   "metadata": {},
   "outputs": [],
   "source": [
    "pooled_embs[3].shape, embs[3].shape"
   ]
  },
  {
   "cell_type": "code",
   "execution_count": null,
   "id": "c09718cd-e2bb-46c7-b8c3-3b21677de747",
   "metadata": {},
   "outputs": [],
   "source": []
  },
  {
   "cell_type": "code",
   "execution_count": null,
   "id": "992ac35a-6be8-431e-b47d-682b894d1456",
   "metadata": {},
   "outputs": [],
   "source": [
    "[k*2 if k>0 else 1 for k in list(reversed(range(len(embs))))]"
   ]
  },
  {
   "cell_type": "code",
   "execution_count": null,
   "id": "4e8a877a-341e-4647-b69b-05413c1a2414",
   "metadata": {},
   "outputs": [],
   "source": [
    "list(reversed(range(1, len(embs))))"
   ]
  },
  {
   "cell_type": "code",
   "execution_count": null,
   "id": "745a117e-8953-40c5-a26e-30cc759084d1",
   "metadata": {},
   "outputs": [],
   "source": [
    "[el.shape for el in embs]"
   ]
  },
  {
   "cell_type": "code",
   "execution_count": null,
   "id": "43e84d2b-d2de-45ea-ad24-bc6c8cee438c",
   "metadata": {},
   "outputs": [],
   "source": [
    "avg_pool = torch.nn.AvgPool2d(kernel_size=(2,2))"
   ]
  },
  {
   "cell_type": "code",
   "execution_count": null,
   "id": "4e0bb690-ade1-4193-a21f-b4eab9c0c945",
   "metadata": {},
   "outputs": [],
   "source": [
    "avg_pool(embs[-2]).shape"
   ]
  },
  {
   "cell_type": "code",
   "execution_count": null,
   "id": "41a963cd-0441-463c-94e4-b27dfcb2d0f2",
   "metadata": {},
   "outputs": [],
   "source": [
    "spec = model(sample)"
   ]
  },
  {
   "cell_type": "code",
   "execution_count": null,
   "id": "feaeb533-bec8-47d5-ab59-f69d9d62c963",
   "metadata": {},
   "outputs": [],
   "source": [
    "spec.shape"
   ]
  },
  {
   "cell_type": "code",
   "execution_count": null,
   "id": "b20b37ed-2100-4074-89a3-cd12b02f6e71",
   "metadata": {},
   "outputs": [],
   "source": [
    "!rm test_onnx -rf"
   ]
  },
  {
   "cell_type": "code",
   "execution_count": null,
   "id": "3faeaddb-0a57-46fe-8daf-239f94659cbe",
   "metadata": {},
   "outputs": [],
   "source": [
    "model.eval()\n",
    "convert_to_onnx(\n",
    "    model_to_convert=model,\n",
    "    sample_input=torch.randn(4, int(TRAIN_PERIOD * 32_000)),\n",
    "    # base_path=f\"../logdirs/tf_efficientnetv2_m_in21ft1k_convnext_tiny_in22ft1k_eca_nfnet_l0_noval_v3AllTune_075Clipwise025TimeMax_GausMean/onnx_ensem\"\n",
    "    base_path=\"test_onnx\"\n",
    ")"
   ]
  },
  {
   "cell_type": "code",
   "execution_count": null,
   "id": "0eb8fa2c-bcba-4620-91ca-631d2c0e9206",
   "metadata": {},
   "outputs": [],
   "source": [
    "model = ort.InferenceSession(f\"test_onnx/model_simpl.onnx\")"
   ]
  },
  {
   "cell_type": "code",
   "execution_count": null,
   "id": "1f84d6d9-6c63-4a75-b462-26031147dbab",
   "metadata": {},
   "outputs": [],
   "source": [
    "out = model.run(None, {\"input\": torch.randn(4, int(TRAIN_PERIOD * 32_000)).numpy()})[0]"
   ]
  },
  {
   "cell_type": "code",
   "execution_count": null,
   "id": "8552f139-afa0-487c-9b60-2ad16a2e7289",
   "metadata": {},
   "outputs": [],
   "source": [
    "out.shape"
   ]
  },
  {
   "cell_type": "code",
   "execution_count": null,
   "id": "6d1ab01e-8169-48d3-b7a6-3820fd6cbb31",
   "metadata": {},
   "outputs": [],
   "source": [
    "out"
   ]
  },
  {
   "cell_type": "markdown",
   "id": "f9d9ec74-0946-45de-a0ad-077a1c8f7d0f",
   "metadata": {},
   "source": [
    "# Losses"
   ]
  },
  {
   "cell_type": "code",
   "execution_count": null,
   "id": "7f071c65-ba2b-4815-b6f7-ab32f0e59b15",
   "metadata": {},
   "outputs": [],
   "source": [
    "from code_base.losses.focal_loss import FocalLossBCE"
   ]
  },
  {
   "cell_type": "code",
   "execution_count": null,
   "id": "b74ed212-7781-4ac5-bb99-2de8dd5d42c2",
   "metadata": {},
   "outputs": [],
   "source": [
    "loss_f = FocalLossBCE(reduction=\"None\")"
   ]
  },
  {
   "cell_type": "code",
   "execution_count": null,
   "id": "81a0f23f-51f3-4d92-8284-d4f7600d5d92",
   "metadata": {},
   "outputs": [],
   "source": [
    "((torch.rand(100000) < 0.8).float()).mean()"
   ]
  },
  {
   "cell_type": "code",
   "execution_count": null,
   "id": "178dafdf-0dfa-4f19-a2ff-1479e593ef24",
   "metadata": {},
   "outputs": [],
   "source": [
    "inputs = torch.randn()"
   ]
  },
  {
   "cell_type": "code",
   "execution_count": null,
   "id": "8d269f2b-bee0-44dc-9996-dc839dff6603",
   "metadata": {},
   "outputs": [],
   "source": [
    "loss_f.forward()"
   ]
  },
  {
   "cell_type": "markdown",
   "id": "f4d76856-d03e-4c77-94e5-aa4d07d84070",
   "metadata": {},
   "source": [
    "# Prepare final datasets"
   ]
  },
  {
   "cell_type": "code",
   "execution_count": null,
   "id": "606b1145-e73a-4388-928a-ca572522dc77",
   "metadata": {},
   "outputs": [],
   "source": [
    "train_metadata_extended_202x = pd.read_csv(\n",
    "    \"/home/vova/data/exps/BirdCLEF_2023/train_metadata_extended_2020_2022_no2023_scored_nodupl_v1_only_prime_2023SecLabels.csv\"\n",
    ")\n",
    "xc_add_first = pd.read_csv(\n",
    "    \"/home/vova/data/exps/BirdCLEF_2023/xeno_canto/scored_2023_xc_2023SecLabels.csv\"\n",
    ")\n",
    "xc_add_second = pd.read_csv(\n",
    "    \"/home/vova/data/exps/BirdCLEF_2023/xeno_canto/scored_2023_xc_2023SecLabels_till_12_05_2023_v2.csv\"\n",
    ")"
   ]
  },
  {
   "cell_type": "code",
   "execution_count": null,
   "id": "e6041d72-c252-4f4e-a841-1f81caa37de9",
   "metadata": {},
   "outputs": [],
   "source": [
    "xc_add_first.filename.iloc[0]"
   ]
  },
  {
   "cell_type": "code",
   "execution_count": null,
   "id": "34747da5-872b-4ce4-ab6a-2e7cfc022a51",
   "metadata": {},
   "outputs": [],
   "source": [
    "for fname in tqdm(xc_add_second[\"filename\"]):\n",
    "    splitted_fname = fname.split(\"/\")\n",
    "    new_fname = os.path.join(\"/home/vova/src/exps/BirdCLEF_2023_1st_place/data/birdclef_2023_data_part1/audio/\", splitted_fname[-2], splitted_fname[-1])\n",
    "    if not os.path.exists(os.path.dirname(new_fname)):\n",
    "        os.makedirs(os.path.dirname(new_fname))\n",
    "    copyfile(\n",
    "        fname,\n",
    "        os.path.join(\"/home/vova/src/exps/BirdCLEF_2023_1st_place/data/birdclef_2023_data_part1/audio/\", splitted_fname[-2], splitted_fname[-1])\n",
    "    )"
   ]
  },
  {
   "cell_type": "code",
   "execution_count": null,
   "id": "f8b60198-074a-4dd8-b269-08ebd41a4f88",
   "metadata": {},
   "outputs": [],
   "source": [
    "def modify_name(input):\n",
    "    splitted_fname = input.split(\"/\")\n",
    "    return os.path.join(splitted_fname[-2], splitted_fname[-1])"
   ]
  },
  {
   "cell_type": "code",
   "execution_count": null,
   "id": "593a4ead-bcfc-4815-a037-2ba3b707004b",
   "metadata": {},
   "outputs": [],
   "source": [
    "train_metadata_extended_202x[\"filename\"] = train_metadata_extended_202x[\"filename\"].apply(modify_name)\n",
    "xc_add_first[\"filename\"] = xc_add_first[\"filename\"].apply(modify_name)\n",
    "xc_add_second[\"filename\"] = xc_add_second[\"filename\"].apply(modify_name)"
   ]
  },
  {
   "cell_type": "code",
   "execution_count": null,
   "id": "742765ad-b2a1-4a75-85c9-8ab22cda8a7d",
   "metadata": {},
   "outputs": [],
   "source": [
    "train_metadata_extended_202x.drop(columns=\"Unnamed: 0\").to_csv(\n",
    "    \"/home/vova/src/exps/BirdCLEF_2023_1st_place/data/birdclef_2023_data_part1/train_metadata_extended_2020_2022_no2023_scored_nodupl_v1_only_prime_2023SecLabels.csv\",\n",
    "    index=False\n",
    ")\n",
    "xc_add_first.to_csv(\n",
    "    \"/home/vova/src/exps/BirdCLEF_2023_1st_place/data/birdclef_2023_data_part1/scored_2023_xc_2023SecLabels.csv\",\n",
    "    index=False\n",
    ")\n",
    "xc_add_second.to_csv(\n",
    "    \"/home/vova/src/exps/BirdCLEF_2023_1st_place/data/birdclef_2023_data_part1/scored_2023_xc_2023SecLabels_till_12_05_2023_v2.csv\",\n",
    "    index=False\n",
    ")"
   ]
  },
  {
   "cell_type": "code",
   "execution_count": null,
   "id": "ab2cc715-8956-4276-8d5d-243a45e14f33",
   "metadata": {},
   "outputs": [],
   "source": [
    "background_noise = pd.read_csv(\n",
    "    \"/home/vova/data/exps/BirdCLEF_2023/soundscapes_processed/v1_no_call_meta.csv\"\n",
    ")"
   ]
  },
  {
   "cell_type": "code",
   "execution_count": null,
   "id": "df4d0bb6-ce58-4986-bd2e-550492884937",
   "metadata": {},
   "outputs": [],
   "source": [
    "background_noise[\"filename\"].iloc[0]"
   ]
  },
  {
   "cell_type": "code",
   "execution_count": null,
   "id": "32810c0f-a7ba-47dd-9f0c-14d12ec443db",
   "metadata": {},
   "outputs": [],
   "source": [
    "for fname in tqdm(background_noise[\"filename\"]):\n",
    "    splitted_fname = fname.split(\"/\")\n",
    "    new_fname = os.path.join(\"/home/vova/src/exps/BirdCLEF_2023_1st_place/data/birdclef_2023_data_part1/soundscapes_nocall/\", splitted_fname[-2], splitted_fname[-1])\n",
    "    if os.path.exists(new_fname):\n",
    "        continue\n",
    "    if not os.path.exists(os.path.dirname(new_fname)):\n",
    "        os.makedirs(os.path.dirname(new_fname))\n",
    "    copyfile(\n",
    "        fname,\n",
    "        new_fname\n",
    "    )"
   ]
  },
  {
   "cell_type": "code",
   "execution_count": null,
   "id": "73afe515-511f-49f8-94ba-14dcb297d40f",
   "metadata": {},
   "outputs": [],
   "source": [
    "background_noise[\"filename\"] = background_noise[\"filename\"].apply(os.path.basename)"
   ]
  },
  {
   "cell_type": "code",
   "execution_count": null,
   "id": "615f6952-62d2-49d7-80e9-69665387ece5",
   "metadata": {},
   "outputs": [],
   "source": [
    "background_noise"
   ]
  },
  {
   "cell_type": "code",
   "execution_count": null,
   "id": "a3fcf053-316e-4b73-bf95-defd756fd7e5",
   "metadata": {},
   "outputs": [],
   "source": [
    "background_noise.to_csv(\n",
    "    \"/home/vova/src/exps/BirdCLEF_2023_1st_place/data/birdclef_2023_data_part1/v1_no_call_meta.csv\",\n",
    "    index=False\n",
    ")"
   ]
  },
  {
   "cell_type": "code",
   "execution_count": null,
   "id": "26402e00-8530-4169-89df-6b73d0bdb816",
   "metadata": {},
   "outputs": [],
   "source": [
    "background_noise_esc50 = pd.read_csv(\n",
    "    \"../../BirdCLEF_2023_1st_place/data/birdclef_2023_data_part1/esc50_background.csv\"\n",
    ")"
   ]
  },
  {
   "cell_type": "code",
   "execution_count": null,
   "id": "eeb20b7c-4dc9-4d27-9e00-27e42622623f",
   "metadata": {},
   "outputs": [],
   "source": [
    "for fname in tqdm(background_noise_esc50[\"filename\"]):\n",
    "    splitted_fname = fname.split(\"/\")\n",
    "    new_fname = os.path.join(\"/home/vova/src/exps/BirdCLEF_2023_1st_place/data/birdclef_2023_data_part1/esc50/\", splitted_fname[-2], splitted_fname[-1])\n",
    "    if os.path.exists(new_fname):\n",
    "        continue\n",
    "    if not os.path.exists(os.path.dirname(new_fname)):\n",
    "        os.makedirs(os.path.dirname(new_fname))\n",
    "    copyfile(\n",
    "        fname,\n",
    "        new_fname\n",
    "    )"
   ]
  },
  {
   "cell_type": "code",
   "execution_count": null,
   "id": "32e34031-f67f-45e7-9af6-5a476bee521a",
   "metadata": {},
   "outputs": [],
   "source": [
    "background_noise_esc50[\"filename\"] = background_noise_esc50[\"filename\"].apply(os.path.basename)"
   ]
  },
  {
   "cell_type": "code",
   "execution_count": null,
   "id": "f2cf08ef-6219-479b-8c6e-176487b510d8",
   "metadata": {},
   "outputs": [],
   "source": [
    "background_noise_esc50.to_csv(\n",
    "    \"/home/vova/src/exps/BirdCLEF_2023_1st_place/data/birdclef_2023_data_part1/esc50_background.csv\",\n",
    "    index=False\n",
    ")"
   ]
  },
  {
   "cell_type": "code",
   "execution_count": null,
   "id": "e4b9aeed-2167-4b45-9fca-8c21b6dbd7ca",
   "metadata": {},
   "outputs": [],
   "source": [
    "pretrain_dataset = pd.read_csv(\n",
    "    \"/home/vova/data/exps/BirdCLEF_2023/xeno_canto/train_metadata_extended_shorten_and_2023x_v3.csv\"\n",
    ")"
   ]
  },
  {
   "cell_type": "code",
   "execution_count": null,
   "id": "ebea09e9-14a9-49f7-80eb-238bccb52ffc",
   "metadata": {},
   "outputs": [],
   "source": [
    "pretrain_dataset[\"filename\"].apply(lambda x: \"/\".join(x.split(\"/\")[:-2])).value_counts()"
   ]
  },
  {
   "cell_type": "code",
   "execution_count": null,
   "id": "0cd657cf-d97a-4756-a468-4faf178d9b19",
   "metadata": {},
   "outputs": [],
   "source": [
    "pretrain_dataset_2021 = pretrain_dataset[\n",
    "    pretrain_dataset[\"filename\"].apply(lambda x: \"/\".join(x.split(\"/\")[:-2])) == \"/home/vova/data/exps/BirdCLEF_2023/birdclef_2021/train_short_audio\"\n",
    "]"
   ]
  },
  {
   "cell_type": "code",
   "execution_count": null,
   "id": "9fb16d5b-1a03-45fd-9b63-6c69b3af52b5",
   "metadata": {},
   "outputs": [],
   "source": [
    "pretrain_dataset_2021[\"filename\"].apply(lambda x: \"/\".join(x.split(\"/\")[:-2])).value_counts()"
   ]
  },
  {
   "cell_type": "code",
   "execution_count": null,
   "id": "fb1a5557-272d-4a6d-9587-7a15ca11e777",
   "metadata": {},
   "outputs": [],
   "source": [
    "pretrain_dataset_2021[\"filename\"].iloc[0]"
   ]
  },
  {
   "cell_type": "code",
   "execution_count": null,
   "id": "b635dc54-f717-456e-a032-96b89bd1add2",
   "metadata": {},
   "outputs": [],
   "source": [
    "for fname in tqdm(pretrain_dataset_2021[\"filename\"]):\n",
    "    splitted_fname = fname.split(\"/\")\n",
    "    new_fname = os.path.join(\"/home/vova/src/exps/BirdCLEF_2023_1st_place/data/birdclef_2023_data_part5/birdclef_2021\", splitted_fname[-2], splitted_fname[-1])\n",
    "    if os.path.exists(new_fname):\n",
    "        continue\n",
    "    if not os.path.exists(os.path.dirname(new_fname)):\n",
    "        os.makedirs(os.path.dirname(new_fname))\n",
    "    copyfile(\n",
    "        fname,\n",
    "        new_fname\n",
    "    )"
   ]
  },
  {
   "cell_type": "code",
   "execution_count": null,
   "id": "5f7c2eb2-5d5e-44a8-bc7b-b1542655ebb0",
   "metadata": {},
   "outputs": [],
   "source": [
    "pretrain_dataset_xc = pretrain_dataset[\n",
    "    pretrain_dataset[\"filename\"].apply(lambda x: \"/\".join(x.split(\"/\")[:-2])) == \"/home/vova/data/exps/BirdCLEF_2023/xeno_canto/dataset/audio\"\n",
    "]"
   ]
  },
  {
   "cell_type": "code",
   "execution_count": null,
   "id": "e339654b-577e-455e-9c79-0d693e85be0e",
   "metadata": {},
   "outputs": [],
   "source": [
    "pretrain_dataset_xc[\"filename\"].apply(lambda x: \"/\".join(x.split(\"/\")[:-2])).value_counts()"
   ]
  },
  {
   "cell_type": "code",
   "execution_count": null,
   "id": "170cdb0a-a6fe-4cdb-bcb2-0cf3e42bc8c5",
   "metadata": {},
   "outputs": [],
   "source": [
    "for fname in tqdm(pretrain_dataset_xc[\"filename\"]):\n",
    "    splitted_fname = fname.split(\"/\")\n",
    "    new_fname = os.path.join(\"/home/vova/src/exps/BirdCLEF_2023_1st_place/data/birdclef_2023_data_part6/xeno_canto/\", splitted_fname[-2], splitted_fname[-1])\n",
    "    if os.path.exists(new_fname):\n",
    "        continue\n",
    "    if not os.path.exists(os.path.dirname(new_fname)):\n",
    "        os.makedirs(os.path.dirname(new_fname))\n",
    "    copyfile(\n",
    "        fname,\n",
    "        new_fname\n",
    "    )"
   ]
  },
  {
   "cell_type": "code",
   "execution_count": null,
   "id": "4f7ec946-b207-4218-9b1c-23972c122eeb",
   "metadata": {},
   "outputs": [],
   "source": [
    "pretrain_dataset[\"temp\"] = pretrain_dataset[\"filename_h5py\"].apply(lambda x: \"/\".join(x.split(\"/\")[:-2]))"
   ]
  },
  {
   "cell_type": "code",
   "execution_count": null,
   "id": "44ebce04-a8db-4e9b-bdd9-6e643260846e",
   "metadata": {},
   "outputs": [],
   "source": [
    "pretrain_dataset_2022 = pretrain_dataset[\n",
    "    pretrain_dataset[\"filename\"].apply(lambda x: \"/\".join(x.split(\"/\")[:-2])) == \"/home/vova/data/exps/BirdCLEF_2023/birdclef_2022/train_audio\"\n",
    "]"
   ]
  },
  {
   "cell_type": "code",
   "execution_count": null,
   "id": "5f607675-4343-42a7-b83a-759e6483dac7",
   "metadata": {},
   "outputs": [],
   "source": [
    "pretrain_dataset[\"temp\"].value_counts()"
   ]
  },
  {
   "cell_type": "code",
   "execution_count": null,
   "id": "bbce8c9e-b722-406c-9f2a-44e8bd464219",
   "metadata": {},
   "outputs": [],
   "source": [
    "for fname in tqdm(pretrain_dataset_2022[\"filename\"]):\n",
    "    splitted_fname = fname.split(\"/\")\n",
    "    new_fname = os.path.join(\"/home/vova/src/exps/BirdCLEF_2023_1st_place/data/birdclef_2023_data_part8/birdclef_2022\", splitted_fname[-2], splitted_fname[-1])\n",
    "    if os.path.exists(new_fname):\n",
    "        continue\n",
    "    if not os.path.exists(os.path.dirname(new_fname)):\n",
    "        os.makedirs(os.path.dirname(new_fname))\n",
    "    copyfile(\n",
    "        fname,\n",
    "        new_fname\n",
    "    )"
   ]
  },
  {
   "cell_type": "code",
   "execution_count": null,
   "id": "27372fde-800d-4fed-b58c-28e18c3706f1",
   "metadata": {},
   "outputs": [],
   "source": [
    "# /home/vova/data/exps/BirdCLEF_2023/birdclef_2020/audio_features\n",
    "pretrain_dataset.loc[\n",
    "    pretrain_dataset[\"temp\"] == \"/home/vova/data/exps/BirdCLEF_2023/birdclef_2020/audio_features\",\n",
    "    \"filename_h5py\"\n",
    "] = pretrain_dataset.loc[\n",
    "    pretrain_dataset[\"temp\"] == \"/home/vova/data/exps/BirdCLEF_2023/birdclef_2020/audio_features\",\n",
    "    \"filename_h5py\"\n",
    "].apply(lambda x: x.replace(\"/home/vova/data/exps/BirdCLEF_2023/birdclef_2020/audio_features\", \"data/birdclef_2020_features\"))\n",
    "# /home/vova/data/exps/BirdCLEF_2023/birdclef_2020_xc_a_m/audio_features\n",
    "pretrain_dataset.loc[\n",
    "    pretrain_dataset[\"temp\"] == \"/home/vova/data/exps/BirdCLEF_2023/birdclef_2020_xc_a_m/audio_features\",\n",
    "    \"filename_h5py\"\n",
    "] = pretrain_dataset.loc[\n",
    "    pretrain_dataset[\"temp\"] == \"/home/vova/data/exps/BirdCLEF_2023/birdclef_2020_xc_a_m/audio_features\",\n",
    "    \"filename_h5py\"\n",
    "].apply(lambda x: x.replace(\"/home/vova/data/exps/BirdCLEF_2023/birdclef_2020_xc_a_m/audio_features\", \"data/birdclef_2020_xc_a_m_features\"))\n",
    "# /home/vova/data/exps/BirdCLEF_2023/birdclef_2020_xc_n_z/audio_features\n",
    "pretrain_dataset.loc[\n",
    "    pretrain_dataset[\"temp\"] == \"/home/vova/data/exps/BirdCLEF_2023/birdclef_2020_xc_n_z/audio_features\",\n",
    "    \"filename_h5py\"\n",
    "] = pretrain_dataset.loc[\n",
    "    pretrain_dataset[\"temp\"] == \"/home/vova/data/exps/BirdCLEF_2023/birdclef_2020_xc_n_z/audio_features\",\n",
    "    \"filename_h5py\"\n",
    "].apply(lambda x: x.replace(\"/home/vova/data/exps/BirdCLEF_2023/birdclef_2020_xc_n_z/audio_features\", \"data/birdclef_2020_xc_n_z_features\"))\n",
    "# /home/vova/data/exps/BirdCLEF_2023/birdclef_2021/audio_features\n",
    "pretrain_dataset.loc[\n",
    "    pretrain_dataset[\"temp\"] == \"/home/vova/data/exps/BirdCLEF_2023/birdclef_2021/audio_features\",\n",
    "    \"filename_h5py\"\n",
    "] = pretrain_dataset.loc[\n",
    "    pretrain_dataset[\"temp\"] == \"/home/vova/data/exps/BirdCLEF_2023/birdclef_2021/audio_features\",\n",
    "    \"filename_h5py\"\n",
    "].apply(lambda x: x.replace(\"/home/vova/data/exps/BirdCLEF_2023/birdclef_2021/audio_features\", \"data/birdclef_2021_features\"))\n",
    "# /home/vova/data/exps/BirdCLEF_2023/birdclef_2022/train_audio\n",
    "pretrain_dataset.loc[\n",
    "    pretrain_dataset[\"temp\"] == \"/home/vova/data/exps/BirdCLEF_2023/birdclef_2022/audio_features\",\n",
    "    \"filename_h5py\"\n",
    "] = pretrain_dataset.loc[\n",
    "    pretrain_dataset[\"temp\"] == \"/home/vova/data/exps/BirdCLEF_2023/birdclef_2022/audio_features\",\n",
    "    \"filename_h5py\"\n",
    "].apply(lambda x: x.replace(\"/home/vova/data/exps/BirdCLEF_2023/birdclef_2022/audio_features\", \"data/birdclef_2022_features\"))\n",
    "# /home/vova/data/exps/BirdCLEF_2023/xeno_canto/audio_features\n",
    "pretrain_dataset.loc[\n",
    "    pretrain_dataset[\"temp\"] == \"/home/vova/data/exps/BirdCLEF_2023/xeno_canto/audio_features\",\n",
    "    \"filename_h5py\"\n",
    "] = pretrain_dataset.loc[\n",
    "    pretrain_dataset[\"temp\"] == \"/home/vova/data/exps/BirdCLEF_2023/xeno_canto/audio_features\",\n",
    "    \"filename_h5py\"\n",
    "].apply(lambda x: x.replace(\"/home/vova/data/exps/BirdCLEF_2023/xeno_canto/audio_features\", \"data/xeno_canto_features\"))"
   ]
  },
  {
   "cell_type": "code",
   "execution_count": null,
   "id": "b3cbe4ec-a407-4c3c-af17-44680c29651c",
   "metadata": {},
   "outputs": [],
   "source": [
    "pretrain_dataset.loc[\n",
    "    pretrain_dataset[\"filename_h5py\"].apply(lambda x: os.path.exists(os.path.join(\"/home/vova/src/exps/BirdCLEF_2023_1st_place\", x))), \n",
    "    \"temp\"\n",
    "].value_counts()"
   ]
  },
  {
   "cell_type": "code",
   "execution_count": null,
   "id": "b96be60d-cf6c-467c-a631-b692cb83dee9",
   "metadata": {},
   "outputs": [],
   "source": [
    "pretrain_dataset.loc[\n",
    "    ~pretrain_dataset[\"filename_h5py\"].apply(lambda x: os.path.exists(os.path.join(\"/home/vova/src/exps/BirdCLEF_2023_1st_place\", x))), \n",
    "    \"temp\"\n",
    "].value_counts()"
   ]
  },
  {
   "cell_type": "code",
   "execution_count": null,
   "id": "976e3c9f-0a0e-4624-a5c1-998dc891b3d7",
   "metadata": {},
   "outputs": [],
   "source": [
    "pretrain_dataset = pretrain_dataset.drop(columns=[\"temp\"])\n",
    "pretrain_dataset[\"filename\"] = pretrain_dataset[\"filename\"].apply(modify_name)"
   ]
  },
  {
   "cell_type": "code",
   "execution_count": null,
   "id": "b5f4d19e-07d8-415e-9a35-ed42384a764f",
   "metadata": {},
   "outputs": [],
   "source": [
    "pretrain_dataset.to_csv(\n",
    "    \"/home/vova/src/exps/BirdCLEF_2023_1st_place/data/train_metadata_extended_shorten_and_2023x_v3.csv\",\n",
    "    index=False\n",
    ")"
   ]
  },
  {
   "cell_type": "code",
   "execution_count": null,
   "id": "f7d171ea-50b7-4a16-b851-276a36ddc219",
   "metadata": {},
   "outputs": [],
   "source": [
    "background_noise_esc50"
   ]
  },
  {
   "cell_type": "code",
   "execution_count": null,
   "id": "3af1a27f-e349-4814-8b04-cd3f39523dce",
   "metadata": {},
   "outputs": [],
   "source": [
    "v1_no_call_meta = pd.read_csv(\"/home/vova/src/exps/BirdCLEF_2023_1st_place/data/v1_no_call_meta.csv\")"
   ]
  },
  {
   "cell_type": "code",
   "execution_count": null,
   "id": "9dfafaf9-6bb0-4310-baa6-d3ecd3e36d7b",
   "metadata": {},
   "outputs": [],
   "source": [
    "v1_no_call_meta[\n",
    "    ~v1_no_call_meta[\"filename\"].apply(lambda x: os.path.exists(os.path.join(\"/home/vova/src/exps/BirdCLEF_2023_1st_place/data/soundscapes_nocall/train_audio/\", x)))\n",
    "]"
   ]
  },
  {
   "cell_type": "code",
   "execution_count": null,
   "id": "821c9d52-dc04-4b66-94ae-aaa5c457b9a7",
   "metadata": {},
   "outputs": [],
   "source": []
  }
 ],
 "metadata": {
  "kernelspec": {
   "display_name": "Python 3 (ipykernel)",
   "language": "python",
   "name": "python3"
  },
  "language_info": {
   "codemirror_mode": {
    "name": "ipython",
    "version": 3
   },
   "file_extension": ".py",
   "mimetype": "text/x-python",
   "name": "python",
   "nbconvert_exporter": "python",
   "pygments_lexer": "ipython3",
   "version": "3.11.1"
  }
 },
 "nbformat": 4,
 "nbformat_minor": 5
}
