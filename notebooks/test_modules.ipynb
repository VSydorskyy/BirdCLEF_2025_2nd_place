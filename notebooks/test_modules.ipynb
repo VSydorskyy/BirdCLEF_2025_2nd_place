{
 "cells": [
  {
   "cell_type": "code",
   "execution_count": 1,
   "id": "846b067d-679f-4a67-ae3c-672614a3b511",
   "metadata": {},
   "outputs": [
    {
     "name": "stderr",
     "output_type": "stream",
     "text": [
      "/backup/vova/src/exps/bird_clef_2024/.venv/lib/python3.11/site-packages/tqdm/auto.py:21: TqdmWarning: IProgress not found. Please update jupyter and ipywidgets. See https://ipywidgets.readthedocs.io/en/stable/user_install.html\n",
      "  from .autonotebook import tqdm as notebook_tqdm\n",
      "/backup/vova/src/exps/bird_clef_2024/.venv/lib/python3.11/site-packages/nnAudio/Spectrogram.py:4: Warning: importing Spectrogram subpackage will be deprecated soon. You should import the feature extractor from the feature subpackage. See actual documentation.\n",
      "  warnings.warn(\n"
     ]
    },
    {
     "name": "stdout",
     "output_type": "stream",
     "text": [
      "`speechbrain` was not imported\n",
      "`LEAF` was not imported\n"
     ]
    }
   ],
   "source": [
    "%load_ext autoreload\n",
    "%autoreload 2\n",
    "\n",
    "import os\n",
    "os.environ[\"CUDA_VISIBLE_DEVICES\"]=\"2\"\n",
    "\n",
    "import pandas as pd\n",
    "import numpy as np\n",
    "import librosa\n",
    "import seaborn as sns\n",
    "import os\n",
    "import json\n",
    "import IPython.display as ipd\n",
    "import soundfile as sf\n",
    "import torch\n",
    "import collections\n",
    "import h5py\n",
    "import timm\n",
    "import torch.nn as nn\n",
    "import onnxruntime as ort\n",
    "import torchaudio\n",
    "\n",
    "from glob import glob\n",
    "from tqdm import tqdm\n",
    "from matplotlib import pyplot as plt\n",
    "from itertools import chain\n",
    "from os.path import join as pjoin\n",
    "from torchaudio.transforms import AmplitudeToDB, MelSpectrogram\n",
    "from copy import deepcopy\n",
    "from typing import Callable\n",
    "from nnAudio.Spectrogram import CQT1992v2\n",
    "# import leaf_audio_pytorch.frontend as frontend\n",
    "from torchaudio.transforms import TimeMasking, FrequencyMasking\n",
    "from shutil import copyfile\n",
    "from torchaudio.transforms import Resample\n",
    "from torchaudio.transforms import MelSpectrogram\n",
    "\n",
    "# from code_base.utils import parallel_librosa_load, groupby_np_array, stack_and_max_by_samples, load_pp_audio\n",
    "# from code_base.utils.constants import SAMPLE_RATE, N_CLASSES_2021_2022\n",
    "from code_base.utils.onnx_utils import convert_to_onnx\n",
    "from code_base.models import WaveCNNClasifier, WaveCNNAttenClasifier, WaveTDNNClasifier, RandomFiltering\n",
    "from code_base.models.blocks import TraceableMelspec, NormalizeMelSpec, GeMFreqFixed, ChannelAgnosticAmplitudeToDB\n",
    "# from code_base.models.wave_clasifier import WaveCNNAttenClasifier\n",
    "from code_base.datasets import WaveDataset, WaveAllFileDataset\n",
    "from code_base.utils import load_json, write_json\n",
    "from code_base.utils.audio_utils import get_librosa_load\n",
    "from code_base.schedulers import GradualWarmupSchedulerV2\n",
    "# from code_base.augmentations.background_noise import AddBackgoundFromSoundScapes\n",
    "# from code_base.augmentations.transforms import BackgroundNoise, Compose, GaussianNoise, PinkNoise, OneOf\n",
    "# from code_base.forwards import MultilabelClsForwardLongShort\n",
    "# from code_base.utils.onnx_utils import ONNXEnsemble, convert_to_onnx\n",
    "from code_base.augmentations.transforms import (\n",
    "    BackgroundNoise,\n",
    "    Compose,\n",
    "    GaussianNoise,\n",
    "    OneOf,\n",
    "    PinkNoise,\n",
    "    TimeFlip\n",
    ")\n",
    "%matplotlib inline\n"
   ]
  },
  {
   "cell_type": "code",
   "execution_count": null,
   "id": "76c5c270-08d0-4ba6-acc3-873ea51ea517",
   "metadata": {},
   "outputs": [],
   "source": [
    "len(glob(\"/home/vova/data/exps/birdclef_2024/birdclef_2024/unlabeled_soundscapes_features/*.hdf5\"))"
   ]
  },
  {
   "cell_type": "markdown",
   "id": "c4f88409-2499-46a3-a32b-22c6d45ca2ad",
   "metadata": {},
   "source": [
    "# Data"
   ]
  },
  {
   "cell_type": "code",
   "execution_count": null,
   "id": "4ddb8e9a-54cf-4d31-9628-1347207c293b",
   "metadata": {},
   "outputs": [],
   "source": [
    "def sample_uniformly_np_index(merged_intervals):\n",
    "    # Calculate the total span of all intervals in terms of seconds\n",
    "    total_seconds = sum(interval[1] - interval[0] for interval in merged_intervals)\n",
    "\n",
    "    # Generate a random position within the total span as a float\n",
    "    random_position = np.random.uniform(0, total_seconds)\n",
    "    \n",
    "    # Map the random position to an actual interval\n",
    "    current_position = 0\n",
    "    for index, (start, end, labels) in enumerate(merged_intervals):\n",
    "        interval_length = end - start\n",
    "        if current_position + interval_length > random_position:\n",
    "            # Calculate the actual second within the interval as a float\n",
    "            sampled_second = start + (random_position - current_position)\n",
    "            return sampled_second, index\n",
    "        current_position += interval_length\n",
    "\n",
    "    raise RuntimeError(\"sample_uniformly_np_index was not able to pick chunk\")"
   ]
  },
  {
   "cell_type": "code",
   "execution_count": 2,
   "id": "6c5eb2de-f276-48be-bf11-16f58a62cde5",
   "metadata": {},
   "outputs": [
    {
     "name": "stderr",
     "output_type": "stream",
     "text": [
      "/tmp/ipykernel_1174208/3403899871.py:2: DtypeWarning: Columns (3,4) have mixed types. Specify dtype option on import or set low_memory=False.\n",
      "  df = pd.read_csv(\"/home/vova/data/exps/birdclef_2024/birdclef_2024/merged_train_metadata_extended_noduplv2.csv\")\n"
     ]
    }
   ],
   "source": [
    "# df = pd.read_csv(\"/home/vova/data/exps/birdclef_2024/birdclef_2024/train_metadata_extended_noduplv1.csv\")\n",
    "df = pd.read_csv(\"/home/vova/data/exps/birdclef_2024/birdclef_2024/merged_train_metadata_extended_noduplv2.csv\")\n",
    "# df = pd.read_csv(\n",
    "#     \"/home/vova/data/exps/birdclef_2024/birdclef_2024/train_metadata_extended_noduplv1_GBirdV1.csv\",\n",
    "#     # converters={\"label_second\": eval}\n",
    "# )\n",
    "# df = pd.read_csv(\n",
    "#     \"/home/vova/src/exps/bird_clef_2024/google_bird_predictions/unlabeled_data/processed_data_v1_add_train.csv\",\n",
    "#     # converters={\"label_second\": eval}\n",
    "# )\n",
    "taxonomy = pd.read_csv(\"/home/vova/data/exps/birdclef_2024/birdclef_2024/eBird_Taxonomy_v2021.csv\")\n",
    "previous_soundscapes = pd.read_csv(\n",
    "    \"/home/vova/data/exps/birdclef_2024/my_2023_data/soundscapes_nocall/v1_no_call_meta_fixed.csv\"\n",
    ")\n",
    "scored_birds = load_json(\n",
    "    \"/home/vova/data/exps/birdclef_2024/scored_birds/sb_2024.json\"\n",
    ")\n",
    "# df = pd.read_csv(\"/home/vova/data/exps/BirdCLEF_2023/xeno_canto/train_metadata_extended_shorten_and_2023x_v1.csv\")\n",
    "# df.head()"
   ]
  },
  {
   "cell_type": "code",
   "execution_count": null,
   "id": "cffee80a-3bba-4a57-92be-9d6f1a158210",
   "metadata": {},
   "outputs": [],
   "source": [
    "df[df[\"label_second\"].apply(lambda x: len(set(chain(*[el[-1] for el in x])))) > 1]"
   ]
  },
  {
   "cell_type": "code",
   "execution_count": null,
   "id": "f9b896d9-3563-41f9-89b5-f1080686d254",
   "metadata": {},
   "outputs": [],
   "source": [
    "df[\"label_second\"].iloc[13]"
   ]
  },
  {
   "cell_type": "code",
   "execution_count": null,
   "id": "0eaaa728-6352-4100-9afb-7fef6cac7e61",
   "metadata": {},
   "outputs": [],
   "source": [
    "sample_uniformly_np_index(df[\"label_second\"].iloc[13])"
   ]
  },
  {
   "cell_type": "code",
   "execution_count": null,
   "id": "b34ae89a-45f5-4cec-969f-5f10f7a5c3b6",
   "metadata": {},
   "outputs": [],
   "source": [
    "seconds = [sample_uniformly_np_float(df[\"label_second\"].iloc[13])[0] for _ in range(100000)]"
   ]
  },
  {
   "cell_type": "code",
   "execution_count": null,
   "id": "63e431f0-af4d-42c7-ad16-0a9d444fee77",
   "metadata": {},
   "outputs": [],
   "source": [
    "plt.hist(seconds, bins=100);"
   ]
  },
  {
   "cell_type": "code",
   "execution_count": null,
   "id": "9bfd1770-0641-4142-a71b-6eeeb103f03b",
   "metadata": {},
   "outputs": [],
   "source": [
    "# previous_soundscapes[\"filename\"] = previous_soundscapes[\"filename\"].apply(lambda x: os.path.join(\n",
    "#     \"/home/vova/data/exps/birdclef_2024/my_2023_data/soundscapes_nocall/train_audio\", x\n",
    "# ))\n",
    "\n",
    "# def check_is_capable_to_load(path):\n",
    "#     try:\n",
    "#         librosa.load(path, sr=32000)\n",
    "#         return True\n",
    "#     except:\n",
    "#         return False\n",
    "\n",
    "# previous_soundscapes[\"is_corrupted\"] = previous_soundscapes[\"filename\"].apply(check_is_capable_to_load)\n",
    "\n",
    "# or_previous_soundscapes = pd.read_csv(\n",
    "#     \"/home/vova/data/exps/birdclef_2024/my_2023_data/soundscapes_nocall/v1_no_call_meta.csv\"\n",
    "# )\n",
    "# or_previous_soundscapes[previous_soundscapes[\"is_corrupted\"]].reset_index(drop=True).to_csv(\n",
    "#     \"/home/vova/data/exps/birdclef_2024/my_2023_data/soundscapes_nocall/v1_no_call_meta_fixed.csv\",\n",
    "#     index=False\n",
    "# )"
   ]
  },
  {
   "cell_type": "code",
   "execution_count": null,
   "id": "ea2de843-ffbd-4b73-94bc-2c95c55c606c",
   "metadata": {},
   "outputs": [],
   "source": [
    "# previous_soundscapes[\"primary_label\"] = \"nocall\"\n",
    "# previous_soundscapes.to_csv(\n",
    "#     \"/home/vova/data/exps/birdclef_2024/my_2023_data/soundscapes_nocall/v1_no_call_meta.csv\", index=False\n",
    "# )"
   ]
  },
  {
   "cell_type": "code",
   "execution_count": null,
   "id": "c1730745-0b95-4a07-8a07-c8129bcedb29",
   "metadata": {},
   "outputs": [],
   "source": [
    "df"
   ]
  },
  {
   "cell_type": "code",
   "execution_count": null,
   "id": "40b68fdb-cfce-4ff9-b87c-49d2aa0fc7ff",
   "metadata": {},
   "outputs": [],
   "source": [
    "df.shape[0] / 64"
   ]
  },
  {
   "cell_type": "code",
   "execution_count": null,
   "id": "66d245d6-b0d0-4d42-80d9-c8ab0d10994a",
   "metadata": {},
   "outputs": [],
   "source": [
    "df[\"secondary_labels\"].apply(eval).apply(len).value_counts()"
   ]
  },
  {
   "cell_type": "code",
   "execution_count": null,
   "id": "fad1dcf3-b836-4d0d-95a5-fbdf1a166839",
   "metadata": {},
   "outputs": [],
   "source": [
    "df"
   ]
  },
  {
   "cell_type": "code",
   "execution_count": null,
   "id": "0a6aafc1-8e82-4dec-8751-82c1823296d8",
   "metadata": {},
   "outputs": [],
   "source": [
    "df = df.sample(frac=1).reset_index(drop=True).iloc[:100]\n"
   ]
  },
  {
   "cell_type": "code",
   "execution_count": null,
   "id": "4494baca-c225-4810-8b99-65161b14d899",
   "metadata": {},
   "outputs": [],
   "source": [
    "df[\"primary_label\"].value_counts()"
   ]
  },
  {
   "cell_type": "code",
   "execution_count": null,
   "id": "f62952f5-f298-4eea-9755-d8a3f0a79a4f",
   "metadata": {},
   "outputs": [],
   "source": [
    "df[\"duration_s\"].iloc[:10].max()"
   ]
  },
  {
   "cell_type": "code",
   "execution_count": null,
   "id": "db09a1b5-52a9-4ec3-a663-91b581b9cd4b",
   "metadata": {},
   "outputs": [],
   "source": [
    "ab = 0.75\n",
    "plt.hist(np.clip(np.random.beta(ab, ab, size=1000), 0.2, 0.8))"
   ]
  },
  {
   "cell_type": "code",
   "execution_count": 3,
   "id": "3a2de4cd-0e7d-4f08-9147-ef774b03226f",
   "metadata": {},
   "outputs": [
    {
     "name": "stdout",
     "output_type": "stream",
     "text": [
      "STFT kernels created, time used = 0.3169 seconds\n"
     ]
    }
   ],
   "source": [
    "mel_spec_paramms={\n",
    "    \"sample_rate\": 32000,\n",
    "    \"n_mels\": 128,\n",
    "    \"f_min\": 20,\n",
    "    \"n_fft\": 2048,\n",
    "    \"hop_length\": 512,\n",
    "    \"normalized\": True,\n",
    "}\n",
    "mel_spec = nn.Sequential(\n",
    "    TraceableMelspec(**mel_spec_paramms, quantizable=False),\n",
    "    ChannelAgnosticAmplitudeToDB(top_db=80.0),\n",
    "    NormalizeMelSpec(exportable=True),\n",
    ")"
   ]
  },
  {
   "cell_type": "code",
   "execution_count": null,
   "id": "868db8cf-e044-4916-9bcc-83b5d36bdf00",
   "metadata": {},
   "outputs": [],
   "source": [
    "background_module = BackgroundNoise(**{\n",
    "    \"esc50_root\": \"/home/vova/data/exps/birdclef_2024/birdclef_2024/unlabeled_soundscapes/\",\n",
    "    \"esc50_df_path\": \"../pseudo/v1/negative_filtered_02.csv\",\n",
    "    \"precompute\": False,\n",
    "    \"load_normalize\": False,\n",
    "    \"normalize_chunks\": True,\n",
    "    \"normalize\": True,\n",
    "    \"chunks_column\": \"nocall\"\n",
    "})"
   ]
  },
  {
   "cell_type": "code",
   "execution_count": null,
   "id": "7639c247-b6dd-4265-8d84-666e89296079",
   "metadata": {},
   "outputs": [],
   "source": [
    "audio = background_module.sample(32000 * 5)\n",
    "spec = mel_spec(torch.from_numpy(audio)[None,...])\n",
    "plt.imshow(spec[0])\n",
    "ipd.Audio(audio, rate=32000)"
   ]
  },
  {
   "cell_type": "code",
   "execution_count": null,
   "id": "cd9a08dc-2e25-42a8-8c05-165e2ccff5ff",
   "metadata": {},
   "outputs": [],
   "source": [
    "audio.shape[0] / 32000"
   ]
  },
  {
   "cell_type": "code",
   "execution_count": null,
   "id": "edaa597d-5381-48df-830e-c849e811bce2",
   "metadata": {},
   "outputs": [],
   "source": [
    "background_module.sample_names[1482]"
   ]
  },
  {
   "cell_type": "code",
   "execution_count": null,
   "id": "edfbe731-39a1-4a21-a13c-9182a692527a",
   "metadata": {},
   "outputs": [],
   "source": [
    "np.allclose(\n",
    "    librosa.util.normalize(\n",
    "        librosa.load(background_module.sample_names[1482], sr=32_000)[0][:5*32000]\n",
    "    ), \n",
    "    audio\n",
    ")"
   ]
  },
  {
   "cell_type": "code",
   "execution_count": null,
   "id": "88a924aa-4154-4fbc-ae65-16ff0c0a5fcb",
   "metadata": {},
   "outputs": [],
   "source": [
    "# np.abs(background_module.sample(32000*5)).max()"
   ]
  },
  {
   "cell_type": "code",
   "execution_count": null,
   "id": "9025fca5-3324-45ac-880a-701dc9070ccf",
   "metadata": {},
   "outputs": [],
   "source": [
    "# np.abs(background_module._pick_random_valid_sample()).max()"
   ]
  },
  {
   "cell_type": "code",
   "execution_count": null,
   "id": "7b1f2473-2ba2-4ebf-8257-2ce138c5602d",
   "metadata": {},
   "outputs": [],
   "source": [
    "plt.hist(np.random.beta(0.5, 0.5, size=(10000)))"
   ]
  },
  {
   "cell_type": "code",
   "execution_count": 5,
   "id": "1a5e55b4-31e2-48e1-9a40-2f6ad10d66ad",
   "metadata": {},
   "outputs": [],
   "source": [
    "train_dataset = WaveDataset(\n",
    "    df=df,\n",
    "    root=\"/home/vova/data/exps/birdclef_2024/birdclef_2024/train_features/\",\n",
    "    label_str2int_mapping_path=\"/home/vova/data/exps/birdclef_2024/class_mappings/bird2int_2024.json\",\n",
    "    # label_str2int_mapping_path=\"/home/vova/data/exps/birdclef_2024/class_mappings/bird2int_2024_PrevComp.json\",\n",
    "    precompute=False,\n",
    "    n_cores=4,\n",
    "    debug=False,\n",
    "    do_montage=True,\n",
    "    montage_params={\n",
    "        \"montage_samples\": (0, 5),\n",
    "        \"alpha\": 0.5\n",
    "    },\n",
    "    # do_mixup=True,\n",
    "    # mixup_params={\n",
    "    #     \"prob\": 1.0, \n",
    "    #     \"alpha\": 1.0, \n",
    "    #     # \"n_samples\": 4,\n",
    "    #     # \"weights_path\": \"/home/vova/data/exps/birdclef_2024/sample_weights/sw_2024_add_data_v1.json\"\n",
    "    # },\n",
    "    segment_len=5,\n",
    "    late_normalize=True,\n",
    "    sampler_col=\"stratify_col\",\n",
    "    # timewise_col=\"label_second\",\n",
    "    use_h5py=True,\n",
    "    # shuffle=True,\n",
    "    # add_df_paths=[\n",
    "    #     \"/home/vova/data/exps/birdclef_2024/dfs/full_noduplsV3_meta_prev_comps_extended.csv\"\n",
    "    #     # \"/home/vova/data/exps/birdclef_2024/dfs/full_noduplsV3_scored_meta_prev_comps_extended_2024SecLabels.csv\",\n",
    "    #     # \"/home/vova/data/exps/birdclef_2024/xeno_canto/dataset_2024_classes/train_metadata_noduplV3_extended_2024SecLabels.csv\"\n",
    "    #     # \"/home/vova/src/exps/bird_clef_2024/google_bird_predictions/unlabeled_data/processed_data_v1.csv\"\n",
    "    # ],\n",
    "    filename_change_mapping={\n",
    "        # \"base\": \"birdclef_2024/train_audio/\",\n",
    "        # \"comp_2021\":\"birdclef_2021/train_short_audio/\",\n",
    "        # \"comp_2023\":\"birdclef_2023/train_audio/\",\n",
    "        # \"comp_2022\":\"birdclef_2022/train_audio/\",\n",
    "        # \"comp_2020\":\"birdsong_recognition/train_audio/\",\n",
    "        # \"a_m_2020\": \"xeno_canto_bird_recordings_extended_a_m/A-M/\",\n",
    "        # \"n_z_2020\": \"xeno_canto_bird_recordings_extended_n_z/N-Z/\",\n",
    "        # \"xc_2024_classes\": \"xeno_canto/dataset_2024_classes/audio/\",\n",
    "        \"soundscape\": \"birdclef_2024/unlabeled_soundscapes_features/\",\n",
    "        \"base\": \"birdclef_2024/train_features/\",\n",
    "        \"comp_2021\":\"birdclef_2021/train_features/\",\n",
    "        \"comp_2023\":\"birdclef_2023/train_features/\",\n",
    "        \"comp_2022\":\"birdclef_2022/train_features/\",\n",
    "        \"comp_2020\":\"birdsong_recognition/train_features/\",\n",
    "        \"a_m_2020\": \"xeno_canto_bird_recordings_extended_a_m/train_features/\",\n",
    "        \"n_z_2020\": \"xeno_canto_bird_recordings_extended_n_z/train_features/\",\n",
    "        \"xc_2024_classes\": \"xeno_canto/dataset_2024_classes/train_features/\"\n",
    "    },\n",
    "    ignore_setting_dataset_value=True,\n",
    "    unlabeled_glob=\"/home/vova/data/exps/birdclef_2024/birdclef_2024/unlabeled_soundscapes_features/*.hdf5\",\n",
    "    unlabeled_params={\"mode\": \"mixup\", \"prob\": 1.0, \"alpha\": None},\n",
    "    # soundscape_pseudo_df_path=\"../pseudo/v2/positive_filtered_075_cap_500.csv\",\n",
    "    # late_aug=TimeFlip(),\n",
    "    # late_aug = Compose([\n",
    "    #     BackgroundNoise(\n",
    "    #         p=0.75,\n",
    "    #         esc50_root=\"/home/vova/data/exps/birdclef_2024/my_2023_data/soundscapes_nocall/train_audio\",\n",
    "    #         esc50_df_path=\"/home/vova/data/exps/birdclef_2024/my_2023_data/soundscapes_nocall/v1_no_call_meta_fixed.csv\",\n",
    "    #         precompute=False,\n",
    "    #         normalize=True,\n",
    "    #         normalize_chunks=True,\n",
    "    #         load_normalize=True,\n",
    "    #         min_level=0.5,\n",
    "    #         max_level=0.99,\n",
    "    #         verbose=True\n",
    "    #     ),\n",
    "    #     PinkNoise(\n",
    "    #         p=1.0,\n",
    "    #         min_snr=0.5,\n",
    "    #         max_snr=2.0,\n",
    "    #         verbose=True\n",
    "    #     ),\n",
    "    # ]),\n",
    "    # BackgroundNoise(\n",
    "    #     p=1.0,\n",
    "    #     esc50_root=\"/home/vova/data/exps/birdclef_2024/my_2023_data/soundscapes_nocall/train_audio\",\n",
    "    #     esc50_df_path=\"/home/vova/data/exps/birdclef_2024/my_2023_data/soundscapes_nocall/v1_no_call_meta_fixed.csv\",\n",
    "    #     precompute=False,\n",
    "    #     normalize=True,\n",
    "    #     normalize_chunks=True,\n",
    "    #     load_normalize=True,\n",
    "    #     min_level=0.5,\n",
    "    #     max_level=0.99,\n",
    "    #     verbose=True\n",
    "    # ),\n",
    "    # empty_soundscape_config={\n",
    "    #     \"prob\": 0.35,\n",
    "    #     \"sampler_config\": {\n",
    "    #         \"esc50_root\": \"/home/vova/data/exps/birdclef_2024/my_2023_data/soundscapes_nocall/train_audio\",\n",
    "    #         \"esc50_df_path\": \"/home/vova/data/exps/birdclef_2024/my_2023_data/soundscapes_nocall/v1_no_call_meta_fixed.csv\",\n",
    "    #         \"normalize\": False,\n",
    "    #         \"precompute\": False,\n",
    "    #         \"load_normalize\": False,\n",
    "    #     }\n",
    "    # },\n",
    "    # soundscape_pseudo_df_path=\"../pseudo/v1/positive_filtered_07_stratifyV2.csv\",\n",
    "    use_sampler=True,\n",
    "    # start_from_zero=True,\n",
    "    # sec_target_col=None\n",
    "    # empty_soundscape_config={\n",
    "    #     \"prob\": 0.5,\n",
    "    #     \"sampler_config\": {\n",
    "    #         \"esc50_root\": \"/home/vova/data/exps/birdclef_2024/my_2023_data/soundscapes_nocall/train_audio\",\n",
    "    #         \"esc50_df_path\": \"/home/vova/data/exps/birdclef_2024/my_2023_data/soundscapes_nocall/v1_no_call_meta.csv\",\n",
    "    #         \"normalize\": False,\n",
    "    #         \"debug\": True\n",
    "    #     }\n",
    "    # }\n",
    ")\n",
    "\n",
    "# train_dataset_ss = WaveDataset(\n",
    "#     df=previous_soundscapes,\n",
    "#     root=\"/home/vova/data/exps/birdclef_2024/my_2023_data/soundscapes_nocall/train_audio\",\n",
    "#     label_str2int_mapping_path=\"/home/vova/data/exps/birdclef_2024/class_mappings/bird2int_2024.json\",\n",
    "#     precompute=False,\n",
    "#     n_cores=4,\n",
    "#     debug=False,\n",
    "#     do_mixup=True,\n",
    "#     mixup_params={\"prob\": 0.5, \"alpha\": None},\n",
    "#     segment_len=5,\n",
    "#     late_normalize=True,\n",
    "#     sampler_col=\"primary_label\",\n",
    "#     sec_target_col=None,\n",
    "#     use_h5py=False,\n",
    "#     use_sampler=True\n",
    "# )\n",
    "\n",
    "# train_dataset_full = WaveAllFileDataset(\n",
    "#     df=df,\n",
    "#     # root=\"/home/vova/data/exps/birdclef_2024/birdclef_2024/train_features/\",\n",
    "#     root=\"/home/vova/data/exps/birdclef_2024/birdclef_2024/train_audio\",\n",
    "#     label_str2int_mapping_path=\"/home/vova/data/exps/birdclef_2024/class_mappings/bird2int_2024.json\",\n",
    "#     precompute=False,\n",
    "#     n_cores=4,\n",
    "#     debug=False,\n",
    "#     segment_len=5,\n",
    "#     sample_id=None,\n",
    "#     late_normalize=False,\n",
    "#     use_h5py=False,\n",
    "#     load_normalize=False,\n",
    "\n",
    "#     use_audio_cache=True,\n",
    "#     test_mode=True\n",
    "# )\n",
    "\n",
    "# merged_dataset = torch.utils.data.ConcatDataset([train_dataset, train_dataset_ss])"
   ]
  },
  {
   "cell_type": "code",
   "execution_count": null,
   "id": "f073be8e-a358-4b32-beae-bbc576050eba",
   "metadata": {},
   "outputs": [],
   "source": [
    "train_dataset.df[\"filename_with_root\"].iloc[0]"
   ]
  },
  {
   "cell_type": "code",
   "execution_count": null,
   "id": "4cdafec5-660e-4821-9aaf-a910db03858e",
   "metadata": {},
   "outputs": [],
   "source": [
    "train_dataset.df[\"stratify_col\"].isna().sum()"
   ]
  },
  {
   "cell_type": "code",
   "execution_count": null,
   "id": "19adf69e-e0d6-467b-be18-424a92ff40be",
   "metadata": {},
   "outputs": [],
   "source": [
    "not_base_df = train_dataset.df[train_dataset.df[\"dataset\"] != \"base\"].reset_index(drop=True)"
   ]
  },
  {
   "cell_type": "code",
   "execution_count": null,
   "id": "592238b8-45a5-4ee2-b095-b17aa6a96f74",
   "metadata": {},
   "outputs": [],
   "source": [
    "for fname in tqdm(not_base_df[\"filename_with_root\"].to_list()):\n",
    "    try:\n",
    "        copyfile(\n",
    "            fname, \n",
    "            os.path.join(\"/home/vova/data/exps/birdclef_2024/kaggle_datasets/bird_clef_2024_add_data/scored_add_data\", os.path.basename(fname))\n",
    "        )\n",
    "    except Exception as e:\n",
    "        fname = fname.replace(\".ogg\", \".mp3\")\n",
    "        copyfile(\n",
    "            fname, \n",
    "            os.path.join(\"/home/vova/data/exps/birdclef_2024/kaggle_datasets/bird_clef_2024_add_data/scored_add_data\", os.path.basename(fname))\n",
    "        )"
   ]
  },
  {
   "cell_type": "code",
   "execution_count": 7,
   "id": "a7918a02-c787-4c51-b28a-d725b028337b",
   "metadata": {},
   "outputs": [],
   "source": [
    "id2bird = {v:k for k,v in train_dataset.label_str2int.items()}"
   ]
  },
  {
   "cell_type": "code",
   "execution_count": null,
   "id": "528c4b0b-514f-4e22-9042-1e934967402b",
   "metadata": {},
   "outputs": [],
   "source": [
    "len(set(train_dataset.df[\"primary_label\"]))"
   ]
  },
  {
   "cell_type": "code",
   "execution_count": null,
   "id": "3afa8151-ef4d-4578-b0bd-7c2a8d334cc9",
   "metadata": {},
   "outputs": [],
   "source": [
    "set(scored_birds) == set(train_dataset.df[\"primary_label\"])"
   ]
  },
  {
   "cell_type": "code",
   "execution_count": null,
   "id": "dff9c724-c6e3-44bd-93ad-2cdaf7ced858",
   "metadata": {},
   "outputs": [],
   "source": [
    "train_dataset.df[\"dataset\"].value_counts(normalize=True)"
   ]
  },
  {
   "cell_type": "code",
   "execution_count": null,
   "id": "20aa23fb-1b55-474e-9995-00f724baddaa",
   "metadata": {},
   "outputs": [],
   "source": [
    "train_dataset.df[train_dataset.df[\"dataset\"] == \"soundscape\"]"
   ]
  },
  {
   "cell_type": "code",
   "execution_count": null,
   "id": "d98a6175-d275-4874-a1d7-26ce5cf933c3",
   "metadata": {},
   "outputs": [],
   "source": [
    "train_dataset.df[train_dataset.df.duration_s <= 5]"
   ]
  },
  {
   "cell_type": "code",
   "execution_count": null,
   "id": "6ae7f9e3-5d0c-46f1-af92-7072dd071980",
   "metadata": {},
   "outputs": [],
   "source": [
    "train_dataset.df.duration_s.median()"
   ]
  },
  {
   "cell_type": "code",
   "execution_count": null,
   "id": "ac9e007b-3e07-499f-bb4c-92da818d4413",
   "metadata": {},
   "outputs": [],
   "source": [
    "np.quantile(train_dataset.df.duration_s, 0.85)"
   ]
  },
  {
   "cell_type": "code",
   "execution_count": null,
   "id": "cf316409-0ad8-4e2d-8f7c-404221bcd3ce",
   "metadata": {},
   "outputs": [],
   "source": [
    "train_dataset.df.duration_s.hist(bins=30)"
   ]
  },
  {
   "cell_type": "code",
   "execution_count": null,
   "id": "18e056d4-97e2-4c4b-8b7f-f6b0f8c204f9",
   "metadata": {},
   "outputs": [],
   "source": [
    "train_dataset.df[train_dataset.df[\"dataset\"] == \"soundscape\"]"
   ]
  },
  {
   "cell_type": "code",
   "execution_count": null,
   "id": "9d61264b-c10b-4207-8a26-60c4c80a5cca",
   "metadata": {},
   "outputs": [],
   "source": [
    "df.shape[0] / len(train_dataset), len(train_dataset)"
   ]
  },
  {
   "cell_type": "code",
   "execution_count": null,
   "id": "a0fbf92e-0f9e-4e1d-b608-89b07449fd39",
   "metadata": {},
   "outputs": [],
   "source": [
    "train_dataset[35530]"
   ]
  },
  {
   "cell_type": "code",
   "execution_count": null,
   "id": "b502bb7f-8440-4269-97ef-45c249ec89d5",
   "metadata": {},
   "outputs": [],
   "source": [
    "len(train_dataset), len(train_dataset_ss), len(merged_dataset)"
   ]
  },
  {
   "cell_type": "code",
   "execution_count": null,
   "id": "ab211ac0-4d49-4bd5-8992-64fbfef3629c",
   "metadata": {},
   "outputs": [],
   "source": [
    "pd.Series(train_dataset.targets).value_counts()"
   ]
  },
  {
   "cell_type": "code",
   "execution_count": null,
   "id": "ac56c009-9404-4f35-8ee6-1ffc7b1f4f0d",
   "metadata": {},
   "outputs": [],
   "source": [
    "all_tgts = pd.Series(train_dataset.targets)\n",
    "sample_weights = (all_tgts.value_counts() / all_tgts.value_counts().sum())  ** (-0.5)\n",
    "write_json(\n",
    "    \"/home/vova/data/exps/birdclef_2024/sample_weights/sw_2024_v1_pseudov1_StratV2.json\",\n",
    "    sample_weights.to_dict()\n",
    ")"
   ]
  },
  {
   "cell_type": "code",
   "execution_count": null,
   "id": "15176218-d065-4276-acb2-0f349fe79145",
   "metadata": {},
   "outputs": [],
   "source": [
    "# all_tgts = pd.Series(list(chain(*[ds.targets for ds in merged_dataset.datasets])))\n",
    "# sample_weights = (all_tgts.value_counts() / all_tgts.value_counts().sum())  ** (-0.5)\n",
    "# write_json(\n",
    "#     \"/home/vova/data/exps/birdclef_2024/sample_weights/sw_2024_add_data_v1_with_nocall.json\",\n",
    "#     sample_weights.to_dict()\n",
    "# )"
   ]
  },
  {
   "cell_type": "code",
   "execution_count": null,
   "id": "a2f44837-6e47-46e4-9eb2-b3c2b55dea18",
   "metadata": {},
   "outputs": [],
   "source": [
    "class_weights = load_json(\"/home/vova/data/exps/birdclef_2024/sample_weights/sw_2024_add_data_v1_with_nocall.json\")\n",
    "sample_weights = np.array([\n",
    "    class_weights[el] for el in list(chain(*[ds.targets for ds in merged_dataset.datasets]))\n",
    "])\n",
    "sampler = torch.utils.data.WeightedRandomSampler(sample_weights, len(sample_weights))"
   ]
  },
  {
   "cell_type": "code",
   "execution_count": null,
   "id": "08860b68-d21f-45df-9f1b-8c78d44b9622",
   "metadata": {},
   "outputs": [],
   "source": [
    "def worker_init_fn(worker_id):\n",
    "    np.random.seed(np.random.get_state()[1][0] + worker_id)\n",
    "\n",
    "loader = torch.utils.data.DataLoader(\n",
    "    merged_dataset,\n",
    "    worker_init_fn=worker_init_fn,\n",
    "    sampler=sampler,\n",
    "    **{\n",
    "        \"batch_size\": 64,\n",
    "        \"shuffle\": False,\n",
    "        \"drop_last\": True,\n",
    "        \"num_workers\": 0,\n",
    "        \"pin_memory\": True,\n",
    "    },\n",
    ")"
   ]
  },
  {
   "cell_type": "code",
   "execution_count": null,
   "id": "e568e053-f0f5-41ae-83fb-845586f9adec",
   "metadata": {},
   "outputs": [],
   "source": [
    "len(loader)"
   ]
  },
  {
   "cell_type": "code",
   "execution_count": null,
   "id": "628e29ac-9d1b-4a29-9ad9-fd540369b8c8",
   "metadata": {},
   "outputs": [],
   "source": [
    "\n",
    "for idx, b in enumerate(loader):\n",
    "    print(f\"Empty Fraction: {(b[1].sum(axis=1) == 0).sum() / b[1].shape[0]}\")\n",
    "    if idx > 10:\n",
    "        break"
   ]
  },
  {
   "cell_type": "code",
   "execution_count": null,
   "id": "f1ea858c-1ec1-4a0f-b9d9-de5a81a8a99f",
   "metadata": {},
   "outputs": [],
   "source": [
    "(batch[1].sum(axis=1) == 0).sum() / batch[1].shape[0]"
   ]
  },
  {
   "cell_type": "code",
   "execution_count": null,
   "id": "13133f74-6abc-488d-b855-bc6643358e99",
   "metadata": {},
   "outputs": [],
   "source": [
    "au, tgt = train_dataset_ss[0]"
   ]
  },
  {
   "cell_type": "code",
   "execution_count": null,
   "id": "85e2b96d-7dd1-448f-be55-f08961edda88",
   "metadata": {},
   "outputs": [],
   "source": [
    "np.abs(au).max(), tgt.sum()"
   ]
  },
  {
   "cell_type": "code",
   "execution_count": null,
   "id": "3002ced9-8be9-4334-9823-0d55d9d4a8d3",
   "metadata": {},
   "outputs": [],
   "source": [
    "train_dataset_full[0][0].min()"
   ]
  },
  {
   "cell_type": "code",
   "execution_count": null,
   "id": "0108a81d-0d53-40dd-a0a8-eea050a44756",
   "metadata": {},
   "outputs": [],
   "source": [
    "train_dataset_full.test_audio_cache[\"au\"].min()"
   ]
  },
  {
   "cell_type": "code",
   "execution_count": null,
   "id": "f4a80cb4-ecff-4671-9b1e-3ac60a62cd7f",
   "metadata": {},
   "outputs": [],
   "source": [
    "sorted(set(train_dataset.df[\"primary_label\"]))"
   ]
  },
  {
   "cell_type": "code",
   "execution_count": null,
   "id": "f809ab6e-f430-4287-9cb4-73cce7b73f3b",
   "metadata": {},
   "outputs": [],
   "source": [
    "train_dataset.df.loc[train_dataset.df[\"dataset\"] == \"xc_2024_classes\", \"primary_label\"].value_counts()"
   ]
  },
  {
   "cell_type": "code",
   "execution_count": null,
   "id": "08f2a4b5-91db-4eff-82db-9625dc22627d",
   "metadata": {},
   "outputs": [],
   "source": [
    "taxonomy"
   ]
  },
  {
   "cell_type": "code",
   "execution_count": null,
   "id": "bebd56b2-8a14-489f-bcae-defe6a8ab2ca",
   "metadata": {},
   "outputs": [],
   "source": [
    "taxonomy[taxonomy[\"PRIMARY_COM_NAME\"].apply(lambda x: x.startswith(\"Intermediate Egret\"))]"
   ]
  },
  {
   "cell_type": "code",
   "execution_count": null,
   "id": "a9bb5923-f52e-42ef-95e3-16033e177bd7",
   "metadata": {},
   "outputs": [],
   "source": [
    "train_dataset.df[(train_dataset.df[\"dataset\"] == \"xc_2024_classes\") & (train_dataset.df[\"primary_label\"] == \"integr\")]"
   ]
  },
  {
   "cell_type": "code",
   "execution_count": null,
   "id": "84e5e2a6-1468-48c9-908b-997353c965ba",
   "metadata": {},
   "outputs": [],
   "source": [
    "# train_dataset.df[train_dataset.df.primary_label == \"brnfio1\"]"
   ]
  },
  {
   "cell_type": "code",
   "execution_count": null,
   "id": "5a8ee827-5773-4e66-a0d9-f87a4e4d12e9",
   "metadata": {},
   "outputs": [],
   "source": [
    "train_dataset.df[(train_dataset.df[\"dataset\"] == \"base\") & (train_dataset.df[\"primary_label\"] == \"integr\")]"
   ]
  },
  {
   "cell_type": "code",
   "execution_count": null,
   "id": "a1f09ce3-97df-4410-953f-07c0124970d8",
   "metadata": {},
   "outputs": [],
   "source": []
  },
  {
   "cell_type": "code",
   "execution_count": null,
   "id": "c2fad9f7-0ede-471f-9ae8-7309807c50d8",
   "metadata": {},
   "outputs": [],
   "source": [
    "train_dataset.label_str2int[\"asbfly\"]"
   ]
  },
  {
   "cell_type": "code",
   "execution_count": null,
   "id": "08a3d40b-a654-4ba4-8612-79f2f7cf147b",
   "metadata": {},
   "outputs": [],
   "source": [
    "torch.where(train_dataset[22][1] > 0)[0]"
   ]
  },
  {
   "cell_type": "code",
   "execution_count": null,
   "id": "6da3ae01-8d86-4085-b42b-4fbe7a7df15d",
   "metadata": {},
   "outputs": [],
   "source": [
    "train_dataset.df[\"filename_with_root\"].apply(os.path.exists).all()"
   ]
  },
  {
   "cell_type": "code",
   "execution_count": null,
   "id": "fcffe0c1-8c07-4c90-96b0-13c72a9d257b",
   "metadata": {},
   "outputs": [],
   "source": [
    "train_dataset.df.shape"
   ]
  },
  {
   "cell_type": "code",
   "execution_count": null,
   "id": "8db0cf1e-cc09-4319-93b6-b5c938706236",
   "metadata": {},
   "outputs": [],
   "source": [
    "vc = train_dataset.df[\"url\"].apply(lambda x: x.split(\"/\")[-1]).value_counts()"
   ]
  },
  {
   "cell_type": "code",
   "execution_count": null,
   "id": "ba73e0a5-469b-4c0f-8827-06b5cf8bc1a6",
   "metadata": {},
   "outputs": [],
   "source": [
    "train_dataset.df[]"
   ]
  },
  {
   "cell_type": "code",
   "execution_count": null,
   "id": "a153cf6a-f140-41f9-af9b-5d41f3d478c9",
   "metadata": {},
   "outputs": [],
   "source": [
    "train_dataset.df[train_dataset.df[\"url\"].apply(lambda x: x.split(\"/\")[-1]).isin(vc[vc > 1].index)].sort_values(\"url\")"
   ]
  },
  {
   "cell_type": "code",
   "execution_count": null,
   "id": "84d7cf3d-1dc4-49ae-b816-0009689abe94",
   "metadata": {},
   "outputs": [],
   "source": [
    "sample_au, target_au = train_dataset[1000]"
   ]
  },
  {
   "cell_type": "code",
   "execution_count": null,
   "id": "09ed9960-3304-4c10-bf2a-efffcb1a1e0a",
   "metadata": {},
   "outputs": [],
   "source": [
    "sample_au.min(), sample_au.max()"
   ]
  },
  {
   "cell_type": "code",
   "execution_count": null,
   "id": "1dc7cd71-c9b0-434c-a2d1-e7f7c3de4897",
   "metadata": {},
   "outputs": [],
   "source": [
    "df[df[\"primary_label\"] == \"comtai1\"].url"
   ]
  },
  {
   "cell_type": "code",
   "execution_count": null,
   "id": "488de4f8-b4f2-43fb-80fb-47f1810dcff2",
   "metadata": {},
   "outputs": [],
   "source": [
    "sample_weights = pd.Series(load_json(\"/home/vova/data/exps/birdclef_2024/sample_weights/sw_2024_add_data_v1.json\"))"
   ]
  },
  {
   "cell_type": "code",
   "execution_count": null,
   "id": "c2dcb4d1-75dc-40fd-a5ab-3c81352b0471",
   "metadata": {},
   "outputs": [],
   "source": [
    "sample_weights"
   ]
  },
  {
   "cell_type": "code",
   "execution_count": null,
   "id": "a0f31413-090d-4366-a34d-f02fc202890d",
   "metadata": {},
   "outputs": [],
   "source": [
    "sampled_birds = []\n",
    "for _ in tqdm(range(1000)):\n",
    "    sample_au, target_au = train_dataset[0]\n",
    "    sampled_birds.extend([id2bird[el] for el in np.where(target_au > 0)[0]])"
   ]
  },
  {
   "cell_type": "code",
   "execution_count": null,
   "id": "f4e4a0ab-370b-4a6b-8e22-7b402bd4d985",
   "metadata": {},
   "outputs": [],
   "source": [
    "pd.Series(sampled_birds).value_counts().iloc[1:20]"
   ]
  },
  {
   "cell_type": "code",
   "execution_count": null,
   "id": "3ad9a3d5-5f88-4d8c-9e1a-6b0f196d1499",
   "metadata": {},
   "outputs": [],
   "source": [
    "train_dataset.df.primary_label.value_counts().iloc[1:20]"
   ]
  },
  {
   "cell_type": "code",
   "execution_count": null,
   "id": "a9c810bc-62d2-49da-9949-68ec157c5377",
   "metadata": {},
   "outputs": [],
   "source": [
    "train_dataset.df[\"label_second\"]"
   ]
  },
  {
   "cell_type": "code",
   "execution_count": null,
   "id": "2be55678-9982-4520-b278-9e0609183abb",
   "metadata": {},
   "outputs": [],
   "source": [
    "train_dataset.df[train_dataset.df[\"label_second\"].apply(lambda x: len(set(chain(*[el[-1] for el in x])))) > 1]"
   ]
  },
  {
   "cell_type": "code",
   "execution_count": null,
   "id": "ab6066ab-69f8-4521-b7bc-deb0d40cc561",
   "metadata": {},
   "outputs": [],
   "source": [
    "train_dataset.df[\n",
    "    (train_dataset.df[\"label_second\"].apply(lambda x: x[-1][1] - x[-1][0]) < 2.5) &\n",
    "    (train_dataset.df[\"label_second\"].apply(len) == 1) &\n",
    "    (train_dataset.df[\"duration_s\"] > 5)\n",
    "]"
   ]
  },
  {
   "cell_type": "code",
   "execution_count": null,
   "id": "2f0afddd-253f-467f-8b18-6d738948b35a",
   "metadata": {},
   "outputs": [],
   "source": [
    "train_dataset.df[train_dataset.df[\"duration_s\"] < 5]"
   ]
  },
  {
   "cell_type": "code",
   "execution_count": null,
   "id": "ea5e3411-13b1-4bf1-a850-e65214c0754a",
   "metadata": {},
   "outputs": [],
   "source": [
    "int((27.35021875 - 5) * 32000)"
   ]
  },
  {
   "cell_type": "code",
   "execution_count": null,
   "id": "dc8df22b-4459-432e-9abb-2ebf7f92f029",
   "metadata": {},
   "outputs": [],
   "source": [
    "(33.64571875 - 5) * 32000"
   ]
  },
  {
   "cell_type": "code",
   "execution_count": null,
   "id": "7efc13e6-d7f5-4e67-b0b3-da76ea7aefd0",
   "metadata": {},
   "outputs": [],
   "source": [
    "(30 - 2.5) * 32000"
   ]
  },
  {
   "cell_type": "code",
   "execution_count": null,
   "id": "b36d653f-bb00-4b57-bc8f-e3d7dc457e29",
   "metadata": {},
   "outputs": [],
   "source": [
    "train_dataset.df[train_dataset.df.duration_s <= 5]"
   ]
  },
  {
   "cell_type": "code",
   "execution_count": null,
   "id": "455ccab1-1515-4887-b51e-9fc9570cfafb",
   "metadata": {},
   "outputs": [],
   "source": [
    "mel_spec_paramms={\n",
    "    \"sample_rate\": 32000,\n",
    "    \"n_mels\": 128,\n",
    "    \"f_min\": 20,\n",
    "    \"n_fft\": 2048,\n",
    "    \"hop_length\": 512,\n",
    "    \"normalized\": True,\n",
    "}\n",
    "mel_spec = nn.Sequential(\n",
    "    TraceableMelspec(**mel_spec_paramms, quantizable=False),\n",
    "    AmplitudeToDB(top_db=80.0),\n",
    "    NormalizeMelSpec(exportable=True),\n",
    ")\n",
    "mel_spec_new = nn.Sequential(\n",
    "    TraceableMelspec(**mel_spec_paramms, quantizable=False),\n",
    "    ChannelAgnosticAmplitudeToDB(top_db=80.0),\n",
    "    NormalizeMelSpec(exportable=True),\n",
    ")"
   ]
  },
  {
   "cell_type": "code",
   "execution_count": null,
   "id": "1eacb594-fe1f-492e-ae46-7dac1b20d2e0",
   "metadata": {},
   "outputs": [],
   "source": [
    "train_dataset.df.loc[train_dataset.df[\"dataset\"] == \"soundscape\", \"primary_label\"].value_counts().head(20)"
   ]
  },
  {
   "cell_type": "code",
   "execution_count": null,
   "id": "f1322932-2461-4933-8bca-c9213ed55ca7",
   "metadata": {},
   "outputs": [],
   "source": [
    "train_dataset.df[\n",
    "    (train_dataset.df[\"primary_label\"] == \"whcbar1\") &\n",
    "    (train_dataset.df[\"dataset\"] != \"soundscape\")\n",
    "]"
   ]
  },
  {
   "cell_type": "code",
   "execution_count": null,
   "id": "4ad7bc82-b943-4bba-bb01-d51169926be6",
   "metadata": {},
   "outputs": [],
   "source": [
    "class_name = \"brcful1\""
   ]
  },
  {
   "cell_type": "code",
   "execution_count": null,
   "id": "977e1369-7220-4fb2-b69f-738bebaa0c0d",
   "metadata": {},
   "outputs": [],
   "source": [
    "target_au"
   ]
  },
  {
   "cell_type": "code",
   "execution_count": null,
   "id": "881552bc-0205-4914-9cc5-c1157d72473e",
   "metadata": {},
   "outputs": [],
   "source": [
    "# sample_au, target_au = train_dataset[0]\n",
    "# sample_id = np.random.randint(0, len(train_dataset))\n",
    "sample_id = 9831 #np.random.choice(train_dataset.df[\n",
    "#     (train_dataset.df[\"primary_label\"] == class_name) &\n",
    "#     (train_dataset.df[\"dataset\"] == \"soundscape\")\n",
    "# ].index)\n",
    "print(\"Sample ID\", sample_id)\n",
    "sample_au, target_au, sample_au_unlabeled = train_dataset[sample_id]\n",
    "\n",
    "print(\"Target IDS:\", np.where(target_au > 0)[0])\n",
    "print(\"Birds: \", [id2bird[el] for el in np.where(target_au > 0)[0]])\n",
    "\n",
    "# plt.figure(figsize=(20,10))\n",
    "spec = mel_spec(torch.from_numpy((sample_au))[None,...]) \n",
    "plt.imshow(spec[0])\n",
    "plt.show()\n",
    "\n",
    "spec_unlabeled = mel_spec(torch.from_numpy((sample_au_unlabeled))[None,...]) \n",
    "plt.imshow(spec_unlabeled[0])\n",
    "plt.show()\n",
    "\n",
    "ipd.Audio(sample_au, rate=32000)"
   ]
  },
  {
   "cell_type": "code",
   "execution_count": null,
   "id": "66f913b3-1d9d-4653-9299-d53cebf9777f",
   "metadata": {},
   "outputs": [],
   "source": [
    "ipd.Audio(sample_au_unlabeled, rate=32000)"
   ]
  },
  {
   "cell_type": "code",
   "execution_count": null,
   "id": "a56a7d1c-cb0c-4605-9508-9653c9353031",
   "metadata": {},
   "outputs": [],
   "source": [
    "plt.hist(spec.flatten(), bins=30);"
   ]
  },
  {
   "cell_type": "code",
   "execution_count": 10,
   "id": "4a9c085d-9adb-41f4-86f3-7b5e3e6ef71e",
   "metadata": {},
   "outputs": [
    {
     "name": "stdout",
     "output_type": "stream",
     "text": [
      "Sample ID 9831\n",
      "Unlabeled mixup weight 0.5\n",
      "Target IDS: [ 51  77 140]\n",
      "Birds:  ['hoopoe', 'comkin1', 'eurcoo']\n"
     ]
    },
    {
     "data": {
      "image/png": "[encoded data removed]",
      "text/plain": [
       "<Figure size 640x480 with 1 Axes>"
      ]
     },
     "metadata": {},
     "output_type": "display_data"
    },
    {
     "data": {
      "text/html": [
       "\n",
       "                <audio  controls=\"controls\" >\n",
       "                    <source src=\"data:audio/wav;base64,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\" type=\"audio/wav\" />\n",
       "                    Your browser does not support the audio element.\n",
       "                </audio>\n",
       "              "
      ],
      "text/plain": [
       "<IPython.lib.display.Audio object>"
      ]
     },
     "execution_count": 10,
     "metadata": {},
     "output_type": "execute_result"
    }
   ],
   "source": [
    "# sample_au, target_au = train_dataset[0]\n",
    "# sample_id = np.random.randint(0, len(train_dataset))\n",
    "sample_id = 9831 #np.random.choice(train_dataset.df[\n",
    "#     (train_dataset.df[\"primary_label\"] == class_name) &\n",
    "#     (train_dataset.df[\"dataset\"] == \"soundscape\")\n",
    "# ].index)\n",
    "print(\"Sample ID\", sample_id)\n",
    "sample_au, target_au, mask = train_dataset[sample_id]\n",
    "\n",
    "print(\"Target IDS:\", np.where(target_au > 0)[0])\n",
    "print(\"Birds: \", [id2bird[el] for el in np.where(target_au > 0)[0]])\n",
    "\n",
    "# plt.figure(figsize=(20,10))\n",
    "spec = mel_spec(torch.from_numpy((sample_au))[None,...]) \n",
    "plt.imshow(spec[0])\n",
    "plt.show()\n",
    "\n",
    "ipd.Audio(sample_au, rate=32000)"
   ]
  },
  {
   "cell_type": "code",
   "execution_count": 14,
   "id": "86e769c5-1e6e-4ade-a8ec-3c5fb2d22da1",
   "metadata": {},
   "outputs": [
    {
     "data": {
      "text/plain": [
       "tensor(True)"
      ]
     },
     "execution_count": 14,
     "metadata": {},
     "output_type": "execute_result"
    }
   ],
   "source": [
    "torch.all(target_au == mask)"
   ]
  },
  {
   "cell_type": "code",
   "execution_count": 11,
   "id": "4a211945-dcc3-462c-b806-262b6990b29e",
   "metadata": {},
   "outputs": [
    {
     "data": {
      "text/plain": [
       "tensor([0., 0., 0., 0., 0., 0., 0., 0., 0., 0., 0., 0., 0., 0., 0., 0., 0., 0.,\n",
       "        0., 0., 0., 0., 0., 0., 0., 0., 0., 0., 0., 0., 0., 0., 0., 0., 0., 0.,\n",
       "        0., 0., 0., 0., 0., 0., 0., 0., 0., 0., 0., 0., 0., 0., 0., 1., 0., 0.,\n",
       "        0., 0., 0., 0., 0., 0., 0., 0., 0., 0., 0., 0., 0., 0., 0., 0., 0., 0.,\n",
       "        0., 0., 0., 0., 0., 1., 0., 0., 0., 0., 0., 0., 0., 0., 0., 0., 0., 0.,\n",
       "        0., 0., 0., 0., 0., 0., 0., 0., 0., 0., 0., 0., 0., 0., 0., 0., 0., 0.,\n",
       "        0., 0., 0., 0., 0., 0., 0., 0., 0., 0., 0., 0., 0., 0., 0., 0., 0., 0.,\n",
       "        0., 0., 0., 0., 0., 0., 0., 0., 0., 0., 0., 0., 0., 0., 1., 0., 0., 0.,\n",
       "        0., 0., 0., 0., 0., 0., 0., 0., 0., 0., 0., 0., 0., 0., 0., 0., 0., 0.,\n",
       "        0., 0., 0., 0., 0., 0., 0., 0., 0., 0., 0., 0., 0., 0., 0., 0., 0., 0.,\n",
       "        0., 0., 0., 0., 0., 0., 0., 0.])"
      ]
     },
     "execution_count": 11,
     "metadata": {},
     "output_type": "execute_result"
    }
   ],
   "source": [
    "mask"
   ]
  },
  {
   "cell_type": "code",
   "execution_count": null,
   "id": "a8b0cc2b-78d0-4e72-80b0-4d20d46c92d4",
   "metadata": {},
   "outputs": [],
   "source": [
    "# sample_au, target_au = train_dataset[0]\n",
    "sample_id = 3770 #np.random.choice(train_dataset.df[\n",
    "#     (train_dataset.df[\"primary_label\"] == class_name) &\n",
    "#     (train_dataset.df[\"dataset\"] != \"soundscape\")\n",
    "# ].index)\n",
    "print(\"Sample ID\", sample_id)\n",
    "sample_au, target_au = train_dataset[sample_id]\n",
    "\n",
    "print(\"Target IDS:\", np.where(target_au > 0)[0])\n",
    "print(\"Birds: \", [id2bird[el] for el in np.where(target_au > 0)[0]])\n",
    "\n",
    "# plt.figure(figsize=(20,10))\n",
    "spec = mel_spec(torch.from_numpy((sample_au))[None,...]) #** 0.6080866059834527\n",
    "plt.imshow(spec[0])\n",
    "plt.show()\n",
    "\n",
    "ipd.Audio(sample_au, rate=32000)"
   ]
  },
  {
   "cell_type": "code",
   "execution_count": null,
   "id": "3d543817-596b-4a86-9b37-0773773d294c",
   "metadata": {},
   "outputs": [],
   "source": [
    "(spec - spec_new).abs().amax(axis=(1,2))"
   ]
  },
  {
   "cell_type": "code",
   "execution_count": null,
   "id": "2e05a520-63e3-4010-887a-4cd727b38b86",
   "metadata": {},
   "outputs": [],
   "source": [
    "target_au"
   ]
  },
  {
   "cell_type": "code",
   "execution_count": null,
   "id": "89ff4bee-0af6-487f-bd90-22a0c0079142",
   "metadata": {},
   "outputs": [],
   "source": [
    "sample_au_full, sample_sr_full = librosa.load(\n",
    "    train_dataset.df[\"filename_with_root\"].iloc[sample_id].replace(\"train_features\", \"train_audio\").replace(\".hdf5\", \".ogg\"),\n",
    "    sr=None\n",
    ")\n",
    "plt.imshow(mel_spec(torch.from_numpy(sample_au_full[2097528:2097528 + 5*32000])[None,...])[0])"
   ]
  },
  {
   "cell_type": "code",
   "execution_count": null,
   "id": "d85564af-3700-4a9f-80dd-887c364238f9",
   "metadata": {},
   "outputs": [],
   "source": [
    "np.allclose(sample_au, librosa.util.normalize(sample_au_full[2097528:2097528 + 5*32000]))"
   ]
  },
  {
   "cell_type": "code",
   "execution_count": null,
   "id": "c0e1cf68-d647-42a5-886f-ff4d61c8dddc",
   "metadata": {},
   "outputs": [],
   "source": [
    "sample_au.shape"
   ]
  },
  {
   "cell_type": "code",
   "execution_count": null,
   "id": "6fdfbf35-938a-4d56-bf69-6c271023424d",
   "metadata": {},
   "outputs": [],
   "source": [
    "sample_au[:sample_sr*,]"
   ]
  },
  {
   "cell_type": "code",
   "execution_count": null,
   "id": "4013ba67-c808-4afe-bfc5-25ea1b2ed3cd",
   "metadata": {},
   "outputs": [],
   "source": [
    "np.abs(sample_au).max()"
   ]
  },
  {
   "cell_type": "code",
   "execution_count": null,
   "id": "6d53dfa6-46e0-46a8-bb08-f40eb1e77ced",
   "metadata": {},
   "outputs": [],
   "source": [
    "ipd.Audio(sample_au, rate=32000)"
   ]
  },
  {
   "cell_type": "code",
   "execution_count": null,
   "id": "154b42db-600f-4a70-9379-c75073160963",
   "metadata": {},
   "outputs": [],
   "source": [
    "# sample_au, target_au = train_dataset[0]\n",
    "sample_au, target_au = train_dataset[35706]\n",
    "\n",
    "plt.figure(figsize=(20,10))\n",
    "spec = mel_spec(torch.from_numpy(sample_au)[None,...])\n",
    "plt.imshow(spec[0])\n",
    "plt.show()"
   ]
  },
  {
   "cell_type": "code",
   "execution_count": null,
   "id": "5b49eee7-a044-4e73-9d82-64b2a8e3d1bc",
   "metadata": {},
   "outputs": [],
   "source": [
    "ipd.Audio(sample_au, rate=32000)"
   ]
  },
  {
   "cell_type": "code",
   "execution_count": null,
   "id": "90bda8ae-fc63-48ea-b6e4-5203df37337e",
   "metadata": {},
   "outputs": [],
   "source": [
    "check_labels = torch.stack([train_dataset_full[idx][1] for idx in range(990,990+30)])"
   ]
  },
  {
   "cell_type": "code",
   "execution_count": null,
   "id": "25dd128a-7e72-4455-90d7-523b2169a59f",
   "metadata": {},
   "outputs": [],
   "source": [
    "torch.where(check_labels > 0)[1]"
   ]
  },
  {
   "cell_type": "code",
   "execution_count": null,
   "id": "e5c4b14a-10a9-4fe4-95f0-c989b7db2ae5",
   "metadata": {},
   "outputs": [],
   "source": [
    "train_dataset_full.df.iloc[120]"
   ]
  },
  {
   "cell_type": "code",
   "execution_count": null,
   "id": "e6014eb3-8006-4e44-86ab-bd635c1afcf1",
   "metadata": {},
   "outputs": [],
   "source": [
    "train_dataset_full.sampleidx_2_dfidx[991]"
   ]
  },
  {
   "cell_type": "code",
   "execution_count": null,
   "id": "681bb303-d39c-4c05-8b96-0959332838ca",
   "metadata": {},
   "outputs": [],
   "source": [
    "original_sample = librosa.load(\"/home/vova/data/exps/birdclef_2024/birdclef_2024/train_audio/asbfly/XC134896.ogg\", sr=32000)[0]"
   ]
  },
  {
   "cell_type": "code",
   "execution_count": null,
   "id": "21977b64-2b23-49df-9e4b-28f4f888970e",
   "metadata": {},
   "outputs": [],
   "source": [
    "librosa.util.normalize(original_sample[:32000*5])"
   ]
  },
  {
   "cell_type": "code",
   "execution_count": null,
   "id": "8a162c8e-96bd-4036-b407-1f2044c3be65",
   "metadata": {},
   "outputs": [],
   "source": [
    "full_sample_au, full_target_au, dfidx, start, end = train_dataset_full[1]"
   ]
  },
  {
   "cell_type": "code",
   "execution_count": null,
   "id": "0ea43356-2cd1-4280-aa9d-79173d91f012",
   "metadata": {},
   "outputs": [],
   "source": [
    "np.allclose(full_sample_au, librosa.util.normalize(original_sample[32000*5:32000*10]))"
   ]
  },
  {
   "cell_type": "code",
   "execution_count": null,
   "id": "71559658-d821-4c18-8806-fe6887c3d6a8",
   "metadata": {},
   "outputs": [],
   "source": [
    "ipd.Audio(sample_au_aug, rate=32000)"
   ]
  },
  {
   "cell_type": "code",
   "execution_count": null,
   "id": "a0695998-6785-4ca7-a71c-eb1d9b44d899",
   "metadata": {},
   "outputs": [],
   "source": [
    "target_au_aug"
   ]
  },
  {
   "cell_type": "code",
   "execution_count": null,
   "id": "368b8cbc-21b3-40ae-a5af-d88e8926c35c",
   "metadata": {},
   "outputs": [],
   "source": [
    "maybe_dupl1 = librosa.util.normalize(librosa.load(\n",
    "    \"/home/vova/data/exps/birdclef_2024/birdclef_2022/train_audio/brant/XC294370.ogg\", sr=32000\n",
    ")[0])\n",
    "maybe_dupl2 = librosa.util.normalize(librosa.load(\n",
    "    \"/home/vova/data/exps/birdclef_2024/birdclef_2022/train_audio/gadwal/XC294370.ogg\", sr=32000\n",
    ")[0])"
   ]
  },
  {
   "cell_type": "code",
   "execution_count": null,
   "id": "707aa13d-7756-4608-87a0-2cfab536dffc",
   "metadata": {},
   "outputs": [],
   "source": [
    "plt.figure(figsize=(20,10))\n",
    "plt.imshow(mel_spec(torch.from_numpy(maybe_dupl1)[None,...])[0])\n",
    "plt.show()\n",
    "\n",
    "plt.figure(figsize=(20,10))\n",
    "plt.imshow(mel_spec(torch.from_numpy(maybe_dupl2)[None,...])[0])\n",
    "plt.show()"
   ]
  },
  {
   "cell_type": "code",
   "execution_count": null,
   "id": "27bbdb81-e553-41bd-96ee-aab6a0b25bb7",
   "metadata": {},
   "outputs": [],
   "source": [
    "# ipd.Audio(sample_au, rate=32_000)"
   ]
  },
  {
   "cell_type": "code",
   "execution_count": null,
   "id": "36c529e1-0d2f-4f59-adf2-5d8a99e9e3ee",
   "metadata": {},
   "outputs": [],
   "source": [
    "ipd.Audio(sample_au_aug, rate=32_000)"
   ]
  },
  {
   "cell_type": "code",
   "execution_count": null,
   "id": "b2216899-5774-4f45-8574-30bbc0f4bc8a",
   "metadata": {},
   "outputs": [],
   "source": [
    "np.abs(sample_au_aug).max()"
   ]
  },
  {
   "cell_type": "code",
   "execution_count": null,
   "id": "f69dd9dd-d47a-4564-9866-d317c4622eeb",
   "metadata": {},
   "outputs": [],
   "source": [
    "torch.unique(target_au_aug), torch.sum(target_au_aug)"
   ]
  },
  {
   "cell_type": "code",
   "execution_count": null,
   "id": "6561280f-9fb7-4871-bf81-040d626afec3",
   "metadata": {},
   "outputs": [],
   "source": [
    "plt.figure(figsize=(10,10))\n",
    "plt.imshow(my_spec(torch.from_numpy(sample_au_aug)[None,:])[0])\n",
    "plt.show();"
   ]
  },
  {
   "cell_type": "code",
   "execution_count": null,
   "id": "f2298b14-4381-4cb8-9186-2f16ca5bdacb",
   "metadata": {},
   "outputs": [],
   "source": [
    "target_au.max()"
   ]
  },
  {
   "cell_type": "code",
   "execution_count": null,
   "id": "f9c6a87d-c2e0-4fa6-808e-b4d56873c3e0",
   "metadata": {},
   "outputs": [],
   "source": [
    "torch.allclose(target_au, target_au_aug)"
   ]
  },
  {
   "cell_type": "code",
   "execution_count": null,
   "id": "259302ee-3f22-4d42-857f-0f3541ed2e4a",
   "metadata": {},
   "outputs": [],
   "source": [
    "np.abs(sample_au - sample_au_aug).max()"
   ]
  },
  {
   "cell_type": "code",
   "execution_count": null,
   "id": "c3c96bfe-670a-4c2a-a699-b0e4b7b2d96e",
   "metadata": {},
   "outputs": [],
   "source": [
    "plt.plot(sample_au)"
   ]
  },
  {
   "cell_type": "code",
   "execution_count": null,
   "id": "fe74aaf3-669e-49d1-ad5f-524067f3459d",
   "metadata": {},
   "outputs": [],
   "source": [
    "plt.plot(sample_au_aug)"
   ]
  },
  {
   "cell_type": "code",
   "execution_count": null,
   "id": "d81ad423-8e40-4aee-b07c-4a3b54368da4",
   "metadata": {},
   "outputs": [],
   "source": [
    "ipd.Audio(sample_au, rate=32000)"
   ]
  },
  {
   "cell_type": "code",
   "execution_count": null,
   "id": "e51d6464-5bfa-4b1c-aff7-b7611fd99fca",
   "metadata": {},
   "outputs": [],
   "source": [
    "ipd.Audio(sample_au_aug, rate=32000)"
   ]
  },
  {
   "cell_type": "code",
   "execution_count": null,
   "id": "6bc3adcd-291f-48e6-bbd8-f55e90214b12",
   "metadata": {},
   "outputs": [],
   "source": [
    "np.allclose(sample_au, sample_feat)"
   ]
  },
  {
   "cell_type": "code",
   "execution_count": null,
   "id": "d5df7e9f-c4fc-4089-a23a-a560601745e2",
   "metadata": {},
   "outputs": [],
   "source": [
    "# train_dataset = WaveDataset(\n",
    "#     df=df,\n",
    "#     root=\"/home/vova/data/exps/BirdCLEF_2023/birdclef_2023/train_audio/\",\n",
    "#     label_str2int_mapping_path=\"/home/vova/data/exps/BirdCLEF_2023/birdclef_2023/bird2int_2023.json\",\n",
    "#     precompute=False,\n",
    "#     n_cores=32,\n",
    "#     debug=True,\n",
    "#     do_mixup=False,\n",
    "#     # mixup_params={\"prob\": 0.5, \"alpha\": None},\n",
    "#     segment_len=5.0,\n",
    "#     late_normalize=True,\n",
    "#     sec_target_col=None\n",
    "# )\n",
    "\n",
    "# train_dataset_extended = WaveDataset(\n",
    "#     df=df,\n",
    "#     root=\"/home/vova/data/exps/BirdCLEF_2023/birdclef_2023/train_audio/\",\n",
    "#     label_str2int_mapping_path=\"/home/vova/data/exps/BirdCLEF_2023/birdclef_2023/bird2int_2023.json\",\n",
    "#     precompute=True,\n",
    "#     n_cores=32,\n",
    "#     debug=False,\n",
    "#     do_mixup=True,\n",
    "#     mixup_params={\"prob\": 0.5, \"alpha\": None},\n",
    "#     segment_len=5.0,\n",
    "#     late_normalize=True,\n",
    "#     add_df_paths=[\n",
    "#         \"/home/vova/data/exps/BirdCLEF_2023/train_metadata_extended_2020_2022_no2023_scored.csv\"\n",
    "#     ],\n",
    "#     sampler_col=\"sw_col\"\n",
    "# )"
   ]
  },
  {
   "cell_type": "code",
   "execution_count": null,
   "id": "b2bcb61b-27a4-433a-b45f-1fa219c1f0f6",
   "metadata": {},
   "outputs": [],
   "source": []
  },
  {
   "cell_type": "code",
   "execution_count": null,
   "id": "5a77110e-4564-4319-a5f5-dc24fe1c8da8",
   "metadata": {},
   "outputs": [],
   "source": [
    "train_dataset[11][1].sum()"
   ]
  },
  {
   "cell_type": "code",
   "execution_count": null,
   "id": "243cf640-d0fc-4c2d-b01b-f50b375892a0",
   "metadata": {},
   "outputs": [],
   "source": [
    "train_dataset.df[train_dataset.df.secondary_labels.apply(len) > 1]"
   ]
  },
  {
   "cell_type": "code",
   "execution_count": null,
   "id": "1230fdb1-d301-4d76-8e33-855796cdb52b",
   "metadata": {},
   "outputs": [],
   "source": [
    "train_dataset_extended.df[]"
   ]
  },
  {
   "cell_type": "code",
   "execution_count": null,
   "id": "6bb0da1c-c63a-46cd-8946-7c1bbf2b75c2",
   "metadata": {},
   "outputs": [],
   "source": [
    "set(train_dataset_extended.df[\"sw_col\"]) - set(load_json(\"/home/vova/data/exps/BirdCLEF_2023/birdclef_2023/scored_birds.json\"))"
   ]
  },
  {
   "cell_type": "code",
   "execution_count": null,
   "id": "efcc32f5-2a6e-4e25-8453-1bba592c865a",
   "metadata": {},
   "outputs": [],
   "source": [
    "train_dataset_extended.df[\"filename_with_root\"].iloc[-1]"
   ]
  },
  {
   "cell_type": "code",
   "execution_count": null,
   "id": "6f7780ff-e5b1-41e4-849e-1c005e59ac97",
   "metadata": {},
   "outputs": [],
   "source": [
    "sample_au, sample_label = train_dataset[0]\n",
    "sample_au = torch.from_numpy(sample_au)[None,:]"
   ]
  },
  {
   "cell_type": "code",
   "execution_count": null,
   "id": "1e1728e1-862d-4557-9b91-e7e14d543161",
   "metadata": {},
   "outputs": [],
   "source": [
    "sample_au_spec = model.forward(sample_au, return_spec_feature=True)"
   ]
  },
  {
   "cell_type": "code",
   "execution_count": null,
   "id": "1317942d-026e-4e44-b134-4277c5d4f44d",
   "metadata": {},
   "outputs": [],
   "source": [
    "plt.imshow(sample_au_spec[0].numpy())"
   ]
  },
  {
   "cell_type": "code",
   "execution_count": null,
   "id": "5ce19c3a-32a9-4676-8b18-e3417def29ac",
   "metadata": {},
   "outputs": [],
   "source": [
    "# ipd.Audio(sample_au, rate=32_000)"
   ]
  },
  {
   "cell_type": "code",
   "execution_count": null,
   "id": "748930d6-3111-45ae-ae89-adb2dd177e7f",
   "metadata": {},
   "outputs": [],
   "source": [
    "aug_block = RandomFiltering(\n",
    "    min_db=-20,\n",
    "    is_wave=True,\n",
    "    normalize_wave=True\n",
    ")"
   ]
  },
  {
   "cell_type": "code",
   "execution_count": null,
   "id": "e8e8c049-b499-40e2-a9db-dd47d780aaac",
   "metadata": {},
   "outputs": [],
   "source": [
    "auged_sample_au = aug_block(sample_au)"
   ]
  },
  {
   "cell_type": "code",
   "execution_count": null,
   "id": "f1cbaafc-1d79-44b8-990a-e22d605d9467",
   "metadata": {},
   "outputs": [],
   "source": [
    "auged_sample_au_spec = model.forward(auged_sample_au, return_spec_feature=True)"
   ]
  },
  {
   "cell_type": "code",
   "execution_count": null,
   "id": "b179dc44-b23c-4347-830c-b9d8b377bc04",
   "metadata": {},
   "outputs": [],
   "source": [
    "plt.imshow(auged_sample_au_spec[0].numpy())"
   ]
  },
  {
   "cell_type": "code",
   "execution_count": null,
   "id": "23a1059a-8056-4472-91ae-8aafbbe1bd36",
   "metadata": {},
   "outputs": [],
   "source": [
    "plt.imshow(auged_sample_au_spec[0].numpy() - sample_au_spec[0].numpy())"
   ]
  },
  {
   "cell_type": "code",
   "execution_count": null,
   "id": "da3ed744-0836-4f08-a429-2b691e67d130",
   "metadata": {},
   "outputs": [],
   "source": [
    "ipd.Audio(auged_sample_au, rate=32_000)"
   ]
  },
  {
   "cell_type": "code",
   "execution_count": null,
   "id": "aaa949a3-2ad7-49f8-a63d-bc467fb26047",
   "metadata": {},
   "outputs": [],
   "source": [
    "valid_dataset = WaveAllFileDataset(\n",
    "    df=df,\n",
    "    root=\"/home/vova/data/exps/BirdCLEF_2023/birdclef_2023/train_audio/\",\n",
    "    label_str2int_mapping_path=\"/home/vova/data/exps/BirdCLEF_2023/birdclef_2023/bird2int_2023.json\",\n",
    "    precompute=True,\n",
    "    n_cores=32,\n",
    "    debug=True,\n",
    "    segment_len=5,\n",
    "    lookback=2.5,\n",
    "    lookahead=2.5,\n",
    "    late_normalize=True,\n",
    "    sample_id=None\n",
    ")"
   ]
  },
  {
   "cell_type": "code",
   "execution_count": null,
   "id": "6a45fee7-f840-4afc-9e71-4d82b4ce1df6",
   "metadata": {},
   "outputs": [],
   "source": [
    "sample_au, sample_label, sample_df_id, sample_start, sample_end_s = valid_dataset[0]"
   ]
  },
  {
   "cell_type": "code",
   "execution_count": null,
   "id": "f781a468-126c-4630-bc31-f63e4f0ee953",
   "metadata": {},
   "outputs": [],
   "source": [
    "len(sample_au) / 32_000"
   ]
  },
  {
   "cell_type": "code",
   "execution_count": null,
   "id": "69489c17-411c-47c4-8183-30dd52b731ed",
   "metadata": {},
   "outputs": [],
   "source": [
    "sample_au"
   ]
  },
  {
   "cell_type": "markdown",
   "id": "bd23c978-b31b-4f78-bed9-b75f7802359d",
   "metadata": {},
   "source": [
    "# Sounscapes"
   ]
  },
  {
   "cell_type": "code",
   "execution_count": null,
   "id": "0277dc4e-354a-47ec-9291-276de393fec0",
   "metadata": {},
   "outputs": [],
   "source": [
    "un_ss = glob(\"/home/vova/data/exps/birdclef_2024/birdclef_2024/unlabeled_soundscapes/*.ogg\")"
   ]
  },
  {
   "cell_type": "code",
   "execution_count": null,
   "id": "c49457af-ffad-4362-9d04-35d59e03c08b",
   "metadata": {},
   "outputs": [],
   "source": [
    "pseudo = pd.read_csv(\"../pseudo/v1/positive_filtered_07.csv\", converters={\"all_labels\": eval})"
   ]
  },
  {
   "cell_type": "code",
   "execution_count": null,
   "id": "c53d1c86-a53e-4ba8-8dfb-f52103fffb13",
   "metadata": {},
   "outputs": [],
   "source": [
    "pseudo"
   ]
  },
  {
   "cell_type": "code",
   "execution_count": null,
   "id": "f93e23b0-a76e-4daa-a8a0-79cbb410b98f",
   "metadata": {
    "scrolled": true
   },
   "outputs": [],
   "source": [
    "un_ss"
   ]
  },
  {
   "cell_type": "code",
   "execution_count": null,
   "id": "dbbdde50-81e2-4c2c-80c0-67d43cecd8b3",
   "metadata": {},
   "outputs": [],
   "source": [
    "pseudo[\"sample_id\"] = pseudo[\"row_id\"].apply(lambda x: x.split(\"_\")[0])"
   ]
  },
  {
   "cell_type": "code",
   "execution_count": null,
   "id": "c83cd6ae-9968-4052-8547-0b00626cc478",
   "metadata": {},
   "outputs": [],
   "source": [
    "pseudo"
   ]
  },
  {
   "cell_type": "code",
   "execution_count": null,
   "id": "d6287cb1-f4e9-42ac-8597-c8391f37cc08",
   "metadata": {},
   "outputs": [],
   "source": [
    "pseudo[pseudo[\"sample_id\"] == \"100238396\"]"
   ]
  },
  {
   "cell_type": "code",
   "execution_count": null,
   "id": "fbf54b49-2442-4d88-87de-6ca26ad6289f",
   "metadata": {},
   "outputs": [],
   "source": [
    "pseudo_samples"
   ]
  },
  {
   "cell_type": "code",
   "execution_count": null,
   "id": "afc93076-a3a5-41e6-820c-0059988c85a9",
   "metadata": {},
   "outputs": [],
   "source": [
    "df_idx = 6143"
   ]
  },
  {
   "cell_type": "code",
   "execution_count": null,
   "id": "a1bd01fb-131e-4120-8ccd-2e5fb63b6949",
   "metadata": {},
   "outputs": [],
   "source": [
    "sample_idx, end_second = pseudo[\"row_id\"].iloc[df_idx].split(\"_\")\n",
    "\n",
    "sample, _ = librosa.load(\n",
    "    # un_ss[500], \n",
    "    f'/home/vova/data/exps/birdclef_2024/birdclef_2024/unlabeled_soundscapes/{sample_idx}.ogg',\n",
    "    sr=None\n",
    ")\n",
    "# sample = librosa.util.normalize(sample)"
   ]
  },
  {
   "cell_type": "code",
   "execution_count": null,
   "id": "ebf23c18-f1cd-407e-9c81-6ec759eaf100",
   "metadata": {},
   "outputs": [],
   "source": [
    "sample_slice = sample[32000*(int(end_second) - 5):32000*int(end_second)]\n",
    "ipd.Audio(sample_slice, rate=32000)"
   ]
  },
  {
   "cell_type": "code",
   "execution_count": null,
   "id": "eebf125d-9e51-4a69-95ae-28b051d6df17",
   "metadata": {},
   "outputs": [],
   "source": [
    "plt.figure(figsize=(20,10))\n",
    "plt.imshow(mel_spec(torch.from_numpy(sample_slice)[None,...])[0])\n",
    "plt.show()"
   ]
  },
  {
   "cell_type": "markdown",
   "id": "0fea89d4-1bf5-4274-9c8d-3f25574af87a",
   "metadata": {},
   "source": [
    "# Compare librosa and torchaudio"
   ]
  },
  {
   "cell_type": "code",
   "execution_count": null,
   "id": "979ec514-984d-469c-a574-6ce3e78bc01a",
   "metadata": {},
   "outputs": [],
   "source": [
    "librosa_loaded = librosa.load(\"/home/vova/data/exps/birdclef_2024/birdclef_2024/train_audio/asbfly/XC453302.ogg\", sr=32000)[0]"
   ]
  },
  {
   "cell_type": "code",
   "execution_count": null,
   "id": "df0bee7e-2944-4009-9a0d-b876313243cf",
   "metadata": {},
   "outputs": [],
   "source": [
    "torchaudio_loaded, torchaudio_sr = torchaudio.load(\"/home/vova/data/exps/birdclef_2024/birdclef_2024/train_audio/asbfly/XC453302.ogg\")\n",
    "torchaudio_loaded = Resample(orig_freq=torchaudio_sr, new_freq=16000)(torchaudio_loaded)[0]"
   ]
  },
  {
   "cell_type": "code",
   "execution_count": null,
   "id": "bfffd648-df72-4d6a-a76b-ac142483fe7c",
   "metadata": {},
   "outputs": [],
   "source": [
    "torchaudio_loaded.shape"
   ]
  },
  {
   "cell_type": "code",
   "execution_count": null,
   "id": "4d3c7347-db3e-4f1b-ab2d-cb50c7c3d4dc",
   "metadata": {},
   "outputs": [],
   "source": [
    "librosa_loaded.shape"
   ]
  },
  {
   "cell_type": "code",
   "execution_count": null,
   "id": "ac90c02a-ebf4-426d-b1ad-a5c2435808b9",
   "metadata": {},
   "outputs": [],
   "source": [
    "len(librosa_loaded) / 32000"
   ]
  },
  {
   "cell_type": "code",
   "execution_count": null,
   "id": "34598856-deba-4c1d-8d70-1733a707fece",
   "metadata": {},
   "outputs": [],
   "source": [
    "len(torchaudio_loaded) / 32000"
   ]
  },
  {
   "cell_type": "code",
   "execution_count": null,
   "id": "226b55cf-dd02-4656-9fa1-01f2132261a2",
   "metadata": {},
   "outputs": [],
   "source": [
    "np.abs(torchaudio_loaded[len(torchaudio_loaded) - len(librosa_loaded):] - librosa_loaded).max()"
   ]
  },
  {
   "cell_type": "code",
   "execution_count": null,
   "id": "6720c168-d385-49b1-bf67-d0cc3eeacc6f",
   "metadata": {},
   "outputs": [],
   "source": [
    "np.abs(torchaudio_loaded[:len(librosa_loaded)] - librosa_loaded).max()"
   ]
  },
  {
   "cell_type": "code",
   "execution_count": null,
   "id": "3c45ee64-966a-4776-bba6-7cffa717e4f2",
   "metadata": {},
   "outputs": [],
   "source": [
    "np.allclose(torchaudio_loaded[:len(librosa_loaded)], librosa_loaded)"
   ]
  },
  {
   "cell_type": "code",
   "execution_count": null,
   "id": "54c3f3f1-1a24-462a-9b52-ff175172a267",
   "metadata": {},
   "outputs": [],
   "source": [
    "len(librosa_loaded) / 32000"
   ]
  },
  {
   "cell_type": "code",
   "execution_count": null,
   "id": "19f6203b-05f3-4f6a-a127-1d52f37fb23c",
   "metadata": {},
   "outputs": [],
   "source": [
    "len(torchaudio_loaded) / 32000"
   ]
  },
  {
   "cell_type": "markdown",
   "id": "bab41236-5e5d-4036-8986-82544850a425",
   "metadata": {},
   "source": [
    "# Spectogram"
   ]
  },
  {
   "cell_type": "code",
   "execution_count": null,
   "id": "eb6f5cd4-fc30-4e35-925b-13bbef6e0940",
   "metadata": {},
   "outputs": [],
   "source": [
    "test_pred = pd.read_csv(\"submission.csv\")"
   ]
  },
  {
   "cell_type": "code",
   "execution_count": null,
   "id": "c7dcc765-85c1-4d47-be95-3194e0e81b50",
   "metadata": {},
   "outputs": [],
   "source": [
    "np.sort(test_pred.iloc[:,1:].values.flatten())[-20:]"
   ]
  },
  {
   "cell_type": "code",
   "execution_count": null,
   "id": "62005372-3a28-4683-b1ed-2cda4f4602ef",
   "metadata": {},
   "outputs": [],
   "source": [
    "np.where(test_pred.iloc[:,1:].max(axis=1) > 0.9)"
   ]
  },
  {
   "cell_type": "code",
   "execution_count": null,
   "id": "44e98467-e86c-4c95-9911-2aa556c561d0",
   "metadata": {},
   "outputs": [],
   "source": [
    "test_pred.iloc[65]"
   ]
  },
  {
   "cell_type": "code",
   "execution_count": null,
   "id": "bb1d4773-658c-4fd2-b38f-e68d29b80298",
   "metadata": {},
   "outputs": [],
   "source": [
    "test_audio, test_sr = librosa.load(\"/home/vova/data/exps/BirdCLEF_2023/birdclef_2023/test_soundscapes/soundscape_29201.ogg\", sr=None)\n",
    "test_audio = librosa.util.normalize(test_audio)"
   ]
  },
  {
   "cell_type": "code",
   "execution_count": null,
   "id": "f6c3b8bd-e134-4e1b-8444-8f58c474590e",
   "metadata": {},
   "outputs": [],
   "source": [
    "test_sr"
   ]
  },
  {
   "cell_type": "code",
   "execution_count": null,
   "id": "ccf8c7d1-bc81-4df0-aef6-154f281e5182",
   "metadata": {},
   "outputs": [],
   "source": [
    "ipd.Audio(\n",
    "    test_audio[test_sr*0:test_sr*5],\n",
    "    rate=test_sr\n",
    ")"
   ]
  },
  {
   "cell_type": "code",
   "execution_count": null,
   "id": "18e6dc5a-0315-44b0-9a0b-8f38c3da5156",
   "metadata": {},
   "outputs": [],
   "source": [
    "test_sr"
   ]
  },
  {
   "cell_type": "code",
   "execution_count": null,
   "id": "5a53b625-d8ac-45cd-ad7f-7b175330a32a",
   "metadata": {},
   "outputs": [],
   "source": [
    "test_pred.iloc[65].iloc[1:].sort_values()"
   ]
  },
  {
   "cell_type": "code",
   "execution_count": null,
   "id": "0bce2f6a-fbae-4474-938c-3a94fe114832",
   "metadata": {},
   "outputs": [],
   "source": [
    "mel_spec_paramms={\n",
    "    \"sample_rate\": 32000,\n",
    "    \"n_mels\": 128,\n",
    "    \"f_min\": 20,\n",
    "    \"n_fft\": 2048,\n",
    "    \"hop_length\": 512,\n",
    "    \"normalized\": True,\n",
    "}\n",
    "mel_spec = nn.Sequential(\n",
    "    TraceableMelspec(**mel_spec_paramms, quantizable=False),\n",
    "    AmplitudeToDB(top_db=80.0),\n",
    "    NormalizeMelSpec(exportable=True),\n",
    ")\n",
    "\n",
    "# leaf_spec = {\n",
    "#     \"sample_rate\": 32000,\n",
    "#     \"n_filters\": 128,\n",
    "#     # \"window_stride\": 15\n",
    "# }\n",
    "\n",
    "# leaf_complex = nn.Sequential(\n",
    "#     frontend.Leaf(**leaf_spec, onnx_export=True, compression_fn=None),\n",
    "#     AmplitudeToDB(top_db=80.0),\n",
    "#     NormalizeMelSpec(exportable=True),\n",
    "# )\n",
    "\n",
    "# leaf_noncomplex = nn.Sequential(\n",
    "#     frontend.Leaf(**leaf_spec, onnx_export=True),\n",
    "#     NormalizeMelSpec(exportable=True),\n",
    "# )"
   ]
  },
  {
   "cell_type": "code",
   "execution_count": null,
   "id": "96bef539-d4b3-4440-a18a-02a511152ca5",
   "metadata": {},
   "outputs": [],
   "source": [
    "spec = mel_spec(torch.from_numpy(librosa.util.normalize(test_audio[\n",
    "    test_sr*0:\n",
    "    test_sr*5\n",
    "]))[None,:])\n",
    "spec = torch.cat([spec,spec,spec])\n",
    "\n",
    "# leaf_1 = leaf_complex(torch.from_numpy(librosa.util.normalize(test_audio[\n",
    "#     test_sr*0:\n",
    "#     test_sr*5\n",
    "# ]))[None,:])\n",
    "# leaf_2 = leaf_noncomplex(torch.from_numpy(librosa.util.normalize(test_audio[\n",
    "#     test_sr*0:\n",
    "#     test_sr*5\n",
    "# ]))[None,:])"
   ]
  },
  {
   "cell_type": "code",
   "execution_count": null,
   "id": "3fe39f43-296f-40e5-9d0d-be76a7a39790",
   "metadata": {},
   "outputs": [],
   "source": [
    "class CustomMasking(nn.Module):\n",
    "    def __init__(\n",
    "        self,\n",
    "        mask_max_length: int,\n",
    "        mask_max_masks: int,\n",
    "        p=1.0,\n",
    "        inplace=True\n",
    "    ):\n",
    "        super().__init__()\n",
    "        assert isinstance(mask_max_masks, int) and mask_max_masks > 0 \n",
    "        self.mask_max_masks = mask_max_masks\n",
    "        self.mask_max_length = mask_max_length\n",
    "        self.mask_module = None\n",
    "        self.p = p\n",
    "        self.inplace = inplace\n",
    "    \n",
    "    def forward(self, x):\n",
    "        if not self.inplace:\n",
    "            output = x.clone()\n",
    "        for i in range(x.shape[0]):\n",
    "            if np.random.binomial(n=1, p=self.p):\n",
    "                n_applies = np.random.randint(low=1, high=self.mask_max_masks+1)\n",
    "                print(f\"Applying {n_applies} times\")\n",
    "                for _ in range(n_applies):\n",
    "                    if self.inplace:\n",
    "                        x[i:i+1] = self.mask_module(x[i:i+1])\n",
    "                    else:\n",
    "                        output[i:i+1] = self.mask_module(output[i:i+1])\n",
    "        if self.inplace:\n",
    "            return x\n",
    "        else: \n",
    "            return output\n",
    "        \n",
    "class CustomTimeMasking(CustomMasking):\n",
    "    def __init__(\n",
    "        self,\n",
    "        mask_max_length: int,\n",
    "        mask_max_masks: int,\n",
    "        p=1.0,\n",
    "        inplace=True\n",
    "    ):\n",
    "        super().__init__(\n",
    "            mask_max_length=mask_max_length,\n",
    "            mask_max_masks=mask_max_masks,\n",
    "            p=p,\n",
    "            inplace=inplace\n",
    "        )\n",
    "        self.mask_module = TimeMasking(\n",
    "            time_mask_param=mask_max_length\n",
    "        )\n",
    "        \n",
    "class CustomFreqMasking(CustomMasking):\n",
    "    def __init__(\n",
    "        self,\n",
    "        mask_max_length: int,\n",
    "        mask_max_masks: int,\n",
    "        p=1.0,\n",
    "        inplace=True\n",
    "    ):\n",
    "        super().__init__(\n",
    "            mask_max_length=mask_max_length,\n",
    "            mask_max_masks=mask_max_masks,\n",
    "            p=p,\n",
    "            inplace=inplace\n",
    "        )\n",
    "        self.mask_module = FrequencyMasking(\n",
    "            freq_mask_param=mask_max_length\n",
    "        )"
   ]
  },
  {
   "cell_type": "code",
   "execution_count": null,
   "id": "26c98b44-3f22-4d38-848d-0d44b975f605",
   "metadata": {},
   "outputs": [],
   "source": [
    "np.random.randint(low=1, high=1+1)"
   ]
  },
  {
   "cell_type": "code",
   "execution_count": null,
   "id": "7ce27b2a-ebaf-4e04-862c-310bed88dccc",
   "metadata": {},
   "outputs": [],
   "source": [
    "# time_masking = CustomTimeMasking(\n",
    "#     mask_max_length=20,\n",
    "#     mask_max_masks=3,\n",
    "#     p=0.5,\n",
    "#     inplace=True\n",
    "# )\n",
    "# freq_masking = CustomFreqMasking(\n",
    "#     mask_max_length=10,\n",
    "#     mask_max_masks=3,\n",
    "#     p=0.5,\n",
    "#     inplace=True\n",
    "# )"
   ]
  },
  {
   "cell_type": "code",
   "execution_count": null,
   "id": "ac663992-ef76-4a08-a534-0b1f8aecdbf4",
   "metadata": {},
   "outputs": [],
   "source": [
    "both_masking = nn.Sequential(\n",
    "    CustomTimeMasking(\n",
    "        mask_max_length=20,\n",
    "        mask_max_masks=3,\n",
    "        p=0.3,\n",
    "        inplace=True\n",
    "    ),\n",
    "    CustomFreqMasking(\n",
    "        mask_max_length=10,\n",
    "        mask_max_masks=3,\n",
    "        p=0.3,\n",
    "        inplace=True\n",
    "    )\n",
    ")"
   ]
  },
  {
   "cell_type": "code",
   "execution_count": null,
   "id": "309003a5-1e6e-44be-828a-d1652d3947a3",
   "metadata": {},
   "outputs": [],
   "source": [
    "# time_masked = time_masking(spec)\n",
    "# freq_masked = freq_masking(spec)\n",
    "\n",
    "both_masked = both_masking(spec)"
   ]
  },
  {
   "cell_type": "code",
   "execution_count": null,
   "id": "c4c2d097-e6b6-4ad3-a1ba-cf327daa119e",
   "metadata": {},
   "outputs": [],
   "source": [
    "swin = timm.create_model(\n",
    "    \"swinv2_tiny_window8_256\", \n",
    "    in_chans=1, \n",
    "    # features_only=True,\n",
    "    dropout_rate=0.2,\n",
    "    num_classes=20\n",
    ")\n",
    "# swin.head.drop.p = 0.4\n",
    "# swin.head = nn.Identity()"
   ]
  },
  {
   "cell_type": "code",
   "execution_count": null,
   "id": "2b7cfc15-609f-4466-a784-0933681554de",
   "metadata": {},
   "outputs": [],
   "source": [
    "swin.head"
   ]
  },
  {
   "cell_type": "code",
   "execution_count": null,
   "id": "b4ed3f8c-29b9-476c-82f6-dab7f0f83ce7",
   "metadata": {},
   "outputs": [],
   "source": [
    "swin.train();"
   ]
  },
  {
   "cell_type": "code",
   "execution_count": null,
   "id": "a18de5db-0f19-4565-819e-94592e5440b1",
   "metadata": {},
   "outputs": [],
   "source": [
    "swin.head.drop.p = 0.4"
   ]
  },
  {
   "cell_type": "code",
   "execution_count": null,
   "id": "536d4639-c233-421b-95b0-e56cd00c716f",
   "metadata": {
    "tags": []
   },
   "outputs": [],
   "source": [
    "swin(spec[:,None,:,:])[-1]"
   ]
  },
  {
   "cell_type": "code",
   "execution_count": null,
   "id": "449260f8-5c80-4a96-b202-c7a7fa0b9c07",
   "metadata": {},
   "outputs": [],
   "source": []
  },
  {
   "cell_type": "code",
   "execution_count": null,
   "id": "74bbd2b1-20db-48cf-b5c4-87943829042b",
   "metadata": {
    "tags": []
   },
   "outputs": [],
   "source": [
    "torch.abs(leaf_1- leaf_2).max()"
   ]
  },
  {
   "cell_type": "code",
   "execution_count": null,
   "id": "4b3b4efb-fb87-4f9c-8684-7bff07bfd96e",
   "metadata": {},
   "outputs": [],
   "source": [
    "time_masked = time_masking(spec[0])\n",
    "freq_masked = freq_masking(spec[0])"
   ]
  },
  {
   "cell_type": "code",
   "execution_count": null,
   "id": "90ace1b5-093a-4611-802c-33be117a1c82",
   "metadata": {},
   "outputs": [],
   "source": [
    "# time_masked = time_masking(spec)\n",
    "# freq_masked = freq_masking(spec)\n",
    "\n",
    "plt.figure(figsize=(10,10))\n",
    "plt.imshow(spec[0].detach().cpu().numpy())\n",
    "plt.show();\n",
    "\n",
    "plt.figure(figsize=(10,10))\n",
    "plt.imshow(spec[1].detach().cpu().numpy())\n",
    "plt.show();\n",
    "\n",
    "plt.figure(figsize=(10,10))\n",
    "plt.imshow(spec[2].detach().cpu().numpy())\n",
    "plt.show();\n",
    "\n",
    "# plt.figure(figsize=(10,10))\n",
    "# plt.imshow(both_masked[0].detach().cpu().numpy())\n",
    "# plt.show();\n",
    "\n",
    "# plt.figure(figsize=(10,10))\n",
    "# plt.imshow(both_masked[1].detach().cpu().numpy())\n",
    "# plt.show();\n",
    "\n",
    "# plt.figure(figsize=(10,10))\n",
    "# plt.imshow(both_masked[2].detach().cpu().numpy())\n",
    "# plt.show();\n",
    "\n",
    "# plt.figure(figsize=(10,10))\n",
    "# plt.imshow(freq_masked[0].detach().cpu().numpy())\n",
    "# plt.show();\n",
    "\n",
    "# plt.figure(figsize=(10,10))\n",
    "# plt.imshow(freq_masked[1].detach().cpu().numpy())\n",
    "# plt.show();\n",
    "\n",
    "# plt.figure(figsize=(10,10))\n",
    "# plt.imshow(freq_masked[2].detach().cpu().numpy())\n",
    "# plt.show();\n",
    "\n",
    "# plt.figure(figsize=(10,10))\n",
    "# plt.imshow(freq_masked[0].detach().cpu().numpy())\n",
    "# plt.show();"
   ]
  },
  {
   "cell_type": "code",
   "execution_count": null,
   "id": "b50dcf00-83a1-4553-bbb4-edf8e2a07432",
   "metadata": {},
   "outputs": [],
   "source": [
    "test_audio, test_sr = librosa.load(\"/home/vova/data/exps/BirdCLEF_2023/birdclef_2023/train_audio/pygbat1/XC755905.ogg\", sr=None)\n",
    "test_audio = librosa.util.normalize(test_audio)"
   ]
  },
  {
   "cell_type": "code",
   "execution_count": null,
   "id": "066b3629-b9a3-4862-a1e8-fc666b8d192d",
   "metadata": {},
   "outputs": [],
   "source": [
    "test_sr"
   ]
  },
  {
   "cell_type": "code",
   "execution_count": null,
   "id": "3e13932d-279c-4231-a995-b74faae28119",
   "metadata": {},
   "outputs": [],
   "source": [
    "spec = my_spec(torch.from_numpy(librosa.util.normalize(test_audio))[None,:])\n",
    "# cqt_spec = cqt(torch.from_numpy(sample_au)[None,:])"
   ]
  },
  {
   "cell_type": "code",
   "execution_count": null,
   "id": "478166a0-35f9-4734-920e-1607238faf76",
   "metadata": {},
   "outputs": [],
   "source": [
    "plt.figure(figsize=(20,20))\n",
    "plt.imshow(spec[0])\n",
    "plt.show();\n",
    "# plt.imshow(cqt_spec[0])\n",
    "# plt.show();"
   ]
  },
  {
   "cell_type": "code",
   "execution_count": null,
   "id": "5f36c98f-cf60-46f2-8f58-0c48b90edd08",
   "metadata": {},
   "outputs": [],
   "source": [
    "spec.shape, cqt_spec.shape"
   ]
  },
  {
   "cell_type": "code",
   "execution_count": null,
   "id": "d5124902-a477-4b63-b8c9-79004f28450e",
   "metadata": {},
   "outputs": [],
   "source": [
    "spec.max(), spec.min()"
   ]
  },
  {
   "cell_type": "code",
   "execution_count": null,
   "id": "aecc6ec7-9014-4944-b143-fe54af06de0d",
   "metadata": {},
   "outputs": [],
   "source": [
    "cqt_spec.max(), cqt_spec.min()"
   ]
  },
  {
   "cell_type": "markdown",
   "id": "286878dc-1911-42f4-ba10-072bb605c13e",
   "metadata": {},
   "source": [
    "# Tune Scheduler"
   ]
  },
  {
   "cell_type": "code",
   "execution_count": null,
   "id": "86cba492-3f16-4f2f-a588-af4d19080c6e",
   "metadata": {},
   "outputs": [],
   "source": [
    "from torch.optim.lr_scheduler import CosineAnnealingLR, CosineAnnealingWarmRestarts, ReduceLROnPlateau, OneCycleLR"
   ]
  },
  {
   "cell_type": "code",
   "execution_count": null,
   "id": "4463de0e-5d09-4ac9-9781-9ac07ec04c42",
   "metadata": {},
   "outputs": [],
   "source": [
    "def visualise_lr_scheduling(lr_scheduler_from_opt, n_steps, verbose=True, lr=1e-3):\n",
    "    # t_opt = torch.optim.SGD([torch.tensor(1)], lr=lr)\n",
    "    t_opt = torch.optim.SGD([\n",
    "        {'params': torch.tensor(1), 'lr': lr},\n",
    "        # {'params': torch.tensor(1), 'lr': lr/20}\n",
    "    ])\n",
    "    t_sched = lr_scheduler_from_opt(t_opt)\n",
    "    lrs = []\n",
    "    for i in range(n_steps):\n",
    "        t_opt.step()\n",
    "        lrs.append(t_sched.get_lr()[0])\n",
    "        t_sched.step()\n",
    "        \n",
    "    if verbose:\n",
    "        plt.title(\"Learning Rate Schedule\")\n",
    "        plt.xlabel(\"Iteration\")\n",
    "        plt.ylabel(\"Learning Rate\")\n",
    "        plt.plot(lrs)\n",
    "        plt.show()\n",
    "        \n",
    "    print(f\"Min LR : {min(lrs)}. Max LR: {max(lrs)}\")\n",
    "    return lrs"
   ]
  },
  {
   "cell_type": "code",
   "execution_count": null,
   "id": "0ec6023b-58b1-4f68-82cc-2b582f376242",
   "metadata": {},
   "outputs": [],
   "source": [
    "visualise_lr_scheduling(\n",
    "    lr_scheduler_from_opt=lambda opt: GradualWarmupSchedulerV2(\n",
    "        optimizer=opt, \n",
    "        multiplier=10,\n",
    "        total_epoch=5,\n",
    "        after_scheduler=torch.optim.lr_scheduler.CosineAnnealingLR(\n",
    "            opt,\n",
    "            T_max=45,\n",
    "            eta_min=1e-7\n",
    "        )\n",
    "    ),\n",
    "    n_steps=50+2,\n",
    "    lr=1e-5\n",
    ");"
   ]
  },
  {
   "cell_type": "markdown",
   "id": "17f24f01-ff58-43f0-a5df-1d2d500aaecf",
   "metadata": {},
   "source": [
    "# Model"
   ]
  },
  {
   "cell_type": "code",
   "execution_count": null,
   "id": "7a33c8d6-e7d1-4527-a385-30b2f1c2e861",
   "metadata": {},
   "outputs": [],
   "source": []
  },
  {
   "cell_type": "code",
   "execution_count": null,
   "id": "8005146a-f4d7-4ec5-982a-22e3b7e24d33",
   "metadata": {},
   "outputs": [],
   "source": [
    "timm.list_models(\"tf_efficientnetv2*\")"
   ]
  },
  {
   "cell_type": "code",
   "execution_count": null,
   "id": "3c87c931-1004-440e-9200-167e2ce4702b",
   "metadata": {},
   "outputs": [],
   "source": [
    "backbone_model = timm.create_model(\"efficientformerv2_s2.snap_dist_in1k\", features_only=True)"
   ]
  },
  {
   "cell_type": "code",
   "execution_count": null,
   "id": "6ad0f8e7-1a34-4cb4-8e81-ec3ce3f3682a",
   "metadata": {
    "tags": []
   },
   "outputs": [],
   "source": [
    "backbone_model"
   ]
  },
  {
   "cell_type": "code",
   "execution_count": null,
   "id": "eb602c85-90ea-4594-8d10-0a0dc5f3cb64",
   "metadata": {},
   "outputs": [],
   "source": [
    "TRAIN_PERIOD = 5.0\n",
    "\n",
    "# model_config = dict(\n",
    "#     backbone=\"eca_nfnet_l0\",\n",
    "#     add_backbone_config={\n",
    "#         \"drop_path_rate\": 0.2\n",
    "#     },\n",
    "#     mel_spec_paramms={\n",
    "#         \"sample_rate\": 32000,\n",
    "#         \"n_mels\": 128,\n",
    "#         \"f_min\": 20,\n",
    "#         \"n_fft\": 2048,\n",
    "#         \"hop_length\": 512,\n",
    "#         \"normalized\": True,\n",
    "#     },\n",
    "#     head_config={\n",
    "#         \"p\": 0.5,\n",
    "#         \"num_class\": 264,\n",
    "#         \"train_period\": TRAIN_PERIOD,\n",
    "#         \"infer_period\": TRAIN_PERIOD,\n",
    "#     },\n",
    "#     exportable=True,\n",
    "#     # deep_supervision_steps=3\n",
    "# )\n",
    "model_config = dict(\n",
    "    backbone=\"tf_efficientnetv2_b1.in1k\",\n",
    "    mel_spec_paramms={\n",
    "        \"sample_rate\": 32000,\n",
    "        \"n_mels\": 128,\n",
    "        \"f_min\": 20,\n",
    "        \"n_fft\": 2048,\n",
    "        \"hop_length\": 512,\n",
    "        \"normalized\": True,\n",
    "    },\n",
    "    spec_augment_config={\n",
    "        \"bandpass_noise\":{\n",
    "            \"p\": 1.0,\n",
    "            \"inplace\": True\n",
    "        },\n",
    "        # \"power_aug\":{\n",
    "        #     \"power_range\": (0.5, 3.0),\n",
    "        #     \"p\": 1.0,\n",
    "        #     \"inplace\": True\n",
    "        # },\n",
    "        # \"freq_mask\": {\n",
    "        #     \"mask_max_length\": 20,\n",
    "        #     \"mask_max_masks\": 3,\n",
    "        #     \"p\": 0.7,\n",
    "        #     \"inplace\": True,\n",
    "        # },\n",
    "        # \"time_mask\": {\n",
    "        #     \"mask_max_length\": 30,\n",
    "        #     \"mask_max_masks\": 3,\n",
    "        #     \"p\": 0.7,\n",
    "        #     \"inplace\": True,\n",
    "        # },\n",
    "    },\n",
    "    head_config={\n",
    "        \"p\": 0.5,\n",
    "        \"num_class\": 998,\n",
    "        \"train_period\": TRAIN_PERIOD,\n",
    "        \"infer_period\": TRAIN_PERIOD,\n",
    "    },\n",
    "    exportable=True,\n",
    "    fixed_amplitude_to_db=True\n",
    ")\n",
    "\n",
    "model = WaveCNNAttenClasifier(**model_config, device=\"cpu\")\n",
    "\n",
    "model.train();"
   ]
  },
  {
   "cell_type": "code",
   "execution_count": null,
   "id": "1d6ffd0f-a8c2-4f12-8fc8-633bbd14416a",
   "metadata": {},
   "outputs": [],
   "source": [
    "spec = model.forward(torch.from_numpy(sample_au)[None,...], return_spec_feature=True)\n",
    "plt.imshow(spec[0,0])"
   ]
  },
  {
   "cell_type": "code",
   "execution_count": null,
   "id": "9a0229d0-12ae-45c0-8531-7b22451e0755",
   "metadata": {},
   "outputs": [],
   "source": [
    "plt.hist(noise.flatten(), bins=30)"
   ]
  },
  {
   "cell_type": "code",
   "execution_count": null,
   "id": "05abf0e5-f69d-40d6-a06a-4295eaff6158",
   "metadata": {},
   "outputs": [],
   "source": [
    "plt.hist(np.random.uniform(low=0.10, high=0.2, size=(10000,)))"
   ]
  },
  {
   "cell_type": "code",
   "execution_count": null,
   "id": "ba001837-bebf-4928-a4ef-68a71db76c10",
   "metadata": {},
   "outputs": [],
   "source": [
    "import random"
   ]
  },
  {
   "cell_type": "code",
   "execution_count": null,
   "id": "b40ee6a5-5405-41cf-8588-68dec4d81daf",
   "metadata": {},
   "outputs": [],
   "source": [
    "random.uniform(0.2, 0.3)"
   ]
  },
  {
   "cell_type": "code",
   "execution_count": null,
   "id": "aa66d4f2-a3ba-4ab8-820d-1da73b919773",
   "metadata": {},
   "outputs": [],
   "source": [
    "# noise = (np.random.sample((spec[0,0].shape[0], spec[0,0].shape[1])).astype(np.float32)) * 0.05 * (np.random.sample() + 0.3)\n",
    "plt.imshow(spec[0,0] + torch.randn_like(spec[0,0]) * 0.2 * (np.random.sample() + 0.3))"
   ]
  },
  {
   "cell_type": "code",
   "execution_count": null,
   "id": "6d882cf8-5c91-4e10-8e4d-0fe5766b0822",
   "metadata": {},
   "outputs": [],
   "source": [
    "torch.randn_like(spec[0,0])"
   ]
  },
  {
   "cell_type": "code",
   "execution_count": null,
   "id": "1faf9add-a26a-4ed2-a461-453623c22b6f",
   "metadata": {},
   "outputs": [],
   "source": [
    "plt.hist(torch.randn_like(spec[0,0]).flatten(), bins=30)"
   ]
  },
  {
   "cell_type": "code",
   "execution_count": null,
   "id": "bc1d6b41-05b1-4d85-b2ae-9ec90bfbceee",
   "metadata": {},
   "outputs": [],
   "source": [
    "plt.imshow(spec[0,0])"
   ]
  },
  {
   "cell_type": "code",
   "execution_count": null,
   "id": "41e1ff7d-dbe5-4881-a12b-150ceb1c81f1",
   "metadata": {},
   "outputs": [],
   "source": [
    "plt.imshow(spec[0,0])"
   ]
  },
  {
   "cell_type": "code",
   "execution_count": null,
   "id": "eece6076-ba21-45d2-be43-d6a09b8d7eae",
   "metadata": {},
   "outputs": [],
   "source": [
    "plt.imshow(spec[0,0])"
   ]
  },
  {
   "cell_type": "code",
   "execution_count": null,
   "id": "fee41815-8848-4f99-8316-c04911f6d833",
   "metadata": {},
   "outputs": [],
   "source": [
    "plt.imshow(spec[0,0]* pink_noise)"
   ]
  },
  {
   "cell_type": "code",
   "execution_count": null,
   "id": "30c3faf2-b99d-4018-b1c5-e15b2733513a",
   "metadata": {},
   "outputs": [],
   "source": [
    "import random"
   ]
  },
  {
   "cell_type": "code",
   "execution_count": null,
   "id": "b2e58605-6cc3-420a-aa32-400b565f9df1",
   "metadata": {},
   "outputs": [],
   "source": [
    "noise = (np.random.sample((spec[0,0].shape[0], spec[0,0].shape[1])).astype(np.float32)) * 0.05 * (np.random.sample() + 0.3)"
   ]
  },
  {
   "cell_type": "code",
   "execution_count": null,
   "id": "d522cf4e-07c9-4b4b-ae84-1bcf4dcda81b",
   "metadata": {},
   "outputs": [],
   "source": [
    "r = random.randint(spec[0,0].shape[0]//2,spec[0,0].shape[0])\n",
    "x = random.random()/2\n",
    "pink_noise = torch.from_numpy(np.array([np.concatenate((1-np.arange(r)*x/r,np.zeros(spec[0,0].shape[0]-r)-x+1))]).T)"
   ]
  },
  {
   "cell_type": "code",
   "execution_count": null,
   "id": "0e5353ae-bdb6-45c4-a4a5-82032bec7a8e",
   "metadata": {},
   "outputs": [],
   "source": [
    "pink_noise.shape"
   ]
  },
  {
   "cell_type": "code",
   "execution_count": null,
   "id": "97112118-4b65-4d46-93d8-fd2c44157699",
   "metadata": {},
   "outputs": [],
   "source": [
    "spec[0,0] = spec[0,0] * pink_noise "
   ]
  },
  {
   "cell_type": "code",
   "execution_count": null,
   "id": "58a347fc-0233-4998-be60-8d908498ed5e",
   "metadata": {},
   "outputs": [],
   "source": [
    "plt.hist(torch.randn_like(spec[0,0]).numpy().flatten())"
   ]
  },
  {
   "cell_type": "code",
   "execution_count": null,
   "id": "381f8760-d271-46f1-b4cf-c7d2cce5afbf",
   "metadata": {},
   "outputs": [],
   "source": [
    "spec[0,0].min()"
   ]
  },
  {
   "cell_type": "code",
   "execution_count": null,
   "id": "0f33365b-9c3d-4b47-83c6-ca1e96ce1208",
   "metadata": {},
   "outputs": [],
   "source": [
    "sample = torch.randn(4, int(32000 * TRAIN_PERIOD))"
   ]
  },
  {
   "cell_type": "code",
   "execution_count": null,
   "id": "d9b987cb-33a9-43ea-8358-9b417a55c987",
   "metadata": {},
   "outputs": [],
   "source": [
    "with torch.no_grad():\n",
    "    out = model(sample)"
   ]
  },
  {
   "cell_type": "code",
   "execution_count": null,
   "id": "047b45be-f393-48cf-9dd4-59eb10006e37",
   "metadata": {},
   "outputs": [],
   "source": [
    "out[\"clipwise_pred_long\"]"
   ]
  },
  {
   "cell_type": "code",
   "execution_count": null,
   "id": "db95c88e-8185-4a7a-b337-0e9be4850e5a",
   "metadata": {},
   "outputs": [],
   "source": [
    "out_2[\"clipwise_pred_long\"]"
   ]
  },
  {
   "cell_type": "code",
   "execution_count": null,
   "id": "6478a20c-d451-42c0-9e2f-883c3c6422d1",
   "metadata": {},
   "outputs": [],
   "source": [
    "out_old[\"clipwise_pred_long\"]"
   ]
  },
  {
   "cell_type": "code",
   "execution_count": null,
   "id": "af5cf592-c65b-4928-b1aa-7f3af4f944d0",
   "metadata": {},
   "outputs": [],
   "source": [
    "out_old_2[\"clipwise_pred_long\"]"
   ]
  },
  {
   "cell_type": "code",
   "execution_count": null,
   "id": "beac990d-e20d-489c-a41c-677bd6ec837f",
   "metadata": {},
   "outputs": [],
   "source": [
    "both_masking = nn.Sequential(\n",
    "    CustomTimeMasking(\n",
    "        mask_max_length=20,\n",
    "        mask_max_masks=3,\n",
    "        p=0.3,\n",
    "        inplace=True\n",
    "    ),\n",
    "    CustomFreqMasking(\n",
    "        mask_max_length=10,\n",
    "        mask_max_masks=3,\n",
    "        p=0.3,\n",
    "        inplace=True\n",
    "    )\n",
    ")"
   ]
  },
  {
   "cell_type": "code",
   "execution_count": null,
   "id": "00a563f2-9cb2-4735-b775-d0bb29d5e561",
   "metadata": {},
   "outputs": [],
   "source": [
    "128 / 8"
   ]
  },
  {
   "cell_type": "code",
   "execution_count": null,
   "id": "42bbed3c-ee66-437d-9fef-27e41c5f6b3b",
   "metadata": {},
   "outputs": [],
   "source": [
    "256 / 8"
   ]
  },
  {
   "cell_type": "code",
   "execution_count": null,
   "id": "bd3a087c-de73-431c-ac90-35b14f399c5c",
   "metadata": {
    "tags": []
   },
   "outputs": [],
   "source": [
    "model"
   ]
  },
  {
   "cell_type": "code",
   "execution_count": null,
   "id": "0e881f93-a3a6-4796-a8b2-e454b4ede3c5",
   "metadata": {},
   "outputs": [],
   "source": [
    "sample_au = torch.from_numpy(sample_au)[None,...]\n",
    "# sample_au = torch.stack([sample_au, sample_au, sample_au, sample_au])"
   ]
  },
  {
   "cell_type": "code",
   "execution_count": null,
   "id": "528669dd-198f-46ca-99b7-0969fdf82e25",
   "metadata": {},
   "outputs": [],
   "source": [
    "spec = model.forward(\n",
    "    sample_au,\n",
    "    # torch.from_numpy(sample_au)[None,...],\n",
    "    return_spec_feature=True\n",
    ")"
   ]
  },
  {
   "cell_type": "code",
   "execution_count": null,
   "id": "4433ce4f-aa90-4008-97e6-db4a50118909",
   "metadata": {},
   "outputs": [],
   "source": [
    "spec"
   ]
  },
  {
   "cell_type": "code",
   "execution_count": null,
   "id": "68897ee9-f0db-4995-9141-a7b56433f1c5",
   "metadata": {},
   "outputs": [],
   "source": [
    "len(spec)"
   ]
  },
  {
   "cell_type": "code",
   "execution_count": null,
   "id": "44b2c960-c73a-44d1-8d8b-6be0e583755e",
   "metadata": {},
   "outputs": [],
   "source": [
    "plt.imshow(spec[0,0].detach())"
   ]
  },
  {
   "cell_type": "code",
   "execution_count": null,
   "id": "9615af34-7ca9-4a02-8618-8522d6f664cc",
   "metadata": {},
   "outputs": [],
   "source": [
    "plt.imshow(spec[0,0].detach())"
   ]
  },
  {
   "cell_type": "code",
   "execution_count": null,
   "id": "4dea602c-2795-4fc8-9be4-3614543488de",
   "metadata": {},
   "outputs": [],
   "source": [
    "some_backbone = timm.create_model(\n",
    "    \"eca_nfnet_l0\",\n",
    "    features_only=True,\n",
    "    pretrained=True,\n",
    "    exportable=True,\n",
    "    in_chans=2,\n",
    "    out_indices=None\n",
    ")\n",
    "some_backbone.eval();"
   ]
  },
  {
   "cell_type": "code",
   "execution_count": null,
   "id": "94c4c2bb-756b-4e4f-a1e5-62e9fbbb61a0",
   "metadata": {},
   "outputs": [],
   "source": [
    "some_backbone.feature_info.info"
   ]
  },
  {
   "cell_type": "code",
   "execution_count": null,
   "id": "28717014-0a0f-4b2c-a105-ac162262f780",
   "metadata": {},
   "outputs": [],
   "source": [
    "sample_input = torch.randn((1,2,256,256))"
   ]
  },
  {
   "cell_type": "code",
   "execution_count": null,
   "id": "30e174d2-9742-4a16-8772-94802515924a",
   "metadata": {},
   "outputs": [],
   "source": [
    "sample_input.mean((2,3), keepdims=True)"
   ]
  },
  {
   "cell_type": "code",
   "execution_count": null,
   "id": "10a00076-9b32-4995-a996-2b61ce00e65f",
   "metadata": {},
   "outputs": [],
   "source": [
    "type(sample_output_1)"
   ]
  },
  {
   "cell_type": "code",
   "execution_count": null,
   "id": "d366adc4-25aa-423d-9d26-f047aa44a3a4",
   "metadata": {},
   "outputs": [],
   "source": [
    "with torch.no_grad():\n",
    "    sample_output_2 = some_backbone(sample_input)"
   ]
  },
  {
   "cell_type": "code",
   "execution_count": null,
   "id": "aed39a8e-bb90-4bbc-b024-2ee9f5a46d0e",
   "metadata": {},
   "outputs": [],
   "source": [
    "len(sample_output_1), len(sample_output_2)"
   ]
  },
  {
   "cell_type": "code",
   "execution_count": null,
   "id": "ec744ad8-1371-43a0-ae9b-96569475002b",
   "metadata": {},
   "outputs": [],
   "source": [
    "torch.allclose(sample_output_1[3], sample_output_2[1])"
   ]
  },
  {
   "cell_type": "code",
   "execution_count": null,
   "id": "c6d56e0e-6027-4018-b055-dc65e9542b4a",
   "metadata": {},
   "outputs": [],
   "source": [
    "sample = torch.randn((4, int(TRAIN_PERIOD*32_000)))"
   ]
  },
  {
   "cell_type": "code",
   "execution_count": null,
   "id": "24eaf6ff-c5ef-4e45-b9a6-f530e63506c2",
   "metadata": {},
   "outputs": [],
   "source": [
    "model(sample)[\"clipwise_pred\"].shape"
   ]
  },
  {
   "cell_type": "code",
   "execution_count": null,
   "id": "86aca70c-0386-4a98-9e7e-4b527238437f",
   "metadata": {},
   "outputs": [],
   "source": [
    "sample = torch.from_numpy(librosa.util.normalize(test_audio[\n",
    "    test_sr*0:\n",
    "    test_sr*5\n",
    "]))[None,:]"
   ]
  },
  {
   "cell_type": "code",
   "execution_count": null,
   "id": "8db3750b-af8c-4c73-a886-7123650c550a",
   "metadata": {},
   "outputs": [],
   "source": [
    "sample.shape"
   ]
  },
  {
   "cell_type": "code",
   "execution_count": null,
   "id": "ab516bda-ea4c-4c78-a54a-0ec1f8b16f43",
   "metadata": {},
   "outputs": [],
   "source": [
    "spec = model.logmelspec_extractor(sample)"
   ]
  },
  {
   "cell_type": "code",
   "execution_count": null,
   "id": "c65ec2e2-bb16-489a-bda9-25ee840f9791",
   "metadata": {},
   "outputs": [],
   "source": [
    "spec.shape"
   ]
  },
  {
   "cell_type": "code",
   "execution_count": null,
   "id": "aa4fa713-fb0f-436c-8655-2f39350ab8e5",
   "metadata": {},
   "outputs": [],
   "source": [
    "spec.shape"
   ]
  },
  {
   "cell_type": "code",
   "execution_count": null,
   "id": "b58fb75a-f72d-4dcd-968b-56e7ba5632ed",
   "metadata": {},
   "outputs": [],
   "source": [
    "model.logmelspec_extractor"
   ]
  },
  {
   "cell_type": "code",
   "execution_count": null,
   "id": "c779b79e-ba96-438d-8b2e-a73b1ad25c9f",
   "metadata": {},
   "outputs": [],
   "source": [
    "embs = model.backbone(spec)"
   ]
  },
  {
   "cell_type": "code",
   "execution_count": null,
   "id": "865f5096-d6e9-4510-9f56-99b419f76586",
   "metadata": {},
   "outputs": [],
   "source": [
    "# model.train();\n",
    "model.eval();\n",
    "embs = model.forward(sample, return_spec_feature=True)"
   ]
  },
  {
   "cell_type": "code",
   "execution_count": null,
   "id": "44bf8459-e51d-47e4-9756-a303bd339e4f",
   "metadata": {},
   "outputs": [],
   "source": [
    "plt.imshow(embs[0,0])"
   ]
  },
  {
   "cell_type": "code",
   "execution_count": null,
   "id": "83bb626b-42aa-4634-94f7-0852691a42bc",
   "metadata": {},
   "outputs": [],
   "source": [
    "embs[\"clipwise_pred_long\"].min()"
   ]
  },
  {
   "cell_type": "code",
   "execution_count": null,
   "id": "fe712e37-60cd-497d-8f28-ec633c6b3b27",
   "metadata": {},
   "outputs": [],
   "source": [
    "embs.shape"
   ]
  },
  {
   "cell_type": "code",
   "execution_count": null,
   "id": "524bb925-5630-4e93-a2b0-63f663032614",
   "metadata": {},
   "outputs": [],
   "source": [
    "len(embs)"
   ]
  },
  {
   "cell_type": "code",
   "execution_count": null,
   "id": "9ba341c5-7c20-4fae-bf56-30f7d28282ca",
   "metadata": {},
   "outputs": [],
   "source": [
    "model.forward(sample)"
   ]
  },
  {
   "cell_type": "code",
   "execution_count": null,
   "id": "6379d11f-6549-4b39-9f22-c911806c7cfa",
   "metadata": {},
   "outputs": [],
   "source": [
    "embs.transpose()"
   ]
  },
  {
   "cell_type": "code",
   "execution_count": null,
   "id": "3f1f1c03-d569-46d8-9dee-687deacfc56f",
   "metadata": {},
   "outputs": [],
   "source": [
    "# torch.Size([4, 2304, 4, 10])"
   ]
  },
  {
   "cell_type": "code",
   "execution_count": null,
   "id": "92472284-689a-4cc5-97e9-24f3dfb5dc56",
   "metadata": {},
   "outputs": [],
   "source": [
    "len(embs)"
   ]
  },
  {
   "cell_type": "code",
   "execution_count": null,
   "id": "b66aa263-1b14-46c9-8cbd-91fd3a0f94fd",
   "metadata": {},
   "outputs": [],
   "source": [
    "probs = model.forward(sample)"
   ]
  },
  {
   "cell_type": "code",
   "execution_count": null,
   "id": "298e8f57-9d86-4b92-8933-733c1e2dfd34",
   "metadata": {},
   "outputs": [],
   "source": [
    "probs"
   ]
  },
  {
   "cell_type": "code",
   "execution_count": null,
   "id": "0bba9fd4-4908-40cf-ae5f-d41905390a95",
   "metadata": {},
   "outputs": [],
   "source": [
    "embs[2].shape"
   ]
  },
  {
   "cell_type": "code",
   "execution_count": null,
   "id": "f8a213dd-069d-4fa6-a5c2-13f404147d1d",
   "metadata": {},
   "outputs": [],
   "source": [
    "pool_layers = nn.ModuleList([\n",
    "    GeMFreqFixed(time_kernel_size=k*2 if k>0 else 1) for k in list(reversed(range(len(embs))))\n",
    "])"
   ]
  },
  {
   "cell_type": "code",
   "execution_count": null,
   "id": "0c59610e-77a7-4316-86f8-7b1880bb1fc4",
   "metadata": {},
   "outputs": [],
   "source": [
    "pooled_embs = [p(emb) for p, emb in zip(pool_layers, embs)]"
   ]
  },
  {
   "cell_type": "code",
   "execution_count": null,
   "id": "76f7511e-ddb9-442d-ae4b-3e119359645b",
   "metadata": {},
   "outputs": [],
   "source": [
    "for i in range(len(embs)):\n",
    "    print(pooled_embs[i].shape, embs[i].shape)"
   ]
  },
  {
   "cell_type": "code",
   "execution_count": null,
   "id": "defa86a9-e586-459c-bb7c-59b19a46dca5",
   "metadata": {},
   "outputs": [],
   "source": [
    "pooled_embs[3].shape, embs[3].shape"
   ]
  },
  {
   "cell_type": "code",
   "execution_count": null,
   "id": "c09718cd-e2bb-46c7-b8c3-3b21677de747",
   "metadata": {},
   "outputs": [],
   "source": []
  },
  {
   "cell_type": "code",
   "execution_count": null,
   "id": "992ac35a-6be8-431e-b47d-682b894d1456",
   "metadata": {},
   "outputs": [],
   "source": [
    "[k*2 if k>0 else 1 for k in list(reversed(range(len(embs))))]"
   ]
  },
  {
   "cell_type": "code",
   "execution_count": null,
   "id": "4e8a877a-341e-4647-b69b-05413c1a2414",
   "metadata": {},
   "outputs": [],
   "source": [
    "list(reversed(range(1, len(embs))))"
   ]
  },
  {
   "cell_type": "code",
   "execution_count": null,
   "id": "745a117e-8953-40c5-a26e-30cc759084d1",
   "metadata": {},
   "outputs": [],
   "source": [
    "[el.shape for el in embs]"
   ]
  },
  {
   "cell_type": "code",
   "execution_count": null,
   "id": "43e84d2b-d2de-45ea-ad24-bc6c8cee438c",
   "metadata": {},
   "outputs": [],
   "source": [
    "avg_pool = torch.nn.AvgPool2d(kernel_size=(2,2))"
   ]
  },
  {
   "cell_type": "code",
   "execution_count": null,
   "id": "4e0bb690-ade1-4193-a21f-b4eab9c0c945",
   "metadata": {},
   "outputs": [],
   "source": [
    "avg_pool(embs[-2]).shape"
   ]
  },
  {
   "cell_type": "code",
   "execution_count": null,
   "id": "41a963cd-0441-463c-94e4-b27dfcb2d0f2",
   "metadata": {},
   "outputs": [],
   "source": [
    "spec = model(sample)"
   ]
  },
  {
   "cell_type": "code",
   "execution_count": null,
   "id": "feaeb533-bec8-47d5-ab59-f69d9d62c963",
   "metadata": {},
   "outputs": [],
   "source": [
    "spec.shape"
   ]
  },
  {
   "cell_type": "code",
   "execution_count": null,
   "id": "b20b37ed-2100-4074-89a3-cd12b02f6e71",
   "metadata": {},
   "outputs": [],
   "source": [
    "!rm test_onnx -rf"
   ]
  },
  {
   "cell_type": "code",
   "execution_count": null,
   "id": "3faeaddb-0a57-46fe-8daf-239f94659cbe",
   "metadata": {},
   "outputs": [],
   "source": [
    "model.eval()\n",
    "convert_to_onnx(\n",
    "    model_to_convert=model,\n",
    "    sample_input=torch.randn(4, int(TRAIN_PERIOD * 32_000)),\n",
    "    # base_path=f\"../logdirs/tf_efficientnetv2_m_in21ft1k_convnext_tiny_in22ft1k_eca_nfnet_l0_noval_v3AllTune_075Clipwise025TimeMax_GausMean/onnx_ensem\"\n",
    "    base_path=\"test_onnx\"\n",
    ")"
   ]
  },
  {
   "cell_type": "code",
   "execution_count": null,
   "id": "0eb8fa2c-bcba-4620-91ca-631d2c0e9206",
   "metadata": {},
   "outputs": [],
   "source": [
    "model = ort.InferenceSession(f\"test_onnx/model_simpl.onnx\")"
   ]
  },
  {
   "cell_type": "code",
   "execution_count": null,
   "id": "1f84d6d9-6c63-4a75-b462-26031147dbab",
   "metadata": {},
   "outputs": [],
   "source": [
    "out = model.run(None, {\"input\": torch.randn(4, int(TRAIN_PERIOD * 32_000)).numpy()})[0]"
   ]
  },
  {
   "cell_type": "code",
   "execution_count": null,
   "id": "8552f139-afa0-487c-9b60-2ad16a2e7289",
   "metadata": {},
   "outputs": [],
   "source": [
    "out.shape"
   ]
  },
  {
   "cell_type": "code",
   "execution_count": null,
   "id": "6d1ab01e-8169-48d3-b7a6-3820fd6cbb31",
   "metadata": {},
   "outputs": [],
   "source": [
    "out"
   ]
  },
  {
   "cell_type": "markdown",
   "id": "f9d9ec74-0946-45de-a0ad-077a1c8f7d0f",
   "metadata": {},
   "source": [
    "# Losses"
   ]
  },
  {
   "cell_type": "code",
   "execution_count": null,
   "id": "7f071c65-ba2b-4815-b6f7-ab32f0e59b15",
   "metadata": {},
   "outputs": [],
   "source": [
    "from code_base.losses.focal_loss import FocalLossBCE"
   ]
  },
  {
   "cell_type": "code",
   "execution_count": null,
   "id": "b74ed212-7781-4ac5-bb99-2de8dd5d42c2",
   "metadata": {},
   "outputs": [],
   "source": [
    "loss_f = FocalLossBCE(reduction=\"None\")"
   ]
  },
  {
   "cell_type": "code",
   "execution_count": null,
   "id": "81a0f23f-51f3-4d92-8284-d4f7600d5d92",
   "metadata": {},
   "outputs": [],
   "source": [
    "((torch.rand(100000) < 0.8).float()).mean()"
   ]
  },
  {
   "cell_type": "code",
   "execution_count": null,
   "id": "178dafdf-0dfa-4f19-a2ff-1479e593ef24",
   "metadata": {},
   "outputs": [],
   "source": [
    "inputs = torch.randn()"
   ]
  },
  {
   "cell_type": "code",
   "execution_count": null,
   "id": "8d269f2b-bee0-44dc-9996-dc839dff6603",
   "metadata": {},
   "outputs": [],
   "source": [
    "loss_f.forward()"
   ]
  },
  {
   "cell_type": "markdown",
   "id": "f4d76856-d03e-4c77-94e5-aa4d07d84070",
   "metadata": {},
   "source": [
    "# Prepare final datasets"
   ]
  },
  {
   "cell_type": "code",
   "execution_count": null,
   "id": "606b1145-e73a-4388-928a-ca572522dc77",
   "metadata": {},
   "outputs": [],
   "source": [
    "train_metadata_extended_202x = pd.read_csv(\n",
    "    \"/home/vova/data/exps/BirdCLEF_2023/train_metadata_extended_2020_2022_no2023_scored_nodupl_v1_only_prime_2023SecLabels.csv\"\n",
    ")\n",
    "xc_add_first = pd.read_csv(\n",
    "    \"/home/vova/data/exps/BirdCLEF_2023/xeno_canto/scored_2023_xc_2023SecLabels.csv\"\n",
    ")\n",
    "xc_add_second = pd.read_csv(\n",
    "    \"/home/vova/data/exps/BirdCLEF_2023/xeno_canto/scored_2023_xc_2023SecLabels_till_12_05_2023_v2.csv\"\n",
    ")"
   ]
  },
  {
   "cell_type": "code",
   "execution_count": null,
   "id": "e6041d72-c252-4f4e-a841-1f81caa37de9",
   "metadata": {},
   "outputs": [],
   "source": [
    "xc_add_first.filename.iloc[0]"
   ]
  },
  {
   "cell_type": "code",
   "execution_count": null,
   "id": "34747da5-872b-4ce4-ab6a-2e7cfc022a51",
   "metadata": {},
   "outputs": [],
   "source": [
    "for fname in tqdm(xc_add_second[\"filename\"]):\n",
    "    splitted_fname = fname.split(\"/\")\n",
    "    new_fname = os.path.join(\"/home/vova/src/exps/BirdCLEF_2023_1st_place/data/birdclef_2023_data_part1/audio/\", splitted_fname[-2], splitted_fname[-1])\n",
    "    if not os.path.exists(os.path.dirname(new_fname)):\n",
    "        os.makedirs(os.path.dirname(new_fname))\n",
    "    copyfile(\n",
    "        fname,\n",
    "        os.path.join(\"/home/vova/src/exps/BirdCLEF_2023_1st_place/data/birdclef_2023_data_part1/audio/\", splitted_fname[-2], splitted_fname[-1])\n",
    "    )"
   ]
  },
  {
   "cell_type": "code",
   "execution_count": null,
   "id": "f8b60198-074a-4dd8-b269-08ebd41a4f88",
   "metadata": {},
   "outputs": [],
   "source": [
    "def modify_name(input):\n",
    "    splitted_fname = input.split(\"/\")\n",
    "    return os.path.join(splitted_fname[-2], splitted_fname[-1])"
   ]
  },
  {
   "cell_type": "code",
   "execution_count": null,
   "id": "593a4ead-bcfc-4815-a037-2ba3b707004b",
   "metadata": {},
   "outputs": [],
   "source": [
    "train_metadata_extended_202x[\"filename\"] = train_metadata_extended_202x[\"filename\"].apply(modify_name)\n",
    "xc_add_first[\"filename\"] = xc_add_first[\"filename\"].apply(modify_name)\n",
    "xc_add_second[\"filename\"] = xc_add_second[\"filename\"].apply(modify_name)"
   ]
  },
  {
   "cell_type": "code",
   "execution_count": null,
   "id": "742765ad-b2a1-4a75-85c9-8ab22cda8a7d",
   "metadata": {},
   "outputs": [],
   "source": [
    "train_metadata_extended_202x.drop(columns=\"Unnamed: 0\").to_csv(\n",
    "    \"/home/vova/src/exps/BirdCLEF_2023_1st_place/data/birdclef_2023_data_part1/train_metadata_extended_2020_2022_no2023_scored_nodupl_v1_only_prime_2023SecLabels.csv\",\n",
    "    index=False\n",
    ")\n",
    "xc_add_first.to_csv(\n",
    "    \"/home/vova/src/exps/BirdCLEF_2023_1st_place/data/birdclef_2023_data_part1/scored_2023_xc_2023SecLabels.csv\",\n",
    "    index=False\n",
    ")\n",
    "xc_add_second.to_csv(\n",
    "    \"/home/vova/src/exps/BirdCLEF_2023_1st_place/data/birdclef_2023_data_part1/scored_2023_xc_2023SecLabels_till_12_05_2023_v2.csv\",\n",
    "    index=False\n",
    ")"
   ]
  },
  {
   "cell_type": "code",
   "execution_count": null,
   "id": "ab2cc715-8956-4276-8d5d-243a45e14f33",
   "metadata": {},
   "outputs": [],
   "source": [
    "background_noise = pd.read_csv(\n",
    "    \"/home/vova/data/exps/BirdCLEF_2023/soundscapes_processed/v1_no_call_meta.csv\"\n",
    ")"
   ]
  },
  {
   "cell_type": "code",
   "execution_count": null,
   "id": "df4d0bb6-ce58-4986-bd2e-550492884937",
   "metadata": {},
   "outputs": [],
   "source": [
    "background_noise[\"filename\"].iloc[0]"
   ]
  },
  {
   "cell_type": "code",
   "execution_count": null,
   "id": "32810c0f-a7ba-47dd-9f0c-14d12ec443db",
   "metadata": {},
   "outputs": [],
   "source": [
    "for fname in tqdm(background_noise[\"filename\"]):\n",
    "    splitted_fname = fname.split(\"/\")\n",
    "    new_fname = os.path.join(\"/home/vova/src/exps/BirdCLEF_2023_1st_place/data/birdclef_2023_data_part1/soundscapes_nocall/\", splitted_fname[-2], splitted_fname[-1])\n",
    "    if os.path.exists(new_fname):\n",
    "        continue\n",
    "    if not os.path.exists(os.path.dirname(new_fname)):\n",
    "        os.makedirs(os.path.dirname(new_fname))\n",
    "    copyfile(\n",
    "        fname,\n",
    "        new_fname\n",
    "    )"
   ]
  },
  {
   "cell_type": "code",
   "execution_count": null,
   "id": "73afe515-511f-49f8-94ba-14dcb297d40f",
   "metadata": {},
   "outputs": [],
   "source": [
    "background_noise[\"filename\"] = background_noise[\"filename\"].apply(os.path.basename)"
   ]
  },
  {
   "cell_type": "code",
   "execution_count": null,
   "id": "615f6952-62d2-49d7-80e9-69665387ece5",
   "metadata": {},
   "outputs": [],
   "source": [
    "background_noise"
   ]
  },
  {
   "cell_type": "code",
   "execution_count": null,
   "id": "a3fcf053-316e-4b73-bf95-defd756fd7e5",
   "metadata": {},
   "outputs": [],
   "source": [
    "background_noise.to_csv(\n",
    "    \"/home/vova/src/exps/BirdCLEF_2023_1st_place/data/birdclef_2023_data_part1/v1_no_call_meta.csv\",\n",
    "    index=False\n",
    ")"
   ]
  },
  {
   "cell_type": "code",
   "execution_count": null,
   "id": "26402e00-8530-4169-89df-6b73d0bdb816",
   "metadata": {},
   "outputs": [],
   "source": [
    "background_noise_esc50 = pd.read_csv(\n",
    "    \"../../BirdCLEF_2023_1st_place/data/birdclef_2023_data_part1/esc50_background.csv\"\n",
    ")"
   ]
  },
  {
   "cell_type": "code",
   "execution_count": null,
   "id": "eeb20b7c-4dc9-4d27-9e00-27e42622623f",
   "metadata": {},
   "outputs": [],
   "source": [
    "for fname in tqdm(background_noise_esc50[\"filename\"]):\n",
    "    splitted_fname = fname.split(\"/\")\n",
    "    new_fname = os.path.join(\"/home/vova/src/exps/BirdCLEF_2023_1st_place/data/birdclef_2023_data_part1/esc50/\", splitted_fname[-2], splitted_fname[-1])\n",
    "    if os.path.exists(new_fname):\n",
    "        continue\n",
    "    if not os.path.exists(os.path.dirname(new_fname)):\n",
    "        os.makedirs(os.path.dirname(new_fname))\n",
    "    copyfile(\n",
    "        fname,\n",
    "        new_fname\n",
    "    )"
   ]
  },
  {
   "cell_type": "code",
   "execution_count": null,
   "id": "32e34031-f67f-45e7-9af6-5a476bee521a",
   "metadata": {},
   "outputs": [],
   "source": [
    "background_noise_esc50[\"filename\"] = background_noise_esc50[\"filename\"].apply(os.path.basename)"
   ]
  },
  {
   "cell_type": "code",
   "execution_count": null,
   "id": "f2cf08ef-6219-479b-8c6e-176487b510d8",
   "metadata": {},
   "outputs": [],
   "source": [
    "background_noise_esc50.to_csv(\n",
    "    \"/home/vova/src/exps/BirdCLEF_2023_1st_place/data/birdclef_2023_data_part1/esc50_background.csv\",\n",
    "    index=False\n",
    ")"
   ]
  },
  {
   "cell_type": "code",
   "execution_count": null,
   "id": "e4b9aeed-2167-4b45-9fca-8c21b6dbd7ca",
   "metadata": {},
   "outputs": [],
   "source": [
    "pretrain_dataset = pd.read_csv(\n",
    "    \"/home/vova/data/exps/BirdCLEF_2023/xeno_canto/train_metadata_extended_shorten_and_2023x_v3.csv\"\n",
    ")"
   ]
  },
  {
   "cell_type": "code",
   "execution_count": null,
   "id": "ebea09e9-14a9-49f7-80eb-238bccb52ffc",
   "metadata": {},
   "outputs": [],
   "source": [
    "pretrain_dataset[\"filename\"].apply(lambda x: \"/\".join(x.split(\"/\")[:-2])).value_counts()"
   ]
  },
  {
   "cell_type": "code",
   "execution_count": null,
   "id": "0cd657cf-d97a-4756-a468-4faf178d9b19",
   "metadata": {},
   "outputs": [],
   "source": [
    "pretrain_dataset_2021 = pretrain_dataset[\n",
    "    pretrain_dataset[\"filename\"].apply(lambda x: \"/\".join(x.split(\"/\")[:-2])) == \"/home/vova/data/exps/BirdCLEF_2023/birdclef_2021/train_short_audio\"\n",
    "]"
   ]
  },
  {
   "cell_type": "code",
   "execution_count": null,
   "id": "9fb16d5b-1a03-45fd-9b63-6c69b3af52b5",
   "metadata": {},
   "outputs": [],
   "source": [
    "pretrain_dataset_2021[\"filename\"].apply(lambda x: \"/\".join(x.split(\"/\")[:-2])).value_counts()"
   ]
  },
  {
   "cell_type": "code",
   "execution_count": null,
   "id": "fb1a5557-272d-4a6d-9587-7a15ca11e777",
   "metadata": {},
   "outputs": [],
   "source": [
    "pretrain_dataset_2021[\"filename\"].iloc[0]"
   ]
  },
  {
   "cell_type": "code",
   "execution_count": null,
   "id": "b635dc54-f717-456e-a032-96b89bd1add2",
   "metadata": {},
   "outputs": [],
   "source": [
    "for fname in tqdm(pretrain_dataset_2021[\"filename\"]):\n",
    "    splitted_fname = fname.split(\"/\")\n",
    "    new_fname = os.path.join(\"/home/vova/src/exps/BirdCLEF_2023_1st_place/data/birdclef_2023_data_part5/birdclef_2021\", splitted_fname[-2], splitted_fname[-1])\n",
    "    if os.path.exists(new_fname):\n",
    "        continue\n",
    "    if not os.path.exists(os.path.dirname(new_fname)):\n",
    "        os.makedirs(os.path.dirname(new_fname))\n",
    "    copyfile(\n",
    "        fname,\n",
    "        new_fname\n",
    "    )"
   ]
  },
  {
   "cell_type": "code",
   "execution_count": null,
   "id": "5f7c2eb2-5d5e-44a8-bc7b-b1542655ebb0",
   "metadata": {},
   "outputs": [],
   "source": [
    "pretrain_dataset_xc = pretrain_dataset[\n",
    "    pretrain_dataset[\"filename\"].apply(lambda x: \"/\".join(x.split(\"/\")[:-2])) == \"/home/vova/data/exps/BirdCLEF_2023/xeno_canto/dataset/audio\"\n",
    "]"
   ]
  },
  {
   "cell_type": "code",
   "execution_count": null,
   "id": "e339654b-577e-455e-9c79-0d693e85be0e",
   "metadata": {},
   "outputs": [],
   "source": [
    "pretrain_dataset_xc[\"filename\"].apply(lambda x: \"/\".join(x.split(\"/\")[:-2])).value_counts()"
   ]
  },
  {
   "cell_type": "code",
   "execution_count": null,
   "id": "170cdb0a-a6fe-4cdb-bcb2-0cf3e42bc8c5",
   "metadata": {},
   "outputs": [],
   "source": [
    "for fname in tqdm(pretrain_dataset_xc[\"filename\"]):\n",
    "    splitted_fname = fname.split(\"/\")\n",
    "    new_fname = os.path.join(\"/home/vova/src/exps/BirdCLEF_2023_1st_place/data/birdclef_2023_data_part6/xeno_canto/\", splitted_fname[-2], splitted_fname[-1])\n",
    "    if os.path.exists(new_fname):\n",
    "        continue\n",
    "    if not os.path.exists(os.path.dirname(new_fname)):\n",
    "        os.makedirs(os.path.dirname(new_fname))\n",
    "    copyfile(\n",
    "        fname,\n",
    "        new_fname\n",
    "    )"
   ]
  },
  {
   "cell_type": "code",
   "execution_count": null,
   "id": "4f7ec946-b207-4218-9b1c-23972c122eeb",
   "metadata": {},
   "outputs": [],
   "source": [
    "pretrain_dataset[\"temp\"] = pretrain_dataset[\"filename_h5py\"].apply(lambda x: \"/\".join(x.split(\"/\")[:-2]))"
   ]
  },
  {
   "cell_type": "code",
   "execution_count": null,
   "id": "44ebce04-a8db-4e9b-bdd9-6e643260846e",
   "metadata": {},
   "outputs": [],
   "source": [
    "pretrain_dataset_2022 = pretrain_dataset[\n",
    "    pretrain_dataset[\"filename\"].apply(lambda x: \"/\".join(x.split(\"/\")[:-2])) == \"/home/vova/data/exps/BirdCLEF_2023/birdclef_2022/train_audio\"\n",
    "]"
   ]
  },
  {
   "cell_type": "code",
   "execution_count": null,
   "id": "5f607675-4343-42a7-b83a-759e6483dac7",
   "metadata": {},
   "outputs": [],
   "source": [
    "pretrain_dataset[\"temp\"].value_counts()"
   ]
  },
  {
   "cell_type": "code",
   "execution_count": null,
   "id": "bbce8c9e-b722-406c-9f2a-44e8bd464219",
   "metadata": {},
   "outputs": [],
   "source": [
    "for fname in tqdm(pretrain_dataset_2022[\"filename\"]):\n",
    "    splitted_fname = fname.split(\"/\")\n",
    "    new_fname = os.path.join(\"/home/vova/src/exps/BirdCLEF_2023_1st_place/data/birdclef_2023_data_part8/birdclef_2022\", splitted_fname[-2], splitted_fname[-1])\n",
    "    if os.path.exists(new_fname):\n",
    "        continue\n",
    "    if not os.path.exists(os.path.dirname(new_fname)):\n",
    "        os.makedirs(os.path.dirname(new_fname))\n",
    "    copyfile(\n",
    "        fname,\n",
    "        new_fname\n",
    "    )"
   ]
  },
  {
   "cell_type": "code",
   "execution_count": null,
   "id": "27372fde-800d-4fed-b58c-28e18c3706f1",
   "metadata": {},
   "outputs": [],
   "source": [
    "# /home/vova/data/exps/BirdCLEF_2023/birdclef_2020/audio_features\n",
    "pretrain_dataset.loc[\n",
    "    pretrain_dataset[\"temp\"] == \"/home/vova/data/exps/BirdCLEF_2023/birdclef_2020/audio_features\",\n",
    "    \"filename_h5py\"\n",
    "] = pretrain_dataset.loc[\n",
    "    pretrain_dataset[\"temp\"] == \"/home/vova/data/exps/BirdCLEF_2023/birdclef_2020/audio_features\",\n",
    "    \"filename_h5py\"\n",
    "].apply(lambda x: x.replace(\"/home/vova/data/exps/BirdCLEF_2023/birdclef_2020/audio_features\", \"data/birdclef_2020_features\"))\n",
    "# /home/vova/data/exps/BirdCLEF_2023/birdclef_2020_xc_a_m/audio_features\n",
    "pretrain_dataset.loc[\n",
    "    pretrain_dataset[\"temp\"] == \"/home/vova/data/exps/BirdCLEF_2023/birdclef_2020_xc_a_m/audio_features\",\n",
    "    \"filename_h5py\"\n",
    "] = pretrain_dataset.loc[\n",
    "    pretrain_dataset[\"temp\"] == \"/home/vova/data/exps/BirdCLEF_2023/birdclef_2020_xc_a_m/audio_features\",\n",
    "    \"filename_h5py\"\n",
    "].apply(lambda x: x.replace(\"/home/vova/data/exps/BirdCLEF_2023/birdclef_2020_xc_a_m/audio_features\", \"data/birdclef_2020_xc_a_m_features\"))\n",
    "# /home/vova/data/exps/BirdCLEF_2023/birdclef_2020_xc_n_z/audio_features\n",
    "pretrain_dataset.loc[\n",
    "    pretrain_dataset[\"temp\"] == \"/home/vova/data/exps/BirdCLEF_2023/birdclef_2020_xc_n_z/audio_features\",\n",
    "    \"filename_h5py\"\n",
    "] = pretrain_dataset.loc[\n",
    "    pretrain_dataset[\"temp\"] == \"/home/vova/data/exps/BirdCLEF_2023/birdclef_2020_xc_n_z/audio_features\",\n",
    "    \"filename_h5py\"\n",
    "].apply(lambda x: x.replace(\"/home/vova/data/exps/BirdCLEF_2023/birdclef_2020_xc_n_z/audio_features\", \"data/birdclef_2020_xc_n_z_features\"))\n",
    "# /home/vova/data/exps/BirdCLEF_2023/birdclef_2021/audio_features\n",
    "pretrain_dataset.loc[\n",
    "    pretrain_dataset[\"temp\"] == \"/home/vova/data/exps/BirdCLEF_2023/birdclef_2021/audio_features\",\n",
    "    \"filename_h5py\"\n",
    "] = pretrain_dataset.loc[\n",
    "    pretrain_dataset[\"temp\"] == \"/home/vova/data/exps/BirdCLEF_2023/birdclef_2021/audio_features\",\n",
    "    \"filename_h5py\"\n",
    "].apply(lambda x: x.replace(\"/home/vova/data/exps/BirdCLEF_2023/birdclef_2021/audio_features\", \"data/birdclef_2021_features\"))\n",
    "# /home/vova/data/exps/BirdCLEF_2023/birdclef_2022/train_audio\n",
    "pretrain_dataset.loc[\n",
    "    pretrain_dataset[\"temp\"] == \"/home/vova/data/exps/BirdCLEF_2023/birdclef_2022/audio_features\",\n",
    "    \"filename_h5py\"\n",
    "] = pretrain_dataset.loc[\n",
    "    pretrain_dataset[\"temp\"] == \"/home/vova/data/exps/BirdCLEF_2023/birdclef_2022/audio_features\",\n",
    "    \"filename_h5py\"\n",
    "].apply(lambda x: x.replace(\"/home/vova/data/exps/BirdCLEF_2023/birdclef_2022/audio_features\", \"data/birdclef_2022_features\"))\n",
    "# /home/vova/data/exps/BirdCLEF_2023/xeno_canto/audio_features\n",
    "pretrain_dataset.loc[\n",
    "    pretrain_dataset[\"temp\"] == \"/home/vova/data/exps/BirdCLEF_2023/xeno_canto/audio_features\",\n",
    "    \"filename_h5py\"\n",
    "] = pretrain_dataset.loc[\n",
    "    pretrain_dataset[\"temp\"] == \"/home/vova/data/exps/BirdCLEF_2023/xeno_canto/audio_features\",\n",
    "    \"filename_h5py\"\n",
    "].apply(lambda x: x.replace(\"/home/vova/data/exps/BirdCLEF_2023/xeno_canto/audio_features\", \"data/xeno_canto_features\"))"
   ]
  },
  {
   "cell_type": "code",
   "execution_count": null,
   "id": "b3cbe4ec-a407-4c3c-af17-44680c29651c",
   "metadata": {},
   "outputs": [],
   "source": [
    "pretrain_dataset.loc[\n",
    "    pretrain_dataset[\"filename_h5py\"].apply(lambda x: os.path.exists(os.path.join(\"/home/vova/src/exps/BirdCLEF_2023_1st_place\", x))), \n",
    "    \"temp\"\n",
    "].value_counts()"
   ]
  },
  {
   "cell_type": "code",
   "execution_count": null,
   "id": "b96be60d-cf6c-467c-a631-b692cb83dee9",
   "metadata": {},
   "outputs": [],
   "source": [
    "pretrain_dataset.loc[\n",
    "    ~pretrain_dataset[\"filename_h5py\"].apply(lambda x: os.path.exists(os.path.join(\"/home/vova/src/exps/BirdCLEF_2023_1st_place\", x))), \n",
    "    \"temp\"\n",
    "].value_counts()"
   ]
  },
  {
   "cell_type": "code",
   "execution_count": null,
   "id": "976e3c9f-0a0e-4624-a5c1-998dc891b3d7",
   "metadata": {},
   "outputs": [],
   "source": [
    "pretrain_dataset = pretrain_dataset.drop(columns=[\"temp\"])\n",
    "pretrain_dataset[\"filename\"] = pretrain_dataset[\"filename\"].apply(modify_name)"
   ]
  },
  {
   "cell_type": "code",
   "execution_count": null,
   "id": "b5f4d19e-07d8-415e-9a35-ed42384a764f",
   "metadata": {},
   "outputs": [],
   "source": [
    "pretrain_dataset.to_csv(\n",
    "    \"/home/vova/src/exps/BirdCLEF_2023_1st_place/data/train_metadata_extended_shorten_and_2023x_v3.csv\",\n",
    "    index=False\n",
    ")"
   ]
  },
  {
   "cell_type": "code",
   "execution_count": null,
   "id": "f7d171ea-50b7-4a16-b851-276a36ddc219",
   "metadata": {},
   "outputs": [],
   "source": [
    "background_noise_esc50"
   ]
  },
  {
   "cell_type": "code",
   "execution_count": null,
   "id": "3af1a27f-e349-4814-8b04-cd3f39523dce",
   "metadata": {},
   "outputs": [],
   "source": [
    "v1_no_call_meta = pd.read_csv(\"/home/vova/src/exps/BirdCLEF_2023_1st_place/data/v1_no_call_meta.csv\")"
   ]
  },
  {
   "cell_type": "code",
   "execution_count": null,
   "id": "9dfafaf9-6bb0-4310-baa6-d3ecd3e36d7b",
   "metadata": {},
   "outputs": [],
   "source": [
    "v1_no_call_meta[\n",
    "    ~v1_no_call_meta[\"filename\"].apply(lambda x: os.path.exists(os.path.join(\"/home/vova/src/exps/BirdCLEF_2023_1st_place/data/soundscapes_nocall/train_audio/\", x)))\n",
    "]"
   ]
  },
  {
   "cell_type": "code",
   "execution_count": null,
   "id": "821c9d52-dc04-4b66-94ae-aaa5c457b9a7",
   "metadata": {},
   "outputs": [],
   "source": []
  }
 ],
 "metadata": {
  "kernelspec": {
   "display_name": "Python 3 (ipykernel)",
   "language": "python",
   "name": "python3"
  },
  "language_info": {
   "codemirror_mode": {
    "name": "ipython",
    "version": 3
   },
   "file_extension": ".py",
   "mimetype": "text/x-python",
   "name": "python",
   "nbconvert_exporter": "python",
   "pygments_lexer": "ipython3",
   "version": "3.11.6"
  }
 },
 "nbformat": 4,
 "nbformat_minor": 5
}
