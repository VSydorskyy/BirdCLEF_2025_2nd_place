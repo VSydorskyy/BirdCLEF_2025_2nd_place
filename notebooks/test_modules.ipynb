{
 "cells": [
  {
   "cell_type": "code",
   "execution_count": 1,
   "id": "846b067d-679f-4a67-ae3c-672614a3b511",
   "metadata": {},
   "outputs": [
    {
     "name": "stderr",
     "output_type": "stream",
     "text": [
      "/backup/vova/src/exps/bird_clef_2024/.venv/lib/python3.11/site-packages/tqdm/auto.py:21: TqdmWarning: IProgress not found. Please update jupyter and ipywidgets. See https://ipywidgets.readthedocs.io/en/stable/user_install.html\n",
      "  from .autonotebook import tqdm as notebook_tqdm\n",
      "/backup/vova/src/exps/bird_clef_2024/.venv/lib/python3.11/site-packages/nnAudio/Spectrogram.py:4: Warning: importing Spectrogram subpackage will be deprecated soon. You should import the feature extractor from the feature subpackage. See actual documentation.\n",
      "  warnings.warn(\n"
     ]
    },
    {
     "name": "stdout",
     "output_type": "stream",
     "text": [
      "`speechbrain` was not imported\n",
      "`LEAF` was not imported\n"
     ]
    }
   ],
   "source": [
    "%load_ext autoreload\n",
    "%autoreload 2\n",
    "\n",
    "import os\n",
    "os.environ[\"CUDA_VISIBLE_DEVICES\"]=\"2\"\n",
    "\n",
    "import pandas as pd\n",
    "import numpy as np\n",
    "import librosa\n",
    "import seaborn as sns\n",
    "import os\n",
    "import json\n",
    "import IPython.display as ipd\n",
    "import soundfile as sf\n",
    "import torch\n",
    "import collections\n",
    "import h5py\n",
    "import timm\n",
    "import torch.nn as nn\n",
    "import onnxruntime as ort\n",
    "import torchaudio\n",
    "\n",
    "from glob import glob\n",
    "from tqdm import tqdm\n",
    "from matplotlib import pyplot as plt\n",
    "from itertools import chain\n",
    "from os.path import join as pjoin\n",
    "from torchaudio.transforms import AmplitudeToDB, MelSpectrogram\n",
    "from copy import deepcopy\n",
    "from typing import Callable\n",
    "from nnAudio.Spectrogram import CQT1992v2\n",
    "# import leaf_audio_pytorch.frontend as frontend\n",
    "from torchaudio.transforms import TimeMasking, FrequencyMasking\n",
    "from shutil import copyfile\n",
    "from torchaudio.transforms import Resample\n",
    "\n",
    "# from code_base.utils import parallel_librosa_load, groupby_np_array, stack_and_max_by_samples, load_pp_audio\n",
    "# from code_base.utils.constants import SAMPLE_RATE, N_CLASSES_2021_2022\n",
    "from code_base.utils.onnx_utils import convert_to_onnx\n",
    "from code_base.models import WaveCNNClasifier, WaveCNNAttenClasifier, WaveTDNNClasifier, RandomFiltering\n",
    "from code_base.models.blocks import TraceableMelspec, NormalizeMelSpec, GeMFreqFixed\n",
    "# from code_base.models.wave_clasifier import WaveCNNAttenClasifier\n",
    "from code_base.datasets import WaveDataset, WaveAllFileDataset\n",
    "from code_base.utils import load_json, write_json\n",
    "from code_base.utils.audio_utils import get_librosa_load\n",
    "# from code_base.augmentations.background_noise import AddBackgoundFromSoundScapes\n",
    "# from code_base.augmentations.transforms import BackgroundNoise, Compose, GaussianNoise, PinkNoise, OneOf\n",
    "# from code_base.forwards import MultilabelClsForwardLongShort\n",
    "# from code_base.utils.onnx_utils import ONNXEnsemble, convert_to_onnx\n",
    "from code_base.augmentations.transforms import (\n",
    "    BackgroundNoise,\n",
    "    Compose,\n",
    "    GaussianNoise,\n",
    "    OneOf,\n",
    "    PinkNoise,\n",
    ")\n",
    "%matplotlib inline\n"
   ]
  },
  {
   "cell_type": "code",
   "execution_count": null,
   "id": "000888c8-8adc-4b88-a9bc-77a4bbb088ad",
   "metadata": {},
   "outputs": [],
   "source": [
    "!nvidia-smi"
   ]
  },
  {
   "cell_type": "code",
   "execution_count": null,
   "id": "285f4630-0490-47cb-b7ce-5704663d75b8",
   "metadata": {},
   "outputs": [],
   "source": [
    "# for logdir in os.listdir(\"../logdirs/\"):\n",
    "#     full_logdir_path = os.path.join(\n",
    "#         \"../logdirs\",\n",
    "#         logdir,\n",
    "#         \"code\",\n",
    "#         \"train_configs___*\"\n",
    "#     )\n",
    "#     all_current_train_configs = glob(full_logdir_path)\n",
    "#     if len(all_current_train_configs) == 1:\n",
    "#         copyfile(\n",
    "#             all_current_train_configs[0],\n",
    "#             os.path.join(\"../logdirs/\", logdir + \".py\")\n",
    "#         )\n",
    "#     # else:\n",
    "#     #     print(logdir)"
   ]
  },
  {
   "cell_type": "code",
   "execution_count": null,
   "id": "ab457fb2-1e3f-4544-bbe3-dd11b34afa2f",
   "metadata": {},
   "outputs": [],
   "source": [
    "# for el in glob(\"../logdirs/*\"):\n",
    "#     if os.path.isdir(el):\n",
    "#         !rm {el} -r"
   ]
  },
  {
   "cell_type": "markdown",
   "id": "c4f88409-2499-46a3-a32b-22c6d45ca2ad",
   "metadata": {},
   "source": [
    "# Data"
   ]
  },
  {
   "cell_type": "code",
   "execution_count": null,
   "id": "4ddb8e9a-54cf-4d31-9628-1347207c293b",
   "metadata": {},
   "outputs": [],
   "source": [
    "def sample_uniformly_np_index(merged_intervals):\n",
    "    # Calculate the total span of all intervals in terms of seconds\n",
    "    total_seconds = sum(interval[1] - interval[0] for interval in merged_intervals)\n",
    "\n",
    "    # Generate a random position within the total span as a float\n",
    "    random_position = np.random.uniform(0, total_seconds)\n",
    "    \n",
    "    # Map the random position to an actual interval\n",
    "    current_position = 0\n",
    "    for index, (start, end, labels) in enumerate(merged_intervals):\n",
    "        interval_length = end - start\n",
    "        if current_position + interval_length > random_position:\n",
    "            # Calculate the actual second within the interval as a float\n",
    "            sampled_second = start + (random_position - current_position)\n",
    "            return sampled_second, index\n",
    "        current_position += interval_length\n",
    "\n",
    "    raise RuntimeError(\"sample_uniformly_np_index was not able to pick chunk\")"
   ]
  },
  {
   "cell_type": "code",
   "execution_count": 2,
   "id": "6c5eb2de-f276-48be-bf11-16f58a62cde5",
   "metadata": {},
   "outputs": [],
   "source": [
    "df = pd.read_csv(\"/home/vova/data/exps/birdclef_2024/birdclef_2024/train_metadata_extended_noduplv1.csv\")\n",
    "# df = pd.read_csv(\n",
    "#     \"/home/vova/data/exps/birdclef_2024/birdclef_2024/train_metadata_extended_noduplv1_GBirdV1.csv\",\n",
    "#     # converters={\"label_second\": eval}\n",
    "# )\n",
    "taxonomy = pd.read_csv(\"/home/vova/data/exps/birdclef_2024/birdclef_2024/eBird_Taxonomy_v2021.csv\")\n",
    "previous_soundscapes = pd.read_csv(\n",
    "    \"/home/vova/data/exps/birdclef_2024/my_2023_data/soundscapes_nocall/v1_no_call_meta_fixed.csv\"\n",
    ")\n",
    "# df = pd.read_csv(\"/home/vova/data/exps/BirdCLEF_2023/xeno_canto/train_metadata_extended_shorten_and_2023x_v1.csv\")\n",
    "# df.head()"
   ]
  },
  {
   "cell_type": "code",
   "execution_count": null,
   "id": "cffee80a-3bba-4a57-92be-9d6f1a158210",
   "metadata": {},
   "outputs": [],
   "source": [
    "df[df[\"label_second\"].apply(lambda x: len(set(chain(*[el[-1] for el in x])))) > 1]"
   ]
  },
  {
   "cell_type": "code",
   "execution_count": null,
   "id": "f9b896d9-3563-41f9-89b5-f1080686d254",
   "metadata": {},
   "outputs": [],
   "source": [
    "df[\"label_second\"].iloc[13]"
   ]
  },
  {
   "cell_type": "code",
   "execution_count": null,
   "id": "0eaaa728-6352-4100-9afb-7fef6cac7e61",
   "metadata": {},
   "outputs": [],
   "source": [
    "sample_uniformly_np_index(df[\"label_second\"].iloc[13])"
   ]
  },
  {
   "cell_type": "code",
   "execution_count": null,
   "id": "b34ae89a-45f5-4cec-969f-5f10f7a5c3b6",
   "metadata": {},
   "outputs": [],
   "source": [
    "seconds = [sample_uniformly_np_float(df[\"label_second\"].iloc[13])[0] for _ in range(100000)]"
   ]
  },
  {
   "cell_type": "code",
   "execution_count": null,
   "id": "63e431f0-af4d-42c7-ad16-0a9d444fee77",
   "metadata": {},
   "outputs": [],
   "source": [
    "plt.hist(seconds, bins=100);"
   ]
  },
  {
   "cell_type": "code",
   "execution_count": null,
   "id": "9bfd1770-0641-4142-a71b-6eeeb103f03b",
   "metadata": {},
   "outputs": [],
   "source": [
    "# previous_soundscapes[\"filename\"] = previous_soundscapes[\"filename\"].apply(lambda x: os.path.join(\n",
    "#     \"/home/vova/data/exps/birdclef_2024/my_2023_data/soundscapes_nocall/train_audio\", x\n",
    "# ))\n",
    "\n",
    "# def check_is_capable_to_load(path):\n",
    "#     try:\n",
    "#         librosa.load(path, sr=32000)\n",
    "#         return True\n",
    "#     except:\n",
    "#         return False\n",
    "\n",
    "# previous_soundscapes[\"is_corrupted\"] = previous_soundscapes[\"filename\"].apply(check_is_capable_to_load)\n",
    "\n",
    "# or_previous_soundscapes = pd.read_csv(\n",
    "#     \"/home/vova/data/exps/birdclef_2024/my_2023_data/soundscapes_nocall/v1_no_call_meta.csv\"\n",
    "# )\n",
    "# or_previous_soundscapes[previous_soundscapes[\"is_corrupted\"]].reset_index(drop=True).to_csv(\n",
    "#     \"/home/vova/data/exps/birdclef_2024/my_2023_data/soundscapes_nocall/v1_no_call_meta_fixed.csv\",\n",
    "#     index=False\n",
    "# )"
   ]
  },
  {
   "cell_type": "code",
   "execution_count": null,
   "id": "ea2de843-ffbd-4b73-94bc-2c95c55c606c",
   "metadata": {},
   "outputs": [],
   "source": [
    "# previous_soundscapes[\"primary_label\"] = \"nocall\"\n",
    "# previous_soundscapes.to_csv(\n",
    "#     \"/home/vova/data/exps/birdclef_2024/my_2023_data/soundscapes_nocall/v1_no_call_meta.csv\", index=False\n",
    "# )"
   ]
  },
  {
   "cell_type": "code",
   "execution_count": null,
   "id": "c1730745-0b95-4a07-8a07-c8129bcedb29",
   "metadata": {},
   "outputs": [],
   "source": [
    "df"
   ]
  },
  {
   "cell_type": "code",
   "execution_count": null,
   "id": "40b68fdb-cfce-4ff9-b87c-49d2aa0fc7ff",
   "metadata": {},
   "outputs": [],
   "source": [
    "df.shape[0] / 64"
   ]
  },
  {
   "cell_type": "code",
   "execution_count": null,
   "id": "66d245d6-b0d0-4d42-80d9-c8ab0d10994a",
   "metadata": {},
   "outputs": [],
   "source": [
    "df[\"secondary_labels\"].apply(eval).apply(len).value_counts()"
   ]
  },
  {
   "cell_type": "code",
   "execution_count": null,
   "id": "fad1dcf3-b836-4d0d-95a5-fbdf1a166839",
   "metadata": {},
   "outputs": [],
   "source": [
    "df"
   ]
  },
  {
   "cell_type": "code",
   "execution_count": null,
   "id": "0a6aafc1-8e82-4dec-8751-82c1823296d8",
   "metadata": {},
   "outputs": [],
   "source": [
    "df = df.sample(frac=1).reset_index(drop=True).iloc[:100]\n"
   ]
  },
  {
   "cell_type": "code",
   "execution_count": null,
   "id": "4494baca-c225-4810-8b99-65161b14d899",
   "metadata": {},
   "outputs": [],
   "source": [
    "df[\"primary_label\"].value_counts()"
   ]
  },
  {
   "cell_type": "code",
   "execution_count": null,
   "id": "f62952f5-f298-4eea-9755-d8a3f0a79a4f",
   "metadata": {},
   "outputs": [],
   "source": [
    "df[\"duration_s\"].iloc[:10].max()"
   ]
  },
  {
   "cell_type": "code",
   "execution_count": null,
   "id": "db09a1b5-52a9-4ec3-a663-91b581b9cd4b",
   "metadata": {},
   "outputs": [],
   "source": [
    "ab = 0.75\n",
    "plt.hist(np.clip(np.random.beta(ab, ab, size=1000), 0.2, 0.8))"
   ]
  },
  {
   "cell_type": "code",
   "execution_count": 6,
   "id": "3a2de4cd-0e7d-4f08-9147-ef774b03226f",
   "metadata": {},
   "outputs": [
    {
     "name": "stdout",
     "output_type": "stream",
     "text": [
      "STFT kernels created, time used = 0.2964 seconds\n"
     ]
    }
   ],
   "source": [
    "mel_spec_paramms={\n",
    "    \"sample_rate\": 32000,\n",
    "    \"n_mels\": 128,\n",
    "    \"f_min\": 20,\n",
    "    \"n_fft\": 2048,\n",
    "    \"hop_length\": 512,\n",
    "    \"normalized\": True,\n",
    "}\n",
    "mel_spec = nn.Sequential(\n",
    "    TraceableMelspec(**mel_spec_paramms, quantizable=False),\n",
    "    AmplitudeToDB(top_db=80.0),\n",
    "    NormalizeMelSpec(exportable=True),\n",
    ")"
   ]
  },
  {
   "cell_type": "code",
   "execution_count": null,
   "id": "868db8cf-e044-4916-9bcc-83b5d36bdf00",
   "metadata": {},
   "outputs": [],
   "source": [
    "# background_module = BackgroundNoise(**{\n",
    "#     \"esc50_root\": \"/home/vova/data/exps/birdclef_2024/my_2023_data/soundscapes_nocall/train_audio\",\n",
    "#     \"esc50_df_path\": \"/home/vova/data/exps/birdclef_2024/my_2023_data/soundscapes_nocall/v1_no_call_meta_fixed.csv\",\n",
    "#     \"normalize\": False,\n",
    "#     \"precompute\": False,\n",
    "#     \"load_normalize\": False,\n",
    "# })"
   ]
  },
  {
   "cell_type": "code",
   "execution_count": null,
   "id": "88a924aa-4154-4fbc-ae65-16ff0c0a5fcb",
   "metadata": {},
   "outputs": [],
   "source": [
    "# np.abs(background_module.sample(32000*5)).max()"
   ]
  },
  {
   "cell_type": "code",
   "execution_count": null,
   "id": "9025fca5-3324-45ac-880a-701dc9070ccf",
   "metadata": {},
   "outputs": [],
   "source": [
    "# np.abs(background_module._pick_random_valid_sample()).max()"
   ]
  },
  {
   "cell_type": "code",
   "execution_count": 3,
   "id": "1a5e55b4-31e2-48e1-9a40-2f6ad10d66ad",
   "metadata": {},
   "outputs": [],
   "source": [
    "train_dataset = WaveDataset(\n",
    "    df=df,\n",
    "    root=\"/home/vova/data/exps/birdclef_2024/birdclef_2024/train_features/\",\n",
    "    label_str2int_mapping_path=\"/home/vova/data/exps/birdclef_2024/class_mappings/bird2int_2024.json\",\n",
    "    precompute=False,\n",
    "    n_cores=4,\n",
    "    debug=False,\n",
    "    # do_mixup=True,\n",
    "    # mixup_params={\n",
    "    #     \"prob\": 1.0, \n",
    "    #     \"alpha\": 1.0, \n",
    "    #     # \"n_samples\": 4,\n",
    "    #     # \"weights_path\": \"/home/vova/data/exps/birdclef_2024/sample_weights/sw_2024_add_data_v1.json\"\n",
    "    # },\n",
    "    segment_len=5,\n",
    "    late_normalize=True,\n",
    "    sampler_col=\"stratify_col\",\n",
    "    # timewise_col=\"label_second\",\n",
    "    use_h5py=True,\n",
    "    # shuffle=True,\n",
    "    add_df_paths=[\n",
    "        \"/home/vova/data/exps/birdclef_2024/dfs/full_noduplsV3_scored_meta_prev_comps_extended_2024SecLabels.csv\",\n",
    "        \"/home/vova/data/exps/birdclef_2024/xeno_canto/dataset_2024_classes/train_metadata_noduplV3_extended_2024SecLabels.csv\"\n",
    "    ],\n",
    "    filename_change_mapping={\n",
    "        # \"base\": \"birdclef_2024/train_audio/\",\n",
    "        # \"comp_2021\":\"birdclef_2021/train_short_audio/\",\n",
    "        # \"comp_2023\":\"birdclef_2023/train_audio/\",\n",
    "        # \"comp_2022\":\"birdclef_2022/train_audio/\",\n",
    "        # \"comp_2020\":\"birdsong_recognition/train_audio/\",\n",
    "        # \"a_m_2020\": \"xeno_canto_bird_recordings_extended_a_m/A-M/\",\n",
    "        # \"n_z_2020\": \"xeno_canto_bird_recordings_extended_n_z/N-Z/\",\n",
    "        # \"xc_2024_classes\": \"xeno_canto/dataset_2024_classes/audio/\",\n",
    "        # \"soundscape\": \"birdclef_2024/unlabeled_soundscapes_features/\",\n",
    "        \"base\": \"birdclef_2024/train_features/\",\n",
    "        \"comp_2021\":\"birdclef_2021/train_features/\",\n",
    "        \"comp_2023\":\"birdclef_2023/train_features/\",\n",
    "        \"comp_2022\":\"birdclef_2022/train_features/\",\n",
    "        \"comp_2020\":\"birdsong_recognition/train_features/\",\n",
    "        \"a_m_2020\": \"xeno_canto_bird_recordings_extended_a_m/train_features/\",\n",
    "        \"n_z_2020\": \"xeno_canto_bird_recordings_extended_n_z/train_features/\",\n",
    "        \"xc_2024_classes\": \"xeno_canto/dataset_2024_classes/train_features/\"\n",
    "    },\n",
    "    late_aug = Compose([\n",
    "        BackgroundNoise(\n",
    "            p=0.75,\n",
    "            esc50_root=\"/home/vova/data/exps/birdclef_2024/my_2023_data/soundscapes_nocall/train_audio\",\n",
    "            esc50_df_path=\"/home/vova/data/exps/birdclef_2024/my_2023_data/soundscapes_nocall/v1_no_call_meta_fixed.csv\",\n",
    "            precompute=False,\n",
    "            normalize=True,\n",
    "            normalize_chunks=True,\n",
    "            load_normalize=True,\n",
    "            min_level=0.5,\n",
    "            max_level=0.99,\n",
    "            verbose=True\n",
    "        ),\n",
    "        PinkNoise(\n",
    "            p=1.0,\n",
    "            min_snr=0.5,\n",
    "            max_snr=2.0,\n",
    "            verbose=True\n",
    "        ),\n",
    "    ]),\n",
    "    # BackgroundNoise(\n",
    "    #     p=1.0,\n",
    "    #     esc50_root=\"/home/vova/data/exps/birdclef_2024/my_2023_data/soundscapes_nocall/train_audio\",\n",
    "    #     esc50_df_path=\"/home/vova/data/exps/birdclef_2024/my_2023_data/soundscapes_nocall/v1_no_call_meta_fixed.csv\",\n",
    "    #     precompute=False,\n",
    "    #     normalize=True,\n",
    "    #     normalize_chunks=True,\n",
    "    #     load_normalize=True,\n",
    "    #     min_level=0.5,\n",
    "    #     max_level=0.99,\n",
    "    #     verbose=True\n",
    "    # ),\n",
    "    # empty_soundscape_config={\n",
    "    #     \"prob\": 0.35,\n",
    "    #     \"sampler_config\": {\n",
    "    #         \"esc50_root\": \"/home/vova/data/exps/birdclef_2024/my_2023_data/soundscapes_nocall/train_audio\",\n",
    "    #         \"esc50_df_path\": \"/home/vova/data/exps/birdclef_2024/my_2023_data/soundscapes_nocall/v1_no_call_meta_fixed.csv\",\n",
    "    #         \"normalize\": False,\n",
    "    #         \"precompute\": False,\n",
    "    #         \"load_normalize\": False,\n",
    "    #     }\n",
    "    # },\n",
    "    # soundscape_pseudo_df_path=\"../pseudo/v1/positive_filtered_07_stratifyV2.csv\",\n",
    "    use_sampler=True,\n",
    "    # start_from_zero=True,\n",
    "    # sec_target_col=None\n",
    "    # empty_soundscape_config={\n",
    "    #     \"prob\": 0.5,\n",
    "    #     \"sampler_config\": {\n",
    "    #         \"esc50_root\": \"/home/vova/data/exps/birdclef_2024/my_2023_data/soundscapes_nocall/train_audio\",\n",
    "    #         \"esc50_df_path\": \"/home/vova/data/exps/birdclef_2024/my_2023_data/soundscapes_nocall/v1_no_call_meta.csv\",\n",
    "    #         \"normalize\": False,\n",
    "    #         \"debug\": True\n",
    "    #     }\n",
    "    # }\n",
    ")\n",
    "\n",
    "# train_dataset_ss = WaveDataset(\n",
    "#     df=previous_soundscapes,\n",
    "#     root=\"/home/vova/data/exps/birdclef_2024/my_2023_data/soundscapes_nocall/train_audio\",\n",
    "#     label_str2int_mapping_path=\"/home/vova/data/exps/birdclef_2024/class_mappings/bird2int_2024.json\",\n",
    "#     precompute=False,\n",
    "#     n_cores=4,\n",
    "#     debug=False,\n",
    "#     do_mixup=True,\n",
    "#     mixup_params={\"prob\": 0.5, \"alpha\": None},\n",
    "#     segment_len=5,\n",
    "#     late_normalize=True,\n",
    "#     sampler_col=\"primary_label\",\n",
    "#     sec_target_col=None,\n",
    "#     use_h5py=False,\n",
    "#     use_sampler=True\n",
    "# )\n",
    "\n",
    "# train_dataset_full = WaveAllFileDataset(\n",
    "#     df=df,\n",
    "#     # root=\"/home/vova/data/exps/birdclef_2024/birdclef_2024/train_features/\",\n",
    "#     root=\"/home/vova/data/exps/birdclef_2024/birdclef_2024/train_audio\",\n",
    "#     label_str2int_mapping_path=\"/home/vova/data/exps/birdclef_2024/class_mappings/bird2int_2024.json\",\n",
    "#     precompute=False,\n",
    "#     n_cores=4,\n",
    "#     debug=False,\n",
    "#     segment_len=5,\n",
    "#     sample_id=None,\n",
    "#     late_normalize=False,\n",
    "#     use_h5py=False,\n",
    "#     load_normalize=False,\n",
    "\n",
    "#     use_audio_cache=True,\n",
    "#     test_mode=True\n",
    "# )\n",
    "\n",
    "# merged_dataset = torch.utils.data.ConcatDataset([train_dataset, train_dataset_ss])"
   ]
  },
  {
   "cell_type": "code",
   "execution_count": null,
   "id": "f073be8e-a358-4b32-beae-bbc576050eba",
   "metadata": {},
   "outputs": [],
   "source": [
    "train_dataset.df[\"filename_with_root\"].iloc[0]"
   ]
  },
  {
   "cell_type": "code",
   "execution_count": null,
   "id": "19adf69e-e0d6-467b-be18-424a92ff40be",
   "metadata": {},
   "outputs": [],
   "source": [
    "not_base_df = train_dataset.df[train_dataset.df[\"dataset\"] != \"base\"].reset_index(drop=True)"
   ]
  },
  {
   "cell_type": "code",
   "execution_count": null,
   "id": "592238b8-45a5-4ee2-b095-b17aa6a96f74",
   "metadata": {},
   "outputs": [],
   "source": [
    "for fname in tqdm(not_base_df[\"filename_with_root\"].to_list()):\n",
    "    try:\n",
    "        copyfile(\n",
    "            fname, \n",
    "            os.path.join(\"/home/vova/data/exps/birdclef_2024/kaggle_datasets/bird_clef_2024_add_data/scored_add_data\", os.path.basename(fname))\n",
    "        )\n",
    "    except Exception as e:\n",
    "        fname = fname.replace(\".ogg\", \".mp3\")\n",
    "        copyfile(\n",
    "            fname, \n",
    "            os.path.join(\"/home/vova/data/exps/birdclef_2024/kaggle_datasets/bird_clef_2024_add_data/scored_add_data\", os.path.basename(fname))\n",
    "        )"
   ]
  },
  {
   "cell_type": "code",
   "execution_count": 5,
   "id": "a7918a02-c787-4c51-b28a-d725b028337b",
   "metadata": {},
   "outputs": [],
   "source": [
    "id2bird = {v:k for k,v in train_dataset.label_str2int.items()}"
   ]
  },
  {
   "cell_type": "code",
   "execution_count": null,
   "id": "d98a6175-d275-4874-a1d7-26ce5cf933c3",
   "metadata": {},
   "outputs": [],
   "source": [
    "train_dataset.df[train_dataset.df.duration_s <= 5]"
   ]
  },
  {
   "cell_type": "code",
   "execution_count": null,
   "id": "6ae7f9e3-5d0c-46f1-af92-7072dd071980",
   "metadata": {},
   "outputs": [],
   "source": [
    "train_dataset.df.duration_s.median()"
   ]
  },
  {
   "cell_type": "code",
   "execution_count": null,
   "id": "ac9e007b-3e07-499f-bb4c-92da818d4413",
   "metadata": {},
   "outputs": [],
   "source": [
    "np.quantile(train_dataset.df.duration_s, 0.85)"
   ]
  },
  {
   "cell_type": "code",
   "execution_count": null,
   "id": "cf316409-0ad8-4e2d-8f7c-404221bcd3ce",
   "metadata": {},
   "outputs": [],
   "source": [
    "train_dataset.df.duration_s.hist(bins=30)"
   ]
  },
  {
   "cell_type": "code",
   "execution_count": null,
   "id": "18e056d4-97e2-4c4b-8b7f-f6b0f8c204f9",
   "metadata": {},
   "outputs": [],
   "source": [
    "train_dataset.df[train_dataset.df[\"dataset\"] == \"soundscape\"]"
   ]
  },
  {
   "cell_type": "code",
   "execution_count": null,
   "id": "9d61264b-c10b-4207-8a26-60c4c80a5cca",
   "metadata": {},
   "outputs": [],
   "source": [
    "df.shape[0] / len(train_dataset), len(train_dataset)"
   ]
  },
  {
   "cell_type": "code",
   "execution_count": null,
   "id": "a0fbf92e-0f9e-4e1d-b608-89b07449fd39",
   "metadata": {},
   "outputs": [],
   "source": [
    "train_dataset[35530]"
   ]
  },
  {
   "cell_type": "code",
   "execution_count": null,
   "id": "b502bb7f-8440-4269-97ef-45c249ec89d5",
   "metadata": {},
   "outputs": [],
   "source": [
    "len(train_dataset), len(train_dataset_ss), len(merged_dataset)"
   ]
  },
  {
   "cell_type": "code",
   "execution_count": null,
   "id": "ab211ac0-4d49-4bd5-8992-64fbfef3629c",
   "metadata": {},
   "outputs": [],
   "source": [
    "pd.Series(train_dataset.targets).value_counts()"
   ]
  },
  {
   "cell_type": "code",
   "execution_count": null,
   "id": "ac56c009-9404-4f35-8ee6-1ffc7b1f4f0d",
   "metadata": {},
   "outputs": [],
   "source": [
    "all_tgts = pd.Series(train_dataset.targets)\n",
    "sample_weights = (all_tgts.value_counts() / all_tgts.value_counts().sum())  ** (-0.5)\n",
    "write_json(\n",
    "    \"/home/vova/data/exps/birdclef_2024/sample_weights/sw_2024_v1_pseudov1_StratV2.json\",\n",
    "    sample_weights.to_dict()\n",
    ")"
   ]
  },
  {
   "cell_type": "code",
   "execution_count": null,
   "id": "15176218-d065-4276-acb2-0f349fe79145",
   "metadata": {},
   "outputs": [],
   "source": [
    "# all_tgts = pd.Series(list(chain(*[ds.targets for ds in merged_dataset.datasets])))\n",
    "# sample_weights = (all_tgts.value_counts() / all_tgts.value_counts().sum())  ** (-0.5)\n",
    "# write_json(\n",
    "#     \"/home/vova/data/exps/birdclef_2024/sample_weights/sw_2024_add_data_v1_with_nocall.json\",\n",
    "#     sample_weights.to_dict()\n",
    "# )"
   ]
  },
  {
   "cell_type": "code",
   "execution_count": null,
   "id": "a2f44837-6e47-46e4-9eb2-b3c2b55dea18",
   "metadata": {},
   "outputs": [],
   "source": [
    "class_weights = load_json(\"/home/vova/data/exps/birdclef_2024/sample_weights/sw_2024_add_data_v1_with_nocall.json\")\n",
    "sample_weights = np.array([\n",
    "    class_weights[el] for el in list(chain(*[ds.targets for ds in merged_dataset.datasets]))\n",
    "])\n",
    "sampler = torch.utils.data.WeightedRandomSampler(sample_weights, len(sample_weights))"
   ]
  },
  {
   "cell_type": "code",
   "execution_count": null,
   "id": "08860b68-d21f-45df-9f1b-8c78d44b9622",
   "metadata": {},
   "outputs": [],
   "source": [
    "def worker_init_fn(worker_id):\n",
    "    np.random.seed(np.random.get_state()[1][0] + worker_id)\n",
    "\n",
    "loader = torch.utils.data.DataLoader(\n",
    "    merged_dataset,\n",
    "    worker_init_fn=worker_init_fn,\n",
    "    sampler=sampler,\n",
    "    **{\n",
    "        \"batch_size\": 64,\n",
    "        \"shuffle\": False,\n",
    "        \"drop_last\": True,\n",
    "        \"num_workers\": 0,\n",
    "        \"pin_memory\": True,\n",
    "    },\n",
    ")"
   ]
  },
  {
   "cell_type": "code",
   "execution_count": null,
   "id": "e568e053-f0f5-41ae-83fb-845586f9adec",
   "metadata": {},
   "outputs": [],
   "source": [
    "len(loader)"
   ]
  },
  {
   "cell_type": "code",
   "execution_count": null,
   "id": "628e29ac-9d1b-4a29-9ad9-fd540369b8c8",
   "metadata": {},
   "outputs": [],
   "source": [
    "\n",
    "for idx, b in enumerate(loader):\n",
    "    print(f\"Empty Fraction: {(b[1].sum(axis=1) == 0).sum() / b[1].shape[0]}\")\n",
    "    if idx > 10:\n",
    "        break"
   ]
  },
  {
   "cell_type": "code",
   "execution_count": null,
   "id": "f1ea858c-1ec1-4a0f-b9d9-de5a81a8a99f",
   "metadata": {},
   "outputs": [],
   "source": [
    "(batch[1].sum(axis=1) == 0).sum() / batch[1].shape[0]"
   ]
  },
  {
   "cell_type": "code",
   "execution_count": null,
   "id": "13133f74-6abc-488d-b855-bc6643358e99",
   "metadata": {},
   "outputs": [],
   "source": [
    "au, tgt = train_dataset_ss[0]"
   ]
  },
  {
   "cell_type": "code",
   "execution_count": null,
   "id": "85e2b96d-7dd1-448f-be55-f08961edda88",
   "metadata": {},
   "outputs": [],
   "source": [
    "np.abs(au).max(), tgt.sum()"
   ]
  },
  {
   "cell_type": "code",
   "execution_count": null,
   "id": "3002ced9-8be9-4334-9823-0d55d9d4a8d3",
   "metadata": {},
   "outputs": [],
   "source": [
    "train_dataset_full[0][0].min()"
   ]
  },
  {
   "cell_type": "code",
   "execution_count": null,
   "id": "0108a81d-0d53-40dd-a0a8-eea050a44756",
   "metadata": {},
   "outputs": [],
   "source": [
    "train_dataset_full.test_audio_cache[\"au\"].min()"
   ]
  },
  {
   "cell_type": "code",
   "execution_count": null,
   "id": "f4a80cb4-ecff-4671-9b1e-3ac60a62cd7f",
   "metadata": {},
   "outputs": [],
   "source": [
    "sorted(set(train_dataset.df[\"primary_label\"]))"
   ]
  },
  {
   "cell_type": "code",
   "execution_count": null,
   "id": "f809ab6e-f430-4287-9cb4-73cce7b73f3b",
   "metadata": {},
   "outputs": [],
   "source": [
    "train_dataset.df.loc[train_dataset.df[\"dataset\"] == \"xc_2024_classes\", \"primary_label\"].value_counts()"
   ]
  },
  {
   "cell_type": "code",
   "execution_count": null,
   "id": "08f2a4b5-91db-4eff-82db-9625dc22627d",
   "metadata": {},
   "outputs": [],
   "source": [
    "taxonomy"
   ]
  },
  {
   "cell_type": "code",
   "execution_count": null,
   "id": "bebd56b2-8a14-489f-bcae-defe6a8ab2ca",
   "metadata": {},
   "outputs": [],
   "source": [
    "taxonomy[taxonomy[\"PRIMARY_COM_NAME\"].apply(lambda x: x.startswith(\"Intermediate Egret\"))]"
   ]
  },
  {
   "cell_type": "code",
   "execution_count": null,
   "id": "a9bb5923-f52e-42ef-95e3-16033e177bd7",
   "metadata": {},
   "outputs": [],
   "source": [
    "train_dataset.df[(train_dataset.df[\"dataset\"] == \"xc_2024_classes\") & (train_dataset.df[\"primary_label\"] == \"integr\")]"
   ]
  },
  {
   "cell_type": "code",
   "execution_count": null,
   "id": "84e5e2a6-1468-48c9-908b-997353c965ba",
   "metadata": {},
   "outputs": [],
   "source": [
    "# train_dataset.df[train_dataset.df.primary_label == \"brnfio1\"]"
   ]
  },
  {
   "cell_type": "code",
   "execution_count": null,
   "id": "5a8ee827-5773-4e66-a0d9-f87a4e4d12e9",
   "metadata": {},
   "outputs": [],
   "source": [
    "train_dataset.df[(train_dataset.df[\"dataset\"] == \"base\") & (train_dataset.df[\"primary_label\"] == \"integr\")]"
   ]
  },
  {
   "cell_type": "code",
   "execution_count": null,
   "id": "a1f09ce3-97df-4410-953f-07c0124970d8",
   "metadata": {},
   "outputs": [],
   "source": []
  },
  {
   "cell_type": "code",
   "execution_count": null,
   "id": "c2fad9f7-0ede-471f-9ae8-7309807c50d8",
   "metadata": {},
   "outputs": [],
   "source": [
    "train_dataset.label_str2int[\"asbfly\"]"
   ]
  },
  {
   "cell_type": "code",
   "execution_count": null,
   "id": "08a3d40b-a654-4ba4-8612-79f2f7cf147b",
   "metadata": {},
   "outputs": [],
   "source": [
    "torch.where(train_dataset[22][1] > 0)[0]"
   ]
  },
  {
   "cell_type": "code",
   "execution_count": null,
   "id": "6da3ae01-8d86-4085-b42b-4fbe7a7df15d",
   "metadata": {},
   "outputs": [],
   "source": [
    "train_dataset.df[\"filename_with_root\"].apply(os.path.exists).all()"
   ]
  },
  {
   "cell_type": "code",
   "execution_count": null,
   "id": "fcffe0c1-8c07-4c90-96b0-13c72a9d257b",
   "metadata": {},
   "outputs": [],
   "source": [
    "train_dataset.df.shape"
   ]
  },
  {
   "cell_type": "code",
   "execution_count": null,
   "id": "8db0cf1e-cc09-4319-93b6-b5c938706236",
   "metadata": {},
   "outputs": [],
   "source": [
    "vc = train_dataset.df[\"url\"].apply(lambda x: x.split(\"/\")[-1]).value_counts()"
   ]
  },
  {
   "cell_type": "code",
   "execution_count": null,
   "id": "ba73e0a5-469b-4c0f-8827-06b5cf8bc1a6",
   "metadata": {},
   "outputs": [],
   "source": [
    "train_dataset.df[]"
   ]
  },
  {
   "cell_type": "code",
   "execution_count": null,
   "id": "a153cf6a-f140-41f9-af9b-5d41f3d478c9",
   "metadata": {},
   "outputs": [],
   "source": [
    "train_dataset.df[train_dataset.df[\"url\"].apply(lambda x: x.split(\"/\")[-1]).isin(vc[vc > 1].index)].sort_values(\"url\")"
   ]
  },
  {
   "cell_type": "code",
   "execution_count": null,
   "id": "84d7cf3d-1dc4-49ae-b816-0009689abe94",
   "metadata": {},
   "outputs": [],
   "source": [
    "sample_au, target_au = train_dataset[1000]"
   ]
  },
  {
   "cell_type": "code",
   "execution_count": null,
   "id": "09ed9960-3304-4c10-bf2a-efffcb1a1e0a",
   "metadata": {},
   "outputs": [],
   "source": [
    "sample_au.min(), sample_au.max()"
   ]
  },
  {
   "cell_type": "code",
   "execution_count": null,
   "id": "1dc7cd71-c9b0-434c-a2d1-e7f7c3de4897",
   "metadata": {},
   "outputs": [],
   "source": [
    "df[df[\"primary_label\"] == \"comtai1\"].url"
   ]
  },
  {
   "cell_type": "code",
   "execution_count": null,
   "id": "488de4f8-b4f2-43fb-80fb-47f1810dcff2",
   "metadata": {},
   "outputs": [],
   "source": [
    "sample_weights = pd.Series(load_json(\"/home/vova/data/exps/birdclef_2024/sample_weights/sw_2024_add_data_v1.json\"))"
   ]
  },
  {
   "cell_type": "code",
   "execution_count": null,
   "id": "c2dcb4d1-75dc-40fd-a5ab-3c81352b0471",
   "metadata": {},
   "outputs": [],
   "source": [
    "sample_weights"
   ]
  },
  {
   "cell_type": "code",
   "execution_count": null,
   "id": "a0f31413-090d-4366-a34d-f02fc202890d",
   "metadata": {},
   "outputs": [],
   "source": [
    "sampled_birds = []\n",
    "for _ in tqdm(range(1000)):\n",
    "    sample_au, target_au = train_dataset[0]\n",
    "    sampled_birds.extend([id2bird[el] for el in np.where(target_au > 0)[0]])"
   ]
  },
  {
   "cell_type": "code",
   "execution_count": null,
   "id": "f4e4a0ab-370b-4a6b-8e22-7b402bd4d985",
   "metadata": {},
   "outputs": [],
   "source": [
    "pd.Series(sampled_birds).value_counts().iloc[1:20]"
   ]
  },
  {
   "cell_type": "code",
   "execution_count": null,
   "id": "3ad9a3d5-5f88-4d8c-9e1a-6b0f196d1499",
   "metadata": {},
   "outputs": [],
   "source": [
    "train_dataset.df.primary_label.value_counts().iloc[1:20]"
   ]
  },
  {
   "cell_type": "code",
   "execution_count": null,
   "id": "a9c810bc-62d2-49da-9949-68ec157c5377",
   "metadata": {},
   "outputs": [],
   "source": [
    "train_dataset.df[\"label_second\"]"
   ]
  },
  {
   "cell_type": "code",
   "execution_count": null,
   "id": "2be55678-9982-4520-b278-9e0609183abb",
   "metadata": {},
   "outputs": [],
   "source": [
    "train_dataset.df[train_dataset.df[\"label_second\"].apply(lambda x: len(set(chain(*[el[-1] for el in x])))) > 1]"
   ]
  },
  {
   "cell_type": "code",
   "execution_count": null,
   "id": "ab6066ab-69f8-4521-b7bc-deb0d40cc561",
   "metadata": {},
   "outputs": [],
   "source": [
    "train_dataset.df[\n",
    "    (train_dataset.df[\"label_second\"].apply(lambda x: x[-1][1] - x[-1][0]) < 2.5) &\n",
    "    (train_dataset.df[\"label_second\"].apply(len) == 1) &\n",
    "    (train_dataset.df[\"duration_s\"] > 5)\n",
    "]"
   ]
  },
  {
   "cell_type": "code",
   "execution_count": null,
   "id": "2f0afddd-253f-467f-8b18-6d738948b35a",
   "metadata": {},
   "outputs": [],
   "source": [
    "train_dataset.df[train_dataset.df[\"duration_s\"] < 5]"
   ]
  },
  {
   "cell_type": "code",
   "execution_count": null,
   "id": "ea5e3411-13b1-4bf1-a850-e65214c0754a",
   "metadata": {},
   "outputs": [],
   "source": [
    "int((27.35021875 - 5) * 32000)"
   ]
  },
  {
   "cell_type": "code",
   "execution_count": null,
   "id": "dc8df22b-4459-432e-9abb-2ebf7f92f029",
   "metadata": {},
   "outputs": [],
   "source": [
    "(33.64571875 - 5) * 32000"
   ]
  },
  {
   "cell_type": "code",
   "execution_count": null,
   "id": "7efc13e6-d7f5-4e67-b0b3-da76ea7aefd0",
   "metadata": {},
   "outputs": [],
   "source": [
    "(30 - 2.5) * 32000"
   ]
  },
  {
   "cell_type": "code",
   "execution_count": 11,
   "id": "a8b0cc2b-78d0-4e72-80b0-4d20d46c92d4",
   "metadata": {},
   "outputs": [
    {
     "name": "stdout",
     "output_type": "stream",
     "text": [
      "Sample ID 14\n",
      "Audio Inf Nor 1.0\n",
      "PinkNoise. SNR = 0.6528371577907758\n",
      "Audio Inf Nor 1.0\n",
      "Target IDS: [141]\n",
      "Birds:  ['asbfly']\n"
     ]
    },
    {
     "data": {
      "text/plain": [
       "<matplotlib.image.AxesImage at 0x723765201a10>"
      ]
     },
     "execution_count": 11,
     "metadata": {},
     "output_type": "execute_result"
    },
    {
     "data": {
      "image/png": "[encoded data removed]",
      "text/plain": [
       "<Figure size 640x480 with 1 Axes>"
      ]
     },
     "metadata": {},
     "output_type": "display_data"
    }
   ],
   "source": [
    "# sample_au, target_au = train_dataset[0]\n",
    "sample_id = 14 #np.random.randint(0, len(train_dataset))\n",
    "print(\"Sample ID\", sample_id)\n",
    "sample_au, target_au = train_dataset[sample_id]\n",
    "\n",
    "print(\"Target IDS:\", np.where(target_au > 0)[0])\n",
    "print(\"Birds: \", [id2bird[el] for el in np.where(target_au > 0)[0]])\n",
    "\n",
    "# plt.figure(figsize=(20,10))\n",
    "spec = mel_spec(torch.from_numpy(sample_au)[None,...])\n",
    "plt.imshow(spec[0])\n",
    "# plt.show()"
   ]
  },
  {
   "cell_type": "code",
   "execution_count": null,
   "id": "2e05a520-63e3-4010-887a-4cd727b38b86",
   "metadata": {},
   "outputs": [],
   "source": [
    "target_au"
   ]
  },
  {
   "cell_type": "code",
   "execution_count": null,
   "id": "89ff4bee-0af6-487f-bd90-22a0c0079142",
   "metadata": {},
   "outputs": [],
   "source": [
    "sample_au_full, sample_sr_full = librosa.load(\n",
    "    train_dataset.df[\"filename_with_root\"].iloc[sample_id].replace(\"train_features\", \"train_audio\").replace(\".hdf5\", \".ogg\"),\n",
    "    sr=None\n",
    ")\n",
    "plt.imshow(mel_spec(torch.from_numpy(sample_au_full[2097528:2097528 + 5*32000])[None,...])[0])"
   ]
  },
  {
   "cell_type": "code",
   "execution_count": null,
   "id": "d85564af-3700-4a9f-80dd-887c364238f9",
   "metadata": {},
   "outputs": [],
   "source": [
    "np.allclose(sample_au, librosa.util.normalize(sample_au_full[2097528:2097528 + 5*32000]))"
   ]
  },
  {
   "cell_type": "code",
   "execution_count": null,
   "id": "c0e1cf68-d647-42a5-886f-ff4d61c8dddc",
   "metadata": {},
   "outputs": [],
   "source": [
    "sample_au.shape"
   ]
  },
  {
   "cell_type": "code",
   "execution_count": null,
   "id": "6fdfbf35-938a-4d56-bf69-6c271023424d",
   "metadata": {},
   "outputs": [],
   "source": [
    "sample_au[:sample_sr*,]"
   ]
  },
  {
   "cell_type": "code",
   "execution_count": null,
   "id": "4013ba67-c808-4afe-bfc5-25ea1b2ed3cd",
   "metadata": {},
   "outputs": [],
   "source": [
    "np.abs(sample_au).max()"
   ]
  },
  {
   "cell_type": "code",
   "execution_count": 12,
   "id": "6d53dfa6-46e0-46a8-bb08-f40eb1e77ced",
   "metadata": {},
   "outputs": [
    {
     "data": {
      "text/html": [
       "\n",
       "                <audio  controls=\"controls\" >\n",
       "                    <source src=\"data:audio/wav;base64,UklGRiTiBABXQVZFZm10IBAAAAABAAEAAH0AAAD6AAACABAAZGF0YQDiBABGCc4HOgA3A1n2g/lOAbb7qfs38Z77PAhjBcsB8RTsDNwLnxofEUQXox5NIX0gKhicCM4Pnwud//ECsP2j9YYS9BWrDE8R3QJxA/0M1g0sCVUOpgkRAl8Gxv6iCcoMOAbK/FsDk/+t+pXrq/O485fzsAJN+p/vSPHW9Ff6Q/NU4mX2x/mN/KUUqgtq/joCHv4GCVUCgvPIAV8En+6c9K0DUAAaAPv48gpY+RrsiPYdFUEj1yZjFd8MAQlVAtj1XfA5AAH3d+01/WkKGAUyAWcLeAIZ/UfvYgiJCZgFtQbHAcsEPwxeARj/ZxD3BpP7qvS8Aiz6DvWSAlEBn/Uh9jH57fuo9kYG3vy4A1QPO/iC9rDuEfeEAdgLqw0ED30RegKADuEKPQhL9X/z9fit/2v4Bey47RP0oALO94b2SPx24V7psupz8LcDjAXj8xr/VgM78V7y1v6s7mz9gv9SAHL+Qf8c9nkJaP7q8yQHRhGeFjYGHBISChYDCvUVAz8SbgxTBtf6nv6E92cDiPWZ9H7y3O/X/ikGGQFQ/BT78xEyAYXu4fU5+4XtSvEv/hz4i/UJ6LIB6f86AaP5hveBAFnmDOQs3zPkV+4I7Mvu5fcEA5z8Dvhs+3gBQgg/+4fsxuLB6J75c+Fv6mjkJulC8JHzRwzbEBQNbgJaAEb4zP+9DRULbBD8+iz3fwQN/CT2rftE6VoK0gh1BdIC///gCfv7qPpQ6yL+3fRe99EKDQHR/ukFhgBoB4cQCRPhHpAT/wMQDSoFxBVdDWgKxACX9qTzbegxAp8HH/ia/nkPnhDsCmYN6xQmFYIIsw1HB4UMKf+9/Qj3DQKsBsT4xAPg9q3z1e4g9eToNvRv9B349vwLBaP6G/fJBrABq/3M908FNg6gDpkCUAeCBYD0w/NaBRP5uOx543P9ugpk/oP4IvIO9v/3afFJBfb8WPPZ8/Ts9+zG/0r3DPLQAeXqPQGbA2LvevnpAFH/o/ezAWj3Sf9I/aD3L/rY++f9jQKCBHDvs+zM8eD/rAVuBnbyofMR9hX3jfnN/zz5MfT5A1YCvvlaBWoGqvgFAF3zct844WH0nvRX9Orpqe4P6D/v9+wxAu34+wRnAbv3vfAC7GnuzvEY+NT5qPHc7Xv3iAQGBYX0G+zk6JPpuPeZ+JP44/OA9iUFM/xJ96L2Fg1rBtT+FAJTAyPjT+yO6+nl7/xeAH8NRQ6LDLUDb/HE59/u3AfF/DT88vGc+pD6Qf1i+L7yaPHNAIQDvQaS/tv2kA1SBsL65/7ACtEGwO06743+CwhEAWkFvghPBjsI1gv599QIZwPS+Av09vV1El4Q6wNGAOv7EgGH82z+NwJ8B7gRIfHQ99j8JvGd603eS9eY02zwxPYe5j/uhuHG7ufxXfQd5RLxouht8UPl1ecO+rv4R/0C9SH0yfTZ+9r13fEy5n7sjQHL9Vzvs+4W5Y7o4ejz53TxlOn06+b+HO+Y7R/rO/MVBrP9JwPM+L4HxA5S/l779fyK/fX6CQGYDB0UiwSNB0n6BfihAdj/uPzaAtoNCfy/BHX1Qeut9kfyTgZNBCL3hfPf6c3tMgSLAGcIwvYC9tjywO3O+iQHSv3MAy3uhe5tDqARJxva+lQCvAmo/T3xjuaI6hHxkfM8/bv+9Pns8w4DMfRB/rcGYPi+CIsPTwxw/b7/QwgxDObwBvjW+avypwzZA8wSaBleFqUKFAnaCOcGifbT7YP7R/TM5jznHgFo+FH3sOzF9BLu7vCx+Gr0yO0n6PbvHgNg+9H28/PQBFoMSB2wHtb7uv5HClf2bfvoCPz+qg5qBYT9NwaSBSwGRQD1CLoJTQrPBgcGoh6fFWoJTBHq9QDyPQXzAin6pP/WALr0dPlu/TPxpPFRCBoGBwvhETcSDxrEGTURigmDF7IWBxZ8GGIMn/s9+SoNURKNFPkUoQqmGCQJFhTnCSIHywiPBZgD4AxICkUFI/09C6z6BAlICdkSxQT5A27+DQl+BlP+kgVF/H3/Ufch9In9wgOnCEn4aum7AnT8lvIQANoJoRRDD8oRzgVxDUsQzBWdGTwcgQxhC3ILSgCm81bzoe/I/hr2yuq2BKj1ufVx/YP8jvpT+VEJOAMtB4sARv5x+SQK9AlkA2/+xfzWDgYL+BTbHpQiARUFGFoB3PM//wj8n/1H97j/fwJM9wQHS/opAKoEpgB2+UIMfQbWBs4HvQNi+68Gowd5/lfu6f/s/U3xtPKICRIDgveUCH4AXPPa/7L4d/6++WUL/wAP6yf2Mfkl/rv3K/WbDCAA6fj8A8IB3PmjFDYHigISCswLwwWe/ZT3VgN35VP3GvC29575sf3c9qbq5vWrDof4YPGeABwDk/Ws5hnoAgdoGLoA1g99EZ4VNRqLEd4URSdsBF7zpgHoBPMC/hkiB9UBw/SM+ZoGff7r+XcJIhYMCoYF2g0xD3ARohxRHgIWcBV+C/MOqv3lDKn2xf8zBVoKkgxeBZMFmvpx/sf9Afod/3L9ugB/9OTo7PdK/4787voP+ncPWw4ZEtcOEQcGEy0JU/8y/VMEwvfI+7v9Nfgg8Tf83wmSCJztSOo868PuuOyP44jakOmc7l7jku7G+Jv2yua05nfc3eGB4/QCZfEK7AT1AfMy8/fmM+Rh+Sn5kwUHFKr3lf8bBewOUQpwBbgS7g9lEdkTbRMbFEMQchT8Cc8Lewm1B/74uwYoAz76iPf89Qv39PMUALP4iuxs/bsEdv6D/Bv3LvnGB8UFZviGD84CqAoo+/MPIRSY/7L7HgBdAR4KWACd/PEEG/66AyoFmQYnFaEQUQyzDnj5vvul+A4JwA3qJY4XdxHGHkgegRvBEl4cxxz6IzUfxifUHakLjAVqFMUQWgGpBugdSR/mCdUaxxcyDc8HHQ24DnD4hAwREEgC2wUDCCn4YwWSEzcQ/SU9DEoO7QqNBs8c6xxcHeYZzx6lDJ0MYghBD8MZIxgQCMQOnAaxDsoQZwEbBmIDBvts/8IH8vd7/J7/vwPQBT39AfUeCvsEchjWCXEMMQg3DNUXuRtXGdYgFxpUGwsORRrMGWYXlSjXGU4j8Ro+KaYlNjMOLzomqhsoMaE12S1aJV8pmCi0HQIfpQYnEQQQiwyLCuMPzQiaDNAzKzhSHX4YMSooLXkiqxplGPEYDR79HzQqYiMSFGskdzG5I70fFTI3LNU3sjN2Jkok1R8NHmwdmyFLInovXizkJOkgMyppMFMsejuhMUcqNyakNhg6mTXQSBE2EzCDJ0Q7mD2zNoc0njw7LAU2kzPxMnslDC67Mx03WDRcKpsv8i6pLCokVC0GI6YezC3cHRYnFyBtHoAiEDWpKFoqTx03KecjNyGeJicNQfxYGp4gGyD+H9Qc4Sv6GoQV8yaSHwIsuDVxK1IwBx1iH3wqTjJOMKIynzKrLmkm9iONJ0kfRSjcMMokzyhlLx0sPC8KR1FN4EO9MSMvwilLJ88k8BVdD3EcAxMrHZATsx6LF8UPRRS3KwcmhSzdL70nyi8OK0cl/y5UG0Aa6SpPGm0P/DlMK2UvWzQWIi0a1hDNIHQqJCARLcc1nyjPLR00FTSpL8otuy16LW8eZi3qLY007TO6MV87ETI8KJ4sSzOFKn82xD+VKVUskzaLI3gs3StYOHsh+CYKKNocTx+QJWYwEypfJlkrVRyHGJgdOy6QL1AbWCHrL0wnmR2FF34aohwbJeUq9jCVI4spAx6JEOsIHAMRCCX9kw28GwEWCA+AFx8WsA5VDgoSRBDRGF4VjwX9EdgYYh+NEmcLNyMLH7YteBBNFXQXbBRKFB0a4RxKHp8iBRqxF0ASSxgrCq0LZxN9EEkK5gpz//gPog+5EcsInhl4HLcQpAFf+/sIHguMFgMccyPkF5YPHgiRAzUL8x2cDb4KBgky/vwKFBb1FEgKEQ9qCOMGzvJI9QUBVAZlDzUK5xE7DqwFxvqy/TcVwA1tAIn8s/DlATH0c/RSCUwEgwLOCYgDlQaKDZcYiBcxFasQTv2V/ub3We/n9tz8WADP/CwNbx9fGkQdTCB/LTwjFCebJmYZ/hS8EVUnpjWMKgkpUDUINMwpuiypLmcrfirGKHMpHCrLGF4h2xkOKAElbCeaLxE4EytmG3YeyDFMGqgdKy/kNV4q/ydrJTsvlyf4HtUtDCG7JMEr+CdBG1oehy4LN+UuLSBgKOQrGiK8Lh42dDRcPIo4FSy5IVklxxryHuAuIhsCG8ohNyOgJjQ2iyfTMaJWIlZvM3g26Cs4RWxC7UuZKVAz6yVzHuYeZB9LJ88d3yFYFycOoBoBIOgjGx3THv0RNh4BIo0m6R3gESEZVBjAEaYbqSAFGwwT3CRVG4M2CTtyNPcTmh9EP3o/3DR4Mk4zS0DzPB4/0D3bNBo90EGCMrI0JDyMPm4xoymSKfowEUfWMqEp9iw1LQQnOiqFJ8QrgyW7JDIndSRpJVk01yjmH7goWDM6LlcroyUBIhsldhwgFhIaUB7ZNkoxKC56O1guCyUGOVwvfDNCMbc18TGPNCsxHyrMLf48Bi2bKlw6jDrCO0Mvoy3eKH8uGTAVH3QfNyvJJwIdfSZOH8wgAyLpIK8wuCVhK/wpOCtxHXwVBCUuKG8RIA9wE6cbtgrVERMIkQuAGSoElghuB7YegRfJHjEmNyNbLzIpFxMKHB0TCA59EIYcLCPLGYoPNQyTGIkKaRV+Cq4WcxoPJfInqiKmHQwiYyrgFloYixNrENkeJiMcMhIj4iDzHgoOEQnuCWEcpws3CkQckChMK4QiYB/LEN8dxCEfEDQP/BtiIDAcZRNTBoMJWwo0G6M8zTgUHlobOx53LtYTwh/jI0QZxB2yGqYrnjNeJiUauRhiITMlIyTsIAEY2Rk+FOUcMAZrESUegTmHNMkyTCS4HGoS/hy+JfISyxheGvoiUiXuIz46+SnAHgcjwjQ8K4gn3DeKO7s0+C0tNk44nCTQI9MxJypZKY0syzKJK3chKzAhMdApHyr5OPQxFjG8H5wmDSOMGr8ifyjvMfQtkid3Nigy+CQ1JxkeqCt3J0IXnSn6EiQNjRtXH84jGyXwGQgdMx2hEQMP2RHKE7YXAhJCLLMjIicsKOM5pTR6MB4ytyglMek03kGWR/05CjfkH90aAyDbG3kfFTGtKgQdjSaAMTcteyx4MLstgTJlJqUq4ipSLukihSjtHO410TC+KzMr/Sc1MgIq6CbWMJQ2DTr9NAkkahbKFskc/R2SJ/ki7SfIK1cjbRXjE9gYeCGTLJ4lhzH0M4M5jTjfL1IfTya8L8ggyDZiNmctDSivKMQr7x6cHX4ezhshLGIuKSSsMhMdjhgJH78bOQ7HE2Ej0Qe5B28E6ByJJJAHDxyaFyIZFRjIGcEhJxIJDmwDuxQzEHUefSNeItQZExUEDuIPQwZzEo8o3BrhDM8fkxi9DL0aPQ6XFCUZsw5UFzcSVSMCFLsEOAviGFkGsw8pGLAe+SLYJmk+OzaNJVIizx4AHRcOdBhkJKkdsSJkFv4Rrgvj+5UKuxcoEj0CdfsJCdcFpgEyENkOXwR7Db0P1fyuFl0F8Po7BJ0FFACn+msMXgFG96kJSgmIElUH5BEbBl8Ldh11IjUjqxiqFg8plR6wFnwT/xuIF4IBEgFpDrAG0wRCCp0GkxlNAgn+mwQs+Dv4zAY6CJsNnQZGAmj7vv6QCJQH9QYNBnACVP4aAFYGnwVi/qX96u4/7e/1pQjtBOMHVAUSBCoJg+Up65rtc/I579H8IftpDr0DWAS6CgcRQgegDdT/6QevC0YRTRmSG7shByN0GeMkbgVQIO0ZbiMWINUKwx57JPQpGiCtCjgTOwqb94z8Yf1RBUYLxxplITkQRwwOD80axBGGEtcdGB+NIlchKxHCGKAQ4iFEGtUUxBdcMhwcFhMsIbAfuR7FIjoilicAMOAgcRReFoYYuB5xCGIHfw7GGmIXFSOsIfYo0ik3GuwgHiu7KYsi7iwAJggzGC7eL8caOTEMHx8m9hyjC0EXwRFECAUXWQUpBHYCShHcFv4PXAtQA5YS6RlILcUVmyAyFDsWDhiTALkOLAuhDgwJBh+VDVkNKQmwEkIm9iAEKe0nLxrKFzUdYQ+gFI8VFhbcFOwpsSVMJFksfRZsHIkr1CX9HiUb0g0BH5kvWjMCPqs4Ezk/MpIrpDvWQj07QTT0MQ0bQyT6FdkZED3aO6AvKy25LXUyrDETPPI3LDjRIgss8yNRLgEhOSmlLv0oaiY7H5YW4SfuGCcmjB8wIQ4jEyWfJOcqIxxZFX0bCCUJNJ0zfzC+OMUufy19FmwmCy6JGZYroDBEK+MgzRrSEw0ehCZ9BAEZoRx6H78jxg14G04j1SSvK7kqcCxIGckVqRF8Jn0oUDn2L/smJyw3LZMriR25LoE+Mjg9MWsrAyvIK8gnFSD0KPUW0B1ZHQkjORqBGnMXkhJlIo0lizKwKacqWSOGJXwVEiHAMUgvrSV9I+40KDF4LiIvWSbvHcIkExr1H+MRMiV6Hn8gaxVMFU0M/BmYJUE4uy1/IdAlQCJzJ0kHj/zxCC4eYhLYAS/3l/shBY4DBQJ7AakLFAOnFF8M1BJuE44YGxmp/8gFngxdG6kNMBdoD/ADrgXaFX4e3yGkG4cUtRPBE5Ii4B99EvAQexTzCY8Gtg1aCFAcsw8N+dcB3RN6D1ImQiVmDsUVcxZHF4IGLA9/CKkXfhH1IIQnkxdaH2cjLyHPIxEaoBCICeMaDBnjCssUFBStIZAh6iZGIVsbKRxwHUAfKRxZEi8SHy6NIQAY9CqnGs0knyfGLggheBRYIA4YdB1+JhMiXhA3GWMcIhSCEOAbFw2NDkYK1BqyFYsdnR1HFcgi2hrCGs4ZRSpPFikfISq5FfgatRvkCU8OmAfPENURbA9vJBAphyeFF48cYiEUFoIaFytKIrcriS8GDocZJxQcFtof0hWAEwAYyBkdHKcYuwhhFHYKVP0a+S0MlgvTAJwAmAdh+6AJjRnTFYAMwQm7BGQFAxfjHxITJAoIC3YQuRjTEhcTryMqKk4X+yWAKtQ+6jAjLxQ2rjaGMc0uMSzSKk43FzVsJrcogDZQJAQPDgzi/iwTaBTRDo8daCalDB4iaSrqNBcp+SYvNT0kXSDrKrwk0xLXE3giFBk1J6YoeCNbIawaYxsXJr8XyxDQCgMJmA1gDNgVdQ3NCQUZgx8cGmodGhjBI3Mevh8rKfseiSKxKCQiBBkOGesc/Rt7BTAPRSJ+KEoioiH7GZskaxdoHwscdxQ9E7cGwRNHGL0QSgeOFScN3hjUCusNRBUzDRoJ2wjABzYXgxeWEcgM2wSgFJ0KbxCaE5QV6QvMBHsNUg9zF0UHmQ0nEpsFgyNeEXsb/hhbERcYziTeGSsWcDd/KVopxCD9KIsh3Rh0HJ8jUgm4Gr4gDRxvKi0dARzUK/EmziSQGXsnAx+MGzImvS6JKq8y+ja2HeEZwQ8kCT4ViRy/G30bcBz9F1MTZRyBGWkZOy1lNcMqfyo0JlcvtygbKCsg+iXcIAYV2SJ1JCEVvgq1F+gvuSQnIqQiuR0kJFc5+zymLRY28ScpG7wY9y//MZc2ejhULe4eciCDEd0M0xrmEhAPEBncIm4X2B9WF+oe1RErDOQL/xrpGYESzh2aGj8UwCSKHB0byR7FG0UWGSH3IEcstiaxJps1SkPLRWktaiNtNQ482y4qJ4oaqxTtJqsoqxinHEccZysJJg4S9Sj5LzUZpCInJ20nGw5oJQ4XlRtOLjodMSUrI78qUR6IJkwZ4xLIH60d4hwrDdAFJAkEELwhjSxXGFUkQxNSBBMOWwxyHCEYuxXBEYgRHBihFnkbsRlpJCobuR0bIB0Z0xb3HYwldxooI8gnYCOmLuszhzkOLnknASevM+slnCLPKywXSCr9N7QpWidQHiMSTwZuGcIf/jEhLNAgnifWFxQemQ5sGA8ZbB9fD/AIiQ0pDw0F2A3rHMQWsRfGB/sauRCNF00UlRPREdwYfBsFG4AdBR9IEM4edBG6H0AV3RBwFmwh0hMeHZkO1g00GIcX4A+pDuAVMgunEmEcJxJhGIITthy1CVgPKgQ4CZ8Jrwdy/oEBlwkEGXMh8AqMDCoY4QndDpcYbAMnCbEArgwUEi8JLxPUB6oOLQcFDW0PEw+E/RkPMxJLFEEXtA0kCHEJUxqTJgImzxemEUsOeByVHrMTTyQhKJUs0xbtDpcN+v3iEwAjVRatEqEZ4hOQDxIYXgyUHsMrACjaE+4cIw25HCAPJxOYEZsWZBXPEZULyBUMExAdfSKeIHgOLBR6IMghKB4qE/cczC/SIT4ZURIpKJ8XAgy2HNcc9RPYGCUOYhVBHEUWXxUsHiAhtikXKq8otSAoJxggwiukLBYmJzWVIhIjKSMXD9wPyxe8IO0T4Q+0EHAT9BdNCbEL0wqAGUopISAAE/8aQRSOGsoj7CIiK6kJ/xncHYwQERdhKNgk0RiQDT8avRF1C+oV1BZ5HbQSLRB6GuYfjh6uHPkafSTHJEoasBLYEIch1xWjCRIcqhP5IoUZHDF8PIU7jTTNH80bYiydGhoQkB0jJ5otciZUIgwqLCplIRcihyrXDbwSwRdHHkAgyRZjF/4aIBX9FBMNDhpVHXwmXScPIpoUtSt4LUMssiBYNfIsFSO6MMM8DziaMP8mvSNsGjIffR73JokXpxswI6sWjRQaKwQrhSNrErYIthaKFSQAug6IGKUf1RQBBUUawiqmEQ8QtR6+LGIn/RDjDP4NIxeLEEsgdCc/HLkSVyl7HGIVTx+MG3Mboh15KUwf1SQ/JjUX7SogJtAY6Q7JDNQiAB2+IlwcQCWrHo8cjiobJsscHBwhHc8eHCK9EGocfBEOFKALWx9bC60TGRea/2kHHxHoFeAaSwUGCzMIuvIDAfD/wxNvCdgiSRwlHH0s8RfcGAkOShqtA9kIwQj0Cn8FgwjTEYEYhx+fGoobRBJ+DHsbaAzICawRgg5VHy4aXBSHB4sJGwUJD+MWhAj9DBQUfgpxBeIQWgXTGWwNDBcuG0IciB7DJR8WFAq5+gQOWP12Dx4U3xakGBYWeAxL/xMKsgIx+a4KhAdLEKkPyBKIHbEUPCVGEnEafxAhHL0XqhpgDlgXJBCUEEkYYxR9E1oRNR11FEAbNCCgGx4UOAruBSoQAw6rAz0U1hqoFU0T9fa3/VwW5RKFEbEHNwJ7B4D7MARBAPsWQBHmHo0odibTLE8jJxzOHqoZiw0sGz8XdAkXIOEbdDGJJOcaOiFmGN4ymC6fHKklmC+xGX4cHCKEJFUsbSIlGuAUwQ8CB9gPwRxCFygk0B53MVshlTONJ2kxKSoqGTIhcxZ6EbYWHBgTIhkY3iSXJMoRoxSlAwMLciPoHpwMHQ/XE28KYhlrBxsESQjqAlIaRxzpF7QQ5QtzH78igApYIbgaAyNWEBcf/BT7DgYHuBY3E+sMuQt3ET8KLBjSG0gcSBogG4kaMhapEikaSRdTFCkX8gT0DCMh0gwM/1v6SfoV+YMD8P3P9oL7jwfC9rUG6QHl/LcJZvTl86r4tvRi+JoHphtGG8cN0/reA7gE5ABXEdAQLBE+CXEBjw7OCoYZKAsGEh4KdAPn8J7/OQTV+4z4NvBz80b6LgK5/xr+SPsUAwn+QQnCCY4GBQJIBOn+OfYJ7lfuVfqb95z3FwWP+Kb/qgeN+KwKPQpLAKwOsBBtB+0DJAV0+OEC7wiY9+T+zADY+ZX1iQBO9mDy8QBDA973jgaw+WoMeAPyBxAKvvr+9hYDkAq8/R79vvYU9UTrrffC/K39zfc6DywFTgoOBH0SLhmRCjgkoQZwF4QX5BpqGvMZ1Q96GzEMuhr/FdcB/vb3+MX8HxNGGJcRUA+DFb4YTh6eDUYOIAiABA0C7fs1Er8B1QnJAisF9/sUDakK6QW5Ajr9YPzrChUKMA0YEsYLvxnlEFL4Q/vY+774CQshDQcFPPkh9/P9R+8p7/H8b+wT/Ff/bwSe+9sBq/3+8Jv+QADWACT6pPggAhADSApbCTwHQwo4/wb+4fAVAZIGPPVH/kH/Hf9j/IcA1wUuDXoMQw31GGsW5RgXGOUZaxjZB2P/6wYbFmAL0w+BD+MNpxAyG+AToCVQI8ojex2DHIEirieYEosWSxuKIXoe7Ce0F1wo1R54HqsXVxjYHHIe9RxPKnISxwZvDZYUVSdOJ/sVRwruBfEK2RehI9kmmQ7lETUJbRQcJv8UZyC5JbMZyxNLFbwdXCC5JMcdZiJXMlUigy0XLMMuzS0RIgkXOBpJLhEpySU2IUUmChnVKi0q3CELL/kubh8qIxspXxfgMc0oyCTBIuYeJRW3DXYjtxsrGGkmYhsxMlYkQCtnKoctfy/UKhMmryQ7JoA0AC/EQBUiWil1KI4ZkCADIj4O0BrBGqYfWBptD8YKLxlNJe8fSRLOJRAwa0EmPlQwBzZALIgnmCwiFqQjLyH3KlYy7SwWMjI69DpFKlg5eTgDJ3Ea1DIKNOg4UTy5OUAxLT4CN+s6ejGiOoI1dCDkHk8cByeYJK4wsCiDIHcoaiuMLLM2uSp6FTwQ3RUoKtglVhihJf8muCWoJzwnbyxzKAAj2BMaG3YcjyzhHksqkyGkJz8fNh2jOLQoTxj3Ig8abxgfJA4cjyMkOlAsiR3eHrYqeiF+NLYwNjeZKzAndjwfQfZIWC/TJP4gLh5uKCg08DI7Mo8hMS9fLcswES7tKsc1diaXOW8t3TCqIsAdvyRHIhcouSNJJW4j8jLfHLkbTRklHNAiGxYGFnUQFQkjCbYa5xZVCPYfYCJ+JOsjaC8tLEYZvBkwFH0OKRw1HVYZvx14KEkdiRUkGG8NxhNDJroWPgLcBaoJggiuAWcCYgXpENUHQhfREzYhQRU4F+8XlRhRJa8PBgmFFuIZ/xGKG+0ZZCNBKS0xQTyUNH8uySsjNdMyXTgePCBBhjNBJ2we3TLvHVwphTTjOMw4IDs9KQYpLjcvIsEh1CzuMrE37CE+Ii0mEjFfKz8RXiLBNZsniyrSLw0joCGMJ3UpjSWnHskViSKsDMIZUhcUFZsYtxqSGP8RZQ3VHjMdVA3oFmgdcBiNE1cUXwJBAY4A2/LQ+/z+FftrCc4HdRHcFmkc7w4qHeIbjxDgFtEJhg5DIHIafAxsDe8G5/3/+pUGIxKcAT/7E/ZnDY8C+/5H+mf/vA7N/44Ga/7S9pUBOPti+6APdARqAIgCd/66CPwARgPY9tD1YPimBu757QncADcObfyGAZrn/uRa/zgE9QL2DD0F+RZhBFf7VgzsBWAMhwweDm8QAQylBFIE7iEIFnQQLxewFy4csQqiByYFpw3U/mwLVhXtEl0Tpw2VExwPsfwGCicY6xK5BpENfhnWIagX+hLkFTEJowH489P1Lu8s84IVPv5DA2D6T/y/9O/86giu8XL7WwpK9/wMmAHG/hLyYPzP9Qj8Nvc69UD4Seuz8zvn3PI79R3yd/h+9Sv2MQhj/r75AQfr+179cg8N9iPrAQEG/7X53uiR/qD0YQat+hH06fhO9ucEeghJB7H/of4O9tb2BuPe4zvlGeqz8xn5s/cB8nz3K/eL8EjwdO/96t7tb/YN8R39ru3u4/bzrP2h8ykDMgAwArbv8QDU/Prz8f67+gr3Ufqs+9IDtPyb6avyT/JP+UIB/fcu6jf79gT9BNUD+APdC1/3Uv3J81PzVPrnBHj3Rv/ECGwGAwVc/x0MPvoT/7AW/wjaAXAGwPjlBo4BFfwKALoAehFtC/UM7w9xGBIa+BSeCsQU8gZ3BuAMTP2u/AHyEPPD8S3jL//UCKXt5fJA/6X69gPTCbr6WPnaBlQaEggX/DgBMPt19av1zwmfCI32//87BykSxQNlArv26OlR8jUGsPb0/7D8Eupo7vwAWwQ4AJX+Nf279v7yjON26C30M/MV7B/scfJs8wroqelX8unni+ps9tnlz+tQ7U/xb/yO+RPz/PfW4ULvB/g/++MEMfQD8Rn3+/ZR9a332PHE+MX/A/dv/97yyv8P8T7sd+40+1bfj+Ea86HoxNos5C7jo+bS5jfiruLT4NrdH9th7sLpMOW58r7otPD8/jIJ7/lk+g781f0z+JTmN/DF/Fj9bve898b9URQfDbj5t/Ft+3r3xfOE/i726fb3+mLm7O858jn/CvMu9Bnw8vmq+sz2y/Ko63v+R/OS9Mj3nAwyBGX9jwYo/A/tbeEc7Tzw6ueJ8Pf61/dO6WfkhN/073/vjPEw5pvvRPF++2n+bPSA+xv7UveYA1wMoBxDFEAPSgKKB2/3B/e0APz+6PPq7ccEofyg5pzusPUq+h313/rYAAX7W/Jq+yX+HPd897jwpezi9wfs8OlI4Qnf+9xW3L7WKs6S0KvUve+N7zLztfqq6VToYfZl7XDqCuhK7QXdf9oC59PWf9q957rV5N5V5ejijvAr5QLZhtlv4q/kr9a14m/el9en3N7m1OUK4HTsQ+Lv5+Pwyu+S18XoD9en6DnlleBQ58PqV/G5+QLuuPX3+SfnbOEj3+/ssupS64zo6O4+78vsdvS25I3pHNMQ1y3urOVN9SjpA+Fi2x7uOth+18bcad/Q2mrhze2U4xPlDvsl8cDrMe3fzKnQldhr3oPfOfuW/Tn15/Ir+ucB++oM7rYGs/gq9u79hgQv+zAAgwV6BpkI8gMD98T4wvqJCJQBB/eNAtL+HfufBc/vQfK263zmWe0L/BT+2fruEiIUYwQlDdTzS/bo+Wn+Wv3g9CsEYQnoD88LDAMXDC39KgFLELgCe/zL8qH86vNN8jHqLfXu77/4BwX0/CfsAvMM8V8FigC1/4j34vxa+2H3B+l1/Xz4KwDd7O71q+8L7Nv+S/M6/Q31rfZZ9DPfkeet8AoEsw6Q/9f1Qv/N9xL9uPmu/kX9PvUu9T3+pvXl8WH2NekT9tL1seoX+Bn3POqV5JHlNuYW25rec+jW75/1tOgx5SbjSu7R7Wjm2eTo9O/z5/SR8BnnpOdj9Hzw//Y58AL8qwNo//rxauzu8i/te/wdAqX9C/7672Puu/Qj7ZPtE/GJ9qzzHgHwC9X7CAGFBE4IsAwDC7/9dPkK+2YCIvmK/+v5+AE2+eYGjvaa89zkWve1+4b3DOgX9/j06eZc6Q7t6ghM99Dl/+/g8j/tmN4C+P3smuQt59jdAuup26TiKOLi4Xbrf+my6rT+Pvmw7AXj1/Uk9Bz8le4gAiAAF/sW9sH1zPQ87y77oAGO60H7LvM28dPvPOpj5dDpjPuI/474nOzc+K/vLu8w/M7tXu3z5Wn71esI2mbqlNoU1Uffwext9rP0p/ih9bbeaegh7QzleeV38hfsG/dP8V/rBv2aAUkERfql/4L6PPb+AFQBIfax7Oj7a+Pe7m7m+fj3/SLvAf1O5dz0xe8i6UD4vPKo8db3owGy+ZHnGOI48mvs0fWz/4DiVvqA6o3qcux24rLjRfcA8ufqTukD+AXrqQA7ApALVvwm5ofocO1g+qj8k+Zx6F7xRO2l2pPsU/cCAWEAav7C95n0D/uR91H86/lm87TxZ+1D/K38KPlh7MLuiv5aCLEEY/3j9JIELO928Pzho/y+AZ/zWPTE7mDt3+5p+Tb+tf1G9uIAzfgT+wD33QWz90j1VguK/n3qT/wk9Gf26watBo312gIS+gX/f/pw/hX7KQSE+r368fNK8Jz9kwPRCdn1gvXwAZr2l/eD5iv8KBIEDToJUBRdD5L7gP6b/MQGEhCmDDT9AQknFTAJMf9AAioFOxAzCloL/xiZENMSJwp4F08DNQlDCK4HvhHCDQkPXx14F5QbPhNND18Vx/5p/ZIBnQB39Lz3avWqBc//+AnU/usL5QYJAk8AAPRL+Q8KOArkAiAJsf/l/EzwNunh+sAC3PC/+HL81PymBRcHBgC+Aej6rfdQ8eX7pvbt9kX1s/kvDusIDf5B+uT93gP4/Rr3Gfzr8UD6Ffd6/D/8efMq/XL7TPmD+CL+C/Q5/NX45AbqChIH4gRCCPf5kfujAnj+0fLQ7N/nsN//43rzWfSw9bDt/vZl/Nvoz+WL5uXe3N2Z6nMBR/gfAHf33+ut5wDz7fqnAdnvjAre92vtNucj7ZDyDuVv7/HrIvGS64TjwfUt9Hj1k/YO/t/0gfEB8jj6SfWT/g/0Jfgw/IH7ZfXO93sEygJK8s4RcANb/e8JvxX1Fez/M/97CfQO5gg4CRr7kALK/fP88/1XAOH7Yf6fBBL6Yfi49UH3kgIa+BIA1gPGFxgaCB4SFykTigrYAAv5If7aAmn5GwkWHVoaBhLzBzccYBuoDzEBZRF7AUMaxiG9F28QMRAlIO8QDBRkHPYaIhiT+VUAtxF3C2AKRAeT8h7pSPK69Gr3W/Zk+g8LVw//D20Etwqk+7D75wIw8WP2zPq+Ad73dgCNB+4Odw8EEewMPANj/PUGtRFIFcYFughLDu0JagDS+6sMSP1t3P7r2PDS4JfrQOnE/TrzoPYZ/lQF0u6/9AfoKOmG880CvQByA/z69O2rCuX9kvUj9mL2Dffu77/jRO2n/CQAwgA0BubzS/Rg9j3uGvjV8kvryO1hBYYEgAK/+RztFPpXAGX6+AhmDnoIWABo+F0BAQk8CyQE1v3SCAb2BA90BvMAxwb5DlMGoAcRAzsVVwxEBVPxj/5XBSX3zhUeCO4A6gFaENwFHwyOB5cOfxPuFIoXOgxhGHYvxyxOJSIj/Bf5ICQlhwpAFSIMABKnFYISAxVxChUY7w4yGMsNTRiZFeoOfBQEDhL4zwvDC0IFRwJSDO8cnw2EC/QI/xRfBiDzDf2jAAgMawgnBEzzvfRrBm7zO+/9/8UANQBv92UA5v+x+F4HUgkqACkFXwBBCjkKXgqDApQMfwfvBdr+TBBZC+gHZf4mDHYJdQQb+5LyvfTK+R7smOrj5hbY7c9/6ADlJ+2E8MT5h/IT4THliOcS8gv4vfx9+hPxBvrY+uDlo+vY7frlmfSb/5PxmwlfDxb3rPWF8xj4Netq8KP/g/ESCyATgAu1Dj4QnRUKFv4MHwplDNALsgNUBZ4EAv2W+H75cfn8AaEKlP6CCuD7gAItFPIVTAqVDUUFfvjWB9v4Tf5o/qT7YAt4+0sAiAcOAhT9/AvWE68O4QSBEQEQqgi3Ah4NBhX5HDwSXCaiIVMTAxL8C5b8lw7CFbccWhpaC2gLpf7PEOQX4w7zID0QNiPUHbodjibVK5YmnCbYHJ8iyxTmGXUPlw5aF6EPHhT8CREUOBxxFfUOUg4m+uvy/vbP9zTzaQVsDBAEJRFrBAMKwRVWDtwccgegCp4M8QWQAVUOtBdfKrMa0hUvHrcbiANUBAUHRw1g/pv3gvpL/7LzVvJNAhMDKv8j/e/01AMk+h8JN+7K80MA2P6Z/AX6wg5nDFkRJBYOE78YsA8SEbgJYA8iC2ACKA6uCtUE9wGdAagKdAB4Bx4WWhTIHhUd7xNBCeoa0BZ+FaMLFhPMEQwXEBmVIHsg8BsLAfwN1B0GJ+UjEiUBF3caGCJ4CKL6+v+p/AYSHguFEcMUZRysI14LhhdtFhUXNhhJEUUbJRjhGukW2xZ9EoIblhCSD6APIQhi9dgA4wqzEe4AygVfG5YSeQYqHpAjjB41HjEckBctGUcV6BOIGhsRUhTVHAsLeBS0I9sl+iTJIsIc9xlILZ8zrz7FRSUv0CC0K38aEyU3HQYbxRrjGhEY2hbg+sIHAALB/QgLtwcXEkYrAjOdOjQgGhQHDsD9oAzyE04PghBXCuYQ+xl+IVsZdBfvEwUThhPiGuUW5xcRFEYeCxAqFM8ZeAZoDG0SgAyXGL0WNhedE6MWEBJFFu4U9AHP/nUMrAOfBhoVjgXfApoYUBH5EaMSgBVGCuwM/hDGFkQTLCIvEPcVahkhFUALkhYjGmgVdxK/FdMZ4BfMIxQaHhOzKVEg9RKnFEcfIA38/4MAOgUjDgUNkgwTBrYOkx0+Fgf+XQnjCnkLZRxHFGwQiRZ9CwMKFAzKBB0GYxNQD/MTzAnMAogP5BS4FR8QBRdgFO0gHRukCUUNyxHMEwQbQRUCGPoLpQfvDooUwAHu+EYCIRLQGzkZXSKqE+EWIhMGCW0U7RNNHS4OrBKmAjMM0AYpAE4LwwFZF28c6hk+Ep8ABhvID6MYUg6B/twT/xGIG6gZOhMHGfkkFRwWKDQruib8HS0g6R6bE6MPRQgJA1kQMQUzBd73AuvN/Cn5OvvVBdYDbQf4BNXzQ/n38IgL3gk0+En3sP+w+939gvRv/A3+DfDu7iPriBAc+lH87AAG/1zxCPAo//8AK+/+5KbujfOl8OfyC/jm8ITisu5F/cn9Juha6DvpRO4L71j3/O1i9ALyofA/+OL8xAQB+1kHlgSQ+PEEXfr1+XX3Dvk97mD1jO/t+Yb8KPyLBbIDiP2zBRYADQH2BbYUWBDw/h7+5gMEAkkJexV4EWcNcwkgBLgBGgPyBtIQ+v7u/JAFMwmq9tABZgRXCyr7uAE8CxL87RVjAIAUuw1VC7MHgxAaG7MhURrhIWUY6SREFEoNsiLIKz8xnDM0NP454DJ/LoAUBC0AIY8gHgY6Ci0LPghsCT4aIhymI9sgtxCZCx35R/jV+av78xIHCCYRAw6XDrwEnv4l/bb+LggpCJwQqAyzGHMNvAomEU4QxwHRDYERsxuvDRgMvgKZH+8ezwUDES8SmRIOBzMFrQPmCXcHf/ga9E0GKQUyFkAODxNwA+UPgAT296QHKhGUH+oamhwWD5UM4RQULx8lxyCRJv4iKxnUIj4f0xEnB1sUvB3IGU4neyovHIgLUCGGKOUZ0BgiG8YgTRqTJMocqxyWMUAx8BnBGlcaSA3AFL0b2iGBJugjNBn0GlMQxhQTHygZUBgAFBASrRTUGWwdoCOmE5Um3h6GDbcAYwjV/wwF8AMOBD0GKAl9DEECDgxRD6IKshD2C7gFV/p5/p4BPw42Cq0DzQfs7238fwXQ8bX76AibEwgbhx+zFKf1GPwWEqUKgRZcGFkc8xTRFy4eMRhyFVAXQAZGBTEXhxPSDZgPQxZSEDIBNwzNGD8gZhfSGA8l4h6yGDIa+x9YG+0brx/QHCQN8wT3DYAUPRDmFOoKrAdyCsQDahajHAkQVAGE+TIIYQ4gG10ZECArHzkXHCQZGmIbaQ9hCVIA0RDnD2wBHQKwCjL9GQ4s/lIHiAy+BuAMRwNU7Pr/FRNzEG4C4Qq1GJsQpQenCpoPbhy3EZcN0RCwC+wVyBP6Egwe2irTHP0jvh/mEFYb6BqVHi0ooxasCFgXQBN6AsoF0wWbC0MTchGFGLwQWwJCDVsNtRoRF60OehIJJfMmSRieEQoePx6DGvEW5yE/GDkLDBGgGMwMPA8eDscEXxO9FXAgaR4RHQ8Z5xDqE/AMmAVcEFMUVxgiFrUa7BPwCMsC8QOwFMITpRS9H5IbuRvvD3gfjB1sJB4g1RzgHL4fxjF9IsopYTVQHcgjLSRqHtcbXhBCEkERNgf/D7ILJyS3D/79sAa8CHcV9xHsBoYNvxWPHqUOwBg+GYcn+SRWIxIgJSkSJ7ggCinoJoMfsDXqMe8hvR5+Fh4jGipUGbwToA4UFz8h+h3vEdcLCh1EFcYLHweJFcUPeB7RJm4peB2IJBsidiXHIIQTJQcAGGYjaSFiIqwgGCSdDfUOvBVeFmEKdRW3GN0hvR5THhEZtSUeFCQCtRzrKnAeNBn1AzsWgQgND1IPXCmuHxQTewUAC1P7EwGYJage6A94Gc0kAyQZMHoeJickKugdVSIfFgciVw26FvYS/hhFJ/YcYyKiIEchuRt+Jbkp3BZrJg8XXx0fEJgSBxReIBohXCyBHacSZBioHkojfBgDHC8sAzN4NPY5jCLBOXk3mzHVKOkUOBeEG6sdWRxuGr4kWDG3H3ApGidyGOcklzIhJJsgciOcH4ssEh2KGPQPLCSsMg4bxRpgNzk0dSDJJr0pWi+bKeYjDy/KJjQnUx6ULMclIiRwIBEhfSQ+I+UVry2rGLYcwiA/IRgSih2kHM0VohQiHIUlVydgJ90m9TSqQphAqzZWJGc2aiizKfEnXh2xIEsizhcTJmotIRy9IqkrZSC3M9ApUyWrIHcmfinhHWwUHwlsF5AkIDX7IgwVsB2XG7QnSyZpG0MoIB7dJN8ljCd8G8YO+SK8EAQkUihPKKEKDAxMA0sd0yATJo8fMg8vFvIKABCkCawZ4Rj7FOMStgvFDNoTHQENAeIYzxLBEgEQWSGhMQYTcB5JHTMcXSSTKlwzKDE9Lq41+zbsK4syXSuyP9Uz1SJwGRwTEgmPEt0TyyI2EvsNFw3MD4cgbB2VII0emh9wMQ8chxzyIn8d2SOXGQYPNw9FDGweVRZoG1kgVwvkF1UcphpuF+Em3ycFLJstyxpSBcMatBlVHesPJAw9FmQKaRmLLeYSVw7eBs0D1RtHEggS4BTCE0MeBR0kI8sxcB6WJ1Meih+DFwYReRGxCDcOcBlvHRokgx2gChcIbhgTFe0VdyKyKfMO7BUEHdwZ9RipFbUQzxZKBzcVYBdyKFIgvQxdFk8kfCIVHlYdqBJ1IBod8iUHHqQUNBNiD+sgAhuQGmMcHxW4G/EaVRZNKD0sdxy4KbEtrzSdMIUtrC9hPBc6tU8WQjVHoEdcPfE7szYZNKo8VD9FPw1E1U3fOv5BDkHhOsU7pDEwMlc9BDiWOqNC40IMQGtJSDi8NXw1MERAPZBKjkkuQyhO11/ASxZSYlHKTPVHfEzVQttFJz7+QL01tDYKNyk4dS/WLio28kKiQqg4sy1YHNsV/xIAH94xRCu9I4UqpS+WJX0alSLGJsAp8ye4KcU+EDMFKTcgEhgQHI0K6RBrFggV/RseDfIPlyEgJbQSzQ1KAywVyAjvAhAFWRtfC6cOgBc8EXAK7wr+EYsOYiDSGuYjjyQJOGs64y+RMYstvj1oJbUqdzXPKCQocSNFIGwYlB8CGNQVOQtbIOoOuyMAGHQaWx8VF7YFGQ4JCPYVtBtCGcUvLC8GIlkheSV2GBMgfCkpIWlBHjteOI0s/S2LOGE0uytbKUUh/B/hFTMYfRMmIQ4Z0h5DF0EO8BEzLioepx58JM4oyS1bK3Ak2jOXM20WpSVAIdUhnymnJsEbty2kFd8hfCnDMrE67iWxIGcb+AsVCI0L8w9aFrcilSkrIqsbkhmQCVgMDQSdAvIMERlPFu0hJRtiGsIOfBtEHYcfnxp+L4ApvikxLN8ttClyMwwrRiqTIHIYvRv1G/UdYym0KVg0yyBJKokaUxy6LOAi2iWrLFg38RiFDGQZZxUFIToLXwcNHn8T3Rp0ECAipSoQLKgcLSg6GQoQ7g93Aqj+7flj80IApg3JCGsQGRFsDfMgkhMDCFoIsgKxB8wIQQMwCwEEmw29CYQStQ7+E68MwRLLFhgNNiZvHkIkzS6yKFYkNCwdMEEZZh66JhInNxcsGiIbECEoF58nHRx9JHoffhu4DWoHjxJqBRIPjxA8HOsShxrxHRUaqCGwHQUWaCLrLcowvSwTFjwG/wkbAtYCjAGhAmsM7wyPJWArHy07HG4m4yr+JlgoByw7KqAhdBFvHKcX6CFpLrosVzjlM0A9ZTGENgcy4TEALLEu7jrzORI07zkRNA8g8CD+KWAvnDo7KswUFRSvFagalBntFiAkBx3eKlso8zS0JFQprCr+KdM5Ryp6Mv4uMy9CKEopuSWGOT4rPiGEI3YZ7h82JA4fqRwxFDAdsSEaJywxXyL4ItcmYTSjONA5GjP2L8EaHSYdIqoS8g+UJIUZvydsGtwQ8iiZNyQWeAtbEMgM1QwEBbkFPRF8EiUgphKKFLIcQw/L+lcIPw+jEFIVhST9ETQXayKpF20iwyo3HXcYtRY3Cm0LugCpCrcTTwNlEkYQEA79AUYAp/1TChIK8RqUJDcmXh0mH3sTsxJ7FF4iDBzCK1QYlhzQHL8iYh/0IM8kcCzXF7gRWA4kCdsZVRAuBLUbIxXeG7cdtxv/FBsO4h1+KEYgjQ9wFLEZByHiH3oZORmjIZ4QWSPkE0cYjxcRHXUT+RP7DB4GaARLEr30uhHaFrkNkAwkF3kTNQ88B4oK3w04D8QK3gamCHYYNBuxGGoiohvyGhknzyPyEYkP1RJZAmv9Qws3GOgV8BvNFv4KABP0F5kNWgaUBQULvg25A08GyAIZAM/90giYFtYc6v2kF80dLRQ1Keca5hSGE+oUqxTOGDEWyx8KGDMW7A03DOIalQ/PMRsgZhl8HZ4UqSJVFW4NKgiDCl//FwGuDqUK4BH3GW8GlBO1EGIYeSVGFlUQfwsGEsERyhokGT4YixQiGqgWdRGYGUQgZxzYGkMWQhLgEBcA5v/gBqL8WgvtBwr/9QI6/zsFRQjuCAgU3BIY/PkDXwTNDUkPpwD0FIkJgBZgE4QDNwbu99MNoRStFz4NOQokF8khex0XFdwZkBZ3JxsoxS0mJ2QUhyAuIV4iUDGrMRQeTAjKDasQ8hCYFbESmBU+CFoVZBYhErYKwARfDPgT8w+OEcwm9Cx6EnsaCS6sGnoX/xMyJ+g6yiYFFU4UhxZdAb4MmwOuCfQPtg1WDbT9tQ4fCzIHfwgV/tz6rfX5Ay8Ev/QNAggMpw+pFM8NSAjkA84Cvwdu+Vzrl+zV+vr9CfcN+gL7IAAzAUMAQACK+a4Al/WX9hz3s+0E8y78FvnKBg8NCQvdAu8HQfvp/8QKOwoJ6an4NADZ/cL4xejo8eP3G/53BtADaBQ/Aib2JPpFCWUFHQAuBjsDyAj//OXsveo/9KL6evG57DHv/+617Uv2P/OJ/nj6XQCgCCwCGgGFCZELcRuiGx4BNgtyDvclxCO7MpMkWyWIEh40ZzisO6E7PTC0MSIqISMxI/Un0CUwH64mLSa/JI8iUhhYJYckTByNFQ4ToiJkGeMYXx9TIZ8X+R5mIS0hPCTvFCMg5B0rIlIbhBNhH+X/fhOY/c8BgRZwEJ4m2iFBEzgNBwLqDwQX3gkNGSwOgg/0FswooSFHGuoUqBhBHiQhix+AF1IUiBaoFtUB2wmpFbsQDxupALUJ9xhrAXkGmRRrFFkPQQzeDjgQ1AeLFXoe6BM5F5ccGg05C6X7KAHkEcwTNg6HDhgSFw5/EOYXrg8RB4AUNhQ1Amb3GwFj93f8mfkPCfz++AO2C58EZPyxBcIUugPFCcoC/wSLBcAJzQkRBi7/S/s5+nXxCgB8/3sEP/Y78yb4jfkg6jjxpAKs+XoGRQMy8aHngufH5zrg2eWq8evv/fbU7Zz2x/Wr+zv15gSCEFobyRFqBXMPdBy/EvsVpB9KDCEG6ArrGMEXJhtPCZQDIwqMBTgXiQiSEvwQ6hOIGBARZB8CJnAdiSQlGwUZLB8CHH4ORR9gJ6gfwCSGHccpOR9tLYA21SzMGykcVxulFBgdFxXWFbERWRKsGewWrhlsHf0WbAuREtMKQh63F8EEbQmJDaoL5wUA/lIFUxczA7MLgw/29jf23/tn7cnpM+pk9mjznfin9kzur/Zh7Vv29vMmBqf9JP5t85L5/fxA+h792gDQB/cORPwY9yDv/+P8+S71y/Xn+az0AgDi/boCgfuiAML6cvsNCkb+xwkTCo4AgAhfDPgASgQp/rv+YAeMEeQUyAoxDW0JCwEs94D6jwAVBSgDDAMv/qH99wDbCCX6DQDR+0z7WPfZ70XsRvy/ByABhPZj/Z4HtwVXCPYCdgRMDC4AShiZF9IBbA8PCUQGkAULDgkCaAEe/iwZRQ0CG+YbwBS9B2r9UQfJEGAQYRJxBFr2fgAz/f771vpI8xz9Cf6+As0OTQPuCDkDEgjuDZsUyRJjEKb57wTABQMHuxcqF18J8wDgBZ8RHAVhAAT1dgVrDiEbkAaMDOwRtQvACB7+DgwPAFX/LPclBikAAv1vAD351gB39Nb2ZAvjA+z+pgXF+CsJ4/6HBTAA4f6yA1YKngLp/Ff8GQVgCKQHEgMWCwME8QayBB0FDwB2DGcH+/t3/lIDQgXl+7L8zQaC/14BSgR+AXv1aPIe8xP8vvaBBKUFmftaCo4bYgsuDQkZ6A+eAZMM7QOWCwT8dPlbEy4ChgF6BxEMtxIxCTcHxwKy8XEPgA+sEdr/WPXy+6kF4xZaCNsDBRG5FTQW3hepCwUTOw4YDf0MQRKSEegVGhTMGq0K7vn06vH8aPnv8MICkPXj/EwMPABk/KgCAg5fDqEIBQ7q/ZMBqPXy9E7wH/wg+GsQBgk+EiQXNhyyEigID/oGBhACJgG+AbgFOgBk/AwN1RQpF64QeRhcDVko1BuzERgH+hDHFEsNYhpaDYn+yP7qCNEUbw+qE7MRAQdeEGkFdgVwHMIO+QdkBvINGAxZCKkNeQ/dERMQrAx8ECEQr/gp9tT2MfJQ7fzuDuZk8ZT4YfR13GHqUNvN6vT+ogj+/d//UAD1DHgQwg6YDR8GVAgBCbwfmxFQD00SMQ3TCgMDeRvoIKEjBhvQGCkSuhEhBUEOYx9yIsUZXRdHHXQUsxSTEEMWbw7FFE0XDRGYIOseVwy7Dc4SARaKBtz8ffdKEm8Tmha8DpMTexsBEQYrwibkHXklHCY+H38OoATLHzAUxg/LJu0ktzY1I6saPyfGFi4VORwPFGgh4BViDvUoLBx4DQ0bWyAQKdc1SCanKDgdyRV3JWIrjyTNGMAdPBrnIOUp5CNgJycrVTDKJsUg9xtAGRUenhGZBT8CdQVSEsIIoBWV+vv+Wvi9AmAUMA8uHTkYZhdpF+0Ruf2o/j0OQvuP+eP0MANVFRIjnhuEDI4TvBgzDaYUGgmQ9vUDEvTb+2n+bwVcAEER0AjIEpAl9ghZAu0BZfZ5/gX9vwEU/93ySv39Bh8OZQp//2YByv8jBJkA0O0W92HzBfRR/S79z/Me7jL8Y/8o/Un4fPpZDasFAQgbA7YQrvGR6X3sx/nL8+XsofBJ6L70swBSAfsD2vk0/u/5d/vNCrQI9Qab/83+VP3/BG0GsQDAAQAK+AxVBggEBAdeB/72mA1hCZ8NxREaBmwQpwcwEHEB4P6mCScSDxOFAlH+OQh6DlgNSgpEIK8V/RPkEhH9pwBQCWUHrwpqFPcSdBTRFjsQuBODH70mWB55HLsJggyK/zfuhP8NAk74U/2/Cnv/SASaCDoIfgRR9H8HseQh8Fr6NwgD+0EQqQEF/tX7jfSw+eLtJwAfClkIkf/tBZQaMhJl/775sgS9AYMLbPjGCXQKjghMHr76LwFmEL/xugLf9tPz2vTWDhwEQhDPBHYKGvmJ+IT6t/oP+GP6G+nM8Yjvz+aZ9vrpF+xw/mDxkvRE7cfk2/iH85EBt/n768b7VvWo/doMbQ30ABP1UvxBAZQC6Qu0HEET9A7bDyQCKv3nB4EM7vHD9mIGL/voBwD+yf/I8dQBww3lB9UDdgY+/84QHgXq/gIH8BNjDvYf0gOKAn4TzgeUD9ABr/vtDJ8DDgyWBe0Bf/seCDkN8Axo7dHkZfgk9HD1AfUT/N/9JeSL7+75JuYs7wn9s+116SP4IPeR7cf1DPb4+xr6ZPIL8/b0OfQc/kEAaPK2+8H1fe+dAWsCKvnUCuv9hP40+mz7VfksCTAJoQktDSD3tP+++Zz6GPvL5l3wT/V74t3scOqG7wHvi+r08mv00gW+/OsHXQCX9Ivyd/Ag5JvxsedS4H/ssfKh6wnqy/Is+r3wlNzRzSPKOtxy46PN2dFgy9bXU9kw1qjYluE52w3bVNqN5iHbxNW20lPZls7j1wLa5Nc14DbkRuLi05zfetts4czOhcxv0SrJudqb3qLdIeZC6zvgvOZJ44nRyspj3PPPcM1402LTQdWE5mPe5OPd26fVouUK3UfeveId2BzBjuHE3OjjpOdp20vZ+d1f3VztudiA3Jb16+Yf5Pv0D+Za0z/TgOLl3ifv3e666FPp2ery/FL/9Pru/5D7Rvcn9tfw1fz/5h7w0OUb4xPp1/op+BoAdQSdA3r+Z/IzBH738vZl9nf4WN8z/EoG7Ae6/IQKqg909xP8oQMP62f1Rf0g+kr9D/TN8vz/1PMo/a7/Mfov+uEPa/Ga/Jb03gcD+c4BJP3z+T36c/7MCJz5xwvl/ob44AP2FjUPthHlCJ0UsBaQDz4MfRYqGJ8CWAR7AfbzDv0d+E70+/sC+ccExPPj7YP2kO1K/F75MvDi9cb3UfYABrsPawiL+/0KnQICAa/7fP+hBXf/EPkGAnvzPvYG/ggFwPxiDVcWxwugCAgFDgClDQ75hwFREIwVUQJfDsEaoAwVAmcLpQc0F6AMiwZiE2wX8/29/QIA2wtN/dX+hPe0ASYXeRl1GfsQfAw/Gs4TlhddEkMXShiHFyQdjCLbGmgTMyPPFUcX4RYBE3sVTg2uEK0V+BPnFsAd0ASy/VwbHSepC30FUvYZChwZwRFjAbMIyAgAARMI1wmcCuoBHBaQIW8LgQ4QA6z3KwI2B7f6VfpV/rQAFvxKAMP0iAkyAt38VwjBCe77+gnnFXsCqA38D8sYpBD/DBn7rQybEQMK/fjHC2oPkAlRD4r+jP27BfoGAgk3Bjb+JAbD9U/+f/on+Av/YfRp/PgB/PaR/H76agegA/j3hQc8+zYNOQd0AGP/dALn/HQAZP+S+oAGi/86+qbvCfet9tb5/gVsBokIvAcEEKz8cAEBCuEG4AlJAQv1GvOL4djwwvnoAEYOfQkHAwn/cQDr8X37exFqAmj+bwHAAy0LSAr/B4b1/O+N97juKPkM/osEuf/wAHQB9/6t/cnxL/lV8+sWbgyCC/sLXQ3WESEXQgOpBocQRQQCAeoSFgt0DYMLAv7YB6wJ7f6Q+qINkgg3DCUG1vtJDDESrB1WAtUXrQgTCxcBuPz/DGIC+AVGESQU5hDgB7D4kQOt/m0FYf0lBKQA+PnGAHwXag7HF2kPJAOLC5UTSRkQJOMGngNbDE0GwxVGDkT8VPOIAUsSxvwfCwIB3wgq/7v0Agy4GAgkIRYPDlwPPA6mEYAMLQk4Ajn0jAFK/eQPkwsTD/oLxgymCDT/I/4GAw77ZvB6/fICmf8o+MT7JPw0C98OWxDfCIcFbgU9CqcTbBHEENkkDCFXA3kT+xOXDlUWMxp9EXwY3CngFLgXcRhMEE4IlwRBBpf+6QA++6IC3RKJACIBbQtX/pwQ5gMOEMUIcALBAuX6yAxSD8IACfR6AgT9tPUx+kIIdQzXBzcSdgcqEO8MAggeALEI1f8LA/cS3wAn/sX6xPA69ZvskQCUEi/xkP13BoTzywxD+2QZJx9JEdgXwxIFEfz4qvIU/e39dQFkBhMC6fEK82vswPoaDUIPygOhDugR/Aiw/7X5gflK6p7pjewOAk0ICRNsHq4LDRU5D/r6EALiEYwK0g9xDHUF1BUJ+cD/Qf0C/WYFdhHOAF0H5A0rBLMSHAnZG8kOLw0D/sQEhfiX/En3FwYcBC37iAdPE1AA+AikAgYQ2QubF10RNA7oCsIGIQt9AEgSTxOoCzIQbBuuEXEIwwJwDhseExnICagCpAW/Cp8W5w+4Bp4TVSBkA/gJ6BeUFJkGIAeKDjUJughKBhgMvf8uCHP4AQZDCUsNzBmFCxsGzxClErEcHSiWICEfIifdHDEalgxSGNgbWxbPEB0Neg5YC68azA74DosDvQdU+jIGeQqcGtEFswLdCC8Suw9nCkYEBBmpFoEQYiKBMCIrwhtbF3kUDBVVF6gfgxLGGrIWwxMoHgYndhXCG00bYBmLLGAT8Q86FZcTtQcCDCcF7RhjE8odvCdWGWQi9CMFLO8fRh+NGHUTRQrPGRggnBh7KbwYXw+SEhUZpBaSDYD+MQ0lA/MDNwLVA3AKjggBAmILoA96D7kcOhbYHAETNRGVFlcMtRj+Cm777v1n+HP9tftWBJIBbRrIFsfqQgGy/u8EGh1ZFEoVdShjF1kILwld/UMF9wOEJDsVsv34DrwB6wFBBE7/z/Ej5x35YfYZ9QbnVfXx/WQW5QGuCfoAEP+JEu8YShopFWYTCQgeCBgRHAqND20VGRHFFDUN2iNqLCIPsA8lFAcRFg1pEwkM3QpyEmwU2BJdEDUMfwGuBIEKNg1d/5z3pgQsB/4FdwLLD+QbYApDAlMGYQXCCOsBCgZyCUoCRwIOCLQA2Qcl/5MIIB19Cvwc+gscGfAbhhgrCP/87gWHBCAdoB1vDpYTrhbLI2MFRxJ7BnMUDgerAPALhPtRBfwN8ROxDUkDRwnZ/IADyRldFXAH2fSZ93ICaQUjATEX+QnPBJ0JxQV7DPsQbhgJECMUkQLTBUARoAqp/Zz6rQV3BycBs/5dC3sD6gGz+/cWUAayB+USMgfl9ecDuwfZDAoJkxXmED4g5hxUCHQGGxTAAin93QVw8xwBp/Tj9Sn7i/90DugF2go2BcEDfgcICIH6BxAmFHAPmgpZDa8Fov7J/aoDAw82G8QSxhVGF9QTGg89G8oLBgoFHKcQpw4dDt8NERm5FI0IfQtuA0AFbQGNBd0IZgu7EuAOax/sDan8X/td/m4KSAeP+Db6Yv1794n6wANJAob+HBlCFwYNdA97Av0IkwgjF1sDzgdcB2L96vqFApsFoQfMB0oLxA5LErAX0grwDUcNLRCqD6YO5wv6C6IIBxFcEz0UVxNgC7QKHw1DDMEVEAebEk8drxoNGkIVTh+tGtARMRElDqsYBBwXB4QGbfzH/gIJmgfA+nD+DfDH7T8C5vfv+tj/wAZ7BQkCC/kg7UgT4Q/QCisEo/xQ+0MJ8AJhDbAFPgCB99wFCgbQCGQBAgah/8D9egAAAcsEkhlfHL4i7x1fI4MNFwy3HAz+jgP49BQMJBFI/goNNQ3MC8EEFfM4AJgO+Rh6FHf5uPg+ABj77gN697b8MQgDEwD71QwjAY8HhwlkEIYEUvxRAsUIvAYK9AoAMgSCAWEAdQpY/Wb5Yfp3AV0bPhhcDKMATBDxHQcRCCNGIPEflyBRFmU5sCWfH9YtUB+zHvoddRjYE10YfAsQFdcnVBoZEgoLChL7FyUeBRe1DuMP+hQzB5gN8hRiGXgQkRO3NYYivyUVGtoWIhq0IMMnfBdIDzcRMRIo/jEOHQ1FGx4bCB9LJDUu0xgmFVsLeA4ZDEwQFBlbEikDTQuECNISkQXgEvcGqBGgF9cYAxseGiYjGBDOH/cIFAuXBL/8oQPYArn4GO+1AKztOfBb+ff0jfnB+b4KNAUVDTkKnQiGABQL2fm3D+IHXQAJABkCbgK0HsEd+hGiId4WJiyyKPUf3x+HIngctBi2G60IDg4N/478OvOPBdIDZQ61EMcORg5xFHgWPA1QBhYWwQlvJSEWHhAfBrQUkQitGLoUGhX1CTofOx/eFWsYNwOr/UUKTA9YAS8VDiJHME8s+RvPCTgRQxA7JKYexxhiGDMb9RsmFj0axh2xIOMfrBFrFhQkcQfqIH8WNBN1GWEjsxv6HwEYVgBTCAIOAg1gCxoK2w6LBIMKvQc6Be8M3wS3FhoMfxFBCpYLZwMcAYkESxXTELEL9AoNCJca4gHRCCgX/gN4HnIMJSQGHYkFUBpKE3MRaQ3tFDYa3w4mHicRyBZbE7j2pgNmGCoaNhiAJYAX+BPhGBMVDho1JKIO8xfxG3AcExXQD3sLphXfEh4aLxwdEED+GQ2AG7YWrxDDC8QLmRbMFZQaHwTF/2/+MQvL/hMP5gckDTb+2v5TAVX/MA5lEo8XKBHjDYYSWBikEjIECQ0bCiQTYQ9zEtIMKhWL/kAJhB6nFIsdMw8JCbr/QghdCCwKOg9kCRUHCPXo/+sWOxaTHP8V9AaMDaoZzwZyBV4KSwyACu8JoBrzGDEXOAdIEqEc3CseKgIXnhHKCVcZ9wlpC7kNPA7NEyQMZhSy+lEHigo1AmD+g/67++/7kAMV/yj9Sf1BB4wMsP/BD28D6At9FSYX5BlwGFwJug6GC6gTkxDGD2Ifnx0LDeoUoQoXAG8PKRnSE1wUmxAXG+UKEggwFboUMRk/Hh0UWB5sFI8YRBswHHYTSgzEFdATfgzpA84JcAEbBwAAMQzWDQIV2ADyBX8DdgyPGcIeeQ0/CZoW7BdZJ68X8gtdCawcbB8hDnQG4gUoATkGlwkjD0Uc1g1oBpwLcA8sEIITUxl+LIEyMxdZGT8vkBmdD/QLGhJrCQUW9/7UCi4B2gQy+0wE9xSxFvcTBBszG1Yi6Rn4FskWfhfWFUIJKAbk/p4OCAiLBaYJ7QdeBs3+LBG4D08d3hWRFh8dmxbXEEAWmg5uD1EI7QrA/tgcuRQNHZ4SIBszBy4iSR16GIQdLRU7DIwNEQ5iGE4WqRdUHgceqCbZKoQXZhrUEFwugyObCVgMpRnoDRYu1DklILAoWCG8K/00A0A8PmI1OhrSGjAhPRJuIOYhkC4+KtkVVRS8HRohIBnyGfMWxiCyIGwl0x+hIR8hNBNHFwsTAxZhFgoRgQvCBhkLqB+mGWMgxRZ/GoEPJwpaILINnRn1JWgmWB+KGy0UvSBZHhIehi7GLzEt5CsBLgQtLS+aMR8s7io8K7Mp2BV+I20l8ybYJRUbvx/uK9gm3yxpJ5g2lTLRLEc+sEiONiEwHzsJLmM2HCp+Od4udDK9NTw86TjpRZg/Hz34Mr46zzS2MulDECypOto3vD7MP0ArYTeJKiA2jzswPHotWir4NHM63zDSRFdE9Uc3R5YtDShdLHc0eiyNJc0vfiscHd413htELnwptDGMNIMliB/MIR0Y/BzkIZMbxArMFTIONR2VIN8cDx/yGEoczSWMLtQg5heMFdcs2R0jKAkZ1BpHITgitxM5F+0e8x7UKYcwND3pMLMh/SuXKCogxiLVKxUZCxp1HqMdvCa+G54h3inKIwMqQy5MJlYohiMRFTAQHhmDHV8RkRJjFMAhoRrgIcwiJSTUHQYfliJkIGQruSC/HAkRriBuHkIifBjUKFMpSi2AKXArzyOcJfgfzx3hFmMkVyFCMAshfhd1F0IVACCyKNMtLho/JZ4obS4PNhA66S5qLNAveidHIBgjRyPbJf8wRyxZKK4iZiQUMW09Vz/DIXEVFyJhILcgYhqWHM0fSBmdJtoiiyzcLl4t5yg5IMErijreI4ojSivXKrIm+jRULTMjCCFZNzE0VjZgQjtFaTJnJNgf1CfRLNoo7TLTKm8prSqBMiQqLCXaKiM1JS2rH68hGyurLJQoVDCwLw4tgiiSHQ4kbigXI/0dsiT7H5gdURf8KnRDvTZyKl9HujorLQc9X0bNL20yPz8IMfs4qCRrJh0yKiosLQAwgCScK1QlLyJZKAsqTRsLGPAPGx6hD4IgYCdlEysNqxTxFMwWtih+KlgfCRr8EhcZUxi9KOMqwzToLgQmZBjJF3sZZCOJJEIjOygjKDwiixZrE2AXqxsSFW4qYixXO8QwfzLbKs46bzeeMrE8ty2dIB4yrzDtI58eqC3mKZ4vMyHVGr0ZcAlvBtwRRBPNHnIexBceGB4DVQ1PJGQm2hesML0olCvvK1sosx5BKDQpaSdVIYMqTjZAOlUqqygVIyQhbTuuLrEvdCaxPRAv1zTEMycnGxh2Ji0q/jJ1KKcZzh+JKpUwiBVcHvUlqC0cItcedRezF1QVLBQdFcEgQxqnHcUmxTt9LU4yrjMSJogwhiP/EG0KPAQOG8EJgQ0mDh4OIApAEXYWHxELDdwZBB2sHtYbcCQpCaEULROmGNIQ7w6gA0EMswviE5II0QgHD+YG0AwkFB4bkBCAHrorFBXHFjUOFAzUKlEfvQyfCQsFRQ0rEKccVCEOHZYbHyoOKQseoxjvFqQVsBUDFJoeXg4iFzYWKx02EjwmxSwmIycM9xcgHxAgOC9UI6Eceg3iGHwa3hh0HNEfUyl8KPUwfCTIHuAQBgsDEQwOTQ+HH9QihRcaGlgn5BvsMecdjiCbG3sShCVGGH4O2hhlMwwimBKMGxEWCggHBbkN1B9wECUQXgn7EDUbgirlFqEoFyEeBWYYjiFQJQMuzSFhFUgH+xPx/g8b6huqGNwWYRKbC98TJQbDF7kYDwVXEQwfxybnLWMpgxvKGzEnbyqMJakeMiouLwg0xDIxNW402StKK287VTiHM+M8bkbXOUg0aCq5ICsrMA+3H9UlATDEH7kQFBdtE4sddA/6DZUN4BwBE04RGBghCLcO0xKEJfYWiSejImIbOiSONXQ5xSqGFnIOWRAXDbkTIQyeEdYjaRpMJeoa8xwCIIAWKgkaEcgP9iQfF/UoqRecH7MXWRprCZoHrQuaAGoHMQq8DuMQsw++GlELYAcZ/9sZBgXMFc8eyiOaGcURwh2KFI4H2goTDEcM2xoDEN0LehLLEMMQmwklBjAUbhKMDAwJSw31ATEEOgiL/psDiAz7/L8B1Q+f/z/+cxNFFuQM1wofEfQf3yX0EFQffx2oDWEGzRT6FxgbIRk1HWwUeyeoMFMaTSz9C9UJnRT9CUUOZgc2BukRB/vAIEYEagbiCNwF3xG/D/4MMBK7CSL9GgEQCacDhgl+GbMSJQlNDH8R5xJ5IEMWcBTHHfgvDR8hEXoN4QqjFW4UAQVqDlUNpQimAl0HMw/KDz4jbhy6E1IMjRJpGCod8g5gFOICOAiHAogPEA0gJRAffAK1E1kiiA/yDwsV4RRuBbAQ3AiYDacOEwApBewE0QeKEIQSRhegHQYQXRXZGFgL3CWpI/IKiRayHwIlZSRPJU0qVy02E3sjESB5KtYh9CRHF40XWBgOEVoQFidRG8cgFBgSH7sUSyHfIa8aPSTIKG8ywysdKGUkPxwIHjEeUhiVJrEv1S38M7Uw5imGJK0NDg6XG2sSThdGF08OQAbkEhoKPg6GA9USdBi8LnwIDg2SGBwjwBI0FfQRAR4DMN8S/wrqDIcekyoaOw46BDnLLIAnvyv9KIEVBwZJEuEVtCD+Bl8L0QjzHJsZaxr9FrQWjRMeFsUMzR7+GlEdxS8uJY4YoBZSEn4SuhYSAhL/d/8lB4oMkxDnB3ULjfvF+AH90wqREsr/lRGKFLcUZhKdCI4ZCA/UD6gPkiHNEEgKEBXJF3QeHwzMC2cVTAywFF0Rnx7RG8cj3RieIEUlSh4CH5ocmiW6GYEZZiJfG4sGlwp+DMkb7AdYEIv3qwfyCHH5jwz7BuAIPBbfC3EOTxVZEeQavxnbEZsNZh+cGJkfKCdRGGcgyw8UGcQQDwnEIMIQCwwAH8oebxMwDY0e+BXNEqUYjxHYGi4e1g97EJMddhVIBtkSMhgNIJUgNxwbG+ETBRpjGaQYiBVPIZ4mWhbHHWwQCiTjMO0tABxRCl0bzhWaGnIchxeQIi0ObBeEHTgkuSXEHV8kFyIlJn4d4xXwLH0mLxxZJicYqiKkF0YX6wsCCrMRfRBhDAABDwigD9UbDSBWIbwg0Rr2FXsjdSSCLnEXORMVG3IUpxebEV4UDxuFFEQUXwRMA1sSwQvKGXwXEBl/Dwz0YwY1BQgSBQPW/9jwgAQZBvgD3RJkDy0OVgicB2YIGAInAzwGSQ34Epkgpwnj/VkT+gMPFYYQixHgGSoOHwvOEUIMog8cBQoDAhHaFaIImQUKFpEa8QwKDpQZMxnxEXgODCD5HtofyRb8FVUR/hiuJwsX7v68AWQIHAgeB3D5nA7XATAD/fz3DycamA5qDNgF1AKzAmkA+vq1/uD5OQn4D6/87fyXAmn+mRClDUUHevkXCeMI4Adx963/bApFAsTubPoWDngJevpB9wv/L//0IsUWxRNmBeYHcwtvFW8Zdx1mH/IZBCBgFosXSxeXD94SGxArH7AJNP7FBOYByAOD9Z701fxyC1wB1P0rBr7+G//0APDzffY86aHfifEQ8BjxvPFE7Yr5/vCf427jtOz+4o7rhvAg5Dny3PY+9GPsh/MB9Z/s2t8L6ermrOEq2p7SGr5i3jfkseqT3OPo+e7t2W3X4+Wh49zkkuzX1+nhJeIv4SL5gO1J5FLriupG+IfvSOJB2pHmrOqq7/HzUNws513OA9ZQ4t/mHOZl357fGuQm9NTvauar3fnJgdd53mbbbd2D6ZHqYu856CvhWvDr9f7kztWc5wnqdelU9yruw/LK9xH5yAHJB28LVgbV+hL9U/ws7lX2BgDa8cr1QdzU4ZfyPe1P3jXmm/G13iDk9vHe423iLtj63X/Wy9c61J7XnNNt7nHsm+NF9xjuufPs5bfwsPIT7Pnnquyp7krwwfBX4rri5e3q4z/q2PZm6YX6Uv8fBuf9YQEGBZf84P739uv+tvps9H7wjf6H+KoFNhJjIUosjxuUECkIdAOxCOsA2geTAWcMFgKXA/MBTv15+ND+cQF6/iYQQRG0AJD8fAMmB9UVK/9e+AH1xASJAJj+EBDoGTwS2gbmAvsdFBi+DZ0MMgNdCPUJlA+qCuEBxf00Ge4ahCkLIuElxhMJBEcLtxSjD/4Mt/xA/j36g//0EkkMS/Vd5y32YezK9TEAEfWw81XhA9zs4CDr9e9E9IPmxuyiAPP8uw62BWH42v2vBg0JxgmeCAoUlBow/yvwp/R2/+AD4PsG+qX0ifhl8U/yCAk0BrkLDAsrBm8LK/jmBdgCBAQ09R4H+Qxk9bf5IfgK93IFgA7d8rT1auNF69bwQPyBCLEFIwf/8f3vFv7NAhbt9wwJAdP1Af2A/3kJVfw3A3YKkv9zAgQKJwLi/wIBLPpg+gP5jwdhBlML9v9rCBv+zwm4BOv9ofhU4vH6jAEK9iPzL+8mBOwAev/lCFwCoxDdD4oGsx3IEqMM1AZT8LgPkfwwAzD94gCYCRX55/hICksEffi5/E36OB2kCnwUUhnZCrIfUhzFANAPzhI5CBP+PAOoBLABzvZ9AND4f/9dBUj13gTmDk38a/8PDIIHbBfHF38YNxywFbMUXgJ6D5cAuwP1/oIINhD4EuYI6QTZAr0DkusG8dn+XfUt7iL7QPwt/j4FI/bi5XPio/Sl8+D6hen+4T3xyOml/1sDAgaf6s/1Nfx/CPEB3O3T79j6sOv44GDdk+cV9TPyk/D0/YMEZPaU7aXvy/xG+Sv+3vdmFA4Y7wgcGO0Sbw6UASYQ3hNzJIkT4BdqGr0S8Q12C8wJxhX3JL0XLxTOC98BZQBWA4Poi/3/BF8IP/me42/4tgmEBeIBSgfWGncVjwJ9CFwZ0RFREz0NQwEzIdIPlSuTDAkKmxiXIGUWyxNG/4IH5g7/EigNkwCCDBcBFQkXAW//Gv+39yf6nP6qABMMW/rq/10OZhGiC2EDFglL8uoDzg0aDer9WQBP/Wj08utVCCr9Avfz7gILVfMi8Qn6+wPI+YXxzfib+Af7aQLACtsAuQZVBBj4P/83+0b4xPe/+qP6oe8J8tr0jN8i7e/5X/Sq60v3zAHu7QHs7ARy92/20gGJ/XUFOgsPBJf6O/fMBcD3o9915sDfD+XB7pj17PNp8hvsNQDR8Hn3SO0z83vuYwN0Abr6oPrD/RwFnvYoBl/8lvyKCQ38Qvgs+zMLzPztBbQI0/0pAWX/OPgA+iYAQAdpF6kIsACv+c79SPl79839Xgin87X5HfJN9cgChgEK+aT/LvZH797/h/thAirqUO4M9Qz0bf6o/5X2Iv5lBtn26/S39CYSif6WAiEGVBG9CEgPcwNV/EwGHAi9/xMDL/0U8BroEfyA/orxywmAFrgAZglVIzIgihUcG2EqQyTVG+UTHhNB9SwEeh2DE90HRQk/D4oMPgwnAyADyQjg+8v9AAMX9xf0zgiU/0f3pPiB9ar7UAQX+Zj+vP5u+aUJCwaeB4kCw/l8+3f6bv7U+z7xSQLw6ibzr/sAB1UQnBLoDLIKCwM3A60FOA/OIYEPvBfIHM4KLQgw8Fb+DQMB/uf9URAWD7MPyxPvG40XNAwC/af78AOeGv0J0ghCCp0GuQzbEeQH2QY3BC30kAAU8gj3GulM8p3wpOJl+Sz07PAp9HgJ5f6zAhEEkAKiAJ4H8gnkCewXtwsNDAgSehFTD/YUJQdsEMsIzAXhCHsS3A8CB2UFzAohDoANeP2QCbULwx3LIOIW2hmbHxka3RKkD8ESrhHTBaAeDxoyCWgTyBSsGLEZHAxUAj0O1RpPHZ0Z2A4FEGcO1xKLEZUVIBViIt8eMBY/Fkod/xuUD6sazieoFOkg6x5UF68PVwEeAIMDI/7l8KH1fAwZGLAYbxR2FwAgTR1iFuwTUhOWEHwSzwxuE2cE5/9ZAI0OjwF7BRwN0QJxFakTr/qC+tkOn/z6AzsRSgAN97IGnPv+89D2efI7/gv3pe9cCccAghIXD7v7BgDn9c/3nf2nDQwMLgTS+gcFwwqQD9MJiBOMCoD+HgU1+twFdwckBFcDZfd//knz7P3Q/hXy5AP6ANbyW+0w/JkCpPw++13zvPBZ6g73qARwDOEMHyR8HaYIDQdUCnIH+wRzCp8QJg5EEaoL7f9eBhIJowddBpbzCPn4+3D2GhGQAgT5fwUF+yALjQFH+4EIHQ3GE7wa1ydXIuoI+QQj+tQR/A1mCJMYBCFPEt8NNASbCYAOhwwuBCIC5wOrBkoBh/1f/MENpRnlElAObBtsE1EOnB/5HkQqvxwfDrYLkBjVBjkXxh4sE9gL2AoODncJlgwXGpEN2wkoFpcLzwNJAaoBsA4GD1sN4f/xAmwMBxUEC0YHYQ14CDMFZxJ8EjEczQ79BOoH6w1tDIAHFRm1AoILhA0lEQwSphM4FXoYPxYAEvMPpQ+v+hEL8QmQECoKFQL3CzsGovt0CRcMcvglBkoY/grw/fcK8BhjDesb1QvICXAG+wwhIeITug30IYELaANWB5EG9QMqGqEbpxP1Ah4DkgPSCxYRShFYEUgNzBgsEokFew8QFlEouxl5DDoUsBnuFaQgXBulCEMM/AA7D6YNNg4BHzkg5hMaKfsazxPmI6cT3BNzDqQDWgosBuEL9wyKBqEMHBseFssQVAUAAiv/F/6zB/btQ/j76G0FIQcJAivvGf7k/XD3zARV/lH7Q/pB/O3t8gBFANDzVvTd9soF/wObEVgPLAQcCgwWHCQhG1kerBsMBAkTYw6pG+YTXRKWHTkXqR8gE/AldiNsE/sfBiThKnwqACZQIWYZeSWPJuko4ipxLsYemxqfFScMvgeAGjMWjAkgAzUTgSFmHDEcwRhxGiURyQqSHXkbKw3HE9YQbiRPD/EQMR34G6sXeBxdDMcZBSI3KQgvMDVXEVgZ3Ro5IskYuRsDIpkNLANNBhANAA1FC/8QWxOUD3AbNBwbEzwmYiQxC6gOcg1nFq8K7AAkGZwizyIQDCoHlAYeHcYQsPOq+KoJ3ROFDowQMRTbG0QglRLsG7IfaBYyFkIY6RkGH/UZTxEkDLoSBgkbD9ALWv6mArz82wIfBA4NbBK6DzIBqAgkCw0fUyEhElkIAguzD3cW5g7KBT33ohYoFLIJoRHBGaYnqyTcJxcjCyRoGikkmSPFDtcUiwbtC0UMpih6G/QaSAaYEQMbjxL8C3EbcBXDIhoq+yW0Mmg2Yz+1QmsmsSi7OAkyXRp9DjEZ8B7LLnIlNB1IFNkXWxkgHWsTcyoTH5sVOiBYBmsQ0Rm8GoANdhXsGTYbVSaPGOwLwR3NHYMcsgVO/KEDWAXSH2MifSUlHZgQ5RtqELIWNxsYE7wKaQhg/L36efcD7Sv7nvXa+2v/FgO2DesVNw6o+ML70ghyEGoSixGuA1sLgwQl/koIT/zuABL1jQD8DSoMa/jRDRcCqg45HkwbhBEKBPIMEw0cFf8L6gkiD7oH3QjFBGf2Uf4nAqr3cwJ9+kT+huD59VUE6glqI4EY3BnLBmgdEQ/3De4ciRWIGd8fBhhuCVIVhRxiA9765QDbDewBVvH+BG8GJQl2EkcLzgEdA/H8Lf+Q+ZD4LgTkBC4CDBueCZwOjhIhCHMJoA2qBQYYlg7uGAcSBhN5CfwY1iB3IaEOyxe+GJYPnBfKByYeFB2mJK4aUxoiIZ4j/ijhKoUfqRbXGSAODgXFCfAVmBftFbEinxhKGt8Kxw//ENAkdwnxCboMdgvvGLwf6xGpBqv+DBEXCFsI2wcFHGsTgxRlGBMTYRbwH7IhDBenHf8cwSH8KaYk0h5qHk8n8S22HU8TNQQbBHsOLwxQE+sRtwcuEgYFaP7dD5AQIgQyCF8HdRHrBRIHCPgn/6kBDv2m/HDy9PHh/ssIbgHy+9fx8fkf7dv1bAQMC+QRagJ8++b/DA95CpD4UQ19AroG/w0dDTgGSwriDdwRPAjYAYwGVxAG/9kBT/osAwUTWxi9EMUUXAhO9B4RIQK/ABgDdgFT+Hn2teyv3wPutfGnBY7+I/7iEOj4vf8yA+gIXwcXCT/0Uec/7aPpAe+5+ycI9f7q8wv+AxDUDfcULgtgDs4GAQ49FCwLBAaVC/EJNwlTDCQGixCp/VQH5hUBE7sUMAlU+oEHXvP++woM2QRVCNAPRBG0D/0SDRq3DgsNfwiU7vL7gu4U/yftJ/yY/x30DABIA/cMNO9s6zr4b/Wz++X0YPoU7X3rQ+uF8M3use47/q356PCh/8n3Tv5bACTz1fzM9/LlhusE8pfgivJ+98759P0yEf8H3gG0A0QMSwGFALETGgsR/Bj+lvqoBA/yG+zW+DsEdvQ176ju0u529FgCtvrT/I3/ag4LC3MW1Px5BL4MDQ/FDGwSVA8ICZINEA9oE2IP3/ucB6fyx/XfBRD2F/1h9u7ade8h+dj3agOl9efrrAaF/HQTbfo3CHQV8hMHAwcMsgrN/vD9+QpBCC0B9gYGDGf7nBO1IOsSGxdSD2AHfw1BBSABUfkWAcYG6h5fBYgfshN4GmwWxhFZFToN/hQsGygq0BvkGAAOWvk0/QYIJRT6CpgVgRtgDBALRQbgFFgC7wqVBcn7mwN7EvEMMQrWBzsGawZyCKkT1wuKJ0ISJQVm+gAJsA6DDxAHNwp2ElwN5P/R+7L92Aly/IgCZRMmCkYQfw9yFQQAOgC49iT+mRWbGBYbofraDbEG6xHXDXIBRgHy/Yr6TQNkEDEWcRfQAAz/fu7v/D0GTv+O9yf7dO/J+IrmweYq+P/vNOt79J71+u8/+w3+9O+BDIDv8PC1/Dz/FvpN9Ib+HAHa/+n3/PJ/5ZnTp9bA66nfGOag5BjiXefJ3GLxHubm27jmKNnu8bf0kuwW9t7keOYK36DbVN6l3iTqV/VV5i7tbOIv8sTrk+d94KrlDd6F42/ip+UF0+jmKN0k4X7Xduh+8AbkctiT9UzxV+1b6q31mOOtz6jOjdhK3krwNO1q7Evs7/Of6cb1bfPF6Gfs0O2I6DH09+2k7anxsPUX8aLoLOyz8Lbzqfix50b28P3T3gnyvOTy2GLuy/zs8ez6Pflv/q/uxP7k9HLdVt4H8NXuyv+D5/Xfu/W0+1/32AOv7Az8NwFX8vb+kfXABAb+z/DN+F/zkwex+GQAGvZX6YT7j+488pb31efL3Kru9P+KCYUDw/4NAE0H5RQvGPUHt/S5/xoE2fqGCYQW5A4FAm/3vQmCCfUUBQlyA4EDqgUQCGwQMxVWGmkWUwU/C/n2TPK2+gP5kPnJ/F7vcxH6CvT4QQFP/HsJgBN2Ghgh5CA4FyEjvw2KGqwV3RL9DAcMxxFbDfsLRwSVAIEL1AgD/mH8YALhAPT40PmiA1D+a/W9A9wUVf3y/nf2aATU9PvuzP++/KXzPe5s/Pf5UPei9BL8Svm46r3yA/kk9CkNfvtH8Q32qf1f+ogE0gOcAPr/VPEt9771g/uE9qfmxveZ9q/jQuZR7H3pzuqIAJ7v1/Sz8TzylvQ37SH37A9FA8D41vgB/DT5s+1V+ZX1uvqx95L0AfXU457q4/SC+YDrdP6x87gKS/gCAHr2UvrQ/g3vTPAM13/p6NI928Pzkuyr8SXuZuW15dr6VP4t5p/xD+a66qflQvlr7fDxVeyp70fq9/Jr6Aj9+/VA/0MEM+/f8vMMQgmkD1j2NPf294z/1P+z+6r59f03CLAFcgI77cvyQ/Gq/7D7pe738wDpB+yZ9rH0guWd7sjyK/IJ62fyYAR09OH9LOKJ+Sf6KvSe6mzw1OaB5SgBtvgrBjn33f8LACH5OQXm+hEKdP6Z/ZIJ7Pa68+oH6fz++2gDMf5MEAMR4xB1CfgToAfmBrMF5Qp6DN8UCxmKJhAl9Ax0Besaey9/GC4PLxY6BgAIXBD8KT8m1B0oFcYTnRzwIbUoHCY9HzwGaB2hJh8gdiuuHzMrfxcNHiYX7SbKEP0cLxzzFFMYLw/qB5sX9h3qJ0AaHhXQHacb+w2wD0YJ/AMJAJT8hfKpC0X9HAvn/Q0YtBvBFSMWXAMsBQ0Wbgt1Ej4FFxJYC1ksBRZ8CtMTehdEG2sCGvk3DzAHSQslEpIAkgSR8sv3fQFm/YwAWRSeBtAItgeqBoQCQwtKCBL2wgDwEZ8HaQYXCr4DzQXm/aECjvoA+yr6KQCl9CsPvRbRBNoEPflZ8uTz7wV5AAn+4vWS+Qnyfvdr/q/9tvPoBwAIChRsELr+VgEp9JIFbA+tGY0Ozw+iDD0TkgwECzITuxLKFzQf6CIAFzYFKQSvDUkRPhKDFskYOQwyH7scQxZMGHYq5TIdI7cTwA5tHioseCNvK5kaqiLNGFcbcQ93DkMUpwkDHO0SUyD6FJoZRA7ZCcAlDh65JOEZDAmxDFwPURqHEVcf5wn4FLn+lPpCBFH+vf+58WADIw5IEo4CYgZLEYQM7hdRGEwWcyM8KvghGBMUEoo0XR7RGX8i/CTFJEwWmQzGGTgLDB98IygtBEKcIwwIQRYeGYUPnib/HYQdkhlnIUolshatGhAGExTlEBcSPRp1F34XkBjyFxwgbhTpFjoWtxmQDN4JHg44CFQFAAouFpYLuxQZG0YHAhKIFGUaWBh2D8EWOBZsGgogsSW0EiMbiiIXGUQTBBROE6sYjAwdDr4UyhlDH3MXcxLIEHQQvRUjEB34cBa5/0z7Df29BQILqfcD+D/0zekD68jkVvufBJT9rADF/GcQiBDjD/wlOxSiCtQPff+x9uD21BCsBpcVRRl9F68McAoq//gDsQW8BRkCfu1F89kE+QEPBqkL7g+pC3AL/AmpEQ8cThJUFtweewfXDawLugSI/NYRzhKsHgMZtR4SIz4aZAt6G7ERVQ10EUMPFgqsDmoSZxD1D58FFAVqEQUQnw6wCDEHgSmfBJkFOwBWBeQJRf4HA8L/VgYPE/YQfBbUF3v/R/yk9IADTgpW9DEBLwcaDyAFewQFCksW+RK4H3IIShNgGNkYWBngDp0G9Q3EAi74Vv/JFZkXnBjEEzEYvQ7HC0X9egTNDiYTV/Mr8zryOAqxBf0CSgB191UPGAXb/MwBuQW/ASz59/hG99v7lvg2B/78TAFe+XT9H/Lo9qEG7fyf8jjzUPDN8nDz4fhM/Pn4Yg0LCAEP5AJT+5cHOPkf8mD+3+k2+Gzy8dvK6b3nHfLo7qD0j/QK8jr19+eF+cro5PYd8Qfx4+tUAsIDhvKh9prtbwG58nH1JfIT/2Pts+kP8iL0oQG8AG4JgvgVB8r+Ov0L6u7waPU194r3Tfwp+Pf7W/m+7B3t8vaZ6c7tpfwu9eD47P2S9yINQgiaAygKjwZ4CX4LwgXpAGsDLQzZCs4KOArGBnP8AQT39qfzZvtI/QIIdgwKD4sRpPrZ9d781wwpA74SFgwwEJMKNgsJBGQMkf1VAr0NmRTBBNgKDAOTAsb3QvJJAWr4pgCx/GgH1wkOGJYUsgIzCjoDoAwDDe4Ykwpb/AsQww5OHxUZ8xK2CcvydPu//xQHZwpt/bv/NwBd/yjxVPgiCOH9x/O47UnuwvE45X/2GOtt9gD2XfbM/5/3QBTgFX0c1Q8lB2gClgf5B/MJfQfUA6Hyj+yH9TPxqPpq7R3p+edv8yX1YfJc85z5uv6rCNQI2AQa95P29vdT/ab2FvIg7zDtcu5D+j7oseTe52f0AfXF978BffwP/JQExvLX81L/nwry9Gn3z+yA8CnoLO7E4NvfsuvXAPL4Ev8I+Rvw1u6C6ycCaAN+958Ea/+J+E74GPVo+27sZvam7S/uQvEV5GTumO+L6JPxVgH2+cj5sfDrBOcAJPHE9Afyeeq26Yn1Ze9t+R7vwfhA8t/snO9n3mfjYOgO9w36FO+t+bn8j+fd/+4EIwROBTsEDAhhCk7vIvA486D84fW55BXxQ/Nd+iUEtBrEFQYhUxl4ITAO4wzzESj7pfws+2j8GQzbBR8L7/lP7moBqgeaBRIEPgB/+jIEF/V78bHri9XA6Gn1cvKx9SrznuR47TDr8ufD7ev3B/0U9r33ZOuI3gnwMAV1CwoJM/lI8nv34fXy+LMGm/ym7H3xIu3n98UFtvOE8cTrZ+lL8Yv+k/cd/1LqpuWC6qPlQOmQ/Wn4CwfRBdkRlQyA9QMDww1Y+4oEIAUHCIMIpgOcAv4NxA1y/5n1p/wg+b8K5Aa/B7b6nfouADb3yvkWAfH3QfgtANr7PQeO+Mv3SAYPAgAEfAX2+4v9p/KtCHgIrgS2+YIKUg9tHDoSlwpgBOoG/QXOC3gEphgQF6EGSxLZCNwAlQ45Duz68AIIAxgHPAt2D5UZdRIWEtESAgxdECkcnS/TLuEhKRaVDa0KZgsyCKkJgP6ZCusUowfwBxwPZwzfGFkWsQ9fChIV5gwdBeT5LQSFFcYGGQzEDHz+dQa2DUEQSwchBGf9xw/1FesSNBn3CTEFXQKhBpQF9AzeB/ITlQFN/F7/MgWL+sHz+/jj+v4EfQwUBsX0oAJgCVYF6Q8dCFEPaAh8/8L+ihGKFkESYA0+D/YY+hZIIdsQtROyGjgK6BSPE+kJOAC+DasLVQImCcADQhsqAf4FcA4aIMcYFBWZEBUcqBwhFkQiHCAXHOYRJxhZIg0Wlh5pF1QOxApeDn8KlxZYArH4fBDKFfkBEBI+DcsE8/7V/VENZQNH9Hv9Yv+Q8egDG/MfAH4efBpZE7sUSxbTDMIa/hXKHHckqCFhMBksehiMJCgmoCjwIAAZXisjOsE2fTL4EygekCPvDhkM2BFdHGMJBAsnBSsNLQIl/OYKgQPS6iPo4fL09Pj7WvngABYU+hlIEFch/xa3HmoeJhbcCiACDf2IBkACav83AxYWbg+cIyIkmiNoGLcjeBugG1wL8ArnD64XYhAfDw0InwL//BsN5g0rD4YMMgFHE/sNMxjhEQQWJg6/AwoMKwTD8V33/PUd/lMHN/z+9S76E9947tD4NugD82/+hff99NL69Pwo/0IG1gEFCZcFqguvAr4KFA7qB+IQYRFsAUwLWhECAGYGnfk6+GHyKu6F8X7uxdnL4m33hvLD+j/1WP8N9MIGAhHRCO8GmPn4+IEA+fl28hX9nvTT8O7xfel/8IbtZfAQ8c8KQQMOGUogWAYsDXkFHRqcCNMBQfrb+//s1+4H75rxY/W6+JoMuhpCCSQOMRb3DcsLOAfjBkb/Qf5bCUsDzA/AFh/8GQBeA1cFQQs/FMEDFvWW+ofvdvCI7Qvwrfg699kLdQtNC7cIJCDuKcIgaSy7MM4fwCfLIcgbGzK+KhQf+wnQ/vMJKQAM+uj0m+nU5uHoO+tm/037WhNKAPb2sfnnBLsFsg35EGgPl/hO+pn/Cv/nBPAARwrU+LXt/v9i/Kb12Pqo7JsEoQG3/m/9TO9b9Cj9dv/f+KLs+9/O6Tn7dwL/CKb95wnXC2YVI//n+nHu5O0S8A35pvRv/RL1Uv2ZBL78yv55+hIBcvw89qzuMfR480EHtwM0A/j9NPA+1ojMeNaK4RjRStlZ3HXxyOpp437xeQL9AfkEKQcvFC37RwFD9KH/yAxgC0UZfRSAH0QNbhDIDX4IG/TT1FPeHttI8NX0jQB8/isTZwPKB68AYwfAFg8POhWfFLEbxw9QBJES2RR4IZkKyQZeBjwKQR5ND+IMWhDXGiQrliAzJiExfSNYI40iahAsF00YqCDuCdoNVe11+ubvv+c24KvfHPAyAcX/pxLyDgEa5iP2H38quTfBHQkq0jPBI3QLfA8ZCtwgzBdmE+gOPAvqLIQPFBooIocYDSrDD1IWmRO7EI8OCRxpGUchGiXlCwAHnBuQIjMuICY3OqYquCz+Jy8qaSo3JPsf3hL5HosjVitDK2QmSS1pHZkh6iovIksj0gUC+y71Z/K9/ysFKPW2BzcLbhREF64SEQzqGaEWvA4YAMQC9haXFj4jRx09IPsUnhG8FyIYXgep/qj5evTd6S/urfgG86n8OPqhCnUQYxZrDkoi6yEAGzUsuiiAGd0fMAQrCLgEtPpN6KH0H/mTAeAPIgRbEI0htxK5BsoGxQaLEs0OJxU7EIgXCBz1BO7/O/5d8ePouP1w/6j/z/2NAmL+lwrSDugLlg20E60gewsk+lf6Ef3W8Srvo+ok7IH3hfN6BKMLZR63Gekudx32IZU0xCTYFhMWFAtlAOELcQ8lFWj/KgseGXQHwvwvBJQPRw9dDQMRsv4ECKIS0f0jC7gTtxDpFtoNfh9QIWICnwcLCu8ORfb0CvQARvVF3ub2t/60DsQSRwtYHNcMqA/xBYkLbRRFHEgSHQycAuYXTB+ZIcsl/R+QIO8pBxf2DGgEHgcH/4oIkPxVBAL3PPl4CJ0d/hZhGkQbLAkUEbEZDxn8FJgbGxVOAtIPBQZ3A/4QpAQtGqcZ1wP3GA0QsARACbsD6xHqCDIEtxuwGC8Q+xTME/sMQAeEBNQGpAZIDo4TfwRDBssJFvk8/c32bvbrCD0TJwn1CpT6JfwC/NIKL/osA/UGYgMhCN0R1xcuGAYm0BxOEPcWhAwBCjYJcfV09g7uB+8t3u/fctc17w/ny+6b63fi+OGX0BzR2ef9+eb0q/owAbr3P/bwArz2TvmW98UAjw+SDJH8Ywg2+koUJgjx/AHsivygAcnnZvip8kjnn9PHzwG/GdMG1mfOtdEez+jiZuoI8sDs8/BJ8+/2g+wd4B/Yac3WzF7RG9S01hbcHN3o+S39EP6uChcZoRuBGEkOLguz9GMDogYT/pgIgvjbBhsHeP1G/Cj83hJhCWX61AEcAQryrvHm9yj05vfpBCkTQhyjCEQivDHcIGgPPSMcEV0SSQMND0YQI/lS/J4SbwXrDlkdLxH8E+8JdPzW9arv5O55/4H8bQquCTUTvQ2IEYkXahqVEWIC/xzBEqAPGAmACRkE4A9ZAtb2avgs7LvhNd5U5iTvlvI0+Oz6lPdb+K4OSBJdDTkcjR5bBYEGsAhSCBIFjwLrBPn4OAAnA9n+kwhYDo8MiBt6FTYVrxjnDg0Q4g+5EAYWahYeLkcVvhOdGQIuPTRBKYUe4RP/E10sWxbFItYjqifJM7UjHx6HKZUs1C2WIf4WMBJPDdwYeBLf/a0DMhHeHzcZqyEvF10QkhnpHjEZBC4fHKcMDxShC0kJCBAoD6762wO4BSL2Wv7h6W3nYesD6U/4tAH17jnv8/PdDfQR8wCe/K/v4gUKDbz/AAkuF0gGH//OAugQ3REtGk8QSQDcAX4XHxAHBxoLxRS+DB8JAQKQ9Ejwye7a90r9JgM4DWX8EPhA/IMH5gleBosHAg7FAEoBCgdDCzcVeBflAkoA5AhX/2AC5QVEElABR/0KBCwJvQcK82ADUf1nBIj6IwOVDyH6Bfhi/X/6duxe+FkDJf+c96T4VQVh+a3x+fht/dTtjvXD90nn3Oxk/FD4m/Qz9dT37OwqAp8FIg/EHvcR8wwHEnsQjRVCC+UKuwUABP4DpfpvC1z5egX4EgAUuQvWAqX03QuwDTIRiQ+0Bp32n+9M9GfiuOSF5GXkhfm96uj2FwCt/xL4Vv6v/o/80Plm9gL7hOup8MrmIfJ47dTvgO0z5Yjge/2a+cEEJvga7UMKswA7+K4GoQMzDg8Dd+mM3PTVcNjc2rvaUuwC6j7t+/PLAbn9ogOTC10L0BNVEXYNnBb1Ht8AgPS8/83wmv14/SENCw1+AJn9UwqbEOQYqROzD2sVDwOsBxP+aRQhDHgFtgLdDOUXNhcxH84ioiRxGgUkDDg7MNArqCPJJaYkBSSyIv4lnR2/J20l/yW6IvsuoSMVKZooZR4eKXohNhiGF+8QpBaZG4AeSxYQINAWgCb0D4wSpRhjGhEh0TDfFuMezxXfB/EcDxmxGgwm6SDVIQcPQwjvEHQA3gUvCPoD5hiuAlEUFyn+KmMfPhaVEwgVywz9BzMXEweq/UbwE/zu+qj2lva3CmgfJCCFHTUb9SHqKBAr0CWUIxwathTDH0QiPRPJA9wUPQfdCSoQ6wztGo0PTRNdGVYP0wLg+7UGy/z4C58J2gzyKcUiKA7yGP4QqRQMG0YTRQRt8QAAiAWuCgz8IwIWEG8aDBxDHLANJgvQCQoEbAWnAwELMBW/F/YMLQLBB+oCpwYZE//9kQgNB5P5nwS6BvUKMBDCF+MdyiC8OpUr8TL3MmQ1JCRKLv0ZxwxrGmERSRIrCQX9gAbfE4oyJjLiGgEwGDKZNAg7FDO2P4c55DGXM9s7DiTCH7AmwB6PJTUeqSSEETENPiGkGb0SqP+ICHEAOPrQ7ezp/fPy9NnxPv+678nrcOww83v7yAO2BX/+Cg7sJRYwZiW6JGgpfyHJFpolgSQCJcUiQx4VIIAn3hT2/ff2ffkw8FTtIeqI8XDovOK25pH41vxvAlXynPgbCIP4R/13F+4MAQ7o/ywN//zIE5kfkh+uKPgdORxVGrchsRmZEhoKJwz0AKoBwBMrEkIThRFJCc8VWh3yF5IaYiKZJwQ0rCq2FKcjyhxmLko1ISpyGJchBhxZF5AUzxi2FbEEqR7/IkYSqw9ZDYoaEBUBD1IIhwDF//UNK/dd8MP9POoM42vkWPHl+X/vsutj17PdXO9/5vbnm/BD4UTSmOQW5U3mYP44DbL7keh29Uv1avHK90H6yAV1A/AEePeNB4n2ZOuo+NbwpvgY/KX7Cu7h+0Ty1PGn6zTxtefJ86MKnBnnCi4T6R8LJecj3xOiDP4UOBU7+/P/NPWE7Ebpyudt8Qr1IgHM97DuHvExFu0aEhZ8FnIlJR2nIg8g8hpcAi4SCxH6G/4gqSOvMaYkyBkCIjcuQCG7Mn8xMxrjJvQbkx5lJZovmi1IKp0hly3kGMcfayXsErsRgBeUG78UZghOHigfvxt0GAgSeRU7HwQnziMWL+AsEg38IeEb2iKsLPEqwiOFGGcfEChgOR8k3iEpGsYl2ym8GGEhQiffHdUdrhCQHgEkQiKsGu0clhPTEbMKNAUsEbUToR15Hh4n2xa9FLwaoCLQHycmHymXMHMtKjihPQ0zOSVuHX8vgCODGjwcoxegHWI0HTsNLWVBIkIjKkA4ei8YJ2AxCiaPHRcajBM0Jm0dSBZPDaAHmBTIJI8rzBTSBRkO5hviGNoKrR8bAkwFswKs+5T7U/V0/Ij1MASoAEkAiPdE+iH8uP08BH0FXvJm9DTvHgWAAVodhhRbA9QO2RlAGkcYjA+q+F8iFxeQAWAMa/7IAH0E0u/Q8kfu0fty737z2exf6BHbo+W9203kPPBN7hvyLvfS+Tjn3fGcAfYCe//8BscK4wKW/iz5XvSy+Yn9oOzi8b72f/VLBb0HWwylB3AMdw//BYgHogVGBHv9GQzjHSIe3QYC/bv7vATIBjEBLfR+5TTq4N4k8cgAbxFpC2gV6Ao9Atr+RP/pAscDyQlGD0YSVRgYFT0iizEbL6QhNCoeNms7PiVWJnU+ACRYHvkUGA++G1oYwAidCXcNXfveBtYJufxV+z3+EQplCgQMZgJS9vgAtvnk7X7nwf9m6o8B6g9ZEAkSOAdU/lUKGw6tD7X/Ywz2F6Mo4ScmKNIPqgE7D3UffBZ1CFET0xflD00Jov/RAbQFDOuf733yDOvB5TPzMPnA9TfyrgoP+3LzMfdE/b0A0f8b9DrvYQh4ABv1oARCBz4Ftgv9FjwMIhjT+9wItwkrCz8BuAAv+LwAOf3dAbv3P+sx8nDvjfvA9hHsiPi8+BQA+v76/lzyMwbADYcIjRMzBV7/SQE2/x4RMBcIII0h+ht8I4geQxNbE2sPNCrQKOkpPSLWGEL1+/8o/Mr22/Hr6+3ydQBkDmgfmig2KG8ffSSPHZ0dDReSK40fBSfhGhsgFQxbEVISzw6fDqQKQByIFp0mKhh5IJoUcBkBHkAWrApqHPgYQQXU/4gD3AcLCwoZ/wfcBKfu0tk1/D0AagGGArEQphyMHscaQiIcEukEnxYK+QP3fvsfBln/awWGDTsXUxAFF0wOywu8HY0Vfh7UIoQiLij0JOApQw/DHFcerRp1D6AUiyAgIXkkxilvIeQk4i6MRlM+uy2RGFkgJhfTJREmNw0CIxMY7h5jIgouiCm/IAIpOihGJYA1ehPcJJchQjC8KS8pgiVdEJIYdBO9JnAUkhxmLeQzEDiwOlQnGBuFCSQW7SDXFcsYFh7TGgkVvg15DYgXUCJnIAEMiA3DApcLfgv7DtH+KwM8Bcj59/tyCXsIKxdMDi0XfiSGFgkKOwrYGCsrnSd9GrcVmR57JdoqkRsvG+UjmBRi+fgHyAxUE9EQ8RNtGHYYTQ+TFYkVdxkoJNsuGEaRP7I0XDfIMFkpSxfvFMD88//e6+3lPuwu6j764/2cAYgXyhvxFLwTvRCoI2QOGBkhGVsOuQE9EAYUxhhIG1cWMxnbEdcRHPwX9dvsb+kVA4EN5hpULmMsrCkJNMsepBX9HmcNSQRZDd0e3yzyGXgRHRUTKLEePxYxD84URBixKNgneSX9ImAknyA7EyQilibcKEsMyR/BJtowNitEE1Armil6DnIWGQ4IILknXTDkL+UgsCLlJsQqIiprLm4m+iXRGJck4iwrHKQjgiZ5KNwgcyKvMhY/jTS1LcFCzzY2OcQrNindJQEclhUnKT8u0Su2KiEhQxZsF90RWAacDTYfCijmJEo9UEnET5Q/SynbL60s+jAYHuIdchwJFywfRCVlFv0VkRxaF8siShtwHVsQeBDiCWf4RgIZCIwNqwx3FXMe9yO/G6gR8g5zEhAQxwrbFjkXUAnY/TcVLQW6EQoPhwccF5sMfwzPBo8UXflnCGgGEh2yGZUWKhhILI4zXClbIxwqCzJdKFMXbxtFHYwRHBRmCg8XpRm3CaoZfC33IRIouh8HJx8jyR8aFEojgytGJ5MoaSMVN/smTyL3DI0LdQt5ITgbDBfGBToEHBNcBnYLMALoCbsHFwzQDY4L0gOlBB4NpARP90D1KPyVBT0NuBIZDYsUoAibBFT1PwUXFN4XRxotHKwXGR+vIvkYaRRPBPsNJw34EkD3w/xd+3P+/AE9Bcj44Pqq9m/scPxy/vQVDiGHMaE3qkDNRcQ0USn/F7ozbD+CLoskEy4bKIoP5Q2eB8ET7xC5FRMeMR78PmU5lTXKRdc/1jtWPNskKyZLIA8ieiF7JsYYvBklGz0mEzEJMpJIJTTvNq41ySsvJb0biBMBLKIudTmWNQE1ZDDaM+wyfj2DPTdUP0k3R9NZaT5FNLtDDErJOnQ6bSwvK6EvOhmqFjEkHiSUI+EmszaOLjkwrh1LJUoqBzQWSSI/JipWM+o740CgOCs87DMoLG02XzbON1JH9zmzNy4s6Bj4LYEKgQmsAOEFWBRIEyEdeRR5HsApbTphI38iUTRAL90r+hjbHE8QghXi9T3s+QKVCncMXQgUEgEBA/Qz+Yrq7fKr+UX4q/mlAvEEdvbb/s/9CQLUBgbzfe/9+Jb0lvbS/WH6t+ga7uT6DAlgGGcegyY3IbYjAj9POJYz2zJRMkcqyCMbIokZBQpJA6gPAAsNAIYGyhZ9B/0Boezw5ab5uvfE9Jj6qPc35fT2wQG9DUQZ9ycsLtI6BSp9OE1HRSz1H9sejxsmFcAlTCc3Ozk3DECXO107jzueMLg07jo4PDkrvSwPPTM1fDHxLK41gCq1JQouwDTBMMs4hzeoSYpIQE01SvdDPlU+VDZUGUbKPPM/rzKkL/Ux2ijkKCYhMCreHdIRHiSyGPElpjTVKGETSiMAITUXaiErDEwWIStYNkNARjruLxxFejugPaM2IS6HMVEbRiyHOSs/uTb4OOYq1h7YITAkCSUtIxwgZirvKbsl6jAoPs5J9DcVONQyTyyTLlIc5QVBDW4UMxSKClALuRyQHfAQEgg1DHINBAaLCU8Is/4VBoAPgwn5DlILyAosFPwUaQ6GE+8b6hYXIlAY0x5GIQQqWy0fLNMw8yXaNoAxIzJkNZcyZzNLMwIrUCYXJm8hEhj5ImoXiRSdAl8Mgwy+CpMNWv4sAYMAXPcJ/08KpwSmAEAG2QQ7DtwPVAKrBRUDbObuCNAN0gryEEgMv/kP7Uz7VP7G6p37DvHJ8M/wQPk49ZYMmAE4APX7FwQPD8P9EfyF/cj3B+2b8674TfPD7gzuEAkCCkcSvBdKGi4Ucxs6D8IROR6AFgcNehyTE7QRnwQBIIcDOQLzAkT/tgH6/74NMQBLBggDzQT6CJAF5QmBDroLqhNgEX4dxSL0Jq489TWzJFYb2iwQL6IkejbGKUYtUyduGYEomxvBFQoY/g1lBzMF2AuvHkkmmyapIcUj2xcqFEUbEy87K6gyhSWJGNYmzxT+BFz7NQVPDjIdGhcjEokEwRCQFkAPWCTOJwkscyUYI6kbuA4lC7wO5BYvFIoSVBRzEyoTTBxYF38ZFRQzI4oZhh20KzQotymFLw4skSoWFWkZzyMvF6scUCZaE+8X6h25Kw04+DBOKncg/CgMIFoelxAVDeIOmQxSGekNTxK5IOMaISyyMEkmSiADGl0QpB6bETgLiCJOGrQGEwc/AloHmheADEkX0QtdEV4DpAP4EH4vbTShKE0qKS11JEoagATrEOwZOhMqBzISMxIaET8Z3CGsHe4Z5BKnFJYvvi0QJUkwDSb0JIgxiDoyL0ExSjBUQUFDmku7O7k62UEdVg1N5jemOys5KC5JHGAUSB5qJpwqRjD+KlQnhzeoNuozFj9ERqM/2zGDRZg+7kvHSBJGiEZnPWFA1CE3F9chFTNLNIArACaHIW0sAy/cLEsmJyF0McY1HCXzIUIqODh7Mz87mUhONioyJT7ONFYu6S1GJLAp5yMsJJYWKSSEKBciaSrmFVsOfhIiEqQZfR9IDwkdhxyVMysY4RBiEVURVxkGH+0i5Ru0GBsbQRzNGHsZBCQIKbseIxbHHWcx7CbEJhtEukY8M8ks0EGrQ4wswTGZIsgpOiqqJf0qIxlYG84gFiHdITMbsg2IEKgEfxiiC5v6D/hqAY0BrQWmBUkNahYGClUcCx3bG6cgty+zJwo7oCakN+cu7iMDNAItiDzNO+U4SCyUQmA50UFhQrU3ezndOgoyvSgmD5cGHwLyFRgTkf6f9qT86Qx8/g7qQf5LADr67AE/CtkTQBHLB1USdRWpDV0S/ih4IawavwjUH1EPagjoEOQH8gtwEaMEMAuiCSkl7Sj9G9cg8x+rFfcWVyH2K0sy7jXILFM2Qy8wHdMb7ywzHpMx8iw6KaAxdyRUGUwxaTEaQRg4cEjALyYy1CadMSBGt0aLROczE0G4QVBT7lDzU61c1litT848ozXzKS0sQCC4JFcheB/vMfg2YTNhHcU0UzhFTQNU5FhGY81YcFt6cWxzLmOOXThjt1IqPFRCcj7mPfgtCx0yNWQ0JidSOOgtJyktN4UrMDMeLAgyJTpZFV8X3B4PEVcSQB2fJPIxQzSNQ5pVOWKrZTxfs1wgZ/9/x2FZVnZMC1vNVGc/mzSsKvQl3CN4MrEkgB/yJeUedyJtJ1MnkyVjOEQ18TF2NfQoKiYcFS4uBiBFIQ4l0CG4HpcbdDEwL+8xCysGOdokXS0GQsM0LU8HJOIXEwb2BaIDSw3yKbk1byO9G94atxpSJoQdpxtoI60l/hxbCJgR/w+rB3USMC9vDiP5lfsIDywXlhc5HI4X6xghGzQi9hY8JKIuQiUbJzoplCb6G0UfWR60/YIGgwHSCqP+ev24CyYHXgRnGJcL4QaaHAwVkBp6GHgRAgqoEBIdOxpqG34Rlg5lHBUb+wZ1FWkTexP5/Cf3Ig/+CMMRqPTA/7/ywf4+CukM/gx2J90bBB4BFGMdpSMQJNgkmiIhJvMikRuyKVAl2AouCCUJ2QmZEYgJ8xCE/qwO8h3hKZo1GjOkJJYn0CYGM7AqaSbpKoQrixfYJ7osmS66MZQv3S0GH/gb4BarFRIVUx48IsMiYC64KlksXTTtNdEsDDgXOVA2hzBjM7U5CgzEIFAtaDmyNxEzqx5/GNUopQzLDj4FZQUTGQQdvCY0OaMxri5QL6wenSOXKo0x+zqxPP1BYFZQTgNJrUK4Kx80Ux/KLJcsiCduGjEmYRpTIA4s9jWVKsMjjSJ4DGIVGBZuFL0oHiG3H1EcCw3/CJ8hWw5BJjMP3AqAIFMj2By/Ie8aIw/NBWH+GAQGAYYGYBbfD2wR/QGfBdgSMRTpEY0K3hpeGxsU4Q+hFzAUpBFqCtz/9QOp+Z4KFfxQ/UP5+fdd9WPwBgGW/iD49PRcBg8QiRyzM28jgyBAGf0gmyNRMCIvHyBLHSEXywjWDen/sfB28tP5zgK2BsoI5wZgABQT9xlECdgIpQj0Awf4D/8c6HTme+TC1ATtRPVu64X1s/qnCHMFfBDkCisSKAtqAcwNhBHnGiAK3xkPE6gQ6intEKsdaCc6E6oUmRZ6KrAUOgwkGmUZ0iiiJt4ffhbLBbwAsv9SDdEJqxBhGFkffRmuG5cg6iI4MM8rsyEwEGIjTyHkG3IaEA8sGRgZriVzG+Ao0R4oIXsbiBpJHfMNnQsrDuoS0hcIEHQeIgDnCiEedhroJZQcfjE+JtkdNR9OKmov3DX0KGsfbhNqFE4ZoDBtMgE0CygyIyweOBUXG0wexC66K58bNCuPJrouqDKcKgMuRDX1MeI0WCZgHOMVbxtiKjsfxRVqJD0mpjF7LAsUexUYNkctKh5wFPkUkRlkFAgGEvg4Fs4L8RuQFBgUByzQKJMkEBiaD1IAuPvb/XsGbBgz+0EERQwHKvIkPihNGr4ZTRp1CcwXxh3kHfcfVCBWJzcgjS/NKaMgICEQFmsbzA4jGoAG/ASK/aT6ZgcvDvURpBP3F3QeABV8BbkNlA7f+Hny5wFTCrwGZw/OGJsfcxRvH6MZeBmgGIogkRZ4HMYfSCUXJKYX9hwPHPAfcxzSGpsTyQu1Hb8cZxjw/PkLSQUCAEf3hwT7Dr4HHxnkGaoi0hspHRUtkUciS7dAHSpELros1zAsNvovAjzMI4M9/D39Qns5X0UBPVtM5FdXSS076yN6IHQPgRsjFr0VhAOH+8AHKQfCBhn7dyDNJ20qOCwaTGFMADdSPts6L0eBK5Ae9B1mFIcJHfxaB3D9TxoZFkUUuxxhH0ouJzs0Ik4gbRbNGKIL1whFCPQN1B9mIHcVTiWUGvsTlCQ0HZAYJA88IvgNmhaYFaURKQeL/8MCc/1yAhL8BAf78loEgRBDFqcVvww6CnUSrxKDGesJNw97AXHt1gN0CbQNHBWoFOcUAxP6HZIZrxRqF68Q7A0+CmsOwRPGAl8BfQR8HAkapSU9ILsgDjC7MWQ37CEyLVYkGRCsEwYbmBy3FjowjhvmIE8oOjLbGeslWSZ7HxEOWxUpGxghEA68FK4KHRFnD3EdXBf1GiQljiVRLXw7Yz54MB0TsCbRMOI+dDnFK2kprStMHoYaFyzwSPdHlT51PWRIEUdcOT040C8RMQ8lDDSoMy8qoytFMvk0ozLkPcxEUzTLMuMmXxrUHFU2dRtFHaUoCx2IGP0bYhgQD+ghAiMsKKpGfS3CKl0s+C7jKOYUEyGZJRsxbi4pKHsxMy0uIkEWyhi6EpccIRNoK7MlbSpdJ/gmuy5gPvg0eixzLSInyCACK5MtbTKYI1okYBoyE2cImf+9+hAKXAZbA84ASfdX/2D/qf6C/dgPnQeI/+sJ9AEwDzwMEQneFO0RgQ6Q/f8MriNLF8YXpA1EGgsrkSC3DdAY4AeC/oQKwA3oDWYL5QQ+8h3lquE07ATx5u447XXfi+uW46/sIOOA58PgCf0s9PfxoPQ0CIoUEA9dBpv9bAKKA935kxG3AckHCQkl+cEEsBWUEfImHh5xIn8WVhfZE9UhsRrUDVT/tv/t+mnvLvU29sr+1wXoA4H2DPN5EJ8P0A+rGQkd/imXFGkRwx0dES0SZBB0CIkZrxMNDUwJMQcVCZscaQa3JQkrBSC8L7dDZ0wCQ/JDjzmuRF5ILUSTOXsvvTB+I9Ml0A/8DOsK7+4l+BfwdftQ+Dn5+wrh/Qb9NwfiGSQU6hrzDrsJfRlyDpgZrCfnNcQi5CyoMOMz7DP4MPgpOhymKPUcYy3CJd8mvDA4H/8bVB8VICkMgg8JD8IFTPw1BgMe/RZmGdQaJCIgKmIiISCuE9IfWSZjGtEYmCOGDxMP+wrJF20arArQE7gSYRSNNjMo7CdlKFMgUiF9Kz8yHy75KP4fYTkHLOolQCbBJNsadCDmF84aXhnFCmkRwQ8BEigdAyoBJkUdKyTcHMMhmB1vLDQuKyO8Gp0slyMRHzsi8w5ACxgi8xPJFOIfBSIGMC41rBsiCSIbiwuTCun/b/8f8yzz/AFQ/8j5ZBInGAAVz/fn/X0MmwKhAYICTgFABloJMf71EpkJ9QJwBHb1MgXDE0P09/Ax7cPpnf2aBVIbNB7kLYsjiREqGkodthdsGW0O5PoUDXf+RwoWFDYKFBNBDKcI/ByNE7cJlxXKE9QZ4xCIB9IPjh/yIHErWSjKJX0vNzBCMWwnHzCpMIUsDR3CGfkRpAuTFQ4eeR4wJ4QahRIiJogcXBnQGHoqMTgeNUsxaCYYMN4n7yxlI9ocGRLKC3oD4wck+XYGwvf+9LH38/cdAxj24OyW8d3+OwHTB8UOHBQRC6sLIwltCaca3BZrE1YghRGFH1sf9RuuG+ks+ycUOzAivgyyFwEUKhTjBDr9Rf7OB0IHFQyAFbgPKwrwDAQKnQktJbknijWUL2ohnyTGGI0HUxoDFSMIVf1i+fLzFwD4CE0JVgsq++v8DQ3CDz4U1haEFfQwpTa8PBAtHjO7MzQxQS17NBItGCB+HUcaMxx3GrMZgRx1DJcYxR9DJYsejivoM48pOxpgIcsr7TaMJvsoEjShIeQueyR6J/sjIxauIQAmJRI0KY4lEyYqL+s2DCAWMakosh/RGooVm/wXA/Pzlf0TCxsCuQ2vHfYL/xfhKSg3USqeOiFC3T9pQRk1sjbaUihS4TaQL8ooYyBlGiEFYwfcCIT9u/0+8nTtgvdKCrUCQwl2CuUdSiq0J8Es5SRGJTQdXi6TKp0u9hpNFvUgGi1POMo4GDuKNK433D1TRjoy7x6uJJYbHhzSIIojlCDTIv4WT/fr6Cbn0+vk61/jpe/L9ZT9iAazDn4WewsEGDgWMRIYGVQjuhOiACgAfAaoDJj4twNUBG4Q1g3GDAUJDwIH/Q362gIs/7HoYu0t7Pb/VwKgGb0P3xRmFi0TCQ0PCv0UJgGfBWQBxAW29kzyQgk9AhICMAoCBPkPiApOBQHtY+Gd6m361+6r7Tn48f0hC1MGxQsLFz4lMB1AH/Mt2xiwDDkOehDG7cn3VPI68BL+eQZ9Afn5jQBPDs/xbuuN4GXLf9wP5sbctNo03Knpiee39yjp0OqW4Pn1z+hX9iL5b+637aTtBQFOAEYQ0hSYEZwdcAeWBv8FRPwx+pkNMAlsCMoEheZE9dn+evefCDwWtQ+YDtoEjA0OEzsDRhIgAtzdN92V707p3fa/BQcXMBKyGRgi0yv/FFQHEP2HDQ39n/+1/PzvXP+v/nL8yOwE4A/8qvSo9b0KtgCT/hD7NvMHBQ30swVeC78FfRsJFS4OCxDN/8wXYQZtExUhTiSlF80O0RFO/nDyh/JK/uIK6AOx6czty+x6+3P3cepEAdEC8AprEFgWFRwjEHEVsB6jLpIbEh9oDVkXnRPJBM8CCQwo+rb18Oll8SvnvvUN5pr5cQHiDzECHPw8A2UL+gt1C38D3AvXCS//Xwpv/Tv1Nvy974/8pP3H9uv4tvNHAQj2/Phd5ybnpfvD/271zf5EGXQK2A2KFswa8iC+DoEhmyG5IT8grw4NGxgnLSFGHPQgOhaMGtMFLQ5mCGoLcwMKAIUAsOhw6wX2KvYg9hkCOBoJJO0XvxWrH6Ah8CkVFkwbXC5aJ8MkmyCjEl0LdxFMCYcACgE5DrYPpwcxB/sYpQVGLRspEhtVGIwTGBClFS4VxBJxBwEZnR2nFVALPAsPEG8I0RR1Ge8QRBF/EkcjEwuTGcYRlAw4A6r+FAQW9njrk+iu7MoCWwp4Ddr+bwsyDiIGt/wKB2objSe6KWoorh6+EoMSjhCpEhMQpAtc/yINZxF8/J/88Pay/h8FPwlFB7b8zOsaAtQASgwtFjUQuBhFCK4LMg31CAEIyQ3TEQoIOAaUDPcBVRN3CH34iey69F3ya++CAMLyCfin/hwDTQRqCcD36QK2By8HMAMB+4v/vAmpBu8ErvpN9BH9wfVo+jEIOAZFB0oBWha+Fs0i0TMTN2wtmjA2M1crYiQSAjIBWAVA+/v4I/mPAKwAKwJcDK4O4AK8FNQG8ReLFZ0QuBwLGAEVyCzlLnsdBxzXF3MXJR86Dafxi/i5+N/6//MR+7cEqRrdDOgYTQ/nBtUS1wmuEVcWOgsLCMEFxu8E83fxoPsG/e30OgGO/Fz+6/eyA50SeSSCJE4q3h/0IOwTXxFJIMcabynUKHgnAB9NFAkQNRFFDaMgDSJZKnIjKRjQEXoXyRMuExsZjiH/FbYItRvHKdgjRCmlGZMS9xP1DJ8uWiD2FVUV8CNOG1sjOi/hHbkdMx6zGsMVAR7VC2gHvgb4BzT/y/pEHTAj/RX3F1MbxSRBIyUklitqQn5Biz2yNvU17zrDLGwhZhcQCt0P5QVxENj3Sfjf/FbpvfcM50DilOWt+uHmT/Mx+Xj8vvwl/I4L7xTqGfoj9Cj+N04oPzNDOYdBoikpGzoeaiInHrgyYSUcHz8f9R4ZIZgoFxszF1UBzgxEFngdgScRFaMHFxOoDo8NBhchB/8CwQs3Cy0aYxPIDvIb0xcJLJoqFjWYIg0S8xJxCMT7uf8uD+QAhwP9/gEOAwfKAi8JuQp3AVDtgwFgDawMJCYvKjYfcBmLFSUJUgvdElIajQnEBewA9QBkG5gapChDMh00ux8XJP8Y4iJcKdEedRr+FCARAhZYGw4PZP+2E2weNBGYEBQYPw30DUEFZQ2/E5QV+xx5EMsJsgGI/xf/JwDNCJ8SzhEmCPkO+AYxElgRPwXVAhcIlf81CmUMkRe+B5QDgx3FCIX2bBKBCi4Ndwo4CagNJQsdDA4aMhLAFL8ZQxIUFksbYB13FV8LEhWMELcZIiUgOC8oax+fI+YjQxpRE9ARrBTwD64ScQlA+RgAYgKIBIUEC/i9CXkTeA3/C1cZ9QvHAD0EqAMTEsYVIST7IgQi9yxLHnUkpRZBCGoE0Q1iE3IQfxxfBGETZhtiBAj3sANmIMkf1R31DoAVChaxA/7+DvXE8XkAhv60BywD1/5u+Mf/WwWrB2nxjeeY6evynOzd+fABNwF0AEMR4xVnCEULZPAU5mnxcOve8kEBmfhw/I39NfYK+C76pfAMB1cIGxbaE+cWowtBAkD74AhMDDwBYfoY9gsJTPpK8j31kvKa7+nsCAIuAB33C/C0AscGLAtRA7AEighNADwNoPo68vcMYQlwA3gGKf4V7EQGn/oMBZsBkQI7Cx38uP+oBxsPl/rj6rD1ovue/oQV/BvhI9shqxaMJuwd+hLjBzINjAqhCNQJIPk1BlL8YBKPDOIXph/JIgwi8iXMD2oJjA01AcH/Kgyc+JT/xwFb+zr0gO52DuwOQhZOGOEPchOJC7/9uv8A9BDoCudR9Gr4r/n1+Yn8Ue6x31/Ybd2J76/9kPJXAyMC3fHu+v4CYPOR9wHxDvPF+2D/kQLN+1wJRg01C6kQQA2XG/v5lvxiAHEHHA9dFbwQHQSaCSX5qASQDs4TZgDxAUMMWw7fIz8b+wyh/h8FzA29F/4SBQjgBqEHDgSJ/HPzuQnxAwoOfxVgAUYBhwLd960OABM0ElUQyCVxMGsq8S2QGiEc8wc3BCz4mPsD+OL2sfja+775kvzW+mL9tfdd95v/+hCoDWMbkiGOGu0V6QwpCQEJlBbBHvAQYRvQKSkpcTRFJnMjDxq6HFYxCyjRE58N2huwJ5shZSlqHTYSkgQRFqQOuxflEb0O3BO5FScaYB8BE7UbrxD3Bp8GCQJ0BvAAb/T0EEsHAP5uCKIVwQc2CDf7aQYrB6MC7vs+BoT96QEbBlX3H/cI/QQGVwGX95vlte/68BT6kwjIAWf/x/KlCgAD2guQ+0v8wOhx8A3nSuqx9sAJ6wxkBcEQZQpIAi4Paxo6E8oE6wrAAnUFWgaGFh8hlBLkEZUZtga0BykOkBKtEXwgaQx0FMEbkCL9CcINuAnDC04SXgw8DocJRw+nDPgAHPkz63DuiOXa4OjicwU8GlshgCHCJPQvASRVLjU1fyaVJIgRKB/sCSMIS/j5AHPzuQBL9TP/v/349Ev7mPFt9+7zi/Ux9a3+BwrVBe74WOfUDpf85gINA7kQCQYfDgUQ5wHpBlgK6wOWEzcOph2CFN0VvBrdFM8IvAW0BWryFQEPA1EFBgP5/f4HwAlsG+YcIR4OF6siYB7sGOEZqQs/C1oO+BBkCk4T8g4n+qEBHv4KAqUIUPeMCl0HsAr0DqT/FAkiBfgOJA82CjcPYgkgBXH/HPpD/0gI9AQ8AdkBVvdmClEH4QtCHrsOKgbYBLn+7AR8CXYa9A+YGCcQtg07Bkr29f5r7QUDP/Ai+UrzPAUjBVkPOiblCuUe5Rt8C+cdEBP8DZcJPw8HBL8JXAVUB7cIZf528gn4Df5n88X5rvxBEH8ITgJpEREUTQiYFGQjORhJFvQNmxBkEv0VPBT5EKURAgkEAU39XfEpASgA8/JNB1b8Je778Lz5i/v6+6j82v9FCJ4K7RNXFDkU6RgMDVEKpvqWAh0BuwZ0AMcGvBKsEZEOfQcWB8b++wXmDFMCmwG4E4EFpQ0BGCogrB8DH6oV5hpHDs0OyQf5BkAJjAvbCF0PfAMO+SMEAgcKCTABq/tHCDQaRxrOEecRJhXS95X6sApV+eb6wQFi/EXtqftT/kcC0AVyH+EgoyRTEfUmfBkCHBkXqA9uFoIQ2/Ej7IH5mPwE+PH/JgKPE6wYeho+G7kr7yDEKuwrTim8F8IUmQ57EI0OWAoUIo0m6BzRDtoHtg77CacI2vwJCiITIxUbFcsYmwToC1UVsCEIH6MfgSG9Bg0J5AkWEUkd7hqwEsEJ4hKxE8Ai3iDkIbYKOAzEAGoVKB3pHBUgqx/9EjgYTCPgHhoTAv3j/zgUBw9LDucMAizLH5ASWxMMF6cVpAbAEJQW0RSzC+v+1QMd9yHzw+tg95QK0wDRBO0KXPZlCEQJZvCc9Db6hPx6+uT42v2b/AjxQf6l8HvwgfqzDiIP2Q5OILcgYhp1JZ4gXgg1CmsMJwzFCOkNSP+q+lXuge9M9c3/lgbgAvcPLRKYDn0D7wTe+9T6gvAX7vH8wftb+y304fQL7tvqXOxL8x3vIPrO+036ueoX/MrydfYq6kDwuv00EkYcUBnFGEsB+g3uFjMX6xqfKZ0lEBBCDaEDBQ43EYYSdRWFDtYTePi49fPuruvP7o33hQQoAiL9ZAdXDhYB7w+KEswYGiY9HRArYCmqJNQmKRyvLtUqASVlMt8qpSXtI+Ah7hcYJFsn7igjKJIntT2eM+c4VDn4NcgpOUd5Q3ot7xmSKQwiiBzWHAMhLSB4IJASABUZIdskaydhJVoi1DcqKCgrmxRuGEoaoh5RMTYo9y08MQUwWDPTJX4iGyv0K2giXREmHMYBRAWW/BECRA5IEtQMwx0hF30Z5iqPMSco6ybLIs0g/SQwMIIfZi2qLL4+CyKiIgsZKhR4I34RUhiHG9cqYS3vJxYj3y+EJtolPzbaMrckkByNK5EnbCVnKo0iXDr5KxEbQBE5A5kLmPzqCq4QMhaYJhc+CDxNLJYaRxmfENMQkhC8BsQCSw36+oH+1xDaAuMQ8gOj+9X5UAlHDRoSbwNe/LT8zQb3BogAvQhsCy0LDe+k7yTzou79/aQEogIL/y3uOQPnAgb60hDsBUsd1xg0EI8emiEMCyEN5wuw92gSjBMTHhM60ycVJIQlZxNtCYEF3w1590sIDB1OJUsjoRVFE30KEAgTDHH1b/yWAQXx7vbeG6MZdw+TEr8Obx6lJD8OBQXjFBEcjB9CG5ER3frTA9MBw/dE9kP2/AFxBkAIEQl8D5YTtiaKJv8Sch9JAUfpAffc9OzgdeiD7Sv0tQMkAg7zEQ2LHQ0YgBvJIywXmAwmFOgTSye9IPkpzTOsJ6kkeSoJGDEhVhVoDLIjKh+CGNUkKCo8HSAWxxK9HREXCxj0IuYSVw9VEskM8g9UDrn9WAUEB/wXFw6YC3z9uvR6/ffxa/foAzj++QDyEisEqwpzBz4CBxCsD8sMhASvBr4OdyjMFmckwBq8IHQQUwstFyAKZgVsDGYQ0xBjFHQW1hANDn4dFA8zAwgKAAawGGUE6A74F3Ag3hKlIEYfzjG8Qbs1LicPIC4mNCd+IcsenRurCU8SxBR3Em8DPQe7Cd0JTSD9I00XjRXODEkIlP5W/Az4j/qiDTX7bAqkCPUK3/zl/WL6ufZ17WDkTua18X32QPGmBuQLmBreD1sPF/yU9b73P/yU/7T9BwRM/UvmqflBBSf8ywgM58H8s/Yf+MgCgwLBF/j/M/Sf+t7twvzTBnUDPf0g+a0C+wy9BEH6q/be+hbxfujG9/j+KuxW/d4LJf94AP4L+hW2GucApwxV+vv6cfuj+uX9rfSH7w7yRvWICnIRJBYnGTcIMgHZKKwTxw3pCbkKdQuhAboHXwxFBDsKBA8YEbkX4SBKIKceyh46GJkQ2RXBCSYTQgkd+OLskQcwDN0BGgQJ/tf7Hv9e7eIYYyBiGDYhgiXgJMgwQCUNL0VAi0BoPNtEPjGPMTMkKxZfENQUShnvCMIFkgji8BLpcvMn/HUD/wjZAv/plwFM8Jb4nvbQ5Ef2VQ9OClzznO3S8w/53fMv72Dv5O1hzAPRHubG9Oz9nQaJB/oVth/kKMcZGSafJiAd3xzwJZosOiK2GYgIJ/+XCYYGVf8AA5IcehT7GJsiEyOrHS8O9xTKAhIDEwYu/yMEkAP6/qsAdgbu/FUGwQUd/UIAtfwt85HsO+jf6fbxePpKBOD11fBzCRUKhBCdFvwcMg39FzkUWA9vFC8ewRBpAZgFSAi4/5Dz0QOUA2j/pRL5CnsCfPyYByQPsRETFzQK9Bd4E6oBAP5hDxcQbwhsB3UJLwYEBTX52fn2/kL0evAD7Gzz9fOUCjgKPQ/qBXER1xM4KYUs7yCCGkENjRktF04TwP+FDCELOPgZAw/5uv8VCa4EkyMtHj8ibB+LNwdA5UMSRIc0ADpwQgNFk0zlZZxIJjaKMUIrcSgaK/MoFCA/Fhwb5RNnGGYizhyBKo4qyTGoNtc4zzJ8M20yFzKfJHUsRi2GGaEcFR72JFInBieHEz8HvhTxGykcOSB+EzAUSxNXB5oFwQvTFs0ixSDzBcIGuv13BN0QkgafDuMUyAhmELwbQBCnIwoMQhAyFAocBB59DugM7xHtFsYVzRFMAswGQA7tDIYj0xPvEQYPThVjE6UYmRl5ImohDSFmGgoQWxEsGqgglRmJDmwYlggzCvYT2RkuHBck2yJ6ILsjPTMyM5o0YSwEIA8WVQ3xGoQKT/6OB+H+ZQyQBvANCA3jBo0Shg5pEskBZx90DicT9BU7DdQT2CO0HpImRB2nHp4jfRlBDX8VvARkCZQKFAE+EAUCQgNNCwMHH/5t/uPdqfTe9aXtvvGu4hT2vgRRB58SIiLxD4Ma7RSADnYL+/9nB4shBxbKDFYTURC5C2AWbRSnFg4VPhlQIF4iuyKKDKYclRgDFLEMkwTB/tD1GgleBm8KJA65Amv/JhI2EYMMEx4HFoIZbRQRJ0wrPyG4H2shOjJsH4MzzSpDFQ8tXS+fG+sN9gAbAiUG6QN0Der/thHFEbsaFg7/BFMTyQt1B2UL6QVv/wT3N+va/N78VPaF+Nb5Guhy79T9IQTWA5oQKQ24G4w1iyiLJFAk+BwgCXQOBf32/8gRdRTPEPAcES0eNlQx5x1bF6sXrScnJWw3Gi1xNJsqsCI8KYEaXhzPMPI2cSWONQA6xSMmMeQxWyX1JfwjITiTH78adSk4Ja0b/BmgEesiLjj5GLUXLhmTHXUalQheFU8Ppx5ZHNoa1xd6JaEWWB+zDvkZYAsABhMHvRcbFtn7fAe3+/LwMALP/Hj+xw3BG0Ia9h5oArcAxfgDCr35rgMvDzMEDQflEtgBPATJFyIPmh81JdoPIwegCxkUTBAuHUsWdgbXCzQUBQ9FHqweICwKKDArASB/L280vh4MKkUwKi9YMBQ47DoFNjo9TzEgOtsoMCVSFLwU8AbvEUT8zf1lDdIA2Q+FCdgHPhIJHiwalAejB+0JXRsmHVEbuRToFH0ahx6bJo0xMi4SO3UxgCFUM0hIEDQiNJssTihJLsUvVDAMJ8g4GzvuLgoptB/MCWsUMwLdDoIQygn7DSz9RAiVAfPy/ft4/eEKmBhTDFAcAijqIwgqsCR0M5A9jjVAO0A3HyjzIWojfxEhDRAOIRAXF0cTNxdXDOEPwBkrGoouOhQXJOI3ISb9KYQcYhTjENAPDALoCjv5RhLjBU0W+QEaEkQLcgE9BaQN9SHKKJggZRy/DToPWhArBe4BQQjRB5QCSRrvAtgIKBIhFWz8pQOwCP8GcRKfFG4GhwNVDK4F1gIjAKILwBCDJK4N7h7rGfkNlBJxEUcT2Q+PC6IEbPwA/zAGcf2JATv9hwvJFP0Xqw+f/OkLR/re9J3pFO7H92f7SQg0/48c8BhWFUMTHAjgCGYhegtnD5kPlvpF/FgAy/Ja9s73afl9ABMGwBtUH/ERXAQm+5MErAyvEDb/LQTGAR4KJiFDFRsQAAfcAqEZUB25HAQFpP8G/tf8nQrFAqf+ufWA7BXyDu1292kOORXPHQUfkxc8DR0LBQu6EpgTCxC6IZUcIxlcLucnLiCGHm4hRhmRHys4HjZsLVAhjRhwIeMcnRpGChUOJx3DG5oSaBRWCbkW+xlEG4ctgi2FKH8YKRrWGt0mxhCjIn8K2wJyArUNJR5iDrkUKSS6JwQ1Ih4rGBsjsiQcGeQMDQKjA877gAjGHzcblBd0EUMIAhUkHMgQogfvEPUcDg6pD6ocJSRjGAYcfCPlGE0Kex2qGtUOeBbTE+sDIBP/CmILQQ8yFoUDChA2C+0TcR0BGzQVFBpGED8V6CHfLmMqgyrkLkoqBg3vFBMeoh5xG+0InxTZEmsROgFM/AD2sgi09P/76BEVBJIMVg8qFHYPHRWQE9kQdAokEH0KyvUn+4YF2giNDR7/5udk9HP/xfvq+yv7be3WAqzwNPg/AaAeUQ2HAMkJ8AzzAiUDK/iA7qXf1tri3yjpfdz46jrzYvRi7037ygjDJLEbTxZLCJwQYwdHAk3/b+9x5h/tO/Of6Gn0u+N78c/xudwQ4yroSOjk+A75hACv8qD1MPLQ/eXqG+ad7Qfxme3463r3oOQc7Cr7TPOV47H0Dv94BU4RVw/RD6UQGg5pAPj+kQ4/+8P/Evvf+MPlLe+f96D0UgA0AvL0qQskHccZBRM3DQESkgtFBMgIdftn8V314PKA8H/whOliAhMKcft8EiMWNRcsG48U5yEwDJ8QRREsKLwuEjeiK2oN4BUDCpALswlfAqniTO5o6u7tVuWR9Uf+qw5IFu8MggRgAVX0dgswDmINCRTtHYQjkyLvEHUQlwZSCcUiVB7EEN4KlRqjFUIURRAQCvoA6heNCMcPdCEiGmAOHhBuFcUcQCPbCk4M5gqf/38JrwAEBakFdQpSGPEkihJnCsYPPAVVBlYCDPm6/40aEhILHjcZoRoqBvEU1yF1F7cM5ArEBR0S7Q3SHhwnIx4MC5wayCu3IrIvuiJeKbkByQC1DMAErhVDDHoR+glSDYsZehThGWEcyxJvCFYLrvmaAI31+/uDB1/6wuwi/CjuBv42BnAIV/ze/wv6hPx7+uT94/kD9DD2lflc9FP5+e+J4cXmvfWd8O7/hfv96Hby/vLB9Mv++PUj7MP1p99n7L/ztv5W+BUCnAae9LrydfrGAZoVAgDZ+O4ByQSAAbr37vcsBNYHHRa9HHclURebFjEaNR+RL2QhQhf5AAv4fv0C7h/ru+qf5Lnpe+no9Af3rQYkBN79K/0GE3YMEg62E0kTbhInFnIbxh56H+UPAg58EYETxQz2GBsnYyMPLJUs9BkCFyIvbB/NMUgilS1XJP0tMiaYF0AkQxr/F5YmIiovKPMnxxp/F/0YohfqF2IgUTCgMAY6LTkFN8Q1XSWPJ2kdNAkGBQMT7xj9/UEAryNxG3QUTR7TIJ0pxBRnFnYplC9uI0MrVhi5GncfjRnaGrsJCReNEjYdAiNUHyIiKyjnGQ4PmAwgJosyezcSNAocqw9lCwwJkvgL93j93/lTBOoRhwwxDO0LOgyFFd8dACSqJzkbiBcnIIQY8BgtFtoTmf5Z9uQCSQDJBWb/Gvvk9kTxpu9K4lLsPvdl9i7pp+E78dMH1QEm/6IFPgmcBxv6o/C3Aa8BPQNaCIoGkRDACb78W/5o8KPx7AdHCRoEJC2sMFcx+kS5KX0iaR9XDqwgvCH+IdErmCtmF8sW7hLMHOQUNwybBLn5d/AV+ZMRvAZJDHoMIxJIERcXpBWlFjsZrxxgHtciNiSsIG4vRyHcHvElTy71HxYSlxREB+EQuvcSC34JYRVeCUAIxBc5FNQQoilAKJQeDSsjMq4qSTnQStc5ljVyRe9QeDRaNiAwajV+SBBAJj89OAYtlSOBMXE1oDYZOVg4Gj85P5Ys0SklIOgyLDpBJYUntzKPM7dOWEgmPdRJMUlWN30x7DTkRdM2LDVXQnozky21KKIgmCq8LOUkXhIAF7oK1f9zAef6oPo0CS4HwRzGFFAO+iB8MuQ3XkRPNqgreiywHjovViaNHFoYGRkwDZ8Z7xs0MIsuPj2TLigrzSLDBkoUkw6ECOQIJ/4G8m0ALRhSCbUbByQ8G2ckDClxLpcwqjFuKSspnAvAA/cPUSM9JtkwFTqcJ/waoyWPICcp0RCYDRf8FxgYDqQPuhcDB7cRygBZAwkAtAZC/0HzYPypCz0HORNIB1kJHg4LESYYqgOyBH3+6PrM8W8DbAxR9tj0JvYXDlUILQs8BkcXbyM6IfwqPy7XOk1C6E3YTBcwXjdmJsgpuCSqJEgFaQaq/eH8s/D/6KncJtrE5a/raeC/6yDyRu65+0j//QGr+D8GOxkmJ04eqR9mHIEfjBh7CFMR1Qo/CAkU5wn+HUIQ1R3aJ/4cEyUeHmQcbRzfI+QncxjwC7UNEx1fEcMKdwPHAj35ngu1DGL9OAjYENAUThFgEVoV3RrbD8sdHxnPH18XhQklF7sjSRYIKBQiWhwdHlsdHBqJF5YmviyJKI0lDSuYJWssHSTJGoQcixqNCuEPNyUZGtwddyL2IZUeXCYTFKcWKSDqFFgYThPxB6AAcxF1E7r+owAlCjoM1Q94ECARdy3GIswZcBFnDwgXQB+uD3IOnBN+Ge4UmQz1/o/7w/Dk+DjzF/BE10DVqe134njoofInBlcA9QpRBFYEtPmB5aDs3hPt+xIEqQ8QFw0erxpCJcQpjjSlLQgrmCOtFlkUuhD79+37DQ7aAuPyUfFc+HL6IPfk+HX7hvmV8/T4UfVM+YUCcgt3DuIX1BEkFR4KlAOFB/4BvgAsCkYQXBiaEvQHMARcGr0VpBWjFAsJZRwOFE0YcSNKHrkgRhwWJKkbSTAOM7Yh4S3uKlsp3AxJBAAA9/GK6VnsUOri5Brv6QEWB9sY7Bz1KcgwdzcbMfgrwhKpJacg1RjxApER4ByDDKciNxFZHJshICFGKYkWp/u56jf8kv4K/a8GvAzeD1wCYw6ABZvt893L4djOpths5nzdFdnh61vwkO777MXr3Opq+FwGfhkYAcIQkhTZHdAb0wZLBhsWFgx7DVUOKwx0CKcH2vVBBeMGvA7jFEMQfguo9YcJgfGW/EH1+wJLBLYNTBloFdQnOhbvFrYLo/MB/ukJIwQBDMUeACkYHf4U5xaXBowCB/E09yMBiQLe/yEEB/pTAJr7tPx6ARf/zQFQ9JT4oQMyBCIGRwsACiMEhQaVCEAGTg+NCOn6+P/b/fH9O/WEASL0quug90b4GgoNCJ4QaBeMDfMTKzU3MiYbqB2QDZMFsvsm9Prxnu1s4rrcGPEx/N3vneCe3XXfFduG1JjRO9vg1mbXqtQV3qDkFuw488vlOesW8Ivtwe3I8JbwceHS9lH4AvB7+y/49QPcBBAC3gTxA+YNmw4W+GXyLfSj/Jn2pf2KAyvxAuvE+z7yDt6b3T/oFPCx8Qfv3ehJ9Y7yfORW7ffi7ulE9HztB/ODBN4QVBPyBa4DRRG0Fd0SsAK0EIsW3x8kG6sWCAhK+mvmYs7DynTQxNsN0wLW0egj4+X6hRc8D24HowV+D5wAYvuKHOYVq/rEBkkIL/fz8m71wgX88P740epJ8TDymvFpALP2MPRa75fm/+rD7An58Pdq8hT61eZA6i3cTewi9JLw5Qb8CiAOev1J6+3uHfCa4ef8fQW89Ur3cvld/Gz6bA5FCxwUjf6wGNUXECDC/x0NyB4mIqob3CXJMtY1syLGGuca/guiB6sHx/66DlQLzAhOD1n76A41CocEPhG9F4UfyhY5FjURzROPGJYVFQ6wEAsVbSVGIEsesigAFWIyizxCIF8cqiY9I1Ai4RlZH3EnVTE6LcUlWBaXDlkJHhVcDzkORRquGIwIAAqMEM4CQRmDKM8fUROr/CkL9AunCOb7qPwx/+wBABBN+KsBSQprA5kNYiA9FpMVFBfPDK4fEBXX8LX85OXk0PfRM8Fh1rPBpdOQ0Azq7+Ju3Drx0wFJDM8QmBU0F4kaRh2tFtcX/wVgEJgHAADO/c73l+dJ5MzTt9Ckx9vWm8F8v5/Q4N8o3hjgxuNO5FTpV99799HtUPLI7lTvuvRo6RDscuuu6mTyW/A+80z5cgeT9srzKPzgDSME5QDE9/rv0evJ76Xmae6x5zrmcfCu5+7lSOxT6dr3hPaLBUT5l/SS87/84vAS/XkC8wVQBdUJ8f6nC5ILSRXCFZgaUh7PHB0V2BQ3HhkSexQuIPQdtSPcMOcdjg1lGvohrjAALqk0myTNHiMbXBtbF1YMlwj+CccDqOqH3pXZxN6j4MHn6/O380vyVvq5+cL/kf4t/PzwBvKj+ZH7Yv73+sT3Qvas/K8DGwIk7u790vtv/u/tdfT9/PH2qu1c+hIO6gI2CbMRbQ4+FbYF0v26BI8ETwVhFCER2ApL/KcDvvhv+Lv/Tfh094ECuPtfA/kDT/nu+OL4TvDP8Fbr8fuL93MA+QJS/84GERRXEQUiEjCXJBMZdA7tAyD/Ze1h7NflGv2QAmT6mgpt/9YEcfdZ+BwDCPHe6yT/Hfun+P8AsgRwBZME/gY0BlYKbxqiHBYSBP7w/Vnno+HM3j7ZV9t05tXkGugq8Ijg4+aq5I/i/PAi69fygvj++bzy4Oiu4vDkfuci3y7atuhR62f9+gIZE4sMshjgD9MRvBd9/qzxt+4j6sflTOi/6PXwz+j49ZYJaA+u/LwboheABmgOsBB0GUQKfwlAEUMXzxgHEPEN2PglBeAKve1W9Rn/5QsrA3cOzfwD+lz0afzV5EPtCeyj5lfwg/h19eP0hgZj9yEAlf8z+DDwxfwDDakFSA8kIrAujBx6EvAIZPzF+Qj8UfvZ5pjiqOlr7TbdVOoe8SvlM/NY8xbnWO0SAvz+g+xg33XdkNhD4+neF96e5qPkcOrX5Vnh29/p83P4HwI3Cnj/F/lj/UjvF/XU+cDvLvmb9HMMTwS3BAQI0hNuBOH/HADTCJke/ya9D74K2xCuAQP5N/E73Q/uNefR6FLqtuXf3LHme91U7WXoSfnD62X4Rv4bDO/6tO3M7GveR9UJ0hy3VcOI0pzRkthL3FnWT92k6Y7xg95Y5zjmtud0/Ln06ARJ/8v/nO3RCAAGaf8l9OX16gWl+xr9yAIEAcID3gaQDMQH5vgg9JYC9gJsFAgOrwf0BtQQgwFVCagDPgeCBMsV+wew/SIKORkpIyQh0w/C+zMInwG7BBf96wEC+B3x/O5q9Tr7+/r6Dx0lTRLwCe0PZgwIEgcugiU5LOosCzINLvo0GRqFIeITdQAFBjADpQ4qEZoXRSeVFu0OHQtXF0gUUBKXLjo16hwTHJMlLCCfF+saKx1xGF0ZqwISDiYTgA57C60gIxahF4Md6wvCFC0RYAdRAm389/aSB6AEHgDI9PPujvqe9UT0JAD6/Rfpse20/fPzffKeALUFGhMY+Tvx7uyw9iv3Zd5v5xzsa/PW9KvxHdyq8Krs2Pfe+Vj9SAnpBLgChfj59vzzBvCD0M/hIcul0dLc7uE9+xjyL+mN7UHrivzJCRPsj/MS8/38LfI36avzZeTr2ZjjiexV7t31Rf15DYgNf/5r/k31A/A8+Oz4pfqb8Hn/rf048kb1N/EF8IP8PuvG/g8ERQYfBN/1dvb68mjy5u+59GDpr99C11vU7uEp6aXtYwPt9OcBDO7Y8NfwYPTi6wH/3/Na837qY/aY/j/1ePnu7dfyMPLI6NDlxOKD5Vn0kv6PAHkW/xZSFoQMsAYg/oDubfQG9VHrjgCEAtv0cPiBFPUHuhTHE18BpPz9Afn/4wwqBnMOCwZ5FNkO1QgKGcMTiwO5+8wBVgbqCHL+vwijAl/71ARZ7BrpcufA37LpHPG85VvlHuUZ7VrtnfIT7/nXltSb8/P0IOzB7mjyw/9m/TQD2POZ7ZHsQPG99tXt4+pd7fX7nfOeB9gKGArI/yr7zO/U2YTVC+j14GT7B+455GLq4fZi+wH/c/8fAesBGAjW/gIFXwzoDV4PYBYEFXcABBowAYjmKPXP7DHw39m02PjUP9yq2ajFUsLh0LrWUcyR5U/rS+0g96H40gEJBcwIMgliHG8fsgmOCngLnBG1Bi4G9OzFBbf6eADHBTPzwQQQAwn67f9IEhgFEQCRB+8Qkw7AEe0SRBDFIN8eOzCZHNIUTCQyFIgBkfd1/p32zfqsDNANRQVfD2/4UPAz577sYPNk95TokfQg7B/2mulx3vXgd90n5bTj2uIE75AJ6QbG+38DTBavD1gI7Amc8y/x7Pz2AFf9TvrT6J79/gSMAswWWwb9EX4O9/ce+Vr7xROJH2Ma3RIODu8CHP7xDEgKuhAxB5kO2/9t/QsPoAnp/Zj8N/uo98jxPfCe50TmB/Y6/Az4EO5b+fIAYQT4BlANqQ1qBOoFRQjxDLYMwhZHC/sRIhKLA5wAngGjA5jupPFH/GQKVATFBYIHGwk4BV0WDxNWGsEZ6w9qDAoAjgeJ9S/rjunh6KTqROOB52TzePcO7n8CPgJvCacTywQa9zEJygt9EbQgdSenHn0sEi2SNdk12CkGJ1cqBCTEJOYdEhS2D0wDEQhUDPkPDBBE/yIcbRRMCz8AAu0+/HfwEPn7DbEVPQ7sDpj9uwpsAeP0Hvng9/PsQufOARcAXABW7E3q/u0L9mDru/EZ/UQQLBi+HwUg3BS/D/UalhNyGksJxBpfJ9UoiRwPHuka+g2NE9Ygbw33CTsPXRgeGrcN7QBW+1/8QApvF6z6ff2z9gADPQvWCcMLzAZiBa8JXAZcFF4DTAPqBhUEWRYgCjca5xF/AHkKPBysHGgiHRdUHHMTNgAZ/NsGlQjABCUGDv+z/NYCpwKY/JvzbNth5RTh1eiX9SP0e/Mn9Xj50/sX84XsLv2++zj+6/kl/TkJVBL6D90cYxZuIJ0K5g/6Esj+cQdOBZYIbAx3Fm8gyg59E+kmei03OWEqfi6CJWoDsAXgA//7bgUg/wYFMg7eETULeBIvLaUonR2OHy01ITrEMHAy2RloHTwQcQmg+8ULeBwfGU8amh3PGGQeaR8fLksdZBrVJ/Ir6yi3KLIboB66HMkZuA5ECpQQD/w/AZoIjPSi8hDvCulsAhUOqBEKIEwYZCBEKVEu2B6XJBwyWylZHeEmMiM2CBkBLhF+IHEJpg3pCqsSbR9gJGAZvQ62EQ4iODKdKq0tFjJSJ/4oVzRgKaEleCKsDewFDBV0EgMU7hF7GtMaZxyIG1MTkiUMLgo4HC8gM2IjAhaSJ8QXXB2SIMUqhi3QMbUuJi5zO4ofYjIMK5YqKxxRGzIcJB1NHBYoUQ9cHxkPehGGGQ0RQvvTCg0NZACL/7MBXP8Z/tP9lAucFUcHVSPnL9kjDC9WMJgUgBsPCTYOxQ/0D+cCvfaQ+pj18wAW+Br1L/XU+YwCSfU8/OELqQURDpgLmxT8F2sNqvu5CrgNCRt+HfoOgR8XF/gRnxRKHMYgYRClEjkN7RlXGjohwhz1KLApqSLgGDIR1RHmEdgEJAQR66r4K/9ZEP4YShOoD/ES6AxzA9n+mOPu78rsNP5uFYAatRnXCAsfhyldLUUmZxKRGzot2COkJa4mtyOcFekV1xKkC3sVLA4JIIIgyRMfDCsZIB8MFxYbjC6gKpMR8AX3E0YWix2qKsokTx99LBAmeCyYL3cr6R3UIbQjNx2iDPcWXRQ5H9ohES8gJOAw0RuELJYi8iGZMag0yj/KS8hFCTE5NhYsuyoeIGEmayQRJW8fMhGwGqgRDR8LGiUZvhqnE8IR+xRrA5IlHRp3C3AQSh+eL4A0oykGKQ0rpzDUMnY6oSR7GlUdcC0CM+Qm5yBsMXwxBy69KggoahyHGL4htghFAcMJohOqFj4IjgyFHy8ljSWGJGUyzT5EI+YjvR8hFbEd0yKzKVMwfUDnRbpLYzoeRAZJ3zj7I44Z+CaBJEYbaAOsBWoGMAmvFKgPkQx+IXsfmyr1GqYqmSPKJPon0zMTLSgpkzu9NatHqjoWNjE+rDXxKywo3CtmOVA5xiygH5AcBh/5D5UbBBM1HSwk8A1x/vX/hA62F8oXCwjDE9YTexu/FFosbDr9N44xZT6aPs4zSjBfJRwa1zDKL4k72Cm4MHA1TDpcKFs0JSiGIaMrhCetGLYSwhy+FqEYNhnPG/wgdSFcHUMakhk8K28XrTaRMdg7yDKVLqQupDV3JOcnJjgWLKsxJUeNUHlNr1PsO3NN6021UDpKhTvPOaInbzJUMpcr9xsTHQ0rZzJgKbIhiBntK6gPWxI+IPMUkB3rNRg6rEf3TC5Cm0Y+L9Y1MST6HHAcBB6bC3QPTiETHgcy0zUSJJQd2h4xMAsu0CsmOog8ejHqGvgd8yFxK/MhyCd1HKkkDTTSJ1IgQhGUFnH/lw2CBCMBYgp2E3YKa/ZQ/DgLFhAhFOYiIxznHMIYEg9cJyUozC9ELvIgWiP9NMomFy6PE64z8SmvHH0VxBbaCfD9Tw1GGkgVcipCOWUpUS2lKoQmrCN0GMwYGiMLLtUcABulHSUjHxtjCIQdrxmjGPsvWyqvMkAhnib4M9AuBR4fJx4bDxE0ANIIGQjAG5cSGg53Efcvxi31MvwelxP3FSIDf/8BAjsO/heVHnoqpCyZL58ahjEJN3QkDx6KLfkeuyenH+YkaB7xH+Ierh5TDlkIIRF9JK8D4QezAIv+cffNB6MDcgFIB2j66go9D9f+UvxbBVYaZRHYFnv8pALLFrYIbv1EB7X0iv4vD6f3MO/P42jrd+M1553eU/uiASr6XvdfBr8IcBt+FOIRygmEFvwePSAkHFUdChCtAoUNPQb6B//wePTb+2AURCKJEWUSaB1WKZw27SzqORo66j5CLDou1DhIKNE1ajIqMBxCw0D0O2VHtzPHMZUvnCa8KyQtESmiHZwtnCIGLQgxbB2ECzwKsQxDHcIRSQ8YCx8Y3SHeFhYTQxxAKB0mhg3KJMwbVh6vHwospyo9KjsxETglPDw7ZEEKNekphzTKQN882SSeGS8RwwljByYdFhRHDLEJjQptEC4YYR+iIi8dQxj0DlIhxSZIFlUe9BvaIwYhlQ8CDSABFhN1CfwM4gAwCgQMHBTjCL0R9hXVGI4dXxO4E8kNOhUz/p7/sAb0A2EL7QDc8wTxz/eY+JD7pwIgCOYASPL59oj6vgphEvkbFBPhC+UCFvcRFD0SugxCDBgNzgjaBCYDExp1FBYaYBKLDG8W1RJtBhMJxQU+FvIdjSPBKUkvzjAlFNkSZBCMF7Ue/A1rEYQP8Qi79NzoovhN+Rf8rAIA/CL6ufjL/fsGWP4u/3n8Dw+hHt0ZQRQ7JMkYFh1gELcVGx4nFOkS7B9DHOoHXB/CEyYK9Be4D0EUeBKiELoBn/eR+279jQ0lARj6HPqO/zgBVw7FCEr7q+pNAkLu7PMO79bn1vPhDqry/vEV+8oTfBsgMp0epxwQHqAYXh7bGsQipyMpJ6EfCS+LH5gQ5wuqFRoJKgYvHDEXrRwYJtwkVhf+HOcNURX9Hx0NxQ2PGM8jWyYwGmIKqg8aE4YNjRCgImQmZxo8GIELH/ZJ8u0C1f6TA0oSIQlOD2YTPQ6hDbMDX/5j8nrv7PNo86UAJf/u/9n3h/Qf5CPstefy6AfmkuEM9pH5Yv8b9CjvOe497poJc/xV/mYcix0gHvoYIxMeC48LAw+bCgsPiRNNFn0dqw4lF0Ig5SUZKnwexCeVK1kysCdbDh4OERI6BhUMwBNLD8cRzhNvF/MNmxUaGvkdUA7wIaAqqhrEDL0XKwspBa8GYA7nBUj/mgSBFLgUigYj/m3y2u9j32na6ccA2B7ViNDtz8jfe+wP+S/9wAGGD3wTgBS+BU388Osp7mvfOePn68jsmeW95ZjeuOk04czl/+2P8+fe3d1O2ynQydTh4lzbl+4Q8nnqvOhN9Tbu791w3DDvAvPR+cTzg/RPAjAK9AQM+BgQYQzpALD2X/hf+aH6F+id9akHZAGG+PzylwiFBKP3m/3aBMcEJv77/5oFexCkFVkSYBp3Dl8FKBAcHVIjDCQiN2BElDqoHXwU+AJSDOYG7xFfHucluy1eHgUKUhvqKD0aGhhYEB4TOBxTCRoPoRwYIHQLDBAuGuUUWfw+DX8SjB3hHWkYEhyBIpAPRgxcD/EYnQVrCAMO9xysFeoULiZLCHQWMhrmHB0lqx6iJIokRCsdKbIvLTfiQ4o4Mzi7LQkoexbODAD/uAp7CBMEFgRJBVT5EAWQCgD7vQgrERoSxAQVEwwLiBSpEQQTdhGGEAMLufsd9I7/zQMNB/z68/Pm+33+sfdI99kN6wQaCQLxCPG88MDr9+8j92Lx+das6eTnVucB6F7rwOhr1LfxtfQi4ovhyPHX+GbrxfDD4/HfNvVI+qv+bAmT/40VVQxJFacZjQ4kF4wLvf6JBPP29uMx0hvbodpa7Ubnv+QfAHQDv/qTDTACyxHaBygG4wi39Rr4aQTkCmMN4/NX5dnh69Zg4vznJ+Ao0tXaSdOV0/Pj4u0W4Hv6HwFGBYUJtQcdB9fxs/fJ6LTravRR93L6x/Id8rPsh+WP65bh/9q+94v5jP0I9fDvT+uE/VjsA+hM+PLu+O23+cDxjuc345Hbrdmi/QH7gAbHCaL4UxSdFf4KbiGyE5wG3/yc7W/ugPUNBKf8gRUEHSwWDhSFHP0HYfo8EHIbzCFBHtwUsRtwKoAkSBVTAtgWdCK4IJUfKg5d+8zoZfNm+LT2WurD9lD8gP/OASUJvBm5EbUSqRTACTcP6AUvFNghMR7WKyUvYCgfK14a9BGT+2kHFxn8IMgdHiYkLEopIi58JvEsVisqGYgQWP8MBKQSWB52DWMAhQOpBQgS6RnQFi4KyBiSJr0lnj7mOCo+LThuPjs4CSqNHAEcthFxAmEBQwxKBxAJsRmwMlw3WCo8Ke8uoCW1IAQOtBsvKlQgLBrxHNcpkyHeJ5ErbyJjJ58STwTkFCIN7wT3EXYE/wxs9C31nvG39mL4T+9C/GUEnA+pGHIbNyaVMuAybywGJT8kwR4MG1UiVinxEfMXyRZSDkIZPygpN6U9Xj7yOfZCBjtmPj08uzbBK1MZRSBXChYGiAqgD4YObgFHEOoUORxkHIclSCCXGNEO8AWTD4cRqCGfCUYDChMlC6EFFAmEBMkJYA5lEGH6nvyjB10HGAEEFzoRKhOHCzAMOAfXFtocmRxCDZAU/g/pFFsEq/769Fn6xPze/s/xgORo8ovlt+yW5ub3ZQQuDHcJYhFLB9z31AgZCjIAyvn+DeQDuAS39rEIWOmb3SvogvOL7h3vr/RL9bHy5Ox05yPiXfmNCB/lMPtSB7wQFQmAAg0DaxA1GxkbLhhOCtoAPBR1B0gddgywDFUi4BAoHOIkRhYtIjcljBrlGbAgSCNhKPcKBA7f/5kS3QyQHFn/Ku+2CAIKqgoRBp0enBTNGyYpAh0lHmUjxyoPKnMwoxaDGfwX4f0dDGHzmgjBBNsGYAxZAGUR0SLFHxIhgRj8Gp4sCyuBMKsw5SAaFeoHPg3TEN4M8/mZ5ir5HQUsFFsEE/oo/Y7+Tw0cCO4UMhfyGNoS8xGrCFQJyRnAHXolICTEDnv6xxQXDl4GFwxdCpX/6PyZAjv85+PK66zlSusK+CH3/f3N+9H5wRU2HDMc/RGIECkj2SdCJpYiuRmTMkIohi/fKoYkEDTBLlAofkJsLIIp6SScGK0QYgmpBKcOJimfJeojviSeKGMmdzuALWk+1EEROz4mFiYPIEEmgwvRDsX6W/w9ELIXPAr8C+0TWynBIE0jkS2MKpsnRR2yHV4dXSPLMtcc1hpmCZIVtRqP/ZMD7QN+Cc72QAaPAbkEjyOLJn8SWhbSBd4RyBx4Gu4NoRrxC14DuAgkAQMJiwWmBMcIYCY1JG8umzN9KDsYWy/lLggwajjFJfkQugwFBxgKnQMWAj8B6gXJC6YDZOwl8zzkCext2+LecueO7Y4Exe1B+SsKCxYkBmsUywW28krob+oy7Bj4TfnS+Ybr2Oyv9DX21fDt8NHo2Otb8ZXsxulN7oruifVv+Z355w2ODoX3CviwAOAYgA9qF+YkQylqBPsHTvurAI8JSwSk+eoF9/5C6nH5ceLP4zrxauOd+rn9Ke86BC4OUAkvDj8MrhvwKVgw0jEJObsqaCApIJgFcQdT/2T4r/OEDtUidg6kDh4NoRH7AKEAFP67+6/9Fft2BM4KjvZl7i78P++O+urnZPGfAcETggd4CjIaSR+zIN8fwTLEMHA6pjcBJck05z0yNHMpyCdyIY0iRRvnNCEzvifLHjw00Tv+RpdEAjoqO4M5xkF4MWYv5SgUKnIrXiThF90VDxpgKwgpnithMAErhDIqL6cwJyfnI3se/CaWKH4fNB8rHK8PZA3yG4sieCMnHuYfVi+oKsghfhIzGUAcbQ83CYIRXyfCCbsQmBzLJVUf7SCBHrUu8RgmESEkMBc/JBMztinMLawqNhfSGOkYLiRzJpkf2SK/LyYrMyXPKLcjwSJpHmQTjw7oJWwkbSJKF+8UPyW8C9wOzws2DcYL4AO7C2j76Pk//8L2VP3h9yLuIu/v+u8AhO3y8hLdKNXi2b7k+eHQ5k3tfvF647LNYtMq4Afne+ev4uXtxd9L6Er7tv2z/hAKVwAIAR/+egqIEWMUXxdbBcMK5gw1EhYSBgUsHfIQ7w32FhQRUAREE7UOKAzpH0QTuwR3/Vv9hQSE8uQPPQfJ/NbnUuAV5JrgD/pg/wv8GAncDEkNCwGbDQoKJQaZD+T5pwtOGPAVJBDTBQEPbBHmFxISNxc1FmwgvxIzDNoUHhKfC9gIdwGwCkkZtxD5FZwQmAsvER4GuA/3FJAKxQGWD3ITIg0BHucNghYsDQsFaBIdEj4cLxsnGH8c6yuLG1onwh08KZUoHBLhE/YUdBDRCZ0BewErDSb0r/bX/nQCjQhsLnEeeyjQJhglTiQKI0Er0S/YIE0b6h0VEP0gBSU3G4sUTg76+4AMowcq+9MEugHNAhb+5QY97uTr4+Ef8yL8lQJN9ILpMvl38L31VvJL/nH00PX/AVkImPfd9WQKHwts9w//thEiGCka1RDeHwoIHBE3D/4PLPyb+YMDKwYm+bf3svhE73LhY+wQ7n/sNPRX5nvgX+UH7/XpiQYACeEHTxGK/gkJnf+NDpMRjhcvERAcIBqvINIg8gGILAId5wUSDd0C/QtoEVAfaznNKmM0TjeCORE0djL3H7UNrR5qHBkcTRF1ExQQhQntCGMXiwqz/ZTpn/QfC6YOTwExEYwa6RwSKcorLCvBLMs9Vy3XMXkgSRGXHbkhDhYRGPYdhxi6Ec0u7idNLZInmisAEnoSBQkGDYQQUQnXAKUEzAgpEvYMgg6jIwMqux5gFwgZOh/DCosdiCExEw0Y+guf+EYDagdYFPwU1RbmBQQNKgzBFRslLCM3H3obNCHZKxcZcyvEMMMjGSuHHdsWlBd7DtIDuAqkEUUTPBBBDXQRmRgiBmECXxuIFtkXfA9GBo0F4xW3FJQNowcgCosBEw2w74nnrPLpA6UAtQek+WP8ygDgAnwICxa4F90HWQA/DkAbDxQiEDcuhSgvJhkorzrlOKIz3TJ0NFwuMi6VHJ4VRv2n8H/54Pw77jzu9vxXAwkK0Qz6F64VeB95LVkoFCFQLCopgCW/I0gj4hDmF18VthsPFFYLiQNCAfcK/BG5DukL/BPZFyIZaS9INGcnFyl6J6k52TqjLpE3VjolOWFDsDy5Pqo5yCwSGPYNbxHp/4b5iu/14yHoY9o68jnzgf5tDxUTFAAYElAMWw2MBa4LBAiiBP8G2vm15sPsCfiP/rsC1AiP8mXvsvvGBgoMKhrqHL8qzCOdE4cXGw74EHYYSCU7HqknmC9RQX9AUzwfPvYvDCK4IdYURCDuHF4obxWy/rYA8vz1Atv/YBFVDS4LKQQaJaYk8yndJAEWbyDcEb0RohWiCSIQqPaEB6MGgwrtAmYJExgqHZQZpBPFAuIlki6ILkMu3SjZJyEqKx1lJE401iaTLdQfnxO1F2EePSknKjAj1iciJbgwGC30LoAe/h5CJgIguRW8EekPLB8CFcEb+SQzMDAqoSh5J6IvcCXeITAq5yuoHDEknifIL8UmuizcM3k6pSMoKZgxLy8bM60ulDRmMZs5qCoGQXQ+Wi/AOjUxOjTYP5kjziOvLEwoWD28QyUuqyvHIHAtpCp5MAE0qEL1Ny85fS8sNaIx0SKOHo4tph1WD5gQmRyYDtwOZgAF/3AB0QldAUQECAXwDY8PmA1NCh0RVSPeHrkU5BljIrU6Ej+zQ04zoid0Pf44azbaOfA63iBpMjQlti9qJ/8griE/EmkjdiRkJqUmJCmTJdwmwSa6ImgX/xRkCK0IuRliIjEpNSNIJTQmLjc3Oywx9DDFMNkwvCCLFgQg4xRmFfUMxBv+E1wjMRg1FO4Ohg8lFFgVWgj5ExQUtxwZDfEJDPkrCw4KbA+LADbxovvH87jwRAA9CHcHBRLNGoIamAyMBlsaHy9SJlIvKSd/KyUs1ztdOiY1diuaMbAx5ywTPfU0AzIxNKIrhC2sLGE1qSwlKeoq3BwFGbAgOhAoE/wVLwHe/7gCEQwKD438SRH0EnoYgiH5HLEUARXDErsXLRo4GHoXvxBfAfn8gxUyF6MZyzXVL9IzzCpQIaQcaRyMGp4hgB5sE9MRrgtPD3YKZwKaCPsZAyIlD1ELWRC/EZQSjv3XCcscSiYNJoEawRdVIjQU8BxvEpAJ9h21K3EvGi6VKUUrExs7KvE1IStCM003Jy9UIWo0XjBdMtcqyjX/MpwyBSyxL00kpSr9PcUqqSR3G1sgZiVXLjor+RVdFj8ViwM3/4YVeRqZCbIJXhBBCncTpwZcAZUNJhXoCJoS3h7kLcolxiP3HgskRSVaJPYd1CdyIq8h8SPyIY8hyhxgFQwWVQ9xBrcRjxALDfYVjBTHC4UGERW3GW0miB8gHT4rjCkSGoMhNx9MNeU94j2vLk00+Sg1JcA1kShqD2MdUxx/EVkMGSRiE6MNHw8mFuIhSxbeELgq0hVz/qr/9yddKjQiLixmLYw2aCw9KzYjBiTMEFMn7hv4H5Ec5RGNIC4YcRj8FgIQpiX8IYgW5Bx4GN0M4AqqHA0R+RF+Hm4fbSawGYcRjwgdEQMcHh2XIMAeSiJaKWIy0DQMN1sgvgyQDFkRFhlPGe4YKBsVEyMhBw9AG4ccbxLAEikWdRlOGaAT+wVvF2YZJx8yGyoYfCz8MpwkNyHGKOEi7hwXFfD/Mw3uEn4QNRtxGRMd4x+GFqskYh4BFtcdAR7WC8AgzQ/AIP0tpR7IDJAUEQ90FawKbBSBFsgQJxMXAuwXGw/VEe4b+h5iLMYj5SNyMxAzJ0FWMl8z7D9OQBU7zUlSS3JJIEJwNDlA5DJWI5ohdSCQDWITagyN9Tf5vfoZ9/H5TA7BEMf8+/55DtgLp/gi/LMLNAwBCdwPmQQ+DmoOeBh+FuwFnvi+7Yf1RwhME1QDcQLF/vECiA4vElEH6P67/0z3mAa5+2kKbAnL+TDzTe9YAJvxXQUsDVr6j/tFCcQG+/oxD6gVwB3WED0bJBcnJFkZ4SS4GHUYDBe0JSYfIBiWF/4TFQyyIPoWahNqHbESNR9nGfchNS0lE6MCvgOd/jXy2RFuBUUVoBQZCDkC5g5wFjMiuzOdLcUqPB7FGREgRypFC6cTagt/GPISSxaiDlQKTf2u7x8TjhIfEpoXoQ4iDisgQSSzLx5Mtj0+OWMukCxFJwc0qhSrGdQZhSVdC9kKxRi7CSENvABvAmkBq/AdDzX9fvw3AmwLnhk/JcEn0Sw2MNwt9BrIDPQP8wuYD8sLrQMICzARJSByKwMe+htiI9EscQE/BIYiNidINrcwuyT3HKEa0CWPK3UsTCPlHrAbkCiKFlsYZiYdGRggvSYhE6MbJifhKGobQiF/KcANURzfFWwJJRTjDlMTKwwUCp4H8x2nGDoVmQv1C4sLfBhYKJcU8hHbDTkWEg/oIFwgdRcdJ34jtB6jImIgNxxQMA4acSVxJewaVh6JI+EsQyZaJfEgLy+DI2ocjhi/JeQYExSwCDgUQx2KDmcRLwzVECAS8xb+FdkNdwvVDZMQVhKNDycH5P86/kr1jvzDBJ/44O/6A/j9pADpBND7hv5g80P6IAK4/BwK2B6xI7olQSwTGnspaiKpGA0PNg/oEcIHPxS7Gl4aswrjGusHrAg6DOLyuR7GE+IRswbYJB8q2BxAGEkmUSi5IbYq8ivqO1AqrSFZH2QbFg8HFLUHbAdj/MX1DfwUCL8UYhKoCYQpuSFQLhEvaznHOvs13Sr0LaoXFSQ0LUIhSRjgHGwX0DOiJu4bICv1Mpo5Uz2nO8hZp1GqP+JBcj5DQmU/1S/OGcsj6R7+DaAQihamIMMWNxP/GL0U9w83EScmIyE2JqwRUgLZD4QRNhh4GRojLB2FExsfbR4qKeETdxNpFPcMiRBnFKcPRSGuEcYcnR6jJDMl+zALNw8/+jRPOxM7rjPcIQYWfhSQDVEX2wSh8K7p4eiS7sbuJfKZAkn1+gLMAN71Q/44CrYHfgSBDGYQZw7uDGsO1RcDHfoNXCkSKCMVUC9bKMAmmCjWNVcXaROIF/sbpiaGJJsUTxrPDpEOEhMkCW4SZAPhCcYE/gy4GTUmRRoiH20qmSBGDjoUxweECE4PLQkU//n2BvX79+8GSgHX/nMHSwEKEVoSsBIIBbsJEwZLBL0DTATlDP/7Su5PBhj2/wIU+vUFtg5MDp0VUxu8Gg0VMhj5DQwMIxMhE0oQIBUKG4QC8QKTByUHjwu+FEwF1Qn3//QSkQYTFtstnx1RLKUxkTfcOKcs6i3kFIUg7yiKJmkifxZcGnYkLC6dFlQVoSD/KS8cwxeeB2EYmid4IjkerSEYKX0gRQ9JDzQTjSXDE4IWSRRyEP8jNh8UG+MhYhEEGUQdDSoRGAsZYhKoE7UQ+/UGBhkK9hgUIhMJiAuADhAFBQhDGmYa9SJBHrkkfxRQF34QeAq7CVkG4AnWDbYRUimbFXIrEh3mD10MNgpZ/XcBiBKC+VYAHAEuERIGVBpCI88R7BIbER0eWSbJF70p2jDCIzEg1h15FMo0JRa5GxIfvCbnIbUaVyQgJX0lAxigM+EeBCNTFCAYfgqRIqYeOSR1HnoeySaLGZIZBRBeA9cMcQX7IsgZzRkPJAAdyyRuG1IIIBhLGTYWBhYtJb4ZaC4AOCguQCu8MC8dGwgSGigNHBW4GJkPjQiTDGQKtgNSCMoRkgUHCeP96fszCt/2WPHa9rHnfvw/8On/KQ3LCdEGKBk3IkMf5CGjGzUZ+SKzGPQlzyeLGDAc7xEWEf0faTkoMIweohVzIKsZagwdD2gWxgZUA6fybudy7G7xk/1g/pQQaQXBFrYUZh2PJuUi6hcdGPkmJSzUG3sY4h/aDAwB3Au9BSwTtAxLCu4bvikCJD40+i6BKYEfqBYqKU4eKiJ9I3cc9A9OEAYaLCaCIuQhyRpPIUwPoAZE/h3/WQqdBlAFIQYnBJUGSQVqDSIK3hENDmEVbv3e/iIYVxStINwljR7MHEAmZCO3H1Edww1eFqkmzSQNJqIkgBrNG1sjORfkJQci3iilHFsfehvhGb8VxSgALHke6hlHFbkpIBsHE4UlkB7fIXEpTzQ8OMsmvir0HdwwXSf5H9oSohj7ISQDsv8HFI0eiBi6DxIYzxzyGjkWoQ/DGWoI+v2NB94I2xTGD/MR+hsRFDYVOA3yAKsdGRzqHqIeDhlLOaUyxjvnRBNCrjikNGkcygT2AtIFTv+e+B4NsxJyHfEfmxoBEVkNtBIwGk4V+R/ZDQYRlAEC96v4pxvoDl0C4Q6hERsW0AuFBpgP5AZnA4QPBv3K8rb+XfbcApoA1fM79rv+HwMcAVoRZQqKC7z53wpbB40LNQVg+L/7ygfTEwr+lwaaAW4FeAkmCRfuJ+RT5tzfg+pu5sXS4+Cw5mHolerz7YYH0ABZATUIjBONC5gLTiaEHwQZOQzRHCIWFBymEgES2hgVESYcSRegC4YSfg1PEMwY4BblDlwYZhj3IiAm+xcPCyMVQgNm9rkB4/A//wsOZfip+Ob71/aW/LoM9g3gEBUJVRlXHpEfQxSbDyQfQS8LJLQkmhynNmQ8Hz3UN8szlkHsL8U4Ji2+HkcX9g3AGf8muhmCI+IYIg/pFx0Sqg6O92AJKgZuAXAAFfPt/loCqQ3gBjIP2QUgDcYE6vTl+TsEUQgrNKk8pzkgM4sprChkHAYZNRjoBlghSiKPFpQM+gbMDfkBrRhTDsYCrxITCnoKvv+5BG8KVQR3CwoRHBDHE+4DghHTF24j1hAoG2EXuxOTFnYZOBRWDUAQwfhc8dbs7vn6CxQThg52DDEUZhiLHZoLsg92ELEMkRHzHrYS/SSFI2USEBZpG0QVfQu9AXACyvhlBlYArf/cA4gOpQ3ZEPcGJhh48yoBTfWA7b33eACxFF0QgQ+qHrQXyhwKIywY0gT8DSEW7w5hEJ0EQAH0DLj49PviDeEJfwg6AvYHhQjyBvzyjgbk/ygIIAHf7sn1ePEa9X3yM/cm+c/9oxRrGAYLVPxP/Z37+QdYAwkUGQKW8t/9tvZB+88H1gyaDesF0AwpFbcg6B74F90ZeRrAEkQcTR+PJ8woVShsG0QQiAQXFPUBC+yc7ULsw+kU8P78Z/L/6y/dp9wM4RvhkOSI7v7nxulH8KTmmPE995v0+QEtC8gSLhPZMyotnSvuGKsf2SKYFQoVOx2yFrQN9hRhBrsENhfOGqIU3BzsKJMb7RzIDfUj2CJTIGkW/BMsA3v+BQXABLT1FfbR7mT1kvr6BkIEXPxOAdcKBxntI2kmjCYgLhYwsR6QLnA3RDZiJxglsRhaDQ/9+v8EDK4IyQVn/2MDqg7GCRQOiRb7EzEOIQ6qDK4SaBFUFckAkvgRB7D70Q6aAHz21vhB94oCK/gt+jAELAhy+/zriviL/n7uKvAN+LvyLgiaFxQd2wnUHaIOUQqYCxMQgBJtFBMGEhLTGeAVvxgTKqM14CnmMF8u0BjPIFEGpAvv/NPuY/fPAQT2yutn8tD90u1k78Hogvw/ChoPvRLMFKss3hkDLDYiWx+GJlYdDSTmHu4a8zFEJxkLcxu8IQgRpCQkIGQM8AyyCzIIvAH4AoQLTQd6AoYJDBF/GJ8GfwZJAIAL0hd4CjQJLQfYF98jng5eEJAPqxuKGSETmARiFHUKkglDBsoOsQDeAKEWeAzMHtQMjQyNEasMkgw5C8kMqxfqGHsJNxKg/S4HKvoRAcbw9wJq86P+ygC8CHsPrBCVGvgS+go2FDEbpxnHIvskLisfJBMw4CUQLWIZ5Bc1IYsnQy4ePOs4UzRMNh1JvD4/R+lCPU85QDRCeD/VNG4gVh5PEp4V0BjPG+gUfBN2KR4QLx1uKBsy3iFgFQURgxMoEMgTIRZWGj4b5hf9E3AmNCXPLHggKyXsLi42HCp0NGU50SvkEvsZeR1zC/f0qAlHB/T/XwL0AnoJJAoTEY0CYvtSBgDx0/thCC0KDxB0EkYS8wFx+PL4agKP++gCfviPAEL1GPUc/o0Kaw+N/UPpzPfVB+P2qwGr7MHkXe1E7hrsRAiRB6r8ugacAQwJ8RIFK3QiSxfrD3n8P/hk+RP7F+WN7sPg/fPh9k/0v+d1+uAMMQzdA4MdiRJsH7Ynmi8ELR0cZBVwFs8SsAYNE0cechUqGGUZ6BMIDysodif8JT4XdSEQK5MbiR9lKIAuKya8Ja4sZyLZGc4X8BwaJ2MtwjIAKhs0aSmqONc8ZyZCIEIn4R85MsEsCyfmH6Qb1SMZGeoWlhwYHiEdThRsGiwjAh1/FdoUFRrmG+cdPhfGI54x0iVIHlM6DyhANEkmehcqGh8ajwybAosEXAaaDEkVMxsyHYUUIBjRBycIeghwB/IQixOMKKsqfiwfHREhjCPrGqUMnwoz/+oCUBFSDgsSMAvcEnocEBAqGxoeihxK/uAKoQ6dCDr9CgZzDDUNBgzcDKsJMQIFEGAnnSx3Iwc4eimcHZYpwzZ+MNMqtRs8JoEi2SU5EsMSORlIBxQb6hHPFaUJi/+m/lcHLQuDEfsBRhNUDXL/MfSKBTIM1xBxAWAURA6OEi0X3w3VC4b/cwcMDU0Cs/mjDFgI+/nnA88NVwwOE5YK1xltG5YXchyaJ6gjfRoCJ0k5Yi7QLqgpNypaL1QqCiqGGbIkoCp7KK4afirRKzMmHjc3LAQtBC8gC7AZAiCJHR0otiG4HmUtly3dGF0aKwnsCLoN4wCQ8ZToEwJ3/ugJ/v+J/x0EQgAnAlgLoh6cE/UJuwtX+y8AwQYRDv8MBQ0nECcFBhj9KY4bkRFJDAMNyQsLEdsUDB2iGfwTzAjgAwD63PrD+RYJWQtJF1Mi/x7WIv4eviESF8ISkxROCScB+wpYFe4OhRf8FqL6b/Xs8Zvo9uBy6Qf6ZxLx9kcDCQmICbwfSCAfH08P3RxBGeYaYRgWE/wKQAwbAD3/BAKxCX0BZQxMF44cbR1kFgMcRhmtGNML6/SO/Iz/Lvjm+jsAF/54A0UKF/99/BMBqgevD/wK+AXxECcI9PwU/4YPaAT8/xIGcBNHF00cAi7dPYM0LTIeMYkeHxarJbIavBvzHrMadA4VFE8UzRwbHOkgGh4yFAUS0hrSHn0UdAaN/xb8XgL/DOgDGQEyD20QaBMNFmQYQSCsHkIY7y0rIVQoRSmHI+ss4iwpM0csxD/GL1UvqCsbJh4vrilQLLgnBBfsKWsZYSP9KgIuqygFGRMSIhIYEUwLPhDAJGApMB5RIakhACZrMCQtoRz0FbESeg8cB9sUShM7EVwf5x9qK8cl3xZ8CXAe8Rg1EcoX1RHmDAUICf34BWn5bwGl/g7/twBWD5wFhRZVG+cXmxWQCIUPSR5zHOUTfxQcG8MOKSARIowplRciEqIW4RRjCOQRKhEYGvId/SJQFLgNDRD9Fykj0ShGIq0pFCPlGggKLwheAxj7Nf87+aIC//rmAMn9zPQEA1cBcPcJBNEK5P41/wwJdvlZ9sIOSPdgCbz8Kfw5Arf0b/vsAigDcwaUC+QKVxsJQFoofRlGCgsJpBVGDE4BBgQiDhALFQTMApoB0BQr/W7+uejp6Jn2S/Nh/cQXdgo8DzwUsBxDEvwqtTS/KqM1QB09KMYWzRl6Gf/7rgJuCrb2Tvf0BPr0Vg5FIL8RIhAEGHAhwjzHMmQl8yckJDgXgw0aBI0MmgaMAgoX4SUDGr8SCQxvCtUD7QK2CkcDxxuNHFky4D1pJmchciOeK2o2wyeGJCAoZDRdLt06JzflMZwkzSjMJ/MlwhiJE78Rrx1KAqESvxUqGv8WhSgyFg4ZVBUfKmEpGTrBJDQxPx6CGdwS7hR+FJYI+hMDGLYUqRO4GZUXqxBDEzwaWgjGDfwOxA/OD9cQowwnDZcOyhLRDlUWZP2sFV0k8go6EQ4SyBksINMRegV09DP4xf/38XL8SgOn7NIAIQNg/uP3Huzs7YHkUPfB9RL5awS7+c74ivM4+azuPAB3Ahn2swUj/N8JOg3eGokbbx9YIzobtRXkEWUAcgyVAjMRmQDiAFQLzwymE28P6gStCogHuhMkDHwHNxfgIy4qDB2ZIsYeOx1oJmESEACLBAoMVxRiFhw18RqwIwowxjXCMAYohTZrNO4wvSOxJ2YcjhGfE38UjxirJhUlNyjsIYUmrSS8LlYeEwmKC+IU8x0eBCoXUxYdD3sTKhUUDyMWDSRR/pwVohknJQQkzjGsIyUtNEOmLRssgyA1F/4Wuw/WHBQhYh0IHmYMcg3MCwoLpQ8EFkUZ7ApQ/AEMMwhbDuUFDfyIBsj36QPSCYz7TAziDtcHkgglBz8MwQ9XCgwDMA2ZEHQTsgYGDdQeqxjkDW8EgwbOBA8ANguGAFgCbv8RBocEtgV9FXAEVwlQD3kHQiDJFrUHBALYEI8RmA9fD6gDmP4Z/TQX6RMIE0QP5A4zIvUqDCUxKRk+W0D1LTAabxZUJqscNRrfGdkZew8HDs0bvyDbH4EisBfEIGsl+SQhLxcuQjIFM/MlghzOHMYQyA0yBzL62PZw/Bf6PwHPC1YGuBamLsAfsR7bHCUjMxv5ImYc9xPLGw8Qxw9m/VUKHQ24/SEGAQye/h76OfczBjQNHhdKEsIN9QQl99wVNhILBn30yORt+Rz7PghpEbwfMxpuIRYLBggOCIEBTRZoD6P4ffyAEDYZBhZdIwsZPCLVFPMg8hf+FswQ2w+1DTEMOgsjDdj+bAeSCx8Y4v2MFngT3CPWFe8kRh6SKbk0gi9yMZww9S+HGy4LcQlOCc38LQ5SFE8ckhgBIFojTyHrLGYxRjXjHSIt2jPqPN4wTy78PKk0aDtANp8xSSdoIoUV+BhuCe8FTwF4CBsHefPJ7bzsvfPG/l0PFQvUCOIJhwl3DboNMyGSGEcdPCiXF6IXugxeExQT1AiX9HL4Igx8A7v+LvKK7ajlxvn++X4KmwOnEigcXDJ5JhkhjSMEICoRXwle8C3vx/BH7TjzKOtb9+ICf+tH6cbr9PUO9Lz0jgHzBegFRvnX+s/tf97U5nTcsvTa9drps+gT8SzxHPKS+cP3q/Vu/Qb6X/Nk/if7aANC/1P7lAQLBCkD2gQx+Yn8jOfQ7MTntu2KAX3yqesMAIYMrw5dEVwc4xzCENUc/B80D7QXvx5tMOghJRN+EKYG/REHDzwG3P9cCKgLYhWCIg4XQAdiHn8QIgIqFw4HnxJIKhEoFiOdH10ntzCHMpkMGBXcAAUAAhI8KcYcPCGlEzANVhoeJLccuQa1BbgUYxDPD+YSJQteG50JcRXpCBr+Kf4AEIYb7QZjDxIZERogFUghJRDZEBQOUQfXCzoKDgRb/vHzmgBVDx4LuQ4MDiQMlRDDGLMZGhemHPQJOA97AoIEYBZ5CUIFZxKNEC8YnBgdIEAckBlcD6QO+BmhCUQRbhFcAFT6zftu/ir7tt0C8Q3pVP9q/uUAXBUaHwQd8BNaA6kWOBbSDwIB8Az+FYAgdjM5H5QcDyKJI0sOpxz8+Q3wbQZEBE71JO7E62z8kgrNEM4Niww2/7ML8PHF/fn5+/Fk8Yn4ROe09Pr4dvNF9aj4AP8xBQgMXAYlBkgPdA29+yX37uhp+wLlUdZL3N3q++P57073aPNr6zL8EfUg+4HxjvKi/sXt+epo8Xb3KPUf/pIExA4aFBUZwyZEJ+cfehVcH2AWryfxJigzPzm5Ncgsri7iLn8oDhuGDu0ZLR5vB/YKPQ4gEagadRleLHgqkzwyPmIziUWQQxBIdVTgPjg6Ojl2PhI7LzOfKuMqzS/jHxUaahZ+FkcfOSfFIA4s5hR7I+4hiB7sFNUekh5AGoosfidsKFss7h1JGpcQgQTM8kj97g3fCwsYxxwRHLAXyRH2FqYTzQsAKdMhVBJhEwQYPB1THm0S0wbPCJr7lfTYCQoCQf3C+XH27w3VC/gJuRDUEOAW3wpx/aYUGwdFDTEnWRVYHWkSCwmlBdH+OQOG8WrrCOEt4T/wGvcM8igD7gmQGsETbhSxF48inx1BDbMamieFMCcqOSuuIkMZ2RekHPEq8RD5GfMgIyOiFyIloggKDIEJNQAE8D33yO591aXdBOTM3T3hq9yp3uTo9d0B6671wv8YDOgH+gqrExwVCyJpF10PfwhZ/J4DqgccHyAbGQ7PBoQBfO92BDf11wtwDPEYyQR/DWL+iQbsAHf88wpnC64Jm/mO9ycNAA0mA2EFYyGEG+EhWRGTA8oKGx8oDjcKkwfvBlv/g+1c4v/sZuQF7cX41RJ/JIs7CjSoNpIqYytWKOQmpTTUNlM5wCr9JNsj0x06CQMHHiHsEhkKMQRECzIFShhuJBAcmgyMFRgTEBpIIrwYRA02A5IFUQENCxYEYw0/CTEQYR7JJdkqbB3hF6gZGBFPG1gPbhb4E8wONwaMCRgBVhsY/m8SJyUMFLwjviOUIOslRRWhGs0gyDR2KgoqNhpKEsMQiQX2DO0itRj+FuAbIxtgE8QcbiQmJksbzSkHJIccNyM1DWsTyxJDAvX88QmL+ZYD9fmx/4X81wdRBRENFQowCeMDXfsrBFYEvvwQATTuVvw6/RcFAe6n5aHhGtgE6HXcA9PB3unwC/qk++vzLfU69/kAKvD2+n/6m/Fx/uYAbALi/Y7rieU07LHx+OB787v+pATHBDcFO+8v8bf0rfia9jfo0QNpGpYGAgnpFGQO4R5UOJEq9QYd/4YJUf8T89rz3vY39K35MgII/5H9efl4/IYH3QYu/Lr6kfYo6l7s1uIG8j39GAr+DnP9QfZh78Dtt/16/1j3z/Yn7U7qUfeLA/b0Xvmp9iX/egeyAS0Y+RGZGskIAP8YA7L6JAltCOr4NP+56v7wMQNoCcT/IQpO7BTo6OFb0Vve5en23XbXOeO14n/fPPAZ/vkBdAnAA8EA2vFwCGD90+2g/Wv3fOsY+wUIygb+EqkPLhGoERUHCw1GEDD3ewK464vkSes18RT7Wut666DqGOR27EPqcd1p5XP0cAM9+1b4VvdVAq//GPSQ+7byG/yZ+kL4p/9IE6QVVxyTFisYIRNjAuALdgJOE2AIrgpaBTATz/vmC9oQ5hVZ+Tn0xAeTDAEFOvrR/bYFSRWAHX0PFx+zGYsNxQ1eEqoKoQP3/Zn+QRN5AQ4ZxxxiGW0Ji//kAN3wRgEOCAAD0gNpCEETYfZ9+R38q/w6/LQExw5nCof2fPnh8rz4kAXK9sH5Jf1oAqIL1/a8+3QGnP8EAYj2IwCu/C/6NA24CQIIxROHDCMHj/m4A0gG+wnUFAEMwAb2AqoCFPx075r4T/0B7yz2O+1f5dPveuva8yPc0OgQ9c788AOcE0MQyRJ0FGII2wWyCbkEQgRRCZgRkA3EC9IHjQQ2/Z3q4ejp/wMK1gIR+JX+Zw8QHOkqAiSrOKsr0C+IHXgW5hVaBpwKEvlK/UP+XvltAFsF5Qu/FTsJzQ2JCecVShCHCschtyR8Hl4cchPgAOgD1/h58DjqMuch6ILqsd4d6IH1Se688j4A5Ap/E94hcCoJN8Q5wC8uPSEvdBv/CZkC+gfrCAL6YQlcDU8Bswx885zxvPk1BYj95QHPAnoAngU+/ET6WQPaChDyteH230zPus391pLjcOOT7Krnf9vY15bh5/Ic/IwH5QRTAhL50xlQF4IR1BW6Ey0CyPgeAnz1PPlFBGzt5QTe8AfuVvmrBTkKWRAGEKcCEvkA8Xbsp+6T7L7nCujM3D3ZTNl71rrRBM9o4qXzuuOE2MLZud/X7gjpHvYM8eYI8Q15BgUCbA/ACT4A4fxp9mbyIfzN/G8ICQYl+bT5XghbB7AV0xRwFkcY7BBMBuj6t/nJCv4JTgYDCv0MHgl9ChwDzgFa+i0E2+eE8DPrzuU68N724gJs/Rb6Tfxe+j3vOQEsB4z/hAuk/SICzu409agFZQqQB/L4a/C8Du0FpgXUD+IF9w8TDZcbchQlGrQicQ8SGJYduA/tCgsGzQj9DsoQlAkHC6MSrguKA1HzsOcC6mny4fWf9sgJ+xTqCxUICAhRAqP6+AD8+obutQTq/N/y6PBQACX4pv+aAcEQCAWcHKARHhXaEGcGgfOB8Nj+JQOr7UPete6I6anmZOsD5izorvFD8BcCVP5+Az4JZQHr+crmYuz46ULqw+t0+MgFJ/5WA3j2T/ZV+jX/Yf0qDYUDRAZ2BtMC8Qe8B173AfGI5CrnfvIh+Pf8O/Rz8sDeSu2C3+jgXe1o6+LsL+g161v7pAoB+AYEbPv08zHfBu9+4QTo7+D+2NLP69CY4Sf15BCzACb00PDt7h/useup+UPoQdpU5Q/qPud58+gADAHoB3QK0ABkE1QHMQ5sDdMFsPT87+rm6uTP4QHRz+z68l8AigC4/8T6fPe/+AYD+AX/Fr4VSRW9GbYNtQwsE9wPoxqAHeccySAEFTUaLRiuC48DTAlo/9HyA/QH6qfiY9i34G7Y2NO207Dfw+sp8NzzkP5C/0MDqw6OE7ALTAgqFWAreyN2H44kBBuvIFsbHB5zD4wSShA/FZoPARPKGF4YWAdu+nv9jPfb+2EB/QyPF+sHCBb8CioPDxOQD2AXYAhT9r8H0Q2gBhQJD/54BbUAH/c9Br0DjwuyJ8Ya2A9bGLsaSB1yDqQKjwfBBWwGFxUED/oa0xZRDwEewR6OHiAXgSUDB93/ggDb/ez2hPjH/g0UXhUsGroXBB2RCMkGqwLrAOsJgf3H83oCSPbl9drvTvLN8O3v6fpB7r3mQvt96H/sLQGz/O/5v/vsBcwDZA6N/2/+qBGqC94EdPfM/yv+EALXEiIMaxjb/AP2fOvx2gzh8eED2LrKztN93T7r/98e6fDoZ/0OBW/zHgWt7SjvxeyZ62EFV/hs95cDYAOG/Jz8EAqo/hH5ufQa+ZgEtvQ5+dP+2AyjGeIRsxbVJ9MaGRsHEg0JhhzzEwcZvSSPGIUayCS2FPQUuwhHEVEVEi6cGdYobxerF3AhZx4bF84V0BzoDisieBVnFrwVKgy7FXAU5AxjCxkRoCASG78kFzdGOmosvSRFL+srnx0KEQoK5whnDtECvfrd+Rn6VPG28gDzxw3BGTAscyK7J+QxGC7lLs8fgxPUD3AiNxXaEXgJmhiJGRouKyYeM8o0mjDXMlIzixOIHc0TzhbeD4cMTwIy9wMWlxDZGbcWGyKmMbwO3RosFv8Yyxr1BZf/owCe6HDnk/bf86L66usz/CvzTP4ZADHx1QSoEJEgDh4UIs8VzhmYHKklTCP3C6n3+v1r+1n2PgJ++e4R1gOE5gPyMeoP6ZXfJt571mbiMOG/4ovdWu4w7ETqe+va6XP0Jep66UPxoeqA6yXohes+7Mn6EfrA7qLxAvfp+WMEB/UF86PxO9YU4dzyovQp2gLZ/tak1/LgwNQ02Pvq+98731DjMeMM4XP4Evhe66j4sv3I5KLnsu8n5jzsYeOs34bjg+Bl4RDohfMw9qfyPfyFB2kIaQmKBrHxyv3eCKgGiQUDELUPDhO/FYkm8RDjDFMLOQoB/CcWUhaqBIUJ2RhOF/4JqBUPFgYPhQyRA2n0LepZAacAa+mu7Pvf/tyA6TTndvJi+0P/zPKc9WwCgPtwAz8RZBoIJjASkxsaEncNwg3cElAQXxHEJjEbURYYCLQdYR9+DxYI+/mu+wrytPLG61/is+j4/58DMgfvDC4KRBCuCoEMgAloBcL/RvzP7Cz1bvod/XT8ZgbeECUa9CgjFFsNOg/+Ht8mmx+4O/0q8jMTN6I0RDt2J7IwTCw5MT8qaiMlDAYloyhmGMwuojeGMPglpixZOKo6QjDyKkIr6Co/LPsz8yfPKagmxw7tGl8s9y4DKUomfSIpDdoXug72Hj0ZgCOmH7AfHS8/LTcjwCEWFrUiLhXcDYwAbf+MAP783vlnDtgXRQ/IC+kPyRMmEnckwQKx9lDzudll4a/pqtmG6FPyHOeu8FHvU/e8+rL2r/RP/DkP0AX4BQcCIva0DRn6r+ol+Kfk9uu56Xr0R/ur4sLmi9/b2hPdUPLH+HYAmupP7FX2+/IB6dXiAtx05/fuKva+7Jv7Dvbk7urvGuvM4lfqOv+V8XbqIeb8/NUO2BnKGnwPcCuXKz8q2Sa0JdMk3RJDA0sDw/hE8mXujvn4DxUP7wPhBM8WiwEsA2D1evOi+2P9pAOXCjD4vwORBLUfNBRRAjkQnQOUC8YCg/eU9bT8YP+i7TbkXvJT/eDy7vN371n+F/kMF44LDf9tBpQXQRoSINIkCyO+KXAdFh5+DTgSxgeBDSgHwf7EAy4MggXMBZ3u1/FT+wfxeeGaA2UGewzKCqoM3RG/B7sD/hVgCPMAqvouCpn4vvHL9WIEffiG/ur+rwf+BH4GHAb//ZYGQ/th+xoN6BOiEJMKChQgARIUrPn6/+oHFgChBgQY/w8pCX8Dqv0y9kjtK/27DIgNuhEfEmENJRu9F9gFwgo3CL4BEQWQA6QGrxLcBNEQUCrKMW0+tjuhLxM3dkMlLy8UZ/8HBs36KPv4+l/yV/8v+toF5AtdDFgH8QVA+sf78Qj4AuEeWy6eFCYVgPvvDDz+FQJLC/8LsgW8AK0FIwYZBbkIsQJAASb5R/urD7oZxBADFvYUNBwWEykJ3Pz6/FUBSPumEBEYeBomDNwDkf9MAFkKQw1vGokbIxjUGQEp9C1iN6s6DSlXKwQ4jCMoDWMV3CAmCO0CAwsYFEkFMBgoGmcZFBfxHesh9hdAE2oCRvrv+7oJvw1ZEWUN5BrEHIwQ0ByiGlMZcAdS9EHtbwz3FqAUMiZSHzwOMAlzE9MmTBCLC/z63AYrAEn5Hewm44jhdeI99/IBqRFsI2QT6iJnHWAlzBaQCYUctS9EFx0S3w9+964GzxVYAD37eAN2C5j3yAEG/Zf5EPKsBVH/VPAW8F3/3PmV8+n7DQBlAgIKQgz0BbsGIR0OHIEd9xqYJDkhkCvHMqlCaTJqLJ8wqjaANf02+TM5K1IruzJFOz0ubCtpJNEPU/4XEiQSSxIlEI4JPvp+AD8Vhx7ZFIcW9ioVGDoXnRf/EpQRwhLiCW0UagxXDFoL5hQ8HDohyCBrEPYUkQU/B7sDSP3+7/n7GvTi/hH89+ZN7xDzn/gG+AH1W/DX7dzt/f5nAeMb9BpFGhcRoA6IJlMjFSHBGvELqfoGCAr8Kw+3He/28vEVCM/0df58Bn78WwwBJlEeTCnRPbJDITZkL/oYdxOgC20YDxPrIFoXxQRRDnsCQf4A7P7ym/pVEHUcrBQ3FbIU2w5sGQwflCTWIxM1nCyYH8AXlhhSIusdARRDAu3+jgQ595n13PAy8PzzMPQH9TsQFxyZJRAuaR9UIcYgABdSJc4gXxlLHqcdWQ8uG14iFCXgFdIVGwYL/9kErAAwEGP0Wfxu+7n0y/zpAN4EGvOvBcP6lvAh+Xf/qwyxDOkXNAw7HaUSThaiDsErEyb4LYU0aTBPNGI7UyUsJ28wJi4bKDQnrCswRS8uTTBILNsuiyqvJ/EsIUDZMuAlFS3JFg4NTg+wBGX+OP3q8Cb+f++291cLfhLUA+UQeyDUIDQxRCFzFBYbIxsmD777ePIC3vTrffBDBxESmxGQErwBJwCbAh0P+hohJKwKkv176+f1afer6MsExQA0BC0HQRj8K/Ao6SzxMJ80TyeVJDQWYiNCH7oQsv5nJWQOgwXKAQHywfM+75r3vvqzAkkK0yvrMpMfKxwjFQcc5BAREecL8ANy+aPuTfMW+9gAWAdEClAGvyC3C44IBQr1DPsO4B8hG9QiFyuyFJgFhw2QGGcc4h9TBY4EpBK9GXwcmBxrCD8KdyWKLyQncydqJcwWFhndFOAYHB1mIpomriH6GlsJvwDHCkIJdg8YCaAWOhjyFM4Jch/cDNwLmQXWCiEWwRBSBxQWhw6aF/wWhAtyG6sgzA53CUIOzw3XCkUOmwee57HuGvsF7MfzYu+46WUCkxKNKoslkR7CIScdnRHFFcQXrwPnCy8MSx7RE5ov/SXGGHQZ2yNEHd8LcAySABESOAhnJ14V0RgbGd4fPxrOKcQgGBtlIEEk9h1BIx4ozxXxD68XciLhKbM11zbINAEhtQ1gG6MA2gh49BoEQxgCFTYTvx8DEz4c+g3UCY0gmg+5EZn5lxKHE9oUribyE1AVNAwxFnQKahjAHO8QeBinKeYZBCphK6wyKyCUGMUc7hlyGlARYBv0LeAwlC9AIIwb0xL1DyULj/RA/CvvK/5D/xj8H/t3Bc0WyBmvFbcKRhD2HLQbuxH2FOUSEBtADcAnWTW+J5Im9SVGFZAfjCzGHRQa2A0PGEAVTRNcDAwQuwh1EZMWXBbpKyAxfUeOPnhK2Uu2O4MsMSAoFxwaegoO/60XNfxV7Ozvr+JB1dvcq96k4rbwrPY0DFIjjhbPFmQe8iBhJeUWyyNPGwgFZQWTCYP9dv/o/sXz1u2T80Hq0N+H3BfoPe017evw0vvYB4oJ5xpEGC4bcgFm9DgEYvUa+jvzn+7n+9EBEgR+/w3/UwU6AikQ0AgyF1YQDBvkLRAlpyF3I7QacSTdIAQpkBCgIBgYLfta9QYTfwXC+vbsFPBiB7f9CO0/BzAD1/86CakJSxQXHXonnhfIEQcKlg2nC8EIyvrP/L//9v4tCcsRcg7tDJcNnA68H1wWkiGME3gpVBh1ENENnAysFTcv4S22AS8aThGa/CP5TAajFl8eIwtiEVgH5wLw/SMNUwwhBEQT5xy8FnkoJTl+OFw0+UFRPKIsdTBYJBcwuihXKDsubCelIN0f4y1VHtod3BPFDxYPq/3676YGahIHGBQeeSkfJlgluC28KKopJSU4HrQVgiSxIaIZgQ6kJ1QVIx26B3giZSibMF0yACwcMsEcIx2WHP8WPh8SMckogBVyCt0O6QFS+VLzS+sj/3b8E/93AIkHDvA1+5sJiv0L+7Hy5vwzA5AJGw8/F4sY0humEXkFIwRv87HslOEc5ZPcacM/zQ7j7uuO8Tb+DQ1KFvYK9gnXHFkeliySK08koiHVEtYdexXREBQIYwTEBrcRGwSd7g7/1PGF6FXsTPuP+zfuLwVBESAPui7BJP4wPjADPPpWlT2vH9AuwBrwGNMAo+1H6j3eQ+jd5G74lwwDE2oddD3zO+xYnTf6NnI9vDA+KoQzCzawJQIbXReIDY8STwySDEAkNSjLLUMzpjV1M1gpjDfJRgk8QUJ+WUZTDVSjRz9F7D8aNeM6GTv3PA0lvSBEHEcoqDXCObA4wzz1URZJqFGXYH9VzlvGTNhSTEAXQLNV1lRKSFcwOyXnKXwkOiDYBdMMcxO1ES4gtCorJqsqtkgqQGNJIEycTQJO7USrOSchdRk/EpUGsBK6EKAHDvtaB+YLIvMh8Vb7vgLrDvoEAQnZGMcaASe+IHshGTsVN6MkjiS6HXcaYA/nCzAidBEUC4b+SAOpDCQJYAwXGUQjQyvBIGIfBy1cJd83NB3RIC8hfRGsHdsafxMPJ/wkJx83DpcJUwWXCU7+8PX78bT9ZRAVFsQdBhMOGzEghBodJjImFypiJAIbQANE//8E2/jhAwsHEAdrCwIEfQckDeQYDSLmHSYbRSpCHE8NERTgGeUlsTIbN5s9Dkw2UMlLPj8bPxwvjxv5DIYPNwf+D1QEhQtRFH4p8jk9SBZAKkFuKkgToCFMIHgT2iviJlsBff2DEW8Q0QwpCD8W7Q2t/jHqJ/UB8NL1TvPf+nUEAxFJAzUOnygDMyw0oC/uKbEcURoEGdQawhlZDAkCVhItDkYlyCHtKwgbWRqqGlo0EzlIPkRQAkV7OBc7CTZzKfMlDimxHegDiAm5Ij4WMB/1FAv7DQToAVnyuQfFC1QY9ATeJgkc/yt1Mlotiz08PWw8jj86QexPBUxpNxgyF0LROZYuHjmlJg0gaAa8Ee8NIvqh/1MMOwx1BkMHIhvwKcs5Gk+RXA9QDUbzNGgseh5aKZge3SXZK3c5TTUWOrUvNTqfMlIw9R23HMwj7RaEI6AZrAwoHAwZ1iCvLLcrgiiaNFcvuTYoJlgkiRybK6IghijCLNo8li53LP05uij3KZwi3BYzFnwRhhW5EK4X7BDmFRsOThWfEdgjoyMtLvM4NUPnJ0AuHS18J2giaxgkFtoMcBiRMPAtpTioJ6AoZyoWLmgrHB74CF76zPHu597nxd9Q8uMFtP9yBrj8qwliAxURbRACENUXjQnD9kcJYwbCAl4GYg+V8qsD/PZBAxwE6APr+NbswPce9aEDRQ28InwetA8bJ7UvUBXfCvgKNBD2Atcb4BG3BY0GrQhIBGcB9we0/G0Gtf+SH8ohhCEIKnAqNjgSL6Qvoy2TO3A1aTWgPasqaRrIF4ARJg/wAV0OTgxQKIUsTyKLJ28m+B4KH2QkwTBVMFxLWlNRULpsDmFUWWg01ioYJ3sb2BEJFWoQoABT9y/1fQS6CBgGXRNXHsYjACPLIjMYeirJG78vRy4TMbMxTy7FLmEkcywGJHMqVyFxMcgfLiEGJiYppyeZMswpMSu7JNQ0rCxAIMwkxCQdKCYerh1WGlcUaRa1CuEPhQ/KERYa0R60IrIYIh4sLiM1rT0VRplPuDgKJf04yEP/RbpDJkhuVgZWAUoaTmpUb0gvYQhM+zd7UENR0069OLpBDzejNns5s0aLSEMxahlTJR8yhydTJghAyU3IXeFaCFE1RUQysy5rJ/4s7ijzIH8kciO7PYkzRyMxKAIrFj9MMT9INkxnU1dcAU1YUshaTEZEN30/lzmyPIc5NipYIqcdZhnlE8kaXA8lETcb4ghNDowNcvheE4T+Vv+O+uL3DQucA0sYkR07G8IcDBjBDJkIJAbWDYwfMRVmJf0X0CO5D4UenCvGK4skOyHYH5sKovos7OfrCOrg4njhWfpE9+4QbxZjETwSSwzeFsgXIRMVE98NqRjdJa4SghYbFcMM6f1i+uYGCvb8763kAtOU0rTX2Nw+7Jj76QAGJJcqkCfRL/BACD22Oz5Ifz+SIxwemhN9ENQO+R2uIWIdMRxTDAYC4ACr9sgMgPNR/YsLmQpnGQUZXy4NLGEiDx6tKbEquC5ZIk0BOPljAPr8PPZRBFwWDipdJiMboRMsGNIcjgxjJTEgvCe0NK04Lz4XOEAkjyL8GPYTkAWq8PP51PbG+RQUFA8CG6ogZBu7Kg0rvCy0KbJAmDcjKMcexBDmDlMqES/oPihFDztxNhw+kjkrQDU5XjQZK44S7gDEDSUXHxgRJw0O5xfEJ5IW8w0JCp0GHw2Z9l7++gsiF4AwDyd2RBNL1kbcMPorHB4EHeQVWhoxFkwPpBgrNdcsYjPpNcM2nj65WaVLiTuLMMcZHySdKVEOGSBZJ9cR3hwgJa8xYyzvChENLBTQGi4VKgyz8j/3BwBHE/cPwhSDI2orChyeHP0kICCpFkUmzS5mLpA7lzQiO8dHHkdsRO81yTRcJO4aFwxgAiwKHA8jEX4KIhihH+opEyHtE8gQRgMzA3//P/K88+D5NwrpD+sNwR2xIqshxDcHRFMwbyrbLNsh6iBKGzcoviRbMHk3rC2fK/QxqTLPODQuSy1yEIQPxRCBHsErHyBgFwkdWBFSC5chmRDo91EIl/0jCo4JnyH4JDUm/i59JIoasiNsNUIvXRxKKlY3fjHjNuIqdSasQQBLNTmGPkpFkkBSPc4v7ih4F04bXSfpLJIvjyz4M8QsGSNcJigfISFKJPkgyilINv8i+irtKdMzLkHJMso6/E3iRtE+UEjFPR4hTRYsEIcFUgUWD70IJhagIYIhqCByI+gcqhOrF00VJhi8KYk8202JTI1IoFYjSz87PyqLMvMgJjN0PMErxETGMhYyejkbOjBYNU4qRb5WQ0K+MbYpyDWKIAUhLRAqGZgWhCB3JN4a/htsK3Y1zDISJwIePiNDFEQTNRnHF9Iqhh5iGosWHiPWDHkTPRZECbgbPyQcIpcwtTzENh80ITsnQ/hF4DxAJpAgUA2hDtcHswB4COQUUxK6IHUZqwWQBJYKhw2ZItEtrTCNMCw4Jj3YS+I9qTm4Lk8fhgHXE0IHYwU2+Ij/8f9wFsUM8QNLFbISGS4RNPkwEjaQOlg0dDVdUERRdEbHX4BLil/RUvJRczBPHGEnnAp3GTEnKC0kNNQzPiwpNrU2sSQnMhMsvSjcIG8SOiE4ItQNfht5NlYzvjXkR7VAsUzLPw8yrSkMH1sZ7RKmA7AbBiQVKYc6UzPgRf0zXCxULRwsZyk7K3Eb3iC+HNkcPzAuJ8oqMC0JIiEhNybcD2cN6RFIEvQZOSFTRvtFuUCsUDdXaVFdR4FCJk1aTXg4ojoGMhwsMi6UOWI1VSdiLdwqtiyCK70p/im4IIAH8/6G/iPx9vvN+gL58v6aDDgKXRnMI4EmOjTgO+U0Jy4JN/YtozHwOCkwxSaqIIMgjy0NLjs0MjclPpI4wz3OHk8vfxy9Dx0FNSA2HBYZow/9BS8NmhMGBJkQXg7J/DUCYv7BBrQathvWH4Ma9gf4AqAVYBccB20WegmgBVgechKGASYBzggL/nTwDvPr/5kC8BAQH58WaBfuK25RTU6xN3EraSXqJvkS5CRtH08mnxy5IVolIivKI2Ma8ymdJoMkNCltKrgZDxx1HYIP6g4EDREY9A/yFq740viy96f6IPkzAiwDD/9dECoWUSKNGG0g/RRxB+cA9/fK7CPpXfqIBCj3M/miDBADLA2iFnQU0h5+GNUToge1AXv9igtgEbAQYgsBAUQFqw7xA5L7SfzsAir8XghVCVwgQBuCG741JzQdPAs0ri2AKVsWqAcaClH75QP2FLwj9CvZLE4q3zF0NFcXfQWa/m//7fuaGAgU9BZTEAIG+yZYKAcazAeWA4cIpgOw5gL3RwCQBML5lQlkH20hkCSBPKA4dUCRJkQlESMRI3cl4STkIa4YxwYTClom6yuOHNMaTCVgLqgYyxdPBNEHRQzOLIcf4SfFHUckUyAyEDYXRhMsBsb8uPWd/Cv5K/5W+iwWTx6oLqA81DTNLLMfNhgCAqsLghJj/akInSLXDEcRDxPcGIkQixgxFq8oky3CIewcOClhGPgR3xUxFf8rRUARTRZSpk9vQEQ8RSgBMo4kqQukGWYdkRCJBcAO2BA3ANUGHQB+88PwDvhPBnf7lA2PC2oJrg0yFy8QYxHFDKUGYgmoANz4dP5hE70jfxvvDjkTtxrnHyMixyfzM3ksUiN8FuYHUQ2D/HbvOvRKAHEH3Pu9+635bP8s/uDqSO6R9aXp+Oo0AWz7HRIRGGwoVyFbGH8Q+QdBCRv/FPlA/4j4bgB7/73vdu2k+lDxNO2S/bUhKR7m/xsQRyikHFkZcQcL/AP8igBU+ooLpB4KInYWwAUyBhgVGAjVEwEQJfve8mfs0/BC8eznH+khADn58QEe9Mn2uvLi5k/kUfaJ4aHrBP7M9xb+bfS59dL+wBWRJDIlQhxhCUwSdBU9HoAbqCREKSUjTBMsFD3/xgDBDG31f/Db663rw/3B9tcFVAzxHAQorTDiLtA+3k0CSnM7WDn1Oyk/Kyr5K2AaMvoiAVwBgABv/W8ERghRGFIRNRwcFvUTcQKYEMMuZCL3I5MSoBbMGBob8hq2LD4dahh8KlkoChsDEogJRPYA6K37LP/0+kYM6B+6GtAf3Bw2LnA01DpJO+Ek/iItHFYXDwZ6BXQF4hC1HZoU9xXlGVoOwhmSIG0dExReGhQQcx9tJ1cwACaLMYU65kIgLakaghgHGfcPYgJgDuoLvyOsIVIi2iFRE+sOixLPGfEMUwbo+1P9XP5VBvsEcw9mGsodUCZ4NJssOSIcKrAZpwqNDkvt4fgV8OD+WOkS+GgAQf43EYgkoxgBEqYWthcJ//EdgSffLeoz4znKNN07yzr3EwAbESMzEOP3HuuI77r2IfYY/fMRtx14O4tNj1IiWgZjymSuXRM7ijQ8PSQ9QjB4GMAaNRs0JIgtmx7CF4oqZDpqPLpMUD3XQclDPUbES4xNn0jpTNVbzGEeWBxBpDeRIrAbYRYmFbUVlCCyLnAjkEK+PS5TXVfnXRlixXFwa/pu81xmU9RZ8VQgPQcumiMRJAwaEiI/JyEXfxF+GBghhxooBuobcSlQIsovHUQ7QpNO2VZqQWk3jSfbKJgDOvB82bfXwdSMz5Dmuu6U70vwz+hC88Pm5AdW8LfvufCg7/ENrCewInIcix7cIhMkNxKfIloVCAcvASLsMObG25fRe/BJ9uD/Dw31E4MQ5gZnGbwExfxZ+I7nydvQ0kHVIs530qXQBt51y4G+6MLq2/DjUdUs3p7rkNys2T3fqeNV9ob1g/cX91PsfAb5AjDxNuFD4G3t7OJL3v/TtOjL72fuqgDj92fwxvhXBzAVAzAGLtUg5i7yJREtljWFL1gwtyovJUQJYgpRDlcAmvN67d3qYu+P8oT3uAlu/X3wWvDh3p0FQxYkG9AZDRbPI/ch5SZ2GlIP2Pk3+UXsAvv98zPq/AAa+lr4kP2y6g3o2OZ/4qnqef0jA8b/TAzfGlsmnCIbHnAlVCQpHAYdJQ3s/Z76u/ty9FMCuwV+85gGoAr+Bj4UNx46F/v4hPzEEB4csyc7NtQwoST2IwsP+CAWEXUU0x2xB8oLVP0uBeAIMAcKAPIJHxumL7wi6Q/8IL84yC69MnQ9LC6gEDoCzAHGAnb/pgf1FA4ROgmTFS4RhCgGFjoKKARoEZ0jVyvzLIkotiO5I/ojJyKDGbkNHfnr50ftEt3Rwxy7I6NztKS1bLyA6T/2pPu7/1H9SgUECZ4N8gwBFM8UmBMIE58D+v1R/5QEtPgZCf8F6wlu69Pwwtnx4Lna6t8T5Dj+ghaSKOEnFCZ1IQwP8vUR2iHcKuY31XnSJrydrC7MxMPl0+LodQLj+ef4Ev0e/77gHeKn5fbn8+vg6EbxYPYs8D3uuPSN8CneCMoixc3Di7ZlwpPK+tE/xHu90MBU2O/Na8+cyMHYg+T+0d3eANs63Mrn1+po9DPqWu3l32zaoe5g6M3pPO+AB78T/hwTHh4MSwlDFxMENfrp+3bpcd3IyK+4ia22qv6xZMlO1WfskPGw7PTvDfJv5PLs6AMIB1wIaf/sCWoSPvYLAPwOP/s4CRkGyAZH+B4BZAy2Bb4C+PQ2EaL+pf5MA9j79vb2//Px1fUa9vgN1huiLsc4MELkOcw8EjrBQANAqSk/L0YgixbpDhkBmgNl9537xfLr8oL9DO2q6EbkyORy2qTkQu148vT5MQLcBRYHCRN2IDUvUSgsF9Mc+QVvF5kGggbh8lEHZwPa6uvwJuRb9JjpdfxoBr8CDAH1/b/yK/30DlAZRw1ZF7IScSLmFFklBBRRFDgIHPzi+av5KO4m95oSTAriBub76/5a7RbqG/Qu4CL1Wfqr84EG1gTZDNkOGQ7ZBELvL92d3a3WrdGc0Kvc6+zI7GjbletN9Vb/sP75AQsFFg74GIgiexM5AzH5mv9IC8wD6fyV98H3x/9V9yvp5M2mzfKuSME+wi7iovKB+hASXwJcAasCdvg8ABUejwstBUwV+/2L+FLmWtr22fHZPd7Q4yzl1O3a8+Dzx/YY7ooEJhSnG0wbKCbOEpQU7RD9/nsFaBIOBEb+eASIBPQHbwpf/2YY0RmPC+gagiVqGA4E1hefGMkcDic8LJsgWzT0MpEoiQrK5mHgF9/T8/T9I/06/iLw1PM6CED/Jv9oBUr88O+f8UvsywS7D5oZtAriDQQV7wrRC/wD+wicA2D7hg0G75P0BgqwCbUcFwnLDyMCUftV/1P8EvjX+rb+Pedq7tjeGuFr6oT9dQfsBMv9VgjwD+cY6hSOC84DM/c283j+fQesEckYyBhYG1gZfBHJF34fVxDZBD/wTPBl6aThDdWo7ewA/PVc+RALnwe3DSUgZBtrEB0Xav304svuswgq97bzmu/NAcMFfwXN7Bf7VPuNDgkHpwS3EM79rPgh8jn8efy++Dr2CvC7+R8IvBB4G68dfSYaIcAHVROkG4cbXRakHpQPuwvmAL7umPNvB3MJnwmnEsMNWAuDBkkGPw03DLgFwhW3IRch2yAXKU4dCiJ7D34AhfbuDrwGiQ/EAkUTRQxJDWkN6xIwGw0f6ycUInQm5i29HHodNScRLDUkVB9UDaUAAfvN+SH73e657ITZs9K+6Qb3D+nD8Mb0Dvm59vT+6gNl+9QBIPxN/Cr1CQvfE64VHBh0HiQPmhLEGrob3Ql+HBsdNhJbGCgfgBRqJvQh4hDi//nzlPC37xDtCfN/7tzrPuZ10erixvLT4uHtG+1C2t/VpugD8hgCyQAhB7oGb/XHBO4AVgKLBewZnwhQG90hhB4fGgglIRraFMMSGhFk93ETrBhpBeUDp/+e6lv94fGe9HUCGhfWEPgj9Bf/D5ELNBAMFiYtIx5hHSsglSDuHNEaOhO3B4wIZQ4YF8gKUBv5LekoVxLMFvQqPCUqId4LXRC1CAIQNw1q/i4KrgAH9Uj/fvyU9g0S1Q4yCewMOQHNBHoG+QAPCqT4hf7r/p7p9fe8AWUJOPwD/OTpkeU088Tp//uy8RX2O+1cAhoJNwdbCvoMIgkb/3TzYfzFDLEMqgUKAEcYLyEtF+0bay7WHYIg0yDmFy4RnwsTBfwS+x9iEPAYpwuIFpYOSAC6A+wFPQ3SAR0OQxVFHEIoNRr3E5onhR1NFsv+6QDg90AAHvYl9wsEShI//TH5iQTFC8sIuAz/EWAjEBhjFE0gGiUdGvIJtwkgA70ZDwbQ/EYBj/239LcK1PZLAKgHRwo3EGoYgyd4G+Yt/R19EmcBHBRxJJ0iOBhqGd8N7gnq/5Hy+vK23RPs1e9+66TsxOlLAVgDOgfrFRAZYQXz/yUPNBgeFVIAM/Kb8s/5fwSUCLsAcuuF/hn71/LzBU79BALoA/YCpun17ozljPIU62HuPP6/9rb1//nu7arfEuzb3AXQ4NLi18ndxsxp1qfg9OGm8er4qfuDAeYR9v+A+DT+fPlV/REGifYJ/U74QxNZ/iYKMvKM6uzkbvXN4mLtTAaTCZATFhfw9QbzLARkAYoIxfRn+pXxhORf8wz1Rvf49aP6nwbeB7UkDh/4KK4OEwSVBuX3bPVSBk3+MgeSEAQauhPbHvALiAt1C2wJjPwA7Uj+a/TJ+P3pAevj40Hjhuc463T6MfwfCcb5IPQP9E0BrxeDG3gh/CYSITIlJD7sMK8iHBRTDBcNFwRmAuoHnf18Ek4eTCNfGFoXtR/+LycbNA97GpMiMBSKC4Eb2Ql/B08ErveL8mv3pARMB6wGWQfyDWIQphiZFN8QUBDWA3ELIB01LpQYyBjHHvoqkC06NshAUT/yMIcenR8JGf8JmwEt++j0Kv7VBR8FHQgY/Vj8//Zp7UHsUeN929Hp79sj5JzwD+UP4Ujp++W+7O7kwAApBV4EKfq2EQMDNfhj/1gGQQr4AoX46AKZ8rPrQvP+9H/62+hxA0wMWxWN8ogHKgld8Cn9cPEx7cnRTsrT2mzdqeOX6dTZM9pO6NDrJfVR7GP3AfPy/vUHagFsD9QgwhxrHjclTiEvHWoaChJQBPLxmhFO/2T6kQRpBKEL6AqGBA77BQChCCAGXv+CDOgDBflt60r2zPsSC+MUdQoLB8/5rPJd60j16/pkFc4cghi2A/7+6vtf+rn7ogU2/wwJYQf7CEkVFgsbDcoVLBT09Zv2TvcZBVLvXPZi+3br8Otu6ZDk5vTt/sn8iPsUALwVCBSNI6QaXgjRAHn93fQL9obqT+wS7uj7x+sf74//RfosFDsljBqbGrUbDx20ImgV9hPYH1cleyTdGiYNW/6tBHj+cPXQ7QblIu8g+1793PZ99MIAJgNC/qQFtxcGFmoGzwfjCs0R3BKmEdkPNCDWPTQnGDE/ILspCyX2MfIopSaGGMYDswQ+/0IJpgwcFgQNsyAXILQieCn4JvscEyjFJK4LIgWnBQ3wpeRe8ljjD/KJ6CLlZAO9/8AFLwAzDCkP3x3jF/4kmy4rS4A1cyqHNXYyZyctHLEXbyDsBcb4ke2G4QH14/Wp8+L0PPYbAIEOegcoAP77MPh489LsFvrs6yLxp/T//1EGJxL2CF0FCQRcA/zzMwF/AXfsFe+xB3Qc9x0mDKoQNSLZHf0KsRBMBqQCGwgX/hPkftSc1abqhs5P0bvm5uGnzXTIkc/L1Y7mEuq68Jzr+PBO9Rzck+AZ62Hv2P7pCHACsABe+iYAIQk7AqECFv6R9l7mXO9B+pn0m/TW9zANYApRDhMdGx6jHZ8QdxREG4AdFRb7H9kVJwdoDeoPMREVDocNGwC+++ruv/St/5cVIR7lI18MBAqs/PMM7QuOEE4FnhIOI50qxDnvFRETJhTb9d3pXdac0qXXd9xb2k7Zhu2v66UD9wKn/FMAAyJQI6wwxzGOIWAYmhDTEkwW6BS9FQQCVRQYD7IRdRIhIZsT0hGFFhkYQiDKDw4FDAuiDfsl+ydyMRIrtCN0IAknuP1FEPP/uwiTFSsZUhesGesfsReeD3YRbvJY8wXj0POe6Sf+oAGbDKf1kvtg8jD00usG9f75SAArAKz6q/eA8kjzm/iM9REJJytCFQwcVxGwAyoV8hDoGeocvyA2GikdkBm+E6z9jPHI4wPe6N938SPs0NsR0rDd7NO+147jnewX/eP/1AlxDa4JRgaJD3INA/iQ4iPy+/th8xHmsuYy74LxtfFL9BH2seJS5nTuwPAR3ybuU+0p2T7pf+4G7MLfweRQ5jf0fvxmCEwWaw+kBPT+2QH7+i/wUuQl9vfxPPVn94kFbgCJ/XYANwxnB2j+sgJA+JoBRAF4GOsPVxORBiYGrhW2E4kOmwd0EXUM7hw1DDYAYPq/81ACJfOz6y30cvLN8HjnXeht4x7eX+AQ3z3tu+vU9n79YgPS9dXxwuue5qj2ZvFl8A3eLdyLx4LPTb07xBfg9dWc0aDL9M9O0EG+pdRi19XPl+i88Vz0CAWUBQX0lO5S8pXvH/+J+k0BbQKD/znozNmo28rQdshmwbLGAN7+47XXdt6q6obwMwA0+TMBA/80BUoRVxUvD+MMTAIPBSQEtw36Ba4EkQr3/wv6Xf/W8UTxpf/w/Z4GHgyFB+L+fvHj7IzvyfWf8wTsHtiH3sLVG9VY3mvhn+SM62L6Zv/q73/2SvLC/Ebw0gkgARgf9SUjCsoI5AWzAT0FSA+N9437f/x/63H7uPZq+df1ofqc/NkNkBM5HsUPKA0aBFwVXCduOcIp/Bk3IgAWcxCjEPME7ANtA/sDKhomB+QAfPbZ+OMBFw//FqoIx/pNBVH7ygEEEnwIxAmHBEEFewayBNUS2gifC6r4iQAP/u//TxiiFqogUibcLDYyqjZrLT4o1TdsKLMtnyYaILYbiyTlKC4afhsiAln8d/p08iXki+B+8kEHuwxJByAInROWFMEWYyufIvAS9gJNGXUUVAe5/jj/KRCtCP4T4xFzB/TskfPc+PP3guKB5H70AvzPCDYSxBC5D2j3Hf3E+Ez+N/cB8xHrnuUe8u30q/Gy+3j4PP3D9HDsQ+CI56jp7+9g9mbquPIf+54D2wZbC1ESAw4HES0HQwoFAcIFWQ8TGdwRQRvIG7QGoQlYC1sWXRyDCRgF8AUe+xfs4/Ie7wbukObV4yPd7+Wb6/DpvQQu9kTxF/Ou6EfwEeuS8R75NP7FADgIvhnLCgkpGTEKIoohIiE0B6rxV+6r3YLqGPHI5K374fmOHFsStBUsF54fYiZFF6AVbyk/FpcOWf6a7d4AKwrUB0QWifr1+D79evXC8qwBgxLiHrskbCnqKl4ZqidaG3QWYxP2Dn0QAQ8UIUMRAviR/EQJQgZBCJ0KSQ82DJ0cgSkANbgauyL/HEke/SC6Ii48XDymNn4xiiIXJNEf1Ay3DuYRJR1GFv3+awPFGJ4e8yFeJEwwBilSHYcX2hzPLWg4PigwPaM+pC6QKbIm8CTFGPcSQhb6EScRzxzkJfYgChpeIdouDyO8GRoQaA5ZCz8ieCFbGVIQfBMGKP4eAwpFFbYTjA2PEFsY0ircLPIuAC57LEUPcgH0DswHCB5gBpsFrgOv+c3rxuo19GD1wwEP/kb8Wv2BAkjuS/ltAPcDiBsWMmUyayURJF8dsyDmDC0GbwJR9S/xkPkm8BkDQvTW+GIA5APXCRQAz/e+7DbqZO1v8Ovkyvcr+v3z7vbZ+3D54/UL/bv5APaz40jmVubr6Gnizd5F6rf7KffY9jMIjg6jAHD5Rv5V//EDK/z7A/UAbfxL+lMHwgosD3v8FhmuBHn4jOh52VffxPFl4tz1a+Qd0MvYa9s90srW4c9+1ifgX9og2PziYNtc41vqA+MC32bbrvNH9ePvovqu/csJDA4SD90bYhiSH94clRxOCO0Dlvn17Uz6CPdX9N3w3+yi9Bbcs+tU9dL6i/ptBMgItg0cFgQQU/pK/wMQbAbe9HQCawIuDCEKxAywCP/2DgTBBhD+1PtIBDr8keqK+6D5cvrG/S8Bm/V+CewLFwke8sHT5dHQ3YPc6eGS1cHniOfQ8YH/kxDyBXYKdxHPKfshLhoMD58UchAzE+8RjRwuFRwWQwj+AS4B9QprDXIPsRlgAiD12+r0AIEB5AHO+0rrBeVB63P1aOTN7nv8/u6F8CIDyfsO84r8qfm8/6UQSw8AGmcH3g2E8937fgQ7ENsSrRIWHaQm5iCCIK8NORhwFTEQtwiVCWwSyhopH/oXehwcFzoSDwNqASTygPTD9JP90PGn6M393u8b5uPeAOZB7OXlmO5357P4B+px++T5iPEx7AIFxOhO257gFvNi7fj3/f6bAz4KTgWDEooQgCPLKIA0wDx2JRoOZg3v/hcAsf9C7P4BygJd/gnsIvFy6p7o7uJC4jvpEu929Q8KoAqDBAECUvUn+8L8e/68DcAhnSq7KgMyWjy8Iz0zDjmjJ5onlxweJ14WBxMQGYMfLg0xCegZFh8TBWEP4ACABbsCM/iz9wEW1Q5FG3sSiAB7BFsB9vuuA6kOLQ01E/IYwQujEcMFtgz/CdUGShz5LIQbEQ/HBhIHvgWfA9EFZgAK+5f8IgpWA00C2woh+iT+QQPG/Sn4tfU7BGEKuP8V8wn4Ifmq9Rrt++OT6EbZsPXO7lHooPYU8yj1xvcL+aUF1RBnE5cO2wzUGC0bgxjPDQEGpvHrABsKigc1CkQZlPtU6SHyt+6M6nTuVu9Z9OP6ngBwBlf+MAydGrMhuyMRHmYgNROoBgwKM/wg/ZvwCvnN9xYFPQuM/In8QwigADAHDAWoAjQQgv83E+AAHfE+8FDwDeLz4bLbOOBqzoTgMMrzzyXRrMrt3pPawsi9zDPcesUZzCPh8tYq2Hjpvtnn8CL/bAQW/RL8WO4T7aLkG+hX9VHlEvWo9trlD/Qg3w3fN+js8qTkd+lM9CLxy+lZ8HboNd8b3g/w2+Th207dbcq30ivW8taE2pbiXdub1/PukP8qA2AEJwPI9/H/SuWa2P7lD/iy/TgP9xXLEdImACQuFpMctBOGFncTyBNGFlz9jwNIAiQJFQPTBQQAT/TI4e/ps+Ak4E3fR+G89m75ywZjEYn/CBJ2Cx8Xgg92ENABoAR7DZ3+tvV1/XTs5OPG8QzgwdE01HPsO+NI6EfcjOe8AXzsJ/FH95QG9gEG9SbzyNkb4HXYr9xJ2OT1NwpWCywRRSOAIukhUBHgGjUgHhEyDFURHRivCT8crh8hJh4hSAlh/6YDROUvAZAAGvYe9g/3NfHHCsMEZQPNGfAbqxaIDD0InAnX/rD9fvtR8ajzne8/+Q37IdzE5arqqu2n9CX9xgM3G88ibSE+KasyGxgbDjMGJAc/+SIErAVSD10FywrhEzgWPg5B/ykMaRPlG44SxQ/tA9Txqedm7GHntfD29K/6fQ4zEVc1sTDkMa4oxTXOIX0iRC5sH4oe6RPiFXsN4gvaFOcJ8iCsF4gZKR0CECcNphJlBUoLpP5+CAD+mxJbEmUZmB37EOMJxh3LHxQgtSOrH2MSgw7fBroKsBjIEGQhUCUAGSginBvWD7IG+vca7Znv8/gK/2D1Lv8qFrX8JgpM/yECc/i88dLr8OXP8Hn1jPih85vhSt5QuvHOI9Tc17jObcy7xfuvoLw+2lb5LewY+037z/qaCTgRigUDCfv6DeX/70751vnd/6/0LuY+5tvnTNnw1Z/YhPOk6o/wqd+a60fqct9/2HLknM5g3FfUrsSby8jWbsfn3rzltu6V7WAE4waC/KP5vvkJ7+H3I+ci4sPgOegZy6XtauPN3CPlG+S+5vHrVugZ5Xvnfu0i/fMDewRjES8SKBIDCfIM4AgUBZsGIgpp+JvaAees3ODTd9m71bDjYeqW/W77Pvuj/+32lOjL6efejeI86CbW59Ng1S7pv/K3AW0Cyf+7BbD93gG+CjQNkhW+GdIWGyPFCNQCGhLbD/sA2gBAAGoAPQYvBKkVbfk98U7yuAct/uv09eb99xDz9+Tu9GX54f+DB40NPgJBCrkQ0Q3CCSYEtQPmGtgYPhBxC/UZ/Bu/LRAkgCXhCj/yD/va9Xb0afpA9BzsoPEM/t/wp+d7AE/0VPZW+R/rBdgw6Bvl+OTw7x7tZPwL/a4HfREICCz/bgt4CxQHHSz2HyckEzIXI60XuhjfHC4RzxaQFWsRjwx+AYTvnfQx9a3ry++09sf4r+vk5v3hhvE4/iYBvQrzGugYNiN9FZAY3h0CLmQVjBiPD3oI+Q0u/u0YcCIqD5ASff5P+i0EDxETF0MM8RewEKwlRxoVH+Ye+h8oJHYJHA3VDPsF7P2LA7X+Y+4R9D7TZ9vI3mXYocxlzd3VqN+w+UfuCe2P9KT6y/QMBWIJLQeoASf1+u1Z2FfG2suK3fbQOtZxz3LOjNOA52DroQAY973x6+z66z3/SgmlFOgQHgWDBYD8Fvxq+/X5c/y4/L/8YvaVAVbvx/7CF8//jQjOFYsOrAu4GGsNKhfJ9TD51v/x8Gn0FgWlB5IEpwlH//z9hQv+/OcCRPJk+zHv6v6m/QUEPu64Coz+3wfP/fD6X+/k2R3W89E/5gbynPj04pbl9Ovb5qgEB/piB3MH4QwHCL37QQPfBxESoAV5/zD8uwY9EDUeygKTEYkj2SggPVI3ei8MJiIf5iZ5LvkiMyGhHmINQBr4D1wO1w94A8D9uAjwATMLTQNFAj/9gPZZ/MDzegGTEdwNkB7pGYkmtyXJGGcRBibOLNop1TK3HOct6ivEKG0pUiJHJ/oqxwtgBUIEqfOj9ET+OfcpBKf3KO6/8DzrZvji9U70WQMKCjUZ0BzLKo0lJi9jKVAkWycdHRQn7CrGMYYhhhfgEIkFcwzICyMTrB0AEysTExlmAu0ZviJrD+AVVyHXIq0jrimJJFYbTSUlKJIsuye0IZI6NEVYMQtASTxAOYAh0AwXC50I+AZZA0QQIRXsHaIQiiIHJ6cgiBiMFjkjshwCIc4lMyHsBt0M3xChEYMTZwj7ESwQIPY2BN3/vfnF9cQLIhyWGLsSyg6BFBgc0BSxFgwfww6yGncr5SoNDiz/4vlhAOD40eby6Xj17P50EsQNXglr9sv8IfsJ+SwBlAvRDxcmXCAhGx8Zkx3cIfYU0Az/A6P8swPV+kz0q/7L+ub8YQN6AfoHwRyvGdcXTQiGB4z/MABSAEjxIOrN693iyd9S2hzaDOYw8jHkHe/L/Rj01wTJ+nj+ovuJAIEHche4G6cNOQU3FdkifQCb/Cf58PBDCrIHYQvBA/YPxgbOHasWrAhmDX4FIQGT/Nr3CtXK5zvo0t6G1WHPpsuO00fea9fDzqTek9Vy0a3W3tJs6LjyAuXf8HHpBP0G+bP3+egE7CznueaF337sd+8H7WDuZ9eAxnDJce7KAPkNlxpLKBcP6flw/B/05O5IAVT9GgeKCeMbFBD1EzIAzPTm92r1LvE3+q0M7B7RBgcEtBOG/DAHWvYn/K7w4N9U29Pufv1LA3oG5Pxm/pf31gJ89Sf59vzZ9czuuue54VDjvuIP6WPiEtxc3UndS+vs/bfz5fYY6v/7EgMp/en6aQsCHYwRrw9eA2MC+gXl6TTwQPbh3X/iWeHR1K/SldwN5uzi0vRw/PACZAAoDOAao/+Q/J/8gvjt+1L7f/nJ++Dtz+bF6nvis+8h6LblEdhd35XvNvZt+scNTfpeC8z6R/imC1r+hASIAbf6bOxe8w3sOPEQ/8EQOy2LKdw04CU6G4kpsDZ+JK4FIQ+YFGsHqQ8LAj39OvW+/KH8ev7FBZgAVg2dCf0RQQgaClcOuQk4EYsRhA3yHVcaKBo1FCEbKxp5Fa0SDxPuDPMVdBma/zv8d/RD+AL80RQXG9ohEx+hG3Yd6Q4IE5sBQQFc/M0KORFlE1cNHA9/9aHs2fsR9T76Hvj0BC4QFQ7DHQghqCImIpQPIQxyBPL+kP9/BpQDGf6xBNf+ffc1+34CQgtIJokWSB0tFZ4UogloDL4W5hPOEuIR1hgbIVMfuBv+Eroh9hPgBJ8OQgrwEeL5dQQmA/r+zPDICMYF4fELBboDm/x9AHAGcfzp/CHyLAXL9g31mvXsGSQx1zBNLoozdyM5KIggEiAQHrwbihXbEMz4pf4l9XbtGfut+1H1hvmn+y//EQbJ93AEbgZoChMZQ/+y/MsCJvlv6pbvG/fO6vfYEM3w1ojiTOnu6KYJzw4HIfMlIDHbMUUvBiRrK08gSRIZGogjpS6mNJEgNwH18JTwv/CG5ZrcYt4p3tTn4+Zt4Wjxnfd4/BcDUAFK+6kIgQSAAOf11f5v94zoHeU021PPftJH1n7YIMvGyYDYj+Vs0THZoOYK67PbA+bz4VbrJOi55iboLgCe/a3wiOXZ3mbeNu3V4W7s4u/Z+P/3pPTf7xDk6tKJ57Tapsal35TZDvPe9/HtgPN1263lhPCK9ojwtvlS8O33xv9NBy8JsvaJ+v38wAtyBbr/MwtNBVT/b/ho8HQEQP+bFQMVofqcAdQE6v9eBj8IiPVE8ZTpb/1T7xbsgdxR5rD72/kQ4F7xMP9j+MwGx/g1C4sbRw2+I2AwDzK0JosmGBoTFvMMPQ7PCSQPRQkuBjwTnxCBAZgMfAEnDZkQlAr79aTmgOgz4qr6W/JN6ADbfOm28UHyCu3q5Kfo6uKi7zHmOvID8c8NG/Q88iD7XQYdDZsNwQJWE2QKrwbD/LHrYPhO7NnZcL6cu4vBEMb27qb5susn/Wb4Mv5ABREQ+yJnJpsgqhimFhMQqQQV+OEBCRGTDcMDtff+ByYIyv02/tTyVfuqBInx8fKkAtcCQPP8/rHwkexk9MPvDOj685/xCvIC7Nzxxv+TAjAKlRfXGRgRDBvoERsgFxL8FQUN4hHzDkgEsgCrAN/5gvF3+bz2q+ge8RLp6vW//gL3K/G98NzymO2l+27/HwN0/Y4AOQXuDjkLlAKfH+0oDTDdIp8etyAPISwaNAtUC0EWTRm+GLkUtRVh/Q3v3Pdf407ipuSk2Wvl4+uN+64NkwRnBcYEXvzTDhMT2w6dGekmQhpbD5MD6Qdn/jX8gQF0Bpr7MwZn/tP7yQloEPwGXQjbAcIEuAY2D6QaxiQMGYcZ+RxvKx0akimZJ7cNXAg5+s0CLgRQClIw6S16K94kEiUFJ9sYfSt0JgcmZCvpKVsZqCHHIC8eKhg7C6wIyxTsA10MhweZCGcCg+hr9CnzG+wt7Jj/6f2oAgQJ/hEKIDkHZw4bBnIB2g1tG4UXayPvFVcbpguZANkTHhdiHP4p7yxtJjgn9RvkGtUaoieTMOk+KCeLN8w1fi07ML1BxDE1LJBCpT9cJhIrjQ0JIlMgBCCuGNwXJSDGHYUtRyQ+MIA6PzFVM/YxSEVCO3snrBO5B3wB+hb/FrgEFvNi/NcAWgT2DuIWJw2OGOkKkgaZ/Sf1mAewEkkVZSRwKxImqxl7I+VDakbPP2MqBigEFhwGNBnMDiUWCQuPEbQf5xsLLgcvbiC++Q8OLREKESoKigRq+wf+4BFjHH0ewSLYDz0FbQnw/PgTJRhzFGEKyvl7/9f0ovXA9zIEeAU9DywmWCfyE4IBZB6WEI4Kzf8SBekRSQjr+n72MQlWFpgEixJFCZAIEA97Dm4U7wsrDkUOugrAEBEWBSu/G78MbRtPDjEcNiorMtsuyw/oDloeUSM+HNsxjSVhH7QVqhhaEAkgvCctIFw68CuvN3NEZkUOL4so7S9nJ5EapRJLDKQIJ/Sh91j/K+wo6/bneOqw5+3m5+jC7FAAWwJqAz4QAichJPcTvBwZObJDIjovOkg4qiwNKEgbshlfEXAcTBC4AYL0E+sd7yn+0wMUAAnzPPOEA0IKlAuyFAkobhrLGBIPtQK3+REKmBZyDL0FAABK+Qj+0BlMIF8jmyMHJB0fTh/uJbsf8htnLjsy1S4+I38v4y6+KFYqgx2LIxQgJiI2GT8HhQ6fF8MC6QXMEFkoqiBsD44fJSgpHioj2idiGY0cCQZSBzUVCRzGJ2IMsxXFGMoDsweADPoTJhPjCAYc9yMOE2IXjgyQEyIZFiLUIkAuuh7oDkYN5fwU+y37yP4R8Ln5Hf/vAnAQZPaxCun0evMj/erbwON++4rw4/oT9tQBrAulFnIo9C57Lx4bUAwAEkATDwtl+9f4hQTABeH92wH2BfwF2Pgf9lv7ngV+CFb+9fyyAiv8KOa/8Kn+Dgo3DZP7/vAa4iTmd+l77uzquN7b1KTjet0S8VL8BAhgCIMJciG2N+wvLSqaNXos3SIuFk8GaBN0FiUMMf+2BSEICxfwBCnxfeZc6YYGzPMJ/cX7Yv+Y7BT1sOwT/sfq7Ovu+BAAswrNBE38iPfb+zP5NOHR3kDiEexM8VPbJ+yT6F7dKday2BzabtQV3RzXit3M5VfzDtlh4IfV7dt24JDo++aO3W7OfcwL2erFidCkzj7cT+Am9wbu9/5qBC4AJwCT7//u5PQm8SXu6+fK2kfjBegA9mv5GvpE8AHsX/YC+Yjw+PiC+E/j9v3+7oH3vPV6+L31QQAEDBkNsBGXK+ohVy00KZMaJREJ/9cEXv6L/c7uUfhJ3r3cuOFb5MrjW9oZ2JnhPO7X9bzoHO/S7HH8PgH/+M7vmwAb+s35GPdHAiUI0wMr9DDx+ecS2WbkheFh4uDp4fJR5j3qYvXp/PbukfAe8eHrKPN99bTrbuey4VnZXsEyyLrVqdXPy3bQutBm4zbb4N3v4Mzg4fxJCXEBpAbkB0QPvgF48gTx9OzH9K/6qQMcAXLyOu97+yroAuhh6z75DwOkBlUWOgpyEJYcER2YHq4mjyHtKSwUhAyBEYYGUvCcAs78c+9G9w3/nfz3/eoNegtVBFMDARK+FJgivSuZG4YcTQ3+AWQCy/90/50A2v61BnD9rPdZ+M8H0f0dBQL7C/qh/NgDZPWr+g340PLI9nfrc8yV3R7jMOOkApwFVhQRD4cALPjDCFYKYQ9RCooX3gykEVgNfQpjBvEBavt1FwUMaRN2DvUITgU+AbgMlgd/EqUigQimEfUVBQ7BCRQU9w4cBD0cjP6XA078aw56AJEVxAqQ84P1BPd87U73JgHa/znv4Pqu+RPcFub+1n64kNTWwbbCo7kKr368ccqfwYTOmtTe05fXoNQv0CrXvtI37/sH/w+w+Jb8VPPN8nD1nPuQ827+fPaE+Tr0qvQu9g70/vio6iXg8t4F5XvhlNPuxzG+s7lO1FnXh+Xb5abhde6a7fbbs+428N/p6epQ6WHyFPkv77XrgfK2AdHfK+lv9w7lPd2i4KzkNdnZzEDHzNSQzNHbjNri0ozV4uHw2jPWzdQe3VPt1tLF6MTqUe3y18rXEtjj56z7oNsQ23fqseZj7B/76/OTATsg6RvqFDMTJxYcELoZwBDnDlb9FP26/SDxJOceAzgJXf+wAXoQzfY16BnSNeZj3LLUS9Pz2VzVAtVj3WvcvsyA1kjfJtbS4nftXQeuCy32Z/Bp8iX06+lo9in4xP4zDML1GvH06z3q4N7z13bKFNzB5NXnlfB761vsPumT8dQAyPt7+5T1tvRG/XD/Ngac8/nyAPUi59rfztix6FHf1OhT98sDzgrZ+isNeRWtEP4aHCjCGE8RQh2yJxIZ7BhOCKD4ffh/AED98gqYBtEWsxh0FccU6B8OG/4uei4sMHcuJCExGfsgRhrkHkwjtxocCz4MLB4pG6MlJyYDJWohYSFUIgAy+TgGNGklSCEDHqIdHhyCIGEVACP/EjEZThAdBq4JEQ37ChAYSjZqIhEytSK6F94j/CGJJcMPlBZSCHcF5vYF8JPrwugD7V3hoe+r8u77g/9X46fkY/ByAgwJYAJIDrUNFQuDEQwbohogDWQQOfVz8M/yev7aEC8NUxU8HfsulC3nHRsl7CK0Kukv+ymZFNkhbiKVHQcQS/7gEV0FywoVB7f6ZgHeDTwOXxedFaALERhNDYoGTe5V9f8BTxIkEhcH7wFkDJIQJRPdBBMEsP7J9tEDA/ijBGEDYQ0BGq8Ibg6wC/nsRwTS/McLkx2zHHQOfxCW/YoGPApk/vAQPQNeGPMYxhLMGwkQxA0EDtUVEQWQCKwbWBJgEWIDOO3zAYgCFQU6/DAGKwxK/yn/jP91E8jt8u8e9EH5BQFS/7n0ivBP8XjsXugj+Ln/bB9wIPMe8xlzJmQiaiNJHb0e/xa9EggJuAZg8l/5lvTh5hTm8vhc8ij8s/Gt+Q37DAc5/Kj0cPmGFqQoGyhbJ0UsJC8WKP4bCRKjGGcK3f5q6RbUxc5+v3POxuXu8yzvVu4V8wAT6xL8DFYTGghJ/nP6R/ic9B3/2f7a90Dqs+/G1rve7vJS7LXhwOJ88xLytNXO1I/TH9+87gv+Ef449VDynvNRzuTZ0eCq30Pi4tuo4dPji+Qz25rkXdy/3UjoB+uM8cjuhfq8+V/v9/ms8gX2ove95jzSp+kC7FbftcfxzVTYcuhW68XvM/wM7Ub6svmX6JzxIfAUAmEBhwRWCScHUAumGwwguChMHs4dlSeCKF8kpSuwKl4eYRo5DVoXWAzT+sP3c/U491Do4uoc7d/x/PxeDlgTBw3W/PAAZQI6+3v/RAqBBN8H0QmLBrwJehbKIKwRJBAbCYwWlhEUBRn9YAEbDKoA+xO2GMoJ+w6FDFED9hfyDqb9qQuvA+wAzPS/9+r02/l0+m7j4tzv7kr2+uR3+TH5zfGw+m/9BO/G7WPuxe8R7+notujz7PTxIfWr8QH9avAL72zyJv8m/pP9+QLiBjsIrfu5/sz0AutY6S7oMOYX8q3roefC8sbeAtbv4CP4/uIN3WrqSeoX+pDvSPc5+WwBL/6pA8UVTiTHK9oi2yc5LE0mkiNiHc8daSvaGpwhRB3QIWsRIi5FJ4clah1SGMcI1Ax4EW4Srgu2DasUpQqtCOgQrRJKBo0CtgOwEVsYUxnTDxYJaQKJ/jb+1fQ4CV8bnRDWGOINsRavHgsmGR3LJMUnUSbeJxs3HiyDMtsxryKFKz42IC1IJxkkHf6tCXf6tPvYDO8Eiups8nH+ZvqN/FIS6x/iGmAWyhafH6UiWSrUInUlZCUFIJEd+xBfCR/5QQfUELsknChtPUY1EkdsTlRAQDgSKAsW0y+vJekfNiK7FQAhDQzxBn0GCAxyBoIHhgqOFeQOyA8CBhMANPzXCeL+d/Tz7Sj4rf4GBngY1RqACsMEmhJyEG4cxxE1GF4N5g9OAIr7+fE+92bzDes96zDjpeUh4C7rndt81VHioeGe5wTpafEA+LkESP9h+iAGTwJVB5T88vte9Y7uePK4AS4B5uj/9lH7sfst97IExPq6/aL9yvcq+T35cP9m6jfqFP8I/vEHswsWCYQLzPtR/IgOPw6v/9H1h/+1Du38WwAuAw8K6hGJJ9YbMRm0KfImBCI6DZsFRQJJDCMK0QnoBo/0VeLa25/2/fGZ8/H2uvjX9KjzEP5q9M7xnvpmA574TwKM9i/8rwRt9FP+V/D82tfpjNHt5hzwXt884Xzz0QEIC6b8HA4+9pMHgwmp/fcDqPq96+v2QP1mCPnx+//a9hH2FNw945XxJ/Op5UTfg+c29aboDAAY/iEPoRVcHNgf8gxe95EX/BqWCwQJKBEpAbj0LuwV+JDkrO0D5w31e/fm/JEFivWEBLroKPSE+7f2xPbP+8cGWAGy8oT2zfSC/Hbz3whnDZ0KfAuXEgMhsR2rHT8dkCv7JIEhrAosAp75ZAAhAMwDIxV0FbQVVgIL/QsJqxOjC6cGlh1jIacK3QCLBhMZfApiEfoiPh68Ki0auiIHI1YmAyLXHFAmGxnYCzoRpQ/CEeUFFAce8obtH/Lc+k8B6xO//TP7nwDY8QP4z/lyBsADrBTZEcMIlAkPDqQA9gIFCNoBgfdR/s8DBvsY5rDmregx5/8I/BM9Jv0lUiWsIcYsQSJRFFslsCIdLCk2NiviNmUzOSc8JWAcJSSaKUAr2RoBLIsZ5B6QLGUc7yYoIhsiRxmPGW4M8BriEVYO2RXKERYEgv41FY4S0/9P/NEKTAwGGl8WixZ/F7Qckyb4OR8wijmiNXUs8Ca5I2gqmh/MKWQsPzQFI/onER2lGzMjryo3FGseXy5TNgIsnyRwOgIxJiYQG5gZIBmHMpoofh91I1glMhNyDGQFzv4C8oIBdBkCFaYXMBb5FAgQOSE+Ez4UIh/jGBQYxg79ABgHAgbcD+0GNAhm95zpR+9S9YvumOPF4w7ttfTg/U339vZBAAsBywm8G/IM+wILGIck7iXYJN0Vdh+QJrgVqhTlBZsH1ggB+oL3TRDh+jDxWvvZ/BYDhv0R/aYAovTm64TWFNzh5//f3uh55fjguu88BbL/HQeHDYMR+Rt0JRUvxSmtHPkjXiR6FQMmMSJnJKgZOA89EggIzg/cCIP1UPlB+VD1/fdO/HL+mAHfCSMBwwvgGdsYcxceE7oVNgqOB/P/DgUnD/oZ9CiOKokeugaUBUrzcvMIAJ311vfr6/kJXQ/GE00VGg3LFHggbScBEf0fRBChCDsHmf3M+E3+BvLQ9ZPt1ebU5ZMBkvkcABEWhxhrGwQhHiU/EgcNLQ57C28SBQ3l9z8DCBTWDhwEbPcNHewIfQ/g8aMC3wZ8+N0HXgRF+9nxjwQ5APP8OP6BAdMC7AEOBcMC5REvCEQHxBqyHrgolBPlEkYYkR+3KvM7lC5QKMEsQhRyDGwP/wmcFFkViRNjDFMIlAJ29P/seucM+gbrZPV76PLuwgmnDTcavRvZH4wqtSx+EqAihhKkFMkCRg88A+ocJyBPLqYwijcEN9ke5SVCK2YpRCeMERkPVgkPHfAhCx4WGQcishjtC/3/uPv5F3QPsS2mJLsnjyStGzgBoQh6AgoD1AOY+tr7dQa6AcoHlRyjIaYnKhtKEk4EhQhKDLAEQQO9/hENXwr9CpQKN/fi+ev49vdI9aYGmglwGPUf/TvaNsw16jyfRBkoZjF+J5Ak9BrPIyQbnReNDYEGZAqXARILQhNOGAgM+gs6C6H8BBBeDf0bPDFtOrMrezf/KPQ+/zAOL6EtYz8UMCkheyHuJXIj1xHRFWsFEwIR9d/+zBAsDHgDSABOAY8DKviZ98oE6wEGAvLkWAmpCmgGOA8Z/anvBBBNDN//4/ciBAkJTgR2C+MLhxfKH/oVpzOkMHkW5w+pEUAULhNLAPz3wPQW9aLh/eb97NbvOdrR0Ifp692e16fH49VX3Hne0OzA8MTtdN6I22rd3uS95Y/tXvA64WjmAeLw5dHtz+W17Dj6S+708WztnfD53rfhK+dA6CTyfutp7rr4zvg387j0tvoRCEIFEwqTBUkS7wfeElQSDxWBFu4JcQZNB6oFvxHa/lMC+O5251vbDvLT5nTzWwFKDmcUexARCMcPPRZqFBAixySOExkY6BbaCWgJ4A0EB0sESwxhDnoMFwzxClYQjgeD7nLiwuo8AzL4rfQ09hXl9Po85UzhMvQH8kr71xYCFL8YHR6jGJ4j+SJwInwhkRd9I9gogCJAM4ktkCvILOwlpCn5LfIdbSJvGpwOwBx1AuMCSwbM+gUIlRevEOUGwf94+FsOnw4FDlIa7/9+DSEalR/MIBovcyinLn8m8SctMuY3h0c3TbA/ikY4P8AuAC3WGOsesx+SF4MYjQUuGNkL9A3NDPz3AAab9+7sm/v7ALf8rgKfBgkBRxqDDegJmBLpEjEMcBZLJ9shxRbhG7AU3hGUExIVux1bITIcahn2GNEabhurHqMdWR1DE9EPcSKeEvkYnB1OFEoVBBs2DfwAIP2L8S/fMetkFK8YCgrYDXQUAzCfMdYn1xpeCwYR0Bj6CC345fiy5YbfQuSN4Ujmz9Xz7bTWq+P79Z72POs77kkFhwcEBdQT2SFxElEYiAgUC7gX2xeNES36Lwbu/JLz1fMR5sbkgACF9xP1VPFA6HLuE+of9Br4sgiTBP8amiLCGhES9AeKG8QOBQzNABUT5QzlDvsbNiFFJc8ithnIGEUjhhtB+4T3Gf6jDE4cPwmG/FgLTANVBgYD2QclAS4F2g86L1EvUjBOJd8fSBwQHvMKVPVl/U0L/wMcCsoQNyCtH0sowh4qGJgkiyUQF/QgIydcJq4Vbgz2CSj7sgNmBsYG4gWr+Ino6dwI9ZIFAwcRFFMRTRonHBQhsS1tOX8zeD72KIM52C5vJ3M1yTHPI2sToyOSLXooVCv3PYAmVyNOFUgZ0yDwIrUrgi9lLE46mjMhKjIwMyHJH7sf5yDjHPcjOCttHWAW+ya1HTQikC1HNUku6zmDOhs2hT39P8NDDj0DPRU87zdOJnAmkRpbDiwBFfzoDIQHzRFjJgEchCzqOeg5pz4vQs08yD8SMzE2zjxnL2kgjiDRF/IYDA6eD0P64wZlFOAXpCl9Oi8zXyvWLK4wuzJ6NpUg7SNVKfUe3g6aJKwrQTPcDhAlpyrwHTwsyi8DN+ckESY6I1EaowwtHHwQ8AWvBdL54QKpDK8OCgYHACAQAR5ZDkMRTxrOJMYKMBL2H9QebxQ/H0kKWAndANMGDfq9/kkEhwvACWMXFxkfEksOPwNdA48JHhJ5IfsxWi5NNE0s9zmaJOsgJB6OJLMbwh4AJRYgCxE2H/MLoBiuHGsR2P7lCvISEhoa9TPzDfbU83Hu6Pai9Ub9VPjODd8N8AQQCOUaRxC2FZoVPxcdHbEhnCQUILIXpScpHiwCpAyrCVYPtgWKDp8XYCPPI50r3ybUK1Qt5yPtEiYqNiWIJA4Q8gHx+DfmqO4N3mP3Pfk96tb8/AcZEWgF6A2rDuYGX/43BdoP/hPWGk8UiwCiEBAcfAoaFqQFHyFiFyYgwx4JIb8LYCGzLJgPsQvF/V4SuiJ0InEnWwtSF+kLwQmX9GgFDPqTA4j1JwbECJP5L/Wh/ej/X/NbBOz3GwLzCcUMVQuNEREKQwLn/00FIgzqAzQW+RVjCfIO/x+XEgoISBKsAloFGAkW/1sHFewY7t3mFeHS8OLpFPNC8dzrNgUB+WjvRPXhBa/3j+cr9r389Pdk+7X11en09331g/oj+twAbvp4/xADnA5d+rcRJv6gCFT1awBeCOn5oPJJDOYe3x9QLlInVjf7LfAtcStyQSNUKUlxWL9FXichJmswFyUuNZQzbiogP5w+7SZpEXoZjRj2E+IeEP/3Al/9Re/G6WTvbPOI70Dmf9sZ5kzfY+NU4uvxBfZ89lzv2fO/90z9KQRGFt8T8SEkJeggXRGODhYTSBCnEo0PJgEAAGMBqf9Z/xQMXAQXDGX0lva17sXqXux/2i7oMen+62/qSO1V6Un1suUf6l7ti/gn90/0xemm46/p4dk+4MreH+YV7kb1HQP4Cr33pu/16sPyfelg6Dbs//Mj6vrqJemt3ALfTOVQ8VXfTPDB67fdHvZA7Db3rOSn+zwKMgeWIF8bhTk2ILIisSAcGrUepwvv/d37L+m/1+zV3dg48NfoofIX8ZPRWe60/yAJeQuDBuEYhgZ3GLQfQxE3ITAVdwe8/Wb66P9Y9wf+PAr+BLYISwb4/mT7Mw4m/wkGlhKMEHQOQgZ2ChgSTgHADJoYTiJhJPwwbSmHJGEkvAsfCB35yfEK8Tzgw+oG/P/0BuWi2SrxfueL5UjsiPYL+6fkyOs27aECE/GG51jvMPJ39X/jMuCA5a39hAT6Ct7z8PsKBmYRABqNF+EfMBcPGt4LHfkLB0L/WfwiAdsBXQMMAeQIPQ0RBEkLXgL4HSH9nwly4zTquPFA6g/jw/kh8sr5lQZU91QM6QZ/Cv0dqBQ6IWsMAhHlCvwNVw5rDp0HkwPA7vDytuSZ287NNNgg6DrXfth88n3safi99tTpdPQG9Mn6LuZI6lLfUusE29DatOAk6gfhe/Ek8H3sX+4F86j3/+7x7lL44gQq9gHuRf1R87oQ5Ap5DRgVBBV+BaD+EP/xBb77//gV+kcCHwmcBpUgNCVTJokvaTh9It8dRTMpGUAVKCE+CZz7WQF7/tMAQu3+3l7WNPPpBcQFNfYR+DsFvQF7+qD1gxCnEt4Biv64/dICHgVmAKcBxQ72CVsFFg4jHT0dLCaXFRUjJgiFCR/8ov+AFbMFBf/5/hj5CCWHFlQVnAWACWsS4SM6IlcWfSBPBLMUjxYkH1IhyySxIXAopClDKxkx8h8vHA8T6gSI8Tj3sPKK62vxRv53CDMMyRmWKJorODGxKdsV0xPaEHwI4AB1AmH3xgJAFFwaYBKcH9QhfRkSJBMUCSEUFU8GoQLaCV4NTCGPKFArcyZDK0UXdChwLlkfvhBGCVYS5AeC+CoIxgtFA1sPxP20CWQMsgUsB2r/7/ggDCwJBvqy9UsA0/iy+ADuSPb/5PLlTtuK0afuePZP70zxzuDQ4VLzwOt4yeLGb9Nd5tjZQNyg4APi+O0c6BrgAurD8iDhf/FV6izVLNAd35zlAuNj8kABofQc9c36KQcbAPf+HO1W5inwYvCGEFn3ivJ39+3uFv/P7XrvjfRU/2cMIgg4Bff+tAPACVjzw+p74yrbRejI9djqn9uF/iry+vjeAncCFgzMDpkH5wMjCdsDaQM+/h/2WPWL6sfqwvQZ7ODcQOSI4U7lv+X78Q31svPa9vrxxf8y97H8PRJqAZAcJyDMEYMYVhdKG+0aHgfnDkEP5BLY/4/wJgHHDPL1tQSZCAYG3fFJ9qL1O+HG76Tneeun7tjRvN510RzhFOZX7IPqVvh+AHMVBBmiHpQZLy6+Hb0bMBLmGfoamSUIJyUZ3SDyGdEOHg4yD+IBCgc1C78XGQfbDbULZ/4NArUN8B0GIowq8ij6JJwYcxBG/fv6NvqgAxn38wmWBK4KLBEiCqEGMgZC/jkLXBjXFTYZuhrKINQLSP8nCtYQkBDIAHgJkAWy+IoEchCnEWsSKiMOLVoY0hlzEgIVsBGUC7n2bgAzDk0cjhWMG5cJFPkS+1/6OfoNA8j02PlZ+wT3wQHNA2ADnQfnDRAXSx8kEQccDwUt/14BTeuj8efx8PgFAy/+W/dd+uf9LP4D8mjwUgZ6+qcHUhSKC37+EgqdFB8RHBvUHigUo/6sEYEXdRvLHUkhYhLMHG4lORY1CxIPBPwR+tMH4AK3/Dvol+8b8XXsQ/FA+BwLY/RT/TgJAw72CyseRi5dIHUUGAk2GL8UrBIc9HL5MvsrCQUZfwRC/mb9ew0mDO320fk36yfwOPnN+/cAw+/l92IHYf3n/hf5rQVX8nUGURDzEXv+t/5cFtwM6/yO9l32hfx7/2UJwgCU7dTir+i8/cwAC/9/CFMETg3PD2MUig2kGVQRkhe3HBAUZwVnDHsJzviA5MXg295M1ILlrfO49NLxYvChDTwXJxm2HZ4hrxQ5LHYa0BykHoIOpwY/Bq4DzQLwAGIHUwZE/iDwxfey+Tz+Ovmy/Zn2ogPaAj73FPzHEWcVzgk9B4kDaPvW+hr0Xvp2Aq731Pae98D8XwE2AfUAqfi/ADQJdhC9DP8NSgm0/9T5ewND/1L8HgS/CQn+WgQV///69wVE+wQFjwQr/qv+gwsOBKP6Kwc5Dr8IWArlDxQJbQoLEYn/6+iB+/X9PQqfEqAPqRUQE3InDCRfKaEiQyJ6HOkPKiBOH5ggbywOHTkd5hAQCg4ZIwdkBvYN1xEACbENygqABXAI/Ac9CKwOwxcVD68eSRDTCkAFb/5D/TgBgQMrDxcW5hTcGcQdQSBNKHotQjRxIpo+WDqPPGguyyyuNcQnUyldHwUZAAz/BvIOhxXyBJQGCgt1CRoXgSXCKfcpriamIEUkEBnhJake2CGKLi02Syi0LcM3nCW1NEI0DT06QpBJDUPfMlU5jTcPRz470jAzMTgqYB2vEPURywX+D5MO9QIGByoJaQgzDOYBGwDfCbwoaiFTH1wloTHdLdIssjaIQKY4QRXrIpkajQ/jAO0P2A23B3oCsPpvFvoOBAx2CyAJOxOODPT6ugijDL4A2Q+JB8UEHBXsDEoUYxwJHNMVURQXC7AfiCK+IEoSdyLGHecjOBrZFEEDMQ43C2/3dAK4B+oL7/P360HrZuuH7drs3+zb+DgANv+bBiwOLRevGBoXchxOJ3YmNBp3HFMYlCRyHQcXGQ46CyAfhxznAnIGkQtR+Q/+u+tC/NTz/vlO/fUDsggjB6UN7QdQDiwM4gc7+VUAogE4CmT/CANDGFgbXBaqGcIcSiGBGg0cfxGZDYUIAwes/FntFAfvABL9Uulv7hPx8PPg8lXsCA4cCkYOF+zt3QXuquSw9ovowPDBBdgMOPbt6z/7TwPXFU8SoRWzFSICcA+KFDoVzxFHB4QKGAK0GTITXBeZBKEYmhe1GVINxQaTBnYHywJV+ToJRvmX8VPx1PYIAXkQNRRlCR4GVgrwAjUPKRggDQUXNRDzDOYHigFiBjoC+f7gAfEAefrp8Sn9zALB+AcKLBqbGWMVxhRgFdkaVRLMEowG2QQ7ARPx3/wSCAYFl/6KBJYQQwYdATACxQ94BogUcRoRGC4ULiB5EgUb8RdBIaAfFiDAExgTVSMFIHgTChLhDNMcMR/4GLgKcA18D1cN1AiXIKUaNyNpIMkwgC2cKnoiAD37LcgqOzaxHFkVhBWLBqcK3gthBdv35fqc847uCfEwBBgLAvojAyMC2Qdt+v0DJwtzAioMPQq36uMGi/HS+PsGmAz0CQ0TcBsPQJdIazWyHrkhGR84ECoUAiNoDUAbDScGKXAYqgaaAacQPweFF4sM7QHgDZARmws4J+4eWxQ9E5IY5Q6fBYoGoAOH/dsJMRJTDc4aRg5ODAYAswPR+vPs2ufC6mPx1vFf9cb3Eu4n8+r8TPx99VL8u/x974ri+taV3WTzpOkx5hvrwwR++FzlSeaG5rjUY9PB48/bN+lg+XPyu/Gs+P75ePjy7ZT8hPuc7471jAGT/aIBW/+c8JMB3vmv8sQAyfl4BeAJM/wP7DH/bvZpBC4VkhI3A5oQoA/ZDO0IXRIwCgkYfhloHhokKRX9GDEJVBYWJkEg+SFUFCYSbwvPDlAHVf/nCEgIqAO/+YMG4xDoEof+jATI8Q8A6O9N/LUNtwzGE7gAN/5XBLkS+wCs+bD+gfCz+ST7VQdWAPzuPeUI/TLfx+eO72z61/78+j363fFt+7v55vQX9bLxHPAh/9kI1v9CFDwYNhf/ELYMUAs0FTcAhgLl6hP36va9+Qf5Q+va3yrhu9Wrz0rbKORj5CDtfvC/7XP6VPstBd7zdwtYGDIQdBhWAkUJ8B2RGsgMZRMo+Gb3/gz6DhgKOAIgA9kJGgRS/pv/zxLDBVcQ+wLWA5r5uPVV+c7qfO1B9Sv4//P66aH+ige3CowNmwgsG6cN+AsSFLANvyS8HBkg/wocBrwB2vGmAZ32+wZk8W8FtQG1B6AJQRlQFIYWKwlWGuUS3CYlIcUtMxxZG1QnsB6yAb8Acg5aFBwL4Q1ZDcH8Mv4a8rDoQuBh6t70OPH59kf0ZfFX+pAEZBO8C4sVwf8H8PL5b/NBCNMGIgl9AGEJDAxdCo4KyR+zJUcbEQrFDnYV4BY5IYoiChoHGIUu7iFzG+UdKATODz4HNAHK/JX78OkG6e/xR+8c9JTkNunu5Bn6VvS2+r4Lvgf0Fn8McxeUDQIMfQiJFa8LEvex88T+yQYbERAI+BK7ETkriyv6LgwuKiIpG40q2iooJ4AtK1JcPuEldCUOImQTlxD8/1IXfxceHA4pJ0EOQYg3vTZOJqcbhiaWL6Y1nS6WPiw98jiuJBQpPij+GnQcAxY5IAIyABmxE5IWtxUGDyYJmxc9DTT73gyQC2oHXQYrC6Ucq/oqAZ8BEB78JjEumiz+Mh4vIh/oHk0g8RrzJfYUoBZ0GcIGEADWEX8RRRPkHfEQ9g2/BlQEMwGQCogm5jGgJ4E4kD6VQX1RxjggKAwplTRWPps21CXAHHAJZf4xBosIEQSxC2oCw/ya6gb7XgSV+LX96gsI/zIPOgdZDO4YvBJjE98Q1BX7GToEvQQ4C3oAnAu2AlYJkgMnD04Bpv7/AV3+aOUp2VreUukp+PfnvOg+8lrmwerE/GwGew4KD5QUeAitBCUCCwPc+Dz89u2l9Kb58/cpBggT1Q9kGi8loB+QHjUM8fqz8hb5w/eX7wf/h/QaAD33YAK6ADwCWfHw/WkQgQJpDxv7+AAfEuESzxOKE14T+jdlKdo6hEkcQvc4uTUwJ4UmsS9LOyM1xiGdFcsYQwmZE6EM4g77FuYRVA6YHHAXrhrzIR8aABW9GEAN8yt/HsolgyRwE+4EtAKCEPkOrAVJCpESyh+sGfgklxwjIZUpcCRuInAzizfNJv8Orw8IGyUPuBYBF9gVCBXfF4cQgyNgH/UoXRvSE0Mifx60CbQI3P9gBBz+zQGvBfjzaAbsAPIX8REoBeUMLx2mKDkh+xkqCsEZLB6kJKwgZSuwKhgjByi4NiwrMjrORNpImDtALU4lXiKJG0AWvwhlAz8N5RQqJ3Yl+B6yGg4bSSrGKAc43UObUyhLBD/oK+8zNhzjHuIdPBa4G08cKCPbKhE4ajHWPfY020JlS8JOK1oAWVdMKE4ETlBGdlDmTdJR2kjnRasxmiU4M1UjUSaUG+YUNhOzGOkM0Q4oHV0y1TUdPm5Gzz9dPpI9e0tVUF5MykEgRXRNcjniOdIvExqKGTAUTRV2GTYhug3kGyI1qi12MpoRWRGSFgAVAhP4C+AItQVyEhonjhG2A98CUfpn+Pn6QwvIAWYFIw6IAC8Z+SDiGYQfLQ+OCBQZ/w8WHM8WcANCBpUCC/gQBvntYfLC8bHvLO9u27vz+gAiBzYSXR6EGpUFyRIpFFEZRB2GH1wS2xZAFHQW8x/rHnsUjgdTChgWjR4pEdUc+hDFEOkUiQy+FnQXVBtXCh8Imvf86MXy7vAR8Z7Z1N3t4735ZQYBAfkW6gmUGtkR2x7IILAP0g6iC50LDhNGD0gOTh4pCKoU8htJF2wJ+AXQ/J76qgvtF4cZrCuEORQztikdHVUqRTEQNMEzDzVNKiU0ZUYlLbQvbiRAFgoe9RwGI/4xGS12KZU4fjFPJrQWuSM5HQwYGx0lFVMQDiPfIcQlxCh1KsMsyiZdJPErmTBWLZktximOMJktFTFLRPo1fzVEOf8oSy/lLWkxqzlMO3IrXSQVMPku5DAvKO4qBBlJHVsbYS0ULRUhEzX3Kuo9iSxuMSMgYC1DOcQfWBbSFiUpoDmTOiY2g0CYO4c5ji03Hqof1g3oJq4KORj//Ej5APaQ9mX17PgOCwAjninEOk9BCz4WViBH/kmFSohcrU7gN+9Av0RDRAszyxtwBEEV+A/1MQ824ivgIXcxVDXbPy5Aqz4tTZZA8T5OPUQzyTJ0L7hKd0arNvUp+TL3MJ8aBC0ZJc8nNSMEEu0W+wxoCr0K/xGdHIcomS2gLowuRB8CJCAm1yIfLDUvqTGGKNYsnh2EGiEfwSIKGloFpxskHegMQAYx/4kC7PWvDmEGixWP9DQFYglyCPQX+SIyIrghyyL1MOYpoxz2KSIv3y8ZJTIdvB3aDBQMNQ08EG4OrxmMEloS2wg8ALcAYxGPE9IkmhGpFVMnrCicK8wlpzA7N7s4ZSydFgohSS59Jagt4S6kM2opCRdoKHgvQCkiKCgtxxb6E7EmgCHPGBgjRg33A2MQHhrgF/AS4hApD9gXwhFsBD72rgATApEDOQzqBroHhB5dIoQQjRUNE6wfxBH8DTgM/Qh3A+QVhhEjCpoBYexp/BEIeQF5BCsPxxMFHgAVQxwYG/oOqSNsIdsgEh69K1oZgBvADMcXrBeOFQ0JyRWwHMAJYA9DF+YVNRL3CLAWRBiOFtwAWwqDA10TnRB/IuwNQhivEEohwhxCD/APLRxIGqA5nUYXPUM/QlDxUylI/EX8MTctCC+2JGwSwBqDEgsE7wyvBlQdMBPqG8wggCmfNGkr8TKzIQYk+Sv8MQIkKS3DJyEnYCHoFcgWKhsUHZ0ZggjqA5TwgfZJCwUFye+s+eD/cwFeACMHcCglI/cxdjpvOnc5IDAcPk8sQiZKG94UixsKGH4LCCA9HiQXcBBlD5Uj7wltBN74PfP29Rz7wArnD2kchzctIxgo7RdVIXopTh28GTIZkhvSDs4O+g9qGCkPxAW7EGYelhpFMb8kbS3vJm0bShcPK1I1+yoxOQE2QxQ3IMUZSAtYAT3+Z/Ub8Hj34RTFGNUQJgHfG/sb3SRRNZE6mTfoMVs0TjGHMYk9ki3mII0mfDAFLYYqGB5xC+4GXx+6JeEc3h4zJ0c4hz6eOGoquCZBL10l9BNtDoAWmhmPJuwrPBEBHA8EZAdyBH4HzQKI/MkFvAsFCtkLyQcZBp7wuveh/PXuA/MJ/q3/n/AU99/1GPQx+SkAoP28EWgQ2B9mKGAyIymVLRMe2xHAD2kdZimBMXc3Vx+nILsf6hfFFjohvA50AJAFbAu+F/cTgw9bFrUe3x4VE9YyiSZZLWowmja/M1c6ijcqJcsndy+pHqoZUx66Cf0TqhwcCj0gNzLwPLpBIy0iKyQs2yYaHP0WbxYAGDAVRA9DFR4fxCFzFjwSMBcWCyH4ef6+BzD3zu+j5oDxYe0o+H707f1SC5kVWBLTDfcq+i8tLkkedzqqPEwsxjMtMrQiVzGAOPU+/jdCORtBxSDZHFEYiCo2JbQm6yRxNIgvnS3CLhwmVCbjIussmie3I0gjKzecOG4rXR6bI40cEBDjHgUdAiFGFpwUcR2SGYso8BCV/WsRRBVGCMgc4xYkESb85Qkl9mH7Xet81WnPwNWN8MbpCfy7EV0bZRYYIt8dyyIQGr8e/SD6H8gkeiy0HsogYw/GANP5zQasEjUD0ikTImQWOQBu9Dv9uOwz9FX2Mei16gYFgQBMAEEIR//8/3gAPw+pA3oPzPVt+/0EcBuLFHcx1Tj8MFoquCkDGc8HEAc6COoM8/y04gT/H/bcAXML+P9GDFcVMCjdMfM43CDIIWEa6htjJBwwry/UJcEB4gvR/lz9NPda/d30/Ak5DUUQYwS5DvgLwv5a+tgAOwPt+4v9HfjxDnYgAS6iJsogyDDcJwsl7A8NDboeWiIYFGgN6BScIJohtSWsI3EhLCVcFSMGhhVtDpoo6yCCIYIsVCZKI7kXhSf2GhgtnhevF3EWaR2RCyYD5wQ7/a8AOR0GIYUILw75D8IQVwnrGYQUqQAWCm7yEATk+o8IuAk5+Mfva/LC+MToF+C33ajm4+667nvq5OCU7Efzc98l6lDziP1oDyT9NfrXA80NExQHDcIMfBRwGYIu7iVLHL4cVRSZE/YHm/oV8a728N1S6tfmUuhP51fngu3f5VbzbPaJ9h/23QO7+vf8zgcoBRwDFxLkHgQsrCdxJ7w2zSWrFP8QhA+PCJYHm+xy6zzgFfEe88/kOd/M3mrl5+608ILvKOys+OXeouZ36lDqyO/p/Dv27vQjAaL0p+mh9fzxm+cO8YD8C/DO47f0JftxATEA+fmFBAX2Uuj5+T3nU+XX8FT0XvDc/Z/1K+yT8xDx3fbv5xPvx+318Kz04fsE75j1RP357+b3/w5zAf0AhQNDBqr3UvFl94T13vVb8hry9PGc+fADXgxLGUgVNBRVJUEeXxokJvwiwzSFLB0Ydwm59ev1zPqs9YT8iPRzChoHwQHo/7YBzwVnBI0HqhPoCToc0S7PL0QvWTgWSEQ6sTMYO2QmdxVzGLYTgv5K9sHttfzY92355wRxBMD6twGlEsAXaAroDYwQk/mnB7wNqxcpGmkWZxbdFpQTfwtpA/gAv/NL/uYAUgObBygRXxkcGSkYthUEEqoVtRVtLbckhSOvJJkgIR+PI98mOSaRMqglWCAsKkYpfzbnQ9BHqiPtHbcdhRM1Dk4OTBFZA337AfjJCvIEhgxtAn/7tf0/AwH9+P39CQj4NvslBBUFlgpj/iYHJw5y+3gC4gIfC/wUTRIKEsUPAxc8BYP5Mv2S71Dm++XY/jL7PvIc50TtTO5h778ALAp8Akn/TP8W+n7+mAP3/gcFwwO4DoD6HfkL58LgPfCA+T/9s/X7AbUE8A+RCeQGxgTACwoVoQAXD4YJ7gpxFqwJ+gvdBUj8LwMW+JQAwgFjGkUXeQ4YFTMB/vbU7yjpvOU5+/H15fN8D9oa8xkkIlv9qwk++IAHSAN3+/v/Yfc98I7okfTCAa74qgElDA4CrhnhAq8MmAwMDVYTWxVrHp8rnSv5Nc8j1BpAIuMRXQHVB270/P2Y+wrvju727Lrvpv0IEuocyCNkJSQ1ky/uMEguwiI8JGwfrCMiKLMdyhIsCUcIIBv+ESH8tPUhEewUeSMwI106gzjuO2dA/UNHRhg8cTBfKjEoJCvoFfsAIgAO/ZP8qv2B8DYErBjiGmQHNwjpDwAHDhw7LyAxQTBpLBcfFS6pLFo4xD1wPqc3dzjvKZ4Kgh36Fa4SpBnoH9Eumhb0DQ4T1hV9LU0nKB1+HacTcySbGw8msCBjJmn+HATdAA4JuQmb+3L+vuFS7tzzeO9V9bv+fv+sGqIaSA1mH3ocPCl4HMMU5xPZAGD/Mu/Z/FgRmBbqFqMLURXBCmwGoRC9GhAUbRVvLOkjDijVNLNEii06EOgQMQkHCRYAZRH7DgQRkAu9AiAHbQRyBFD6hwlH+I4GAhF6F3kZDRucG9AMWRbIF2sbVhPvFaQFpQbt9tH4SQIE+eoIk/sLBK73GvZ09/HoG/sA96flyQLbCHIG0ACfFmYp4xpzF98KsP5y9G7q9NUo0+3Ok9OX79TvVvEIAi4CjhKR+/73h/vc857en+ki3nThUuLY8xzzo/hNAK7uA+NK5HPl/Odt6fHuNe3k2nTKt7zEu/rCicV11zHQONcH41bqTvR7+gDxwPLs+dIALf4eAYb/T/xpBH0UWwd1Ad/8GARI+MjoH+Jf88321ehi5A7s9PxSEEsJYgqc+rIKMw+tB/0RVxEy9TwI/hOMGWcR6gj29df1Z/Ec5kjt5/pXAboSLALuAokGbQVLA8kAjAP1Bob7qPtd8F7wFOs35sXTwt2p4z7a19351jPUKcc71ovmitlX3uTl6OG/A/EJBRwFIHIYcBb1GzwVMA3jCEUEZfBa+v/3Mvmn+G3sD/hjGfgN1P22C7gBCfsC8r/pQAnsBGj4HwOtDrkBkufG7qn2iv3751jbwuew7DrxqvZJEjgVNyGqKeMbTxZzFfUDyf7HDdwb/RHUH/4UChXMC3v4/fBN56PNZNPu5mn3Vd2N2jvitNta57j8bQXKEC8J1Q/kD28a+wpXBcsItwjzCwn1lOjO7RoHkxKuDi4Y7wi/BkcJgAI4B+72+ey2/pwAgQWr/RgG1wHxElsimTO2Iwgcmw/3CBoRdQG/ACMQSwzpFa0U4f16Ey4bSwNq9dIK5QMIDo8ReBuTGfMkSw+zGKcTUwnhEBwMShO4Ex8UuBj8BRwEFfLVAFnvqvpMATYGdRGYIVAhCCfFGEwTwQshCTr42PHf/+r2PPbQCY4VXg/1Ds4GsQp0A8MYWwUxFeH/Nfxu5yL2a/P48o7y3fT5+uj3pwb589MJ6wFfBX0Q5h86IhEkVyRnG5wchyWVF8YaUQxFFj0Y/QtrCvoa0BJtG3gkMivLGA0bFxbXGHMLVwYxDkYk4w7WDbkCvAD5AdPy//GM5zf0wPGV/IwKWA6zEeQJkiLXLj0sYCp0OyUnZiO1IOEgfRFHJGsXkhORGSMapyXfHXwbzS6YGUQx5ioDQMM5/CofPsE1KzMmLwU4sT9qMDspphwpD4EAu/Iw/E77ovjn8KD1AQiCCBcTuyXRQgA9e0hzWiVGMjULKZQfxScDOUYuXxftDIwL5RNhGD8UBBpSHD0XZx0aGnYQ0BhbFPAowyp2I/MRARxsFI0Id/9V/OH4Fvw6AdP3GwBtAJD83vvu/WUPYhE/Bxn9tfoR7UAA/BXRDIgJ3hfRLqQnNxbNFabzIfdt7cvml+Gf3G3XpNqI15L09vlD8+oI6gvJC/QbgAoNAaP/2P49+m79vPrx+JIF5Pzl4Enep+Xq4j3lguhs46LsGeaw7S3v+wD+CA4LAQy/7VP/u/vO+DXyVOuH913/hfou9gD3WPnmCNr+evc49h/m8eg/0fzWmOuR2QbOqdGE6OLuXPwq64HkJ+j3+0/zcvLB8XfoYvF381n7rf2MBVoBtxBB/63sVPAy5WzYvdQc2+vWlN7A2k7dZtE+y03TQdw+4WzcztKX5QHb/eFu1h3VWuJ343XrvPYL8b319++O6PTvR+US4HjomOa+6EDjeeQb6pvnKPKh5Xr3AfAe47LngeZJ5vHlluk67fX/rAsRFvICJf5g71TtmPuf7Pnoctg43FHcFOPW3Fbi6um8513knud058T1PQcN+g0B6v3wA/4JXus08Uf3Fe+CEpAD1wABA2D5rwv8DlH9FgmW+4IArgM+BvcKt/kM+bj6Xfhh+3UA+vie207oH+gu87L/NgAMBs4OtBTW/kMO9OO9+j323+p17lj0fOSp5fv7cPQh/Ev5fwX9+HP3Men58W75m+kz6lPqOOxY87ryD+q46FrhE9A922Lx4e8o77v8bgfKCfAUaxVV/9X5Qf6DA6IAXAAfBHT6MfrZ9gwX0wU+/00C0wRFCR35qwkeCXr3wv4aBKQKnhiUFsYTkBeGGM8amBzBHQsEAPYa/PfopuUJ82n17/CJ7aTzVfaQASELx/pfA0AD2vMB+l3tpOG/4a7qn+U75RDt8vBe/NENpvfABxAPwgLnCjASsQmoBIgOlOnG3crm0OGD63zp2e3m/GcLrxo2B2EUWRFiDy0GHAf9Cov3EP4e/jr6kPVu5hn38u/J/ZcH+vVx55cCbPQt/lH4GAYR+izqVfzeANb/PfpzBlcFCPSj+W/yZOxR6d3tVejv4tvwGfju/m/97/qN8pcBow4PDjYX9AcLEfUNegTADGwRDf8vCVsNBAdgCHkR/Ah8/t/+FgbF91j7Q+vc/bXsevzgFfkRHhaSMHYxQxpbNwYx/TAwLZkthyRID/oIdwkF/WwDGgumCbsFdAyXC4EKAweD/64S2ww+GUgggiouDvYilS4UKuQfOyl7KbYjlhgnGtAdTBehHHQQIgP8+iH54fKO7w/z2eLi7ozpKP+OA6UDthRvH60rHjDZG7gRxgoe+9j5nepQ7qfum9+N4Efu6vbx7sbi7/vT6+ftLeBQ7KTnJu8Y/gAAuBUHJLchUiBXK6Im0hZQGQH/HAJ5B/D5me7Z5EHh4+XM7Mnp/AAsD4oSrQyzA9IJqQzhC3cR1g5aFkIdohxPIIwvVzY3M4cg7Q76FbENuuZm5DXW0s7QzrnGcdOj3CLgs/E2AOsUiyEXKbk0JjVqKyw8ECrXI9MXKgXgA/gBdf+v4v/pKfHvAlLwQO67+/n3yxCHDLgPewXmALQELRIeEOcEcAj0B3H0eQDQ88fkKNWc1KzLV75SuEDQAth820bzzvBy+eb3hPKg9Xz61Q/1CJ8FDw9WDJIMCwndCHoAYAFyGHwg0yHJJ04rPST3JLkUXQYSCioB7vl89lL6dvRL9sT0dwJ0CSAHZwJwAdP7F/jW9+z70esM8xjgzuAm6sDxBfnn8N784fndCCUGKxGJ+JzzgN7h0WXN08SRyrG84c5I21T2fP88DQUfth41Eh7+d/I9/FP1AOvt82rz3vK7+ar7BQREAT8DvfZY8Czh/d+Z6N/Y3NP1zVzUJObT/Gnx8f6sE7sWjRD4IZYYOBiWEuMQmgl8DSkRtA/0/zf+pPzU9rz6Fvrp/bYKGP0N68v5JO/n41PofN7k5f3fI/b87RPxhABZ6Cb4w/0F/aX6kvd3+V/03f2d6SrdDPA2AucBgyrLMDs7MDGTMSYlbR5xCsf4SP5WDXz8IvE5+1gGxAB1Bz8E0QCY7GH9Bu8GFMAOmxo0CD38vvra/g4Ztw/G+vr8lfpi7VLst9u17dj1KPEY7zoF2P7KDtASNx9dKoMkYgeQB3QKRPjl+Jv/LvKO72YIUhJ2Fx8abxX9Gc8XVCbAGzUHZgZfAegKFBFtD9wMdhM+C1kgpSWXHgwO1QaOF4v/gvuqEdYZ/BHhEgco6yPeH5IdyRsBFz8Mbf2w9gTyYePk4CTcJd6m33b9dPxs/eoO9BrAJ90U+wk9+ioPtBHxAur4Ww0AAMnzw/yX+Tv6kvgy8Lj/If6i+OX6JQd+Cpr3APsDDnD/wRCwFz4czhrvG/UFeAaY5zHjrPIk4HbJ38OTzpLUTNgOwvftle5v8yTyIfAw5kPaMvLX9gHk+OXu1qbweARTAb0L0AF190Px1AJV8sH88fYa6dLxF/br920BbPabBmgRUg94KbwolA66DAD5u+z+8XXqeOsK/JADMAd7I68htBuvGk8Xc/n+AX4HffQC9q3/qA7xDrkPvQcgDccQ1RErCGUSPxP2A7v4/AFsBNT3o+Ma/LsQOha8BcMTlR+TJFsthCrSEoISnAf7+oz4Avf88ITqTudX8CYFNw9GJOQaThNBECYLcQx//+34YvruBCwCaQQTDScajRtwGfkImRG5Dyj4wOgd/qT0pfUm/EH0Kfca8i/hGfeFCbPsWgBX+2H79PhG+Vz+CP8dAb7/4Pu0+v0NVhAuAwwCUBICGecJFAOVAFUEYwbkBkcTXCO+HsUbmhQlFNkToxUpFUcWpgeR+9/4xQEg9mX++AYjCYkQ/vnb8NbvO+Sz3CvmFN/Z2/XxA/Be/eICkRDI/akR+BM1F/QEOgBgAVL7yvf3+BLvfNyQ1ePgQO4Z6Wrhg+8i93r6sQF6DTYcQhaJDukJ7ApbAHsMUA9OAJb0P/H2ADP/yQBE9bTwg/cq8MTsL+No81zgmvc9BiwMfhiUDL726P/3+dr7AfuxDLAW0xURKWoyBj9GPX0wECo3GwARPRBVCAAI8wQO/vcQMAUnDBMGzgRGBF4GafWN6+313PcqEUMPoR+fKMA0rS1oNLo+BzDxLzkp4y26JxcS8Q+sEBcEQvPH+p34chDZAZcF6w2uIeccChP2EW4IywPxDH4En/Jz8TX52O9O8L7nm/Ac40/bXtdF8HXtz+0+88T4CPSPA3YgVy6ZJ4kZjCyVJpYyVSFFGR0gTgUy/a0J3AGLF0sKcAN0GqsN+QCSBHEPsg2tB/YBowOIHZwe2CqOIGUpQjB/Km0jSxHE/2Lwge8PAxABbwc6BC0NDhpZHMkndiyoN2IwHiXBHgAZkAw5EKwGrQRdF1MkhxcbCNcHZ/Ew6e/gevIrA54HIQwxDMoTeQuSDewgziT4KBovHSx0FeUcgxco/cLueevL3/HclOZD6r/1d/YmAY8MiQXXBmgb6BSxGLEfqw48E7AVeTd1R/U/MDmENSwrKyFWIBQfXwSJC2oQYwzfC3IU1RQeGigydim+JesdbSHOFvIFzwLZ/UUFTA4rFlsg8BZsFS0gaD/rK5ImRDfaNoA9fiSdEawcNhQfDzYZDBZsJvAueifxMYA1sDRLO04lpjESK3Y+qDdEMD0sDh8JHRs5zihZHMwhvyt8KvUk7xAbA7n/QfOD/hj0Mvqv/gsO2R8nJbkxVjx5MzkstiBWHf0eoyKeHJUX2hSQFgwYsRHI8+b1Pvxt6/vvbfIf//L9CQ8LHtYmvideI1ghcjENP/NHHD8CHycfqQse/Cv4YuvO3w7kuuQcBnz52grxB0kCyPxD6Q/ofNpY1qPX8O94+QL/9Pjd/0UQJf7KE84E7wQQ8Xr4ifs68Kf0et+A+kf8vvYM7ScBMxlkHFEsbyBMFiIP8QlxFdD8jfhL//flM+ua81bc3u8sBXoMeAmvAr8AWw0+INQI/QxxHpYmghj2GRQRtQuHBiUOGArhAKkLYAFiAo7xCvFrB1f3H/bMBGH0BQWC/YL93wgmCA/3k/jB8a7k1uN33mYCQQLu+fvuVfsu8treXOZj34XhFekp9Gn2Z/Ar8pD3IQA3+XL8MPx/9aoJ2gmT/Tzxkv8s80D1fAl8/xEAtwAF78UAYwRLFWYJ0xCbE20WfhJl+gYURhweGwIVDB44F5sTugHmBLcE1wjAEakLgvQX8hwK0AdkCZQZ5iEAMQVJqDqtQYQu/SywKiIthympIBwWfhUGHEMROyHfKPUh4iloIpQd8hqzGLcU+hwCFhQY2v2BEmULrQ99AtP3zfkYAGUNLgXJA6gXMSGDI+sjTCheQ7k/gzxEOoQxwRo1GmcK1/Sq8QLVS+dH44HdE+Z23yzmKfBM8UH6bwQyD7MEfwFiAhT+1fCL82gBtQXV/Ov1UfVH2ivcLtso0MPEfNnL18nYQtpn0+r7igHJAwsPqxCMCHcBsQXBD+gT1OaS3SDsyOaz8TLvT+aj8RL5Rf7BCNj2FvN36MIE0PZd+4rriuKG8i710uDy8OPwEvjR317Z0ORK607XSefx3oToMfmFEooVqTF1OehG3ky+QZQ69CXZFf0Tpx9ZAR77cgX0+CcMEhUpGzAdkQfvBs8SXQ3yErIaqR+RJfIfuyktGvEb4hOrCAQAqPdY/4YCswLF7wvkh+5w+nwCUBbHF24fXhxBH70j6iLMGUoQ/hL4Bn4I6Rs2Jc8yERkfJpkyLDEdH6YY1Bx8GXIVogWR+NMMMf/h9KUDJRW0JOEehxtXIaAq6yEaB/kXwRL6/LkDE/oQ+ZID8wHhBCH9VARuGmUD0wP4FOYbIRfkGrQlihnbG5Yrjy3LIz8hgxwpJ5My/jIxMyMuvRyzGTEUmQR17sLlku/e5H3t3uwU+j/i9+N1+pYIPgEfBL78nwxtDDQVURydIvEP9hiJGCkNvwivBJ77nwNcAjHqCPIx5wjeYOvl+m39k/0rCF4DKgrTGswhVh8tIdEuCSKCI5YZowjiBtgKXf4j+rryR/bd7qv/ZADfCRsJtQbL/P76e/JQ9fwB//0HBmv74/UQ/FEDzw3vFpwcASNDEBwDJPbj/Y3yyeiD7h3xywOcB2oFnAsjH1wJ3AEI9sr/LgRkB8sSpiNdKv8x5UGgVK5H+jCyPZoyexmzCekDmPpOAJrxlehL5xnw4AwlAYAHziAEH2kd5BljE50M8hb8FhQOUhPSKPMY8x23FGYMEBGiDNgOKwbvAkD+Fu8U/7H9sAKWBQMX6B8SNN4ssTD5K5M2hxuJEAUOIPtPBsoLABI5HgMOww2sKeM19x4kKAcSdhqHC6IBJQ2BACgGfxZmFyAXmRI5CDcGRiIbFDUamwd1Bi3+uu9h+ErwVxi4Eo0SsBKsGbcXWwoRBk8POw6QIm8SEA4UERcQxyMyJNY2/DmwOLItrCQQCiQcxCBpG4kdly6bLzgxyDoMMZEu/TiHE3wbfyV+IaUo4iWrISQhSy0iOAswRS61HVQOWApgARLqKOy+63zY+NOcxIfPauDv6r76RP5nBCIDyv3K/WoKfxPnJE4XPBRbI34Y9wmDDUYIu/pE82PtJPNf+0/0EevP4JjZEPL870T+7ANmBiL/hxB/DKDzOPHv4pfdxt6F5sP2f/Uu/vILnQSAB4/yeAZnB6QO3A7SC/f5GP/WCK0QsgxTDHsIGQAf5FThlt9ayNjMfsah1v7yLus88vrz7+koAbn1EPRw97nks9gR6eLcBdsY4jXYstuP4JPbcel25Qb70Ahx8rX2a/WB/zAJ/wic/mcSlwurBo74Af6898nxMO6s1+DmE+bO37rrT/VQ+5gJdwR1C6wSNBUxF+URmQb7/j0G5vBc8HzmQuus+/kEFxEGIV0YiyjHLYQ0wzBnKRQu2zEYJgsTAwziBVryZv+tAEsJjxFmFN4bWRBKD8MFXwj3FtYYmCLlJOI9szTpL/U5OjGMIlEj4h1zHlsNsQ6KD40PJRm+GOwbEhVUDZsdPTAdMishgyAkK2oUOP8/EEAfbDF8Pco4V0YlOB81wi+zF8v4QQO0+eUBG/8SACIMHhtuLUcorRuKIcoo1isdGj4X+wf8BvgJ1x1OF1wZ5iViHCgpHxKGGpgKZB2jDZEbcCSiM4E5nzBSQMlMhVbSZJJZylfsP3pKM0KgKp0qmRvOE4r8vA9oIeEjKSWJHKgpEipRIzc/IhmYFGMFrv/sAncPjAM7C7os3jI2MVA3cSs+Jhsb5hdVGlgY2Bn9GkIZ4iOFGAkoFTHUJ/UjuUJsQkhHGDx3LU0lWCqAH6MdfyqiDWAByBCHII8grAz8ByILwxwSHMoWuhtdGpgg/hpuG/IeTi7cLqEh5i46MuIvjToQPbotl0G9K4EYeRjQFdUVmxJ+C3EajRvGK7g12Us/SRtN9ENYRoo0aysUJgwh4RIDDuYM8xMzEP0OswzFB78D0AamAXLpgeoV+4HuqPNT+Y0CrwjPGGoiFiYbMpdhomiWWaNYDEc9PVg3KCXVE8YHZAmWF24Z0RhKGtol4CUvINIW5wny6TDsIfIK/EzlHuPu5inznAym+b8THB2HC4sPNCLQI9YpwyEHGsQa0hWBDhkbThw8Jl8d0yWrHB0Vzf3V9Xnsxeb08A73fftQB5z+HQHIG1MFaxAD/q7rzPaM9ffot9ny7Hz0zuib78v9Ng3RCK8NyBy9H2YpDSSCGR0aISqLKQU560GZPUpKjj1PNpEx8BoGDdL0beQl4kvaUtwr8aTwQ/OC/an1HAOIDAcJYBxHH2gbkBk7DsETWyXzL7IoyyyqJPktQia3KL0tRie2LX4U7RxkHWYr9yarO8s4MzFnLokshy0TProtJCQPE74Ihvb+ClkL7wpvEhYOJBSgARwCrQT0/QcGSApGD4EF0QcNEbcfhycTLthDVEvTTLRKFE2kRkdExEhfPo1AfzLdOcRAzTrqGJUcRhHQETEagBkxIQAaBhshFWAxiB6HLDUyeCYmI5IqaRmqICYYJiprKRoclhPYHtsUBhH9ByALTxf6Izkzyi3lMPhGTTMBOa46jDcAMmg50DIYOCsYjQmkCmcALP7985DyjeJ76RPu/vNJ+z4AsRZ+D0sC1P04/EUEXgAs/2HxGgzEIDYXswoX+hPyivR8+BTyDPcV9kb8gwWz/ST/pQJXCqgUrhGvHNkYVB19Hg8aTxUmD7Ua2AmgBf3uHNm2u+y1GrrYvXyrUb0awZTFTsHB40HP8OHa78/ZRurz3xbx+/Qx8S35sQcgCz8IUQhtEgMQD/jvAPPyNurc8lXhefEL4DLratQy5iXsTfm06K3joehJ9YP7D+vu563dWNzO3IP35ACw9MzyKAcf+N77Ifia7qPpufRqCmr6HxULHdQSXy2XLkI4vTvuL9wnPw4zBCP17Os10UnjTdUD6zX7Ge/ZBC8NuwwmGHIEsfh48v/6agRN/d31QwfkFxwTGhh7KgEn6S6aMOwceyWRO4UzTzSyTCg+q0ZsQA5Fb02vWkZLcUVGQQEvYw3mAuUCOSGAElgebSY/HlUmgQLP/tP1DfBy7wHrm+t+81b3eAo2EiQQYh9MNFUwwUEtM0EvNSPgHQENIxSwGiwdVB2JJTMqcT+eRxdS0EN/ShtAwDFBK/ofCx7ICKgEFw3QDRIOKQ5EAC/3+/Rw9LXcEedB7xvuQPQu6lX1hQ8MFm4lMzRVPTFHKUAZTnY3HBy7D8gTwB/iHdERsgepD/EHFglZDM4W4BZ5FNIXdxixGFkGqQMED/YMKQQNE4scQiIcIzMirRs/G78VxA6E+h/22fit7679WPfj+/QNxhKY/bAGSR/6GQwZihV5CSMZ7A4oGUoZSB2YJWYouUFdK70u8T3WNbQ0uzPxJnojKDAEJmcG1hjwH78VWxRECiYRKA/oEDoXFh2BIAIUVCQ/MD8lnSvFJ+4skDPxPEFCL1sXcm5VvWnpbp5qW00JTx9BujmUKcEYKRv2KzIyUTZuIMwoo0XKQ8M7IyDMIeUxixOZIJAJ/hiBFK8y/UEVN9YudTH7MMpGojlzJA829TpOJuUolikZNjU6iC1sUk5Z2mRHXWFPFE1STPc+JkY7WaBSsD3pMk86lTOuKYIw3yjQJ5UmDRwAJGobdybUEGsPdBMTFeYaABrmFm8aYg2LFPcMKAYz+SD5wP91EpIRvii5OClERz8NO60vKC5kKGsk/x2RI94kMSfWIqklPC2GL5EftTB2PFYw6zgjMw4uZSmaI04szjFbHDUAyAc9/F8BBQY7ClIEsQwjHFsgHhaPMN8t1SzUHKMbSCG2EFgd4CeXG14lzihHJ1wWUildG5IPbAvKBML+2vzd9+QGjfvCBeP41gL6+HX3jfNP/QbvBO9c8lQE/RQdDtIZayMGFUEPVw5iBvH/5QOnDqcBCAHtAj7+nQqvAavshvdv7gQBQgEUDQUkRyq0L1k2JzjxOFhFtDh/N+c1ziwpL5AoZhWV+mjwT+/z77bwwgEJBKkl4STrGq4WsBkLH+4YtBG2IIwlvRkRI74WEyY5HW4kXxkAHbkLwBUVGZIFSArBFhAGbgWMAXwUchqECxgDGwslD74MaQfl97jrON3S2Bjbktpg1DLl0/3jEUYS1yDDJSwrNSMBMZszyC3EQAA28TxBLyYihhc/GfoSyARqB3Dwa+3b7cMFxwz/IDUcBhMYJiM0fUoYMwITWCBAIHgJKBQ2D8f/hPIC45r5sObSAPr5qv8eDuwXiCXnGnQg/SrPLzg1TxmjKIEskiXxKsYfwCIsEPv6z+2p/zD9n/f05nj79fZL+PMKmwWQAPILQgvO+zkHxQuLD7H+2fyPAd8BbgJBBZIBrvWFBgT6Ov5c9oLoMPgZ7TD60QEpBRsKtAaZD+YWXArwCVIOtBQV86fzrOZL5Xzzfv05EoEMYwBqAgcLygjnBRf86ATT/Gf1qvYL5RHn5d+Q3e/bbNT/03bGqcop7KLrGex++U31IP+844bq9PPcAmsTzgqNDdQPzhflCJoJ9/JkAA/hkush/Cnmqv0rCIf5s/Kk/TL3iQhV8fj46f1MDCr3g/VVBVLvJvXp9DfxDeCA5vbfGejx7XcKcf1P+xgUkRdXFWAUoCF6ELQCsA/QGBcNQR/pKEI7BUpjQ4IuGybZM4ch0Qsl+6oD1fwA8bb6hQGpCLMIzQ/iEDQjXCTOGi8sbi/GFTr/8/f5/uf2L/4iDK0P9y77J3kuVSqlKXwrFSfOJsUpGyTVFKghbR7uGX8sfDjuMz41zzq1PNIpeSjhJ0g8/jmON5E87jqbK6AroCA1FOISlAUBFO8IhADs+ojnYg8aG2AbNDDnQ8JDw0LVRRgzWDPcLBcgrS7kJpcTwSWBI6cnWyqmLSsiLhX3857xivEpCLEIP/4VDaAdwxfbLgkuyj4lNjtLDUi4RIAnUR3gGM8PnwT7Cg8UnRFuJLAxGD+rOpo3zyvhG/QP6hBfI/0f9xsPIuMiBjxcLBw+tz/xPMFEzjzwPaozsSFUFuYAIv3HB3wOuBPaFx4UPxpmEgURXwM5BzD1tACQ/vP47vNw7z/dr+jz2pPzl/eQ978Kui2THmMlsz0ROzg2NkFqQ6dFk1NsQMo17TnmORs/FS/1H5kmaQsRDCj47eys7mUB3Po4/2rtYurI9wz5IPkD78jz3eRg63H3HvepA2sLwBqnI00ifRqSNukiJxhaHnImigszE97+Ag3XFE8T/CfnIpcurTitO3Y1ryt6FQITrRw6JoQQxgY/Aqf/Wuy84QnaRN1p6f7nh+wc6/Tw0PbGFGAfxztCSHdZgGRhZ/JZ+F2oUWtcllvDTmZNTz45OKFDzR6kIKwmFjDiMTwZAxrbDSkQVxrWAxr7MQvbB8EAHgwIDC/8Ef3f+UwJh/ta8yXy5vcuBHsk1x1bEcIhwxMvKmUYjhgsIVksLS3bHkEXaQ/iGLUG5gSbF+QkEhtUEVUQbydGMiAtFCq6J3EhNiUEGAoKgBiNJfQVhBCy/44D3Pbd6CDnIN+J1nzfherQ9uTynv1iH7YbqjMzH5Iq9yl0DKQizxbNI3ARlf5sCyUJnP5RA2/yZ+/Z9+n2z/U79/QDqAfCDzoSUhuPJVw29TKBLuo0wEM5N+YplzKfNOUdJSajIu8hKiAqFc8aMyiWIdMreSbGQOAuPzdyMZU7wjcBMoEt9C/8MgY0jTGKQno/PEALPz4pfyRLJG4e/Q/0AZL+VAK0/pwHt/Z4EwcXOg4EF34nODHBLZpBpzxyMLY3FDTnMdJAByxIGn0L2AZZE4IdqSUeG+40kzqANm090z8SLGQg4S+LHmUtvxV5HbUqPyUqI+spRyTOI8gW4gUd4c7SQuYi8KX0q+5o7gPcHeW28KT6pQPlAzwY2yp4MDEvChrfEtUe4hXQCdQmtCRsCoAJowiUAw8HRAN3+A4KSgd/BDD6WwH8+zAIZwXCAbAD+QQJDgIlByhkJF4eIijmHIAnRyKIGQkK8f5tEM4NygKMDVr+GfAiABH2oeYQ7Nv5WfmH/SUXICRQJXYO1hpyIL0O3gbIC2z/Gv8n+Vf2UfJd73vwzAH5A2j52gBRD78HdAnHIqopIykLJ5YskCi2L+kznCXGMDE3CEjUOPwiZRmFKr8sGydYIWkbkBiVC18LNgR0+zgVghWgG/IaGxyPEjcYrQwMEQQW0BKMDPcDtgPkBdQCkRMREOYUlhhRINoLlRQsHcMTrB5FGZUqVi5BLo056ymhL/hDVUfNSC0dFBCrCUkJ8Prr+kDxY+UU6NbtcelI7sT/MwPJD0AZLwjLCL8brxBcJiZD/j9rRJlKv1TEZ+JisF4aYoxQZEghSoo3DjnyPLEw1C8xPls1OTAZQE5CsU9QTetArz9uP/hE3Tx5QztA7j3lN1VDzjXvOj1DFkMCMC00nTgRPXkfcg1iFdf/pRQfHFUWpyVHM6gyXSBZFLYcCyOeGbYGfQUxBfYKHxOUABsemh6IIlc1qC+1KRsgdBNBAbsRvv3S+vXp8+gk9DH12feH9ib2vv/8DzEPEROVDOUZXyVRGWAb/hT6F20f4yo3Nl813i8yLLM0qhsiJb4yKCilG+ES+BROGvAgQR4HMCkwqCumFiMLgxKTDCQZyR4jH6sP1/JY8e/2ef5xBEIWKg2RGgwlkiZlIIgY1BP8GOwr0RBVEjAMAyTbNOA4WjCxK+Y38CIyCUUfDAQb9toBZ/MdAx0KugowDcYcnjgMP18yLj6wRwJAOCdUPNE1UzSPMyEqWja1KpctgC5CLMAymi0oMq0oZCwkMFkwzTI6LS00yjMiLk89WjU4NsMm/SJIIBAi+QkBF68R2QZ0E9sdASzSJpUmfy9/JpsqeRwTIngkox3iHU0WAh2IKsIrphVcD9owhBx4KXIX9hRFEfIiLRW4A88UAxuYHZ0e/CzyMfsgnSqrHqIaNQ2iEsgTHhqfHjMYMAiw+v7/XwsbEb4P8SYSI9Yj9xxrNjsu9CfIJBgXGClVHQYWcSOeJJEurzFaLHIyGij+LvUgFzCYO+MyxC23L6gzKiJIODo0ZiNjLGYYHxeTK/YmPCKZLCAoUR2uDRAJZSU5KAEpdCkvLeEnExw3EoINKA9WIdke1yykMeksoSyCK4Izvid8JJcvykPMQaYnfyWLMNU1GjJRM8FC5EfMOhos+SueB9ILawppHzoZNR7LLe5Aoz0DQzJFEky/SoxFiy/0KH8u6Ca6I64QoA0mAiMJmR0aH/ckwS4MKqoqwipoKpQ1QCqmLMIcVCxcLOgmOCbUIbEsFCA8FfoR6wn8FdsdxCAHJCId/SE5JaAn/hukI/YzczDaOx84DzcUITQ0ADHQHuInahmtEGMhTA6rE0kE5g9eGxgryyhvJTktNCRZJfgk9C/cJSgoJyyaJkQezCM5JwIOOiG8GA8DWQdJErYJSA0CCZIOUA7OBT/1M/ha60cDzgyq+1T6wgFKAjL3mf4n/AEDHgnaF+ofHS+/MjwsDkAtN0w1Izq/M4wgzyFYFpMbACEAIOUYkQua/9QKHwwpGD0pIjZhLsorjzCQN5cp3DhbKgkxoyjjIioiUiR7HlYbJR8VGNwVNxhtHishmCLnK3I2fTHvNsMxuzFXSkU4GTQBJr0nbDCAHgYhth5oBVIUCArwDEUKuBAmD8YTIgkGDFAN6gUiEaYLvAsSD30S/hnyNeMsPSjjFxwoAidQFJUWmSUWEP4O3wp2FbIWxhquHz4puxxGJgskOirwOI02MTgONJcvTyHKKDIZxhJqCBECJAgj/ZbjJe2C/YgLbfcPBMETpgUiD4X74A5UDKIIPhjcEFIl4h/aGGw17zDpLOIdzy2XGXEXbiHtIcwhAhIQG7gSy/1GCHMd7RPDBOgFExdTE5wSORGtHX8YIAkHEh8NHRGVAET+OxP4Aozzk9BgzULNFtm31+TWAu+i9e78cQ1KFZ4PrADRBbAKNgmSBhcFowq6/kYFCQvyAKL7HuR95rLe6PCL64/Zr9iA0p3OSeki5ofn/+9m8Cn4ZfH135/oUfX6CDMN0A+4EXYXaSXcKAgaQh5mCF72WOlv8Z34FPYDBdAMcRNYKK87ZUCgKqMqnRGoB3gKihTfFLQOpwc5Djr65ADF/I4Cavw+ByAVlw9VEFD4avUy/7X8ZPT6Bjb8TRIvFKctvCEyJdYngj3cLHw9PCdsJVAxljaYTCxK1D53IG8pqi2EKwYSLwdc9czz3OPj6Sf3NwI9EB0BSh7oFSshrTpZQqA0n0BiURE5AzfOKGggZiuSLLEt9CQjJ6EVfBURG7snEhq7FxACMvpFEJwVpSNVMIUtIiGKGzA1fy1IQo8/yS4RKDQlxSegJ1oeWxxdGLUFgQ6PEucQ4gcaEV384AG1AtwORhaTIc0STBVsC24LhRCOCy4WoBD3Dk4YaBX3I0IixCWNH90Xmg/qEoMm3jL9FckXlgG2EuoitCoqKZ4/Di7GIXsYpCa6G5ER+RTK9s/m6e6K8xTnouQN8FAJZvif9fnzYuak8BkG1gIG/m/xzu8Y4bbdA+Op3GDpdeqg4prvkvno9QT8z/g2/5r4eO1G4h7sbfn/7Vj3SO3q7lT9KgMLFM0UEyEZJHMorC62JEYOHw8jERj3rPeW6I7YjOhm/oj/2gSc/E/3XfsoAHrvV/gf8lPlheZJ5u7/k/c182f97AHX9B/8zfon/XDzgPZfAtH+1QwjJD0cFAx4B475dAOECc0AthOYDEIM2BNfHNAgQht+O+tKKlWJPVY31DQxIYYiVA+uEQERdQvLDGIMzyoEBNYW1xEgGJUeeRAKJRYbShaOJyM5wDSFUWRVl1qwc6ZfEFiMXnpVv0LaTDpIqi4uLXwy1jXAJW4s3DVeK9MqYR/oI1khCBl1E3sLbRSDDI8hyieeMY0yIS+XLFQtHj3yQakwzSiKJy8ohCxvIqkv2ygFM/Ur/DTiNbhF5U0tSPRKQUf8QGQ+BUvRSSU+jzlvQbsuijGMPdI6OFBxUdhark5tUBNcOUXWQa9DljrmJVUqWjXnJFIbNSzBJ5ElRRxTNdIpBCKZKfclry5uLBYmryMfGTAPZgq2DO0V/QlsDnoJnx5EGWUXRgPvAGb7Nfvw6orpSfWS/FAGXv4W/ALy4/dBCgYHyfkCBZ0JpAmEDIQL7A9oDrIbNh7nI/8caw9BFacRcg2bFYwcVRRhEMAEq/D5/Ir9ffcu8CXkA++87mn9pRCSASb89/R/8Xfxpd2z4dr5nBGBCe8KHBKR/57/mA2EF7oI8QGME+IDjw7YAxkIeQfWCmgY0wn+BFT6EApbC5z+T+8c9I35bwPyA9//hvQF9KTzbgdIC/YNjQMAEiQKh/h77Gf/owD7Av8AOvYu+DXr6AcU4jDrn+BI+CMPsAMGC58JPRYUEcQUryAIFhkCkABAB9QDzxfsH4caDBzQClr6d/0C/KIBLAY16efjdek/5OTVa9KczPvmluxy7PT0xv/cDYAHsfTdEA305uXc6Qzxw+bW6DTqde8j/p/ubPiZA+AJjRJHHc4XJw7oFJwgZhT7/+UNkgjJASQAMQP1Ak395ewb8k708vgJDb0DZfoa82fzYv6t97IFzPt3Fm8aMBr6GSIizTenJWghExHaITwYZSFaGSkHriCxGesG+QkkA18O/RCw+h8DCf44+RQBJvoE/uf+PgiWD6shJSeEGH0avB5sHWYXxBRlAl8CUAeYBzsD6/0XBRP/pxeqH7kbsTDjIN8ZKhHCFJ/9HATwGM8nCB3hHTUPcBDuBWgMiQ+oFFwQTv6L/JsGfgM/DMETjxTwFhIbvxprGH8MEgXDDccZzg4tAQ4H1BetEu0DkQmjAQEFOPhX8mn55wB664fpAfoK+zf+h/SeAIsCo/kMB1gKAgHbCwsQbhJzE/0PqxMs92D6ru7s6lnqxfVH9Ofw0Pe0/kMGVhAd/l7yn/C5Bi8E9Q8PFfoXCgxpD4oQYBxqEVj1Iv5bBsLqE/Zc7wrt5Pgf+/PorvVR4+zZk9kI4ojylOiG9TXrwf/uEhwDEBS2DWMhpx7YLLkQMyNFF3wJogjwAov54Oqp/ZDn5Pyf8176dvJnARMMYQeACMMKPQA3/SftGuON4crw2vyjBzgElwTeCwL/CQprEh4MtQqh/bX9YRAHBVcDJgaC9PgCdRsLEN0O0AMW+7/uOPBT6nL6RvCx6mnnwOxg7EMOuh7MGDkMiB2GG58bpxzfDjcEXAfGBoD7xQmS7eTq2P5645jtp/F665f3VgD+/iYZsg2ZD9oRmg0rBPX8+wgoAisOUh27KL8ZOxUmFM0XaBv6IFYQEQ6oBJEOnAF+8JL3bPLR843vIf1kAtIGfgoNEwgMRhJ/BgH8FQs/B7cOBx9WIgMNehDIE2cjPRAUCj8RfxU9/kMEfwGtAUTzpPsFAAsJHBuFII8pvSoGGXUWnhDOHXojSSEzGX8idhifGeMmIinsGccPSxnyDyIEY/4eCjQYXg6pE+UZSAciBaoKcB3VK7YmkivzKpUuZzxJSJ1JTDUVJOcv1i50GtIXahsCEJkjuR89A9/yT/XrAXsC8/oA+1APUQJbC7YUOf7fBHMJUxPVDa0WGiXIGGAc6hIqBQAHUwzKCHoZTwC9+0n6zfDu+Zj7c/owDVgdMxsgIZ4azCG8F4wKsAqYBYr/8gsxCZcIHwUgAXANKh8HLAwsBh8rHwE7uisCI8wOrBL1EowP4wJIEK4VggiOIDEQxQZr85Dy9+mO8ubqH/Rp9MD9pPl97PgBFP4m9hDvoPpUEEgKRAg0Dn4NUxBvHhIp+xouG4ITF/sXANkC4PC07oHruPCD5/rugfDw9kgHrg4LDXkeRRjjGFUcKhXwHTMRixj0G04sOSIkOhktjyihHC8RZCWVIboId/6LAW7oet7U7u8CIQV7/M72av7m+qX1zvtvCNcN2xrDBXnrsf6cBRP1vPrL/TwCZgjGCt79wPMcBGL+q/Xz9SEJ5wf5Es0grxhtCGsJ0vSmAWMX9CL3LJ8fYhvSC1UPFRtNDGMiTSGxHi4d1xqVH4MgrAjVAjADfQX7CZny0vNG+/ni0N1G57vkt+xP8Nv4x/xa9EML4AqxDTMVqisfGcb4Z/W7A2QN5RKqF98NRRTF/CkKWxB6E5EQpwst+3f0QfW+7BrwJAQxCtsUmhEcFz/2GQ83/9D3/gQUE9Qh6RdHI80qNxaIGJMQfhrzEEwfsiRfFzARkw4ACqUH1+5uATQPKQLK+KP6JgFFE8YWghiVDboZ1C7iOy4+CCbTLb4wIzJUKiQklBGhCSgI3g5K/4oFtAZOAbX+SvypAMP9AgwQBB0O1P51AzgC9BS/E04ZYB85MtgsXSgHJAYLRA6HG90IeCGAFXcWdxA+AFf59f1qGXwelx6OJIUkKCMsHAn7NgBMAqQIBwHI9WgGwO4168T9/fRX/vf6+AN1DdETNhSYB0wBLQDH+4YHQgwAB0Ua6hklFjcbbyB7FuQNuwHMF7MTqvw8BNYJwQaE9U/ll+O675nqwwNEC5EJZwYe87HyVAGt8tbwhP0z74P7XvlA4+fYMtJly7vB1M2K42TuKeRj6o3xwvpJCRcUBQYtDcT5U/gr81zbROm8633VZeH47RPpkeWW4NTlVvH37rPjZeX06mzkq+if9BsBdvv+Aqn7g/1h/KnyFv8FFOkdHRR7CfQNEA0UAF8QXxpdHQwP7v6t6sftaeYj3uLQ5tWJ4d/yWOpx8R7xLeA53T7e+t713WP0WO56+Pn21/Ws+2AOXgI6GUEdrCDUF84DdwC5+PQIEQYMAF/+MBJOAuEBUf5E+Fr1Zu/A69LpFeI/77sDSREJFGojAQlhGQMo6Bn/ErsGOwX6FYEHJwiA/vsLTA27AcIVdRgmGMwOjBlrEZAGegdCCk//WuwU9sfokvIB7gP5Av2s6ln+vwfWBoUDtAX0CaEZVBxxFl8Tog4hGCIN+A5GB4f+jwCV8Un3CedX2nrlHfFM5e3k1ulC+FEBXBaXEwINVw3HFFEJIPxkCZEHXAHF7xvuV/XbA5H5AASA/7YOYwtTDQ/8CvMk5X/Z4fgl9R/0GvVH8rnlguFj64T8cwCI6XDnTttI0onVWeVH5Tnnp++2AbgEWQDQAH8Q9RAYE3EG2wlnDfMR0AAT3wvc49ly4uHKR9Wm0v6/kdMk5LDnHPh2+MUFHfTr9nj9oQSv+bv16P3n/BH+kgdA9iTvW+PP65X7uQavEtYm2RtMIfYZ3AuJC0wSjxQVAVgEhQp6B4buweoA+UbdXurB+JL7tgl/GLYfQidtENAiThzjEVcMYA3yIkMeqyPOEmUDBOgS3RroY+Xa+J309+5t9B/+CQhNAND9aQFMAw0PGggz8iD3BO/Y67DcGPXo/kvzJgqJCosf6xVuB8b9dfdl7Vrv2AfzAicI6QTMBusFwQq3Fer/Sg5mDokHSfUC8U79nOsq9W37/+j/+m77uw0dDPz6oQ1oAAH+MgRvApsEAf2X+goHMwVzEy0Zngs5ADcK/BE/C/kC5wZtCRb6k/U+/Nnr9fik8lH30xLXFiUNqgHh88sBrO8C/vQCIBF/IrISBvxu/+f0Fg8uCof8cAqO7p7v9eeE8+EF7gpWCsgBDvtIDMvz6O2c2brfHt7H7Vnlgu2d9BH/TQLZ/oXsttvd9GvnePFl/vf+awxMCwMO8R3CGB0VyRIQKNQoiys4FagmPxkZA6H2OuqV58TgOtsI4KLEqcDfyNfQpMT91X3L38896d/4qAIh/lwBwwqeA9sM7/w/4BnWXtbdwX2+Ss2Y0YPS1NUO1u/dMdjJ3s/RncGyvonZaNym7sryh+gZ5unkTOIC3u3gLdHry7HVr8hz5Q3vT+ol7UriKfDD/fn2dvoHDdb8aO9c5Vrl+s/ZyMnUPN4X7RPo4f3oByAGS+sD88P6JQR/CHQAegE588sMhQZ9CwAQ1PTY+wUHviOXHEwduBADFBEfYRO3DboD6Q25++D7Af788GIAhfNy+7r9Juu69Ez1svZN6Hj8gggtASEHfgUO+IIArPGk6jHk7fiK+lL79wvpCVsRhQfE9jUAZPYl1efbsu5A+Hjt1eyF7Vjz2P+iDxIIqweQCJUUXiEjKiQpWC4fIpca6xT0/YACl/4D59bwteUN3C/fWuNY37z3f+fH/v4MIRDsCc0STyXoGGwZiw59EXoYOhp7IcULPg8LE8UcCg+CFdofhRt5EuEDbwTrA8IQJvas8tbyDOFy00vXLOxr4HnhNd8q4RvhVPeF7ibmY90U31TZpNZ81t7jkeWR/BL/DvuJAgUF1gScBf38ZRr+Gt8PRg1L9HXy2fT5+NTrb+hS6fHkWeKp4RL62QXdCRQHkf/69xb8GAWbDJkQaQfG/qgC6vx5/s36zAN3/s/zwvKF51nw6vWA+aQLVg0sAsgK4RC8HD4mGy2vGbUNNf7eCtP52PN69ub65Aem/wgJPgqKFi0GGAsG/x8HZwLf84Dr7OGT6R76L+2a7MH6qfD95rPWt8kHzpjNz+gT6F34ZPffBO3wmvAI+H/4w/llCc0C0vOjBYT6Vegd+rH8UP6EBlgNpxDQDfcLphr4ErYRFR/1DV4WcRDPE88LLxGYAXMEwPD+AvX25PyLBpoMmBuzErsFbB+EJVgqeR5hFwgLjQji9374WP1iAzkOcQ46B78KDwzWBk4KsQXKE2wCs/+ACsIPmyGkIGUb+CdlNfcd2hyjEcknByy3J60Z8A69CNQDtfNK+aTwafIf7tvvWQWG+VYCd/8J8iEJNRRO/pH/OxPiJWwstiZaFpQLEA9fErj5Kf5BAXwHyw1T/j0E1gW3Agz8qAOxDNb4wPuy/Fv7qeTK5P7YetJ41F/Nx9DP3cX3+fpuCMYNRQOk+Wv4H/+E+joKDQNR74Po7fh28176NgouC6cG0gCZ9AjtU+7L7Proj+e73nbkgt3D+DUAUAOvBpkHvRryCST+H+026FDoqOjO74sAHPneAkn5Pfw8CHL42Px05EjePN9C9aj3Yu3o6gP3DvaH/6n2t/0H7mTttfu2AYb8MOrP9hzv09OC2lHfee5P7DPhaOR89KQDB/29ChYIMfhT53Pkre+W9U4B+gZHCvURYxfMCEb/QwJJ9PHvue3C+Gvzq/e27QPQv/XZAnIONwUODCcXnA+3GgUN1wsFAUP26gRk/vMIbA6h+7X+kBByBpAUngoS8S3w+e2o/tX5MfIK4kH4yOEH6wj+rfS3/QD1AwbxDI8EeAXwBhP3sPe79Ur50O8v9uH/LQL0A3sM/AnDFEwQ8/k1BBgFRvyi/5j++gzMHUkfXxpuKY4etBPuHG8kYhydGs4echa8DsgFRhR/I7Ug2Bm7IV8hqR1LIMwi3RtEHXEpsiJlJE4rWy3uHQcV/v/fAi8DwwnJDPMVqv6r+Rf9BQByCPQbzAVhB6IUMBlXJKEVfxH1EmILFBmPCdsi4yZxGxQmICJFKCQpjyQuCuzy6wXjALoFAgQX/XD/rPG16En2nu8s+8cIjfznAnEBDfnw+ST01vSA74nuXuzu5sPdwuc32hHdjN7z8uXqke5A7tfvx/iDAp7v7Otq6uXtePG39Db80xVGF2cJsyNVMFcqMyO7JAoYYRXKJx8auQ6yD7AAvve76fDs5AQs/yEXCw96F/YkdBqeBVAYxxXSBOgMeRpZFYYL/wioC9MUrRdWA1gSFRE8FYQTbxiFFGAf9hoKD7MGKBs6HW0j9yIzGfcGGfF46AsAW/t18IX/GAgJEPwQ5u8W81z5NwnyDQMPyQ3ZD4INgQVY+PYEz/7d8+T+5w3wGVP5RvjD+9j+NvtO7Wfv/OIO8un1pQb9+NjyBOh44EvqXgHbA+HzsQrnBvL5YgJrCCn46whTBZgJSBV/Dpb8j/CW9EPmvgetBbgH9BnjKZMeAAjlBAAYzfmX9VX28exX5wn6iwVo7f/xRfBw9Jn+WgYzBRz7PPTk94L86/h93rDc/tVc1UHXldt1zSfVmtXu8eYFDgs4BVMZbx2fE6EKtv6Z+Pb6GOxi5bbe9t/Qy2TWkM5+093nH+tQ5hH3LfOADL0AOxQ2JRMlWQ6fBRb6bAAs84LyRfaOAAMGzw4AAAX7Hv2Y97gBBgbHEf8PLxAwCVAAGwEQDrr99QfpAZ34HvfABKEDGPgMBJP83waQFF/61Pi58iL3X+wN5ELyMAY6CDULVBf1Jfge6iHVHwckzSZQMAZCEEM0OUkkaAxMBboHJgf+ApgEGxWpE0sTvxeWDJYVQg7AAqkSgRPTGykm5TCLL7UYUh0rCgcYfyN+G2AohSfnMMAehyXFHswiJR2uBV4MyPCg8ez6SwKkBngG+PyAGCEYvCVBJn0iNCb3JrQsxiFCG1IGdRmeDL4dVwUADxMVEwXL8iP2R/Kl/pT7agNyAyAWryIZGg0hcSKcLw0mfDFYLFoYVgbCCrP0GgKnFDMSdBDY+/D2Qt0p1yfPfeDI4rnuN/sF/i8AZAGH+rsHtg22FBkWSgkBFGsL8CksDn4TLAD6BQIMEwuYBG4Kfv08AtoCm/2u637aJNTZ6X/lutws81Dvov6G+K72z/579qX5eAY5/7IDpQtDDlgFlv5V+Kb45wdvD/8IP/Ml8q71Uv5Y+JPzOvfw+v/59ALCEdAPERDdGcEi2hqELnEwzSJeKdwjsQwN/p8GCvoS9v/4afen9WQMZhI2GB8PxP32ByP68OTs7c8APAIN+mECQgsF/lX8EwlkDQ/2OgnXB8wFGw56DugSsgjsDEkO/BbvCkUR4yL3EEj6p+yB+6n8wf949LQUIxFpC2r+k/LB+eUL9P6+/oQFjgCFAhX4mfPH+O8ZyxWiGcwPTRWSGKcQ/xQ5HTwVlhKy/w39jgFXDaAAmPGjAAvwNvse/Iz99ApkANj5/PYB91z2G/Zw/l8Y+BjsDwwHDAm3GMUAVu3Y9o/t8OuR+N4O+B+ZKuAdvCjTJv0bjAv2/wf9PAYnEn0OtgZQ9mr9SfxUDNL4BgdjGlYfZxgkHyE28zwZJ8MiYBsIKfcTox/xCzYhjRRHBF791PDd8VLvvP1t9K/zifoGAN0KTxOlBDEFCQsjE8ESdBzEGEIgpx7zJIcWJhVIHaUU/R3dFT0fAxU+G8sNmQlHEFwWOBKACToH+AkUDp8T9Pt770PrQu9350DncOPP0R7Z7daW2nDQruST7of9MBYpHC0nXSc/JUAjyySlGGYlKh6mGyQKPQys9+/+TwQWB2z+Dv84/838bALuAK7vt/IE8IXzu/8hEKMiThu3E/8YYh25G0UMUQrhDaoRhRCYCkwJJRkxE50FrgfwAO4QShyqGUkQchV2IJYV1BmDGBUb+QyJA+sehCRUE7sGgAuxI9wqeSrhJOQYihotJzkusCdwJIskDRoSBGEDGf68BNvrr+lH84DoSvL39fv1YfVjAFz6oOez5nbfQ+LR333na/Gx8AzpxupI6sPpGv0bBogN0hLnFegY5g8GEWEQbQkVA/sUjgv+Fs75ZAtoCgIFFf+07tXXMfLI82DjMupX74jzCgS88YD0u+8y6j/pjewX4HfXs8Lb0kPn+PWdAwbt7e0v/0YBcA8IF18DxgUHCsgJtAoUFF8dzxnk/on97/5iAxgJ+fgh8zTqwOoX5VzySfEM8PYELhIEIsgx+yLNFwITmhJ8A/MAnwzREh0R3xuoC3UTswiS+cHw9QhYGzojGEVtQeJF0ENrKowmIw+fF3sRZhUhI6YbhBtrFkcK/A56D5EOvwtbMiUqHB7yGf8JIBfcIegsZRvYFKwgaSDwGrQaeBsdJBUgdBoOJl8mtxSMEMsNLhCFGJMX2w6PCuAOdgY/A1z/PvQ0/iQYjQlIChsZlyLZFF4B9/Es6GnYGtcM6T/8ouru7gbs4d2q6XLsb/L15a/ayuyE8kL7xQ+oDpUeiRDD+8sJWhDVDCIEZv3bAqD8QvOt+873q+wO8DX469Yn4szaH9j52FHxKuq26cHO/Np56cvms+7p6tXfC+x36cLtY/Cw7wDmW+LR5nngkvgW+lf8uv9eFkoAMQSADzcE2u4d4vnmsNmg28LeY9B94U3rvOvY7wn0qATT/SgBpf/V9GQDtvFy5zf9gPU0CEQHkRT+E+MIURLw/g/qX8qd6IjTM9IV4BzvtPiWAsAD5BYKFmIOyiiEIKQR3h7iFXohiiHWE0UYBAeSEkYhzhNyEcAP5QpA+An0kwOZ/14DMw/J/An64f8HCAsU5xjPIkoVGifXHIQQFQQiCIgGL/bn9oAJcvOZ+evv7v2Z/+P19fd+8aXv2wP6+UHsy/bR9Tr29/brAygCqQybE6ocuQudDPERgwcrBeD2fuPI0abeleZWBG/49fLT9nn/vOjW6QHc3N609DH/kgqUCyIP7wdL+E36YfCf/wj14QGr5wz/HPzV9+YWqAOpA1//3vhr+HIGDvikDoP2Xv2n/8L9UvLc2uLjseLy2R3tZfa09qoLCf0K/bARGA9x+5f3R/h4AnX5wPKcAYnw5OFy6xneR+cF44zgVeIp8iz0ZQKkB2cQUg1d/msQ4xAZCl8bSviTBoYRTgMm9IPyqfSSAmz49d0Q4n3aUOow69X0T/uX+F/5kd0K7ZzXU8UkyzHbZuT/+dn9Y/TR9LP4EewN8s3nY/7e94f5whMFD+ELL/g8/V0NWQ7WFJIp5zHXNY0iBRoZBjUXmQ7RD5IaoRZDFuU5oz+JOKgz8DdWJ0YgoyjRQOYp7iUoKKInvRCmEjUhMi5SIqQiySCLJCkkeiB9KKMmVEubOjI7SypSD44mrRlBB5sKjRO9CW8VjgTv7Q7xV+Sc3qnjMOWT6kD7NfI4/UwTIhobCMAT+ABYAeDqzvgJ4ebn9N+b4jnUjdvH4GDjV/PU7pX0regK4q7qK+q+1LHrLesG5w3s3u3q8iTv7Om02e7WaNHA2Xny9vgfAPEDJAlF7rD7jeS+89v/h/6p6UPmzO+O6Q7rc+S2/vL/tPwPBXIPVfAuAFcIpQPv/tzfruIH51r7t/MX5mnE4+RQ9UjuNeoM7DD6hAM77PfzY+QQ2p7Vjtpy2Hbdityp1qTRdtKq1PrNctmT2CTrnvbw+KP0KwGG8V8CfQN6BwH5zflr+OUEJQFzA4f+N+RL4jDr/PHF7xn2P/d1+ZDsOtiB8aQAngYXCxcP0guYCXgGZwsZCFwADv6WBa37jQCw/i7zV+RH59bzh/xeBakbfC5WMHEp0ysCIlcKQA0+EGcc2hOzCygVBhjiCcETIgU2A+kP5RUZGzEaixUHDlj2y+c38ocEBSNBJNMkFyVsK9cgVCi9GtUZ7QLLCIn63/mhDNUCbQpHEQQOMROSE/ojPyYOLsErGjmuJYIjvyQWKkooZCFXI4wQ1SCGIFMV4ynOKMImOSCFAUsUDAb7+VP5zfpoDP8JFBayDC0NJQFP78T0MftB7O0YhCSDIIMZLR5sH5skPCfjDrYU9hDMHgAVyRRBC+wHw/dk/fQIzhcFAjT5ugc2Bx4WeSRqF9MQUP4U9ez+OfSnEq0VYxqHEHMPKBURDoIZsAhBCdsRUhFKG/gkHRYkCkwAfwbBE+wD8wr6/5/+afjm8wzvJOx08RP4MPGh+N0AFfWF9nv/yxN7FNEFexABHHEJCwYU5zTz4PjdC+sH9ACwHz4WjwPZAQ8DOv9r/M/yKgE5DrkVVxLpCwsYRxsYGsoDVAhiAy777QNyD4YGDwdEBhka+/8OBOn4//iO+B79NeDL5dbcVOzV2G/ZJti33xjjON356unx0O9X6Bbs5OCP8OMCvwJx/q4AXgKs7K/1dfAP+a/wQeKX4VPRHNaY1QzPwsgw2lPQet1K2EnNTMZKtEi6EMPt03fklNrY1CS9w8FRxnHSmL+/w/LPT+AL2OzQFNv1yPjgCOHtz9DeId0k6DwGRASi/2r+6eAe5Z3o9+1B40LeRAAI9njm7eYw2y3q1fMP6LvkWdyL7WbzHekF5BvawdGm4obeueI13LfXTtZh5KDOSuMs7Hj+VANnABn0hvDq/vsFGwcIDoQIdQrRBpr/oPaM+eDmBPa4+1sAZv07ClMFhg4uGU/49f0P97frAvTW/HX4JweiEsAXYf+i5wzr5PB19Uv6qwpmFWMPTglwGdkYpBDKEy0YVx6MLCYtXjXLLV8bMRo/F7gcMDNeJFgO/ABU7Rz4AvWk7ocFk/wL9wPzXegH6rLpt+ux7LDmYPLR7mP0tvX/5K/k3u1m6/j6DADsBEf8DfA/9GANsggn8ynY9tuD6iHpR/MY+0bwEfwZBp7wzwE98cD1sAO+E1QFiAXN/9r0z+jx3Q/m6QW+FIobLxvRCDD/lPaW6fbkQ+8B9vrqlueE7mH1CvPN6Qvl/eMk6GHuveYp7TzmRtvs+6f1Iv49AKgIsBynEYELnPi/ABL/nAJmBi7reesd9J3mTOo98vTkKe7O4fnx3fuk9FHkWOsC5TTowfjr/9cHff9G+g4JiBPhCk3/9ARVHygWTxhaGx4cVQ2jDHkH9gZVCdoCvws3BIEHSApaCwYHVvDf4fzbJtf74sHdifAq8j7tiuq59OL2fPfK+wwMCgx4FQwgKi+xG2oprSU+GLcI2B2nMLEt2SePFacdKByQEoQYZRvBGiYn6SakHbInOhB/D3so0SoGFBwJTvmd+JEJBg1nCMkC8wY4B/rzRO0m46Dhwt4S3AjvFuIg4kzqxPb689n9XgEe/dPwqgHqATb2K/KiADoKwwShBNsI/Pwo+p/82yXcE18O9A7nEKQVCxPnDyD36e5WAVgDIvtkFIMNwf9QAW77EQDw/+8ANAkUDRMU4g0GFJkQlyqkGvcIvQF48lEL5QoXFdATfwfNCzX+hhPkIkEWdBlFB4cFaO1R8TcDVP3K/7cQJQ1S+VToSd1k2jjitO8q+6P+7AAZ8uLjUtcKyeDPstNr72gC5wUJC84HPgY0CewLNQ2BA3n/IR88IxEetSHFEv8A/PDn+F8FfAEvDmQhZRgTBvb4IeoI8mPxUO7k/Pr9CAjU/iUF9xMwBKn56fEb8a/8gvGZ9pn1CwdcFbIW3iDrKusxXCERHR0TxxSsBEn+MPaU/UoEQg5j8O7w9+cV6Yvwxd8v58bjbe0J8erlM8dw3/jerNvcxNnpNvsEBg4FLQLE+yvzXOLA61H/2v2/AkcajCadJlkkFx0qGBUOPwQ88pr4OfhK8Y34lvkj9zAULx7a/1cIiQ+zFavvuO/d7MLlYPK291r91whWD6wFJQPyCE8SLg5gEjgRwACyAREBnOzv3wDRQNF93NXxuPArCvUPsBFgAkwBLwXq6TTkt/N7BBsQ0xfcHOEXZhb/JnQQAg4MGokcmicfKVsxQC6HHH3+hwEUBmYVPBOKKdEoGDPhGrEGiv0m8Yj9FPpxE2En0jFwMUgguBlpF4kfazPfMa0bFCnFF0UQLwM/Adb07vhp8BgC+ASqAwsNtgr4A37yswQRCIEXjBuCJFoWxALM+l/6sva+/f4ONQhKE2gQJwzZ5TLggN/g5v3gquv38M4IhPzs/ursQt5w3RzuRvomCLMV2BXKAQb8ffow/PzwefPiDaIYCxBHACX/sPqK+8T7yO4g/FX78wKPCy8K9RBsDXgTSQ/cJLwYbQowIb8HhgCX/LAFMfdSCUcbSxuSF5oZf/zw6fHbv9Yu3YLcjfbd+LcAR+lB83rd6eFK6pji1P91CGoUZQ62DgEHXxRcCqULqgUcDZANIxU4DngNLPq254r3mQMx//QOXw35DV4f/R9lFfcJyhOpCz8TbQQsADkLYRrOGlID4Q0RJUMaiQM0Fm0hUSypGqAY5gsXFSMZSRGjCugScBpIGKwe2xn5Eesj9zEjQag8gUZXQqU1bBSzDcYSwSMtIuQd8ihXI6UdYBZGD5YSMyChLHkzCUHgTQZEKzO3JdcXAg0TGG0ZFCAyHRww+z+2OrYyfBi9CNkMLxJiDWcRFx58EHQOCAfLB6wCNf5cEgccKSXfK+QpoCkfIVQaghI2FTIaSBi8F9Qb5w/TG2Mb3B2fFw0aHy7eFjgXCBlqGr8I/hXeGA8YQQdTEWch0Q7bELP83uVn6832KPmI8vL9q/jk+IIByPeb9jr+yvvEHqUcew1AGRQGCvKi+FT4xuyH8oHw9Nog5W7qafO+8Y/tDO9H4Nzusf/EA0oIUxQFBIYOKvtR8Y351xFhDFENqfyc7+rjTAHx9c/9lwHY+Nrq8urt4rTuOPHY6s7vD/1lAxb4//MO8bPocOdz4tDhnPiI+DgHYgdv+dzhseEK7dnky+1y6IXzxQA4BmoGmwwHCyAEZPgA/bYThRbGHQEWzBFW9dXttPx5/wL5DQl1C3gXbREOIcYk1wzuAp3q8OON63LxiuY67DvmwOPn3UzXJNr75YzcZPDz407gD+Ak1pzPDuBo8I8GkhGIIIwqUxBOD64eUTaMMR4nxjNUKncj9BVUJukr7hMQI5wHageaBIkD0fVl7WTlM/B65Y7wQwYECu4ScxfmG20dOhlSHbYohh0CEmgfUiypJmMZ/gQZEIoBFfmT/vICLR7IBcAXQA6jDoIWXAXi/3oCohfjGJoRyw3CAbsGNfkOBz4Lgg/GFrIZiyUwGhIsrhibFBIZsRb2GKIjWScsHvUo6y1DNUYsETSQJzQZXgrCEMYgHASKBlAPeB68F5ovhSqeI3MW7xPtAFMKgBFUHUEtOT3PQT1YK0D1LCopbguVB6YY8RY0FxgXyhkzC/T5Iu4q+k8JNBFyInEtJiZkNVookBnUCFIDwP7aHHE8zSf2Kw8zpzJVPw1E3TaVNtU5T0OtMWg1dzmgOEVAuD79Q0xDaVcORxs32T+0Rts/F0QDUpBRATpnKBcx2CHkM8k2bhS0EXYggx+AE9wcdCcIGkkULAkICn0N+hUzKeMnbijcJisxLDMOO+gx7x2bFYQlizNmPcwwzSL4DMjxhv5A9Bf9IvybBe7s2ekJ8+0AIQWp8C7+TAZXC64iQiuvLEQWISatIrAYADA0PmQ6/zkzM4Ue1BS/G5IvIiT7H1smFSQRKKE3dy94HjMdbR/oCiwDmhCsFdsWiBq6FTgTjBUMJxgYmQoy/7/5QQmAClcGJA7JF7YZAg20F54fdhqJFtAAuuzW+rQABP7y9nEOlv1W8Zn7FO4O5VfsH/Pu+8QJyiQSIm8wvizXKjonRBIDDtwqYChJLqc30ivRF0gYWRkRClsIi/vx/XMFZfqACLb5hO0h6t37ZwkoA6/00gg1+1YP8g8cOAcrlCUFHXoZdxN8BBIOawGz85H6kQMXHJcQWgs4AHD6//gi9vL5rwfwDHcQ5gpkD2wM5P9ZELUEBveO9qH9A/qm/bAMkBeHCKoCYwZxBtcGRw+c+/T8Bfvl+rv0uO6O/XnwB/Ae8mLlVgDs/qT13//vCZ4dMiakFb4WxRSXDtMDLAHn8gEC+hsyCwMBRgPV+vEA2g+wEC8V2xovGpkpDyvJLsonLRrmHgAOPgJPBuoCixOUCZoXqQfTDpIUASpgOvI1VDoXR88/xzOPQPU69CxwM0ww8y/AOMgdRgzdFMj24vdB+ETVzt+zCWgJRwTcAbACC+ty6HzvuP7tEX8muh30HSAQ6hD0BaMHhwb//lz62QGkEQQTTQu5DHsHFhglEKwPNyFSIo0Yayq6Ie4yVyLnBWsYyBDaBBkUiBXqB5MECA4qEEb9/g1SDNsTSxPSFUYSACUPGowJYB83G70c1w05BNrw/PtBEM4ooBR7FkcQ6xWeE5YECwCRC2wObAHCCFUXdiD1H18Rnh3ZDs4HIwR3GX8SQ/q2Au4PKA6jD03tqfhH8+n0cgAJDUQaORpkF+gUqiH9DlMNLf49CuEJIAU1CuseHicwF44TwRXhDx0kISe1GRATkSHIDrEA2e+IAp/9EQJsHAEV4BIYA5QLPAPsBtAJBxmULD0YChokEuIDyP9eCoURYBSbFskaOA1B7BztJdmb2+/ymgCR9rv5T/dp9xr8Nv4yCpIAMPkD/insSgdFCy4H5v+J7/jnm+t27pHg+PiT+Tv/Ve797P3oqND9zgHawdQJ8k/iKt+f2LvMfd/h3hXsE+o590Lxzftq307jw9rr1ILaN+j33PT0le1rBZMXCwW+ABr+TgcbFM0LKAsN/1P7o+g350/d79Fr7MT4F/9g+pj/UPgL96n5huCC1MDrfv5ZAVkS9RnyJncZyhF0FPwfMw/KFtwW8Bp3ItgRfAW7CG0DkA3UJD0fCyiOLN0uhCDSEgwPnRQGHfcOJgrKBI/9uvcK9djqj+pu4enoveDl1+vUUuPK/Kj/T/rV+KIPeh9KPFYxHyzTIakggRmeFof/XASsAN4HDA7NAaYBwfwfDTT8TPo1DqkROxnUF/gBtPngCQ0PihDeDnwGcCfYMcYouyIqH6YXmS26M6EkeSsrO/Y7CDWDMGsnzBgzE23+iBF4KF4ogiXGHj8XLxM5E3EXxyNKFbkPDByHMo4r8yxRITAkwRqbGxoabSLdCM8KawuKGAQVxyByF+IYPyV9LNE0MgoeEA0fjRc+GyYDoA4GEHIDVwRID/wPESnGFdYckijXMggxyiN5JPsawhyvEjIYKPmBDesJrwS/AS8heQ+OBgoFjRzxGFwLPg1hF0QMkPzE+ToMSyP9JNQguhDPGKUoGjFfKfA0rjG/NN4qiicgM040Cz9fMAc7vj0UPtkZ6xfGHjEwLST2K4YyGiZcGx0YcB+mLT44oypLLdM8vEB9PfQywCbZNO1QmU54Ti9F2EF/LlY7+Sr6G/ks2SeQJaMY9CApJ0ck3xayJawwEw9IIlYiCjKNK9k0xxUgE6AXkP7o/hcKVBMFDO72BAh2BDUJPgffGUwacRZ2FlUiPhmnBFcTsgoS+7L9ag7VBUsFKAErCGX/eQTTEQYgaQ1p/WntoO+x/MkCePcSCQ4KlAyMBc0NkBdZHu4tTSXrK3sqCCQQFqsU5ChGQOgu2TM5NtNDtT0fPEwegh2SEqMMKAD5+2f11fBFAi0J9Qi5GeofoB3rGfId2AU1D4cNUwgRAEQBaQd+EGUAjwi8FuomwB1IFRIkbBcvKJscSQ5yB9cF/QUdBTEILQaBF+cTzBRUDyL8RgKf9Dn77wkyCx4XoRI/F6wYogjzBtgPvwhdBRALHCnKHh4U9ha7EF8dAAN9DDAHIQhy+tsEI/wDCJr9eNMq3tnrENkB4mLjwuI26tf5sP9BEuwXgRMwE0gU+gFcCiUFhQz0CLMI+QWFDN0ETxwWI/0c1Rj7Dm8UfRj6DhAI4BenGbslniE8IEwWhCGJJw8jRS2TIOYfkyDgNswsviK9IMoIQBkaFeYUXR8AHggikhwMIQ4fPiWxNtUtgDdgLcIvfzFeJMohvDv3QGtBKjQzICUfmju0OR85EC5tN84mdiC6MS0p1R3tH6AejhRbEmoH3e36EAYNVCAYEsYghifAH54mDyRiPJIqpzUJJLc420CXKeQgQxMiFbkaZw9hDz0K9AWYDP7uteWQ6icS2hUN/owILg6JC6MJtgvZElMNjfDs8K786g1+EfoDngPeDUEEJAGDCG4HFB9GESMIbweW/e/xff8W8C3gNe17/Gz1VvBZ6snwZutC4i7s3Pvz6FrqtOzS113NLckr1KLbwerH4CjmxNxq2YbqXfy2+KkCABAmAPgN7BGPGlYL1QpzFoMG1v5yEG4VBya2M98XLA+FBccC1QPU92D4fAEGAvcLYhJd/Dj2nuZt8h3wAf+KClEVFR+jFIgoriMwGu8KdgxpH3ANkwzcKY4fowna9rj/2/mX+IIPqyf6LsQqISIuI2YdAC1+K6cWfBeUJGcYlROz/8vo0udJ5CXzBesUCGIXxwzeDC0YGx3lD3EIMgVQGUkgfAs8FdgNpgIoCFP4UwN4+a0VZx7tFloTCRe/BEn2lOyD61L0iv1PBy4TvQSrAA7/khEJGx0jZCkxKtUpZyHHGGcRqAl6+MMBKvER8HH2D+ES7WT0ZOfLApwWRwg9GMQqrSd1LhEl7g4+HfcM1w1oFYYVqiLiMQsoBxVsEKIRmheYHi4iOi2KKMYjZCC8EsD8gAH48pH36/nLCHb6PvpK9RnsfukC61DrJ9t64wHoY+Wg51Xbn+Z94h3ucO4L6yD6VwGLCr4LmwhHBtD3J+fk54jvHeeh88XxNemj7PD4zuvN7eHk7Ok3+xP5nAJy/In+FvKU1mfaoOPm6OfwUvZX7FPnB9gQ5wzv3+l98iv+bw2B+yL+Kvx49SvyeAGUCf4Q8x8kEIcBWuC20orVksuqyaLdL9g66E/jsd1v3ezls9GJ0EncxN1w+2XuUew86Nz8zwGGBAcCXPEw/1AAHwheALb6N/5D9Lr2Se0V8TftjOCe6GLoleJq7fngwdjJ2ZLeVtyZ0TPaKdUl46bp3NzT3s7gvfYXA4gJbP9k+XEG1fbc8O/oaeUV7QvrTv6I/bryf+tQ7NzyDeMWALf4BfUd+93oYPYH7PH8nAUdBscK8/pHAIDo3AV89w3y1PtZCg4IKRBeDogGxfg5AZju4Otu76LvrQ1SAhsUNiONGS0djBiyF/EMCxNjEukf9x0jHEUUSjJaHgYKNg+UC7IWeRRJHyQY5/33/swE/f4tCuIJIwFa9qT4JP5S5YLTZM061mbRjtigALYAdRY9H1wlfwqwC84L8w0xFoYZ1QNHD8bxCe8z6T7lhsLwxYKzx8Pz4ITpzPmd+eb99/TQ9PX1PPYW8HP5wRF2CVP7GAjL+Frm09dS7V/4b+8Y+xn7yPVE9E7Q/Ns/3/TmFvGq+1EYJwyQAD/+CP5BC8sMYQ9pIe4KzAW9DX0HxvMw7pH2ru20/cDoXvBT+2v2behi2KzhQ9nn3KDlFOtt/8b/svuXDP8PdgzM+jvqRe6/8Sr7ru1Z4mvc28sD0Rfb5N4U+bf6JhAT+9H7xfiq8RjsyOAp2E3dWu/g4qzpleE+/F7zBfAE8lH6nfmF60D2bvBN+Aru9gdnAUEHXhlaG3UczCqXJQciAA5iAbcNuQUKC6kLFQG3DAgLJgccB4kCXvy4E5EUuRkbGJ8emhCl/9gGgyF7HcwptihiInMbuCDSGd75E+gN2a/Ym+lE+M/0+/AA7Fvl2eyr9PgFZgQC/i4X5w8pGdkW8QjzE+YA3vlc5H/yBOtS6YTxDer72XfW79vL4u3xgvlx+Zn3V/FF/T8B9fgR9DH59vDK9VACQfKs/075+AQoCQ34xwEBBnUQ3xeGDWrxpgHY9l3zbgFMDA4Nyv5TA+oJV/yO+w39PxVyKkMx5yUjHdsmPgxH9avpfON43XLk8OzL3Uvvl9UbyWvI5balu87KZdkG7lTqh+7/8R7pQ+X+5CvoyOY24FXl+OeW8lLpBe4r6zPy1OJ12ID1v/8Q+n34DPO/90/+6/Fh60Tmj/X27JLuR+pX1xbU+dA80pDNbtMSxSTAiqo0vbKxi7GWtsW9w7691PvrK/uV6pHwut+R0mrPCcmv5lf2Z/w66vbfy9cg3cDI2L93x6zar+0H9r/eqfRX/UbvHte51ZrqAvzr+s3zGPur8/HcVs//23Dj5OMe7M7yWwUm4NLc7d133hPmGfKC7wkBpPOZ8/js5PVu3P/b3tRo5SDk/AL+E3ECBQiK9TP2m/SI87sCLA+oJ94c3RX9BrYF4REJGxoPLBIlH0AuaydjIGQcWQYN/RQPlgz6DQoBGfkz+TTvROf78qzzKuqi7jX7qd9O5q/0UPlX92v1uhL2CqccKB0hK0Ag5CqJDgUI/fxw9asJVwi6C5oEqOqW62T0hfpe9Jjk++aS7Un/XP6W+rLsQtJu1MraxvMaCzQXwxz8J4UR3wpfAU4Abe/8+TH6ewEr+FIFRxAn/jMAUfwb6UjqG/b67tXx/fl89TXzhu3F/gj+V+YW41z6NOtK817pzOPg3DvYv+I/6Lzw7veZ7dH61wEE+Ef71AOPBZEJ2hKJFCoUbQ819k/qlPA96anendnV1E/SJd3t36Haa9od3w3hlORR8afyQfgS7mzkUemS34rj9d262ErTKNFb3aDkNty93CLY9uIB8FDyS+o9/B7oBu3i67rr5OQt2A/sb+jz4r3osd8f8Q7m78/P2BbhH+D/5urZR+LQ5TLjr+KY0Z3Nddnm44niG+op6j7zdfiG/sPnb+Vl5ETp8vIv85DkvNwd4lvxIfZG7BTeq9vd1vHMFclsyoDIfcTju1O6TMDIy/fOaNlO5FHeOubf3TDcLdqfzXLmF9nS1kjLwcjUyOrPPL90ym7rNu8c+HAK9P0CEr0Bj+sV+F/0O+sI96cBzPWZ6e3mANiR3iPaT+MK76DuSPF85aDce+R57tDwPOWo808HBhUkJB4ieRneF14LUfbW/bwFaQzRFlEWMPvAAlIAgAEtGUwZlCPJIuIaZAHgBZEMTBaTGsATORqIKqknwDEqQI4+ID/4LpAyRDovO+A4hiJ0ENEaoRAPAYQR9wiWEtsPpgesE0omrSvmMOct1itmJ3IiRRvPHokppBhaIf8jYRp9GTYWHyN2DCceBRmnFWsUqBcaAPPyOOZF7rTnqvGpBscXwg9ZBtYAwvk98LHnntM54o3fteZ9+sz10f+38tfwcuwa9mMN4PeV9qbbyuGO5svsJOek7v76rfCu+iL5lv2sByr5Of0j/0YNvAdA8P3gItSb3sHk9gAm5qPYGuSo6hcDygdJ5Q7dGuhg84gD/AelCuUNnfJe7n/gKOCC0hTj0uSP5qPvQdBay9jYf8MFw3TI4dVm2czZMdan37XeGdN10CrEwcyn3QTzWvhx9IEAc/OUBdsEgO+v1vHq4t2/6pXVXN+gyfLBRrUatWLE78Ll2V3tde3s6BPt9+rI7F8FpwsNFKIzxTOkJ8gtJB+xI9MZOBkeCJj9tu2452jq4eH26fnznusq88HwmO883XbsAwHw9QfrN+zz9kDmtvCrAuIGBxEVCoztgeoz73v5/vXgAnoIfwtVEMkCHgpZCVQfMhQZB0sHFghhBZr6G/0U8lb+Du/T8gX+uAhVAMcE0gwGCI4KfhC6Fo0SyAGY9kT/tezR/HT+cPfXDr0K9iUBOOcoBztwSOVT5k5dUN9PEUOOQZZIHT2jJvUyuiCDHkAjeR90E8Yj0CbILJQpASPYJaATuxaHIoIwWxz6HXsuxCK7HpMevSTFIcwN7hpBHMUQdCDAMO8hvRF/9fYEQwWuAJwcnR41DOgWqRjbF0UXAA6AArQErAJQDywLbgHUAcf5Yfz0AIT5u/Ch7iACXgVOBBkFhAPQ+GzqleUt6Tjumt+v1srTo96G6dfyN+gg9acPpwgNBJv0f/85D/z3nvIy99QCSgLS62burQLLAUH+b/u++E7q6fjo+An4mgJnDr4Mzg3hDO4Ba/G/8pzhFd7k7nrVYcxhx1vVd91m2Xz2agUO/nQU6hB3CY4JfwkpBZL9J/5j+Yrp6+W873zoCeZO43vs8vIBAYsNCgdCAAv6V+9q8hjPc9Ds2CncksyF3LLhEuJ27YD6Pwjp/4r3tQBxDXQX7PSi+YTsgOsY3EfQuObp3+XmD/CF7h3jEOHM5Ajkhd1Z0gHcpuE34dTr/eeB5v3oNN5nzUfaYuv08v75kPsO88ALWCmaJ3EdeAy1CdALpgJj+UHjeNe/3jrY/9Or5QD4aPAy7wz8Xu8+/b79tvDl+KT6bx43HD4mJiHVG6wTVw92FromWSpnFLUMfQrH/Bftbfqn+iPwqfzwCCQLTRELKlMveTSsLBkjWC3TLuA3MjL3OMAtARn4DUQAPgc2CA0NUw6YH4YfKBSwFJ8DDRW7HCcfQRu0FWMT0BrYEZodmxtDJiUg/yFRLzA05i8kLjolvCEYHNw67znqMRAi5yQhDg8F3Qc8+YgAxAU/DcEQrgpwAVwLv/0n7sj6Qum6AeUaLS20Mnk18C7uLWcW/AnP9Jvm2enj7m7yPfEA6d7jh86022z05vTS6336x/kI8N7muNyI5tje7+lX9r0CTQnbDTTzvgh5/QX9BxpJEJwFxAlnEnoT5vyc9Z/7yRAM/5j6gQO0BQnzkObN4zvpF9Xg0rzkR+cx6sftzeFv4PjmrOqz+u3+ZfOpAJYGHP7B9Nzp6+Y06hTmkN4X4qD3yeogCkADNv7zCPMCFBMBDZcWGBxXHaUdeA/TBQz/vOfv90D1evnWCLkaTwQtEGUOQxm1DXQQkx1xGsAcqB9vFxMA8QSU9/viBfunD10BsgwgGt0ZVCNkKKIfXyziH5ETJCc/HFMiKB/QFn0RFA9zGRkG+QPmDtYEtviL+OL2yuSG3xHzLwyjCv4V3BUiDzsHHwcqBH308gJlBaoQ/Po3Al8SXxjaETAdDjutRMZKA0+LNFs0Wh6tJhcJs/r6Bqr1vPBO5kTowfTw/Y8IbQUBDm8PrSRqJCkmdC7OSocuCifFIKQowCVvI2cukCcQJsgn0SeSGbsa3hZv+5r4lgLM+vfwn9om22jfIeuU8Lb4fwJUFBcZzBDJIakwpivzTFtRil1+S1NC1jpzOyMvpTaNLLkt7ihfGVMXgxCFBCQCnQzdFtca9ScDIwwmriHoD54D1AA5+Jv6dvG47wwIH/x1EboeyhnaE8IgoCtyII4j9jY2Hqb/NwZ/++vwBfbc8PP1l/hq8YYBsgNo/vX6nfidClwDUg1cIjsiBjIAO3kxpTxzQjcq5CyzK3U2dTH2LucUBBYzH3Undy9+RLFOClyrSYxIVUzdSClXP0iMT3tEtTPDMxY5QzXERdw+A0d0P9JLCUKKKh4tMjDLKesXnDmLM4kiVSJMLoksWRz5E/4cmReyFFscLyo3Ml1C7S8yQs1SDkiBO+Y87EckMcEx9SUHHk0Pnego7kr5OeqD3g/aY9Qu6Ovs0+xHFGsRLhBPBhgFWgHQAYcBpAOb7qrnEvnk9Z73gvxvBXz9IgLs+5ns+gULCOAIsfmN+yvpz+XN4lvff99j4KflMtkE4vLrpuvP3Ivg4wDoBcgLrBKeEz4ijBsRFzgSnQfBFmoE/P2+7D3n4Oh35/bmRuon8JTzEvOP8Cf3JADABpv27vPRAnkMQRCZFYgZyA2y/doZdBhbJaQhYhhYDPEh/BY/MKwgUSSqDScNcRdDB8wPaBAmEYEIPvkVAmjzkffa5YrrTPFo9qQBqRvDD1oOpCHGGRUUtAzxB7cIxAS4GH4NfQrt/M0KzgBYDogMXwbH/IQBBxFZ/Lnm3Pjp+8ruMeSh5fztltzV3hPi5Odk48/fhvcA7l4AXfbf+XH93+7U8f7+1P7B+bX2BfYm7gXx/PJC92cBmPyUFvL7p+Y3AV4EzfptAKTxDfLv/PMMNg/eEYsExeeW0pjGENBlyWbOVu3t4CT3cfUP+O8JXhXPHFIiyxroENwW/gg/ClHvyPQ59gXwn+8I+8MEDwbQDsMVQyYwHDoTOhpiH+MnPiExE5IR5BT+AasJLgjyDdf6CwZdA7wMegodA0IIcQx0Ha8dkh/pIpw11SxTJMEXXxiBG9EbDwjrCmACLAJyC0oArQgFEz8kiyFAK7cz9zdwNEUfWAP+/sj2wvatAp7w0Oxf71nef90637bcYOZS4kHtmvqS7Gn0XeuZ6LzwVfc7BD4M2xV1GZEhIx82CfoEXAT6ASL86AFACIv/aPuS++oI3xNQENQh9hZyKzoSRBGOGF0QywxUAngGjPcQ+vMOPRxxC5Qk0B+IGvIUphnlGM8Prx7mEwkTrgpmCnj97gi7AykQViAAEhESBgd+9ufueOFP8aT4VgOv9af5hfg/9yT1fvum/Wb8Qw8hGi8biRIlHuoUWxc2F1EcrBClKNtJQzdQKfkovCpVIWYJKg3uBlUTEAyZF20Ycf2YFSkR0g4JFLQnHSiXJ2xCFUGfMto43CIlFWgZvg+aEa8fkhkdGcsFTAaPGEQOGgY1C9YkjSuLEzcXfRh7KDYV2A17Fl0HXAwZD8HrL+SR9n32rvEL/NTyvAJeE+AVBik6GJYZNCNuJHshKyB7KHwgiSABFkcX6RePGzEZCSjAFzkB4PrX89vop9Qa5JjttvJK9EztqfSU/dr0JfhX+Avvw/5VAS0Et/FL/M7+vfvw+HUJeAR8/7375Pvd8SLxnvx97SjkJtK223Xo/e9DAPcPEheIDjwVMBvwFNINjAkhCvX9Qvgu6TXl+N1U27DG89B1zlbTvM9o3O3UWNJJ3Zbiu9aC6Wv1O+s29oYI6vJO+aMGIxUOCuMPmv+mDpQTiBEFC2sFxgPX/an6WfxjFiUQKAQ0DYsUpgKjCA4H8gywDZ//5w61/R8Q0w/jJnsbOBnQFjgV5xCZDvgQ3hrn9lrvmvcG/Bf5Ne7u96ABZAatFTUQhBFsCLAKkgBSCloONhMNDL8YCBQxD5QTERcDIscMh/8rCMYM4QwIFYAivRWdEIcQJBtIHOgc9hSlGCoPHf5G+EH6mf2b9iv0RfDz9X32a/2JCD0OzhVxFfQRgBNeE8UJFwg2Ag0BtwCP9sznKeoa9tPk1eK65EPoPvrbGlQC1f6lBN/43eof67fjgd4A9bD9Nvu/6l/pU+St4mLbJeUp46/aidjc5XXfSsQey8bfauPV7Qz60fckAKL2WwHA764FbPRiDfoaWBUvCLwWsw3xGN0Lof0a4YvgF+Xs4qnl896A2iDR5s+S25baq99Q6CP0dQoyF+oW8xr0BVP77AarChD/yfVN8ijo5c5I1mvlbO0Y99YBsBmHCj8Bl/9KBs0W7hRTG60VIhPtE5MIJRDIEHgL3AzqJVsmci70JfIbOxjdHXIoPRJDA/gFM/8i9Yf2Xeox7IwCCf2TCI4cSiWqOjtDHDAjOxJEjSiGMJAyjDGAIB4OBgrX9Xbf9d7N7pjyA/YeCW4PICG+KSlA2U2lYTJOulDCWP1O81XcTHdI/0RtOF88szFoHBEaeyCBDBgT2xGbGTcXhSviMY0n7DxQHcESYiXSNGcYLx3KFnQXjSwbNs4ucTgiRERVg0xPVGlQw15/Z1taxWCMYC9bclDkPck3AzmcQuokrSe3JS4bexJWCJEF+/Ya6bHs8AiW/WsJDg0vC6QSvyfIMfUqwCJwHz8KQBhWFoH9vv3Y7C32kv8BBsgOkRMwCVoHRQP1DKERsQJt8ZLkPOYr6WHvzOv85hX9dQa7BQf7/AXiBPMKzwge7NntWfHkBisMnxUZAZ733P3j/ln1z+qC8pHzhAge+UP+qAUk/T0PywVQ/6cHFAe0BxL5pPssAMsGyvrOAST65unt8Qrz7d5n7PzwOt3i10HXX9+U1RnETMFWveW5TK5HttLRbcZ8uYnUmeVO4dXrUvpw7rL5oPSw8Nzog/M+6IDfKNSn0c/DatkZzEnmm+/U57Hlztlc1qTOnO3d5Vft6uX15PzllvRI7dUOQgWsBAgRThKiJoESHxGeEgAQjhDA9Tv9xPcB/sD6MgKdB84Arvy/8NkIySDPJ8EmdSvSHisxpTBdH0ogAiZzLNQiHDNSOYZDqjn8HuIjSxOeGlsnTS97K1keyhh7E4EOPgo2/z78hRHF/wwAJAxAGegWThVXCHEAPAcgDdcZVBb/EtYM8wW1DjITMATpAn4GHgwvIisZnRjhFG0JCAjhCn4UJQuECK0NCOUP4lvoZ+PZ79/vqwWu/r3/BATYClkQpAjVJMIjQxhpNuIpghxcKjMdaP6JEf8DOQHr+sH6Jed/7CrrTfIn7LsLygBi/nMLd/j2EAwFXP1y+vv5xwGgDPYOVBN9DkkSJA9uE7scWQqmBNUM/Qt6BkcZtge+9iTlMukz4x/eleHV8kr4Xfxo/AgAXAPaD1MePhBREGYIQQILCIwKagJOAmbx8/sxGLANfxEjAm76IfDM8BABSgMy/zIIVAznECgKUgrIEqQl8R6JLIIt2h8DI4EtMTQpNxMrDSoOGR8I4hMUBJgSDBDYCb/2ffw38eYBAQSYC10UFwYDF5UfBiaOJB8TThozE78iOBl6LTAc0Cl0IBEZoCY3JpwgDSswHSgcSgCzCAAGeulu7WvqGfQi6G7fB/Co9EXsCNKd7O734vwWBlEFHgqxDin5uf7v+6wGUATzCHb9agS1HJUKB/vU/VzxH/j9/QYAh/01/fbyP/VE5M/fvOI03ZveAc2Q0lfgj+Ll5nzyDfKUCr8LRhfHHeojBCHmGyAP6wvSBaMAZgfNCiTzWfmV9vb3Pfun6dL9Mues5sTouejK/Yr6+vkYEFQKRg7iBuAF2AurDEQQ3g/z+OQDywCO6u/m2OvM4FPNlcI7v7zRi+G+97PviARqBuL4QPdz7Uv3Ee9G/qUNXwqcBvIABv0k9bvugvOU62joZuC45fDzhfTp9SP07foICr0JdwobAlkQ5BXYIg0XhROADxkcfBvWLaInYxWEGaAKOxAyFvAHRw7tFF4Wkv3u7Ivh8/HQ7rLyyPbY+zAAIg24/ZwJKAjaB+EIyRO7LaM4G0SmRBJEbDFgMZsmBDL/JQw4txZ1D8UKMwqH9VMD6/d1+Nr2sQkECgn7+gv1AuT1ffwo+5Lt6fjE600Cnw2XG4QV1RINH2EcEx0RGL0eIjmVIMQ2qkwNVJ1BOEkrMM4rORTgCuL/Rfl17dbQWta73iLQO8jTxirMeNf14CTvDvxzCDsVuhikLlUynSRDKdYV7wteDU0K6gK+/1wT0Qc1BbMTEglRCrIM1AtbCq73Xf1vAU8JNgs/DHAYnxXADsQSKvrz/DwEyP+d72vqROWB3XLrsvgB/hnuUwsuGzUTKw7jFZAlcBdOG44V4RxJGwwO5QxOIfEfnCKTDE8E9Qv3EKQM5Bq0DIkDHQzB//YAZAazCp0LWxZOKn8wrSCYHX8Ub/6MAHP2Yu1c90nrgOJJ6R/0CQfSEKoDLAIFAbX68wOO/+bu5uAi7Czq+vzDFFQQofDm8jb2sxF5CHEJiR8NH5sYZQwKDO8X2ALHAbYAd/4h4I7oU+kE5nf8EPgQ/o8JO/0V/xv4FPzABCUQIBaqEY36fPfQ8W/5tvX7/gcDPfT9A2/2UfGO+VYGGvpQ6mr7SghcB4AEogsnBWkHew+g/gQT8BSgHKISDh2FDrAdlBk6CrkUfAXW93L7eQ04ApcEKv20BDQAqABrC9QHiQmZ/UMPr/4z+zv7A/vu+y3uAvLk7GrpDt2U1zXrZO719MT8sAd4+q0QyAvCFP7+aP/IBMYS/g9m+RQNrQnh/Snx3RraIcEpiynXIhYluCvWJUQOxB6EDGULFQNp+/gCTRGdFi0XOBnEECMP5g5wG1T9qvxEAscC1fxC9cwCfft68YvnneLU5+zm+NX00FrbZusd4K3xR/IW9yDrz+9XAfAMkQNOFDQLCPzQ/d/07+1b6kjj7fV1/7QIyQ+qEHkLkgZKCJAHXQf4Cn0SPQt4BXv3/+8Q64jrO+5y/NP2CPtq+s/qvfMx31LwkAMnCfkMixOSEx8qbjrTRCFC+kRhNkkk9yHyKdMc1iGjEmL7cfmP+d0Vwyi3JDAXGCgCQHcldxoUJ14iAycTH4Qcix44GY0aSR9NI7spkgzvEQ0aHSIIGSgRyBQiGsgQJwSqGmg1Sz6qTLNG4yl6KMIcmwZqHf4GcQic/UEGHw07Bx0eex/BFzYLJwol/an67fSS61MAp/VQCDwNGx9xI/ETBR4PD+AOLf7Z/ln2Je54/p7vYPur/Jz+mfeOA7r9cfsm+cX4zPPzAEQXPxSACd3/SAM6/n4K9QIaEZz3m/VL7ZjpsegG8c7qO+3M9t7w++lf4TH4sA0ZA6H/0AvcE5QMRQoDEUgEMO+3+cLxVvIT3x7pa+1t/J/usfxV8qzxceK96ZvzYPMsAmsTZg+PEr0JbA78CCD/wPoC6Zvvwdc05pDef+ex6zn63f3w+LIROgoyCPr74vvB85j79utt6zTu2O4b6gnyTPCL51H4nArO+5MOFBAkEG4PZBMsF18Z6gB4BfcL0/u09nH44vjk10LXh8YPwl3ZSd4x+oHtVO144yTikv6oGeohxCIwC9sfGCddL/Am+Sq6Lu0osieINY1CMlCYRfVOlDjIGjYeiBV5GD0TWAcGC48UlBqkC1AUEAU2GNz4Nv4M9m8KXRbOF74XhSuuMLEsDSbFNzk5SC3CPQ4900jTTiVBjD6dP6I6Ezy8L5og+yvOLXcvaigaIZ8eaxxxHkQMDRjkEwoJgf5mDeX6rCqxNZUcTzZwPiA0P0jyObo8TS4tIkQlqDERI6waoSVcFs4lVRveF/4TyiCVK5Ynzw13GWoi4jFsOlc/fixgJmUXAylUI5wL2vSf/mgLpwvjCpL9ZAtmCqUCSAhmCH0SNAbE+h0Jf/0tAYvydeEw663Vk86xzlS9/tWu77j2wAR2DQkVSQmfFoYOUw6RBYUELPqV/HwC3fHP8ArdreVZ3szefts/8GPoaOQs9uwGvQ7S8I/qGAUhDwcPa/I2AGMeYBhBDC0R5QaD75PuMO3q7vHyNuxb/tj+UPuE+bf92gmgE5UAPALO9lUApRVlFnEhbClaKLM0hig/IwgS+A3q+IDum/e2/7/xUtE/4m34R/3D41btZ/tFGXwXUQcAEVATuxAZCEwUFDDLHkwfpwNXDNAeNwsmDpwRdAy0BLIKsgrWG8Ef3xU7HAkfjSWAKIQsmieZIPAeJCCFChcJRwy4AEME3fz2Bqr+q/oV/0UB6CB1IvAmQC/+MDwwGTmWMDIlhytiQo5Rq0qrRfQ4+DqJNKkOzPdOAl0ISwWi+4r4KBotFWcNKRxKHVA7qEeHQG8pGSH3LJ41GzFWMC8xFCrvMHIWhCXLCp0RbCRlJcUNmxZZJEsaph7zH8of1SfsI2scWhKT/mAJpAgSGKgEqPQkASX9VuhU40/ZQ8nq1xvnZeLX4iLq+tU41wz2KPxEBWX/4vbC/LQI6SILGlQb1Rf3GCH2GP5JAYr06f/b/3rw6fdM9+nwEPDOAQESah9jFuQhXSZJFtQR7gQk+L0DVwUX/K4JHucd2AnfLOEj7lbo8PJb89QINgLTAoEE8gYRA1oDGBysLNsvMCvXEur9ZwaT+GL9kup6yrvet83HyHO7AcR6xV/JSeBU4w3rsAe4HoItXivhJoYjCyvkGrUQsg+jAk8ImhPfBIIDkwJd9Z/zsgK2GWsYsQrABawVOQaoADQWTC1MI3YRqR9OF6EZexu4DP8KJAqIFaYS+A0GECUV9wdBCuMC4RABD84FxwBOFDEkQRDRFqclaRmDJZUM5RbRIBIWFxBcDiwGDvhV45zWBdqm7Mb+H/qcAdL8RQuqENsDAw/yFWIhtiT5K1kmOBtuE8sYVA9GAyH6I/Zc7+Pwf+QY5vjkHeiW52jtqAAh8XMNTQze9bnwAOKX9HkJoAzEFYYW2yp6IWwN7QOz96Lt7fSFAdwCLfMG4v7/C/dm/HL71AJbGo8kDSu2Mv0vrTmGOesoACqKKMIgmjI1QCkzpyDvBuMIzQ03Cyf0w+a71rjdBdzd35rmzvuM+z/8NAvCHCki6zneLPI1UCtoHjUT/AKIGC8b7Q+0EMQRABc+CRMIhAD++G4PJQIQBNQRZAmEHu0N4ChFOgpJG0kaYPVwnk9XRCkzxRrRHTQYXAOS7Jnnt85DwprH5M+/y0jK6tgZ+GcJfAWKGzo/Pj5SRQlW2mZ0Y75YuFoWSOcsuRSj6tDbS9Pf3O3Z8NU564f1fgkmB+oYlTHJFQAcXRotHmMeBBaZIq8dHwkYFjMMqgvJ/6IB6ecZ36/wkvZI8oHyCPvl/x8RagzQG7okWC2dPIY01C79HeUePxHiCBcHaPgM/mkMOgwtEn8GbA6n+MzwQu/q6bzjmN2H7iL92hDrE+kXNS+nQ7c/PDqLOKEeDzIAHGH+V+Vc+bUE3+xJ5/XZOu/26+3m6PUW/SILoQX0EFEdMiDGFLYRtBfsHO8NlBUkE+kSvQWt+wb1qfXB8oPXqONX3hjsjd/h6dAI/gVXJUs6fzfHNj83cUA0UI1A0zPTHSAXKg1G/NEL9gRaCDYZDBxVFNcZkAlc83roM+lY/Ez6kgDv++8FwBwh+tL6AAuqG9QmKCK3Ivwa0w7lAg4DmAsk9qP49viT/+MF4Q+m8kHhNe1A2eXkJNzGzcDtbfYP/Gb6fPjH80rpX+pc7/XwM+kB4UrZcNqYybzYCdmE6u/4SgqKGJ4fehXoDKAMVwh/E8oGUQT8BZ4deQzcAqD3ue5m5S/m2uZv+Z3/q/99Dlr/Nfx0CiUIhgXPB3MJbAUwAm/9BQqtARz4+vrD9Kr7B/KR6nP8Ye7F8DfzEvQBBOH1kQb1/Rn4TfhDAzP5fPRKC9z0y+cDAmYHxgpzDcz80PEFCsoETPy6I8MxkyxENtY3OSeTGzYIeQYRFeAYJhQoB4vzUegH6tjeTORF1xriy+ea644HZv8c/0MIYPezDNcFx/7vDA0Bpg1F8e3emejr4i/QJtgI5CDnSvi1C7wcXRLvDPMQhg46AOUF5QLcELoLWAs0/xrxXPT5+RkFuwcyDEYIuAqwD9H6cgRL9S8E8/hw9SL/aATMEAkL6/mlG/MUnwLr9+bvwek07Z76EgBu/3z8yQwyGHUSlBQBIQw0xCFuMLspbxRpJFcvhS6SLQcg/whZBK757/zoC2ka+g8lDF4Lu/jiBywQww+9HZ0NrxBSDWALBA80EfcHqP5FEmIH9RaCFJMNZgf+/RHtsfGZ5QDob/KN/MIJYg26DHUSvyPTHnAjpx1CEisdKgFuCOv39v0V7FbZUeJp6+v7nfON+XcNYCQCKUgexgnnCXH/6QG4ByYKOwdJ+9YQ8AqcB+QBigSC/IPoKO0O7SH1gvcd/FECuP+tA48K2Q3REpcRSgp3CQgO9gbpCvn+AAidGGUeTx6EFm0aTh/eHNMSSxZMKckQVxDPDhr3VffqBVHmpfeE/Ib7+Pv7597vtuVL31rncPOO/7oP0vpj+4L/2QFz5MTixO/5+Ub6cAnMDxoZPxtFG4oU8RbfIlgaWxTOIiIetRubIuEWUA28+PwJNgPn/IL8pQDyBmf8fQHm+hQJwQTz9ynq1/Sa+jX6ZQqPEcwf9hcF/DEQiw6NELIXbh2XH70foBd3HtQlcT34LtggeCM7DE/+cBhZ+r/5AwbBBAURNBB3FIMjhRXaHLIoSytMLyIz8ikKOx8n4ygtIjUZbxNEGEIhlhYfIn06lh/pFjn/YQaO9g4CbgL5AscMHSPoMoFEbkWeOAhA/jHBOn8jgzG7G+gtqB2GE+oiIhsHG2If3yohNnQe2CK+KW0dHRhnDGb7D/lv9hz8dgtsFgMt+SsgLQcsGBZjDWAOmAJRDzkGmggZEBwPshn7CToQVRsZGjElUiiAIdMWdBamENsUfRvSFZsU5AdyA9r7aRI2DG/0MPFn4wLpm/VO+ur2YevI9k75zQ5VDCcBrwusDC8QqgysIHoqtDDDHlAHEw8xCn7wYPF57I3xEfEHz7LXTuJX14Tey+f29skHxB3NGpogOC1sILgYfickFHYMnhHWC+4BU/Gs9YzyTuc22x/qEg/0EskK7iGAIO4ywS8gMyollTW5O3YoTyOqIVAdbBQoC+0TRwltBZkEtf2JEVwYAiNOQDUykTXdOVgkCyFiK7kaiBN0KsglGxRz+zUCRPKV9JrxtusV9U7yXv8l9Df2gxsjFPkZqRmxJIElNil+KVEeIB3YIl8WXxW5DrcMXwPX7LvzZ/zb6KjnrOHW0sbQCeN+8571xQPWC8khSx76AVsIEQU7AbIK9fd97RrsjvGg3QLoFAV1Cq//UvzTEYIVRhscA64EL/xL+H77gvCy8Rn6J/6T+LHy5PqrDDUBiQ62//ERqhxFCLYbDxllG3AVZw+HGwQivS/QIN0ipCP5KXAV0xfdCh0Chgk7CqsdrAw3DysIsQp8/dYLoxO4GnMheBXLCGsWPBkkGVAjMB6TH9cUHx+iLOcMCftKBhLuG9NS16vlfdgv3dzag8m+4YDhQNk41JHox/rQ9BL3iv7fC6UG5g5FBJX5j/Uq/fH4oPxZDusGsv2u7zPsxOW/8oLqIuND8Jr9Vv2sCT0Edejz6dLwjt6x7o7dKNTV0v3R8N0kzobKUdKN4szvaO2m/awJ+CRXHIsVFCpOF8YLRBGDEbT/yQAU6P3pZv67AIAFtxTA/8XmLs/N5F3lMvne/tUE/BE/ETkcPQUk+8zzJPNW4t/QstQu/zzqfwNCC1QaaRloILopESE3M4QhYSSvENcHNCJ4ED0Ohww9GoMNfwJBB14L/gI6GN4F8vWK+WH3ke9z+KLqIO1d6YnmO+jo7zPw5e4L7OPa0+Zw9Cv2RgOgBn74igFfAQj+sgt79gnpSes+9Tn7zQaI+0LtpurY4uPcG/Ar6yjtUfd5CWUZARWyID4WiSfgGqAU6BQBIexAxTWZHAscHwSk8VPsWPfb55/jLfew9d78ghDJEQ0S7RpQHywQKhjYH8kgNyj6Lys65zakO9A/AS7pQsY1/Tr+NNRHTkgONs4t7zGbQrpCq0GzPD0mXSUlLVMpeQjjBEAdUx8wC0IcaQ3JEJvyGvxRDJYSwArSD7sYlBJnG/QkUiRWNfA5hiesL+U0hUjBPdkmCSwqIfUWfghSBKL9LQQy/Vzwp/Hc6q7kTd8C1Tfee9tC14LWdMv70OzeStuy1GLoefhcDFEXBBK4FmkjRR2mFJwDDwTRB2P9Xvf2/jAJ9fkbD2QZlCedED0TvQzAAnX9GPE+7bLpneZQ7qHrhfFo5/ro2euf8czkF9M/3YrkkdzT2NnTsOWV6lf0s/FD71bt8usj8sjvKeMn2rLuxOAE8nf0Ng2pDMYi+zJbGWAvQyslJ2AkjCybIhkHKPcl81zXyN9B3YXU7degzeDlZN451Y/LUc4zzpTXhupX4pTY1dif3xjv2fRO/bINmCJFI74wfC1WIicbJRvmBNIBYwlSA+0NJQDKCMb+ZwP8/CUJBw5zGQkBoOrg5+vg5ur08wn5VfilD8Ic0iUeMMwc3SBOKh0bHRJQEjQl4R8tCgYKjgSSE+wLewU+/1f0se/J7xbn2OBN6ifd/coAwTXmN9869tLsH/SlBEUOOQbNCcUdohg1EaARDQ8h+sPe6dgq6NbaTdPq3VrZl+fk7BjZstVL2qXon/a68kYNvg+ICqEHRP0Q+NAQnQo+EqwdShbq+zYI3ApLA4oLmfxO9XP2cPf76m4GGA0y/B74f/QrCbD/MAn0FZkfoRCnCyYEAvJ99YTw8/YaB4T7OhG/FGMSQg8QDtr+nf10+3sN/vAO46nlUeDz5RbfKeQH7O4CCfLt8F7uoepj3FDaiuDw6Bb90/vU9gERMxpPJbkp1R2xHEcSvhz6I6kRqw6XHwMY4BDTF4ASWxOSDrcOcwBz8t3nx+Ab4DfZdOEH9dQMiBGlG5gPkw4lHKb/ZgVP+sX/HQsaCnUCH/9DBbgWcxUtEDgetRTKIhoj3iLKD1/93wJ7+34BeAkyFcISwhiaLNgiTBdDDqUZJQsaBYoKNwW98OYKAgSoDQULdB69JIQudR+1FZ8KEP1s9u77BfrM7eHq2PUK8sDqxu7W5HrjRdLB1u/PPujW8x71NPI79kj15f7Q/XEDFPiO8tDyG9iq0m/Mc9S2u7O8t8Z9xRjXBvaO+TT5SQEr9vns+urO9O3vK/ea/soHHAdj+0TyuAjz6+/j697W2nDezOMK2gzGndZv4GbhG+I+4NDqkvMS63bl/ugU2KbUptVd62rzJub05qvs//Y5CmkX7RJVA8AR4RCpATkJmA47DBj6xfWC/gD/Rv606qfwGPJ38KPzEOmw34/wSwIzCUAeiQjgASz6zPqm6ePRndL70P/Oo8qcys7Yu9KX0fHnUfFr5JDq5PeV+Lz/eQqO/7cCGA27G1YKu/T46njy3PM962fqiP0NB5wV4CKWFOUZBBvkEloPFwVJEJYWVh0rJYsedwvwHr4TmiEbHNYfUS8TNLwhMRdbAen7T/Xt/0PzVP2J9ejvZOdY6i/5FAujDRMX8wzSHSAVNxkmIrIYjBDCCdYApQih95PzO/3hA6H/lgwVHFEieRL0/6sK6Qn7DUIa5B1CDqYShgnjEskSjiK1HpkL/wgQ+toF1OQY2Kjaa/O27vj7W/gDBpsTKSObFicZdyFoEB8EShLO9vjcsNlq5pHU1uOn4JTxqOe26jTqqutO+9b8zAVZ/RAE3g4IFDAa1hH+C+QCAg+YC4QUFh1uFMsYUwt5DDsLzgkYDZAKNP5r+dbvJfKY5P7lJOnV+/PlU/IK8dr4DP4TCNgoiiBVHlMbFh+aIioeiypNIoIXhgb2/43/5AfCAh4Iyvp6/YIAqPExA/D3lQu9COYRASF6Fk09ez0KKmMbkR3aCVQCVAeOBWUJuQd5CHQLzQ7DBTjx3AjTBa0F4wexEsMPXBNXKQIspiioLDEl4SBLLoI31RTfEtUPdhSnHGwc6ir8NSouBzffKY4oATj7NAQU5BiSIycgrCesGzgYEiOUGCwchyceOn4ivhG5DhoI1wMhDmcVsR47P+Qz2kRXPtlGZ0coLagvwjt8NE0WnhohJiEZDAGiFNokiCCqL6kpOR6hF+8JHwmkHCoW2RjeJdwqzzOnQHI3qi8UJp8OpgprC+ACfA1pBt/7qALtCagIjP5qBH0KqgtKIxARZh3rDQz7OvnRAQb5rgWkEN4K2xY/B7kk8Rz6//L/OBERCRUfZTb9McU6why/CcICiRT8C8sQVgVa+z7tgOF/9j/7EfzFEaYSihWCNiY3+y5yJ/UZzSzCM6cadxVTFvED+w0qEbL74eVo6GPpffGX/KAHw//y/zwNawL8/o37h+oN3GDcVOLO4ALebeMR6W72YPlP+HHzIPsGB7H99uFq6Q3xe/upAMALSBsuIpIxPR2jIqYvLSG9FZwLfQw+E10IMgZXBEH/fQVY/8r6ff9BCsUWHQ8DEm4LdxQ/IlErNC19KKYd8SbNHmcsJDBCN6I2+iP8GhUXVweD+hb4+u1h4HHmiOXL8pby1+qg8uwNRPp+7izsBv3d+vsKPSA/E4Yi7BkDKUUcuCCZBEX/EfpMAjH0yOKZ33Dpodr75JP0+t9B3fbxPfYL/h0J1wzz/SvvdvCA7eX+qffx8YX3nwHCC88KkCVvIOYw0z0mRENAozxXPfIw2yqrKmwdSxYlISgNBg5TASb6Zv7M+brrQ/Mx+fb0Ngh/D34JgSF+J2MedBiVMIc2nDMGKMcnsjLfIRYKJgrL+7MM0QvJB1waBBfRHmMe8B1mFv4N3AO6EoQc1hVK/DgG+glVAZjzx+b94rniN9Sq1sjmtPAb5u/4xAJmBloqUzZcLT0tJC5UIuc0nD7aOW9GqDsLM+MbYBfWAX8BmuIo4nXpQuv38g3iDtkC6Zzuaf0+BWsJlvo25F/tQQDf+ioaMBkOF7gEuBd9EOsaWgkR9KD0jfDN8ZH6exHrGIAl6iSYGNcbzBx/GjkThBSAAwsPgBM7C3MM8hYVBJACI/om9X78zwWH+MTlbd8B5Y7UMttp8tP0dO38/9Qf2hm0GkIX2x+rHPEUdxcPKGMgahWQKicb0iA3IOsNjhANA2EL2g8CHLwWcA88EwYSgxIM/XEgPS3SJ48tvSN3QU4n+x4ZH6sRwAxWFecWKBtYJFgZjBJLDNYe3CjVMc4vnDtYSpNP5je9Kb05UzSpLmwonydfEd8SqABFEz4RTQphCz4Z6Q6+HYogCAmGA9APrBvBGYYPZgbK9EH1LPCX4tbj3+MZ7J7qcvHNBGAJD//Y/VQF+gUyD0cJuyXeG5MaOCX2LQ9AjDyiHSUaDhIKFNn+jgW6CyAAtfgC77vojfrJ+sDzd+oL6M7TB96j6WXmG9rl0w3OqNQB1KjZ7d3O7rzqp/nGBFkBWATABBn8R/fh77DyzfCw6Erh7dj335HRTMin2cztQ/A6+73/ovZ2/5EDffkC8csA+gSz/fEEHf5F80T9LOEk3/XXgckVyMrahdET3tHnAur/7hrj4N8//YUKawXdB7UQ6iQ9FEgg5xc3FeslYyLpIkkdYBC9F/oexxzYJWMqpy9YKmEgagc6AIcKlfmY7s/sku9EBrYRKA4zErseBxekA8nzTwVIIeoohCy6J60zrTnxP+srWi5/NVhLFjBEQh44oyAXEg4axRETEjgLpQn9CuD7AgPCD1EX2hVFGNkRIRU9CHAXxgXTC/IEHe1m4V7yPOt7APDqSO626Trsuvop+64E/wa/CqAehB7VGvEbPSJlDP0NowmfGHIDl+7S7Kv2ePx6/nfp2Oam27zt9O1W+0QFrxGeD24K4xvgFvMShhtJHM8okzJBHxYidAznAEAAdwZOBcwFkA3TJQownTaaNsIygjFZPiZBlzDXPzU/qjVLJTQ2bydCFkwiRQm5GrAQVgTc8Z30jAj2/LrjQvK1AJD5AAh4Cy82QCvcJKsz8jv+RbdE5U3jXgVY+UiRN18vWzljKn0emyEYCNnznuNT5tHw2wFrBpcTbxECFzYfyx3u+/UGhgowEaoLHhaYGbEkAA896tvtYwfsBC8ViA4nF74cziA6FWsnvCeIKbIkTjPyS1BKvTM+I6sqFjltJkMVzRH0H28pBSBgLY1CGEHoTQE75jRwR0M3vBbwF8kWVhdXGxcWghdvOx9DNDVpMmNB7FJARTs700PXTMw1KyrcHqEu1y1xKB8SVRyiKXsORgJ/BpMR/AER/mf6bQpNDCn7wPynBacRIxOQGCcayg8K/1D+d/ae9yX72wQo+0YGC/ra9ej7UBpoIIYZpxxWKn40XCr+FcMmqSb6CZ8OzxUAEUQRtAIGDSEVB/Yy/ZsIPwDjABLxMQMD/TMFcP/M/7wHFP1SAtT6Q/qV5kkBafzQ6rbXJ+hj7a8CNQKLFuYpBCtdINUKyCd1HLT/rPE3BgoXiAqk9qwMzRH9C8b+4QKGC44PPPeUCaADV+yd0AzPrM2n5a/wqu8U/yPrj9vz2RfqnO6k6jD95PnH7ZTnWOgM63nVld8g7rH799yh9woLu/3s603hd+8r7t0CHftA80vzTdy/4lzniO0g7pTmb+uk6978vend5NXps9ZXwtjBX7gNwK3CX70Ct13avM+Cy0nY89nI8LP03vLL+j0IXhrqC/QGxgG2/vMLYAAV+LftlOPF0mPUqtf24DfwkfNhC1wImA3XI8Efvg2TDoIgBg/G+Rzr0uWn8zrwAOcQ6f75LwgIAMERNBytEpcBpA0eDQkRHie1JXIomyOsFFQVCA2h87DtpAFQBvn1l/d1+ZEG9xV/CkcT8BXkHV8a5SH3Hd8iziVXEEMUsBOdDqUGJQflDn4SWCH+HwsjyxheDDQdkxFgJnQaMBkIBoQRV/ps8jH3ZARB/S3+nf+n6E8AxQdz19nTNNYo6yXcrOAAApsDO/2+8Jj+hPgDCC72vPnPAX4F+AI88Gzw6PPT9pz74PQh/38O9BT9F4AWmyB/JWIPbxYs/LnugPWO9mbsTeik5+fsPvxoA0H4fPe+/Or7CPhG7HsFfRYECMr6ZxdJLlgz5B87CBUsxiiaIeYE4QQiGmEbchpZCsDxSwGZ65nkEfmk/v8HtA1g8pnpoPjB7jjBntG/8DLrq+6eAlkZNwPi7Vfv9BBYBTDuSPOKDskRSuxk3Ff7vwGJCkvipvzCDKEKKhqjF3gPmxyVJZEd+SodJ8cxAD1QQuEuERWtF4sUfgV6+SL/swB7COLepvBYA8gIhg7/FcsfEiL3Fs0HJeXS69f5OfM85tvij/gED+kKpwE4+kgE6xOHESwMm/9rEasUYgcIB2ACUwy9F8YFHASa/d0V0ynwGIIBRgGaCHv45vZB/b/xiv0Q/3r7W/rhAM0GN/808XvyVvT4AoHpyedo44XvgebHAUjjGu5eAgIfvQaBCzkO9g0gDcL9Bwg4A7UPGvX09AboZO6o3XnatO127Z/lpQAm4obj7OSK4P3i2Nzj2Znm/uBc5ZX5MvnS6VfnDPRuA0DyU+SC9RT46e7f9CX4TvbyB9YJ+OqZ5oXyM/un9ff3bQNMGRQJjf6WBaERaRsEBbT+NP4ZEMMNjPzS+xX/WOxf8Dr4mvS2Do8c2CYwIhUX5C63JtcxXykDIO0oMCprIakLBhTGDkMiYCFAGpofGQbXALYIGBJSGvEVAhJ4IAMmmDPmKyIq7SUOJOcnSx1GOAYrsxxxG64jNB99MVsj2g/kAun2jvo17En6NQVjAvAMthcyIVQqxiY2JTcwVDlYNxM2Jjs+KAUa8wtr/xsTgPfY48Xs7vCk8GrkYe4oBY/2CfVw8a3rlPuFC2QJDwRPCuEXchg4MFIoBykvH7cd9CYVIpQDDQcLEmUUKxBm+ykGEgxYAKLxRO3h92gCDvQy71X89fki/0riw+jk+jkAC/PI9nvyqPL85QHlJuXX7erv5+B776TvC/jC8ZkAAAH+8jbiouCUzefRm9l203jPp+Q+6IPrAuDm3U/dM+hs8BbuoujR6O/k6uN18ogFJv3O+tIDuAm3AeX4xv1UDx8Kggv9+hAEFwZP7KDiBO7d6s33+++A7xT82AXfCzP1mviQAZr8uQtg+r73Kg8aCZgOwfhxEqEdDB7GFRkVXQ5QE7YVAvZaCmkBKQNi/XgFHQPoFF/2YQDSDF0ONQWZFr8SEh+0/778MPwP8IDpde5e+5z56QTSBgj/SwbXAawBVwaOCrwX3hEBCx0IrQWh88P4efjj/d791Ovx7K77APU4+0r8bPjt60PnIegb7VHl69Uk72/78fqR8LvefvW/Am4EDBHbF8IRoRc7HQwIFhvwG10YuQF38vr8UQkq/hPfDeZt9JH0a+8M5R76SxPWENMRzgSlC50MWQWi/pnm6+KB7I3f2dtb6i39hvQT8U3jVdaN6FP1zwW8A2oRxhTBH+gPhwl/BTUDkxcICk7z4v2qCob0BgO3/tn3uers5cz7fwaMBtUDC/z2+GXkWeFM9qXgg/t7/av+k/jt/rP+VQdZDyj7ewaP+0n32RfaGtogHx+QLPAUVB+uIwIZaxqnIFoPwyL0FgAjVSLgI8wkryfsJ+sU8izDJnQvKCCEHtwm5RwHIRYe0SqYMbUoNh+FFqcjEgWcEL8UdwzvD18FbxGMDT0cGQ4wAuoUqw5dAwv19xEJFPMGivFb91sRsyEDDBMJxRnpGeYUNA/vCB0CE/9xAB//cQNS+z7vBfDB9gIEmRcgGjE3VTD6KKMrAzMyJ30kYye/J7AvFx0AGG0MBRfXF4EeGRxFIYEgnx+nHWYTLRrELpYuDyqRJHIqEzy1KcMkrB/CGtwJXAcBAp/6g/LD7lHswgCi9AkE9x1dLRIpIid3Ieshig6PCvT8jPYY9srh9e9w9fHmXPB+818Rlwus/uP/jPaqDw4SgPzgDWsHKwNDB00QxBNTA18MDAswFQshBh62CzYO+QIQ/64Byfk795/4NO7yCB/5ePJ8+xkDGvQ65/70POkZ+vfbYdBF9dzyMfhiAPH8agafDZkV0wY6Dg8NJRhfF3QNpBzcIzYJbgr2FmED7wS7+CX8ifXF/rMFgOqR52D4d/tj6t3Vwtu/5gfx8vkeApPxjQEV9hEBYwIzCgsLTCJXLmg0KyWUHYka8BOxHwASOAd5+Wv8o/j89LT4NAEMDlMWQyF7EpYSSx2uDaYQSg7wCcgQt/zQ/qMAdgObCNwSmQok/o/8n/tABuYR4wUXCFcJ6wyLC2gXyBwGD6AT3BZrJKAdoRYS+HT9mA/UCJEJ1/7ECGr+HPzp+BYUGQ0aDRARFA/lAOP/AQpeASzyhPnS/RYJ3/8qCTcCfQRb/UL06e5TArkH/QPQBEQLbxo5FX8bJA+PGhoouSF0DZ8SXAVYCS0Kr+4f7RT4zAmsCw8dhh/lE/8XsQzeEeQLohIgAhvxzfUy7N3aSdX1yF7Ba8+d4xPw2vkq+yD9aw1sEVobLCEcJS0duBYiHnsdMicwIW8YsBCID60WdwaHCusF2A/nC2v93PqIABgScwyBEpz8BPjU8aX5hP7B8tzr6OAQ9RLv/uX68dcA6ffR93j/nf7u+t/wZfPy8Kn2xebm6nLq2+Jg6dL4T+v+61f7wv19DVL37PQf9nz9Zfz4CcwB4gHPC5gKBQT0/MDx8+q68yjesd+j4n3cKOL42BPSFOFJ4sDmT+jO4zPsk/SE9L0GU/zN9yf0XvqzApb+QvOO9ST3p/w58rkIJfk+6mjh5+G437vPUtR24ALkTO2B9K8QuQ7gBsrz6eSN5Jzyif0Q9x32SwqkBvkA6QEhAPsNCCqoJHImhiNvGJscrikYHJIUA//m/uD2L/X556b2iOYZ8doIs/hT/F4EDA6eB/8KkAnsBxgAFPh17xoBEwr+GjsYcSfjH8IZLBl5/JQLwAt5DXMVEhFFBnMA4ADt/BQGHgWg+gIHNBMyLYwj9BoQKzkn+h5xJygs7DCnH0cWBx0IK5UleARCFyIaNQr2BYcdNxtAHk4buTQxN8M1fyIpH0EcsgyAAef/PwjA+U8GpfyxAsAeFDDXMD4x3jKYH8MePx40FQobzApwFUoYj/UB/JgDB/9M5hDv2/Ix/tDzEgDhA0wR9ALaBEsIMhBpFkI3RyYFLBMgfxvnFXT3HQcE/tsJHgKJ9r73EvSe9ij8/QyvBDYbmiAaH3goMi/TJjcL+hwoFHgTqwbrEXcOluYA8kL5Hf/xAq//IAPhCDf+jv74F1QVJR3+FR8gnCKaKEkm+RHcG/AO1BmnC6MS4BoZHJwUjiWJLjoZ7RCSC+r7z+iW3xPqhPR94eHbydYG0I3CWdb11S7oMga2IeAYHh8aIwoXuRPOBDYTkQ/iDA/+GA8nDL0S9QfLB78SKP9xJ0IbVRgZG9guFDAWIbcLEiaqI4MfxiAkL8stJRV7EF0XgC7oHO8hVDPJKCkqCimKGIYg3Cb+H8QElR+NIokgZBfhLTELuArPIecVZA+5AeD8vPZA7DzzGvb47lwSOhHtD1IQHgxdBCIIJBK0CyQP0AkbG5kbGhVfHkoUOib4ElgQiv2yDq4aSC1uGgoegRsgFtAUng1HHTos4T4vKXsjFCsLKdscFRKqAQAOTAtQBrr2Vv5rEhgICwUQCsAgHxKDFb8UAQ9nAif/rP2cA5MOZw6dA5YRXBflDDYO/AHGHrYhTx2SK6YnVDrGL1YrrCvSLWQiex5bER4HJuws6bLxaej35dPrI/dy+eT8DRr4A7MJnwY4Bpb8R/56ChcQ0hN8F9oZ8xkbJdondBzRHWkeeyMTLJYkuiqiHJAZ1A9kCb0IrP6xCrkU3PwT87n1VwtP+Nv2WvkZBYX8uv8vATUFEwr39ivuxflh9I4BQftCA3zh1Nwh4A7o+OfV92Lz0PaF/Xj1A/vFCd8E8f+IAcIObQ9NCLIKHgysDSQLwglEAV/6//m69RPqJf6h/KMBVQBHAlL+pQIuApgMUfsjDVQYPxT5DEADXgxnFPwJ1wAB/koELgv9BYoGrAH3/d0MlfBU7RH9ZgYDA7Ac6CJME+gbRhOIF0UWLhjeDxwhiSVnGl4a0iijJfkejyL7G2sbDx4AHNUnZCXIHEYMVw+r/8wI0wFkDNkOsgBTCekM+xMECZD2swbiEPQJIwvm/H4LkREmGTkaPRUdJJkfQSUhH8sZ7SCmC8/9FwFU9k/3ofZl8zYLMwpkBJ//FgvFDkoHkvmPApz0mPI5+pn+L+l26g/uzezVArX+YPc9BKcL6f9kB9ULWBTEHIIZBxxbNR5LyzmMKoom2h4nFUMIx//8By4KtQBp7vHoX/Ih+AfpiNrv5YXqx85V1WHX6tsG5gfnEu3792YM3xMqG/sN6gLL+hP6yAb0+y/mleUY80TjT+OD11fWTNG02ZLhBd6Z88LrWuZP/An08/n17hn6OvrC8+ruH/dZ75b/h+stCQ8F0+oL7hX/UA4n/lP7DP4J9KbnNdIQ6kbpePIp4ijVrc7Kzh7Hz7z81yDiv/RV4776t/z5BiwIjAmFEeoLJQ5iBy77f/aoCHrurvAv8bjvxvBV9wAFkACTAPH5g/kt+5X8Deci71z1Mf3PAav7IPm297gAEO+V603vJQBl/9P/nvSl+f7rNN7f4LjzQ/0L91XiUueY8UDn3s8u2BTvSeZY7TH/3gTw/Z/8PAa//UD7vvU/81f5U/oY8Xj4jO7R7fH5Jwfe/lcF+ASVBbwFvQTm9DHtmfNf5ojpQPQt+jD9g/0VDAANqvzoB5YPxw1t+AX1Memi6YbcQOq+6kj3AutsA5oC1Ay9DJ8GiweABEIStSRfIDIbwhIfHxYShA/SCiULhw9gE3MhLAm1FNcRXRxLG4/yJfH/7CHpzvIzAGQOgAso/cL3Xv+B+or6Uvl0+pD41/xTEKoGby9jLUUhqxgODjoQ4AbSBtAMkfff+MH1wvPN7vPr9/sqB4cGUv3F+MT+kgm++zYDjwkXAagKpxHRHUMOTRM+FTgt1Bo/EtwgxiBbFV4Y0RVOFh0cxRQNGWEZ1RWZFR8f3RBBCb4WuAoW/lIBbAGcBvshyhLqLaMtajvLLHcZLiXlISr+bfweARYBAffm+A/16AJ6DYIN4QpGA+ER6hWLGhQbZyo0OWcj8SQqMd0k4heDHJEY8RpHDiEMfhuWIrIsjBuUGLYUJQr7/Xby6v9HBhYGnvSECGYN5wRzANgCRwJg9wz/2f/pBxL7geua/MwKOw3/A3IAnQRX/S70puNM6dX+Jemn8GHywuk44aHaJt5z3vLabeSK8Cf0JPsQD4sHfBfYHRYP8gytDPgMjA1NCLwZyRIZKcAsxiyrKno1sCJeMnEwjissPpE1IiS0IEcpZyMjIYYroyJIFQ4dWBXLAnUX7QR1/LAGqAd9EtwS1AWNBMUJ8g6yCIAojC8xEd39I/Vl7KDcfO9WALD/5RSBHSkV0xoMFcEHUBvkIdQRkgYUGDYT5Ri/FmEQjhaSF+Eh6yV3Jt0bqBLDB68KEgzwAZz9o/U8CL8F3wxlBJIRxPWD4QrlLgRiEkwDbQRnFhgZZAeSKeIzl0GDIYcqSjMbKrIWmhAPEbMKhfR76djv/vlu8fvogADu+14Cyu+0DCEK/g5m+qYE3QvSEmEN3hjcHq8ybDUsH9wjEhmSIoP/UgIKAwEE6vuz/Vn0A/WcEtgayA4V/5EEAfsk9wvveuGd9oTs9+ld6YbsU+pAz7njwewz5s/I1cmb243O/t7G2/Pc5NQe5Dbf/O9OC/QIuAIy+jz/0fioBI31E/UC9I4AWwQR/KkClPlf6+foseQ17YDz5AY5EzT4ke6N+EPxCOUT57TMb+vF5BvgmNjp3nLbKubK6SX26Pf6/AjtuO5x8jfyjwCg/6784fcyDYMJfRCZ/1jozd2O2h0EPwPHCWIBhBGCEuwafAfzAlYM3xRlFRYVlx3iHQ0gGQlp+1bwdeQW+B/ptd4ZBbcAIQlL+3z6cAMfEZsF6g1IJ9ATVCUnItQxURpDJo4lFh+UEKYUzAWlAvr0Xg7KEfEPOhPyFaABewHMAvP2RP77+MP9LPoi7KfnN+6xBzsD+P0bF5cgkg6xCxUV0hzFBxcYVwhxAfIJswkU+PHuHexs7mIFwfm753/j+/uDCSEECwdXEoof+SqwGJobcR0uLBs3nyg5JZ9BrC8WNrYldCjnJEcrkEEEMnMeeR58HwAocRuEHMgmzDEnLKoIcP+tAigLew35EskgrxJSJEUM4xCR/wwR5gctFLUZXAddDikVrg9L+Hz9PAP7+WL57wLACMoWVxiaFt0cdxa2LEcZUhoXF70bNBJKBhACOfV3/lEFbAXfD1UPahiEE+z7JfRl6jD1Vf2D6tHxOxJSA4P/xwXIFFMMLQIL/r4VLiFDIRUQlgsNFxX9wgH3C4cRABX8ENj3wPfT+UPtOgIdHngWLxMTD5sflBwcGC8WywnpIMcWxxdbGncbXiDMKYQiWh62GTQYVx/tEGMdriKmGNISuQQQICwQIRNkFWcQnhUQCUADFBo0E/ILUhWeEq0XKhHO+sz7F/vGAdj2zPO+80760/cJ+rX6YvpZ9KTwbP8/I4Yi0Sd0MWYnVQTnGBf/GQqqGIUPCQLj9ofyVfZu8TPoHezZ/ErySuUY//IGc/Ao65L/ag0VDzf9Y/krDi4W2g4UBioWAQ/u9pTndet+2PXOP8lDzc7g/N5g0urcEM4U2p3pKfMl/NIOHvyyAHvuMu4/7vHs4fbK563y0ftY7ezlovUs6LH7Cfxo8+fz8v3hAfvrrBHRBnb4c/ipFkETDBKDDE0VoBIJEYj+1/OC+dAF7PrUC/wGPg42CDkMefm59Ir3/u7I6EwB+PG05c7YCeEY5Bvbh+589bz0xgyIDnYOAgGvBT75bxrtFYIYTwVGF8cexhjkIaolnR5mFwEN9QWRFJkm3wEADYIOeRPVClUEWAfSGhAR/wixCk0LhxaoGCAdjh7/IpoZPvskHREyMSnsMjdLaFFpQRU+bUX1UDlLijIDPdI2mTwDOCo8DUXTP1U23i68LoEvkjrvMFwvVBgDIYAcfyKMJkUkoiAMN/AuOzRvMxw4QTLcMvkpsTfxK4InyyCKL5gStRAmA6wUFCn3Ik0fMTecPf87xTN6KzAu3Sp6F9sXyCwELf8T2yDyJT0qah66Ldw0iEZ5OL02O0lwR65Ohj+NNzc4EzaBHcQyJTEULrQYESV5KYIpFRNHBsYcLCdDFcD8qArJHLMYeg33CaMi6y7aHD4e1CbVM8w4BytlHLkk2iRTK2Yr8hvbGpsGAgNmEjcUIQmuFHQZiRVTGykaFyMrNuQwIzOgKLEnfCq5K04RKRIoGkwZMAwbFTsWGRAHFmwIzxCYJfseNx20Eaz5Tv+3+sMItAO7DVUYmSB+IDwvoCy2I+YjYjeHKx8txT91NkAzszhsFPgLsBLdHAIH3wCLAiAF1/6d/tfw5golFR8B0Pjv85Pq5/gI5rTvCe0I8BD09gP3FOMToBJHIwAl5iNMHisakh0GE/IYqiNoGQoa3BGXET0XcxkvH5od0yhRFJAO/CQXJkQd9ScXMdEiFxFTFLclWxKuGjITaBX7IacNZfweAnoBt+mp62T3UwRVCSoO4x6HMYYfJyR+GkwiAjmGMNwmgDiOPrw47THjJ9s5y0IvOlwsRB3fIecdOQi3CnMNTw68EWkP0iriNpciYhH5/jUXGx4fCdUdlDB9QRgqkiEAL7guMi5zGXsloThhKkwTEBEYHhgopgiT8osPigx4GqH/OQ8wC1gRhQMcDH8VRgiTBd8F4AbPAKMYpBmqBCoVxiFBI5cRNhU2HiQrNhnvAO4NnhA6Chb8oetF95T7a+u554319QrCBETrVQe6GrANTgwTB0oSBhOYFLEqHyGnHygeVhRMB10AEfxy9Dz10vn5/HP7KRCeFjUBpvlsEIcTHxfjBBT6cQBx/q3/bfxuBNsV9f5PDdcUfhLlKAweUzCANQQ0DiABJuA8IydRHu4F8yCXMBceDB8LLME46jmsKWEu9C1KJi0UAggr+m/xkwQpFEQaWgeqCj8OJxBPD0oPsSPUM8U8yhqcJo9DSDqTMC8s1yscLxIkkBw6GUAYNgEoGJQb1xkIDhQN2ifQI5wQeQbpIpIsWyL3D/L9QRHvGaEOafmqCCwUeg/fEgsBywPiAiQS8hnUHRg2wC4DIOsrKi3AJtcbGhpEI/MePwvaAaj5MfrtALUEDQz/CjoKbhqwMCc0hhxFFJAMBxCiHowX7xTQBrcVjwxq+ov6ZurO9H7uSNp7zEXv3BZgGAgCI/oh/VYI+vwDEqUOWwtdERsQWwCsHwsO0hSSL+AD/Pxx+/76JASR7P7mr+n/A+cLtAJwDIcbjhXIFXshUxqfD4sDyiAUGl8L6ex2DqwI6wVA/XXoOgMP/1PnYdwC8NwOWQSK+VDyfvzwB3MEVwtYEJwVqw+5CJUQ/QpOBQv6agAQE2kOdQAx8TsCxOnwxXXV/OfX33PjyNjy34LSCuTT5J7a4tiRycvbgO8UC+YDXhokH2QlRS4DNUgu+ikaE/4awSYtJdcfmCRFDKEi+gmZBLkdrg/E+s0FYAoQEMgBZAnSBuYSGwnvD+UUUQF4/l0FTg7PH0QgoR8uF2UvgT+3PXgt9Sk3K6AsCDmGPD0qFxVRFb4NrQI89tHkk/UU/rj/ywGYAm4PCv3z/94VhhSbCanxb/mgC1AXMgxY+N4RnALj93QNpwS2CwQe7Aqc+IsJAALrDp/ogNf73Dzq1uZB0WLb5uZm8rrkhNrEzVrXLuFW1bzPRM5F0Avb7uFx5w3oBfbz+1AHJxlyBqQM2xW2DzULARAtFHISKBRBEYgPEwuxHcMP9AVaCZQJwf5UCPYGvwGEAsULbQDrCbf8LQMZB1EL2QRP/Bf7PfvlCK343gneEDgU2RicHVwaZhUqHhEfjiGMIPooFiciKEMZNxsrCvkA++ly6KLf4N7y1wvevud+89L0YgSaCBwGaBKHD08YECrBJewf8RERIJwdfxZmE0IHVQbBBTz6hP9TASwFCAUmCaMRFQ17+7L6PwJpEOcCjPjUBKMFfBBwCh0NHQynDysXgRHoDz0U7RotHk8jGykLHVwbcRsBKXscKBXhHAsbeQk7KOgbIiUcJDobCg2RIyQpLS67GpQdSyYEO3IyExkiLjAw+TNGLdQy00beTGlF6DjBNJQkvx+YFlkSXxFrGQMUsCS3NoE4zjUGO844CT5kJ4QhlTUYQPNBZRtjFJE6hUU9HuAbhwjFBfAIlgu1Fw0nFgunAtIOUwyYCXgGRChhJ4wf/COAHXkOxw2bEEP/ZN+a3jXcK+Iw6l73KPHf+zDtgehl4hnoTPnw/hz9W/U9+HX4Rf117yvzdfgA+Hr5tPY+7oX1T/BQ6+vX1Obd67zhIt1/7FPassjQ4r0JDwngEscBOh97GpUUehInDVMUkhxDCzwUeBk9DDvrSvzq+1wMZAFw9gz6wQpFByz1rvGr9ZrzxuyF3wTr7vdx90kGwPrz6MPn8OMk6mLkmOeM7Dv34AiwDVEjjyE4JOklxybjIuAoECkVIpAhAQ1gCsgFxQYnB40I2QNWAgUCdv0dBpoSEhWTGAYQqgbiCIkCl/oq+yTxr/SyCLn/GO70+yf+YvWb7J/tUQfbBEHljNmc3ITfSuO/76HpG+Ii4iH5F+xx8qDwVeBe81z/7QyNBmwOCQdE/gwVHwPIDBwJpgvcC60Cpfr15m394QICDOsBQhQ5O2snkRtpGhcs5ScWLK4gfR/9Luo0DC+sJoQbWg+xGfAfVyoVH/kjEhdLIIMY3/7uFmUfcgqw/ckIsxwLIbEIxe4eAfYRqQyqAaj0n+U0+0gTNu5L7Ef+cBDwCgoHfQdEHQIk9xorC4UBywaUEUwGQRFEFXsIHwPdBVQLUvUB6BEFVfuKBokHN/p7FLkWcA8A9coOvhgUE6sLIQ4mHFEM8Ra6G6sgmg0vED8LoxDyFogf9TX2IjIxlhlnEd0PeAY7+ZH3bOOu77Hs6PquAM8EFg1eCWkkTxnnEyIceCUGFinpcPPKDDwQxhQ7EqwLHg7tDhv7fQvYE+YG1wjx+uoYMQ5z+1sFNf0FAcn0ewywG/H+aP7R+mHpDPPV5vPg+eE38dH3D/xj+K0acxLLJcsdkRQ2ImgiWR80J1wWJAWwCdcBTf1L/+UQnBmJDkwK0Bk0F2EVGQNoBqsJkg7PKCMTTwC4B1kYzw7GCSIEsAooE28HpAss/Wv5EQDm//wE7ApeD4YQ9AlWDN0PvgTsGNMU+BqtIrknLhFCDWkIjAyBBXQKAw9oCcsRUA3EEIUNZghxDFrzvPjd+MT9ihIGE7MKjA9AIRUgWRXU/zz69wSkFggSWxsOFzUUxxdVKEMTPQSC/tQg0CY3G0wP1QMIAYXx5eNE3CfRbdf5yqTEV+qW6GzqF/mJ97MCVgbRBn8AXPk2DxgWKwRuAV8FYgyhDFEUIhcuJGUiBw6Q8q7vTfWp6PDfe/RK85b/ne0D+u4MZgLVBtL64f3CDQ0L/e8U5S3ptupz/AkLGAQvBhP/4P+oGN4kAxDcG9UYuyenHMoTKxrlJYgdQAMSARcL+x4EEO/zyu//+BrsQ+aA8+zwaN/l52367+qv6vD6cvgN/Kn7kAoFA7XzBeXX4mT/FAM5AFX56e7l8H/ugPAS5wLwbe4O8uT1T/uc89Hi1tg46Dz9QRLtEkIcIR61IdAlMyYXIHIdThBaG8wrWySzJxQlYBH9EMQOcw/ID3YfBRIuDSoMDA6vCU8GufgfAIH9Uva59Hj5sgp/Ed4FpwU+/Gb+jxCIKbQjnCFFMJYsPBzjM0UjpCPVHy0NOCAsIZIKhgNv+CUT7ADXAGf9dQBLB8MCUhQ4FsYPxQwMEb0DWRE0F2EHJRHEA0XuTfNaBTX/dAAf9/zxmAKnDFAQ/w2Y+OcDTvYM+5H8fgIS/dzxvP4d+AwDmQUdB+T/vPvcA7LzrOkyAO79ngvgEk8lYRt+HkAsaRvvGkoVmgnABk4OoPxn9mf9B/tkBNgDVPi7A0n6Ffo5A1fzC+io7sMCnAn0+QP0u/2i+2T5Ce6j8I72u/SF8Vf39v3lB5/seu7U/jgGbRV+IJQn7y6FONww5CItEGkIKQKf/HLuN+KQ4uvp++5K92Dqx+eVAOQL3xE7DYkZeCGKPWNAijXoOokrCzBXG3wq5iaBFkMY9ROAE0oFRRLOELX9Kf8ZB+cK4h0vI6wN5REyHZgsJycwKhYthyF3L2grkBFGGoANDho+FagVxhmHIhcQqBQFE7wYyhJC/BoFuQ2SBhoJ4xeWF7wamRyjFQcXBRHgCZ8L3y7AH7kgNR1eIXAxWS0cI5I1fDxXN0FBZ0HNLqww1COgKIwfGBkyDAMfSxPuD6UOhQWyEXoMURBuDFIRzhviFM8f5yEQCKAPuhidGJ4tsES/O4dGaUJlLPhFLz3ROtMqDy9RN9Uw0y8aPNw3RSxHOdIvmCwqEUASJBGABgz1G/cS+I8KFw8eENgM9glZEO8gyw29EiYeSR9hDb0I0w6JC5QYQBhXEIsFA/dK+b8EbA4lGuoH0gbOA9IBdgP/EwkN+fv69MAIgwrY9OXhRuFC6Or1auxd7hrm9flU+x/+aOvU50vaN+AZ5t75+v2B9Tf9AwIDAWgEXgSxGGcfKyDnH18K2BNz9sHx/+I98Gb4E/528jbsi/yuB5nsxeUI65f9aAqMF5EqOSU6MWgnah5tHAcQwBrsFaUGYwyBA9gDLglCBZYIEwAn7hvyVwGo9cb+ye028fj4mvqK5p/5CQUaD6wEZgibE9cazxSUDdIjgjXUGi4RPBdvJnMWqQRIDHEO0gfODNwTkA2RBl3tJ/Zu5IzriduS25LvhgICBOv/RgLo/C0dYhYdEB0ZNx/oHHoKog7GCVMa6ByaIfAfiCVQNQMwAi5iKJklDx9JGf0NcxGODrUYpxhREZwWQhWYE1EJJfST8kzwP/x2/j8TAwOt+7gJ8x7+GvsJuBlTJDUjbCCRDEIOTRTHEXUFuAJTBXYiuiPEEcsGXBsrDwEfjy/KJksXCxM/HqAeYSI1I2QrQzIoN68hVySRIWwb5u7u+y7rO9vL5effCNp90JPbxNWg7M3i/dKU4gby1fo1Af8EIAoHCmMPrAZaBT0MmBjvGNQSuBzYMnkVUQrh/mUONgcLFjYDJgm0/znwhvfY8/r5dfKt8oALKf91+5v6dwGT7IfqqgEI+Hn4Ru9W8/HxVe/t7wXvxQLSD9j8Wvd8BWz30whA/6YC9AbNEPUJ0QbTGBgXlwz1/HH/6BFnEWACqQl8CSIKcREb/QQHp/Yb/3ftqeg1/2EOFBtKELwLEg81GSj/wPJg9GEaLyUpK34mYCAmF/wVahXSCq0k6hU1ADMLDANcBNj/LQ+UFakF3Qb7DA8HcxaxDoMUOxIkGu8hHRoHHwg3Iy+tJBUiYRlxILYDqQO2FmIagxz/IXoXghlW+REK9BD5B9YFRQqSEH0NuwAD+0f/6gMACLISxAi8EeQINhcDDSAIFhdxGlwRuCHpKQQcKyMUJggXGRUiJkkyZzSRJMIsNiaMGm8NV/s+/aP9OvIj+6L6zvMu+IcBKgPsBmn3gAnTDqYmRBvuKk4eeh8qCgUGygMSHFkc+hUrDU4T3SD5ILsFTwqYEwQeZB+tCw0YlhaQDMMPmB1QFV8EmRgmERgMqAFSC2UTaAaz+TcU/xofE2IRTxAVHvMiAhcSBpIiXBoYJh4S8hjsGXsQlA5wDuMIMuq252zstPFA6Wj0SvLcAdUKtgASDPwZgixMMygv5DMSM60l+S5cGuEbXyIhHrgtnimyMDQq2Th1HtUMmAEyCNz/1gtMAwz/IAipHOMdLBH8C8YU1Aq/ECAZlR8/GiQItRmNJV8ZpSRiD7UQJhfbIcMwSyPlHiobqBpiEZUnBBl1FUsWAhO4E/oaOwddGxET4wsjEIj7sP71ApkDdRH+DjkY1A/pC8AKLhPKIwEhDRh2HY0d/BuhG54yfzRCJ2AowDV/LD87OCCAM1gueC54MiE8bz7pOqsegiT7HSocGB3TKc8zRTXsLH44EjUvMYAqSyccOXsqDyvoKowoxSs1NFQp6hG4IO8hnh/zGncdTyTfFykMsP17/nQIzQ2Q/p8GYBOcEAACw/uBBQIKiycUDkQVHwkNC84FRvvh/CUUQiW+Gg8SWhU5LeEjsBhCFigeKg70Ez8foBoJGVYOrwVRAd70gvMI5e3hI9y/3sHkx9Pn5QvwXP1e+n/nEvUTFLYV7RAFALwKwQ758rvj+eDm8BTtddv36237UgejHOwBrAEKHEcfHyDOJDUUVBqkFj4BlQLv9Df4Efc0CCIZ+AyRGDQejiSrINcLZwqgB00e9hn7HEwl3DswRvA2ETzjOaY3IS+lJCoh9x8uHxsduRO4ICYcSh49LDIrRxtnJdchoxU+EbUl4ypwIRUeGxAUAtAGOQeZBzkJBgB6BsUDofC9AIr6Pey14dbz/gga8MANXQHNB3AJ9/i/6Rz3Cu/B9t/u5vib6UD3v/tfASMF2QZh93HtLf099xYC+QXs9nLzt/RPBfgK3O+vE0oizibiCx0BdQM9Dzn0tOqy59r+uw4AGxIOgAk3AbHsefT1BVAAP/kZ55X2tfWq8bAMmAUDEGEGDgRC/uQX5xEF/d8GVgp4F7YRcxldHs0TxQs7GGERcxwhFjYTGBvoGR4OoPV695MIYwXdCpsH+hwIFAsSsiS1GHYlfDJMKQklwhtnDvETECutJz8nSxPNDA4ZCPgo9jYGXQgPCuEEpv3UGdwNXgbC9gsRnhYwHX8cKhgOGS4OFBMlF5YWNxInEQ4NgPzQFrwS6ApMCxsABfpg/mIMMeyh6fPmxvtyCv0YuAjEDkwb3RqCF3IeEA6uEJgLJADNFwIfPiZ+Ix8m5ykiCWQjfRU4ED4OPA3qBjIeEBWrHzQqcibmHywJpATbCOgVmhQpHxseYhYjBskDoPsgAqUX3AqmCdYd5SBxGWEp9ydmMr0yNiYAKW4hkxmoIswVvwkmEg0LOgd7/64M3P+tA3MPFBVMH8IQBg6vDUIOOwivKf8qfh9CM105kzmlPgkySSZiIlAQuhBQCi0KjBBPEVEMzBLyFxYWcCHPHvAEugAoCM4RWwwKA8wE9Abr9d//ivuYBjUGuAdFG9oa5xxdGGsf0Q2UBD0RFxcVG78a2R/hDi4NVh0DJSwImQ0kCkcF4/fX5Ara0NlD5LDeee/D+8D2GutO8owDPvrxAQMEtQC0C4IHCAXPAZrw+uwz+a//fvtZ/eIBbALCAgb+u+mr4PzviPH291MK3Q0CHYIW4R89MMYpASIVMzo3yCjOHs4YsSA+LFokLxtFCx8PeRW/CJsR+/7zAAX70OIF6cLk7P5KBo8O+BALH4EvzyiKJnsi1TEFOCI/7y6TJZkk7Ca/FV0Y0hmKDYAE2wJ/AE4UnyYtNJI7MkRLI6MvWTfURCA/ZT7yO4c12TmHQ2g7yUVWR4Y27yjAMNFEnSOpJ1UlJRZxJJIl4RFSJOIgKiixJlkHFBqsLFoyph/0IIgspCtZEqQbLiNQLx4n/RyyKNojKxroG0UpZSQnMRot0TZDTW9HgkrUOzlDOkGHLKEwXDY5FfsUcf5y/4b6mfVLDdILngISBkwDJgeKAU/ySvP9Ae0FaAWPAgYLqAl1+tcGrw5IB7jzsAi5B1AHMwG/9ef1Lu/79rLylfG1AycBIhPRDdURQxrWFy4e8Q8rDVYJ2w0MBF4FEA2KAKcTthXWF/YgAyFMFi/+YgWP7k8CMhFJE4n85QjCGC8ZoA1iBfQMxRaYGUwSPg8KD5wPWSigKvgdUBbOFv8UdxQuEs75AgkLFTQfdgrTA20U2BmtHZUbGR1FJEgasR3ICsr9c/vCAMH/GgrxIQAcchn1D04h3CYAAI0J5xhXEXwExwsiJt8jlSt4H9sXzBnWJvoVmiVrNNs6pUUoUbhJkEVlPk5PlUc6UVlQUE9tU+Fbq1W+SxpYPU/QUxFEkTOXRVVfCkE+RaxGmUhKRQc+KUZQSshOqE8iT1VkWFJVUjlL6lB8RXsrYTJrOS4qPyHhD5sfsiqFF40gMBy3HEwwjTDlIGIoBzp8TKtIv0GAOrM0aiYVISkhmyNxKpomGyAAK+AtEyvlHF41YjVaP/VQv0BySGZRMUAlM9Qftx6rDRALCBD2GUcUaxzaJ2YrSy1tKskVwSIfOZ0lrSjmK0g3BDpiK1ksSju2P3w/cjwWQi0/qD4EKzwlcjCAJbUXcRr7GlsQ6Acm+f8MXRBrDg8JEwld+9gNEwu0/lcZgCIDHCUcmxfPHH8jeyWUHwQVgPoW/CQIeAMW/JP9tRGuCswBh+0a61X65xijH1oY4xsEGiI2KTNUF+MYwAQ/AmUSAyUzDiAEvgKHB0ML3gEe+QIGLws2DIIF1A4DCr/qgPDG83PzKxK5EDIS0wzaDPkTMCddHcoPBRNmLMcj2CO9Ifgx9yKBJQoIjBG2APQEYQG3/hUHuve+BSgOExflFSkRkvrqE2Eajx2nEDwgOxVkGxgMgwviGoELvfhAAKcWqQbI+n0Ssy4hKUMlOS5KM9InkTBkQk4r7Rc4FUUZIx1yGIoOQwWlBKYErvF7/IILnBHPKcctDC2ZJI4wMT4zP6lLgWfeaFtOgTO4MWE1XSLwJ6QiQRTKHLEPFRvxDtcSXR81Gn0dNSBaI+wqZhWHEAAkdBmSKBErqy+TRLZSMkosSjdIvCVHLk06PDaNL58f/igdOGwtZySXLksiLC/BGIQJLRHdAPMABwiF/3gIYyFMFZARrw7uFfcDnhYaHc8wdBDaC00Pbg5dDxkWGwTYF8sfcB3xFT0ZszAIIXULuQ4qElAaIA3z9dX3rAICA54E7Pg0ESMZ6hnUEAAA4fy0BmoP5weoAcUArxDfFcf39ecI7ILsVvAD4Fzi+P5b+hbTkuJ52RPMq9Hl2OnkP/Gp3Ivi4fva5gLekfRUBMUFyPZIBKscIheoCtMHKhCJBerp6+7dDE71PfXA8vT5xQJt9g/5UxuxHQAYCiMzJx4Q0vjG6jQMnv4X5EHoSus+7APVetS05Rbt1Oqn08rrMvTr7ybjAOfK+srqM9ZA1W3djtfo0tLTQdQizYjTscJI2RrUTsgq1aXTx+YO4DbqTgHD+/D/DPek+twRZgCI7Ebo+eDx37X2b+GR2uHkYvbB42AFGQGK/a/2fOYX9PD+PPQf/RMOTSgSMA4luRoHIpUaHg83B4sByv0G8o/oUev46dHu0+AKzv3m5/PhBg70mwKJFIIj4x9dF40m7zESDIkSYCxWLyAfDSMeJvYjtR1bMUAlBRQJDzUScRCeEgb7DAz/GRQe/B2REwYVuA4MC/fyXfUd7Bjd4++H8Zby5CAzJCUhRCePG9kOHgz9DCAakB3qF+H+0xOlK8snjBt4F88Y9yQaEmj0+hTpGloVJA8iJD4kxBu7Hp8MVSI5E6UkuCyoMf8+1zIx95z1SRBSNCETAPaXG5chrgq96r0LeCLqFub7xQQ+Eq76gejB5sb7QAxx4I3i4fm5+VHlMNMi8JT8C9ZBzCnoq/Jj8kbVo8yy4NLlOdw51G/xTfj5+IQAaQAdJsAV3w2N9usA4wNi+CXquPSc8hPpAfGF9wPvZfEj7ObrJAMHAuYOM/F56bvyC/ZCEmQDa+u2/3L9C/MY52fka+GC7bvf3OMx9PnrTv8Q+Q/7OP2/9ZEDHvxR/8AA2fzO7+vtX+iZ7Hj4RfMW3IHzdw3fFZADn/91FrwUBglm6xHvNvP45UPYHtfF6QThq97JzBHc3s/4y3DdT+qw4ufTItE66wv0Qvov9GT+IQvDEc0AUwXaCTYN9fsb+sT4PgFU5A/+PvWv50jwgPh7+Rf7dPF2AE4QBvQTAfEOLRxdNloo0jHiJBQqjilIG+oK6gzEAzr4b/0uA+P8rgc9/zQF4g2GEMYdrgz6CJAMuwCl98X6RwZS8iT3EwshCEUCTQCsBcoPiA7K+GAGpxAwAubw7vCO+qPqIPdR/2gXChBwAKgcQw++DkYNu/4nDH8Tjvwz72sEYAgODcL8/RDHI6ojwCPUIXEm1yYSIqEoyxkyG80l8B+BEygZOQ64HMQS/gqwGEoZWhyPEV4b9B9XP5I+cSW/L9I4kzfFJUcI7h5OGC39LBG5Hl0eFxThGgkZzheFFNAi4iHGKHwOMP7GFMkpJSKfGVk3OkCJMTgPsx26Pu5WUEFYPCo+HSrCI4wVMyWeHS8E+fTCBUwaWxooKt8Pa0A9IYkAkvoBA4UHAgmm/EkQ7QuPBFgZoQtVE54VzxmBDJAQkwzWByL9gwR7CFX4/f8B/MMQ+f0L+5oGdgYpD2UVDyikFAcTQBMUI0gkJSPaFakIRQnRCz39bQxuFlz/V/hZ8S/equIK3gz4FO/C3p/w6vVcBAgCOP2bEl4N4QPK5Iz4mPPpA2UAoAkUFQ8ayRDvDw8QSgHCEx8B5P7C9634HOcd6YzU9/k/807qc/B67XrgBN+i9A/1b/hU+uvzLvNA/FMAb+9b5gvyZfvO7PTv3fEG/P7kw+Xd6Tj5If+H/Rb94Qf+ClYDDg5VBQL5ewgoDGP+dOjf/t8DOvzk99ACtwijCM8D+QTSCbITXf2f/yHrRu+r9fD+RxnIBncHaQl6IxQmSwyqC0cSHQJS9WEELABgFOwCP/q9ASQNTg9q/+sDsyMdDFntr/TL9K/oJs3D0xzs7vmd2pjyOQM5Ctv5w/I9D+UuzBRfABcQEiKsNc4m8B0GFMoaBxyOHfALFQ/CFg0a0iNSHGAVYCbOLnYgtikyMm8QlxTDDiYQZQsBB9UkiSYOFU34vAEyELgKIPDM9sr7QQc2EPkGPBGjIaIkuy6SLkhDoEUYMREtlj1ELoI4rxVDFhkTBg24CED5aP2t/PIA+gwpDbsHlQF3DHcKjP02+34FQAXxDXIrrgpW+mv0qwHG8wX3mfcPAqkSSw1hF1Ed2hgcIDIUjgpQC34CYPYH9hoN3QTbGdYkOCc1F7cd5g3EDcIQ1Ph8/x74NeBn5oHk9Ous9yUBKfvK++YSiw9WCsEA2wBgFFEWXQSaFIUjkBkjA172bPiXBkgA/AgzBuj7lfEq9dcBsfyS/F7/XQd2Chb8cvMFEXwOpgvZC1/7Mga1CRj2DPPR+XPrgNqw4Q/fx9rp5HT4puvZ+sv5//6U9evwrtet6zT50Pq97OzmwfTzAsz96vmBDM4EDft8BNgRVCgmG1cMlxaBE1wJPA7JAy4JyQmc/7jlyeQp5iHnE+N+9eL3LuHC+0L2TgOyEdT0nwwHBHgDjPT7+yYIghy3GwkVaTA+RA86DjvtLXQoYDctNY0xrDitJ84efRQvDqUEgQbhC+saFBxjJeAeUSYHGOwKtQUiDSYMXwSVDwId/x+GJ1IrkjlaJ7YemhsbE78ckRoSGqkkeyKNCaolsB8hEFQFyhZTEXYHnfI2AskBqe075Tbq2vxRE1EHYRu4Kksh0wi4A7wV1RtxD3MQthlDHc0dhwjs+AEOPg4aGF4FXAzgEBUULwv9AMT9ygIy78fq5PSJ6qvjy+TG4C3kne4q8i4M2gPx6LnrUwLNBh/+1+vm1SPuB+QZ7ujO78KxvT+5DsP4uEXbPPbz+FzyvviVEDMNzBELBP4D7AIgAUzvyvFI8ZW9/dKm4z/j4t4h2NXa1/R27zX+rgXDDGQV5C5zGgcnUBLvA+EPGQah/nHnvNiL6pHiM+pp6YPxxPh96+H+mwvAEqsN9wql/rcbEx2hFZYbVRgUEpkVmggt/CDznPpeAD/+bQpYANPrBe2Y6Uvhw/WI7hrtAulq9Q3mVPak6R74bu8q6Irp8/L8AUoHu/2JCFQFXRHEHGIHDhIVFk0LlgllFHX1J/vh8O/kZeDT15Tj3uuA5XfzsOR075397fVp7fzucOddBnACOemX+jQR8QqSFoYmZiKCEFANnQzBEVkIlw9eG+UYkf4N9Ib+Lvl07wn4Y/srCtsEGgluJ6oXMDO0JT4v+DOSKz4ulzvoIbwWHR+jEq8OGwLh/8oGhvVW6xb5U/MhBJkDighpHYkMBw0aGg4a3iq6HjIaOhbgC+0LAvqL9rH97wy5BsT/Tfzd9Q3q/uwM88X1+QSG+uD6EP1a+Qjtt/o9DBQDiPoRBwENMQCn+Wb2lfEX6gD4vfXU8Rjm6uUR17vo6uHl2F/YWNal2kjfke5H7dz01PQb/T0K1wWMCRoGwRM1Bt38RPPL+PsJTARl8jLvZwSSBz3jhOET+n3yFerw6Jfz2eaG3A3gIO8z/FXowfR8/9gBtfz69C35Wegt8gvT1uVk+5zoBe+54e7z6++w1DDjUO7p6WHzzPX68/fiXPXBAGv9GP/W6Gf0TQELBbAF+ftm/XUMqwO4CvQNDAa9BIAPEBFnEAEVTAxUCAUP6wsKDHMJWfHN6Pn+p+a6ArTz3vdPBNsCNgZVAjH4ePGf50n4nfVB+L3+yA6kDY0NfgYHB5AOwwgg/zcB3wg7FpElPB6aFEMavwaZBaQHVfoW+Z7oE+yACEIUgwK4/S8EFvyQ6iXudvkC8AXqG+Ao5K3hjt353/Lva/Wb/2QAdAFD/woBGfdh/Fv6YAeWB9YcxRJgEDUNXBSuBnQJNhFc/KriJPO08sPgYb4W0EHfpdifx/DhvelP9eTkYe5Y6xv3X++J11XseOdZ7hIF8PuK91nxEu6iDKwRVwf9/K4A0PpbBSbvjfak8LPsCuPG4UHm6uKv7hD6VuxA9tTxP/lV8j/qFeLQ23HhMeu+4kvoguT75x7/eP6y/5vtyO6F5QHpffGEAfgD5vpEAFgYlCqkLvMjNiGuHzwR0x2oBxkQaQv1/VUG3xwvH5oRYx0PH0sgDBhjIjEn+x/DH3A7PSYxLdImYSgQEr4bayl0IkYa3vlrC87/3AuoEBv56Qcz+oT0WPhX8s8HDA4BEb8I6BDEFiIWGRxUDSkM/POw80H2+OqI+WL6rwWXF2kS+gfrAtAciQ99CbojvSCMH2AL5fQ3BTwLEv4WA235JAyzAC/iIu5A7x4Ky/dM78Xq7fs5C1UPggcuCLoNxwh6AbkGwvgxAaEFuQEk/iEMihIDF/0ZPRG6A5YEVhL4II4VfQ87B+MI5BAYBOr+pQonG7kLjQ03A+sIvQfu+pMAUPvz8nP5UuxTBkQGLwtaDJoc2Cs1HNkMRh2WNsI8yy6JFlUuKS0IA9b7FRAPFzcVegkiEkssTBHjBGYGBBGeGfUGofVmEncb5SJJG9cexidlLJQx5y6zMCgxyhd3GggmkiS5CjoO5DZYH0Mdoi2tHV0s3iNhCvAQnRkoKA4sZRlM+7gS5BXnCocB+ve4Bz4WRSy6LHYuyTNZM/AvTSLIEoUipiKrAVMGqBroCdMLpwKaBg4LexHYDQYTRySmEY4ShgSh/tcGfAz8EsElExpHEYYNO/sUBD8D2g3fC8P2wv9n9MwAzuzZ3FTxjQz9+0TyTv4tBIv9Mu6O/zANseXn65b2k/h41ZjafO5Y8YkGGwVSHUcp9iYdIZUtGh74EVAh5BSxESoNgPz09yTxUOj25GfoIPj6+FoQDxA7EJYDcvskAOwOZCRyJy0rxzKpL90uZyzNJSQhogcbBYgJdR2iD0oDzfs1FCkOZxP7HY4UtvXy9lz7jgerFbv9K/LXB1YJmv+AFBwZ2g17FNcjcRNoDtYLzQUcFbv3Lv338c0F6Q1SFcAKVwpBCxsIKvKd+QHf188EyfbCRMIK1gvfgvYK0i/hw+gz92EAtvBx/dACgejy2+vuLAPbF+4Rj/2PDCoKhxe7DjoB5AkQCDn8Nuf26i3kGORU2DncgNhn4bbjBuTU7YLv1wKo8G0FJBI7A6v3Pg6/CBz7FesF8Q74ifUKBusF1AOpBosV4hP9FjYUogmd/xkXJR4+Iqgj1ik3MvAk5yO5G6YKhxeqDgoNvgk+CD0Gsw4zAgsR2gneCqYTBBxgIJYgXRo8EkofoCTVJ5MnQg9uCyYMbxDuEIf7Yf+rBsv/UvtS/JUG0hHoGUYTuhStDUQdjgtgGukQBw4KDycM1wUpA4z0G/l190vuR/vE+YYACwcnA/3xF/JWAZ4Djf1t/l0Fzv/77iTzsvgo86kEsgPuEi8Kihjk8Ln2pP3t/q/sh+ed4OTGD8ijyDe/bMbyuQ/CJMrhy2XYOtJE3ujnoN9V7hz5sfII7sXpN+857QDklvLJ9/7jPuRw3130iA+XC2gQkBhKArD9fPmV8noQaQ0OB0b3AQCN/Iz9gQhnBp0I/vdL5VLzrvSZ7MP5AwAG83f12PRM/s3xzvbU74jwMPyZ66bnJgD6Ay/5gvTnAB75jvkB9NIJzxCLElr8ZQLhGz8XmRPmDlsZrSFcFloLPRXWDV4EJRU0HdYa4SsEK5gejC2yKjojpCOaH90auxOXEGkXKiDyHSUw5Df8MGItXiWvMp4rcyY4LqYpVhbeCbT7gfmI8Inq2gGoCvkKYwfq//gEORh8Kx06/y+vKFIwGjczKbMvtCfYG6YcgRzjGmgPOQMwBRYUCBh5Ek3/rQPTK5gkEw6VEJEYrSDLF9EiLRxyFtkHHgwHCbMXzAQpFVkhYx4EGhYVWS6xQARBMS1XJH4elhXVA3kAHBkqHEkeriBwKHQejgzGC/kEqRCIEE4YEBquFKYGtP2DBCQJA/bQ9L3aC9he3DjNnsiKzc/Qkcbr0GfYIdJU5kTrjfTp6gLxm+ue8V36r+uO5rLgZOTG2VPS8OQh22jpluFP7/HiteIw5uTrN+c/2kTuz+pH77To2dJ913rG/9rp06Djo+0H7/vedt4p7LTwa/A484v1N/Hc7pwA1g12/4gAy+Pv7tHyqfVF52jnVvrECr7onOomA1cLCQZjAqT3BBfwCMH8uex66DviKN/t3rjQnNQv0lPTENXm3K/lzfLL8rv+P+za3RDnRPiK8EXxrORu5FHe8O9I5kjRk8sv3Eznd+g070r9uwiKBU/8vQfVEtYcDhb5HycS1QTcCnMMHvaQBToEevUt9K7yF+8/BecAG/snFD4XohbaF1YX6wnbCPgS4wIs91T3SwIBH8MYVxpiHX0VAhKjA+gBBRFI8zD7G/F+5jr3qvHd5pHeP+yq+bwB1BqGLRk3Px61HPUqdi9XIbUUkg9gBFjyD/asBMoDv/B14aHim/QZ/8H1RAeOHMELE/qGALYIsB36JpQmRCaAJPgimRmOHp0h3Q0m+uDtY//rBtv8S/y2AUr/JPiXBx73rwBmA+oGPQNcCw7xPO9q6OPxuP/j87T2nPbG7Czyxe6z5vrc/tJyyrbS7uFOyarFidBK2Y3Qx92n5MsNDg+DGdgoMRq/IYUf8xfbEjQKjRZkAQzyzgB//Fz5oPDA4cbijudA9dHtuvPH7+nl//Th5/LlIug15hXmivKFAVLwSP4j/KwQkgc0+SHwXPw/+ZfrxO9p9dnvDu1E55bTm+x84RPktdYD3cPgxOMj7ToCiwL0+ZHycuhG2w7mVuBT3jHd1toyyCfn5Pi2/E36+OAQ4y7j4+y19NzxdfWS8efmDtrh23rcweeh55f/XQS/CtEUDA2PFrgfcBjiENgPzBhgFd77BwAwBnH5efug9K4DjAUPEeQNwvt5ARQP7QNDBRsBawmpCtIA5fkO8SjzKQDW9CD42gfeDy4JEhvBHmAVnR8gMMg01SlVJ/Q76TwmNb0tQSP2FU8STxIeDwUkvxWHF3AcUQ9WFi8XqCDeM9Ix/iOqNcE45DVyLwoqDTxfRPY6w0o9Pp4uuhxWGMEcoASDDpMF5xoa+1wBQg93B4sI6xS3CpobTjV5G00pMSPLGB4VEBKNHtUMDwZUCOIXfCAxIfkReBNbLXAkSiigIE8ZLy0gM3ojCBKpElEiZxdrEj4PahBeB3b6jfwzEAsQuv8W/vcSxQ8YF4UO3QjRCiwVnRLVHC8Si/ilA68MeQ+uGGkD2f7y973+lPTBAL731PkS9mz1++n+9yIH+QP++PcNAxPAFH/pMPGC9rP7BfAH4UDqnOTI7aXzQPM7/i0G7RBICssTOh3YC0oJOwIr7kTxZeRT1ifslvrj8tcJ3QZWBbIC1PnxAc0EWwfQClsgDA9bE6UP0ApC+wkT4xK6BmkUqx0PGU4gvh1GE4kK2QS4+gHsffJt6u7fdevG7CLl4+sP7I3a1OWj43njrtPl5nfpG9Dp5Eb9V/Vr2rDgzf06BYYLRQTEA+AgsA1EEjEcFx4pGn8UaRlKGfMiMR68CFv3Bf0F9vDnmudA6gLrMuD58aMC2/WM6xDsJAlUDh4MVSBaGkITNRK+ErIYyS1LL1IxqTljRGw0pSysJ4EgFRZNAzEOEhvxFg4D7vqw8Fj3xvesBCQDwvtE+OD6tAfz/kn8be/p6kHwAO865RDxqO4Z8UzzKACgEhkOuhbpMeQxIBZYF4gRmRc2HVQNTh1dIogPEgpOBkkNeRY0DVoO7xP0EUEYSxpPFysv0i/6Kik5LTKtJm8dhRiTGDIUVQ/I/0D+cPp6ARH4jvLN/fMImxiFHLQdtCHLGDENdw1FDJ0SjyMoEdIHbPeH8q8HKAzSFY8gVw1SH7sUGQASAIH4Ug18ConzVehd6N3qm/U58qH0qPdr+cwCxPzp8Fn7Tfxa8Vbhj+F44X/qUOWr8kLqBOlw9dD6bfgD/FAKLf59AoP7kfpCAmUHef5oBCgVKBs5G/sVkA9iD4wWixIpB2IUpiOGIIUZqQnnDVACJO1j4VXWut/y2QXCPMnC38ffbsv30H7i0e+L5a3qqQSuET8K7wZeD7YFQPnU/9wEtvef+mTfze1j8PT7yvoG/uv8nQKKBVcJAAHxDIolDiXZCf8LLxLjEpAMXAd3BrP19epk6srtcuFw4zPkkeQa7Dn1fPxkEEsGshgUJLgYQSAsGPAOXwNvBdkPcg74CeoNbwCUDZ8Jag5nGLId1hcYA0nvTPUo93QBvvnO5afpyuFz317tiOwN/+P7rAW+/VUC7Pgh5yv+O/6B8ZHm6PIw+uf7MvKH9MYBgPlK94/4rvzKBLHzaPo48u7q0/Fx4k/kAd2u2O3Vq/ao583fR+8M9JcKGgTw/SkCHwaUDLn3MeYI5CLexsxtzDDcG9vv5tDnRujE7xj3Ig71DEUJmPxs5GfgTes3+BLu8+m28bvvL+qJ6pnZk9QG67ztJ+5x/BvxP/+VBU3/eBBiA1sBk/zcCP0HAAHG/5oHZP606lv7ePZDCX4H7fj76jX7dPwH9onaPNMC1N/hq9+/2yLct+Z03tzYQdI/29Hc+NdP05vrb/pD+YsGyxBJBXv8COCf8rLtjvsD/KXnSATs95/wA/aG9IIKOggy78nu2Qh4AIjk5NUl5+/oy/Dc18LXy+288MLlmuK4+An3X+3y98b/g/me9wL45PiLAXv6mgVbELv1U+aa7oDwp+iR5UPkyOUF6WHkFu/Y+RsBTPZ68x7tkODi4XHc3dn10lDQqMzs5c3Uz+B62j7lpM8NwtDIQcEEx5PBYcyT2bPhjeqs7/31cubV33LrR+k06VviqOpm5fbr2uS82zXrdvL46yTzyQQf8MTgxPa66333QwzqDpL4H/tq+uLwmN3A2bTq0O836aDR3N+s4BvdetrSzgnLJskqxe3QJ9rB38bhY9k05zLh5NTV3OvgpdAW2Qvbx9Q16c7jFenx7ZzvZu0x/1f8Z/cy97D4qw22/k3ynu+h/vL9mw8v+qkA/fKk5S/pQPnkAff2r9xu6k3wje9X8VL++v9E/+YBrRKI8+zzCRIBFbUJTv65EM0huCXsHaYTxBKm+nDxIAV7D0ru6PoWBFPspt9n3hHlZABrAfbtGwvcFtYHzP8H5ybz+efG8D78BgBWEmEAMwo6IzgoPBSqFfUnVydgEXEItAfMEJANmQaOCpURLABd9LHi/QBUBBL6kuiv/5oISvJ/8UYYZx/r//sRgh0rGIH+CvMMBInoWt4u61AHhQau/ar7JBK5+rH86AfaEtkSvu4H5X7w4O0N5ane6OL+9YT4Tf4U9AP0oPwE9qUADPTX5gDsQu677yz9EvyT7wnnvOOP7N3jIt5S+3YS9xEw/q3+wgNbCjzyXuHv3ZvKHMoG61HxK/Cw6Ojy1QPhAuzypwNHElcO1QSL8PX/lwe79RsBsQzUBwr1ju6U86P5mfXR+lD94gf8EpAHBATuCXsUIOiX5v/uY/1A7KfxdgBIABrznvtL9s78hwXyEskaByFiPOEkVjopKGUiFSwNKtwYpBXlBV0Yef3T+xj3Yf3H8qMDvwqdDpsCgfL88cP7fvgCARHoV90X5Yf+Y/UP4/Tsn/n6+jbsIecD+J36N+t+8ykEdgnXBe/pAO7O/yP6gujbBr0PjPVX7aP3DPf08HjqV/B+8R/ygvU882z0JO+c7lXtVveABOj+Nvwk87n6Nv9X5azngOWZ5ZHd5+Yj7IX1fc3s4frmPN8N2RjXbffNAlzvVPFI/9QF9+pS5DD79g875RbfqO1M68LOzN9LA2kEDeZp4PHlefCm2TTwU/akBdUBrAx1AzYCI/+J/IMInhs+HS8LrBS1EawQef//ANwRvSKv/OQEgBNdFwAMW+pe77cDMQ5e9UD/of8xAKbgn+2TDhnyd8b94nYIcwLh3XHg5g1CHgACExEqHYMrIid1LOccWBzPEnkLzAF480T+F+84/wzuMvse9HDmPNiz5ujoAurf4i3zwvKs7qzZ7t346zboTPvY7S0CcAhtFvcKGfod7p4HrxLv+SfmUP0nBCb+afFS/lkSag1d73j++xOX/a/irtfK7FDpseJp35v1ChKCByX9aPVsDab1Hdtt6pTvvuzO5iTP0vN3AY788vK259T+Ewh5B8P6xhDlD4gGHQFJ/XEI+w8XBzENEwxuDDgUCu0i6A7iIN7b29fxJvWT8+b0Fdm+1TXhxPZW/n4DOf9FGbkRLRap/iIIyRGxBzD6nfg6BncDR/qK694F/ADY65PrpQEwDVjxlPGL6WUF1AeCArPx4fBfA9UE8Pq+8KbqwuU/6G/lUeK47VUC+/JR9YTfvN5Q/KD4ouH25Kn/dPFt7KDjA/KIClkB2v/zHGsiPQk4AjcAfyFkIAMR8BCqOiodCeFk7Yz4APfb9VjZbuEp7TfXhszE0wjc/92w2nve3/JaARMSExEYBqgTHhDFCmsDRQyy+f76DvS77CbvpvEb82jwH+gv8hwJjhCrB8cFxgFdBM38zvYMEjoRjvzY/hALDPtZ7335Yf18ACEDXfb2623sBv5CErYKhQbPBs0OkQlDALEVzxL1AF8NNg+zFhsHk/oLA2b1vtyC5Ffq/fii9Zn+cv2l+Br5a+vU/A78uu3e39L3X/je6If1m/TS/CrnN9mq51Xyl/UD+/EO/xWGEwUi8Ay2+hMOxxCzCUf7qg80LnkVfAltGagm3zTbH8MeninWI44Q3Bg9IUwX2Q0n9nvxgdeB2UHXsL81scG5y8HktM+tB7Eb1D3SFMXexuDPwNqAyknS3c647rfnmd/R+x//NuT38DEHM/Xd6/nj0wLfDvkRABemEMkclxtcIQgHPgFH96nw8uti55ToO9RQ3J7o3OLB1prIesfh2HvUub96w6bQXNde32G3o9gP3/rv+Mc33nT8xfi/Cf0VBiXyIET5A+mhEaYXy/VO6aXss/+n+3HqEOpj93n5rfkQ9zcSDQVG8lz86wxhDZ4KhAhv/QYV5hJmFS8dARFTHLMMNgZFC+gVF/5778P4Ue5i+UP6efEL9HXh2vZM+YDi4tyK0cTYdef2zpTOB+Bb7ODZg8SF0DPT2tLTzPbplPjU1qPVgthp6a/bCLjN0oDrUeL205jcLQf3F08ZwQMGFdYbsgKxA6kQBwry9ZrgOOpV5S7KM+Wt6LzpKPI/A4YI6AILA2UDlQkC8l3cceAw8e3+e/Ok7nD8cPUT89T8G/CV6STs/ew16rvrt/U2+9nPXNrK6yXlIdBZ3+Lnl/lK/wX7ChTnFDIPWQK8Ea8iVxKTCbMRdhaPLY8TRwgiB1MUrCXnFSj1/vrkB/H2b/Kn/04G3wLy9svcFPIX7LPfdd6873zxU+pa3S3pxwISFtz5Se1/8Inyg+fb3gLyYv+X/bX+fQuXFQgamxd0DZEI1AoTDywFGQRe92n2CQ3CBkUG7e9I+z79cPakAkwBGukE2wvdtQEM/9QGw/uCBckd8x8TIikUpiUqKt0tigQb/DcDjhBUFkIJcgTMJ7smcRVYBlwRXBbnCtkFgg6kCDMA/PPzAMwW1g6++Yzx2PNp+Q0BM/+xDXImNST5GBooACAIJwQefSwMN3EebggPClcKngjz+OAA/AP8+k7sjvAxA3PtqOff3FHteg1UCwUE2iABPh468zEfMiM7ZDQcIUkkQBAl9GruNfq7D5MDiu4SFTkWnAE+BRoFvgktCqH41+RC/5TwgOkh1avslgLXBNX7r/6zE24UP/XS5Xfu+PBr2BXL1cudzA7J5q8LulfDcNZo6gjOstOS1M3aSOLq4FT6fAPs9zrw7/+YGEUU+wKmASYagAmx9obwGfwPFPP5lu7D+iosxwWE777VbOUw7OzbedTL323pQt1av1TDT+ek6RnQJt5+6Jn2huqP5cH9UgHQBQ3yZvq6/HEJ7u+o5kDwXgkbEzj0FuwsALMFHgwZA6UQbQaQ/XDyFOY05uTdyeBW7z/h48Q04ongIPGO7Ur9AQzeFQsC5Q3UKaEpVDB/FMsl0CV4GOb+TOsh/K8Wqf0wBXgL+hW0BIkF4P/ICoj9RwTbFYYdRSR0HsAeaB/PFxT/fP8t98AQCwltCk0IuSBTInwOQhXtGF0RZRSBCdQFZhTzCDcbsSBuDtkCRwt4JPMdTTBoNBEguSbNI48eOSMnIdAc5TArNGg39TiuNPo7pzY6J9cenRpvHrUYDQ6K/60BOAva9dz6jxFCIIAUoAU/AlUWRwb9CY4N5CH/CwoNoRXfEiASOwuCBg8OJQc194zyZesO5xLvx+R9517pMvP27HzbzdAf1qHiKunK9fHoIuqZADADoA5OFVwu/B3rDx0IpApdBl/5Rf6IE+4VIgt+/Wz/1uE74zXiSOU25NjPit+G3/rrGPUn7DHlzvkFACAPB/mTCM8XlwvEC60QMQxRBSEMIQTe9HX7WgLs+lb2E/M04qL2S9jP7kTn99+d4dDTtOuj7O7kmvgSFLYZ8hqHBR7/kuojC78DJwVSBVwJWBrvBaEK4xAsGNsJYgaL9f34JQGtErkVPRqnKW0mIRTbFrUYBwcnDKsG2xT7D0MKCg9dDjoQugY4/3nyBBQyG2QFD//yAnsEnAPeAqgcCDa5NcAdUx3TJFka8f9OAuv14P2IBKgE6vqm/X3+MvqS/cboR+4R6gjpcue74o0GPA1X+1ELvxMRNMgsniqfPTpJ7krfNJIk/SJMIk0ibAZiFDkXxATc9Xnth/J/7d/VyNz/0e7U9dGE3yD2kAtQCNoObgkLJ6UbeBkYDaMPixLlDGAFgg84CrIKmvkS/BX+4AOd9Hn9uRCuH7cvuyyRI/oggxF+G6MityfaFKgg5x3NKj8m+Ct5KeIcdxqiFFoWsRObH1gimDJPQPI8zzUWM6EzoxxQGm4Yexq6EWkbgCHdHAANOhSKFBsarxL6E2kf8Bw1GJEORRmPLL0ePgxCClwVbAFREJkUbBNTLEMa0xG2Jr844xtkNIAsSimcLy85MD5bG7kRPRIuFhgT6wZ49b38t/3a5mXmWP11HJsSFvN36tQA1CI1KL0HswhrImMWewZ0Gt4hhC+tFqoZdzPAO6IppyOKGWUUMBNIDAT0P+j89zUAuPlX7w/9hO9g7y4G+/nI7D3wXQz/B6QSagpUDRIKxAYM8BwAfwskA8oHrQZf+VfsjuFs3nrzPvLuBT8C1AB99lr+PO8n8svpJeVd84Xiedb12cbRAc15ybfQUur++TT2bPVz/m4HEQ+pApoElO/k9nropOxG5RzqH/Qp8SjskwNX5UbfL/aoApX7jfMu+Bb1pO4U+O4AWAgZDfbs9PbW9qkBB/jC5hrwO9rJ3drhFugK87Tpc/WfDakNSvHP77YGOiQ8JREqkCSEI74l9A4DDwgFBAgSDw8O9gtLBG37QQQLFZ4W0B7FEXIHEvg7+3H/mQO7FeMYxBs3CO4eiROnKN0qMy58MesbzhH0CK0MqgnLD+EIGQW8A1L/OwEQAaP5WwSUF4H9dwZAAb8U3w35ETkPehJdDCAK7RAnAiP+jAJL9Sf8HfLZ+dcKVvSO7xnqi+zX/fX6X/W39Wbuu+m97abl4ecA4QDxDP7dBOUVfRBRDb0QNiclMBgfNCi7JtMoah9pFbkmeyVxCxj9jAVvClLzRvFD6s7smuMS33H3LvOT/ccRrBXjIJMJkhqsJQwdK/rdA7D2GQMW+cL3++zQ7+nb1t7y4ijjr/d6+T0BthZ3GKgbTBLcBy8V/BpXGl4a1iltO+4t+B9LLI9II0ApLm0mLxOWFRv2PQYRCP7qKPS3/936j+zY8in3qPXUBGUCDBCgDs8XbQXp+c8kxC2aKC8Uag1/AnEBxgEN+ybj5PHz7ijfe+QH3QPuFd1fzcnQ6eEo9I7yMgM/CtcXKgvKBf0WnRq0F48p7CYKNZMrQxyEFGAmmRzZGTsaRwy8DqPuz+b04NndEdarxprJi9fj34rl2OPO7+3zH/8N+IkO0RSELRkX7SGsMSglySIWFJwL0P8AAI/v3e4C6NveZOd86g7eA+N+5Jfqw/Yg6nf6UO508Or4dPnRFqcb9yTyGFEkzSRhNIYM2PwNAiYFgv6I9YcDdxI7Ep0PJRMaELQVERRJFj3+vPW4AdcMxQXTGoET2AVGGMAYEh68GNEKEwk4/RMEnP7y/qj8Fv+3+afx+vgC45n/rQQH8zbX98vD1KLKSc4g3aTeE+Fq5ujxCgmDGdgk5BI1HWUs9CAmD3gY6SmVPw4szyzPPGc5WDIOHMIO3hGsGU4Jx/J9BJYGpxKLEPcGkAjPDA0X/yUTN3YvrzT/Rvk7Bz46IDkp9TOvJugUFgE2+JoCw/h39yz/dgbCB77+RPNh7fTqePug9ifhbN4S5Lvn3+rCAJP9EPLBAR8NPAWyG3EifCYPHT0ZQyRiIfoHqg6hB/30xfq8AXn7ifp9CqoFF/o89TL0V/vdCJMR5Qy0HAknXR7JF9ohphIFFpARVRFqFY0K0f47+Ozihtt50xzkHegS+pr2KuyB98b96v0TDXMMxw/zE9gU4C5CKbwxUD+sMVsyzh5iAqj1MvSD7BnnVuvR41LXeN5O4ADO1diK4gLarN1/5MDaj+RV8+wD5BOvD5EZagyaIp82IyI7I/Mh1RvuDAENWRfo/78VIiL4MuU0ECMnKWMhhfyy2K++Bsf1wATbdeKv8jr2uxODH/krmTFQPfcmVjJdKNAYaQ+sDmkbJjm3L60g3iFtKY0dOgcY/JrwTAAaAgIOA/8YBpgObRjCFpsViyzcNM8qlDCRMJEg0hNjFdkVVBCw+xD2ivGW8RLjcd3U+isHBPgh9Sz00gLwALIjCDWmOco2Dzn8Mjg83ioxJrUqliCWLR89LUcqRzIuvi+VNOQqKiR+M1U7HREME0QLLvoUCnEKHRG8BncYiRX6FxgbDB/xKPY0uz+uP5ZCKUW2WZNYVUNJNbYu4BfgAaP5owO5/LTzbeIE76P+qeq67ov8yfy563zpxv2FA9wGNAk8AnMHhQRzDqoVNiRXI6sSbSU0O1c5+iVwOgFU+EpwRLw6GzozO983cilwEZABc/hg8XH7geN+2uvpTvL1AWLzJveF+AAVJgjB6+HZPfHp88YAC/b5/WAB0SS9J6cStBIID0v6NPZ3/5T8vPds7QkAFgeg9QbtNOxf96/+lfk1C4n2/Pml4+jOQNPy4djuQt/y5F/rUvqQ/C4BG/uV9wTrPvw0A578xOuE5THrT/PT9aIL4QkuBm4AxvZK/ezomeVY59bhme4h4kX3rh4uFJkQECKnERgTugq7BE0X9SQaImckdB7qLlYmyi1JJ+oo5kB9P9Q6cjt/NXst0CSFI88ZbB8lGCIYLi2gJUccWCZKKdgv7x0wARsKmRjXBIMOmwEvFawmSijrKyorQDGsL7MyrjbrLtkxc07JUBJHW0BkReEvOhywIfsdCxflAIgMIwxLE/YBLwWAAeb9UOJn9lTotOn278znb/OH95z+m/9KE68lgzEtPHxE6EHuSRg9TDeSPFoz2SUkHbsbewPzA8L/R/AE3AbKU83fzGDZMeLT3q/thvafIsc4wU3FW4tPjWE8avd3bWZGTQ9O3EiWNKcicQ1O9EoCKvSZ7THdpO6l+CPxKO53750DzPtGDx0T6hQ+EM4CF/e+FPgQ5Q1qCKobFxwIE3gTpQTYCZr+3u6Z9JTqKOaw8gDv1epY58vwY/Ui9Ybwyeak5s/bze+T5x/u9/Kx7Cb1IwnhLxkdLhcIFL8NPBmh+934MwUZ/ej4+OQZ5+7WUt7pxNnSis8/12/fIN2k/8gYjieeHw4pXDjIIzAXdQiHAg0eqQ0d+KrymfkYDgTxpu9c62r3b+/24pDZIOCW7rvkvukF824Gjf9G+hgERwhP+owGoRLwAM8PKBKAGU0tKi7SKfA2KDtMJM8OoBj4HWIYii3eLG8TKgtGEyUiVwET5pPnlA01+Snwl96G5RL1/fEx+y8GzigRJQguqjNQQWM0HzQnPH04vzFdGLUhsByeEGcP3wpS/NYR+yELF1oGExavDiYZ8hzLKDkz10CKQulPC0KkNFQt9jpzL/gzI0RXPZs+3zppOeYlKiVfK2s10ytJH9IZhBcUJOUevhWZA2EFgSOMKPktuSgwF/cEEwSXELQZJCi+Jd4paS+AKewR5ALl+GgJFvdg7ablzO1A623uod2x9unlvOZS4uj24v5q+7oX5iO5G0AVAw9ACvDz4v+hCCkC7PET85z09QNyCfkE5gaXCr0DgPdrBPf+JfJLBLEHcyorJQUzcS/iLiw8ACvgGNIS+vee6THjOOn5ygfZc9VJ6DLkROGd4GLxB/GK+yYEHvUq/g3/2Pg0BiL+nwB2DxocpSAdDKD+Zww6E4//Z/Qv94UX/B7kFo4VUh0+GTEeCRwTIFsNu/8S8FrxBOOu5+Lbvt/Z77n1dPy1/2gK7yI0IagaaCPmKkAnPi2WMa8wKi8lIPAb2xVc76ngHeEQ4bHYS+IG78DyfvLp5QrsJvP39av+Kvw2BvAFZgvjCnQSFxPRB7Hy0ANeBDAGyfj1CEYMIQxNEg8UUBh3H+gomSqwIO8ZBhMrHsckVBDVFx4ZOxXmIWAiqhi6NUA0RizdKVo6mjRJMB4dACKcJyQedBW+Fk0mIxllD8MNSRdaEkgWtAgc/lEURRQuGLUgJDZaMtAgpBVVHGEbNQ4A/NMGaguoA54DQgQf/ogXOxpfL8Q5tTLpMkQafSPeGK0n5SsZNJcx/TNzMQ0zzzYkO5M4UiaXHhMncCCOJPMVWiWDHKkOFQkJBer3GuQi66fcENPwzxnRZMlw19HfKeIA7QbnSOJs51TcPfCB5e3meOXF5bDwdQGN9jTywQNPHYQZzQ9tDXYFhh/ANzZFLjoIL4EezAis+h/zatSyyhG4Qtbn0kLc8da00V3lKdo77tn6kvhdDSkGxAY2AQAEP/tWAGL1ru857q3xvPDn/TXmCOAn5WjwhQW19GTkXvXD8Iz6HhkBHO0SAh5+FsAbziHVH6IbQiQDEbz+3fz96o7vQtyF4xvjAObc6Tbuw+b455wAXPay9eTzVwC+FGYSh/qJAoAMIAcZ9nsWHwev+aXjt99c3aPwferm3tvdNfhD82z20OiY5U7uPf9b+3795gb9+3z2sfboCsgCqQJcC+IimRj4C1YWsCksIHgn6xpuExkQ0ACGFMEH4w2DCUoFkgR67O/lEO3598/9TO3L4z/zOAKnDpga5B4wKwUxfSr0GXwZDgD9BPT4teLM2f7UsNT1z0q/eK6/x//NAs3z3Dr+kg5JDMgeIBm4HUALagcD+avzX+6G8kvmWu+q0aLoQPRw9zYFHPH496H3cfQVBzQStft8+A0C1QKW/B76LwM4/pv7z+7T6xzWIOIF2TXmyOXR5ST0CApX8cTxqPZ++k8DRPnp/RzlTtLPy0XDBrymvXy777SRv53ISdHizz7iNupf61ngq+sY6kf1twObCVEIbiRKNGUtFiriF7slTiVmI9sWIw88AZL+4Pgw/U38L/0nA3b3duJY4m3qZAi/A7n4fe89+0wUABxaMPI8djCdOLE5Ozl3MS44XjftJWoSthL8BswcNBxuH+knnCpNFJ0S6xnQDrr+AfB7/PT0Mvko/Qj5ivw/CFP4lPqXCvoRcAnSCwIElgK+4AnLR8y/zZLiCtq52Pr+EwDaCq4P8R4WJMIlKTJEF2oP4AlYAiX3s+3y4jDr1vQX/Rn+lwUWJGYn8xnaDdwXciK5ICMyZ0GuOEsvFiDbCHz4nfTy6QzeVdzrvni97LeTzifKZM2A60T+6fgvGG8wKyAwKToljAwD/6r0/++g37vnLPBO50DM7dZ80RbZiOdk+RXuI/JU6XbbR/+vF+4ROQZLDFQjByKzF20FFRP1/uPZ0OR45mDVINDnyujf9OVO3hPtyvgE9Z4CnwI1AsgEHAMCAqcGzQwyIwET6g/k/6H/qPTN5wPoYtsFvtusSZxNht+XmKHrtTm+v9A77jP7AfNP9tn+6gikHz4JafKR98kHIR7+/5UCUgDGEEUh8RYKBoX94OLD9IfZHeG320ff29fl6sD1xOql67P4LPHx9AsKWQKK/dEAVgVk8NsAYAVaAVUe7xxdI+YjxSRoFF0KpQTY9ynysPiY+BvbhcmlzXPIVsm10CrZSev19zEBkvaM/9YABwwDCcQRsR3nKx8fCyrPOaYlHREeD3QAHvT09Kjb0+XX8Fj8h/yh+aoQKCbFLlcxkDGZHp8rKRxrE+sKWQhvAh4BRuVv5VXlJfoYCOAQSg3WHwA0ESTbBEEhiiGvGzcbFzZpLrg0vC1eKkQu4xw7GCsNowCvA1cAeOrW6fXvw/F27fD7VAlkC7gC1wOnFw8U6P6E5f/a+O1t4xb2PuLG36Hoqu30+VkKrReMGlUqejJuNjYqNSbjE9cNKgqBA+Xz6OVf91ThbdPT353w/d+r4JnvrPTeDdsMKRrdH2oQqBrRIYIYzSNNJ3cVzgtf7sHhI+LU4PnwWPT5/XIC1/UT6swApPnHBIQXzw3//r787RIZKzwnHjyhT5VDs0bCRSkxEDfRGY8akASp9pX6Wvdy6Nj+GQFHCY0HehlDDaD/yt5G18fa4NWy4iznUvER+tcTZh97Eq4XCSFyLVEWtAasDDwNDQ3fE1gIDBY+Bhb1mABxGvT95vXDAqwH1wW9At8E8hUIGdgcfjGcOzFL3DWtQEtbWGLdbDlWLUgvONAqSCCIIf0WjxKiE0od5BcwKy4/sSpnEY4fsh8eAy75+PgYCUwUhwIEHYYypEiVPhw3njzhRjAtvTUiF7AWhA8RAFD9OxBwGR8bQxrgGCgiCiWoLNwt3RwUKHIzFzANHGYfzCErNy86nj2sNuAbxRlwJ3clGRrQNAsyjTm1O7c72zteL28fcxivGtIhjS0nFU8DtP6G85b5JPlD+dj+lPE+/bQHFwg+JlQsvDJZKw0rjSuzKx0rXSBvHwUeUyCDHsEgNRj/BRv2uPlJ+Z0EzQ4b+98NkhgYJiIqfirjQZIp8RfhCt0T1wfz69DkVOyb0/HQ5NBQ0nXZEO9E9Y7xaQddFMYX6SY3JIcDNwHD/6PuUwFuDwwOx/hN/Cfhj9aH19LG28tT3nXiucm5y2He7fr07H/zEPMc+Dj9hwLZAUIXsRcvDe4EdBABBpf1pu2s9uYVHiBjM8YrSyreE74h2EHVMjolwx1HGd4f+RyyFrMoPg5zELMLwfpYDx0MggN065XvaP3ZAS4FKgclBI0LKiDDDtMBtgU0ElQW7RBJCIv8Ee11+n4NQhhXAJb8tvmAByoFIgnLApYMLBqfLfMsSTbaUO5EJyV0Nbs7UCIhIpIXHQ7xA5X+E/6xCwwBxAs9ETMCZwxTA0f8hO1Z/Kz9Mgg5EakQzh00L8wxZzIfNwJEej1bRWY41DqULUgYaS/uRrtKbjKtHbwl0iClGFkeyx55DQ4G5+cj6yvzgf32AYbxvfbz+BTYTfKX5BzjMPXm93HoF/bD8mYBvA2I6NvqL+Sj5037av2x8OnvG9SZ4IECCwvQEcsFjATd//r2rP94/HTvzu7x/YQD0gH/+JAcLBAYEpMY3SWTKJseQynTGaQXcCW9D50DmQC28pjxC911653oOtAjyd3DmdVF2PLXjfGU9aoD7CgaKHgnfyK0KDAdxBKNBHzjYebU8in6CfER62Hj/fHx6Gz0wvOL67LvKOIG0Jneb+eD2VroNwHgDnYDQg0HAMQH3e7r6lXdPOGt20DF1chw2JrHQdP75qj0SQpdFukQKAQj/4UaOBb7EqIT7QOhCpYUbhEtBiv11vykADHs7OOT4XLUy9TN04rRPOFVzXvWZfI66KEAnRFvFM4gCC/0ICwWxg11EV8acCM+EEz+LAf9AYsHkPiiDIQieRrdGvwiBRaFD/EJEhG2Blr53B1cDH8MvRJ9Cm8K0waLDqP7rvjw/B3+6vYqAQ3/SAUCA+X7ihDdH9wUlBPVENsRmwJbE5webQtMCyUNGyfRD9H/0AV6/F8E8/pD8br37wJ7CkAT2BFHF0knm1ofRAMuDhp7GjMK1BFyEIT+mwY78fblBMlc0Q/k8deK2d7eR+Kr7FnhG/5+9DQinRAQDy0OURS6FwYXtxieCbcNBBF6FiQUWAkCAJj6ogIV993gMu9w8Yfel8si3PncK+FM1VLjkube59/zNvAiDD0BPwktCEsQXQm17D/lGe7D2RPVPecP3gziKe8m9+v4bPqk+Tnvod/P87vw/u+BAlr31O/M4zXel+teAwYXvhZ0F+gR6/utBW4BYAku/50Bv/Q45CXraO775Nfsz/hoDUILYf/1AeTqaP0ODQoZxAvxDO0aSiJ0JrUoMjNELZIjQRnUGDcf6RX7CSQHjPnW/FoDdPoa//n/ZQif/WYKaQ+cFJ0XoQ/8GDYRWxg4IP8WeRzjDZsTOBuPE1sLMwOJCooGngPrAUL9ugIeBvX1WeaE/+gQtw0E7c/prOLc6rXviPLi6Vzaz9PUyRTLUeUe46TwbQN2BqoRFhZiG3EvFC9cEpUE0fXg+JDqcPuqD8392QNa9pz+j/y8/2cCD/Ts8cjvY/T39V/yAOUp9+EKxBTAFKf6fvrrHqcSTgp6EnoLCO9H1/jWyeENy8/KXdMN4hnn3MMm4I3b3PpbAEYOAA3SIKkugzBvPB9ArlWcSwA26SafLWYiYR/eF3IXahNnF14LghHjGuodwiqjJ/scpwBDBYQRfg5UI0Ie3SDhI2wi5iOMG5f+oAuDEboEY/73BOTowAMY6oPiWuJq6GTtbNkQ3z3gPPSQ8tL3u9/t82H7PPlG0K/Sue1h/mcHyBIJJilFFzs9PtI0tyPrP5IxFx64EFMcXRjBE+4EVw0vCIQP6QrOClr//Pc+60LjGvJ4+x0LFAlFI7QjSUWkPyo5TD15Qn04qi+zI4QE3g5aCCL/3v4Q83PW0thTx7rCO75rvzbOx8dYz8/lyff9//QHCRHNIgsrRzgDPC44wTJiNLkaKg1TFcIXsA3rFqcj5AxUC8YFPgXmCFQGGvfx/nfx9PBe817kyv72+gYQ0AeUEP0YfRgSIsU7ujHXHSog7CZVGoQjhiOOGRMV9gKS7LvxFPIt5Jnj4NzK4uXxBvXu5qj4IQmID9UIYxE/ImYzUTtRPCA8tkMgN1s10zIzInwmpiGkKCcm1SiBGF4SkwqhFKYRggp3GcAIIQ6/C1oD8gbBJdIo1i7oNYQpXifmKz8I/QN4ACToGe108Q7cWcwDrcDJR8xw3o/jYeXc/FsITAznJD0uMCevKSYqMxwGNLIzixcvGW8aIhVPAg4B9ABs9PLZCNT/25zRZuks58rSktam6ggGARpcKpozJDt8SptWXVTIUcRHK0DdJs4seDuoOgMnzgHs+LcFCvuS+sgLaAf9/qP/gQTZDuAWPQuzFScc0RCxGWQgwys1NJs0myYcKRsiLTDRPNU7PDS1SMZIYDHaNAUsFTi/L5gkPzECKykglh/aKQMiiR7iEeUXNAbiFUMLpgSZK2EnOSUcGzYhcCWGIOsndzdsTgpMBUkiSutWzFzFUJ9ZHFWFRgA7WS6ELVwlPw+5Ahnhku1N80L27Oik7ZLs/eV/BVICUgtm/7IIHATdJ6Uv/yRnJG8lbAvSAX/58+2a2zj0GvCQ3SXmMu6S4TfpIvMl+Ln05+ez7z76d+Ou80oEVgcJGoAwRUY0RwZVwE64SuNEcknFXV88OTGLMsohcw2PCkn1Ku/lBcz6b+sI3tjXFd126m/6u+whBW8Z0RUpI5IoSy8TLKwjSB1OOmY70zfgKgwmNkBNGFcT4iJ4F+EHHxh4HQQViBxTDWL85wQTBEoTDSQFQJhFuEe+T3g/MjegL/AqGC0hNONDXDthLH8sbStPNrktqAQxA3f67fAq7wTu4eTw1tvtC/4+DNcLxRUSIiQZFBwrL305KzKbKOQmxTOXUmBEKk/fZFNpklcmU2hX2lWDTvUt3iq7CSH/a/zj8BX4JgTL7/3xgwGS+a0Hv/WzC1ES3TWZT+dPxVRoV4BY7UsLZmJS40VyLWMoQCnxLm8aFBILG7D6E/dN/HcEHSR5/SvmkvqLAL8SBQlPGNUwMRj9DiQRPCmmJmUoyxnPEg8WDRu0ACAGNQDs773zzgdiCZEKghYfBeIHmxWdCf4WWCg/MqNAaDU8RBosAitdKRcXHCGOHOMegv+NDjH95Ag8BvEXsiIkH80kSBmwH6AfN/0d4WEDSwUAAMn2gOie6iHiQeRQ7NrhPdZS7NzOo93o82X0bwGd5y3y+u8VEBEruiuwJGshVyQXKNI3NSkFLWUsZh4ZI8AkUiWtKa8hWSIMFrMM9ggrC0EhPxi2IrkrVDHtInZIYTM9KzwhFg3ZChkXiBWiFkMK9ff3+0b8pfU66hXmge9V7xHxc/tS/SYS/BJZFgcd3x+0GEkPYSsMKBEy5zRfK18eOQJdA0H0rf/8GWcUAhj9FZ4SXgu3DhsMBBe7+4TsJvuDA3IOyPGeC50UMwhOGZogaDqLR0ZMc0EKKzcx6SQ2JcQooh+rBIUBWPff7TcBvPcL/K//KwEUAHQRuCb4OYJLx0qcRGA+skiaPaNAWTsSHOQfFiefKtcizBAmILccfQZcEEseRwyeIKMVCxPfFGInFyCfPbFNQUUrS25C3zGkI7wcviK8Im8a/CRJHoIZAQf6ArXx0Ocr7VLsN/88DPITFgprCSEUIyNVOrUzpkDKP3JI8lKdVO5CRjimLRwPBv3F4OjPgMQBuC+6Wch11gbwgQYcCPkZWh9MJ4siNiJRNMQqyBnULKMw1DfCO2hTf1i0RutALCAzH3gd9AopD5cEeAOc/NHiaNcM3gHkKt8f5FPw+uu23zbek9529kYJohNrEEsgtSCjKXQvii4sI0YjnzAOMW0nvCWpHA4pzh4OFD8APeSL1XXaK9Xg0RncC+Yn6aTtEvnTAq76gP/FCe4UchtuJ4om8iYkJawuMDi9QQkxfCy+JbQToBhGGlIPnxi+ArTuc9yb6HTSgdLBzyfcPM4V1drciPGk/PrwP/Xq/cb30QeBD8MXVSjQOPE3zCH0DFUCUwEuDlwBAe/W4IvjY+2T7gvYpeCH5pflb/qA6sfav94z6zrx8+4k+AgD6QKvA4EOIh1lEDsGIR3bHYMP+QlWD0oN6Qt3DesO3xE7HtIF/vkb+Df4jwKz9I8B//dsGcEXQSWTL1UjkB4NKcscJiOoI8ornEL9Rlg7ODyyQQk5UTp+KTssvBoO/zD7DPS1Ah7xWvbmDoUNQh4yEX0zxzKvLHYo+i7dR9M/4Tw7TGZHQFkxWKlSLmG3SoolDxZDIAkYdBvIFzcbeRjdFBMX+BFxHLYwmyhoPXE3aTpMJEctOCcBKacZ2AOmDwMY6xugEFARYxdFKg41ZUFbMgMoeSrGE3YX5xqCHQcRevpS8VLuze2u8rH79QIS/VMI/AobGxcoUTMCMHo1xkVYTgtNgV5fUW5KEUi9P+5CEkSjMzcqPTCSOyFF3zylIIAYJRx5GwYNJPj0D+sHqfT78HEFhg0cECkjVxwVMdBLnDjuNTs+R0rSPqcxABsFE4ophS5mHWIlChHvFZIkQBnNBb8fghaUE2AQOxGtB7ob0SVpISgiYi0kMLoxDE4cT1hNcjsNMjM7kDYNJ+sWlxNpDgYMWRr4EqkjFDQkMto6aElVRfJGsVF+Nis1BDV4NKAi1RbpIOcjtCCXH8E8Ljk6FqYS9QXe+QkOLhXaI14w5yhwKAARYg4JGVYphyfqC38QxBTLIjwNOQzVI4cuBDbZHVQm4D16MFss5zebQU1FQjneKSoqUS2WEyQXDg4UIbsXUSPGH1gcXhGCEuwdhiBfNIhDsR2mGmsqtyaKHoYMagFBAdj1++jM4bnsm/ZQ9/X+VRJUIpM3rCjCI4whXyOrQo1EEEgjTkBUY1m9Sb40sUw4REI9nSIfIBskWxaNBkELYg3YCboFrQ7ZI4Ea6xbhFkEiIQ2zBe8bIC1EJ8keVC0LInckXQ4Q8oP1m/QaAYAcPiOCNetEkjy9RGs6UD5wMX880jsBL2A5aEI5TSdNHDsSLagwTh6CGjkh9jPILXY8nD3AQTRTkmJLYaBZbk2TRVdEGC3cJYMOtx9kBfjy1QPhBBP5VuEo0pbfDeiW8M/+tgAgER0UeSWMPVNS4UrQYK1O4UysPjNAkjXuNdYgDDIUMeEm3RIkKWAmPiFCIwM0hCq0FtkGZgSVGlwPCRjVCykWiS2FOLs0HBp5JrgxySV9Nsc0OjpiRR826C8QNKgWF/7ZCIkR7BGRInkYPhIBHq0bZQO8/9wInw0AFvcg/Sm/KX8y+xWhKTEc0h6uHgUaADTBHLQHkgcyEgojmCYNB0oMqP3w/K74Ffz8/tb1BO204c3Y2MLTyCPdbdK+0DTbPup76ML9iPCz/sogUA6AEe8Lww6UEMUNSAOo9ngECwfd+sTqcu949nb+VgWF8lfsNulf1tjK08bYuGTR9NZ6zLfEYsZW0w/Dz9QI0W3PSuBm9hwAmQvWD58LlRrbDCkLmgzMBUkaUwx1AlgBjwGTCPQCUu8w41LO0d502Pfp/u/48vfjjvw+BZUF9wXzFdIbfye/FzUMMQniGkEmvincG0YVrhDDI0stihF9CmsViRFKAdsNyglX+3rvueg837zlevOY9arxiPWd/4D6FQW2Ai4C4AGG83IGwQ7G/CQcmxZ3Gw4beRLwFiMLDBgQKskW/BFMBI0hERoBK2soHyb7M/k4tDcCNFtCWEL3M34xiD11NrQxMiYCKSIuGzMGLC8smCOnIw0mXik+J/obPBUQEXckNCXpEiIzJCXJLrIzWyMUNDYq5S8MPu0YSBPGH/nzuPBX6qzujgdbD/keHyVRPMA/rkjgR1wxfyo1HMsERwxo/ED21ftH+Enxa+a98S0Epw68+msQzh7eEZ4bkiaAP702NS6ZIVwhbhkxMF1FQzSuGR4omhzCD7v7jfjB8v/ySfF/6FPnNv4W8xX3S/ec/ZT+GQONAzLwwOw6/7sLLh9QL1QwbisUMT0lqRQSG9UaLQxhEIsEB/sxAFTvN+tE6pPklesP6trr4vi6/cr6yB2KDnMRzhwwJwQtTiaLKLQiWS2BMdAxVx2ZCroJuwMTAa755uu+EpgU1gsmA/wEgAIUEOoP9/en7aH1K/wn8QsS1A7rHnM29UUaQ5BCRj8XPAdEOzMTKt4hgylMFmkM/QAs/tH45fa4AcrzcO4G+RnyNOhR+hoEYwIm/0EF4wsCESUTrAoaFKYSMxWOHForaiGoJZEhPBtDCS0Dqv2m7zIXpx5rKsobnhvuE94WrRGsC6AEAwlSED8YehCREFAmZihsKzUpJCNHHFYUjBm3JI7/JwQT9rfuSOhs4nj1wvr3/E78AfyM93XkA/CPDHYV2xtuDJP7lg/VBYYVARAxI1AoBiWXITkaTB92HD4YhxI1Fis2RivKNTQnih4WGbUZkh0+F7UPqCF7EsoWNxVdEhMZcAo8D3cN7Q6sBX8Q0hQk/BT8/v/WC2YCn/a39/nuy/Q3+eQBtwjBE6oc1CrSHTQyoS7nJGwU8g8dCyIKI/xo9C7oJOSr20rnePBX5Bjpn+em7sDr1PGm57Xy3d057vMBfPVFAeX2f/8yCnARqhQ/B3MYrwZK+6j6EOio8HcUogUQB9sTahllFjsaQCkxGkQnTzILNZ4xuCCKK8wpVCmEHq8MQgAqDxj82+wJ6Jzqq+AV6CX8qPiW6Jfq1vZw93j/5QlrEfoaJhRYDfQWbP9b8bwFEv+K9RP71Pv2AELwbfsP+XIIwQT0+FD7kPYJB94GlgmdJa8kQkcVL/oo2zZuMQ4zNCvMHvEfCybfKRAVbhPYIREj1g1eDdroFP2t/xbrffDS+w4QdBkpGpEfZyL6FFIUcxtxH0IXRhb2Bqr/KQIHABUQeho5Dqzzlwd0Agb8vADq9wX7SPiLBOoAlQqnFywOgRRvFjIlZSgBR31EQkJpOHIzj0ZnSyBCTSuQJ/UwiBNsIYoPPQhnEVYOrg+eClcQDQnqEtsVTQegGBwh6iiWKpQaGB+uETYOtAfH+DAB/QHqA9YS0xXyHIMrxDJ+HxYSRB0qIdEUjQhlAxwDCf8dA8z68/tTBUsKCBS9KLokaj9EN0Y3QUzLQBkx4SpoHRYnlSlaLYkq7yeZIFAdigYbIcwOlQi581r2TQPZC37+3AWXEPwaVSHGImocmBidD7oTiQVRAosE7QXB/N73FgmxBxQa5ysYHdcFpRgfH4IcYRKUIL0a7hVCIzQeQRaXJk8L6SEwKVInUhzmFFUggCM0EL8OLA96B2b9xAG15cvqCezzzcfyDvWJ8jQFywhxEUcekTFWN6I/mjwSOPsyZDWaIZMWaQLbAF796vL/9sAFpAIvBw/8+vmz9Uvr6ApVANEC0wr6CIn5WRASHLsR0zd3I5Y2HUP1QmpG1ktVPE9It2HHYyBXuDoLNGEzYSIuF7Mp6SW/GbMilgtUB6sKtf/6AcIJNh5KMnoieyHrGbQZXhusJxwwlyZCKMYoihjxF/4M+QxpDZYNZAEKD8gXbhMBFnomPiNrD68Ezg8PAOPybAGqBxANuxL+/v0CFCk3IfEpySFeLBpIEisjMGc79jdgMP03TT1SM3Ex6yzuK6cj9yAfFZQA8vFp+n78u+OT9Df8VwBpBnIDRv/wAjIJ3wm57usA/Pto/aEaaRk1LH4t1iDfE7wilhk1K8MwWyvYJW4n/CeqEDMDJAdvDjUMggOzCQX/R/EC72LsLOlQ8Q33wvDr05jXtuPT8Qf3TPxFFD4L7QCNEKcR7BprIJ0nzB2MH6AKeCL/G+QX1SKoIPsUeiFtIogt/hZLBSf8vwXACoD4pvSi3YntswDZAqwZpxnWDQsgOyQdJGAeFCB7LHYznjL8Rrks7DQHPdszvztHO8k+vSQGFekHEf3gAsjxBtxOxQvMvsy83mzqBubt+pbvVvtV/+EC3BkvIWAsKTQIMOc3lCgFJsAj9ilRJxs27xzkCgDo78U+06bUjsZCznvolOho7MH0fQHF6oQPeyl9N80ypkL6LAY2MUi+TQVYmlNrTaZF4TvnP8g9FiupJx0daiAyD3L7Q+yz9Ajtp+NP2efo5+hR1sLQRt5V1tLLh+MQ71oUMxrJFuIi7jTTN11DoT5xMi0zgTHRK7IuDCpPGkEvNxngEO8O0vZVArn+jv6y+Kf72QYOEo0cCh6mHL1FLjykPf1DalG2U2dOr0bNUuZh4U3bQNpA/0ZCRyQ8+y4YKmohJBPxCR8UGBUdExMS9QhACo8HbxEGESEe+STIJC4uWTK9KHUzGETcRqM9NyfLJDUaOh7kFNkR5APm7PHqX9oJ4SPVReUn69wDXAqkC/sHJgkzFOAWzyyxKoASeQbs/b32SwXOA6fwffxZ7qb6o/C06fL8JQfj7gT1d/Q09aEH0AL+AyQkkRdeDVUE7QDAApz9z/pH9p39zAS0EBT9hAmv+Gvtz/ho6Rn+SPr26cP5Yvje92HlmPEc9vz4KPR78cDxkvdl8KjaPNAKzrfSN8tl2cr2d/KECicPiB8IKeofaCylKc8hfBrhGUEfTBXnHckYzh9yKiEnQS7jLDUYaQrLDn4Irw6mA/ryj/p97SAEERD6BkH7tQW+/9cFo/lHCVURTBrvKasdGS+FMZYfAy7ZPDUmiTB6I70TQQ/DD3YbxBBgA5XxcOji8U342PQV/JjtbvcQDKARUgCmBugR0goBCqAXMw9rAcsJfxHhAJQOchGiDjQQBhS3CaYI0QSq/UX3BADsBrX10Pne9pLuIwCb8HbwxgW6/qUStBpoFFAXrxsOFxIccRTeDzogBBzbHcMWyRPfE1YQ0wz0AsAMWAfME74J0QgVENUD3gcMA8D+vwYdFpAoKzXqOSE1GkD2PKot0CorLZUQgwJN+zEHzAcvEMcRmh/lIBAdlhXSIGkh5yd8G8sSGSfQIGAk6iRWMfBBAzz6NM8wMxsFIOkPrRV9GyASrgzKHislSCInH7MfJxrvICctuBXpGEgXUSYRCzQV1iRbFRohM0IMLQ8m7iELKVwlpS0MPVcxqDNnQJc+Pyz5OvUyOENqR0k2Zza5KWAVlQucDLr8SgnNE54F3PvO+/wBdxhvA57+8/2HBrMY3CEqInA0gzbCPbdHelWqcTpn/27TbxFSMFiMUPtFGzs4N74g/BKNHsgMMxGnEukMvgK2+Tj23uPC/qnrGObh+MEByhz6KR84NTduTrVR02tXZEBPvDfsNqgj+xmdDq396/zv71ju2+k+73PtNPvN7gb4ofcf6u/wgg3tDKwsBSDGIksrnkGGOtI3BC08NUA3VEeSO3tELzgXMpIghxqlHXcXIhCT9kn8N/5T7v3myu8A79z2nPUBAg0hdBryE3giATpnV9dLzVRASHlVRUtgO/U69z+jKtMhmCExGFQKfBNcCdQPIgumD2Yccw8BCv8E7wrOJmoqzisGN+cvd04BUF5LMD4WPHo4FTaOQTwscinbJvkc7CHCKM0lxhXgB7cHhvQ0/dUOwgvIEsEKUfvCALH5sPeOCJ4LShRpCwENvAdtGIUYCguGEgAH9gyKCMUNaxEDHNEZ1TGdLwwcESKpFXQD4gsPJuwspR8VJpIehiQmJEEa8CMnPGpMIkIqPcI6fy7wGIT/Kwdq+d79kPmW+4v97Qkn6gb2f/aG7/X/yhORFigTQA13C98O/w69E3ITGCAuJGo1qDTgMewtiCFXBAgPJgnRAeXqguZB4vnxt9sQ4cH0tvysAULwLPIy9scGtwyR+sL8ngMn+bPyPgo9AmARwhVQGB8VTgTBEOwQgh/xI+cKVBtmI6obeh8fHAkouCLAC6QHx/Ll8a3nUeZz8On9Rwjw/x0K/P8aIm4b4hdhLxk2XkUjPklHGFw4UmpPJVUYQ8BA8zWWKqogrxyoCc4FvPjQ8E7gLvmW91gAKwwsGEwqlibCNKpFEEHiSU5i4lh5XXlYqGCvWB1gmlOCRV1OMEWHJ+YfERuNBcUImQVVEPEICwtQEsIpOiLUHB0pJCcrCRMevSPAEvgXphhCEakakzJrJQgoyy2mL1IpVjLWOBs+0UeqTIJEbjgSL18eogn8E9sPOBGWDRgGYQeo95IHU+v6313rqO5o8hcKqCByM8g46Ss8M0RDEEjtSXtISUNfROU0UTgiNcYaEiOfLJ4ybjH8IpEbfCXBEvUNfhRz8s7v5PgJ9QnqHwS1A+oIyAO+As0QOBpPMJc8mUDSMYY4dUO8N1gjIx4zH08Yth+eCd0PMA4+AaYGY/zpCPEFwgPvGtYSABrrD/QSYBifG3AfNiETG70SqwzaGzAAwQ5QB38SOf2a/1H6JgHqDLIKUhcqJIE/xEdoP85W7UyNP/BAUzXALfUjextCDVIMKf429wn+dPtl/e4BHv74+tHznu2UAhL74At7D1AUKROdIw0iGTigPWo80WBOXZprRnUtd/5lRlhWX15S2jtHO5I/JiezIqIPgvt4/TLn2+459K7x7+wO9iD8QvF58ujz2vyaBeAIDAFjD+YTTxceHRYSPRZOHqgDCghaDowAYAEiCJ8KDBFcC4QKMv/1+goC++c49av0KgUz+1cIMSbhK1omRigPNxAwGjhCKLoipSV3IjUbpSQVJQUk1i+GHnYXERaBI6UWvwd2Bt76bPPl3+Tl0+uv4efU79mn8trqQvzoBYoVqRWCJZsaQh1TKwg1ojRVSFY0WjzVQek24Re6DtMGoQB47QLym+TQ7PHjIvC57kPn1/tCDWAXNCBUK5gpdDVpMKkfQxhyEU0VHBz2JS/4Qfd5AaILvAXL+jECnPOZBanzO+fe6X/r2ut74+TeqvaL/skCEus1AKgcWSViHw8SYQyOGhgWNP/hBXYWXC6KJGAWhithNR4j9xNP+PD8+wox7l7Ppu8sF4wdYhqNJPIt1D/QL5o9lT0nWkVXr0iZP6E/o0ELNqsaOwrpFfMWHRbZF2IZmRlnJEQLpAy/GzAOFgIwC+wbaxIhCw4EgAStIU8iDA60AioJPQw+CcIF4RybJaomHRxdHGdIjlo2RmAwjDd5SqY8/CLuDCEiACCE/Kb/G/VpFsggFhfcJy0ud0U2Th5BDTqKQ+w2YjbdHVMyvCgmJf8WHRkfIz4lVAAV6pz5BANT8YjS7cDXx8PZnt3O1/3kS/iE/I/ofvPG8a0CwflH8OfzdwkCDjz0Y/WtBkkjqidxE7YSihtNECXzk+q1/Vnz9uox6zb8GxZ3H1oP4hojHnonmigkBucKZR8O/Fb1Nup/8Uv22vCg7HTn//2UCJwNPQIsBO4t4jQSMAVQQlpjRKFGKki4Rg5MNTnEPa5HcUQBKkIZ1Qtj9xTw8tWN7Bf1jQaHAXj/VQQDBKwJp//k+mwHXBUpDH8DWgjLIFEeQhCIDwQguybhGPf/1/5r/eH9VfOU62b10wYiCg0SKSnvM7tJ0DtBHTIoHTTxLhQtayN5Rbs9zjIvKz46DVMDT2Q+OUr+R8hErjlFNM81CjPwHFAPlAuUC1gEGPu+2Svpz/VI2qnTueHa7bj9tOw0D5oayDwTSI5PClhcZ69aXUe7ObNG3Ej6McgLbep4+dz1beuI31zZw9r1zAzVXM580pzVFNUXzfjq5/qK+vD7mxzkKBg0ID36TIBKwD9SOr4RHB0kFFgIghKqGyUgdxUrEYwNTh3zLlsiDwcP9hj8zgcTAK/60vKdGKcctBZn+2EFaxKRES8JCwMhCeQS/BUsAAIH0gqNCjTuQf25AuMPKAkP6sj0fwCgCxECYwNC+78VviAgGwcoJzFWS/E8Pi1cTok6LhI8Ccb/CAyzAjbpHdRZ1x/ZF9vS0czQZ9zl77DzlvosAtAW9xzkIaUcjxx9F1YfggysCPEMaQek+DTv5uxl317NlbyEvPvCW9BVwIPA6cI/0PLXD9+d5ofpX/mk8sjgee2B/MXy59zq7GkEC/tk+if2IQrgDXALOQIn9v0LfAO09vnmtQCAAHbtHt2Q38bovNzrwx6z7tFK6lvtS+u48+kLkBidAK4RyyAfKOAfkxJOC5sIoRCxDwoBYgKREYcM3glACq4YXRo8DVYUbBF2I7UfCBfA7Mz9Xwx9DTUEhw1fFi8oLhD7+ksIYwSbCGIAegZwE14fsxXpKJMfOSrEJQkTxxMyF1YO+ARTHhIsvirGD1IQiRqJE00Q9gi5I9EstyLuIXogWh+wIAAKKPpNCWETVRgAFhEQoRukHzwZWfkMAsgXxSwUICIK+hO6MJwxeBkyDSkexxsOHtMJXvJhCuMj+gkj/F/ykg/1C5T/6OmR/P4OlwD2BjMXaBIoFkMBOwxo+j3+9w7dBykGnffvEgYbah7aFPgg4xuTHI8VfBGBIrwnPSqcN5o8ASsmQqZSnC0+IZcI7xtwNSoWzwa5/2oQognGBzz6GQ8dLMYbyhZ6BtUbqyTdKOoLVgB6D+MALu3G8IDuH/3s9nbrONaQ7FDxJfL/673kCd6WAy4K1AigBNH+tQtsIOAGiu3x+OoK6BMF79zYueWw5AnfC8qg1/3isAUd9UHzOezX6Qv6JP/V5KHuwP16FCwBKPNa/iIjpkvFOqs/zzj+T6ZKsCtqDzkDygMhCjX/bPH++sXtNgoLFuIPTwjwEIM3cDKlIlITihOCIJkj4Q6X/KAJjR758gHeKO6X73PwjuIhzfK/YMuN0QTTQNFo3KTPUd2g13PDZeCG8kHmqvCE7LjeiPG9+w7wkuMO6er8pgGsCPEFXvnu/9EKgQyB+uoGNhzAFGgTpfhGAuwr4iNgALr0o/sBBiAFbuOO5zL5cgFKH+8gKBDiJDYuWSWHGO0OnxFVGDz2RPp38NEHBe5/8Z7ect9q6uHibdHevRK3mqyX1rTsR+6z5EH2uBQOHhQZliRXNZM2Sjl8J3MpaBwnGNz/aeYd14Dbnd9fyCm2CMaO2DPTucZcyHTfDPzz/8b35ghA/rUPIATJ+P0I/wlZD1URpyHuIV0qSCFlEcQCCfWx8f7k5OZe2TLe1+nU7W36GPUpzI7dNQum8FT2gPzZG4ghFBTMEfAZxyvgMfoT0BHNLNEmOyIr+W3n+t9G5rjgjcqP40zrxvg+6VDrPP0oCujthM414wj7XAAkAoEOLfz9Hq0kCSquIcE04CqFE7b7uAP0DhATP/yS/1UJHAaP/OP2iPIt7x3l1O2/7hnrj/MV3VjrHgfFEQwPLvlrB4AvuzOnI7A9NEuGT05HpDB4J7Y24yfjDYwg1CarJ6A1zBIREp4VmxjjGpwIsf7yGpUpDx+1Kn9IrVhzWzlWEF/jdJdfuFV0Xt9m3WA+VJFMIi2YOOYucg4eElz7+Por3vTdOuXmzr3NlNlh0MXaPtYc5WDw2Pn3AY0IivpbATQN3wDO7Rv1Xuz57y3VmMdW19nvjew5zYzduOJa8o8IF/PDGIMo0yonAkv0gQkaIb4oHALg+60FcRht7371UgJ8DMwRGP0u99kd+y/2KMsdXReZI4ElLBL09e8IcxnnGtYMoQbUBg0ZLRgKC6Aa0APH+4n7V/N27Nn6BfmNAv7qYOZg5yzif/ts8PLdieFQ87gMxQX7BG/8IADyI0wXgASGCQMbGhjfGMoCAyXjNJwo8CKPGQUssz64Mz4nwxuTNYowExpzC7EJ4xaFG7z2GPK64y3y4gGXBk7+jwFJGv8x8jQiRvFHL1WVXjFeFEbRQBlM3E+MN0cpPhUdC8IRPQhD8xTmd+I09nz3E/tKCHMrJUQ2QQU8XC7RNM1Ks0sSNEg9MlElW65cCjhrMzNMmkXHIxgkth42M+UJtPYc6pj0YwM29Yb36QsDIWIp2zZuXRVrMGsZY9RdsGX4ayRjH0exOx5DOiAnCz4RNxr+I/oYpPoWAbARSxtKD5EJb/pTEvMfhxd2DOgVkxG2GM8aThrhFRQpMRpZEX8aMRvlB6IN6RJ6FVMMXxY1FisMPAHr59LxyQ8EDxT2t+JdEX8WZx/7Hgn/yyizJEoT7AAQDdokzzVGHMH/pAHTF08ebAXN9CIDxi8OGl7+5QFdF6ghjxwPInYUaQEtE78opiMGKvEf1Bf3G38f+QRL/ovzew/MJd4RmAiJJs0VhwPe/H75Fhx9DwkHugSf/RsnQDUsIhf9AgLTCU4QHfLL8U4EJAIAABrjPNuN1ZHumfIC5Tbc/93/3OrtBfAC+Ij7sBI0EZYeEiuQJvcxJkYcNYQjTCN9NyxFCjbHFEwZAz8xORYnTSD/FuovLTkFGk8DpR66J9Up/AbDEEISiR/4INUKDhL6IdckDiEgDEAL1SLoIlESofPJBH4IxwOI8v776wXZDEIREBu8ICgrqzcvQIYtQyYhHOYlIiV0JNAczgLOEvgekwydBO3+WwjMDwUZIhXC+IsUwRlfIdwXbxJYGPogLB9AHVQSiSR4LtsoWhLR6SPsxf4TAjP0jtyQ4OXbgNsQyMeyX7lv3M/k3+XE1oXQA/rZBQIFq9r37ekSoysyFTf1MgdIGxUJ1/z87eP60hTbHg8YORn4E4ggbhzIG0wLqw2XJNseAhAyFYwSCwk/FiUNJP9GDZgADQjf9iLhi+Hk/fMNcv69/t8EwA2hNlYn8xGsJPw1pTSLIYcITxDANiwyfh0nEgQXUCG+NFQYbQEf93gTggi6/p32cQ9RGAwMGPd19WYfeTfDQf0aQSFZLkMv8CDwCqgFeQr1JHwNSQnRAUQZySCiDKQDRv6QFBgRPRBYCGwFsyQUL+4arxDkF1Ir7kaLMdIxMS6HPDcwQihIHIssWzk3I70OUgEpDI0f7yd+G6MTBxZRJCcwhSADCwIGqfk49KD2CPfC62sEMPmu/3UJSghE//oH2P2L7Jjk6OoR+O/5iwHy+tn82w76/hv2NPCUC7IUhSXTJ20l+zHCPHlBBCqrJ/A0ujunLZ4SYvvyCJod8xGs/IH4Qgu1E+ki3vjv808CvBH18V7o7PpICQYIUx2AEJcPQyRnMJAnSiSIMcA8yEk0QNAXiAvX853wx/NZ+MT9RAfIGTomAjCpIp8zGEAqUsFLMTWhMOU3CkroPJg5YEI4RKZJND9XPK5iUmkfagdaFVv0YxN0w20BaINlWlnDTaZKvUr5RM1D+FTISshNmEFlRlFHF0PQLrYrVSKfB9Mb7wXZ5GbqRPDI9j0P8Qe4CZwc+iskI5kXzCswJPMZVyFvHYgaRwx9F7Qe3Rk6Iz4snSdbNNgxGjQ2PLM3MiJ4LPYfKAfgAEcL0wljEakSyBZtC5cS/g54CXYQ6gOaDagJdg8XKqwVvxkZJwU/Tzj5JMMipi9vHBUSPQZTHfML9RUqCQ0JUQ4HEZgLpgh2CvYadhD9+3cMHQfbAIQBFvxAAa4M5x5vHUohZSQIJrgldx8UDfUKdhukIvYbmx37IWQYdBdUD2cF2gCmD7sEQAUL59LfbeV38j/pIvUX9S7/7QyAGJP+Fe1V7Lr6quhX47XpIe8tA8L0Ivws/hQWUxtDDzQLiw4TJREgDR1UE7gU8yCeK7Q5TzSFKeooAC56KY4lwBt/HDwfExCx+234/vCcAKYFlfbB6zz9AxK6ERUlEzZtR91FIkTeWWJZeE4AQpcp0h2aI6UtCDYcHY4TICCYGeL9a+8y7DwEhg1EGbAl0CFAIlMjxDWFPYk6Dkc2MgIeoxO0E0cdxhu+EW4IqAd7F74ujjemILMA/QHIFSIfPA0Y+wUdYij/J7kpJBJuKkUikiD9Epwj1xo3HuQVDgkNFvgRaxarDOgLrxXoJsJA7kGnJmkbexWUNnI3ayhBINMoODyUQ9NDlDhvOo9FwFR+O60oBihvOeM2WjGSCwMHEAxYEoYMzAmREEQYTwfbCiYQKxZOEuETvRBNFa0baA+dJvwWIwgO9kDz9fnDATwOAfxsApcUmAqbA10OiBEdDTgCDQbeHxMjLRzp/q/93fh2Bsfujsn61Gr1ywnR+yHoGOnZ5EwLNviZ+xT3BxQBJDIWFQTw/80TgAlZHAIKwRA6DZ4Oyw7y95kBD/tE+YHjKeALy1rhHPFR74ToYvoPIZcpFivBG0MtBjPMP2oy+ykTPEVEAT5APUArBy0gOYM9jEaUMzpK4UayXJ5aLlEOUB9PMUUpT59LsDxgKgckNhnuAaX5QfloCwUYQf+v57MA1ROLA1X7W/+qEwEh4y5VMnMi1jQkRzJY4ElgVQpjCnGnX05aBVjmUldDWEJAN1QgrR4SGgAq6CbyHCUVUiY9HWb+Sf0tCZwmPSwAL6IvwknuXNNikGgFbQdw8HTbWFRhP00wSiM5b0BZIaAyBEP0OBY4uDUZNYI1cjrTMMkrDDldKGAoiBsFMm4kCCIHN4BEskdnOJRERDkxTbhUjUd2LwwqizEwIqQjPiFcPU0+6zOCJk8k0iYVPrMeDg/eIPckvyb2ImkVpTBwNBk3dkqTQLY5cz2sS/lBBFmlUJpNNmDuTz89PDs9MAwypzLtK+UizBSZGsAtfQpa+XUPZRZIFRkOVxALFWAuziQ1HPUq8DSfJvw6xjzWTRRK7ErDNOUlrTIFNuAloixCJhE0kD/fQBQ70EKeQEQzJDT7OYQt0CQ4NHUqTiDgHC8NQiP7Fj4RLwtBEXoLzBYaExEXGyLYD1sStggn9y7kx/SM8o36VPqb+14BPv4W6g/28Aa2A20JE/QMAVwNoSKEJHgnaziPRnhHREbLR1Y9u04xSwI+8iVDLC4xYyYxFMAddRPXFtITWwqYCech7hzwFkgbswxTE44bAhlWAGf/Ux4XHLk0vhsOBSgNaiZ2HFEdhSEnFX0M/BW1FFATVBeILPYgPiB4JHce6SJIGcUS6BdHE0kWMAlT+uH41QgA8+TuBv9P7PHpTeTK6Y7pUPgO9CYCyQ5UGt4e7yHFKawjqSa1IuokgBKIBuMU4RWpJRgLdAy5EW8cEBSjDx4HWhHsEvUPzhRnCTsX8R2IEFMO7gErDo0aNxYeC8YdWSLZIWgQxBwlF28Yq/2fByUY2QadDnn4jA1zCysR0ATSA0YJWQVvBYEE1f4JDhAVeRTpM5YkDD75NOY4tDkhN80yHUNBOIE0jDA1ICMnYyPnHIAe1AUYA/sH1SAyJpUZ6yW0HPYmCBUVIaYyyTRpNNUipCTmIlcf/RbbE0IToxeDD9oWLguIIlcsyRlIHXkdMA1fFOoGJRHiANQIXxDbH18h6jqPOq1Czj8mPyBFE0c/MtMlACO+Jhcs2TGgP/wzmCOBHSMuWR+HAN4bSTY1Lb0yajK6PqU+GTr+MPg09UfxRGo1ESOkGvckTS/JFVEFaw+NEMAZSxWmFygbkyj/MMQt3zR2Lig4WDrrN7kupjT9LgwobBFtEAkWTRAuB6oTqw7sGa8WlA0FC64EIBCuG14V+ArEEfkAqg/hC0QI9xjNMb48YSJuJbgvUyekMSUwKBFBE34k9SzzLoQyhie7MmUcHRJgEw8OyBemEcMIZQ25FuUbRRx4GhEdrf5W+nz4oPET9wnoHuYi/SUD9hNRGOkdMRwKL2EyLiyxNhorISUpHI8ZSi3kLYseDArfAmT5h/KX4sbZa9PD3bb1E/s19tz0Ef+lFKcTPQPo/0QV4i22MW4j3iXNMKE4xj0iJT8Xdx61Cb4XnhO4FqcrsiHnIvwKZAqVCqUnMyfEFGgaKybXLWgYsBi9JG81cSGNJcILZx/hJ5ccrxJ1/TAEYQ3qGzYOZwZNBzMdbheRIUIjGDh1JT8ZsRnkC0IeLBl8JGg/MzCwMwI7MkEtOtIyRjflM0AtmxuqDFQQ4R6VGMcKagWgCqoLWCWbHPMnzRw8KjM8JzmnIjo0sEBAQgE1cCDpEnkfbBAaE14QSBxmHDwF/gE59TYLKBfUDxkEpvGh5ObqugDgF5cbICYQH5072ytGIisu3kBeLwwiERXAJUAotRxIE6kRyRJ1DFAFL+WD7yQQ6ik3JOUgpzJCSbhczkTDOD4lYznQPbIrLx+UIVH86AgQDTP++fKt91EDd/e83bXbNgI8CDcDOAzHDZAV9RpjACjzGP13E+AeUxVOAM0NzAsIG1H93fog/CDv/+UK33vqkOFB97LyCfgtDnASmw6WDpvvbOZF9lAKhwZW6tv09gTuEl8Je/atDKgZnAJJBxwGFPjf73zw3vAM4Pn2cvQb+rEUPxoHE94j2y/qPVY++kCvJ4oiBx41IsEzRC4aH5gOLSU0B+UtVDkbJT4ihjEZM9koyilMF9UcZRA2CssTxxPuDyIOjxBeFG0iXxvTBw8C0wRyEqIDLPad92cBgQ+3CzcBxAqfELEQ4vTo6svwQupG68nhN+1479fdhtPazWvq9PRl7PDke+NL6nzof+9i8MD5sf5pBAMUrRLeFcUNYSUzGkMSHQoFCm0Y3hWlF2IEQgHO/Ij+8ABO9fv5LPgO9fTuSP8tDJkbqg00Dg8hDyocHdoVEw4fDpYQqRt4HNUPcgLPEqIHfwJZ++HvVd3o2cbfL9wv3sve1/OK+rf9bfwNFKcNShqFHPcYaiRWIRcwzCMLHlEreTkDQBEovCmbG2gHMBXrDWkJGAKP/fL4KvFU9I33Iv0T9QDlGO1I3z71ROSz68brO/OUAF8NIwCY+hoKmBaBD/UgMiigJjEqaSfSECQIChTmAFcMPffd/XcKGBE79sn9q/9hECQCe/NH793oHPXN6kTp3uun9SIBaw0jE7cCGfmwDqQFA/gr9VL6aQxYF/UjVR5SOCw6ljksPskpPCBpNeAuIytwCi4JQ/GH/AnywdQs3BXs6Omh+o/WiOdZ+74BUPPA+ej4VwiSDJsR7A3yB6AQZRk5CzwMuvbV+dgNFQQt8e/y8/Xa7yrxmu4C7TjmH/f19+P0jAfOB4b6Mf2E/NMJRfV+8EPgV9hY5R/OE8UKySHOaNnp10i/eLpBtYnDR9hB77HksfV/AmL1TAINCKoF3Q6AB7oRlBPrDpkPdw2CEC32zffJCSD7debI0LvaUOEU1ILIydSdzjfXYtww4Vju3+1P7MUH2iEQESIOshHmCA0RMQBY+QIXNx1eDgof1iV3L6kvwCEbG+YTwgu0CFn7iPQrBH7z8PInAgURSRfNH4Ur5zDANOA71DIFO81BMRcVHhUUoQ//BPgJzgrNIQ8OOh23ETkO8g53CocU3gO9AGkB/RNjGXMyniRBIPkQZRTzEtsG0AZ3IBUmdAvBD8AXFA7tJT4MIfVB97zqKPA+8X4IMBAREvH/aAUIDYI2fzclKfQiXR36ILci6iVTH/wiiyNcH4wUNhxcEbYPHALuBeEICwAb+yIS4Q0FFIkIZgyvDAYlpjOQJW0d2hwWGRcRBgRj/E8IGADg88LnHu4Z+Zjlitin5ZDyrfI75cjaH+Su8e7sV+Ri8oYDAQw4AwoMVAkZIJ8X5RZcH9UgHyYdNFUgwRheG2wc3gt1DfQCfPyK/tP51AE9Acj7zP22ByoINhTlDXYRVQdTAKsBUvzL9xn5UvgWC0sGZu05DCMWJQ4oCeEOlScOJyIeXC8LOYg4FDlCOEQtTyF9MDgPPQDqByAFixNK+u4RLBpJE3oBABDeGAAhuB2iEHUYJB6iJggTMfHb9wIJLxQO/3AJjiB3Jmwh3BJaHqw85zEVKf86x0ZCTCA9UCdfJZkktx9fALjy4fuxEgD88+2p9S4F/wldCl8HdBOnHDAiyCu+O4E+kD1JGmsTsDkdSxREbjaEPLtnfVRsS41QEUwnVGpClxp3ExsdIhB970zss/UgClkM3QrxJKMs6TmtHLgX3zKGRGo+bzA8OrFEy0P9IgoPkhpWI2wVZhdTFiIulBT0BRcQSxRt9zXpbfUr9af8OfWJ8uf7JQOIAW/qD+dH7Ajs1eP16ivs3P+E+Kv2wOuC6cj66wPb+UL/neX46eb2oevL3pLofe21+Qv4i+/d6yLmX/X12nLrleuO9KL2I+iF9IT0tv6ZC1wQYyLxAGIL8gUI7+b6U+Ob1DnbH9zvzIjPNMvLzajbntnAzUrZdff27rbq4tWG1unjhe7L6lzxLexS9Yz+i/cx+Brv7Ol25X7zP+zp1u3WDebI3tLRaMgAyM+9mNqDyQy6hcG0xsHcqMGO4eHnDu468Ejrtebm65//xv1LAyEN1RgXGB8PRgaXBqb83vL786L55+g27C/3lvOh7izg1Ogp/LADQ/co8Tn4oAQZCggC7Oj37abu9e4u6xbor+nk7u7yuwZU+1Pzus+fy6LBr7850tzDQbtAuk7M5tGt2p7fveSY3gAFxxVEK+UhPyUzOLU0wTtvK/cUXBWgFDMbiApx8WDgPdNqv22+U9M83anmMOEz624Oof/6AuMdER21FpMWtCE5HN4b3xBH7GTTeOTV5JHka+vx7z30uemG3rrsZe+s8VT23uzsBDX3/O2h7cYE4QrpAzHoIxHtMModvwrBCeEKbwzC8e3uSvkyD2j9+ulEAN0FPg+jCIn/1xDKF6YOyAUmCi8ZKQu5A7jyYgaxAjfr9ve8/1r2YvoH6pLc7+Eu7LLgddMN34fppeWe6+PoYfoPD0cShBZrJT0qTCBpHKMfbC8MMqwerx0fGXYQVAhSCdgH2g49Enb5kf+vCdMn9BHCC2EY0SUFJewy0TuIQflPDEvaQBRAW0ulQaQksiFuJSMaDAzy9N35rgR//VvqFgFnBeEOX/cA36fqUAMH+FTiq9xm64jtGvFqz1zsWPFT4k74/AJCEgEVmwndBC4VQBjHDyYILQxhGOsVGQp7DKUfjSkoKk8G4Q+7GrsS2Q9z92sNYQeX+a39rBWRIbQdJgv2C7ADuRWw/isAaw3JIp4hXxVxIzo5GTPKB7EMDxFWHMz1MQOgDWkJTxCw7hfqMwtAA24DCPsPCYsUdAe5BY37sATn/kX0jwpVIo0VkhrcKMwsOzKhGA4QRhcOCskHQ+Re31jgzdB6v63BH76BzUrPkLcFserHIdSL4mvl9/krE6L7GgRGETwZVxUuCPH8ZwFR+Pj5ufJC/q3sYu7l24rdi9AY3B/T4r7e0N7V7OJw4/zjru258F8AnPaa5ev7aAPQ9tDq4fHR/K/6HvgX9jQIFQP88X/y2O8C6aXraeH/4lHjdPgq+Sj+M/Ya8mAIOguVD9wcySgjMBownjHhQbNAqj7VGT0WOA8E9B/Rdr+XxEzQ5dAJxvLIKeOK3LvrGeQZ+UkSFQcl8Nf9+hbkG6L6z+Lj4Xvw9+Co2sfwiAOP/loAGfyvE2QcKfzn8PL/kQqUDVfzW/VACSz6Q/NP+X8HTCFRF7gXLBE2QxU9VRaoDs0SejTtKKrxY/zDC28a8Pon8IkBniKgCGXSOeSR9zr8IAfy6eP59w/6BlIBqQ4SFRwQD/EG/F77PwUeCC0BfB24HzQN2AYEBTkmWxPc+D35xw0ODVX9Vujy6ZcH4wQZ6FD5h/+rG8Mt0AG3CvUpWzUdIBAbNyHRNVw//SNAJR4fbiGLKMEmniSWI5QrFCySHFshDhXEFvAaUR3dA9sGCAomFpUZ3AmiAWr0bSQNINUU0xpbIbkuwRoaCcAVii0DKe8qFSohH1wL+RIPA54B9QDC5hvqsuqt/vX+Z/8aEiAdehl/FDUkJEKPXuU8ryX4Imw9yzMsHyn+5w2RK30MWQYdCxgN+hiPBXn5dhDfINAgOgJODqQUmx7KIgkvKyYOILUfKCpBQIQxSSCPMks3kCYaF2IYHBYhL3soaRz1GOYWqhWkE+gL2gBzDYAE6/si+hf35vL1+Mn+kQXS/KMOvwLOBAkIfwDMAksF2RtTGP/9Zv3E/yQI1ASz+5Dp/fc4/QjqQuBdCD0WsAwm/FXt3Q0XD4jogO3X9wcJjf7F7mTq1AW9E1IbGxS4DI/2jORwACf1V/EW8vzwBPj5BmEB5fprDxwTYA7CAob/mhGwG24XthEnGIAkcijgLx0g8SNfKBklbxBRGHEBCw5RAYr0J/VjEhkH5weZCy4VixprHewfJClVKe4NORB+H3wi2BgIFGAhIR0vFvUHjQIWFgITZwU/BTASECcJHnUIevtQ7BoBJAHnCngBAgIgBiMH0vpF8WP8u/l89+P+3gRZ//kCihZBJfcdtii6NWI/uixpG8oT9xfnKu8gSgAbA8EJYQexAQL98RoTFKgDmvh2COYa7Q2LIPAfEzwAKPYhBTCmJ14mdQ4EEGYcBhXZCoINMCChJmcqjS9aD30M7x0tDj4D1/m/DzshURbKE+YWkxE/B18E1PzOA1sRwxW9IgMdhB1XLBovmBrlM2UScwNY+AT8/Qc8CfwEqAkJCu0FCOxKA5oaWBKV/lX0KPlWEn4JbgUWC0kXQCShEDcf9h1GNGUlTRrvHDMXBBoCFJAGxAQ7/svpO9kW4Pjg3+Jc6mrty/CR7zbz8uJz8pf9MfKX/av8d/7BB6//o/ai6ID6MwUs+e7mxPfl/nTttN6Y3dv0leo76UTctdpt3bnlLfjU+2IIngcrBjQMuAhhCmj6ZQspFDAYZxEzC0AW0gri6xHxKuxg8HfVXNRj15LcBPHz2XjXEfZg85fZkO1rAB4OogOfFH8d7yV3HzIlSCAGLEUdehgcCgYH4gMT8jzdEt344AzgQflQ59n4cfn7/ff7NPO6B2YLIwevFsspxS5WFQgVcgxtIs8bpQ5CEysv2jN9K7Qd2iNmOEcsNh9oFLcgAClWJZgZqhZiII8LrAqsAh8TWQjE/m0CXhB9DyoU4hczLd8cyReMDUwU6CYOHZYNL/yb9Jb9Ff5+9Mr93gYO/xAKxguECb4H+v4THm0TGgwXHWchGRpoLjYjHzMnOFMyZDJoJ6gykDL5MvYrrhP6FGAdsB8XIPQckiPiMrEndSRfNVBJkDmZLR4dJDbqK6Ai4ADhDa4K3g4gCqEV8RGLGwcv+TrOJvEfkBSVGDYVZxK4EEgUrR5wJMokLhVlKkkp2yG3HwsL9gr9GM8RkuwQ76YDTQQH/bv/kQXkCpEDIvSL/bMUGgaB/LT5JvUbDaL5GvQ//Ij3xwMaAk4tsCbwJnAu3jxYNPgdKhw/FpUbEROJCv4KSQjY8tfy1/IO5m7lgPc+AVDp3eKY4HLlr9vH0CTbqtes2ojoXOk70fjyG/Wk9G/rJAH187AMGwrFCWH+3fpYAqECuOwB9VMEfxR5FQoUMwL3FV4JaxIBHX0b4RND/EQFnAuWEL0RywevGD4V/ftfAfr/kwQ68hLikdZX6k3e7MjGtOm/u8cu4wnXn8+T9Wv4w/bu/M4KqxAQCeIJphdzIawYqRNWE1cXBxRK+PgLBAxrJCYdFSAKHXM1FDNwH1EMLhVrIG4Q6P5RBCYAegylGgQHTwW3BogHfBXTEPEVjhsHGHgf/xGRJTwk3RjhMso6YS66IsYslys4MwwvCyFlK3I0tB3zIFkdmyJtHiwVERqxM0JVWj7yMNwsTEsjT68qbho9GxkTmg91Cl39z/kpAO/6De/z9vAGQRPrKpso7iuVPAJArkYoSaRI91XnUEouOj3DHlkboSF8HQgbyxEgIC4L3Afq8YbvcPlz/AsCxwrDCl4TNwm3A7ULQwX6DtEYTxDQCyoMtBXIFSAMwxcYEGYgwhFpEH4gQRtSG+sP5iLCHjMJnQBa/yT05fAs97f8fvkzAMj55u30+mbjLOFD3ATo6/zdDFIXdRZ9IPQ5E0EkQ8g+e1CMW9xL6UMHIUEaowET85ve7ue67iDimeMX5mj2m/oV8Hf4ePjY9XTxKOsx/AgMjPksCVkYUSKUFtQS3hk4J7I7hh6lG/EcAhsgE3P+TfVv8F8DyAJqAsj+zgUeAdj6we5L7En3Gfk7/XMWsBk7BFcPrhIjFFb5bOH72Tjn4+Ka18vZ6PDo7CLbLuST7zwQ0yYPHHYfsTqERic/rz0yStBCvVXIU45DZUMcQGY5xitfG2oNygFjDEz5AvoqAp/42QG3/6wGtRAOGqUayyLtFzsmgj96QpRGpjtjVCdZQz4qRdQpWCSQLTQQvAcR+GT0bfXt8zT3COo/7Yfy1fvh8Vz4lvzh/jEDve5LCQEMq/4PBSH9fvoFAywKMCDvFCgQzxL9FWA2JSj+DicLZRwRHcQH0O8I8bH8pfbe/VP9VgZQBhkK3fRK7LgH3hFEAHAEfvtBAgkWLjbwNZlAwS7jK8wyJy2cGysg3x93FQYMgP6J6xPu5+ox3ZHSXNUc4JLqPd/J713tIdu438nnDeiU5ADR/fxsC1ATix/9La0oKixTLc8fRizaLPEr4xPWGLMcFB+lHsshBBx/HUoOXQWLAZgDzgje+tUFmQ1e+KwR3A15DscGAAXPCYoCqQYpCHj9FwcZKh4rlx2OJsM3tT7JNF0kDClyI7ghZQ6OHv4z6yLSGYUVFBU9EFUh7hjECR4RNBDnBFcayA3dDtIQjQjxBP4elAZbCtMUeBv1DWsMbRPGGH8a5AWk/33ypRIPDDgJgwHaCg4DaP0eAYwIug+cIwoSiRWvFPEtqxpPEpUOEvis3EHjP9Wx0eLYEcgcw47D974ExUzU1+Nb5ubhd9Av4UsNdw7WAJ/4/gAAD58KVfLQ6PQA7fhE/BXtjvOx8rIAt/7KArgPKAx6F8gOFwtvEngVJgko/FwKoSpTEkb86/+JBFgJ6+kf5xfw0u8B3v3In+xw/rnhJNcI1AnpO96T5Nfnu/7fCyv9zQhNGzobGRHWFfcaUCEYLPYZlATaGR8JeA0HIrIoXUUmNhAp/j8zP5JAw0F9RL9Evy02LmI8xzxqMHkwWSI6E00frSjQFMMMgxN0Hx4eZBrUGj8rAiyFJrgaaSoDPKMpOBdAG9cZDBsWDi4Gcw6bDmQLnBNFKdA1di8EHbEdPhooH4wVTR9PR7IzKUHcMvBIFkAeQtIrby5WPIhGBD7cNKU3QztgHiIX0Bd7L1sEWQG5EZEM/f9WA2D43gofHNAC3AXeJSsUJv4W/38V8xwYFPQDOhAQHG0CPusfDSYS7Q5j8nH6tCK0MJEU2QFrFrIjiBq1Dm8LTy1TO6QT/xFuJzMqhBCeK8E4lDq3HcUX6QtDJ4wOOf4S/tL/2PqO2UbMqdbD07vEKs7e4UHqjvBf0Uj3sA9YAdECPRMdKnAloQK5/IMgIwza5sPjBfQP903jWMx35O8AcNpywf7T0/OX8NPOuNkDBrPy/+C6z8wHshvc+2XLFP/GIEr+qNgL1ugQMwp5513Xuve27ojpb9RF4h//pwGL45bsDRa5GbHuT/I0JUIZeu4H9okcFhtOBxnOOd/e8abqKMXV0kvi9++51sXFuuaw87DrgdQ28cEGL/+U8SPrWRN9COz+IAXNCw4Fgu4B3Ffn2vSk4vbJSNW13WrP+MTIwbjkDM+avdHLMerW+FzfYOxy9zYa5hFg/MMIhwuKGgv6o+H+8S79VtBQ3ET5HfV49Yf43PuZEAMRr/j76I72afRR+C71cvauAS36+O8+8nT0BviR+FH2WAN5BrH/eRPhKjkoBgtmA8YDChY/Acn5oRFJHpIVSvMg+rsYxCct/oQFcAgCD0EOMw7dEfsL8CYSImopSDNBOawk/hdfIIoiehoLEz0hsCFTF/ISAQxJFF0Diegf6u8F+gqK9AjrswewEZgfbSc4M/pHpVJZSIBSp2uqf4hcGD2KOh8tdgY2BUX6R+/d3w/aZcxa30PZTN4Wzy/sowJT/pgDNCOVNfc0djQNQ0BMik/GLjUjfTAyMmAnORT7AJgWFBLuB78PgCFEKCwLBgnb/xsgmB4cDHAATwl2DnTqGuQ8/IsLeu9G2Nzy5hPJBvHg1NgX8QLzLdga2f7xEA7p7CjLQMtd+m4BveMD9VEFaBPp9YPiZfJ49VXi8ewq49sBn/Vi3nDbiNcg1IPTCdLh4yz7us1SsTrdc/An3rvXguFO8tACu+Yz4Mbo7fg/8MHX1+Nz7U71sNzr1YTdnOst35zcE+3j58/ZX+Vz4vnLJdCvuYO4qcg6qZKjHaOBrbWkhp4RlVSPR8Hrv47DRMuo7hTv1egN72cDZQcKCen7WgpdAdXzyezT8YHXw9SW57rg+t5Gww7ES8k+zuzCBc3K8Vr2x+qM2yD74wsbDuz/PvscDy4eahejEesHvwcR/i7ituiB/NEGd+T64uwJkRKA/i/z/AYkLNE1hiALJ+418jewH5AF0BqzLywliwQqFMYkPhkkCf32DfzT/iD+ffrYC9EOpR4TJ/cgjxzgJPYd2xg1LDU3QhZqCk0F4gFgAXHgOOTzAhX8pvVSCCQi0xVi/3kKsRWlFH0OAAjGJ1U+2TsSOvBJ7ViQP5seuBP+I9D/XPIf+/vy6wDn+jXo5/rBCfTx3vobEkwZvxJ0EfQHVhQsJToGcfWvC4UJxgCW61L5GhLBDtMBtPvr9ykMGxkNDjMVEQ3l9Fj3tvSy9kfpGNaq3QPof/bi4HHsweu/7YTpvvMkBe7/eveq9FzxDOnTxVvCQe1W4D/NFsDm20vm6u/99bwLl/6W9Vvvduwy4cf1Suft1gjnqOv202jLA8qO33PkKfNmAWQRZBlkGYUCQQOQDgQJ6P2n+j/8yOjm243eX8ll0nmwf7tnyEm2lr4EwX7drOS77dDlXfrQ960NzBSuF0UfTBRDEIkO7P1O+w/zkN+353Ht79nbzcTOKuJv6GHoheau9mjyMOrb9cD2KwcHG5wQER3cHIIxmCNLL1UvQT3bSpQ2ThNAC9X6o9ok2z7iQ+hH9H3Xu+ThBHwI+wtsAaoJ6g4fBO78mxGqJBAeLhBYGmMjUjjDIeMXRDfhNfIeKwTHEscyFSLaCcoVMjLRF5T9/OqZ7fr/d/mc5tvqAPcV6fHFDsen4vnVVM5D0ZnrU/Od60jLatQA0GzXrdTJ3P3wk/9UBm0HExlxC28TEQxHGhwJbhEJDv8TBhGRDJEI7Qb4CqsDC/4k7j3v5Osg8rLyquzU5TLaafrw7pTqB+pB9vj3hfH5+HjtlwAWALX6dwDSDnIRHgZ49i4FxPqsCCrsYvhEC3MC4gIj8+n/ZO7M4Q3gKN+F0uvaceBB7bINxx9JEk0J5gIzCP3vJesD54Lcy+qc7Wr0BfQh9kMAigsN/s8K4fyj6Kn6PvwI+N0EWgVeCiYIjQ7z8AIWqg0q+Pf73PbfDQP/lwc19zn23PSN86DuAup951z0J/xl7/D/ngjkBQAMOyn/K2Qx8CKfJysygydzGnEdYBkgGjcQuixkQQVJuzakNkYnjyFXFsgaCi7iMnYULQPjACn83uBO6Nzx0PT9+pT4rO75+XQIfAiP/lb8ohDOGrwMzBhMNKs8syVqI9MjCS+TG+4TNRtLHhsZBwlfDN0iHSUoIP4btB9VIu8QhAcQA+QM7QPD/LUAjxk+Ifwmhxq8Kq8zHjuGKbgvc0aqQIgykir6J6ghUCN2IaAhyxobDEQR7P2V/on+OPMt7KPyL9g15tLww/UK57PKLdPZ1B74j/Ac7/gIGRyKIfUhUDWjNvo7giy5IR0SFAWCAj/9ROq24PvoWuJn5LXNC8oz58X3r/g13NzsHwqjAcj5oANmDO8kaSanBHICiRkBKmwo8iOhHcMywR3DCa3+oAn18rjsYf4uCv0Nygyj9WsFXRtdEy0DHA2tJdQbSQ+sDz4eVBkBFTsCKBMXD7r6nPX09KoGDQfTEZEbkRxOMFIt2SxHPV1U9kHTKMcnMi3FH1kQpQOvDFQLQfnw958MSBOtI4wqRB/tKV0czBWWG24aIx1xCkTyifgVBeD2qvJ/94HiPPU/4ar3UQIACUMC4gn7EA8KByNiHRYliCtxJOko5kAHOY05CDh2NhgmjynFGwkc4hiQIqsWGxKaG6YRRiMaIKwtaBz6Fc8XpxbSEbcHmQwtKRcfgw/aMLkmmyTUKRwerCJlBsIHeQWNByUfIhkrIc4qljjRMkEr8SYeJ/ofTiQXIYA1Yyh+FuEWRiR6EWUdvB1wLkRF7C5HMtBGlVRpWFpPwjnxU5NXJkSnLloZMCGzJRUZgAr0ELr6Q/X36HH7ZAk5A3INhhAWJKo2ryQeLu85bivPJRoS/xC2FggabA4yE78M1BD3Bjf50waUGdIYaiB8EeUY+yQYDe8JQRPFJT4UYgUMFAYVhAki8gcLMQi8A038F+wl4VH3s/NE1PLe0PqFA7sGIwayBeYE5AEg/vDvpQkhAI7xg+Py4n/7Duqu9Wr33fA+Ce4FGBrQF/QaggVoAmn1yv038/feOOOT7QDwd+bF1mHS9dE0z2jLxL6D0Kru7O8h5kD0d/8J7s/tXujR8sD7nfoN/hsN6w3j9gPha99R/Dj8XtxD/vwQze4+68fqjOj/8+HqwfHH1N7jReRR5pfvG/dVCWESfgTJCSIFnQWR+6j1Yeoh7JTmsOKM4vLe3dyNxwLHaN5r9mz7yPOB8pPnIuxX+YH6MfDX/VIBcQhdBTcMsRQQGWoVjh78C4sA4AVpGdseDQhcB3b7jvbF6VHr9/tk9wfkpeaA8KjzTv/lCzsSsRh3HgYhhS89LdgpDR5mFK0KIgzdGroBufaM+UD8YPlw5nTowuGD75T5juHe8DjvX/g58UHuSPOjBpkSLxh9C0YGTRhNFF4WdRq0Jlo3FCfhIhkX0RgMJ2YjVhL8BiwGofnV/Ov0DOEC0K3W6swxy4bASM2M13zVUezO6WT7Hf4ABmgCcPpWBRAKYAy5FMsUiyj/N5Q+SSN4KkIz+zZmKJUbri1rFe4eDwU6/f8AXPK05RHhg+6A5UrpIQP3+lr8JRBFFp0vZDBxLUotXjy7O/0oXTVoPVk9ajBnOvUkehjxGV8SUhpxK+QHRwHs+rEDTfca2Xu/ysUQ1Hnag+Iz71H4a/uWA5QDuQtNG60CYBIDLWcsixpPFl0fFTZnI44OHiORNHskmBeOGyYe1CSqCoPryfxxBo73teeR85Tul/WA7gvYK+8R9xze/dEg2Wz6ZOt7553oJgMjFuMTAwLYEUETU/4L8zP1kPTl56XZ+OAl4TLu4O6H3+Lbrs4P2qLn4uND/H//dejk0xjcs84c0ZbFfs0IzCjWEtzi+Uf5IQEBBlcNrwIvAwkKERQuEcQWLwx7GL4VTRLtBTILdfQJ/8QBSuvP9jL/NuDE6GD55AXTAib/KflUA4gN9hyFECcSURszB8EG2BmUGdQSQBFq/P399gUCDNsEWADiEXwByPLU7FjjdN/b5nfq2PZJFIUWnv52BxIMcxKaCsX3mvw3DAr/zgPWEXIVCBZOGvEn2iz+K+k+xy81NM45gjS1IA4lGzWoJeEHHAWgDMMGfQ4RDP8RoBT7+0oFkQ3dCQkRX/yzDDAZwhRaF88hJC4zJ0oVmSEgJk0o+iRqGIol7inoI88POAQKGPkYyxP1EJwlKj64NfES3hgKG30WiARNAhEGFwdUCtAJRh6jKX8VqxdcI6kyfja/EXccxjZjP20gIQmAHfISG/qYBkj/aPcg8q7xevjp8mbwUdcn2tDtnO1K9BX0Avd89KL3qgSsArAIWAeA/w3/2wXo9knhm+Z094EU0BGO/2bz6v56/NX3ReDu547q9ObP6T3nl/Bo7qLqAOqg+TX86vYB7qH3Xukq8d/rAOrZ8UP8jeZc77nxnOLmABYeKh5pIqsg1Q4i+FD6Juhb5Fzn3+fH6DXtHfAn8KPvwOBm76UCjumC6ArtaeQ23ijS1MpY4QruDuyh7wzsof3TABUCbvLt+RH2dOuK1rvQWd4O4jLjB9dg5H3bDcyJw8nKUdI0vkuyg73IwUzFVd8F9QH84fgMDFsbzClWK3wLfhETJzgO/ewy5l7Vl+SCydbKu+Ft4+DoQtnp0+XkAetby/HHRNpi6WPv/+7Y7xj2bwG75y7yiwmKGTMHG/qV8on/1AIJ+0wFIAhjC070ZAG6/9n6u/ep6yHsEPF69s7w9Ouz+C70NPjaA1b9of4t87ft/OUJ7f7SnNWe1ArxuuW76c/12vdM+lv9fP+HCLgMmgJr74HkdeYaxLTLp8TWz/TOecqE4cLy1fAB7lP3zgITIGUiDSq/Omw4yTlHKZkhFh/SFQH0++tu30nXH8ylwmbJZcybuAuujsY3xhjMncth31fr0eZQ6k7nIPyT+Hnw7eYs+DAMnAid/eYKyBDoEYcFBxhFHvYgXhpJGhEXrhjiFEsOCe9f4O/MDc+8zVXhB+XJ1TPbodo/4jfB2MAVzmzSPM/o3jromepD3hHnK/rh/58AMgUWBQv6jQ0SEI71tAV/9t30I/WX9EjnNuX/6F7trvLM8Q76I++F89frpdKE3wDuWP9YAzsAuAr5+4P+If0d/SHwWvbz7SPqTd0m1A7IysXIvC25Ob4KyqTCZdAY4pv7KgCmCI4LFgYLAYIBoAWxAML4vf++/gL2pfQp8hfp2dW5z0DR08UnzkfNWdC33jbdHu/35bTidP81AnQBIBuVKfYlHB2kKUUqzxR6GyQsHCqAGdYeTBknDGUczBCjBhMJKf4M/eb/cv+U/j0LKQYCArEXBg9iFCIK7feU/8vqj+1/5NzjhuNT2JLtjudY5J79HQdKCJ0SnRp4DiAMJ/6GCEn7Seo96E/8ZOESyLLU+tjn5I/uc9Vtw33Ix9OM1wbcJfTG9Fn4d94G3t750PCm4v/4Jw1QD6H/sfzPA2oD0uJ35m//f/v49aAEyP3KFSb/8++gAcoTKAOU8OTrdidBEuUC1PlOEh0jwiZYGvQGWgsWDvnrktxK3ELlT8/J1HrZrOLq6On/g+hT/uX8dfZp+o3cOueL2PDjeuwX8iXZLuuq6NT4BgCx91D6Tulr7872J/QqBdULBgBWAVMFNAB59lL0gQXIE7j8SQMr+fLqSdVuzRXjVfnR6wz0A/YX8tv2/PzY6Tzttdvl4E3oaupM6qvrlOHT6FkAdRAwCiTvjA1CDRv7Gf7nDdoQBAeK5yThTO9A7O7hmNYA9xP7fO+A8DPqg/ZBBjT9rfVm/kv5twFQ+FH5YPZQ9iPukfbqAxby/wJM7eTv2QJ69XrnFOJZBpMSTwFx/VwfIxP1//v0KgJ3+hL/ZfCV5yHuOenX38DRNtO35brUh9EE5FLvbeOD2RXiMQBvAksO0RpeJEQuUjN9G/ge3w1nD6cStwUOA3PyrvJw/vvtQ9zH7RXf7Oxv6fD7lfrO8Dz8n+4l7YrrevSo+JgCfg/IE6UXwxsOJI8nXj3mNRMpZSPFF2gedgtpCBQF5fYV9kLq4ORh3E3ndOLZ8Gz3WfU0+DAEQ/7a+jrldNXF67bmdOmD/Rb3t+4491T1hAXjAmkCfhTTKlMr3SYVHFIffTJ6LSEbXC04IY0dngg8/Jj7lgPw+Dn8DPaYFdj68t7H3ljyCPRb3iG9Pd251CPQSsGE3jbyKu9/yX7Ovfrf9E3VyeIx8vH/mQILDTUQQCJ/LUAlpx5lJekt4RbHFlQYSfwX933bSNoB5KTnVdNc4hbf2/HR9FQCjxiNJr4mLiNSESglUyUQJnwJXAobEsL3ze7Q4gfv4AafDzYTUBwaIfQaqQ6IAGcFxfXz8nrdBvEY3TXTzMr/ySjK1NQYyz2+8MzJywfC+MZezyna0drOzj30FPslBfr+OAvBFKYDYvF98fPtzPtS+8nsPe2+A2kDtwCr/KME0xH+DS/5W/C19uL/n+zM6nLjLu9q6Jv6OA05FaMwazCsJV0mGiCVHpcoUSS7MzMefQplH9wWsg7TGAsJsQEaCLoJExbDDeEN6hNmFBsAWAp4B9wD1/zeEUsYuQY/CfT10P47AzQGvhJKBiYaESDdIHwdeBW/K7Ik1yCWHNAVYCSkC1v+Zv7wBX0PUvu19qLx8Oig8MDtzgxeFaQB9R2xIIMnzClSH88jiyLBBQ/5//DW8L7m4c8Z0azT+9Ijy0njlOry81Tyeus/8ecAcvHr5lb5nxB8D0APWwyfDEYdmwF4Ay38cgjDCQkG1OrtEoES2RB7BswF+Bo+E7oNWv6vC4MQmvx83ufinO5c4oLeuOiQ9eLzA/Tn/uwDUPavAvH4ePPw8Bvr9+C24iP34/sGCQsKBw7FCUwIdg8xE3QTohE+IasXvAYMB17/1PD29Z3wqvMp8FrmM+Rm4zLjkujm2ZHlhuiz7D/qqfcu8+/38vUO7GP5Ze+M9CcBgPRd9z3wN/BF3azdVOtZ7VbxTvhv/xkHTv1Y+H8Oj/3Q/qftO/59+J/0QAB8+UcKAg63IJsfERqTHxUaQQO3JB4TbAPW/y8E9AKy88roF9sZ5xDzSO766kLkv/4Y8cvm99lF6VsMxv7uBEcMowthDXAOeSnlPKov1wq+BXgbJRPbCWL9JPYt7tjvduri89X0geZ+6M/eKuSq1GrQStF3x2/nBuvH7HYEDvs2ECghSA8gFaEQAg4WACwOtA7sA3H5Dfpa7zzjbvX37trza+1Y9CnWftZx0pW2uKH0s6SzM7v1v6jCB75qxo3LzNEI2PnYg+uo89f4hwAeAA8CxuZp9f0CXgLZ5tnM1tpG6WXU1Mc+wqzRstK+z5vNOtI/6lHiedoJ9QkAMvrF8DfzwPPf7uPsUOwr5iLmVtXdxnbIXuFm7Hv1K/d29yoEbfwwGLMUlRboHVEV6xTmJAkOU/vqCDAIOQgE9UT1Pefn7vbsfPcz74/qZ+5k8hv2Fvu/86n1/gq+HlgTphEBIzoPF/qg67LdI/Et8RXtLO/O8oLw/u7d6ufjGd7V5QHVsenv3YDYNuDc5Hvmguzj5xf0jeve6J7pKd9d6uTr9Oeo5db0U/jg9nMDZ/ek/z/4ggKWCGQBQwA7DswIABWlG6YU4iFdFw0Qaw0dD+0BNQIr7Hzd5uil6XjZZs0k3ILXmOaZ8SLdddjm2O/ije0Z5MbTBOUy9jP+efb58wb+svmd6OXdO9eQ38fLPNL61vPgheRL2SLhoOMp3oPlJ+Pw1IDPbsOc1abqguad2uvnq/mt93gGI/6UBSz0PPdC4XfrAPAw417WONdj4FzUcMiu1znOj+XF427pP/xo/+Tq+PoI6AL4bPk89wf2QwS/A7gLm/78/m77df1a+RT/Mvlc6ZneD9WrzqLcMtL/0snbz+qa7vj6efu5DEQa2hsYCZEbAhKyBE//QulB9WblPdxZ21rdqtct0mjB57/NvNq/m7vZtUe8+MeEzznW8eA88eToZ+Jn3THlOe7b9e0Ylf8o+NH+Kfv++SPq/em1/G/q/uaX6fThZtst9hLiYdz82Xba8u5W60Hqs+a5+NnyM+0N6CPjduJ48zz8zv7SBS7wleK44KvnKtjB4GL5PPbn9/wEyAMJCOoKPwVs//4ETgZeBnwQvRcyEyAdZRRO+/72kvWu9sUA6/W29i7xp/5998L2LdVM1c3psuoz3yPsHO3/76LfC9iT4QYAsgyA9IP2exWIEIobDiOJJmYppRl9ESsYixkMGqQXlBDgIFMWbw16DrUFFgZPByMCgvRq804JAwy/+RABMh0wCwcPwfuxB2whnQ/DGlIPKwpq94H4wuxn87TgRs1I2FroF/MX8Brr6+3n2x/20OGc+rUCqwkuELEOWhQOC28Jng9oDjkb3QoQESsH3AXlC6cIj/3HBAsAyPHX9n35lfi/8KnuTf+Z62EQnSWRFY0YJiGZEygl7hUZFQQAQgnEDNAFx/YNANX9yPhL9Wf1iuaP8G7w2/tnA24GF/R3Bh/8vetQ36nghOUI3Afg1N0R3yXuSO3U5Tzgded29v38vvsxCPMEcv4uBI/93vvU71bvefxI/ZDwe/Ei+C3pW/cJ8j/cUuFf1vnjH+Fa1TThkd8k+2ICLf3H+1f1VQzEFu0UXAlTE7QbkiaoHm0K0gBXG04QMQlxA9T5b/3+97H77vMt/ZURuvvgALQKwhvqGmAiKRP2HR0e7BR3/aQM4BCYLm8owCFeNZ4p3BYvE70S2vcd+tcAqv3t+fv2FvbA6gnl2fg/+gX8P/i3FFoWgxVNHfYRniv0HiILGCqwJuEuqygVKosapyVhHMMmBiDrDzocCwgFFhojHSYiLmkhGBOSEOwLDv4UE2r2wPHa5FjmG/s/+aTuDAYXFOMBTQeAD2oLQRZ3GccbbxZsInsJ3Qe6C6T+Bv7T8F8AJO3Q/azmPeSF4tPjwOgo6Gvx2Pkn+XgMVyMKIL8UJBM3DNYVPQ199m3nMvHk5m7qs++X5/jrc9zR0qXq/Osl8g3+O+368Ebqj/yE6uv68gYOD4QHSQNiAqUPsPkQ/qwAsfgM/kYCHOdK84IBqQItAjT+lvNV/qQMGAryFAggdh0jBUYBzvCeDPruRvBqASkMJhy9HD4YcBc3EZgN0gndAEUENv+m+wAB+gXZA24ACA9V9X/95gUBB1MKoRE/G7AbDA/hAAb/D+475TT0UO3+9J7uO/qj98LwvvMN8sTzYPQu87/sJ+2B7tL3Net+5ejbKe/u8qXmU/GQ8av2Ju5O/WPx0vkmDLgBGgVrEVQOkBVgFQoiVDXCFegPiwgqF/oVIQzqE4EF7f3sBmMDawlqA6T+LAWSBIUXnApl8yH9DQvHDfX9TPzREJ0I0ACG9rLzefVV4SXo++JJ4cbS5Ntd2qjv4wEWBZQP1Pr5Aez4p+tt6x/gKdfW7KzpCfWjDasbxCCOGJ8jlh9hLB4nICHZFAMg9x3LEN0FwgpJDfsDEg4KGjgoiBwdKk00bTAIOcZM+E0IPmA7hkaFPFRD60bHNC8wPyd6IUMUihQnBpISsisZK0ExdTW1KnoTnhkALIEi3iZVJGAfzhUACTMXtBqPESIMixoxGkkNuxk8G80NJgGa+yT/3AH2BukK3QcaAb8K7wE+BXsS0AYTG2cceCg7Icsn+w8AEGAirRlXD/0Lyv2W9PIBm/AH44Dh2eMO9rcBOA0dEdQd5CxBFsIgxSavNI05RU6hVm9Lxk1PWHZKITavIpsnORkEGngeMQ+1IGgXQR3/GVkd5xydDkgjqyQ0Hf8WXhQpGLQddShiIQslHCP3JrovGjUQQMBQw0QNNkI/vkK8LLMeDw8oHEoMmxWaCj0Iq/X+6msBGPs+4Pvhet1y7/H3LPa2AokCsgU7AZMKxAfDBe0SXQl0Edwi/A4NEfP7Hv4d+Sv4mOMn9ArjB+Jr5Y/hhOBRzv7Oce206HX03/pp/Ov4Mv4vCC0R5hxWIBgOWAdmDbwWvh2NCc8YKRLIHSkQnxykIF4rJyV3Lks04DJjJMYYmhMcFncNmgu1EY4FJQUT8NgADvS0/aH1Tfz3CP8Lyxy/FGIiZSU2DyIWAwNvBoAOQBPxGV8XxByOGJcM1Qam9Dbx5O0y4m3XAfBZBCD+VPfiDTkXBRX5GOUjTiPdLSIfEh00GJEYlikrG4Ef+R1OEtoYvx9rDdH76QU4ADjzb9sb6IzruN6J1/rbH9pN4hDwC+WG2Tnjms/A1PngD98I7NfuFvY9BCADeQlkDnwLFwivBpr7cPzRCjsD3fjC7ebuue2Q9uryGfp1EREVzQvOAtQEvQEYAYT3zfZ39r/3TPL66Dr1mAE69lzeE+wG81XbTNfm2hrUP82M0QrnmOoW7ZrsAeWS9H/sPOe04xzhivvu9MbfHOPm9V/tMe6bA7IAU/9XAxAUuCEvNMQvQys4ImomDC7TLKkbJTNZMjAkiwzrB3IPeQXb+7b+v/RS5hTp/9KC1Uvg4uHF4bn4UPDO+HATtRC7H84R5A3hGAwaZh1EJcEbhhfzCm0ASerB3lzyyfuJ8qX7HhR0Ckf/LwAAE9IbbxpUIsopNiywICoVZyGqHY4SgR9KEBULd/K/++L0U/lFBPUQcCRiMDw2nygnOkY/2zsGMjUi+x7lGDsenyiYHPEdbij9FMAldxb3Ey8IrBD2CssOdBsRBRoDmQSJESIOcCI5HXEaRyGQF2QU+BG/JH4bORq/C+0RVxpjDXj6DAJD/if0nwZq84/vXulv+HsDswiD+HMJvPxjBnwHmRDTCnAPSBhmEgEXog42AcH6Gfeh/QHjwvfP7Gz6RQpwAVgJYvqpDKwLFv6A88nuXOap8oLvLOKN4izSmNYU4yPaVORL47L2kuTM8vD4BeMH5zvgyd+t493rJvjkDdQBjA3GFW0Zuhj/GSQB0PgP8kX3ofdtCJEc2hYFFdwQ/ChXIzUKjg8REt8MDgckAEocMBv5/4QPFh0hCBgO4Bl+9Fn5cvruAaYJQwxq+mbXB91T/RLw3+pM3fnpefAs6l7bgunr6HTqSe+fA8UAWAi472ntLfhjAR/6o+fdAi3yZ+x37bnthAgjF4ocLhb8F9UmzTT6GyMsXz4YLqcqZToJLmM2OjtyGGkNKwa79YzwKgU8BKEB0wKkAoj19fq/AokFlfPt95H4AgzKCq4UFBClCXEGgRlbKfIJPQ0KEqwkTREAHfokDSgiMm40MjMqJF4uZjWMKAUu8TRzNps+3y5ZIVcf4CSdFhMM1waUBRgGrRLvFMMJ4hlDPdcZ4BtaGqIfxReLBVT89PND8Bv6dgXQENX1vQea7r4G+wpkCBb4hvvm+Y4Q9QCvAyEEpgsxDdQSjwlbHmcxvRxUDcgPSAsGCAb6eAAJArsSoRsVFucEv+ma8lz45AKuDzYWEivtIz8sKUdRUGZNDkCFO50driUyFvMHzf028WjiBejX8rHfYMgg0mHeDdgj00fc7Oix6hbvQPXG94wMjQ8CDfIa2hjgIQ8TOxrgFSMdpgyGABH9AP3g99v6APn6+u3zF98a5sr4Jf2H5WDnVuBJ7A71iucdxTfgJ+2640fgt+Yx6/r8YPWo89z+hw8CFtYVxBUMH5wR8yBJHnkVKwHp+jT3mPdD6lTm5OHf4Mjc9+O/2ALR7OM8+3j5e/XIApoOHR36HXcfkRulJoEl+S1yKFQY3hRhAOL4P//R7qzjnOw84DTlK/QL7v/zoQCQD7T82PSrEOoNfQ61DckNlhATGZAiVBkTHJMydzenKVAzcTfJNGYjXgiEDbYe2A+BEa4eShhcFPEQSRJYBX8BhQ/NBdL1WQXxBdQJNwaTDhEQgBSMCfcMbA0sDtAEyw93FYEYRCuXL3Y0WTqOOrQ3HTjQN4YjkC1nKEgVJSK4DTAW6RmJEuwNWwiN8svuNumS9wD6GepA838BdR8uBKsTiRrKGcMlLBmGEGMXjSOaFh8gExMk/AXxjf0d7eTuCdyC60rs8uqk7yLtgO2Z4bPgbO5F87II1PPm/GADZPzGAeoDrPzt7ezxHuGH3TrgTtwQyp29OMWDzjbOReNM3yH3MAQ++ej4MPOy+lgOyQb3AQ7+pvpf9xfhBuPY6VLncfBb+y/t7+tt8rL0bQJS+rfwLfUN7pX5NvK23S/c2uC434zRf9uM1ULkfeBE2gzco+jI2i3fbuZo6brm//Wm6b74uOLZ/gL4YgFt/6X5YPeC8Sv2BvMf8oPyVPAO4YvZitGh0I7u4/a65iHuL+xY9pHnqPYLAOMD6xKSCSkGvQh3FMMNFv54ESYFMPrZ7w313QnO++Lvq/IR6p4I8vEy8UQAVfBl9EnlevT3/y4Ahf9L/VwR+S3bJwIphiVwM+8uKir6H94jFhxgFEgCJwnjAZUPE/p+CJIQ5/899ILyK/EI+IgAn/8I/44FbQaT8UoAQwtY/lbxBP7ECZgEoP2A+5ILXg1C/6n+uQHPCqT+KvXL904Htf8i8mb6pAJ/9q7poOu6+xEEH/+0BKf3Qfk7BOn+nAkgCC0MVv49/Y8XjRNgBnX3P/ZO9ePa5tyg47cGIP7Y83fxxOdU4Rvik+XS5mTuJvDA5VvnMur+7vPefdkx2uTRXdEi3HLxAehi8aXbpe4D8X/dht2U6PzgZNwz4XvYBt253UTR0daR16jNu8eszcTKNd6E37vehdQP43rYfMpm0YDdkPW87i7rAfE/+ZvyVvk36ob1LtxP2lTyce9L42vgZ+rk7ub6Ye6q3v3mDt1P5HDlNOtv7xfkX+pM6xvovNpyzsvn/OQd5UHghuI54yDpsdrD0Dve9frg6H7a0+MA3iXmvOkW5VLmb+fY7BrnWd454nLaCeVg61TS3NP6yWvQN9hS2sjcFNvt6BvwquEB654Fwfr1+Lr74QJUAcoN8guCCkgXRhZaAUf5fxCgDSoEgPuLB0UPyhT2HBUaGSpGGwkXpxVgIfEp9xknEskJThL1FJIL2glcEI8cbhnoH3gS/wZ/BQX/8Aa/AmAAqgY4/CH86O6U6hrqAPkBAC3/hQBX9cX+2/CR7nzbW+T+4XXffdiD207dD+g923HrkuXX4u3qvfIh9JT5GQRE/QD/p+WY5hXwPdsC/xfx3vk29lj5hO9m6jzfH+mT5vvd7PH6+AEDB/ZW6wkLUhsYIw8UvQe5B5UIIQEx+0P86veoBiriH+DO8N8BLd1o8034+uxU4yL26vTm/ykQnAjOCjwOSyWXHtcekSPQKxI7ly5uJJcebzfuH24M+AwbDH38te8Q7ADn3+kp8N32I9+24dDvSesj+0UO2vUw9gfqFvZy9UwCKx2qKXoh5zl+NfY4FjdeJZg2hDwuPSgq/T26Qf9aqFTwQgxQcUeQQ7k9WjNRKVkpuRqWC/IJIQ+5BvcUlBlABYwHaBLu9u35XBGDDBT7XAWLDGYdaPzo87QQIQW3/90F/fKBECgaPglL6kf3ZQDa5W/PbNDr1knuONRW1AffpeWe0Z3IPcO/3CvpzN1T6cr7OQSmD5sJGgHgHrIgFiKCJ50hGCyeIU0Q/BTpHbkUnucz5dL06/nN963j6fIM/P/12OjX3VH2cxas/9TdVes96qHzhubk9aQKyAP5Bu7+GfCd/9P6j+IJ0qzhM96w543bOuVJ7xz77f8w56D4SPTh03rUIdCT6Dfoh+j3+5YDpfb9/I7pg+h98qztFOi27vjjxNod7CLOqMihz+7cPcEisUus4sx9t+S2Lcsf6t7/F+5r7YoLAg+XDL3wefs2FQYxnSFtGroflCDdHUYLVAObBIrx5t8F4UbxAfMx5ITxKhGLGfEtTheeIZAy8DQZK/wlxQlqI0QTLQvG/Lz+DRhG/Tvti/xwBkT6U+G+1HrhA+cD3LHK4d1g9eLuwu2v7OkBUxF2BCkKIA1zFcQX2PwG/5oSMBaLCzb+Cw+qFJgY9QXhEq0gxwH37v7jqeUN6hTiT8dZ4/zzUAbw9vHyEg0zDscMFhdRJcEq9zTxKW0fFyOoIIcYBwfyEqsBrQDb/5z1AA8gEgMACu+L8AAOKAw0/An+cArCBP0Uy/0xAWQe9weo8BH1afPSAxnh0OgPAqgVHxsgCOIbpy98LEQagweVBXMmJAkN84YBMRfHBbHndNiF9fbvesleuwbV3gHd/e/iBOAd/qASWfTl9cEDVyAIEcoGR/sy+gQEveSu5mL0Gfd96u3vTOws8Zr4xvMZ6NXoMAtyBWryZQLhDQD/Wf5fAYYZQBA3Eof1SvlHBAAP7fSo5yrv5gxS8L/1NPt5BEz6uNVB7LwB9g25BaUPbBg1KCMighycFSQO3hVs9wzuMOl9BMkU/u3b66/9tf0E8iTrFeZr4/nM6q3MrEPOdOYK2V3YyOVI/NwXu+7tB/cuVzLzD3oTxheFHxYcNxP+GSctMCb7E7IAPiA3FFvriOFy68b0efdi3MXmmwBI/wjvru3x6gzzKvHb8KfwFQ7+FvAFxg8YBKAJowc8EZUmVy1mJQwDLwv/CO0KWwskB/MTzhbMFBMAo/pL9U3+vPuz/bX53OsZ80njW+Sv5zTrW9115enuFgPYHqIOGxYfMLAuviY4GuomOxzwE0IRLw419pftsfTtA+T8NA3hGCEK+haiA1oUbQhx8dD5LvbgA8z5dfvy70ToquHV7VHnbthC10/Sa+Lx6ev3huy87t/wNPPh+rT8rwF/Ih4XYBky/NL7c/19+WTsFfSY9Qj8FAGB80gCqBVhKbYbsRKQE2sT5BdeDn4cmySUC+/7XQWVAlEIi/xX+sAEMwp0BNEGEQUFGE4XJP+ECvgMSP2L/ELxLv0JGhAOJ+RJ+ML/RAwVAT7twf2C+iUD9wBiDEMGDAbf6iLpJArV/qjo4Ow162P4n/aM2nfgFvj3A1Pip+tEArEOyu7U0nn0gw2sATvpBtzJ7WcE6edC2OrlFP9X/A3v6uOU/IH4Y/U+6l8JGBEID5jzuPfkA8wLigECC4cXYij6Cvb/ORy3Fc0NWAs0/EkPBwLpB+EC0AYhGKYKqRUhIcQiuyvkIlIV9yC1KagGLwT8EG8O1/6E8hnu/AzpEgkKogx2DgkhKR75HVAf2RXJEAkMmRE+K3tCbi72MRcfGxIbGEQMXesS33LkF/RX64HsBvNnBk4lMhV0Ig887EKtOHIq/zBVOCw2WCf4G/ccsCKuEZkUAhToDJ4FWfn+/aEBuACb85zhX+nDAlXp4tw28isKb/wq6C7vuPztE8cAVeRb3+TrHvzm8YEC7P8GCf4BBeNR9S0E/gJjBCn7YQYSBsn6LPLMACIFhfaVA+QI+ACn81XwPPA29R/qTuv63d7gE+QA4WrUfecP6RnwHOwc9ubt1e9X8f3y1ef+Bo8EUQRSBvb5+OxEACb7su0t8FriRM5HxJLQZ8lRwq7HVcoz48TdJdix3E7i6+nQ4hLrWATeD/Hu2uhSBhf97/5a6jbuGfjF/i31zdyE1X7iz+te9J/c5dn31mXLOsrAwg++o7iPtZyxfLSat4S/Ab8Ivv7REN5b7P/xlvRMBBgVrxr0EqQH0fht/nv7wefI+fL4qwWXC2oUtA22Ct/8RPc56l72pffr5s/dBthk6ogJt/qQ40TdfPEJCUL9t+3E7Gn5TQbjBYX9eQdKF6IcRxxSCN4DjBJYDzn/7fe79u3xa/he7TzgPvjSDf8M7Qmw96z/PRfVHuEPbw4aHVYrMSeGDev+ugjNBXnq9Okv8lf13O0M8mz4oQ3BFgb9iOn28Y0IARsMEHQIiOu1BDMLlAg7BmIQ/wNwKQoqBx7nG8EiNiJKFob+nPctBZ0AzOdX76kGoAhxBh8WLQSMAlEYjwD3+2/oGu6r+lMHpOIX+9UJU/Dg5gvcBPUaCkYENO0xBoIUbQQa+yfxyvnjB5oFr/lAALAKQAFkBsMG7AUUEp/+GRdMFNYjTRwUE1MiKhx7EDMM0hDLC8gDVvOd63LWDNtX4+XELdF93InXqs3UuubjDuuV2RreCdv77YUDPvFX5SLvHP7O8t7SVNrb5UTvHuiX0ebaxPCG8kvgmdb591UJzPKt71rqxf3lAKr4x+y7+1P7HNpA1xDjKuEf7T/w4NJ53LjufPQg9cv+0hh8GcX8EfjlCFYQ1fSS8B/vJQACCCD2bQYsITgbJALQD/okxyeGG1EPiQrJ+j/4/N07trjPttAnylXOudTO4Z7pmuRC5wr3VAcu6n/56v9C9DnyjPLG/KwXLgZj8s/2JQ49HSkKiPtt/74kpR7m+sDrgwMsEBQCPOt9+DEcqxQxBO/rDP2kDZT6WemA7iz3/fGS/hEBbPQ0AGsCYv6+CtIXTh2BDEsQhhySMWYc6C/rN4oskCIdI18xtTzNNGAWJRW7HuQQOBKw/X8DkBYbEBENfRJ5FXkOEgkWDK8LzxleLUwnmC3uQEtUdF2NPU5Bz0uBL5MjRB3uCDMMfhK0BgjvTvzvDq/2xe3a4SHxGN1/3PbPmNmQ8Iniw+Ep3ijonf4R/P34xfvFFYMdpQ2qFAAaWSBTFx8VfA0cBNcBhujDz/3Z89KS2UvUmND3w3HPntCV4+bLbMlTzx/md+vD9fvnG+yCAH8LgwOO+PcI9Pf+Dh0BW/OPAKP+7v2o9wftQe3P/i3rct+l5xTgOdYM0/zTjOIm36jIHdMY56Pxotba4YHw4/5u+UL1JQOfDdcNewaU9j4QkBRNEa8CUfKVA+0Rrwbb73UI6BIN/7P4SPXvFHEZdP5j5b7Wy/Sa8LHaYtz+5QP0WP8P9VIMBRUyE68NSxn7FwQczCdLLJU75CAkFP0fJCyaLuMk3ijvLBo87SXqFs4q6jRbKMIHsgZTCt8S+hOP6uv0UgrgI/MKcQdyJMoxPkEoK2UnLjSXOmE0IijHIr4vlTUsNVoVwBoINGBIFzZBHKsahC0ELwsXNfLH9WAJ9feG4tHqJwAx+oIJsxEcAgANGwWUF0QQXAwKCyAJzwxNGxgVnwcuBMkeNw+n/9/62AAXAEHpt+Ek7oL74wkn+obpiwBRFRgLWgOSAnYk7BjdFYz7HQjOIIYrogpjCQ4ZxiWuCYjo7e/AB4YQ5/xT9O0AqA5xCg4CtfxyAQoJAgxIHKoPDhPTJ+QRnBUsFEECnAYlBowQr/BZ9l76zwpDDo70ZvVNBWwUvxQ++/gGVRmpJbcfbQO3DZpBlzyBIRUYPCZxLNgjgSbXH6kjZf29CEEdayeaGMMTTwmGCNH3cPgi+YgIbvnx5WHxRwz7HQ4rqil4HI8fUhACAGLyQ/KT7kPt0uMz/wMHv/hC70f4H/vBAB0B0Pvt68vumwDYA+ELeRefF5T+6w7EAcgEyvkPCioWPPWZ7hjlXey+5y3gwd1V3bDrvQIZ7FT04frhCkkG5Ptt+2/jy9xW2+XnSPHxBoIJ4w62FNocbSnaIcwRGxsKGzkC4Pwt+LPkJduv3i7SW+gF9rP29AxlAoEhBxc9F90UfhZYCl8EJPuF/N7/Y/aV7lPjzOhK94/uNtyo5+XjyPsS5p73IxFfGGIOmwgVFg4mdSQMB5rtJPcP8R3kodP4zY7Zd+aJ9O7w0/8bFxcONRMRGe8nRB+6DEH6Pf6TCbEAKum27CLxVOxB8IHv/RJyCFPvteYP+N374/ql+6UI6xZCIlwkdBXII+0tfhUzEgIY2xsTJSAOdvYE1P3iH/S657Pe99IA4Crm5eZpBoD/G/kq/IMHR/9fCOP8QvtqIzMNkgfYCAsTdRe9+QjxnOzy9a7w8NtF3sHsMgvcDn75YQS4HjAnfi7JEUIZjBx+NakhMwm+CcQFtPcB6Tj0wPR1AQcOKALGAYwFtBPaGJsa2gVwD/gc8R6gEc742gQLI/AthA0EAEsQaBXsEuP9XPxz+tkknSvvCyn/qwzEOystL/nN9KkQZyURDY4FvwkDHPww8RDt7B4BFxWYDNf21+8CCCoH9P6N5RPoMwV/Hbwldx3GB4v9dyZrHV8POQIAFHEU8xaS/dX+aAk0ITsfdxRUELgQAiGrG6QPXwXEBXj4RPau44rdtP2iA4zt++FS5DjrVee53cbex/su/9TjQ9eZ3xjgWeqI40XgtOae6gDk5N52zcLlHesw7gjwgPKdA3P/nwDW7IbkydNv1D/F2sIxw7DDp7QFpYat3rQ1r4vDisKrxvnTwdCI7TrsKObF4Vj2OfWT67Pogvcn9h72qPaL3vblAumw35vd+s7R5E3gG8y93xXW7uQn7Pvl1NNE3encEdrX0PvZtdo44THVsdW35ubLgtlJ04fPa9k20W3Mf9Ds0yDhJeo26ansjfMF3lfH09t44wza9N/IvjTDp9+t0sXNJ9gm0MPWvuGazivXdd8D2APa4eGM6LH7wvg/6tX1O/43AjX+DwHk8QDtIe6E36TYEsQI0KnqYOiH9/f3IO2T9tj1Mfff9wH8dPsZDQgQghL/D+8M3RQdB1YMOxJkEUAPABC1DVMMkwMj9Ev9ogD5CbwGm/yV//oBfxQaE8IS9RiuHKIdlBe/GbEeoh2mAon21QHOGschGSE6GMf9nBRUG4wMIh4YKBQilhCI/jEFywViJHYbRBHiEe8X1hV9HJMT7xbOBH0CIgCoB9gR8hMlEyYTxQpUFuoboRjFBVT7XQb/AwYLhvf45g/wsPKY/bDcstrT5Rvljdln2LjT1tkU97DxpN+J7jP8yv6/7wnkiulc+9z40Pdg9OD53PzyAyL0w/Pc/Nr+tvvR9r3nU/ig8hUGGg7S+lP70vcFCGUHMP9n48Dz296F13nDN7861OHTn+Hr4fTnOQafBVf1zP+K61z8+gJf76Tq/wRVFWAZQAzNIXUjNyFrEoj/I/dzCtv6b+h14yziFvOx5dLa4+9h4FnS9Mtp3fTwqvHz558Awvkb9K77sfziBYcPKADHFPASww8tD88DFvTsDA39OvZo8VX4GPbc7PTwv/fI+64DVvkAAkfuEfuS7tze7/Nl/b4GLvlxDAIPpRFjBj3+nQm2DvoLxQb4DdMeDg6cDvf1xu0z4r/eWuL94ejtuuFy3Rbvo+ws/1X+NwEaAx4cJhggEmMQBxmZKhwI+gDACXkCPhHaD/IDs+yr5Uvfhu2p7lfx9O+y8xfw8f62/PvxUu7X9SHvdee76IAUWhs6NCYtVyVMJqwhhyNCGRklTCXNGGAI5fp7+lIBHgmWBMAFFxhZEbUDXPlkCAUk4BW9ElgMLA2aFzwW0hTdFokkGQ4yC8gTKBcRHygN1RjR/pP0vu/g/+IFBQNr9x/yagqxAebxU/hNCpQvJy7dIAwfFCxEHXAWFRjJDLUa3TMLIAULXCslNroqAwiXBMT+QhhpB/oJVAKT+HH1eAXl9QgHZw9zEqEOFw6GDkYN/RADF68BgfUJ9tHzn/3Q7XHvyPBa7bj2SPVT5LTpAupm8p71x+0C72oCRPFE5j3qYfEd+ZAAgwL3GGYOEgHD9OL5qwyUAaXuPfz0BkcEBfQJ8Hr9v+4D/VvuGvEq9Cjvz9zpzgLiiuO/01LWWu0F9N/0pwBx/IwKfSScIqYnVB+hHGwbgCUiDXsFSe/t6hHeKO8z7YvqM9xi8tn2L+lV8wv0TgoxCcv4IPcJB0wMigfV/SkJKf9fEOED6vUiA2EJNR5+F6UD1QAADzsRZAJ2BLcQICHIDqgDxRmZI/0kbQkQAwMO9xWpH5kTdgojBdoIIQrnBegBvwFR7uH6SgwLAVnwHPsW/XAKJf6F8WrvtfYo9zr9uPcA+KAKhep400DTL+1g/QbzI9iB2ZvYp+tt6lDpF/81DzYF7QIfA2gLUPnX8j/s0Om/52DwXd214cveGepg/GoNdATvBkn/dQSU9ZnsPvjM7uDe3+Uq4YjiG+Jf2WfL+t2Y2OTTpNSLzKvOJ9TN30feH9zs7kztMgT/AdAOOgSfDLINshg6Huwl5g/pEEILCQuvAkfxbvkv3//WL9WJ1V7R5cBW22fP4t3K1BvfNuYy7R7vN/OG9XwPDCLtGOQYVh3lDCwPIxIwFeIOIBAN+QoG0gL2A/H6Wf0++6j9u/bb6cDOwdxX6ODx2u6t/jcJBwa654/ZaOhM78TvftxZ2s3h4u/U3oraKduv2XfYEelBCK4Imhm8ICQGlgcSDhYMKfjT7VzfMNu/1l3rjPR/7HjtludO6LjoAegi36rakdrj4zzgj+7vCWD6gvHa7MbdT9K738nbVcY61wbdg+PTyQbUSto81ubTrtUP6dXkDe41+L0G/wtk/V7+1vnw9CL/fwhx9JDs0e/B7Arl19kW2Z7mY+/Z7gfxTOkV3uPjOOr08qgEkRV5EnAXL//87x3sUO8J5gHlDfSd3u7t4t3V2r7Ly+BE4J/kb+Kd2ufgseOT5zzkEuZS6BvZ69Xx1r7wiuouEiLnF+Vp5r/qXepf3j/t/vJ9/Rr3DfEL6j72Qgx0GiMPZQtoF1Ua9wtk/or2UfQZ9r3hS+Ev5s/5QQTk97YGHPOW8DfzdfKuCe7sV/Ax9t7+fB+oGYsQ2xHxCAoOxQhbBc8PMRJ/9jX+yxNYD6r3g+np5+j8Wuou693txQj3EjoTzAxWBVcQfhyFG3QMuBlBPpEtaShtGV4lJBl9Gg8GZgbzFdogxA1RBBT/SAmQAPPtFfzOAlb31O6M+ybzdO8/+jnzvuzr817oju/I96IG0vaH6DbtFQSwANP+0/1i97cMUhGG+Gz79fma6rn7W/RK5qbwkwhsAuDoXumN90sB1P6wB8P9Sv+gDqENQQ4cFhEg1QOvDmAEqBEEHMgiOxbYBwf9E/79BU4BjQFKC28DT/4p/NHp1/4vBgT/IvpVBxwHmgbM9bLpjeJu/dAAcPUoAjgIGBmCD/IB2/bJAaAIvAhG7I7hafkLFdIerh+8HmYskSUdEvEXlB2WLXMkwReTGXUbGBHFD5n5bwkTCdoB3RR4Hw4Dy/6nBacR7w2BFrwiew3ADMgoWCZTJYYmrBRaD0wIdQoVFKoL6Qf/GCgh3RuiGqoN5Q19HAMwYDyEL8UxXTbnOckxIhzqIRUfqSZuJ/QdqyJuEowCufkV7wQFQgQx+mEDfwjfJJ4e6xc+HdYh+ArlGtsouzAcKcwX+xw/Is0l0hHRF2kbEhpoEP4NWhgRFcsDfg71A6USSQoWDYIZTR/wPflHyEApM10rEjuZK7wezi1AM08vehtNEVQPawg8AlPspdxk6u8IIAR7A6UPFwMeDfMPtRh7DIYH9gkoEBQVCBsr/dv/se//9dDrseH463XsMPxI6wTp4vpO6iL7Hvi78t3w4fak7bvwmv0u+LwEtgX/BOgJrhJYDXsTUPzN+JAC/QfL+bz6QuUe5RvsIuaQ3r/ZSeT501DJt8s/3ILnIPGM6WvuqgdiEAcKiffa6a/tVPga8FfnMPQAB2L9Svqx8sTqnds+45jqRurA+efuaNiJ1DnPsMnnu8bEqdCey3zWBtpl5BXvvPhB+sgFRAj5CjsL3P/rAbX7k+Qg5R3wKgA9BJr9IAKdDu/1Fed34YTlu/Oz+An1hvx69iX/jfXo+vIBLgRP/f30Bv7xAK8EbQHa9Z71v+Qi2Ffef9Xn5UUC//HZ8875gQeV/Yn4DP6c99L4HOOe5JniVNoQ2UzVf9j851f7F/b44tL2fwFB8IzvNPc49qLmiPXW2o7b0PHr6i3u8eQX75X/PfZP8qLpqu6z9Bv3Hvql9DL/WfOq/JgAuP4j+sz+VwrrFRgXvx3nKs4o4B9ANHge5ye9H14tGCmFKhQtjR8XAWn7XQPMAnb+2/mC+tEBdADXAsD/PwMeEaoEFACPAl4RJwjSDf0WyR0TLv0meR1HELUYQiBHFDYTWhAiE54mDg8OBA/6QwzlDw0IihfoGFs46C5GMgAl0RwFC2kCQg5pEiURQxE6C54Ci/6gDp4eBBOVGdkn1CNkKdgqbyODMOomuB+2DzcRMgq2DDYYHSdMCc4SHiIBBikUb/li/iUJkQmJ/4kOMQcAAb79iPvv8oL7hgGn6nsOVhmFGZ8Vp/FM6CX30wHf7bv5EPLu4/7vM/Y3BNoDsg59KWUSwhxMEIcAewRdA8gDkgE18r7uFtyn57TjceAS6WjWpM+VzYfWyOO46OTkH+Hp6Qrjw+I65dL1ZQFj/qoAw/qp/P8UXRnPEgYYei6wA80Qpx2MKXMhBBcjBqgIzho6Dz8SJgSV/AH0KvKs+Kn3wetK3tflmtzW4dLxj/O7+xvwuuA36FvpuOdV2EfUVt/d3PfWE95J3h7ZNOKw5Hv21/bX9RcLFPEs+9P28A6DDZoUvwloAZkKhwEXBXfzUfQq7cHb79Z820rcA+mo26vXdNe42ffgmex29VoJ8xnnEooKyvqY/+4RsgdnDEQOSBsJEB393ejE8bXxUO8n6ujnWNwy6t7mY9jD3Qjjyty16MjoyN095PPsf+6588nlt+I935fYL94x5ezactvv92Pw1/QH+Q0NjAM9A+4NJATV/+fyWt/57Fr5L+q/1pXnhuGj2Zntktu+4K3hk+UP/HsG+QE1+snsGesT7OHudeRf0QPm++Ck3r/wIPGN/tnyj+3j85EBHwRb+fXpCPJG5LnrBubm6+7mNOuV86z5FvTM93v9Xe17AcLoj/Zv+Xr7EwRy/fz26QN+/VDwmvRMClQHk/HZ4qLsZeiE7KzZZ9h620/cxevB6yX51/VU6oDOU9Pw2Zjjl+AxyoLUIuub3AnrMuMT6bjo89gG2K7yoPYz87byg+rz6krt3vU2+S4CSAWK823tbQLe+bX/uAvSDloKSffk9wX9eAQtClD40+oiBRMS6QQU+gwFoB7fDJf72Qtb+GECnQOb6QHwSBUcJw8vgBxEFB8UjxaqD4j6YQIiFhgo6iTvCysSUALtAIX9q/W89ej5x+m+2Z7aMOQ72kjkeNXC1szqNfm74OvXIvQx/17wCOTe7//+3/R76bTa79EU02PYlddr1pPagddb5LTcq9df7en5IP2L8v/eFNt1yx3Y69zswpHHX9nX37zNNrzZxq/UJeL52vvrsPmTAmj54/cB98n4Wg0qESr4OfP088QIoPWe8+DtttSI12vKU8NxzbDmTuGh4FvsquRe8fYI2/ej+14S9AfZ9g/37eVT6N3s1vk89ebuEfdq/WTug9Er1WjyE+426LTisuU67NTwMekb46Tvk/lMBDjuge1bz471kflN3YzpuPUt82X/bt0P7zMAt/+tBQ8JYwhmLMEtVhrMDM0WTiCXEP4Ae/EE/UT0RfST52D+f/ulB4wB/ANNDyITthJhE2Eg5CkkKQMkBy0uG8wTMQzWBWEAsv/T/artofI45ujPLdOY2FThuPCXA9fvGfX17MPsjt2d5UnZBeGU6jbqeAmo85QKLP8CBdEK2hLO/7f/7wulDBQK+BFNFCsT/BkiD64BLQj3/8n8Nuqw2rLsbdgozpzMPcsRxDrBUbf9utrVvuSp0UfnuPDg80j3HvlO8GQCLwWV+5T4Cvam/FL4husz34LvhOJD6xzZDOMa3hvQFNgF7J3xo9NL1DT72P5RBxQCpAO7E9cK7+Wl6bjw4ATt+bTUE9+N4dvRTMyIvtDeEusf3ezZtuaZ9fcAotzw0L7mjPua8fjdoMrh0kbkHeCH4xPlet225cjSSNLgzs7LF9VPzNPNd+D+2eDRctS04TrfvNpPzZ7bWNaS3+rSPNDH1wXQ/tj90h7cCNe76U3wmvOY9wXuY9/b5xzlKeue84zgvORY/dMI8vHL8xD3yuv28KD6+OqO+enkYeh/4F/nd/iA8bf8XwNhBaYGUhCGDuwe1yjbHsYSgyG+K0YangdNAZYBIAXk6LnjY/ecBDAGHf0C/9X++e/L5nPkNOh6+M8KvQDr/IL+Uxu/H+QXgA0XCKMHrfam53fkTuxq6lbrt9qe68fzIvZM7/zb5NqJ4cnx3+a76T3y6+Y5307ZZ+BJ7GHu1vp8/C4D6Ab9DIgbtx13G4oO5A8vF20LBQFrBzcAxh91C60KxReEDgD4FfY35l7t7wwpDUnuCe+rAgQFlASMBgMPThtyJ7YsvRgVJAEsfCngMvsqiD1eRoY47i3WIIEWLBUEH5Iclh00HwwaUiCxM5smWhxAIm8PIRMyFgwDIxk0Fb4bvQTJACIObwti+ET7Wg6rESMQbwYvBBkEQAhiE0UXlBbhEqcZGyqNKDUXxA47Drga4RvTCUURCQ7JE6L5aeuM/YkANvVC3lDbq+Ek/yf0R+GN80D/s/gQ/pv1BvwMCyAIlf78/QgSJQtuCekAZPuW97wC0u2y4rPhSPmk5M3zzuY13vrgVfTN+Lns5PKi8IjwKudG5hPfCvlX+VTZquTh8Uv6XAu6/ZgW3g+NIE0N8QlyDYwP1RVnDdn6FxL4K4kr7zXIJbwd9wrvEkoBvPHE6vXpdOxo4KrIk9NMxhzH2thC3UDdrcyQ3HzhWdPT3SXwzASvAh/zwwV0EzEIixamFEgZVB9yG9r0bexlAToIUge88GjoFecS4/3Vc+NT8oDiQNhk3xjrM/b/8Efzvfe6617uPevh6/z5vwZx/cIAM/iBDqcDNRAbHpYP4QlIAYX+4fq0+IvwqPJN+3b2VNy/513mvfIH8BPsX9/B4bjOUtwH4bTjwuis/LHxjQoaBjcEMh+8KXEfzhPmFFsnJg/lC9kLHANl/vIHAQZn/tP38PjD61j25vBB7KzmlM6/3cr00O89+BX69goHFcwbCCbkLeBBSzVhHHcXNwoLD84ADOUc7+T7w+Id2LHqt+mS9pHtX/4d/NwPAABK+4sNPBgC98/tJ/xK+T37Fu5J8tXkUOaV9UP61PzM9qr4XPAY5VXWju1V7kjyNQCk/L8JNgYP9TjwYuxJ8NrhCtmO0JXfvN9e2fXf5t4Y5Ofr5wBj/v7ytfcX73To1PBH+L71sg70HdcJ1AaiAL0digf2DOIKEBSpECQoHicKITMbshtmH0wdOR/JC14bEg09E+sUCwUKE24MMPq3/1QPEx8dIrovgSgtK4QoSw+TBJgN3gyWDsMDNf97/dL4zwM+GDUXSRQgEx0VGhNdGaAAfAg7LNczTzKWKXIz2y8iI/AcWQmrBEr01Po++8X/2wbUAtf8Q/6kBx8CYw1s+X8GtwMU/XgZIBCKE8UBd+pZ4ZzjYt5J3+bgDvE28/gBDv/E/kMBLvr//+T8wAZjCoEBkCCSCKIbpSJ2KJceaCnZEkgYBf9oAs0Csvx93XbTKsWiueHCQ8pL25DjLtEX1vbZ8fHD9ob5GPRkDGQVMwutA10PFhadB/LzfQAf/a8EZ/Ny8eTy3fMb8kPWTcfM2E7pMO2z2xjZGdde2vLqXNc23SfnAu6Z8F372P1U8BX1lf8H+Qr6YgRR/MnnOujr3f3uy/Mu+F33ZPc283H3rgeG9ZUFJPoSACUFvBOPAqkLhAbZEB8RSxQxC+cLJwtCGpYBZ/25+q7fNOAn5g3iXuqJxXvXHNEP1WDXMc5/2+vb8NQHzCrKKNtw6C3hfu6/Eb4iEilNGQoZwRBLElsJjvRH95T0YuZB19+9ccgK0z/OZMiuyHHC2dJ9z0PWSejf5QL9CwY39yLhJvjU/9z6uPl5DXshTxS1IWkkUhKvIDwIQQWTB/v0L/PL8dnsGOym7kfjx/FK+kTtWOt49n39AvaWAJMApAglDtAMzPAKAr8O/QwfDTAGeQqdCCAC1ANlCeH96BOnEigB9QIQ+awKSQdIE1EX6AJSA6MVIQvE/9ELzxcGGBAXUxlPEPQNYSQALkEhuybiHQwfqh5fNLYp0SpsEJgNpgDv7+z5qAAh8a/kEPQn6wb2Jfe08NDqnANSBHz7IvYl+xwIuAMN8dn3RvvH+Y38zulN5xTe7dr04/nbNdXk4DTvEelO7Art2AFaEsUVvAp+DFL2uQgq/szyHQk/DO8XrCTME4EIgBH5CV4LA/I7+Jf3MvN2C3XvwvZs8p7vowYYAQsMjwGd8HXzT/jY7b/5zv9a/iwHvAATDRYZjRaZH1Im3BzIDPb6RPyOArfwVOj/897/M/tR+JoOHga2DNwNwQFcCRf7FPlE8N/65OWG5DnwV+fv8f4E2RK0CmcDCglFF0kl9BYYHHQgHSGQJwMIjQL+KS4lQCosId4gvhsIIKsYrRzHHo4arRAqADYL8iPBIScniSRTMAghfh7qMgY5azBcHUgWiSiOLKkYJRHOIKkfUR77FxQW2BbdD3wLxP3EEcIcWBJQBTYSfgZEEgocqxneGsMjvSKhGaIzMxdJGqQJEgJ5+cL8lP81/iUBzQVxA/wN3BndKi5FhUwAP4Ux6C29C43t/Pr6+GX5z+iS5fHkffGQ7nfnVfoj/X4AbwdWCVAQaxMpDe4PqxrJGlMaIRTpI6QKwBFnExgIfvSA7VEDwf56+znzveZm5hvx7vFd7N/wBPcP98/kl+gi+ZkB8wGZ84XuIPN78QDJsM131MzqCtCBw7fh8emS32TY9+o+96YFzgc3+cr4qf8WACvz3Ohu7nHw2/yR67H3dOTe8vPyr/ax8r/iOOiU7K7uRvLV4s3ojeob7x3vwAsjAB7yq/arBJcQYB7EFw0SmAz1/LkEgP8GEXAKCANICHAGZPYK4kDmn/EmAKnwNehV88EPswbT+SX1PQvYA9H/8wBpCc8Y0Qd0+WwJjgDFCKP/GwcrH9Ml6icjJ/UT2hU+CRYH7vyR+qzjxtuM+IICWeom5Jjba+1R9Y8ARvXbCPIXvCbVFRYfgSY1HFkWAgcnGsosTh6TJvsiACuMLQwf2Q1AMkE2lhSl8O8JsxX7Afbm5fo7A+71n+Cs6r/zN/CL6rT63hTxGhQROQ6JBnANnBPX+SsKRBiuKQYi/xGzKysqEw45AKQB6hHVBk3+ogA9HC4jDx5VDGIMzw9CA9v4bPv5CAP2Qubs7w/cPdfh0tvOkNi63UHR1eJr3/7nzvc/8bv+lQipBivyDOBB6k/mUdIrx8nYc+Ppwi6+Hc1a2LbNYtKlupe0pL4ZxtK/Nb770vLJAssp4UrOjNHF3TPIFeTB1dvAHsJg0CDbKNbL45TrbPGz+FT75wt/DmIMTuuY5+/+iuV+4Yvgw9jw0kHax9o/0TrTiOWI8OXzu/64BVEIcwkMEzUPowjHBZkHggFfD94InBO8AyPs3O6L4OPZZ/Fn2ynbcOOe3pjOXtQW5brhyeI6+Tb4dv3W+q0FVf3ICyofWwtg//sDmQ2aFOYdZBGhCk0YhRgUCr39DQH+C7ARKwmRC2EJpiFVDM7z1BNrEGEKcRIf/1b5/fcT7vz4q/J89EvlBPrX/WX9Mvra9Yn96wFE+FH9xvUXFLUN0QdxBR0nfhjtEZj7UxxdJBgMGPqYCDYL9gOwA2jxwwJDBqfxD/Tv88LqPfNu82/4zwe4/dv0OvOZ9YL0delI8pHz0PEK8dfsHeQ88mvnF9Wb2mHou+YP3AHdQOHD23DkiPrBBf8JA/mH9jcBPvgh6S3cEP4s8aTjlNSi2KLmP+413hTYoOfe4NjMndBO4Nfbkc624aLov/UQAjXh7/Gf8VzUM9RK2K/mYtbGwvS42tNZ2WTQrMBIxN3YQcX4uye79r9Hvi+/Vdnw2PS/4MFy1ZvY+bipyhrOgtdT3RrPI+Pi5yPZ5M514w3uUfTv5IvIwNyQ347bpd0C5gXveM110I3FPtSn2YDARLYxvH7HdcLPrXW66tMN2JnL/N+x5nvneuMS++EEd/eo75ToqvIp/1T0+OxK9YH3D/6F52XiLt6T3k3cA9UK00LMcboGrmCzNb7F2cPQzL0/3OvzD+Wr4ZjY18+J4jHaZNq67/7/xP6cBdcKCB+e8bHvFu7T+Vj7Cemu53Tl2tWRwW3CDNGC1yfFM8HR6d/+TskZxhLfsOhN7eW80tBC64HZBbmkwKTm7/9T3wrUy+A++oD4JuIe6ZH8ZAjY4MXcBuw+99Hir8qh3GPsUNvdyZTTKOAQ4ke/hMhI0NXIzKw7pWi08sBqqrqoD7oL3mzFHb1/1YLbD++DyTXFoNqr24bd49/64QvtzuSfzDXXoug56h/i0NcU0ozZk9VY1KblI+cqztXJptKEzSzf7tCSwwvQZudu0kDK/s8E4K7pmugo3SvxgAgzDRX0Ngtp/0rtsN904HXXQ99V4U7GNdsS5qLbY9b4157a4LXwy0TEIdln43a7b7e80b/c7s2yxaLcKf1M7szmi9/69h8C/+cRy9fXEezG04bL9tRH1V3SRb0LyTfqieRE6Xf4lwrUAr4CCQS1HJAK//EK3GbV8d5E5VbTpdE8yf/JlLVYtWLEy9HD0G7MUsq/wSnVDs8TzjfhHuz46YLtr+uN9gTwjuPa64Tu3u6s6YjkPs+V2kbkccdkwJHVwd7Q3vzNR9AQxjbfcNAF36PlcPUt2I2/f9LB73j0r9SqzK7jF+wS3Qnjq/Il8prhRcTh1ZvsDc/ZqLu4QNs6y+rAZsn96qDuG9m30AHY/+uP6S/gPNVv7o7rrdT1x3DdbdGIxSi2K8jvzZ+8zrgexLO75L5ht8KjEKO5pDCicbyuxlfBYcoUuzTOQt4v1HbLfcar2JvWdMWCxojh6+CJzOnMVt5366bcP81s1uPrKOKYyB3aJeRKzZXKjsvhwCDBUb+txIPbiuZu4hvPm98T72f3QuQY3xTyogvM6TjqFQskBePyrutt8GwD9QMj81LsaO/E6qbox8RM17XjnOSV64ryWe3P8B/wXem54X/LUdNY4wD3dt9Q6pb+uw9J/sD2GPzM/3X/Ldgb9PoDi/X7AIYZLhTbENv0cfiUBjYMC/9RC+UfdheFCc/8+xk7HisNWApUByknLQS08Ojq7AQC/pjc5+tI75b9jP/L7wz/xwUE9cj/BhW7F8IXdBn6H3UYuQvW61MFBQVM99bofOho/G0B7+r6As4PPBUgB88E0gfqD4Hrpufp5mfn9fTO+9zpc/eJ93zoFPh5/OrrEOTC55Dnldpl1wzZ3d5y867rweLk7APqeeiN52bk1dkq1onUIedy4Lbp8vab+x/wF/Yx6doFlQpIB7v0jAJOCnsE0e4m8CICPPZh25vlrwHg9c7z2d9B56HsB9595RXiIvAL5P7pi/uqBKvy5+MN39H3xAmk5AXa+vguAzT3XeCk9wAe0Qph+D0GtggxCSHq1OlLCQQD3dZa5hYHyv598NHgHNeA9Obwp+4TAwQMLRy9/eLhegYD87jeR8/D2enwK+Z9yrHVO/Bc5PPYqNvI6nwIzfc34pbfSwo+9EvqTP/i8vr7iunm7NX/SfSA6orvIep55+3aiNcW1xnTzsYT15Teg/iv+tP7Gv6ZCaQOMPS479cIjw0/4M7kXeEd0kDNi8M11tLUjN4Dz3bdJNo/z5i/09aS0MLK0dUd4C7x7+xa6Wf4nQaEAuADbQ+PDqoIxQumD9QUeyXWJc4ljhVcFjUTuhzqH5ovWy3HKzI0vDKuAikJkg30H98YB/1NIKUtKA2+/9f8IgnrEhz65N9Z57bpdd9D5Jvz/f/I/Jn4hfZTCvwMdgsAAWoU0wm+BJ335vGf7hvyB9s76jfvU/CW73viLe0V9oT23wUV96H1I9uE3DvhEOyM6WrtkuMB52rwx+4rA9zmPeLiARb+M/sQ9dLrKOgCCJ8DV/DyBrwN9/9XEY4aZSXjIPESOQgCCAAPjfZhBOsQAvkD/IP0uOpO9GDpwMx72hDnlunm11nnNuC+4NLvGvUKDOEUmA1iF28x1iLKHjYk0yb9MtIRKhbqD2AobQ1s+Gn3WhvpIAT0susa9g3+MvO26r/59vCK2SrnQd1Q37DbxOlD/ngACPvwBQEAZg/dAxL4dPbg+mUKhPoz60nkgxYxAdoJmANREyUPePea7Sj66QXVAT3wa904+NvzHN4l3nPcttLQw6G87sc70S2+O6nNnEu1BaNMtBChQ7b1y3nQVMbj1bfh+uQe4bDfbv6c/S34zt0c/N3+sOiv3p/hytrG3jDLsd4j+mzpt+1s8H7n9PCd1treFOgM5dzyduhI4LD0BfOW2nTiF+iH0rjLEuGc43bPodIH0MzRicPtyTvMYN4g4SPJcsEB6ZPcn9514L7XfOGS6TDh6+BL2sDhuPeR7+LuV+qv+QX7eOYT5Hnplu/P66LnLgEJ+Hzvh93t1Bb2U+8Z3yjZYOD46qzhhN5g86UNkvcd5crj/u81BLT8bd477MgOv/5Z40L1bwRW/sLfE+jy+Nz7dv75+3/7tRoIBRL/rgfzKVIvTSPBHwQxdTh+Hwwb1SeCHTL6OAI2+hwOOvq15ZTpORB/Cm0CGQl/+2EFeAL18lsOWgx1E34LPf0r/BEG+ARGHa4T9yZfKPkrgCCWNN4hGSMCIiMTcyHkGTsKTBeeJhcijBJb//MEHP+B/eX2TRIqCtoW1yV8HbQSOh6fI5AZxwNcCOggaibNEUkaQBv1FAsb4g6dDRgeaRiSFVca6TA+FQ340wHD8Uz5dPJL/db/sAFB83YAKP+CELoSGQeVGWUUkRDjFtsZTBsPBvb0pObZ/3kD9PpG+0UVRCCiAJf7BAoRD8XteN5K8+nnfAIA3jLk8u8P5D/c+Np386IQmAMDC3AHxvd298npSeDy4/vOuc/k2UDZrtrf2nvwIuYL2W3SIduQ5kfgc88BtGPQL+ny20DXF+6e+O79cOu788705+ZI8y/1QO2K5FDeNNbi7hr+k++46b7vsuZu3dXVIc/V7OLsJuxS7Rnt9ecy6un7n+zBCAL3dekZ6gnjAPLq5/T3IOhh5h75Vf/c+9T/uf6HDzcSwgZjDXMSRRWVC7X5VQnuHscSmQGHEWscwRD//p/9BgwY93jgPeTr6hoBlgrqAub7QRWnJggbpBoSF4MZ5BTL/CD9Le90CeP0WfNH71v+FQU6ER4R1g9iFBENCQmB7Pv4rRR1E4gbXBCxCNEKaBfvCo77eQ9oJX4vMQ5EBCcLwfAY8Yz9OADCEEELywnvFkIaBxYYIysofyrUK38jqjPANkA+oDILLuU+yCWGFwwkJSJDMIUW+/N3+PDwO/uC6Uzt9fWqCUQJGvY7Eegabv3j9HXpBAXcBsvmAfNiBWn8YvkR/1QKZA889Z/vR+nw9FDqD+Pj3Qjpo8/d0IziEM7d39fnBPKy74f16gVDBeUblhLDCbP50udg6c7o0dqZ3rnqguFL8Qvmq9+J31zjuN0625fSkuLf6C7wSe+e4FDilfFg7r/vHPny5372hvHW5cjza/Ru53vesdot9jnrxN1w44DjCtXr0G/JNNDmvlyno6xfv5bDE8TduWqzH8532lLXJN+14unuhPDx2f/slub07G79jP0S/l8Jp/NA2Orhu+C749vPVMyL4DfZDtbE0I7YdsehsDPCLcYkyhi1kr+S1dbdicPmvXLaN+IU9K3nyexf6nrsWNOf3lvkBf8A9o8CHAcXC8UcEBf/Gm0OLQZK8Tr+/BaxC4UVThnTDHQS+QgS+YX6jw2aBdIC1P4eAMv/YQ/EHAMqDh3aHvsR/A/lFtgB+QlaC2kJSvYg5az2Lv68/8vuZvLT9e8NUA8YDWUD1Q6GD2wX4QEo/oMES/YM9Yn3/v3q7/jxvfmW+p0Azf1p+GP3XuXa15Tnr/9I/6zwFOSK69f5Xeyf4BPlbOXG9cn5++ME4t3n3eIQ08faPOKJ54zqcfUQCCYGRgCUAmwReP8SBNwQqRfRDcryPxI4EGsLdgKY9Xb8BOcg36nNiNMrtrrGicYG2rzTFr8xurvTZuAa6Zfj8ewM3OTaC+LU6P3YBtoi5avTBq0qtZG/v7skv+fKcdUV0UnnNOKc9x32mAUDAEHr1ewWATz1s/4Z+SgD0N611ae/icnq04nOX86b13PRP7rkxVbIR8+TyRna2Ml3zW/Lxcxb4JfcJeFd4gTmq9wz4KLsD+in9dkDQQCN/9vnO/+e/DDzHOtRAN4DFgogEosWsgv7+kj/CvKt6hzeCuNP4RTYCcsc16TzDvLU3UHePNE64BfzIPet9+Lw7uKk8qQEvwrIHcYbmAo7FQsgsAx0GGsrGSKvGH0hZgdPB7X+XQ6fBPf9//Ws+u3zTfev6GnQVNG70ZK8CrYWvVzTZNt645vquuEp+VADIvghAiwU3BWtCvABSQYO8pPgi+jU7qjz4dch2538Gvs1+T8FLwqEE4wQBPvh7cngNua37WffN+zs/gkNOvW+/hf0ffxs+7MFzx1GFnoLZPpqDogBJwdJ+yLjzuoG3o7Uo9Ch3k3hGMpQwRnL4dOVzTrCHdiu6ODogfHZ8BL0wv2h9pP9fvlN70ziMO+k7UDxNu5r9rEHbAT4/rvzFfVH/usArAv2DWEFNvym/QwAGgxAD/H+rv8i+jn5egjO/1D+g/Yp+SnxadmQ2h/in8+n3NnTgtDE5Arf39NF4kLslvS0/3PtZe6o6t7hT+Hf4on4JvuF+A3c/NsF7gTX+epa9cj2Me9S6IjgrQGHDN4KZAjBC6EIuw81CvUJFQpO6z/7KA2m/nD34wL393/uxew37GkA0xEcA6IFOQzCIyAKBhG1EFwNPRBH/JHf8+9H+tntkgI7DyQOZf4O+sT24g1vAC8LKRPNDtUiqQzYHr8vAy26KbEJdxK7G2YWKhtrEhQXVhb/EXMQ0BoGGgMLPxX0F3IUtBa/DIEp7xgmGQEjFSnkIDkWQQ39Fm8U3gd//hUJKh67JpIQdg3ZFZ0ipxoqHyr5o/rMBSAMBeudAnsVLxUOEycIkx1g/bz9MxYaHeAerSRmGOEuvTRTEOT+zAcTB7wUERHACggbmA3F/+cDxfkZ/Vf9F/Sx8gv43+h83D35Dur75wjnKPm78Hr+/gYdDHwP0Q5DDBkEIBFGCwD/oQZ2FiASEg9LCVYEgwUL96AAH/1E61vusNfc7Djuhvhk5ILqFuqc/sf8qfZv9AUaqCBWHJwZFBOPDlQXGRBfH+8TivH56O7z9vlE86zhFtg65YzphvB88p3v4ADB8UD4uPAg9v38Fvgy5PzvFe+A6Cbu3+/y9+f6DwIyDbAgdhg7JCkbrSoeK7cleyvUKL8qtSVdLmUuaCrNKw0QyhF3E3wTuBcQEv4OTAc1BOH3OvuzCt8ABwKjCpYOJwNVBJP+QwX5B0oV3hz2Hn8c6C9uOlYm2y0dKu87oTpXV50/UDWSG4sZqwcP/zoDWQNEAUYIgxxhGVEXQRncJQomfyfBFdIcsRYcCzoCBAiN8N/8BAwTC3QY5RHVK9YkDycUFsgcwx5TKxgqYh7jEBkkHRusFwoGOQqVACX9jRSfJH4nxRnzFPcRxQXcFA0U4yrDHeEFUQZmEuAGW/nC+hUC3AzI96n17uwoBt0EhgyDHcAU4h3vJzYfWzEiMdQqehX/EWsW8giWADz70wNs5//wVwcFEkDrbvAY73zxzfPfzPXVmeEk8kX13vAX/i8Gvv8vAsD6AACy/lPriul/8pryzPInDEQLlQnB8sT2zQ7TFTIOziUIF5ITMR33D1scLgr4/qQN2gQ9C/D84f2n6Jb0T+nb5MHsyPHR/vDh0+6yCZMO5gCI+gb6GQRZD8cfli36J6UNeRW4GL4hISKWGX8dXyHnE0kKhgFrC7kRTgxR/EAZnRuxJZgYehdYIioS/BlqGGsMZv6X/moEevk29UcE9w5fEPT9KP+/Agv9UvPf4aTyoQGrAY3p89uy5foFawxcA9wIKAEJDq4GnfzS+Lb1OwmECxD9IQf1Ct0CA/GQ6LPcQeEO6Avn2fjx/dD1sAdtDaEBIfRcDTb1WvIu6mnVy9kN5Xjiks/31O/VG+8L4+vq/fgc/+7zAvQu/enuIvos+Nzy5voRBcb0N+V867rwTPE77VHuk/e7+J7laOuC9sT34eLG4YL4ee+m4gXkeOWF6XbUEtsH3t7uY/VG85DxkPnC/qX1B/kXBx8KJQyU+u/zXROzKj4VgAoIDnIdqRbCG4sdChMTA0D/7fj27N3x6uhy8RTy6ude8fXm0eNO7ZzqrtmY7mDqx+9jCw4AtQDK68bsCuix8VLtNedR9dL4yP8j7jXtvAb2AL3xw+gC3BHcT+aO32T2EOnM3C7SONWz4JDVX8ZNwGnORdIm3aDdWdZb4QbjAu2M3z37BO/x5JzueQWkB3P+HA4mDD4IXvxUCnEafAet9q8KpwLXHNMEwgXZC+j9kumu8HPthOZA7drWJtox3WvqdeQS3OniVdv44/3ZoNX25zL0U/Hz+/UH7QqgGYIOihUZA6oMkhbUBKIOLhAdAtH9jAAOCcz1ctzg3oHVV8lF1SrO4uBH7VPiqOZ/6fPt1gYa/0L/Mfp1/Az+CwQjDGYVXQqR8trYa+zf7/LhB+I83Xbo3fbM8oUHzRr8Fo8P0AXuHvYcgxYpCuoEfPrw7U8BJwQ9An0MFv1lAjT2LPdB/VD1e/+WDM8K0wDg7Sb3vP1cCL0IDhL2+gz0MQpkG1kJIQzIEAQosBxZCDQCIAIrBqkNcwrOBhoKZw6bHfkM+QX2CSwWnSK1CnQRhA2tDov+1QiKAdYFVAjlCCsLzhevC7sPYeu37D7w1vIV65z1cfW3Cs8V7RU4JdMYbAiwBov/reo+4PXQUeIG21/ne+Sc4PDggNkc4azfueSk8g8JPAiP9BHqkvQn5Ev4hP0b8rXz+/8d9rDj+OgUAZgGnvec6AbvxwCM7tXk2+MV8vH15+7n5/HdvOu/50/vs+0P/N39Yvo/9l709ukq5d3itd7c95HzKfzaDwcMv/zg88z0Vv2E9w/5agGpDWALQAYJD4UH2Qhf/ob4FvX8/g0Kpf3l/NAED/IA7UTwTPb88Of1oQNeDL/6u+U/5K70ffmw8K/xOfowBdf3wfaE7OT/AfOcAb7uBPB48XP0+/4J7jjjFAJ6AXv5YAWS80/tR+eI50TjQPBO9fj7KdpB3R30Bfxm7JjuJPIK8eDdze7h7Prjlu1Y65fmBvQj//sEzBY8DI8QQiSODv8WMhx/LU8OOAtLDLEF8ffR5znw7fn18qfn5egl4wrteOe54wbnMejf4ZLNwvK89fb8U/yt9bEHUwhdC7f5lwPNAo4OswuAE2cDRf6TAIr8DA8I/zQGpf3M/n3wW/uY9aIBggahBnTxQuZQ7pX40wCQAC3/5v6/4H/w9PaQ5Xbo4e2r8F3/uASNA2kBu/yx4oX4HvuyCL8NVhSLEe0OLwc4D0v7nv5uEIsVqg1vA8UFzARhDDcAcBT9HUIf0gtoC30FhgqrChL45g3kEUYVexWfEhgVdRgxCzcW6xZQCtb8zfV/9skCKRE494YN8vox8NDyFAj2JV0iQxeGGN0gFSd9GkoRdBIiBEL+rPU2AxHu//CA52Xpbg3CC1n6TevF4U/wz9uh4RTadvTlBYD5tgaNEtENPPgQ/v0R9v9jFJEXuB6cGQsJ6xwoFcATsSI6HHskJSR8JZUcLyOAGUMPwBJDDIYEPyKwFEYYdB9KK5skhggd5Kbniuz+207OOdZX2Szb5uMg6DACEQLX+yUG8fkP/zH9Ywan/2cMEPkW5l77B/n45k3fa99B8NLviN1k890GBgJXAVLygPA47vv67vyx/wT4a/Q86ub74/sQ720DAQxz+lDxMfki8R/mztb23rTevuLP7rXcH9eA2ibWdcAhyfPSTd7E7uPsMfBo+RMJSwBt+9ELRhBoDlv+VwRx/UYHLAY3Du0Fwg2DBhkBRhGBFBATuRpZIIsNjgrMB6MBmwUE84P62iJCN9kzEjEOKW8o2Se8GnwS5RiDBTL/2v3O9W8AZfWIF633v/ok/wf8CwSq/R7/hwXmECsiCxXWFBYsciH5FB8RyhjkG1ET5P+Y6+/woeud7lj1HfMiD3b7lQIF7V3j2vkP8rzx6voi/DrtOOfr7xr0ouoi20fc7+xf14jnjP3hB5sSbRbqFO8oWxciDDgAvAr2FR0aPRnDNzAjBDJpJBEpQh9sCDAQXACeDQwSmgWXDqUPWgCYAePxw+9V/Xvt69qh6hr8t/lS6QrxOvlu7lLuXuRD75/tKAZfCeANqwVv73v4dv+h7nfqOQnoByn2ufTj9DkCXQ3OENAH4AllGTIBhQUJ+bD/4vElBLkC8wwNBuX3SPsk8qPxQvz+6nnyIfIyAoUDjP5YER8EmfIdB08HxQqd/fADLgSk+Dfsl+1A7CfpiuxY39Hrlfa08HABmhneExUasB/pIyUhxBPwHwkWzxMsF5UUvvxe+tYB8/af+L4DpQaKAjz7Zwe5/8b1evNl9E0GUvTC8JjhYfM687/ydvOP5BbpKwXu8dL9Ww2NErQF1BOcFzMRmw1GC8oNWwWpBrr8MxBfFCsIdQIhFHEb7A/DAqfxtwLz8679Lf1jDG0DLgfGBo3q59hm4qLk3+049sL0z/TWA9sCcgtbFKn95ATO+M7xUfioBDQEbRChDN8OVQtjDh4Aq+bk8vLyGwDZAQ7u+wXvCGYJG//l53rcO+yy5MHfkupa7pfWXMyHz57Efs4IwDS0NcF6u/fHzrlXzbfJKbll1lvRsMftzcXYkNDLzj7s/PtO6cjpG+I31hTTU85xzrLjf9i501nXLe/y8P3fgOln8uTwq/Ll72r+CQT58GPbzOj15KPoveBA0jbTeeU26qznq+/49Cv9gfoW9k0DUPUd8D/uQ+u0AXr1yvnl9xL8J+1K65Htfu+QAhD2mfpd5mvvXukF7VDu7fnX/84AyhbiD90JywpkBvvyRwAq8YECFPJN8sT5pf3a+kcBlPjG/h3/u/EN9KLo9/0I8kfn4uqK8RfzoPcCA2sUnwtLDMsMwAvTA9oPYfgTCPD59OYh3/HkeOqV6IvyfPUY8t/y0Ors3qPg6PaXBHb/kPbJ+Wz3JgVuDqMQZQ+BDsEOkQjnHP8dixw/Crb83vlb9v/uqv/A7j4CDACv8C/o1+4a9rsHtv6QB7wRtgNBCbUJDAuO/Sn8HAeMC2QeByf2Ft0bVxDlDvUWFRAWGKMKPRQSHx7+IQ8CDCIPJQqKDBH33+w4Br8QHRa+8DcJFg7PB+oMBgGA+rkKCgc8AxD/W/co9YwCUhw6BgMOvRIS/yr/OQjfFpMjTim1Dx3/FgOZ/Nb0yvS+9yD6UgPSBxgB1P2V7h75ggg+BDj/yfTd/jcFPQDCARoI/gDe+hz48wHlBt4DHPOY4dj8dfbP7hgBGu/C64Pqv+A46b7wjPAj+8vwlOQC6MX5k/ciCAgItwKXEoIMIAQnAFDwH+jC63750fsL7bj9WfX22h7OMdkI6Sfk0/SQ95X0U/lXCHsSigVI+ZkRShOZEwMRWAccDawUNxBaE/kUQyh8MiAxGEC3M6M2ORaTHPUX+iBjHvUVbRNzEjoZyi4TJB8JcRl6G9AJ//RNB2gHtBAcHTsgKxtED2IevyriJXUsBCxVJGwmghv9DrIMqxIQFYsaHh5+IJsUOxRACl4TihLQHNQURRXpDaf+xvtLAjvzDBK8EbEIx/oICigRzRdoFjz+4vmX+YX2U+JH6uX2afVECPn66v3D6lHoB/T07u38kAZzAuoT8iCnIZL/q/0mAeYP5A33/pj2S/n5+Cfw4uXd6Gv5P/pn7Y/sZ/E7E0oGAQHMA1H/nSEGG/4TnQQlEhwSbQmVFuAUFhSnHOsUwRgeDjj7b/Uu95Xn1O6q4fjiJPzaC7gLFw9vChoRjCpsGb4WzyPqD0n+ABClEKgOc/1K9hL/Au8M6BHdlt2x6qrdeN5r8p3xhAED77rh9Nzg1wXnj9E40lPpt/4Y9IPs1+Du7JXfQdh84k/pGeLF5tjhCPtW+Av1/fd5A+oEKfNq8E0BXwli7wPqN+5d/rjzRPwM7APfQezc6Rzaot3G5HDiE+gd0RHaTerk6Szq/eWQ7wcC9v+O+7n4bfvUFfABU/8//K4MGQpg/8D/CQWo+3j8kfXY64X8oveB+8z98vuL9fDpyvJr8gjurev/AokKPAaDGoMNBQpwBMYObwq9/xMWKg7mDlwoES0tIjgxwTKSIfcftypWILUqaxPiMeYXgBSKGp8QtAeR+0v7rQYkAWoITwoVCn/zVQywIWEdWSQLIR0pVjNtGeoZ5CRhQf8p+h5JFickz/pVBAwAMA0pFwcWwxVEIYMbxiLxKRE8ojaJInsUbRGpCbIE4AJoBzQBIAHu9/AItgZa/3D8uwnyFU8E9fpc8c73dQP5A2z4qvWe+1cKzwAfBX0N+QFH7T/qPd030r/iKeP57qLwa/bj/gkfWxq7IMwg4A+BDWMLcPE754v+9Okx6V3YB94E3TPSdOk5BtcOQwliA34IHyAPD8kFdRAGF44PV/QSDiYU7xbaDEoUZR31E67/WelZ49TqgPgh5/b+IwSHERgEQA+6FaUZURBfEn0V4SLiEroCLg2vCJgItgoeFNgcfiIAC6cJOhvIHxsqpxcAEHcKBwOt/KMLffsk+NH2aQnc9Rf6QArWGeERRBZvGIsQjPyGAVL/ZAR0E+AfkRc4Gr4m5DDnObM1hCW1I3sXsRN/EHYRXQqe/jv+TgfrC4UNQiNfLDMmtTOWKnYcpCN6GoAMLRQtJm85TT57MeE5QynHJtInKyVMMikdzAtaG0kY+BoiGGIKo//3/DQDpATODj4M4gtEGZYWdxFjHREc3xX+I1oy3zwLPnA68yl3KE0dbRxdJlInnSjyJTc22SQHKfgzjkX0JK8m2BeYCYEH4QyaDs0FXAzIEngBPvnQBq7+fvQUBJYGSgjSDBIOVhItIV0slSHxIFsZ/RL9Gf0UyQvTD7QQqxb0AZz9EAJF8grlcfE/+6oCnvvqC0UhQR5TDdDyUwwQEvf7//nu9Nn+O/qM9E/6lfI6/FX9x/e+9pb9TvKlBXz0JgwNChIUyhU8E94ClfJc+NDoSPLR9ecCGPX99I32w/SI6OXmzvBH5KnZse8R6fcAev46/voFT/7NAUEF9Puv/kHvFeVP6wrop9+74vPu2eqa9d/ttvAkArwXEBDHCDUDVQWT+EP2+wh3AlIOchK0D88W5RCxExH1V/Tl8gr7he/M9OIK+ggQCKj+Jg/gFykPQxStEwQeKhaeKE0azAsZChYIBPwGAZT3CQRe/PH8ywfdFlYdqRPDEIUFGxMSHb4sPzGXLGMdDCQkG20fJSpCLRseCiT7HdEDqv9R9VTw2f2T7eD4fgFC7Wr2FPNpB5P+wfnh793/VxSJDhkJFRsnEkUQ2hEMI3UKdhJjCEkZQBJQGxEaYxNnDtgGzgM3D3MaphdsIqEoMCmLHmYARhM+ELwCZ/tZ/MD6n/fl8Gby4P2jBNAMkvlD/of7sADZE7EeVhmfK8IaTByrDM31SAHHAEUB9P+sCk0cOxVaD9T/nfC3+WX2mPnX/QAJbQme/SsBlvoqCuoPZRQBEzEGpRswCXMi7wu1EDMHjB1HHowqkSaXMsstcSIRFUIW9yIDIhchjh7wI5Yl8SIpKhE0FDuePU0sYSbQK7YS2B2wKg0oxxq1GFMMmQtcGZQHGhxOFnIk0Sm0FfIToxO5JtIaxQv2/qz3LOc13kTi1dgT2snc/tr91jTiqOS28bnpie9zAUL/CPXY7QXzNfLU3HDrQQADC/oKfQGo/scOoyeeGUQECgte/g30IfbL+zD3U+NC/6v9bftM//oFqffz+rEFPQNvECMVLwfbDu8E3wOM/HDm4OdE5vLu5+r27OL4ef///oj3IxHXFmAg0CX6KWEmsyC4Khc3xR+tHq0drhQBDkgO+wJC/Xj5bgSqCxUXkQvpAqYJr/W3CbkIZhFeF44R1vi8/ErvIwjeAlD3NwhaF136FAhEE/gN5//ABTX76A3C77v76vdp+lQMjwgU+I/8Hv147//7lwMJDO8IoxJuHBATXBDHEkYKPQvNAwgT4BB0CSIo4hUeD7scERxQC3ogAiElGWkLNf/3BL4QBAsFGpj8bvrlANLs0e/I8qr1VQX8AHcRRhVuD5wHZxDFEVsBuf4dFUMc7B4bBl4BJv+Z90gLOgRu7gnzO9ny3PnM+9Y42ZjY/89e5s4Bb/nl77rqw+4z/FsD7vsvDggV2ANlEaIMqiUHG9UmyyIyIvYYDRWsA2IUzgdhCyEBZ++h9bntqfdM8Sr0mPzM9jf4XwiSBdUKvgmbAqT7w/u5/nH/rvRN77jgY+cl7QX9GgTZB/UNMRodDPoi8iwKFm8QmRHWDtUD8Q8kClr3Rvbq7UrrYuab4gbg++GI5hvpROWP4+HrsfNe+Cv4cfeK/inrivw9FEYFhAOs+Mf0Tfq/BVj/Yev/9F/1X/IX9WYHmwzQ+HT/7w9VFc4cvBBNFqQL6glsDkAL8hLoEwoRwwehCfkBs/y1AUX7tw6hBHYMzRNf/wknNxVhDJQMoRakF1n5k+cR9pkAaAY9GOUZFDgzI8gtnyxdMxYqkzCMGAIbMBxmDYYQMQbgBCwHIfY/7nXySO8O/yT7yQ9VEN8SvxCpKBItOCPZKiIhxRjzHLoR/Qw+/xUWzBWSEtkO8B2sIO8QchL9CGYJIwqBGMUCcfoIDcoOMBx0DwsbwhrGIoAvpSpDJlElTRQaE4QkURzAIkoU4P1dDTEZQhToE6QI2/5F/bMEPwFJ84DzK+nh6Hjogvur+KX5LuxL8zz8pe6/C2oCEv0KCnf+lAvJEUkcehvNDqUHbw0E+qkCuwCeAr/5YOWr+e7zhP/vDRgKEyCRGRsdox2mKnYjgBwNHBEq1BSJGcYpAydQKCQTQQAF6nvsMuyi8GXv5/T667b45/0GAlIFHf7I/yYNMAp4CdIEpwBqAVz+pfML/uwRwRKTBloM5AkcE/gNNf7S9zT46fSj43zo6/2A+bP3ouyXBnD5UgPZ+IYEpwIM7vPpewwCACwRbRZgFmoiJh5WDgISqh8nFjAVjArV+cXuluCc1f7R6uYv98UB+gNICLkR+wxbFBErzivYKa8bPh4QHgMY4w1tBWwAzgXmHBoWvSNpKOEkzS04PRUxuiAvIvsXBhP9EbEf8x8YHJUXpRinLSYpVDRYNvAwOS04HWQiiyRKJjcOyBmEBy0GgAUS8PDs8+TD9ODkr/dODW8lkx3yKZcyuyFdEMQcABC2F+kUXwKYBRUFKQNBCcsQ8BnkGgAXaRriFW4YSxbDGj81OkXXMNgy1y08G9EaPhgxIM8b3iCAGr4O2AV1AIsBBBExBQD+MQVp+4L+VhakJWYcnBcNDAoHWfiTB+kdxg+gEXkJ1xVkElQTiflfGMAYlRuRICgQxgkfDVoOnBkEHQoSNRWkE5ACdPmzADAJig89DKQDwfgjCiMHZxE2GVoZGQ9LD68QchQWFmoXOyGoAfwD1QTG+jD/IgJxAwDqQNvm9zHp/uL53YvoVvSp9c/6vAFs/qkAeAwV90n6YwVrB20gziPSHM0hMSIYLxks8ib/JgobqBbr7wT14/v9+57kzucH8qP/tf2gB3b0bAAWBoUODw2RHQwVLBJgFlQeESSYKV0e2SCiLHceLhzcIFoKFBBUDg4B6PLS9i70fAXw/MMCgfth/YcK5Q6EFaAIHg8PJKMreCUuK2krciIXEjAa+wwiCr4iAxyGG5ExxChlGMUILQiF/8/6u/746lLz6ui94/TQptd2ztXTltHc2prmH+us50/l9+W+65npvOl25WXoU/uz8R/wGusn76Phr91+AYMJ2PwMC4URcA/k/bf0vvKC+FLqk/Ig5gf3PO70/Vb5NvXi7ynwHPedAssB/vPj7KPyT+uC5Pvi0++q3IXxK/HN6PPfM+PE4pDX1OAW5H3fWt0mA/0An/j//qf2P/ye+H/iSerB64jpNds95fzdfd8H4TbexuKECoX80uZW1zDR+dVV1i3UdeAx5/b5Su1I9WH2P/I254Lt7NtczjbgTNqJ9X/sBOLj2qPaO9yJ8af7ifja5W3spPaN8R70kuoW+hD2mQtODB//cRkjEG4Q3R+VHW4Uwhg0DQcCvwII9N7zlfC881nrYu6Y9zzwzvrT9Ib8GPS78rnlz+LO5PPRZN6A5f/paPnC82z4Ruqb9gkCRvqR++fuk/qK75bZh+bm4RLhBt5HzTrZcO4q1rXEttPp4X3eiNtp1wPVI9POy2vSf8sW2fjiqtGd0UXRQsd80sXO7NCc1HfY5OZm9gEDBvmN/JP7CgbpDCz1b91U7M/+MPLM7EP5RvQW6h/qRPbl7zHbXNXdxJ3Zx+I42pnRKcm31DXmg9xz4ATR89u026HZVNy9xjDPaM/jx5PVkt/Z7+f2FgFd6zrv1wSqBBAMQhjpCOD9hf1M8Dzyc/a9AVTpfuvj3AzaceG43q/pZ9HW2yzgmd/N7Yv3V/7xBpkNrwy9CSQTbBRPCvr+NuqF9YnpOvCs8bz0Euhs8xLlndBg0vzOEdY07FXYg9qJ4DHZD+EY37/gutbW2Vvczttv2ULb39xa6+HiNfWg7jjwNvSo9xj39/oz72DmbOqp+DHw7PZF7MnaNN815+PXWdSP3VznLOSn8k73uPXE5uXjm/QP9SDvJfKf9B/02e4UA332xPv/6UbjKuxNAvXu1u45E10F9+5N81n/4hIlEksEtvzd+Xrs6vqJ8178swH266jkO/y4+yL4zfo7CRQCsvaMDHD8CuT+90z6wgQ+CXgHEv8MEMICnRy6EiQY7AoGADgGMwii+Tn+i/0D+0X88/dcA5f/YPcfDu37m/5iArsBMgDuAOPtkPWi9dTs19uo27XXvtsp4qndIuQI6X7adN381KLt9wNQACj2egj4AQANeQncF1cY5whK/P/7c+QF5oDhFeyP76XddeSr50vjQ+lK65LpT+pm/JMAsQh3BxEDXAPlBdHmYeiu84jpXOfn/jjvd++58ZDt+PgrBOT+bwAt9qHyrOQd6zfsP/iJ5dbtoO7s8b79WfqDIHAp1yYNIbcjGBEJCAYG7hYQFkkFYvBT6sLWxOei197OLdi8xDzCPsN/y8bDQMpS1WDhjeh+6sD4I/XR4TXswfMx87T8Qvkv5xHnq+rm6mXb7Pjw/R39WvU5Aj4YWAwn9Tf6gwNb8qLuEeCs5czhmu6f5K/1KAduA5AMUQg7A5EKxxCcCwMQAA6sGbwaMBHSCT0AiQSBFg8J4hCx/KzvPemf+TcAFwbvFIARDwhzDH0TBAt5B0MJE/vU9wvpyvJw9EPvtu0X6tXpM+nv+HkAxf9O84Duovte5+XvSQTt/QLzTPrL/NEJqQYaAunyTOww5a3lceC77PDjQu8BApcLXgDABiz35vnBDqwIpwYUD9gE7QW9D2n6i/HUDgoJ+v+A9Y3y5O6J50QFNg0kBeUIQfub/BDrK/HO6uDpW/eP+5P5sfnP/Dn9HgFu7V/t9hMTCPIFdQMm97DmN+2X97voQOrf7aXZWt9q2k7QIMb70szWXtyi6wzuGOz3747+lwSV+BT/juSS6cTjcPKx+wf5Sv1rBBAS6/Gq2QnosdnS3JbedNBx2ePJk8ry01vPHcPJvi7Jjtbn17HD78Jttlumt6M3q9GtBruDw5jE2bo71XHNttPP3KLfgOpl6wXhlNUh1EfWPNbQ1aXOVOib6fPhfOQo4engZ9zx24HDqtKK3O/Xp9x/6yfs09lw1QHMj8Tk1knLztxB41/nq/Mo32/eVuAy6vTlD/0i8zgMrfGs95Huifou/az5Be418Cz3fvK44p3cJuB43Rzr9OnA4FnsSN6lzvnSDPH3+/PhmOEk/doIwf5z72jmnPSR+3fkQd8Q9oH3gwPp60nybvKq6d/UKsbq0OvZstG11nXYBecj/fX65Qr3BAIF3/gX8Vj6hemxxZndw+FR4zfRlcCMyGTY3ONH7YrwIAFjE4UhcRAsAdD+hQLLDd7xxvU/DGEHYvb+6UfjpOitxyHBAL4KzI/TvLx95b36uPfE+DbyBvixFwwOjvBT8Zv1x/7B/7T6uAHs6KndrNxX13nbRddC3rDjadxg4OPi38qlys/PkuDb1dm8l8p25KXohtV33gvy5+oR5LXbOvLICZj8h/bsA377XRO99+niLe2F5JbFz8c+1CzfhOhn2ZnPgsQ8xB7U8tNy1wLqpey176XzZ/q/C18GGwc+B88E6RJz/A8PtwYgBUIK0fGkBdIFLeLg5brisNO+0G7JQM3p303jbuFE4dz0/vtI83nqGvn1HUweEA7uB1YhSTRbHM4QsgsBGtcIX/Gq6VL2feey8rXwD/R2/OkGm/Bl7Kbu7/jh5VzeYObt9QDtguSZ5xr9DRU5COf+NP+KAjL0JgQSClsMah4tKs0jbivfKMsc4xMmHbUbTw4sGEgWvxJj/3oHgRNgHnAgFwwyAk4G4wc6+UHzjvAMCvT66enI+0cALvmj62X0GfoBFPcJv/6y/i77qf+4ATwF/w0QF03+4vPU7tjfqfLi37bY/NR7vKW5XLi/skPDrroHviXNI+Kf23bEj9H26sPjYN7B0Q38+/n3+U/nR/QeDfcSYx99DlIYXCA8GrkOjvLP+OkHK/M75OrjzNoc4ILUP9PC794BvQP2+FwHLx9fHXQbjh7qGLQnNhrSE/QpvyUgEdwFdg+RFGwNevo856bm2/xF6j7ei+TL6V7opN1x0+bgGPPA5AjZbs0c10XkYeOmz6TjbwEK+UbzB/CQ+w8PvBfmCiUV3SFZA3AOcAb4+9EDnO6B26LyWRRUCugDSRuoGTT/efqj++gKrAVW9nTvefeBAbMEtO0l/n8YmgUQBan43P1L/OH9gQHwEuYVlRfjERH9NwadDOcKLPW49JUSQQuX9d/2//iK/RfsJ+gK6G3v9PM+6pLgWOZI5hLfddYQ3kHmnux65lTsKvI+BqcXeg1PCjscXBqxJaYh+RWlJSkf3BiLFQQPKCE0FdoK0g//91H3jf1+CcMIYwWT+gD4JO/v/iz79PnB41bs8/QP7XP73AvUANwO1BJu/WgLcgOND8sA6f7Q//MFpyIOFC8aExumHUYYZReyBIgDD/9T8jEGTxosFU0Nufiy9rAMTwEIEKgJnR3TDVMNMxG5FwogTRPZ7isJgQtJGzQJoyRPKNIl9hlsG2E2C0olPyghZBo4Jq8peRIKDq8ADg+CDabt6u2v70f2OfOY8zHzAen74EPxjPIv8sb8Wg6ZEL4SVRheGhoYFRhK9ajereXy9b/ryN7A7r33NAjBHnkZUyGHL/oeDBgTERwhZxrH+iz/H/sc/NUQivvYACURehQ9EHn6rAAfAKYEGw9oCHAQbATiEZjvzunN74nznfg2/WQB9wsyBqX/LwlwCp4TGwZB+4X8EvgF56jf/N8P5jz3dA3TDjAPThzxAT/8I/0w+Rz3HQZF7/Dzauox3z/h1OgJ8DIEiwRiCZAXbRetEbUGlRgUHHYxaxv+GwYk1iZjHv8OzxAhHLgNffzsAfAJiROSI3cNcgO9D24LAQBxFD4S+QnTCRsXXSA0JJMgQyiALW8sIR1oGHMfPyZTJysOWRHdDyEiYA5I/VoaJCngK5IjMCFDHx0yEiTNFzwMcBpPHXcYEg5SAv0LaiARGbwQbQArGi4TrQfXD78WFBr0DwASiBh0Fygk5SLLHM8bBCEHICoP+QkvDioHev3952vqIPLt+ev8EgLdBbgG3RnbDJ4YQAUnFEwSDhpSC9juo/wGBL/7DfxW+JEBdQmeA6IMHCL4Ij8TJRefCr0T8BpJDPX/UhFwDRIFIv1KAD8CKAGyHgobjwwlDV4Meg/oATDyxfvzEWsVSfsc5n8C+AJuArUNkf/pA0gauQYM96jm1/GB7nP5wPCw9toMlhDoE3nyMv+SAAb2hf4AA1T2egjgE2/2jfYTBNsMzg92BDEXWgs+C1sFQ/gyAzAV+RayDRn2cAS3ARACdgxtEUEkWSMvHIcNjAUPFbQVRAZ7/6IC3QthB+4DCAXjC0Yc+fsV7g7ycfqK6Bvn3/bm+6X4cfWMCP39FQ1/FLQLpyrkIXImpDLONq8jLhwuEJAXIxUuCsYamRUMJYsUqBb3+0ocbRXgBj0CEf8+E58PqQikD/AFzAsDByEA7e13+v0YMh0gE1IOMRVAMacjdSbEKj4jvCz6EGP//g4sD3oPbwn//m8SfQutCesH8wH3B8T9s+3t8bLziQo9AiryWuyQ/e0FGwQl89P8ceowBzwIUfmF/n70jAgxB/P3BPhA+CIAXvke/X8OoBDQCzQN+hIQHrgSIBLsEl4Qtg+2A+ES0yJLFEv/ivjH9m7ysfYmBrUPwvuz6Hjr7e8H+ZQG3QRX+lEOLA2EA7n5+PfF8Xv6TN7ZzfjYetBi5hzWPeAf9ssBdAMSCXIgZRnDB2sJ3vidAwsIWfpH+ND9zQeCCeP8zPXe9qUCAwCi21HUtNk2+/7sQs864BX1R/r9+njxwwPGDT/+ZP7QBoEUeBctEewB1u5F+NDtRvNo+vzz3O2x9E76Fvu8/i70ivRYAsQHIB0BAtsEuAEW9lrrx+yw+rwH3gZo/p0S+BvYBw32xQeEDfQG0xeP+UgIEwto9Gn9lwAE+pL5FQbp+3zsKvy0+N72lgTSCRgKPBgXBTUK7gXVF5EOFRZiF4X+mAulBUcZiQ/cCokReSsFF/EVpSM3HNUR8g/xANP3cxL4DO38/+e23Znmsuo69BLxV+jy8ELyavFY8jf8shGUIz78ngICC9ka/RTOCv33Lvkw/QEAGPol69Dh0vZm9Wfqu97t+YUD+/9P6a/lKvlMGPkTJOUO7pMAef7w4lDdp/5rDlULQ+ux/pn2UAEw82fcK/+ABuIMSw3GAnf+4P088bXxt+n29D7uguvg7NLx7ufi47Lxo/1eA7T5mOyS8BECcAoqCeMMtxbkCHUUPQ1HCEr6EvKE7V77OAF5/+nusOyS6Df4BtzX4pfvXOKz2FzN9NMv3Xfb2NfX1jDTGN7f4AfXW+GU7TgAOPNZ6R/bodkV3rzke96G3hTvQOjd5tXqVt4Q5YzQPeYO3MnPQeSq5qvhGeGX3w/wp+09+qIDtP1L8un1oP/J9hbtGvyQ+BnwNu8B9xABJwiRBoAc+wV6B60ROgoSCnn/EO12+/0PUOah+p3n6eq8/HAH1wTQ+6EO0h9cFwwUth4OILIpShWOBy8JKP1KEogRQvFmBuQYOBY4EN75nQBbEGoXEANE/2EEWwppFAMSsQ0tCKseSB7DDbQKawpg/pcXmgd87g7+Nhz+LGUa0hHAHIw2aTpaI2svmSWJQsFNXTmjEJgW/yapF6Xt2eQO9MQFWAa88jrtI/+iAAH9FPYK9fsKGB3zBtUWahzVFKsM0C/kE6EAdg6oJfQkWv1X8g73wCDqLYQKk/faEsYmKReBCxsC6RqRLAYUrAlUAz4UQjaPDKzp3fZH9vf0Quz41HTUlezR5SHmFOIE/wsK7Rs/DpkOaAeoJKAt0g9++UoQiCX9EvkEwvtk8tgKixhABG3riAL4FSwRQ/hS3zDwW/Uv+qntENft2oUCzv4F4i3sxgdPG/cL5vK56rr2k/eR8p7kId8f6ZD2QPZ96j7rMPD6+xUDtPUz3qnoZQx6DKHm58Jb3fECEw6u9onbC/dNAkQAp+yL3QX7iAOMBkraXeIz7voGegnI4YPYOvh2FcgE4Oft5Kz/awFu67HWv9tR6Q8IWgtxBj795QspHR8MyOkL4eXueA6O8obEws0V7Or1Z+4q4IDngwA2EBoBqPVBASEMvgvf+a38AwH2+cP2AAQy9lIE1AOXAaf+qfw/1yTnFOQE533g+9Pn3Abvg/BB2vvbf+jbAxoEP/Cm/nMECfhn5bnY8si47OzrOea924/sZQCo/7jlCtM33DXg9tLA6uD0rfa+/fz2zfnK+Nr50vz79J71H+t16hL4Z/u8833lJ9n+5Gj23O0m4ivwpRXsHV3tHu3FAZUUKxAK8j3sGwGsCCLpw/YI9nsFKxaSCiYKCBSVFCkCL/UA/AcFbgEkETT9OesdAeb62wUz/3MBV/Bk7EX3+fzyC/D9GP8wB8wUuQwiEJ0cuSBxF1MXCBQREqYh4gtDD8UYMwXKBm39wAFqBLcHxwzYDs8Ydh1lF0gOrAsEC9oHTAbH+4IPAQBZ/6MLlQQeDIv+cgJzB2AIQQZv9Ur6bf3kB70BLfe3B/QSRfuP9cgJaRuXBpwNtRAEG1MfDzcoG4AZfy0mHnoahQoWEScbTh8QBbv8QgWGDOMHK/PF84n8iAcGFVsVSiDkGQM78DXFMnMWZR4PHhwtuijSH/4S9Rd8GOsFewmK96n8s/Dr+NX2cQpYD0sUdgfk/UUSZScCLxUK9gqFDDghAh+DCt4JZg0MGk4HAP3R9q0WZgy58Hj70vlTGZ4eqQer+RwVaxvrJKAykCzpKsg5lChUG3kOdwpGGW0ljQ1k72jzB+9w9koCeuXR9w30WOtR49PfCfmhBaIFgfgm7FsEKf1pAjEHwudo7vTyafd07mDrOvZTABL8ofwIATT40QsB7QHlltk13sjty+nI1cfcLt/z8VQWKwYN71b3zQisDTIDX/O4AOUWhx8KCBn7VQ4+IKwbU/UC6gXnqPX7AD7p1vCK+ToDTPQI6RToAvl8/TMVgfvk/j0Dy/rOCrQLEv4s/SME7PkS5zDa8OO16wv5Je5j8Wz0DPxO+yrq1PMZ5rcCC/Il+w3zdQAFHUYY8RDWGE0Q4QUMAZXwqNy05lz0X/4u9mr3nv60DD4GPfax8xP+dQve79HzO+23/68BLPju7WvzNfas9kQC+wpgCYYKaQXxGbQh6BR4FQofYxAbEBwMsgI7C84AEhfsCIcLtA/ZCggHhRQHJlAWURaz/2QRqQlZ88kIw/uZBNMWuib2DO0BxwUhCoUN8vyKAZwVdwXx+DHwL/ehB2P3/Oir9Rr1YQJP/8jkT+MN7779uO335mkAsvig7Q3wo+3c9Lb4vg59Bx8VihLTH90mcxJKI/MsZDCWNqw31SoGJlcY+RSXE+og7yPvFzAWvwLO+Uv9/wHa9zkDmepP9Pvp6NRZ2vrhTOVT0UzVVt/23Yvl3eyeAhHt4vQbACQTMBJpGDYqMxh3DAIVagL4ESYFsAhoAHMGLvVF9L3xoQqa+Qj5egMm6JfvaQn0BLYHHAq3/l4AhPRI9QHv6PC7/6n02fDZApoF9wUi9jHtKf40AjH0MwKq4avapuYb4q7irebR7WP0fuD22dTYveLA817++PRGBeMR8f3/7k/zYPMT9NDybuzC/k0S4QVvD+sK8Qcv8r8Hle6D9gHyROt04kDtMfcS7hrtdvGwAl3tiN2I4KT+ogU67p/ZL/A3EsECPP7E7LP5dAUr4wzg+ti67gnwuu7s8qr4ZvfP4BjQo9ir7e4CKPWt+9IUfSvIHiEHkAbeDhULB/twCAEd6CNNGyP5afaGC2sWCvoBDK0PyicUHnEVNBcHBd4guxlNEwsg2iSEIg4jUiDsFUQbOQsNDTEDPQqgBJb4lgWLFrEHpgDcBqMNHAb6Ahb6XAFSENsbKhSIHnsddR5dGyUp/yn+JXgYtQiKD74S/BuYEq/+8gbXCXwIBBc3AN0QvQz8CKAFqBuzFnUm5RxNDgEXpQZk/dvw9vmq+q/9TQd6+70ExRA8EOD9CO8W7UbhVuIz8E7nduEO4w7oa/kiBqT/K/tw+D7jL/0i3JnYNNzZ7vfujfLA6sHoq+H73aTZudoN37zc+N+P+dAIxxFAIxIepQ7MIj0qliVlIVcdvxQ+IlgUlSM8ENkL9/g692XzPOc+32Lc3PNV5y/0AfNZ9TrzigyH92X2EvycA74N2gJLAPHx9ROlGq0J2AEYCLQKWvfG7wP3J/QT4Kvmsdmt2gLzsPsABW0BwAeR+qoNpgN2DSD+cP128Rj2ow7uDdQYTB0lEX8W0ySiMqQlWCvsHlUctBfJBhEKqQuICgAaMAcA+gf7o/p/7NXn6deP29zksd843UXetflYAC8HbBGNEYggnR5UGNEnHC4RKwkrPSItJZgWWxIOFfsXdw0+BYn/SPm8+0X8VQFNEYMLuPfl3m3niPMZ+Jj0if9TDs37tQDwDLkRgRa5D14OiwwkC/oVLwWvCLoUkhamEE0FC/0i+S765doU3sDza99R7pHwN9zq3ezwoPJe66fwdQCSCeH6fvnw8arvP+8k52jpY+696lreXvji+Sj7YAi3Ft4DyBHHDrEKCgK6Biz/Y/lE+qcCXwC79j/vgPmmEcQLpAYaFmcWlTCWHXwO4RWDHZMkNheVFhIUHgWM/yUCufbN7gT/+/4z/GnxsQNv9RIDFvJK+8jnXvHlBZ37+goPAoYUdy37Io8erSWQOm0gjQ3LCHEeVQ5I9kzzceskAxzi/tkf4ST44v5H73PhvOQ1++EDgwJD/L0Oiftb/I709PFJ4jLhStej3Yvi/uUU8Kbq1ung3hHdQ9Ff4wv4Xfh49iPpY++QDIsFBfezBMELmwfzCF72RgUQEnfruuzS5svm+/tz7nbV/9lv2oTWKdH2ymHViuoZ2DDHJMnB2yPrFt+x5O3Wpfvd/hT2ofPX89D8zPNm+Zf8Bgqx+V73og2A9mv/hQTu/2H+H/qK8Lv+CfCZ6N7d59Wk0wrbpdgHzcPIbeBo4hry/OAj8DAJ8RwiBFjhMOLN/1j2yuVi3DzjBfXu5xjdpMw002PX7cmRz9zgRu059C71euKd+3sCUQNK+q33IPq0/SAB5fyH8tzjmut07Rbj1u8A2EXmTu+Q6g3rYtT7xxDakeQG0PzcZ+VT7fvs7+cQ7F/+zPx07qrfPt3m+ToBxOwN8tz5/ej9/MfrPd1a36/rv/Gp5cUM9gq0/9L+QQRI8vj1LOVa8xf1Xua75pQCoQk6BQEA/f5XA94FjOKl6ILpUvE07dr1tf6C9EL+YxNKCR//3QhxEYcnQB2xJ7YiFBhuIRYigSiNKw4urCOZGYcXEBU1ANsECBZBEXwbIBbsFT0TBR14H4MllBcUEigIGxYJI44bmwvVCKf94P+P7L7q1u1c8Qrl+9/j5vHzO/oy8pv1mfs1Cb4SCAYvF9cHNfq0+rQGkw0EEPIDAAd0/kXmieNL57n7lww4+rztEPf97z/4p/Tq/gr1AvDk6jvnD+a+6Pr8HPxm5+DqXPxuBrYMYgQ0C84G6PQO/cYQHhsRE3wAmevO9LfbbOWC6/L0CfZ57UPbi+Dh9GPrEu1czunO/eNz3mbgJeRD4RPmrv6r5yTzMvmyBu71Cvdi5kH6sf8OBagQKgde+ILtIgkkBUv/qvgR/p4Q/f7j8/3nXfRE4RPTBcuW0pPwiPAe6Jnu/wVOHTwVDhFyFZgkIRCz+pzjme5l/JP+IgLgDyIFf/fV7BveANXH4I7jCu787n3h8uNL3xjfSdta1zPb7OQw8brsCtqm10r8Af0o5yP2Q/irDlwKmvkU97r+aAZ1/13lI+dH75fzHOs+1bjiKOQe6NDz0u9x6VT6mfbL77rk2uJU6t7lAudP3vLMotxV5izPjcyd3qnYHNsc64rnYere65b5MQNI9OPxSvA6/bTtKPDW+noLZ/ymCtn6nfxnGpgh1xoKF0EdSSAKGwUYoRWWI8YooBy4EGsSmw73/Z8EqRLjEucTagrt+SHwqeu07TUBegMRCPLsSuaX5pjksvmd+YsImwqgCVsFoQc0D6IUGxFAHAYf3Sp3JIEmxCOxGOojnhUoFNoPnRRGGpn/ffnR9Z0BxRHxAKgJ/hGLDBf6a/is6rvuTurE/1IHshRNCPoJWBHFDOMCMBHhFLEG0QAcGB0TjxkyI/szzDTuQMAvXi6+KLkeSC0sDlsM5hdwHJYahBQlFMUPnBjCIwAbpRdHGvgjXhtrGeMLDB4jI5IGqPR0BPsMJAzdAy8KRf8rIooUGgTG/uMAPx+iHD4G4RcUIMgkswq4BPEGVw6uCsD6Igly960OwgcwA7L2vuVJ5bPtCPL86FnXfdbm37Pvefaz673l9/i54crk+eI46Ifrf+uQ9HPo4Pcz8/Hg5t/K8WDlAOwW6P/gLeRH/tL84/En657yZ/rEAKL9nPUf/dsN1BeVDkUGvAiNGKgQeyiFJS8u2ShgK8MXYBSNFgwR/geiCaULP/6yBfr/PgVjBNIGqveN7C/ssO0y+rj6YQb/BNP4owVdD50c2CPkIP0aQiGcFcMCaxIyF3IN3wpBGkQQ0f38/1YKJwhEF5QJigWFDGgR4A1qAdcQ1xfyK6gmNCU9KposfRX0B2EK4htTFpoUzRQ9NUAxux9eIaL5BxLgEs8MNhGNDegVvA/iBVsOjBX/DYUDvf2FBtv2XPv1Akf/qQnp/LUMUQntBX0L9hXjBAsUVCHQDEUBExMgHAULXg+CGyohPiPoB4wDaQS8DCgMjQ0bDLAH0ADXCAsOtgarBfoRZxf4CxAOnwk4EXoV8AauFrITtAnb/Ar9FPit+iT/3QPc+GgFFgWgBIAEMgnc/aoBCfeP8A7rBOcf6uLydvJS4lb7vPtd7un6M/fu9Fvuk/fC+Eb1Rgiu+bTq4fCA8pDr0OR89jbt/PFCAa349fyS7bYBFf5Y9sQAjAD3/P/1T+3v+Xn+0x+hAcD+2/5B+vT9VP2F+8AFbxiFEV4NnwuMAxYYRxVSChEGlR2JC9z71wGZASUE6QyzCUb2KAbt+5X2//cd5e/rAeWJ5BLnlOn16GbmwOgK+gQH3gq9G3smliEBBUkHPQ0AGGEUahzaB3gPWiDcGB0gLxBzA0USTAHuAgQMaRS0BcT+Gv5ZDdcb3BPMBToIKPtrAOUQxg+xD/gQQyX8IocK6wT9BzMSHhTeFIAcjgSH/PH+IfuJAz8dQB1QIi4kFCe5I18sQiZPIwEe8jo+PVI7LDDQIXEUxB8JISwywiP8JRcxKho8CYoHEQAODn8VFBo8By0USvQ0BV/6BP6PCuQRvheYD3gIPf4e9Izo9vf8AR37rvzqAbEV4P8uB2X7V/raDHf7Bv8/B6b38fX+8Erv8fhj9FHxt/GlApP8egQt/pv7wwG0/Kn4C/VI9U3piene3D7bNtzpAub0a/RVAZADNgbRA6j8QAW09/bmYO9h25TtKP/t7gvrjALJ/o8Nfv8m7iLeXdFJwqXF+8zU2NnvLOdR4NzX5NYd4P72ggMk8gz9pvCK6s30avn/+zYBcxtdHdwnAxTpB+wN7gWv/CT4xRqlBb79oP6w8bvpEAYoBFj2if/C+WL1nPAN5gXsfu0V8NLv6fjs52be1+KG9sn3IP64/RnijOuK67bbzttn3zbv4e0C2mTX494k9FLyoeSN7aXuXfkPDDsG6g5ZF0YQR/vW5lf1PfnL7OX5vOok9EH2hu95547z/vlY8DLXJ+6vBXH5nfw2ARILIv/oBur5ZPmf/2f1DfgO+hv3EgB8BCn/1QQGEqcH1eiX4MTpuucw4G3Y9+/x9tX2hd5x2cfxMQT8CYkN4AO4A0sBkQOJ/Vv9rwbtBBsHffwXAJoIjv6D+1r4fe9y6L37yPJfES0YugKUAVP3URFZB/D4mvyK/akFFvtV+5MMZBF6Bp0QkgmsDa4PrPZ3/q7/0v058K7UyNxv8Jznvtw5zoHtquSk7RvuD+nUADH0zvoE9b/2CwUUBl3/7gFcAw4Fuv0VAVP7FPni67jldtvB2eTgCd3s8sfpVeyH5o3xDu+f/5YFK/j28R/yb/zBFeQqtjH3K/0ltBz8FREgXhJ/HbcN5v12/agODAI1B1/5PBgGFZsOZAFECt8Xogtg8mXyOfy4AQ/08uGX7OUAhPel8qj5txHtJh0i8AkxCOchOChLGGsQeCU3KLsbpwreDuAl/DUsMRUcFhT7FcIPd/jS8Tb/WwqR+BzkzvO7AU8Sdf/F9+8VbQsJ98Dno+89+uDtUebS6dfwIAeD/Sn40fvpF5oEpgjiFCMtgR/nFfYdzRYBG5US7QsPC+4RehUy/poBfPuODfn5Ld3868ACOQm6/pDoMfbT9arpVd0h8f/99fjv8VL1qQEK8U/uc93h45rtdepF9+vdq9OY3pXN2Mtn28Lx296h6krvOe+4Aq4K5wczBygOQQO+/BwCyfMj6nTset698/L1Jdd00D7wv/Sg8t/5uPv1CA4A+vDT47Pzwe7b+evs29Ub35/zJ+Q01XTYONlZ9hjskdqD5L7jb+1l95oGHwEfBXQAIQX5DogWVArFGkYkXxe/EToAKfw4+an0c/2G+obyIe/B5iDz0fLA8OoJ5Av+AeDv7/w+BqAD4gHpDHofvBoyHdsW3hXWGeEp0iiPH1AkzCkdIiAoJhctDTwKNP3r+8P3/+Ez7e4Pc/z167Hc+PDq+qQClPFq6oUDaxeTFkkFEAzODMb+/QOX7IvmYPFE93vr7tOS3+TwUON06BTph/sVEkv+Pfda+Z/5ku4uCzUTuBD4EwIF3gZ/8n/qOOjy7QXwb+4u+xX2QffC9v/jJO50/bv0bPRs/aP0Mvmk98n3qODH28noitNq5U3rLu9i8FTiXO2a4+7oRuWG1UvU587/uCCsvbqmyVG8hsk1zd3m69oT35X4av/B/KocK/zEAbMFIBUQFxb23PLz/mcH/ADb8r7if+BL7cLku9tZ5djqj/Xe7pztIgDC6+zigPwm8IQPagfj+T4A3vrV+ybzyOMH/JcH0PmG/qUXTRUzHlwf7BSqPsQtbSMXGM4aXQthCqf5V+G04oTmi9CT0qXqT+aQ6zP1teyj6PzwZeXK7eH0j+AV8CsGAAzZGfcZjP85CQEVkhz0EXsiOxTZEvcc8yhPG2gc8he2BjEQpwhqAC0Aj/Gc5b7odOxw22zatuD82ILndPhP+PfwnOGS7U76MPiwBA0SWv4CAV0CPwakAwgMFRy5BYMK7gOrAvb8ufBE9gX0bQ5jBTMRZgifCPMHcRGMEGv6/geHCloPVgUvBC4GWf0EBAMLsRmeD2IJwxyJGjT88fbI+lgC4Qj372D1A+kf9V0CTAmpCvP9OgD2AgEDdgjFGEEbAxR5Em4DaCCxHWMgQRC0BWcdVQxP9nALpxeIIMAXmSHsATX6Ov2N+tb02vjx67bfNumW6wICZ9OZ2jnjqtiO3PTWCtuE8jDzgPTX8qLvTQXs+lsDPAv0Bk3/Jvv58IIDLxUBD7QA0P89Bk8By+/SDF0ZSxLVDHwDxgjgElkoZB/uGs0hnSBZLRAfxhGHMk86iDhSM7IxjjyEI6Ijcgz0GDgixxKFABILWRxdAkrpHevB67Lzl+xa5WnaYui++ljwpuJy8ZYJbBCWEKL9lhcdHGQYbhzjEF4JbA+xFD4TnQxLF6UgExMyBt8PUBxlF1QVLA6iD1wQywL7/RP4OQ6PGLoM9hpBKJcegRd2GPcWrCFiEBkHrPbSCfP23OfX6/v1VfFu5bzWddz830HWz8yH4fXrLupM8Hnv0ed55XD5q/Px8/j6De1D6TvssujT8YvohubN1M7e5NZq247hB+Nc6mLmXO+79Qjo6N/36Tb2U/d/6g3dUN3M3wXWM9+C4TTeQdv64j3ngtNW0YHsWPdx/2Tyweuo8TH0evac9ij7XANmBwzwTtsm3cvmXOzk72X51gvMADsGAuk02HziwOly5EHh8+Sa9oLrYuPG05XGdd9w5WH4TgEP8LP68fr29Gf6IgVFDs8HL/06+urwUOn56u75oPr3+jcIhAxeAhwHsAZwFpYd+x7MGuoZzScZEkAU8vxdCKUbQfwA6NHxO9ho5Mr+NOkb8sX7bfy585f+nRYrCTkYSA15Dp4bpxIFCdr7ggwZCwEOeQw3FowXbBNK/qMJ+y2QH6UW/wcF97zvG+0x6NzPuckj1MjGj70eyZzFmc0+ymHE+80j0/PDOdAL2NLl8fBZ73v6MA6k9LHopuIK6hT4u+3k1wvdl+JS7pPkcePH7tftBwgw4Kz1lvzl87XpBeXs+eTwDvi1ATX7yOyK7UDz7Ozf6u3dlNyl5i3cAuXm6PHKMsuF1jDYNdEA2mjTsOw28/L3Ov3s73AFaQc9/4EAtRNoEtUb7BNpDcUNU/MA9ebsMfLW4pjiduFl3/Xk+PZb7WnmVOqH8NPosvlDBpgMCwuzBtQCgALwAVT6kfR6BLoGOhU6FicEeQFFDh4KywFc9UL2K/9LAMD5XAGbCQ//SOzw6ZUFqxs5EbP2lRICEpgnyyUNAhEWChv4F4cK3Qe6I1wXCPvo5oL5s/iw8nzpoOOq+kryIfoa9Jn15O9B7KsBDv8mDegLeAc7AIL6YwBPDIL3Qf0K9iPxV9zo0EfifewD7jfjIeeE7o/rBtp111Pgfd5D3Y7Vgc9j7TUAJQnA/nwK+xTUCr36R/odEPj/BgPP/qT5LgIKCicG9u4Q6uL28Ohd6S34rf+f/+j7kO1E+Iz7o/3o9Pb/7f5Z9kzwY9dG4fTmjeDQ6oLpjuqI8lHqau0D/jYNewZUC/oQexYdEosKHPshCb4RRPnq+2joXNX93wD58vcd777ytu+F8O/sqeaG8DTy1/uz/hP2ZhAWBqEBYezQ9rXzE/sa8rX0UO1B17DjrOscANzs0O/f7f7wl+wxAeQLa/4+96b3bQBZ4WPsZPceCMH9NRNKDE8IPgmT8Ib7qO7/3IfUbtWj5QbgG+Kc867vn/86AqwMMgyVA9gNfQDD+Or6m/dV96EF8PDB+zME+vLKBqwF6g93EHz0gPSC5fXWMd/r6Qbgqd836EzbJQHoATAJP/3LB3cISPagBLgFuu814znllue05yv3uPkv8L3wGvbU7SXqQOqm76YDrff76AHYkvkx/7LyyOMo+J/zqPjR7+HvMfy8ElT7dd8Z0JDlaN5J3irULOWi3XneDctT4FLptgCQAZQJFhKmJMEPDRY6FHEPoASI/V8PTR8YEx0Nnf/PCMAGQ/si/UHxLPfW5CTXo+Dn1MflwvG137DdvNst3nP21P2//4IJzQJhFLD8swlO/cETChA7ERUs1jJlP29FTjckLEYuFSKAIf4ZbBvvFtATRBGF/rcBNvjDEKMeIRLAAg8BeQjtFV0bJSRnLRctsR9ePVw/zUAMQHNGLDixQTkx3BngC8YJowBj/9z24wfMI3EYqRBiH9wbFhOMGQseNx2nGPoSBxuWIoIOvADAGg0U8gvuC7EQuxY0FewO3QjnEjID/wU1CkEH9APZAiEHOxHjKj0ZkhETIEoZxBVMGTkJ+APv9Qr65/0n8n0OOwfG95z9YPv1/ooDWvuWAtDs1gMF+ZkMbwMsDUQUkBonDaX+rwPhJS0Y6REvFy0kBCCAJhkibRqlE58SAAcwB1cWTgjQAdAOpAuVDqMKie+z+XARCP408/DsKfOhCtYHBwenG9wUIx82J9okuC2pI2kgpydZNZIs1xe9MDcxaiatBh8f4i5TLtsU6wfEA0T+EfCf4wvqQA2a5uLWEuE26DEEM+s737jvRPC+/NHnhQSPBggHRg+xGyob9RU8HzcdHivBMa4f4h9TIj4kIAzi+jgEdwGA/j/3ofGTBJoIkAbKAe3zYwXyFQ4A9wVnCfoR1wiQ8jnuOwQ5DpoI5Pwr6D7o0Qb1Gr4ShgbiGNMQbwVqDXYDXAv4G/AluR48FZ8WtBzZGPL2Zttd6Y78juqW39H8mALeC3sCCvzBI6ow7yDkFlQjKim7KXEV/CPkGpsNuglFCI0BygWn+jjwfQHyEnLwf95D8U4JGQh0IKMIDCW+G6cd3RyfI1kaUhXUCMUOCQ2N/8j8mwIrDqcFsxK6JDMiCRzxG0cPtx3bD6DyMwJFDg8YvhGSBpsOEiN4GNkF5RibJU0suSoVInUv5zIaNrYowSdaKpcZ7wnUCeUUNxSQB67/rBN8CTIJPgX/C/oc2w0I9pP8WxwTEg8CMfqyEdYWhRfbCFEQuSYwIdIP0RMdMzUvlikEI1gzsiaCEpXr0O+zAZ8E0PDu+4UKMxHd/tPgtf86GJIJKOpg/uUNhwc2/RPyv+5N+moCk/H1+R33MOxt9AwIQBflC7P7jPU//9z11Ot79nEEpAXaCUACdQnb+43vxuE19aPvqO+K5nXf1vmO+HPpj/I7DtUc7xoMFvkVFR9mHloVpQJ6D/kGUwe67PnyzPoK9ITyq/rS8rbzyt+112DZuuUZ2cXISefU37fyytgj+K4Mzwk1/D4Z+CZLFG8FVf4B9hj3o+YO5pHlRe8y4ijiO97i71Tsit9v6p3t+/oT9NXiSOZO/STzRABcFUMccRan9NP1rfuO/aP4ewZ/Ccr9cfME50gEZRnc/9v3jgmRIqAK0P2XANEXNREb9Sj7lB0hGv34yPXhCDoBYwDo8XD+XPP68dXm0vSu+g75+/8IBTQD1hnY/N30Vw6sEYX+8vQ7+zTq7fN69/XwbwCV8jb4cvlm/i/4FfdlAtUGXQB0EswPhRKsAHj41fxUDBcBuuix0I/gYfer2cnNdeXF9mzztuUkBd8NBhLE/Nf9pBhiIF4WAfzn/mAcqQ6w+QvxifrpBevgQ8lP8lX+ON4A2XHvNwohBFfjP+P0FmkJNPL1BqEfzREF+lPxNv8xCyroxeET5vEIFBDD8AfxQAh2AFXgUuie/FULxvwR+CwYQBiHEOX/IgOpFnwGOfjN+dADCPdo3kzdm94MDi749/BoEgMhM/gs3b7pRftjGn/uSOTm8zPyFO6K6a3s0wGr/QznZ/1xClMH9fZG9X0Jef445I/Qw+Ob6ebYQMFt0sbbDtb01FfiieX/4x/L9c++1dDbf8pIwUbkw/M7867gm+bWDLn8nOqx/7kLnP+Y9j7yBQdHJIIcyAaBECoqrRs09TbswANhDRnt8NgC5Un5ufeq39T4YhAUGCD9avusB4MaLPho+HvxiPn28R3SJcir7UzZucczzL/eXuLq0j3QFdK65gvh+ccC2Rr6TfW/4H7iEujD4WrpaOwT7lwFN/ia+M3hEfAH1kDSUOpx29HY391c5mn0hN/T0mPe7PVd+wH36OSy/Ob0dedx6Mf4eQak/9fxvfwnCvcEpgfVEKUflhNbB7kD0wAWCVrszPfX9WD70wLQ3HXcsNdF123fA9uvBecCnQBN+soBUATt98QO3A7XJXkPsgmAGG0J0/eFAIj1QwIH8wbkqvMiBB/1PeqI53r2gxP3AMT0FfaLCbID7/01E78c8x4YHBYsLjcdKaoYXAM0/lkHEf9O45D9OxKnFBEECQN2DCU2GQuTBy0UfR0BDsH0rfYxGwsh3gDyAmsV1hg9BeL47QdeGTILughNFg0a6hXMCkERaBkeG8IfrClgQYk1vTJULVsppzEPJzIXyw10FEgTpgr7GE4n9j2ZRfZCWDIJL/40hzhnIMkNFRHsC00bRR9gGRQeZB93DlwaJRPxE14P/BeTByH+rvng7mkCZw1SAzsOcRJ9DmIjKS7SF/wVNBndFmcP9w8hCPYCyP/f+CkS+AX5DjQI4w65JPUS2QrFBvYBh+0B8+b25/Fg82zklOOb6AXomt/y44rst+co72njceDl4O/fPt+338jwUvxQ+0rvbAAI+1cKgAe2+PMP8RMIGvgMvBIQDs4F6fiq/rUOC/Xg6wHpt+Zg4Z3cfNWi2n7bDcfx0J3ab95d2evMiOPN63/tWvTZ4Zve1f0+6Urv+gNfB2cC0wH25hDurvRe6dfhM+M45qLfIt1FzxrXBeiz6ivaye1l80L7yvEu5rbrJvwM7SzmHeWs+Zf9ifYq9fkHJAFxAlgPvBCsId0p7RFh+qUTuxFuFMoQxgASEFMXCwJk+T8OOBNyGhr56QauEUAbEQG8AR37Sh5bFJ4P4RWBD6sGJgb2ClkMpQrdCDQc5yTbF2QXNxpqJ0MX/BhiDIsVLhagFnAA9vR3AYgKywwhCKAIEBUSIeQPog9LCiUVyx/ZE0oXagTp/AkEJv5UBZYIpBq0JoMl7BxOHaslgRtt/7wN5ge8CBwJtgZa8SsQYAhgCIwa7BsRDpMTcg/ZBCcOHBP4C1YP1gie/rP79Owo71kA4fiL/jIFePYzFHQAvPkcF+khZhc3GAAetBcUAdH8J/vt9YgF1+rR9AcFFRRLGLD/jxToCtICDOyQ5M7fYO+S8Tv7+Qk+DVIFtBMyGJL8Iv95CxYPNRFi/dIImOvLAhMLahtAHbMQQxG0Dg0afg8kE0IC1vpq9I70Tf17AmD4jgD4CEEPyww+DjIDmvF9A8b8eelszbDgbOeu7wjwpvO05gfx4es04KfkJ+ty7GLijOwo9PT7gvOG/V8Vhh+tHDQNSP6RAyn4/+tV5j/lze+P2TzF/dqC2oy//MIZ07HdJdZR24vZVfJX+NXq7+HD4NvuMfOy7d7qXuKY7CsAaup186foaeDK1RjNMLlyw4PF8c5A2EPoA/Gn2gvZJO+z7/34p/hP+vAJFRJqBYv/wwb99VQL4wWWCib9cwbYDHMMaAe49FEF5Qyd/Wn+cQu/Fk4YWyNDFxkUqhyYBGz0egaQ9SML9Ap8Dk4BNg9oIhsXWQQMF8YOfx5XDx8LCAPT+WvyAv4CCYoQ3/kmAvIMSf3+7Aft+gnSBeUDUf2yCh0dQR/hB2MVZRyrDKD4kfd2Ej0YAwOj6nr9xfi3DGT9ZgrbGLsScw3YCoD+ZgpU9d36/hv8ETb+BfHKAYgVaghRCt8MERB5FsMFSwBCHFImVxdzD/oWVSIEJ+klCicmPh8rcxCECGIOhP+4++L+KhYcCpUPPCJVKZ85/UHYNMgpjDNZInkPBhqtKWY3ETKnLYAYpBd/DtITTQrhD6kLyQ/d/yMB8Qa0BeMWdCC8DM8XYiECLgYoGSoGNNM5jFbIRP8w+SpAOVsuZC3TJdQf1xaEB18G+gNz+cXuneVs9FH41O0Y+VQRcxJYFCoTNA/1GtEWMROvIcEoODFcLik07i7ZMeImTxVSC5QdkBqA/cblIgSv/eYGg+hb7yjrUOdY6rDlBeOw5X33x/bY/soJTPhl/uz7MBQQA0P8jwEBBegRXgEv84rpYvp282j8lwmoCGv9lgHQAzj12+2D7YDvUP1R/jYTMw+3Cz0gUgQyCvcZxxkeCmwhrh2eKLwrnhXyG20U/xHt/IUX5B2RG/IV/g86EcQDBg5RBxf9G/Mc+Vb6bPmiBHgQRSCMKOs4gzzBLMgnjS2+LfYdkBhaEEQWCSbvCOMSFwpn8Hv/Ov4zC1EPNxEMEBYQcRA0IaEbECJ5ICggkypsO3M1KjtWM9s55kOgVgFFK0jiLNEhIBwbD8/6UPkA+sj2re3H/zccrCFCGIEhOTDrNL46xDZwOAE/Ljc8J+QTyyprMtEPJyNwKewhEiocL00quyLAGCgjLBRzDngRRhDDI+gYqAmyIDsjYC6tMMMy1ElGSVdOIEJOTp88LDi+QHIs7h00KjUJJP4hCm0FhgDf/Gvz2fK7CCAJNQRl/sUBeQpbDEcVfRsfOJs/8TjVF8IbGizGHh4ZExIiGnscfgvh8V79DQnWE1r5+vP7CRz71e/m5HfrW/uDDa4MegD6Fp4KGgnN/78GXRuxGe8cqhePHPUOFBNmFUsNzBqVCxn65vuK9N3t4frr8djvy/yLBWwNyBjsIF4R5xy3EtoOmxe4FAkOeRMpHu8OmwPNCzkQaBlXFBYKaBu8GQklSSIEGHgeMRu3B8oGQwmP/CX2s+0F7P75MwQq938Joh6IEUUWaBVCFhMhMiGbI8MkZh0CDS0MyO4T8hT69QIIChYNvfqaEzsIFwVcE/kUXg9kFuUMAPqC+4DwxPCd52LvBvOC8xEB3v5M+KkCXAd5B2sU+wzQBg8AeANeGOsDkQBG6rba7+ri8yb7tQ1GFX//1Qb59EPmcPCt9fjuBuxg5BnujODF69Ltn+uP7grw0/CS7n/7se6T8A0MzQo1/6gIDQIY+7kImAyXASYQLhksCpgRO/2zFH8MWgc6GcwX6A9vBG0AEAvdGqAFfARCChQN+AQzAMgPbwe3/dTyLu8a6F73tPmm637to+p+9gHsb+5ECp4LjQp2DUMEJgFYA5b1uv6vFTUdaPyOAFz5LvUg837uYOu24zgBnfTn9YvyDuNf7O70/Opp5yXiX+dZ7Nbe+snoz6fi/Ole2ijhivqp9vLtUPpE+mQJtgc4BBcEewjL+mHo+fMmAfQDvtcW0pftH+hb1fvMSuPO7KHhFMqQ58r+c+yA8vTyGQP885/yevd0E0cbdguM/cf+UAz/EE37LgMeB7H/6gRWA3cF/gmeCRgBffim/Z4Dq/QQ7LL4pvZz4DHjkPQb8xPvp+tR3t7ddNrr2z3x5+mD+cj1SgrtGkkd4x3dGhIXfBCjD8MgPwmjDXAH9f2I35jtSvMj2Mvwpua84WvaQ9Xc3k7vLeUv6LH3U/iIBNT9tgR8AZ/ux/B6AA4H6vZNCd4IGQtaHBUNIg1T/VvqHOQs4IvieNZ607HUjsgq3/rzAv4bAojohf5gAWMDcP/k8HcADuur6PH4xQEEATz+Ywa5AO7wbO0k7D7zQ/+o+1TiougJ6TvoSt1J5Rn9APzs9FvhYOa62lbo7Oml7x/qJN9G5xzWtNC0xBzUT9PR1zTxG+rY7P3wefPS5xDiWvSq8aXtv+kp8PcJpwPA/xkA+P+5Bpr2q/vD6h7yA/mr+Ln7PvLb/94ByPXk7sL5vu6L7ZHy1O2A+xvy6NOZ7dgFVfjlFmMg8BQpJUwfIhubIzMo7yNGESUSChvuFO4Qm//lD3H3MPUO+nEEgBDWGgMg5SN1NJAzOzC5OVwoZxXUJBgguxaKAhsbuB7JJc8c3iQOMMA2tjfQQqQ71kDMUIA+K1A5Phc4ZRzQFOwWDRs7HPkPPhHi/BAOIgjZEIMPBx/qIQUy5zKmLJoqXiqrO1QyzhS+GbcdAgLwD94DaPtXFLkNxA5TDGkO8wgyCzjmquhk/XHwnN/V4H7m6eK83i/jl+Sl8ZfZguFX9XL1EQcgC3oHugp/B4T6KAXcFWIDmgtiA+nmXede6grx6ecq8lnxqPYu+Gz0xvyQ8zXy6ALK+vbsv+8c90T3APfO+wz7ZvLgArPx2/Mo/lP/OwLxBqb++gF7AWAGohE/G0ELswah8ZT/eASnAQYLkvXE84z2kfhP7DnxC+YO8hz0NObZ59vsMe5+8wrrx/r0Cg4XOwig8fcGDP1d++j7a+u5AnAaVxUnDZb3AfuVAkcMYhKmGGEfGw3G+Db1BOwZ9Zv5yvoV+/nzZ/tE/gsJT/qqDkYMIQY0CgcJYgiCDHwaygtb+Uj7a+8W7hLp7NYt3drlB/0V+S7zyf0uAUn46/IXDMwJ2gYFDpwMMgd8BT0Eov0M+UHzNPQv4Fv8jOlJ8wcAWAWrAkcCCw+FHeEgahzVHiEaWhwjGgMWjxPACD4NxQJ2/GcNOQ6yCeASpCRbKE0drRApIkMTRR+KE/wnAS6QGGwUCBjxHA4P9vvaBFAVZQQxAYgMaA88CE0MDxGdEowRCRq+AWICJROFBvz+dgI/9G7vyN5g0wXmoek32ZrkiPBmBWoGwQj1EdoeTSMlKlUB8wzxBHPyovc1CL8OAR5gGNQRERStEc4RXBJAFrcN9g/gCDoESQAmA2j8FAGrB5MMRgcHD1AE4vXt6tzwQftg+Rf2e//DBqANjRmjHtUam/+n/pYEGADbBzwZRyOGGdcLrwvAGx0y4x6iKEAlACOcFM8ccRVaDIIIxRNxGRwYVRo9E80WmgWTEvwh/TQLJHwjHhGwFi0chxHkEdX6Qgy6/9ED+fq+9ykAfwN8DxYDzBThAzMDVgXFCOUSFAbyCTkJQRqdDvIL3gtiDDgLG/E59JAApANA92DzF+pA6Av1+PLI63v3ZvwU/AD7WArID8UFWgUm92D5hf3QAi386gMKFVEdfgyR8hr2HeL66DHo5OVw3EjxBOvXzlrq6Ow565ziouKR74z0FwW3CUEYxSBKFjoSmB49Kys31S1nIGUcwxe+96TtJvkB/jDymPCKAD8HsgSf/Y0ACw5eA6QGsw8kBjwGsf1++uX42+kb2YjYRd+N28/lEuvt9YUC3AzOGowgoStyMqMj1BuUDKkJkAuZ8LTZiO5+6Cv4k/HJ+LH9MPC5+Q3ynwQ+9/QINBI2DmcJzvRcAGUhlRSHE1ES4haSAIf5QP7n/KPz2gpw7gD7UwmzBpb80glxEFgKdAlZHesrRDDkOGY8QDh/K5IdewsHBOD4J/9E73X1zPBB8NH2jwbxAhMEVvfOA6MTUBOuFoEaDSm7IJgfwiJxJ4EnOTXJLhIc9xfi9G//YQ3vAHP+V/2Q/VL5iOcR37/YEulq4JXrNOwx8Hj8Pfue50f0I/zjDLEAtviQ8v708vIh8Znw1udN8mv3z/ZR+M0DdfWh5rPzEvg+7NzVNOZn5ZvRh81D1YLeJNQLyQW3gLSiw57T/dTS2+3x9+dW5sXcEPAo+ZD1BvHx9Oj+cAWUCCP0R+sh/tbcydCHvlHJfNfX05rT7L7OweLE286x1bXjXOx89svm1+bmBOAMfg8iG3QFfwwHBm7xEgTW8Jv1/ec64TvnHeMD3RzUqNtv2GzX0se9zl7Zc9t034/VZPGD79TnCe5p7Qz9mvcK/xf+cfUA9HbtDNx16x7uLtxU1tTEPNe127HblusH0zruH/SQ9w3tY+3C1uzGk83t1n7UhtDm1mrNiM2f1vHTbc335bjylvMh6unsMeey37LWL9mn6ALsG+4h5OPWmcpawEHIOtn621nS6cV20LDyxua+7IP3BQYL+prwR+3//ET90fpa4wvoudRJ1sXQP8Hqxe/NtOnt3fLnHuPG9jD57ul67q305eWC4Mjhjeg59V/0vvCZ5w/9gvwk88LjrPIA8TfqMPFXApz4L/XJ5PPqv/Vo/Evmltng3FntVuzB3sXZrNY44A3dN+oz/74AEfZ/89D23tP31w/TY9fs2GXRf9Ba0vnlVuya9HTxausN5grxnudq7H7mfewq3A7xitlo31DaUdt05cngPefP+Fn8VewE7XL8Xu7m32rrZu4q4aDegufY3RrUI8d1xxTUC+7a4wbu+vHm7s8E/v6r8C/3GeiD8tvxk+Lk0sPsndqz3SzPYMSty3DBxbdjzyjXwN4J8LP3uuqF6uUEqxRFD2wXSwsfEk8IbwUlCRoFIhJiEKILjwGB9prkhefu5l/WzdOZ3nfXrd5F2OzYE8f635ffd+S8z/rcxOqY7jLgkuHW60L78fbT67Dyrfu6DhwR1RJGCSwbBBoFCI7vTP8JGvwBF+5H8PrzyOcs2ZfVHOiH6lj03Ohq3DDqKOMH9AT6zugI8RDxnfRFBYj4z/OO9ALqRfWP7hbqePQ98GfXFdl/6b7jeN5Q5rT/iAXp+9rwMQ40GLj/7PygBfQOHQC091nfFuRk4O7XJd7q6Snqx88OzYLLcOBC0GnQ48zC1WXPuciFxkrFu8GWvq7N9tx2/7vrYuVG3sPmVN8y5HrxyeFp0TfM5rs+wYjHA82I1F/TcvEI5+buj/XH8lb5xuhn4Pz28vLE8gLrkfbh7Z/eY9MWz6fmz9pJzcnTk9ur3hLhJsu3z1Pe0dCCz1TJSt/Y0QXXSdOf3MbVaNXyyFC7lMif0GPKGctPzGPi4N+u0snIXsJrvtvCG+Eo67nq7+XJ4JnrxfxP9gnxJwDvAwz8DA7WDJX9QADE8prbsthQ2EPLlc+N5//z1/qe8G/ZNejM5jn2qOTt1oP6R//l/vUBRv148Qfz0/3X+IfsY/99+WXpqOu960j5zPm+DcsDHPj8/tX0hvtt/BnxgeIH6q7u0dxw0Ubg8+UcAQD0MOlTBEMcBguvCx4GygDQFl/31PO6/GsOfAuG5zLYqNbx3SPYf85/v4vWussByefSud/F4VreAOU54NrYatIE4jPOsszI2sXg0+Jw3vbdCevaAxYIOAFjFdUVNyGfBHYCdPgl76377Nrw1IzVtcdS2kHJAc9N5sfpydDi0TbmeN2g2szaZN4K0CTHY87/ypXOXNvGzcnaO9ef1ynWGfKQ6rftMAEb+GoFhPm8+0HnR9rg0SvTr+Ap4j7OmarOsTe64cbxt5m59r8HwhnLPMUHyJnAwNgI6w3+wueW8ij6i/QK2SDQLc8/z+7AgL1DtyWzG8DjvFrdM9ppxdPI2cpJxj/JxNZowDu/nbt1vqPM/7l6yBDLGMLdxhK5qbbMvWXFM9Vv45rq7/Cz+9P7rPnvFtgTdwRB43bJhb+4swKpgrtWvtXKFsT/wmjPkdkE38LK3swb2lbgq/BH3WXOCtFJ17rT9uZy+qb8/9fO4JHkZtp622TUPewP60nartp/7bf05OcF2W/T6vAx46zPcOvz98PhLd8Zyr/WxtGP1bTVGcmk1knVmtQvwIjCAs8I2OvpxO3y8Y7sjP6h807s7OVY5rvk9tn52+nVK94v3r/IN8h+wnLVa9O/7OHruuM+1Szea+SI6KzsAO5P6t/wBup54q7hx96E1bnXs9zvyCfSuNml3xrXw9Kp3wPpK+9H6Cbjqea05t/vJ/FK4u7uwuiv2L3S0c780vnUns7P3pXjx9Ul2Zi+uLubyO6+UsTyxXm0NK1Lv4nSus6Jx6rD/bVD1g/bmdUo4B/gSOMb6cnwjern3b3f7Nqou16vzNIW3EfNA8ksy1TDzs8e5UHXvti329zLiNr34H7eGeWm2gzPKuHy6ELVcdkm1fHqVuB95B/sVt+91mrWP9aw0dnawNJr1NzeKdin0/HnMfAb+b/xTPd0+Iny0PLA/GP8bQlCA68KfwDYBXD3/t2q4urfPOW50+fgu+j86Ez1hfYA9aUGwA2X/8MQQQNpDDD67uxCCHsHagDN9T/tUAJG+a7/e/h/9iLjtOXL5Q7lMeqx4Gbjvd4b1cneftTxx1fEcMry0RXOK9n23QjpIu6u68UITwLf+R71CADZ9ePvJ/X37CDnIupk/q8H3geXDh4eCiJ+DM0PrA1VAj7vUdiL3wzMDN8s5j3p1PtYAWblw9rT1WXaJOJz5Zj4dP4UBUsCL/QK+OX+KQSpFpsRfPjT9wfp/enh1oDTCdWO81n2WAeg+wwDM/c86hvjCOLS5kwApwSY+C/1tOx+81QDw/bL4qDrFfWL3IfZ/dhn20zetNUs1dvfMNZk/Ur6A/qIAhEL7QPTBbf7XPQz/bfzofrgB6n00u1LAzUErwG6BdP6EfyRAb30efW4/u/03Pq39aTzWuQ85/zh8djMz0nP3sBmw9HWMtyi5G3ikviK/3gF9gI2AO3+L/G91cvRkeR35J3lEuej4bYBbvtR8e3jUP1I9Drl0eSw+975weVS7LPjAO3Y7nsK5v6m+JUJaw1eEdX65QsmC7AF2QMj/Frs4f2Y/lX0ZgL0AGL/XQEB/RAIiRVHCb0P0Rt1+nXiHv6DDDEItO746lb0//Ub8pT3qQQZA+/opPiA9cHybfe/5sriTOVc8uj9wPGO/J3lUv+uA/wMIPsB/tH9puo953nvn+v54/Hr4P+l9MDvtvZm8abhZeds2K/N6bEzzD/VSuWy7JrtQvyEATn1EgN6CtQJ+w54E279Zvi2BRgCPATBFh0VjxcWEEz/6PGx8hbg4+wX7Kf9Au/Q9OP4cAwKAGUAEvmYCAoCcA6eFY4BgyJeGt4KfRDsCowLePqn8xcN1QN5/XT8eAK9+e4D/wcWCVUKzgfCAvnxOfmL+aH0bdxk1t7g0eK03ajud/lkDI0Vng9sG4EekxPgETIPZhA7G6AvhSf3F40Q7A+FJRcerhd+BKLumPhg7DbioNot6xH7sPMu7u/y3ffs7oHwJ/ko/Bj6tfOrAEQBOfQt4jf5PP0BFjwaQgkWFZgXtRGHEpwM2A9n+XEMQwlzByr5nuza7M3cu+3x8QQEhwhp/vAGyA9NDQP5KQRC/sAGKQ1eAIT6LvirBqkERv+l/HL5p/KS5jnVe+i35FAAzw3VEa0Nk/+554wLBQfd9j4D+RTnGL4EhPDr8BILxwzJBLcH4f4sAoAK7AOn74/jH+ZJ7NPouOaS5b3Tq9jq5fbiXtUR6P/hYcr1ztzlXdF50CHbhfGv+FL4BPt9AR8MsQJrG/YRhABE8XTrT/Ks0L7Vq93r4oLqhfP06ZftTf8m+K7mkuyeBPkD2AA1FQEahhlaIw8QQQDaAfIOthJICQ0MlBKqGBYZnBhjAk7pLvig+yEJjgmZE4MViALC/PX2mgWeAcgRYgDxCI0L/gKJ/yj0ggWJE4MErAjW+Z7mq/nD+rrxVf2M/hj80PYh/kb6+fkx+jv13et27B3WNtqF3K3t3PxX/qUGtfk+9/z4+/b17xD0Fe/OB2H3LOfV7UvmI9tCyRXMycgLw1a9bsSsw2XDvMVx2VDdF+Fl3nDjxs9T3u/RTc6CytjEK8R63s/ahOVa22rhDuQ51hXTQMkp2FzQX+D148PZ+dVdzlfeJ9i80bPU9+pq6pPfsukh/EH5i/OI6gvuXfpA+mr4g+iX49r0At/33bjYl82y2JrX3dgc2uDeSdCh5dfmze+R8MXQP878yZvAVMWOxSjYbMesweK0Yr+4yIzKg+0l/c/vUfXO+eoT1AWz+nYIIvyI+YEN1QW7CrIBfQWbAsj8EwhJC9z1AfLe+NzsTeX63OvpDuPM9cv6Kv97C0QBvBTaLdEWCBR5F+UX3BS9C9EQJxqCJDYeWgpIC6UMPAvLCcL7+wMXHCsO0ABt9uEFIPZ58BsPbwjWIxAr+Bfk/3AQsAtB/zoAEPWB+nIRVgqT+SL2PPIpDFcUliBSKXI+qSsOOJEnpBoSGqohYyDvIdsP8wEsAEkCOhZ4HuYk/jdxO1Eh+R5eHDsTXiK+Dk0OUBYiDuP6DfM9/4/1qfho7m7z4gGs+aoAPPyrADb9pv1y+Dr7HPQU9g/so+mv6oTr0PFD5r7nTeNy2j3VW89IzEnFU9I54urpKeh64BDqgd625JXyp9/O03vPFN9N4oHhCtH76EXkH9nn2eG7A8B+zdrhS8yZ2Q7bKMsox2jGf8WAx+a8Tspq1r7PINab1I/VmOWM6UXvQ/FK5yDny+Xbz4DOBNwK2Yjn4ORe8n78+gkTAl/5RvT44Orm++Rn54zpvezI5xPs7umz5/7qR/dQ9A35y/pA+CHlItV71pfBHsaqwM6+8rTCtWC5Db8Z0dnOGbp/yBPK6tYb253o4+t64SjlM92k58Py/uIf8ln+/O9Y7C7lTddryojI5sLyuyPFPsOixavOFtzg0p/WC+Pn9Q/myfZV+N7zGfj55AbrffcRGgoLkv0AAdPym/nB507eiuN52zTfFe+6/Fzkssb/1P/k7+pj+uTyJfJq4aHrMPG89G4FDgdb8q31EPZt+VoIWAH5/ZMFx/eIAVYIahcJCUsFgvpmAY0BDt6kzp/Pq87J1hnZv+hM4FngD97I54YIPwrZJUIc4xrmIK4XcRvQCzAEJAmeBAIHDAE8E+YEvu4t6DzvHeWi6RDiSekR5tHy8e0s893sqfG78A70bAYcC3gIRgE3Bl0U8RLTDYb9Se1p70Lvme+Q7O3wvOwH5W7nje+J3sDnWveh38zps9Tx3VvW4vY1/qrfxOEx2r/Oq8Qu4lTkz99z3pbrVOee65foithj4q/p/eWx46rgZewQ4gDn8erI8Rfrw9kb4F3ntfXV7rno0u9k2a3ffNrW59LPHOGg+pX2QPZkCCD91Py1+uzx9/z99J4Dr/CT5WLo7emaAzwJTBRmDooOXQTrFWAKtQrvDXoaogurF8IOfggzFqT+ifY9+uz6ChKLGbsiKSOHKy4rQBI+FA4DHQEiBsX5vvSv+vnxneMW4Yjm+dTx6/723/Mk7KDsn+AL3mDjSuiP3t3mmd3a3HnaE+Y261zste6q7SXyselc4KHVUte23gDTm91t2GTnV+iw50LfjOkY6uziUOM385r/7dya437yaP6KEigUBwbvCCsEMAWPCIT+ZvfI6DLehuid59bteuk2/Lv9YPAE/1f26vak9i3vsefn9Q/42OzV+Wb78P+hAar/SvNP9eb/gAcwBUj9YwBGAcP0hgH291v+Xuwm7XXkI+0g66rqOfkgBvTzvf0tGBEcZBPp/YDoltfI3zHXbsuvxv67T8CLwLLNTdg3ygvNTuaz5vHyIfuVABMjjBcmHjYlFhzrIT8gtC7dQ7Q4bigVEjUarx46FMINww1oBNX4l+6HAoALlP+99Fv1GNmC6CXpO/j6+In5rgOwCAAWSSXqJV0xIDJsOqEz6TVeJukmTzM0OuAgSi3oEOIX+BR3ChIRLxGeG+cakQ+HARkElfSgDrkSpSIzH58aUw+3FCQNuwnPBn4HpgRsBOT7IPU+97L/X+624p/4JvhJ9w/zABH8HD8H4/zeDu8FpwhSAPTxRwzz/w4Ciu4s71nrR++E9qjsNv2695UGPP/P97L7XBxZLIQXeRBXBMQEXyH2B8YCaBrpE1QNIRAM78TZ2OGx73jrh+S143jhGux85WTqWfP++Hn+mP4+CHMHLxAfGIQOWApmC+z8Nv8B6x3g3OJ74X3ew+Ie2rbR0ccHv56/yN4f2TrpYPnL8Cz5pAl2FScawAlzE5IKwf/N9Cj6gPxW5az21euh+DUApwM/7s/vXNup8jTsY8t+yOfJWc+w0c7RWNNV4ITTR8Mn3EDZBtsS25bNrNQk5I7cTc8A517iVvdH/oTwOvyF89nsXPBu7k7ujPBO6dXlTNfg5gPiyuIZ4OfLqeQq6qLmxutc6XnwfAE4/930xvQZ/HHwTfPXCFwEKwFkBx0Drf2XA7nxg90GugHNecQZwbnQN9mYzsvUVe11+g76qvE87Bvjgu8y/WLv7PG09trkWuCv8zz1bulI9l/rDO816tHzQOnB2Gfgwc9G0G3GZcVYxSzGENr44YfaQefV7LniS9orzT3SQtO13tHcv+EZ30figNw7ydrVydOc2IfZatjEzZ7Qycu2wMvTNsshw/bKAL5UzlPQ4MwD7Pvuh91z0A/A0L7iu77LGdtzxjDEBsc40wLe7eWF6Tvvovj39/PvqAWk87nk8tce1eXj+sQ4p36yOrHtq1Ksz6Ndvp2/kMavyDnQ/NpV2jbomuNt28Htpu266xztM+p01GLlI+a47WPi480izQrPp84YwxLO5dAQzhfNyL/Bv8HAw70nw1e8mr1dz4e25MUey0q8x8N00A7OfNBn1eS3RcFj0uDRMsJdxhHO+9365MDsS9t/1ZjRdOf753rsTNsn0d7UYdc0zGnSNtHT0ajUxeXP3F7MJtp80qvp/9Xu3/bTcLV+xJPB2Mmoxt3mO+879wr4mvdT6BDi8/Af797ya+SY0DbNzNMZ1DjMJN9j8Zvx7fmF9U/jB+WC7fHhJfEQB1gLegu1+0r/JPO28uf4mguT8gP6KPtg7GjqSue48lH4j+tb5XXtsOjW3LfCQcsCz1zgv8mPzPbOPMRtyvvKmskRwd3fRO5L6Df0xPqD973+ihcTICgh5yYgDJ4RoAyu/nEGZ/Hb7e/UmMHeyZfSPdeK5h3xgO1X5Gz31emb6nD4bfxLA1rzEPfD+hkCmfLR7J7tBuF47U79OQgkEKMOog0BDI8TWh/pHj8kDB/KEG4RPRMqCuAIQQWvAiT3hveV3uT7cPHq3RzdydOlxWXFm8fOybPaMtXo4xjncOAh5kHkCeWZC1AS6P0kBoUJFA3LA7kH5geh/zYDtfvu8ob/T/G58kToUO+u8Gzo2eTF5yL8vwY8BOALBRUjK5QWZxaNHZ4SvA0uCkP9aPaz9HX+gO1b7j3snQEj6NjwbvNsAtD6b/QQ+CUJOQ18+tL8RPojB/cH9gBk6RzsFuqS58TxZu/29oX5g/PB513ih+zu9L79fPT8AyP+mhXqDWoLLAiUGecQfQ4wCHsCExNsBhD7j/gjBzMFbQOuB2kJhwMKAyT+2f83+rfurvIF7IXwOO5H7Jffm+9Z50vtw9cm2kzTVNLO00zda9g34SHQf9XC13zUDdiO4hnwrfEr33ngQuhXCfUTAOtA4RncrOIz7zfqkOVg6Czfx9rJ6hjbcfKSAPzn5d784kvq6+OE1RPVp+TT4+Dl+8001wPtnfUe9Lzcxtuj5erm4uHE17DT6NoM04zCosGExrfTBcjqxS3GK8oV1y7aS+aF7tHwGfKx6Svm/Nzy7MLb6+4XAGkR/AA0ESn6pQqZ/Nn7tdr14CPYksi6xna2Y76BsSOu+r4ByHzKu9Z245PUreDj6ULZsdo464vnvt7d2i3ah+MN77/wGu8BAQwBUPs1/a7yWPhR9p/oKOZo5NvvD/Ih4njnvesz+BvlUfTp9ffyMevH2MTWDd7G7l/1jAGzFBIfiQ5R/CzvsfNH8VXsweri5Gbjz9Wh37DMmdQj05Xi0sKZvQ7YG+MH2t3FuclF1M/kC+oY8/vYxeQL3wDN09ZB/x/6Mu095Ermw/oR8aXii/AJ9nfyueCa6ovr/v0X5hLfnvFCAVvv5+cL7sDqQfuy8aDqmOrU7aD2Xfb8+AUHogQq/J/7G/FTAy8Is/mA8SvpDO2k4YW4c9FB1/DsHNXNzSP1pPBU4jLuCgC9Glsegw//BTsRAgo78ePyHfAN6xXWRMFt0Mzd6OeU5prNKsGF0CLhJcu3wMnL4NUw1xHLl+Ji50vzdPp08wzkue5Y3jfi5fUD9S7ykvLT8gn9yPlb3iHl2QC5CMX1I+xg1qHXP9033Qzx1/kiCcoGlO6J8MDttvfl+kgBLPLt81/9JvQH8isC3wHn9Mj5z/0z7LXgxOb830j0+9YkyMLIIuKd46zZk91r6kbpstZx6Hr1Z/nT97nzvOp19vXkw9rT7oDu8/7fABX8vfpSBRj9CPIX487YONPX4Ke+zbqswKTZA+Dc6Qnm1ef154ftGPYc7v767Avp7XvuIP778ozyxQGFEWANj/807YbhV9rSzTPH98rFztfSVs67vOnM/t753gXcKt7Z9nEQnxCFCEAZ7xPkARTq1Oe2BCEPbulz2+nYNNNRrgGxi7uH3inVusJ03Ifk9fze8XH12/d4DK4ITPXk8L0HrRWm9fXzgfnwCAAAsthP3ObhwNmC1pS+aM+X3avcd9yb3+DoBAXk9E7qrwuTD5QQUBFoEVUa0hExBXbrY/nD7+X0yuoo4UrphPMR11i4ItLn5bL0ruyk4Yv2kwEcGPEW5BAJGjEIev9D86P0ueO73B7aO9Ra0mHUFsmxuqvHI9Rh0y3eoepW9Wf/pOqZ7Z/yC+AP0hDTOeC48YH4IOfU0RzwKe3kyTrRYNxS3bDhStX010HsZOsx3JDWMMe73cDfMdYS2jDfAOve6qrcnNmf5nrdAc1o4ubos95g2HbXg+0l2CDZ09f24S3xWOmG3lLoQ/qF1hriJsl0vb3bBuTA4D3bi/xnDJYE6eUF+JcOquJsxSnR7M5Z0mC9XM+RyIfcCeN/29vgd+7h9Ob5ZPH+6xDw5P1E9bT6XPzE/QvxkdrC83/qHeVk6GrpF+7w6EHOZ8JrzTHn0eUR5iPyQ/+d9+74JAqHERUUyQAQ+HgJUwhf+wbch90X95z8Bu1G4erupP2bBu3x/vdpEFLyINlk2E7xovOM2zTS9OkZ+aXwTdMh2Cfo0uUL427rKuSH9G/nPN/E6Or5+PAU9gLnBf5GAp7/UvEaAsgDJ/JM1yLsJN8W3mPqz9In1vDLd8pUvxylj7v15xDQ4swi2KX2tuKW2w7lWOgK333jGtAG0xndlNyIwZy+Gta70L/XU7UyvQbc7eeK3g7Wn+n1/ln33dfl4ZH3XAKf6KPUq+ytBbriWtpl39rnifCQ5CTd8/jLDPES8w09DCAi7gqC4d3mFt7K5eDQtcqDwCTi2/457nTrA/1Y+Qrwgc4Tz/jnkdYc0n7g4fBW6nLU0bUEwpfVqM2orkSnTrsz3GLbb+Pn51PwLuXfyyzUoegpCwXjOcyu1vDh3Ncfrrq6VrkMvWLSTbRfoVCfrrSatwu67rK2zdLRwc0C1k3W/NSZxi26F8uw1MfbN8mOzq/Vtdt4zxjGW9ko6yXv2uff0vvdBedV4aLV8c72ziXhd8n7zq7YreMv1yngm+lZ5U7g3uP3zljM/9c32hXP0+Rk4mnpbt1ryNXUutZg18LfGuZF1W3fLeOU5p3ph9pF1Y32afB55cbp3Og524nk5AK//A/0oQU8ArQEZQW89P3lW/pCC+MN2RQgErQOyAX4DsAPQAyHASbzCvij9hXp+t865pzz7/yI9NvwvfQ29t3zzfn8AiD6HBCiCmcI0/f9BcH+wP4++uT5FADY6wL9j/99+fUHJwuA/UD/qwBI+QQBX/Y75OXpse4pDrHzU+eO/nD8Wfry6tvxehCUDVzwzOim+FMSm+og3dHvUvyhCGj+re79990OfAPZ4iLb1+h8+bftBr1ovXLgCund1svXueVU7XnoId/s5drlQPSp/JAAngX05ZzpUvJ5/V/stOh27TX3YvNt6dPWbuaM7avz8NwK01fp5+va7WbV5NOi26Tv9eYf9roFTQwr9a7+rP4mC0UhvQkF8kHlCgBoAzrlvMRb5DruRvNn1YfNYecA5iLKXrOF0uvjGPJY4bLW6Ndi7WTc08bZuZfQ5u9n1b/ETMU21+7iXtKVzdzT9/BXCGP1O/GPBLD1KvRy8DT9QfrJ+ej0vwoRDbQBBwPwARL4LvQP13jvPPf94tvbRtQq9pLyG9O52zD6d/Wj8dziZfSeAs8Mwvqu5lHsmfM48irRNN+V5wHpd+fP4bPcN+V97PTSeLc6vGXNTdOOzAnfcd5J5zbcUOAB7aYBVfU6ACvnWfV1DvMEbvIj9ffxUPew4rPf6PL/8Hj5Vfpq8EgAcv77/ZwCg/UlAPUNIAzf9H/WIdcf3dXhwtyC3Drjcu0+7P/1Ue3V/SsJhgB36P7jcuJT4oTV2tHN0xrl6dXAubjCS9eG4jDVOspDy2rPyNilwivLGtw9zZHYK+Jg57L3RAHKA5QTOBVOBmMJ4gou9Z7gwvSf/pX/Oftl65TaQO7F1/Hbft7Q4ZbpAeiG6Jb6Fvyu/YT5OvJG76rt8Pau8+ra2+Y/4e3S3NjgznXGOtLbxgbEIdW64Z/uJ/jb4/TvpRZGAub7MAzoIaYrBSJuBrUO0gZUEmECDABUDYcJwA+w/Q/3XP2MD2r8WPOxAKAcTRxUD4wVViWiH4smASuWIXU2fiqcGtUP8QCHCE4ZLgWS/hIKlQuoBfzyfvB5BlkP5QfcBAsMfQPPEoQK5Qp+HhcpKSdFLVouAh47EnkA4w4k7AAFpALjA772NwVeCj/xLwHQF1wRiRX5BLQizyL1FuMMZxExHCIb9ROhANgH4/qa9EH2UgdKDowIqP8oDd4AHgUm9NntXPjU/03sPvwp/HX8DvlG8Dnik9vLBo75teIwy6TJktBxz3vc9O6m8wbgzc/C0ereKPXZ8efo1Qy4IFAW4gtbBmb/3/pR5M/NHrm+xEjYG9Pt0Xzj9thizbfIis1u7R/km8qGz6/TbgE9+8vaj8fO9Hj52+dV4yfltu7M6Jvo0uRWzhX3cO6YzEbQ6t1U4d/rr91aq13FKdeE5+DlO+mW6HTuWuruzxTaJuVi74jjt85i3NvscQFX3zbmD9+vz9zhZe9E6KnUw+Db4nPnyOzb2HPyXwld+xn3QPZyApcPiAdeA6cIKwN4AXQG8wZI/7zp0fu//8IFYvKOAgYSqgr2Bx3+bQU+BdTz9/Lw8Nj4WQ+uF20JqAczC0Udoh7rFokcHvd8/OXuH++42TXwcRHNDs36WNnt+dsdzBPQEKAIoPuuEF8IWvoVAH8KJReKEvfnleSB+foNNA+d51XwTup0+gYD1gYe/kUKlQ5MAFfwavdCDTQtYhhRBbv2ifbM/6n2/vK+8asJ4STwF/MFaw/pJhEzQxrD8N3yaQZwAj/9GO1s7s3+Pgrk/s/sygEnCfUOL/r/6t/h0fYu+hniUdf56lD7HxaJCuz1WALxGFQn2gxp9V38VRNvGan0dwG1EH0kQP8n77LyjA6L/rjvjttN3VH1TvWP6abYnMpB5a/8zfob5/jyNv6K9i8QbgUU9W0Dufnm787a5eNmC7QD1fEm1jPt6ftJ8EDanOK6+wIH1v+X6xrptfDC9bL4KPfs+QzkJ/b5AdsaThKq/4b9RRd4E4IJz/a1DMQHkgGk8BDqbQjaDJQGwPac9uwBqg7a+0AAuAvREHoH2QcMENsciwkU/635OAAF8PH1f+8w6LnZUuc84w/tBdiW7L/uWfGx96zs5Ooj5bTsQfe00w3l9+1Z6x/q2ev54kf0qt/12czm7/2e/WUJLQCJ9WkBvPtUCsMCeAMc/bH3XPKs7ojmI+Vt243IaMSu09TbE/Ws+xD3I+x6EV8AOvrX9zL06w0LBWL4JPpnAusFQfgZ3fXbXfDr7KLh3Mw/1TTd6+COyoO3CLjlvzzJIMzcyLzVXOom6RHgnOvy43/M99616e/pHPaJ/jQBLPVk3Kzj5eqF9rz3zPmGCvUbCBvACXMFRPzA+szyMu/p2g3cgN7o3TfdBtcJ2D/fye6G/qjzKPaP/dzvt+843+zZw+lD/D7z7/E18Z8Fmfor907lk9rc6HbhyOcS4N7eve5t5p7P5Nah6Un13QIl7CgES/3ZIAsJ//Cb3Xf3SgyXA+T2G/pWAtwHNAMr72PiUe2o6YHepvCQ7dTcRNuO3B3QSM3q2UXabOGo1rTP2NWI40LiXtDzyCXzF+Y86KjTk8uu0O7Vq+7C4dTdzuwc+vzq0+X08hr9guo0z0LQrdWfyw7ZieUY8Hvp+Oox86zqHNnL2z/WR+c44ajVM8W1z7n7pgVD6P/L6uIH9p/pdcjuvkTWKOE95bzXsuMb6GPuwObd417z4APK3e/ND8qbxw7hHOJe68noIucr8UX0mgKCFCELmvTB79L3Q/gK8tD4Hezl60HPMdyQ9lL0Id9v0A7eeOpl8afpmfSC+uj61ga5B8D5WwIEC1EEcff/9Q4F7hZOBhgIIwCz/7IOWf1OBmQX5Q5I/7/7uPSQ+kb0VvIJAoYD+/Oo+bT5lgQU8lrz2fJk9xEUOgfcBcUJPiHxDn70rQH8D9slshBC92D6Jwa+/y4JfwE/DFsTXhr5Ew0VzRq6JqEm9Rx2I3wzzComEEYMAiVfHIUY9QS37HD0nvaF9FXyUv3r/PUCYwR761MADPiP+sP8VOgK6B/nj+INz3neF/Cb+zMElQjFAHH3nfma7YnlT8580+vb1eCHyqjXt9N69NT0fPag/TIACyXaMjMnlCCqLhs0nR/UMHQgOiSaFj4WwRliBa7/BwbE+pjv1PBm8ZL1E91g7Ubc4uq075L4wO0u/z0LrAMPA+j14P73/of2Kfhq/rETphNKDzUM7BDFDg37kQP7F/MfxyFsEKQRRw29F2ALbhUOGj8kLSGVIzYWUBxLE8UMggUcEl/8SfwU+CwJNxFbEOIQ+AL/CkIJMQumEDMUjQeLGQksZy6KFjAC7w1xD/YIJfPMClMA9xIcFrkR5BJ0FYwTtAsjBu4JTwJB+Y/wvvVF/XL6AOd+9JD8BQTQBAT1vN199gn4bO7264f+PQNU+DgAsglcEZH5i/MbAJgRnwDx+WT5r/QD/rL7gf7s6ZDghenQ6iXtQ+wi8trk0/KOBYoTKhuhGqwi6yAsK9kYWwiFFMwYaxycA/kA8fo2+Vj+w+rx7gDqNe577OPtfvgF6NDlnuGG2FHtcewE/F3s9/gUAwPnN+VH4MHhsODP6mbrpPze90bnQemt+NAKagbP86j0lA86GuMD+gHb7+rxAO3+5A/gherZ7C3sSOft5KL19/se5HfUxOQN6znr6tvi3q77N/vN8mvKKs1F13XOfsLG0CbWC8gM1oPT1ePk+gTx4NtD4CLul99O4xX4dfKW+zfzYepI+gL06QAZ8irsw9+T79PeTOQo7dP5e/xG8g/0ggQf/5Pq5/c0+40HFfvQAVQGpgfqBeP/TvzDBC4CA/4pDjEHRf+B/tf73vEi91rkieOG413nH+mt3gTZxemwAOnrYtl735/j49uGydLYIeYt4Rbm7vQ38JP0Pgo28un7DAQ3Et4JRfvk8wbeP9nNzbHD0LfsuKC5N7qEzZTL29Qv28b6eQNk9NrvzOly0c3QZtbdxD3HJ96k6wflytlz1zHipOy04rD9TeWX3R3ZlMRqzb3Z1M295Pnvc+vG3TnmuOxK3/PYuOyg8tTnweBy11z3GflQ/TgPJg95H9URSgwEA/b8tvIQ6vnbevZy+AHpQugN46Pe5+Xb5yXxYO1D+hj4o/HR//v6AOri8bvvafVO57nY/evX8VrrK/Gk+i79H+7A7nzx1fGr9e7yt/WX60b1//tf8wP++Oik/DD7/fce8PL7reZ77KPb2dAZ2LrVwska0Qvkv/EWAU0A9e+vERAIPgf9D4QP6g6kC1cTwRS0BxQVFQzjCYcJOAY1ACD78/At7n/uC/mW61TuYQPRBOsF0RmGFVkkdRr1Iqo3Kke5QyomaB9bKfIjnhhtA2XtH+b92+DlBOsz5Tra0ufH6aHlhvLi8IzmXPEA9K8GE/4P+FL+CR/eAWH7egHAHJUkuQ5uCLL/zBVrB+gKafK276D0Rfkt8Bfgyu3YAGfzLfRY5ILqOuWg41/s3fY58LT84vm//ukBFAxxCZP+cfgd9Njn7N4P68zpJedg3hnzB/hd+Hf4YwGVAYLvCOn27zT03fnw/+rpFOtt6P3wCddfzRLbhucG/ID5BfCP/7cfUygKFHYEBxJFDdD7CgB+C3cY+AoD/FToVe5u7dDtz/X68MbeKuMr8CwI6/8o8kbqKOW1+FzxsvX7+Az/6QFf7svozfTG7BPrbwCy7fXtGOwN8UrvVteA0gXaGt/+1eHlvOCR7xHicdyB307cTvFu8Mn1FPUd+kf/wO5A28XYq+jW6ALSSc/62OHUvM7+4Z3f9dw0xufVg8Z+vGrEWtUP1vXIidyh3VTyvgAz/uwN7wvwBi75R+sv76jbeuJ+2JXQBMyH0MfUQ9zi9mL7TgNFEGIXqheHDwAmMBsRCvIL/RFJC5gHXQ33D+393O4J7VTkjeDU62TsKfYiBvn4m/FN9tgCxgMr/pnqQO/G7T/u0frD9rHyQuoQ3sPZ1fnU/C750usD0+PhBOA79XjqmOlb7TntmuSW4D3t6PMl5E7e9PWo5R7SJfEi9xr9PvXT9TMCCfnm+kro5NNl5cHl2toz7K/85AqgFUAMIQHoCt8v8CbHGXIOkBONEln4M/YI8qr47dq13v7Klce1zkfU+89SywHOnshj2c3bjedy6VbzD+WI1YLPJ8jZxKnN382M38PsvOiE7tD0ivRc5YP3fvii6bXssO0P+2Tne9FL2vbmYPVH/FX7B/GMBFoLR/Gm+3Pz5epx8KfsOury7Sz2mOkN4qDeb9l06m/pBfON8rHsXP/0AKAYRiTlIs4oATRsHw4aOxhjDJ4O2gO+BeHpW+rR3y3nfOk17g/4vg7QEtcEgvVXDnEGYP+h8HEFQAYGBoz/VvoJABL97QxtC20MFQsmA1L5wff0A6P3de9SAL0BJv9O8EDg6+rF61H+6gDb9sAD9AUK78bpmvM8+171ZOmI3H/yY+ZX3rnX89qB4HTnVOZj5XPcWNaG3+jMKN0x6vLvq+ps9k/jXOo91UTj5uR96y7ckc5Q2evvUeMT7O//TQWUCOn/e/66+5EGXvox+VP13vdD/N7Z0tBfyTTIjM24wfK6Cq/JrHKvDqTDqvewPcYewy7L990j+OvyL/fY8Yv47wDq/lL/8eqk8Z/6uwKKCj7x2+PY4V/jxd3pyjq/y8CX4GXrrs9j0zzhB+rE4DPLWtcz2BjVn80gxk3GdaPvnw2u4KsfthSfvprVnE2iyaZpvdi5mraJvEXEBr9WuabYzsI9z9jQUt6D5nXUBMss4Wbxq/bZ13DR49nh3UbrsuQM8AHzrQDl+wn47/4z7a7hpeip2ZfUdNJM2XLj5d5v3kPlI+xs59juM+qi8Vv+HP+C9mL40/8a/1X6KQOe9iH4G/kL/SX9EO/j7nj2ZfOT67DiiubP2aPVotkj5MzWtNTNyaDOt+SE8fD3offN9eHzWvCf8AXwJO0a5pnfG94M0pbFuM+C0L/e2un28B0IN/wv6rPpV+/B7+zOleKn28rW7fIW2cXh09AjvBbVwen+7pDmau1A/0LkOdg87Ej3ePVo+b78cgWGDWwQkA0YELIONPcd+nYEGxRbBWAIlO0F6X7iQdPg1HLpsvL16HDOTsxO6mX8c/bJ5j/uH/Ny+Lf8MgWwEHYkQRizDjUGQBCTDxUOp/zeCUP5yO576xvxJPGlCjsF4ghs/O3+2/vZBgHuneEG7Sjlktdp6U4BrudL8SLpc/Wu7GDo6emY4R7sOtqC9Eb8Lfka7Z/gneUp1y3gxexO8Az60P1C/obnCvBE8lT49/ea3QLkl9sP4LHQPNjW4IXhBuAh5BPjeeblCBUS9gylAFcDy+er5MXm0e038qj4Rfz7CL0PLPon9FLu5/SDBGISpQFZ7nvtsvUr+AHnHucz5kb7e/Wp5zoBgBT1EEkH5+3768b3fvVB7xgC/fnQAJMKOfU282rd6Odo8rLtO+9n7C/vOPEo6iEDugXr+bMTDRheEGIeoSU8IiAnyBrWHWYdehzBC+7vFPwpA+0DNQVsCRIU6CDX/8oM+wmy/aj46gQ79EQMDRgwAxrwbPOMBd4G8vw+A9UB/gPHAK3/O/3QAU0WJhu7CIwC4RBvCe0ZXwEqBnTzZe1p857js/ETBKwAQf0x81Xo6uQ+7EvfmuIF7inlvN1A6DjqOdw91LPSieWS7yDc4d4q+CEX0v4KB6YdvAJiEfgNDwBfChf9zfeN/50BugEO6Ovbs97o5zHjCOWW89/eOs3R0JvdMeDk6Kz3Cfxf76kHQ/x5+o3uMv1RCUMBWf/kA9P7lfBn8dL52QIN/BfoI/aODD0CNvun6+fxBO+qCj3vYOeY4rzk/evj51Hp5eyYA5jzG+zV6pDgsuNx6CLtMtrh1sHps+zj3EHfnuxR8CrqsOU34evhtd/A1M3XNt2Z52XvXwMnBIP+XhUXFV0HvggREtIQKwTpDTkUaQ47/zASQBT//jsALfji/e7vHv/9DdIMdR4uHn0abyGlHAwxtBg5FOAT3h4nGrco9xNd/68KPw0lBbb5u/Jd8RrqjdyR3rbMydRX5EoC7PcX/Lz+Hv2RAzoC6xJjCbf82hkTHR4kqibxI0AVhBR1AIf/pgsk+Lz9I/er+WPz/OxR82PuRfMf4cDgd+lv6kj2Lu9b7RX5hAVt/LL0A+Gt+aH6+PpT8WHsfPNY9hkC4u95693bLOsI9aoJV/VVAVMDHft//MQO/xX1/rYEZ+iU/WUB1fwa9zrppO7p4gDg2/KL6ULsPfZn7hrvafLZ83zvRO5D+i/int8k4qvrYe7y/TPpBuRg7KXarurR86Topua+6UL6JfdQ+NP9se3pBtT5vf2VCF8OeP3o6wDU8u3+9UHrFQak+d36svey+83q7Oa3+Bbym94n2pzZFuNQ6vvbY+pj9PX+axdwAfUGiv9wAl4HpiApEZEQWhS4AtQIz+3i73LtRAx6+Gz41edA5EjpnvoB9t7xRACGEUMQX/vcEPkE3QcrJTwc7hcOEvwZUiIBEwQbVxYUBFEG2AwMD/b+y/2qD6UUJhQC+vj6swPQBOoAF/S2+jwRNwNK6+HqpelT22Xfkuym9jzub/xu/TrqCug95O/vq/kl9TL2ieUC0sDL4NZb2yDco9623FfdAerV9kn5KAfRCeMneSYvHh4UTh1PIYwIpxu2FhoM+fZr8XvwQwZ5+8gC6PKa6WvyCdvp4xflmu6y8rHxxA9vAC4BOACTB3kCHAOPDLwdQhGeB9cH2vLX3YLn1PVx4C/nxNqK5fHsye/89Tn4v+tH/L32ZvBP8vv6z/4//pD6AgiiF3wlBQ5VA+0LOP0b/JThU91QxUHC4trY6NTnluiY6Tbnwt/p21Tkt+MN5hH6SQcdAdn31fIE8aH2xQpSCsb2gvdXDSX8NfjK2qDdVeaC85H17fKLARf4JAeVFu4TzgPzGAMaDQkyBUQTjhDHAwwG4+vZ3erZStzA1xvgzN/s1mzq3fMp+iwMzg8hCEb/PPeeDMoUHwBhB2UZOiNGIBkXJxMzIKEIGgpA/Y4BuwbP/03l0uLc7YHWU9ZqxBXTst8T5MLThNaL3K3k6uE11T7kbPy09jgCOv6fARP6gvE45qnbity35nbuX/bR+8cEjva3+KX79v1w8of/dBpyGm4YbxRFEd8B0QLgCWYbXx4HI9L98AXhAjQQ1PIB/FT81upn2mzWFMcZtO7JdtVt5C/W3+UR95L9h/yS+Ab5LPdN/LQBD+tM7bfZc9h11k/d5+xE9AfyZwR2/YgAnPrO+mb7GvTW/Hz9+urU6ekB5PM68eH2sPDV9goMFfzz+xT5VwEdDCEYrPOi9iEBDP+i/58SoAsq/vMStxdYJdckYCWWJzYjYxfmEMgnlDGRNb8zZj/9N2knWis4F0kQMRaaCXAlSyMoJeYmAhctEUMn7ApD+m/mxet678f3K+rI1dfaa/Dl7hD5/A33EUwgsSPuErUIXhg5EzAPKwF4EL8ZXxB0FeETyxZLHaob/h5eHCv+3PppAYMGHf94+aDoRgUVFGURXwqpByr9TP2F80rffvHnBDASIAk9ECkH1wYqGLUirBawCBwNKBYdHR4DNw27I7wfDxfBBo/6w/e5Bgv03fSb/dbxmfMw4vfv7AmXCSUGdwZSBC4GdPlP9iP96vJN+qj5S/lQDZwMawa7CtwQ6/7qCzEP2xrCFa4GIgPFB7MOAQIF/aH1RQIlB38HVuij9D3xGgAO933xXOno8hD+o/xUBaEQOQdM87DxpOwH9c38s+ak6t3Zf+Lo8v3qHu0v88oAcP/N6GXdPeGW99/0r/iv/kwOTPU09OrzX/sf7AH0SfCHAEn9Ofxp93QBIg4dFr8JChLWG78CGA3DCdsIdxLOG7z5k/e/DloW5xB1Amr9xgftHpAe0QrlCNgMYyVCGS4WHBc4HRkRByE1Kncq9ieSQNU5UikPHkMn0ia5GKIX3REhEEEPPAAABOD6WPo678T/jAC97L30qvsT8cwAiPEkBE8B+fAW6ULyNf0j9J3tK/KADVYAxNn94HTwwvr67RTikOkg8A8Q/P5m7h0BhBFbHD4XKvzx77kM6O9i5xXiMPFH8JPq4uQf2z7qU+ET7Wf1He9b9P0C2A/t9C73rfYKAd0BO/oG+KQEZAlP+7vktu91+/HuKfbn/Jz8pvwBCxcC/Q8QDAz+gwXnFpwMXAEE/v724wGuCb72xf1NB30Dzg3c+RXlpehT7qD0guYU5yHlffYJ9FHv7fv4A1IKUQKy+Q0VwxY6Hp4f+yESNzIz7B5vFHwX4jBZJ/gfhSh5KLgr/iePHasZvzQvJ+g1LT01LDQkkRlKJfIsYh5KEucLuxA7AyAG0glSBXIF0w/wDgkG4gxE/esBs/jlDHf5aehm/QcEMw7RHu0RKAsBCCcIHgLVATcWIRAqEkQSOwIeH9ce5itSKa0gvykLIQ0rWzHMOP8o4yARC9kHDPxMHQz/yOvc6f7yc/H0+eLxdtwZ3VHkmuWW497kgfdA7jLk0e3c8yv21PjB8pDv/+ta7J78H/y887T+fft3COP4wxCo/yfub+jr5n7utf6TAZb/Wg6TFKYovTRnH2ImxzAbKoYxSyLPCmoKy//48vDmeNth0JTOmdA74NnhVPG88NbsiuoB7TH72QHMDbcHdhEAE9cXtB6zDvUtNDLMMM8qnh1+DiYDHfz3C6UD5QHXAB75auQw8QEBSBdXHVoYrxxsLsE26zLAHywxgDZSN+QhQivYJDUafBO2Hv0O0QPLBzYFoP8z/ljz6ACBAh7/zv6WEdELWglsB14IqxQ8EagbMTJbHsQSIBlZHbAjFyNfJDEOaxt5F8kcnQoRBrQUSADDC90MswIM80LdsvuGBO0VOx9eIfgaSxJjC1IVZw6YFaYpcyq1Lkwn7EMfNMExUTVFNV42lTHxGcYY6yaIMuYbGiVgIf8exxrmHl4Y7w9IAqwb4hNOFiMmBypBImIbRgU288j46g8VFtQU/BQOBSAFowBABVwSKA0oC4cXoxl8GqAP+S7iJQsgmhTkFJgPMRhnF3AfJAasA2UG2REmGKYEVP+WCrgURQ4m/6D0WvpjCUEN0Q2bBkUODwSU/tf4mf8fErMFXvcY81sEnQBlCqLuJfMO9d/9Oe0L6/zo3u8a8uD6WvM49fP8GgH+9nLz0PdnHD0QygtlFfYCaxpOJBAmlxlgIK4e9R5WH5EYNxIzFGENbQ0yEfIR2CNfIlEgQwj2FSQcHhdpDcYJFwFp56n0svJa6yHsRu7aA20bjRHvDTIYvCGhJOILsBxGIlcVZ/OYBfz8b+wb66DjHOH59Lb5l/F5AqHxJuTl6o/+2BciJd4fYiF6JSEk3igRIXYQvxRMJGshXyLDHMAPxBR4GAoe8hI7DKAfohr9ErgBlRQGGioVIBieHDgRmRPgDY8S+w7KB4YCnf065Tzn0/Y7COwMZQ4KBGIMtAbV/bj27AWyFO0WATZVH5gXLSMdH5EsASKvD44f9BL7GHkYSBHiEYkBFAMx9PDqjwCf9qfvJP3I+VQS9QGI+QH6cxKxGcsJHQJWC1ERBxJiCUUOpRsDIxYKcxNJCmYQhSXTBFT9wQB1C2Tx7vfm7Dj1WviG6LDve/viA5AANPV8+/LpE/b995/9Ae3hBPkDAgS9+j75ogzDBtYHHvkR+Oj4yvzd/Gr7nQd//pPv7vPI+ZHlAO6l3UH0ue9g9Kj5ZPF06H3v1/fU+qH3qehP8Vb/SgPaGPAo3SbeLzAl1R/xCxISUh5QICwGAwnqEOALMvsk4yr+UQl/+bv4EAGEA18OVQusCLMAaRJ8BfMIfBmqFH8jlSUaEr8cDiISFiQVpSmjGOUOihidB6P2WfJ0+V36v/md7W346PoU8nv8MPm3/rYEhv40++P6vfieFh8VSwjSE04e6h/fF2cWwQ5MEsgbBB88FQgSvA6YClf5x/LU/LsIvxgd/54NkwFpGLASVwIeBEsGTRNU/TT/SgTh/GYDTAEy/Kn6Yf+NBOUEUf2JA8ID9gJJB8b9B/px+rvzFARfAxgF/PUt+XoRc/2T9N7wmvrW7h/tiuYX7CbyYPJu+Ez4vvc8APsISBB1ALD52QbA+NQB4fpz66v/5hHD/3MCKQs8C+UfciBhEdMV4iGSIkILQAHaAyoDZfWZ7gHyUPVF+fv3bflnBucMmwRwBW0UBg7kCmUUABYcGGAh6h8bDnIVxBCHD63/HAMg+93u9PlUCacF7A3JCNcAZBlFGcQm3ihNJDsmbyVEEuYAPv278hsESflm/Xv6TPa3CGX1Iv/FDVwAr/hE98L08gGsAbfxgviU+zj6nPV4FnwS8BtRCn0XliQ+IpwjXB48EMASzxPOEFgM2QRnEBv8HQMyA9cJkQhkDV4PHQvQD1T8aAyAHA8kZB89KpspdiYBIusnnSOCEwkJzwYnDiH64hW6GfYSWgfB/d/9wvkBBcv6W+r97+brzu3P63TrJvRGA6MEVCGCEo4OhA9o/DgFWvo38hj1zfxFADv9HBZ7EFYLlQrTCewV9BpCE4P4cfdEC80CW/+S+VMEHwUSCof9lAtdGtwXI/CYAjkMCwAk8Ir5avaj/rL99d6T67QCHQwd/QIH6iQaK84jTAyrBb8bBShvEkUOMgZwAbgBh/9m/5UNpw5LEMT3sAR/7HroQ+0Y7+TsSPFX70r3XgWiDkLznfJI5p3qFOtE5RbhRuVj8JrqFPNBBzkQOO0j95LuG/mY87vwcfaO/pP7svmH7PQARQJl6MD4SgqLFRkeoAmZA7cf5iXsE0QcnSQjIDMLsgCZDaIWqwhx8sf2dP+H9ZDxCP4B+kQG0QWV/nf9hBbZAEToRO/mFIn+0AR+AkACcg9nBl399Pni4Nf8EPCy54X1TOsf+iQINQ4SEoEB5eqnAiUQJQd/DIUSqhsMJtAYjhKIHEcQt/yL8IkAEBGvAr73Be2r8cn9P/TF8mQDtRDYKuw3UDD7K/EhESAwCzQJZgXZ8iPwZwcFBioKGgsO+bPphPO1Dq/2xfK19WcAHgDF9VfxaOl7AC8Hr/+R/M3+SP6qDLsX7QYpFtYP8g/h+QHbmvCDEdkSBQLp6C724xG8FPURGRkqJkghoDVpLOkhxB8SFxgTbRDcIMcS1PA5/lX42/kUA7sHfiJLHXkhYh9eFPwakBINBgoIFQp0EOwWw/8w/z8D8g7TA5MHEBHOC9IInxbeHYn7nP02BsX2s/SL7Qjp8PKy/IX6uu+MAV4DdRUd/e7yGu4F+TjtSPtt/+b4BPlM8Jbz3+/WAR75rPvU8ub/PugO6hzyuv9L8K/hievV6BP0SP8+/mIALv7g9pXsRPvW+kLhFdD20x7m5d0I2VHapu3u+Ij14OsG+l0hBRcl/vfbd+F86V3iAOTu+Pz0ten67EcMsAXF6WDm0fGD5gfoe+iy2krdnvUa59TrMf2A6jHtAfQCBJEW1Aps9b38+A1mEJrt8uVU/zH60uiN3mnZQPX+/un2lfBs5k/bv+na1kznkfrq5PzieffU8y7zxP/6El8iOxyOE24MWBdqEW0YhRO6Fc8OQgaSDUod9CBgFLn7f/uk+YPy190I6GkEHerH3qLZ6PXxC8kNCA9VGDA0iBLRHNMfOjs/M3AxIyWzM9kfGQreBUgKRRjQEUIL5gtlIWwWUwvODqQYvh8iCosUmBZBCWz85/EHBzUXOxMhAoUCkPNy8abqEQn9/IMGSep97coSqR+7G+8J0Qrf9ljzJACCA2YRYQMuBp30Kglc8U7y2u2o+mjuaf2j/B0H/Q5HFPMSqBHoCpMUZ/cqDi4VPPIC4TzlOvTb8brhM+sN9UPyG+oI5T3n4veH6SLULttE4qDWl9QP0V3oven12RHZO+Ud7U3m8OOW8bvnx/J39sXlh+vR6AcAOfjC5xPsg+iR+iTw//PH6fPme9nk4XfoRuxy+SPzkvdH7uYAquwA9aj51wasCYX3n/zs9lf2tuGR1Uj1PO812+LLhtlK7Zrz3dMG1dX7hvhE8ibeu+z3C14HF/k1Bqkoyh4CFb39uACn//n71+th+hMOM/sa3oH0BO0S5arnSeCc61H1y+TL6DD5MxeMAYXwVgPvDcMYNwooBKkKjgrk8iD/+hqrLMMphRLZLSI8nDTbE2IHhRz1LK0Y4xsVKoMjPgKy+7IkVDkJMY8bARisMK0uhxtRDywZ3yI6GUUF2ht+LS0g6CNbH6AnBzJYJoAdRhaiHMcMPwyKJ+st4RB3/4QDZgSsEUX3avxyFboJywOXEukO/g4xAH76x/HKAR8Q1xUDDpMaHxLM+w30jPi2+Ov3MvvFE7IJbeiK5PfpDv4p+mv73gffALwCC/e7BrsW3x5oFWwS4hrHElQJCezK9eP+pvJN7ffvEQBaD/j8UAPgB5UB0+sw3VTpePI61xC+TcRAxrHQVME3wKbms/L8++Xry/NT9RPsAOz37zX2I/N75yXqR+Xz1sre0erA9ocHFgWL9m8C8/X8+J36h/WU+Fj1s/Qh0Z7Nn8p80Ljk0dtd2xXtyu/r5ZL06eAo4J/lCOpk2bHZnt0X3VrXXtaq7WIEgffU+NH9w/mr79/uKeXH6jv/2AOT9lf3bPQw7PTob+ip6vTswdT10y7b3+IU6QLVHt7e3d8N7wb1CskYAhY8BOINo/IwAlIF3fYE7eTwVu+199H/pv+r+Or1IA+LCGf++f+d9J/sBfQx6TD9ShOnEAQJ4P6CASAR8wKj/ZEQ3BjmEGILgje2J1ANEQf2/sQR1htgCvcWjSwOGg4CfwRBEEADfAfi8WEPeBkaEpcU2xbeKTolfyHYFv0cfzP7NYQoDRFaDKYNMAPoDowsdRpHCDr6aBdlGUQNGhBvA3MWMgRb/nQPh/6GAWTyAvN058rt8fk37Vjxqu6t+awGOAhwBQ8H+v+xCeH5reXR2Rjl8eoN1QzFuMVcwezEc8fSw8fY+9w73sLtkOiN4sXjZePg5rrnieCC4vzX7eXg7VnwtvDmB6gb9BE2CboH7RHh+0vwjN5y0ty5yMP4s3Oxh6SgnHeTpqmltbas3raQx928m8+wzsfLMciizxrJ0coGyLXNH9QU0P3bHOOi+O33b/WkAKAMg/5d4W338fU//VnYyOW449PV8tB615betdFg48XPu+bq43sDvfTa5Xn3IPWp7g3ZouMc8av+zO3S0PPs7gJX7OPsDfmeB+f8BNoI8zEZXQ6B/izuOPPV+jYTxO1kBpgMbQcE6mXfhOph++cBigAjA78iCB0jGrMMqxBfGRMUnQziEGUQNQ39CPQDggzpA4b+LAgo/ufxbfnL+T0Tzgo/C5kKOwIA9wT2ZfY4/nEUqRhyC+ADPxXcGVodZCcRGiEjuR2zF2gRuAOX+3sOheys6YbbitfA26PSC9Xf4E/dpc4S5bT16gG7FscVkDGhM8E++zVUI2cnyRzVF00RfPus7tfzEvia8lL81uti8CrqX+7a8v3tIeyh8H/+ZALNC8z/kv0u+ogNugQe95kFRBPbEwUT4B/7DmENoxnaCLkFiQB69a7q2AHG/38IPvW+8ZMDCQSC8f7xGuJr9Mvc48+O3yDjU+hO3TPdaPHa7ZLclMD4vyPYgMTMx5vdcO1Z7NXnjehL8H/xPedH3yL20v2pEbISHw8qGsz59QQzCXICLhRj+EPusfkP5uzYt+Ka657uNOPY9zkA7fsL+Ez3twEl6pH42g9BGDwkQSWIKj8j5y2mNpcj0hnrJ7AZCg6pCDL6Nuti6HvrGPafCLcEPvnoA1YKsxXrExYNiBR8G3APhwvCHMscuh8GEOn80PS7+JLq9ACIGukd6xiyFk0iqBt0EK0N7A3dBxTs3eUN6S7z3Pw96svNG8xx53Pwt+aB7Db6vvfS8jT+dg0XBXD3ff6UCZoJHBOjBUwLpBniA08A6P7H/U/zbuGv233KYtdH4HbSvc4/1CnWjuuF843/JwM2C0gCHPE87ZD7MwAM4u/adeU+663fWN397zbqYNP+1d/R1diu1+PPUdGZ5kLxKQWVAkAM2P5Z85LuiestAhP9Dvul8oD5MQQgCzYCxP1893HhBOQ82orjdfNc7pvtm/WmD6UD9e2H7J76o/rr+BTiN/Rk+hD4Ueab3E/bk+MU2OnO9+mU/WgJkP1qEJAmaBdNIyoiGiVeI6wXnh0ZJ/MbGg3P+6kFIxbJDBMAcP1KDE0Zb/Mz9swG7ALu9BftceMf9IDlS96H7UnnzgO3+U34eRkpDCEB2/zo9Hz1tt5W7GL0T+ov9/nySfnD7c/yHvxu+nX0R+6g6mPrZvDK4SHlQO2O8pf8bOIi4q7mv+X03W/Z1dEO5ozwj+hQ4GjoffUK5/Tp++Hy1QnfMdVe2hflVMM5zXnRgtw7ylXT1e5KA8TxSeAi7fzwFvTn35jrKfFp5XHnG8rZxhXUeOTG2un6pv5w8Sntc+0I+FX4dfsm+Rr9Gv2NAvz6/Psj5xXuAwCz8zv7uvGc3/vfG9vgynzDvMct1bXUctga6gsAx/n89tsHKweZIdoP+wsyAsoLCggOBiQOhhUSHDQBE/m7/dEFev1k+ojihtrxyu3RBeCj0NvUrN3F3izJ1M9HyVfixtNc0MnM28yQ00/SVdVk1krh9fFR8UjlTeMJ4cDqh+z+6P8Fy/mXC+TxgPKfAkX3Y++Y8CTnVe9W63fhZNX4363fsOg17iX05faMBWAEm/UU+kIFCRYYC+ADjwbqAPMGSfE+26fgWtz238DVsdaUz+DN9tK7xfDP8N0H3mnubNjm4a3fANlF3GHTOsU/0kfXE+Pg5CrpANRP2kvjqeVS3GvZ2eP11IXjoe1I5Knx993H29TH7sSY04PNvMc01YDTbsAixXDQUdge9FLy/uitBBECWASJ+yT9sAZU/t/nP+qn7gze1OM22SPhwN/1y3bPl90236zXt8Pu1pDoLean2OroIvw++KAOmwc1Fc4EAf4E8t/5cPmd6GDu8fz1+0MKBQLZD48e9RbDBMwJUBxHIGUi9B7mIIgUmhSQAaYDkBZ0AYvrPOt09//7N/Ef+oEGRAo1/bz9ahaWDcoOkBm0I08zvyUCIm8v6jl1JO79jA1eEiUGwe49+Hrn2/eY7c30vQQJHwErkig4N4wskR+xJiAURwjEG+IH2PA17Z3lm+uD41Xk9Oo/6DbyhPkRAIH9LQpkEagW5BbCDakUvigXE9sFTAK18cr8qPMP3BLfU+R07IHqqu2s5Ov8bRTQLRYwRUypYJpfWmiTc1VwTHCmW6820B+KEFb99fN9zlm/87nrzW3ZRdmf3Z32TwLW8N8C9A6BJcsjjxEdC0kcZiXJCBsCxwOGBdLvPOSb5bLVEcqYyr650bdj4Pr4GwHaCsAhBDTtLP4rkB7ALxYdPxMgAVLs6uBs1BjUtMpmvQ/M0tDn42f3mAcNDB4L0g2oEy0Z2yClE2ALiw+lCsX7Efpr827nntg90Rzt5+hc2ITXVth43k7Os+l96xAGKQ9sF78swUnoSSBEQEs6KWEuexKdAxEGHfmD6GXu+OQSA6UH+f+rAYv7uwriCgwE9RgfIcUkXBeaEmgdRBkTG3weARUoEkr0E/cEBMwHufQH9zAOfAeXBqsgBw4PGNkrnjeDPsw0BDziH5EKzxPIED4HpPDv65D4nfUt5HPxlvdRA5UoKDUrSmRP3UhER4dLjVnkQ+dA3TrzMUox4waT9yHyo+3J9Mv0+P/xDf4QA/zF7V8FtyMbNk0x5yjkKMo21jEgIBomExDxAQXoPOR43BTDE7lSv0DQeNnj2JbsMAp6GPogCygrH+UxTzCbLlIqhSUXFksLzAkhAZXtkOsh5NPiXsC/wzfc9ukB6RLivPWG+jUGggudDuEQlCnFGB0T0w2VBQIHnfec5zLfydR3107K9dozzj/sx+3J8L0JSAkmAef2awqJFsYXMiVNE9r/K/vM6UneUvGy5S7gIOL+5ifusO5G7aDsoPbdFYkRFwuYDBELhfef+ukMIgGx5lHd/dbF1Srlc9Fe0Cndo/Eu53fh/BfPJ64qODAMLkc0ljmMRswwxhz+Jz8LbOjK4j7altDT0KfMhc/UyJ3fEupz9M3h2e0V8eb/DwwIC18RQws7BggIRQPCBCYSG/QT5gjehu53/JLzHuqi4ivvn/2V+uX0/AouCF8W3Aa0A3gV/xlUFKf8kuhG1iXEn6oLoTO16bNDwO22istF0xXfct908+MVXBVwDXEY7iNPIVYYGhoaB4IJ1Asv88vwe+6e5mXvevHw8On8qhfVA4v2Ff3IAiz0PviQ59T1Fuih/DgNHAkP/NYCVAoY/Pbrz+Rr7wnh09gT3fLuLAEj+tvqpukv+l8D2hwlHAQVaB/RE+kL+f5t8kXt+/nZ6zj0qtuS4JTsa/9R+0QGNwX4DlgL8AT29foWfBlPC5MPLQqSGMAKfvdrABr8nQAH56LeH/Z27e3eGPAN5/jZyda85KLl9dir6KPlMdATzPDW79Z66VTuAvGN6uvnpuMl7THgVuPt6zvqpvaP9HQRrwffEnMFFP0L+ePzYfJ+7Zvrseeq5mTeefi+AyfsxNlJ2MXar/oR/pL/Zf5ZD8sBKPveBsoFawTA/an6ff8h6EHl2u6V6DzcgefQ9Ivrb+gf7sfuBPxO+EsATfdOAHcQZAPqA1r2k/or6RLZ+PjmArL6xfaW8d/xC/Ym/1f3vvSE+xMH2f0yCekGnARFAnwCefVK+vP5dAaRB4UOBBqHEz0XXylwIUYpyS0IKKoLwhQ4K5YlIxu9DSUVfQpqCEHnotts8TDuQeHr6I/9lBznFyseiApRKCUjICXELTUfZvxc9OX+8PKd9DL1geT07NzfF9/D/loK6A50CG8KJQUcAAMOz/aR/CQGMP8pBTb2qAIiAZ3vO+QD70DtDtue0s/hPe014PDcO/9OCavw6Oi17FL96+9y7hbajObj5vPe88zQ6HDq2vYW71TdDeMz9Sn6evyL/XcKOP1K/dX/Mfmp9Fjy6PqOAEEBTPf0/en0TPqY5J3QP+Ek6j/g0uav5J74kPqs5uDtMPik6PG/Kc7lwSXUxspBuavNGNn11AzEt9nO4vLfdOHX8Qbzhd8h/e38Tg0s8/3uDeUN2HPSg75tonezartmtNOy3701wJTIw9rg5tfsgfrt8Mzy5wNGCdAM7AyFCn7/4ADx7MnqB+3X5d3gPM+146LdZORTBxb0VvQX6yPr1vVu/cv9yvbnABv/ahTfCzL0C+ozzefGmMaDvrPDxNM83fDpxOtc5LP+TOw06IX2a+0a/7QKA/9ZC8b43Oc19SHqWtGW6N7XX9s14ijrZeR37aPld+zP8Wj6kvz4Dqv7NvsrCK/3CwRU4i7nbOaq2/vXVM2N1ZHRAOQb3c7cFOJP64TcXuyV7PH2mN6t1KHU6eth577hPeRX5uHnJ/gW6gYCoPsn9ofxqePU51L7of+V/ijwnO3F7JDha9Oq22TTdL83rrqu0bGLmnuZYYRMqbWtPqp+uWjWytGs2dXyT/lYAGD7y/gDBU3/gewT4M7TRdN11tTKo9Ah17/iSNiL3GXtlgB1At4DMgjuD8Yj/gD5+eUO3Qeb8c3nJej/5mHgcAC344bvUOEl6jniTPE39F70JfgbBU//j/kNCMkaJSQkGRwPFQr+Es8SVAM95yHtcvAv2GzMRdxc3wXfutkA8aL1TfjO8B3jtvrs8wcQtweU/XL7G+kHz/zUysFfrp+uP7AWvtvKdrwqzfDavPES94L7MwO3CqgEage/+YP8rO254wLnk9YqzAe+X8H819XWvM7J4qADwxLWJkgf8yF5IoQkXBFjGR0AGQZLBBLnd9bvv7zB58nXur7Assi7wvbjJ99O7L4Fsv5PDO8MdwzBA8LvSvAQ+8frv909417pPNHmv9Ww08L7u7jHutx5zkXSpecSDQYOHBEcFEMKTPsM+s39jPiX5WHbDcClwhi72b0f0BDd5N3K9RwGmP/e7f39XQszHGMdxgmeCXsB1f7/8Mbqyc2v2K/LF8rExmLBitGX1OvR3t1s9nsEbw5/HJIb4ytHRL88cj+wUv5KgUDhR2Mo2iiWKmgZfQaaCc3xg+dk1R3gSPLeAA7yfu8g9Kzs1/pf+V76Pvbo5eTjYuci8sX1sel97KT0zu0i7S3w8/2l/BgSbiBIHjYo4B42GaAfCxYqF+QhtxMzChMGGBBjDHMCpfkfABf48+o03VjrnuZI6qr2he/k+S7va+827Zvtq/BS7Gbf0OeQ7o/q2/f88PsJIPij/sT/MAK/BScBFgsCARUXrh5cDMoWaxBqEmgQ9QAJAWQD3QPp7mEDnPj372fis+ab83/y2uLV7SoA+v3GBLYAQ/4oAtYNUwuzCZ/28wSj+sL9hwHu/R0GPgfeAI0HdwJQBU34bOhK8XsF3QscCQYAWP22BBX7ZgRT9aLpGfFM2N/myO5/737z8+re4w3ev+tY0pLlIueY7zP4iA0jCXr9O/q7B4ACZgQZ6l/mPeOO58bvf/CU9/D4jAr4Dyz/ygVoAi7xq/Mu4w/yuOMe8ILgk+BC356+sblVz+C/tbkFtYy4csPp2STqUucH+XkGbvxBFFMSeR0YDQwX2RLKAwD5m+4J5/HnhO5G7QTgOeQR6vDjEt9T5FL0sfuu9wfyKfEv5yrmDeeT3yf6uQFb9uTfk+IayfXOaMFa2vnpGPOa/rH1MwOcCkQILv7IBJAA7PyxEd8IOAmS9yLgIu6p7GDgpuOT/gT1DPD37DHek+4j/28LFhw2E0oUsCrHIMksCTVjM44tzyRgMAw3URldFkYHZvuE8yrvKfHj+nf2/fjI/8oTviIQGZoauCeVGBYb4x2eHC8HDwtB+uj2UPiJA2ETagRBBxv6oAYU89Hs4APe+MP93P1lEKMEkP7HBJIMHwZo9tryPfEo2+/cYNlJ4n3c6eFu4mrxifcNAhAKqQrTHkgXMQgj7/H8g/xcAvgQAghNA5D9Bf6sCXf59wNaDVoBhQZY6QHYJdXe4LniSvBx7RH3Cdrm7bf95gRM/xoA3P+RET8W0g9tC7EOwyMmK4cIZv/3CJ4SngiSHfwoPxRvFlMaVSPJF3cbQCKmIMUVDRTuE58NjBkcAa/9WvYf/9b6OPtYAHMC2fqVAD/yzeko3yX+BP058enbzts54OnNX+hV8FX30fZx5erln+hE60/XdOVK3MjggumW6mDqHvm0BLMH4QVFB4EPeQE4/XH3YvuaDU4Dve/D+Rz95v8L/UD+nvEb6eTox/oe8bHrF+Iv6rjwJPqJ8tjtzAAFDDQJhwBS6bvtc+Ml6eLwiOAl3TnY5sxR4XXpLvF142Xn0O/89uz0MfBi6wH1Z/x3+wDnfdlS0sXeUtkiv7/fvNM00EneW/Id67QGLQyUE10Y/yMWCmAMvAvWCm0MvQvCDpsAYwD//vH5vAOB9mfpOeaa8/vtifyHGA8dPRL5FpYTjQzfD78aUAv/9eQKWQm3+T/6sfM19UPoh+bs4T7mjOs24greGf2M/HD3sP0mA1kJ0Pkv+j0Df/sH9bz7xvQv/5v8Z/doCFT2GPDh2qbfCt1H5ercl/pr6+r1//MR9hrwYO9V9F3/4xCOCpsJHvdWFHEfbA+vDcn6/f4y9NT2+/p//t7vQvWX7OzoIfTp9c/1nvKYB8EHMABp+nIAOvsn8HD3/e42BoYMNwDgBU0WlwI9CQ0J5BpLKr8d7h9yIuYY0gfwAF/9hPuL9lzxBflR5kLjz+arBHsFUxD7EVUR0CXFJ24e6hsIJP0nAx7bD9IMMw2yEsgTmv6x+AX2q+yH6vvhaOA/52nwPPw3CR7/cfqJ9tT7LAaHBr39rAcfBvAGtQTH/GP/nPiy+Xf6x/m6/KDkDvYh5MbwSv2p7irnsfeX8uH1Nf2d8NH1R/Ns+6P3kvLBByL71QbbCH8AbP1f5R3ebd0E3bji5ALM940GHhleECMRIRAYHEYUHggn+40Hcv2g5Kfkg9hL1jLRx95m24TgNOUK8Kvn3fPHAL4EyAiMC4Qb1gWr/PQEWQkPASz7Uvqa+sn8EOgm5NzXX+0d6+LUQ/W9+JsGZQ3lBXsIYQw2/f4FoPBg9OX1D/VA5sPphPTW+prxSOnb5ozzMulh7K/t9fL8/xsQ1w5kFvcPzQ5fGAsTUhKnFEohwQ4+/tkELQ8aCDsJUgDf+qYMfQfR/E34sOyxCPgBcPjF/GkRxQvJAJgFifOT48zmUvIn6VDkvtj32rXb99WW1GPjIu9Z8C372OXJ+CcFQBA5Amf2GfPs9w/5Zvvu+gPx8vaE+7/3tOxy5kn0D+ryCbELoQIMBML+nP9y/dAFMBmrGVEkkAVDASj9OPjq9nf85Pph71/+9Pj/8u0LtAicEVYQ3w3DB5L1NfUF54jeKOAm3CXfLtICvO7bsN9910/hTu1mBb8JYhCsDG79JQ16D1cJPxfhCEEWKv5B52rO3dul2WfZjN5B3p7a9+ZG74Dg/+2p4GPccuAQ4i/o1us59woLlQK8+0oAUgHKB8b43/Hz8zHueewc3wXnjelA3Y7fD93t8OH1Ku/A7Fz/jhWkF2cgOyJOJsggkyFjGL351/GL73DrVfzr8LTn7uJU5lnoD9R4zFTnuenE2HrBAcgV2L/iuNyvym/OYcdT0uPTOusX5Un56+8S6a/pNQDmC60ZfTLJLb4lMSlsELwJ8vKJ3WPoz+RS5rnTW9cAxwrQdMESwWrLINtw3sfaSuYp+vkDCBBMI3Ur3SWPHpUig/2B8BPuOO2A5hbkIesw7KnnMu1G8oP5dwRS7+3tr/Kg6BrsMeYr7yDozub24Cbsl/BL4KDT1OmO1gDhOenl8DzrSN2t5fvmoOaC5ifx9dmQ5lHq/9iS317mTOux7XTnx+HO2rzZ8+lo5cDkl/EK2O3ev+rb7/L2BvxT7XT/UwppBNzo9Oxb0d7adLrNuW/O5clYyHTFVOsI1K3h5OEP7GDvMAAtENwSLQ68AhsKJArzE0wmzBWzA6Dw+gL1+lLmPudt2ALXjdNO3sHin+Eh4HvsMOgoBnj8GQOf/UoNXP15Anvxf+5c8L/Y3tW81xzbsNz13ZTbdNkY6Rzmufha8jMBUQWxCC0GMwfu/Kf2CfUv+Z712Poe+tPvo+3U5uvwi9zy2anVouFT32bOScymz6PRcchx0EK/0cwHzo6+rcilxqW3xLiVxR64wLs1yw/RE77Cw46x/sJ01PXO+MwP1gzoQ94V167mh+iv6RrhG/Ha5zXz/uJu22zX+809ygLSi9XBz1vEVd3u47DjpvTF8uYGwgy5ALX+0v3p+V4Hcfx6+xL5JPlFA8wKD/jL5FnxQPBQ6kX6te5U66TvHPEp+HTqCu6Q9wL6nfS+/w4QtRnqD9sWsw+69k756/qIBnokDSk1HxUSsBQpHOIQORrkEuYSKw/nE+X1m/GNAfP9fvKH+pUWovp3AwQGyvI55gvp6eFc7HzxOuU5+o0FQBZJIUAg4iDjIfkfVht+DloT9QX79iLt+um08rDk5OIa7lHx2veWAMr/Tuuu/OUUQR0dFpYWCBtKE38RtREXDsQMQvNS9uDrIO66+NL3jfFW6FzOltWUzzzgBOXw6aXrefm460nZz90m0sDVbOfE60frCPlF67Tw7fJL65Pxx+Cx59TlJ+ru1zvnxOpS5jj0jOtx+XDu8PPc5pDu4+dj6T7qWeHj2p6+2c5P0UXGaMsQv7a/osTw0fvpqPb67/nzNerF/NP21f5y8qHxGwijGfYi0AWkBFHuYv6V5gPWusczwzXL4r+fvQHNU9Sd6N/t4esb+IP91O6E+F38SP558nPiPOTb3S/TAs292yTiGwY3AxP69gWB9wvnIPpM4+HX192m3NjbVtWR3AbwBPqI72kHHgr8/+75AQ99EyYJpwIDCGcH2BqJDC4mJza3I2kgKyGFFEYVfg9KBdEHbPhH883xVPPl837qZucw7kr9mQiHFlAqyiBLJBAkcC/OJMsimxfzB0kRu/0bBKr2SQFF6tPd6NOPz7DQVOjj8ZkI+/rM8NL3LvHO6OILqAZl+1z5Ewr6A7Pz1vcl3B/lQePn+EQFIyRWHugFKBDcDV0ZMh9jHY4d9iIeGfshshPuH/sVZg5JCA8KYwizAPL9svoX/4rl/u+QBVUNZBD+EVcQ+RA6AsAHQAgwBZwPfgPVBYwRHgrVE0YQMysPK+oW+CVBIaEaPxEbCAwEVu4i/IDniOpf5sDtSO4O2ujaU83+yETZdtRp1tvO1N0o4RbqtfNv7qf+ewo7C2UiCgwYBx4J7RBR/DTboN0E5GnWNt651Ejacdpp+JL7yvcp3NbrHfVG+PEH4w8VADL1AOdS5Mbi29bVxLzKeL+Iu5TBMctUwSnI3cHl4kblldgH6z/lRvcTAf/pJt1I6+X0JOGN4JXVXek53fvE4b/FzbHYIL3d1zzaNuDn3NzUcNCe1DLWldMVzTjS+9Ul7LfubPMx8On3luS22c3igeFQ003eEsVKvOfbDtZA3Kv0u+0J8Z/yafUI6Grldefl453iy8te3Cjgscsb5BPlFNMM11XgJdTX2i7uvuLE/qL6VQLk/3r5UA7RCm4CoQP6AOD9uO8e8IX3KPp97lPuEO9c85f+pAeECP0ZkQJv+LsAyQr0Crgc6wHX93r2dhYTEIkVsP5qBLEXpRojHVgMthztJwstciwEI60gxCt/FHYmJxjdCYH5EO9qAZACUey93rvlKPMH5t7ak92x7GHk1f8+/Fr6mhEeKukjFSO/NK8hbR6JDxUL8/mH6Mr4c/KL7nzyrvHY8UEDDQyoEKgQlydkMRE9aiUQKx43yi5kF6MXExEwGb4Iev7K/XQFLwQ8CTIMKxmAEWcSHAqI+WAKlwscIS85iC90IRwacgVoEDkTZgK7/cnzsvPk6QDo0vGN9AL8uv6tBlD4AP3x88X63RTDDML7Mvhv/YsIvw/yDU0DSgmWBIoG9QXF9onjE+sx7JX89PVm6qf+QvnfBMkSVBkoGx0kVCMrIxYkCBOnDV4HXQ569vPr/vZp6jTyvvi8+Dvzcf7wBwIaDgJ36abhoOP/5HDbTeQX3JbXsOLJ4w4B9/Zg+uMGXg9kBTwSFxfNFfMjPh2PCH8N/BpYG+X8+Pec++vW5M2WzbHPUMtl1Ofbst/H6W3j7/QI+2js1P3F/eT4uwCq+XrqT+lD7QzkaumQ37LxlPXZ8U/vcwEJ/SDzYfWP4ezuRv5s8cDvEPUwAFH+UupD+rr3/BJwE8AWAStnHPQK5QJN9PMEiPKQ9e/1JO7J8lP9C/5kCGQLWAzhCi0P2AXa7gTlZeXV3lTuhv69CsAIkP6+AGIDhvRY7GD/lQRsCDsVVRuoH4gOtRVCI9Y0Bx4kMJgiXg2d9gjy5/by7VDrl9hx2HDO1NKq2+bU7tJXyWjWkdls3+7wCPRNB64EeAXqCwH/3AYh+iQE+RYJIU4aKCC5Cgb7z/Gk4hvhl+6/5PXvS9uo3Rjr9Oon9MX7VQFP6dj2BPwcBi/w3fp08dfwSOuK8ED3hv9F+H3t5+tJ3Er08PDq5jkBJPR36pjdAfS8Aar/1PrI937/+AX+BdgEzwkwFLoRQg3hGi4O2g1RFVMUdBQX/gXtou7r7T/mAN3n0Q3SCOKj2IrPV8I1vc7OMsPlxyLZGd7f4yjci+Ht2AjTa86m5U/nRuod7ybqD8TjywvdrdZe3Z/Hyddj4qvq2/FB68TnyeAg6ZLZdsFkvl7MytW5uNK5F8lq06PSg8jS1EnhHNvn5gvkoO9YBl3yGPnB9OARTfpJ89/3gN3b1NrRl7uvwLG+wsFlverM6cakvT3SI84D1gXcgedp4bPcAvon/tH75t/i6/zks9vp4mjlkufh/rbzewEs+33/CvYK98jwtOu87VLwf9pu1qvMcdE40UjhN85CyonSStseyxDStsBP0LTE2NfL6FfRj8qNzSDIC9j4zJe8sblVvtzAu8If0V3QeM8/3gTapd2Y7H/5RfWq9p0KDRXgAmT9Fwv39eYEvPYQ9DcTVf+6/gn0w/qmALH8tu9u9y74Wf+uCr0HpA0P9MvftePL2UDbVc2ax7rGTdqZ6TPfuQUkGOIUQBTrI+0tQS7bQeJOiE19OtU0AyaxIOYeHyc7HKcLDwNFBT/zptYM35LkDvRcBDD8TAxbJ381vC8HJ9cqeBrmEzoG0xWuADTvMgCMAAr71fto/e3/ZBBDHgwX1hx0HewKtAikD38bg/1C9dL7fvjkCPD1cO864zfu1Oo86MPs2fTR+Q3zQvGGB+cili6oIvwfYx7nJLgRMh9WG08GXfIM7KblPNyT66H05tyF1XfucPUn65fnjde00SjRut/a2u/bG+Dr17/RpdpT2rPv8/yN8x/pwvKiDHwLGgqfGBMb4QolBsnyYPNj7Ufd4t2M2GW/WcXkuGuvp6/Zp+O22sUN0DHihO5o4o/bC+6m477uX+dW7i/omwE59t4Ag/rH/PHiVvID6d/lzuAl783pCvvg6R/iCuNe5dTjruAv68rr5OsO79bukfEr7CD0bfGE4bHspdxV3ejgIOGV36fmqde74+7yIt583b3lMOlW77X2h+yX3+Xkit9U47riX9Yj5rDNXtQa02HVU94u0SvcYug27hH3xffm90L9iQnoAk0WZAjT9uPws/NY7UL8s+QR2XHVw9ZX4C3kDtnU19ndJcMUzNLLH9CY2PTZrdvW5R3pPN7p3H7jv+Hf8nXyvPi78mT9yfWa6vPrBek08R761gv/Bpv9ZwHJAm35XQjKBmr92gUE/779Pfu97/70ru1+3t7zavVt9eoHXxMZFqcL8ht2EoYHAxg+Fmj7GwQYA1/lyOtu69nybN0a7D3hIOK56nTafuG0z+ndkusv5Gf3RfQsEc8c8iM7JrcWVRvzCBAKf/tU5zv8Wu0T5FPnp+e+9m4IxP6bEBsYFxELHs8ZSiLONhwU8RBMDWYJpPNy7Sv2jObg61r+iAepD2MFQQng/+r9+wKA81j5zxFkDuMGnAqqDw8T9gozCtH9AfcF/HLegdUu05XbEeEh6BXlqegs/CT5qPyE9/T4YwBDBvv6jviN/dru5PWD6in7f/KO6+X6CPiq9uv34Okm9bnyHOvS6gb4uPii9OP1BfGj7/ALuBNaGeYPXQaAE5wW0g/n+87aGN/y+P7wWOkq8CnwsPTn/yUGfgHRF84eMAyZESsNcBD/Dv/30/xHCkb7VfwU9z30cAHiAP4h2iDoFuQNpAzaA2YBpgv5BkcL9xYVH2gfCh2YBun9NuvV9fH3D+0j+9L5BPJMAv4UxQut/YkKtgl1H90b3RsLGMoZWRMDFKwP3wTrBV3xcd/j7GvrKO4g6+/eFOcS5Vnn1eKO97j6zu8w9jTtmvR4/5gNtg5pEbwUByYCKwE1yybBFtwQ3Boc9Jv4dQTu/dL3u/hQ4tvwDeGD48H7hPTs6erTnNcw09PEiMae1NXOAtdf3JXtm/pb7t/tZe5W8OjxFgSKBUEGVA5gEqYXASNdCfMALfoD9jjzzfeZ5fTiieRc44Hz0elj9Sb1NvZ9Ar3vDe7f9oj/6vxcAjcDm/Nm5Vzs3fmvDGcYRhlsFUAAnQCd7Qnzge9B2IbSQ9NU6cTmrd6r6Q/iBdLu2oLkftAqzqzZXOyD+e73V/dy/SARe/kDCu8Ov/x2/d4CY/K1ABDrVNyE2pjhp91v3/DWDc8SzczNvNPN2hrZxscsvqLOAuPQ7+HaO/YD8EXwE+6N4BjuNOMV50z4CuyZ7Wz0s/UL793w1/mN9Cbr1efn8kT50+7P2aDo/up17Rrwy+je6A3zWueb5zjjJfjJ/Uv6bvEX7VjowdIYyBHIodFW1EnVadjX2/7BrMk+0yzQudRR2PDYLN6M4CHuU/Sk92kKOhGVEfYHC/AQ5grgZeBY42PbrMfI27PgStVv2xXT7OOp67DZTtTX4HbxPN3m8rnuW+Rg7/TjhuAn6yfjMfRG8W3t8+9G7CrspfV5/UfwV+Sm3bL1LPsu6grx4eWa6Yfw8OgX3cb6G/ecCJMBPA0TGMkQNgMmFu0KUhuMDpADmPuAA1sHvutV8T34Afmp3yfuzun/+BTrnelt7CTsSObO4x3nVOOr65XnBu7n+z32oAYfBu/6Hvde9tD3DOyV4NbfDPZo+B/lEuH05t/IUM182GDWyde5zfnf89Wa7nHzOPIzCGQJsQFbCXD6UAG39YXeQ9zy2E7U09NOx+nM3uAK76btweM78G7pZPc2//39qP+8//3/eu667ST5Evat+q7+f/WU60713OpO3jrh1dH70XTRDdcVxGbTi8sx3GXdce+K4sDw4OIt46/ax9dT07zYYN0i6db/iPbM+L3uWPSZ4kL2ifYa+9wDKe1O79/wo+0m7mPte+Ib6aT0WumA2rvj0d9s7Yz7fPZIAVICkAKjG0QYfxH9HP0kihk7D48EbfjL81P+Cfw97Oz5nvHk//nrnPILB/Hu4+nd5OXw5Nt23hndzOn/8QrzPeYl3NfcEeON2Aref95V3UPefuvY8ePpH/D67QnzF+Nn6KXiEeEx2rrWj9/u5RDk4O2h+RMCdPzYE0MYlhiaGqEhzBwtHHcdMR1wJAkj4Q4g/PfsY/TMBeH/fOqK95HvMtu62qjiFPOJ7H/tBPXP8/8EVwjOD+MMIyCKI9scDQ3PHvMjfiBiGWv8Df0W7ub3Gv1u6SXiXurv7Y7zrubp5v7p4eKu8J3oJeEw8HMFIhPlCQP+gAGR+I3rqvVa9mb49/Wj4ovngepW4L/UqeT+6ZfnrfbX9CXvpPG4/CzszP/o/B3+0+p43RHYE+Xn59XzAfc69FEAsgS5Awb0O/uh8IrqQerW/tQF5QL2BZQMuA/OFfP+ZwbU/hz9Iv91+ugBAPGu+sXq7+rt8LQJdhnQEX0dbREWJ2oaah/eFjEXzwj7Ce0Md/va/Cnwef+0+2YCsAXX/Dzry+qc+5vreujN7H70j+V+3hvt0d/z3H/aN+MY6t/tm+ncAtASfhBZEPH5CAHV/SULKQwtCQUepgCDB3sC9vGP7azzwueq4qzkZOSC2l7cq/LA7af8mvQK+x/y2/Ot9ZzrovaQAFj5wP/r+Er0yvr/9Bb1F/4s/tL4TgMdEEMUtw7RE3AM0QyDGVMckR0gOSFE0zqnItoeaxwrGfQGWxfmBx3s7O/A9nbzOvlY9ZXxxO/x/oMD9e4n8Av6dP9RAyAKBxJv/WEINvDQBCIMIv3488Txxe+eCPjzUvAs74XwtOq350Hy+O6k8GP8uQEfB9YIvxMRD8MI5f5C8rbx4vRgAisIRf2B/T4JdP8xCaT+FPQ//EQCqPFg+XwA6gsx+a3wEvfX7kr1Be0k9jfrEO9y/R74aPGa8Lzz++We85Xf3fCH5r75y+3E/nwIrBQ9GREDJ/8+7dbg/vhf8Hb2Bvvv4Xn6zfFx8invbO387QwFk/zA+q4ADuz/7rvinOOU3/zmJ+hg6SbqVfbYB6EB7hyfGpwizi0oPRwyRCK3Hp0d4w+AAd7sYPUxAjAGGgWtAJ7qYwAr+Azxx+we7Nz1Bf6OATkRng9qFnj+fP9h/HEB1e8YAwMCrv+l6azzZAO7/qf5nvHL8sH0BQmx9uHssvX29OD5hvtCAwkHsgFL/n/vVPox9BP3kxHuGAUMjvNc+RIC/BI8GyIJ/B7zKVsiFRt2Ek8CRgUn+Ab3FvqyF8gMrAdLB5wSlCVFEXITThhMF4QQSA5hFLcELAVE+30H1wSP+zQRqx7/EiQSwh3qJpgd2SWoG9oitxcPB4QJ4wqFC9kTxgufBAkL1xRKCHAGOwQQ96EGyhfZGykVySvZF5ED+gHjFZ0RWB52ECgV2hZvFnUauQZNDKwE+QCLE1QGw/qd7abwaPQPDiIChRaCJoEQcAY1DnYXJwbzAOYFhwMeE3IP3wPHC10W2Q+0DfQJgPk9BPb9d/ne+pIF8xW4GAAZCx+gEBwfEy16JSQRIxFxEcQG/vdB9r/jXt4S5CfpEPem8AXy/d6r6S/2VRUSCKwHngRP/VPvhvV9/vcBZ+me8/UMlfcD7tPvSeT996X3aPGK9bL51f2lCWkDLvm++ZD9NQcFDpMI5AFZJvsMHhSNEhclHiBlGxsZgxCWCnUDOwt0/2j2zO1V71bhb+m16IHuNfe06dr8I/ED9KAL+xKhAOT0jO9s+VUC2wARCXQJXw/rEx0Y2wjsBkIUdwx2EdUclwJy/t/9C/CP67ntk+Yl5L7lbuR6247ngekV7fz1D/3e8zvisuzA+KDujgAN7CPzcO1L823uUPUx7wAEkQjS/RUJ2//Z7avpYQNc9DflM/45+RL4iOx76HTQGNZ80gfPMd8F89zd0fX5AB0BdQkMCekUUhTgDA4G3fqCAdP0+f/D/Uv9V/lr8wcCiR+rGVEdTRYLAp7z8/oa91n+/v2b8X3x4vda+f0In/sDAVUJYRJLAfr+8ftj8J/vf+LkzivgufC98zT80+vU9oLz6/FN4bD1EuNL+W7749157Rv8cwW4B5kBlwwkCQv5cfNq6a353PED6Gbp4dZR2oDVmtXj3tncDtDb2Tzgr/l/9/r1BPve9gj28vLv8UTlCe0Y6NTf5PAB+BbmjO7R5/bqkfAJ9bLv/ur86An5EgV3/Bn/s+5k+Sn1EvlH+MX/HgBF9kYEVexR82jti+qeANf6gfaX63/txuhn/1UJLQ5SC8MG8AmZEBQZcQ9UHRUaPR4QDwkIgg48CzAUJRmg+z0AdRacBCf+NgySCfMhphxhF2ciASfIJAsSNwYjIOEVfRokIksVJieiLEAOSw8zHy0JxgMk/UgUEhh1IL0nmhtnHWgc2BYcHpsWnidKNWI5vDwgRa8/3kemO1w3HDGSKiEYkx9FGnUH7xkRDwAShg0bBHYQFgWm/I8YGxqYCYEFQgQyFJYLbwrgEI0c+xoXJNYp2hioD2wZTyO8MSAkkxeEGGgVpgljE5UGJQWe/vP0LuZ38275pPZ791z3jPx87RgCPQAj7F/4B/z8+G3ytPfW+W/fk+qm81naSNrp3Y7a8uPD5b/hJvLZ+S/xYe2+7lPfTdsK0d/QANdz0QjePM3+18To9+1X+IQDqgFx/OINpBDqByH+jAg6+Mbx3uP82FXX7dW/2PnR+dTw25bf3t3C8ub9Ie84+Gf/bwTKC2cECAq77Df+5O6c8T7tcuUb7DDj99cr1XLOBsw70+fXuuF732TdJOEs/gv+PvqxAlEOoe+K8vXs5doH5s7j/trR0sDRmNru2R7Sys9eypy9iNDy4YDhfvN1+sD8qgGiBjQFjAk187j1//UN81v2WviN9E0JPv91Bkz88fITBjP8RwQb8WzwfPES6ObsEOTz6HvuaO8P7mztgPWz+0UNAwFQF/kd6AL0+Hzr5viaARwETfjw8IH/9+9p9SXz3AS18DH1feRR45T7xOWl73rnLt6p6qABa/0dDQsL7BOgHWsfnSn7LUUc/yBhE7UHdAIuE0ISoxMk/2MNTAFTBaj+nfkTAOMAPfSy9uv+SAjMAfoK5QMqBqwNYgSWDlYKR+2eExQV9AO1DGkJtgvQDEALzP1t9tDxRfgx9PX/cgM3/rf9ogS5BxAWABSVCbsJ8/EX51QBwf1/9rXsfvD26gXqWuKa6+j0YuHV8y4RTQ8yG20caBQHHioQ7BRm/6rx8ueS1o3UY80IwxTB2sSCw5zFAc4hxWrY39u82YzdpNLky3DawOms36nvee4Z4b3ieOS64KDcLtBM3XjL5MNe3tXd5eGN2E7YieBa2+PixPlE/pD1DOWA8/cC0BkDHcwWDxqkF2YNqBLJB8QG//d06c7qPe9J6DHxauhV5AfsivPP4Ffq5gGF7SDs59jR2mfgLeLg+rr92Ad0C+ENORt4DOcOZw/lCNwFD/2c+of1yePH557wJewI2CTW8Nki10Lu8OIc5mH3Z/3++cAGVwGv8o74Zfdl//kEaRDMA08I8AaO/vH6nfU45Y/Wj+Hr1/TQudjf51faOebX/hv/kO1U7ELvJew07dDl0+g/zsvfYtRPycjWK+uG8rDYDMO92+DoaunN2v7kRfPw9QD+jPcb8u71dv9J/4XpV+oO90/sZOQE2xXaa+VK6BvkYedq5jDtT/qK+rX5MwANC64ArQrGA2T6YP/6AUv8hPd2CDkH5/VyA9//N/hL3O/gTN+y4LnlyN+y5a3tDtbe0JTWXOuk3fzkm/QD/GUMtw5OGBoGbg32AYYEZPnq550GfgUJAF/6de2P4MrXgdWh1PvKqNkq1IrLN9DZ3k3PhtzN4L/l2/Dd9kEF5AmPBZn6hfoz/EECnexQ4bjnmN8M39nspfAI6oTjO+k78uTfieUy7dXkAer67d/mcN544ufbXtfMywHP093e5DLhweph5DjyHOtK83/ymes57B/aO89kwee9fcYlzzzDbcUi1WnEScF3wF7Cc7zNvqPTcNSU1f7WQdaN4P3hHeUl1V7r1drp7tfz7/Od9EDhw+Bs6IzigtEozTa5ib5uvES5Ka6rvxytTrelwgi4acUG1aXT+tBhzJTf3+HG2NbpKOJm477ZQdbH2obW199H2LDIiMTAyFa8Cc2MvNu7+MT9w/7BS9dZ96r/JwnMBcX2mO857BfnV+ez3NvXs9Qf0vLYr9e20sDKiM4T2b3gqdnM3U3mKOEZ2PTobQREEVMCtQpsFg8nsieuIwEOQg8OB3z+P/W09Jzn2+uw7lz029xm9R31/PnVGiA0xCeILIEqhizqGjsUuh+9IvMQggmTFSoJSQUyBv35yOjv5ZvfQtIt4jniZs8C1T35Cfrm9b4RUPkT+fwE6QRWA538Ev3G/uf+ZfzK+RAQRxakBCcSmwvV99IJcw5yAtMIOPtY6OPj1PmmAbDxfvog/yUIQgEV+LT+MQnn/NX0k+na487ibeud8H/yTusJ//ALqAF3AwAPGQ7PBT4JuP4M/HHrFOnC37jjkOkk23jb79606wTyye4qArX/0gKK9FEHgAqX/pH95vFS7SvhePYEAZgETfIw8LTf3uH86bbaT94f687muNzN5xLyxua74tLhc+O21BfdGtiW1AX0FerR9iT6fwRAFJkGqwm8GpYmGB2uHdUfniG3IRUguRQbDigDtfvZ+KDxsgShBWf/hfiq64zhHu964T/hieWh3Grao9oe3XvtDOZ96U7t/vdx6L7VNeBM3xvifd1N5NDZMeRT3/Pn7eYp3xbwBPge4d/gmOAt69MC2ObO773wHu1o8XP0QPFr6+fdCOKE7X3pNeYB3yPiiuCk2QznfvgHC2ftTvtKG+sRmh9YGWIUyDFNJakf8xMiE4ghpw8rBecQoxGxE98UIgDIDUoEQgN1C8T4EgEMDsUWshhdEpciUC7JJXQi6CKyHoYekw22/EQTQgjeCPL7jP4/BSX9GwoXDvYdViPFEzYHpAIzGD4r6Bl5DJ8IsgqbCL8DTP5w9+ztJesH5VLPcdPr1xTYZudz7qHc69dQ2qbg3N4+3qjg4uOI39LgUeNL7I/xE+Aq4BLUH9tG67Hj7O9p7sr6Q+p18H/6ZuuQB3kQRAviIHIXZBiZCv36pAU5BQb7cvXFAUb/MPQn+K37tu7E7FT31/1c+soAEP9wADH1QAKu60f2Hekj61Xrdu/89WTVydf65c7ZpfO6/ZDmGfPc2N3k994H6or+aPzVBKYB0fWw5xTwzO8U9+H5V/1kDcUBO+u16v/6cOrM9zf7aQSh6LThd/Mw1ePVq9dC3XzOadFB13rYWNJA38Te8OGh1sngFfJL8FzOjc1Y5L7pWP8nBw4TJv30BYoKLQY+DfH2OgywB2cZjwErCiEVIg0eEkQVdw0SElL3iusr52bq1OPi4iLwYf7wCl8Fig27GCYY/guSEzYWnQTAB80DNAYwDav5twsBACcU7xKwIskUjhTWFCIH4vRb9orqqdkW5XbPqdcDxvrJFt0I1YbQRNfO70b4GQrAAroRkRAiFDsMsAlfD4UAMw58BisGQANs6bLzTO3C9+bsKfPf9N3nFPTg7bL2+uE77GEDQhDHDXEHG/FIDrgExQ7m+HHjePKx4rLtgOld1HTb8eht7wD4xvdBF8sZWg6KDZMUhho6BksBm/EpAHL3BfZ0/HPZ/96a47faouEE8RTk8ekD5iH6c/LV7VrsAgvb7Bb1n/xfFD4TjQOwASgCqAgVAdz1OwbIAiL6ae5/79vvTvJ+7p/tQeY564bYBNei03HDGskJ1uTbq+nBA7QPDSEQL48nEChBLaAmeR6uGTEd/Bz7Gq8EH/aC9/H6yAM4Bwj/oAKyBoIAKgRb/CcQVx40IzYtpTd6LHoiUi7bHOghtyOnGz8igQ+uEiAU2v9CFnYWHBNCGW8blCSYKsIb2SEwNrFGQj5SPa1HGFA6Qxo71yknFcwHwvZ/+JsBk/769q0EVAebAZ/+ivqf/zIU2AOmBSPut/Nb8WnbIPFL7l/4Ft434ZzMKcIX1VnfPuOr4J3zV+Qu7fPsBAQ1AVEMHxTZIUUWZh74GQEkdRpLJW80vyl8HQAINg+WCDYHZBDv9SkDqREqE3z/UQHdEl0PnQlVEHsVNwx+EC8I9vpfAb7wAeNi6tfrkfeD+R7tUOcz0/LLYuc365jxEPk//l38D/rLB0gHzgHvCI8BzO2z4+XpTOuS6L/Sz9oW7Irqz+Gl8JDzfOts6wPs0vOo7H746/t+BZ70Ffcs8brmQPe77xLoBt2L+Nn9oAUEC48Hyg85E38a0iMUKHsZ0BOEDvcdIQG88kT6pAyYB60FkfVR7Pr4zADF9/TzO/cm74r8/uq+6bvrb+po8j/zQfDw8/X9uAOI/akHHwsQDW8PjRR0FOoSrB/JIIgdnxSGC+YSgBGqEpwAL/YJ5R3vpu9o1Uvhl9byyuvjBeEn3UDj5Nie2Nnbmdi+xp/Jmsog05fQwNcA3QLtCd3y+JX0mPg5+pH8WfniBEf8Qv8U/UvxDuyQ8Vf1iepA+Vfx2Oy4ArgJJP8xCUEUwysUQkUt6ziGIEAeMyBEF9QYGglV+vb0uu599DPjct1F7y/vSOfD5iHpQv9//Q4KvhAb+gwFffgw8cntLPHM7zL05vA+7WIBFf9U/z/2B+7S3oXhyPbxBL4W6RjNHeAdZjGLNUY6ACXXFzARYRDlC5gPUfuZA50F2glwBPn8Tfhm/RkC+gLaCkEDkAXe/VAAhv6QBOnvfvop9EjjpeU11u7VU+tR56XxOQKnBgwPQwpDDwb/mgBN/wATNBKZ/g72Oe9Z8tT0rfRT+x8CchMw/lgA6gEX/ob4r+kr7iTmG9iE4tzqseOY8C37f/dwCaQFfwtQCg4SOw2vEicLnAzZEIAQLhNpDR8VdBv6F+AXpwXa/RkHAgFf8d7ttvGO7DXwve699U31gvNYEL4h0h7FFkwnpB01GJEY9CJMHZQbtQ5FDCAJ2ANKAAn1EwC521rhDue15b7vg+aA7uL1tBUKFAYNovIG89j8pOx38lTucuTQ3q/cKuqz1gzTEOHv6WfaNNQs6LTvK/dFATgFWAMWDzMKEAGE+4IEXQfhCzoDpvi3BNHxtu5F1LDdK+tL7Ubu+eqP2kDaEujv9Bj1EAnjEj4XLgJ27bkEggS58033xfS+6ebu1Ojs7bnwx+Si5nDiI9VB3/jw4NVO3T7h6OZ07wjoIesAAEz3TfQE9NX60giSE/QFIA3UAvEAxAXA/J8EBPsD4cfZt+Ts2s7bGuCH+FkDUfCC5qP5DwMlB9j9d/m49G7wlNRk0Cfjf94m62rvb+lh8S3/l+ad4c7uXdop1jPKfsXQ0hbWENp14Anx6O732A3aK/Zd9o/o9v7n8XPk/u+d5gjr/+5o9cr4P/p78vDvy/6UFGUhJhyPII8XuAtGJjkjzQ8WDlEQRRWT7S3vbeOK8o/3EvJd713qjOoF5pn99/pT9qX7DfBq9wYAZgspCZoRJAy2J6UhVhzmHnQVkibEFMYG0PxjClUDLulc7Qrq0f6YAycKSRgqFmgaTRtgG4YSLSFwIwkrdCuEM9QvfxVbE+MU4AngAJ/1ZfTd9xP0eP+L96vsd+PxAN0E3f6wAzwE4BF5Ipso1ROYHiIRNxEfCSrp7+FY6+7vzero7aD9DPxU8hwGgxTCGAsb4AGdBEEM1gP++2T9dvEl5vDZdecc2qnoG/x769HqcOQJ6yznY/0n8cjdCeGp/gvmyOgJ7QfyKfRnAUf0Mv54/U/zZw2QHr4lXCbzEssRnRHaBXcc5yNJIckRnwq5DPcEGg5EBkQAFw28FWQH6A0T/MXy+tj94K3ibOXb8Brfuu0tAOP4Tv8q+Mv2f/9lCLcKTw4nCqMf9BXDDcX+8+wPBakDgg5DCZMOvg/yFskeRi5BF+MIkA9dDZAJQQsBEU4FnQwD+jPqCuP08a/3NQGDD/ISVQ2jFn4OGw+DGjkUQx7uIXYLaf2N+AEHngRm8kH/PREj9jn5tfIV9ogBq/lN7br1aO+r8ULyDxGYGHYPkAGjCIMVTxf7EHEKjgpnDskXrg0K/80WqBkyAF0QxxhAGp8DMepc5M7X/tpN6qvzE/TY6HIFbQc/CQsHwfC/DBkgWxtuCucMzBRKDpUWTwJTBBsEgPp5+6TzffQv+Pv15PpBClYP0xBBEa4ZFxwgEH4PaxCgFHfwbew79oLvoAIt+f0FhQYiCycG1f9E9L4AmwX7CfwTfh+4FDQV5QvpHNAfUCG2KU0l7xh1FcYExAGQC9EP6gc0EUIKbhXkIqkv/xMSCwwSZgwLESkDQQGF+PP7jAnF9IECcv/zA5gh0xkqEKAcZwN3EG4M9CJ5IKUXrgvnA74F/+8g7lHsUPIl9voKFw8iEjcFMQK3E5gMhREa+FwMefGT8t8J6f9uCScc9AuyBjz7ZAV4DW0V7BiV9lb4lvk/Bv8Rkw3P/P/wQPq4AZ8GQw5UEYMVhB1eAyH8HwfM+Fj68RDPAOQRBw1hBmoTIP6z9Rj6nANd/jX43viB8ikIHwQ5ANX3yfODBBUMXQWwAT/0QvMf9Hr0w+ou6e/v4Ork6mX4Bu4S5VL/u/hH9Zb7B/p0AboAkfwo9qH9hAjd/Dn6Cvye+v/hQeYT45voKdj73gnk/uFZ5IPkeemj7uH+Ofqb9LQBU/uM9+Tw0gJQEoUJMQA9BYMHcQLU+vz8pAkHBt4AdAZNEUX/aev17HgAfefW8N70jPr1+JYHOwKcC0v4/xCDE5gMWgS59if6OwjdCF0A6ASgBigCWArz/loGDghF+pv2x/Do5TbzY+1B4KPgMecd7IkD9ux4DFb8bf989/wAJQyJBDT9XO8a83XswO/e5SvpW94c5M/eU+xm9QDtFeng7gDh8Nh32r/bMeni39foVeJ82Rjoc+jh2oLrgen190fxOt5l9ML1D+kl7Ib7CwNdBVAHuPGfDQH3M+z66Jr0DvuT8bf9P/YN9434SfML4G/fWuIk6bDu//4o+lQF2vzyBtsGIwReDtX/jAtnDmYVrBB0GRAG8g2UCG38BfJ+6bjsBOTg9ubuVQ+UFrkTNQ8ZCPoQhQHD+rnpX9mr6yvqHfQr/I8C6gzdB6cMHAVj/In7NPtS4nT4mvM78xn2le616RL05gfGC6MI9gmCD6QCnhpRCdYEZAIV+AL3Z/0M/Zz8EQDs8yHq0ecI59Hq5Opb5h7y3u9k8jb+9vM8/JgBMPB427XqhvIg854EmQNxAssSQvvF7wr3fP6fCbYP1iDuEFAb6v19/jj9BeyK7a3jZ+AF8lfyYPBT8ij1X/PZ4eXhw+TD5Rnxpd/95P7eEuqm7PncSN+T8TT1kQJx9Xz3yO6152PwavQgISMYoR1UG6QLOgcwB0/+ivHtBfIFzOfY3affFeZV8pDzAfgr9RH3k/bI77X9c+6L7BL2GPvG+I78bwK2+6DpHeG+2XbmF+046xPfR+c55t7hB+ju5Q/l3vitAIzz7uu/9y79HwumAesATPof7E3wleAo6OjmKuOW3R/yFekz2frkguDF4gjYv9zt0SrYR9i44Ojum/zUA6gD4f3y+y/+9v959GnoPPLZ6c3eWNtW1THgHv0F+rf1OP6MCQQRnAFzApwIAAB8B+D6rvd494zrVOKJzwPg4NU60ErjEttp4OHyewP4ADr24OU57tcJUAOv9OcHQhLHBYwEXfgX/u4JWAVSAFcBSQVn/1DqyddH2YHDWMaYz8vGtc0/1tvWb8ig1QLGy7tayKjCXcaFybvIYdLTxoDRM8xL2OTDFcanx/LjG+lj4srf1diH3XvpZd742b/KMdj03c/kHPYb6C3iCu1g7mThrOMA6Rro3uTNyZPBKrMruVzDgLxYv2C9kLlZxqq91L/ZwQvK9tf66H/uWe5P6i3xE/j88szy7/rA9icUGgmJ/xb6Fe6H28nheNp+1pnJn9Pt08fWD8cBzNfFgNAbz7ziyuIF8MjkeuVI57zh5uQH1BfX0dzk0NPXzOsX9PPv9eDd5ovkxvzA75r3Afwi9oTb4OAw40Xhk9k81FjaCdoU1SDaItlfzITSx8Uy2r7f1eZb8PjrR/Lj94AEKvaf5JXmf+PX7Y75ZfY4/Mf1DfSE7PL6DwMp8c3/N/JYxZ/AMdMI2JbkCNbQ3kTb3+jc1Qnofuld7J7fUfQ/2yPiSul04kzZmNqN3yrzRusN47jnZul46mDoRtYA1GPdutNl4Bfbntl/5ALqcvH8D7YIHf8WC4kEffs16/vyOOwz5D3cWOwa6eTka/Ze8onvxfQv+Cb6b/+a/4MR4QY7BnoDrPs1/2H48PjzChcJ1QZ4BHT9zPLQ+WjvwPig9iICkvzvA0wN8AVs/zj0ue07+evxG+7d+eX33Pen/AXtluek8JIBNOix+hkKlwrKFFcNZPzZAx8VVBJ7CMkXiws5FSsSqAa9CoQLF/MU/H4HkAsvCHgFdw5FBSoPBBCoJjEmFTZqOQsvnjGnIMgp+BzVEzYAZgSpDO0CwAWfBmL0PhAbCaIIAAjp/iz6yATTFGwViwgbC/cNChaABFgQHhfKCa374vcy+XP4DAE9/pT/LQZf+573Xu5a8c35LRwlIHAidhofHDYndx2oIWUy2Sj/LrEvqRfzAwkDKP0D9C0FmP5s5BPHG8tD1vvVpdcY9urkuO1u6Fzt3e4jAnLvvQAH8G7wW/sIBlb0ZQC+94nnyO1v+Ljzq+8MAQP8wwrGBYwFcwAm9/ntbuIa6zrvzPzU3w/VUNiw2WrhVeLNxn3I+7/dvIm+QMz21eLWoeB56V/oww1LD0YHuAUW+3vpWehv6YPwWupd5xvjVtXz0xTPw9vI00fJCemS1Arf58nkzl/VbtFrzzDGqMLTvqXAab7V0/XVDd4hz8zX2OCW143WF9kZztXO4dvX3FXIU8x312zY9cbKyo/izO/540jzTelW/Gv0Pv7//UrxOPuA7t/uEewr5rDunPKn6GHwJest5jrurgG5B0n2cu2o7N7rLdQU8E/mkN3r41Ddlu+a5jTZre3M52HxuwCDBXIOPReuG8EZbB6SLr4g2RgHJEIbKw1SCnQBaPa1+ysOCRbDEgAQ2wd1CH4WDgAuGK4XsQlS/rwHkPxy9lYYLRKmFRomuBYuFTcjlSe+HfMg8Q28DVsJnQVkCsP8NBa454/6yAbmGLYRTQttH0kNLQoeENsWaBN3JqYO8gctD6UCUPIf7G7mAfPC7Ujwzus79134pvd29EDwNvLE7x/2puxb6dX0PPXo6WfnouGV14bsOO244ivkS+iu57LuS/Q9/bEC2/7o/7kLiA5CEaEReCDHEVgKTwFB+HEDrf0oDyoGVAcYC1QAo/Sg8X3s2usl1hDnvdGX6DoERA4eEDcJWAHt9wX3B/Mp/UUQcQI/AYv3/fXqCKDxOOsq3trce9dn1K3w8uZv7EnqGATKCrIaXRjyESkAffag8w/22/NJ7zzsXvoYAKYII/Ie53nd99r14wndgOKezHDYhezb3mPrvOye5xP5TQSrBOEAPQHg9JL7M+nO4z7s/+eH3anU58xAz6rDTrhquc67dcYuyBfgtu4a6HLmSvHt8Uf/mBy+HXAbpwwWAGf90e396/DpcdZ92SfVLcc7x07C973hyOjbBvVv+Er+SAXj8/74IfcM97flhuLu6b3kd9V04r7NAN/Z0TzIz8F02cLHRsDc2TzS7dCq4dDqWuC86lv4ff4F6gHtiPH48cXubfKQBYj+ff/r8enr0OMR55n0Z+LK6gzXR9KX37zp3/7wApgH+Pid/AIFpPlL50r+m/eqBSAB1PAF72HhDuzE6t/keepq8y7+9ATn92L2RfyUEHgRYx1HFGgGJRGaIMEXcQ5NDF8JUvk1+mD19+3Z85/4xuuj6e/vveiv4IzuoOahBmkULxH8GNYX9x/LI6Mf0h3JEpwQ8RmWCwD+f/wwBHcDjwei+y7zCPHo6KbqFey1+BT+pv7EA6z2UOhk9bj6YwrzEY8b/Bj4KeQmSRrzFQQSwQ6uC9oItwUTAvn5V/ToC64LBBTQDUERBAdPB/cNkgP0AtcINPSK+jfvFvjQBDgUPxRaKLYiWRDmE1UB6Ps8+EYA+P9s+InszuU112rQ9Nbb7ojivOr55SX5LhSCBBoAc/3I/OYTFho3EAgfrxToHmwP3gDe6H7qXeQV2w/qN+dZ2wnfgerk4rHxB+vd8tbkAvMc2s3eE94v3SneVt3b2rnSlNup4HHv4vaK8z/x3+FK9FP30vxsCGQIigEq9pD47Oy07Fr1i+wr89fpsubx8ZXlkuhv6ULg6t8Q1PTH28K1x1LGHMEd4/rjEdv559b3jwTXDucBp/xW/pIQKwjs+VL5Z/Hi8mvry+dX9db8bPar7FPrjun351j1MvhmAkAAcgeuA+D4YALTCswDUQAJBBUR2Ay3BVIG5BDfCPMAQvnX7oXuFveO/HD09PVz7IbcOwBm/rwJ7RNaFO8T4hYCFYAj1CB/F/EbBhgCGfERNhP/BpwHuvsWBrMCNANoA5v0hvSQ/ZP5Q+p1BG8FhAKtB8oUJBhbJ70I8fkRBeb5ewZy+6z+GgNxBmQGcQYE/mwIAgy1CZX+sQZ+E94QHRRgGuAZgRViFskWIxZy/M/3GvWJAEUC4QVA9z38yQMxAE4PtBGaDfUVvhr/FxogJh7mHBAp0CLHGzERexN0AWMF3u9d67DkCMgvymG1jq9yt3jFm8zq1Q7gg+o4+fj7ggOJ/pf+d+rHAD8IIOk3/5ruMuV77GbyNN6348bb1s6k9ED1Jex19eDoH+EF70P3DePZ758AEegU6TLp7u7d5v/fLNmu5cPyGemi9ZjtKfgx9Cr1CPv0+PEJ8P7z/3P8pAKO/6r22e251PHJLNbMyXHhTu81+7Hzdey47F3i7vVM88b5bvWE8rwCcAGQAbANSPcP6cH6Ye39+VEOig5WEfX8wgo0EsAVnQhiET0E9vNG/cL3lvKK5+0E+ga9AcMEHAKV+WT8ogCOFFACbgVpAwINZAOJAoEGEgPI9dcAJwrMBQnnU+797t73SPFK/P8E5fdR8fzquu0y3z3jm92h3lPiEOpg7kLscPB0CnsKjwpfEvsPkx8TBzMG3gSvBpr9LQGzBJv/c+xr5oz14g8Q71rzfdjk41vg5Ot05DzocPSf6NTqIuDT5xf65/sw+g0CrvIz+kH8POeq8NP7Oeba4xDnwOZH4mTsGPY69LMEvvtHECsYWgpi87AABwJv8vP23fnA4Rf9VwOT9TDzxfpFCpQLswuB7V/4aAMS9Af5XQOlAQH8U/e+BEEXIQpl9czy4fNB/Pf00vmZ9m4C/gQYD5kR5h1cEl0TFRLDGOoWShi3FrUNzP7e9o77JPAV+dQIc/5+B5UFQPaG7H7mZe5i+DYBHwOo9P34B+SW6RXzAP0z81Dpku/a6/zlfOU82K3jJ9dm2EDk8uMP8RTsZ/Ip/szwbO375QHrJfV58Pr3UPcC9YzrQdTP9lX+vfd+/HkA+QKX/xURJB8aEer+GvRa8nPhieOo153eE+xx8bX5aPj67v7fRu8t4N7dk+cX70/8zQba/gf31f1d6WP5DP7o/zv8xOkv4PXkaNwS2APkHeqM7z71Hu688SEIQBgKBvQVbw+eAm4SJBPBEQAUoAbUEugOB/bs/rcEcvYU8IDlCeZ12U3ecfEe/Vj91AIgDfoobRwJHfMdkBw0KOMpSSnSIsMa0QrRAxECC/un8oDsZer78rgGOAo3CVMLJADyEpIH/v+H/wENlQdPBUAAwvKAB+wGFACoCW0CcwTGEPUMEQ2FD2wJLQh2Jc4fkSnHNHY9bD3xH8syqiKaJ+EfSRStFv4dviSEGZsSZiqbHwERQRBdDkEX0xM/CtoVoRXBIO4uCyp6M3EycSmhKogfdBPXIcgcxh3IHlEXABgFExwYOgDHFZgVX/4N+ggN8gdjBoL5hgHGCSgFwvpM8ETxtetG7QT0Df2nAvsIGA63FvkKDhEhFEwUVgac9w72htbE3drI6r/+zlbLBtMO0y3LG8ux0l/WytgS6CTppNuHyZ3iBejc9wkQiQlN+gj1gfZ19x/q8PS16t7uAOsv4Dfs5ulP7xz0ne5F6tDtJfrk92Xyt+9U97EBZiK8HwYRKR5YC+YGVvTuACjww/GK8nPu7/WnDI0EhgiNCcQDwwEjA0UZaB7dEJ0FmQqB/WMBugE8+FoPCQSfDeT8WPWlCXgZNAOuCn8dBAoHKVkpjSiHNMYcOyjgLeos9CIhEJX/ghHWDHL9w++k9UXuF+3P+u7f/P4u9ecUwhsDMaQe4B85GjwSyhSDIQYy/iyFNgIZDRyNI98mohJJ9sXzpQF3/7QC/QPCEekVKiIuJzgUmQ5wCmAB4xHcFw0cQxgQIUMfDh0IEkYTlwG3C6oNTg8Y/Uf1quWZ5jTcc+RK4Tr2zfrt+eb6ngD9B38MBwk2EfMVBg4LD2MS7RWyE6/7rAab8n7/EwszACz4uPS1/qL91P//8XcAdPff8TzupuyQ+Gb+zwz+Efn+Qvvm9hoI+/ju+BHmxePQ8HLtw9g05NDptvGT70/t3+gBAHbyquci8aT0ZfDu41XsGvdw7+frsdjt2NXXGs0Q0ojY7+Oz0wzSmeXQ4tXodO7X6N3tUO2I7fv4vvVq9KjmFeeM8jjty9dV2XLSf8ig9YjvSOEL6SrZU+Iy9V3wpPEA8/37vQK+9P7ylOPj0X/fvNM210jqxNfH4W3gEuzW3t/bPt1S6Rfs2utz8Hfvluxk5OTsof8LEEICBPO97QbqR97N53Tuu+sS/OIA6uoj7P37Rv7t9nznFeva/Nj51/88/A8AQQBo/qT+nP9A/lQIGhSkFCIlWR80NGAfDCf6MiwcKRSBFAsRhRbvB3ECr/Nj8G75J/uHA0gAaB1oFZwNsgssHdojdBck/xz8LgD3DawDOwrHGb4aghJDHZIdoyLjIZgpwRjUEpEbuwkLCWAJCgrRDhoLlxQwAwb/Evoq/LwChglU/nEFZP5DAPHvKPBS8wPf3drp3vbjIe0F4P3nV/8k7rz1sgGCA1EUfwntB30LKRktDg0arQS/BrwDQgYBA9b/ZfkzAiYGLQ33Cv0Em//zA/4JvQjMBJoI0QROCfQWrQzyHA4F7QVcDuILOhLGBR/9y/2H/x0CVP2DDAT1hvLf5wbf/OTX91v+x+vL7DvtGOig/Tr6HgHlDD8N1w9uExoHrhwtHU4VoQZ7D5AMcvIl70PmHvIS8K7vVvc/93bzHPZV8Cv8evLVABULnPYY+VX8JA1UDDIRUf/F99jzgP59DQv5pPef9RnmreGA4Z7X2txj65HxCfhCE8IOIRRuFasNxBGRCYgKcAW3A6cC2u2l1Bfl5OV86IH0IfwR92D9ShGjGfkZNhiiGQoblB1cHM0fbh4/GLUM8wzLAiwRrAilCOUEH+zM/awPWw6OEFcRVfvlC+sXwgohGU0YuRnuGcMGRBWkCKYd6gxLCuEVfwalCqsh7xd/DD8gmwsxB68GMxEXFm8WyxVKDcAelyNtIa8d4RCzCSsd0RJBF44TqhaV/zkE+QWXAqECGvNs/n0BGwGl9U/rBOqU20voRORZ3F3k//J6BNEI0AouBoEWiROmFHcJdARI9FLuEeLt3znUU8zSzHbWHdWf3oLl9uxj5mjv7gBBEXcJMQLd9M/ySvwCAbbrHfYW8gr4cgLxCREGeg2sG8oiZRssEbsjzC+qMVkryCH+HlIf7hmCM00btQ0cA1D0lPNB9I/tYfR+4tfuRvcm/a7pqOds67EEFfQR/jMEnxIvEuwGkRBuIbwX/h0cGpcXTQzyCj0B7f9bAPD3b+2z2Jvb+OIh0ljImsvf5f/xiOeG9+T/iv/IEasnuhe3CXIQrw26Cdj8+v/y+tn4zfAB0KLX5Nxm1WHs1+Rq7ZL5Mvew6mT4lAWWBcEOmgx+C6sA6BIsDXYEJgk8/4bsLOd04wLoJdUg017Nu8zpwy3C68byzqjZIdyK46fqaets/T76/fc1+Fb/mO959Tn5Ve3y8Vf3WfaB6XDezN0h1gjr+gTr9tnz/Pm2/VH3KgKqCZH2MfZY7wzwBu+r6f/mP93V5I3d2vAb9SzzN+d4BWEL9f/m/JT5JQqJ76Xswvpl8YXvMeCr4EPPM9jF6FbjyNxl1sbhx+Fe7sf6ce+p9uQAKgQiECkaPy2+G9Ud2yXPEQQIw/5F8Q4DXPwsAZ4DEw51/OD4aAHq/FEOnAekDbwMFf9j/bIDIBPmFOARdgsVCG0APwIi8QP3iemm4wTcQt5C1BvS6tYi5m72OeQb8UYBBgCTFhggZh1MGM0hqySpIIYUjiDTGHQLUR2VI7cM1hayEpP1Xd6e6yX4YPXY79r70O/YDNkIJRPdDygPQSAsJEwsHzbQKw0fgSNwLogobSk8D08WBx7cFqscfP3SBoX9aAd77UfvoPM/7e70OQL3/vj76QCT96j92/oKB/oEjAyIBgsADQXf6t714xBk/Lb9cP9nDdUBlQDXAVoLBBHsFewUtQYM/R8AdP7zCqgM8CDwH4kYJSBxE3gP2hWyBjD/BP4tBlEN1AItBFDzyumo8fL7yPKM+kro5uIg4yjVANaJ1FTfG9hf4UrqB+oZ70v2/fIK+qn4PwUl+ab+0/U18U364QUI90j1QPKqCfL4APuB9Kn5AQI8/tD6Zv0l71ruswMX+5L72/Ht+eH/TPt3A3MOHBAzCcX/4fZQ/5T05vNH83MH6wGyA1QH0f9BAvH8Tf5d/sL6QgOfD7MMdvpE/KkBePgWCAoEFA1+F/oBRRZZFbsVIhigJuYQRga4/3v2d+yS77Pr2em/9n3v6uzD6P71s+We8k7vueie9jX1CfdkAv8AVRFj/7jzVPgY4zPZB9N7zI7bM80+09DNysd6xMK2Ktps3tbWmel4Ac8CmgqtD/YcrxbZJWIVkQAxAGoEdPEt8sj4DP5F98r6rP7D9zDuXvDk5jLt2/E2BmoCnPw4DCUMPQasALUDPQLe+Ojy5fa/627mx+nu5lDx3vsf/TrvEvtS+h/pYPXV94/7XPAM+RX+XP/l8yn3Vvfg/QHxvunU2BjkhuZW6v76qOo1/hz0hOq+8Wf0efss9uL4MPUl+RL4R/iN6/btcfiE/Lz9e/tr+xkM4v6o5Hnnq+ZQ1APYXNhP0KLNYr+QvGa7pK3vs0rBBtxp6gjn2+ZB8F/wQfCrBTUOrgj7+dz/2AFw/vkACfc88gPwS+7H7QX0JvPZ9+ryy/RO7kLZ6di0583tWfao+ij+VOfF7NLffOKR8yz3Wenm9L/9CPoU9/cETPqW6l0AwQW17kr3n+7x/vL9bvlA8qfjVe1C4wXqVO/S88Lqy+Zf9YMBOfAR5zr7Mfq2+E/0lu6BC+kblCeVJIgXjBOaEhQbtRH9Dh8NvA+GH1MCffn6/yQGEwCPBfAiHx/zGFErkistLbsnbiYSNf0jORUwCcsTQRKFA24KHgfCBMoYtRdJImMn0S5YNoQpLyWiMeo+IjpuN7oh/ieJGEwRGA6XGHkDCwfJDnwEivqS/5USkAkMF4Qe3BSfGekozjDfLpAqcR4MF1gPFhhVDZH2tgUSEHAOeAR6CjAGH/vyDbMZdQwCE9oXrw+mDHYTiwZkBQABug12ExUKLRK4BVsEIPxp/zQQzf98/0gE4QnC+ZUAHyDYHgANkgwpGl78W/NH/Tjq5t+B7Ljt1OvU+47xdOwE8PbnyN0y5nLsY9zG0bnrW/wy4y/iN//T/RoTGBn5GYQPaQGk92nt1eiN8ST1w/yH+ucGHvkL6v/xCNqIzdfNituF3hjlrOtF6qbuhu1G7Cn7PvWA81ryOOmO7pzvRvB82w/Y1OO11Ajkg+Hp6ybeY9zv2wTMlOl51Pjl2upJ/v0DUPevAA8DBveK8tX1Vv/LBdYTSRKOCS0FMhHI+nr4TACG5gHoSudI3TDnK+L361rt8Pw5/5/4SAiPDb/4AQaT/DUJbBAZEDYJNwQD+JX+OxNyBDD3UPpIBqjsNOxf69f8dfH/9bnure8Q+v0CfwuqAzQhah5FKOUhUSilGvYNbxXfFYML9ARXECkWVxv9Fnz/W/hD+Mb8PfzQAgn6t/gWAE4Gmwt+DTQguDmKI58gVxBxEvYkXBnDFpkQ+PnU8ljoj/Mf+/vtxQSaBhP9mAnRCTkNthDDBlcXoBRBDaEFywI/9QLm/ecH7obwePGW8KH/9g9pD4setyIzIBsZBilVMVQxmBX7F5YdGQ+p/RTsn/w04kneq/Fj7YntMff0/vMKSg1jFtQlXirpJPUvgRETDjkZ5//1/LgAM/5hDjYHogEyFWQCSfyeBJcAAQQZBS8I2wAoDUYCMAvnBAoINQyQD7YPIBH2Cazlp9yV44fjo+V0/UL/KAJ/DOMF0grN8Abp3fjI+wTm0+Q887To3NnK76j2MeT/4dLrivwB+ZntRu365WvZuuVi5xbkL/hH5X7qN/HP5HzWedsI2GTPLehx5FLs8/4o/2v7L/iqC2QOzfkeDwgcFRq7Fkgdqgh/8Tn6aOha6FjoWvft5gTOuddSzrLSntnWxXLTmOhK4a/amOhQ8Z/ll+MR2ynH5sOjz1vQ29uKz0HLd9oR0iXImLqFwqC94qKht3K7SMJt0oTf9+eG5RrXhOP85Efa4tJX473YQOLB6Ujr3PF82FjTVuFI3mPlVecu5wTvStKizPjVnslX0WbXHsoO3SLWIM1S01PRGc6I4aPU69tl0nbNYdnG3tbJhc2M2sjc7Ney0yHQLtxw2J3bs9am1zHeNcSSybLCj8wm37jaheM/ADEC9P4O/ZwMU/ccCmbuauG95+Tze+Rc3mHiGdvMzJPdHuQG1ajeo9YH5JnN7t6w0E70j+1a94Px4PYRDsUUBRJ/AR8GtR4BIpoX+wTQ/ZEEZAFlA+D6/vPbAIwE0gmBBzX/iQDa99z4fvkaCmkAQhFaDkYIJQx1BscahBibIXYhryIAJzIkHCjwExEFAQp7CMgFpvyy9iLxDfCB/0oGKwfuC08cEhevHOERzhfiFS0Gcwu0AwkEHxGsDG8JYvvR70bzoOsP9zLpYdxO6jXhNvVV6OPsFvhW8BLgwe0N8enzUuy55Hznjf7A/Ir/1wOLEhIkMinkI9MZqxamAf0VAAaX+CfhQeZt4yviI+Hi6xrskeAx5HDvTfal7pT0IAAF9ln6EPz1/cL0FPU09E3tD+hQ5NnlUth21MjPP+O+8ZHr8++k+xj0CAvSINcSWR9cKBsJGgmm6EkAMROdGC77bviw77Dztd2i6cLvw/Y55Yvd+uLj30vZjd2K2LziGwmk/oH8AQ/v++z19fvjCp0i2BjBElMPVQjEAwMGpQgH/yT4zfmb/qD8CPPIAp7vCvvf9Jf1IP+tD3P23Q3U/bz2UPTy80D2m/vZ8NvjWeVK7pL1N/j9AugGHALGBQABixTzEJgPoxLCEQoKgQyHHXQlThgZFIUG/RESCXQaWf2o+QrtBwFh90DzPwOH/8cFfQwqEdoFKQC5CAf49v2lBYgJB/X6+UX7qOuG9LP1ifVg9V3yNAlCAdr+vgN3DwUKbQH8AiEObQzXDGMFQ/mS9sb4RfAG8pPXyduKx3zThdD8wNXXKN8C5GfuPvwN+hb+ifTY91j3vfpRCEEHMe618nb3yusk/BLwS+j35y/bx9o532Pi1dE/2zbdq93K5bfeNeh247vs7PSb8G3hAfIt59nPLuaj4lvdkdTe2cPfftUS28zZUOST1x7hGeOq43H5GwY3AAP2N/vJCyMR9wtzEBsnpyVIH4UVkQ3j/sfyUelX3yvpVujT6c7bANtI7abx8t3p4j/pn+ep1ALQDd+g2avncNk/2M7Wu+Nx+JjmV/NW/hH9QATwCAcPfRbzEZgd+RFxDbEDOhDwBYfvM/FJ5HTehOhg5gPm9t445bz2aeDa9EYCdA1ZIGogRBUtJfoVBB7fGcAh7RqCFcIa4g4RGNIVJR5aGrUiZSPgKXEhty/SMdguFC12HQMZngxM8Tn2BPc78A/qq9I/zwjWWeGo7HjyU+vC/qH1M/cF/JYArPRP+MHzX+z36VvdFdmp53zTTdiE0p3ZjOoe9E72xd3q6gP7VPcZ+JL28uy77BLkIOhm5bTnLvED5DHfo+GH2jPUWa+fvWrEq7k1x3LPGNTpzPHC79IQzsPWhdyn4STfU9Q10GLWENi6zEbJlc+T18vdBNiF3srUVtJN2q3aeOKe2r7oOPdl6876g/iVAT7kf+Pr77Xqxed933fzXOkj5Q7ZEMx2y7HTMugY4ETOA+Ht3wjnkPMx6sHzDvZiACsBJvll7mz08fIi+yH/N/Pd9Ljr+v3OBDL2U/MxBYD0t+/u/e793/oZ9A0H9wPg9ub4lf8jArn3Due9++X38/sJ/cL4G/s7AYL3cu288HLzJerN9MXoWe3a46PsI+j07tn9HfZL9MgAzAej+xH+5fPb8cP4KvSo8oTjOOAN4pPaCfMC7IH8CQqeEtkUsx1IIwsYnSUuFScSXAtpEhoRKBWXFdcYwQxIBLsB3AmyC3cJyw8sBdIHIBnHDhj8kO3g6t/3a+8iBLP/kutE9Tv6EwOF/GMOq/2MCiMBYAEW+vXxpOiZ9I/nHfvp8Kj0LOh+6NjeVuSD8Yzxt+YZ9CD6a/wI+Hf9EAH2CS0KhwzNF+YFGvNA/ST5DffE8VL/9wZ+Cc32MxGDAqcG+wC8/nH8fg3PA/QKpBEEG20gQBNFHi8pnA3QASADJfzy9rDvm+Z98sn5R/te7wT0iPn8++ULovUKD5IL5AzADdD3gegK3S7attDozxPRut4w0XfVKt0u8N/oUQDeAur/OQA0Asf/vPwg8U/2xuybB6IA6v6uADj4HA539j308Pmh5efwMwmaCl8SayGsFwQffB2gF4wqZRn1JxkevyKUDuEJWgMuBSgNAQUjAqAOGwPSBxYOLBxdEowRBQ+REIsW0RKWBNbz4epX+Aj0Mv3C7sXkctGS1AXdjNcr3yTsU+dO4fngVuVq+T/16AFj6Mj4iQLo+oDxeeqH7yfh5O2cA2X3u/IS5+TqTefM5R3tmBGjCGgIuwFeBPz8OwY2+S3/7PxvCmP7mPsEBRMGaA09El34dfn+/Dj6lAC6BykPZAAcBcwSI+4a7y3u7+dz4t3ab8oY1wrUQ9Atw/vJL9aWz2nhst+l49L3qQFUBmUAWA6WCa0NbAX9DZ8FlwnaHqwaFg+kDdXty/Ui++XzovAB9Rrs3e8491YCSv7u/vQOJBfyFiwWbBqYAjn7aPar8JH1VvYO+2T9OxL4AzUJJBErFnAnGzL8JFcYswEECrICVw43F1odmA6wEQcd+wysBB/5xPjS630FKeZq5PLlFd2H8LzvsuvG4LvsMdtf6Jrxk/+t/tgFJvoQ/Zn9xvWt+NPnQt0p58TdP+g38Jb5/fAD/+z5WPy68O3xT/Ew8HHmyOat4irjw9OK5dfgWu+u84r/kfRvDg0JDiDAExYGKgJ19JPhxOXN4nPNFMjNyN7adNtV1orF+MmWyR/CLMxQ0JHbu9du6MrniftVCHb+SAjrAvwIzffIAjz31Ow08gHsBd9y3hfej9v6xsrEANLozWPQDODg8875/PeoADwZ9Ari/u/1ru5A+nTzP+Hb4/HRe8lAzObWDcdFv+TMeNV83ArvafhRAxsRP/pJ6OvwqeW122PRrsLUz37PzdYy3DPiEumx6M7njtRn4MTvpv0p8pr2pPqR+1MFwQyUD24XXwb6+MT8J/d167nfINLcwDDK7cRTxrvZpNwb8Uf6aguXGmMawAjJ+5kGg/YB9mboC/b78VX3SfBC5b/e0uYb3n7okOGT2hffI+x87yzlefXlBzYAcANF/J396QIuAoUEgP6N9dj5zgVyAEHnMeq77rnoDuXu8iXx9OoP4sXwk+yy9K790gD3BBL7wghyAjIAgAoJCFv+5gEM/tr5bfOO9N/v8vBG7zzfFuqA5EjgxuqO483amuoK9Ebv0OSZ6ILwCvYX69cCGwxdBmAECf+C9hv3tvWTBtEFOAAkDCwWQRE29jjx1gCSCboHa/vY+pjtwOAe5LTp+vng9fHq/fEf+F//zQnpBiH4TATq9LXsf+C/5LXUJdFxxWXBssg22HvWpfGZ81v1J/jU/6QCIQsYBPj5bQAF9inwseuU51bU0vRR6irkW9d+49PpKvD18dLqx+DV4b3it/PA7FTtgfIlBN7/f/z+BZ/5NP2v/U7zT/QDAM7+uPkc/90HBhDiErIUEQZ3/eMEMAm8+l787vSR98Tw/wcbGOskoSKEFgQUah5GH2Ul2RjmD5oD3w2O/kfqLf2//03v+eI/8ePv5P68BfkIKwPZC5AM5wvNDC8ehSqxKK4iVSz1Lt883zgQMdokLiv4LCEj1hUeHVkXGx+sGZIhFyeyGvIoXiZXKoEznSgGL8o8Lyz1J50j2SDfJMMhvCZbKs4hxg68ID4mAyi7LSQzHSjMHPUkJi+rG+oyzi7DD78KUARc84L7IfYKATfuxOzV83Lz1e+N/JsESg3DA4wGEww/C+4DRwbnAiIXPfmM+DD+9fKC9NXfUfC4+a4B+O04/YfycPXp9uYI0hR0IeoTXxxoDj0DcQJBA/PvifWP9kbr5+1i8DDu5PJ48Z77gPVD/SP+HALQ58300fbd+Yz5X/iMA0P7uvyPCQ4AzP4v/SD5YfVz6oz+EBFKAdEN3QxBFiwC3BRcF8IFGA2JEvASviAhGS4okihnJLsH/hW+BiQSGQqMDKH95/yPAO0CRwv4BJEWeiIkGEUZeR6mDxcW5ijWAjcP4xl5F6IOCxOIEbcUxBBsBaIFeBM9IQUduBaRFDoK9xeVH54Jmwga+/f09ekn8LzwUfSSBNX/bP1O/zsVCAlLE44E9vc0BcMTbBP1JeQHx/+nBlT8zw6l9AsMUBjuBlkMLxAJDK4AigdQHooSvAy2HrkTeBZUFxEi+x4oJ4MdjQ1DDaQAP/4oAz/4uvCs61foz+u332Lgbunp/hD/Zfoz8Sn4Hvnp7QrvlfRr+EjwkBFrBhIQXAoXASkEC+0S7koCHwLS+Qn+YfH395r4fet36lADNQXY93juae3n7H7wJPb9+nEFSgEHDzwIxPc388/yufl+6jPzePmt7APyR/smCSEKkAOwAUMBOAFs/VoDtfwt9xrs2vmE+KP7Z/xR787oeejR7tzfXd2y9Nv78/Id/9YP2RgADK8E0/lGDD8JDAw1Bwz2cP0A8c/uR+ya5Kve38YH1eTbVc+R1iji+ent9bH7tfI7/3sbTw2TAkT5DQAUBJT5XQO2AqwSrx9NJmgRGQtJAyL6MOdX5IThA+3M4DHfbvt17yX7Tu5S7t/uJwKJ/+7vFv/N8vHxOfRo9kcFRw0xFO0S9yDzBhAJmh/ZGvUT2xLuDz8VjyBvF+gccxsmGkEKLgTzAQ8KqwTaFGr/fgYdEUX5bAj7A6z5Je4o9vX+mQBoDrUCiPw8BZsLagw1Fi0RthRsCqEPQQ+MHaoLUv7cCwYS8SvhJu0TpxBOGbMRxgD8BJABxgDS9X7yBQf/AHr8s/jv6r3sPvWK9kwITAvjEvoTwhF3FT8pSikJHpMF8/Ez3hraj8D7vkq768bQt2u6wL0ltQO6W8YU0G/Ghs+kzf/JVMuZzWjEY87e3JHcyt5p5MPe5+4T7d/fiehv7q7qg+xf7anq6+kFBp4Axges9anxS/N52w7uX+o66FHRucjRxxLLx+Sl3UToIOwU+GL/cwB0BXj6e/Oz7IfqpvHW+E/45OzB7unjaeWH5KDju+UN7Prmwu/L+R7qefeMBf4EaQFGDsQJ+xzwH6kgyRAqA4sKDA1Q/234eumm4xTfo9Om2ZbnC+h77OAJAhUSH8AVbxyiFlAJjBAwCckL+/hK3mDcEe6U76XnSvIb5PPpF+lG2crl0OUD5bfilezX6/zr5/hQCQcHqhCkIxUU+RpCADgA6P1j/JL8L/w8DMoHnvsK5y7nWdir6ujqQfHH8DTbTdin36PVP9eI5MDfo/CQB9kFJvx89ibu/O7MA2EFSgUMCTsCj/udAdwMbQtxDgMSKwSpBy8LqgcqG1AdaBKeKL8fWBdjC20IeAaN/fj6hvuE8xj0pfn666Txf/KX+CjxUuax7j7sRu1gCTXycfzX+mwDv/l373X8xfkI9iD0f+Z87rTug+AT62L3GfHQ7kzlZeiq6Hr4b/vBEl0CqPBl+M/xTfqI+5EB7PkY8LLnc93Z1cDfSNPg2FrkL/Vh6sjh3vlO8FL3Qedh7afxX+bq+tsKowC/ADsCNvq9+9cVmw7FAi4HwPMJ+yPyAfGM7GzhjtgTxwLG/dCmwUe5a8RKy4vYZ+XX6znuLv3G8tXpZtuG0srUFcZozojXCtaV2mjklOd83EjiPuoZ6CLaU+j3+zT6VOz39AX8m/9F88PgHOcu5/Dt5ttW7zH4qvNe+Wjzqu1q7ycFlQEa+aH6vu7GA/kHtBRtCefnsehi71/c1NNQ4jLigOvd7VXt5+EY3qbrCfOP9LLx7QQUBurz1fI8Cz8BdwpQ+fbnu/xL9m/xjfSe4mjoPOZa7ZXwp/7x9Uz7dfyTD4UTiQ2zDUkS1xddECwLWg5BCZ8NlwIaCv4OORwaCegLag3WGxAYKAHgChAURh0QA68ABAXkAT/1gOzD6nztcPMWBlMUIBowKVo0LB+4GWcTMA+vDVkKZQslELT89fPC+WD2bujm8E7sEvXz+5npguty9HT+3fHUBq4Oa/k55uLfC/BU5SvmVeCs6/HiUtFU4OvufOXx55fnP+KH8UTtcum79LnvvuR+6wDxfftE9Wb0G+xw2FTjn+fm3bPxTP6pDQoG3hDOCVP6fPhN413yavQt+rrv6d5w4FjetNzq2NLjNOJv6MDScNtG3qbb28ez84fSe95M54T6mhV2DpcYJxmNCFvx694v6vvmc+1z7RnpE+c579DrgupP8w7vU+/48h76nvVP8o7gjdk11aLqZ+oX8Br4YPUaBZ8SdxuyHtYRVBJNEq4LJvpk89Tv+uDu4rThz99X6T/m6uew357xGe0972r4kwVACsUEegujA/cMChH3DfgQIwXT8a3ssujt56rn9/Ul7RnrhfpA8pDnIeFJ6L7y3vyGBy8IpAtqAMLyaeT/3mHfmd5q4WXPjunF52rxLvJb/1/1f/az6QTcbudI3eDrt/J47bUD/PZbAPf+Ef+NCnHpnvoU+zoP8AyeBeLxAft/DLD1QPnX7XHsCOH/3iDzl++q5fzsCfyn+60GXfXeAG0KPwie++sSLxPkE3Yd9yFyG5sHeg7TBzcEoAwm83v/z/5e/4bwGer9/GMHn+6569X6w/WO/sYVxRHSDoAFNworBgT5I/f15WbxTPoE/XnzwOQ19of2gvtQ68j2wwIJAooV5AG1Csv5Hvog86/rVNvw51rnHd1N4Lver9+T6vbg/NxC8DDrK9zZ1VLhCtp71BXe+MYo2qvkOeg93jfn8+WQ7mPeoOM9+P3mD+BJ5U/n+NsU1DHYhuRK6uHwSOxK3UXRs+/J9iXi7NkC1zvRDcuXwVLEFcsJ3dDZqdxb5Zbp9ers8ZjsMup1/OEAMvY2+ST7yP1DBMH+gu5z6Qf5SPG19lHp+tQg2CLjzu8j7uHy7ukA0orZqurm2y/tc/iT99sB0fv89E/oFgAIAkYB3QY/CBkB8QqFASMDaOrX5tXq9OwW8cvu5Par/lf71/95DoEZlxl0GdgumyncNjc/qyGMLVQk2xFuFEUJpwVpBeTyEPyA9Njyl/maBT4ABRF5DxMePxrCC7QEKgnSA6kOd/w/9LgF0Qen9bvvzPyOCGoADAIyAJ7+GQaoBFQMRQvJF7wY1x1aK5IlDBc0HM0IZg80DaL6z/P25R3cK9Md2BHZjs981OPLANKg2VXlYNOd0OHZCdM4xoLJsMIbx5fSUsRxyAfA9tZV8c3nVQFj8/f6yNtZ5oHmtu/S5sTsSOox4u/fcebw8iDqfvJ26NH43ejU9Dvuk+zi4WTno+hU6fnuRe739cDmLfHZ2SnneeuZ99n7Wvi5+xv6vwO8A1D8iO4B92EBtu7U/ugIDBDKDzQdYy6WG3IisR8UIJAEvgcUAp4dEiOLHYkK7RpVGUv8APbfBhMHFRznAoL7WPp++EH/Xvg9Bi0FsAkrHj4WeByPKJEaLQ/XB54HB/dMAcb1PwOc/n4MxwUpArT5GAWgDnER0RD/DL0c6R6sHekk8iavEhMcshpNGZ4FuAPCC/MOigdxDCsAR/vzAVYBPgT9E0oSFRDxG6IeBRrREd4Xxgxl+Lnl1dt06L3j5OWV01LXj+OO35j0jOqL8BL8VgQJ+dYDKvM58P32c/Td69Lw2wo3B08XAgj0AAsXsQh/CVXsLOCnAl8Qpx4aFmATNBxaBcT+iwfyA3L4Gg1+9iP0W+CO4fDnpNbt22zl/97q28LmrOoc5RLpQ+r/5ED6qAYWC1cTw/v68TP3sOw26c7v+AXP+Bb++wrfBtr/of9B9DDsNfBY4yPZ39DSzKXNNOCx58Xn9ODy4lvuNfMy8Yr2pvP67TziW9643onR39mu3wnU9+PP4/zcB9Mt0dnBwb/hwfjK97oUqhSz9711ub3EJN472mDFndeR2EHkXtQv0mHNasSR0s7Zf9nI1D/VDMrn2krlkenQ9pT4aQEE7CD2P+xO7KfdNOMz4f7VFdWE06m+R8iT3fbOxdGhzb3jy90S71jqvOyL1wrnKOvK57jWzelv6WbhqM5a5NvdT98i5n/w5OW17bLiU+Vx5FbSZ9xJ773+0fvACGERHAlKCukMmhYoIUsm1CGNFMcJXQhYAmQH2gQIC48Q4wYPB9IE/P+Q7y7wXviC7aLyXegC8HnoR9rw7BX6Jfoq/DcEqxLmHDMFif4e/AD3SvUy3PTgzdY025vuM+9Y/mcTxRw5EGYbTRIvGd4LZQTCBqYOxAO9AeP50v+HAw0OOBTDH44oHCCoIIIgPxPpAk78nACC+ivwHwGi+Lz1PvXG3PfqcfQwBCMYGh9lFIEZDSGNHF0aYx+QFBMIHhVCCI0MZxy/AeEMHgJ175DfkfAt6Qbl3+6d3jfxs/9NBDzzs/OR9xYMqgXoCpUSgQ4SEYn8PvmsB0QTqRlsFCUMQA/7B6/8XQjbAo0CLvbR5zPrZ9pc1yrMWb3mw+HSd9y85wHlseo479vcoe4K72P4i/peBD3+Ye8bAon1PPsn5Kbcv9uczJDX2803zPTKwNSV4XPg8e0F5D3acuGk8Qnucesa9Zbxse5P93fh6uOR/KXuHfVx77j0kfZd8qfwK/UC4iXzn+vL5oLm9+y96ZXYFuFZ3n/bt9TDyQLJlcw3wUnRSeEM5Wzg7+vs9BD5Qe/UAUIF4POV9Yzuju/t7a3kNNy1zbnSwuLq33bhs/Bs8Xfu1+VL0znekttv2SHnQ/R47znkz/tu6/n6nvYk/VEEbADMF/IeBA/fCKoSNw6aEeAmdBMLB4jxOOvM8OPkBOVk3jnjS+WE12jicPFxA/8AoQAUDOwDIRClCE8PTQIb7rXprONk8ib5wPEK+iTxc+4a9Vf/l/fi9N775gC8An4PbP7MAPsCSgVgBlQFKfyD+/UAL/Zm+p75RQMCFkwJpv7w9LcIZPVG86PlM+uH5jfcuePl5TP14PZW693ykf7GCBgNOwa9BrMJKxV2E/YiwiTfKU8buBi5DywZbw3wBPn1VOtL8HH9NvTC90v65vnv99wFSgZ1BB4EWxEvAL4JdQaRB5gBYvmH+38K6QV6AvgNLhYyHAURQhQwCzAGcQqjDeL+wfjvAIH+0gad/s/8ePO7/IT/3vnf68MMsA3IDJAJHg9MJ9UgTiD7G7sVqhJJF2AUkA7gAvP0/+1w6SvwsPfx/RMB/fmm+1v3u/L8Bpj7YPWY6+TzE/zeA3sE/gCR/P3vpfz984D5twxxBh/6qfe4+Or9rPXU+L/2/fmx/bv8bfNdAA0FyBKJKVQmyyAjJwkgOicnH0AbdQ/vBZwLDQarEigSxw2cBlQV6Qzr+4IKUOzH6oLxbe/c7BLkhegW5oDu6PhD82kHFO7X6LvtUP7MA+obaBGYFRolxA3/BEn9aASo+QH8ZgVy8q77PP/Y/BgNCRznDhUMxPs2+GMB0PpE+lLr9el37QH55vixC4wD8gcD9Mj6lQDL+7T6/A1QGGEInxNbB0kAuvE2AqsDt/T66oHu6OdW8fPoQuIU6PYCwfu69fvybP6GBmoBxQwxB5sLvAHrCuALPQ2xA7sTDRllDooeExSwFY8Uwx1tJWoiexYEIkIUlgM8B+cHiPw2FP0QgBhjGaUZ4SNXD4khvx+VHaoTBP+0AggBz+4n8gLvSgejCEj1agSsC/EBcwEr7HsHmQeLCWz5HvlmAlX1SfTqB10AjgdaAuoD3wIwAw8IzhmsGxgPyhFqCWgSVwRRD4IevRbcBl8BE/sD/8L3luAi7Rb7R+Mm6kjh9O4L3d/vKN4V4pbbQNkI4z3xiPsU7sX4f/rB+XPzs/7d7k/7h/cM6oHnTuo649Tvn+i87Unl9/H8+z4B+Qex+Wz+kfvLAkAJpAeOEEUYcjKvEpUoDiMZHdocZRp+FrwPzQJf/YH7Tu7g5PH5iPYV8UD3ueeR7D/uM+RV+9cHOfdr85YBogCW/3r7Q/9ZBwYAvQSuB972yPgi8ejnEufk2ibZe+7V4VDjjPx6+6kF+fzE8eIBef2U72v2I/fl863nUuzp3ibEZdtn4RXZ3t7U4XHeI+Sq0rr2V/O88Y7rbvId/Ab1Lf3I9VnzadvP6JXlNOhs5gLlRObM9b721fdm+hoNQhL8Dy4CoPH+8HDl//AU9z/4mvfX8lL5FAO9ESUY+QHlD8UYYRtcFe4NUgiSAHj/l/z08bMDAe+t/HD/Aw8oCtYPqBVTFB0Mhw0rDqQUyAu7CMYKvw9zHT8rbSMAIIH90+MX8in6R/2DCh8EQP7hCNAGaR3+IG8pmCnhMKMx+zClIRwxeTD1JKomeh3JHXEjBg0FHTUArw4rEVP2kfeR/3MITgSHE/QVCQt5GJwY0x19JbcYliR2FeEdgDbDMagUTA9wCYoK1hJMHqsbEBYqFIUd/xKGMLcqGCasI+EjIigXIowQhxGLGfYiehEhF68q5yUMJxAfYRMVH28ohi+kIO0IvgSt+u72pwVb+an/8f1yCzMOUhi9HBYghCj5GawE/xCmFkEWmh+XDHMFAQAm/2/5UvOa75j0efaD7/PnxQDY+N3tau3t/N37oe/7BXPylPfe7zsCnf1r/ocClgL8/u/tAvTD6pfhR+AQ4GjNjsLX6SL/cAXwAy31kPfODTv8Lf8w/tb/g/Xu8bnx/efN7BT3HvVH86f2XQce8yL3w/fz+TAHjvJS8or/TP/C/Uz+4PVf5SDy2fy59rnz5eS970rdd+sm77PhrvHE6zMC8AtpFScSjAzsDdEKLgnB9z4A0/JK6xzlTPX4+Gn8vQA97GnrOthu68btz+de9EcEW/8QAwwERg28CfX+V/cH9dXy4f1n+fAMDRXuEMQSjQeeEPog/CvhJHQdvBKaF/ATOv618i791AMZ9bf+CvdY8tvjG/T27MYAvhO3GTAL7xohJ40lAhwMHeYrlyWsJp4WYRfSByMGXAmvFFgZyw4QF3wQUxB4CYwaDiQFIM0stBoLIOcPhyGBG6IT6iz8J8ApWj2ZSjBEy1LTShJDzSpGLFoqaCSnG28PEROlHagbZg47CfgHDBCPFAwPTQOf9U3+Nv6WFXMsYijKLtEdox76EmsZuw6+DAn0A/ku96b4+Pef8J7aROTF5KjvbfbP7x7wrwG3Gq8tcTXtMuQ2ShwAEzUDxv7L/O0NRAU/8q4LQBE8IKwTbxHiFv8qSjoBMGEq3B7SI4csRC4oI1ojYShGIxgWTAJmFfEGT/mCCjjsIOMJ4XPVc+hX0irqY/aiBo0DYBPZEzklXj+IMK4wdh5FHociiSPXLa0S9AvzBa3x+PiL4t7tvehS8uLxh/Ev87PnneWy5LzlJ/wv+tgCiA5/FUsTkQvu70/zGfzf9t7zDOSe62/jttSt5/7lQtsr6I7+Iu126cDvbfEQ+kcH2QCxDF/9DwFj+3bovOGV5JnkAtxH2ensPuYd3IDuEPM5+8j60Pfw30HZo+CE6Q3p/eED5Ajh6NeW3bzRvd578Lb3Pvjk+E4KeQBoAskSFQZj+i39Y+T55iXzhvGH7lQCy/Mk/W73TgTA+VX2Y+hI5O/sTfez5JD/IQ9vFgIQkQT29m3pAOTB76Ds8+sn4ADgxdlX42PpBN6R2VrSd9cRzEPXm8wIznraz9qM5IXyH+/O9/zild1Z3evZwthR2I/gYu/j7DHkgO4z8uH8teNd5xPXKNqe5KPZ2fEK75LvKev698v+0Au4FQEYfhqJD5AIfBR5C431jgJmBmv1GvMD8TviOOoF4k3gOO2B6Sj6gfiWAS8F+hFnECYLPRjHJB8WZAD3/MX/9hFfBRbxzOKC3n3mJNh1yv/emuWM9mn5HPgWAFUFaRC5J+MaUS2AI3IXoQuhAcUYdP2GD1URNAbDFJ8hJCwPI1gg6SCAGsoW2CRDKFcssCgWGhoYewXUEtwNt/7SDUz4zO9f3hfi+9YG61gH9hxdCGQalCfhFFMUKhK3EWAjHRj0G+f7BPBeCcoEcPiV8HjtKf1VBaPxi+3y/aAFxPAa7yPsAwMyDOkIDPsgFIsgmhQ7FaAZnQFB//D68wNk++PwyeoG6QnyUAS0/nX/OAQB/KgHGwRD9Cf8kAOsAtH9KPlABX3nJ+vJ8Gnxs+po6uriBN0q3ajYXMSA13LbT95D8NMLjg63EE0jCRz9H3YkgjHmQJk1jySiErQLcAB/4LzlLtro4+3gBdii7W74i/WOATQC9Pv5Cj4YTiZ+MbklgDX1Kgwdsh0TEqj/OvFv3UzyhuXl7dzLgNW12S3uR/EYCzkFlQQlHhkxCT8qQGsz2zwNOQkxEhO8Bdnt+c+Cvj3BXsU9xVbJ8dVP2ujaaOET6xrvRfjXCuYMpQcVDnYKUAZ2B6gQKfyx8eLpt+WD2bHS7btfwk/U9c5l4d7lQfqECOIHMxG3D8IiqyJhLSInRBuABv8Arwv+8oPxpuaQ7xvqe+by7Rzkxd9s6crkbuZH9eT7SvO391T9EP6g/MERjvS1+p8TQAcD+QfvINqf4j7tjOrd29XmSvXa6VnjXe8u8LP7JQPIDKAOFgyrDEEBPhlgDocFkf2g8oD+Zvia9KP3Kvp05ZjpUNqA3HvhzOnH5VTjqdlP33Tb8vgx/tXx4/6+9+vo1ffb/GLxafsFBBQDlfQy9NcAkve37erML7N/wRe62bSyt5jU9OKZ+J3zvvaqCdILge7i8fnkkuuq8ncLDgRLBuv5RvKX/KPyb+le1pTJTenZ4h/mwdJL6MLqIuhX8/ARAQZsEkIPfBVzFDocAx3CG8Mj1xr1HN4SkP7F8erqIt6l3cfxgOgX4FbkMuH/4bDgA/QzBIwBPwh2DhEFag/qFBn4n/0G/bj8EgPZ9ub2wPcuDqEYXwiwDrwWJw96Bt8YUw7AHQsJeP24+AHxKuBP33nh7sr5yZ3XI9z05LvhRfFm7yby2OtQ8qXu2uxA9/bsWPZX/uv/j/HZ7gf+MQESIrofEwpy/kz+z/lfAYYMPv/QANAHfP6w9hLvwOpu8YbqkvyYDecEyQ5ID6MN6QMNCND+WO4r6ljoXesN+g0ECwPe9dsA1fsq+xb3ofUT7+z+ov7JE28ABeex78btV/fu8bbvN+n9AhQF5A5EIIYS4wXVAS0C5vTJ+k8BXvpn52z/8QWVJ+0rKzOVPto/7UBXPbRBVD8NNCMmsySAGnALjvbNAqXxMuUD25zsQ+LB3l3nmN+H4/vRENmR26nhzd788SP+bgL4/of2UPac/MwAH/y28H/qn/BX+r/uifKW5RvsMPH1BIwFgQBc7wD1vQ3E/Nv8N/ws58jvp/vP9jnuA+rM67b8gPd2C4wMeASwGKgVYBcpEc8Ymx0pAbUFUwMN9j0FO/ER8oz7hvlO+TUVDfYQ6KwAzfRf9lQKuQq1AuAA7guxAxkMwgl3/ojqwe/t/PD8HP2N4Irzsuvt5RvahfPO/JMHTwVLBnsSNgAbBYn/BholELsaDAXLBPoG2PJR6xz9dgArAlATs/dX+Wj4CPSQ+OsMDwxrFRwHGv5X9mkDsAT89lnxWOiO3JTdJ+SX3HTssfIC+ETxr/+aA9sAiAKL+6L6TQOfALvzFvTq9zj72RAc/sYG+gl/AWz2wgLgCzEIlxGhGmIZ5CNyGNoVFvZU6QnxQQK2+LPvLuDu/ccLVRBMIIMV2BruD5oCQfK75jbXJOQB1hfVZNMx33XhhuRg4BHy7ubc7639e/7gApsJywddB0UWiBpGJxgq7SnIFXEUfiu5/+Ld+t1F4vDJsL6nxSrEQcQUuHzMTco0ypfNFNOY1MnNF9fT5K3arNeM5K30hwAJCnUDdQ9tCrgPQQ3FCdkLKwaKCjL7M/fn8p7+CfwI8+X1rvz1CsoGf/sPBAQIVP5yBoP/Of72Atzn0tyv8GznsOed7EzlBt2l8HXpMfRn5/PsX+II8c31/utT9lD7ywQXBTn+XQcU71v4Hfid/ZgCI/ZV69PvWvnA8979TvwE95bySPZk52LndNeN28nM6cNe0kveBufy9bEEbQbNBJUGlA6rDuP5dhXFEcoDQP/i/Nb5BPupGGIXBifkE2IUeiT1E+kRjQjw/MgMJu4E8+f88wHf/2sHgPex/ywBCgCT53vxEfhQ+JTv+vUC9FkbRBwxGsgg2BfrBvULRQhADkD+UfzU9jnlDPLo/BrxeAIkEnIeLRWmHcgM1gmWB0D5IvvE+o/xDftfAV8ITBaaBr4OLBYxG8IXgQVmCigF9/KB+nv2qAGbCuoL1A5tFtQLrAfoHikgPxNN9R/oQ/Ep/jEBK/xE+3wHPhEiFmUXghCJETEQCBYZGv8PdBg7B/f6XeXJ5WTZZ9M21cLSKNETyojWy+Df8DTx2vseEgUiUi2OMjgrAS2hLeIcTPV55TrcL9va2lHDesN4wXPFgM+DzKjPK9Ui4OH81v1fB4QMLfa3ARUDbhkJEs4aUv0r6YXoV+Sl36PfXOO433/XqNV+z9/g7+Gm4OPuSAL07gv5dvLy40nxtQPA7VTudd8a+EDxZwG9/qv79OFm5R/qg/k0ALf5l/bp/OvtZPg8/9EOb/46/5UDAQaIDTT91QXJ5WzYpdkj4Ofj/dz35lv/XfMy/YgGSQ2HDxUZ/hNLE68UCQIo8pv7oQqVAPUNuPw7CPz4i/Z39ngR/Q/IDeL90O5p9ogBQ+sRAxH3MgArAGj20gFiFxIP1/7yDKkUOg1kCf7+Qf4y/YL07fN4+gwNBhITDqwKHxC8DMcPcBDWGWkEnvlA9InaANSm1Cfbp+mW6ln8zQAzAoMJTA6lAQH+GPwtC1/8IAlK+jcBtgDrEEAWRQePBcL9YfWT+bsBwvM+Bx4X1hoLDakDBQWJDOoSXwwyF68WRRWYHGUHLhF+DEcIFBNvBlkOahM3BsbsguU45PbrVu2c6Hjv0fDSCjUHafnI+srxje682L7ZHtlO7QTz7/PRAN0Uyg5gJh4btySSLZ8ViAhACqkAMvsP/N76PwJK+3L/zukW5In2Iuqz7fzslfQv9hsETAvsAjYb9CUvFp8QhQ7nD44O+AxTKqsdixwlFMUSKwOsA8/6ovpE/SUC/PGk5BjvMfPn9X3+SAyr+cESlRirGdwjViarJCId2yneLgEw4ioZMSkivSItEUMMERGqDW3/UwQjBMAO0BOGEZ8DVBFpEzgWPxPAHzYaexhsEIwMC/3HDawCeAS0C9gK4APK8X3+qwX/98bn2uHX33Psbvrc+yH66vf+5i/uhPZ+/KvsnfOc8IX/UPK48UPv0vLf9UX8TAHI8uYNsQwvEm4KCBG1DvoCDBo8GW4oJSIzIBUTNgVXCGoETv2K/tf0hfBi3LrcbOVy96H3IQdmDasS+B+8FXAr2zyuHDEZpiT5KYgqLBsYFSYf9xu1JJ0ZLQLlE+8SiQgwEDIFuBq8DEwEXP1x363lZfBy8B3taPcZ95vgr+ll7bnid/guAzEQeA3+HCIKLg63ImgV7wUN/GwFKwp8EZr9KwSs+o31Yf3H6y/m6t1v5JTbbdxp4DrpSuTd/+YPMBzhA/sT7AniASL7VQWx+UH8vO65/WDveuzS78D0Qunq7qDvX/tk+h/n3vsxDNsF2AUUCE74oASTFAkHKxMoFvUO5xpuCBkEsgy79fbvsfG2AA8FrgJ2+jH2FgSZ+4b1OO3I7Vn4awSOBATyE+tM8RX7j/ce7V/S7duC4cjb4t6O9Y/x4uaX/QgFr/hhAGQEnf7U9zsH//9+CSr+7QEyBEMMv/19AEnrcuqt3/TnaOSK+PLwevOy9asBsA9eEHUcuQ9xDC4UEBKCCCH5bfRt6THkueiX3E7aENk04XztLv90GrgReAM28kYG6QkxA3b/tfuFFBMHvQqbHNQZwhZHCuL28e153FPVTtL3zDTNu9fB0cbG1L/2zqjY/shr09ncw+n61FjJntQt0qHG9NQu3ZrZNenY34jdJ9q13gHnoeB27wzdQOP/52QE+v+2/gQChQCy+4fz0fYT/A/3ju+/2m7l1eTV+TsHRfuV7/rlV+Am8tz7DO8A7IX8QwCk8fz+fvB6AE8F5BN2GZcUYAOFELMRcvSQBP0BZxDW/DkIuA8FHIwhnCK2InITYgXTAKEBcwzkCCj7l+ql+VPt6Oxc6zzqX+7//q7zzvzSCUgFkf6m/NTyNf00Dv3x6v0ABYbzhfGs73jsq+yu8gbyzvQh8FbxS9n81cXUHN8b5w/5//h++ykO5/+SGc4KCwn2AEn3m9HWztXJgbZ7srjD+cb1ysXV29pT+eP4FQEVBgEPyRO7DUYMbQvjA5flJu6Q0g7Q9spq4e3ahNpZ3UDWMN713RXd6No73g7lxNk41cTcv+G97djcMs2iy7DPAcM6vw+51ce2yJbXe+/+8Rj03fnQ9kgHLQSdC1D/DPkT+hEEVgre9TzvCPzK91H1WvKz0IzGlMVLwUnVjc+KyCncmeOL5WTzlvF9+xL3aO99CX4FePi1+W7qlACDBW70uflr/BP5tfPA7ZvsvNyM0v+9jdOO3MXcqdnE8vr7uv6bDjUWXyFwHpMI2At0/yf9WPXx9wXomNTM3q/dHNHkvH6/MszVx8fQsdtx2lzPH9vo2MjzCwAwCGsCxxfqFWAR9BZxJOkwJiX4GM0B5fc7Brb5xP2v/kz0l/1S9RIFPgrgFNkc7A5nCyMJNgOjBKbocv0EBsT4Xf/8/6v3sAB5EdH7L/thAHH69euV8IAAI/TC/Cf/HgDE91zibuom9orz2fqy6UXtC/we6Z/gse9Z6vAGPAJX+VLw7+oa5JXafuyA71vwrgKeB3gHNwLpAXT6+v7a5YXTxNVV2B/iDeZD23XjAudX5K3Yve1Y8ej/qP7m/1gC0vLu+AnVXtnl1qrQ5b5wy/fNqc9p3KjaMOvz8jD7IvGw4dPf2dyC33zgOuu04Inox+T731fcW+zE7TDvbO7/2cjZ+MafxknbBdZy323dZNiW5rboFN2i5TjgCOBa42PaaOYB5q7X5eNk4MT4Q/fr+N0CLxWCDGUOFf2mEiX64fT35uzuYver9Vrvu/P69Hj0ofNS6M/QGM/71uLYO+LRykLW+d5M6bjzLOoy7TLt4Nz+4OPnm+WC3XPaP9ta2rnOndJfzAjpqeit9NoEW/wIFRgRBBwgGQImERoPElMQSAH/Cjz1dfK66InWh9LGyJLYLd200v/gr9ji0wHTqd1v3dLcQ/OB9vUDSQm/DLojpSkoMBofWxRHHdUTyxSq+l0GX/JA8jPr99Q76fLqj90g5UXjUfbH5yjow+cz2If5p/n+8fP0pAB7C3QH6hg6Dt0Bfu775PjwTOTn9Az0wOJh5wXz0+g47RDauNrZ5NXqwehU84jrrezx7sfmJ92E5YMJvww+FHoHb/jb9pMBfwVeD4EKLvfJ9xrci+Cqzp3ZjNWg08ng2++s7oPrI+tn95UIbwrOCLoXSA7FBaj48udy5g7aCOTr6a4HYRhCIY8mrSC8EnUPhRTuBx8CxPtK8XPueOkL5kvdse7C4eXvE+PD7VIB4P2R/R3wuQIwCWADCAO/8sTgu9WY1Yja+ep08Fb2/vzlERIW3wtCC5oayRr2CQYYzxA59bAGQxNjBzIKTgo7/srrxPcq+BXY3Obt4Hnd+efB/bv7cPVnB/4MngPIHrEfdRYxBqoFduk88lDld+Xg9xT9sARDCgMW/Amk/qX7cPye6VPvxOdr51/dQ+Ud5Gzdid4s9I/zvg71JGEm4Ci+LjIwHx/fHTsfzTkrMQAqFxtQEQUP++rFx3vaq7vi03XCSsedw5e6v7qAxYLWF88/0IfcQui/817nJeki60z5uOnA5//lSN/v3KfqFN1m2ZnXoNor9XPtStj7zgLINdGn0kXGT85S1R/QH8xCyMK25bl+sYe5zbuCtP7G3dDA0U/Vttdy6wcKvvp++5r1Z/m++d/pDfhQ8QL/7/dH9T7sdOb16sXg/t/T6vj4+uzj8Cj58fX82yvnXOGk6hnpNenr32Tv3OnT5mzqgd536XnizeKe35C+/8Zvw/XM29r83kveg+MN4+3hENDxx7XFtMAgwxPPEsNSwUvN7Nq24GTp+/O97y3tO+an3zTJutDQzdbIztKg1SjPMtUg3D7ZM9QnxRLT1Mc4v/zLDcVDzmXX7Mn2327q6ulH6kbt9fjL6VL46wJs/c3+o/UG9Ur0mfVYAsby/wEXBToB+u95A3YMDwT+Bm39EewQ9ooJWfyyEO4Q/QOG91T2g/GV/esR9QNT/u7yBuXm25vYAvag7s4AN//BCgsAkBd2EjQOMQVf8V3/YfFh8V32d+jnz2jUMON8/LUQahJIIl0ivDXHLw4k2BjCGL8PuhISGFoBFwDYEbn9zvja5PIAPf218+b2WOVD09fVZ8t6z8jY9tFt1X/kx99W5+MNFhWJBLINGxtrDXgFw/hb/zv+WOl+5yjs0ea13+/ttfJKA4kDNfwLCOr49QJtDdn6Mwd2+of50/eY/d/3HvEoAF/97ATHCb4BGAL4DygK5RZ6D24LBhjMK+UjOSQ5Gi0atwav+Hj7Xfd09xLz+fMd5eLd2Oqr7Bf13v12/BUEzgiJ9CP1Wf5UAzsQPA86GGwPPPtIAikLvQt9/s/9k+8f6KXyVPnc49PrLwFc9mfqgd+R9jj1ePZA8aj34ez042/wzPDz3dXgWMfJ1S7Zyu788dD0X/4Y/+UF6A8hAp4LsANZDJIIXRIWDJYKbRLiB9TrX/TP4aTjH+lB44jpBfLO58fkN+5P/Tr2rPSA87Pyofxm+zj87dxw3L/XKOEC2ZrfM+gY6cTh+fFb/EwHle51Aefut+to/e/4T/tl7IHos93R3JjvQwf0D6X91QSqC2MEofJ59XH2LOvH/hbwY+6z6s3qatzN1d7i9+X0767oVvf4+n8BlBTNCLsM6R0xIngWOxzQJeUUwg/HDT0HlOxw2wLbE+Nl4ADZVu7x7aThC+Pz8Ezup9yq4kXhffeoC+kRYAIk+wP+fAaQ/aHpnte35v/eoeFd4tzcGNJ9zdrPSNnt5w3ypPCb5pLemc+o3aDbge4E+Fv1e/Qi9hX5OPqq/dDk/OLV4fTXEdf53fDPqOCW4Bvjs+Ec0mvWYNrx6unl/trl8n38Y+YM77b0hOsD5nLkdNxC6DDahNOu2Q/YDszh3YfugueWz2DcUucR3rPVhd3S453i/d4u56fwT/Aq6bjlfvJD+Bz7SgWf+df3+fqa8yfxawiJCzAAQQBEBSYFHO0M6Zfo2dVcxuTJIc9Ivt7QEtGtxAzSKuGm8Fn/Fvwb9BTcudpI09zS7NKYxZvDocygx3LBXsCvxw/NWtTDw7DMWOUx9kjZ09fF1DDhJ+iC4JbbieH33N7YAPCs5ufnNOEN2FnJ0ccXxADKwr4Vz23T9OFo4+zjh+O40tTYe+Jm3w/S6cIOv0PFycNDzybkk++A2Mfahdnsz8TPtdx+2b/fwtaU3rDjv+Xx3xLmlO887R7iTeFuzmfQteZv64rd9Or96rf7YvNK8LHsIO9v9WXygAEX/28B1AHc+Hb6DQLTC5QVGBt3CzkDdwG9/KQGdQLA92T9oAomB/sQqQMy6M3oa+so5q/lbNvk27HjRuz57m3nXO0t5tnf+s8y5KLotutv9KHvQfzp7/XoLubo6Q/nOvgo/6XvWPwIDzkSeA8WEqL0Su8J91jmsufj2RTUatu37Izmm+O73zvLltP62BzbjdoZ1vjKwuiV5CrYlt6f3YnnZup58w/jtPeCAHQPCB4+HBcM/QHl6E/s5dq36z7XgeLl4bjYT+en35jkbOEm5FLxReV02onRme1B6LDl9+3f3TrlM/Ie6S33zt+H22jgQMZ8yyG3a70ztUGxG8Sz2lbZp9r77ML0Fd9q3m/iyd+J54rhtd0J4wHOteSY2Tnbu94F5QzrsuFo2AbbC9YCvZ+5Rq9wtJrG6dDF1P/jcd9izsHY5eQ13qrfHtX12wLcYdBN3I3hUeZ+Arf+/vDV9X/yEu1R+hXke/EP+L31NP0fDfUHfQCpCi8OOwyZE84SdvtiAVnr2fRL217WQO/D7Lz6svqkC9QCeAV2BBQSJAp8BjkTrA7MB3YE2wQ59truVAKvCisclQ0T+vj5s/ke/3ju/PtN+2XwMf5YAJb4B/3tBL77G+dR8wLy4Pxk9vD68/q6AIQDd/6t8bDoGOIP84L3k/Hc5ebwa/nT9bH4YPao8EHxogUaHYYUohFVBjD7MvRI6+fyG/nI7wbiGdwr4zHcQOxW5dvZe8w9yPfWFNnB1rLZWt7L63Tw9OucFRYPE/0R6RPwE+PX6DTaSeV66rPh+c6/zW/ZQddP3mjj9Osi/bH8LwA3CpUJ2QXyA6/wXdpI4Nfjy+LP4pXvwNis10TsWeuO0EbSoNXB2dja6eQD3cjugPRc5S7/hvrD81Pp6uCE6HnbI9Rk4Rbb0tOW1ljjXOIK583syPHa8g/ibN+p2D7oqQIU91QD7fb6CZoUMCd6HBsXmRTFFrER0Arl/kztE/kg8dT3a/2jBWQISu/B9ejm//Df7pTnV+L15JTk1fLM+8sQAgQaINUajRZBDswF8var/T0BnAJw/VUJc/zw/7EVfBa7E8MSrf0E/ZADEwNDDV4QEQeND/n7Hwit60D+3RXmJBYkXySSKWIcLyH1H6ELrxbrKrQlERVgEHQDvu8792jlPtuH2EvT/9h2493eS/KCDxIBcviHBgH+E/r56srd0dkr4D/X6+G08Av3Ov9YD2gJDiwJLJssAiJ1HJIc+Sg3Jr4Y0xSb++cNeAc4/5gDL/Om3c/oiNgcy8O6UMZYzxnON9EK4zTpQP3b/zb9C/v1BMbxzvc48Lr3J/Y464/qCOUy4k7xKuVh6SnkEtV72aLqvNql5EHgPtYe0F7dNNlp6IPr0uYN5ODd+9V82rTIK7fKyQPLetTtyfe8HdvF4EjqfPBv9Qn0qOvd6Pjid9M/3jzcQu4s8mTWCsjJ2tvfEOQp4Dzp5d932kTMxuz167LdJNfH5ifaZ9wl0ijZUNhu3W7gf/Ah71EFcutL+SLwuOyn7mXukeni8G7yQgdUDYMWowvS/DAaQxQDFqUdKgohFtoPY////aX3lv5BBev4a/Ti+PzvDPEG8yn7LP7i+yXz+uto2R/re++UAt8GI/8kCBQR3Q7yAO/4TPdu54fZstjc0yrn8vrmAckVKhr7LLQn6hbzFm0DcAm8FHoR4BFpDOwUTxJsDMv6VwK7A0T/HxMQGnQe/RdXE5QVKwwt/54EwAynCtQWkAxnFpEr/USBTK82QizfLk4gQRF2B7wPLhonFRIPoRZeE5QbZiG6F5Qe8hnJ/9QK4w8sFYgZfA37GBYTNAhhF9kRp/8g7mf/RPea/Gv3Cfct9Vn+ewT+Fyge7hmfFiwg3hmOCtP+LxHFBDz/kAat92f9/xHbEisLUyLaIGsWBBH8Hd8ociUYI3casRJLDFD80AZTAkIR2BAiC5EOfgxT/VXyDvkZB7EPkwwiGh0MCgxHEQ4bOB9NDogL9Acy9xMBvAXrDWUGHAdMEMQPcxtHD+EVyhGnE34FCvhgBD7+heo45JPdDeid7/veAOJH1XXUotLr1fTrAfRr5V/tv/blCd7+J/WN/6D3x+/x3ljk8uYw21zYmd646XPp/+6n81vkf/bz+6QBvf2H+2H1v/gwBSP4J/AF9e30z+t/8srzJQD0DuD9SO+S75gD9gS2+5sADfQg9/nrjd0g5X7kENzd5L3i0/RE9b//LRI5DVkctByxIEEuZShfH8cWxf8uBJMCf+zT4w3WsNYyy27ciM2rym69d9jl4kDR5sdpz1vW1Oal7pr6FwX7B9wKPRhSAD8OlQPk7mcHCwnYEOEdshwrDKMfDTDnMJQwXS/uHW8owCfHJCYWmw1lCcwTRBJYFYUAzfVY8f7jS/Dw32D0q/Nw/Az8ZugD/Ub4hwMDBewEOwC4Av0Khv8n+snrfuO15ynxbtzn83DyiPwq9B70avMM5oP8ER0iC80SShzGHIYZ/C5tQy4w8yB/ICEiXA6VFI8F8Qzi98XyQ/P/6wXqX+FZ4UXmguYt2ybgFOvm71DpUPp5BAIMJxx/GxMhwx3OGvwm0hjHBZ79ZfR49ebnD93w4xfiMuH37hb+cP4i+s8BRhBJBlYGiBX/EpUH4wEu9u/9Ggk6/hXyagAFAY389vusAEsXDB6DDCIIxgld86T8wgrmC+8DKQP5/xvztfNa/pXyxvSa/qv7d/qICsLz9PhXBEvzHPJT4wPxlvS0/nEBEA1CB7H/1/wRAyYZ1RQ9G08D/hUGDCUFHAfG+i/jv+L97a7vIPUi5Y3oH+gq22fTyssxzaLR09W+4YLdY9t93hv3tOZJ6o7iH+eA+ZABGQO0CosesRqmKNAMfhQZKsgbEzwkKb0UiQvsC/j0bv5S/qUBjvtV/rwHQgxuB5YaxhdbEMslBCDuIJcY4THrMXgrvzfvH+8kYSZYJfUQpwYjADUJuAww7UDpoPu08Q37PgrtFJEeKSUJNppAKkN4OxM1+yXlEu8b9yK4JBQvExddGpYrmzTTGj8YJBn4EEYTQBS1EiMdpxVEEf4H2g3yD64QYRPoGNoXdwsZDzIWKRefKuAvCSopLcot6CNgF/EPQQosD8EF+v0z+9bwbQLsFUgUL/ldAQj+5QxRGVEUtRTPF48YvxpnIu0gkB4mF+gdng54GYQJbhl4EocPKQetEN/3hfn99jj5d/9b/+sAv/TW8f/mUdjn3GvwLdw48HzfU+ZQ48rTzOGR5rLemeC94rjqahGP+cX9pQEQ/072wfbe4lLVVM8E5TTgcMfR07LbHe8169HpeO9M6BLjSPD+3JbdRdyZ1THDEMvjspKlkqnTsRC+m8qH3/LXZO/Z7ADkEt3r1GvOEdSb4HbZKeB57tTk7uMJ6vnrRO1O6ATfa+oF6AnwlepA0Y7SNtby2Y7iBeMX+/T1JubN9+XpJ+on+z363vp2AMjn6O7u/7v4yfkH+t8F4wZIEtsEUQwHCFsPaRN5CBsT7iKiHxki1imcHvMp0jfuOx4z5TLTImYvQS2QL+4oJSgYK2YeXCqzKAUc/ipJKhgTOyaRHOQYEikHQdJGmkjkOXM1eynAGIYjtRUhDbkrCy+WLus0XiTCK3UkAyxoLNY/CD+fJWsweEBcONAokB8AB2YODBI2EOQHPvcDCzYblh+IGp8UXCQOFP4jcir+Ob1CwiUSJT8jHDWmRb85fUcSSA4niSqmJ74Xfg1vC2n9rwCZ/UP5jwbEBR8kPCPYKGcuTSeGKZkWKh73GWkpTDHLMOQooyiRLEUkoCm0KFQc9RmEGqgcpyJaB5kPXiMrKk8rZDLUKfIhBwnpGMYdDA4pEFb8PvqxBNzwH/WS9/D4Uf8J6Ov+S/k1/AEClApqAFYFbflx9X/1l+yN9NP5/+ml/JALIxTOF4IK1w5EB2P18vNv9tEDwgokA43/ihJhFGodrRoXGH4cFCpwK0ExODRXO94/MkMWTpw3vhsoCegGsBRx940I2xHoC4UUaiFqHLwgBCYUNIk08Ej2NxtCwTp5MhY0BSfpMtgqRjFhIZAVkhLGGIEWuAfjEEoKRgpAIUI1WS23MjE8zjhjOFE2Ci/vOKErSx7sIBUVOB3OF7Ag+CXXIG008T0GRPVJq1QrQAQ7PD96O0w8akAoG5gTOhZsG0cVbgl/EVIfQCi+FY4xxjp5OZ0+ST7tQ2lS5kPxPrU6KjF6PigrJx4+HWgkBRlPKDUpjz/5Nqk4eTfPNQgllzFEM48kJR4kCM4MaiSBJf8ati2pHLsojie9F8sLMRNnDu4iPyfqQVYsICNDH24lViv8IgAjrhK7EEAkkzMqJc8jHCaNMpowvB1kKMcKURIbCE4CwPeW8UHhR/Gt73HnxOnn9Kby8ARHFRoNXPb6/6j5LwJAAkMFzAf/9dj2+vVj6orq4wH39sL4JvLa6jDtR/JT85v5oghyEHMb+SRfHyEf0xQ3E+AL/gRj9tP1U/qT5IXsHunU7ZD5LeUR8WcBzwIh+tMISf1EBVL/WxG+Jawd9wxsCn/8r/ba6Yz+d+vJ9B39rQxvGuwXsBIC8jT//QVyBAMRAvx67JvoT+w57/n1AvBF7cD0Gv9EAIoQOhzl/UIIexQyBm4XWgG4DfUTGBajEj0X1CrkGHYHABHY+oACUADIAWcKigHIA1cOXB+OME8vliEsI14hViX+F2cRqAvOBGwAQBfLDcYXARuAD3cTAP/c84zus/x6/jHotOdD8WDxpAI0CYYJsB4GDuIfhhotGuUe+iIaJzYqJjRQMyMz4zboMt0uyCzdJDgcIRt3IVcoSiAGEYsUMwgYB/ERdwrY/NIE4v5f/FL9jxEDFY8X3BPOE6EFmQr/DT8V3A2UEBgWxh/1BzgFrhY2FtIgwB2GGZciVSrVGoIMWA/rIbwhvSj+K40mqjTULGgfXSLsI7QWjBaBCg0Whh63HesTmhRbCPkA9fV2AmkV3BEADn8aUyqMP7825CdDIj4d7yRzB2YRdBGGDJgUdBeXB18IzgwV/nrngPDn9Sb3MuAQ7Uzr2PI+/+IO0Ry5Ht4rJBgLDNQVBioVHmgWixcwGtUdzA5QJiofDw4qDwASJQ8U/rj6uu3694wSnQ29Ea0BPgqhEMYRrAI2BegDpfdc/h8ITQETBUEFAxEhC2kP0RHhFEMauB3AJnkYQzB4NJYgVyfiF6QTlCs+JlUnSh6VGzkcFCMMERAQzw2EFYQIRRQmCif78wdrEDcN5QubDfgG+RreGKcRzQ6vBInybfod/HT8lxOFByb0L+5h2k7xM/jZ7mD1wAYc/7v74vj290byE/o7+5j29OxR/lEIMxZTD4AJphn/Dtv+JwJ39l7sZwA/+ZgFpPT1/Zz6VASuBb4LWQW5AgwP0AcvA/ENERa9G8UPXxVPI/8XGSDkGMctrSDkE48RdgfQE6IOeAtqEEIfXyCeKOsd7RAoKkgamw4WEZAnFyepEY8Xlh+kJwgfoQ8GKIgfQSF9NU44bRwQMU8q+D/yLZM3JjGnRtdG7kTiQ9ks/TmyL/QYJRU/Ezb7jfta+vPzvOut/IT7D+gm+8YEA/+//rQGy/wDBT4EiwbxAN0KaQFTFyUdkiIXHCcPfQw0EHkfkDM5HsAeCxUsH90QMwxAAewFdAKgCycIFxPYCvAREhM1GKQsvxwGFtwnRCr/KBMbEhNkBqsHYwuU/+/uL+jN6I30awLU/QgEE/pg9sTrZPzM7uwTBR4EJq4PUxh2DUQP/xLUDbcHOvnfAWj7N/QS/UwIYQTTCk0KsAf09vgGz/g89wERhQsuArDvOfNCAGL8HfKt91H0Qune3NHo2vEH/BDy6u+P5JH5OPqW/r78P+tB5yLpROnwAGn8Cvkc9cH5cgugBSEK4hdxCM8QjAh7DCck5hkLDh7/TwhSFnEblRgzIkwaLBzpLcktmzaeOP84zVYLN3E3fziYIaIgrxvDNYUnfhjkC14TMhD9FGYQkxPVAfH9+wUlCz0e1ShfOTgs9iIIH+IgEh9kHakNoiCyF+QFixpSFqkM3fRY/O4S+xUBCB4KnA5YC/Ae9R77LKU3FCrRItsg3SFUHawkKi/tJvMnWDCSK1Ax2C6vNswgrxLdF8kIOwvHEsUQQA6BGh4XFCorGkEOKRkHEX0J6xm3EiMXcAAFDeEKtww5Ag4KUA1OEB4RwQLL+6EHW/ff+2vvOvsy8gDzTP0h+yrhHgLU6aH3BwND87oPqSfhKGUjBii5IvQVfA4FCtgY3BFLC/r+tuQY8Ujoautg757YcN2E4o3lKONt2wXnds5P0Lfg7eaYAP/wQOhu9LACY+sb5J7O0+Le9jX58/Xe+jT9vgqt/fcIZf+k+3TwUvWI70D/AAs7DYL1m/hG+Qv/yvogBPkKMvMg9yoHlxCHBMT/UvJ99zrv1OqV+MXvN+lr+fr9Q/Yq85L1E/VO4gzsDOy16ZzsAuJm4yrZbdMN2OrbudgN5qPgxOf84mbU88CEvXnVBOGo84XjpO0q5fLyCfPEACoGqw2EGksPvxCeDmUQxg/LAEoCsfhU+Xvzuf/T+OUCRfT/A6j8qAb5DMv2X/7xAub9SPIpA8btf/5n+zANygRI9fX5xQnUEmMQuBKqE1kO6xLsGh4Q+gZaB0H8DeoH3SHgA+hW5A3si99e6S3hO9fr3lPjEO+W5wb4oe2iBBQQuAkwAm4CEwfLECsTahrXCW8WaBzbEoMMzRY1GX0RoB5TCU/3OfWJ+436N/8L9XL+BvD//OL7yfJS89/oJfrjAaD73vPe8VbcntwJ52LbXeA48YD9LQNG+6TxCuRc7FwVmBHx+CLYAtrS7ZfpKukc7OPo8uBv6oLnsAW/CJULahJRFIwCHAIN/JbxdtXuzBbP5dn01SXP7M5Y3j3zJuSy6YPUE9m33avdRfT7+y33oAniA8L/Zwhs/hj9Q/up9vgCP+ur3sjmXPB41a3Iu9YN50fn3u94/4H5ePhZBRoKBAppCPPzn/wJAH/umeaR1ybTYsi53orIOcvF0NPRadBf5pDuYuOP9yjrTeVD66L3WP8zAcsDUgPZB6UI2RHIEXALMPgI5tDmQ/CK4439+/oO8HHqcOyQ9SwNzvzi/nzz5+/X+BD01+sD7EsA5/0n8SP9z/8Z/nv+BO6L6fHscvVx2hTU4NFSz2LIJM5L3Lvek+Ju60rgKere6sUB5QmpFjEWnyAEGC0c4jJjMtIypRnvGVEcIRB5BfQL/AcvBywUpA2QGVMbFBuqItkeRgY+DaH4ag1bDcAXaxyzCkwVXxgZCB4JtQ0j/1MjSB/OCiMNVQzcEC36H+sS5nTupfrT+Qv02/tz/0D/GAV1Dq4CPgGQDEcMbQ/0BJgDUvvVAIgAxf8l9sgA6wxVGfsACg8kDq0NXxTZ6azouQPuAP7tJPXjAjP4Ev9gAuYUwhslDRMOiPMd5M/e1d9d0+DI69Ta347i4+PX6y3bAena4uXgu+2P9fL/8+4Z5sPk0Opg+vf8eP0c7Yrfqd5x4hzhtdTy2crYw8Ufu7m27cQVxyDOU9TVz9vlF+7/24PfrNCI01nR3ddGzqfJOtKE5hjYJdva13jZFOte8tX5JPR16qv+gA2zCw3+4tk3z5vMD98n3qHkke67BjcD5v6z9Tb8fgAR+VTnDvpo9734qxVzD6ABD//FA3b8HgX8+L79A/zY+dXyK/OS6lLrAAJdDHUUkh5FGaAZJhVbDi8QURDjCFkA5PEp4HfWWd9m3wTzSPCG6uT8vQuC8trsBfRcAJr8L/g9ErQLyBKIK9Yk3SKAG7AcEgigCwH+/wDn/8r9WgcF/Bj5VQCD/rbx/gA9+0/rPeGb4hTSq9x535nZ/ehaBXYDCQkyFREXVxs8Ei8Obw+N+pXvefnW++vsgOjw6qzoROWR5mHl+d6W22PgJus551zv7eu56RXbIuyR6Frz0Ov++2Dwyfbl95buh/Wb7+D4mu5k39LfcO7F/qDt0vLk9LDvqPiL9n/pVvp56fjqI/V/+jruyPhB7Vn2j/8n/3r2qfJL/8T9EQOJ+k78cfau+zoFuOcm4p/sf+Lu4+HjJOzQ2FnebuEf6+zpkPOY7EPsCvzqAu79y/rwC2kO8govCp8HsgDd60nnHdjp3tTqION45z36ievA8lz9jeep51HbGd1Fzl7CqMsL1Pq/dcwB0k7yof2P6+v64Qv1+cv8n/+o+O/1U/YI6uEEn/nW+6/x8+8T6NrsSPPa5UHjdeEs2pnQ7uOW4kvjWery5ynmHddx4RvoffZ//ZsCgf0G/O4FjgTYFC8TShh0FrMNfAWz/XoGlvwS/fXtL+Nc10Hu195S5aLp6PBg+xL1mwHZ/7wBOPnXBuD9LvPV5kHfzOiL5Vnqqfsg9dj4f/ZF/AUAcvl5Aiv5Effu8WL4ZgV8AyIEBgcFDLYRSvs/7x7zxQgLAwn5k+p054vgvuJj6/nxY/Fb65fsifeN7rv47OlQ9CH1bvib+E7wI/YUAFv8jPoc+uHvMfp48g0AlAxlDVUFaQDeD8ILrfe/+XkB4wvs+c3x9fFj6wsF9Plk9mH4sQez/kn4RQDP7pjrlOOs4FvSX+CV3/TmG+3a6OL0O/Ge6XjhgNiG6TDjjul044LY9t9I1yXlj+4Q8BULqgMuA/wQcw6MBv0Hmu6/9MTqFu5t9EHluuuz4KDrV/LB5eLasNze6tsDYwQFEfQX1gF29mfqr+tx5ov1CP2O9gb/RQJ/894FYvRJ85Htlu587QbwKO3x6TzafNeI4A7bxe3S/7fv6PKjDPoe0yLcJTwifRRJJVYN5Pmm+Dzqq/CF7c7gQ+5f9kX+KwQ6BRj6eQppC1v6CwSUEWQOpBbsC/sI3g49KgsTKwVvF0sTVxduAvPuJft/Br34FPYR+jz/IgykHKQprykoKcghkBbKHCUh4B4OFwQRaOng0lLYUOBD4W7l3/J16Zfatujx8aDugPYOBrIBqAkFDh4OMRuKGk4JVBHvCokHIvvw7erh5+Se94j5VQWSAo8XvA3qDJwLWguvC7LyLRZnBDIG0vwf/ucCOgl2EKAKTAOC8bH8yQdnDIP0qwZq8zP66fQX9WT/KgdkB4wHHgFkB6kGYwdFBoQNgRjbCPsI7AbA9OH8RPVMA48WwhBjFYARohTRCB8OjB5TIrgYrQg7Hgke2g2LDuET4f+67Rv9Afl78JQBbP+UG2AcWxpFJi0mAUMwO0QdsBf8HuQZohcFFvoCrgQZAi4WeQ7FDCMVJxKTAuf4e+tp9mD8MgCyDCv8vfB7/qMBFAdOAFn2++Re5UPmx9w/7qL3oQwcCFsN+w81FekXaSEgJCMb1B7vDvMFTA+d/d/8gvST7fPn4OzM8bb7ueqM64jktels7Sfmtu1s/2X8RwB5COoZ/RzjLDMZTRahGw0IdQCK/H3vov6s82T7l+nO5fnu6RHvC7YJQgUQ/cj+bO6n95P8R+q8/WrxPOyl7krwFekG5ODjJuE87a/xpP66BBoQxAgy9W7vtPji/nb1Qf2OAxwDAO8Q1fHYnOHp6iMDEwCUBWTkev0qCOgFHfzlBwwTAgOUA2sLLeg3CDgE5/Ys/6T5z/xB9gj5wgRKCJkFywSc82nvjvCV+bfv5/SG9G3vutv56DHjG+BP5P7sg+qp9CLxPvZv+g3s1Ogk82fz3O976i3yv+YV5OzZudYL5ifk7vZK64H4Mv4R9FPqwOHG8U/zQPF7A7YO4xqOEQgcmgWOBJv8eugG4qfis9rvzVXBwdcc2GLc2OE66gHuvgJtBRAPBQ23FJIT0RhuGi4XbRHf/ZQFJvGuAoT1WOE3xwPGr88i0WbVB+IH5LTWX8/73gvh/tdw24LXrtf67NXnjPKr9UbygfB5+9//yQqXCdADAvlUDFr+hPMc74rrnuR94Enke9zy087RCdVC07XeUdeMzIDWgucS8A7jsuXe6Y3t1/C68qX/SwZJCfIDrQF+/+n5x/GS8H/gGtcu0ZPHZcEmyLvGUcoE2HDXNdul373tnemm8db2j+XF8uz8pgbE/I0ExgBq+yQBL/yO51rRN9wxznvR49vs293S89kp4RXSL+Ag3qvvseyZ5z73mesz5+nvzuxY6Xb7If5XDIwP8Q0NCnsGOAey9i78EgH//rgFx/2XBMb3mwG1AMoBRwtqB6gMPf+OAD8QwQVi9JYCQfVX7MTjEeD15U727vlpASf7mQzxD4QAUgqlAycIvgUg/Azl8fbS6r3g/tzv6Ireo/Hn9KfuW/mCBMwGdAJrCQ0VlianGRYKlfdr/pAI4gLD+XHnGea/2VrgS+Ed3b7bROq33MnpOdsI1gPbEeMz1HHNZ+II3kbiW+rs7Mr50hHDFEMMJvMe+3btguGw5IfjlNlD4C7JhdOO2I3QJtYZ203puOjO+Ov5GOwP+SgHZfctBMj7SO0a7BX/+fJn7tfnvOez6PzHMdMo1BHXZd37363omucg8FnzgOZR6N77J+018BfjHuoU7Fje59hf4LLiodeo6nP2jvIw8Qng8+e689UBWQF9BngB7AUr+pwDMvkr9RP6N9p23YXKr8pN2xrgkeNS4Fr4TAczE04iuyGyGFYd0RlTEowW2P/SDBoPqgXF+5nyttFU27nO0t6b3Rzgw91y1xznt+vT9d7tWwDXEXMIS/p/+C38uAOHBxoCyAxyE4MU5gX8/Nf/8AFJC5wKMgWE/0MCCBCI+8UBNvwH7njsWu2I8cn03+6976/ncvs59nACSQA4/sLy+vim7AvtSPhB8/7uMfCS8w8HRv5Y//D4tutu5bv08+vk6JjnqeVN7I/nYd8W3W7z4vUh7YQI1AKB+Q/rt/J29X3p+vNn77z4yfIH76fx4ve6/VgBVvHo5c3dwNHt48jkwsyJ3a7hld3m83nzEQSf663gOufz5hPtuPQO913oAuSI5zf0LOhv64P7uOwB5XXd5Ogl2KjYjPD97hXZ3tyy5Xrcyujn4z7djNH2ydHaH9EQyJbZe+T+2cvW7NAO5ZLky/Rx6iXbBdtE74f3Kehh5K/UxNGs15PQPczyxprW5uQT+dLxoe+g/Ej57O4U8TUGDgV9BPH/wP5h/lv9WPYgCjAXOh9AF/0ccyiVDvQZdyKyHjUVFSe+FUggxBuRIk0OaAVR/Cbz9vFF/Bfuretl71fxZvIT4CrWTtEX21j1gPY030bmvdYd0hHWGOhF3qnf/93v9urypfL5/R30TOYZ4pTgfs7v2RzTT9Nh2krSEuK26Tn3HvLN9jP80Azz+Rn6Hvgr/M7ha99Y2CvfjNmQ4kTwVPFR+wYEGwRCAU8EIPsO6sn2DgLA9WrlCt2j2+bvoOpT6OTneOFQ3Vvmgehs5QTlEd2334TsG+Db5kDhvNg83eneaOhM3071TuwA4YHhGeZ22izgmMtMzQC+nMgM2GjZq+QL4xDlm+YY40bdaeKZ5C3ulevP8b3uV/5oGK4dQB3cFw8bJgp3/Dn7mwA9+QXr4uOv1cbWme2O6xzn/eVD4ETjsfnY+cn3TviUBSP09/cW6j/aGNvR33nrz/Ho7q3lo+SdzuDOVc2nwf/Iz8AN0X/LPdUb6hLxW/0aBBkO0hNDENwdnxDRDG8c/iIuI/kdAxw5EwIWDgp6BCsQQw3cA0MCYwNe+70GoQTS/ln6jwQqDDYFYQqB+bzymPwb7+rycO3w3Z/as840yTC2jcfs3ETXDdo84SDcSfJw+4gDOP8dJNUBIQ4fFKkIzwVkB27/p/t2/QP8FvEl3qDg9Obi6W7dUdfs9KYGxA0hDj8QhgMiBJIEdf9K7vHoKfdY6kbgg+bM2RfnsOvU+ID7QgshCXAW7SepGJ8QJgrRFpkceiOzIUYGiAQNAVwISxNVAnQJqwpKCOAIUAIJ+3v8NPxF61UJ+QO5BEUFQA22FYER1gUQ/9fwafFv6kr19wAI9xbnXOqP4vbfNOS/40/bbOaM9UYAfQeACUgOQg2eBKgScRk0ItQcixQyCjb/7QJO+ufwEeal6l3u0QI3/ST/ePvl9l/9nguw/VXqqwdK+40H0vd+/YT6Ff6LCbEGOAJzBwD5v/DDBYLwEvOD+6sAEwHz+XrhkvM69hABSPh96iQBsfmH5H0BjP4g7u/zWA2hC0kFKBihChYIqhHoEJ8NdwL+A/b5uwHk9g/z/fbM6e/aEuqA8A/fSO3F4dDmX/U2+lYOsRKQFPwGuAxMCfACWwKF+cb/xPoE9Fjs4/vR784BYetS6kHqXfiV6HTtFOGC6TTvguCe2gTh8dtL2BfRjOyB56fr++RW37Trk+VZ9IDl4eOz39XdRd9U5Azw/d6H7zfhzuRd56zsz81exjHH5dF51KjTRNDM0+jaR+cn4LvsoeEW3zrnuNrT00bpauEg3s/fW9LP1pXZBdk34jT73Pk6/qr6/xGHAvsDEfkRBekC5Q2A+GroMeNI5APohdnY14fjeeA97ejss9+H7uTyqvY6+S4d8wb5DuEftB9QHKEZQw37BFQLtf2RFfoPyA5C/5LvMPGi7oEC3w1TFRQeCBTnHDYYXRJFHOYsDjRrL0gqTytLH8Ml2BSrItotsywPH4AqzyQuKCUqmCxaGxQMVByHGT4K4hNPC9oLXAQYAXMGZg0TIsUkoBpFEz0neyE0LO85zSSEFXAe2hdjDXUJyQwJ+KsEVf0N//wBlwDD+gUPfAWfBw8iaRbQGd0l5yGyKYouXy/tNGApLy7XMGc2WyOQG9oXiwBL9hTrJ9z55qr1Vega74r0Zv0n9278FfnMEO4Vh/dE+aH0hwHxDMgVmBl1A9L54P1i9O7xCe2wAtD6OvSF/6gTFQon//0G2gqoDvQWZyBxD/cVpQpC92Pq++Az3bji3eOX7XIDtP6yDywINA4SEi4ERgO6BIgHyw5qB4MHSwfnCzgOhQ4TCRYGevmvAJUFugAR7WHpxu243S3cJO9Y8RX5lvRe5ArYqeJx/qH6Kfg88kYBswRHBYUBdvmH+VX83ff09HT/L/a34MTp/fEv+7DnMuk+8rb1A+Yi6PrwdPD36hfgUOoo773kGfQV/3b54PrkBpoEhhbMF4kQoQWYBjfrLvG7CVcFb/8hA5T79+3H77XynfGz9tXydu1+87PuE/T/AVUDeQtQD74HbwngBfIEARH1Gugc+hVAGD8VnQ7eGnkWwyDXGMgQnPcR7KTm5NYlzWnMsM3ByOnMldUf0pbsKfMW9B31fwNpAHcKwAY27qXxGvKO7qXpwvz8Fe8IV/xK9+L2ZP5KBKXx5QCR9+EIcQLoBKj0KQKJAMQECgc1G9UNwwCLC7/6cAU8DWgDXwNGEMEI4/Z2/CL4sQKpGLoWDxd+EiX9WQM5Cr4UtgeKANED5AL/9VbpXgKh8Sf65unU6xbpBOtD89rvnf+77Jzuh/toEV4AGAm6FD8IfAgfC0gLGPlP7rgHjP4P8iTyVvjy7f0DagFH/I709eh42CPzu/Ki6X/tC/3vA/oISQKgAmcBUgTh9moBxA9gB1n9pfRQ3pLm4fGB/HsJJxOcIN4Wyhf2CiEHkxMHGD4WIBmIImEjnBaRCagZUiDwEwoekRguDAAcThSXHZ8NoxcJB0PyDwnlC78eIB8yJlQfXheBIhER7wve9/XqlftkADwIdfjv73b/sgIUBLYMEAgDDxcbhP/jAcr/1vtVC2gPDQRxF+Ie8QdS8Xv4+uXs4IrdsNHl0S7Pqczx2KrZRtD82wjlS+VU8gf4ifr56gP6Rvo9+En5hPujBZr6kv1NB8wovB22HvgByPKE14XVkOQ14q7KjNQTy5LJat/e0FjybO1I+5sPCwl4Dm8ISQM8D3ESVwCc9Xrg6Oz64vTTvdis4J3YPeZX3vPcCuJn26nThtgt5JHo8uDG4Mrl7uO6+SntXepP8KnxevsyCKwGEA0fEQMA+QWACt4aWAu499vmQur39oP7dgf87ovsqvlt+FPsovJr/tES3SNmIRUmNiLNIPYMNg7oFBsPKxM4AoYGAAE2DkggXB5TIur6h/VY7DjnWelD24Xfbdyb5HTS39wj4VfUgO439bTsLexQ/SYIIADy+x/wju6Q72D1RPg39Ez77QgM+Izr4erS5//jNNWE7z/7B/gH56LxVuMc2tHmJeGG2iDlbein7OPiVuKL1bzZB8xixa7ACbtHzDLH4rh1wcvJOctyyYfPJNDN2EfL1dlH5S/8tfFn/5nqX+nh9Nn4cvpJ9eLzFeyu3zHpI+kw9Ibvn/XB7xbX6+Bf5cXrYeVw/pb0sOmn8CTXWN7D5kTi9u3n8ZrhjeAJ5kLm5gPrDoUXzRK7BvYGfAuVAncFbgs/Dbn3pQjaEoQMEQeF/Gr4b+3U1MPdJs5P5jjuhPRt+ogaHRnEFAcqLjF0LcsiFS8WN5YnlSe/GfYQuBBT+snpcPev6UDllNM0z+LPw9ot0xLNkswR1MDdWtcI4ljMGuGv53voaQOf9JfpHNq7zSfTWr+wvSbJd9co8QPpgfUr9b8CagB+EJgNaQrHDQsB6RhCD/oBpwKiCAMChgUx+q4D8v0HB2X1VPt4Bvb8FfhIAvT+Xf6+940BHBXbHaIZqyIHHVUOaA23/R4DTu7j6NzhNuyo84TsYeyt6FzvzOoD5y/g5e1b3FLnzuuX2ozXJ+Rw9mr0JPSUAzUJTAeWB0AGjgpY/gv+r+ke7cLowNhl3f/Zn+lr2ZTu7+Ni8TDmxPDO/OfsRtys823+a/p19RIG4QAI+CUPlw6+DgcMy/PH/GT8qO3H7bfu0uN25uzgDui9/CH84wp0Eo4UfB6IC9AASAf4FTUYMgif6drpcOnh9BL3Veu45Nrvt/cF8pr90fV78cDyM++D9t34mvCS71H4zwXx+kf4Mvk69H4AkwIWApT7t/Dy9PoC6gQW6qYExAz1C+kDgv6XA1UL+QtsAS0ANPin+F8b9ClSHHsbkhKK/7X2MvuC6wnn3+HJ3jbf6+r88u7eiduY2bjiyPtPCUEOxAvy/mYE1AOk9ysDNQ60/Wzw4AX/Aqr3Ie0q/CH3Qv25Bwr/dglUAVP+8ALk/qMVjBH1CF8KFBrLFaoKtQKgAI3+t+0h9Vn14/RZ/fwANwE+E4YPhyQjGNQWASCoGBIPnhGAC8cB8AEX93sDtvcy+xPlx/UQ9+LeZd5320fSL9t46iziEs0Hyk/aj9mf5PrvAvVWATUJkvJv9hvz6unb4zDk6etc6ITwX/iB6KXvDvUv+jUGbgby/zX7uP51/MP/3v+ZCI0NBQbfCd36CgGm+NsAqQ/VD04OJBiLFJEf2S15I7QvCyYqJmolGxiIGSMgjAzXAjv1wOxQ8soTOwsmBHz9UP1O/K4OwQkJJnolx/6z/cgEhPVL6yD1Xu2E++3goulQ6Q/obutp6ZvaBte728/dI+hN7x/vHgG8+WHx2QFSCP0HLBidCl33C/bI/mrzgfs+ABsECPohEbAF8/X+/W/9+gcJ/EEQ2Aqe8d7gZuoY9FT6N//aCP8C7xAiMKch2yPvFF8ItgDO9WkBmwcq+2L0Qemn84X4Ye0A+iUPYQRyCZkUJglrFFMgFwWZ9Xj2X+nY6ATj2dr02DLsq/Zd+O/uq/LN7mQKVf4N7EjnMev39Hb9rvwKCSoPvRwvH6wMLvwP85n2VOto9tPvhtz11Qrh2ucE6DQBjP4h/874t/ha68b2RO3//hf6puEc76z7dfp197r1mfIA9pnsGOrq4N7YodR72MjG8byc0crbwN4+4KTpUv2g6c/qUfqS7X/xr/fp9ar50wN++zoBQgz4B5gENwWyCXcDcgLJBMYGVPb14Y/3HQiW+RDx9fjN8hr7zP0o/vn3t/ukEBcRuA1bEtYbWR/7FEYVaSgcGNgAyvxD4WXaE+Hm3P7gV+Bh5zDpJ+9i8OToB/vSCFr2sfUG557x5PBd97Tqi/hz8qwOvwmDEn8YBRenEkQZNxr3KMIl5Rw1G8EZEx7sMTwv0R3NFCgYbQdkEP8ZaRWrGUf8X/q99yj3hwbYBAYQVAttEPYTphNmFBAQTA+sBgIY8Aw7+DL6Hf6aAygB3QS/C3ISxRVRDFIBTApDCrvyZPz19U/s+QOW+tz+A+gU5mfvLeRZ8yH6ovErAfP+0/RA+kL60Pfp7y3pZ+6c+BDt5/Fe6p3u+fMd+57wB/sZ12DtQOzz2d3V7e1O5PfhqfUl5NICRv28ACQAcPc79PL77P2h+bvtgvTwAMoO1P1MC1AaPAkwE1AOmyMFDUAHrw7VDkkKcAalAvcI6AnRCMYPTQ+A/lP85Qag8z34SAPQBE0EMf+h9Krz4vCZB5ECgP0e/zLyLfZCC7L/rQOMDsEKchs2C5YSARkOEzwMPBXhDfMEsgLrAlf2n+3N8QjxF+DQ3c3Tw9NB01PTps+Z2qPcm9rh2wz98N4b8BTvR+8n7ZPoOuNB64LfyOam3Ofk8POu88L6jhFrDrTxhPI3CbH5Q/VTAyj+/fnu+6f0o/LK7YDokOXA5wD8qfDA0rvt0+8k/zIA8ORV4jvjsdzz75LtvvVL7d/lmfOu9vP/H/kKCdz+//Km5/b2fPuU6xnm5OdD6ybnDfNp6hL43QV/8C79d/+W+XUBw/vo+RTzv/B7+urm3djs2UjU5ONs6doDZgc8GqwZjhVzHTYWuB0HGi4YtQkmHggHr/5q/Db6Uv9U+o7vlfkR8RbpnfkwAvL02AYL+mwDfRF2BT0TRQOgC/YGQwjiCdEB7e137NvfqtfA5GrdzM2i3o7TStnB1fXbt/VF8YUF0fY89Er22/UbArH/g/YhBDj9swASBHnvDfDm3+vplezh+Inye/ZF9Szv5fyWB1zzzwGE/i4CEAY6AZIG+QcYBBLzhPrn2ELdfuUW2cjXf9yq6nrv+99J78nxg+sI5l3zDP0eA5sEixKBJhYq+R4tF9wPbATJAUgN0ALk+2oGXAaj9Qb1LQ2aB9kJrhy4I8Yh4hWpE4YVrRPYB0EURQXGA0L+WgK9FrYlHhkBGmEV8R/FDlkGy/jG+k75jOxr8W31aO7l7ujzTfm8AZ3oWeE15Ajny+ri8pL1tfX59aMAF/I49b30V/Ge+rYELQz69qgFBAIcAtMC7PRm5w/rgvRT2EvpgeDp5pjnpt9z1vfaasJ+2R7do9zS2Y3fo9ON7or0n/aY7MH5JwL1B2QYQAOrBKkP6wIs8cn8Ev3w+kXv7eM37BTkHerR2Cb2xvHy90H2JvcG+crwywFY9/Pzp+r27Tvx/e366NfijPaZ9N3zLvEb20jROuwc7UzntuDdy1PHbMxszrrWSts2+d348QFpA0IKzAUnAAUKzA9HBEsHUAWYFKoGbRBwCED93e+47KPtrvvH6pnrV/fd+3D/HPDy41zocOYQ5uzYs9um2z7j1gHw/1r6Xu7f54Dn4vjp/Rr/jArY/2X+ofrb+yAVrwfkAeb86PlY+GLuwPQb75D4VAQgEG0MLgzBA/QRr/93+3b8/AAHAWEAeP4X87TdaeQ0+EP4vO8x/QQL6/Tc+Nf+iQTt/sUGq/3t7vnaJu/87M/wxuNb7izfkvSv6lP2ff5k+sbzmv8UAtP9AvHv3rPlVN/T2RzjsN8D0tPZ+d+11OzaM+Fv3VTbXOKR6gfrNtiv393hmfBn71Lv9/V3+Jz2GO4N7J3rc+II4qzm4fnDBLj65+7dAFUGBgRg98X7Ku6H4Kblk9xP6CPp8/CZ6Mrqi/Qx52Lh4+bL83n5sehU7/7wLe5A8LkFgQuGCCjxmfws9Pr1wAJ5/HPuyPBW9Jnhx+VE6OXfp+qI36Tf3uxX2ljnofVk6U/r+fOJ9Cn9eQOy/tPvxef26O302fL36gfwDOkV7mTwFfTq7vn10fPy5oTpE/T/4ILY0+Va7sjvaOfi6AfwzP0ZAJgJTRXlErgLgAHg8Uz/u+iu7VLj+uij08Dj/Pom75D6PPFW3IjNKMSJyC62QrnPsHLDtNNe3AL/SO+X/GPqcQnd+yL1svWJ++L3HeMU7R/4etrG8nX3BPTA6rnoc+JU0k7q3tpo3ZLpR/a4/vP4Xwc8DlENiwBeDSICiw8UHkUcqwNXEN4QkBNgF0QEI/sT+xrwIeph4PTla+q57m3j3dyC1J3hJeU73ynfBuLI7lb1avMO9sn8kPTW8crXX+FZ6hPs4uwj5gns8dfl8h7yL+2/733xAe877ijw2PNO7MTRYdZS4TXy1+Vj9zn5Y/lp6K7k+txv5eXqrNgV6tvtp/fI7bHyhukN25jic+oj6bUEU/6x9pz7BPNA8o3e7erM3QXhu9kO3xjTJ9n81zrma9JR0ore1Ntp1CjQqcVPvu7X/t2L3A/dgee57DnzR+Xj6hPinOO21i3D4MlbtJK3db7kt7nPpcWay57QG9Cd4cfomeVj9tnru+Vl5srdpeVe84rpN9kB5gbQst242a7Xz9JX1u/aCdLG0CHkCd4M89/8dgeT/LP34PIL98H4o+ia+VPxxOLe133fM9ml49LZBewh9rT05PPb+6nlovbnAsr5KgRgBkXznAOM/YLx3/db+gb8NPWV++nsbARp6oHukfO35XLxRubB3RTpDOxf8AwB/AFy+qTqLPA0+gvzle2J6fnpZv+a8ZXsStsv1Unz3vUk9AEGugp0DFn1+PFL+Z3xRO5h6FLkw9Rn5i/wqwDu8W72bvfC6Mz2benu6Q/y9Oql3dPhkewV6sXg1d+b8Gb0Xgvg9hz3xfgd8Rj3Z/4m8qTeW9/U7p30vfbk61Ltp+/L68Hn9fHS76L1mvSp+1/7MfXj8S34sAbT/rD9kgSx9XADaPoB5w7tjfuH6+flres565nip+qK7Znwyu7D7Ifpie+v7svprevy/AP8DP/A/HsW1h3jENwctQ84E64HYwgCHHkYvBjUFPIgUh0sHWwVPwZ6ApcQfAP8AjT9WhW99aXrBgvM9rT7qvua+g0JZQAEDdQUbyM0HyUWaBIzF84BXQ+uCX72GfTD97344uqc5CrseP3d+Avv+/M56g7vX/X85CHlYu+l47fvAdyW3bTnou197ALhbNxu5EngY+jp2WTkeuKt2H/kDubL+eP8x/q92ovYPttF6kDqZOtI5Gr9b/xf/z79GQGa/Y0Ddf9i85gAgexK4avwK/gbCer4lwD1+rzw+/CI8Rrik+Zw8tL1Kfat/7nzKPh4CtgF+/b37W/xSe0S+NLmf+FY4x3ajtOLxnfAHsQ51OXrqt1G3l/jAeGf5ILv2txM1vbe+9vIxWDIwtYqwgnIhL7a1PrSqspCxM3OMcUP1dPcINHoyUjZfdtb4N3rEPJbArv3DPPDAPr0e+949o/9jPSd7uzpqvHC/YfdwMjC0k7FV9Q1wkW2gsvRv77R4OsD+6TpSPGf9N/5xwFt89b2TvblBFb+Yv3t5DLt8ODY+PDuY+VD4lTrqt5j113Yod6m4vXqweiZ4QHhJuIM3Hnr8er81dzhxOIe6Jn4p+d45LDzSObZ6XXn8eDP37/d1vDp9zjkg+/iDaIHgvbI+O79tgQhB9gUWxe0E/QMDQz5+07ymfrk8uz3VeZ85aLmnu5mB4UHFvBH6qTp6vKZ7FzsTdoq5sPH8cxEzCrb1d2q2N/l3+E46n/1oPGm78zzyuF07HMBz/5k9STx0uLR8e34KvfQ+N/v2Olk7UXkOdkC4JXe++fi2yHMOMCSxZW8fsQuzgjQQ+y59oDs8fGS/iYGeQxTBlj1AfnJ7yDfTdes0UfI/b4IyorWmec5/Kv9UvbW5/382AiBCCQURA88BIoOHwt59X/+ePXu+YnqXOtB9h8Dvvrr/a7yOQa+DHgED/oRA2361QFsEAkJ5QVR72rk1uvl9LH11ga0/zL2oPYC58XuJd1f5K7sn/V27GrmjPPu43bbqN875GLzkfhEAhL8GPF674HuXNR42m7ST9Gt33LpuNtP2n3Xstw16hndStGA28HbU+m/3m/YONtj7LDyLeoe5P/aw9BCu+S9NMjNymHPfemZ5WngSfcA8L7mQvKs8aoG2P0jAUr+/+vl3pXqL91b5hjpGelR9jbvQeT+7cjrCOcU5JX2u+BA3iniWvKG5xD4jAOYAwkLAxq3BbMDZv7Z9wz0GPqv6nb4YfQi8U38mhM/Ac4DrQsk/x76Ov+W9cMPGgX2B5v7PQRL/CQOBgTm/rMT+RXgFJ4EFgfWENYRfg2iFLwMHg4pFXkWJAr1BvgDbhCa++4FJ/Q0BW76dPaGD2MXPRrvC9sZMh87JtMoNSfLFpceNxxOHXcYLxoCJN4aFg2WGXkMywI6CmAYdh/HDm4LYPiJ+5D9Dvnq+4r3lfyG7lfvGQ2tEi0E/BZZEqoE5PgN/IcLmwnZ7mvtaugF2D/b8s3E4v72Aut16IbXXcUx1RLTD/Pr7W3vfdwc45Pkk93j0nHa7NvT83vlePSnA1fn6u22+nT7j/A59fbxQfYjBLD+4hMu95j6PvwX/F7xSuQ15bvoJOnF7MXwWPjFAa37q/qKErn/sQSy/wXoVepk7mLyoe+o8q3zb/s+6Mby1ATWB0T7LwE7EVsPlgzvCrv4Mgh9BKkMZ/QK+GwB6wHpFAwTTwKyECsGkgWf/pDmFe/e7Vb+AAS4CND3oPTD8vT+FegS5+DySOYS9KT4/wDECt4QxRZQB1IKzAgjD4AU8giI/jQE2BTwGM8UYAfVBmcegxxaLkgkSxjwE8IT0RzmJCExJRM8/6f6pP7CDez35+eX7sXiSPoR+pD9vu3+9MDo1fn4A876NhWDEBIRJw7CDFsfVwsvB/4LpATXCP3z2uWw5orjUe8M97n58flBAsEIf/p6+Un2zvvQ/JcP4PhPBvjyrehD4/7q4fEE6Tbud/tvB9rwswBp9KDqs+PS5KbjqOzH0tjaU+V415bnBwB0/vH0JfLj/Nz5VRGUBT4LFvTA8aLpZOek7BroS+SU8abhr+V733jc/d4b1yHVQOyI9RjvogPGAAUExP5K76vv3P3v7a7tZfDK587nUush1mXacdGz1ObbK9+O5TXi8eNF54jv1ew24c3tyuyt9gz8w/d9ByIAYQL2Cy4Vjwih+hj2svrr+t7+IQm3B5YB8Ak0BJETtBgBFEkOwA/BBvIFIwefCHwQ3BuaEn4WyhQJCGYBF/7hBYMRvguZ+df4TgjC9tnwn/aa9t74lP1yCNgEahMpJl0czQ6jC18UQQy9D38FDQ5+EpAXdSCYLYQnhR3HEE/2Kv9E/b/ubvD/+9r4RvTu6hACY/GQAAUj1xKREZQUywNrCJEGT/1n+IwBMfFw8RLuWuvf92sKFB1oKJIzeyecJfMNqw5WEYwAlA9jEDMCs/9i/tfw2e/56039jQLHCyIAEvRq9yfuiOIW5evfC99S4SjjB+uY55j1/Oik4CfUatkJ0kLKCtWmzQjWO8a4zxvUKttM3NvbJdxL4s/WV+jR5TICWgDR9hj7mgNRDnESDRIbDdwLPf0K3SLbKfxt8xP1J/mA/Cf8pAYMGmUOpAOvBE4Jawul/ZQCOAfL/wkHJgYfAx0GtBAhA60NXxS2AUwSWQZx+izzwu375s7ks+aU8pn5S/J08R768u1s71cBZ/ssBajw9ue41zfqOtGh5OnnfenoAHb58Oyv6uL1g9fx5pfqNuk37wfqPOv35mftSdLU4C/5N9om28D4YOju193sx+bN22XgLugt68XmSNaf5BTg4+dj2LXbpuam1VTW79is5hLdMOAz51jxcPFd/rMCYwaUBdYL3QYJETUP8v6c9Fv00fqb5lrVd/UG9E/ts+OF5qwDxQZR/cH25+2f+fD9cwmUBDYJNwy9AlP7HwV3BQgCawVq8/Dv6fSS4GTeR9pq7ZflUvEzBr4M1hLW/z70LvvP6v72+wEd+CTrOPcQ7pbzz/unBSMAU//qCf8EhPkA/50WjhRvFz0L8xM2DjUG5Ar+DRUXyg9UBuP+JQn++eT8Nv0k/YQK7Q1qDCX8fwbNCPMNuRZqEXcHHPvd/tn4/AaQ8TH7qgEx9LH11/H67u3uOgIOBVnw3O455mzoo9zc8Qz4dPKP9W3veefw8/rupAIN/l0EqwOZAnP7fwY7C13+lgCNA24EuQwJEQMHpe3N33bknOuN3bvhePBE/Af6j/fA/zoBAgb2DFUQwAWZ/hPtwucr+Ij7i++Y9en7Sg74//MI0v7g7ev+jRLGAy7+ZOsY5cXh3NCQzOTU/NlK5UryGOnp4tPZruC86f7ZM+qa5TDwl/vk7mzzXuqx6XXs5/WW6FcCxgPmBdoBSAdM/9X+v/tM+772X+1O8LXmOeR11jjYgNsN1HTdj9WW0F/DetTw4pT0xfS+BMICF/6jC5AP3Ra2Awz+DekA5WLmoNsb397ezN6PyW7VqNcP2IDFmMsV3lLt+fKu/KD74vvwBUEFOwut9m0HQgb7Bi79dvkEAlwEsxRUAwv0IujJ27fdPd062LPlYe9t5dDsV/1W//EHePr//70Asgrp+9z/ufuvBacB5f+9AdQCwv1n6avqquBd6jDYu+WQ7n7l9vDa5q7qzvGT+/X3WvO7AUAVzfOg/Ez9ZQe3BzUOiwE1GGMQNAsqFeUQbwX5GMwfWBcJF/QO+hqdFIsarQx+Jp8ZtyVFGfwPOAPuC0b+gvso6mDrKOxo50/h0fyE7Wfq/+9q+zID3QKl9+wGbffV+I3os/JH/Pz12uw75TrhyeHt8g4BRgTgDMYL/R0aIF0ZHQQ/BYUM9wq99NryAepS4Gfbv+Zc3/LdLt0r6q741faQ+wv5r/7PCysbshWxHCYRue5x5jvjFeAh2vm+VbYXx8DBFr911HvfzfUF9in8iPDtAKb+Ogo5COfzBPjP9vL4sfvA8kDvkutR4KsCm/8H97cC7eo02wTbtfHo7Y/sqgL0BDMUYR5pEsQQQhWRHhMP+hKjHLIhTgqODG4FpQbl8N/uYubo7oPwZOdy9vL5Ee3E9r/+/vFj824EshYAItcteS4eLMA32CrOI8IjFySGEtgHdA5RA53+qe8b85MGUvTP8uTvN+kRAS8K8P8MASkGrRgiIjANuSGyKusszDCLMHsuaCYzGbslKiwwFOwtghbGHWgeiAptCBAaIwzTAD0CXgTAA54ENAiFDD4Y4xg+HgQddRgGJyIw7SjhH9Q0nC1vJrwjYB0OLFEmNhi3IAAauhl1GHUJxQsbBMUEKxH5CVn5cexl6f3oIfBC+a3lrd/F5lTaUt074NvpR/Ke5cr/Q+jj5DLmb/758Bv0afVICCIHlgKr8UzqvPln+3T6FvQj7enljuXU5MbjYuPR5yjloO3L32jxrvR47mzpk+ot7HbyaPCX/xfv9urt9NPwduv+61/2JPNT8nfpRP1gBcb6Y/OBDnAXuRRZFSgQkvrp9OLnK/Vu6hTpLuJJ58frV+gl7bviZuYh7QT7/+u96ovUa9En2xvW2dVd4DPRw9cr3WLjD+Pn6unoT+lu7XzaiuOu1GzaONap5XXwBO5G7Iro7eVz3dbycP+u/I3nsd4y6QoBJQDXB94OtBCN/3D9Bu2O2UrOc8eW1MPOXtbq5VngzNJJ6KflR/R38PD28vn5AKH/8fat6Zzxn+xi+RDuC+9l7pnbveir/3f7IvYt/P8ODRc+B8Pt0Omo+HL3zPdR5xL9T/XiBiH9t/gm9q3jJuwc4frcCPns84/1+/4d9oYFePvw8on5gPNL9Qrvwe4f7z7lefUg/CP7qfxG/iX+zAkm/A78q/6l81z4oetu6+bz3uop5YLsUOSY6ZvutvWV74z2+w9SC5UFSwL//mz84gTdBagA2PXG+R/0Su/L3OvfJ9ZLz/TBI8fW0hDf9+Ca3Wvkv+Nz6ojqze2V+WAG1wHF8Rjxa+Zs+i0H4Pfd/UHuO/iS/DjuGOsr8Er8r/CV7afmHudC5tHZWtnD56HhRtwG2GTRauFs4vHiGtNKzzfYXsVu1y7dm+h499EEmv146CPwHuul+WPt0epP7/7gjOaY7groh/aJ6S/8ROMy27zkvugx41zthAKrBFAGzRPBC6gVtRPKDsIO1wiEBcITXgoXBmz3xOjR69n6U/TL7VTzXPui+HYXgimQGkEpshgGHVQYLggyFjwdWhKCIi4ftCBuFCkRkwveF/cnNhN7COkM7wVFFBn4/PSm6TDpGtvC73Hxde5T7bPnuubA5ILadOns/Pr5tvFE6FLtf+5ZARP21fWIFNofax4dHwUUeBWmFlMObBDTAe3ypPxg9NjpiutI4cTWhuWa/UH+4/V5BAH9exJuFxUYfCTZJ581Pi0TJb8eHxjhEegPJwMp95/9SfA9+4MIeQU8FakZ7wZCDrwLsRJTHEsUWBaDFc//xAdMEZkRowrt+EL41uee89X9cvgO7UHsTeZ14dXfI8T/29DTj8lS0A/iD+h54dnUqvJf1bnBqdNN3Gzgg+Pp7DrzB/rG9ivqpdzr7KPoH9sg8XvmaeA93rrUVNIh2O/VWcicwS++dL5wygbPpczMyg/kzfG17DP4x/4A/5ADLfh7BBgQUfoFAy0AA/d981Hl29aA0jHToc4pwATJtsy70m3hDuxG7UPpePe/5JDoTu608cDpfuFm2wrQFsht2RTZ8s4K263MguRL4WXdIejM7CX10PNh7wH5iwf0BhsdPRrwKPwYUATE9FgCrv+r/H70jPEv7cz3UPx9AZX88wJw+5LdbPi/8/7sIezR5gPl3e657BzyfAB86jL/Wg6iCKv/PwapBc3/IgTMEZH2QvpvCw4ENQMXGhkPmgsyIRkkcSIsGLMnICMCGqgn8BsJGUAYZRKNB5oSQgo4Afz6UvUz64fv/O8k9C3zp/UB8B7+O/LN+WkAkfxW7+X6XPnf/aAP+A/DAEQM/Ra0EAwT6Q//CHMIxApwEvsTAgTmEPX/j/859LjnMeed5m/kg+p46Z/vZwQcA4/qPQOh/GD8iQ+kEcYOaP2D/d705u0u4kXfDegk4X3bNNFR2CLGMN8u5EPl2Noh6sfz/+g48AL6ve8c8iT3tNqe5GnrieeO6Ynkz+WO6HLv6PyxBEIGhxBPGBccRy9XKlIhcRRSDegA0A3AD8v9iPA5+CYGxAbO9CwA4Pf85unjPt9M8kb5o/r385fy8vlO4iXo2+Om7RXnotvN0jXcJ83DvR7dR96U6uToJ+0kAYAFRCEtHLgVQSTVLvcaIxPwDLcE1ffT/G/wCOrC8ovz1/3z8pHtqPWs+wEAbQPWC3EOBQxXFCEQ+AgyDZsWSCAPG6wTmQ8QBjgCAAef9X/uIvjl+Brrae8c7xPnFPAA52rv8PfF8fHwSfUD7av4fARM917zbeGO9Cj9QPOA+1X05/TB+FPyRPH++2/+fwEHB2QE5vxfDYEQBBTnIqor9yCKJ+UjAhgBHyAb7B3TEacSWhPREicWOhG4DWQDrQX6C2MTfxRzC6X6ygOP//YEhAf1DmsBpxOp/8kS3QZ299kRyxXzFvQcAhryAg749fyl6NPaTtq41Z7QBs9D1H3kbeaw6zv09QFE9FgF8vdJ8nT/rfjG8pXuKfWt7ibxPvcb82//k+68AdMJHBZ0GBoVPBTjC+IOVg5r+zDosuKG9Crsj+su1JfVwO0W8wjmhOxK+uH21gMeCJwK2QYnIIX/tgWKBK0ZKghx/1sJfQKH80vtGu/M3K/endu22hfkf/GN3onx4uZi3/rvBP/GBtQUpRP6DBX12gN6+kcNk/rxzxbnt+ke7L7sjeJq+mLufOkv+UXrU+5i720AdfvS/jv8BvwzEDgFogGJCj0C1vu4Ar71k/Kp4L3hveyW8M/wF+ke76zxqAfiF6ElEC+mJIshNBgyF4cVMw4bDkD0UON75ADly+vX40riStxT8RTt7gAB+WH6qASV/QD1xBTYCfn92v3oEIEaVxnCGpwOGAEd/gn9gfQf9X/2CAFXA878HwqD+6r51AlIElkG5hFsISoqDCn1Kz4onDQARpwzFDbmK6svmUjaMxIcNyJ+HjUUah4WE60Z8jPgJhMzAC73K8QrQxvUGaId/hfjIz0N9RBMIRcbLyeHIuMl1xs4MGwrnRU3GLsJUv77BQ8FOgMK/xATGRsHLgIgDAsfD4Qb7R8TIMAaYx3vD7IGsBJIDzYGGvu36qzp2+Rh7QLureHR9onf4t9X4UvoDPJJ8CrwyeNU8vz6xARrBwoKrwxu/XoQ9RafD04W2CDAFOkRnQXQAmn7Te/S8GXlQejC8rPtp+eJ27H17fc+8RfZFeiW6cTaVNF02QHlKt/B4tT/6fIV7wMA3QOKCysK3BKUEMUH1A18BzIEjhF++srxpegJ5MzXRMcY0MjSA9YY7ZbrmfEE8B3rguYl7kXoh98m5TXe/ORE3EzUeMUx3v3Z9NJf1v7jcOQC3mrXSNQQ3aTVy9m25SPnt94/8APwrvP36r7rmOJK5y3c6eCX6cHhKNa14G/pCPaU7AHptfZz/Ab81fRn8LLsoOX98Kr4ifJ27L8CwfihFKAQLviVAQUCG+VG46X7oPxH+2ftjv3f9D7mc+vn7zz5y/hX5djkAPbH/bzqhul84CP0hOZD6kfiMPB39MfkzOrC5ZbhhtVE1dTbcsol3JPVcdhn3MzSL9eh7Pfwxea4A10CFwKT/qD1QfnJ42D4T+Nd8zj7WALzAnAO6AtXD0obLPphCqIFrhW5EYUXyRgKEwUFLPbDAmb9vvbD9sMUax38BhgOExXfDHD26/aK86YJ1Ado/60DVQFnG3MdTB/wDN8Sdgy/8a/zIPR48YTdHuU05FTmV+aJ89j3RfnBCpsOTAfuB84CUgELAu8LjQgoDPQAQAK8HeUfoiB/GUQdViCxIGUPbiCiELf/RggaBBjuW/ev6E/YjNmS5lj7NflA+3gH3gzzClsQKQa0/KD8Dvqi+zULfQ/jDPsSQRScE8ARigc6APwCWgvqABcB2/1jFKf/BwTPD9ADxAo0CHAZ7CG6G1YJ1hHxCE4MsRGnE7gHlf7gD14fJCTaHOsL2BOUFHcZuA63AvoAUfPr5vvl6Ofk8PbuUALE82b+xwHiBWEV8xoPDmANNQZhA5EcZxEfCXYZNxG4DQ4GQwIv+BsDcvMB7GrlXeot4oLq9Oob6ILP0dag7LTgreUl9rQBnP3i9k0BTQRlCv0XAxR4B7sYfge5By37juxv8W//FPqg/zP73fn0AgwG6v+v/TH9sgmU/JX6Iu6d7xXvqd+/5G3lXNOZ39LnvOD+8Lbxg/aoB2MZIA9N/LTzzPU78l/n7eoi5XXdQNjQ46nsn+2+5z3nrdeT5hD1p/VeC7gKPPkB/IjuKu2d9UbdT9uN2kvWuMM1vHvB6bt4vmbGuNVD3OvVcsqh04fSac3g1d3p9OzE7ernHtQYycbO7dQ02fDgHt9k6r3okt5UzmPi9dej2EHYGeXW92zxruII70cNmAWLD4AUOxD9/qr2re9J5X/fyNM/03Hc6OPY20nkfNy+4tDept5c8MblOOcM4MzbgPKvAHsO5xSOEKL8/e/v88D2QuH19BfpEu3c5jDmkt8xwd3OJdwl2M/lBPR6B8b+QBDFGPkGoQp2CS0Bq/92AGjzAO7v8Lvp+exA6dDcC/Q38x34ZfUw92b5O/bg8LMHORELAF74IwFk+tP43QD9/XX4veoV8I7kT93xz7fPRsNCxm7G2LxiyH6/TcVSyejPJ8fg08ja284N49TluOY33sbbRtHl3iXkMuNs0uDhwfO88n74P/o48FMFhQWX7531FPQWAqjf/f+mBpLmcvI899f3lgXS+9QExPnT/1gXagrDBRX8r/ST9UPuyek/7AftPe594x7qfeho75P43udh54LoTf2zAyzwUfSK7vvqXenJ4/7V4d8X52boR+au6YrmDdxE3GfY9t3p23Dh3O0n9CHp3/JQ94gDmgtJHekP8Am7C0UB8P+bAz0FEPmi/scBDu8nBOYQ6A4lA/0AWPm1C0QJ7wPOAugBgA0GEIgTggmLEV4ZsxDFBVrrneb86gnnl9uC593omewJ8yjpBfOg+4n8fvMqDX8YZwuNG9YjcS8wFqknXhdUA/8Bhwu1A54H5fmB83j0WewE7nLwE/+Q3bDNCtJF4K7pu+g6/jv+B/3A9BjxKPb5/CMA1fNv8zbmVeWu5ZfzkelCAa39bP3O9Zn1Fvi95LDj7OgL3Rzmf+mH9NjxTvuV/Dzyk/OO+ez0BOwA+9fx9d0w15LS/OQF1ovgDtkU07La69A70ZDFrtTy0cjR0eZH4zbrbt5kzlncfdys2ZLOKNYYwl7MFNJn0U7MyNpxz2TdUe50583u0OFK9vgC+f1W/c0DUv0SA2UQXgf+7kjzgPHv4QbcA+eo4w3ijtPg2Yfa/t9w5u7cJt0C6f3hrN7z4hX5QQiVDG8YfBfmFFwg0ArfCZHz2ery5rrbY/DC3KLo3uUt2PLk1eha6sffs+yR4oPpSO5Q9Qv7z+1I6RP1mgPC/j0ECQFC+nALYgRAEZcRYQpqAs3wEPlM+kPwROmz5/7q7/ET9+v48fd68lr8/fT06oveSdtf6sD2HvM++ef6guRR64ThCOqJ7tP8r/vu8b4CR/1zCPLkmdhx4t3d9+DU8E3mr/+1AbEP4wCEAJL+rPk1BCAXRhsoGJopNif5GQgS9hEHEcUIkvo98PPwF+kQAsUAuQQ8DZAaxSqhCZALtRdrEZQb+huYDp0EcwLOFjoSXw49FesT5xeEBH0GsRM0D+gaVxYIBU0BghL99s/sTPSk4//XFtHs44zsdee569Hnuuj14UflbP8oAbIBCf4hDpEG4gXXAwgFAfp0CBwJ5BX7ByAMagpHCe7n1vke9nPucuLW7yLl8vEK7/f3y/XI+/X3sPVG+fEHyQzz/h37LghT/vPptfJD+fj4/ftm9BD4IRIX9yD0l//l/8Tvdem80dPiatVky4HIMtGpxCXV8d1+3BzgRO+57HD4uPQK96/5D/4sAxT9kPxkCM4ATvoc7En14fFt+Yni7tRG4y3b+89n0zHSJuCl4P/yefjl7d7zDPH788D+Cvx5+9gA0P66+e/pT/PmArb8z/FP4mDe6d4a7+/7ZfeTBjQLl/c/DO32SAVWB40BufPD8iHqIufb4ujsn+hC4zLqqunl23jSONaj5tHe2uAR6yDiZtaR4VrhjuWG+hYDp/8VDDsEKwWtEoMI7wMLDt7+owzX9JD17fOL5/3lcONX5dLlA+Xe8STxIfDw9oD80QUn+HsJcQL3DjcQaCAiKrgUbA2BBLkEIwFQ7WX0z+vi6RPvIvrD8sfrH+r21mHnJOjX4Xzngtm28lv28Pij8EP06POZ6MPxR/pV5bXqGPWk9nblKuk25TDk9fS/7yXq6O678U3+bepp8iXucPzs+an89PrT+wIMPApLEA0J9xqf/98AZPtABZ/7n/Te6ZTy7/B07vjmSvQS7WbuevdH7qf0Rv4Q8SXkQur/+vYIDgO+Cv4hchnKEuMOFwSP7WfxFhX0DRgP9xp5EzYUsP4d/M4NTyARCugJCBMiBjIPihMIEDwcABsJJJAs6CsrFfcOiRPjFj8N3RGR/f75jvbl7TnkQfZf89Ty0PA/9SbmxetZ8N/qS+P95xHnQ+648+QJvgzaA0EV0RRUDs7wvf1aDUgddiM+FEcEfwgNFx8TJ/Ao/PQCmfC16BflL/fd+6IA6fA45yziJezK0QDZfeWN6rLyqO8A+jfgHd/E7L/l2vJA5V77t/U6/oYM8gRz+r74mPa+8E37yPdMApnxHvFc+0HrPO016YPsu/G54Djap99O66Ty5/Nq/BXyG/APA6odDiDODzQLExLMC7//gP9lAfYA2PkS5wbmI/GJ6QDzodzD8Kj1f/sB7czXSeGv23bgp+4W+18Azf61CYX/G/V8/hb7vvwzAs4E+gSp+73wOueH7vTlEduq53nawcvK3cDcycpd0mPZHt1g5PP0GfPZ7mD0X/XD8z77dPU/9VnqLujw/skBRA0LDr0LkgawCUsT1hazBr0S5w9zD9Mb6BZTIXgeqRebD8gM2QdXGP0SSxsRHgEs3CPiFEEYUxs0LGAmvQ5QDZ8JogXs/m38YgVdCDoQCxEQIwghNChOJuEjdhIlA6wFfwtJEVYHDwNhE9UUZxjQGkkQMye/OQQ2JiWRNvJHKjfaP2Q3fRW0Kdwy+CL7IaQTIg5pHKgopCRIHHIgOhAbDIAdqAoNEjQS/ROz/V4UnxgoDrkgLi4IJ9QsEyK3LnApSg3+GJEffCoqKTU0hy1tJdsSr/spBQP/YPtj/H7+Iwfe/uQnqSVZIooadBFEH1cgbCCVFZQM0Q64DJ0BfgFP8zP+avmn/EUCNwQa+J4VkQjc+eYFJQOD/Mr5vPLz9aX0Wfu+/rwTYAU/CrEEWwxYFLb9sPnjCw8PfghAAdwAjQuE/2nlB90O8L71L+jd78X19Nwv3zvimdCD2cju1vWj+fjvAevH7U7kC99z56HtN9py6JvvQPgABXn7MP9q/2QI+AidBlUEOvxJC+P2fOsg8eD0I/mv/uwMjQipHdEc2w3/BdgFKwOqCh/7NwKBAsz2xe7l8tb/dAVLCnkUsAyJCGkCEQXw+cD/4v5hFvcP3QssAg0OyBnTL8w4ijL1L7k6gDDxMu4gnzKbMFMgsA7AEqMgqwb3D0wOHhbwB9URfh4EETMQPRqiHbkVZR8uLz5IcEdkRuU7O0AMOjFCdj/KOyYoEA23GicDKg8GAGsFxA1QAN/9k/CD/TQHZft8+5b5Q/9+/qn6NO5c8L0KI/eOCLoEqv7FAGUBGRXXD4MNcfWRC3YCIAGcAcHrrgC2E78DqhEGFr8fYAevHJ8dcxrkMMQWmg9SC0cMqAO//an0bu/A4vjqd+1I8+b2xvxl9yAORBL+DZoRNQoCBDcCkPcz6qHr3P2R/vgDCgD0DDUErBcLCT38xf5G8/LpSvyu65HqgPcW8SMJ8v4D4+H+kPsJAC0M3QmBBVoPCwoSALMSTwc8+qjv5ORM5P3stvoh/xD2S/F028Lv5PDE6in9v/VD/tft8ebD2szbBuBf5bHWD+L18xH3lPV2+3QMeSu6J9Mn0Cg8OD04Yy6uIMEgTP2s9ZnyOfCp9tD48ukv9VEHzP3b/lv1UO+73ZrNLtOEwPTesugj7BT9twM9DU0Ubw4EEqUcURAL/VwYNhdV/FwATAKY+f37ie3I8Sf9hPHR9Bf6PvBS7bPelOPY/MH4OvkqDjIckBvXDDMbZyzvEv0XjBDLESAZ9QrfDn8MDxCBDqAWJwbOBaUDmAIs+1ADGQyhDo4FmgOyCWn0VP3X/TUUmQnoCFwN5SGzHTcZJgyOEawZ2hJMEcIIEQREDNkGHhKY/fP1RQAaC1fsN+bv633ikOe06cPuvOhD35X22Aq9AdUEBQ6yFLoYbh8CFRMWdQt3/gsMowRW9oXnOuKZ4M7jFfRg+FDzAQPJ/c4EhQ6NDRocYxbtC2cCffs99gnnMuOk62fwLuBk6OjtFOyv6IToIOxx9QL5Qu+D7ZjzUfZb92D1U/P07RsAYBKrCp0A9gQEBdoKgxlfDLAhbiDhEAwK8wkfCUgYTQkwFBYQmQSPBiAXFxq1BnUWOwkoBMX+Ev7L7YAK+PIrADMSbQakAHv9POrt9VcJFP0/BGAV9RSyIjcZGRupJPgtuyTDH7MNLyBZLBQl+RuIDzMRkRCpBrQbMRQdHQQYRxgZDyAKShPx+7H60ABL/0sXRA5VGTUezxnTKT8a6R9YI2caaRESAx8SoQ4o/qj1N9515K7mmOtz9VvvZPbZ91YDPgqyCeUD5wzb/s0CUv9+7/34ZfI25SjjVd2S6LHn0ts44lznbuj667D1D+VoAUcRfxzOGIsVTiF/GjIPBRN7B8wSnwj5AEACeAppCjMHSgJj/wsGgfxU/bwGBQe7APvveum7/QgAxAP4B4H0wQTGDE/+AwNgA/z+Ht+o+Jzs1/qnBdf/xQlC93MORBgDCSYTjx4KEfsRPxz1BT8M2f95AzoEWQHQDyYVFgroFbwW2hFMCqoHa/zU+DMFQ/xc/bf3Kfta/fPtWPd3BM/lXwJM/Bb5re7SBg8LWvph/W33UAd480fuXejH36XQbNG/307oBdXt51/i5Not5Yry1fgi+0n0I/HP9GTyu+8I7YP1Nu9l25brOe1m6K7ZYt+d2JzTWNZy20nrFeoJ/RoLCQi8CeH9CQOaAUoCFvo+7un1V+q1/pMBFgLg8pL9RhEEGooaLTopMecofSvIIb0swDLfOOcwzj8JOq08ujkXKgUxxiMtNJos6xtbD3b7Dg9uCZoOnQnbDUoZghVPDikcJyYBK8UcTRw6GdssxiwyIwUghTHVItIhgDEtLqEpFzSFOWwykCw6Kfo3ASvTO1M33T+qMmEvfyIUJ8MhHR/bFeEamgf9AFoRVR5kI9gh3xkhNu42VDezOR1IWzuNNbQvxi2bMQ4w1B3EDXUUbBGDDagVwRUmAD4TuAy4CWwYEQdvEHoYnBCKF0gWAiFfCu8Qyg8RGDEJFgezG9oj7SNgI0QkGRp4HZAYdCdaLDI0dB8qItUoqCbaIG8ZbSBVId8foxx0Hh0isSc9JUoRdxg+A9kMzgk/BEDy6e/y2SjNS7pP0ZrZuduO2Z/UKNAd37Xeiu1m5YbyzgZSCBcL7AURBy/5ne8S6HHixtYx1NDQosyZymXNH8XbzmXQsNVD5OLpmufi7a7r3egl2hflVuN01lTTTNje2Y7Ln8BKzBq748NQ1S3ZLdeZ1GHNtued0UPV6d+ozLXSIdl/1b/S9NnlzwnSLNvw4WbiqvNS9MkFpQwsCKb5tf5eBUkBFfVP7ffx4+jF+jrh3eGL4PjehNhJ0G/AJs87xoPLI7zXyxbXTOeA/t8CePHR8ovo0vJ79Lv3avvj9T38wgbIChMRRhP5D9sVhha2C0oSvxGJDk7+cQNtAiMD7wjD+jYPFR6OE0koyy7bLDoe9w/kA/AEEQXQ9ZXvs/zaEVn6efO4B0wI5Rd5BoYNFxAxG6Am0CU+ItkZpxnpJnkjxiydOq4tviPJKc4q2Cj7HqwuHhiBFL4U/vsyB9oXixQdGKMQSgNEDeEVRAHKBZ4KOwcrFy4VRhplHf8ZbxAOGHwW5BUXDd4SIBetEW4Z+RkAGIADmfwaA4v5kwXw9hPx/NxU5OXgiMQXyKXOwe+G69nlp/VH+fL+8wiCEaEoxhy8JystkiJ3IQUzNC5zEIr7eu1C9y/pLOnJ6P/ZMutM5dXc0dLk5BLoVt7e6vznZ+4N9sT8uOqn/eL9dPG99dn0Ve5V9yz52PSr9/f4A/DX51DxFuVB3BPecuE/5p3jiOPS1MjYts7kvf7DgM5Z2cXDhb900lLRjcpt0PPTYNut6HTlSvn38+z8Vg7cA7QA6PlW9Pz8NPt06mb+3+lZ4lrkbede+G377vBO/NsC0gGuDsYLmwck97D4WfB68ODvRfMB6V3tKvSz8hzj0uFi7yLmzvFX/WICmQei/N30SOzn8Z7fmNgM5JLpKvPY6Kv6AArtAyEMkhGFGr4fgBpBHKEbEB82DyAcsA9gBwULaPcWCRsHig3iCsAZzSh4KW0c6ywiFAoLawzo+3PtNfbn8I/sXu8f4rnrU+Md8cbxuef16Xfkru3m6HrwGP1JAk0MfCkeGV8sIzGIK2Qs4CZtJHoUOhLmDDP7U/Ms6iv2mvFR+BXyr/hq/xEIzxToFgT9jfFn6MHrwOzWAGL23PCs8iXr6N9g5D/vePNsBTf6lftB9Sn6zQ8pG2knJQ0PGZsc4xikGnMYWiW2KHQZwB+2JvgaxxjDByH9EAbeBwD+j/hc9y3wHAv3CQUBfR5rHDMbGRidFIYh/BpvD30W1Ag0E6QLAgS9ANQVoBpRDTMD8vnI+tj7mPtGBwb/xAox+H/sEwBCDS0NsgsoH8EijTDBIAQdmCHxHvwj7iPNHZAXpQGX6pDaO95X3RHzQ+1z+GIJugEUBHYI+AB5DAIFFAbeC3sGsCGdMzA9ekF+Qb40ZzfpM1Ilci7PN2YvuxtHOIAfhSCTGQof4SgsFccEIPvf7kn/jPw39mHikeqH+YTuIAZYERgZoAwaHLwkOBd7C6cJ0ge4E1cQqwcwDUn//gm3ETEfZA9QFF8bzR0aJYYrGzNPM/ItJyvBLwgsbS7fLq4Y6SEJIqghtRaWEwMONg+gByj5C+/05prwJeqdB98FxBUXAg7xEQo0Cmz+WPVD+Of8N/UN9d/k1OPB6lnsuOAS/h3z5fQDEVgHjyzxO1gpXCLeF+MHjwqYDHYQbA7FB9fwy+qk9Ar8WPka9UD48Pak7Eb9FfcG9bUFXBLt8I/+U/uK7d7jPPO78e7cFc363izxReno+CQNqwjHE+EQJhWHJwAczQ28D5zvZvB+6RrqDuNI6VoK0haSEZ0QBhBvBGIUYg1MFhULL/ZJAwj4d/ZL+C/44fISBG4PBgpv+NH/qQ0ABFD3hgHYBmb/GgbmFtIJ9P6VDc/5QOqc5hHwtPwvAED8TAZzGyEf2B6zJWcQeBMiF6sSJ/+x8E7xb/kq64jnAvrJ85TvWPX734fVMdBxz/beft438eXtoAHUBsge/y5dILUaSCrgLYsc1wy1EjESoQrzD5b1cQJ/90H2jwc8940AAgUSCkgM/g+4CWkfUhevDn4OBh+IEg0MGAWkAhr/pfkx7entC+vY6Bv+sQcsB8z2RPvk+enye/tZDFYHHQjxBHoUTxyzEBQjcSRNKWcOIw15Ep8bgweZEwEO1whVA/MLLQtl+EX+/P8Q9WD+ERKZHx0MbPYwB8UHxv/GFOcW9AmcIesnehXpDc4WQgcUBekGvv++DAYM5gNPCYQHoAivBbYDd/1tBjMM+++I5irhSuon4abSrsfr25nRHtllAkAEIxWUD64V7BDeD6MO0h4eJHcR1hfSFyMIqQYNAPPxD/Ce5ZXWhuZX6qTd1O748XQAxPuG9y3yt/2tC+MFPQTPFf4RZwwLDeIMSQsAAbUMOAebDjcOlPuaDuoSxwTqApsPegbb95j/UAIkCbEZRg0CItsknSwLG+oyMzSGI8YW3xclE+wmhSU1HxoW5P95CC70Ef0t+KzyYgeqDJwOsxO3I3k8PDeuNkA/5CEhGyYX8RlGGeoVyRrzKkck8ibaJLodeR3+MAAjxSM7KCUtvST/Hm0dTCXNLnItSCA0Fw4XzRVQEAQPkxPeC4gWiSYPJX8vMSFmGCgKof8EGMUb8h9JKY4xAz3HNd48oTGLK7Q5pDujJGMk3RlMDP0V/xWGAp/6uPy4DKMe+B+YIKcJJBWKHJYj3B8tIxEvQTPbJ94XEwhdBjn8HOzOA43v6uGJ24Pfeub94VzbfelW8VYHARtBIygj7R6UE2AXfhpXIn4fXyMYIjkdswyFDzoMPgWiA2YGewIQ/wcDo/peCsUEyBLsFJcU2hPXInUpTSJMIncZ7gyCBfcGVQ3IDZwNZA+dE1AczQaKIfYXhh8UC+EgVAw1ELoOvAv6FkIWpwYf/DD8OAUm/of9x/2i/DgVKxfEIhksrSaQI5koAzQwOHVARUUDOXM1FzSyIQIpbhyhC3gFERPxD4MH1Pfi6HPpjP9f/7X9Y+22Ar4HLRyyJOot1yZ0F9QXUxMZHoApdBJNDuYJEw4EFO8OmQ1SBw7/C/sM7fHx9u766zoCs/rV/uYdzkCjNq0tJzdHLts0LzByG7UXZyTQDSALSRNxG18PEBp7IHEixRh4Jnwr+ye0Jgo1By0vKYAvbCHaDWQY9PnR70zmQ/e+9pf6oQykC6cHxf8XCkEMl/yADr8Tlx5ADvUN7hZo/GgEtg/RCWUTLRg0B9D8NQRQCKoFigKW3K7vLfNI+nUBmxF5DYkNfBI7GekaIBPSFR4SgBE9CcP0VQfhBIca3BsHDZMGfhxJ/wH5HO/c9irtpOx+CA0LrhBYDDcPZhMiD8gNWCCiEVEXvyc9ImwZ9xRIBAED2QW+Bx0J1QsuFJgGmADJDF0JFwt7FV0DKAPSF1EJfCBnIo4bAyggMEwdQBlCEKMLqxvUHLwdeSLaB6EPmf6q7jQF8v6F+Ef3GvnV9dHrov1vAPUOJxThIvQkqzSlNTUsZiVRJjAvSy+3LqoggBWv/Gr17vhO7mX5o/Ep5pLk5vItANUJvAdyFywR1Rd7Fz8ZgQSOHsIaHxTsGRoqaSuAICIOYwIyAqIKkxVsHK0E3f43AKrvjASXAlQQ0R6sHyEnfxxCIB4l0CNUIOARww8FA58IZg9eEI4Wewo2GPoL2BMOJDsmpzIfNGs53UnnO4BBMkgqQtowXTchNyw7UzzlPaQyug/2FtoVqBTlDBYEufLgFrUThRHnCioECw4CDV0O5guT/zUMWA6ZAn8D+PlW7Db8EgJrCxoOgApEAZXxygWH/r77SxIuHBMQEgXCENkWzhl8ITUYzw6HEuAFpgMwB430Lv0sCIb9Awa0BKEGZA0VBGAIQhluEJ0RKhRqDZkYIh9+Gk0swyINJHwnmB9JCIELIQrhBf/+KfKy9CPxQ+/K7q/vK+u03njdqugW9b769AcSGtoS3BgAIIojgRKDFssMEBEDAzAZmxRhGqMMahS9DJv8GfYK+R/xFPMi5b4BQQsq/Hny8+UT6hTwbvxy5kHqMfjd6fn5MBdS/4kP2xUwH+sVtxYmCpH7oP3YAoX2agh79cvwXfuhBX8KZfuD96X29/zH/wsKNQ5oBRLyZuzr6tLmSPGSAkII0g+KIBI0fTZEMo8pqiUIK2EfJyvKKE4beQ5N/Pn/GANE53HiP+XV76vqmQIR+IEGjw+/H7ghsiCoG9cYcx+GN6Yj6hiNGeEl5CW1I6EdjRMTEmEDwgYiAeL8/fE+6DDgxei71Vfcy9YI8Dn0SfqMAkwFygRJ/rUAYgGR+wgDdf5u9Xz2iPP6+sny1/ow80zzVOoO6w30cPA89CcNwhAOEdcQiSkILVgmpRvDDIgB7P+n7R/xG+z/3lPg0eAcz33b6N9D824EsArq90D8hgwpD/UPuhSBFPoXGxeWGn8NOQalA1oE9w/eCeX/mRI2E9QE9wM7/Kv9pBGyBzsJMAz8BJQJjgAf+SDp3/p2A7X6jwnjCDQV4AyiDsIP2xrwJ6IZwA94HXkJfA9sBX7ur+4S/z38MfgI8sQAsAusEdgSbRQdDHAajBnPD68dAi+4LRgq9EHkTrVS309fWFpPeFDeT9lAHD4mJlwetAkzFG8DjfVs9qv/HQsP/uL77vtq7iX7YQ25BsYGawaDB10AWxT/Ccv6tQ/QCQkHLRFXCQocVBbELAgpSCtqLxUe6BO0IcQgQRO+IroULxrxDDf4VuKxDLkB2uen9G74PAew++v1DQJ2CG0gRR/5FYcUgBJ8H7sVhBpUIJcFnA/vFmAV+CAKIzsd1Ck+KjIvGzyiL7Ap3zSdN4EhFB/SFo8R7flZ9J78gAPw/J/v9vlZ/0X6fPfaC+kS6hxTGJwgIR2FHpQRERIrC70NwAnuFiMFfAYSDFIc0STsHAsUwh0GIUIMDPmuA6fnZe8B+Rj2QunC+er87uDS9+8StQj8GYYJgBQQHv8rtisZGjQfHA8qBpcQjQd69iP5M/rp7Sv97v4S9l8AdgbCDagOc/slCdcMTgPEHA8fnxqFGqwktSITF7wNIChWJCkSeQkjHjj9awT7GYYWZBU+ESMV7QeeHE0iGSGWKwkjuyhXLLsb/BqmC2UNqRER+t0FGRD6Ch78L92w+bL8Fgcx++AN9xaCBUkPuxLrErcf4QkOAMP/1wAAAP72xwQS9cTkL+tU7yr6qgSDCpkLwQ7LCdsF2AQkDpL7EwNECMX88gbICfEOJP7bE/cKCwer/8EXfhEEFG4Nvg62Ed4LjgwrEEUMbw36EK0pHyr+IQwjqSEKL1gmeR//HekdRBpsHn0ZfhK79PrwOf5e+szwmu4Z8832ve93//sVXRkGDbMdkAdwBtAUMg1WD8f1HvUU+Q7x3/6O+2b7SPf88Efuv/DH3l3kTeSK6FAFvxa1H9kcnCRUPT5AHzceNME8DzhhKtstCy33MZINnQHD+Q0A3/Bv9GQDQARcA7cA6RJXJoMcyxkSKgE3czN2MGYszxxqFqcITgosFn0WOhLLC/8XMCmHLpUq4y4lNodEcFcURLRDbk4+P843CTCBKBYZkBApGqAZyRgjF60QFgm7BFr32AoY+yb4t/OhCKAJig/pHisorTFeLroziEBdQWQ9H0MgJ78fghUaD9YNbR39E30J0AZvEZoQwiKlNwomLyKlLMQ95TOkKkAfvChROecmFSKGJuYOFRZlBNL50QPL/iECigohAp4K1BxnKHkm8S1kJn8y4ystORYmUSV4JfwYSRH8JAAGWv+a99IAMPLrA9v9A+wL+dwCtu6MBwsHjgkd/gAGcw2rDLAUr/oDDlMKthOzIE8WTixULS8PXgFnG3caJBTPHMAgayvDENP5tAyHC5oMOQ4hCJILLRhgBBMFwv9gAF/7+fkh+8oB+wGp9TTzBOU19tjrGOyBAKYDd/aH/lb5h+8m+dgKYv1L/lUIoATsD7sWuQx4FVYRgg0O9kryCv9J+gEEvgPW6D7pffhOCXb98+6L4pn1FPk89SDpyP3U/m0KRf6K/2nqCvfiDjEUDhEJHkYb/RI2GAsdZzJyHiMtSB40IWAbMhl0IfYxxx57Jm00GjR3JsAdlRj4HiIoUhxcHzwZQilFMzQmThi9FLsSNx2UE78qrxvPH+oeKRquC6IQIwA7BosAcwa6FDAdBCP3IDkjtyYgJ/QkYBjMG6AdrCQgB1oPUCEULmMiMCTcIZAU8BFQBpsIqf2WEBgQswrQ/kf9LQA1DN4UWAdYDsMLZvwuAev2ffpW9IfyFOyV3CTv3ejF64Tvj+dq8pb/J/+66mr51AEB8nn3QvkU+Yf2Ffy9/aQRKBO1+U0IQQ63BIwS6BUoC5IXAAeICEwBhfzNAiHukvmTAJD5sOwM5NHYf8ej2AzhJOsy7M73E/BR95r8LPa+4ajqc/Kk8MzkaOIy86j3Dfx4BLr6jPkJG7YOH/neA/wGWRBoCeb6OP6GBmETuRLpFsQTFBcFI9AWhBleGML2oP4v7hLuhuz3+cv4owK96R/0hRQfHXUrUiuGLZYdxR+OFnILJAYn/rYS/xelINod0Ch1GPMUyCaPGXYe3yUHMFs61jV6Nj0usx61GNgkRi1DK6ookjFKNmU1PzKfJAAZfRIABroDkwYVCKzzMO5B+FMO6xtaGFkKYh9eKUM13CIRJBsvWSujMi4anBUWMicrSTiAOIBTd0GBO39R8E+xTl9Dnj9UPzY06ClwLtwnHigaITQwoj6CM6MoZDFbKmAlUDSEMAosHzdiObIwkyQ1JIsGnRq8GNcDvguuB6D/KQU3EcAW9BVMKdYtFywwKBAdnB1NHCIkNxeIGhkjqyRjFfQbuyHOHxcS2h4pGM0gVhYfF4ISkxbSIXUadxfKGSUR+RR9A6wRkwp6BrgJrQyO6/n6vfhIBKn82udSAHQJrPQG93oTYQ4BDxAVnAj8ELkDyw6MDtYXgCJ1JKod0Ai+D2kWBgcPBXj8Uu9D/VDwB+Aw4O/hY9269Ybuy/TGAc0ONwzqFKgcUwweGJQNagUw/W0CMwDYFjcaSwJz+L/3iAjRCEQA9hhrJPApdRZ1HWURIBBtBekL9QiJE3YdDBiQGB8O2xPeF8EkJx4rICURfAnIE4sRciNlGT8WZAlFC0wdqS3kGI8RoCNWE+YceBW1HDokVSVjIqYzzD/tO/MzfiVHHjEe/SZ1I5Mg0SLwItAWFxtpIHYaxQrYAqQQrB2gJlEojC+8KIgx/jxjQixVhWO3Sx9EfUi8QgRChjrfLs4uTjMMNiAtVDadTsVN+UIVQ3NF1DqdJcQdaR2tGhUr8Bb2HaEVfyC9HBwyUTQaNf81iDKmMqQ0YzCfLsQr0ClyMQElqyMwHHQjPh8uJeIk9x2FJkImzSXJNQk4dkJFMacq9z71LB49xUSmQiUxaCIdJYkdPReeE+kj5ShRMhgrPzDIHjYdKSddNokjDBf0C3YX/iPfDG/9BvuW+f/uGvpR/hQQEQdE/l4WnBvOFfkVthrJEjcEfAzMDPQL/hZ+EnQWwwfJCqUSkxORGv4snR31HP4VJgCyBV33yvja7NHlntSF2LLgNfDm9Bz6lPvvCe4JbgiRDIEBc+9M/lr+MQKMFdEfLR30HPsmWyNEIQsQOxlSGtUY7AYO/Vv24eam563wW/IvDDYShgONAtkHJweIDSP1CwfrBh8VDiAaFaMLzxIXHdoUsBUM/8H/vANeDCoAgQ+jBbIQrwlX/xkJuw7HFQ0DG/nTBBX3G/qVAAb9kxUrFwUYZxZUFUkUSRKcFRUK0vEN633wxwHv/KP8kww7D40KFhm/JAgvsC27KTAsei6UMX0yUjKrLTMlZR8PHkcSoRTZD3sEQAxmCb8aaBU7E3UPnxkwLUwvfiaDIrs1yCvRFmQYZyQ6FCgbMBFUDGYWuRVhBGwhhQzLEI4FKRICEbsGExUCDBIISR8jHicrGiCZHQIrYiXzIL8u1C1TMaQlWCYeJ/4ifSvtNCIieCb2KFMqXzggLhor6i5aNm8rQiuJLDs8zDhlN0c5tTfnLhQuYSiSMWo3uR9yFgoXDxEZFvsOTxl1Ksw4wzKQT85IiT5lOEI57EMJR7JEOTTzM50hTidoFewrSy47JJcXhReBIVUcoB6ZCmoPKRU3FRUm6i2YLfg0rCGlNvc5ajSBIHMuPDGlGOkoiikhHpwmTCJ1HdgLtyKWIQohIAcNEjkYEhPyCKAGZw2NEaAS3imsJrkzqy3aNKcwlhQrLnw5W0WsOlg28DYxPtY2HjcRNqg5VT0qTfZEgD1ePJFC5EIaLIopox4gGa8cDieDHmsj0h5HKp0vVjY9KnEyUSh5EIAc9i9vLkI2XzDzJSMtHy/oLRgsgx9qJqMdlBs7EV4aAyMRGcEnozL7MF80DzSyJ3o1FzY9K3cywDbsJSs0SDinMSM7LDxzP5Y3UihLK9E0MCSMD6MRvh3RDtUKKA5QCoAcuiG/Ev4MRBjRHFgbgxSwHfoZSyeqMeUyGD7hJwkyXTfgL9UzfCZbKaEeXh0aG40U6APHBEz4o/VnAB0KxBMNFJYWkh41LvckpCGfKSor6SO8JAcb0SeIJHUhEyOnBRgDzA0R/+TvGfw/BXoTLwOF/nn85xSkBvEgah4cIQckTh0IIQIRdgejCJMSxvhW+tEBnQKt8zHwrvQm8F72hfDQCFQVxBLjHJUI2gWuHlcZqw7YIfApEhMaBh4HAwOCAskC9hMzKnosmjZiKtEx3C4+Ohwqty4BKLUmcibNJs8ZFCPmHCMMx/4B/RD9dACdAAztdfWN7bPfLfRbDlMKdw9EDwkDjB9xO2Y7MS/9Ohgwwyx5Kj0mAw0kATb7ZPzz/PXyL/ffCUr/O/2V/q4JZxIkHXEiHiJnLt9CNEozTURGIDxVJE8eKyExFCoUiSLUCX8XeyZyEyD93/bG9afqGvIX+LXz3QxmF9sGBxgKGQodCxMKD+0TFRW9IfEluxrjHKgTyg1iBMD69/u28H7za/bN6mDpDAMhDYb1+gP5DaoIxBAPGmYmhxL8JAIkRAdGCYED5P9R+YjxSewt3J3Y7/RR6wECWQOsDlocahr0J84uLiY6K/oXXiS/F1geXDE2Kkokki1pQSckzhRJCQwZkgVTBtgNWBBzDXwW0SAIEnwMvBLWHZEchR4tJuMjlxgSIGkTGRYLKeQq8zCpIdgwqhSdC0wKFwYWC7MJ0BMzBuMPAht0IdowxCLTGHYq0ipLK1EjaCR7GtEcxQfBBvD56PPdBxEOfwpFFt0W7hbrIywfjCOCNzJAbCoKL/pE7UNSQd8pIDCPJ8AZoxbTEIoJbgS4AJj2VA1L/AgJPgPMFHwluh3lIcQdkC78MpkyXiaTPugyOTeKK747QDOzJWgntBhGFEAJvAYHEa4LcB2vH84FugeJFikUvQcJAKwUxRXiCEgMYgiO8yT9BQ5r/Ib+ggTk/tEHpvcyAMYQYxF3GQsZExNuD8UTHhy2ApX/ivi725PcGOKo2/PVsd/D2FngGOei6ILaadrF4pfl3egx4uPY7u3A/Y/xwvtL+qz3PQ81AtgNmR0RFFUezS5KIYIdvQiIAVf5oBfkCZT20AaRCv4JZhRhEScMkfvB9skC5vII7br3/PYTAF74/PJU8er/rAMXEnsN8xzfF24e2BkSFSUD4AqPCfAN3A15HOcxASkAI0oSsR3GH6wiBSdqIpIYnhUdJcAz6zF/K0IIuxO3DDMIXBC/Hqchphq3H4obXQGxBykKNRRrIYsPWBDLEbsQBA3xFH8E2AobDdbyD/O4CTP/QhN7C08esA/bFrINZB5oIyIqbStgLhErUBtdI1ASCgQJByYFoQdKEp8UzyFtIHEkMx8XKCcryzfMMA8pjBzPHGAPqgn+EeQOzRi9Ggwa6yUcIwgmqTj2QtU8IFFYRjo3cSkqLc0CNRPIG6wSNzClDqMX4SKFHYEm/BUPFQ02aiq0HFkdpyRIKmsqIytuJcYmJzS2KxozFiXQIF4hrxxQHGwoPC4eHy8PdRgWGAEP1gzhEDcWEBTRDggdCCcEF/QWPhksBkUNVSNKGjAYdxU8GNAOSgM5FK4iYA5RBJQY+BC9E4gVTBCkFcYnEBuEI+UK1AUqCgwJbwv4EmYAhgbfA3v38Af49aMHvhNJGdUxtCzIMdlCKT6uMAIoPDQaMN4yayE5HasLORYdCnwdLRlZBzMcaRPeH70PIg0iHAIjtSx/MbEqDCvWMcYQKxLUCtkCXxGiHyMTDPt46+buT/lZ7hLq8N+y36fe/e3cAJDz5PXk8+r2OwLDCwkI6wPHA3oWQwooDOgiKRlJJQwx/S8WNnIdCTDsMgot0SNIHPYtTTE/JFonijPjI7oq9hihBJIIiBaWJUwryDXFKPwj5DV0K2MogjLHLJ0jjx9lLYkzCTSzHtUdJSrfHWojVRymGRMR7SBeGK8ejxttFFwlYiyaM45IKlvfSuVGzU0fSrRMZU9TNvI1Fjq1LXEQUSHcMPweHDDpLSU7rC45N3o7ei8+PVE71zy3K6sxszWJNR447j0yRY5AUTmCMSowFjrYKQAluz0gN941iDf3P+I/i0lrOp5DvUJiOUEzTiGSElERDCDSGkgL2xr8/r8EJAW+B78aZR1jFGUmfiMCJnAnQkB3O7pN0DzrNVBGzDB2QaUxHTiJNDEodzxrOLdDnDpNMi4eXxKLHNAcmjNQOEpCekYrTmtPhmJIYuliYVaSUzVCLDf3OCxFUTi4OSgyNiJ1IwMs3jKzJ0AuiCVqKiUpZjnhSAM861rFUVhSIkgpRo5LOkRhQ3ktfTGBIh4nzRu0Go8Y6iZwHOUrbjHjUdtFE02bRUVHQzPGKwY+QzrbLREtby0kNDEwACnQI7URCCB7J/EcrBxkGAMWfiDQMyUb+iOmK80vfijUPnI64i3jK1wj+SQEHpUoSCL3JOcuCjCZLRg6hUFLUCZH0zpAOEIhwx6eKI4d1SlaJcMdExyPF3QSGRC+DrIUaSUPKvEfyx/5HM0WgyrBGSMggTNHH/U4oyhKMAItEC3MLYwoPzlwHvQlGCcRJcYerSeHMZoduxIMFiQnkiRwJcIyeiDnLdUoTEMURvBDWD92LCo78DfDJs8dSA0I/RAVYBkuBBwMwQY5C8YjoiUuE0IS2gvcJfskDRw8JPwnyS6LIr8ehxzLG2ApmCduINgdGxN0BPINehOSG4UHzATOD8sbbhNlEXQH+BEgGcEd8yKdF2MWqR3WIC0ckCHMMKkh4CPyFen9xRTTEGkOahsPGoUZnCBRJ8Aq8S9iOic3ujwxOCw34jpsJv4dGSDFIy8osCiwLtot4StALJYhqhZxHT4M0APt/xcEBRD5CkYVBRQQJ8cipiSNLIYtFT6IJ6QdcSyQIRcekRaLLNouoTJxNUgw/C1TO29NJEJASx5IIixfJ9McGBr4Caf8gvt9BKwKPxR5FNkOAw6CH4wJyP63AWEWQQhQAiv+iOy8AOn2F/oaAHMMfiICIJwbBx2HEr0Yb/4v+9kTpQc2Hb8Q9BhkLaIWUizBLy0pyTeXJsEdJyiMFtkH9PcKBpQS1hrDLU4scykAFyYiyCatGy4efxDMEokaeBVGIowoAx5tDAYUDhRLHqEPUhDDBxQMUf+Q9jnzi/m4DWYR7P6GCuYOURrQF8kgwQtY+PENlgH+AJfo2vZ5A7cC5ABnDdEXGB36HxsgQBITFDQQKPwDBYn+OvpY70gMSP7e7qH8ZwLsCAQKHf1wAjQCfgSxEosOrQUCGlwZ+yF5FUcbav/xC2wGm/2L8YXdnuao84UOTwU7DyAfJB6zIN8VBQ0YCZoMuACy/BrsHvwI9g4CfPmhBov8FgyiEcIGRwt5BzgDO/20CQ4PQSL8HTAw+SXGHgwX0SRkKFwgBCuvNbAwBiT1N20sbzmIUm9AeCbWIEUgUiYJIeceeCiELe0VOBfPNL4sgjF7OQk2Yz3wPq9A+zQGNeEv+TCNJlYg0xtMJNQxDydFIVoglhDRFpEVyiKFMRI3wjnjM/FMS0e+OKwwaS2jL1ozSzHeJVQdEyEbKmMl+yLmG0gZ/h0KHBUUKBl1Gr0XhwUqAlkFVgfpD3AO3hNPHdsaVDDaS5k9gj0OMqsexR+yHd40tSV6IR4hoiWmLIssUCglLLArvhz4GxkjaiCEJqAaEhrSEloI/ifxHowQCAcLEQEV/RkDGckaph0IIY8hkB3zD1sROhJJEaEdgR+YEO8GBhvCDfj5mwH4DN0G+P8tA10HPAeyDPcYyBv3JKoouSInJNUhrCNVFyAViRreKGcRnQs3BCUZEgRfBuEDIAiCAmEB5QkcBKoTRhL4HVwljCfwJNsT6h3gMhwrVjaTMkU9ZyqPL140FSn/JKI0fzS3L7EpTiw2LGUkSCA/HX4tFRuAHFcqIB1JHLgSQRFJJ6IJKhfEF7kTyxzoFKQOARu7Ju0pcRuZE6ErMytiKfkn8CjpM98pNyGlJ6ghxS8vLLkd2yRVDgkKNwcUKG0r7CM6G3U1LDJ4NcQs4y1qMzZGJFXETClKkkjmSzZFkERDOl8fjxZMCesVTh17/XUPcRZkIrAYCyOSFHMVqAvMER8HYAecIdsgvhXsFYQmvS6PRVRARDN+JrUh0DenJ8MmVhY9Ec0QuAI9CNz/MQmeC1gZJxZXHsAkyAOVFaQYIB6EGqMPUiksHgMsOjP7JlEtSCLhKRIzICkII0ImTipwJuoZTBy3I0k63Dt8RVI+BzVWPeZEVUXdNh0ldEC7ODMqvhkfFOYNwgnEE/sbehylIrQb9wzLBX7/1PM78Tz4cf/6AjH8Mf0dA5YbThI5D/wUbQlqDm0BNg/dCGYQeQPjCz8ZZRM5BjIB5wtTCkcDtAO0GUYfPxOODgwU2AvvAvP4yAdKFmoS9RSFB8cKKRe0DVEI8Q7XEJwbmBt5HOwiSit+C4YRjv7J/C0BpvJc+t/4rP2B/aX1lxQy+2AGDwFRCAkSBxXeHJUkIyNUGnEoKCroK+siMBvdJBkn/TL/INQdCAdp+r4OwgSdCa0NjgfOE0gRehfDHTUIhQyvC6kQCx+3FeQaLyzEJeAasiMNJgwoSCoUH/codCrmTDw45CLBFJAfWARg+eQE/wD/9RDtgfLT7ij5/gB5E0ARoRNsCbobqCTHK9NKEUZiNIZF4jlUOVU7TDY0PkM3JSeVHQkW7xRhAzL0LPp9CTcPeA6t9DQH2hn2GgEd/CtNMxg1KirxKiko7iWoGqsVyBTxHjQgQxPoHaYhBSjMH0QqOCTkITkq+iR9IAYbOhilFS0yqCD+GCQh6hT2I6EkgiPRKp4mdwx5IuQe7iB4JwAkfieHGfIfRA0OJjMVhRTfD1ENmAVcDUQUoQZNA1oKZRBoKWggECxCHq8SFhyOJ74i5xpCG4YR2AziFVEOnR9WEHEQdg8EE2EOmATkD9UOsQ6CAfIarSaREbsGjPmm/5oJxQCr9jj65/9qBbYAdg0FGHkY5xWDFxoZShBsBz7+jQsOEcoS2QktA88HpwduBFUF2gOzBf/4OQX3GHYSTxS3CtgKNAYZDnjzR/SLCfcI0QsCBa0SNQX9AZ4IEBxzFwIThxe0IucseB8TLXg05iX4HywXQyIaJYQYWh6FEMYHKQAeBYn6NggnB5gHyv3GBx8HeQvf/wAOfwqY7gr0zwPwCvsC/g2hENAVkheKFrIGYhLvE5Yc6g6B+mMRdApv/uQcBgkJB98BGxepIf0fxiCqKlcZqR4BLcEiOzfZNywqhzK6Q8lF7jvFNjQ4ECKgCoMQAxXJCdAOHxGzGkkkURVaHI4YcyJ1EYcMYhmDJv4lyCwNN5sxASaLKEE5TDDHI4YeHyo8JaIc3wd6/14YgwqOAT/7EAen+HX4+AOg/8kAd/mOADgSbhLKG/QkMCqrG0AceB6uGzwfSg1jEcgK4wwaHI4WFA+UEB0UoQxUGLgUCxEi/PMNUxi9HdUVvRtOD1AbZAz2/oET2ROPLd8doiKbK/oXqBz+DKcORA3/EB8FZgIgAncOGxBOCDsSTRbQFbkSjQ5KHnsfPhbcG+IbZRgNJeUtCTdxMpE3uTLqJBAgIh2YHz8gyCHJGPEFpv0g//TqB/QADBIC7xJTIdwOcihyKF43tEEDO8E5QDjYKdIuexlzHq0aTRaADGcfWhHIF44TrhpSC8MFVgMzGmARLA9/EV0J/xpfIEgVrRwUFTQQWw7bEg4VkB5BIs8oRyYZNi82bDI9J/g/LjOGKA4uoDRcHtEfYCZyJwoTnCHDIFMaBRoeE1oZ+SLtJLUNxw8bCfQNyh3nE1oS+iKdF+EoHCQhHicnOyfvKCYn2jOpQWg3ejbdNf80qDeqJnkrpCfFI/IZ8Bj3ERAX8hrVG1sW0gwMFbUQtg7uDc4VzSLEFyobnBRQIH4XsSIiLPMmVCDUGqwZryOhK4MLFQcOIOIbsDWGJp4cbS9PLnwrSy7XNk8nxiH6IykQCgo+Ab8EvPifCPYStBmsHKQsDDPDMNo7MzZ7Ox49MDkRS3YqvDYNRz8r2CzTJb4ucjYIHJQmOiLeIh8UZA53GNoO2RGcGucWMSKEI18WqxC7JoMgxSPHGSoodSSAIjAeKRmQHKclyRvaISQcnxuCIrM3XziHOXg7HTCyMH0kNhz5IwokeCzGHMAlaCKbApIIwQUcDMHwpv0x9GL5vQzdGboegyzaLnYqKitTMbky5il0NO0h9zNpOncvBSiGGw8lAC3CJtIwaDVqM/kudTBYKp0dYxg/OvksKyQ/GkkkXyFHJmYeixz9FrgVGBkLJcYcBwhQBSIL1RIlA28T8hj9CwMHUftV/1kFChQRFkcR/QmR9Cf7QPVj9dsUxxEMFkwGexYvIRkn8CqyJp0achawJvJHczOILeonshbKIH4hYx6HFhYalx3YJmsjCyQIGAcR8hWcG0gbKx6uGPIVDRfiImkfnirHJWctSjXaSHs82T86MhYumSD2IOchSQpJ/fcHzgg2E4MKQhLxEvohfyhUH6IiVR3iLONGFjNrNYkqDTXiL7UjTSupHe4TAwJu9Nv/XgpHEGsW/h1eEpQrozRiNhFIeks7OxYym0FgOlpFT0aqOmwzvDQvNBM0cTKOKqwbxxrNF90f/R/tLWUwYDIQNOUsnxmlNYs3tDlSOYc3OjPtPUgrKBcELeEj5jJvM8gy0iwYNN80DjjfH4kckhhyCvkjEjDoKewhoxWeKYEf6Rf5J6UioSKIGhMIzg2xA9ED5wEgAK0Tyg4hACUHMhJaJkQkbS3tLFkthDeiNE1FLixaIXsXPiXrH9MrRh09EHASQRcXJBIcjyK0HcoVUg95CkIMtPxC/JH7sAU6/Kn6ZAjz/xwAN+6v84bs3Org4yb7be5O8mXsbPF0+ATx4vE77nEBZwEw8C7wFvbY7PPrtNcP8Snlju5e57zqufFkAtX7nQn1+N/q4eYz8XD3JvXu7wvpyOMB+wT88/ZJ+C0N+QJoCpUQBhEsFEH/uu4F+gsAJvU+/9X3xgVIA8z3RP1K8cDpOPMr+hIAgwG9CWUGTAbpCc/7bPnKE/YBugr0BzANoQqg+pwFWANDBe8R4RFTHgMcYhJH+Knnhfqi+94HERpzH/YbawVHB9gJnQFZCusbfBa6El0hRCGYHH4QRxgSHGsazREOC/8GOhA/AND3jAUbBcgJBhu6FGoaHAz/DH4Y+BevGCgYWg1KEiUUKAqxLZAqrjfeN/tDK0+DWClUxlmGW8E1BTLwK7Qg5CE5JuASJxEHDfH/EhC0FjcbPw+FEGQQBgX7CisSJg2dHX8U/yjqLX9FQkMnNHgllRyLKY8W2RRgExwQZRLnGL8YYw6YE0ob3iNRIm8SXRlzGH8R/xqqHNEdzxNiDHoNmQ9HHpMPaSs9HWYcrwokB4UU4A8hIcseohOnFkERXwrUDtoOgBbTJC4UlAYV+wP7R+tg5ozvWPkQ5Jj17fiW80Xs3uoK54XqC+Mu8B0AKQGPCL7/1xJEC1wPMBIjEAYQj/kF+Lv+wvVAArb90une8Cv0cgeZAQ8C8P/8ASn6W/XbBb30UAfnDCAIkR2dGOIgpjGHKScllCRDHysboQkiD4QUrg+OCxQYNhzRAGn/gP5iETYcBxGGLIUidCPPEucZJCbNEbQVAQqbDeImMyG3LZscSiXILykh6SnHD2suyyJ+EyQMlQrzC4sKBAZ+82fzCvyVBuAMwAM2F+YJ5hIIFVEZZiHvH1khUSH/KrsugxyDE3kGfgzvCzUVfRbfCG8Wvx0WJ+oVqgy6FrwMwwBLD7ANgg6pE+8UzAxgBT0P4Rm5IaAiUCJ8FYEYjBtVEjATFxx+ED8eORfiMj8q5yWVInEW/hiKGjAryxo7KIco+R4cEnYYrhKnCUANnhIxC2UerhZ5Ei8elRDQEeUWIhdFIwojZRQCF64ajBFlFs4moyM0M3Qwght4GyQijhrhE3MR/B2+Jm0ctBdqG6kidCsnG3IupidMJo8e/yozHRgIdgTsCOEHaBnJEiAQ6w6THC0laiHHKk0iXAemFasdahttJ2IU4BDhEwUPBx5zJt0nlSnAI58f+A3VEqQVohvMC4AJZhMDGiAOwwiGC7Mefw/0EGQZVSJYFnco+yQGHQAZ7SHdMrwhPS3UIcQRVCTLKTsa7xM3HRAgdiYgIlEh5DpQLG0sMSjhJlceOB2bDgUaZCGqBXQUuRleIzMatDHDIQsZVRbiBwkIZBWKF3Ac1BQEGfAclBlpGBIafRCWH64QLxnOD8EKbxUnHbUOZQ8CGqkSEQ8jDicRGgxpF1wOcRZm+/gCQv5DB2QaePsA++gAkxApC0kWQge6A94EtQDbCvv6YAe9Ff8HewoBEiQSuxD4DSIHuRFPHxUOhhI8DfoIfAlDBhkGLw0pEgMWIRJLG5seNBgTG9km4yiXL7wu7iVwKGQhQicdKZAwFSoEJlsnGzd9Jv0kax76MfstRCXyGM00cjFiNCYv6CiYKP4JDSpzJpIoShapDDofChSdFFQqLRN9C40HqguEFOkIEgjIF2kGfxENCeYRhBoIA5cI7hCTEG8Ldw9iF6gT6wwkCMwLXv8A9Hz7af1u/LT9+v/A9z7yVQQRBCEcnRqMGYUXXSAXJvcchRE0IGEozxpUGcolZxvLHSAl8C7uG3Q2yCJ4JD4bmwr6FXEaoRVvK7AkmxT3GqgVAwoXCuQY0iJ6EQ8V0iH9Fp4YVSKsBuMLJhq+EXUHugYyBigNVAvRDycHVBazF1MXTQuJDjMhUQ/EBAASTR6UB/4EZAUn6ebq5Py+BMH4VwiLFxsY/hOHC5oKVg/1GDoLthRqGZ4UPAuzDPYL2w14D7sVwQ7jGTcgCh/wEsn8lRkYC+AGSvWT+lTxaPbi8XjvNOtU6aDsTusm8BruK/Bi60voofCf7tgA2QQwArYIMe+o4O3m1vj/+9zxyA7xAV4T/voZ9FAFKw26CyT27voa+jH3fRMI83oNLAdHBB8AtAbu/S/4NRHMIKQfEfuWCtYH8wX9GvERggqzCV8i8BUCAusXTfrY+Df3ffuH+wnskupV90b6zAZkDBoKpAj0/2b/YwzN/FQLfgRM/Sz3+gNQGAIJHQIEASj/ufZd/MgJswlSDgMO3hF0BiYL+hLkAiz5yP0SCMYUIxoDH0gSux8oFCIUXAweC1IPqBC6E70NnhhDE4cjjRq8DXkSWw2/CscOxR3tDyIPXhBSAY0GGx2XJLohqhJ8GL4MgANdCtgI8BSrCA8DZQzJDdYRPhSkAJX+tAr09UD5ivnY4x7knfZj+CYBiQe984vx7/nF87X5yPr+973+mvzqApEBWQ/PFCoYBPpU8xnyqOxr/kEUrggjEy8L/wwLAw0Alu337PDxsfuwAIMHKvcv90XuwONK61fu+vxg9znsaPPR8d7o5fb46S32VvIu92YFJewx7Jz5uATRCvEB5/qfBdP95QI6AT8D4/nVA10AJfvxAYz/a/2H89/9XxTwBoX/B/t9+8cQaAWxAkYLxAIN+rLvue6H7R3zVvH017bd9eWh4njlaPNz7OUAGPON7gD2NQL79L3n3QJGAGH7wPTi8VX8o+9w347u2esy66Tkm/EF8isEpgNg/Ef/8/21AU31KvU6AXf7jQREBuruwuqA9Pz7MOyy7j/uOPCI9gD6+/aA+nr4R+fRAsHuJ+y9/4f9ofca/ZQCI/KH+KP1Mfmw+IUAiv/eCo4amRmIIDMoeRnQFVUSDg0JI/kc/R9yEvYO2wwOHb0XFB6CGRYWDRaSEXEXpxKFCboUbxA2Aw8KmwVCCdEGJwZ8EPMXjRY2BZISRAddCQwfFReREUUTnRo+FXAVvx0rCtEJnvK2+QgDfPoQAP0K3/91+q/mmeO66pDzne9+7H7zvvzD9P7nSuL0/LT74fqcAlL5suwdBZj/wvpE+4D0Tw0fFaEIRgvlBqgDWxdZEWwIDQ6rD7ER/RDQE6oVHwuAC4EGQgexCI0QCQ0VE+wsFCK3FYoRaAiJFvUPMw36FYIe/hPKGfke2BCgEzoPqhHgGdckDxS3HB4dbCJKItohLSvqFVofLhqcHDsYGxM8A5EMpg7FCmMRVRInGGoD3hF7HI0eTRnNKqQo/xnrG4QhxyM2EN0QIw4zEHggQxYFIWULTAcLCJ0DURzGFtwWvBEO/gYRgxcJCML/5BsyJS0VdhJoGMAkGBrFGKQM+BJTBfAEDAMbDV0NngGj/Dr7A//w+Xr6EwLPB8UBABIXA7zzOgzM9lL8Zf1K/iL5QAIaCngFdf4lBZUKRvtRBKYKJwGvBEcBOQ4REOACrgYAHNwIUvkX9qoDafn1+AUDwAIa+0UDwv1ODHAHYgWRA7L2jgJ+/4gAMwVN/Un6rvi8/db5yvyu/zMEyAgJA9QAsQX4+vcDhv99Eb8Ongpd+PkGUuof/fUH1hNK+uP9mP3nByH57uzT3Trs9gNt9/sJVPxS/Tzr9AHGCHQCVQW+CIQCxQDWC4r6AwH/CL79hvbjBh/5Off/9A3iEOsr6KfzxOo3//72gOV43kPpq+MmADAHavg/AaIGBfr4+LsA7/aqASH4ovi45UD+RgNG9TL/IgpQ/Fr+T/ma7TvsKfsR8335MAi7+Jv4s/lY8mb74foH/ov57wE6/tr8HALlBlkNjxBTFykUowfJEjAP3vz9/BH/ifZq/jwLpQg57wjrh+yP68H84AIr8pv3IPwnCL4MfRFIAsP74gp59aH6eP5n/EYLwgmMDyIHwv6w/eb+l/FCA7f8XQBh/UUDbwSYBCf/KvYUBKoElg0MBHgOr/zN9eMAyw4f/L/5mP1j33fjjO7o5yX7mfr68wL1IAUvBiEFAwI++TTzHAK7B8wH/PZNAaL5kfzKC6AEGg1nEjcOXwydFREEEABAABH/RPU4/EsJJgbzC7QMRAK8EBP+CBXMAxcQ3QWdCdEPIAl/Dwr9Hv2q//X/DAi6CC7+RgibD8IBDP+8+LTzv/UAAwwVWAhmCj4XEQoWEnwAH/RBC70Er/S67d7xWglgCnwCPAmY+FYFxQHDDoINzgPZAokG+vkt8jPwmvbL87Xz4flhAvH2ngNKCDf6f/ka7In/qf3fCK/05O42+tsGCBFJDNkLJgY+72n7ZBHfGLkRlAKF+g==\" type=\"audio/wav\" />\n",
       "                    Your browser does not support the audio element.\n",
       "                </audio>\n",
       "              "
      ],
      "text/plain": [
       "<IPython.lib.display.Audio object>"
      ]
     },
     "execution_count": 12,
     "metadata": {},
     "output_type": "execute_result"
    }
   ],
   "source": [
    "ipd.Audio(sample_au, rate=32000)"
   ]
  },
  {
   "cell_type": "code",
   "execution_count": null,
   "id": "154b42db-600f-4a70-9379-c75073160963",
   "metadata": {},
   "outputs": [],
   "source": [
    "# sample_au, target_au = train_dataset[0]\n",
    "sample_au, target_au = train_dataset[35706]\n",
    "\n",
    "plt.figure(figsize=(20,10))\n",
    "spec = mel_spec(torch.from_numpy(sample_au)[None,...])\n",
    "plt.imshow(spec[0])\n",
    "plt.show()"
   ]
  },
  {
   "cell_type": "code",
   "execution_count": null,
   "id": "5b49eee7-a044-4e73-9d82-64b2a8e3d1bc",
   "metadata": {},
   "outputs": [],
   "source": [
    "ipd.Audio(sample_au, rate=32000)"
   ]
  },
  {
   "cell_type": "code",
   "execution_count": null,
   "id": "90bda8ae-fc63-48ea-b6e4-5203df37337e",
   "metadata": {},
   "outputs": [],
   "source": [
    "check_labels = torch.stack([train_dataset_full[idx][1] for idx in range(990,990+30)])"
   ]
  },
  {
   "cell_type": "code",
   "execution_count": null,
   "id": "25dd128a-7e72-4455-90d7-523b2169a59f",
   "metadata": {},
   "outputs": [],
   "source": [
    "torch.where(check_labels > 0)[1]"
   ]
  },
  {
   "cell_type": "code",
   "execution_count": null,
   "id": "e5c4b14a-10a9-4fe4-95f0-c989b7db2ae5",
   "metadata": {},
   "outputs": [],
   "source": [
    "train_dataset_full.df.iloc[120]"
   ]
  },
  {
   "cell_type": "code",
   "execution_count": null,
   "id": "e6014eb3-8006-4e44-86ab-bd635c1afcf1",
   "metadata": {},
   "outputs": [],
   "source": [
    "train_dataset_full.sampleidx_2_dfidx[991]"
   ]
  },
  {
   "cell_type": "code",
   "execution_count": null,
   "id": "681bb303-d39c-4c05-8b96-0959332838ca",
   "metadata": {},
   "outputs": [],
   "source": [
    "original_sample = librosa.load(\"/home/vova/data/exps/birdclef_2024/birdclef_2024/train_audio/asbfly/XC134896.ogg\", sr=32000)[0]"
   ]
  },
  {
   "cell_type": "code",
   "execution_count": null,
   "id": "21977b64-2b23-49df-9e4b-28f4f888970e",
   "metadata": {},
   "outputs": [],
   "source": [
    "librosa.util.normalize(original_sample[:32000*5])"
   ]
  },
  {
   "cell_type": "code",
   "execution_count": null,
   "id": "8a162c8e-96bd-4036-b407-1f2044c3be65",
   "metadata": {},
   "outputs": [],
   "source": [
    "full_sample_au, full_target_au, dfidx, start, end = train_dataset_full[1]"
   ]
  },
  {
   "cell_type": "code",
   "execution_count": null,
   "id": "0ea43356-2cd1-4280-aa9d-79173d91f012",
   "metadata": {},
   "outputs": [],
   "source": [
    "np.allclose(full_sample_au, librosa.util.normalize(original_sample[32000*5:32000*10]))"
   ]
  },
  {
   "cell_type": "code",
   "execution_count": null,
   "id": "71559658-d821-4c18-8806-fe6887c3d6a8",
   "metadata": {},
   "outputs": [],
   "source": [
    "ipd.Audio(sample_au_aug, rate=32000)"
   ]
  },
  {
   "cell_type": "code",
   "execution_count": null,
   "id": "a0695998-6785-4ca7-a71c-eb1d9b44d899",
   "metadata": {},
   "outputs": [],
   "source": [
    "target_au_aug"
   ]
  },
  {
   "cell_type": "code",
   "execution_count": null,
   "id": "368b8cbc-21b3-40ae-a5af-d88e8926c35c",
   "metadata": {},
   "outputs": [],
   "source": [
    "maybe_dupl1 = librosa.util.normalize(librosa.load(\n",
    "    \"/home/vova/data/exps/birdclef_2024/birdclef_2022/train_audio/brant/XC294370.ogg\", sr=32000\n",
    ")[0])\n",
    "maybe_dupl2 = librosa.util.normalize(librosa.load(\n",
    "    \"/home/vova/data/exps/birdclef_2024/birdclef_2022/train_audio/gadwal/XC294370.ogg\", sr=32000\n",
    ")[0])"
   ]
  },
  {
   "cell_type": "code",
   "execution_count": null,
   "id": "707aa13d-7756-4608-87a0-2cfab536dffc",
   "metadata": {},
   "outputs": [],
   "source": [
    "plt.figure(figsize=(20,10))\n",
    "plt.imshow(mel_spec(torch.from_numpy(maybe_dupl1)[None,...])[0])\n",
    "plt.show()\n",
    "\n",
    "plt.figure(figsize=(20,10))\n",
    "plt.imshow(mel_spec(torch.from_numpy(maybe_dupl2)[None,...])[0])\n",
    "plt.show()"
   ]
  },
  {
   "cell_type": "code",
   "execution_count": null,
   "id": "27bbdb81-e553-41bd-96ee-aab6a0b25bb7",
   "metadata": {},
   "outputs": [],
   "source": [
    "# ipd.Audio(sample_au, rate=32_000)"
   ]
  },
  {
   "cell_type": "code",
   "execution_count": null,
   "id": "36c529e1-0d2f-4f59-adf2-5d8a99e9e3ee",
   "metadata": {},
   "outputs": [],
   "source": [
    "ipd.Audio(sample_au_aug, rate=32_000)"
   ]
  },
  {
   "cell_type": "code",
   "execution_count": null,
   "id": "b2216899-5774-4f45-8574-30bbc0f4bc8a",
   "metadata": {},
   "outputs": [],
   "source": [
    "np.abs(sample_au_aug).max()"
   ]
  },
  {
   "cell_type": "code",
   "execution_count": null,
   "id": "f69dd9dd-d47a-4564-9866-d317c4622eeb",
   "metadata": {},
   "outputs": [],
   "source": [
    "torch.unique(target_au_aug), torch.sum(target_au_aug)"
   ]
  },
  {
   "cell_type": "code",
   "execution_count": null,
   "id": "6561280f-9fb7-4871-bf81-040d626afec3",
   "metadata": {},
   "outputs": [],
   "source": [
    "plt.figure(figsize=(10,10))\n",
    "plt.imshow(my_spec(torch.from_numpy(sample_au_aug)[None,:])[0])\n",
    "plt.show();"
   ]
  },
  {
   "cell_type": "code",
   "execution_count": null,
   "id": "f2298b14-4381-4cb8-9186-2f16ca5bdacb",
   "metadata": {},
   "outputs": [],
   "source": [
    "target_au.max()"
   ]
  },
  {
   "cell_type": "code",
   "execution_count": null,
   "id": "f9c6a87d-c2e0-4fa6-808e-b4d56873c3e0",
   "metadata": {},
   "outputs": [],
   "source": [
    "torch.allclose(target_au, target_au_aug)"
   ]
  },
  {
   "cell_type": "code",
   "execution_count": null,
   "id": "259302ee-3f22-4d42-857f-0f3541ed2e4a",
   "metadata": {},
   "outputs": [],
   "source": [
    "np.abs(sample_au - sample_au_aug).max()"
   ]
  },
  {
   "cell_type": "code",
   "execution_count": null,
   "id": "c3c96bfe-670a-4c2a-a699-b0e4b7b2d96e",
   "metadata": {},
   "outputs": [],
   "source": [
    "plt.plot(sample_au)"
   ]
  },
  {
   "cell_type": "code",
   "execution_count": null,
   "id": "fe74aaf3-669e-49d1-ad5f-524067f3459d",
   "metadata": {},
   "outputs": [],
   "source": [
    "plt.plot(sample_au_aug)"
   ]
  },
  {
   "cell_type": "code",
   "execution_count": null,
   "id": "d81ad423-8e40-4aee-b07c-4a3b54368da4",
   "metadata": {},
   "outputs": [],
   "source": [
    "ipd.Audio(sample_au, rate=32000)"
   ]
  },
  {
   "cell_type": "code",
   "execution_count": null,
   "id": "e51d6464-5bfa-4b1c-aff7-b7611fd99fca",
   "metadata": {},
   "outputs": [],
   "source": [
    "ipd.Audio(sample_au_aug, rate=32000)"
   ]
  },
  {
   "cell_type": "code",
   "execution_count": null,
   "id": "6bc3adcd-291f-48e6-bbd8-f55e90214b12",
   "metadata": {},
   "outputs": [],
   "source": [
    "np.allclose(sample_au, sample_feat)"
   ]
  },
  {
   "cell_type": "code",
   "execution_count": null,
   "id": "d5df7e9f-c4fc-4089-a23a-a560601745e2",
   "metadata": {},
   "outputs": [],
   "source": [
    "# train_dataset = WaveDataset(\n",
    "#     df=df,\n",
    "#     root=\"/home/vova/data/exps/BirdCLEF_2023/birdclef_2023/train_audio/\",\n",
    "#     label_str2int_mapping_path=\"/home/vova/data/exps/BirdCLEF_2023/birdclef_2023/bird2int_2023.json\",\n",
    "#     precompute=False,\n",
    "#     n_cores=32,\n",
    "#     debug=True,\n",
    "#     do_mixup=False,\n",
    "#     # mixup_params={\"prob\": 0.5, \"alpha\": None},\n",
    "#     segment_len=5.0,\n",
    "#     late_normalize=True,\n",
    "#     sec_target_col=None\n",
    "# )\n",
    "\n",
    "# train_dataset_extended = WaveDataset(\n",
    "#     df=df,\n",
    "#     root=\"/home/vova/data/exps/BirdCLEF_2023/birdclef_2023/train_audio/\",\n",
    "#     label_str2int_mapping_path=\"/home/vova/data/exps/BirdCLEF_2023/birdclef_2023/bird2int_2023.json\",\n",
    "#     precompute=True,\n",
    "#     n_cores=32,\n",
    "#     debug=False,\n",
    "#     do_mixup=True,\n",
    "#     mixup_params={\"prob\": 0.5, \"alpha\": None},\n",
    "#     segment_len=5.0,\n",
    "#     late_normalize=True,\n",
    "#     add_df_paths=[\n",
    "#         \"/home/vova/data/exps/BirdCLEF_2023/train_metadata_extended_2020_2022_no2023_scored.csv\"\n",
    "#     ],\n",
    "#     sampler_col=\"sw_col\"\n",
    "# )"
   ]
  },
  {
   "cell_type": "code",
   "execution_count": null,
   "id": "b2bcb61b-27a4-433a-b45f-1fa219c1f0f6",
   "metadata": {},
   "outputs": [],
   "source": []
  },
  {
   "cell_type": "code",
   "execution_count": null,
   "id": "5a77110e-4564-4319-a5f5-dc24fe1c8da8",
   "metadata": {},
   "outputs": [],
   "source": [
    "train_dataset[11][1].sum()"
   ]
  },
  {
   "cell_type": "code",
   "execution_count": null,
   "id": "243cf640-d0fc-4c2d-b01b-f50b375892a0",
   "metadata": {},
   "outputs": [],
   "source": [
    "train_dataset.df[train_dataset.df.secondary_labels.apply(len) > 1]"
   ]
  },
  {
   "cell_type": "code",
   "execution_count": null,
   "id": "1230fdb1-d301-4d76-8e33-855796cdb52b",
   "metadata": {},
   "outputs": [],
   "source": [
    "train_dataset_extended.df[]"
   ]
  },
  {
   "cell_type": "code",
   "execution_count": null,
   "id": "6bb0da1c-c63a-46cd-8946-7c1bbf2b75c2",
   "metadata": {},
   "outputs": [],
   "source": [
    "set(train_dataset_extended.df[\"sw_col\"]) - set(load_json(\"/home/vova/data/exps/BirdCLEF_2023/birdclef_2023/scored_birds.json\"))"
   ]
  },
  {
   "cell_type": "code",
   "execution_count": null,
   "id": "efcc32f5-2a6e-4e25-8453-1bba592c865a",
   "metadata": {},
   "outputs": [],
   "source": [
    "train_dataset_extended.df[\"filename_with_root\"].iloc[-1]"
   ]
  },
  {
   "cell_type": "code",
   "execution_count": null,
   "id": "6f7780ff-e5b1-41e4-849e-1c005e59ac97",
   "metadata": {},
   "outputs": [],
   "source": [
    "sample_au, sample_label = train_dataset[0]\n",
    "sample_au = torch.from_numpy(sample_au)[None,:]"
   ]
  },
  {
   "cell_type": "code",
   "execution_count": null,
   "id": "1e1728e1-862d-4557-9b91-e7e14d543161",
   "metadata": {},
   "outputs": [],
   "source": [
    "sample_au_spec = model.forward(sample_au, return_spec_feature=True)"
   ]
  },
  {
   "cell_type": "code",
   "execution_count": null,
   "id": "1317942d-026e-4e44-b134-4277c5d4f44d",
   "metadata": {},
   "outputs": [],
   "source": [
    "plt.imshow(sample_au_spec[0].numpy())"
   ]
  },
  {
   "cell_type": "code",
   "execution_count": null,
   "id": "5ce19c3a-32a9-4676-8b18-e3417def29ac",
   "metadata": {},
   "outputs": [],
   "source": [
    "# ipd.Audio(sample_au, rate=32_000)"
   ]
  },
  {
   "cell_type": "code",
   "execution_count": null,
   "id": "748930d6-3111-45ae-ae89-adb2dd177e7f",
   "metadata": {},
   "outputs": [],
   "source": [
    "aug_block = RandomFiltering(\n",
    "    min_db=-20,\n",
    "    is_wave=True,\n",
    "    normalize_wave=True\n",
    ")"
   ]
  },
  {
   "cell_type": "code",
   "execution_count": null,
   "id": "e8e8c049-b499-40e2-a9db-dd47d780aaac",
   "metadata": {},
   "outputs": [],
   "source": [
    "auged_sample_au = aug_block(sample_au)"
   ]
  },
  {
   "cell_type": "code",
   "execution_count": null,
   "id": "f1cbaafc-1d79-44b8-990a-e22d605d9467",
   "metadata": {},
   "outputs": [],
   "source": [
    "auged_sample_au_spec = model.forward(auged_sample_au, return_spec_feature=True)"
   ]
  },
  {
   "cell_type": "code",
   "execution_count": null,
   "id": "b179dc44-b23c-4347-830c-b9d8b377bc04",
   "metadata": {},
   "outputs": [],
   "source": [
    "plt.imshow(auged_sample_au_spec[0].numpy())"
   ]
  },
  {
   "cell_type": "code",
   "execution_count": null,
   "id": "23a1059a-8056-4472-91ae-8aafbbe1bd36",
   "metadata": {},
   "outputs": [],
   "source": [
    "plt.imshow(auged_sample_au_spec[0].numpy() - sample_au_spec[0].numpy())"
   ]
  },
  {
   "cell_type": "code",
   "execution_count": null,
   "id": "da3ed744-0836-4f08-a429-2b691e67d130",
   "metadata": {},
   "outputs": [],
   "source": [
    "ipd.Audio(auged_sample_au, rate=32_000)"
   ]
  },
  {
   "cell_type": "code",
   "execution_count": null,
   "id": "aaa949a3-2ad7-49f8-a63d-bc467fb26047",
   "metadata": {},
   "outputs": [],
   "source": [
    "valid_dataset = WaveAllFileDataset(\n",
    "    df=df,\n",
    "    root=\"/home/vova/data/exps/BirdCLEF_2023/birdclef_2023/train_audio/\",\n",
    "    label_str2int_mapping_path=\"/home/vova/data/exps/BirdCLEF_2023/birdclef_2023/bird2int_2023.json\",\n",
    "    precompute=True,\n",
    "    n_cores=32,\n",
    "    debug=True,\n",
    "    segment_len=5,\n",
    "    lookback=2.5,\n",
    "    lookahead=2.5,\n",
    "    late_normalize=True,\n",
    "    sample_id=None\n",
    ")"
   ]
  },
  {
   "cell_type": "code",
   "execution_count": null,
   "id": "6a45fee7-f840-4afc-9e71-4d82b4ce1df6",
   "metadata": {},
   "outputs": [],
   "source": [
    "sample_au, sample_label, sample_df_id, sample_start, sample_end_s = valid_dataset[0]"
   ]
  },
  {
   "cell_type": "code",
   "execution_count": null,
   "id": "f781a468-126c-4630-bc31-f63e4f0ee953",
   "metadata": {},
   "outputs": [],
   "source": [
    "len(sample_au) / 32_000"
   ]
  },
  {
   "cell_type": "code",
   "execution_count": null,
   "id": "69489c17-411c-47c4-8183-30dd52b731ed",
   "metadata": {},
   "outputs": [],
   "source": [
    "sample_au"
   ]
  },
  {
   "cell_type": "markdown",
   "id": "bd23c978-b31b-4f78-bed9-b75f7802359d",
   "metadata": {},
   "source": [
    "# Sounscapes"
   ]
  },
  {
   "cell_type": "code",
   "execution_count": null,
   "id": "0277dc4e-354a-47ec-9291-276de393fec0",
   "metadata": {},
   "outputs": [],
   "source": [
    "un_ss = glob(\"/home/vova/data/exps/birdclef_2024/birdclef_2024/unlabeled_soundscapes/*.ogg\")"
   ]
  },
  {
   "cell_type": "code",
   "execution_count": null,
   "id": "c49457af-ffad-4362-9d04-35d59e03c08b",
   "metadata": {},
   "outputs": [],
   "source": [
    "pseudo = pd.read_csv(\"../pseudo/v1/positive_filtered_07.csv\", converters={\"all_labels\": eval})"
   ]
  },
  {
   "cell_type": "code",
   "execution_count": null,
   "id": "c53d1c86-a53e-4ba8-8dfb-f52103fffb13",
   "metadata": {},
   "outputs": [],
   "source": [
    "pseudo"
   ]
  },
  {
   "cell_type": "code",
   "execution_count": null,
   "id": "f93e23b0-a76e-4daa-a8a0-79cbb410b98f",
   "metadata": {
    "scrolled": true
   },
   "outputs": [],
   "source": [
    "un_ss"
   ]
  },
  {
   "cell_type": "code",
   "execution_count": null,
   "id": "dbbdde50-81e2-4c2c-80c0-67d43cecd8b3",
   "metadata": {},
   "outputs": [],
   "source": [
    "pseudo[\"sample_id\"] = pseudo[\"row_id\"].apply(lambda x: x.split(\"_\")[0])"
   ]
  },
  {
   "cell_type": "code",
   "execution_count": null,
   "id": "c83cd6ae-9968-4052-8547-0b00626cc478",
   "metadata": {},
   "outputs": [],
   "source": [
    "pseudo"
   ]
  },
  {
   "cell_type": "code",
   "execution_count": null,
   "id": "d6287cb1-f4e9-42ac-8597-c8391f37cc08",
   "metadata": {},
   "outputs": [],
   "source": [
    "pseudo[pseudo[\"sample_id\"] == \"100238396\"]"
   ]
  },
  {
   "cell_type": "code",
   "execution_count": null,
   "id": "fbf54b49-2442-4d88-87de-6ca26ad6289f",
   "metadata": {},
   "outputs": [],
   "source": [
    "pseudo_samples"
   ]
  },
  {
   "cell_type": "code",
   "execution_count": null,
   "id": "afc93076-a3a5-41e6-820c-0059988c85a9",
   "metadata": {},
   "outputs": [],
   "source": [
    "df_idx = 6143"
   ]
  },
  {
   "cell_type": "code",
   "execution_count": null,
   "id": "a1bd01fb-131e-4120-8ccd-2e5fb63b6949",
   "metadata": {},
   "outputs": [],
   "source": [
    "sample_idx, end_second = pseudo[\"row_id\"].iloc[df_idx].split(\"_\")\n",
    "\n",
    "sample, _ = librosa.load(\n",
    "    # un_ss[500], \n",
    "    f'/home/vova/data/exps/birdclef_2024/birdclef_2024/unlabeled_soundscapes/{sample_idx}.ogg',\n",
    "    sr=None\n",
    ")\n",
    "# sample = librosa.util.normalize(sample)"
   ]
  },
  {
   "cell_type": "code",
   "execution_count": null,
   "id": "ebf23c18-f1cd-407e-9c81-6ec759eaf100",
   "metadata": {},
   "outputs": [],
   "source": [
    "sample_slice = sample[32000*(int(end_second) - 5):32000*int(end_second)]\n",
    "ipd.Audio(sample_slice, rate=32000)"
   ]
  },
  {
   "cell_type": "code",
   "execution_count": null,
   "id": "eebf125d-9e51-4a69-95ae-28b051d6df17",
   "metadata": {},
   "outputs": [],
   "source": [
    "plt.figure(figsize=(20,10))\n",
    "plt.imshow(mel_spec(torch.from_numpy(sample_slice)[None,...])[0])\n",
    "plt.show()"
   ]
  },
  {
   "cell_type": "markdown",
   "id": "0fea89d4-1bf5-4274-9c8d-3f25574af87a",
   "metadata": {},
   "source": [
    "# Compare librosa and torchaudio"
   ]
  },
  {
   "cell_type": "code",
   "execution_count": null,
   "id": "979ec514-984d-469c-a574-6ce3e78bc01a",
   "metadata": {},
   "outputs": [],
   "source": [
    "librosa_loaded = librosa.load(\"/home/vova/data/exps/birdclef_2024/birdclef_2024/train_audio/asbfly/XC453302.ogg\", sr=32000)[0]"
   ]
  },
  {
   "cell_type": "code",
   "execution_count": null,
   "id": "df0bee7e-2944-4009-9a0d-b876313243cf",
   "metadata": {},
   "outputs": [],
   "source": [
    "torchaudio_loaded, torchaudio_sr = torchaudio.load(\"/home/vova/data/exps/birdclef_2024/birdclef_2024/train_audio/asbfly/XC453302.ogg\")\n",
    "torchaudio_loaded = Resample(orig_freq=torchaudio_sr, new_freq=16000)(torchaudio_loaded)[0]"
   ]
  },
  {
   "cell_type": "code",
   "execution_count": null,
   "id": "bfffd648-df72-4d6a-a76b-ac142483fe7c",
   "metadata": {},
   "outputs": [],
   "source": [
    "torchaudio_loaded.shape"
   ]
  },
  {
   "cell_type": "code",
   "execution_count": null,
   "id": "4d3c7347-db3e-4f1b-ab2d-cb50c7c3d4dc",
   "metadata": {},
   "outputs": [],
   "source": [
    "librosa_loaded.shape"
   ]
  },
  {
   "cell_type": "code",
   "execution_count": null,
   "id": "ac90c02a-ebf4-426d-b1ad-a5c2435808b9",
   "metadata": {},
   "outputs": [],
   "source": [
    "len(librosa_loaded) / 32000"
   ]
  },
  {
   "cell_type": "code",
   "execution_count": null,
   "id": "34598856-deba-4c1d-8d70-1733a707fece",
   "metadata": {},
   "outputs": [],
   "source": [
    "len(torchaudio_loaded) / 32000"
   ]
  },
  {
   "cell_type": "code",
   "execution_count": null,
   "id": "226b55cf-dd02-4656-9fa1-01f2132261a2",
   "metadata": {},
   "outputs": [],
   "source": [
    "np.abs(torchaudio_loaded[len(torchaudio_loaded) - len(librosa_loaded):] - librosa_loaded).max()"
   ]
  },
  {
   "cell_type": "code",
   "execution_count": null,
   "id": "6720c168-d385-49b1-bf67-d0cc3eeacc6f",
   "metadata": {},
   "outputs": [],
   "source": [
    "np.abs(torchaudio_loaded[:len(librosa_loaded)] - librosa_loaded).max()"
   ]
  },
  {
   "cell_type": "code",
   "execution_count": null,
   "id": "3c45ee64-966a-4776-bba6-7cffa717e4f2",
   "metadata": {},
   "outputs": [],
   "source": [
    "np.allclose(torchaudio_loaded[:len(librosa_loaded)], librosa_loaded)"
   ]
  },
  {
   "cell_type": "code",
   "execution_count": null,
   "id": "54c3f3f1-1a24-462a-9b52-ff175172a267",
   "metadata": {},
   "outputs": [],
   "source": [
    "len(librosa_loaded) / 32000"
   ]
  },
  {
   "cell_type": "code",
   "execution_count": null,
   "id": "19f6203b-05f3-4f6a-a127-1d52f37fb23c",
   "metadata": {},
   "outputs": [],
   "source": [
    "len(torchaudio_loaded) / 32000"
   ]
  },
  {
   "cell_type": "markdown",
   "id": "bab41236-5e5d-4036-8986-82544850a425",
   "metadata": {},
   "source": [
    "# Spectogram"
   ]
  },
  {
   "cell_type": "code",
   "execution_count": null,
   "id": "eb6f5cd4-fc30-4e35-925b-13bbef6e0940",
   "metadata": {},
   "outputs": [],
   "source": [
    "test_pred = pd.read_csv(\"submission.csv\")"
   ]
  },
  {
   "cell_type": "code",
   "execution_count": null,
   "id": "c7dcc765-85c1-4d47-be95-3194e0e81b50",
   "metadata": {},
   "outputs": [],
   "source": [
    "np.sort(test_pred.iloc[:,1:].values.flatten())[-20:]"
   ]
  },
  {
   "cell_type": "code",
   "execution_count": null,
   "id": "62005372-3a28-4683-b1ed-2cda4f4602ef",
   "metadata": {},
   "outputs": [],
   "source": [
    "np.where(test_pred.iloc[:,1:].max(axis=1) > 0.9)"
   ]
  },
  {
   "cell_type": "code",
   "execution_count": null,
   "id": "44e98467-e86c-4c95-9911-2aa556c561d0",
   "metadata": {},
   "outputs": [],
   "source": [
    "test_pred.iloc[65]"
   ]
  },
  {
   "cell_type": "code",
   "execution_count": null,
   "id": "bb1d4773-658c-4fd2-b38f-e68d29b80298",
   "metadata": {},
   "outputs": [],
   "source": [
    "test_audio, test_sr = librosa.load(\"/home/vova/data/exps/BirdCLEF_2023/birdclef_2023/test_soundscapes/soundscape_29201.ogg\", sr=None)\n",
    "test_audio = librosa.util.normalize(test_audio)"
   ]
  },
  {
   "cell_type": "code",
   "execution_count": null,
   "id": "f6c3b8bd-e134-4e1b-8444-8f58c474590e",
   "metadata": {},
   "outputs": [],
   "source": [
    "test_sr"
   ]
  },
  {
   "cell_type": "code",
   "execution_count": null,
   "id": "ccf8c7d1-bc81-4df0-aef6-154f281e5182",
   "metadata": {},
   "outputs": [],
   "source": [
    "ipd.Audio(\n",
    "    test_audio[test_sr*0:test_sr*5],\n",
    "    rate=test_sr\n",
    ")"
   ]
  },
  {
   "cell_type": "code",
   "execution_count": null,
   "id": "18e6dc5a-0315-44b0-9a0b-8f38c3da5156",
   "metadata": {},
   "outputs": [],
   "source": [
    "test_sr"
   ]
  },
  {
   "cell_type": "code",
   "execution_count": null,
   "id": "5a53b625-d8ac-45cd-ad7f-7b175330a32a",
   "metadata": {},
   "outputs": [],
   "source": [
    "test_pred.iloc[65].iloc[1:].sort_values()"
   ]
  },
  {
   "cell_type": "code",
   "execution_count": null,
   "id": "0bce2f6a-fbae-4474-938c-3a94fe114832",
   "metadata": {},
   "outputs": [],
   "source": [
    "mel_spec_paramms={\n",
    "    \"sample_rate\": 32000,\n",
    "    \"n_mels\": 128,\n",
    "    \"f_min\": 20,\n",
    "    \"n_fft\": 2048,\n",
    "    \"hop_length\": 512,\n",
    "    \"normalized\": True,\n",
    "}\n",
    "mel_spec = nn.Sequential(\n",
    "    TraceableMelspec(**mel_spec_paramms, quantizable=False),\n",
    "    AmplitudeToDB(top_db=80.0),\n",
    "    NormalizeMelSpec(exportable=True),\n",
    ")\n",
    "\n",
    "# leaf_spec = {\n",
    "#     \"sample_rate\": 32000,\n",
    "#     \"n_filters\": 128,\n",
    "#     # \"window_stride\": 15\n",
    "# }\n",
    "\n",
    "# leaf_complex = nn.Sequential(\n",
    "#     frontend.Leaf(**leaf_spec, onnx_export=True, compression_fn=None),\n",
    "#     AmplitudeToDB(top_db=80.0),\n",
    "#     NormalizeMelSpec(exportable=True),\n",
    "# )\n",
    "\n",
    "# leaf_noncomplex = nn.Sequential(\n",
    "#     frontend.Leaf(**leaf_spec, onnx_export=True),\n",
    "#     NormalizeMelSpec(exportable=True),\n",
    "# )"
   ]
  },
  {
   "cell_type": "code",
   "execution_count": null,
   "id": "96bef539-d4b3-4440-a18a-02a511152ca5",
   "metadata": {},
   "outputs": [],
   "source": [
    "spec = mel_spec(torch.from_numpy(librosa.util.normalize(test_audio[\n",
    "    test_sr*0:\n",
    "    test_sr*5\n",
    "]))[None,:])\n",
    "spec = torch.cat([spec,spec,spec])\n",
    "\n",
    "# leaf_1 = leaf_complex(torch.from_numpy(librosa.util.normalize(test_audio[\n",
    "#     test_sr*0:\n",
    "#     test_sr*5\n",
    "# ]))[None,:])\n",
    "# leaf_2 = leaf_noncomplex(torch.from_numpy(librosa.util.normalize(test_audio[\n",
    "#     test_sr*0:\n",
    "#     test_sr*5\n",
    "# ]))[None,:])"
   ]
  },
  {
   "cell_type": "code",
   "execution_count": null,
   "id": "3fe39f43-296f-40e5-9d0d-be76a7a39790",
   "metadata": {},
   "outputs": [],
   "source": [
    "class CustomMasking(nn.Module):\n",
    "    def __init__(\n",
    "        self,\n",
    "        mask_max_length: int,\n",
    "        mask_max_masks: int,\n",
    "        p=1.0,\n",
    "        inplace=True\n",
    "    ):\n",
    "        super().__init__()\n",
    "        assert isinstance(mask_max_masks, int) and mask_max_masks > 0 \n",
    "        self.mask_max_masks = mask_max_masks\n",
    "        self.mask_max_length = mask_max_length\n",
    "        self.mask_module = None\n",
    "        self.p = p\n",
    "        self.inplace = inplace\n",
    "    \n",
    "    def forward(self, x):\n",
    "        if not self.inplace:\n",
    "            output = x.clone()\n",
    "        for i in range(x.shape[0]):\n",
    "            if np.random.binomial(n=1, p=self.p):\n",
    "                n_applies = np.random.randint(low=1, high=self.mask_max_masks+1)\n",
    "                print(f\"Applying {n_applies} times\")\n",
    "                for _ in range(n_applies):\n",
    "                    if self.inplace:\n",
    "                        x[i:i+1] = self.mask_module(x[i:i+1])\n",
    "                    else:\n",
    "                        output[i:i+1] = self.mask_module(output[i:i+1])\n",
    "        if self.inplace:\n",
    "            return x\n",
    "        else: \n",
    "            return output\n",
    "        \n",
    "class CustomTimeMasking(CustomMasking):\n",
    "    def __init__(\n",
    "        self,\n",
    "        mask_max_length: int,\n",
    "        mask_max_masks: int,\n",
    "        p=1.0,\n",
    "        inplace=True\n",
    "    ):\n",
    "        super().__init__(\n",
    "            mask_max_length=mask_max_length,\n",
    "            mask_max_masks=mask_max_masks,\n",
    "            p=p,\n",
    "            inplace=inplace\n",
    "        )\n",
    "        self.mask_module = TimeMasking(\n",
    "            time_mask_param=mask_max_length\n",
    "        )\n",
    "        \n",
    "class CustomFreqMasking(CustomMasking):\n",
    "    def __init__(\n",
    "        self,\n",
    "        mask_max_length: int,\n",
    "        mask_max_masks: int,\n",
    "        p=1.0,\n",
    "        inplace=True\n",
    "    ):\n",
    "        super().__init__(\n",
    "            mask_max_length=mask_max_length,\n",
    "            mask_max_masks=mask_max_masks,\n",
    "            p=p,\n",
    "            inplace=inplace\n",
    "        )\n",
    "        self.mask_module = FrequencyMasking(\n",
    "            freq_mask_param=mask_max_length\n",
    "        )"
   ]
  },
  {
   "cell_type": "code",
   "execution_count": null,
   "id": "26c98b44-3f22-4d38-848d-0d44b975f605",
   "metadata": {},
   "outputs": [],
   "source": [
    "np.random.randint(low=1, high=1+1)"
   ]
  },
  {
   "cell_type": "code",
   "execution_count": null,
   "id": "7ce27b2a-ebaf-4e04-862c-310bed88dccc",
   "metadata": {},
   "outputs": [],
   "source": [
    "# time_masking = CustomTimeMasking(\n",
    "#     mask_max_length=20,\n",
    "#     mask_max_masks=3,\n",
    "#     p=0.5,\n",
    "#     inplace=True\n",
    "# )\n",
    "# freq_masking = CustomFreqMasking(\n",
    "#     mask_max_length=10,\n",
    "#     mask_max_masks=3,\n",
    "#     p=0.5,\n",
    "#     inplace=True\n",
    "# )"
   ]
  },
  {
   "cell_type": "code",
   "execution_count": null,
   "id": "ac663992-ef76-4a08-a534-0b1f8aecdbf4",
   "metadata": {},
   "outputs": [],
   "source": [
    "both_masking = nn.Sequential(\n",
    "    CustomTimeMasking(\n",
    "        mask_max_length=20,\n",
    "        mask_max_masks=3,\n",
    "        p=0.3,\n",
    "        inplace=True\n",
    "    ),\n",
    "    CustomFreqMasking(\n",
    "        mask_max_length=10,\n",
    "        mask_max_masks=3,\n",
    "        p=0.3,\n",
    "        inplace=True\n",
    "    )\n",
    ")"
   ]
  },
  {
   "cell_type": "code",
   "execution_count": null,
   "id": "309003a5-1e6e-44be-828a-d1652d3947a3",
   "metadata": {},
   "outputs": [],
   "source": [
    "# time_masked = time_masking(spec)\n",
    "# freq_masked = freq_masking(spec)\n",
    "\n",
    "both_masked = both_masking(spec)"
   ]
  },
  {
   "cell_type": "code",
   "execution_count": null,
   "id": "c4c2d097-e6b6-4ad3-a1ba-cf327daa119e",
   "metadata": {},
   "outputs": [],
   "source": [
    "swin = timm.create_model(\n",
    "    \"swinv2_tiny_window8_256\", \n",
    "    in_chans=1, \n",
    "    # features_only=True,\n",
    "    dropout_rate=0.2,\n",
    "    num_classes=20\n",
    ")\n",
    "# swin.head.drop.p = 0.4\n",
    "# swin.head = nn.Identity()"
   ]
  },
  {
   "cell_type": "code",
   "execution_count": null,
   "id": "2b7cfc15-609f-4466-a784-0933681554de",
   "metadata": {},
   "outputs": [],
   "source": [
    "swin.head"
   ]
  },
  {
   "cell_type": "code",
   "execution_count": null,
   "id": "b4ed3f8c-29b9-476c-82f6-dab7f0f83ce7",
   "metadata": {},
   "outputs": [],
   "source": [
    "swin.train();"
   ]
  },
  {
   "cell_type": "code",
   "execution_count": null,
   "id": "a18de5db-0f19-4565-819e-94592e5440b1",
   "metadata": {},
   "outputs": [],
   "source": [
    "swin.head.drop.p = 0.4"
   ]
  },
  {
   "cell_type": "code",
   "execution_count": null,
   "id": "536d4639-c233-421b-95b0-e56cd00c716f",
   "metadata": {
    "tags": []
   },
   "outputs": [],
   "source": [
    "swin(spec[:,None,:,:])[-1]"
   ]
  },
  {
   "cell_type": "code",
   "execution_count": null,
   "id": "449260f8-5c80-4a96-b202-c7a7fa0b9c07",
   "metadata": {},
   "outputs": [],
   "source": []
  },
  {
   "cell_type": "code",
   "execution_count": null,
   "id": "74bbd2b1-20db-48cf-b5c4-87943829042b",
   "metadata": {
    "tags": []
   },
   "outputs": [],
   "source": [
    "torch.abs(leaf_1- leaf_2).max()"
   ]
  },
  {
   "cell_type": "code",
   "execution_count": null,
   "id": "4b3b4efb-fb87-4f9c-8684-7bff07bfd96e",
   "metadata": {},
   "outputs": [],
   "source": [
    "time_masked = time_masking(spec[0])\n",
    "freq_masked = freq_masking(spec[0])"
   ]
  },
  {
   "cell_type": "code",
   "execution_count": null,
   "id": "90ace1b5-093a-4611-802c-33be117a1c82",
   "metadata": {},
   "outputs": [],
   "source": [
    "# time_masked = time_masking(spec)\n",
    "# freq_masked = freq_masking(spec)\n",
    "\n",
    "plt.figure(figsize=(10,10))\n",
    "plt.imshow(spec[0].detach().cpu().numpy())\n",
    "plt.show();\n",
    "\n",
    "plt.figure(figsize=(10,10))\n",
    "plt.imshow(spec[1].detach().cpu().numpy())\n",
    "plt.show();\n",
    "\n",
    "plt.figure(figsize=(10,10))\n",
    "plt.imshow(spec[2].detach().cpu().numpy())\n",
    "plt.show();\n",
    "\n",
    "# plt.figure(figsize=(10,10))\n",
    "# plt.imshow(both_masked[0].detach().cpu().numpy())\n",
    "# plt.show();\n",
    "\n",
    "# plt.figure(figsize=(10,10))\n",
    "# plt.imshow(both_masked[1].detach().cpu().numpy())\n",
    "# plt.show();\n",
    "\n",
    "# plt.figure(figsize=(10,10))\n",
    "# plt.imshow(both_masked[2].detach().cpu().numpy())\n",
    "# plt.show();\n",
    "\n",
    "# plt.figure(figsize=(10,10))\n",
    "# plt.imshow(freq_masked[0].detach().cpu().numpy())\n",
    "# plt.show();\n",
    "\n",
    "# plt.figure(figsize=(10,10))\n",
    "# plt.imshow(freq_masked[1].detach().cpu().numpy())\n",
    "# plt.show();\n",
    "\n",
    "# plt.figure(figsize=(10,10))\n",
    "# plt.imshow(freq_masked[2].detach().cpu().numpy())\n",
    "# plt.show();\n",
    "\n",
    "# plt.figure(figsize=(10,10))\n",
    "# plt.imshow(freq_masked[0].detach().cpu().numpy())\n",
    "# plt.show();"
   ]
  },
  {
   "cell_type": "code",
   "execution_count": null,
   "id": "b50dcf00-83a1-4553-bbb4-edf8e2a07432",
   "metadata": {},
   "outputs": [],
   "source": [
    "test_audio, test_sr = librosa.load(\"/home/vova/data/exps/BirdCLEF_2023/birdclef_2023/train_audio/pygbat1/XC755905.ogg\", sr=None)\n",
    "test_audio = librosa.util.normalize(test_audio)"
   ]
  },
  {
   "cell_type": "code",
   "execution_count": null,
   "id": "066b3629-b9a3-4862-a1e8-fc666b8d192d",
   "metadata": {},
   "outputs": [],
   "source": [
    "test_sr"
   ]
  },
  {
   "cell_type": "code",
   "execution_count": null,
   "id": "3e13932d-279c-4231-a995-b74faae28119",
   "metadata": {},
   "outputs": [],
   "source": [
    "spec = my_spec(torch.from_numpy(librosa.util.normalize(test_audio))[None,:])\n",
    "# cqt_spec = cqt(torch.from_numpy(sample_au)[None,:])"
   ]
  },
  {
   "cell_type": "code",
   "execution_count": null,
   "id": "478166a0-35f9-4734-920e-1607238faf76",
   "metadata": {},
   "outputs": [],
   "source": [
    "plt.figure(figsize=(20,20))\n",
    "plt.imshow(spec[0])\n",
    "plt.show();\n",
    "# plt.imshow(cqt_spec[0])\n",
    "# plt.show();"
   ]
  },
  {
   "cell_type": "code",
   "execution_count": null,
   "id": "5f36c98f-cf60-46f2-8f58-0c48b90edd08",
   "metadata": {},
   "outputs": [],
   "source": [
    "spec.shape, cqt_spec.shape"
   ]
  },
  {
   "cell_type": "code",
   "execution_count": null,
   "id": "d5124902-a477-4b63-b8c9-79004f28450e",
   "metadata": {},
   "outputs": [],
   "source": [
    "spec.max(), spec.min()"
   ]
  },
  {
   "cell_type": "code",
   "execution_count": null,
   "id": "aecc6ec7-9014-4944-b143-fe54af06de0d",
   "metadata": {},
   "outputs": [],
   "source": [
    "cqt_spec.max(), cqt_spec.min()"
   ]
  },
  {
   "cell_type": "markdown",
   "id": "286878dc-1911-42f4-ba10-072bb605c13e",
   "metadata": {},
   "source": [
    "# Tune Scheduler"
   ]
  },
  {
   "cell_type": "code",
   "execution_count": null,
   "id": "86cba492-3f16-4f2f-a588-af4d19080c6e",
   "metadata": {},
   "outputs": [],
   "source": [
    "from torch.optim.lr_scheduler import CosineAnnealingLR, CosineAnnealingWarmRestarts, ReduceLROnPlateau, OneCycleLR"
   ]
  },
  {
   "cell_type": "code",
   "execution_count": null,
   "id": "6db67300-795b-4063-9f26-d0f1a553d33e",
   "metadata": {},
   "outputs": [],
   "source": [
    "optimizer = optim.SGD([\n",
    "          {'params': param_groups[0], 'lr': CFG.lr, 'weight_decay': CFG.weight_decay},\n",
    "          {'params': param_groups[1], 'lr': 2*CFG.lr, 'weight_decay': 0},\n",
    "          {'params': param_groups[2], 'lr': 10*CFG.lr, 'weight_decay': CFG.weight_decay},\n",
    "          {'params': param_groups[3], 'lr': 20*CFG.lr, 'weight_decay': 0},\n",
    "      ], lr=CFG.lr, momentum=0.9, weight_decay=CFG.weight_decay, nesterov=CFG.nesterov)"
   ]
  },
  {
   "cell_type": "code",
   "execution_count": null,
   "id": "4463de0e-5d09-4ac9-9781-9ac07ec04c42",
   "metadata": {},
   "outputs": [],
   "source": [
    "def visualise_lr_scheduling(lr_scheduler_from_opt, n_steps, verbose=True, lr=1e-3):\n",
    "    # t_opt = torch.optim.SGD([torch.tensor(1)], lr=lr)\n",
    "    t_opt = torch.optim.SGD([\n",
    "        {'params': torch.tensor(1), 'lr': lr},\n",
    "        {'params': torch.tensor(1), 'lr': lr/20}\n",
    "    ])\n",
    "    t_sched = lr_scheduler_from_opt(t_opt)\n",
    "    lrs = []\n",
    "    for i in range(n_steps):\n",
    "        t_opt.step()\n",
    "        lrs.append(t_sched.get_lr()[1])\n",
    "        t_sched.step()\n",
    "        \n",
    "    if verbose:\n",
    "        plt.title(\"Learning Rate Schedule\")\n",
    "        plt.xlabel(\"Iteration\")\n",
    "        plt.ylabel(\"Learning Rate\")\n",
    "        plt.plot(lrs)\n",
    "        plt.show()\n",
    "        \n",
    "    print(f\"Min LR : {min(lrs)}. Max LR: {max(lrs)}\")\n",
    "    return lrs"
   ]
  },
  {
   "cell_type": "code",
   "execution_count": null,
   "id": "0ec6023b-58b1-4f68-82cc-2b582f376242",
   "metadata": {},
   "outputs": [],
   "source": [
    "visualise_lr_scheduling(\n",
    "    lr_scheduler_from_opt=lambda opt: CosineAnnealingLR(\n",
    "        optimizer=opt, \n",
    "        T_max=100,\n",
    "        # T_mult=1,\n",
    "        eta_min=1e-6, \n",
    "        last_epoch=-1,\n",
    "        verbose=True\n",
    "    ),\n",
    "    n_steps=100,\n",
    "    lr=1e-4\n",
    ");"
   ]
  },
  {
   "cell_type": "markdown",
   "id": "17f24f01-ff58-43f0-a5df-1d2d500aaecf",
   "metadata": {},
   "source": [
    "# Model"
   ]
  },
  {
   "cell_type": "code",
   "execution_count": null,
   "id": "7a33c8d6-e7d1-4527-a385-30b2f1c2e861",
   "metadata": {},
   "outputs": [],
   "source": []
  },
  {
   "cell_type": "code",
   "execution_count": null,
   "id": "8005146a-f4d7-4ec5-982a-22e3b7e24d33",
   "metadata": {},
   "outputs": [],
   "source": [
    "timm.list_models(\"tf_efficientnetv2*\")"
   ]
  },
  {
   "cell_type": "code",
   "execution_count": null,
   "id": "3c87c931-1004-440e-9200-167e2ce4702b",
   "metadata": {},
   "outputs": [],
   "source": [
    "backbone_model = timm.create_model(\"efficientformerv2_s2.snap_dist_in1k\", features_only=True)"
   ]
  },
  {
   "cell_type": "code",
   "execution_count": null,
   "id": "6ad0f8e7-1a34-4cb4-8e81-ec3ce3f3682a",
   "metadata": {
    "tags": []
   },
   "outputs": [],
   "source": [
    "backbone_model"
   ]
  },
  {
   "cell_type": "code",
   "execution_count": null,
   "id": "eb602c85-90ea-4594-8d10-0a0dc5f3cb64",
   "metadata": {},
   "outputs": [],
   "source": [
    "TRAIN_PERIOD = 5.0\n",
    "\n",
    "# model_config = dict(\n",
    "#     backbone=\"eca_nfnet_l0\",\n",
    "#     add_backbone_config={\n",
    "#         \"drop_path_rate\": 0.2\n",
    "#     },\n",
    "#     mel_spec_paramms={\n",
    "#         \"sample_rate\": 32000,\n",
    "#         \"n_mels\": 128,\n",
    "#         \"f_min\": 20,\n",
    "#         \"n_fft\": 2048,\n",
    "#         \"hop_length\": 512,\n",
    "#         \"normalized\": True,\n",
    "#     },\n",
    "#     head_config={\n",
    "#         \"p\": 0.5,\n",
    "#         \"num_class\": 264,\n",
    "#         \"train_period\": TRAIN_PERIOD,\n",
    "#         \"infer_period\": TRAIN_PERIOD,\n",
    "#     },\n",
    "#     exportable=True,\n",
    "#     # deep_supervision_steps=3\n",
    "# )\n",
    "model_config = dict(\n",
    "    backbone=\"maxvit_rmlp_pico_rw_256.sw_in1k\",\n",
    "    mel_spec_paramms={\n",
    "        \"sample_rate\": 32000,\n",
    "        \"n_mels\": 256,\n",
    "        \"f_min\": 20,\n",
    "        \"n_fft\": 2048,\n",
    "        \"hop_length\": 512,\n",
    "        \"normalized\": True,\n",
    "    },\n",
    "    spec_resize=(256,256),\n",
    "    # spec_augment_config={\n",
    "    #     \"freq_mask\": {\n",
    "    #         \"mask_max_length\": 10,\n",
    "    #         \"mask_max_masks\": 3,\n",
    "    #         \"p\": 0.3,\n",
    "    #         \"inplace\": True,\n",
    "    #     },\n",
    "    #     \"time_mask\": {\n",
    "    #         \"mask_max_length\": 20,\n",
    "    #         \"mask_max_masks\": 3,\n",
    "    #         \"p\": 0.3,\n",
    "    #         \"inplace\": True,\n",
    "    #     },\n",
    "    # },\n",
    "    atten_smoothing_config={\n",
    "        \"dropout\": 0.1,\n",
    "        \"num_layers\": 1,\n",
    "        \"n_steps\": 64,\n",
    "    },\n",
    "    head_type=\"AttHeadSimplified\",\n",
    "    head_config={\n",
    "        \"p\": 0.5,\n",
    "        \"num_class\": 188,\n",
    "        \"omit_pooling\": True,\n",
    "        \"output_type\": \"clipwise_pred_long\",\n",
    "    },\n",
    "    exportable=True,\n",
    ")\n",
    "\n",
    "model = WaveCNNAttenClasifier(**model_config, device=\"cpu\")"
   ]
  },
  {
   "cell_type": "code",
   "execution_count": null,
   "id": "beac990d-e20d-489c-a41c-677bd6ec837f",
   "metadata": {},
   "outputs": [],
   "source": [
    "both_masking = nn.Sequential(\n",
    "    CustomTimeMasking(\n",
    "        mask_max_length=20,\n",
    "        mask_max_masks=3,\n",
    "        p=0.3,\n",
    "        inplace=True\n",
    "    ),\n",
    "    CustomFreqMasking(\n",
    "        mask_max_length=10,\n",
    "        mask_max_masks=3,\n",
    "        p=0.3,\n",
    "        inplace=True\n",
    "    )\n",
    ")"
   ]
  },
  {
   "cell_type": "code",
   "execution_count": null,
   "id": "00a563f2-9cb2-4735-b775-d0bb29d5e561",
   "metadata": {},
   "outputs": [],
   "source": [
    "128 / 8"
   ]
  },
  {
   "cell_type": "code",
   "execution_count": null,
   "id": "42bbed3c-ee66-437d-9fef-27e41c5f6b3b",
   "metadata": {},
   "outputs": [],
   "source": [
    "256 / 8"
   ]
  },
  {
   "cell_type": "code",
   "execution_count": null,
   "id": "bd3a087c-de73-431c-ac90-35b14f399c5c",
   "metadata": {
    "tags": []
   },
   "outputs": [],
   "source": [
    "model"
   ]
  },
  {
   "cell_type": "code",
   "execution_count": null,
   "id": "c6d56e0e-6027-4018-b055-dc65e9542b4a",
   "metadata": {},
   "outputs": [],
   "source": [
    "sample = torch.randn((4, int(TRAIN_PERIOD*32_000)))"
   ]
  },
  {
   "cell_type": "code",
   "execution_count": null,
   "id": "24eaf6ff-c5ef-4e45-b9a6-f530e63506c2",
   "metadata": {},
   "outputs": [],
   "source": [
    "model(sample)[\"clipwise_pred\"].shape"
   ]
  },
  {
   "cell_type": "code",
   "execution_count": null,
   "id": "86aca70c-0386-4a98-9e7e-4b527238437f",
   "metadata": {},
   "outputs": [],
   "source": [
    "sample = torch.from_numpy(librosa.util.normalize(test_audio[\n",
    "    test_sr*0:\n",
    "    test_sr*5\n",
    "]))[None,:]"
   ]
  },
  {
   "cell_type": "code",
   "execution_count": null,
   "id": "8db3750b-af8c-4c73-a886-7123650c550a",
   "metadata": {},
   "outputs": [],
   "source": [
    "sample.shape"
   ]
  },
  {
   "cell_type": "code",
   "execution_count": null,
   "id": "ab516bda-ea4c-4c78-a54a-0ec1f8b16f43",
   "metadata": {},
   "outputs": [],
   "source": [
    "spec = model.logmelspec_extractor(sample)"
   ]
  },
  {
   "cell_type": "code",
   "execution_count": null,
   "id": "c65ec2e2-bb16-489a-bda9-25ee840f9791",
   "metadata": {},
   "outputs": [],
   "source": [
    "spec.shape"
   ]
  },
  {
   "cell_type": "code",
   "execution_count": null,
   "id": "aa4fa713-fb0f-436c-8655-2f39350ab8e5",
   "metadata": {},
   "outputs": [],
   "source": [
    "spec.shape"
   ]
  },
  {
   "cell_type": "code",
   "execution_count": null,
   "id": "b58fb75a-f72d-4dcd-968b-56e7ba5632ed",
   "metadata": {},
   "outputs": [],
   "source": [
    "model.logmelspec_extractor"
   ]
  },
  {
   "cell_type": "code",
   "execution_count": null,
   "id": "c779b79e-ba96-438d-8b2e-a73b1ad25c9f",
   "metadata": {},
   "outputs": [],
   "source": [
    "embs = model.backbone(spec)"
   ]
  },
  {
   "cell_type": "code",
   "execution_count": null,
   "id": "865f5096-d6e9-4510-9f56-99b419f76586",
   "metadata": {},
   "outputs": [],
   "source": [
    "# model.train();\n",
    "model.eval();\n",
    "embs = model.forward(sample, return_spec_feature=True)"
   ]
  },
  {
   "cell_type": "code",
   "execution_count": null,
   "id": "44bf8459-e51d-47e4-9756-a303bd339e4f",
   "metadata": {},
   "outputs": [],
   "source": [
    "plt.imshow(embs[0,0])"
   ]
  },
  {
   "cell_type": "code",
   "execution_count": null,
   "id": "83bb626b-42aa-4634-94f7-0852691a42bc",
   "metadata": {},
   "outputs": [],
   "source": [
    "embs[\"clipwise_pred_long\"].min()"
   ]
  },
  {
   "cell_type": "code",
   "execution_count": null,
   "id": "fe712e37-60cd-497d-8f28-ec633c6b3b27",
   "metadata": {},
   "outputs": [],
   "source": [
    "embs.shape"
   ]
  },
  {
   "cell_type": "code",
   "execution_count": null,
   "id": "524bb925-5630-4e93-a2b0-63f663032614",
   "metadata": {},
   "outputs": [],
   "source": [
    "len(embs)"
   ]
  },
  {
   "cell_type": "code",
   "execution_count": null,
   "id": "9ba341c5-7c20-4fae-bf56-30f7d28282ca",
   "metadata": {},
   "outputs": [],
   "source": [
    "model.forward(sample)"
   ]
  },
  {
   "cell_type": "code",
   "execution_count": null,
   "id": "6379d11f-6549-4b39-9f22-c911806c7cfa",
   "metadata": {},
   "outputs": [],
   "source": [
    "embs.transpose()"
   ]
  },
  {
   "cell_type": "code",
   "execution_count": null,
   "id": "3f1f1c03-d569-46d8-9dee-687deacfc56f",
   "metadata": {},
   "outputs": [],
   "source": [
    "# torch.Size([4, 2304, 4, 10])"
   ]
  },
  {
   "cell_type": "code",
   "execution_count": null,
   "id": "92472284-689a-4cc5-97e9-24f3dfb5dc56",
   "metadata": {},
   "outputs": [],
   "source": [
    "len(embs)"
   ]
  },
  {
   "cell_type": "code",
   "execution_count": null,
   "id": "b66aa263-1b14-46c9-8cbd-91fd3a0f94fd",
   "metadata": {},
   "outputs": [],
   "source": [
    "probs = model.forward(sample)"
   ]
  },
  {
   "cell_type": "code",
   "execution_count": null,
   "id": "298e8f57-9d86-4b92-8933-733c1e2dfd34",
   "metadata": {},
   "outputs": [],
   "source": [
    "probs"
   ]
  },
  {
   "cell_type": "code",
   "execution_count": null,
   "id": "0bba9fd4-4908-40cf-ae5f-d41905390a95",
   "metadata": {},
   "outputs": [],
   "source": [
    "embs[2].shape"
   ]
  },
  {
   "cell_type": "code",
   "execution_count": null,
   "id": "f8a213dd-069d-4fa6-a5c2-13f404147d1d",
   "metadata": {},
   "outputs": [],
   "source": [
    "pool_layers = nn.ModuleList([\n",
    "    GeMFreqFixed(time_kernel_size=k*2 if k>0 else 1) for k in list(reversed(range(len(embs))))\n",
    "])"
   ]
  },
  {
   "cell_type": "code",
   "execution_count": null,
   "id": "0c59610e-77a7-4316-86f8-7b1880bb1fc4",
   "metadata": {},
   "outputs": [],
   "source": [
    "pooled_embs = [p(emb) for p, emb in zip(pool_layers, embs)]"
   ]
  },
  {
   "cell_type": "code",
   "execution_count": null,
   "id": "76f7511e-ddb9-442d-ae4b-3e119359645b",
   "metadata": {},
   "outputs": [],
   "source": [
    "for i in range(len(embs)):\n",
    "    print(pooled_embs[i].shape, embs[i].shape)"
   ]
  },
  {
   "cell_type": "code",
   "execution_count": null,
   "id": "defa86a9-e586-459c-bb7c-59b19a46dca5",
   "metadata": {},
   "outputs": [],
   "source": [
    "pooled_embs[3].shape, embs[3].shape"
   ]
  },
  {
   "cell_type": "code",
   "execution_count": null,
   "id": "c09718cd-e2bb-46c7-b8c3-3b21677de747",
   "metadata": {},
   "outputs": [],
   "source": []
  },
  {
   "cell_type": "code",
   "execution_count": null,
   "id": "992ac35a-6be8-431e-b47d-682b894d1456",
   "metadata": {},
   "outputs": [],
   "source": [
    "[k*2 if k>0 else 1 for k in list(reversed(range(len(embs))))]"
   ]
  },
  {
   "cell_type": "code",
   "execution_count": null,
   "id": "4e8a877a-341e-4647-b69b-05413c1a2414",
   "metadata": {},
   "outputs": [],
   "source": [
    "list(reversed(range(1, len(embs))))"
   ]
  },
  {
   "cell_type": "code",
   "execution_count": null,
   "id": "745a117e-8953-40c5-a26e-30cc759084d1",
   "metadata": {},
   "outputs": [],
   "source": [
    "[el.shape for el in embs]"
   ]
  },
  {
   "cell_type": "code",
   "execution_count": null,
   "id": "43e84d2b-d2de-45ea-ad24-bc6c8cee438c",
   "metadata": {},
   "outputs": [],
   "source": [
    "avg_pool = torch.nn.AvgPool2d(kernel_size=(2,2))"
   ]
  },
  {
   "cell_type": "code",
   "execution_count": null,
   "id": "4e0bb690-ade1-4193-a21f-b4eab9c0c945",
   "metadata": {},
   "outputs": [],
   "source": [
    "avg_pool(embs[-2]).shape"
   ]
  },
  {
   "cell_type": "code",
   "execution_count": null,
   "id": "41a963cd-0441-463c-94e4-b27dfcb2d0f2",
   "metadata": {},
   "outputs": [],
   "source": [
    "spec = model(sample)"
   ]
  },
  {
   "cell_type": "code",
   "execution_count": null,
   "id": "feaeb533-bec8-47d5-ab59-f69d9d62c963",
   "metadata": {},
   "outputs": [],
   "source": [
    "spec.shape"
   ]
  },
  {
   "cell_type": "code",
   "execution_count": null,
   "id": "b20b37ed-2100-4074-89a3-cd12b02f6e71",
   "metadata": {},
   "outputs": [],
   "source": [
    "!rm test_onnx -rf"
   ]
  },
  {
   "cell_type": "code",
   "execution_count": null,
   "id": "3faeaddb-0a57-46fe-8daf-239f94659cbe",
   "metadata": {},
   "outputs": [],
   "source": [
    "model.eval()\n",
    "convert_to_onnx(\n",
    "    model_to_convert=model,\n",
    "    sample_input=torch.randn(4, int(TRAIN_PERIOD * 32_000)),\n",
    "    # base_path=f\"../logdirs/tf_efficientnetv2_m_in21ft1k_convnext_tiny_in22ft1k_eca_nfnet_l0_noval_v3AllTune_075Clipwise025TimeMax_GausMean/onnx_ensem\"\n",
    "    base_path=\"test_onnx\"\n",
    ")"
   ]
  },
  {
   "cell_type": "code",
   "execution_count": null,
   "id": "0eb8fa2c-bcba-4620-91ca-631d2c0e9206",
   "metadata": {},
   "outputs": [],
   "source": [
    "model = ort.InferenceSession(f\"test_onnx/model_simpl.onnx\")"
   ]
  },
  {
   "cell_type": "code",
   "execution_count": null,
   "id": "1f84d6d9-6c63-4a75-b462-26031147dbab",
   "metadata": {},
   "outputs": [],
   "source": [
    "out = model.run(None, {\"input\": torch.randn(4, int(TRAIN_PERIOD * 32_000)).numpy()})[0]"
   ]
  },
  {
   "cell_type": "code",
   "execution_count": null,
   "id": "8552f139-afa0-487c-9b60-2ad16a2e7289",
   "metadata": {},
   "outputs": [],
   "source": [
    "out.shape"
   ]
  },
  {
   "cell_type": "code",
   "execution_count": null,
   "id": "6d1ab01e-8169-48d3-b7a6-3820fd6cbb31",
   "metadata": {},
   "outputs": [],
   "source": [
    "out"
   ]
  },
  {
   "cell_type": "markdown",
   "id": "f4d76856-d03e-4c77-94e5-aa4d07d84070",
   "metadata": {},
   "source": [
    "# Prepare final datasets"
   ]
  },
  {
   "cell_type": "code",
   "execution_count": null,
   "id": "606b1145-e73a-4388-928a-ca572522dc77",
   "metadata": {},
   "outputs": [],
   "source": [
    "train_metadata_extended_202x = pd.read_csv(\n",
    "    \"/home/vova/data/exps/BirdCLEF_2023/train_metadata_extended_2020_2022_no2023_scored_nodupl_v1_only_prime_2023SecLabels.csv\"\n",
    ")\n",
    "xc_add_first = pd.read_csv(\n",
    "    \"/home/vova/data/exps/BirdCLEF_2023/xeno_canto/scored_2023_xc_2023SecLabels.csv\"\n",
    ")\n",
    "xc_add_second = pd.read_csv(\n",
    "    \"/home/vova/data/exps/BirdCLEF_2023/xeno_canto/scored_2023_xc_2023SecLabels_till_12_05_2023_v2.csv\"\n",
    ")"
   ]
  },
  {
   "cell_type": "code",
   "execution_count": null,
   "id": "e6041d72-c252-4f4e-a841-1f81caa37de9",
   "metadata": {},
   "outputs": [],
   "source": [
    "xc_add_first.filename.iloc[0]"
   ]
  },
  {
   "cell_type": "code",
   "execution_count": null,
   "id": "34747da5-872b-4ce4-ab6a-2e7cfc022a51",
   "metadata": {},
   "outputs": [],
   "source": [
    "for fname in tqdm(xc_add_second[\"filename\"]):\n",
    "    splitted_fname = fname.split(\"/\")\n",
    "    new_fname = os.path.join(\"/home/vova/src/exps/BirdCLEF_2023_1st_place/data/birdclef_2023_data_part1/audio/\", splitted_fname[-2], splitted_fname[-1])\n",
    "    if not os.path.exists(os.path.dirname(new_fname)):\n",
    "        os.makedirs(os.path.dirname(new_fname))\n",
    "    copyfile(\n",
    "        fname,\n",
    "        os.path.join(\"/home/vova/src/exps/BirdCLEF_2023_1st_place/data/birdclef_2023_data_part1/audio/\", splitted_fname[-2], splitted_fname[-1])\n",
    "    )"
   ]
  },
  {
   "cell_type": "code",
   "execution_count": null,
   "id": "f8b60198-074a-4dd8-b269-08ebd41a4f88",
   "metadata": {},
   "outputs": [],
   "source": [
    "def modify_name(input):\n",
    "    splitted_fname = input.split(\"/\")\n",
    "    return os.path.join(splitted_fname[-2], splitted_fname[-1])"
   ]
  },
  {
   "cell_type": "code",
   "execution_count": null,
   "id": "593a4ead-bcfc-4815-a037-2ba3b707004b",
   "metadata": {},
   "outputs": [],
   "source": [
    "train_metadata_extended_202x[\"filename\"] = train_metadata_extended_202x[\"filename\"].apply(modify_name)\n",
    "xc_add_first[\"filename\"] = xc_add_first[\"filename\"].apply(modify_name)\n",
    "xc_add_second[\"filename\"] = xc_add_second[\"filename\"].apply(modify_name)"
   ]
  },
  {
   "cell_type": "code",
   "execution_count": null,
   "id": "742765ad-b2a1-4a75-85c9-8ab22cda8a7d",
   "metadata": {},
   "outputs": [],
   "source": [
    "train_metadata_extended_202x.drop(columns=\"Unnamed: 0\").to_csv(\n",
    "    \"/home/vova/src/exps/BirdCLEF_2023_1st_place/data/birdclef_2023_data_part1/train_metadata_extended_2020_2022_no2023_scored_nodupl_v1_only_prime_2023SecLabels.csv\",\n",
    "    index=False\n",
    ")\n",
    "xc_add_first.to_csv(\n",
    "    \"/home/vova/src/exps/BirdCLEF_2023_1st_place/data/birdclef_2023_data_part1/scored_2023_xc_2023SecLabels.csv\",\n",
    "    index=False\n",
    ")\n",
    "xc_add_second.to_csv(\n",
    "    \"/home/vova/src/exps/BirdCLEF_2023_1st_place/data/birdclef_2023_data_part1/scored_2023_xc_2023SecLabels_till_12_05_2023_v2.csv\",\n",
    "    index=False\n",
    ")"
   ]
  },
  {
   "cell_type": "code",
   "execution_count": null,
   "id": "ab2cc715-8956-4276-8d5d-243a45e14f33",
   "metadata": {},
   "outputs": [],
   "source": [
    "background_noise = pd.read_csv(\n",
    "    \"/home/vova/data/exps/BirdCLEF_2023/soundscapes_processed/v1_no_call_meta.csv\"\n",
    ")"
   ]
  },
  {
   "cell_type": "code",
   "execution_count": null,
   "id": "df4d0bb6-ce58-4986-bd2e-550492884937",
   "metadata": {},
   "outputs": [],
   "source": [
    "background_noise[\"filename\"].iloc[0]"
   ]
  },
  {
   "cell_type": "code",
   "execution_count": null,
   "id": "32810c0f-a7ba-47dd-9f0c-14d12ec443db",
   "metadata": {},
   "outputs": [],
   "source": [
    "for fname in tqdm(background_noise[\"filename\"]):\n",
    "    splitted_fname = fname.split(\"/\")\n",
    "    new_fname = os.path.join(\"/home/vova/src/exps/BirdCLEF_2023_1st_place/data/birdclef_2023_data_part1/soundscapes_nocall/\", splitted_fname[-2], splitted_fname[-1])\n",
    "    if os.path.exists(new_fname):\n",
    "        continue\n",
    "    if not os.path.exists(os.path.dirname(new_fname)):\n",
    "        os.makedirs(os.path.dirname(new_fname))\n",
    "    copyfile(\n",
    "        fname,\n",
    "        new_fname\n",
    "    )"
   ]
  },
  {
   "cell_type": "code",
   "execution_count": null,
   "id": "73afe515-511f-49f8-94ba-14dcb297d40f",
   "metadata": {},
   "outputs": [],
   "source": [
    "background_noise[\"filename\"] = background_noise[\"filename\"].apply(os.path.basename)"
   ]
  },
  {
   "cell_type": "code",
   "execution_count": null,
   "id": "615f6952-62d2-49d7-80e9-69665387ece5",
   "metadata": {},
   "outputs": [],
   "source": [
    "background_noise"
   ]
  },
  {
   "cell_type": "code",
   "execution_count": null,
   "id": "a3fcf053-316e-4b73-bf95-defd756fd7e5",
   "metadata": {},
   "outputs": [],
   "source": [
    "background_noise.to_csv(\n",
    "    \"/home/vova/src/exps/BirdCLEF_2023_1st_place/data/birdclef_2023_data_part1/v1_no_call_meta.csv\",\n",
    "    index=False\n",
    ")"
   ]
  },
  {
   "cell_type": "code",
   "execution_count": null,
   "id": "26402e00-8530-4169-89df-6b73d0bdb816",
   "metadata": {},
   "outputs": [],
   "source": [
    "background_noise_esc50 = pd.read_csv(\n",
    "    \"../../BirdCLEF_2023_1st_place/data/birdclef_2023_data_part1/esc50_background.csv\"\n",
    ")"
   ]
  },
  {
   "cell_type": "code",
   "execution_count": null,
   "id": "eeb20b7c-4dc9-4d27-9e00-27e42622623f",
   "metadata": {},
   "outputs": [],
   "source": [
    "for fname in tqdm(background_noise_esc50[\"filename\"]):\n",
    "    splitted_fname = fname.split(\"/\")\n",
    "    new_fname = os.path.join(\"/home/vova/src/exps/BirdCLEF_2023_1st_place/data/birdclef_2023_data_part1/esc50/\", splitted_fname[-2], splitted_fname[-1])\n",
    "    if os.path.exists(new_fname):\n",
    "        continue\n",
    "    if not os.path.exists(os.path.dirname(new_fname)):\n",
    "        os.makedirs(os.path.dirname(new_fname))\n",
    "    copyfile(\n",
    "        fname,\n",
    "        new_fname\n",
    "    )"
   ]
  },
  {
   "cell_type": "code",
   "execution_count": null,
   "id": "32e34031-f67f-45e7-9af6-5a476bee521a",
   "metadata": {},
   "outputs": [],
   "source": [
    "background_noise_esc50[\"filename\"] = background_noise_esc50[\"filename\"].apply(os.path.basename)"
   ]
  },
  {
   "cell_type": "code",
   "execution_count": null,
   "id": "f2cf08ef-6219-479b-8c6e-176487b510d8",
   "metadata": {},
   "outputs": [],
   "source": [
    "background_noise_esc50.to_csv(\n",
    "    \"/home/vova/src/exps/BirdCLEF_2023_1st_place/data/birdclef_2023_data_part1/esc50_background.csv\",\n",
    "    index=False\n",
    ")"
   ]
  },
  {
   "cell_type": "code",
   "execution_count": null,
   "id": "e4b9aeed-2167-4b45-9fca-8c21b6dbd7ca",
   "metadata": {},
   "outputs": [],
   "source": [
    "pretrain_dataset = pd.read_csv(\n",
    "    \"/home/vova/data/exps/BirdCLEF_2023/xeno_canto/train_metadata_extended_shorten_and_2023x_v3.csv\"\n",
    ")"
   ]
  },
  {
   "cell_type": "code",
   "execution_count": null,
   "id": "ebea09e9-14a9-49f7-80eb-238bccb52ffc",
   "metadata": {},
   "outputs": [],
   "source": [
    "pretrain_dataset[\"filename\"].apply(lambda x: \"/\".join(x.split(\"/\")[:-2])).value_counts()"
   ]
  },
  {
   "cell_type": "code",
   "execution_count": null,
   "id": "0cd657cf-d97a-4756-a468-4faf178d9b19",
   "metadata": {},
   "outputs": [],
   "source": [
    "pretrain_dataset_2021 = pretrain_dataset[\n",
    "    pretrain_dataset[\"filename\"].apply(lambda x: \"/\".join(x.split(\"/\")[:-2])) == \"/home/vova/data/exps/BirdCLEF_2023/birdclef_2021/train_short_audio\"\n",
    "]"
   ]
  },
  {
   "cell_type": "code",
   "execution_count": null,
   "id": "9fb16d5b-1a03-45fd-9b63-6c69b3af52b5",
   "metadata": {},
   "outputs": [],
   "source": [
    "pretrain_dataset_2021[\"filename\"].apply(lambda x: \"/\".join(x.split(\"/\")[:-2])).value_counts()"
   ]
  },
  {
   "cell_type": "code",
   "execution_count": null,
   "id": "fb1a5557-272d-4a6d-9587-7a15ca11e777",
   "metadata": {},
   "outputs": [],
   "source": [
    "pretrain_dataset_2021[\"filename\"].iloc[0]"
   ]
  },
  {
   "cell_type": "code",
   "execution_count": null,
   "id": "b635dc54-f717-456e-a032-96b89bd1add2",
   "metadata": {},
   "outputs": [],
   "source": [
    "for fname in tqdm(pretrain_dataset_2021[\"filename\"]):\n",
    "    splitted_fname = fname.split(\"/\")\n",
    "    new_fname = os.path.join(\"/home/vova/src/exps/BirdCLEF_2023_1st_place/data/birdclef_2023_data_part5/birdclef_2021\", splitted_fname[-2], splitted_fname[-1])\n",
    "    if os.path.exists(new_fname):\n",
    "        continue\n",
    "    if not os.path.exists(os.path.dirname(new_fname)):\n",
    "        os.makedirs(os.path.dirname(new_fname))\n",
    "    copyfile(\n",
    "        fname,\n",
    "        new_fname\n",
    "    )"
   ]
  },
  {
   "cell_type": "code",
   "execution_count": null,
   "id": "5f7c2eb2-5d5e-44a8-bc7b-b1542655ebb0",
   "metadata": {},
   "outputs": [],
   "source": [
    "pretrain_dataset_xc = pretrain_dataset[\n",
    "    pretrain_dataset[\"filename\"].apply(lambda x: \"/\".join(x.split(\"/\")[:-2])) == \"/home/vova/data/exps/BirdCLEF_2023/xeno_canto/dataset/audio\"\n",
    "]"
   ]
  },
  {
   "cell_type": "code",
   "execution_count": null,
   "id": "e339654b-577e-455e-9c79-0d693e85be0e",
   "metadata": {},
   "outputs": [],
   "source": [
    "pretrain_dataset_xc[\"filename\"].apply(lambda x: \"/\".join(x.split(\"/\")[:-2])).value_counts()"
   ]
  },
  {
   "cell_type": "code",
   "execution_count": null,
   "id": "170cdb0a-a6fe-4cdb-bcb2-0cf3e42bc8c5",
   "metadata": {},
   "outputs": [],
   "source": [
    "for fname in tqdm(pretrain_dataset_xc[\"filename\"]):\n",
    "    splitted_fname = fname.split(\"/\")\n",
    "    new_fname = os.path.join(\"/home/vova/src/exps/BirdCLEF_2023_1st_place/data/birdclef_2023_data_part6/xeno_canto/\", splitted_fname[-2], splitted_fname[-1])\n",
    "    if os.path.exists(new_fname):\n",
    "        continue\n",
    "    if not os.path.exists(os.path.dirname(new_fname)):\n",
    "        os.makedirs(os.path.dirname(new_fname))\n",
    "    copyfile(\n",
    "        fname,\n",
    "        new_fname\n",
    "    )"
   ]
  },
  {
   "cell_type": "code",
   "execution_count": null,
   "id": "4f7ec946-b207-4218-9b1c-23972c122eeb",
   "metadata": {},
   "outputs": [],
   "source": [
    "pretrain_dataset[\"temp\"] = pretrain_dataset[\"filename_h5py\"].apply(lambda x: \"/\".join(x.split(\"/\")[:-2]))"
   ]
  },
  {
   "cell_type": "code",
   "execution_count": null,
   "id": "44ebce04-a8db-4e9b-bdd9-6e643260846e",
   "metadata": {},
   "outputs": [],
   "source": [
    "pretrain_dataset_2022 = pretrain_dataset[\n",
    "    pretrain_dataset[\"filename\"].apply(lambda x: \"/\".join(x.split(\"/\")[:-2])) == \"/home/vova/data/exps/BirdCLEF_2023/birdclef_2022/train_audio\"\n",
    "]"
   ]
  },
  {
   "cell_type": "code",
   "execution_count": null,
   "id": "5f607675-4343-42a7-b83a-759e6483dac7",
   "metadata": {},
   "outputs": [],
   "source": [
    "pretrain_dataset[\"temp\"].value_counts()"
   ]
  },
  {
   "cell_type": "code",
   "execution_count": null,
   "id": "bbce8c9e-b722-406c-9f2a-44e8bd464219",
   "metadata": {},
   "outputs": [],
   "source": [
    "for fname in tqdm(pretrain_dataset_2022[\"filename\"]):\n",
    "    splitted_fname = fname.split(\"/\")\n",
    "    new_fname = os.path.join(\"/home/vova/src/exps/BirdCLEF_2023_1st_place/data/birdclef_2023_data_part8/birdclef_2022\", splitted_fname[-2], splitted_fname[-1])\n",
    "    if os.path.exists(new_fname):\n",
    "        continue\n",
    "    if not os.path.exists(os.path.dirname(new_fname)):\n",
    "        os.makedirs(os.path.dirname(new_fname))\n",
    "    copyfile(\n",
    "        fname,\n",
    "        new_fname\n",
    "    )"
   ]
  },
  {
   "cell_type": "code",
   "execution_count": null,
   "id": "27372fde-800d-4fed-b58c-28e18c3706f1",
   "metadata": {},
   "outputs": [],
   "source": [
    "# /home/vova/data/exps/BirdCLEF_2023/birdclef_2020/audio_features\n",
    "pretrain_dataset.loc[\n",
    "    pretrain_dataset[\"temp\"] == \"/home/vova/data/exps/BirdCLEF_2023/birdclef_2020/audio_features\",\n",
    "    \"filename_h5py\"\n",
    "] = pretrain_dataset.loc[\n",
    "    pretrain_dataset[\"temp\"] == \"/home/vova/data/exps/BirdCLEF_2023/birdclef_2020/audio_features\",\n",
    "    \"filename_h5py\"\n",
    "].apply(lambda x: x.replace(\"/home/vova/data/exps/BirdCLEF_2023/birdclef_2020/audio_features\", \"data/birdclef_2020_features\"))\n",
    "# /home/vova/data/exps/BirdCLEF_2023/birdclef_2020_xc_a_m/audio_features\n",
    "pretrain_dataset.loc[\n",
    "    pretrain_dataset[\"temp\"] == \"/home/vova/data/exps/BirdCLEF_2023/birdclef_2020_xc_a_m/audio_features\",\n",
    "    \"filename_h5py\"\n",
    "] = pretrain_dataset.loc[\n",
    "    pretrain_dataset[\"temp\"] == \"/home/vova/data/exps/BirdCLEF_2023/birdclef_2020_xc_a_m/audio_features\",\n",
    "    \"filename_h5py\"\n",
    "].apply(lambda x: x.replace(\"/home/vova/data/exps/BirdCLEF_2023/birdclef_2020_xc_a_m/audio_features\", \"data/birdclef_2020_xc_a_m_features\"))\n",
    "# /home/vova/data/exps/BirdCLEF_2023/birdclef_2020_xc_n_z/audio_features\n",
    "pretrain_dataset.loc[\n",
    "    pretrain_dataset[\"temp\"] == \"/home/vova/data/exps/BirdCLEF_2023/birdclef_2020_xc_n_z/audio_features\",\n",
    "    \"filename_h5py\"\n",
    "] = pretrain_dataset.loc[\n",
    "    pretrain_dataset[\"temp\"] == \"/home/vova/data/exps/BirdCLEF_2023/birdclef_2020_xc_n_z/audio_features\",\n",
    "    \"filename_h5py\"\n",
    "].apply(lambda x: x.replace(\"/home/vova/data/exps/BirdCLEF_2023/birdclef_2020_xc_n_z/audio_features\", \"data/birdclef_2020_xc_n_z_features\"))\n",
    "# /home/vova/data/exps/BirdCLEF_2023/birdclef_2021/audio_features\n",
    "pretrain_dataset.loc[\n",
    "    pretrain_dataset[\"temp\"] == \"/home/vova/data/exps/BirdCLEF_2023/birdclef_2021/audio_features\",\n",
    "    \"filename_h5py\"\n",
    "] = pretrain_dataset.loc[\n",
    "    pretrain_dataset[\"temp\"] == \"/home/vova/data/exps/BirdCLEF_2023/birdclef_2021/audio_features\",\n",
    "    \"filename_h5py\"\n",
    "].apply(lambda x: x.replace(\"/home/vova/data/exps/BirdCLEF_2023/birdclef_2021/audio_features\", \"data/birdclef_2021_features\"))\n",
    "# /home/vova/data/exps/BirdCLEF_2023/birdclef_2022/train_audio\n",
    "pretrain_dataset.loc[\n",
    "    pretrain_dataset[\"temp\"] == \"/home/vova/data/exps/BirdCLEF_2023/birdclef_2022/audio_features\",\n",
    "    \"filename_h5py\"\n",
    "] = pretrain_dataset.loc[\n",
    "    pretrain_dataset[\"temp\"] == \"/home/vova/data/exps/BirdCLEF_2023/birdclef_2022/audio_features\",\n",
    "    \"filename_h5py\"\n",
    "].apply(lambda x: x.replace(\"/home/vova/data/exps/BirdCLEF_2023/birdclef_2022/audio_features\", \"data/birdclef_2022_features\"))\n",
    "# /home/vova/data/exps/BirdCLEF_2023/xeno_canto/audio_features\n",
    "pretrain_dataset.loc[\n",
    "    pretrain_dataset[\"temp\"] == \"/home/vova/data/exps/BirdCLEF_2023/xeno_canto/audio_features\",\n",
    "    \"filename_h5py\"\n",
    "] = pretrain_dataset.loc[\n",
    "    pretrain_dataset[\"temp\"] == \"/home/vova/data/exps/BirdCLEF_2023/xeno_canto/audio_features\",\n",
    "    \"filename_h5py\"\n",
    "].apply(lambda x: x.replace(\"/home/vova/data/exps/BirdCLEF_2023/xeno_canto/audio_features\", \"data/xeno_canto_features\"))"
   ]
  },
  {
   "cell_type": "code",
   "execution_count": null,
   "id": "b3cbe4ec-a407-4c3c-af17-44680c29651c",
   "metadata": {},
   "outputs": [],
   "source": [
    "pretrain_dataset.loc[\n",
    "    pretrain_dataset[\"filename_h5py\"].apply(lambda x: os.path.exists(os.path.join(\"/home/vova/src/exps/BirdCLEF_2023_1st_place\", x))), \n",
    "    \"temp\"\n",
    "].value_counts()"
   ]
  },
  {
   "cell_type": "code",
   "execution_count": null,
   "id": "b96be60d-cf6c-467c-a631-b692cb83dee9",
   "metadata": {},
   "outputs": [],
   "source": [
    "pretrain_dataset.loc[\n",
    "    ~pretrain_dataset[\"filename_h5py\"].apply(lambda x: os.path.exists(os.path.join(\"/home/vova/src/exps/BirdCLEF_2023_1st_place\", x))), \n",
    "    \"temp\"\n",
    "].value_counts()"
   ]
  },
  {
   "cell_type": "code",
   "execution_count": null,
   "id": "976e3c9f-0a0e-4624-a5c1-998dc891b3d7",
   "metadata": {},
   "outputs": [],
   "source": [
    "pretrain_dataset = pretrain_dataset.drop(columns=[\"temp\"])\n",
    "pretrain_dataset[\"filename\"] = pretrain_dataset[\"filename\"].apply(modify_name)"
   ]
  },
  {
   "cell_type": "code",
   "execution_count": null,
   "id": "b5f4d19e-07d8-415e-9a35-ed42384a764f",
   "metadata": {},
   "outputs": [],
   "source": [
    "pretrain_dataset.to_csv(\n",
    "    \"/home/vova/src/exps/BirdCLEF_2023_1st_place/data/train_metadata_extended_shorten_and_2023x_v3.csv\",\n",
    "    index=False\n",
    ")"
   ]
  },
  {
   "cell_type": "code",
   "execution_count": null,
   "id": "f7d171ea-50b7-4a16-b851-276a36ddc219",
   "metadata": {},
   "outputs": [],
   "source": [
    "background_noise_esc50"
   ]
  },
  {
   "cell_type": "code",
   "execution_count": null,
   "id": "3af1a27f-e349-4814-8b04-cd3f39523dce",
   "metadata": {},
   "outputs": [],
   "source": [
    "v1_no_call_meta = pd.read_csv(\"/home/vova/src/exps/BirdCLEF_2023_1st_place/data/v1_no_call_meta.csv\")"
   ]
  },
  {
   "cell_type": "code",
   "execution_count": null,
   "id": "9dfafaf9-6bb0-4310-baa6-d3ecd3e36d7b",
   "metadata": {},
   "outputs": [],
   "source": [
    "v1_no_call_meta[\n",
    "    ~v1_no_call_meta[\"filename\"].apply(lambda x: os.path.exists(os.path.join(\"/home/vova/src/exps/BirdCLEF_2023_1st_place/data/soundscapes_nocall/train_audio/\", x)))\n",
    "]"
   ]
  },
  {
   "cell_type": "code",
   "execution_count": null,
   "id": "821c9d52-dc04-4b66-94ae-aaa5c457b9a7",
   "metadata": {},
   "outputs": [],
   "source": []
  }
 ],
 "metadata": {
  "kernelspec": {
   "display_name": "Python 3 (ipykernel)",
   "language": "python",
   "name": "python3"
  },
  "language_info": {
   "codemirror_mode": {
    "name": "ipython",
    "version": 3
   },
   "file_extension": ".py",
   "mimetype": "text/x-python",
   "name": "python",
   "nbconvert_exporter": "python",
   "pygments_lexer": "ipython3",
   "version": "3.11.6"
  }
 },
 "nbformat": 4,
 "nbformat_minor": 5
}
