{
 "cells": [
  {
   "cell_type": "code",
   "execution_count": 1,
   "id": "846b067d-679f-4a67-ae3c-672614a3b511",
   "metadata": {},
   "outputs": [
    {
     "name": "stderr",
     "output_type": "stream",
     "text": [
      "/backup/vova/src/exps/bird_clef_2024/.venv/lib/python3.11/site-packages/tqdm/auto.py:21: TqdmWarning: IProgress not found. Please update jupyter and ipywidgets. See https://ipywidgets.readthedocs.io/en/stable/user_install.html\n",
      "  from .autonotebook import tqdm as notebook_tqdm\n",
      "/backup/vova/src/exps/bird_clef_2024/.venv/lib/python3.11/site-packages/nnAudio/Spectrogram.py:4: Warning: importing Spectrogram subpackage will be deprecated soon. You should import the feature extractor from the feature subpackage. See actual documentation.\n",
      "  warnings.warn(\n"
     ]
    },
    {
     "name": "stdout",
     "output_type": "stream",
     "text": [
      "`speechbrain` was not imported\n",
      "`LEAF` was not imported\n"
     ]
    }
   ],
   "source": [
    "%load_ext autoreload\n",
    "%autoreload 2\n",
    "\n",
    "import os\n",
    "os.environ[\"CUDA_VISIBLE_DEVICES\"]=\"2\"\n",
    "\n",
    "import pandas as pd\n",
    "import numpy as np\n",
    "import librosa\n",
    "import seaborn as sns\n",
    "import os\n",
    "import json\n",
    "import IPython.display as ipd\n",
    "import soundfile as sf\n",
    "import torch\n",
    "import collections\n",
    "import h5py\n",
    "import timm\n",
    "import torch.nn as nn\n",
    "import onnxruntime as ort\n",
    "import torchaudio\n",
    "\n",
    "from glob import glob\n",
    "from tqdm import tqdm\n",
    "from matplotlib import pyplot as plt\n",
    "from itertools import chain\n",
    "from os.path import join as pjoin\n",
    "from torchaudio.transforms import AmplitudeToDB, MelSpectrogram\n",
    "from copy import deepcopy\n",
    "from typing import Callable\n",
    "from nnAudio.Spectrogram import CQT1992v2\n",
    "# import leaf_audio_pytorch.frontend as frontend\n",
    "from torchaudio.transforms import TimeMasking, FrequencyMasking\n",
    "from shutil import copyfile\n",
    "from torchaudio.transforms import Resample\n",
    "\n",
    "# from code_base.utils import parallel_librosa_load, groupby_np_array, stack_and_max_by_samples, load_pp_audio\n",
    "# from code_base.utils.constants import SAMPLE_RATE, N_CLASSES_2021_2022\n",
    "from code_base.utils.onnx_utils import convert_to_onnx\n",
    "from code_base.models import WaveCNNClasifier, WaveCNNAttenClasifier, WaveTDNNClasifier, RandomFiltering\n",
    "from code_base.models.blocks import TraceableMelspec, NormalizeMelSpec, GeMFreqFixed, ChannelAgnosticAmplitudeToDB\n",
    "# from code_base.models.wave_clasifier import WaveCNNAttenClasifier\n",
    "from code_base.datasets import WaveDataset, WaveAllFileDataset\n",
    "from code_base.utils import load_json, write_json\n",
    "from code_base.utils.audio_utils import get_librosa_load\n",
    "from code_base.schedulers import GradualWarmupSchedulerV2\n",
    "# from code_base.augmentations.background_noise import AddBackgoundFromSoundScapes\n",
    "# from code_base.augmentations.transforms import BackgroundNoise, Compose, GaussianNoise, PinkNoise, OneOf\n",
    "# from code_base.forwards import MultilabelClsForwardLongShort\n",
    "# from code_base.utils.onnx_utils import ONNXEnsemble, convert_to_onnx\n",
    "from code_base.augmentations.transforms import (\n",
    "    BackgroundNoise,\n",
    "    Compose,\n",
    "    GaussianNoise,\n",
    "    OneOf,\n",
    "    PinkNoise,\n",
    "    TimeFlip\n",
    ")\n",
    "%matplotlib inline\n"
   ]
  },
  {
   "cell_type": "code",
   "execution_count": null,
   "id": "638b0db1-1e64-462f-8ef0-70d06db7b83b",
   "metadata": {},
   "outputs": [],
   "source": [
    "targets = torch.cat((torch.zeros(900, dtype=torch.long), torch.ones(100, dtype=torch.long)))"
   ]
  },
  {
   "cell_type": "code",
   "execution_count": null,
   "id": "0386ed01-8d4a-458a-9857-4b6182641c94",
   "metadata": {},
   "outputs": [],
   "source": [
    "class_sample_counts = np.bincount(targets)\n",
    "weights = class_sample_counts.sum() / class_sample_counts \n",
    "# weights = 1. / class_sample_counts\n",
    "sample_weights = weights[targets]"
   ]
  },
  {
   "cell_type": "code",
   "execution_count": null,
   "id": "f8a0b5ed-eb6a-4c6a-bf6b-a61696ae0f9a",
   "metadata": {},
   "outputs": [],
   "source": [
    "class_sample_counts"
   ]
  },
  {
   "cell_type": "code",
   "execution_count": null,
   "id": "9de05c37-7594-49fe-8435-af856afe6827",
   "metadata": {},
   "outputs": [],
   "source": [
    "weights"
   ]
  },
  {
   "cell_type": "code",
   "execution_count": null,
   "id": "149ddf4e-c25c-4ad2-82b7-82a5dfe13754",
   "metadata": {},
   "outputs": [],
   "source": [
    "eca_nfnet_l0_Exp_noamp_64bs_5sec_TimeFlip05_FormixupAlpha05_AdamW_wd1e6_lr1e5_1e4_0_WarmCosEpoch_Epoch50_SpecAugV207_FocalBCELoss_5Folds_NoDuplsV1\n",
    "\n",
    "eca_nfnet_l0_Exp_noamp_64bs_5sec_TimeFlip05_FormixupAlpha05_balSampl_AdamW_wd1e6_lr1e5_1e4_0_WarmCosEpoch_Epoch50_SpecAugV207_FocalBCELoss_5Folds_NoDuplsV1\n",
    "\n",
    "eca_nfnet_l0_Exp_noamp_64bs_5sec_PrevCompXCScoredDataNoSecLab_TimeFlip05_FormixupAlpha05_AdamW_wd1e6_lr1e5_1e4_0_WarmCosEpoch_Epoch50_SpecAugV207_FocalBCELoss_5Folds_NoDuplsV1\n",
    "\n",
    "eca_nfnet_l0_Exp_noamp_64bs_5sec_PrevCompXCScoredDataNoSecLab_TimeFlip05_FormixupAlpha05_balSampl_AdamW_wd1e6_lr1e5_1e4_0_WarmCosEpoch_Epoch50_SpecAugV207_FocalBCELoss_5Folds_NoDuplsV1\n",
    "\n",
    "eca_nfnet_l0_Exp_noamp_64bs_5sec_PrevCompXCScoredDataNoSecLab_TimeFlip05_FormixupAlpha05_balSamplas2024_AdamW_wd1e6_lr1e5_1e4_0_WarmCosEpoch_Epoch50_SpecAugV207_FocalBCELoss_5Folds_NoDuplsV1"
   ]
  },
  {
   "cell_type": "code",
   "execution_count": null,
   "id": "000888c8-8adc-4b88-a9bc-77a4bbb088ad",
   "metadata": {},
   "outputs": [],
   "source": [
    "!nvidia-smi"
   ]
  },
  {
   "cell_type": "code",
   "execution_count": null,
   "id": "285f4630-0490-47cb-b7ce-5704663d75b8",
   "metadata": {},
   "outputs": [],
   "source": [
    "# for logdir in os.listdir(\"../logdirs/\"):\n",
    "#     full_logdir_path = os.path.join(\n",
    "#         \"../logdirs\",\n",
    "#         logdir,\n",
    "#         \"code\",\n",
    "#         \"train_configs___*\"\n",
    "#     )\n",
    "#     all_current_train_configs = glob(full_logdir_path)\n",
    "#     if len(all_current_train_configs) == 1:\n",
    "#         copyfile(\n",
    "#             all_current_train_configs[0],\n",
    "#             os.path.join(\"../logdirs/\", logdir + \".py\")\n",
    "#         )\n",
    "#     # else:\n",
    "#     #     print(logdir)"
   ]
  },
  {
   "cell_type": "code",
   "execution_count": null,
   "id": "ab457fb2-1e3f-4544-bbe3-dd11b34afa2f",
   "metadata": {},
   "outputs": [],
   "source": [
    "# for el in glob(\"../logdirs/*\"):\n",
    "#     if os.path.isdir(el):\n",
    "#         !rm {el} -r"
   ]
  },
  {
   "cell_type": "code",
   "execution_count": null,
   "id": "dec7824d-be6f-4db8-9492-cb5e7e0aed2b",
   "metadata": {},
   "outputs": [],
   "source": [
    "short_durs = [librosa.get_duration(path=el) for el in glob(\"comp_speed/comp_speed/080_input_text0_*\")]\n",
    "base_durs = [librosa.get_duration(path=el) for el in glob(\"comp_speed/comp_speed/100_input_text0_*\")]\n",
    "long_durs = [librosa.get_duration(path=el) for el in glob(\"comp_speed/comp_speed/150_input_text0_*\")]"
   ]
  },
  {
   "cell_type": "code",
   "execution_count": null,
   "id": "d3809e7a-1a35-4d27-b31f-322dde84ca05",
   "metadata": {},
   "outputs": [],
   "source": [
    "glob(\"comp_speed/comp_speed/080_input_text0_*\")"
   ]
  },
  {
   "cell_type": "code",
   "execution_count": null,
   "id": "71871e11-73f5-4183-b75a-4dd2783c5dbe",
   "metadata": {},
   "outputs": [],
   "source": [
    "short_durs"
   ]
  },
  {
   "cell_type": "code",
   "execution_count": null,
   "id": "c08359de-214d-4a5e-9822-dd885a52be3e",
   "metadata": {},
   "outputs": [],
   "source": [
    "base_durs"
   ]
  },
  {
   "cell_type": "code",
   "execution_count": null,
   "id": "188677c7-16ba-44a7-8626-0f639047f387",
   "metadata": {},
   "outputs": [],
   "source": [
    "len(short) / sr, len(base) / sr, len(long) / sr"
   ]
  },
  {
   "cell_type": "code",
   "execution_count": null,
   "id": "158f8e1b-4ade-4858-9e29-ac7baa40fede",
   "metadata": {},
   "outputs": [],
   "source": [
    "2.4380952380952383 / 3.1811337868480725"
   ]
  },
  {
   "cell_type": "code",
   "execution_count": null,
   "id": "69537d15-fd17-4cba-b719-df6c4f20005e",
   "metadata": {},
   "outputs": [],
   "source": [
    "4.760090702947846 / 3.1811337868480725"
   ]
  },
  {
   "cell_type": "markdown",
   "id": "c4f88409-2499-46a3-a32b-22c6d45ca2ad",
   "metadata": {},
   "source": [
    "# Data"
   ]
  },
  {
   "cell_type": "code",
   "execution_count": null,
   "id": "4ddb8e9a-54cf-4d31-9628-1347207c293b",
   "metadata": {},
   "outputs": [],
   "source": [
    "def sample_uniformly_np_index(merged_intervals):\n",
    "    # Calculate the total span of all intervals in terms of seconds\n",
    "    total_seconds = sum(interval[1] - interval[0] for interval in merged_intervals)\n",
    "\n",
    "    # Generate a random position within the total span as a float\n",
    "    random_position = np.random.uniform(0, total_seconds)\n",
    "    \n",
    "    # Map the random position to an actual interval\n",
    "    current_position = 0\n",
    "    for index, (start, end, labels) in enumerate(merged_intervals):\n",
    "        interval_length = end - start\n",
    "        if current_position + interval_length > random_position:\n",
    "            # Calculate the actual second within the interval as a float\n",
    "            sampled_second = start + (random_position - current_position)\n",
    "            return sampled_second, index\n",
    "        current_position += interval_length\n",
    "\n",
    "    raise RuntimeError(\"sample_uniformly_np_index was not able to pick chunk\")"
   ]
  },
  {
   "cell_type": "code",
   "execution_count": 2,
   "id": "6c5eb2de-f276-48be-bf11-16f58a62cde5",
   "metadata": {},
   "outputs": [
    {
     "name": "stderr",
     "output_type": "stream",
     "text": [
      "/tmp/ipykernel_1506982/3403899871.py:2: DtypeWarning: Columns (3,4) have mixed types. Specify dtype option on import or set low_memory=False.\n",
      "  df = pd.read_csv(\"/home/vova/data/exps/birdclef_2024/birdclef_2024/merged_train_metadata_extended_noduplv2.csv\")\n"
     ]
    }
   ],
   "source": [
    "# df = pd.read_csv(\"/home/vova/data/exps/birdclef_2024/birdclef_2024/train_metadata_extended_noduplv1.csv\")\n",
    "df = pd.read_csv(\"/home/vova/data/exps/birdclef_2024/birdclef_2024/merged_train_metadata_extended_noduplv2.csv\")\n",
    "# df = pd.read_csv(\n",
    "#     \"/home/vova/data/exps/birdclef_2024/birdclef_2024/train_metadata_extended_noduplv1_GBirdV1.csv\",\n",
    "#     # converters={\"label_second\": eval}\n",
    "# )\n",
    "# df = pd.read_csv(\n",
    "#     \"/home/vova/src/exps/bird_clef_2024/google_bird_predictions/unlabeled_data/processed_data_v1_add_train.csv\",\n",
    "#     # converters={\"label_second\": eval}\n",
    "# )\n",
    "taxonomy = pd.read_csv(\"/home/vova/data/exps/birdclef_2024/birdclef_2024/eBird_Taxonomy_v2021.csv\")\n",
    "previous_soundscapes = pd.read_csv(\n",
    "    \"/home/vova/data/exps/birdclef_2024/my_2023_data/soundscapes_nocall/v1_no_call_meta_fixed.csv\"\n",
    ")\n",
    "scored_birds = load_json(\n",
    "    \"/home/vova/data/exps/birdclef_2024/scored_birds/sb_2024.json\"\n",
    ")\n",
    "# df = pd.read_csv(\"/home/vova/data/exps/BirdCLEF_2023/xeno_canto/train_metadata_extended_shorten_and_2023x_v1.csv\")\n",
    "# df.head()"
   ]
  },
  {
   "cell_type": "code",
   "execution_count": null,
   "id": "cffee80a-3bba-4a57-92be-9d6f1a158210",
   "metadata": {},
   "outputs": [],
   "source": [
    "df[df[\"label_second\"].apply(lambda x: len(set(chain(*[el[-1] for el in x])))) > 1]"
   ]
  },
  {
   "cell_type": "code",
   "execution_count": null,
   "id": "f9b896d9-3563-41f9-89b5-f1080686d254",
   "metadata": {},
   "outputs": [],
   "source": [
    "df[\"label_second\"].iloc[13]"
   ]
  },
  {
   "cell_type": "code",
   "execution_count": null,
   "id": "0eaaa728-6352-4100-9afb-7fef6cac7e61",
   "metadata": {},
   "outputs": [],
   "source": [
    "sample_uniformly_np_index(df[\"label_second\"].iloc[13])"
   ]
  },
  {
   "cell_type": "code",
   "execution_count": null,
   "id": "b34ae89a-45f5-4cec-969f-5f10f7a5c3b6",
   "metadata": {},
   "outputs": [],
   "source": [
    "seconds = [sample_uniformly_np_float(df[\"label_second\"].iloc[13])[0] for _ in range(100000)]"
   ]
  },
  {
   "cell_type": "code",
   "execution_count": null,
   "id": "63e431f0-af4d-42c7-ad16-0a9d444fee77",
   "metadata": {},
   "outputs": [],
   "source": [
    "plt.hist(seconds, bins=100);"
   ]
  },
  {
   "cell_type": "code",
   "execution_count": null,
   "id": "9bfd1770-0641-4142-a71b-6eeeb103f03b",
   "metadata": {},
   "outputs": [],
   "source": [
    "# previous_soundscapes[\"filename\"] = previous_soundscapes[\"filename\"].apply(lambda x: os.path.join(\n",
    "#     \"/home/vova/data/exps/birdclef_2024/my_2023_data/soundscapes_nocall/train_audio\", x\n",
    "# ))\n",
    "\n",
    "# def check_is_capable_to_load(path):\n",
    "#     try:\n",
    "#         librosa.load(path, sr=32000)\n",
    "#         return True\n",
    "#     except:\n",
    "#         return False\n",
    "\n",
    "# previous_soundscapes[\"is_corrupted\"] = previous_soundscapes[\"filename\"].apply(check_is_capable_to_load)\n",
    "\n",
    "# or_previous_soundscapes = pd.read_csv(\n",
    "#     \"/home/vova/data/exps/birdclef_2024/my_2023_data/soundscapes_nocall/v1_no_call_meta.csv\"\n",
    "# )\n",
    "# or_previous_soundscapes[previous_soundscapes[\"is_corrupted\"]].reset_index(drop=True).to_csv(\n",
    "#     \"/home/vova/data/exps/birdclef_2024/my_2023_data/soundscapes_nocall/v1_no_call_meta_fixed.csv\",\n",
    "#     index=False\n",
    "# )"
   ]
  },
  {
   "cell_type": "code",
   "execution_count": null,
   "id": "ea2de843-ffbd-4b73-94bc-2c95c55c606c",
   "metadata": {},
   "outputs": [],
   "source": [
    "# previous_soundscapes[\"primary_label\"] = \"nocall\"\n",
    "# previous_soundscapes.to_csv(\n",
    "#     \"/home/vova/data/exps/birdclef_2024/my_2023_data/soundscapes_nocall/v1_no_call_meta.csv\", index=False\n",
    "# )"
   ]
  },
  {
   "cell_type": "code",
   "execution_count": null,
   "id": "c1730745-0b95-4a07-8a07-c8129bcedb29",
   "metadata": {},
   "outputs": [],
   "source": [
    "df"
   ]
  },
  {
   "cell_type": "code",
   "execution_count": null,
   "id": "40b68fdb-cfce-4ff9-b87c-49d2aa0fc7ff",
   "metadata": {},
   "outputs": [],
   "source": [
    "df.shape[0] / 64"
   ]
  },
  {
   "cell_type": "code",
   "execution_count": null,
   "id": "66d245d6-b0d0-4d42-80d9-c8ab0d10994a",
   "metadata": {},
   "outputs": [],
   "source": [
    "df[\"secondary_labels\"].apply(eval).apply(len).value_counts()"
   ]
  },
  {
   "cell_type": "code",
   "execution_count": null,
   "id": "fad1dcf3-b836-4d0d-95a5-fbdf1a166839",
   "metadata": {},
   "outputs": [],
   "source": [
    "df"
   ]
  },
  {
   "cell_type": "code",
   "execution_count": null,
   "id": "0a6aafc1-8e82-4dec-8751-82c1823296d8",
   "metadata": {},
   "outputs": [],
   "source": [
    "df = df.sample(frac=1).reset_index(drop=True).iloc[:100]\n"
   ]
  },
  {
   "cell_type": "code",
   "execution_count": null,
   "id": "4494baca-c225-4810-8b99-65161b14d899",
   "metadata": {},
   "outputs": [],
   "source": [
    "df[\"primary_label\"].value_counts()"
   ]
  },
  {
   "cell_type": "code",
   "execution_count": null,
   "id": "f62952f5-f298-4eea-9755-d8a3f0a79a4f",
   "metadata": {},
   "outputs": [],
   "source": [
    "df[\"duration_s\"].iloc[:10].max()"
   ]
  },
  {
   "cell_type": "code",
   "execution_count": null,
   "id": "db09a1b5-52a9-4ec3-a663-91b581b9cd4b",
   "metadata": {},
   "outputs": [],
   "source": [
    "ab = 0.75\n",
    "plt.hist(np.clip(np.random.beta(ab, ab, size=1000), 0.2, 0.8))"
   ]
  },
  {
   "cell_type": "code",
   "execution_count": 3,
   "id": "3a2de4cd-0e7d-4f08-9147-ef774b03226f",
   "metadata": {},
   "outputs": [
    {
     "name": "stdout",
     "output_type": "stream",
     "text": [
      "STFT kernels created, time used = 0.3462 seconds\n"
     ]
    }
   ],
   "source": [
    "mel_spec_paramms={\n",
    "    \"sample_rate\": 32000,\n",
    "    \"n_mels\": 128,\n",
    "    \"f_min\": 20,\n",
    "    \"n_fft\": 2048,\n",
    "    \"hop_length\": 512,\n",
    "    \"normalized\": True,\n",
    "}\n",
    "mel_spec = nn.Sequential(\n",
    "    TraceableMelspec(**mel_spec_paramms, quantizable=False),\n",
    "    ChannelAgnosticAmplitudeToDB(top_db=80.0),\n",
    "    NormalizeMelSpec(exportable=True),\n",
    ")"
   ]
  },
  {
   "cell_type": "code",
   "execution_count": null,
   "id": "868db8cf-e044-4916-9bcc-83b5d36bdf00",
   "metadata": {},
   "outputs": [],
   "source": [
    "background_module = BackgroundNoise(**{\n",
    "    \"esc50_root\": \"/home/vova/data/exps/birdclef_2024/birdclef_2024/unlabeled_soundscapes/\",\n",
    "    \"esc50_df_path\": \"../pseudo/v1/negative_filtered_02.csv\",\n",
    "    \"precompute\": False,\n",
    "    \"load_normalize\": False,\n",
    "    \"normalize_chunks\": True,\n",
    "    \"normalize\": True,\n",
    "    \"chunks_column\": \"nocall\"\n",
    "})"
   ]
  },
  {
   "cell_type": "code",
   "execution_count": null,
   "id": "7639c247-b6dd-4265-8d84-666e89296079",
   "metadata": {},
   "outputs": [],
   "source": [
    "audio = background_module.sample(32000 * 5)\n",
    "spec = mel_spec(torch.from_numpy(audio)[None,...])\n",
    "plt.imshow(spec[0])\n",
    "ipd.Audio(audio, rate=32000)"
   ]
  },
  {
   "cell_type": "code",
   "execution_count": null,
   "id": "cd9a08dc-2e25-42a8-8c05-165e2ccff5ff",
   "metadata": {},
   "outputs": [],
   "source": [
    "audio.shape[0] / 32000"
   ]
  },
  {
   "cell_type": "code",
   "execution_count": null,
   "id": "edaa597d-5381-48df-830e-c849e811bce2",
   "metadata": {},
   "outputs": [],
   "source": [
    "background_module.sample_names[1482]"
   ]
  },
  {
   "cell_type": "code",
   "execution_count": null,
   "id": "edfbe731-39a1-4a21-a13c-9182a692527a",
   "metadata": {},
   "outputs": [],
   "source": [
    "np.allclose(\n",
    "    librosa.util.normalize(\n",
    "        librosa.load(background_module.sample_names[1482], sr=32_000)[0][:5*32000]\n",
    "    ), \n",
    "    audio\n",
    ")"
   ]
  },
  {
   "cell_type": "code",
   "execution_count": null,
   "id": "88a924aa-4154-4fbc-ae65-16ff0c0a5fcb",
   "metadata": {},
   "outputs": [],
   "source": [
    "# np.abs(background_module.sample(32000*5)).max()"
   ]
  },
  {
   "cell_type": "code",
   "execution_count": null,
   "id": "9025fca5-3324-45ac-880a-701dc9070ccf",
   "metadata": {},
   "outputs": [],
   "source": [
    "# np.abs(background_module._pick_random_valid_sample()).max()"
   ]
  },
  {
   "cell_type": "code",
   "execution_count": 4,
   "id": "1a5e55b4-31e2-48e1-9a40-2f6ad10d66ad",
   "metadata": {},
   "outputs": [],
   "source": [
    "train_dataset = WaveDataset(\n",
    "    df=df,\n",
    "    root=\"/home/vova/data/exps/birdclef_2024/birdclef_2024/train_features/\",\n",
    "    label_str2int_mapping_path=\"/home/vova/data/exps/birdclef_2024/class_mappings/bird2int_2024.json\",\n",
    "    # label_str2int_mapping_path=\"/home/vova/data/exps/birdclef_2024/class_mappings/bird2int_2024_PrevComp.json\",\n",
    "    precompute=False,\n",
    "    n_cores=4,\n",
    "    debug=False,\n",
    "    # do_mixup=True,\n",
    "    # mixup_params={\n",
    "    #     \"prob\": 1.0, \n",
    "    #     \"alpha\": 1.0, \n",
    "    #     # \"n_samples\": 4,\n",
    "    #     # \"weights_path\": \"/home/vova/data/exps/birdclef_2024/sample_weights/sw_2024_add_data_v1.json\"\n",
    "    # },\n",
    "    segment_len=5,\n",
    "    late_normalize=True,\n",
    "    sampler_col=\"stratify_col\",\n",
    "    # timewise_col=\"label_second\",\n",
    "    use_h5py=True,\n",
    "    # shuffle=True,\n",
    "    # add_df_paths=[\n",
    "    #     \"/home/vova/data/exps/birdclef_2024/dfs/full_noduplsV3_meta_prev_comps_extended.csv\"\n",
    "    #     # \"/home/vova/data/exps/birdclef_2024/dfs/full_noduplsV3_scored_meta_prev_comps_extended_2024SecLabels.csv\",\n",
    "    #     # \"/home/vova/data/exps/birdclef_2024/xeno_canto/dataset_2024_classes/train_metadata_noduplV3_extended_2024SecLabels.csv\"\n",
    "    #     # \"/home/vova/src/exps/bird_clef_2024/google_bird_predictions/unlabeled_data/processed_data_v1.csv\"\n",
    "    # ],\n",
    "    filename_change_mapping={\n",
    "        # \"base\": \"birdclef_2024/train_audio/\",\n",
    "        # \"comp_2021\":\"birdclef_2021/train_short_audio/\",\n",
    "        # \"comp_2023\":\"birdclef_2023/train_audio/\",\n",
    "        # \"comp_2022\":\"birdclef_2022/train_audio/\",\n",
    "        # \"comp_2020\":\"birdsong_recognition/train_audio/\",\n",
    "        # \"a_m_2020\": \"xeno_canto_bird_recordings_extended_a_m/A-M/\",\n",
    "        # \"n_z_2020\": \"xeno_canto_bird_recordings_extended_n_z/N-Z/\",\n",
    "        # \"xc_2024_classes\": \"xeno_canto/dataset_2024_classes/audio/\",\n",
    "        \"soundscape\": \"birdclef_2024/unlabeled_soundscapes_features/\",\n",
    "        \"base\": \"birdclef_2024/train_features/\",\n",
    "        \"comp_2021\":\"birdclef_2021/train_features/\",\n",
    "        \"comp_2023\":\"birdclef_2023/train_features/\",\n",
    "        \"comp_2022\":\"birdclef_2022/train_features/\",\n",
    "        \"comp_2020\":\"birdsong_recognition/train_features/\",\n",
    "        \"a_m_2020\": \"xeno_canto_bird_recordings_extended_a_m/train_features/\",\n",
    "        \"n_z_2020\": \"xeno_canto_bird_recordings_extended_n_z/train_features/\",\n",
    "        \"xc_2024_classes\": \"xeno_canto/dataset_2024_classes/train_features/\"\n",
    "    },\n",
    "    ignore_setting_dataset_value=True,\n",
    "    soundscape_pseudo_df_path=\"../pseudo/v2/positive_filtered_075_cap_500.csv\",\n",
    "    # late_aug=TimeFlip(),\n",
    "    # late_aug = Compose([\n",
    "    #     BackgroundNoise(\n",
    "    #         p=0.75,\n",
    "    #         esc50_root=\"/home/vova/data/exps/birdclef_2024/my_2023_data/soundscapes_nocall/train_audio\",\n",
    "    #         esc50_df_path=\"/home/vova/data/exps/birdclef_2024/my_2023_data/soundscapes_nocall/v1_no_call_meta_fixed.csv\",\n",
    "    #         precompute=False,\n",
    "    #         normalize=True,\n",
    "    #         normalize_chunks=True,\n",
    "    #         load_normalize=True,\n",
    "    #         min_level=0.5,\n",
    "    #         max_level=0.99,\n",
    "    #         verbose=True\n",
    "    #     ),\n",
    "    #     PinkNoise(\n",
    "    #         p=1.0,\n",
    "    #         min_snr=0.5,\n",
    "    #         max_snr=2.0,\n",
    "    #         verbose=True\n",
    "    #     ),\n",
    "    # ]),\n",
    "    # BackgroundNoise(\n",
    "    #     p=1.0,\n",
    "    #     esc50_root=\"/home/vova/data/exps/birdclef_2024/my_2023_data/soundscapes_nocall/train_audio\",\n",
    "    #     esc50_df_path=\"/home/vova/data/exps/birdclef_2024/my_2023_data/soundscapes_nocall/v1_no_call_meta_fixed.csv\",\n",
    "    #     precompute=False,\n",
    "    #     normalize=True,\n",
    "    #     normalize_chunks=True,\n",
    "    #     load_normalize=True,\n",
    "    #     min_level=0.5,\n",
    "    #     max_level=0.99,\n",
    "    #     verbose=True\n",
    "    # ),\n",
    "    # empty_soundscape_config={\n",
    "    #     \"prob\": 0.35,\n",
    "    #     \"sampler_config\": {\n",
    "    #         \"esc50_root\": \"/home/vova/data/exps/birdclef_2024/my_2023_data/soundscapes_nocall/train_audio\",\n",
    "    #         \"esc50_df_path\": \"/home/vova/data/exps/birdclef_2024/my_2023_data/soundscapes_nocall/v1_no_call_meta_fixed.csv\",\n",
    "    #         \"normalize\": False,\n",
    "    #         \"precompute\": False,\n",
    "    #         \"load_normalize\": False,\n",
    "    #     }\n",
    "    # },\n",
    "    # soundscape_pseudo_df_path=\"../pseudo/v1/positive_filtered_07_stratifyV2.csv\",\n",
    "    use_sampler=True,\n",
    "    # start_from_zero=True,\n",
    "    # sec_target_col=None\n",
    "    # empty_soundscape_config={\n",
    "    #     \"prob\": 0.5,\n",
    "    #     \"sampler_config\": {\n",
    "    #         \"esc50_root\": \"/home/vova/data/exps/birdclef_2024/my_2023_data/soundscapes_nocall/train_audio\",\n",
    "    #         \"esc50_df_path\": \"/home/vova/data/exps/birdclef_2024/my_2023_data/soundscapes_nocall/v1_no_call_meta.csv\",\n",
    "    #         \"normalize\": False,\n",
    "    #         \"debug\": True\n",
    "    #     }\n",
    "    # }\n",
    ")\n",
    "\n",
    "# train_dataset_ss = WaveDataset(\n",
    "#     df=previous_soundscapes,\n",
    "#     root=\"/home/vova/data/exps/birdclef_2024/my_2023_data/soundscapes_nocall/train_audio\",\n",
    "#     label_str2int_mapping_path=\"/home/vova/data/exps/birdclef_2024/class_mappings/bird2int_2024.json\",\n",
    "#     precompute=False,\n",
    "#     n_cores=4,\n",
    "#     debug=False,\n",
    "#     do_mixup=True,\n",
    "#     mixup_params={\"prob\": 0.5, \"alpha\": None},\n",
    "#     segment_len=5,\n",
    "#     late_normalize=True,\n",
    "#     sampler_col=\"primary_label\",\n",
    "#     sec_target_col=None,\n",
    "#     use_h5py=False,\n",
    "#     use_sampler=True\n",
    "# )\n",
    "\n",
    "# train_dataset_full = WaveAllFileDataset(\n",
    "#     df=df,\n",
    "#     # root=\"/home/vova/data/exps/birdclef_2024/birdclef_2024/train_features/\",\n",
    "#     root=\"/home/vova/data/exps/birdclef_2024/birdclef_2024/train_audio\",\n",
    "#     label_str2int_mapping_path=\"/home/vova/data/exps/birdclef_2024/class_mappings/bird2int_2024.json\",\n",
    "#     precompute=False,\n",
    "#     n_cores=4,\n",
    "#     debug=False,\n",
    "#     segment_len=5,\n",
    "#     sample_id=None,\n",
    "#     late_normalize=False,\n",
    "#     use_h5py=False,\n",
    "#     load_normalize=False,\n",
    "\n",
    "#     use_audio_cache=True,\n",
    "#     test_mode=True\n",
    "# )\n",
    "\n",
    "# merged_dataset = torch.utils.data.ConcatDataset([train_dataset, train_dataset_ss])"
   ]
  },
  {
   "cell_type": "code",
   "execution_count": null,
   "id": "f073be8e-a358-4b32-beae-bbc576050eba",
   "metadata": {},
   "outputs": [],
   "source": [
    "train_dataset.df[\"filename_with_root\"].iloc[0]"
   ]
  },
  {
   "cell_type": "code",
   "execution_count": null,
   "id": "4cdafec5-660e-4821-9aaf-a910db03858e",
   "metadata": {},
   "outputs": [],
   "source": [
    "train_dataset.df[\"stratify_col\"].isna().sum()"
   ]
  },
  {
   "cell_type": "code",
   "execution_count": null,
   "id": "19adf69e-e0d6-467b-be18-424a92ff40be",
   "metadata": {},
   "outputs": [],
   "source": [
    "not_base_df = train_dataset.df[train_dataset.df[\"dataset\"] != \"base\"].reset_index(drop=True)"
   ]
  },
  {
   "cell_type": "code",
   "execution_count": null,
   "id": "592238b8-45a5-4ee2-b095-b17aa6a96f74",
   "metadata": {},
   "outputs": [],
   "source": [
    "for fname in tqdm(not_base_df[\"filename_with_root\"].to_list()):\n",
    "    try:\n",
    "        copyfile(\n",
    "            fname, \n",
    "            os.path.join(\"/home/vova/data/exps/birdclef_2024/kaggle_datasets/bird_clef_2024_add_data/scored_add_data\", os.path.basename(fname))\n",
    "        )\n",
    "    except Exception as e:\n",
    "        fname = fname.replace(\".ogg\", \".mp3\")\n",
    "        copyfile(\n",
    "            fname, \n",
    "            os.path.join(\"/home/vova/data/exps/birdclef_2024/kaggle_datasets/bird_clef_2024_add_data/scored_add_data\", os.path.basename(fname))\n",
    "        )"
   ]
  },
  {
   "cell_type": "code",
   "execution_count": 5,
   "id": "a7918a02-c787-4c51-b28a-d725b028337b",
   "metadata": {},
   "outputs": [],
   "source": [
    "id2bird = {v:k for k,v in train_dataset.label_str2int.items()}"
   ]
  },
  {
   "cell_type": "code",
   "execution_count": null,
   "id": "528c4b0b-514f-4e22-9042-1e934967402b",
   "metadata": {},
   "outputs": [],
   "source": [
    "len(set(train_dataset.df[\"primary_label\"]))"
   ]
  },
  {
   "cell_type": "code",
   "execution_count": null,
   "id": "3afa8151-ef4d-4578-b0bd-7c2a8d334cc9",
   "metadata": {},
   "outputs": [],
   "source": [
    "set(scored_birds) == set(train_dataset.df[\"primary_label\"])"
   ]
  },
  {
   "cell_type": "code",
   "execution_count": null,
   "id": "dff9c724-c6e3-44bd-93ad-2cdaf7ced858",
   "metadata": {},
   "outputs": [],
   "source": [
    "train_dataset.df[\"dataset\"].value_counts(normalize=True)"
   ]
  },
  {
   "cell_type": "code",
   "execution_count": null,
   "id": "20aa23fb-1b55-474e-9995-00f724baddaa",
   "metadata": {},
   "outputs": [],
   "source": [
    "train_dataset.df[train_dataset.df[\"dataset\"] == \"soundscape\"]"
   ]
  },
  {
   "cell_type": "code",
   "execution_count": null,
   "id": "d98a6175-d275-4874-a1d7-26ce5cf933c3",
   "metadata": {},
   "outputs": [],
   "source": [
    "train_dataset.df[train_dataset.df.duration_s <= 5]"
   ]
  },
  {
   "cell_type": "code",
   "execution_count": null,
   "id": "6ae7f9e3-5d0c-46f1-af92-7072dd071980",
   "metadata": {},
   "outputs": [],
   "source": [
    "train_dataset.df.duration_s.median()"
   ]
  },
  {
   "cell_type": "code",
   "execution_count": null,
   "id": "ac9e007b-3e07-499f-bb4c-92da818d4413",
   "metadata": {},
   "outputs": [],
   "source": [
    "np.quantile(train_dataset.df.duration_s, 0.85)"
   ]
  },
  {
   "cell_type": "code",
   "execution_count": null,
   "id": "cf316409-0ad8-4e2d-8f7c-404221bcd3ce",
   "metadata": {},
   "outputs": [],
   "source": [
    "train_dataset.df.duration_s.hist(bins=30)"
   ]
  },
  {
   "cell_type": "code",
   "execution_count": null,
   "id": "18e056d4-97e2-4c4b-8b7f-f6b0f8c204f9",
   "metadata": {},
   "outputs": [],
   "source": [
    "train_dataset.df[train_dataset.df[\"dataset\"] == \"soundscape\"]"
   ]
  },
  {
   "cell_type": "code",
   "execution_count": null,
   "id": "9d61264b-c10b-4207-8a26-60c4c80a5cca",
   "metadata": {},
   "outputs": [],
   "source": [
    "df.shape[0] / len(train_dataset), len(train_dataset)"
   ]
  },
  {
   "cell_type": "code",
   "execution_count": null,
   "id": "a0fbf92e-0f9e-4e1d-b608-89b07449fd39",
   "metadata": {},
   "outputs": [],
   "source": [
    "train_dataset[35530]"
   ]
  },
  {
   "cell_type": "code",
   "execution_count": null,
   "id": "b502bb7f-8440-4269-97ef-45c249ec89d5",
   "metadata": {},
   "outputs": [],
   "source": [
    "len(train_dataset), len(train_dataset_ss), len(merged_dataset)"
   ]
  },
  {
   "cell_type": "code",
   "execution_count": null,
   "id": "ab211ac0-4d49-4bd5-8992-64fbfef3629c",
   "metadata": {},
   "outputs": [],
   "source": [
    "pd.Series(train_dataset.targets).value_counts()"
   ]
  },
  {
   "cell_type": "code",
   "execution_count": null,
   "id": "ac56c009-9404-4f35-8ee6-1ffc7b1f4f0d",
   "metadata": {},
   "outputs": [],
   "source": [
    "all_tgts = pd.Series(train_dataset.targets)\n",
    "sample_weights = (all_tgts.value_counts() / all_tgts.value_counts().sum())  ** (-0.5)\n",
    "write_json(\n",
    "    \"/home/vova/data/exps/birdclef_2024/sample_weights/sw_2024_v1_pseudov1_StratV2.json\",\n",
    "    sample_weights.to_dict()\n",
    ")"
   ]
  },
  {
   "cell_type": "code",
   "execution_count": null,
   "id": "15176218-d065-4276-acb2-0f349fe79145",
   "metadata": {},
   "outputs": [],
   "source": [
    "# all_tgts = pd.Series(list(chain(*[ds.targets for ds in merged_dataset.datasets])))\n",
    "# sample_weights = (all_tgts.value_counts() / all_tgts.value_counts().sum())  ** (-0.5)\n",
    "# write_json(\n",
    "#     \"/home/vova/data/exps/birdclef_2024/sample_weights/sw_2024_add_data_v1_with_nocall.json\",\n",
    "#     sample_weights.to_dict()\n",
    "# )"
   ]
  },
  {
   "cell_type": "code",
   "execution_count": null,
   "id": "a2f44837-6e47-46e4-9eb2-b3c2b55dea18",
   "metadata": {},
   "outputs": [],
   "source": [
    "class_weights = load_json(\"/home/vova/data/exps/birdclef_2024/sample_weights/sw_2024_add_data_v1_with_nocall.json\")\n",
    "sample_weights = np.array([\n",
    "    class_weights[el] for el in list(chain(*[ds.targets for ds in merged_dataset.datasets]))\n",
    "])\n",
    "sampler = torch.utils.data.WeightedRandomSampler(sample_weights, len(sample_weights))"
   ]
  },
  {
   "cell_type": "code",
   "execution_count": null,
   "id": "08860b68-d21f-45df-9f1b-8c78d44b9622",
   "metadata": {},
   "outputs": [],
   "source": [
    "def worker_init_fn(worker_id):\n",
    "    np.random.seed(np.random.get_state()[1][0] + worker_id)\n",
    "\n",
    "loader = torch.utils.data.DataLoader(\n",
    "    merged_dataset,\n",
    "    worker_init_fn=worker_init_fn,\n",
    "    sampler=sampler,\n",
    "    **{\n",
    "        \"batch_size\": 64,\n",
    "        \"shuffle\": False,\n",
    "        \"drop_last\": True,\n",
    "        \"num_workers\": 0,\n",
    "        \"pin_memory\": True,\n",
    "    },\n",
    ")"
   ]
  },
  {
   "cell_type": "code",
   "execution_count": null,
   "id": "e568e053-f0f5-41ae-83fb-845586f9adec",
   "metadata": {},
   "outputs": [],
   "source": [
    "len(loader)"
   ]
  },
  {
   "cell_type": "code",
   "execution_count": null,
   "id": "628e29ac-9d1b-4a29-9ad9-fd540369b8c8",
   "metadata": {},
   "outputs": [],
   "source": [
    "\n",
    "for idx, b in enumerate(loader):\n",
    "    print(f\"Empty Fraction: {(b[1].sum(axis=1) == 0).sum() / b[1].shape[0]}\")\n",
    "    if idx > 10:\n",
    "        break"
   ]
  },
  {
   "cell_type": "code",
   "execution_count": null,
   "id": "f1ea858c-1ec1-4a0f-b9d9-de5a81a8a99f",
   "metadata": {},
   "outputs": [],
   "source": [
    "(batch[1].sum(axis=1) == 0).sum() / batch[1].shape[0]"
   ]
  },
  {
   "cell_type": "code",
   "execution_count": null,
   "id": "13133f74-6abc-488d-b855-bc6643358e99",
   "metadata": {},
   "outputs": [],
   "source": [
    "au, tgt = train_dataset_ss[0]"
   ]
  },
  {
   "cell_type": "code",
   "execution_count": null,
   "id": "85e2b96d-7dd1-448f-be55-f08961edda88",
   "metadata": {},
   "outputs": [],
   "source": [
    "np.abs(au).max(), tgt.sum()"
   ]
  },
  {
   "cell_type": "code",
   "execution_count": null,
   "id": "3002ced9-8be9-4334-9823-0d55d9d4a8d3",
   "metadata": {},
   "outputs": [],
   "source": [
    "train_dataset_full[0][0].min()"
   ]
  },
  {
   "cell_type": "code",
   "execution_count": null,
   "id": "0108a81d-0d53-40dd-a0a8-eea050a44756",
   "metadata": {},
   "outputs": [],
   "source": [
    "train_dataset_full.test_audio_cache[\"au\"].min()"
   ]
  },
  {
   "cell_type": "code",
   "execution_count": null,
   "id": "f4a80cb4-ecff-4671-9b1e-3ac60a62cd7f",
   "metadata": {},
   "outputs": [],
   "source": [
    "sorted(set(train_dataset.df[\"primary_label\"]))"
   ]
  },
  {
   "cell_type": "code",
   "execution_count": null,
   "id": "f809ab6e-f430-4287-9cb4-73cce7b73f3b",
   "metadata": {},
   "outputs": [],
   "source": [
    "train_dataset.df.loc[train_dataset.df[\"dataset\"] == \"xc_2024_classes\", \"primary_label\"].value_counts()"
   ]
  },
  {
   "cell_type": "code",
   "execution_count": null,
   "id": "08f2a4b5-91db-4eff-82db-9625dc22627d",
   "metadata": {},
   "outputs": [],
   "source": [
    "taxonomy"
   ]
  },
  {
   "cell_type": "code",
   "execution_count": null,
   "id": "bebd56b2-8a14-489f-bcae-defe6a8ab2ca",
   "metadata": {},
   "outputs": [],
   "source": [
    "taxonomy[taxonomy[\"PRIMARY_COM_NAME\"].apply(lambda x: x.startswith(\"Intermediate Egret\"))]"
   ]
  },
  {
   "cell_type": "code",
   "execution_count": null,
   "id": "a9bb5923-f52e-42ef-95e3-16033e177bd7",
   "metadata": {},
   "outputs": [],
   "source": [
    "train_dataset.df[(train_dataset.df[\"dataset\"] == \"xc_2024_classes\") & (train_dataset.df[\"primary_label\"] == \"integr\")]"
   ]
  },
  {
   "cell_type": "code",
   "execution_count": null,
   "id": "84e5e2a6-1468-48c9-908b-997353c965ba",
   "metadata": {},
   "outputs": [],
   "source": [
    "# train_dataset.df[train_dataset.df.primary_label == \"brnfio1\"]"
   ]
  },
  {
   "cell_type": "code",
   "execution_count": null,
   "id": "5a8ee827-5773-4e66-a0d9-f87a4e4d12e9",
   "metadata": {},
   "outputs": [],
   "source": [
    "train_dataset.df[(train_dataset.df[\"dataset\"] == \"base\") & (train_dataset.df[\"primary_label\"] == \"integr\")]"
   ]
  },
  {
   "cell_type": "code",
   "execution_count": null,
   "id": "a1f09ce3-97df-4410-953f-07c0124970d8",
   "metadata": {},
   "outputs": [],
   "source": []
  },
  {
   "cell_type": "code",
   "execution_count": null,
   "id": "c2fad9f7-0ede-471f-9ae8-7309807c50d8",
   "metadata": {},
   "outputs": [],
   "source": [
    "train_dataset.label_str2int[\"asbfly\"]"
   ]
  },
  {
   "cell_type": "code",
   "execution_count": null,
   "id": "08a3d40b-a654-4ba4-8612-79f2f7cf147b",
   "metadata": {},
   "outputs": [],
   "source": [
    "torch.where(train_dataset[22][1] > 0)[0]"
   ]
  },
  {
   "cell_type": "code",
   "execution_count": null,
   "id": "6da3ae01-8d86-4085-b42b-4fbe7a7df15d",
   "metadata": {},
   "outputs": [],
   "source": [
    "train_dataset.df[\"filename_with_root\"].apply(os.path.exists).all()"
   ]
  },
  {
   "cell_type": "code",
   "execution_count": null,
   "id": "fcffe0c1-8c07-4c90-96b0-13c72a9d257b",
   "metadata": {},
   "outputs": [],
   "source": [
    "train_dataset.df.shape"
   ]
  },
  {
   "cell_type": "code",
   "execution_count": null,
   "id": "8db0cf1e-cc09-4319-93b6-b5c938706236",
   "metadata": {},
   "outputs": [],
   "source": [
    "vc = train_dataset.df[\"url\"].apply(lambda x: x.split(\"/\")[-1]).value_counts()"
   ]
  },
  {
   "cell_type": "code",
   "execution_count": null,
   "id": "ba73e0a5-469b-4c0f-8827-06b5cf8bc1a6",
   "metadata": {},
   "outputs": [],
   "source": [
    "train_dataset.df[]"
   ]
  },
  {
   "cell_type": "code",
   "execution_count": null,
   "id": "a153cf6a-f140-41f9-af9b-5d41f3d478c9",
   "metadata": {},
   "outputs": [],
   "source": [
    "train_dataset.df[train_dataset.df[\"url\"].apply(lambda x: x.split(\"/\")[-1]).isin(vc[vc > 1].index)].sort_values(\"url\")"
   ]
  },
  {
   "cell_type": "code",
   "execution_count": null,
   "id": "84d7cf3d-1dc4-49ae-b816-0009689abe94",
   "metadata": {},
   "outputs": [],
   "source": [
    "sample_au, target_au = train_dataset[1000]"
   ]
  },
  {
   "cell_type": "code",
   "execution_count": null,
   "id": "09ed9960-3304-4c10-bf2a-efffcb1a1e0a",
   "metadata": {},
   "outputs": [],
   "source": [
    "sample_au.min(), sample_au.max()"
   ]
  },
  {
   "cell_type": "code",
   "execution_count": null,
   "id": "1dc7cd71-c9b0-434c-a2d1-e7f7c3de4897",
   "metadata": {},
   "outputs": [],
   "source": [
    "df[df[\"primary_label\"] == \"comtai1\"].url"
   ]
  },
  {
   "cell_type": "code",
   "execution_count": null,
   "id": "488de4f8-b4f2-43fb-80fb-47f1810dcff2",
   "metadata": {},
   "outputs": [],
   "source": [
    "sample_weights = pd.Series(load_json(\"/home/vova/data/exps/birdclef_2024/sample_weights/sw_2024_add_data_v1.json\"))"
   ]
  },
  {
   "cell_type": "code",
   "execution_count": null,
   "id": "c2dcb4d1-75dc-40fd-a5ab-3c81352b0471",
   "metadata": {},
   "outputs": [],
   "source": [
    "sample_weights"
   ]
  },
  {
   "cell_type": "code",
   "execution_count": null,
   "id": "a0f31413-090d-4366-a34d-f02fc202890d",
   "metadata": {},
   "outputs": [],
   "source": [
    "sampled_birds = []\n",
    "for _ in tqdm(range(1000)):\n",
    "    sample_au, target_au = train_dataset[0]\n",
    "    sampled_birds.extend([id2bird[el] for el in np.where(target_au > 0)[0]])"
   ]
  },
  {
   "cell_type": "code",
   "execution_count": null,
   "id": "f4e4a0ab-370b-4a6b-8e22-7b402bd4d985",
   "metadata": {},
   "outputs": [],
   "source": [
    "pd.Series(sampled_birds).value_counts().iloc[1:20]"
   ]
  },
  {
   "cell_type": "code",
   "execution_count": null,
   "id": "3ad9a3d5-5f88-4d8c-9e1a-6b0f196d1499",
   "metadata": {},
   "outputs": [],
   "source": [
    "train_dataset.df.primary_label.value_counts().iloc[1:20]"
   ]
  },
  {
   "cell_type": "code",
   "execution_count": null,
   "id": "a9c810bc-62d2-49da-9949-68ec157c5377",
   "metadata": {},
   "outputs": [],
   "source": [
    "train_dataset.df[\"label_second\"]"
   ]
  },
  {
   "cell_type": "code",
   "execution_count": null,
   "id": "2be55678-9982-4520-b278-9e0609183abb",
   "metadata": {},
   "outputs": [],
   "source": [
    "train_dataset.df[train_dataset.df[\"label_second\"].apply(lambda x: len(set(chain(*[el[-1] for el in x])))) > 1]"
   ]
  },
  {
   "cell_type": "code",
   "execution_count": null,
   "id": "ab6066ab-69f8-4521-b7bc-deb0d40cc561",
   "metadata": {},
   "outputs": [],
   "source": [
    "train_dataset.df[\n",
    "    (train_dataset.df[\"label_second\"].apply(lambda x: x[-1][1] - x[-1][0]) < 2.5) &\n",
    "    (train_dataset.df[\"label_second\"].apply(len) == 1) &\n",
    "    (train_dataset.df[\"duration_s\"] > 5)\n",
    "]"
   ]
  },
  {
   "cell_type": "code",
   "execution_count": null,
   "id": "2f0afddd-253f-467f-8b18-6d738948b35a",
   "metadata": {},
   "outputs": [],
   "source": [
    "train_dataset.df[train_dataset.df[\"duration_s\"] < 5]"
   ]
  },
  {
   "cell_type": "code",
   "execution_count": null,
   "id": "ea5e3411-13b1-4bf1-a850-e65214c0754a",
   "metadata": {},
   "outputs": [],
   "source": [
    "int((27.35021875 - 5) * 32000)"
   ]
  },
  {
   "cell_type": "code",
   "execution_count": null,
   "id": "dc8df22b-4459-432e-9abb-2ebf7f92f029",
   "metadata": {},
   "outputs": [],
   "source": [
    "(33.64571875 - 5) * 32000"
   ]
  },
  {
   "cell_type": "code",
   "execution_count": null,
   "id": "7efc13e6-d7f5-4e67-b0b3-da76ea7aefd0",
   "metadata": {},
   "outputs": [],
   "source": [
    "(30 - 2.5) * 32000"
   ]
  },
  {
   "cell_type": "code",
   "execution_count": null,
   "id": "b36d653f-bb00-4b57-bc8f-e3d7dc457e29",
   "metadata": {},
   "outputs": [],
   "source": [
    "train_dataset.df[train_dataset.df.duration_s <= 5]"
   ]
  },
  {
   "cell_type": "code",
   "execution_count": null,
   "id": "455ccab1-1515-4887-b51e-9fc9570cfafb",
   "metadata": {},
   "outputs": [],
   "source": [
    "mel_spec_paramms={\n",
    "    \"sample_rate\": 32000,\n",
    "    \"n_mels\": 128,\n",
    "    \"f_min\": 20,\n",
    "    \"n_fft\": 2048,\n",
    "    \"hop_length\": 512,\n",
    "    \"normalized\": True,\n",
    "}\n",
    "mel_spec = nn.Sequential(\n",
    "    TraceableMelspec(**mel_spec_paramms, quantizable=False),\n",
    "    AmplitudeToDB(top_db=80.0),\n",
    "    NormalizeMelSpec(exportable=True),\n",
    ")\n",
    "mel_spec_new = nn.Sequential(\n",
    "    TraceableMelspec(**mel_spec_paramms, quantizable=False),\n",
    "    ChannelAgnosticAmplitudeToDB(top_db=80.0),\n",
    "    NormalizeMelSpec(exportable=True),\n",
    ")"
   ]
  },
  {
   "cell_type": "code",
   "execution_count": null,
   "id": "1eacb594-fe1f-492e-ae46-7dac1b20d2e0",
   "metadata": {},
   "outputs": [],
   "source": [
    "train_dataset.df.loc[train_dataset.df[\"dataset\"] == \"soundscape\", \"primary_label\"].value_counts().head(20)"
   ]
  },
  {
   "cell_type": "code",
   "execution_count": null,
   "id": "f1322932-2461-4933-8bca-c9213ed55ca7",
   "metadata": {},
   "outputs": [],
   "source": [
    "train_dataset.df[\n",
    "    (train_dataset.df[\"primary_label\"] == \"whcbar1\") &\n",
    "    (train_dataset.df[\"dataset\"] != \"soundscape\")\n",
    "]"
   ]
  },
  {
   "cell_type": "code",
   "execution_count": null,
   "id": "4ad7bc82-b943-4bba-bb01-d51169926be6",
   "metadata": {},
   "outputs": [],
   "source": [
    "class_name = \"brcful1\""
   ]
  },
  {
   "cell_type": "code",
   "execution_count": null,
   "id": "881552bc-0205-4914-9cc5-c1157d72473e",
   "metadata": {},
   "outputs": [],
   "source": [
    "# sample_au, target_au = train_dataset[0]\n",
    "# sample_id = np.random.randint(0, len(train_dataset))\n",
    "sample_id = 55132 #np.random.choice(train_dataset.df[\n",
    "#     (train_dataset.df[\"primary_label\"] == class_name) &\n",
    "#     (train_dataset.df[\"dataset\"] == \"soundscape\")\n",
    "# ].index)\n",
    "print(\"Sample ID\", sample_id)\n",
    "sample_au, target_au = train_dataset[sample_id]\n",
    "\n",
    "print(\"Target IDS:\", np.where(target_au > 0)[0])\n",
    "print(\"Birds: \", [id2bird[el] for el in np.where(target_au > 0)[0]])\n",
    "\n",
    "# plt.figure(figsize=(20,10))\n",
    "spec = mel_spec(torch.from_numpy((sample_au))[None,...]) ** 1\n",
    "plt.imshow(spec[0])\n",
    "plt.show()\n",
    "\n",
    "ipd.Audio(sample_au, rate=32000)"
   ]
  },
  {
   "cell_type": "code",
   "execution_count": 46,
   "id": "a8b0cc2b-78d0-4e72-80b0-4d20d46c92d4",
   "metadata": {},
   "outputs": [
    {
     "name": "stdout",
     "output_type": "stream",
     "text": [
      "X shape in Norm torch.Size([1, 128, 313])\n"
     ]
    },
    {
     "data": {
      "image/png": "[encoded data removed]",
      "text/plain": [
       "<Figure size 640x480 with 1 Axes>"
      ]
     },
     "metadata": {},
     "output_type": "display_data"
    },
    {
     "data": {
      "text/html": [
       "\n",
       "                <audio  controls=\"controls\" >\n",
       "                    <source src=\"data:audio/wav;base64,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\" type=\"audio/wav\" />\n",
       "                    Your browser does not support the audio element.\n",
       "                </audio>\n",
       "              "
      ],
      "text/plain": [
       "<IPython.lib.display.Audio object>"
      ]
     },
     "execution_count": 46,
     "metadata": {},
     "output_type": "execute_result"
    }
   ],
   "source": [
    "# sample_au, target_au = train_dataset[0]\n",
    "sample_id = 3770 #np.random.choice(train_dataset.df[\n",
    "#     (train_dataset.df[\"primary_label\"] == class_name) &\n",
    "#     (train_dataset.df[\"dataset\"] != \"soundscape\")\n",
    "# ].index)\n",
    "print(\"Sample ID\", sample_id)\n",
    "sample_au, target_au = train_dataset[sample_id]\n",
    "\n",
    "print(\"Target IDS:\", np.where(target_au > 0)[0])\n",
    "print(\"Birds: \", [id2bird[el] for el in np.where(target_au > 0)[0]])\n",
    "\n",
    "# plt.figure(figsize=(20,10))\n",
    "spec = mel_spec(torch.from_numpy((sample_au))[None,...]) #** 0.6080866059834527\n",
    "plt.imshow(spec[0])\n",
    "plt.show()\n",
    "\n",
    "ipd.Audio(sample_au, rate=32000)"
   ]
  },
  {
   "cell_type": "code",
   "execution_count": null,
   "id": "3d543817-596b-4a86-9b37-0773773d294c",
   "metadata": {},
   "outputs": [],
   "source": [
    "(spec - spec_new).abs().amax(axis=(1,2))"
   ]
  },
  {
   "cell_type": "code",
   "execution_count": null,
   "id": "2e05a520-63e3-4010-887a-4cd727b38b86",
   "metadata": {},
   "outputs": [],
   "source": [
    "target_au"
   ]
  },
  {
   "cell_type": "code",
   "execution_count": null,
   "id": "89ff4bee-0af6-487f-bd90-22a0c0079142",
   "metadata": {},
   "outputs": [],
   "source": [
    "sample_au_full, sample_sr_full = librosa.load(\n",
    "    train_dataset.df[\"filename_with_root\"].iloc[sample_id].replace(\"train_features\", \"train_audio\").replace(\".hdf5\", \".ogg\"),\n",
    "    sr=None\n",
    ")\n",
    "plt.imshow(mel_spec(torch.from_numpy(sample_au_full[2097528:2097528 + 5*32000])[None,...])[0])"
   ]
  },
  {
   "cell_type": "code",
   "execution_count": null,
   "id": "d85564af-3700-4a9f-80dd-887c364238f9",
   "metadata": {},
   "outputs": [],
   "source": [
    "np.allclose(sample_au, librosa.util.normalize(sample_au_full[2097528:2097528 + 5*32000]))"
   ]
  },
  {
   "cell_type": "code",
   "execution_count": null,
   "id": "c0e1cf68-d647-42a5-886f-ff4d61c8dddc",
   "metadata": {},
   "outputs": [],
   "source": [
    "sample_au.shape"
   ]
  },
  {
   "cell_type": "code",
   "execution_count": null,
   "id": "6fdfbf35-938a-4d56-bf69-6c271023424d",
   "metadata": {},
   "outputs": [],
   "source": [
    "sample_au[:sample_sr*,]"
   ]
  },
  {
   "cell_type": "code",
   "execution_count": null,
   "id": "4013ba67-c808-4afe-bfc5-25ea1b2ed3cd",
   "metadata": {},
   "outputs": [],
   "source": [
    "np.abs(sample_au).max()"
   ]
  },
  {
   "cell_type": "code",
   "execution_count": null,
   "id": "6d53dfa6-46e0-46a8-bb08-f40eb1e77ced",
   "metadata": {},
   "outputs": [],
   "source": [
    "ipd.Audio(sample_au, rate=32000)"
   ]
  },
  {
   "cell_type": "code",
   "execution_count": null,
   "id": "154b42db-600f-4a70-9379-c75073160963",
   "metadata": {},
   "outputs": [],
   "source": [
    "# sample_au, target_au = train_dataset[0]\n",
    "sample_au, target_au = train_dataset[35706]\n",
    "\n",
    "plt.figure(figsize=(20,10))\n",
    "spec = mel_spec(torch.from_numpy(sample_au)[None,...])\n",
    "plt.imshow(spec[0])\n",
    "plt.show()"
   ]
  },
  {
   "cell_type": "code",
   "execution_count": null,
   "id": "5b49eee7-a044-4e73-9d82-64b2a8e3d1bc",
   "metadata": {},
   "outputs": [],
   "source": [
    "ipd.Audio(sample_au, rate=32000)"
   ]
  },
  {
   "cell_type": "code",
   "execution_count": null,
   "id": "90bda8ae-fc63-48ea-b6e4-5203df37337e",
   "metadata": {},
   "outputs": [],
   "source": [
    "check_labels = torch.stack([train_dataset_full[idx][1] for idx in range(990,990+30)])"
   ]
  },
  {
   "cell_type": "code",
   "execution_count": null,
   "id": "25dd128a-7e72-4455-90d7-523b2169a59f",
   "metadata": {},
   "outputs": [],
   "source": [
    "torch.where(check_labels > 0)[1]"
   ]
  },
  {
   "cell_type": "code",
   "execution_count": null,
   "id": "e5c4b14a-10a9-4fe4-95f0-c989b7db2ae5",
   "metadata": {},
   "outputs": [],
   "source": [
    "train_dataset_full.df.iloc[120]"
   ]
  },
  {
   "cell_type": "code",
   "execution_count": null,
   "id": "e6014eb3-8006-4e44-86ab-bd635c1afcf1",
   "metadata": {},
   "outputs": [],
   "source": [
    "train_dataset_full.sampleidx_2_dfidx[991]"
   ]
  },
  {
   "cell_type": "code",
   "execution_count": null,
   "id": "681bb303-d39c-4c05-8b96-0959332838ca",
   "metadata": {},
   "outputs": [],
   "source": [
    "original_sample = librosa.load(\"/home/vova/data/exps/birdclef_2024/birdclef_2024/train_audio/asbfly/XC134896.ogg\", sr=32000)[0]"
   ]
  },
  {
   "cell_type": "code",
   "execution_count": null,
   "id": "21977b64-2b23-49df-9e4b-28f4f888970e",
   "metadata": {},
   "outputs": [],
   "source": [
    "librosa.util.normalize(original_sample[:32000*5])"
   ]
  },
  {
   "cell_type": "code",
   "execution_count": null,
   "id": "8a162c8e-96bd-4036-b407-1f2044c3be65",
   "metadata": {},
   "outputs": [],
   "source": [
    "full_sample_au, full_target_au, dfidx, start, end = train_dataset_full[1]"
   ]
  },
  {
   "cell_type": "code",
   "execution_count": null,
   "id": "0ea43356-2cd1-4280-aa9d-79173d91f012",
   "metadata": {},
   "outputs": [],
   "source": [
    "np.allclose(full_sample_au, librosa.util.normalize(original_sample[32000*5:32000*10]))"
   ]
  },
  {
   "cell_type": "code",
   "execution_count": null,
   "id": "71559658-d821-4c18-8806-fe6887c3d6a8",
   "metadata": {},
   "outputs": [],
   "source": [
    "ipd.Audio(sample_au_aug, rate=32000)"
   ]
  },
  {
   "cell_type": "code",
   "execution_count": null,
   "id": "a0695998-6785-4ca7-a71c-eb1d9b44d899",
   "metadata": {},
   "outputs": [],
   "source": [
    "target_au_aug"
   ]
  },
  {
   "cell_type": "code",
   "execution_count": null,
   "id": "368b8cbc-21b3-40ae-a5af-d88e8926c35c",
   "metadata": {},
   "outputs": [],
   "source": [
    "maybe_dupl1 = librosa.util.normalize(librosa.load(\n",
    "    \"/home/vova/data/exps/birdclef_2024/birdclef_2022/train_audio/brant/XC294370.ogg\", sr=32000\n",
    ")[0])\n",
    "maybe_dupl2 = librosa.util.normalize(librosa.load(\n",
    "    \"/home/vova/data/exps/birdclef_2024/birdclef_2022/train_audio/gadwal/XC294370.ogg\", sr=32000\n",
    ")[0])"
   ]
  },
  {
   "cell_type": "code",
   "execution_count": null,
   "id": "707aa13d-7756-4608-87a0-2cfab536dffc",
   "metadata": {},
   "outputs": [],
   "source": [
    "plt.figure(figsize=(20,10))\n",
    "plt.imshow(mel_spec(torch.from_numpy(maybe_dupl1)[None,...])[0])\n",
    "plt.show()\n",
    "\n",
    "plt.figure(figsize=(20,10))\n",
    "plt.imshow(mel_spec(torch.from_numpy(maybe_dupl2)[None,...])[0])\n",
    "plt.show()"
   ]
  },
  {
   "cell_type": "code",
   "execution_count": null,
   "id": "27bbdb81-e553-41bd-96ee-aab6a0b25bb7",
   "metadata": {},
   "outputs": [],
   "source": [
    "# ipd.Audio(sample_au, rate=32_000)"
   ]
  },
  {
   "cell_type": "code",
   "execution_count": null,
   "id": "36c529e1-0d2f-4f59-adf2-5d8a99e9e3ee",
   "metadata": {},
   "outputs": [],
   "source": [
    "ipd.Audio(sample_au_aug, rate=32_000)"
   ]
  },
  {
   "cell_type": "code",
   "execution_count": null,
   "id": "b2216899-5774-4f45-8574-30bbc0f4bc8a",
   "metadata": {},
   "outputs": [],
   "source": [
    "np.abs(sample_au_aug).max()"
   ]
  },
  {
   "cell_type": "code",
   "execution_count": null,
   "id": "f69dd9dd-d47a-4564-9866-d317c4622eeb",
   "metadata": {},
   "outputs": [],
   "source": [
    "torch.unique(target_au_aug), torch.sum(target_au_aug)"
   ]
  },
  {
   "cell_type": "code",
   "execution_count": null,
   "id": "6561280f-9fb7-4871-bf81-040d626afec3",
   "metadata": {},
   "outputs": [],
   "source": [
    "plt.figure(figsize=(10,10))\n",
    "plt.imshow(my_spec(torch.from_numpy(sample_au_aug)[None,:])[0])\n",
    "plt.show();"
   ]
  },
  {
   "cell_type": "code",
   "execution_count": null,
   "id": "f2298b14-4381-4cb8-9186-2f16ca5bdacb",
   "metadata": {},
   "outputs": [],
   "source": [
    "target_au.max()"
   ]
  },
  {
   "cell_type": "code",
   "execution_count": null,
   "id": "f9c6a87d-c2e0-4fa6-808e-b4d56873c3e0",
   "metadata": {},
   "outputs": [],
   "source": [
    "torch.allclose(target_au, target_au_aug)"
   ]
  },
  {
   "cell_type": "code",
   "execution_count": null,
   "id": "259302ee-3f22-4d42-857f-0f3541ed2e4a",
   "metadata": {},
   "outputs": [],
   "source": [
    "np.abs(sample_au - sample_au_aug).max()"
   ]
  },
  {
   "cell_type": "code",
   "execution_count": null,
   "id": "c3c96bfe-670a-4c2a-a699-b0e4b7b2d96e",
   "metadata": {},
   "outputs": [],
   "source": [
    "plt.plot(sample_au)"
   ]
  },
  {
   "cell_type": "code",
   "execution_count": null,
   "id": "fe74aaf3-669e-49d1-ad5f-524067f3459d",
   "metadata": {},
   "outputs": [],
   "source": [
    "plt.plot(sample_au_aug)"
   ]
  },
  {
   "cell_type": "code",
   "execution_count": null,
   "id": "d81ad423-8e40-4aee-b07c-4a3b54368da4",
   "metadata": {},
   "outputs": [],
   "source": [
    "ipd.Audio(sample_au, rate=32000)"
   ]
  },
  {
   "cell_type": "code",
   "execution_count": null,
   "id": "e51d6464-5bfa-4b1c-aff7-b7611fd99fca",
   "metadata": {},
   "outputs": [],
   "source": [
    "ipd.Audio(sample_au_aug, rate=32000)"
   ]
  },
  {
   "cell_type": "code",
   "execution_count": null,
   "id": "6bc3adcd-291f-48e6-bbd8-f55e90214b12",
   "metadata": {},
   "outputs": [],
   "source": [
    "np.allclose(sample_au, sample_feat)"
   ]
  },
  {
   "cell_type": "code",
   "execution_count": null,
   "id": "d5df7e9f-c4fc-4089-a23a-a560601745e2",
   "metadata": {},
   "outputs": [],
   "source": [
    "# train_dataset = WaveDataset(\n",
    "#     df=df,\n",
    "#     root=\"/home/vova/data/exps/BirdCLEF_2023/birdclef_2023/train_audio/\",\n",
    "#     label_str2int_mapping_path=\"/home/vova/data/exps/BirdCLEF_2023/birdclef_2023/bird2int_2023.json\",\n",
    "#     precompute=False,\n",
    "#     n_cores=32,\n",
    "#     debug=True,\n",
    "#     do_mixup=False,\n",
    "#     # mixup_params={\"prob\": 0.5, \"alpha\": None},\n",
    "#     segment_len=5.0,\n",
    "#     late_normalize=True,\n",
    "#     sec_target_col=None\n",
    "# )\n",
    "\n",
    "# train_dataset_extended = WaveDataset(\n",
    "#     df=df,\n",
    "#     root=\"/home/vova/data/exps/BirdCLEF_2023/birdclef_2023/train_audio/\",\n",
    "#     label_str2int_mapping_path=\"/home/vova/data/exps/BirdCLEF_2023/birdclef_2023/bird2int_2023.json\",\n",
    "#     precompute=True,\n",
    "#     n_cores=32,\n",
    "#     debug=False,\n",
    "#     do_mixup=True,\n",
    "#     mixup_params={\"prob\": 0.5, \"alpha\": None},\n",
    "#     segment_len=5.0,\n",
    "#     late_normalize=True,\n",
    "#     add_df_paths=[\n",
    "#         \"/home/vova/data/exps/BirdCLEF_2023/train_metadata_extended_2020_2022_no2023_scored.csv\"\n",
    "#     ],\n",
    "#     sampler_col=\"sw_col\"\n",
    "# )"
   ]
  },
  {
   "cell_type": "code",
   "execution_count": null,
   "id": "b2bcb61b-27a4-433a-b45f-1fa219c1f0f6",
   "metadata": {},
   "outputs": [],
   "source": []
  },
  {
   "cell_type": "code",
   "execution_count": null,
   "id": "5a77110e-4564-4319-a5f5-dc24fe1c8da8",
   "metadata": {},
   "outputs": [],
   "source": [
    "train_dataset[11][1].sum()"
   ]
  },
  {
   "cell_type": "code",
   "execution_count": null,
   "id": "243cf640-d0fc-4c2d-b01b-f50b375892a0",
   "metadata": {},
   "outputs": [],
   "source": [
    "train_dataset.df[train_dataset.df.secondary_labels.apply(len) > 1]"
   ]
  },
  {
   "cell_type": "code",
   "execution_count": null,
   "id": "1230fdb1-d301-4d76-8e33-855796cdb52b",
   "metadata": {},
   "outputs": [],
   "source": [
    "train_dataset_extended.df[]"
   ]
  },
  {
   "cell_type": "code",
   "execution_count": null,
   "id": "6bb0da1c-c63a-46cd-8946-7c1bbf2b75c2",
   "metadata": {},
   "outputs": [],
   "source": [
    "set(train_dataset_extended.df[\"sw_col\"]) - set(load_json(\"/home/vova/data/exps/BirdCLEF_2023/birdclef_2023/scored_birds.json\"))"
   ]
  },
  {
   "cell_type": "code",
   "execution_count": null,
   "id": "efcc32f5-2a6e-4e25-8453-1bba592c865a",
   "metadata": {},
   "outputs": [],
   "source": [
    "train_dataset_extended.df[\"filename_with_root\"].iloc[-1]"
   ]
  },
  {
   "cell_type": "code",
   "execution_count": null,
   "id": "6f7780ff-e5b1-41e4-849e-1c005e59ac97",
   "metadata": {},
   "outputs": [],
   "source": [
    "sample_au, sample_label = train_dataset[0]\n",
    "sample_au = torch.from_numpy(sample_au)[None,:]"
   ]
  },
  {
   "cell_type": "code",
   "execution_count": null,
   "id": "1e1728e1-862d-4557-9b91-e7e14d543161",
   "metadata": {},
   "outputs": [],
   "source": [
    "sample_au_spec = model.forward(sample_au, return_spec_feature=True)"
   ]
  },
  {
   "cell_type": "code",
   "execution_count": null,
   "id": "1317942d-026e-4e44-b134-4277c5d4f44d",
   "metadata": {},
   "outputs": [],
   "source": [
    "plt.imshow(sample_au_spec[0].numpy())"
   ]
  },
  {
   "cell_type": "code",
   "execution_count": null,
   "id": "5ce19c3a-32a9-4676-8b18-e3417def29ac",
   "metadata": {},
   "outputs": [],
   "source": [
    "# ipd.Audio(sample_au, rate=32_000)"
   ]
  },
  {
   "cell_type": "code",
   "execution_count": null,
   "id": "748930d6-3111-45ae-ae89-adb2dd177e7f",
   "metadata": {},
   "outputs": [],
   "source": [
    "aug_block = RandomFiltering(\n",
    "    min_db=-20,\n",
    "    is_wave=True,\n",
    "    normalize_wave=True\n",
    ")"
   ]
  },
  {
   "cell_type": "code",
   "execution_count": null,
   "id": "e8e8c049-b499-40e2-a9db-dd47d780aaac",
   "metadata": {},
   "outputs": [],
   "source": [
    "auged_sample_au = aug_block(sample_au)"
   ]
  },
  {
   "cell_type": "code",
   "execution_count": null,
   "id": "f1cbaafc-1d79-44b8-990a-e22d605d9467",
   "metadata": {},
   "outputs": [],
   "source": [
    "auged_sample_au_spec = model.forward(auged_sample_au, return_spec_feature=True)"
   ]
  },
  {
   "cell_type": "code",
   "execution_count": null,
   "id": "b179dc44-b23c-4347-830c-b9d8b377bc04",
   "metadata": {},
   "outputs": [],
   "source": [
    "plt.imshow(auged_sample_au_spec[0].numpy())"
   ]
  },
  {
   "cell_type": "code",
   "execution_count": null,
   "id": "23a1059a-8056-4472-91ae-8aafbbe1bd36",
   "metadata": {},
   "outputs": [],
   "source": [
    "plt.imshow(auged_sample_au_spec[0].numpy() - sample_au_spec[0].numpy())"
   ]
  },
  {
   "cell_type": "code",
   "execution_count": null,
   "id": "da3ed744-0836-4f08-a429-2b691e67d130",
   "metadata": {},
   "outputs": [],
   "source": [
    "ipd.Audio(auged_sample_au, rate=32_000)"
   ]
  },
  {
   "cell_type": "code",
   "execution_count": null,
   "id": "aaa949a3-2ad7-49f8-a63d-bc467fb26047",
   "metadata": {},
   "outputs": [],
   "source": [
    "valid_dataset = WaveAllFileDataset(\n",
    "    df=df,\n",
    "    root=\"/home/vova/data/exps/BirdCLEF_2023/birdclef_2023/train_audio/\",\n",
    "    label_str2int_mapping_path=\"/home/vova/data/exps/BirdCLEF_2023/birdclef_2023/bird2int_2023.json\",\n",
    "    precompute=True,\n",
    "    n_cores=32,\n",
    "    debug=True,\n",
    "    segment_len=5,\n",
    "    lookback=2.5,\n",
    "    lookahead=2.5,\n",
    "    late_normalize=True,\n",
    "    sample_id=None\n",
    ")"
   ]
  },
  {
   "cell_type": "code",
   "execution_count": null,
   "id": "6a45fee7-f840-4afc-9e71-4d82b4ce1df6",
   "metadata": {},
   "outputs": [],
   "source": [
    "sample_au, sample_label, sample_df_id, sample_start, sample_end_s = valid_dataset[0]"
   ]
  },
  {
   "cell_type": "code",
   "execution_count": null,
   "id": "f781a468-126c-4630-bc31-f63e4f0ee953",
   "metadata": {},
   "outputs": [],
   "source": [
    "len(sample_au) / 32_000"
   ]
  },
  {
   "cell_type": "code",
   "execution_count": null,
   "id": "69489c17-411c-47c4-8183-30dd52b731ed",
   "metadata": {},
   "outputs": [],
   "source": [
    "sample_au"
   ]
  },
  {
   "cell_type": "markdown",
   "id": "bd23c978-b31b-4f78-bed9-b75f7802359d",
   "metadata": {},
   "source": [
    "# Sounscapes"
   ]
  },
  {
   "cell_type": "code",
   "execution_count": null,
   "id": "0277dc4e-354a-47ec-9291-276de393fec0",
   "metadata": {},
   "outputs": [],
   "source": [
    "un_ss = glob(\"/home/vova/data/exps/birdclef_2024/birdclef_2024/unlabeled_soundscapes/*.ogg\")"
   ]
  },
  {
   "cell_type": "code",
   "execution_count": null,
   "id": "c49457af-ffad-4362-9d04-35d59e03c08b",
   "metadata": {},
   "outputs": [],
   "source": [
    "pseudo = pd.read_csv(\"../pseudo/v1/positive_filtered_07.csv\", converters={\"all_labels\": eval})"
   ]
  },
  {
   "cell_type": "code",
   "execution_count": null,
   "id": "c53d1c86-a53e-4ba8-8dfb-f52103fffb13",
   "metadata": {},
   "outputs": [],
   "source": [
    "pseudo"
   ]
  },
  {
   "cell_type": "code",
   "execution_count": null,
   "id": "f93e23b0-a76e-4daa-a8a0-79cbb410b98f",
   "metadata": {
    "scrolled": true
   },
   "outputs": [],
   "source": [
    "un_ss"
   ]
  },
  {
   "cell_type": "code",
   "execution_count": null,
   "id": "dbbdde50-81e2-4c2c-80c0-67d43cecd8b3",
   "metadata": {},
   "outputs": [],
   "source": [
    "pseudo[\"sample_id\"] = pseudo[\"row_id\"].apply(lambda x: x.split(\"_\")[0])"
   ]
  },
  {
   "cell_type": "code",
   "execution_count": null,
   "id": "c83cd6ae-9968-4052-8547-0b00626cc478",
   "metadata": {},
   "outputs": [],
   "source": [
    "pseudo"
   ]
  },
  {
   "cell_type": "code",
   "execution_count": null,
   "id": "d6287cb1-f4e9-42ac-8597-c8391f37cc08",
   "metadata": {},
   "outputs": [],
   "source": [
    "pseudo[pseudo[\"sample_id\"] == \"100238396\"]"
   ]
  },
  {
   "cell_type": "code",
   "execution_count": null,
   "id": "fbf54b49-2442-4d88-87de-6ca26ad6289f",
   "metadata": {},
   "outputs": [],
   "source": [
    "pseudo_samples"
   ]
  },
  {
   "cell_type": "code",
   "execution_count": null,
   "id": "afc93076-a3a5-41e6-820c-0059988c85a9",
   "metadata": {},
   "outputs": [],
   "source": [
    "df_idx = 6143"
   ]
  },
  {
   "cell_type": "code",
   "execution_count": null,
   "id": "a1bd01fb-131e-4120-8ccd-2e5fb63b6949",
   "metadata": {},
   "outputs": [],
   "source": [
    "sample_idx, end_second = pseudo[\"row_id\"].iloc[df_idx].split(\"_\")\n",
    "\n",
    "sample, _ = librosa.load(\n",
    "    # un_ss[500], \n",
    "    f'/home/vova/data/exps/birdclef_2024/birdclef_2024/unlabeled_soundscapes/{sample_idx}.ogg',\n",
    "    sr=None\n",
    ")\n",
    "# sample = librosa.util.normalize(sample)"
   ]
  },
  {
   "cell_type": "code",
   "execution_count": null,
   "id": "ebf23c18-f1cd-407e-9c81-6ec759eaf100",
   "metadata": {},
   "outputs": [],
   "source": [
    "sample_slice = sample[32000*(int(end_second) - 5):32000*int(end_second)]\n",
    "ipd.Audio(sample_slice, rate=32000)"
   ]
  },
  {
   "cell_type": "code",
   "execution_count": null,
   "id": "eebf125d-9e51-4a69-95ae-28b051d6df17",
   "metadata": {},
   "outputs": [],
   "source": [
    "plt.figure(figsize=(20,10))\n",
    "plt.imshow(mel_spec(torch.from_numpy(sample_slice)[None,...])[0])\n",
    "plt.show()"
   ]
  },
  {
   "cell_type": "markdown",
   "id": "0fea89d4-1bf5-4274-9c8d-3f25574af87a",
   "metadata": {},
   "source": [
    "# Compare librosa and torchaudio"
   ]
  },
  {
   "cell_type": "code",
   "execution_count": null,
   "id": "979ec514-984d-469c-a574-6ce3e78bc01a",
   "metadata": {},
   "outputs": [],
   "source": [
    "librosa_loaded = librosa.load(\"/home/vova/data/exps/birdclef_2024/birdclef_2024/train_audio/asbfly/XC453302.ogg\", sr=32000)[0]"
   ]
  },
  {
   "cell_type": "code",
   "execution_count": null,
   "id": "df0bee7e-2944-4009-9a0d-b876313243cf",
   "metadata": {},
   "outputs": [],
   "source": [
    "torchaudio_loaded, torchaudio_sr = torchaudio.load(\"/home/vova/data/exps/birdclef_2024/birdclef_2024/train_audio/asbfly/XC453302.ogg\")\n",
    "torchaudio_loaded = Resample(orig_freq=torchaudio_sr, new_freq=16000)(torchaudio_loaded)[0]"
   ]
  },
  {
   "cell_type": "code",
   "execution_count": null,
   "id": "bfffd648-df72-4d6a-a76b-ac142483fe7c",
   "metadata": {},
   "outputs": [],
   "source": [
    "torchaudio_loaded.shape"
   ]
  },
  {
   "cell_type": "code",
   "execution_count": null,
   "id": "4d3c7347-db3e-4f1b-ab2d-cb50c7c3d4dc",
   "metadata": {},
   "outputs": [],
   "source": [
    "librosa_loaded.shape"
   ]
  },
  {
   "cell_type": "code",
   "execution_count": null,
   "id": "ac90c02a-ebf4-426d-b1ad-a5c2435808b9",
   "metadata": {},
   "outputs": [],
   "source": [
    "len(librosa_loaded) / 32000"
   ]
  },
  {
   "cell_type": "code",
   "execution_count": null,
   "id": "34598856-deba-4c1d-8d70-1733a707fece",
   "metadata": {},
   "outputs": [],
   "source": [
    "len(torchaudio_loaded) / 32000"
   ]
  },
  {
   "cell_type": "code",
   "execution_count": null,
   "id": "226b55cf-dd02-4656-9fa1-01f2132261a2",
   "metadata": {},
   "outputs": [],
   "source": [
    "np.abs(torchaudio_loaded[len(torchaudio_loaded) - len(librosa_loaded):] - librosa_loaded).max()"
   ]
  },
  {
   "cell_type": "code",
   "execution_count": null,
   "id": "6720c168-d385-49b1-bf67-d0cc3eeacc6f",
   "metadata": {},
   "outputs": [],
   "source": [
    "np.abs(torchaudio_loaded[:len(librosa_loaded)] - librosa_loaded).max()"
   ]
  },
  {
   "cell_type": "code",
   "execution_count": null,
   "id": "3c45ee64-966a-4776-bba6-7cffa717e4f2",
   "metadata": {},
   "outputs": [],
   "source": [
    "np.allclose(torchaudio_loaded[:len(librosa_loaded)], librosa_loaded)"
   ]
  },
  {
   "cell_type": "code",
   "execution_count": null,
   "id": "54c3f3f1-1a24-462a-9b52-ff175172a267",
   "metadata": {},
   "outputs": [],
   "source": [
    "len(librosa_loaded) / 32000"
   ]
  },
  {
   "cell_type": "code",
   "execution_count": null,
   "id": "19f6203b-05f3-4f6a-a127-1d52f37fb23c",
   "metadata": {},
   "outputs": [],
   "source": [
    "len(torchaudio_loaded) / 32000"
   ]
  },
  {
   "cell_type": "markdown",
   "id": "bab41236-5e5d-4036-8986-82544850a425",
   "metadata": {},
   "source": [
    "# Spectogram"
   ]
  },
  {
   "cell_type": "code",
   "execution_count": null,
   "id": "eb6f5cd4-fc30-4e35-925b-13bbef6e0940",
   "metadata": {},
   "outputs": [],
   "source": [
    "test_pred = pd.read_csv(\"submission.csv\")"
   ]
  },
  {
   "cell_type": "code",
   "execution_count": null,
   "id": "c7dcc765-85c1-4d47-be95-3194e0e81b50",
   "metadata": {},
   "outputs": [],
   "source": [
    "np.sort(test_pred.iloc[:,1:].values.flatten())[-20:]"
   ]
  },
  {
   "cell_type": "code",
   "execution_count": null,
   "id": "62005372-3a28-4683-b1ed-2cda4f4602ef",
   "metadata": {},
   "outputs": [],
   "source": [
    "np.where(test_pred.iloc[:,1:].max(axis=1) > 0.9)"
   ]
  },
  {
   "cell_type": "code",
   "execution_count": null,
   "id": "44e98467-e86c-4c95-9911-2aa556c561d0",
   "metadata": {},
   "outputs": [],
   "source": [
    "test_pred.iloc[65]"
   ]
  },
  {
   "cell_type": "code",
   "execution_count": null,
   "id": "bb1d4773-658c-4fd2-b38f-e68d29b80298",
   "metadata": {},
   "outputs": [],
   "source": [
    "test_audio, test_sr = librosa.load(\"/home/vova/data/exps/BirdCLEF_2023/birdclef_2023/test_soundscapes/soundscape_29201.ogg\", sr=None)\n",
    "test_audio = librosa.util.normalize(test_audio)"
   ]
  },
  {
   "cell_type": "code",
   "execution_count": null,
   "id": "f6c3b8bd-e134-4e1b-8444-8f58c474590e",
   "metadata": {},
   "outputs": [],
   "source": [
    "test_sr"
   ]
  },
  {
   "cell_type": "code",
   "execution_count": null,
   "id": "ccf8c7d1-bc81-4df0-aef6-154f281e5182",
   "metadata": {},
   "outputs": [],
   "source": [
    "ipd.Audio(\n",
    "    test_audio[test_sr*0:test_sr*5],\n",
    "    rate=test_sr\n",
    ")"
   ]
  },
  {
   "cell_type": "code",
   "execution_count": null,
   "id": "18e6dc5a-0315-44b0-9a0b-8f38c3da5156",
   "metadata": {},
   "outputs": [],
   "source": [
    "test_sr"
   ]
  },
  {
   "cell_type": "code",
   "execution_count": null,
   "id": "5a53b625-d8ac-45cd-ad7f-7b175330a32a",
   "metadata": {},
   "outputs": [],
   "source": [
    "test_pred.iloc[65].iloc[1:].sort_values()"
   ]
  },
  {
   "cell_type": "code",
   "execution_count": null,
   "id": "0bce2f6a-fbae-4474-938c-3a94fe114832",
   "metadata": {},
   "outputs": [],
   "source": [
    "mel_spec_paramms={\n",
    "    \"sample_rate\": 32000,\n",
    "    \"n_mels\": 128,\n",
    "    \"f_min\": 20,\n",
    "    \"n_fft\": 2048,\n",
    "    \"hop_length\": 512,\n",
    "    \"normalized\": True,\n",
    "}\n",
    "mel_spec = nn.Sequential(\n",
    "    TraceableMelspec(**mel_spec_paramms, quantizable=False),\n",
    "    AmplitudeToDB(top_db=80.0),\n",
    "    NormalizeMelSpec(exportable=True),\n",
    ")\n",
    "\n",
    "# leaf_spec = {\n",
    "#     \"sample_rate\": 32000,\n",
    "#     \"n_filters\": 128,\n",
    "#     # \"window_stride\": 15\n",
    "# }\n",
    "\n",
    "# leaf_complex = nn.Sequential(\n",
    "#     frontend.Leaf(**leaf_spec, onnx_export=True, compression_fn=None),\n",
    "#     AmplitudeToDB(top_db=80.0),\n",
    "#     NormalizeMelSpec(exportable=True),\n",
    "# )\n",
    "\n",
    "# leaf_noncomplex = nn.Sequential(\n",
    "#     frontend.Leaf(**leaf_spec, onnx_export=True),\n",
    "#     NormalizeMelSpec(exportable=True),\n",
    "# )"
   ]
  },
  {
   "cell_type": "code",
   "execution_count": null,
   "id": "96bef539-d4b3-4440-a18a-02a511152ca5",
   "metadata": {},
   "outputs": [],
   "source": [
    "spec = mel_spec(torch.from_numpy(librosa.util.normalize(test_audio[\n",
    "    test_sr*0:\n",
    "    test_sr*5\n",
    "]))[None,:])\n",
    "spec = torch.cat([spec,spec,spec])\n",
    "\n",
    "# leaf_1 = leaf_complex(torch.from_numpy(librosa.util.normalize(test_audio[\n",
    "#     test_sr*0:\n",
    "#     test_sr*5\n",
    "# ]))[None,:])\n",
    "# leaf_2 = leaf_noncomplex(torch.from_numpy(librosa.util.normalize(test_audio[\n",
    "#     test_sr*0:\n",
    "#     test_sr*5\n",
    "# ]))[None,:])"
   ]
  },
  {
   "cell_type": "code",
   "execution_count": null,
   "id": "3fe39f43-296f-40e5-9d0d-be76a7a39790",
   "metadata": {},
   "outputs": [],
   "source": [
    "class CustomMasking(nn.Module):\n",
    "    def __init__(\n",
    "        self,\n",
    "        mask_max_length: int,\n",
    "        mask_max_masks: int,\n",
    "        p=1.0,\n",
    "        inplace=True\n",
    "    ):\n",
    "        super().__init__()\n",
    "        assert isinstance(mask_max_masks, int) and mask_max_masks > 0 \n",
    "        self.mask_max_masks = mask_max_masks\n",
    "        self.mask_max_length = mask_max_length\n",
    "        self.mask_module = None\n",
    "        self.p = p\n",
    "        self.inplace = inplace\n",
    "    \n",
    "    def forward(self, x):\n",
    "        if not self.inplace:\n",
    "            output = x.clone()\n",
    "        for i in range(x.shape[0]):\n",
    "            if np.random.binomial(n=1, p=self.p):\n",
    "                n_applies = np.random.randint(low=1, high=self.mask_max_masks+1)\n",
    "                print(f\"Applying {n_applies} times\")\n",
    "                for _ in range(n_applies):\n",
    "                    if self.inplace:\n",
    "                        x[i:i+1] = self.mask_module(x[i:i+1])\n",
    "                    else:\n",
    "                        output[i:i+1] = self.mask_module(output[i:i+1])\n",
    "        if self.inplace:\n",
    "            return x\n",
    "        else: \n",
    "            return output\n",
    "        \n",
    "class CustomTimeMasking(CustomMasking):\n",
    "    def __init__(\n",
    "        self,\n",
    "        mask_max_length: int,\n",
    "        mask_max_masks: int,\n",
    "        p=1.0,\n",
    "        inplace=True\n",
    "    ):\n",
    "        super().__init__(\n",
    "            mask_max_length=mask_max_length,\n",
    "            mask_max_masks=mask_max_masks,\n",
    "            p=p,\n",
    "            inplace=inplace\n",
    "        )\n",
    "        self.mask_module = TimeMasking(\n",
    "            time_mask_param=mask_max_length\n",
    "        )\n",
    "        \n",
    "class CustomFreqMasking(CustomMasking):\n",
    "    def __init__(\n",
    "        self,\n",
    "        mask_max_length: int,\n",
    "        mask_max_masks: int,\n",
    "        p=1.0,\n",
    "        inplace=True\n",
    "    ):\n",
    "        super().__init__(\n",
    "            mask_max_length=mask_max_length,\n",
    "            mask_max_masks=mask_max_masks,\n",
    "            p=p,\n",
    "            inplace=inplace\n",
    "        )\n",
    "        self.mask_module = FrequencyMasking(\n",
    "            freq_mask_param=mask_max_length\n",
    "        )"
   ]
  },
  {
   "cell_type": "code",
   "execution_count": null,
   "id": "26c98b44-3f22-4d38-848d-0d44b975f605",
   "metadata": {},
   "outputs": [],
   "source": [
    "np.random.randint(low=1, high=1+1)"
   ]
  },
  {
   "cell_type": "code",
   "execution_count": null,
   "id": "7ce27b2a-ebaf-4e04-862c-310bed88dccc",
   "metadata": {},
   "outputs": [],
   "source": [
    "# time_masking = CustomTimeMasking(\n",
    "#     mask_max_length=20,\n",
    "#     mask_max_masks=3,\n",
    "#     p=0.5,\n",
    "#     inplace=True\n",
    "# )\n",
    "# freq_masking = CustomFreqMasking(\n",
    "#     mask_max_length=10,\n",
    "#     mask_max_masks=3,\n",
    "#     p=0.5,\n",
    "#     inplace=True\n",
    "# )"
   ]
  },
  {
   "cell_type": "code",
   "execution_count": null,
   "id": "ac663992-ef76-4a08-a534-0b1f8aecdbf4",
   "metadata": {},
   "outputs": [],
   "source": [
    "both_masking = nn.Sequential(\n",
    "    CustomTimeMasking(\n",
    "        mask_max_length=20,\n",
    "        mask_max_masks=3,\n",
    "        p=0.3,\n",
    "        inplace=True\n",
    "    ),\n",
    "    CustomFreqMasking(\n",
    "        mask_max_length=10,\n",
    "        mask_max_masks=3,\n",
    "        p=0.3,\n",
    "        inplace=True\n",
    "    )\n",
    ")"
   ]
  },
  {
   "cell_type": "code",
   "execution_count": null,
   "id": "309003a5-1e6e-44be-828a-d1652d3947a3",
   "metadata": {},
   "outputs": [],
   "source": [
    "# time_masked = time_masking(spec)\n",
    "# freq_masked = freq_masking(spec)\n",
    "\n",
    "both_masked = both_masking(spec)"
   ]
  },
  {
   "cell_type": "code",
   "execution_count": null,
   "id": "c4c2d097-e6b6-4ad3-a1ba-cf327daa119e",
   "metadata": {},
   "outputs": [],
   "source": [
    "swin = timm.create_model(\n",
    "    \"swinv2_tiny_window8_256\", \n",
    "    in_chans=1, \n",
    "    # features_only=True,\n",
    "    dropout_rate=0.2,\n",
    "    num_classes=20\n",
    ")\n",
    "# swin.head.drop.p = 0.4\n",
    "# swin.head = nn.Identity()"
   ]
  },
  {
   "cell_type": "code",
   "execution_count": null,
   "id": "2b7cfc15-609f-4466-a784-0933681554de",
   "metadata": {},
   "outputs": [],
   "source": [
    "swin.head"
   ]
  },
  {
   "cell_type": "code",
   "execution_count": null,
   "id": "b4ed3f8c-29b9-476c-82f6-dab7f0f83ce7",
   "metadata": {},
   "outputs": [],
   "source": [
    "swin.train();"
   ]
  },
  {
   "cell_type": "code",
   "execution_count": null,
   "id": "a18de5db-0f19-4565-819e-94592e5440b1",
   "metadata": {},
   "outputs": [],
   "source": [
    "swin.head.drop.p = 0.4"
   ]
  },
  {
   "cell_type": "code",
   "execution_count": null,
   "id": "536d4639-c233-421b-95b0-e56cd00c716f",
   "metadata": {
    "tags": []
   },
   "outputs": [],
   "source": [
    "swin(spec[:,None,:,:])[-1]"
   ]
  },
  {
   "cell_type": "code",
   "execution_count": null,
   "id": "449260f8-5c80-4a96-b202-c7a7fa0b9c07",
   "metadata": {},
   "outputs": [],
   "source": []
  },
  {
   "cell_type": "code",
   "execution_count": null,
   "id": "74bbd2b1-20db-48cf-b5c4-87943829042b",
   "metadata": {
    "tags": []
   },
   "outputs": [],
   "source": [
    "torch.abs(leaf_1- leaf_2).max()"
   ]
  },
  {
   "cell_type": "code",
   "execution_count": null,
   "id": "4b3b4efb-fb87-4f9c-8684-7bff07bfd96e",
   "metadata": {},
   "outputs": [],
   "source": [
    "time_masked = time_masking(spec[0])\n",
    "freq_masked = freq_masking(spec[0])"
   ]
  },
  {
   "cell_type": "code",
   "execution_count": null,
   "id": "90ace1b5-093a-4611-802c-33be117a1c82",
   "metadata": {},
   "outputs": [],
   "source": [
    "# time_masked = time_masking(spec)\n",
    "# freq_masked = freq_masking(spec)\n",
    "\n",
    "plt.figure(figsize=(10,10))\n",
    "plt.imshow(spec[0].detach().cpu().numpy())\n",
    "plt.show();\n",
    "\n",
    "plt.figure(figsize=(10,10))\n",
    "plt.imshow(spec[1].detach().cpu().numpy())\n",
    "plt.show();\n",
    "\n",
    "plt.figure(figsize=(10,10))\n",
    "plt.imshow(spec[2].detach().cpu().numpy())\n",
    "plt.show();\n",
    "\n",
    "# plt.figure(figsize=(10,10))\n",
    "# plt.imshow(both_masked[0].detach().cpu().numpy())\n",
    "# plt.show();\n",
    "\n",
    "# plt.figure(figsize=(10,10))\n",
    "# plt.imshow(both_masked[1].detach().cpu().numpy())\n",
    "# plt.show();\n",
    "\n",
    "# plt.figure(figsize=(10,10))\n",
    "# plt.imshow(both_masked[2].detach().cpu().numpy())\n",
    "# plt.show();\n",
    "\n",
    "# plt.figure(figsize=(10,10))\n",
    "# plt.imshow(freq_masked[0].detach().cpu().numpy())\n",
    "# plt.show();\n",
    "\n",
    "# plt.figure(figsize=(10,10))\n",
    "# plt.imshow(freq_masked[1].detach().cpu().numpy())\n",
    "# plt.show();\n",
    "\n",
    "# plt.figure(figsize=(10,10))\n",
    "# plt.imshow(freq_masked[2].detach().cpu().numpy())\n",
    "# plt.show();\n",
    "\n",
    "# plt.figure(figsize=(10,10))\n",
    "# plt.imshow(freq_masked[0].detach().cpu().numpy())\n",
    "# plt.show();"
   ]
  },
  {
   "cell_type": "code",
   "execution_count": null,
   "id": "b50dcf00-83a1-4553-bbb4-edf8e2a07432",
   "metadata": {},
   "outputs": [],
   "source": [
    "test_audio, test_sr = librosa.load(\"/home/vova/data/exps/BirdCLEF_2023/birdclef_2023/train_audio/pygbat1/XC755905.ogg\", sr=None)\n",
    "test_audio = librosa.util.normalize(test_audio)"
   ]
  },
  {
   "cell_type": "code",
   "execution_count": null,
   "id": "066b3629-b9a3-4862-a1e8-fc666b8d192d",
   "metadata": {},
   "outputs": [],
   "source": [
    "test_sr"
   ]
  },
  {
   "cell_type": "code",
   "execution_count": null,
   "id": "3e13932d-279c-4231-a995-b74faae28119",
   "metadata": {},
   "outputs": [],
   "source": [
    "spec = my_spec(torch.from_numpy(librosa.util.normalize(test_audio))[None,:])\n",
    "# cqt_spec = cqt(torch.from_numpy(sample_au)[None,:])"
   ]
  },
  {
   "cell_type": "code",
   "execution_count": null,
   "id": "478166a0-35f9-4734-920e-1607238faf76",
   "metadata": {},
   "outputs": [],
   "source": [
    "plt.figure(figsize=(20,20))\n",
    "plt.imshow(spec[0])\n",
    "plt.show();\n",
    "# plt.imshow(cqt_spec[0])\n",
    "# plt.show();"
   ]
  },
  {
   "cell_type": "code",
   "execution_count": null,
   "id": "5f36c98f-cf60-46f2-8f58-0c48b90edd08",
   "metadata": {},
   "outputs": [],
   "source": [
    "spec.shape, cqt_spec.shape"
   ]
  },
  {
   "cell_type": "code",
   "execution_count": null,
   "id": "d5124902-a477-4b63-b8c9-79004f28450e",
   "metadata": {},
   "outputs": [],
   "source": [
    "spec.max(), spec.min()"
   ]
  },
  {
   "cell_type": "code",
   "execution_count": null,
   "id": "aecc6ec7-9014-4944-b143-fe54af06de0d",
   "metadata": {},
   "outputs": [],
   "source": [
    "cqt_spec.max(), cqt_spec.min()"
   ]
  },
  {
   "cell_type": "markdown",
   "id": "286878dc-1911-42f4-ba10-072bb605c13e",
   "metadata": {},
   "source": [
    "# Tune Scheduler"
   ]
  },
  {
   "cell_type": "code",
   "execution_count": null,
   "id": "86cba492-3f16-4f2f-a588-af4d19080c6e",
   "metadata": {},
   "outputs": [],
   "source": [
    "from torch.optim.lr_scheduler import CosineAnnealingLR, CosineAnnealingWarmRestarts, ReduceLROnPlateau, OneCycleLR"
   ]
  },
  {
   "cell_type": "code",
   "execution_count": null,
   "id": "4463de0e-5d09-4ac9-9781-9ac07ec04c42",
   "metadata": {},
   "outputs": [],
   "source": [
    "def visualise_lr_scheduling(lr_scheduler_from_opt, n_steps, verbose=True, lr=1e-3):\n",
    "    # t_opt = torch.optim.SGD([torch.tensor(1)], lr=lr)\n",
    "    t_opt = torch.optim.SGD([\n",
    "        {'params': torch.tensor(1), 'lr': lr},\n",
    "        # {'params': torch.tensor(1), 'lr': lr/20}\n",
    "    ])\n",
    "    t_sched = lr_scheduler_from_opt(t_opt)\n",
    "    lrs = []\n",
    "    for i in range(n_steps):\n",
    "        t_opt.step()\n",
    "        lrs.append(t_sched.get_lr()[0])\n",
    "        t_sched.step()\n",
    "        \n",
    "    if verbose:\n",
    "        plt.title(\"Learning Rate Schedule\")\n",
    "        plt.xlabel(\"Iteration\")\n",
    "        plt.ylabel(\"Learning Rate\")\n",
    "        plt.plot(lrs)\n",
    "        plt.show()\n",
    "        \n",
    "    print(f\"Min LR : {min(lrs)}. Max LR: {max(lrs)}\")\n",
    "    return lrs"
   ]
  },
  {
   "cell_type": "code",
   "execution_count": null,
   "id": "0ec6023b-58b1-4f68-82cc-2b582f376242",
   "metadata": {},
   "outputs": [],
   "source": [
    "visualise_lr_scheduling(\n",
    "    lr_scheduler_from_opt=lambda opt: GradualWarmupSchedulerV2(\n",
    "        optimizer=opt, \n",
    "        multiplier=10,\n",
    "        total_epoch=5,\n",
    "        after_scheduler=torch.optim.lr_scheduler.CosineAnnealingLR(\n",
    "            opt,\n",
    "            T_max=45,\n",
    "            eta_min=1e-7\n",
    "        )\n",
    "    ),\n",
    "    n_steps=50+2,\n",
    "    lr=1e-5\n",
    ");"
   ]
  },
  {
   "cell_type": "markdown",
   "id": "17f24f01-ff58-43f0-a5df-1d2d500aaecf",
   "metadata": {},
   "source": [
    "# Model"
   ]
  },
  {
   "cell_type": "code",
   "execution_count": null,
   "id": "7a33c8d6-e7d1-4527-a385-30b2f1c2e861",
   "metadata": {},
   "outputs": [],
   "source": []
  },
  {
   "cell_type": "code",
   "execution_count": null,
   "id": "8005146a-f4d7-4ec5-982a-22e3b7e24d33",
   "metadata": {},
   "outputs": [],
   "source": [
    "timm.list_models(\"tf_efficientnetv2*\")"
   ]
  },
  {
   "cell_type": "code",
   "execution_count": null,
   "id": "3c87c931-1004-440e-9200-167e2ce4702b",
   "metadata": {},
   "outputs": [],
   "source": [
    "backbone_model = timm.create_model(\"efficientformerv2_s2.snap_dist_in1k\", features_only=True)"
   ]
  },
  {
   "cell_type": "code",
   "execution_count": null,
   "id": "6ad0f8e7-1a34-4cb4-8e81-ec3ce3f3682a",
   "metadata": {
    "tags": []
   },
   "outputs": [],
   "source": [
    "backbone_model"
   ]
  },
  {
   "cell_type": "code",
   "execution_count": 48,
   "id": "eb602c85-90ea-4594-8d10-0a0dc5f3cb64",
   "metadata": {},
   "outputs": [
    {
     "name": "stdout",
     "output_type": "stream",
     "text": [
      "STFT kernels created, time used = 0.1014 seconds\n"
     ]
    },
    {
     "name": "stderr",
     "output_type": "stream",
     "text": [
      "Unexpected keys (bn2.bias, bn2.num_batches_tracked, bn2.running_mean, bn2.running_var, bn2.weight, classifier.bias, classifier.weight, conv_head.weight) found while loading pretrained weights. This may be expected if model is being adapted.\n"
     ]
    }
   ],
   "source": [
    "TRAIN_PERIOD = 5.0\n",
    "\n",
    "# model_config = dict(\n",
    "#     backbone=\"eca_nfnet_l0\",\n",
    "#     add_backbone_config={\n",
    "#         \"drop_path_rate\": 0.2\n",
    "#     },\n",
    "#     mel_spec_paramms={\n",
    "#         \"sample_rate\": 32000,\n",
    "#         \"n_mels\": 128,\n",
    "#         \"f_min\": 20,\n",
    "#         \"n_fft\": 2048,\n",
    "#         \"hop_length\": 512,\n",
    "#         \"normalized\": True,\n",
    "#     },\n",
    "#     head_config={\n",
    "#         \"p\": 0.5,\n",
    "#         \"num_class\": 264,\n",
    "#         \"train_period\": TRAIN_PERIOD,\n",
    "#         \"infer_period\": TRAIN_PERIOD,\n",
    "#     },\n",
    "#     exportable=True,\n",
    "#     # deep_supervision_steps=3\n",
    "# )\n",
    "model_config = dict(\n",
    "    backbone=\"tf_efficientnetv2_b1.in1k\",\n",
    "    mel_spec_paramms={\n",
    "        \"sample_rate\": 32000,\n",
    "        \"n_mels\": 128,\n",
    "        \"f_min\": 20,\n",
    "        \"n_fft\": 2048,\n",
    "        \"hop_length\": 512,\n",
    "        \"normalized\": True,\n",
    "    },\n",
    "    spec_augment_config={\n",
    "        \"power_aug\":{\n",
    "            \"power_range\": (0.5, 3.0),\n",
    "            \"p\": 1.0,\n",
    "            \"inplace\": True\n",
    "        },\n",
    "        \"freq_mask\": {\n",
    "            \"mask_max_length\": 20,\n",
    "            \"mask_max_masks\": 3,\n",
    "            \"p\": 0.7,\n",
    "            \"inplace\": True,\n",
    "        },\n",
    "        \"time_mask\": {\n",
    "            \"mask_max_length\": 30,\n",
    "            \"mask_max_masks\": 3,\n",
    "            \"p\": 0.7,\n",
    "            \"inplace\": True,\n",
    "        },\n",
    "    },\n",
    "    head_config={\n",
    "        \"p\": 0.5,\n",
    "        \"num_class\": 998,\n",
    "        \"train_period\": TRAIN_PERIOD,\n",
    "        \"infer_period\": TRAIN_PERIOD,\n",
    "    },\n",
    "    exportable=True,\n",
    "    fixed_amplitude_to_db=True\n",
    ")\n",
    "\n",
    "model = WaveCNNAttenClasifier(**model_config, device=\"cpu\")\n",
    "\n",
    "model.train();"
   ]
  },
  {
   "cell_type": "code",
   "execution_count": 62,
   "id": "1d6ffd0f-a8c2-4f12-8fc8-633bbd14416a",
   "metadata": {},
   "outputs": [
    {
     "name": "stdout",
     "output_type": "stream",
     "text": [
      "X shape in Norm torch.Size([1, 128, 313])\n",
      "2.380389383227606\n",
      "X shape in Norm torch.Size([1, 128, 313])\n"
     ]
    }
   ],
   "source": [
    "spec = model.forward(torch.from_numpy(sample_au)[None,...], return_spec_feature=True)"
   ]
  },
  {
   "cell_type": "code",
   "execution_count": 63,
   "id": "eece6076-ba21-45d2-be43-d6a09b8d7eae",
   "metadata": {},
   "outputs": [
    {
     "data": {
      "text/plain": [
       "<matplotlib.image.AxesImage at 0x79deb107c350>"
      ]
     },
     "execution_count": 63,
     "metadata": {},
     "output_type": "execute_result"
    },
    {
     "data": {
      "image/png": "[encoded data removed]",
      "text/plain": [
       "<Figure size 640x480 with 1 Axes>"
      ]
     },
     "metadata": {},
     "output_type": "display_data"
    }
   ],
   "source": [
    "plt.imshow(spec[0,0])"
   ]
  },
  {
   "cell_type": "code",
   "execution_count": 39,
   "id": "381f8760-d271-46f1-b4cf-c7d2cce5afbf",
   "metadata": {},
   "outputs": [
    {
     "data": {
      "text/plain": [
       "tensor(0.)"
      ]
     },
     "execution_count": 39,
     "metadata": {},
     "output_type": "execute_result"
    }
   ],
   "source": [
    "spec[0,0].min()"
   ]
  },
  {
   "cell_type": "code",
   "execution_count": null,
   "id": "0f33365b-9c3d-4b47-83c6-ca1e96ce1208",
   "metadata": {},
   "outputs": [],
   "source": [
    "sample = torch.randn(4, int(32000 * TRAIN_PERIOD))"
   ]
  },
  {
   "cell_type": "code",
   "execution_count": null,
   "id": "d9b987cb-33a9-43ea-8358-9b417a55c987",
   "metadata": {},
   "outputs": [],
   "source": [
    "with torch.no_grad():\n",
    "    out = model(sample)"
   ]
  },
  {
   "cell_type": "code",
   "execution_count": null,
   "id": "047b45be-f393-48cf-9dd4-59eb10006e37",
   "metadata": {},
   "outputs": [],
   "source": [
    "out[\"clipwise_pred_long\"]"
   ]
  },
  {
   "cell_type": "code",
   "execution_count": null,
   "id": "db95c88e-8185-4a7a-b337-0e9be4850e5a",
   "metadata": {},
   "outputs": [],
   "source": [
    "out_2[\"clipwise_pred_long\"]"
   ]
  },
  {
   "cell_type": "code",
   "execution_count": null,
   "id": "6478a20c-d451-42c0-9e2f-883c3c6422d1",
   "metadata": {},
   "outputs": [],
   "source": [
    "out_old[\"clipwise_pred_long\"]"
   ]
  },
  {
   "cell_type": "code",
   "execution_count": null,
   "id": "af5cf592-c65b-4928-b1aa-7f3af4f944d0",
   "metadata": {},
   "outputs": [],
   "source": [
    "out_old_2[\"clipwise_pred_long\"]"
   ]
  },
  {
   "cell_type": "code",
   "execution_count": null,
   "id": "beac990d-e20d-489c-a41c-677bd6ec837f",
   "metadata": {},
   "outputs": [],
   "source": [
    "both_masking = nn.Sequential(\n",
    "    CustomTimeMasking(\n",
    "        mask_max_length=20,\n",
    "        mask_max_masks=3,\n",
    "        p=0.3,\n",
    "        inplace=True\n",
    "    ),\n",
    "    CustomFreqMasking(\n",
    "        mask_max_length=10,\n",
    "        mask_max_masks=3,\n",
    "        p=0.3,\n",
    "        inplace=True\n",
    "    )\n",
    ")"
   ]
  },
  {
   "cell_type": "code",
   "execution_count": null,
   "id": "00a563f2-9cb2-4735-b775-d0bb29d5e561",
   "metadata": {},
   "outputs": [],
   "source": [
    "128 / 8"
   ]
  },
  {
   "cell_type": "code",
   "execution_count": null,
   "id": "42bbed3c-ee66-437d-9fef-27e41c5f6b3b",
   "metadata": {},
   "outputs": [],
   "source": [
    "256 / 8"
   ]
  },
  {
   "cell_type": "code",
   "execution_count": null,
   "id": "bd3a087c-de73-431c-ac90-35b14f399c5c",
   "metadata": {
    "tags": []
   },
   "outputs": [],
   "source": [
    "model"
   ]
  },
  {
   "cell_type": "code",
   "execution_count": null,
   "id": "0e881f93-a3a6-4796-a8b2-e454b4ede3c5",
   "metadata": {},
   "outputs": [],
   "source": [
    "sample_au = torch.from_numpy(sample_au)[None,...]\n",
    "# sample_au = torch.stack([sample_au, sample_au, sample_au, sample_au])"
   ]
  },
  {
   "cell_type": "code",
   "execution_count": null,
   "id": "528669dd-198f-46ca-99b7-0969fdf82e25",
   "metadata": {},
   "outputs": [],
   "source": [
    "spec = model.forward(\n",
    "    sample_au,\n",
    "    # torch.from_numpy(sample_au)[None,...],\n",
    "    return_spec_feature=True\n",
    ")"
   ]
  },
  {
   "cell_type": "code",
   "execution_count": null,
   "id": "4433ce4f-aa90-4008-97e6-db4a50118909",
   "metadata": {},
   "outputs": [],
   "source": [
    "spec"
   ]
  },
  {
   "cell_type": "code",
   "execution_count": null,
   "id": "68897ee9-f0db-4995-9141-a7b56433f1c5",
   "metadata": {},
   "outputs": [],
   "source": [
    "len(spec)"
   ]
  },
  {
   "cell_type": "code",
   "execution_count": null,
   "id": "44b2c960-c73a-44d1-8d8b-6be0e583755e",
   "metadata": {},
   "outputs": [],
   "source": [
    "plt.imshow(spec[0,0].detach())"
   ]
  },
  {
   "cell_type": "code",
   "execution_count": null,
   "id": "9615af34-7ca9-4a02-8618-8522d6f664cc",
   "metadata": {},
   "outputs": [],
   "source": [
    "plt.imshow(spec[0,0].detach())"
   ]
  },
  {
   "cell_type": "code",
   "execution_count": null,
   "id": "4dea602c-2795-4fc8-9be4-3614543488de",
   "metadata": {},
   "outputs": [],
   "source": [
    "some_backbone = timm.create_model(\n",
    "    \"eca_nfnet_l0\",\n",
    "    features_only=True,\n",
    "    pretrained=True,\n",
    "    exportable=True,\n",
    "    in_chans=2,\n",
    "    out_indices=None\n",
    ")\n",
    "some_backbone.eval();"
   ]
  },
  {
   "cell_type": "code",
   "execution_count": null,
   "id": "94c4c2bb-756b-4e4f-a1e5-62e9fbbb61a0",
   "metadata": {},
   "outputs": [],
   "source": [
    "some_backbone.feature_info.info"
   ]
  },
  {
   "cell_type": "code",
   "execution_count": null,
   "id": "28717014-0a0f-4b2c-a105-ac162262f780",
   "metadata": {},
   "outputs": [],
   "source": [
    "sample_input = torch.randn((1,2,256,256))"
   ]
  },
  {
   "cell_type": "code",
   "execution_count": null,
   "id": "30e174d2-9742-4a16-8772-94802515924a",
   "metadata": {},
   "outputs": [],
   "source": [
    "sample_input.mean((2,3), keepdims=True)"
   ]
  },
  {
   "cell_type": "code",
   "execution_count": null,
   "id": "10a00076-9b32-4995-a996-2b61ce00e65f",
   "metadata": {},
   "outputs": [],
   "source": [
    "type(sample_output_1)"
   ]
  },
  {
   "cell_type": "code",
   "execution_count": null,
   "id": "d366adc4-25aa-423d-9d26-f047aa44a3a4",
   "metadata": {},
   "outputs": [],
   "source": [
    "with torch.no_grad():\n",
    "    sample_output_2 = some_backbone(sample_input)"
   ]
  },
  {
   "cell_type": "code",
   "execution_count": null,
   "id": "aed39a8e-bb90-4bbc-b024-2ee9f5a46d0e",
   "metadata": {},
   "outputs": [],
   "source": [
    "len(sample_output_1), len(sample_output_2)"
   ]
  },
  {
   "cell_type": "code",
   "execution_count": null,
   "id": "ec744ad8-1371-43a0-ae9b-96569475002b",
   "metadata": {},
   "outputs": [],
   "source": [
    "torch.allclose(sample_output_1[3], sample_output_2[1])"
   ]
  },
  {
   "cell_type": "code",
   "execution_count": null,
   "id": "c6d56e0e-6027-4018-b055-dc65e9542b4a",
   "metadata": {},
   "outputs": [],
   "source": [
    "sample = torch.randn((4, int(TRAIN_PERIOD*32_000)))"
   ]
  },
  {
   "cell_type": "code",
   "execution_count": null,
   "id": "24eaf6ff-c5ef-4e45-b9a6-f530e63506c2",
   "metadata": {},
   "outputs": [],
   "source": [
    "model(sample)[\"clipwise_pred\"].shape"
   ]
  },
  {
   "cell_type": "code",
   "execution_count": null,
   "id": "86aca70c-0386-4a98-9e7e-4b527238437f",
   "metadata": {},
   "outputs": [],
   "source": [
    "sample = torch.from_numpy(librosa.util.normalize(test_audio[\n",
    "    test_sr*0:\n",
    "    test_sr*5\n",
    "]))[None,:]"
   ]
  },
  {
   "cell_type": "code",
   "execution_count": null,
   "id": "8db3750b-af8c-4c73-a886-7123650c550a",
   "metadata": {},
   "outputs": [],
   "source": [
    "sample.shape"
   ]
  },
  {
   "cell_type": "code",
   "execution_count": null,
   "id": "ab516bda-ea4c-4c78-a54a-0ec1f8b16f43",
   "metadata": {},
   "outputs": [],
   "source": [
    "spec = model.logmelspec_extractor(sample)"
   ]
  },
  {
   "cell_type": "code",
   "execution_count": null,
   "id": "c65ec2e2-bb16-489a-bda9-25ee840f9791",
   "metadata": {},
   "outputs": [],
   "source": [
    "spec.shape"
   ]
  },
  {
   "cell_type": "code",
   "execution_count": null,
   "id": "aa4fa713-fb0f-436c-8655-2f39350ab8e5",
   "metadata": {},
   "outputs": [],
   "source": [
    "spec.shape"
   ]
  },
  {
   "cell_type": "code",
   "execution_count": null,
   "id": "b58fb75a-f72d-4dcd-968b-56e7ba5632ed",
   "metadata": {},
   "outputs": [],
   "source": [
    "model.logmelspec_extractor"
   ]
  },
  {
   "cell_type": "code",
   "execution_count": null,
   "id": "c779b79e-ba96-438d-8b2e-a73b1ad25c9f",
   "metadata": {},
   "outputs": [],
   "source": [
    "embs = model.backbone(spec)"
   ]
  },
  {
   "cell_type": "code",
   "execution_count": null,
   "id": "865f5096-d6e9-4510-9f56-99b419f76586",
   "metadata": {},
   "outputs": [],
   "source": [
    "# model.train();\n",
    "model.eval();\n",
    "embs = model.forward(sample, return_spec_feature=True)"
   ]
  },
  {
   "cell_type": "code",
   "execution_count": null,
   "id": "44bf8459-e51d-47e4-9756-a303bd339e4f",
   "metadata": {},
   "outputs": [],
   "source": [
    "plt.imshow(embs[0,0])"
   ]
  },
  {
   "cell_type": "code",
   "execution_count": null,
   "id": "83bb626b-42aa-4634-94f7-0852691a42bc",
   "metadata": {},
   "outputs": [],
   "source": [
    "embs[\"clipwise_pred_long\"].min()"
   ]
  },
  {
   "cell_type": "code",
   "execution_count": null,
   "id": "fe712e37-60cd-497d-8f28-ec633c6b3b27",
   "metadata": {},
   "outputs": [],
   "source": [
    "embs.shape"
   ]
  },
  {
   "cell_type": "code",
   "execution_count": null,
   "id": "524bb925-5630-4e93-a2b0-63f663032614",
   "metadata": {},
   "outputs": [],
   "source": [
    "len(embs)"
   ]
  },
  {
   "cell_type": "code",
   "execution_count": null,
   "id": "9ba341c5-7c20-4fae-bf56-30f7d28282ca",
   "metadata": {},
   "outputs": [],
   "source": [
    "model.forward(sample)"
   ]
  },
  {
   "cell_type": "code",
   "execution_count": null,
   "id": "6379d11f-6549-4b39-9f22-c911806c7cfa",
   "metadata": {},
   "outputs": [],
   "source": [
    "embs.transpose()"
   ]
  },
  {
   "cell_type": "code",
   "execution_count": null,
   "id": "3f1f1c03-d569-46d8-9dee-687deacfc56f",
   "metadata": {},
   "outputs": [],
   "source": [
    "# torch.Size([4, 2304, 4, 10])"
   ]
  },
  {
   "cell_type": "code",
   "execution_count": null,
   "id": "92472284-689a-4cc5-97e9-24f3dfb5dc56",
   "metadata": {},
   "outputs": [],
   "source": [
    "len(embs)"
   ]
  },
  {
   "cell_type": "code",
   "execution_count": null,
   "id": "b66aa263-1b14-46c9-8cbd-91fd3a0f94fd",
   "metadata": {},
   "outputs": [],
   "source": [
    "probs = model.forward(sample)"
   ]
  },
  {
   "cell_type": "code",
   "execution_count": null,
   "id": "298e8f57-9d86-4b92-8933-733c1e2dfd34",
   "metadata": {},
   "outputs": [],
   "source": [
    "probs"
   ]
  },
  {
   "cell_type": "code",
   "execution_count": null,
   "id": "0bba9fd4-4908-40cf-ae5f-d41905390a95",
   "metadata": {},
   "outputs": [],
   "source": [
    "embs[2].shape"
   ]
  },
  {
   "cell_type": "code",
   "execution_count": null,
   "id": "f8a213dd-069d-4fa6-a5c2-13f404147d1d",
   "metadata": {},
   "outputs": [],
   "source": [
    "pool_layers = nn.ModuleList([\n",
    "    GeMFreqFixed(time_kernel_size=k*2 if k>0 else 1) for k in list(reversed(range(len(embs))))\n",
    "])"
   ]
  },
  {
   "cell_type": "code",
   "execution_count": null,
   "id": "0c59610e-77a7-4316-86f8-7b1880bb1fc4",
   "metadata": {},
   "outputs": [],
   "source": [
    "pooled_embs = [p(emb) for p, emb in zip(pool_layers, embs)]"
   ]
  },
  {
   "cell_type": "code",
   "execution_count": null,
   "id": "76f7511e-ddb9-442d-ae4b-3e119359645b",
   "metadata": {},
   "outputs": [],
   "source": [
    "for i in range(len(embs)):\n",
    "    print(pooled_embs[i].shape, embs[i].shape)"
   ]
  },
  {
   "cell_type": "code",
   "execution_count": null,
   "id": "defa86a9-e586-459c-bb7c-59b19a46dca5",
   "metadata": {},
   "outputs": [],
   "source": [
    "pooled_embs[3].shape, embs[3].shape"
   ]
  },
  {
   "cell_type": "code",
   "execution_count": null,
   "id": "c09718cd-e2bb-46c7-b8c3-3b21677de747",
   "metadata": {},
   "outputs": [],
   "source": []
  },
  {
   "cell_type": "code",
   "execution_count": null,
   "id": "992ac35a-6be8-431e-b47d-682b894d1456",
   "metadata": {},
   "outputs": [],
   "source": [
    "[k*2 if k>0 else 1 for k in list(reversed(range(len(embs))))]"
   ]
  },
  {
   "cell_type": "code",
   "execution_count": null,
   "id": "4e8a877a-341e-4647-b69b-05413c1a2414",
   "metadata": {},
   "outputs": [],
   "source": [
    "list(reversed(range(1, len(embs))))"
   ]
  },
  {
   "cell_type": "code",
   "execution_count": null,
   "id": "745a117e-8953-40c5-a26e-30cc759084d1",
   "metadata": {},
   "outputs": [],
   "source": [
    "[el.shape for el in embs]"
   ]
  },
  {
   "cell_type": "code",
   "execution_count": null,
   "id": "43e84d2b-d2de-45ea-ad24-bc6c8cee438c",
   "metadata": {},
   "outputs": [],
   "source": [
    "avg_pool = torch.nn.AvgPool2d(kernel_size=(2,2))"
   ]
  },
  {
   "cell_type": "code",
   "execution_count": null,
   "id": "4e0bb690-ade1-4193-a21f-b4eab9c0c945",
   "metadata": {},
   "outputs": [],
   "source": [
    "avg_pool(embs[-2]).shape"
   ]
  },
  {
   "cell_type": "code",
   "execution_count": null,
   "id": "41a963cd-0441-463c-94e4-b27dfcb2d0f2",
   "metadata": {},
   "outputs": [],
   "source": [
    "spec = model(sample)"
   ]
  },
  {
   "cell_type": "code",
   "execution_count": null,
   "id": "feaeb533-bec8-47d5-ab59-f69d9d62c963",
   "metadata": {},
   "outputs": [],
   "source": [
    "spec.shape"
   ]
  },
  {
   "cell_type": "code",
   "execution_count": null,
   "id": "b20b37ed-2100-4074-89a3-cd12b02f6e71",
   "metadata": {},
   "outputs": [],
   "source": [
    "!rm test_onnx -rf"
   ]
  },
  {
   "cell_type": "code",
   "execution_count": null,
   "id": "3faeaddb-0a57-46fe-8daf-239f94659cbe",
   "metadata": {},
   "outputs": [],
   "source": [
    "model.eval()\n",
    "convert_to_onnx(\n",
    "    model_to_convert=model,\n",
    "    sample_input=torch.randn(4, int(TRAIN_PERIOD * 32_000)),\n",
    "    # base_path=f\"../logdirs/tf_efficientnetv2_m_in21ft1k_convnext_tiny_in22ft1k_eca_nfnet_l0_noval_v3AllTune_075Clipwise025TimeMax_GausMean/onnx_ensem\"\n",
    "    base_path=\"test_onnx\"\n",
    ")"
   ]
  },
  {
   "cell_type": "code",
   "execution_count": null,
   "id": "0eb8fa2c-bcba-4620-91ca-631d2c0e9206",
   "metadata": {},
   "outputs": [],
   "source": [
    "model = ort.InferenceSession(f\"test_onnx/model_simpl.onnx\")"
   ]
  },
  {
   "cell_type": "code",
   "execution_count": null,
   "id": "1f84d6d9-6c63-4a75-b462-26031147dbab",
   "metadata": {},
   "outputs": [],
   "source": [
    "out = model.run(None, {\"input\": torch.randn(4, int(TRAIN_PERIOD * 32_000)).numpy()})[0]"
   ]
  },
  {
   "cell_type": "code",
   "execution_count": null,
   "id": "8552f139-afa0-487c-9b60-2ad16a2e7289",
   "metadata": {},
   "outputs": [],
   "source": [
    "out.shape"
   ]
  },
  {
   "cell_type": "code",
   "execution_count": null,
   "id": "6d1ab01e-8169-48d3-b7a6-3820fd6cbb31",
   "metadata": {},
   "outputs": [],
   "source": [
    "out"
   ]
  },
  {
   "cell_type": "markdown",
   "id": "f4d76856-d03e-4c77-94e5-aa4d07d84070",
   "metadata": {},
   "source": [
    "# Prepare final datasets"
   ]
  },
  {
   "cell_type": "code",
   "execution_count": null,
   "id": "606b1145-e73a-4388-928a-ca572522dc77",
   "metadata": {},
   "outputs": [],
   "source": [
    "train_metadata_extended_202x = pd.read_csv(\n",
    "    \"/home/vova/data/exps/BirdCLEF_2023/train_metadata_extended_2020_2022_no2023_scored_nodupl_v1_only_prime_2023SecLabels.csv\"\n",
    ")\n",
    "xc_add_first = pd.read_csv(\n",
    "    \"/home/vova/data/exps/BirdCLEF_2023/xeno_canto/scored_2023_xc_2023SecLabels.csv\"\n",
    ")\n",
    "xc_add_second = pd.read_csv(\n",
    "    \"/home/vova/data/exps/BirdCLEF_2023/xeno_canto/scored_2023_xc_2023SecLabels_till_12_05_2023_v2.csv\"\n",
    ")"
   ]
  },
  {
   "cell_type": "code",
   "execution_count": null,
   "id": "e6041d72-c252-4f4e-a841-1f81caa37de9",
   "metadata": {},
   "outputs": [],
   "source": [
    "xc_add_first.filename.iloc[0]"
   ]
  },
  {
   "cell_type": "code",
   "execution_count": null,
   "id": "34747da5-872b-4ce4-ab6a-2e7cfc022a51",
   "metadata": {},
   "outputs": [],
   "source": [
    "for fname in tqdm(xc_add_second[\"filename\"]):\n",
    "    splitted_fname = fname.split(\"/\")\n",
    "    new_fname = os.path.join(\"/home/vova/src/exps/BirdCLEF_2023_1st_place/data/birdclef_2023_data_part1/audio/\", splitted_fname[-2], splitted_fname[-1])\n",
    "    if not os.path.exists(os.path.dirname(new_fname)):\n",
    "        os.makedirs(os.path.dirname(new_fname))\n",
    "    copyfile(\n",
    "        fname,\n",
    "        os.path.join(\"/home/vova/src/exps/BirdCLEF_2023_1st_place/data/birdclef_2023_data_part1/audio/\", splitted_fname[-2], splitted_fname[-1])\n",
    "    )"
   ]
  },
  {
   "cell_type": "code",
   "execution_count": null,
   "id": "f8b60198-074a-4dd8-b269-08ebd41a4f88",
   "metadata": {},
   "outputs": [],
   "source": [
    "def modify_name(input):\n",
    "    splitted_fname = input.split(\"/\")\n",
    "    return os.path.join(splitted_fname[-2], splitted_fname[-1])"
   ]
  },
  {
   "cell_type": "code",
   "execution_count": null,
   "id": "593a4ead-bcfc-4815-a037-2ba3b707004b",
   "metadata": {},
   "outputs": [],
   "source": [
    "train_metadata_extended_202x[\"filename\"] = train_metadata_extended_202x[\"filename\"].apply(modify_name)\n",
    "xc_add_first[\"filename\"] = xc_add_first[\"filename\"].apply(modify_name)\n",
    "xc_add_second[\"filename\"] = xc_add_second[\"filename\"].apply(modify_name)"
   ]
  },
  {
   "cell_type": "code",
   "execution_count": null,
   "id": "742765ad-b2a1-4a75-85c9-8ab22cda8a7d",
   "metadata": {},
   "outputs": [],
   "source": [
    "train_metadata_extended_202x.drop(columns=\"Unnamed: 0\").to_csv(\n",
    "    \"/home/vova/src/exps/BirdCLEF_2023_1st_place/data/birdclef_2023_data_part1/train_metadata_extended_2020_2022_no2023_scored_nodupl_v1_only_prime_2023SecLabels.csv\",\n",
    "    index=False\n",
    ")\n",
    "xc_add_first.to_csv(\n",
    "    \"/home/vova/src/exps/BirdCLEF_2023_1st_place/data/birdclef_2023_data_part1/scored_2023_xc_2023SecLabels.csv\",\n",
    "    index=False\n",
    ")\n",
    "xc_add_second.to_csv(\n",
    "    \"/home/vova/src/exps/BirdCLEF_2023_1st_place/data/birdclef_2023_data_part1/scored_2023_xc_2023SecLabels_till_12_05_2023_v2.csv\",\n",
    "    index=False\n",
    ")"
   ]
  },
  {
   "cell_type": "code",
   "execution_count": null,
   "id": "ab2cc715-8956-4276-8d5d-243a45e14f33",
   "metadata": {},
   "outputs": [],
   "source": [
    "background_noise = pd.read_csv(\n",
    "    \"/home/vova/data/exps/BirdCLEF_2023/soundscapes_processed/v1_no_call_meta.csv\"\n",
    ")"
   ]
  },
  {
   "cell_type": "code",
   "execution_count": null,
   "id": "df4d0bb6-ce58-4986-bd2e-550492884937",
   "metadata": {},
   "outputs": [],
   "source": [
    "background_noise[\"filename\"].iloc[0]"
   ]
  },
  {
   "cell_type": "code",
   "execution_count": null,
   "id": "32810c0f-a7ba-47dd-9f0c-14d12ec443db",
   "metadata": {},
   "outputs": [],
   "source": [
    "for fname in tqdm(background_noise[\"filename\"]):\n",
    "    splitted_fname = fname.split(\"/\")\n",
    "    new_fname = os.path.join(\"/home/vova/src/exps/BirdCLEF_2023_1st_place/data/birdclef_2023_data_part1/soundscapes_nocall/\", splitted_fname[-2], splitted_fname[-1])\n",
    "    if os.path.exists(new_fname):\n",
    "        continue\n",
    "    if not os.path.exists(os.path.dirname(new_fname)):\n",
    "        os.makedirs(os.path.dirname(new_fname))\n",
    "    copyfile(\n",
    "        fname,\n",
    "        new_fname\n",
    "    )"
   ]
  },
  {
   "cell_type": "code",
   "execution_count": null,
   "id": "73afe515-511f-49f8-94ba-14dcb297d40f",
   "metadata": {},
   "outputs": [],
   "source": [
    "background_noise[\"filename\"] = background_noise[\"filename\"].apply(os.path.basename)"
   ]
  },
  {
   "cell_type": "code",
   "execution_count": null,
   "id": "615f6952-62d2-49d7-80e9-69665387ece5",
   "metadata": {},
   "outputs": [],
   "source": [
    "background_noise"
   ]
  },
  {
   "cell_type": "code",
   "execution_count": null,
   "id": "a3fcf053-316e-4b73-bf95-defd756fd7e5",
   "metadata": {},
   "outputs": [],
   "source": [
    "background_noise.to_csv(\n",
    "    \"/home/vova/src/exps/BirdCLEF_2023_1st_place/data/birdclef_2023_data_part1/v1_no_call_meta.csv\",\n",
    "    index=False\n",
    ")"
   ]
  },
  {
   "cell_type": "code",
   "execution_count": null,
   "id": "26402e00-8530-4169-89df-6b73d0bdb816",
   "metadata": {},
   "outputs": [],
   "source": [
    "background_noise_esc50 = pd.read_csv(\n",
    "    \"../../BirdCLEF_2023_1st_place/data/birdclef_2023_data_part1/esc50_background.csv\"\n",
    ")"
   ]
  },
  {
   "cell_type": "code",
   "execution_count": null,
   "id": "eeb20b7c-4dc9-4d27-9e00-27e42622623f",
   "metadata": {},
   "outputs": [],
   "source": [
    "for fname in tqdm(background_noise_esc50[\"filename\"]):\n",
    "    splitted_fname = fname.split(\"/\")\n",
    "    new_fname = os.path.join(\"/home/vova/src/exps/BirdCLEF_2023_1st_place/data/birdclef_2023_data_part1/esc50/\", splitted_fname[-2], splitted_fname[-1])\n",
    "    if os.path.exists(new_fname):\n",
    "        continue\n",
    "    if not os.path.exists(os.path.dirname(new_fname)):\n",
    "        os.makedirs(os.path.dirname(new_fname))\n",
    "    copyfile(\n",
    "        fname,\n",
    "        new_fname\n",
    "    )"
   ]
  },
  {
   "cell_type": "code",
   "execution_count": null,
   "id": "32e34031-f67f-45e7-9af6-5a476bee521a",
   "metadata": {},
   "outputs": [],
   "source": [
    "background_noise_esc50[\"filename\"] = background_noise_esc50[\"filename\"].apply(os.path.basename)"
   ]
  },
  {
   "cell_type": "code",
   "execution_count": null,
   "id": "f2cf08ef-6219-479b-8c6e-176487b510d8",
   "metadata": {},
   "outputs": [],
   "source": [
    "background_noise_esc50.to_csv(\n",
    "    \"/home/vova/src/exps/BirdCLEF_2023_1st_place/data/birdclef_2023_data_part1/esc50_background.csv\",\n",
    "    index=False\n",
    ")"
   ]
  },
  {
   "cell_type": "code",
   "execution_count": null,
   "id": "e4b9aeed-2167-4b45-9fca-8c21b6dbd7ca",
   "metadata": {},
   "outputs": [],
   "source": [
    "pretrain_dataset = pd.read_csv(\n",
    "    \"/home/vova/data/exps/BirdCLEF_2023/xeno_canto/train_metadata_extended_shorten_and_2023x_v3.csv\"\n",
    ")"
   ]
  },
  {
   "cell_type": "code",
   "execution_count": null,
   "id": "ebea09e9-14a9-49f7-80eb-238bccb52ffc",
   "metadata": {},
   "outputs": [],
   "source": [
    "pretrain_dataset[\"filename\"].apply(lambda x: \"/\".join(x.split(\"/\")[:-2])).value_counts()"
   ]
  },
  {
   "cell_type": "code",
   "execution_count": null,
   "id": "0cd657cf-d97a-4756-a468-4faf178d9b19",
   "metadata": {},
   "outputs": [],
   "source": [
    "pretrain_dataset_2021 = pretrain_dataset[\n",
    "    pretrain_dataset[\"filename\"].apply(lambda x: \"/\".join(x.split(\"/\")[:-2])) == \"/home/vova/data/exps/BirdCLEF_2023/birdclef_2021/train_short_audio\"\n",
    "]"
   ]
  },
  {
   "cell_type": "code",
   "execution_count": null,
   "id": "9fb16d5b-1a03-45fd-9b63-6c69b3af52b5",
   "metadata": {},
   "outputs": [],
   "source": [
    "pretrain_dataset_2021[\"filename\"].apply(lambda x: \"/\".join(x.split(\"/\")[:-2])).value_counts()"
   ]
  },
  {
   "cell_type": "code",
   "execution_count": null,
   "id": "fb1a5557-272d-4a6d-9587-7a15ca11e777",
   "metadata": {},
   "outputs": [],
   "source": [
    "pretrain_dataset_2021[\"filename\"].iloc[0]"
   ]
  },
  {
   "cell_type": "code",
   "execution_count": null,
   "id": "b635dc54-f717-456e-a032-96b89bd1add2",
   "metadata": {},
   "outputs": [],
   "source": [
    "for fname in tqdm(pretrain_dataset_2021[\"filename\"]):\n",
    "    splitted_fname = fname.split(\"/\")\n",
    "    new_fname = os.path.join(\"/home/vova/src/exps/BirdCLEF_2023_1st_place/data/birdclef_2023_data_part5/birdclef_2021\", splitted_fname[-2], splitted_fname[-1])\n",
    "    if os.path.exists(new_fname):\n",
    "        continue\n",
    "    if not os.path.exists(os.path.dirname(new_fname)):\n",
    "        os.makedirs(os.path.dirname(new_fname))\n",
    "    copyfile(\n",
    "        fname,\n",
    "        new_fname\n",
    "    )"
   ]
  },
  {
   "cell_type": "code",
   "execution_count": null,
   "id": "5f7c2eb2-5d5e-44a8-bc7b-b1542655ebb0",
   "metadata": {},
   "outputs": [],
   "source": [
    "pretrain_dataset_xc = pretrain_dataset[\n",
    "    pretrain_dataset[\"filename\"].apply(lambda x: \"/\".join(x.split(\"/\")[:-2])) == \"/home/vova/data/exps/BirdCLEF_2023/xeno_canto/dataset/audio\"\n",
    "]"
   ]
  },
  {
   "cell_type": "code",
   "execution_count": null,
   "id": "e339654b-577e-455e-9c79-0d693e85be0e",
   "metadata": {},
   "outputs": [],
   "source": [
    "pretrain_dataset_xc[\"filename\"].apply(lambda x: \"/\".join(x.split(\"/\")[:-2])).value_counts()"
   ]
  },
  {
   "cell_type": "code",
   "execution_count": null,
   "id": "170cdb0a-a6fe-4cdb-bcb2-0cf3e42bc8c5",
   "metadata": {},
   "outputs": [],
   "source": [
    "for fname in tqdm(pretrain_dataset_xc[\"filename\"]):\n",
    "    splitted_fname = fname.split(\"/\")\n",
    "    new_fname = os.path.join(\"/home/vova/src/exps/BirdCLEF_2023_1st_place/data/birdclef_2023_data_part6/xeno_canto/\", splitted_fname[-2], splitted_fname[-1])\n",
    "    if os.path.exists(new_fname):\n",
    "        continue\n",
    "    if not os.path.exists(os.path.dirname(new_fname)):\n",
    "        os.makedirs(os.path.dirname(new_fname))\n",
    "    copyfile(\n",
    "        fname,\n",
    "        new_fname\n",
    "    )"
   ]
  },
  {
   "cell_type": "code",
   "execution_count": null,
   "id": "4f7ec946-b207-4218-9b1c-23972c122eeb",
   "metadata": {},
   "outputs": [],
   "source": [
    "pretrain_dataset[\"temp\"] = pretrain_dataset[\"filename_h5py\"].apply(lambda x: \"/\".join(x.split(\"/\")[:-2]))"
   ]
  },
  {
   "cell_type": "code",
   "execution_count": null,
   "id": "44ebce04-a8db-4e9b-bdd9-6e643260846e",
   "metadata": {},
   "outputs": [],
   "source": [
    "pretrain_dataset_2022 = pretrain_dataset[\n",
    "    pretrain_dataset[\"filename\"].apply(lambda x: \"/\".join(x.split(\"/\")[:-2])) == \"/home/vova/data/exps/BirdCLEF_2023/birdclef_2022/train_audio\"\n",
    "]"
   ]
  },
  {
   "cell_type": "code",
   "execution_count": null,
   "id": "5f607675-4343-42a7-b83a-759e6483dac7",
   "metadata": {},
   "outputs": [],
   "source": [
    "pretrain_dataset[\"temp\"].value_counts()"
   ]
  },
  {
   "cell_type": "code",
   "execution_count": null,
   "id": "bbce8c9e-b722-406c-9f2a-44e8bd464219",
   "metadata": {},
   "outputs": [],
   "source": [
    "for fname in tqdm(pretrain_dataset_2022[\"filename\"]):\n",
    "    splitted_fname = fname.split(\"/\")\n",
    "    new_fname = os.path.join(\"/home/vova/src/exps/BirdCLEF_2023_1st_place/data/birdclef_2023_data_part8/birdclef_2022\", splitted_fname[-2], splitted_fname[-1])\n",
    "    if os.path.exists(new_fname):\n",
    "        continue\n",
    "    if not os.path.exists(os.path.dirname(new_fname)):\n",
    "        os.makedirs(os.path.dirname(new_fname))\n",
    "    copyfile(\n",
    "        fname,\n",
    "        new_fname\n",
    "    )"
   ]
  },
  {
   "cell_type": "code",
   "execution_count": null,
   "id": "27372fde-800d-4fed-b58c-28e18c3706f1",
   "metadata": {},
   "outputs": [],
   "source": [
    "# /home/vova/data/exps/BirdCLEF_2023/birdclef_2020/audio_features\n",
    "pretrain_dataset.loc[\n",
    "    pretrain_dataset[\"temp\"] == \"/home/vova/data/exps/BirdCLEF_2023/birdclef_2020/audio_features\",\n",
    "    \"filename_h5py\"\n",
    "] = pretrain_dataset.loc[\n",
    "    pretrain_dataset[\"temp\"] == \"/home/vova/data/exps/BirdCLEF_2023/birdclef_2020/audio_features\",\n",
    "    \"filename_h5py\"\n",
    "].apply(lambda x: x.replace(\"/home/vova/data/exps/BirdCLEF_2023/birdclef_2020/audio_features\", \"data/birdclef_2020_features\"))\n",
    "# /home/vova/data/exps/BirdCLEF_2023/birdclef_2020_xc_a_m/audio_features\n",
    "pretrain_dataset.loc[\n",
    "    pretrain_dataset[\"temp\"] == \"/home/vova/data/exps/BirdCLEF_2023/birdclef_2020_xc_a_m/audio_features\",\n",
    "    \"filename_h5py\"\n",
    "] = pretrain_dataset.loc[\n",
    "    pretrain_dataset[\"temp\"] == \"/home/vova/data/exps/BirdCLEF_2023/birdclef_2020_xc_a_m/audio_features\",\n",
    "    \"filename_h5py\"\n",
    "].apply(lambda x: x.replace(\"/home/vova/data/exps/BirdCLEF_2023/birdclef_2020_xc_a_m/audio_features\", \"data/birdclef_2020_xc_a_m_features\"))\n",
    "# /home/vova/data/exps/BirdCLEF_2023/birdclef_2020_xc_n_z/audio_features\n",
    "pretrain_dataset.loc[\n",
    "    pretrain_dataset[\"temp\"] == \"/home/vova/data/exps/BirdCLEF_2023/birdclef_2020_xc_n_z/audio_features\",\n",
    "    \"filename_h5py\"\n",
    "] = pretrain_dataset.loc[\n",
    "    pretrain_dataset[\"temp\"] == \"/home/vova/data/exps/BirdCLEF_2023/birdclef_2020_xc_n_z/audio_features\",\n",
    "    \"filename_h5py\"\n",
    "].apply(lambda x: x.replace(\"/home/vova/data/exps/BirdCLEF_2023/birdclef_2020_xc_n_z/audio_features\", \"data/birdclef_2020_xc_n_z_features\"))\n",
    "# /home/vova/data/exps/BirdCLEF_2023/birdclef_2021/audio_features\n",
    "pretrain_dataset.loc[\n",
    "    pretrain_dataset[\"temp\"] == \"/home/vova/data/exps/BirdCLEF_2023/birdclef_2021/audio_features\",\n",
    "    \"filename_h5py\"\n",
    "] = pretrain_dataset.loc[\n",
    "    pretrain_dataset[\"temp\"] == \"/home/vova/data/exps/BirdCLEF_2023/birdclef_2021/audio_features\",\n",
    "    \"filename_h5py\"\n",
    "].apply(lambda x: x.replace(\"/home/vova/data/exps/BirdCLEF_2023/birdclef_2021/audio_features\", \"data/birdclef_2021_features\"))\n",
    "# /home/vova/data/exps/BirdCLEF_2023/birdclef_2022/train_audio\n",
    "pretrain_dataset.loc[\n",
    "    pretrain_dataset[\"temp\"] == \"/home/vova/data/exps/BirdCLEF_2023/birdclef_2022/audio_features\",\n",
    "    \"filename_h5py\"\n",
    "] = pretrain_dataset.loc[\n",
    "    pretrain_dataset[\"temp\"] == \"/home/vova/data/exps/BirdCLEF_2023/birdclef_2022/audio_features\",\n",
    "    \"filename_h5py\"\n",
    "].apply(lambda x: x.replace(\"/home/vova/data/exps/BirdCLEF_2023/birdclef_2022/audio_features\", \"data/birdclef_2022_features\"))\n",
    "# /home/vova/data/exps/BirdCLEF_2023/xeno_canto/audio_features\n",
    "pretrain_dataset.loc[\n",
    "    pretrain_dataset[\"temp\"] == \"/home/vova/data/exps/BirdCLEF_2023/xeno_canto/audio_features\",\n",
    "    \"filename_h5py\"\n",
    "] = pretrain_dataset.loc[\n",
    "    pretrain_dataset[\"temp\"] == \"/home/vova/data/exps/BirdCLEF_2023/xeno_canto/audio_features\",\n",
    "    \"filename_h5py\"\n",
    "].apply(lambda x: x.replace(\"/home/vova/data/exps/BirdCLEF_2023/xeno_canto/audio_features\", \"data/xeno_canto_features\"))"
   ]
  },
  {
   "cell_type": "code",
   "execution_count": null,
   "id": "b3cbe4ec-a407-4c3c-af17-44680c29651c",
   "metadata": {},
   "outputs": [],
   "source": [
    "pretrain_dataset.loc[\n",
    "    pretrain_dataset[\"filename_h5py\"].apply(lambda x: os.path.exists(os.path.join(\"/home/vova/src/exps/BirdCLEF_2023_1st_place\", x))), \n",
    "    \"temp\"\n",
    "].value_counts()"
   ]
  },
  {
   "cell_type": "code",
   "execution_count": null,
   "id": "b96be60d-cf6c-467c-a631-b692cb83dee9",
   "metadata": {},
   "outputs": [],
   "source": [
    "pretrain_dataset.loc[\n",
    "    ~pretrain_dataset[\"filename_h5py\"].apply(lambda x: os.path.exists(os.path.join(\"/home/vova/src/exps/BirdCLEF_2023_1st_place\", x))), \n",
    "    \"temp\"\n",
    "].value_counts()"
   ]
  },
  {
   "cell_type": "code",
   "execution_count": null,
   "id": "976e3c9f-0a0e-4624-a5c1-998dc891b3d7",
   "metadata": {},
   "outputs": [],
   "source": [
    "pretrain_dataset = pretrain_dataset.drop(columns=[\"temp\"])\n",
    "pretrain_dataset[\"filename\"] = pretrain_dataset[\"filename\"].apply(modify_name)"
   ]
  },
  {
   "cell_type": "code",
   "execution_count": null,
   "id": "b5f4d19e-07d8-415e-9a35-ed42384a764f",
   "metadata": {},
   "outputs": [],
   "source": [
    "pretrain_dataset.to_csv(\n",
    "    \"/home/vova/src/exps/BirdCLEF_2023_1st_place/data/train_metadata_extended_shorten_and_2023x_v3.csv\",\n",
    "    index=False\n",
    ")"
   ]
  },
  {
   "cell_type": "code",
   "execution_count": null,
   "id": "f7d171ea-50b7-4a16-b851-276a36ddc219",
   "metadata": {},
   "outputs": [],
   "source": [
    "background_noise_esc50"
   ]
  },
  {
   "cell_type": "code",
   "execution_count": null,
   "id": "3af1a27f-e349-4814-8b04-cd3f39523dce",
   "metadata": {},
   "outputs": [],
   "source": [
    "v1_no_call_meta = pd.read_csv(\"/home/vova/src/exps/BirdCLEF_2023_1st_place/data/v1_no_call_meta.csv\")"
   ]
  },
  {
   "cell_type": "code",
   "execution_count": null,
   "id": "9dfafaf9-6bb0-4310-baa6-d3ecd3e36d7b",
   "metadata": {},
   "outputs": [],
   "source": [
    "v1_no_call_meta[\n",
    "    ~v1_no_call_meta[\"filename\"].apply(lambda x: os.path.exists(os.path.join(\"/home/vova/src/exps/BirdCLEF_2023_1st_place/data/soundscapes_nocall/train_audio/\", x)))\n",
    "]"
   ]
  },
  {
   "cell_type": "code",
   "execution_count": null,
   "id": "821c9d52-dc04-4b66-94ae-aaa5c457b9a7",
   "metadata": {},
   "outputs": [],
   "source": []
  }
 ],
 "metadata": {
  "kernelspec": {
   "display_name": "Python 3 (ipykernel)",
   "language": "python",
   "name": "python3"
  },
  "language_info": {
   "codemirror_mode": {
    "name": "ipython",
    "version": 3
   },
   "file_extension": ".py",
   "mimetype": "text/x-python",
   "name": "python",
   "nbconvert_exporter": "python",
   "pygments_lexer": "ipython3",
   "version": "3.11.6"
  }
 },
 "nbformat": 4,
 "nbformat_minor": 5
}
