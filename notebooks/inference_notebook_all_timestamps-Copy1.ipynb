{
 "cells": [
  {
   "cell_type": "code",
   "execution_count": null,
   "id": "e68b5865-b35e-4a2d-bf9f-e5f3ccb7ba0e",
   "metadata": {},
   "outputs": [],
   "source": [
    "!nvidia-smi"
   ]
  },
  {
   "cell_type": "code",
   "execution_count": null,
   "id": "066b6336-a425-4dac-b1d7-2d4164c39e8d",
   "metadata": {},
   "outputs": [],
   "source": [
    "%load_ext autoreload\n",
    "%autoreload 2\n",
    "\n",
    "import os\n",
    "os.environ[\"CUDA_VISIBLE_DEVICES\"]=\"1\"\n",
    "\n",
    "import pandas as pd\n",
    "import numpy as np\n",
    "import re\n",
    "import librosa\n",
    "import seaborn as sns\n",
    "import os\n",
    "import json\n",
    "import IPython.display as ipd\n",
    "import soundfile as sf\n",
    "import torch\n",
    "import h5py\n",
    "import onnxruntime as ort\n",
    "import openvino as ov\n",
    "import torch.quantization.quantize_fx as quantize_fx\n",
    "\n",
    "from glob import glob\n",
    "from tqdm import tqdm\n",
    "from pprint import pprint\n",
    "from matplotlib import pyplot as plt\n",
    "from itertools import chain\n",
    "from os.path import join as pjoin\n",
    "from torchaudio.transforms import AmplitudeToDB, MelSpectrogram\n",
    "from copy import deepcopy\n",
    "from sklearn.metrics import f1_score \n",
    "\n",
    "# from code_base.utils import parallel_librosa_load, groupby_np_array, stack_and_max_by_samples, macro_f1_similarity, N_CLASSES_2021_2022, N_CLASSES_2021, comp_metric, N_CLASSES_XC_LIGIT_SHORTEN, N_CLASSES_XC_LIGIT_EVEN_SHORTEN\n",
    "# from code_base.utils.constants import SAMPLE_RATE\n",
    "from code_base.utils.onnx_utils import ONNXEnsemble, convert_to_onnx\n",
    "from code_base.models import WaveCNNClasifier, WaveCNNAttenClasifier, WaveTDNNClasifier\n",
    "from code_base.datasets import WaveDataset, WaveAllFileDataset\n",
    "from code_base.utils.swa import avarage_weights, delete_prefix_from_chkp\n",
    "from code_base.inefernce import BirdsInference\n",
    "from code_base.utils import load_json, compose_submission_dataframe, groupby_np_array, stack_and_max_by_samples, write_json\n",
    "from code_base.utils.metrics import score_numpy\n",
    "from code_base.utils.main_utils import get_device\n",
    "%matplotlib inline\n"
   ]
  },
  {
   "cell_type": "code",
   "execution_count": null,
   "id": "84e575ce-69f8-489c-b3fc-b5c70174747e",
   "metadata": {},
   "outputs": [],
   "source": [
    "!ls ../data/bird_clef_2025_predictions -lt"
   ]
  },
  {
   "cell_type": "markdown",
   "id": "981361da-b8d9-4162-820d-2a4b624850a4",
   "metadata": {},
   "source": [
    "# Clean logdirs"
   ]
  },
  {
   "cell_type": "code",
   "execution_count": null,
   "id": "f6d48232-1c77-4018-9f67-234697d62c6f",
   "metadata": {},
   "outputs": [],
   "source": [
    "# def filt_criteria(input):\n",
    "#     num_folds = sum(\"fold_\" in el for el in glob(pjoin(input, \"*\")))\n",
    "#     if num_folds > 0 and num_folds < 5:\n",
    "#         print(input, num_folds)\n",
    "#         return False\n",
    "#     else:\n",
    "#         return True\n",
    "    \n",
    "# all_logdirs = glob(\"../logdirs/*\")\n",
    "# logdirs_to_remove = [el for el in all_logdirs if not filt_criteria(el)]"
   ]
  },
  {
   "cell_type": "code",
   "execution_count": null,
   "id": "f174fa79-a461-4706-8fc1-7e67d9945ed3",
   "metadata": {},
   "outputs": [],
   "source": [
    "# for el in logdirs_to_remove[:-1]:\n",
    "#     !rm {el} -rf"
   ]
  },
  {
   "cell_type": "markdown",
   "id": "b737b54a-20f3-40b4-893c-018539b384b3",
   "metadata": {},
   "source": [
    "# Config"
   ]
  },
  {
   "cell_type": "code",
   "execution_count": null,
   "id": "dc129540-3ade-4b64-88f7-1dd662d3c038",
   "metadata": {
    "tags": []
   },
   "outputs": [],
   "source": [
    "!ls -lt ../logdirs/"
   ]
  },
  {
   "cell_type": "code",
   "execution_count": null,
   "id": "3893be61-a93d-41f7-8a73-8b447d1f769e",
   "metadata": {},
   "outputs": [],
   "source": [
    "# print(\"Possible exps:\\n\\n{}\".format(\"\\n\".join(os.listdir(\"../logdirs/\"))))"
   ]
  },
  {
   "cell_type": "code",
   "execution_count": null,
   "id": "72915839-edd3-43d2-a51d-bbc70fd3e342",
   "metadata": {},
   "outputs": [],
   "source": [
    "# bird2id_source = load_json(\"/gpfs/space/projects/BetterMedicine/volodymyr1/exps/bird_clef_2025/birdclef_2025/bird2int_2025_and_prev_comps.json\")\n",
    "# bird2id_target = load_json(\"/gpfs/space/projects/BetterMedicine/volodymyr1/exps/bird_clef_2025/birdclef_2025/bird2int_2025.json\")\n",
    "\n",
    "# id2bird_source = {v:k for k,v in bird2id_source.items()}\n",
    "# id2bird_target = {v:k for k,v in bird2id_target.items()}\n",
    "\n",
    "# REARRANGE_INDICES = np.array([\n",
    "#     bird2id_source[id2bird_target[i]] for i in range(len(id2bird_target))\n",
    "# ]).astype(int)\n",
    "\n",
    "# def prune_checkpoint_rule(inp_chkp):\n",
    "#     inp_chkp[\"head.attention.weight\"] = inp_chkp[\"head.attention.weight\"][REARRANGE_INDICES]\n",
    "#     inp_chkp[\"head.attention.bias\"] = inp_chkp[\"head.attention.bias\"][REARRANGE_INDICES]\n",
    "    \n",
    "#     inp_chkp[\"head.fix_scale.weight\"] = inp_chkp[\"head.fix_scale.weight\"][REARRANGE_INDICES]\n",
    "#     inp_chkp[\"head.fix_scale.bias\"] = inp_chkp[\"head.fix_scale.bias\"][REARRANGE_INDICES]\n",
    "\n",
    "#     return inp_chkp"
   ]
  },
  {
   "cell_type": "code",
   "execution_count": null,
   "id": "82d3c413-f9e7-4998-8654-1be7aab82c8e",
   "metadata": {},
   "outputs": [],
   "source": [
    "POSTFIX = \"\"\n",
    "EXP_NAME = \"eca_nfnet_l0_Exp_noamp_64bs_5sec_BasicAug_SqrtBalancing_Radamlr1e3_CosBatchLR1e6_Epoch50_FocalBCELoss_LSF1005_FromPreca4_PseudoF2PT05MT01P04I2_MinorOverSampleV1\"\n",
    "TRAIN_PERIOD = 5\n",
    "print(\"Possible checkpoints:\\n\\n{}\".format(\"\\n\".join(set([os.path.basename(el) for el in glob(f\"../logdirs/{EXP_NAME}/*/checkpoints/*.ckpt*\") if \"train\" not in os.path.basename(el)]))))"
   ]
  },
  {
   "cell_type": "code",
   "execution_count": null,
   "id": "12b30cda-80f1-4f4d-bd30-ded79880f16f",
   "metadata": {
    "scrolled": true,
    "tags": []
   },
   "outputs": [],
   "source": [
    "conf_path = glob(f\"../logdirs/{EXP_NAME}/code/*train_configs*.py\")\n",
    "assert len(conf_path) == 1\n",
    "conf_path = conf_path[0]\n",
    "!cat {conf_path}"
   ]
  },
  {
   "cell_type": "code",
   "execution_count": null,
   "id": "4e81f417-8370-4a68-85e7-89b47ab1e3d5",
   "metadata": {},
   "outputs": [],
   "source": [
    "CONFIG = {\n",
    "    # Inference Class\n",
    "    \"use_sigmoid\": False,\n",
    "    # Data config\n",
    "    \"train_df_path\": \"../data/train_and_prev_comps_extendedv1_pruneSL_XConly2025_snipet28032025_hdf5_fixedaudiometa_h5pyDur.csv\",\n",
    "    \"split_path\": \"../data/cv_split_base_and_prev_comps_XCsnipet28032025_group_allbirds_hdf5.npy\",\n",
    "    \"n_folds\":5,\n",
    "    \"train_data_root\":\"../data/train_audio\",\n",
    "    \"test_data_root\":\"../data/train_soundscapes/*.ogg\",\n",
    "    \"label_map_data_path\": \"../data/bird2int_2025.json\",\n",
    "    \"scored_birds_path\":\"../data/sb_2025.json\", \n",
    "    \"lookback\":None,\n",
    "    \"lookahead\":None,\n",
    "    \"segment_len\":5,\n",
    "    \"step\": None,\n",
    "    \"late_normalize\": True,\n",
    "    \"add_dataset_config\": {\n",
    "        \"filename_change_mapping\": {\n",
    "            \"base\": \"train_audio\",\n",
    "            \"train_audio\": \"train_audio\",\n",
    "            \"add_train_audio_from_prev_comps\": \"add_train_audio_from_prev_comps\",\n",
    "            \"add_train_audio_from_xeno_canto_28032025\": \"add_train_audio_from_xeno_canto_28032025\",\n",
    "        },\n",
    "        \"ignore_setting_dataset_value\": True,\n",
    "    },\n",
    "    # Model config\n",
    "    \"exp_name\":EXP_NAME,\n",
    "    \"model_class\": WaveCNNAttenClasifier,\n",
    "    \"model_config\": dict(\n",
    "        backbone=\"eca_nfnet_l0\",\n",
    "        mel_spec_paramms={\n",
    "            \"sample_rate\": 32000,\n",
    "            \"n_mels\": 128,\n",
    "            \"f_min\": 20,\n",
    "            \"n_fft\": 2048,\n",
    "            \"hop_length\": 512,\n",
    "            \"normalized\": True,\n",
    "        },\n",
    "        head_config={\n",
    "            \"p\": 0.5,\n",
    "            # \"num_class\": 220,\n",
    "            \"num_class\": 206,\n",
    "            \"train_period\": TRAIN_PERIOD,\n",
    "            \"infer_period\": TRAIN_PERIOD,\n",
    "            \"output_type\": \"clipwise_pred_long\",\n",
    "        },\n",
    "        exportable=True,\n",
    "        fixed_amplitude_to_db=True\n",
    "    ),\n",
    "    \"chkp_name\":\"last.ckpt\",\n",
    "    \"swa_checkpoint_regex\": r'(?P<key>\\w+)=(?P<value>[\\d.]+)(?=\\.ckpt|$)',\n",
    "    \"swa_sort_rule\": lambda x: -float(x[\"valid_roc_auc\"]),\n",
    "    \"delete_prefix\": \"model.\",\n",
    "    \"n_swa_models\": 1,\n",
    "    \"model_output_key\": None,\n",
    "}\n",
    "\n",
    "if CONFIG.get(\"use_sed_mode\", False):\n",
    "    assert CONFIG[\"step\"] is not None\n",
    "else:\n",
    "    assert CONFIG[\"step\"] is None\n",
    "    \n",
    "if \"folds\" not in CONFIG:\n",
    "    CONFIG[\"folds\"] = list(range(CONFIG[\"n_folds\"]))\n",
    "    "
   ]
  },
  {
   "cell_type": "markdown",
   "id": "51829533-f273-4a67-9260-cd764da76f6d",
   "metadata": {},
   "source": [
    "# Data"
   ]
  },
  {
   "cell_type": "code",
   "execution_count": null,
   "id": "aff85dcc-47fd-4bed-beb3-fa4effb9236b",
   "metadata": {},
   "outputs": [],
   "source": [
    "bird2id = load_json(CONFIG[\"label_map_data_path\"])"
   ]
  },
  {
   "cell_type": "code",
   "execution_count": null,
   "id": "b32a5c62-d255-4175-9da5-3787e8960a56",
   "metadata": {},
   "outputs": [],
   "source": [
    "df = pd.read_csv(CONFIG[\"train_df_path\"])\n",
    "split = np.load(CONFIG[\"split_path\"], allow_pickle=True)\n",
    "val_df = [df.iloc[split[i][1]].reset_index(drop=True) for i in CONFIG[\"folds\"]]"
   ]
  },
  {
   "cell_type": "code",
   "execution_count": null,
   "id": "be608001-f361-4fab-a7af-d69c224a38c9",
   "metadata": {},
   "outputs": [],
   "source": [
    "val_ds_conig = {\n",
    "    \"root\": CONFIG[\"train_data_root\"],\n",
    "    \"label_str2int_mapping_path\": CONFIG[\"label_map_data_path\"],\n",
    "    \"use_audio_cache\": True,\n",
    "    \"test_mode\": True,\n",
    "    \"n_cores\": 64,\n",
    "    \"verbose\": False,\n",
    "    \"segment_len\": CONFIG[\"segment_len\"],\n",
    "    \"lookback\":CONFIG[\"lookback\"],\n",
    "    \"lookahead\":CONFIG[\"lookahead\"],\n",
    "    \"sample_id\": None,\n",
    "    \"late_normalize\": CONFIG[\"late_normalize\"],\n",
    "    \"step\": CONFIG[\"step\"],\n",
    "    \"duration_col\": \"duration_s_h5py\"\n",
    "    # \"validate_sr\": 32_000,\n",
    "}\n",
    "if CONFIG.get(\"add_dataset_config\") is not None:\n",
    "    val_ds_conig.update(CONFIG[\"add_dataset_config\"])\n",
    "loader_config = {\n",
    "    \"batch_size\": 64,\n",
    "    \"drop_last\": False,\n",
    "    \"shuffle\": False,\n",
    "    \"num_workers\": 0,\n",
    "}"
   ]
  },
  {
   "cell_type": "code",
   "execution_count": null,
   "id": "9014d6e6-56e9-45d6-9dcf-c76c4f59bfd7",
   "metadata": {},
   "outputs": [],
   "source": [
    "ds_val = [WaveAllFileDataset(df=df, **val_ds_conig) for df in val_df]"
   ]
  },
  {
   "cell_type": "code",
   "execution_count": null,
   "id": "01310c22-1f3d-45a0-a8c8-1dae95b0c141",
   "metadata": {},
   "outputs": [],
   "source": [
    "loader_val = [torch.utils.data.DataLoader(\n",
    "    ds,\n",
    "    **loader_config,\n",
    ")for ds in ds_val]"
   ]
  },
  {
   "cell_type": "code",
   "execution_count": null,
   "id": "5bc85eee-c91b-408f-b1e6-a6ea47dacfd5",
   "metadata": {},
   "outputs": [],
   "source": [
    "len(loader_val)"
   ]
  },
  {
   "cell_type": "code",
   "execution_count": null,
   "id": "e86df0b1-3ba3-4c84-89c1-59844fb93882",
   "metadata": {},
   "outputs": [],
   "source": [
    "val_ds_conig"
   ]
  },
  {
   "cell_type": "markdown",
   "id": "1baf70ba-989d-4c39-b97b-473e2b69c72f",
   "metadata": {},
   "source": [
    "# Model"
   ]
  },
  {
   "cell_type": "code",
   "execution_count": null,
   "id": "3ad4d685-a722-402c-951a-7b1ae0bd1a36",
   "metadata": {},
   "outputs": [],
   "source": [
    "def create_model_and_upload_chkp(\n",
    "    model_class,\n",
    "    model_config,\n",
    "    model_device,\n",
    "    model_chkp_root,\n",
    "    model_chkp_basename=None,\n",
    "    model_chkp_regex=None,\n",
    "    delete_prefix=None,\n",
    "    swa_sort_rule=None,\n",
    "    n_swa_to_take=3,\n",
    "    prune_checkpoint_func=None\n",
    "):\n",
    "    if model_chkp_basename is None:\n",
    "        basenames = os.listdir(model_chkp_root)\n",
    "        checkpoints = []\n",
    "        for el in basenames:\n",
    "            matches = re.findall(model_chkp_regex, el)\n",
    "            if not matches:\n",
    "                continue\n",
    "            parsed_dict = {key: value for key, value in matches}\n",
    "            parsed_dict[\"name\"] = el\n",
    "            checkpoints.append(parsed_dict)\n",
    "        print(\"SWA checkpoints\")\n",
    "        pprint(checkpoints)\n",
    "        checkpoints = sorted(checkpoints, key=swa_sort_rule)\n",
    "        checkpoints = checkpoints[:n_swa_to_take]\n",
    "        print(\"SWA sorted checkpoints\")\n",
    "        pprint(checkpoints)\n",
    "        if len(checkpoints) > 1:\n",
    "            checkpoints = [\n",
    "                torch.load(os.path.join(model_chkp_root, el[\"name\"]), map_location=\"cpu\")[\"state_dict\"] for el in checkpoints\n",
    "            ]\n",
    "            t_chkp = avarage_weights(\n",
    "                nn_weights=checkpoints,\n",
    "                delete_prefix=delete_prefix\n",
    "            )\n",
    "        else:\n",
    "            chkp_path = os.path.join(model_chkp_root, checkpoints[0][\"name\"])\n",
    "            print(\"vanilla model\")\n",
    "            print(\"Loading\", chkp_path)\n",
    "            t_chkp = torch.load(\n",
    "                chkp_path, \n",
    "                map_location=\"cpu\"\n",
    "            )[\"state_dict\"]\n",
    "            if delete_prefix is not None:\n",
    "                t_chkp = delete_prefix_from_chkp(t_chkp, delete_prefix)\n",
    "    else:\n",
    "        chkp_path = os.path.join(model_chkp_root, model_chkp_basename)\n",
    "        print(\"vanilla model\")\n",
    "        print(\"Loading\", chkp_path)\n",
    "        t_chkp = torch.load(\n",
    "            chkp_path, \n",
    "            map_location=\"cpu\"\n",
    "        )[\"state_dict\"]\n",
    "        if delete_prefix is not None:\n",
    "            t_chkp = delete_prefix_from_chkp(t_chkp, delete_prefix)\n",
    "\n",
    "    if prune_checkpoint_func is not None:\n",
    "        t_chkp = prune_checkpoint_func(t_chkp)\n",
    "    t_model = model_class(**model_config, device=model_device) \n",
    "    print(\"Missing keys: \", set(t_model.state_dict().keys()) - set(t_chkp))\n",
    "    print(\"Extra keys: \",  set(t_chkp) - set(t_model.state_dict().keys()))\n",
    "    t_model.load_state_dict(t_chkp, strict=False)\n",
    "    t_model.eval()\n",
    "    return t_model"
   ]
  },
  {
   "cell_type": "code",
   "execution_count": null,
   "id": "e8f52a95-e947-475d-8401-428a42763f7a",
   "metadata": {},
   "outputs": [],
   "source": [
    "\n",
    "model = [create_model_and_upload_chkp(\n",
    "    model_class=CONFIG[\"model_class\"],\n",
    "    model_config=CONFIG['model_config'],\n",
    "    model_device=get_device(),\n",
    "    model_chkp_root=f\"../logdirs/{CONFIG['exp_name']}/fold_{m_i}/checkpoints\",\n",
    "    # model_chkp_root=f\"../logdirs/{CONFIG['exp_name']}/checkpoints\",\n",
    "    model_chkp_basename=CONFIG[\"chkp_name\"] if CONFIG[\"swa_checkpoint_regex\"] is None else None,\n",
    "    model_chkp_regex=CONFIG.get(\"swa_checkpoint_regex\"),\n",
    "    swa_sort_rule=CONFIG.get(\"swa_sort_rule\"),\n",
    "    n_swa_to_take=CONFIG.get(\"n_swa_models\", 3),\n",
    "    delete_prefix=CONFIG.get(\"delete_prefix\"),\n",
    "    prune_checkpoint_func=CONFIG.get(\"prune_checkpoint_func\")\n",
    ") for m_i in range(CONFIG[\"n_folds\"])]\n"
   ]
  },
  {
   "cell_type": "markdown",
   "id": "72379cff-f673-4020-8105-41607cf68107",
   "metadata": {},
   "source": [
    "# Inference Class"
   ]
  },
  {
   "cell_type": "code",
   "execution_count": null,
   "id": "51c17c1f-7efe-41e6-9a2e-3285c81ef740",
   "metadata": {},
   "outputs": [],
   "source": [
    "inference_class = BirdsInference(\n",
    "    device=\"cuda\",\n",
    "    verbose_tqdm=True,\n",
    "    use_sigmoid=CONFIG[\"use_sigmoid\"],\n",
    "    model_output_key=CONFIG[\"model_output_key\"],\n",
    ")"
   ]
  },
  {
   "cell_type": "code",
   "execution_count": null,
   "id": "c7a1b83f-2019-44f7-8293-91d8e70784a1",
   "metadata": {},
   "outputs": [],
   "source": [
    "bird2id = load_json(CONFIG[\"label_map_data_path\"])"
   ]
  },
  {
   "cell_type": "markdown",
   "id": "8f6bcf9a-e43d-4fe5-8228-0579b6a27240",
   "metadata": {},
   "source": [
    "# Val Predict"
   ]
  },
  {
   "cell_type": "code",
   "execution_count": null,
   "id": "e8e8cf2d-097b-4d6f-abb8-fa0e7c1986b6",
   "metadata": {
    "scrolled": true
   },
   "outputs": [],
   "source": [
    "all_predicted_folds_df = []\n",
    "for fold_model, fold_loader in zip(model, loader_val):\n",
    "    fold_filenames = fold_loader.dataset.df[fold_loader.dataset.name_col].copy()\n",
    "    assert len(set(fold_filenames)) == len(fold_filenames)\n",
    "    fold_preds, fold_dfidx, fold_end = inference_class.predict_test_loader(\n",
    "        nn_models=[fold_model],\n",
    "        data_loader=fold_loader\n",
    "    )\n",
    "    all_predicted_folds_df.append(compose_submission_dataframe(\n",
    "        probs=fold_preds,\n",
    "        dfidxs=fold_dfidx,\n",
    "        end_seconds=fold_end,\n",
    "        filenames=fold_filenames,\n",
    "        bird2id=bird2id\n",
    "    ))"
   ]
  },
  {
   "cell_type": "code",
   "execution_count": null,
   "id": "14fd69ce-a76d-451f-ae08-8e05ae428b4a",
   "metadata": {},
   "outputs": [],
   "source": [
    "for i in range(len(all_predicted_folds_df)):\n",
    "    all_predicted_folds_df[i][\"fold\"] = i"
   ]
  },
  {
   "cell_type": "code",
   "execution_count": null,
   "id": "f26b47e8-461e-4429-8cd8-f7362600aaeb",
   "metadata": {},
   "outputs": [],
   "source": [
    "all_predicted_folds_df = pd.concat(all_predicted_folds_df).reset_index(drop=True)"
   ]
  },
  {
   "cell_type": "code",
   "execution_count": null,
   "id": "fd172e2f-4428-472d-bbdb-a26d0207c9ef",
   "metadata": {},
   "outputs": [],
   "source": [
    "all_predicted_folds_df"
   ]
  },
  {
   "cell_type": "code",
   "execution_count": null,
   "id": "9fe432a4-976e-41d1-b67a-cad0b58908a4",
   "metadata": {},
   "outputs": [],
   "source": [
    "plt.title(\"Most 'Probable' class probability distribution\")\n",
    "plt.hist(all_predicted_folds_df.iloc[:,1:-1].values.max(axis=1), bins=30)\n",
    "plt.show()\n",
    "\n",
    "print(\n",
    "    \"Max Prob: \", all_predicted_folds_df.iloc[:,1:-1].values.max(), \n",
    "    \"Min Prob: \", all_predicted_folds_df.iloc[:,1:-1].values.min(),\n",
    "    \"Median Prob: \", np.median(all_predicted_folds_df.iloc[:,1:-1].values)\n",
    ")"
   ]
  },
  {
   "cell_type": "markdown",
   "id": "4707d1b5-51b8-4120-9f18-80cf6fb041dd",
   "metadata": {},
   "source": [
    "# Save Results"
   ]
  },
  {
   "cell_type": "code",
   "execution_count": null,
   "id": "6a778e5b-0179-4556-b5ce-157a16ebac41",
   "metadata": {},
   "outputs": [],
   "source": [
    "SAVE_PATH = os.path.join(\n",
    "    \"../data/bird_clef_2025_predictions\",\n",
    "    EXP_NAME + POSTFIX + \".csv\"\n",
    ")\n",
    "print(SAVE_PATH)\n",
    "all_predicted_folds_df.to_csv(SAVE_PATH, index=False)"
   ]
  },
  {
   "cell_type": "markdown",
   "id": "e9603ea7-9281-48a8-b436-68f20e2a24f7",
   "metadata": {},
   "source": [
    "# Merge Results"
   ]
  },
  {
   "cell_type": "code",
   "execution_count": null,
   "id": "8d5da57e-967a-4e82-8a12-bddf87eb4125",
   "metadata": {},
   "outputs": [],
   "source": [
    "df_1 = pd.read_csv(\n",
    "    \"../data/bird_clef_2025_predictions/eca_nfnet_l0_Exp_noamp_64bs_5sec_BasicAug_SqrtBalancing_Radamlr1e3_CosBatchLR1e6_Epoch50_FocalBCELoss_LSF1005_FromPreca4_PseudoF2PT05MT01P04I2_MinorOverSampleV1.csv\"\n",
    ").drop(columns=[\"Unnamed: 0\"])\n",
    "df_2 = pd.read_csv(\n",
    "    \"../data/bird_clef_2025_predictions/tf_efficientnetv2_s_in21k_Exp_noamp_64bs_5sec_BasicAug_EqualBalancing_AdamW1e4_CosBatchLR1e6_Epoch50_FocalBCELoss_LSF1005_FromPrebs1_PseudoF2PT05MT01P04I2.csv\"\n",
    ").drop(columns=[\"Unnamed: 0\"])"
   ]
  },
  {
   "cell_type": "code",
   "execution_count": null,
   "id": "5e355dec-1cbb-4e64-be64-c7c6ea484ab1",
   "metadata": {},
   "outputs": [],
   "source": [
    "assert (df_2[\"row_id\"] == df_1[\"row_id\"]).all()"
   ]
  },
  {
   "cell_type": "code",
   "execution_count": null,
   "id": "c5485ca6-a1c4-49b0-832f-ef39a6c3ce99",
   "metadata": {},
   "outputs": [],
   "source": [
    "df_merged = df_1.copy()"
   ]
  },
  {
   "cell_type": "code",
   "execution_count": null,
   "id": "aebe0042-3ff1-4378-940d-ac0d085c0bed",
   "metadata": {},
   "outputs": [],
   "source": [
    "df_merged.iloc[:,1:-1] = (\n",
    "    df_1.iloc[:,1:-1] + df_2.iloc[:,1:-1]\n",
    ") / 2"
   ]
  },
  {
   "cell_type": "code",
   "execution_count": null,
   "id": "8ccf138c-0f63-4ad4-95c8-2a9af4daa558",
   "metadata": {},
   "outputs": [],
   "source": [
    "df_merged.to_csv(\n",
    "    \"../data/bird_clef_2025_predictions/PseudI2_eca_l0_tf_efficientnetv2_s.csv\",\n",
    "    index=False\n",
    ")"
   ]
  },
  {
   "cell_type": "code",
   "execution_count": null,
   "id": "386849e3-6864-46b4-859a-eb2475e665da",
   "metadata": {},
   "outputs": [],
   "source": [
    "row_id_vc = df_merged[\"row_id\"].value_counts()"
   ]
  },
  {
   "cell_type": "code",
   "execution_count": null,
   "id": "dabfa0d9-7202-419d-9292-7ef32cf06855",
   "metadata": {},
   "outputs": [],
   "source": [
    "df_merged = df_merged[~df_merged[\"row_id\"].isin(row_id_vc[row_id_vc > 1].index)].reset_index(drop=True)"
   ]
  },
  {
   "cell_type": "code",
   "execution_count": null,
   "id": "ae38045b-96da-4ec9-ba16-8ce9135b0b27",
   "metadata": {},
   "outputs": [],
   "source": [
    "df_merged[\"row_id\"].value_counts()"
   ]
  },
  {
   "cell_type": "code",
   "execution_count": null,
   "id": "382e0d41-5362-41b3-9fac-704a54f9eb00",
   "metadata": {},
   "outputs": [],
   "source": [
    "df_merged.to_csv(\n",
    "    \"../data/bird_clef_2025_predictions/PseudI2_eca_l0_tf_efficientnetv2_s__nodupl.csv\",\n",
    "    index=False\n",
    ")"
   ]
  },
  {
   "cell_type": "code",
   "execution_count": null,
   "id": "1c6c4c8a-4e3e-4b57-9ab3-127b99c925a4",
   "metadata": {},
   "outputs": [],
   "source": []
  }
 ],
 "metadata": {
  "kernelspec": {
   "display_name": "Python 3 (ipykernel)",
   "language": "python",
   "name": "python3"
  },
  "language_info": {
   "codemirror_mode": {
    "name": "ipython",
    "version": 3
   },
   "file_extension": ".py",
   "mimetype": "text/x-python",
   "name": "python",
   "nbconvert_exporter": "python",
   "pygments_lexer": "ipython3",
   "version": "3.11.11"
  }
 },
 "nbformat": 4,
 "nbformat_minor": 5
}
