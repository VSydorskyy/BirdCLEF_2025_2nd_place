{
 "cells": [
  {
   "cell_type": "code",
   "execution_count": 1,
   "id": "74cb1a49-64d3-4f84-9b09-1576a583e7cc",
   "metadata": {},
   "outputs": [
    {
     "name": "stderr",
     "output_type": "stream",
     "text": [
      "/backup/vova/src/exps/bird_clef_2024/.venv/lib/python3.11/site-packages/tqdm/auto.py:21: TqdmWarning: IProgress not found. Please update jupyter and ipywidgets. See https://ipywidgets.readthedocs.io/en/stable/user_install.html\n",
      "  from .autonotebook import tqdm as notebook_tqdm\n"
     ]
    }
   ],
   "source": [
    "import pandas as pd\n",
    "import numpy as np\n",
    "import librosa\n",
    "import seaborn as sns\n",
    "import os\n",
    "import json\n",
    "import IPython.display as ipd\n",
    "import soundfile as sf\n",
    "import math\n",
    "import h5py\n",
    "\n",
    "from glob import glob\n",
    "from tqdm import tqdm\n",
    "from matplotlib import pyplot as plt\n",
    "from itertools import chain\n",
    "from os.path import join as pjoin\n",
    "from shutil import copyfile\n",
    "from copy import deepcopy\n",
    "\n",
    "from code_base.utils import write_json"
   ]
  },
  {
   "cell_type": "markdown",
   "id": "a8d0627d-d7da-4fc9-93e8-798d7732b500",
   "metadata": {},
   "source": [
    "# 2024"
   ]
  },
  {
   "cell_type": "code",
   "execution_count": null,
   "id": "8100cca7-a6a9-4ae1-bb6a-cc735dac19e5",
   "metadata": {},
   "outputs": [],
   "source": [
    "train_metadata = pd.read_csv(\"/home/vova/data/exps/birdclef_2024/birdclef_2024/train_metadata_extended.csv\", converters={\"secondary_labels\":eval})"
   ]
  },
  {
   "cell_type": "code",
   "execution_count": null,
   "id": "fb024871-9c68-4732-abcc-15b0e6ff1407",
   "metadata": {},
   "outputs": [],
   "source": [
    "all_birds = list(set(train_metadata[\"primary_label\"]) | set(chain(*train_metadata[\"secondary_labels\"])))"
   ]
  },
  {
   "cell_type": "code",
   "execution_count": null,
   "id": "33974870-e611-4855-a32f-2635825bba99",
   "metadata": {},
   "outputs": [],
   "source": [
    "bird2int = {\n",
    "    bird:idx for idx, bird in enumerate(all_birds)\n",
    "}"
   ]
  },
  {
   "cell_type": "code",
   "execution_count": null,
   "id": "125628f4-1ee5-4c90-84b1-a603e5e562c7",
   "metadata": {},
   "outputs": [],
   "source": []
  },
  {
   "cell_type": "code",
   "execution_count": null,
   "id": "f0c13373-3b98-4b3b-b510-0e3039367a5b",
   "metadata": {},
   "outputs": [],
   "source": [
    "write_json(\"/home/vova/data/exps/birdclef_2024/class_mappings/bird2int_2024.json\", bird2int)"
   ]
  },
  {
   "cell_type": "markdown",
   "id": "98b8459f-b864-49d0-b924-44e33862259f",
   "metadata": {},
   "source": [
    "# 2024 Scored Data DF"
   ]
  },
  {
   "cell_type": "code",
   "execution_count": null,
   "id": "432ce930-3be4-4cb9-a44f-cdd66a53da93",
   "metadata": {},
   "outputs": [],
   "source": [
    "train_metadata = pd.read_csv(\"/home/vova/data/exps/birdclef_2024/birdclef_2024/train_metadata_extended.csv\", converters={\"secondary_labels\":eval, \"all_labels\": eval})\n",
    "train_metadata_prev_comp = pd.read_csv(\"/home/vova/data/exps/birdclef_2024/dfs/full_noduplsV2_scored_meta_prev_comps_extended.csv\", converters={\"secondary_labels\":eval, \"all_labels\": eval})\n",
    "train_metadata_xeno_canto = pd.read_csv(\"/home/vova/data/exps/birdclef_2024/xeno_canto/dataset_2024_classes/train_metadata_nodupl_extended.csv\", converters={\"secondary_labels\":eval, \"all_labels\": eval})"
   ]
  },
  {
   "cell_type": "code",
   "execution_count": null,
   "id": "51921b2c-eadc-4968-b408-bc47487f00ac",
   "metadata": {},
   "outputs": [],
   "source": [
    "all_birds = list(\n",
    "    set(chain(*train_metadata[\"all_labels\"])) | \n",
    "    set(chain(*train_metadata_prev_comp[\"all_labels\"])) | \n",
    "    set(chain(*train_metadata_xeno_canto[\"all_labels\"]))\n",
    ")"
   ]
  },
  {
   "cell_type": "code",
   "execution_count": null,
   "id": "d682df2c-dbe9-435a-b95f-c5944f6ee1ce",
   "metadata": {},
   "outputs": [],
   "source": [
    "len(all_birds)"
   ]
  },
  {
   "cell_type": "code",
   "execution_count": null,
   "id": "2359ea65-73c4-4c74-8194-36a86a7badc0",
   "metadata": {},
   "outputs": [],
   "source": [
    "bird2int = {\n",
    "    bird:idx for idx, bird in enumerate(all_birds)\n",
    "}"
   ]
  },
  {
   "cell_type": "code",
   "execution_count": null,
   "id": "3759088f-facb-4ba4-b950-8faa917e1f4d",
   "metadata": {},
   "outputs": [],
   "source": [
    "write_json(\"/home/vova/data/exps/birdclef_2024/class_mappings/bird2int_2024_scoed_add_data.json\", bird2int)"
   ]
  },
  {
   "cell_type": "markdown",
   "id": "af53d861-931f-4221-a6de-8a0d31298adb",
   "metadata": {},
   "source": [
    "# 2024 + 2024 Scored from XC + Prev Comps"
   ]
  },
  {
   "cell_type": "code",
   "execution_count": 2,
   "id": "4d75e86d-7fe0-4d79-92cf-a73f313bca3b",
   "metadata": {},
   "outputs": [
    {
     "name": "stderr",
     "output_type": "stream",
     "text": [
      "/tmp/ipykernel_2111766/1563590999.py:2: DtypeWarning: Columns (3,4) have mixed types. Specify dtype option on import or set low_memory=False.\n",
      "  train_metadata_prev_comp = pd.read_csv(\"/home/vova/data/exps/birdclef_2024/dfs/full_noduplsV2_meta_prev_comps_extended_pruned.csv\", converters={\"secondary_labels\":eval, \"all_labels\": eval})\n"
     ]
    }
   ],
   "source": [
    "train_metadata = pd.read_csv(\"/home/vova/data/exps/birdclef_2024/birdclef_2024/train_metadata_extended_noduplv1.csv\", converters={\"secondary_labels\":eval, \"all_labels\": eval})\n",
    "train_metadata_prev_comp = pd.read_csv(\"/home/vova/data/exps/birdclef_2024/dfs/full_noduplsV2_meta_prev_comps_extended_pruned.csv\", converters={\"secondary_labels\":eval, \"all_labels\": eval})\n",
    "train_metadata_xeno_canto = pd.read_csv(\"/home/vova/data/exps/birdclef_2024/xeno_canto/dataset_2024_classes/train_metadata_noduplV3_extended.csv\", converters={\"secondary_labels\":eval, \"all_labels\": eval})"
   ]
  },
  {
   "cell_type": "code",
   "execution_count": 3,
   "id": "b82af232-0bbb-4511-9ee8-7c4e11b209fb",
   "metadata": {},
   "outputs": [
    {
     "data": {
      "text/plain": [
       "998"
      ]
     },
     "execution_count": 3,
     "metadata": {},
     "output_type": "execute_result"
    }
   ],
   "source": [
    "all_birds = list(\n",
    "    set(chain(*train_metadata[\"all_labels\"])) | \n",
    "    set(chain(*train_metadata_prev_comp[\"all_labels\"]))\n",
    ")\n",
    "len(all_birds)"
   ]
  },
  {
   "cell_type": "code",
   "execution_count": 9,
   "id": "56fb5dc1-34bb-4e36-ae5e-54aac4eeae67",
   "metadata": {},
   "outputs": [],
   "source": [
    "train_metadata_xeno_canto[\"all_labels\"] = train_metadata_xeno_canto[\"all_labels\"].apply(lambda x: [bird for bird in x if bird in all_birds])\n",
    "train_metadata_xeno_canto[\"secondary_labels\"] = train_metadata_xeno_canto[\"secondary_labels\"].apply(lambda x: [bird for bird in x if bird in all_birds])"
   ]
  },
  {
   "cell_type": "code",
   "execution_count": 10,
   "id": "fd75a60e-85f3-4bb2-831b-659007f55af1",
   "metadata": {},
   "outputs": [],
   "source": [
    "train_metadata_xeno_canto.to_csv(\"/home/vova/data/exps/birdclef_2024/xeno_canto/dataset_2024_classes/train_metadata_noduplV3_extended_2024PrevCompSecLabels.csv\", index=False)"
   ]
  },
  {
   "cell_type": "code",
   "execution_count": 11,
   "id": "b7f57058-d11e-47fd-94e3-ca90fb071149",
   "metadata": {},
   "outputs": [],
   "source": [
    "bird2int = {\n",
    "    bird:idx for idx, bird in enumerate(all_birds)\n",
    "}"
   ]
  },
  {
   "cell_type": "code",
   "execution_count": 12,
   "id": "54280084-e56d-42c9-aee5-f8cf811dd328",
   "metadata": {},
   "outputs": [],
   "source": [
    "write_json(\"/home/vova/data/exps/birdclef_2024/class_mappings/bird2int_2024_PrevComp.json\", bird2int)"
   ]
  },
  {
   "cell_type": "code",
   "execution_count": null,
   "id": "287040db-5d14-479c-a3e2-53f3bdd998fb",
   "metadata": {},
   "outputs": [],
   "source": []
  }
 ],
 "metadata": {
  "kernelspec": {
   "display_name": "Python 3 (ipykernel)",
   "language": "python",
   "name": "python3"
  },
  "language_info": {
   "codemirror_mode": {
    "name": "ipython",
    "version": 3
   },
   "file_extension": ".py",
   "mimetype": "text/x-python",
   "name": "python",
   "nbconvert_exporter": "python",
   "pygments_lexer": "ipython3",
   "version": "3.11.6"
  }
 },
 "nbformat": 4,
 "nbformat_minor": 5
}
