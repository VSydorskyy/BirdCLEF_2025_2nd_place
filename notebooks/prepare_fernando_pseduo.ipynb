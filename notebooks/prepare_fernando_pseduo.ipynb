{
 "cells": [
  {
   "cell_type": "code",
   "execution_count": null,
   "id": "cba3deae-2974-428b-939d-82abca7eee8a",
   "metadata": {},
   "outputs": [],
   "source": [
    "import os\n",
    "\n",
    "import pandas as pd\n",
    "import numpy as np\n",
    "import seaborn as sns\n",
    "import random\n",
    "\n",
    "from matplotlib import pyplot as plt\n",
    "from scipy.special import expit\n",
    "from tqdm import tqdm\n",
    "\n",
    "from code_base.utils.metrics import score_numpy"
   ]
  },
  {
   "cell_type": "code",
   "execution_count": null,
   "id": "8df69f85-f5e3-4a31-bce3-dc02377871d4",
   "metadata": {},
   "outputs": [],
   "source": [
    "BIRDS = [\n",
    "    '1139490', '1192948', '1194042', '126247', '1346504', '134933', '135045', '1462711', '1462737', '1564122', '21038', '21116',\n",
    "    '21211', '22333', '22973', '22976', '24272', '24292', '24322', '41663', '41778', '41970', '42007', '42087', '42113', '46010',\n",
    "    '47067', '476537', '476538', '48124', '50186', '517119', '523060', '528041', '52884', '548639', '555086', '555142', '566513',\n",
    "    '64862', '65336', '65344', '65349', '65373', '65419', '65448', '65547', '65962', '66016', '66531', '66578', '66893', '67082',\n",
    "    '67252', '714022', '715170', '787625', '81930', '868458', '963335', \n",
    "    'amakin1', 'amekes', 'ampkin1', 'anhing', 'babwar', 'bafibi1', 'banana', 'baymac', 'bbwduc', 'bicwre1', 'bkcdon', 'bkmtou1', \n",
    "    'blbgra1', 'blbwre1', 'blcant4', 'blchaw1', 'blcjay1', 'blctit1', 'blhpar1', 'blkvul', 'bobfly1', 'bobher1', 'brtpar1', 'bubcur1',\n",
    "    'bubwre1', 'bucmot3', 'bugtan', 'butsal1', 'cargra1', 'cattyr', 'chbant1', 'chfmac1', 'cinbec1', 'cocher1', 'cocwoo1', 'colara1',\n",
    "    'colcha1', 'compau', 'compot1', 'cotfly1', 'crbtan1', 'crcwoo1', 'crebob1', 'cregua1', 'creoro1', 'eardov1', 'fotfly', 'gohman1',\n",
    "    'grasal4', 'grbhaw1', 'greani1', 'greegr', 'greibi1', 'grekis', 'grepot1', 'gretin1', 'grnkin', 'grysee1', 'gybmar', 'gycwor1', \n",
    "    'labter1', 'laufal1', 'leagre', 'linwoo1', 'littin1', 'mastit1', 'neocor', 'norscr1', 'olipic1', 'orcpar', 'palhor2', 'paltan1',\n",
    "    'pavpig2', 'piepuf1', 'pirfly1', 'piwtyr1', 'plbwoo1', 'plctan1', 'plukit1', 'purgal2', 'ragmac1', 'rebbla1', 'recwoo1', 'rinkin1',\n",
    "    'roahaw', 'rosspo1', 'royfly1', 'rtlhum', 'rubsee1', 'rufmot1', 'rugdov', 'rumfly1', 'ruther1', 'rutjac1', 'rutpuf1', 'saffin',\n",
    "    'sahpar1', 'savhaw1', 'secfly1', 'shghum1', 'shtfly1', 'smbani', 'snoegr', 'sobtyr1', 'socfly1', 'solsan', 'soulap1', 'spbwoo1',\n",
    "    'speowl1', 'spepar1', 'srwswa1', 'stbwoo2', 'strcuc1', 'strfly1', 'strher', 'strowl1', 'tbsfin1', 'thbeup1', 'thlsch3', 'trokin',\n",
    "    'tropar', 'trsowl', 'turvul', 'verfly', 'watjac1', 'wbwwre1', 'whbant1', 'whbman1', 'whfant1', 'whmtyr1', 'whtdov', 'whttro1',\n",
    "    'whwswa1', 'woosto', 'y00678', 'yebela1', 'yebfly1', 'yebsee1', 'yecspi2', 'yectyr1', 'yehbla2', 'yehcar1', 'yelori1', 'yeofly1',\n",
    "    'yercac1', 'ywcpar', \n",
    "]"
   ]
  },
  {
   "cell_type": "code",
   "execution_count": null,
   "id": "8086f0a5-8e53-498e-b531-c68bcd0d0935",
   "metadata": {},
   "outputs": [],
   "source": [
    "def convert_fernando_to_vova(input_df):\n",
    "    output_df = input_df.copy()\n",
    "    output_df[\"row_id\"] = output_df.apply(lambda row: f\"{row['filename']}_{(row['order'] + 1) * 5}\", axis=1)\n",
    "    output_df = output_df.drop(columns=[\"filename\", \"order\"])\n",
    "    output_df = output_df[[\"row_id\"] + [col for col in output_df.columns[:-1]]]\n",
    "\n",
    "    output_df.columns = [\"row_id\"] + [BIRDS[int(col[1:])] for col in output_df.columns[1:]]\n",
    "    return output_df"
   ]
  },
  {
   "cell_type": "markdown",
   "id": "d697d083-6580-4bd7-bc49-e95ad67b7de3",
   "metadata": {},
   "source": [
    "# Load Data"
   ]
  },
  {
   "cell_type": "code",
   "execution_count": null,
   "id": "3836db76-5fe9-4fed-b3e5-8f1622d2fe11",
   "metadata": {},
   "outputs": [],
   "source": [
    "ROOT = \"/gpfs/space/projects/BetterMedicine/volodymyr1/exps/bird_clef_2025/kaggle_datasets/fernando_pseudo\""
   ]
  },
  {
   "cell_type": "code",
   "execution_count": null,
   "id": "1b6e5aa9-5d4f-49f9-aec1-e210272f3769",
   "metadata": {},
   "outputs": [],
   "source": [
    "sorted(os.listdir(ROOT))"
   ]
  },
  {
   "cell_type": "code",
   "execution_count": null,
   "id": "392368f5-e7e8-4991-85ef-e0c212fa946f",
   "metadata": {},
   "outputs": [],
   "source": [
    "all_models = [\n",
    "    el.split(\"_\")[1].replace(\".pkl\", \"\") for el in os.listdir(ROOT) if el.startswith(\"res\")\n",
    "]\n",
    "all_models"
   ]
  },
  {
   "cell_type": "code",
   "execution_count": null,
   "id": "4d8dd722-5871-49f8-a9dd-562cf5b4007a",
   "metadata": {},
   "outputs": [],
   "source": [
    "# sanity check \n",
    "for model in tqdm(all_models):\n",
    "    probs = pd.read_pickle(\n",
    "        os.path.join(ROOT, \"res_\" + model + \".pkl\")\n",
    "    )\n",
    "    logits = pd.read_pickle(\n",
    "        os.path.join(ROOT, \"oof_unlabeled_\" + model + \"_f0.pkl\")\n",
    "    )\n",
    "    if not np.allclose(expit(logits), probs.iloc[:,2:].values):\n",
    "        print(\"Not close logits and probs for\", model)"
   ]
  },
  {
   "cell_type": "code",
   "execution_count": null,
   "id": "76ad3709-59a0-41f8-8ff3-4f91d5d6e02a",
   "metadata": {},
   "outputs": [],
   "source": [
    "vova_pseudo = pd.read_csv(\n",
    "    \"../data/pseudo/four_ecas_from_GoodPretrains_879_869_867_866/v0.csv\"\n",
    ")"
   ]
  },
  {
   "cell_type": "code",
   "execution_count": null,
   "id": "eb4b73d2-dc3f-48e6-a219-c7893dcd9e77",
   "metadata": {},
   "outputs": [],
   "source": [
    "vova_pseudo"
   ]
  },
  {
   "cell_type": "code",
   "execution_count": null,
   "id": "c188ea7f-f8fe-46b8-8983-26229e1244a5",
   "metadata": {},
   "outputs": [],
   "source": [
    "df_dict = dict()\n",
    "for model_name in tqdm(all_models):\n",
    "    df_dict[model_name] = convert_fernando_to_vova(pd.read_pickle(os.path.join(ROOT, \"res_\" + model_name + \".pkl\")))\n",
    "    df_dict[model_name] = df_dict[model_name][vova_pseudo.columns]\n",
    "\n",
    "    df_dict[model_name] = df_dict[model_name].set_index(\"row_id\").loc[vova_pseudo[\"row_id\"]].reset_index()"
   ]
  },
  {
   "cell_type": "markdown",
   "id": "e21f82ea-9dce-4092-a4de-8910241a204e",
   "metadata": {},
   "source": [
    "# Compute metrics"
   ]
  },
  {
   "cell_type": "code",
   "execution_count": null,
   "id": "8eec31ed-19ed-4a2b-aead-b77ef7bf039e",
   "metadata": {},
   "outputs": [],
   "source": [
    "df_dict.keys()"
   ]
  },
  {
   "cell_type": "code",
   "execution_count": null,
   "id": "d0999d0a-7aa3-4115-a872-b2c13dde850d",
   "metadata": {},
   "outputs": [],
   "source": [
    "df_dict[\"eca.124\"]"
   ]
  },
  {
   "cell_type": "code",
   "execution_count": null,
   "id": "9ba0dbc8-1768-42ed-9814-7d08f8dd1fb5",
   "metadata": {},
   "outputs": [],
   "source": [
    "vova_pseudo_hard = vova_pseudo.copy()\n",
    "vova_pseudo_hard.iloc[:,1:] = (vova_pseudo_hard.iloc[:,1:].values > 0.5).astype(int)"
   ]
  },
  {
   "cell_type": "code",
   "execution_count": null,
   "id": "0b2a49d9-931f-4e68-8c7e-93832fd30748",
   "metadata": {},
   "outputs": [],
   "source": [
    "for model_name in all_models:\n",
    "    print(f\"Score for {model_name}:\", score_numpy(\n",
    "            vova_pseudo_hard.iloc[:,1:].values.astype(int), \n",
    "            df_dict[model_name].iloc[:,1:].values\n",
    "    ))"
   ]
  },
  {
   "cell_type": "code",
   "execution_count": null,
   "id": "fa9aeb98-1be1-445c-b94d-992dcfe26c9f",
   "metadata": {},
   "outputs": [],
   "source": []
  }
 ],
 "metadata": {
  "kernelspec": {
   "display_name": "Python 3 (ipykernel)",
   "language": "python",
   "name": "python3"
  },
  "language_info": {
   "codemirror_mode": {
    "name": "ipython",
    "version": 3
   },
   "file_extension": ".py",
   "mimetype": "text/x-python",
   "name": "python",
   "nbconvert_exporter": "python",
   "pygments_lexer": "ipython3",
   "version": "3.11.1"
  }
 },
 "nbformat": 4,
 "nbformat_minor": 5
}
