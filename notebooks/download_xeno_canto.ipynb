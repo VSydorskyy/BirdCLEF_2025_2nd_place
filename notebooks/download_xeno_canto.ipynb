{
 "cells": [
  {
   "cell_type": "code",
   "execution_count": 1,
   "id": "b9d04246-3f49-4e15-a7bd-49a9132e5a14",
   "metadata": {},
   "outputs": [
    {
     "name": "stderr",
     "output_type": "stream",
     "text": [
      "/backup/vova/src/exps/bird_clef_2024/.venv/lib/python3.11/site-packages/tqdm/auto.py:21: TqdmWarning: IProgress not found. Please update jupyter and ipywidgets. See https://ipywidgets.readthedocs.io/en/stable/user_install.html\n",
      "  from .autonotebook import tqdm as notebook_tqdm\n"
     ]
    }
   ],
   "source": [
    "import json\n",
    "import os\n",
    "import IPython.display as ipd\n",
    "\n",
    "from glob import glob\n",
    "from os.path import splitext, join as pjoin\n",
    "from itertools import chain\n",
    "from shutil import copyfile\n",
    "from tqdm import tqdm\n",
    "from copy import deepcopy\n",
    "import xenocanto\n",
    "import pandas as pd\n",
    "import numpy as np\n",
    "import librosa\n",
    "import soundfile as sf\n",
    "\n",
    "\n",
    "# from code_base.utils.constants import SAMPLE_RATE\n",
    "from code_base.utils import load_json"
   ]
  },
  {
   "cell_type": "code",
   "execution_count": 2,
   "id": "fcaecf68-64e4-49f4-a0b6-3cf5341dd788",
   "metadata": {},
   "outputs": [],
   "source": [
    "from code_base.utils.main_utils import ProgressParallel\n",
    "from joblib import delayed\n",
    "import h5py\n",
    "\n",
    "def read_length_and_sr(file_path: str):\n",
    "    try:\n",
    "        with h5py.File(file_path, \"r\") as data_file:\n",
    "            au_length = data_file[\"au\"].shape[0]\n",
    "            sr = int(np.array(data_file[\"sr\"]))\n",
    "        return au_length, sr\n",
    "    except:\n",
    "        return None"
   ]
  },
  {
   "cell_type": "code",
   "execution_count": null,
   "id": "56ad97e4-1382-4d94-980b-7a18dcb25624",
   "metadata": {},
   "outputs": [],
   "source": [
    "# ipd.Audio(np.random.choice(glob(\"/home/vova/data/main/public/vctk_mic1/wav48_silence_trimmed/p260/*\")))"
   ]
  },
  {
   "cell_type": "code",
   "execution_count": null,
   "id": "efff62c5-5971-4615-902a-5b15991f7304",
   "metadata": {},
   "outputs": [],
   "source": [
    "df = pd.read_csv(\"/home/vova/data/exps/birdclef_2024/birdclef_2024/train_metadata_extended_noduplv1.csv\")\n",
    "mapping = pd.read_csv(\"chirp/chirp/taxonomy/data/mappings/ioc_12_2_to_ebird2021.csv\")\n",
    "# master_ioc_list_v12_2 = pd.read_excel(\"master_ioc_list_v12.2.xlsx\")"
   ]
  },
  {
   "cell_type": "code",
   "execution_count": null,
   "id": "a4f8d63f-67a7-42c6-ba00-c4584790d178",
   "metadata": {},
   "outputs": [],
   "source": [
    "# mapping_2024 = mapping[mapping[\"ebird2021\"].isin(df[\"primary_label\"])].reset_index(drop=True)\n",
    "# mapping_2024.to_csv(\"chirp/chirp/taxonomy/data/mappings/ioc_12_2_to_ebird2021_only2024.csv\", index=False)"
   ]
  },
  {
   "cell_type": "code",
   "execution_count": null,
   "id": "ab084439-ea84-4b9e-8dc2-abd03211fdf6",
   "metadata": {},
   "outputs": [],
   "source": [
    "mapping_2023 = mapping[mapping[\"ebird2021\"].isin(set(df.primary_label))]"
   ]
  },
  {
   "cell_type": "code",
   "execution_count": null,
   "id": "9005a506-f29a-4a34-8ed1-a764785c536a",
   "metadata": {},
   "outputs": [],
   "source": [
    "downloaded_files = glob(\"/home/vova/data/exps/birdclef_2024/xeno_canto/dataset_2024_classes/audio/**/*.mp3\", recursive=True)"
   ]
  },
  {
   "cell_type": "code",
   "execution_count": null,
   "id": "4cfc43db-0c68-4e2d-b652-68d7c7c53c27",
   "metadata": {},
   "outputs": [],
   "source": [
    "pd.Series([el.split(\"/\")[-2] for el in downloaded_files]).value_counts()"
   ]
  },
  {
   "cell_type": "code",
   "execution_count": null,
   "id": "cf362df3-65eb-480e-887a-054a56ff16fa",
   "metadata": {},
   "outputs": [],
   "source": [
    "pd.Series([el.split(\"/\")[-2] for el in downloaded_files]).value_counts().sum()"
   ]
  },
  {
   "cell_type": "markdown",
   "id": "b5a240b5-e29d-428d-8131-ae289f396219",
   "metadata": {},
   "source": [
    "# Process metadata"
   ]
  },
  {
   "cell_type": "code",
   "execution_count": null,
   "id": "d2b53991-5f0b-499e-acfc-48a0a4115a11",
   "metadata": {},
   "outputs": [],
   "source": [
    "train_df = pd.read_csv(\"/home/vova/data/exps/bird_clef_2022/train_metadata_extended.csv\", converters={\"all_labels\": eval})\n",
    "train_metadata_2021 = pd.read_csv(\"/home/vova/data/exps/bird_clef_2022/add_data/comp_2021/train_metadata_processed.csv\")\n",
    "scored_birds = json.load(open(\"/home/vova/data/exps/bird_clef_2022/scored_birds.json\"))parallel_librosa_load"
   ]
  },
  {
   "cell_type": "code",
   "execution_count": null,
   "id": "5085b141-5aff-4b63-89c1-fd3399070735",
   "metadata": {},
   "outputs": [],
   "source": [
    "names_df = pd.concat([\n",
    "    train_df[[\"primary_label\", \"common_name\", \"scientific_name\"]],\n",
    "    train_metadata_2021[[\"primary_label\", \"common_name\", \"scientific_name\"]]\n",
    "]).reset_index(drop=True)"
   ]
  },
  {
   "cell_type": "code",
   "execution_count": null,
   "id": "fb4f18a6-be59-4fcc-9efa-97de1a9ce8a3",
   "metadata": {},
   "outputs": [],
   "source": [
    "def get_common_name(input):\n",
    "    if len(set(input)) > 1:\n",
    "        raise RuntimeError(\"There should be one2one mapping between `primary_label` and `common_name`\")\n",
    "    return input.iloc[0]"
   ]
  },
  {
   "cell_type": "code",
   "execution_count": null,
   "id": "9d934149-2441-4c8d-b8ae-4658919c9c36",
   "metadata": {
    "tags": []
   },
   "outputs": [],
   "source": [
    "cn_correction = {\n",
    "    \"Band-rumped Storm-Petrel\":\"Band-rumped Storm Petrel\",\n",
    "    \"Erckel's Francolin\":\"Erckel's Spurfowl\",\n",
    "    \"Hawaiian Goose\":\"Nene\"\n",
    "}\n",
    "\n",
    "pl2cn = names_df.groupby(\"primary_label\")[\"common_name\"].apply(get_common_name).to_dict()\n",
    "pl2cn = {k:(cn_correction[v] if v in cn_correction else v) for k,v in pl2cn.items()}\n",
    "cn2pl = {v:k for k,v in pl2cn.items()}"
   ]
  },
  {
   "cell_type": "code",
   "execution_count": null,
   "id": "3b384b2c-6aac-498c-b243-3d68d256da30",
   "metadata": {},
   "outputs": [],
   "source": [
    "pl2sc = names_df.groupby(\"primary_label\")[\"scientific_name\"].apply(get_common_name).to_dict()\n",
    "sc2pl = {v:k for k,v in pl2sc.items()}"
   ]
  },
  {
   "cell_type": "code",
   "execution_count": null,
   "id": "95c249d9-eda5-4987-870d-17425baf7673",
   "metadata": {},
   "outputs": [],
   "source": [
    "all_meta_files = glob(\"dataset/metadata/**/*.json\")\n",
    "\n",
    "NEEDED_COLUMNS = [\n",
    "    \"id\",\n",
    "    \"type\",\n",
    "    \"lat\",\n",
    "    \"lng\",\n",
    "    \"en\",\n",
    "    \"gen\",\n",
    "    \"sp\",\n",
    "    \"rec\",\n",
    "    \"time\",\n",
    "    \"url\",\n",
    "    \"also\",\n",
    "    \"file-name\",\n",
    "    \"lic\"\n",
    "]\n",
    "print(f\"Jsons found = {len(all_meta_files)}\")"
   ]
  },
  {
   "cell_type": "code",
   "execution_count": null,
   "id": "e31be005-997c-43e3-be70-7df6b996a7da",
   "metadata": {
    "tags": []
   },
   "outputs": [],
   "source": [
    "def process_dict(\n",
    "    input,\n",
    "    folder_name,\n",
    "    needed_cols=NEEDED_COLUMNS\n",
    "):\n",
    "    input = {k:v for k,v in input.items() if k in NEEDED_COLUMNS}\n",
    "    input[\"foldername\"] = folder_name\n",
    "    return input\n",
    "\n",
    "add_xeno_canto_df = pd.DataFrame()\n",
    "\n",
    "for meta_file_path in tqdm(all_meta_files):\n",
    "    meta_file = json.load(open(meta_file_path))['recordings']\n",
    "    foldname = meta_file_path.split(\"/\")[-2]\n",
    "    # add_xeno_canto_df = add_xeno_canto_df.append(\n",
    "    #     [process_dict(bird_info, foldname) for bird_info in meta_file],\n",
    "    #     ignore_index=True\n",
    "    # )\n",
    "    add_xeno_canto_df = pd.concat([\n",
    "        add_xeno_canto_df,\n",
    "        pd.DataFrame([process_dict(bird_info, foldname) for bird_info in meta_file])\n",
    "    ]).reset_index(drop=True)"
   ]
  },
  {
   "cell_type": "code",
   "execution_count": null,
   "id": "d729ad79-9184-4031-9133-c5c344030f7b",
   "metadata": {},
   "outputs": [],
   "source": [
    "train_df.license.value_counts()"
   ]
  },
  {
   "cell_type": "code",
   "execution_count": null,
   "id": "2ee60295-4d5a-4edb-811b-69663ca64c19",
   "metadata": {},
   "outputs": [],
   "source": [
    "add_xeno_canto_df.lic.value_counts()"
   ]
  },
  {
   "cell_type": "code",
   "execution_count": null,
   "id": "ba0bfa58-eef6-4392-bb7f-aad5255475bf",
   "metadata": {},
   "outputs": [],
   "source": [
    "add_xeno_canto_df = add_xeno_canto_df.rename(columns={\n",
    "    \"en\":\"common_name\",\n",
    "    \"lat\": \"latitude\",\n",
    "    \"lng\": \"longitude\",\n",
    "    \"rec\": \"author\",\n",
    "    \"lic\": \"license\"\n",
    "})\n",
    "\n",
    "add_xeno_canto_df[\"scientific_name\"] = add_xeno_canto_df[\"gen\"] + \" \" + add_xeno_canto_df[\"sp\"]\n",
    "add_xeno_canto_df[\"primary_label\"] = add_xeno_canto_df[\"common_name\"].map(cn2pl)\n",
    "add_xeno_canto_df[\"url\"] = \"https:\" + add_xeno_canto_df[\"url\"]\n",
    "add_xeno_canto_df[\"type\"] = add_xeno_canto_df[\"type\"].apply(lambda x: [el.strip() for el in x.split(\",\")])\n",
    "add_xeno_canto_df[\"rating\"] = None\n",
    "\n",
    "UNKNOWN_BIRDS = set(list(chain(*add_xeno_canto_df[\"also\"].tolist()))) - set(sc2pl.keys())\n",
    "add_xeno_canto_df[\"secondary_labels\"] = add_xeno_canto_df[\"also\"].apply(lambda x: [sc2pl[el] for el in x if el not in UNKNOWN_BIRDS])\n",
    "add_xeno_canto_df[\"filename\"] = add_xeno_canto_df[\"primary_label\"] + \"/XC\" + add_xeno_canto_df[\"id\"].astype(str) + \".mp3\""
   ]
  },
  {
   "cell_type": "code",
   "execution_count": null,
   "id": "f95b578b-ea4a-4b52-b16a-76a46daf0119",
   "metadata": {},
   "outputs": [],
   "source": [
    "# os.makedirs(\"/home/vova/data/exps/bird_clef_2022/xeno_canto/xc_scored_add\")"
   ]
  },
  {
   "cell_type": "code",
   "execution_count": null,
   "id": "66a84d28-d7bd-415a-a49c-2d84fdf50600",
   "metadata": {
    "tags": []
   },
   "outputs": [],
   "source": [
    "pathes = [os.path.join(\"dataset/audio/\",add_xeno_canto_df[\"foldername\"].iloc[idx],add_xeno_canto_df[\"id\"].iloc[idx] + \".mp3\") for idx in range(len(add_xeno_canto_df))]\n",
    "pathes_to_save = [os.path.join(\"/home/vova/data/exps/bird_clef_2022/xeno_canto/xc_scored_add\",add_xeno_canto_df[\"filename\"].iloc[idx]) for idx in range(len(add_xeno_canto_df))]"
   ]
  },
  {
   "cell_type": "code",
   "execution_count": null,
   "id": "980ade36-eb6e-4e30-b953-c0e667bba2e2",
   "metadata": {},
   "outputs": [],
   "source": [
    "# for old_path, new_path in tqdm(zip(pathes, pathes_to_save)):\n",
    "#     if not os.path.exists(os.path.dirname(new_path)):\n",
    "#         os.makedirs(os.path.dirname(new_path))\n",
    "#     copyfile(old_path, new_path)"
   ]
  },
  {
   "cell_type": "code",
   "execution_count": null,
   "id": "21850cdd-0247-404f-97c8-46cf37a0fe99",
   "metadata": {
    "tags": []
   },
   "outputs": [],
   "source": [
    "add_xeno_canto_root = \"/home/vova/data/exps/bird_clef_2022/xeno_canto/xc_scored_add\"\n",
    "librosa_result = parallel_librosa_load(pathes_to_save, sr=None)"
   ]
  },
  {
   "cell_type": "code",
   "execution_count": null,
   "id": "fe0bc60f-1e72-43d9-a9fd-1238f84f7c42",
   "metadata": {
    "tags": []
   },
   "outputs": [],
   "source": [
    "# Create all_labels\n",
    "add_xeno_canto_df['all_labels'] = add_xeno_canto_df.apply(lambda x: [x[\"primary_label\"]] + x[\"secondary_labels\"], axis=1)\n",
    "# Create is_scored_in_all_labels\n",
    "add_xeno_canto_df[\"is_scored_in_all_labels\"] = add_xeno_canto_df['all_labels'].apply(lambda x: any(el in scored_birds for el in x))\n",
    "# Create duration_s and sr\n",
    "add_xeno_canto_df[\"sr\"] = [el[1] for el in librosa_result]\n",
    "add_xeno_canto_df[\"duration_s\"] = [len(el[0]) / el[1] for el in librosa_result]\n",
    "# Create contains_secondary\n",
    "add_xeno_canto_df['contains_secondary'] = add_xeno_canto_df['secondary_labels'].apply(len) > 0"
   ]
  },
  {
   "cell_type": "code",
   "execution_count": null,
   "id": "bf0d718d-07b4-4737-9283-79ad8376e907",
   "metadata": {},
   "outputs": [],
   "source": [
    "add_xeno_canto_df.head(5)"
   ]
  },
  {
   "cell_type": "code",
   "execution_count": null,
   "id": "acfb8913-4216-4745-b038-840adc2cc5ea",
   "metadata": {},
   "outputs": [],
   "source": [
    "add_xeno_canto_df[[\n",
    "    \"primary_label\", \"secondary_labels\", \"type\", \n",
    "    \"latitude\", \"longitude\", \"scientific_name\", \n",
    "    \"common_name\", \"author\", \"rating\",\n",
    "    \"time\", \"url\", \"filename\",\n",
    "    \"license\",\n",
    "    \"all_labels\", \"is_scored_in_all_labels\", \"sr\",\n",
    "    \"duration_s\", \"contains_secondary\",\n",
    "]].reset_index(drop=True).to_csv(\"/home/vova/data/exps/bird_clef_2022/xeno_canto/xc_scored_add/train_metadata.csv\", index=False)"
   ]
  },
  {
   "cell_type": "code",
   "execution_count": null,
   "id": "2a36bcc0-9f17-40d9-80c4-4491eef7ad0b",
   "metadata": {},
   "outputs": [],
   "source": [
    "add_xeno_canto_df = add_xeno_canto_df[[\n",
    "    \"primary_label\", \"secondary_labels\", \"type\", \n",
    "    \"latitude\", \"longitude\", \"scientific_name\", \n",
    "    \"common_name\", \"author\", \"rating\",\n",
    "    \"time\", \"url\", \"filename\",\n",
    "    \"license\",\n",
    "    \"all_labels\", \"is_scored_in_all_labels\", \"sr\",\n",
    "    \"duration_s\", \"contains_secondary\"\n",
    "]]\n",
    "\n",
    "add_xeno_canto_df"
   ]
  },
  {
   "cell_type": "code",
   "execution_count": null,
   "id": "0c54c9ac-35b6-4c25-93d1-8c6373f0720f",
   "metadata": {},
   "outputs": [],
   "source": [
    "add_xeno_canto_df[\"id\"] = add_xeno_canto_df[\"url\"].apply(lambda x: x.split(\"/\")[-1]).astype(int)\n",
    "\n",
    "new_id_samples = set(add_xeno_canto_df[\"url\"].apply(lambda x: x.split(\"/\")[-1]).astype(int)) - set(train_df[\"url\"].apply(lambda x: x.split(\"/\")[-1]).astype(int))"
   ]
  },
  {
   "cell_type": "code",
   "execution_count": null,
   "id": "bedc5f34-f12b-46e8-8531-c3d989384ad0",
   "metadata": {},
   "outputs": [],
   "source": [
    "add_xeno_canto_df[add_xeno_canto_df[\"id\"].isin(new_id_samples)].drop(columns=\"id\").reset_index(drop=True).to_csv(\n",
    "    \"/home/vova/data/exps/bird_clef_2022/xeno_canto/xc_scored_add/train_metadata_nodupl.csv\", index=False\n",
    ")"
   ]
  },
  {
   "cell_type": "code",
   "execution_count": null,
   "id": "437132e3-38a5-49ba-adc2-265d389a3b0b",
   "metadata": {},
   "outputs": [],
   "source": [
    "(add_xeno_canto_df.primary_label.value_counts() - train_df[train_df.primary_label.isin(scored_birds)].primary_label.value_counts()).sum()"
   ]
  },
  {
   "cell_type": "code",
   "execution_count": null,
   "id": "f5a99073-1794-46c3-893d-a1e9a76b783e",
   "metadata": {},
   "outputs": [],
   "source": [
    "os.listdir(\"/home/vova/data/exps/bird_clef_2022/xeno_canto/xc_scored_add/\")"
   ]
  },
  {
   "cell_type": "code",
   "execution_count": null,
   "id": "e58653d6-dda8-46d9-9936-50dce8d068dc",
   "metadata": {},
   "outputs": [],
   "source": [
    "add_xeno_canto_df = add_xeno_canto_df[add_xeno_canto_df[\"id\"].isin(new_id_samples)].drop(columns=\"id\").reset_index(drop=True)"
   ]
  },
  {
   "cell_type": "code",
   "execution_count": null,
   "id": "59941790-3dd3-49d0-b548-0fce2d63e4a0",
   "metadata": {
    "tags": []
   },
   "outputs": [],
   "source": [
    "add_xeno_canto_df.license.value_counts()"
   ]
  },
  {
   "cell_type": "code",
   "execution_count": null,
   "id": "70e08a13-f35e-45da-b1bf-955eefde3623",
   "metadata": {},
   "outputs": [],
   "source": [
    "pathes = [os.path.join(\"/home/vova/data/exps/bird_clef_2022/xeno_canto/xc_scored_add\",add_xeno_canto_df[\"filename\"].iloc[idx]) for idx in range(len(add_xeno_canto_df))]\n",
    "pathes_to_save = [os.path.join(\"/home/vova/data/exps/bird_clef_2022/train_audio_merged_adddata_v2_mauparfix\",add_xeno_canto_df[\"filename\"].iloc[idx]) for idx in range(len(add_xeno_canto_df))]"
   ]
  },
  {
   "cell_type": "code",
   "execution_count": null,
   "id": "323cebe6-b60b-4c64-88b0-69295715d3c6",
   "metadata": {},
   "outputs": [],
   "source": [
    "for old_path, new_path in tqdm(zip(pathes, pathes_to_save)):\n",
    "    copyfile(old_path, new_path)"
   ]
  },
  {
   "cell_type": "code",
   "execution_count": null,
   "id": "d38a83f9-1459-4d0a-9f1f-cdce2b3fb1ff",
   "metadata": {},
   "outputs": [],
   "source": [
    "scored_birds"
   ]
  },
  {
   "cell_type": "code",
   "execution_count": null,
   "id": "c602dc24-6da0-4fad-a807-f61faa62a4a5",
   "metadata": {},
   "outputs": [],
   "source": [
    "train_df[train_df[\"primary_label\"] == \"akiapo\"].head(3)"
   ]
  },
  {
   "cell_type": "code",
   "execution_count": null,
   "id": "d23301c1-161e-46c9-b022-bab105e7d593",
   "metadata": {},
   "outputs": [],
   "source": [
    "ipd.Audio(\"/home/vova/data/exps/bird_clef_2022/train_audio_merged_adddata_v2_mauparfix/akiapo/XC122399.ogg\")"
   ]
  },
  {
   "cell_type": "code",
   "execution_count": null,
   "id": "ef9ded9a-834f-4b27-a69b-ab58001a6de5",
   "metadata": {},
   "outputs": [],
   "source": [
    "add_train_df = pd.read_csv(\"/home/vova/data/exps/bird_clef_2022/xeno_canto/xc_scored_add/train_metadata_nodupl.csv\")"
   ]
  },
  {
   "cell_type": "code",
   "execution_count": null,
   "id": "895ee4fb-af70-43f1-bb04-a2b47d7c88e8",
   "metadata": {},
   "outputs": [],
   "source": [
    "add_train_df.loc[add_train_df.contains_secondary, \"primary_label\"].value_counts()"
   ]
  },
  {
   "cell_type": "code",
   "execution_count": null,
   "id": "16828927-566d-4114-8719-b8a666a995a5",
   "metadata": {},
   "outputs": [],
   "source": [
    "add_train_df[add_train_df[\"primary_label\"] == \"akiapo\"].head(3)"
   ]
  },
  {
   "cell_type": "code",
   "execution_count": null,
   "id": "46706873-efd9-4d39-99de-45f82de25035",
   "metadata": {},
   "outputs": [],
   "source": [
    "ipd.Audio(\"/home/vova/data/exps/bird_clef_2022/train_audio_merged_adddata_v2_mauparfix/akiapo/XC713870.mp3\")"
   ]
  },
  {
   "cell_type": "markdown",
   "id": "90c711f0-1968-42f2-bf14-d21f36546aac",
   "metadata": {},
   "source": [
    "# Prepare big Xeno-Canto DF"
   ]
  },
  {
   "cell_type": "code",
   "execution_count": 3,
   "id": "d46d9f66-f794-4f00-a373-c7ef96d8af56",
   "metadata": {},
   "outputs": [],
   "source": [
    "dataset_root=\"/home/vova/data/exps/birdclef_2024/xeno_canto/dataset_2024_classes\""
   ]
  },
  {
   "cell_type": "code",
   "execution_count": 4,
   "id": "21eda5f8-ef1c-4f81-b7d1-f611e7bdb0c9",
   "metadata": {},
   "outputs": [
    {
     "name": "stdout",
     "output_type": "stream",
     "text": [
      "Downloaded\n",
      "species = 182\n",
      "samples = 48632\n",
      "Ready samples 100.0%\n"
     ]
    }
   ],
   "source": [
    "print(f\"Downloaded\\nspecies = {len(glob(os.path.join(dataset_root, 'audio/*')))}\\nsamples = {len(glob(os.path.join(dataset_root, 'audio/*/*.mp3')))}\")\n",
    "print(f\"Ready samples {round(len(glob(os.path.join(dataset_root, 'audio/*'))) / len(json.load(open(os.path.join(dataset_root, 'all_xeno_canto_species.json')))), 3)*100}%\")"
   ]
  },
  {
   "cell_type": "code",
   "execution_count": 5,
   "id": "e2a36668-b05f-42b0-b88b-d8774ad1ae4f",
   "metadata": {},
   "outputs": [
    {
     "name": "stdout",
     "output_type": "stream",
     "text": [
      "Jsons found = 231\n"
     ]
    },
    {
     "name": "stderr",
     "output_type": "stream",
     "text": [
      "100%|█████████████████████████████████████████████████████████████████████████████████████████████████████████████████████████████████████████████████████████████████████| 231/231 [00:07<00:00, 31.79it/s]\n"
     ]
    }
   ],
   "source": [
    "all_meta_files = glob(os.path.join(dataset_root, \"metadata/**/*.json\"))\n",
    "\n",
    "NEEDED_COLUMNS = [\n",
    "    \"id\",\n",
    "    \"type\",\n",
    "    \"lat\",\n",
    "    \"lng\",\n",
    "    \"en\",\n",
    "    \"gen\",\n",
    "    \"sp\",\n",
    "    \"rec\",\n",
    "    \"time\",\n",
    "    \"url\",\n",
    "    \"also\",\n",
    "    \"file-name\",\n",
    "    \"lic\"\n",
    "]\n",
    "print(f\"Jsons found = {len(all_meta_files)}\")\n",
    "\n",
    "def process_dict(\n",
    "    input,\n",
    "    folder_name,\n",
    "    needed_cols=NEEDED_COLUMNS\n",
    "):\n",
    "    input = {k:v for k,v in input.items() if k in NEEDED_COLUMNS}\n",
    "    input[\"foldername\"] = folder_name\n",
    "    return input\n",
    "\n",
    "add_xeno_canto_df = pd.DataFrame()\n",
    "\n",
    "for meta_file_path in tqdm(all_meta_files):\n",
    "    meta_file = json.load(open(meta_file_path))['recordings']\n",
    "    foldname = meta_file_path.split(\"/\")[-2]\n",
    "    add_xeno_canto_df = pd.concat([\n",
    "        add_xeno_canto_df,\n",
    "        pd.DataFrame([process_dict(bird_info, foldname) for bird_info in meta_file])\n",
    "    ]).reset_index(drop=True)\n",
    "    \n",
    "add_xeno_canto_df = add_xeno_canto_df.rename(columns={\n",
    "    \"en\":\"common_name\",\n",
    "    \"lat\": \"latitude\",\n",
    "    \"lng\": \"longitude\",\n",
    "    \"rec\": \"author\",\n",
    "    \"lic\": \"license\"\n",
    "})\n",
    "\n",
    "add_xeno_canto_df[\"scientific_name\"] = add_xeno_canto_df[\"gen\"] + \" \" + add_xeno_canto_df[\"sp\"]\n",
    "add_xeno_canto_df[\"primary_label\"] = add_xeno_canto_df[\"common_name\"]\n",
    "add_xeno_canto_df[\"url\"] = \"https:\" + add_xeno_canto_df[\"url\"]\n",
    "add_xeno_canto_df[\"type\"] = add_xeno_canto_df[\"type\"].apply(lambda x: [el.strip() for el in x.split(\",\")])\n",
    "add_xeno_canto_df[\"rating\"] = None\n",
    "\n",
    "add_xeno_canto_df[\"secondary_labels\"] = add_xeno_canto_df[\"also\"]\n",
    "add_xeno_canto_df[\"filename\"] = add_xeno_canto_df[\"primary_label\"] + \"/\" + add_xeno_canto_df[\"id\"].astype(str) + \".mp3\""
   ]
  },
  {
   "cell_type": "code",
   "execution_count": 6,
   "id": "533b3297-afd5-4b87-a5f1-ae65ede3db07",
   "metadata": {},
   "outputs": [
    {
     "data": {
      "text/plain": [
       "(48647, 19)"
      ]
     },
     "execution_count": 6,
     "metadata": {},
     "output_type": "execute_result"
    }
   ],
   "source": [
    "add_xeno_canto_df.shape"
   ]
  },
  {
   "cell_type": "code",
   "execution_count": 7,
   "id": "5098e66e-4564-4cc2-ac37-375d893421d5",
   "metadata": {},
   "outputs": [],
   "source": [
    "# add_xeno_canto_df.to_csv(\"dataset/raw_metadata_07_05_2022.csv\", index=False)\n",
    "# add_xeno_canto_df = pd.read_csv(\"dataset/raw_metadata_07_05_2022.csv\", converters={\"secondary_labels\": eval})"
   ]
  },
  {
   "cell_type": "code",
   "execution_count": 8,
   "id": "e594d042-a7b7-4444-b3f5-6b29218d073c",
   "metadata": {},
   "outputs": [],
   "source": [
    "all_loaded_samples = glob(os.path.join(dataset_root, \"audio/*/*.mp3\"))\n",
    "all_loaded_samples_id = [int(os.path.splitext(os.path.basename(el))[0]) for el in all_loaded_samples]\n",
    "\n",
    "add_xeno_canto_df[\"id\"] = add_xeno_canto_df[\"id\"].astype(int)\n",
    "add_xeno_canto_df = add_xeno_canto_df.drop_duplicates(\"id\").reset_index(drop=True)\n",
    "add_xeno_canto_df = add_xeno_canto_df[add_xeno_canto_df[\"id\"].isin(set(all_loaded_samples_id))].reset_index(drop=True)"
   ]
  },
  {
   "cell_type": "code",
   "execution_count": 9,
   "id": "70baaf40-0ee6-43e7-94ff-5b0e9ca15b65",
   "metadata": {},
   "outputs": [
    {
     "name": "stderr",
     "output_type": "stream",
     "text": [
      "/tmp/ipykernel_2499074/468718510.py:2: DtypeWarning: Columns (1,7) have mixed types. Specify dtype option on import or set low_memory=False.\n",
      "  train_metadata_prev_comps = pd.read_csv(\n"
     ]
    }
   ],
   "source": [
    "train_metadata = pd.read_csv(\"/home/vova/data/exps/birdclef_2024/birdclef_2024/train_metadata_extended.csv\", converters={\"secondary_labels\": eval, \"all_labels\": eval})\n",
    "train_metadata_prev_comps = pd.read_csv(\n",
    "    \"/home/vova/data/exps/birdclef_2024/dfs/full_nodupls_meta_prev_comps_extended.csv\", \n",
    "    converters={\"secondary_labels\": eval, \"all_labels\": eval}\n",
    ")"
   ]
  },
  {
   "cell_type": "code",
   "execution_count": 10,
   "id": "683e8602-c6fa-4a20-b75d-c49511e6d4cb",
   "metadata": {},
   "outputs": [],
   "source": [
    "comp_data = pd.concat([\n",
    "    train_metadata[[\"primary_label\", \"scientific_name\", \"common_name\", \"url\", \"secondary_labels\"]],\n",
    "    train_metadata_prev_comps[[\"primary_label\", \"scientific_name\", \"common_name\", \"url\", \"secondary_labels\"]]\n",
    "]).reset_index(drop=True)\n",
    "comp_data[\"id\"] = comp_data[\"url\"].apply(lambda x: int(x.split(\"/\")[-1]))"
   ]
  },
  {
   "cell_type": "code",
   "execution_count": 11,
   "id": "05be2850-b7a6-4b38-85af-978a512a23f2",
   "metadata": {},
   "outputs": [],
   "source": [
    "xeno_canto_all_unique_sec_labels = set([el for el in set(list(chain(*add_xeno_canto_df[\"secondary_labels\"]))) if el != \"\"])\n",
    "xeno_canto_all_unique_sn_labels = set([el for el in set(add_xeno_canto_df[\"scientific_name\"]) if el != \"\"])\n",
    "xeno_canto_all_unique_cn_labels = set([el for el in set(add_xeno_canto_df[\"common_name\"]) if el != \"\"])\n",
    "xeno_canto_all_unique_sec_and_sn_labels = xeno_canto_all_unique_sec_labels | xeno_canto_all_unique_sn_labels"
   ]
  },
  {
   "cell_type": "code",
   "execution_count": 12,
   "id": "a2c8bf36-f3ef-49e6-aa65-cdf738bdac83",
   "metadata": {},
   "outputs": [],
   "source": [
    "# Xeno Canto secondary labels are taken from `scientific_name`\n",
    "assert not (xeno_canto_all_unique_sec_labels & xeno_canto_all_unique_cn_labels)"
   ]
  },
  {
   "cell_type": "code",
   "execution_count": 13,
   "id": "2c115aca-3f47-45b2-89f6-51ef4b04ec38",
   "metadata": {},
   "outputs": [],
   "source": [
    "comp_data_pl_2_id = comp_data.groupby(\"primary_label\")[\"id\"].apply(set).to_dict()\n",
    "add_xeno_canto_df_sn_2_id = add_xeno_canto_df.groupby(\"scientific_name\")[\"id\"].apply(set).to_dict()\n",
    "add_xeno_canto_df_sn_2_id = {k:v for k,v in add_xeno_canto_df_sn_2_id.items()}"
   ]
  },
  {
   "cell_type": "code",
   "execution_count": 14,
   "id": "ed60476e-da98-4740-8894-7d73fa86db27",
   "metadata": {},
   "outputs": [],
   "source": [
    "def get_common_name(input):\n",
    "    if len(set(input)) > 1:\n",
    "        # raise RuntimeError(f\"There should be one2one mapping between `primary_label` and `common_name`. Failed example: {set(input)}\")\n",
    "        print(f\"There should be one2one mapping between `primary_label` and `common_name`. Failed example: {set(input)}\")\n",
    "    return input.iloc[0]"
   ]
  },
  {
   "cell_type": "code",
   "execution_count": 15,
   "id": "5c1e9a59-c4e6-4952-8981-b0ee9f1b9e9e",
   "metadata": {},
   "outputs": [
    {
     "name": "stdout",
     "output_type": "stream",
     "text": [
      "There should be one2one mapping between `primary_label` and `common_name`. Failed example: {'Leuconotopicus villosus', 'Dryobates villosus'}\n"
     ]
    }
   ],
   "source": [
    "pl2sc = comp_data.groupby(\"primary_label\")[\"scientific_name\"].apply(get_common_name).to_dict()\n",
    "# pl2sc = {v:k.lower() for k,v in pl2sc.items()}\n",
    "sc2pl = {v:k for k,v in pl2sc.items()}"
   ]
  },
  {
   "cell_type": "code",
   "execution_count": 16,
   "id": "0f34661c-647f-4a1c-afb9-07b4f5c76b0e",
   "metadata": {},
   "outputs": [],
   "source": [
    "lost_classes = {}\n",
    "for k in set(comp_data[\"scientific_name\"]) - xeno_canto_all_unique_sec_and_sn_labels:\n",
    "    lost_classes[sc2pl[k]] = {}\n",
    "    for k_ref in add_xeno_canto_df_sn_2_id.keys():\n",
    "        lost_classes[sc2pl[k]][k_ref] = len(add_xeno_canto_df_sn_2_id[k_ref] & comp_data_pl_2_id[sc2pl[k]]) / len(comp_data_pl_2_id[sc2pl[k]])\n",
    "    lost_classes[sc2pl[k]] = pd.Series(lost_classes[sc2pl[k]]).sort_values(ascending=False)"
   ]
  },
  {
   "cell_type": "code",
   "execution_count": 17,
   "id": "e1fe6473-2f88-4b4e-9b83-3042aec81a5f",
   "metadata": {},
   "outputs": [],
   "source": [
    "top_lost_classes = {k:v.reset_index().iloc[0].to_dict() for k,v in lost_classes.items()}"
   ]
  },
  {
   "cell_type": "code",
   "execution_count": 18,
   "id": "ae8e8676-9d7a-4716-a216-e228ff833b76",
   "metadata": {},
   "outputs": [],
   "source": [
    "top_lost_classes = {k:v for k,v in top_lost_classes.items() if v[0] > 0}"
   ]
  },
  {
   "cell_type": "code",
   "execution_count": 19,
   "id": "fd59215b-0469-4c87-ab3a-f98803ab1940",
   "metadata": {},
   "outputs": [
    {
     "data": {
      "text/plain": [
       "{'spodov': {'index': 'Spilopelia chinensis', 0: 1.0},\n",
       " 'yebbul3': {'index': 'Acritillas indica', 0: 1.0},\n",
       " 'laudov1': {'index': 'Spilopelia senegalensis', 0: 0.9911504424778761}}"
      ]
     },
     "execution_count": 19,
     "metadata": {},
     "output_type": "execute_result"
    }
   ],
   "source": [
    "top_lost_classes"
   ]
  },
  {
   "cell_type": "code",
   "execution_count": 20,
   "id": "b13b933f-6b04-4fab-95b6-879d527ea996",
   "metadata": {},
   "outputs": [],
   "source": [
    "sc2pl_xeno_canto = deepcopy(sc2pl)\n",
    "for k,v in top_lost_classes.items():\n",
    "    # if v[0] > 0:\n",
    "    sc2pl_xeno_canto.pop(pl2sc[k])\n",
    "    sc2pl_xeno_canto[v[\"index\"]] = k"
   ]
  },
  {
   "cell_type": "code",
   "execution_count": 21,
   "id": "d4fc54a4-6f39-420e-8d90-76b2e18c2a91",
   "metadata": {},
   "outputs": [],
   "source": [
    "# All keys unique\n",
    "assert len(set(sc2pl_xeno_canto.keys())) == len(sc2pl_xeno_canto)\n",
    "# All values unique\n",
    "assert len(set(sc2pl_xeno_canto.values())) == len(sc2pl_xeno_canto)\n",
    "# # All keys are present in Xeno Canto\n",
    "# assert not set(sc2pl_xeno_canto.keys()) - xeno_canto_all_unique_sec_and_sn_labels"
   ]
  },
  {
   "cell_type": "code",
   "execution_count": 22,
   "id": "bd4aa24a-315a-4034-99b2-a5a92b1a9c22",
   "metadata": {},
   "outputs": [],
   "source": [
    "add_xeno_canto_df[\"primary_label\"] = add_xeno_canto_df[\"scientific_name\"].apply(lambda x: sc2pl_xeno_canto.get(x,x))\n",
    "add_xeno_canto_df[\"secondary_labels\"] = add_xeno_canto_df[\"secondary_labels\"].apply(lambda x: [sc2pl_xeno_canto.get(el,el) for el in x])\n",
    "add_xeno_canto_df[\"secondary_labels\"] = add_xeno_canto_df[\"secondary_labels\"].apply(lambda x: [el for el in x if el != \"\"])"
   ]
  },
  {
   "cell_type": "code",
   "execution_count": 23,
   "id": "d48dc061-0af3-4559-a644-5083dd23924d",
   "metadata": {},
   "outputs": [],
   "source": [
    "# Create all_labels\n",
    "add_xeno_canto_df['all_labels'] = add_xeno_canto_df.apply(lambda x: [x[\"primary_label\"]] + x[\"secondary_labels\"], axis=1)"
   ]
  },
  {
   "cell_type": "code",
   "execution_count": 24,
   "id": "1bdff481-9cb9-401b-b41d-2b2580435385",
   "metadata": {},
   "outputs": [],
   "source": [
    "add_xeno_canto_df[\"dataset\"] = \"xc_2024_classes\""
   ]
  },
  {
   "cell_type": "code",
   "execution_count": 25,
   "id": "a9b81623-25e2-4dce-93d8-985af52bc6e6",
   "metadata": {},
   "outputs": [
    {
     "data": {
      "text/plain": [
       "{'duration_s'}"
      ]
     },
     "execution_count": 25,
     "metadata": {},
     "output_type": "execute_result"
    }
   ],
   "source": [
    "set(train_metadata.columns) - set(add_xeno_canto_df.columns)"
   ]
  },
  {
   "cell_type": "code",
   "execution_count": 26,
   "id": "aba084aa-a3e2-42cf-bea5-3635fa2919fa",
   "metadata": {},
   "outputs": [],
   "source": [
    "add_xeno_canto_df[\"filename\"] = add_xeno_canto_df[\"filename\"].apply(lambda x: x.replace(\" \", \"\"))"
   ]
  },
  {
   "cell_type": "code",
   "execution_count": 27,
   "id": "22754133-41f6-4376-99ed-9d865bb86ab6",
   "metadata": {},
   "outputs": [
    {
     "name": "stderr",
     "output_type": "stream",
     "text": [
      "100%|██████████████████████████████████████████████████████████████████████████████████████████████████████████████████████████████████████████████████████████████| 48632/48632 [00:04<00:00, 10760.68it/s]\n"
     ]
    }
   ],
   "source": [
    "xeno_canto_lengts_and_srs =  ProgressParallel(n_jobs=32, total=len(add_xeno_canto_df))(\n",
    "    delayed(read_length_and_sr)(path) for path in add_xeno_canto_df[\"filename\"].apply(\n",
    "        lambda x: os.path.join(\n",
    "            \"/home/vova/data/exps/birdclef_2024/xeno_canto/dataset_2024_classes/train_features\", x.replace(\".mp3\", \".hdf5\")\n",
    "        )\n",
    "    )\n",
    ")"
   ]
  },
  {
   "cell_type": "code",
   "execution_count": 28,
   "id": "9cb0290a-4282-4164-94d7-a4a66370205f",
   "metadata": {},
   "outputs": [],
   "source": [
    "add_xeno_canto_df[\"is_valid\"] = [\n",
    "    el is not None for el in xeno_canto_lengts_and_srs\n",
    "]\n",
    "add_xeno_canto_df[\"sample_rate\"] = [el[1] if el is not None else None for el in xeno_canto_lengts_and_srs]\n",
    "add_xeno_canto_df[\"au_len\"] = [el[0] if el is not None else None for el in xeno_canto_lengts_and_srs]\n",
    "add_xeno_canto_df = add_xeno_canto_df[add_xeno_canto_df[\"is_valid\"]]\n",
    "add_xeno_canto_df = add_xeno_canto_df.drop(columns=[\"is_valid\"])\n",
    "add_xeno_canto_df[\"duration_s\"] = add_xeno_canto_df[\"au_len\"] / add_xeno_canto_df[\"sample_rate\"]"
   ]
  },
  {
   "cell_type": "code",
   "execution_count": 29,
   "id": "5f15cd96-357b-4c4f-8e06-fa4ed04272c5",
   "metadata": {},
   "outputs": [
    {
     "data": {
      "text/plain": [
       "set()"
      ]
     },
     "execution_count": 29,
     "metadata": {},
     "output_type": "execute_result"
    }
   ],
   "source": [
    "set(train_metadata.columns) - set(add_xeno_canto_df.columns)"
   ]
  },
  {
   "cell_type": "code",
   "execution_count": 30,
   "id": "ff2dcac9-35f1-41e3-a8e4-17819732115e",
   "metadata": {},
   "outputs": [],
   "source": [
    "add_xeno_canto_df.to_csv(\"/home/vova/data/exps/birdclef_2024/xeno_canto/dataset_2024_classes/train_metadata_extended.csv\", index=False)"
   ]
  },
  {
   "cell_type": "code",
   "execution_count": 31,
   "id": "a5243bb0-2945-4a75-98a5-48ce5bdb9ea0",
   "metadata": {},
   "outputs": [],
   "source": [
    "add_xeno_canto_df = add_xeno_canto_df[~add_xeno_canto_df[\"id\"].isin(comp_data[\"id\"])].reset_index(drop=True)"
   ]
  },
  {
   "cell_type": "code",
   "execution_count": 32,
   "id": "579c2df8-eb7e-494e-9643-9d5505574227",
   "metadata": {},
   "outputs": [
    {
     "data": {
      "text/plain": [
       "(21750, 24)"
      ]
     },
     "execution_count": 32,
     "metadata": {},
     "output_type": "execute_result"
    }
   ],
   "source": [
    "add_xeno_canto_df.shape"
   ]
  },
  {
   "cell_type": "code",
   "execution_count": 33,
   "id": "a0d6ab74-2a73-496f-be0e-2c9dbfbb4a56",
   "metadata": {},
   "outputs": [],
   "source": [
    "add_xeno_canto_df.to_csv(\"/home/vova/data/exps/birdclef_2024/xeno_canto/dataset_2024_classes/train_metadata_nodupl_extended.csv\", index=False)"
   ]
  },
  {
   "cell_type": "code",
   "execution_count": 24,
   "id": "54a7bf8a-f584-4204-a207-f623b1d1991b",
   "metadata": {},
   "outputs": [],
   "source": [
    "add_xeno_canto_df = pd.read_csv(\n",
    "    \"/home/vova/data/exps/birdclef_2024/xeno_canto/dataset_2024_classes/train_metadata_noduplV3_extended.csv\", \n",
    "    converters={\"secondary_labels\": eval, \"all_labels\": eval}\n",
    ")\n",
    "train_metadata = pd.read_csv(\n",
    "    \"/home/vova/data/exps/birdclef_2024/birdclef_2024/train_metadata_extended_noduplv1.csv\", \n",
    "    converters={\"secondary_labels\": eval, \"all_labels\": eval}\n",
    ")\n",
    "train_metadata_prev_comp = pd.read_csv(\n",
    "    \"/home/vova/data/exps/birdclef_2024/dfs/full_noduplsV3_scored_meta_prev_comps_extended.csv\", \n",
    "    converters={\"secondary_labels\": eval, \"all_labels\": eval}\n",
    ")"
   ]
  },
  {
   "cell_type": "code",
   "execution_count": 25,
   "id": "703f0367-e3ee-461a-bea2-f9fd0407dfbd",
   "metadata": {},
   "outputs": [
    {
     "data": {
      "text/plain": [
       "188"
      ]
     },
     "execution_count": 25,
     "metadata": {},
     "output_type": "execute_result"
    }
   ],
   "source": [
    "all_classes = set(chain(*train_metadata[\"all_labels\"]))\n",
    "len(all_classes)"
   ]
  },
  {
   "cell_type": "code",
   "execution_count": 26,
   "id": "998229f4-745d-43b3-942e-c3c5be331ddc",
   "metadata": {},
   "outputs": [],
   "source": [
    "add_xeno_canto_df[\"all_labels\"] = add_xeno_canto_df[\"all_labels\"].apply(lambda x: [bird for bird in x if bird in all_classes])\n",
    "add_xeno_canto_df[\"secondary_labels\"] = add_xeno_canto_df[\"secondary_labels\"].apply(lambda x: [bird for bird in x if bird in all_classes])\n",
    "\n",
    "train_metadata_prev_comp = train_metadata_prev_comp[train_metadata_prev_comp[\"primary_label\"].isin(all_classes)].reset_index(drop=True)\n",
    "train_metadata_prev_comp[\"all_labels\"] = train_metadata_prev_comp[\"all_labels\"].apply(lambda x: [bird for bird in x if bird in all_classes])\n",
    "train_metadata_prev_comp[\"secondary_labels\"] = train_metadata_prev_comp[\"secondary_labels\"].apply(lambda x: [bird for bird in x if bird in all_classes])"
   ]
  },
  {
   "cell_type": "code",
   "execution_count": 27,
   "id": "53fa5cb9-b869-4b89-b94f-f9a6595096b3",
   "metadata": {},
   "outputs": [],
   "source": [
    "add_xeno_canto_df.to_csv(\n",
    "    \"/home/vova/data/exps/birdclef_2024/xeno_canto/dataset_2024_classes/train_metadata_noduplV3_extended_2024SecLabels.csv\",\n",
    "    index=False\n",
    ")\n",
    "train_metadata_prev_comp.to_csv(\n",
    "    \"/home/vova/data/exps/birdclef_2024/dfs/full_noduplsV3_scored_meta_prev_comps_extended_2024SecLabels.csv\",\n",
    "    index=False\n",
    ")"
   ]
  },
  {
   "cell_type": "code",
   "execution_count": null,
   "id": "46cf8b34-ed28-4095-9874-d3ee98b78dbf",
   "metadata": {},
   "outputs": [],
   "source": []
  }
 ],
 "metadata": {
  "kernelspec": {
   "display_name": "Python 3 (ipykernel)",
   "language": "python",
   "name": "python3"
  },
  "language_info": {
   "codemirror_mode": {
    "name": "ipython",
    "version": 3
   },
   "file_extension": ".py",
   "mimetype": "text/x-python",
   "name": "python",
   "nbconvert_exporter": "python",
   "pygments_lexer": "ipython3",
   "version": "3.11.6"
  }
 },
 "nbformat": 4,
 "nbformat_minor": 5
}
