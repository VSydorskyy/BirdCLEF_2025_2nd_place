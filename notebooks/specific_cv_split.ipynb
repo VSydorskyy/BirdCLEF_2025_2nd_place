{
 "cells": [
  {
   "cell_type": "code",
   "execution_count": null,
   "id": "ec223f48-e762-4c59-8f58-4709b9022522",
   "metadata": {},
   "outputs": [],
   "source": [
    "import os\n",
    "from os.path import join as pjoin\n",
    "\n",
    "import numpy as np\n",
    "import pandas as pd\n",
    "from sklearn.model_selection import StratifiedKFold, StratifiedGroupKFold\n",
    "\n",
    "RS = 42\n",
    "SHUFFLE = True"
   ]
  },
  {
   "cell_type": "code",
   "execution_count": null,
   "id": "e88bc1da-7ae1-4202-aa11-6d302bc851e3",
   "metadata": {},
   "outputs": [],
   "source": [
    "train = pd.read_csv(\n",
    "    \"/gpfs/space/projects/BetterMedicine/volodymyr1/exps/bird_clef_2025/birdclef_2025/train_and_prev_comps_extendedv1_pruneSL_XConly2025_snipet28032025.csv\"\n",
    ")"
   ]
  },
  {
   "cell_type": "code",
   "execution_count": null,
   "id": "8b748a06-39b6-4ac9-8b12-50d410329996",
   "metadata": {},
   "outputs": [],
   "source": [
    "def stratified_k_fold(X, y, g, k):\n",
    "    return StratifiedGroupKFold(n_splits=k, shuffle=SHUFFLE, random_state=RS).split(\n",
    "        X, y, g\n",
    "    )"
   ]
  },
  {
   "cell_type": "code",
   "execution_count": null,
   "id": "ae317532-2dc9-4364-9d93-5aa233a098e6",
   "metadata": {},
   "outputs": [],
   "source": [
    "train[\"group\"] = train[\"author\"].str.lower()\n",
    "train.loc[train[\"group\"] == \"unknown\", \"group\"] = train.loc[train[\"group\"] == \"unknown\", \"filename\"]"
   ]
  },
  {
   "cell_type": "code",
   "execution_count": null,
   "id": "b2fcf4e6-1375-4699-875c-85077d55b6b9",
   "metadata": {},
   "outputs": [],
   "source": [
    "split = list(stratified_k_fold(X=train, y=train[\"primary_label\"], g=train[\"group\"], k=5))"
   ]
  },
  {
   "cell_type": "code",
   "execution_count": null,
   "id": "cfd3cc62-9b3f-46fe-b095-fe1ce4d8e771",
   "metadata": {},
   "outputs": [],
   "source": [
    "all_unique_birds = set(train[\"primary_label\"])\n",
    "len(all_unique_birds)"
   ]
  },
  {
   "cell_type": "code",
   "execution_count": null,
   "id": "18cd40b8-701c-4ba1-913c-bd070e38f2d8",
   "metadata": {},
   "outputs": [],
   "source": [
    "split = [list(el) for el in split]\n",
    "for fold_i in range(len(split)):\n",
    "    fold_train = train.iloc[split[fold_i][0]]\n",
    "    missing_birds = all_unique_birds - set(fold_train[\"primary_label\"])\n",
    "    if missing_birds:\n",
    "        print(f\"Fold {fold_i} missing species: {missing_birds}\")\n",
    "        index_to_add = train.loc[train[\"primary_label\"].isin(missing_birds)].sample(frac=1).drop_duplicates(\"primary_label\").index.to_list()\n",
    "        print(f\"Adding next filenames:\\n\", train[\"filename\"].iloc[index_to_add])\n",
    "        split[fold_i][0] = np.concatenate([split[fold_i][0], np.array(index_to_add)])\n",
    "split = [tuple(el) for el in split]      "
   ]
  },
  {
   "cell_type": "code",
   "execution_count": null,
   "id": "7208dcc3-3dc2-44d5-b01e-f45700a8b127",
   "metadata": {},
   "outputs": [],
   "source": [
    "for train_idx, _ in split:\n",
    "    assert set(train[\"primary_label\"].iloc[split[fold_i][0]]) == all_unique_birds"
   ]
  },
  {
   "cell_type": "code",
   "execution_count": null,
   "id": "1a8e329f-d89b-4c5a-928f-aa4972dbfdbf",
   "metadata": {},
   "outputs": [],
   "source": [
    "assert list(train.index) == list(range(len(train)))"
   ]
  },
  {
   "cell_type": "code",
   "execution_count": null,
   "id": "051c635e-f3bb-4b56-872c-a107be09821d",
   "metadata": {},
   "outputs": [],
   "source": [
    "train.loc[train[\"primary_label\"].isin(missing_birds)].sample(frac=1).drop_duplicates(\"primary_label\").index.to_list()"
   ]
  },
  {
   "cell_type": "code",
   "execution_count": null,
   "id": "f1217cae-19ae-4652-a9ac-f0110a42ad69",
   "metadata": {},
   "outputs": [],
   "source": [
    "train[\"group\"]"
   ]
  },
  {
   "cell_type": "code",
   "execution_count": null,
   "id": "82901ca1-87b6-431f-8bfe-3dd392ce07c6",
   "metadata": {},
   "outputs": [],
   "source": [
    "train[\"group\"].str.lower().value_counts().to_dict()"
   ]
  },
  {
   "cell_type": "code",
   "execution_count": null,
   "id": "eab2c5f7-9d95-4554-9c49-85d1579827d3",
   "metadata": {},
   "outputs": [],
   "source": []
  }
 ],
 "metadata": {
  "kernelspec": {
   "display_name": "Python 3 (ipykernel)",
   "language": "python",
   "name": "python3"
  },
  "language_info": {
   "codemirror_mode": {
    "name": "ipython",
    "version": 3
   },
   "file_extension": ".py",
   "mimetype": "text/x-python",
   "name": "python",
   "nbconvert_exporter": "python",
   "pygments_lexer": "ipython3",
   "version": "3.11.1"
  }
 },
 "nbformat": 4,
 "nbformat_minor": 5
}
