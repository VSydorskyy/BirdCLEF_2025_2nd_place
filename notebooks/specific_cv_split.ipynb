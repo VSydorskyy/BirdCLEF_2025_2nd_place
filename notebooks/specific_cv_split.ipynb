{
 "cells": [
  {
   "cell_type": "code",
   "execution_count": 12,
   "id": "ec223f48-e762-4c59-8f58-4709b9022522",
   "metadata": {},
   "outputs": [],
   "source": [
    "import os\n",
    "from os.path import join as pjoin\n",
    "from copy import deepcopy\n",
    "\n",
    "import numpy as np\n",
    "import pandas as pd\n",
    "from sklearn.model_selection import StratifiedKFold, StratifiedGroupKFold\n",
    "\n",
    "RS = 42\n",
    "SHUFFLE = True"
   ]
  },
  {
   "cell_type": "code",
   "execution_count": null,
   "id": "e88bc1da-7ae1-4202-aa11-6d302bc851e3",
   "metadata": {},
   "outputs": [],
   "source": [
    "train = pd.read_csv(\n",
    "    \"/gpfs/space/projects/BetterMedicine/volodymyr1/exps/bird_clef_2025/birdclef_2025/train_and_prev_comps_extendedv1_pruneSL_XConly2025_snipet28032025.csv\"\n",
    ")"
   ]
  },
  {
   "cell_type": "code",
   "execution_count": null,
   "id": "8b748a06-39b6-4ac9-8b12-50d410329996",
   "metadata": {},
   "outputs": [],
   "source": [
    "def stratified_k_fold(X, y, g, k):\n",
    "    return StratifiedGroupKFold(n_splits=k, shuffle=SHUFFLE, random_state=RS).split(\n",
    "        X, y, g\n",
    "    )"
   ]
  },
  {
   "cell_type": "code",
   "execution_count": null,
   "id": "ae317532-2dc9-4364-9d93-5aa233a098e6",
   "metadata": {},
   "outputs": [],
   "source": [
    "train[\"group\"] = train[\"author\"].str.lower()\n",
    "train.loc[train[\"group\"] == \"unknown\", \"group\"] = train.loc[train[\"group\"] == \"unknown\", \"filename\"]"
   ]
  },
  {
   "cell_type": "code",
   "execution_count": null,
   "id": "b2fcf4e6-1375-4699-875c-85077d55b6b9",
   "metadata": {},
   "outputs": [],
   "source": [
    "split = list(stratified_k_fold(X=train, y=train[\"primary_label\"], g=train[\"group\"], k=5))"
   ]
  },
  {
   "cell_type": "code",
   "execution_count": null,
   "id": "cfd3cc62-9b3f-46fe-b095-fe1ce4d8e771",
   "metadata": {},
   "outputs": [],
   "source": [
    "all_unique_birds = set(train[\"primary_label\"])\n",
    "len(all_unique_birds)"
   ]
  },
  {
   "cell_type": "code",
   "execution_count": null,
   "id": "18cd40b8-701c-4ba1-913c-bd070e38f2d8",
   "metadata": {},
   "outputs": [],
   "source": [
    "split = [list(el) for el in split]\n",
    "for fold_i in range(len(split)):\n",
    "    fold_train = train.iloc[split[fold_i][0]]\n",
    "    missing_birds = all_unique_birds - set(fold_train[\"primary_label\"])\n",
    "    if missing_birds:\n",
    "        print(f\"Fold {fold_i} missing species: {missing_birds}\")\n",
    "        index_to_add = train.loc[train[\"primary_label\"].isin(missing_birds)].sample(frac=1).drop_duplicates(\"primary_label\").index.to_list()\n",
    "        print(f\"Adding next filenames:\\n\", train[\"filename\"].iloc[index_to_add])\n",
    "        split[fold_i][0] = np.concatenate([split[fold_i][0], np.array(index_to_add)])\n",
    "split = [tuple(el) for el in split]      "
   ]
  },
  {
   "cell_type": "code",
   "execution_count": null,
   "id": "7208dcc3-3dc2-44d5-b01e-f45700a8b127",
   "metadata": {},
   "outputs": [],
   "source": [
    "for train_idx, _ in split:\n",
    "    assert set(train[\"primary_label\"].iloc[split[fold_i][0]]) == all_unique_birds"
   ]
  },
  {
   "cell_type": "code",
   "execution_count": null,
   "id": "1a8e329f-d89b-4c5a-928f-aa4972dbfdbf",
   "metadata": {},
   "outputs": [],
   "source": [
    "assert list(train.index) == list(range(len(train)))"
   ]
  },
  {
   "cell_type": "code",
   "execution_count": null,
   "id": "051c635e-f3bb-4b56-872c-a107be09821d",
   "metadata": {},
   "outputs": [],
   "source": [
    "train.loc[train[\"primary_label\"].isin(missing_birds)].sample(frac=1).drop_duplicates(\"primary_label\").index.to_list()"
   ]
  },
  {
   "cell_type": "code",
   "execution_count": null,
   "id": "f1217cae-19ae-4652-a9ac-f0110a42ad69",
   "metadata": {},
   "outputs": [],
   "source": [
    "train[\"group\"]"
   ]
  },
  {
   "cell_type": "code",
   "execution_count": null,
   "id": "82901ca1-87b6-431f-8bfe-3dd392ce07c6",
   "metadata": {},
   "outputs": [],
   "source": [
    "train[\"group\"].str.lower().value_counts().to_dict()"
   ]
  },
  {
   "cell_type": "markdown",
   "id": "9e22fdfb-0ef3-4673-92cf-65c9fc9967e6",
   "metadata": {},
   "source": [
    "# Check CV Splits"
   ]
  },
  {
   "cell_type": "code",
   "execution_count": 39,
   "id": "217cd49b-342d-4946-9830-177b05a626ae",
   "metadata": {},
   "outputs": [
    {
     "name": "stderr",
     "output_type": "stream",
     "text": [
      "/tmp/ipykernel_1079241/1162802926.py:1: DtypeWarning: Columns (7,8) have mixed types. Specify dtype option on import or set low_memory=False.\n",
      "  df = pd.read_csv(\n"
     ]
    }
   ],
   "source": [
    "df = pd.read_csv(\n",
    "    \"../data/train_and_prev_comps_extendedv1_pruneSL_XConly2025_snipet11052025_hdf5_csa_fixedaudiometa_h5pyDur.csv\"\n",
    ")\n",
    "cv_split = np.load(\n",
    "    \"../data/cv_split_base_and_prev_comps_XCsnipet28032025_csa_group_foldinter.npy\", allow_pickle=True\n",
    ")"
   ]
  },
  {
   "cell_type": "code",
   "execution_count": 40,
   "id": "1151cdbc-921c-4b36-9b7a-542d85731ecd",
   "metadata": {},
   "outputs": [
    {
     "data": {
      "text/plain": [
       "filename\n",
       "1139490/CSA36385.ogg    1\n",
       "y00678/XC456643.ogg     1\n",
       "y00678/XC428810.ogg     1\n",
       "y00678/XC429779.ogg     1\n",
       "y00678/XC430769.ogg     1\n",
       "                       ..\n",
       "linwoo1/XC550450.ogg    1\n",
       "linwoo1/XC565143.ogg    1\n",
       "linwoo1/XC565171.ogg    1\n",
       "linwoo1/XC569282.ogg    1\n",
       "24292/116126.wav        1\n",
       "Name: count, Length: 39204, dtype: int64"
      ]
     },
     "execution_count": 40,
     "metadata": {},
     "output_type": "execute_result"
    }
   ],
   "source": [
    "df[\"filename\"].value_counts()"
   ]
  },
  {
   "cell_type": "code",
   "execution_count": 41,
   "id": "cc459964-9e81-47e7-884f-7568cffd0ae6",
   "metadata": {},
   "outputs": [
    {
     "ename": "AssertionError",
     "evalue": "",
     "output_type": "error",
     "traceback": [
      "\u001b[0;31m---------------------------------------------------------------------------\u001b[0m",
      "\u001b[0;31mAssertionError\u001b[0m                            Traceback (most recent call last)",
      "Cell \u001b[0;32mIn[41], line 3\u001b[0m\n\u001b[1;32m      1\u001b[0m \u001b[38;5;28;01mfor\u001b[39;00m fold_id, (train_ids, val_ids) \u001b[38;5;129;01min\u001b[39;00m \u001b[38;5;28menumerate\u001b[39m(cv_split):\n\u001b[1;32m      2\u001b[0m     train_fold, val_fold \u001b[38;5;241m=\u001b[39m df\u001b[38;5;241m.\u001b[39miloc[train_ids], df\u001b[38;5;241m.\u001b[39miloc[val_ids]\n\u001b[0;32m----> 3\u001b[0m     \u001b[38;5;28;01massert\u001b[39;00m \u001b[38;5;129;01mnot\u001b[39;00m \u001b[38;5;28mset\u001b[39m(train_fold[\u001b[38;5;124m\"\u001b[39m\u001b[38;5;124mfilename\u001b[39m\u001b[38;5;124m\"\u001b[39m]) \u001b[38;5;241m&\u001b[39m \u001b[38;5;28mset\u001b[39m(val_fold[\u001b[38;5;124m\"\u001b[39m\u001b[38;5;124mfilename\u001b[39m\u001b[38;5;124m\"\u001b[39m])\n\u001b[1;32m      4\u001b[0m     \u001b[38;5;28;01massert\u001b[39;00m \u001b[38;5;28mset\u001b[39m(train_ids) \u001b[38;5;241m==\u001b[39m \u001b[38;5;28mset\u001b[39m(np\u001b[38;5;241m.\u001b[39mconcatenate([val_ids \u001b[38;5;28;01mfor\u001b[39;00m _, val_ids \u001b[38;5;129;01min\u001b[39;00m np\u001b[38;5;241m.\u001b[39mdelete(cv_split, fold_id, \u001b[38;5;241m0\u001b[39m)]))\n\u001b[1;32m      5\u001b[0m     \u001b[38;5;66;03m# assert not set(train_fold[\"author\"]) & set(val_fold[\"author\"])\u001b[39;00m\n",
      "\u001b[0;31mAssertionError\u001b[0m: "
     ]
    }
   ],
   "source": [
    "for fold_id, (train_ids, val_ids) in enumerate(cv_split):\n",
    "    train_fold, val_fold = df.iloc[train_ids], df.iloc[val_ids]\n",
    "    assert not set(train_fold[\"filename\"]) & set(val_fold[\"filename\"])\n",
    "    assert set(train_ids) == set(np.concatenate([val_ids for _, val_ids in np.delete(cv_split, fold_id, 0)]))\n",
    "    # assert not set(train_fold[\"author\"]) & set(val_fold[\"author\"])"
   ]
  },
  {
   "cell_type": "code",
   "execution_count": 42,
   "id": "ac93ce34-a520-4d51-a2bb-79030fe1d99c",
   "metadata": {},
   "outputs": [
    {
     "name": "stdout",
     "output_type": "stream",
     "text": [
      "Len Val 8467 Len Train 30856 Len DF 39204 Len Val + Train 39323\n",
      "Intresect Len: 35\n",
      "Len Val 7979 Len Train 31344 Len DF 39204 Len Val + Train 39323\n",
      "Intresect Len: 37\n",
      "Len Val 8903 Len Train 30420 Len DF 39204 Len Val + Train 39323\n",
      "Intresect Len: 38\n",
      "Len Val 7358 Len Train 31965 Len DF 39204 Len Val + Train 39323\n",
      "Intresect Len: 51\n",
      "Len Val 6616 Len Train 32707 Len DF 39204 Len Val + Train 39323\n",
      "Intresect Len: 50\n"
     ]
    }
   ],
   "source": [
    "for fold_id, (train_ids, val_ids) in enumerate(cv_split):\n",
    "    print(\"Len Val\", len(val_ids), \"Len Train\", len(train_ids), \"Len DF\", len(df), \"Len Val + Train\", len(val_ids) + len(train_ids))\n",
    "    train_fold, val_fold = df.iloc[train_ids], df.iloc[val_ids]\n",
    "    print(\"Intresect Len:\", len(set(train_fold[\"filename\"]) & set(val_fold[\"filename\"])))\n",
    "    assert set(train_fold[\"filename\"]) | set(val_fold[\"filename\"]) == set(df[\"filename\"])\n",
    "    assert set(train_fold[\"primary_label\"]) == set(df[\"primary_label\"])\n",
    "    assert set(val_fold[\"primary_label\"]) == set(df[\"primary_label\"])\n",
    "    assert set(train_ids) == set(np.concatenate([val_ids for _, val_ids in np.delete(cv_split, fold_id, 0)]))\n",
    "    # assert not set(train_fold[\"author\"]) & set(val_fold[\"author\"])"
   ]
  },
  {
   "cell_type": "code",
   "execution_count": null,
   "id": "c74e0811-0d4f-48c6-8418-b231e04dd548",
   "metadata": {},
   "outputs": [],
   "source": []
  }
 ],
 "metadata": {
  "kernelspec": {
   "display_name": "Python 3 (ipykernel)",
   "language": "python",
   "name": "python3"
  },
  "language_info": {
   "codemirror_mode": {
    "name": "ipython",
    "version": 3
   },
   "file_extension": ".py",
   "mimetype": "text/x-python",
   "name": "python",
   "nbconvert_exporter": "python",
   "pygments_lexer": "ipython3",
   "version": "3.11.11"
  }
 },
 "nbformat": 4,
 "nbformat_minor": 5
}
