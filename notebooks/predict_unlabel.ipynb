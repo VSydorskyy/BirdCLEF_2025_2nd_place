{
 "cells": [
  {
   "cell_type": "code",
   "execution_count": null,
   "id": "21ac3599-7795-418b-8c0f-9cb6e8b23f3a",
   "metadata": {},
   "outputs": [],
   "source": [
    "!nvidia-smi"
   ]
  },
  {
   "cell_type": "code",
   "execution_count": null,
   "id": "de71ce59-eafd-40f7-aacf-cb2b6c0f914a",
   "metadata": {},
   "outputs": [],
   "source": [
    "%load_ext autoreload\n",
    "%autoreload 2\n",
    "\n",
    "import os\n",
    "os.environ[\"CUDA_VISIBLE_DEVICES\"]=\"2\"\n",
    "\n",
    "import pandas as pd\n",
    "import numpy as np\n",
    "import librosa\n",
    "import seaborn as sns\n",
    "import os\n",
    "import json\n",
    "import IPython.display as ipd\n",
    "import soundfile as sf\n",
    "import torch\n",
    "import h5py\n",
    "import onnxruntime as ort\n",
    "import openvino as ov\n",
    "\n",
    "from glob import glob\n",
    "from tqdm import tqdm\n",
    "from matplotlib import pyplot as plt\n",
    "from itertools import chain\n",
    "from os.path import join as pjoin\n",
    "from torchaudio.transforms import AmplitudeToDB, MelSpectrogram\n",
    "from copy import deepcopy\n",
    "\n",
    "# from code_base.utils import parallel_librosa_load, groupby_np_array, stack_and_max_by_samples, macro_f1_similarity, N_CLASSES_2021_2022, N_CLASSES_2021, comp_metric, N_CLASSES_XC_LIGIT_SHORTEN, N_CLASSES_XC_LIGIT_EVEN_SHORTEN\n",
    "# from code_base.utils.constants import SAMPLE_RATE\n",
    "from code_base.utils.onnx_utils import ONNXEnsemble, convert_to_onnx\n",
    "from code_base.models import WaveCNNClasifier, WaveCNNAttenClasifier\n",
    "from code_base.datasets import WaveDataset, WaveAllFileDataset\n",
    "from code_base.utils.swa import avarage_weights, delete_prefix_from_chkp\n",
    "from code_base.inefernce import BirdsInference\n",
    "from code_base.utils import load_json, compose_submission_dataframe, groupby_np_array, stack_and_max_by_samples, write_json\n",
    "from code_base.utils.metrics import score_numpy\n",
    "%matplotlib inline\n"
   ]
  },
  {
   "cell_type": "markdown",
   "id": "2fbefe7e-9217-4b0e-8d8d-7b690038a69f",
   "metadata": {},
   "source": [
    "# Export Models"
   ]
  },
  {
   "cell_type": "code",
   "execution_count": null,
   "id": "0606cef9-2299-44af-bf31-c0efe46ad739",
   "metadata": {},
   "outputs": [],
   "source": [
    "!ls -lt ../logdirs/ | head -20"
   ]
  },
  {
   "cell_type": "code",
   "execution_count": null,
   "id": "f7c8b749-45d8-4985-9649-96c42d7514c2",
   "metadata": {},
   "outputs": [],
   "source": [
    "bird2id_source = load_json(\"/home/vova/data/exps/birdclef_2024/class_mappings/bird2int_2024_PrevComp.json\")\n",
    "bird2id_target = load_json(\"/home/vova/data/exps/birdclef_2024/class_mappings/bird2int_2024.json\")\n",
    "\n",
    "id2bird_source = {v:k for k,v in bird2id_source.items()}\n",
    "id2bird_target = {v:k for k,v in bird2id_target.items()}\n",
    "\n",
    "REARRANGE_INDICES = np.array([\n",
    "    bird2id_source[id2bird_target[i]] for i in range(len(id2bird_target))\n",
    "]).astype(int)\n",
    "\n",
    "MODEL_CLASS = WaveCNNAttenClasifier\n",
    "TRAIN_PERIOD = 5\n",
    "STRICT_LOAD = False\n",
    "\n",
    "def prune_checkpoint_rule(inp_chkp):\n",
    "    inp_chkp[\"head.attention.weight\"] = inp_chkp[\"head.attention.weight\"][REARRANGE_INDICES]\n",
    "    inp_chkp[\"head.attention.bias\"] = inp_chkp[\"head.attention.bias\"][REARRANGE_INDICES]\n",
    "    \n",
    "    inp_chkp[\"head.fix_scale.weight\"] = inp_chkp[\"head.fix_scale.weight\"][REARRANGE_INDICES]\n",
    "    inp_chkp[\"head.fix_scale.bias\"] = inp_chkp[\"head.fix_scale.bias\"][REARRANGE_INDICES]\n",
    "\n",
    "    return inp_chkp"
   ]
  },
  {
   "cell_type": "code",
   "execution_count": null,
   "id": "1293b406-e4dd-41db-82a4-6c40cc78f3a8",
   "metadata": {},
   "outputs": [],
   "source": [
    "# EXP_NAME = \"eca_nfnet_l0_Exp_noamp_64bs_5sec_PrevCompXCScoredDataNoSecLab_BackGroundSoundScapeP05_mixupP05_RandomFiltering_balancedSampler_Adamlr1e3_TailCosBatchLR1e6_Epoch40_SpecAugV1_FocalLoss_DPR02_Full_NoDuplsV1\"\n",
    "# TRAIN_PERIOD = 5\n",
    "# print(\"Possible checkpoints:\\n\\n{}\".format(\"\\n\".join(set([os.path.basename(el) for el in glob(f\"../logdirs/{EXP_NAME}/checkpoints/*.ckpt\") if \"train\" not in os.path.basename(el)]))))"
   ]
  },
  {
   "cell_type": "code",
   "execution_count": null,
   "id": "5663cbb4-ee61-456a-bbaa-ae7781f4d4a9",
   "metadata": {
    "tags": []
   },
   "outputs": [],
   "source": [
    "# conf_path = glob(f\"../logdirs/{EXP_NAME}/code/*train_configs*.py\")\n",
    "# assert len(conf_path) == 1\n",
    "# conf_path = conf_path[0]\n",
    "# !cat {conf_path}"
   ]
  },
  {
   "cell_type": "code",
   "execution_count": null,
   "id": "46147957-77dc-44bf-928e-0fd92762a44a",
   "metadata": {},
   "outputs": [],
   "source": [
    "MODELS = [\n",
    "    {\n",
    "        \"model_config\": dict(\n",
    "            backbone=\"convnextv2_tiny.fcmae_ft_in22k_in1k_384\",\n",
    "            mel_spec_paramms={\n",
    "                \"sample_rate\": 32000,\n",
    "                \"n_mels\": 128,\n",
    "                \"f_min\": 20,\n",
    "                \"n_fft\": 2048,\n",
    "                \"hop_length\": 512,\n",
    "                \"normalized\": True,\n",
    "            },\n",
    "            head_config={\n",
    "                \"p\": 0.5,\n",
    "                \"num_class\": 188,\n",
    "                \"train_period\": TRAIN_PERIOD,\n",
    "                \"infer_period\": TRAIN_PERIOD,\n",
    "                \"output_type\": \"clipwise_pred_long\",\n",
    "                # \"output_type\": \"clipwise_logits_long\"\n",
    "            },\n",
    "            exportable=True,\n",
    "        ),\n",
    "        \"exp_name\": \"convnextv2_tiny_fcmae_ft_in22k_in1k_384_Exp_noamp_64bs_5sec_PrevCompXCScoredDataNoSecLab_BackGroundSoundScapeP05_mixupP05_RandomFiltering_balancedSampler_Adamlr1e4_TailCosBatchLR1e6_Epoch30_FocalLoss_Full_NoDuplsV1\",\n",
    "        \"fold\": None,\n",
    "        \"chkp_name\":\"last.ckpt\",\n",
    "        \"swa_checkpoint_regex\": None, #r'(?P<key>\\w+)=(?P<value>[\\d.]+)(?=\\.ckpt|$)',\n",
    "        \"use_sigmoid\": True,\n",
    "        \"swa_sort_rule\": lambda x: -float(x[\"valid_tresh01_dice3d\"]),\n",
    "        \"delete_prefix\": \"model.\",\n",
    "        \"n_swa_models\": 3,\n",
    "        \"model_output_key\": None,\n",
    "        # \"prune_checkpoint_func\": prune_checkpoint_rule\n",
    "    },\n",
    "    {\n",
    "        \"model_config\": dict(\n",
    "            backbone=\"convnextv2_tiny.fcmae_ft_in22k_in1k_384\",\n",
    "            mel_spec_paramms={\n",
    "                \"sample_rate\": 32000,\n",
    "                \"n_mels\": 128,\n",
    "                \"f_min\": 20,\n",
    "                \"n_fft\": 2048,\n",
    "                \"hop_length\": 512,\n",
    "                \"normalized\": True,\n",
    "            },\n",
    "            spec_augment_config={\n",
    "                \"freq_mask\": {\n",
    "                    \"mask_max_length\": 10,\n",
    "                    \"mask_max_masks\": 3,\n",
    "                    \"p\": 0.3,\n",
    "                    \"inplace\": True,\n",
    "                },\n",
    "                \"time_mask\": {\n",
    "                    \"mask_max_length\": 20,\n",
    "                    \"mask_max_masks\": 3,\n",
    "                    \"p\": 0.3,\n",
    "                    \"inplace\": True,\n",
    "                },\n",
    "            },\n",
    "            head_config={\n",
    "                \"p\": 0.5,\n",
    "                \"num_class\": 188,\n",
    "                \"train_period\": TRAIN_PERIOD,\n",
    "                \"infer_period\": TRAIN_PERIOD,\n",
    "                \"output_type\": \"clipwise_pred_long\",\n",
    "                # \"output_type\": \"clipwise_logits_long\"\n",
    "            },\n",
    "            exportable=True,\n",
    "        ),\n",
    "        \"exp_name\": \"convnext_small_fb_in22k_ft_in1k_384_Exp_noamp_64bs_5sec_PrevCompXCScoredDataNoSecLab_BackGroundSoundScapeP05_mixupP05_RandomFiltering_balancedSampler_Adamlr1e4_TailCosBatchLR1e6_Epoch40_SpecAugV1_FocalLoss_Full_NoDuplsV1\",\n",
    "        \"fold\": None,\n",
    "        \"chkp_name\":\"last.ckpt\",\n",
    "        \"swa_checkpoint_regex\": None, #r'(?P<key>\\w+)=(?P<value>[\\d.]+)(?=\\.ckpt|$)',\n",
    "        \"use_sigmoid\": True,\n",
    "        \"swa_sort_rule\": lambda x: -float(x[\"valid_tresh01_dice3d\"]),\n",
    "        \"delete_prefix\": \"model.\",\n",
    "        \"n_swa_models\": 3,\n",
    "        \"model_output_key\": None,\n",
    "        # \"prune_checkpoint_func\": prune_checkpoint_rule\n",
    "    },\n",
    "    {\n",
    "        \"model_config\": dict(\n",
    "            backbone=\"eca_nfnet_l0\",\n",
    "            add_backbone_config={\"drop_path_rate\": 0.2},\n",
    "            mel_spec_paramms={\n",
    "                \"sample_rate\": 32000,\n",
    "                \"n_mels\": 128,\n",
    "                \"f_min\": 20,\n",
    "                \"n_fft\": 2048,\n",
    "                \"hop_length\": 512,\n",
    "                \"normalized\": True,\n",
    "            },\n",
    "            spec_augment_config={\n",
    "                \"freq_mask\": {\n",
    "                    \"mask_max_length\": 10,\n",
    "                    \"mask_max_masks\": 3,\n",
    "                    \"p\": 0.3,\n",
    "                    \"inplace\": True,\n",
    "                },\n",
    "                \"time_mask\": {\n",
    "                    \"mask_max_length\": 20,\n",
    "                    \"mask_max_masks\": 3,\n",
    "                    \"p\": 0.3,\n",
    "                    \"inplace\": True,\n",
    "                },\n",
    "            },\n",
    "            head_config={\n",
    "                \"p\": 0.5,\n",
    "                \"num_class\": 188,\n",
    "                \"train_period\": TRAIN_PERIOD,\n",
    "                \"infer_period\": TRAIN_PERIOD,\n",
    "                \"output_type\": \"clipwise_pred_long\",\n",
    "                # \"output_type\": \"clipwise_logits_long\"\n",
    "            },\n",
    "            exportable=True,\n",
    "        ),\n",
    "        \"exp_name\": \"eca_nfnet_l0_Exp_noamp_64bs_5sec_PrevCompXCScoredDataNoSecLab_BackGroundSoundScapeP05_mixupP05_RandomFiltering_balancedSampler_Adamlr1e3_TailCosBatchLR1e6_Epoch40_SpecAugV1_FocalLoss_DPR02_Full_NoDuplsV1\",\n",
    "        \"fold\": None,\n",
    "        \"chkp_name\":\"last.ckpt\",\n",
    "        \"swa_checkpoint_regex\": None, #r'(?P<key>\\w+)=(?P<value>[\\d.]+)(?=\\.ckpt|$)',\n",
    "        \"use_sigmoid\": True,\n",
    "        \"swa_sort_rule\": lambda x: -float(x[\"valid_tresh01_dice3d\"]),\n",
    "        \"delete_prefix\": \"model.\",\n",
    "        \"n_swa_models\": 3,\n",
    "        \"model_output_key\": None,\n",
    "        # \"prune_checkpoint_func\": prune_checkpoint_rule\n",
    "    },\n",
    "]\n",
    "\n",
    "INFERENCE_CONFIG = {\n",
    "    # Inference Class\n",
    "    \"use_sigmoid\": False,\n",
    "    # Data\n",
    "    \"test_data_root\":\"/home/vova/data/exps/birdclef_2024/birdclef_2024/unlabeled_soundscapes/*.ogg\",\n",
    "    \"label_map_data_path\": \"/home/vova/data/exps/birdclef_2024/class_mappings/bird2int_2024.json\",\n",
    "    \"scored_birds_path\":\"/home/vova/data/exps/birdclef_2024/scored_birds/sb_2024.json\", \n",
    "    \"lookback\":None,\n",
    "    \"lookahead\":None,\n",
    "    \"segment_len\":5,\n",
    "    \"step\": None,\n",
    "    \"late_normalize\": True,\n",
    "\n",
    "    \"model_output_key\": None,\n",
    "}"
   ]
  },
  {
   "cell_type": "code",
   "execution_count": null,
   "id": "a3cba2c8-e51d-49f0-8045-5c1ed7739b88",
   "metadata": {},
   "outputs": [],
   "source": [
    "def create_model_and_upload_chkp(\n",
    "    model_class,\n",
    "    model_config,\n",
    "    model_device,\n",
    "    model_chkp_root,\n",
    "    model_chkp_basename=None,\n",
    "    model_chkp_regex=None,\n",
    "    delete_prefix=None,\n",
    "    swa_sort_rule=None,\n",
    "    n_swa_to_take=3,\n",
    "    prune_checkpoint_func=None\n",
    "):\n",
    "    if model_chkp_basename is None:\n",
    "        basenames = os.listdir(model_chkp_root)\n",
    "        checkpoints = []\n",
    "        for el in basenames:\n",
    "            matches = re.findall(model_chkp_regex, el)\n",
    "            if not matches:\n",
    "                continue\n",
    "            parsed_dict = {key: value for key, value in matches}\n",
    "            parsed_dict[\"name\"] = el\n",
    "            checkpoints.append(parsed_dict)\n",
    "        print(\"SWA checkpoints\")\n",
    "        pprint(checkpoints)\n",
    "        checkpoints = sorted(checkpoints, key=swa_sort_rule)\n",
    "        checkpoints = checkpoints[:n_swa_to_take]\n",
    "        print(\"SWA sorted checkpoints\")\n",
    "        pprint(checkpoints)\n",
    "        if len(checkpoints) > 1:\n",
    "            checkpoints = [\n",
    "                torch.load(os.path.join(model_chkp_root, el[\"name\"]), map_location=\"cpu\")[\"state_dict\"] for el in checkpoints\n",
    "            ]\n",
    "            t_chkp = avarage_weights(\n",
    "                nn_weights=checkpoints,\n",
    "                delete_prefix=delete_prefix\n",
    "            )\n",
    "        else:\n",
    "            chkp_path = os.path.join(model_chkp_root, checkpoints[0][\"name\"])\n",
    "            print(\"vanilla model\")\n",
    "            print(\"Loading\", chkp_path)\n",
    "            t_chkp = torch.load(\n",
    "                chkp_path, \n",
    "                map_location=\"cpu\"\n",
    "            )[\"state_dict\"]\n",
    "            if delete_prefix is not None:\n",
    "                t_chkp = delete_prefix_from_chkp(t_chkp, delete_prefix)\n",
    "    else:\n",
    "        chkp_path = os.path.join(model_chkp_root, model_chkp_basename)\n",
    "        print(\"vanilla model\")\n",
    "        print(\"Loading\", chkp_path)\n",
    "        t_chkp = torch.load(\n",
    "            chkp_path, \n",
    "            map_location=\"cpu\"\n",
    "        )[\"state_dict\"]\n",
    "        if delete_prefix is not None:\n",
    "            t_chkp = delete_prefix_from_chkp(t_chkp, delete_prefix)\n",
    "\n",
    "    if prune_checkpoint_func is not None:\n",
    "        t_chkp = prune_checkpoint_func(t_chkp)\n",
    "    t_model = model_class(**model_config, device=model_device) \n",
    "    print(\"Missing keys: \", set(t_model.state_dict().keys()) - set(t_chkp))\n",
    "    print(\"Extra keys: \",  set(t_chkp) - set(t_model.state_dict().keys()))\n",
    "    t_model.load_state_dict(t_chkp, strict=False)\n",
    "    t_model.eval()\n",
    "    return t_model"
   ]
  },
  {
   "cell_type": "code",
   "execution_count": null,
   "id": "e06e3d64-a7af-44cf-9265-3f187a1eaf14",
   "metadata": {},
   "outputs": [],
   "source": [
    "model = [create_model_and_upload_chkp(\n",
    "    model_class=MODEL_CLASS,\n",
    "    model_config=model_config['model_config'],\n",
    "    model_device=\"cuda\",\n",
    "    model_chkp_root=f\"../logdirs/{model_config['exp_name']}/checkpoints\",\n",
    "    model_chkp_basename=model_config[\"chkp_name\"] if model_config[\"swa_checkpoint_regex\"] is None else None,\n",
    "    model_chkp_regex=model_config.get(\"swa_checkpoint_regex\"),\n",
    "    swa_sort_rule=model_config.get(\"swa_sort_rule\"),\n",
    "    n_swa_to_take=model_config.get(\"n_swa_models\", 3),\n",
    "    delete_prefix=model_config.get(\"delete_prefix\"),\n",
    "    prune_checkpoint_func=model_config.get(\"prune_checkpoint_func\")\n",
    ") for model_config in MODELS]"
   ]
  },
  {
   "cell_type": "code",
   "execution_count": null,
   "id": "8b55d91d-add0-4173-91af-b3ce17923e6b",
   "metadata": {},
   "outputs": [],
   "source": [
    "len(model)"
   ]
  },
  {
   "cell_type": "markdown",
   "id": "7459893e-97cc-4dc6-8e32-12818ce431cc",
   "metadata": {},
   "source": [
    "# Prepare Data"
   ]
  },
  {
   "cell_type": "code",
   "execution_count": null,
   "id": "ebe4ee6f-0773-4708-9491-a45e60575aaa",
   "metadata": {},
   "outputs": [],
   "source": [
    "bird2id = load_json(INFERENCE_CONFIG[\"label_map_data_path\"])\n",
    "\n",
    "test_au_pathes = glob(INFERENCE_CONFIG[\"test_data_root\"])#[:100]\n",
    "\n",
    "test_df = pd.DataFrame({\n",
    "    \"filename\": test_au_pathes,\n",
    "    \"duration_s\": [librosa.get_duration(filename=el) for el in tqdm(test_au_pathes)]\n",
    "})"
   ]
  },
  {
   "cell_type": "code",
   "execution_count": null,
   "id": "0146265e-3f2e-42af-9283-48a9fa565fc8",
   "metadata": {},
   "outputs": [],
   "source": [
    "ds_config_test = {\n",
    "   \"root\": \"\",\n",
    "   \"label_str2int_mapping_path\": INFERENCE_CONFIG[\"label_map_data_path\"],\n",
    "   \"n_cores\": 64,\n",
    "   \"use_audio_cache\": True,\n",
    "   \"test_mode\": True,\n",
    "   \"segment_len\": INFERENCE_CONFIG[\"segment_len\"],\n",
    "   \"lookback\":INFERENCE_CONFIG[\"lookback\"],\n",
    "   \"lookahead\":INFERENCE_CONFIG[\"lookahead\"],\n",
    "    \"sample_id\": None,\n",
    "    \"late_normalize\": INFERENCE_CONFIG[\"late_normalize\"],\n",
    "    \"step\": INFERENCE_CONFIG[\"step\"],\n",
    "    \"validate_sr\": 32_000,\n",
    "    \"verbose\": False\n",
    "}\n",
    "loader_config = {\n",
    "    \"batch_size\": 64,\n",
    "    \"drop_last\": False,\n",
    "    \"shuffle\": False,\n",
    "    \"num_workers\": 0,\n",
    "}"
   ]
  },
  {
   "cell_type": "code",
   "execution_count": null,
   "id": "be6697df-3a57-4608-92af-c00958489cc5",
   "metadata": {},
   "outputs": [],
   "source": [
    "ds_test = WaveAllFileDataset(df=test_df, **ds_config_test)\n",
    "loader_test = torch.utils.data.DataLoader(\n",
    "    ds_test,\n",
    "    **loader_config,\n",
    ")"
   ]
  },
  {
   "cell_type": "markdown",
   "id": "59856748-0694-4fc5-86da-6dd665137818",
   "metadata": {},
   "source": [
    "# Ineference Class"
   ]
  },
  {
   "cell_type": "code",
   "execution_count": null,
   "id": "043cadf6-cec1-4307-93f0-438904bcf59c",
   "metadata": {},
   "outputs": [],
   "source": [
    "inference_class = BirdsInference(\n",
    "    device=\"cuda\",\n",
    "    verbose_tqdm=True,\n",
    "    use_sigmoid=INFERENCE_CONFIG[\"use_sigmoid\"],\n",
    "    model_output_key=INFERENCE_CONFIG[\"model_output_key\"],\n",
    ")"
   ]
  },
  {
   "cell_type": "markdown",
   "id": "066886ba-3aae-4f2a-97cf-deaf9247c817",
   "metadata": {},
   "source": [
    "# Prediction"
   ]
  },
  {
   "cell_type": "code",
   "execution_count": null,
   "id": "c7819619-714b-4269-b9cb-2580a689f440",
   "metadata": {},
   "outputs": [],
   "source": [
    "test_preds, test_dfidx, test_end = inference_class.predict_test_loader(\n",
    "    nn_models=model,\n",
    "    data_loader=loader_test\n",
    ")\n",
    "test_pred_df = compose_submission_dataframe(\n",
    "    probs=test_preds,\n",
    "    dfidxs=test_dfidx,\n",
    "    end_seconds=test_end,\n",
    "    filenames=loader_test.dataset.df[loader_test.dataset.name_col].copy(),\n",
    "    bird2id=bird2id\n",
    ")"
   ]
  },
  {
   "cell_type": "code",
   "execution_count": null,
   "id": "33fc8723-1432-42ee-963a-98b25b97d881",
   "metadata": {},
   "outputs": [],
   "source": [
    "plt.title(\"Most 'Probable' class probability distribution\")\n",
    "plt.hist(test_preds.max(axis=1), bins=30)\n",
    "plt.show()\n",
    "\n",
    "print(\n",
    "    \"Max Prob: \", test_preds.max(), \n",
    "    \"Min Prob: \", test_preds.min(),\n",
    "    \"Median Prob: \", np.median(test_preds)\n",
    ")"
   ]
  },
  {
   "cell_type": "code",
   "execution_count": null,
   "id": "f34911e9-3c19-438f-b595-b8fe79bb1e08",
   "metadata": {},
   "outputs": [],
   "source": [
    "test_pred_df"
   ]
  },
  {
   "cell_type": "code",
   "execution_count": null,
   "id": "3434b3dc-da42-457a-92f9-8fc6aa74338f",
   "metadata": {},
   "outputs": [],
   "source": [
    "test_pred_df.to_csv(\n",
    "    \"../pseudo/v1/prod_df.csv\", index=False\n",
    ")"
   ]
  },
  {
   "cell_type": "markdown",
   "id": "19cf07b9-96f8-495c-8141-83606c3bec57",
   "metadata": {},
   "source": [
    "# Prepare Ready2Use DF"
   ]
  },
  {
   "cell_type": "code",
   "execution_count": null,
   "id": "3b9eb44f-fb08-4a41-acf3-4e6f43e471ab",
   "metadata": {},
   "outputs": [],
   "source": [
    "CLASSES = test_pred_df.columns[1:].to_list()"
   ]
  },
  {
   "cell_type": "code",
   "execution_count": null,
   "id": "f684eabf-637c-448f-b972-96e4508070dc",
   "metadata": {},
   "outputs": [],
   "source": [
    "def get_aranged_classes(probs, ordered_classes, tresh):\n",
    "    probs = probs.values\n",
    "    accepted_classes_idx = np.where(probs > tresh)[0]\n",
    "    if len(accepted_classes_idx) == 0:\n",
    "        return []\n",
    "    elif len(accepted_classes_idx) == 1:\n",
    "        return [ordered_classes[accepted_classes_idx[0]]]\n",
    "    else:\n",
    "        accepted_classes_names_and_probs = [\n",
    "            (ordered_classes[idx], probs[idx]) for idx in accepted_classes_idx\n",
    "        ]\n",
    "        accepted_classes_names_and_probs = sorted(\n",
    "            accepted_classes_names_and_probs,\n",
    "            key=lambda x: -x[1]\n",
    "        )\n",
    "        return [el[0] for el in accepted_classes_names_and_probs]"
   ]
  },
  {
   "cell_type": "markdown",
   "id": "3198cc37-8dc5-4e0e-9989-7bcde43a5804",
   "metadata": {},
   "source": [
    "## V1.1"
   ]
  },
  {
   "cell_type": "code",
   "execution_count": null,
   "id": "1adb5a33-d44e-491b-a0d2-33e22f1ba0cd",
   "metadata": {},
   "outputs": [],
   "source": [
    "test_pred_df[\"all_labels\"] = test_pred_df[CLASSES].apply(lambda row: get_aranged_classes(row, ordered_classes=CLASSES, tresh=0.7), axis=1)"
   ]
  },
  {
   "cell_type": "code",
   "execution_count": null,
   "id": "57bbf461-6a69-4720-87c3-8c4088d246e3",
   "metadata": {},
   "outputs": [],
   "source": [
    "test_pred_df[\"primary_label\"] = test_pred_df[\"all_labels\"].apply(lambda x: x[0] if len(x) > 0 else None)\n",
    "test_pred_df[\"secondary_labels\"] = test_pred_df[\"all_labels\"].apply(lambda x: x[1:])"
   ]
  },
  {
   "cell_type": "code",
   "execution_count": null,
   "id": "97bf677a-6d29-434b-ba0d-f3825669ea12",
   "metadata": {},
   "outputs": [],
   "source": [
    "test_pred_df[\"filename\"] = test_pred_df[\"row_id\"].apply(lambda x: x.split(\"_\")[0] + \".ogg\")"
   ]
  },
  {
   "cell_type": "code",
   "execution_count": null,
   "id": "2046b0a7-fd47-48b3-b7d4-ff45ad41bc2e",
   "metadata": {},
   "outputs": [],
   "source": [
    "test_pred_df"
   ]
  },
  {
   "cell_type": "code",
   "execution_count": null,
   "id": "79d8eb83-d098-4bff-a495-e5d49dc8d3ba",
   "metadata": {},
   "outputs": [],
   "source": [
    "positive_test_pred_df = test_pred_df[~test_pred_df[\"primary_label\"].isna()].reset_index(drop=True)"
   ]
  },
  {
   "cell_type": "code",
   "execution_count": null,
   "id": "9dfbaddf-4c6e-42e9-8afa-55d3f1d9b9b1",
   "metadata": {},
   "outputs": [],
   "source": [
    "positive_test_pred_df = positive_test_pred_df[[\n",
    "    \"row_id\", \"all_labels\", \"primary_label\", \"secondary_labels\", \"filename\"\n",
    "]]"
   ]
  },
  {
   "cell_type": "code",
   "execution_count": null,
   "id": "784b837f-0126-4a6f-9e4a-ef1d4a773af6",
   "metadata": {},
   "outputs": [],
   "source": [
    "positive_test_pred_df[\"stratify_col\"] = positive_test_pred_df[\"primary_label\"] + \"_soundscapes\""
   ]
  },
  {
   "cell_type": "code",
   "execution_count": null,
   "id": "7bb30b7b-3830-4069-8a56-95bcca3c2625",
   "metadata": {},
   "outputs": [],
   "source": [
    "positive_test_pred_df"
   ]
  },
  {
   "cell_type": "code",
   "execution_count": null,
   "id": "e5e697af-c6cf-4690-b2a9-32ed94a557ba",
   "metadata": {},
   "outputs": [],
   "source": [
    "positive_test_pred_df.to_csv(\n",
    "    \"../pseudo/v1/positive_filtered_07.csv\",\n",
    "    index=False\n",
    ")"
   ]
  },
  {
   "cell_type": "code",
   "execution_count": null,
   "id": "89dcf865-647b-4d07-999a-bd3ef4802d28",
   "metadata": {},
   "outputs": [],
   "source": [
    "positive_test_pred_df[\"stratify_col\"] = positive_test_pred_df[\"stratify_col\"].apply(lambda x: x.split(\"_\")[0])"
   ]
  },
  {
   "cell_type": "code",
   "execution_count": null,
   "id": "441dd027-066d-44af-8d0a-71312f34e84d",
   "metadata": {},
   "outputs": [],
   "source": [
    "positive_test_pred_df.to_csv(\n",
    "    \"../pseudo/v1/positive_filtered_07_stratifyV2.csv\",\n",
    "    index=False\n",
    ")"
   ]
  },
  {
   "cell_type": "code",
   "execution_count": null,
   "id": "72718236-6a55-42fb-95fc-a1dbe2c7dedd",
   "metadata": {},
   "outputs": [],
   "source": []
  }
 ],
 "metadata": {
  "kernelspec": {
   "display_name": "Python 3 (ipykernel)",
   "language": "python",
   "name": "python3"
  },
  "language_info": {
   "codemirror_mode": {
    "name": "ipython",
    "version": 3
   },
   "file_extension": ".py",
   "mimetype": "text/x-python",
   "name": "python",
   "nbconvert_exporter": "python",
   "pygments_lexer": "ipython3",
   "version": "3.11.6"
  }
 },
 "nbformat": 4,
 "nbformat_minor": 5
}
