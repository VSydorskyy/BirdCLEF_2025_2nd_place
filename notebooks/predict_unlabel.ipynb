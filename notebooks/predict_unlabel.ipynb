{
 "cells": [
  {
   "cell_type": "code",
   "execution_count": null,
   "id": "21ac3599-7795-418b-8c0f-9cb6e8b23f3a",
   "metadata": {},
   "outputs": [],
   "source": [
    "!nvidia-smi"
   ]
  },
  {
   "cell_type": "code",
   "execution_count": null,
   "id": "de71ce59-eafd-40f7-aacf-cb2b6c0f914a",
   "metadata": {},
   "outputs": [],
   "source": [
    "%load_ext autoreload\n",
    "%autoreload 2\n",
    "\n",
    "import os\n",
    "os.environ[\"CUDA_VISIBLE_DEVICES\"]=\"1\"\n",
    "\n",
    "import pandas as pd\n",
    "import numpy as np\n",
    "import librosa\n",
    "import seaborn as sns\n",
    "import os\n",
    "import json\n",
    "import IPython.display as ipd\n",
    "import soundfile as sf\n",
    "import torch\n",
    "import h5py\n",
    "import onnxruntime as ort\n",
    "import openvino as ov\n",
    "import re\n",
    "\n",
    "from glob import glob\n",
    "from tqdm import tqdm\n",
    "from matplotlib import pyplot as plt\n",
    "from itertools import chain\n",
    "from os.path import join as pjoin\n",
    "from torchaudio.transforms import AmplitudeToDB, MelSpectrogram\n",
    "from copy import deepcopy\n",
    "from pprint import pprint\n",
    "from sklearn.model_selection import StratifiedGroupKFold\n",
    "\n",
    "# from code_base.utils import parallel_librosa_load, groupby_np_array, stack_and_max_by_samples, macro_f1_similarity, N_CLASSES_2021_2022, N_CLASSES_2021, comp_metric, N_CLASSES_XC_LIGIT_SHORTEN, N_CLASSES_XC_LIGIT_EVEN_SHORTEN\n",
    "# from code_base.utils.constants import SAMPLE_RATE\n",
    "from code_base.utils.onnx_utils import ONNXEnsemble, convert_to_onnx\n",
    "from code_base.models import WaveCNNClasifier, WaveCNNAttenClasifier\n",
    "from code_base.datasets import WaveDataset, WaveAllFileDataset\n",
    "from code_base.utils.swa import avarage_weights, delete_prefix_from_chkp\n",
    "from code_base.inefernce import BirdsInference\n",
    "from code_base.utils import load_json, compose_submission_dataframe, groupby_np_array, stack_and_max_by_samples, write_json\n",
    "from code_base.utils.metrics import score_numpy\n",
    "%matplotlib inline\n"
   ]
  },
  {
   "cell_type": "markdown",
   "id": "2fbefe7e-9217-4b0e-8d8d-7b690038a69f",
   "metadata": {},
   "source": [
    "# Export Models"
   ]
  },
  {
   "cell_type": "code",
   "execution_count": null,
   "id": "0606cef9-2299-44af-bf31-c0efe46ad739",
   "metadata": {},
   "outputs": [],
   "source": [
    "!ls -lt ../logdirs/ | head -20"
   ]
  },
  {
   "cell_type": "code",
   "execution_count": null,
   "id": "f7c8b749-45d8-4985-9649-96c42d7514c2",
   "metadata": {},
   "outputs": [],
   "source": [
    "# bird2id_source = load_json(\"/home/vova/data/exps/birdclef_2024/class_mappings/bird2int_2024_PrevComp.json\")\n",
    "# bird2id_target = load_json(\"/home/vova/data/exps/birdclef_2024/class_mappings/bird2int_2024.json\")\n",
    "\n",
    "# id2bird_source = {v:k for k,v in bird2id_source.items()}\n",
    "# id2bird_target = {v:k for k,v in bird2id_target.items()}\n",
    "\n",
    "# REARRANGE_INDICES = np.array([\n",
    "#     bird2id_source[id2bird_target[i]] for i in range(len(id2bird_target))\n",
    "# ]).astype(int)\n",
    "\n",
    "# STRICT_LOAD = False\n",
    "\n",
    "# def prune_checkpoint_rule(inp_chkp):\n",
    "#     inp_chkp[\"head.attention.weight\"] = inp_chkp[\"head.attention.weight\"][REARRANGE_INDICES]\n",
    "#     inp_chkp[\"head.attention.bias\"] = inp_chkp[\"head.attention.bias\"][REARRANGE_INDICES]\n",
    "    \n",
    "#     inp_chkp[\"head.fix_scale.weight\"] = inp_chkp[\"head.fix_scale.weight\"][REARRANGE_INDICES]\n",
    "#     inp_chkp[\"head.fix_scale.bias\"] = inp_chkp[\"head.fix_scale.bias\"][REARRANGE_INDICES]\n",
    "\n",
    "#     return inp_chkp"
   ]
  },
  {
   "cell_type": "code",
   "execution_count": null,
   "id": "1293b406-e4dd-41db-82a4-6c40cc78f3a8",
   "metadata": {},
   "outputs": [],
   "source": [
    "# EXP_NAME = \"eca_nfnet_l0_Exp_noamp_64bs_5sec_PrevCompXCScoredDataNoSecLab_BackGroundSoundScapeP05_mixupP05_RandomFiltering_balancedSampler_Adamlr1e3_TailCosBatchLR1e6_Epoch40_SpecAugV1_FocalLoss_DPR02_Full_NoDuplsV1\"\n",
    "# TRAIN_PERIOD = 5\n",
    "# print(\"Possible checkpoints:\\n\\n{}\".format(\"\\n\".join(set([os.path.basename(el) for el in glob(f\"../logdirs/{EXP_NAME}/checkpoints/*.ckpt\") if \"train\" not in os.path.basename(el)]))))"
   ]
  },
  {
   "cell_type": "code",
   "execution_count": null,
   "id": "5663cbb4-ee61-456a-bbaa-ae7781f4d4a9",
   "metadata": {
    "tags": []
   },
   "outputs": [],
   "source": [
    "EXP_NAME = \"eca_nfnet_l0_Exp_noamp_64bs_5sec_mixupP05_RandomFiltering_SqrtBalancing_Radamlr1e3_CosBatchLR1e6_Epoch50_BackGroundSoundScapeORESC50P05_SpecAugV1_FocalBCELoss_LSF1005_5Folds_ScoredPrevCompsAndXCsnipet28032025_FromV2Y2025Last_PseudoF2PT05MT01P04I1OOF\"\n",
    "POSTFIX = \"\"\n",
    "conf_path = glob(f\"../logdirs/{EXP_NAME}/code/*train_configs*.py\")\n",
    "assert len(conf_path) == 1\n",
    "conf_path = conf_path[0]\n",
    "!cat {conf_path}"
   ]
  },
  {
   "cell_type": "code",
   "execution_count": null,
   "id": "db90b479-c4c3-4594-8348-5dc22a430b8a",
   "metadata": {},
   "outputs": [],
   "source": [
    "MODEL_CLASS = WaveCNNAttenClasifier\n",
    "TRAIN_PERIOD = 5"
   ]
  },
  {
   "cell_type": "code",
   "execution_count": null,
   "id": "46147957-77dc-44bf-928e-0fd92762a44a",
   "metadata": {},
   "outputs": [],
   "source": [
    "MODELS = [\n",
    "    {\n",
    "        \"model_config\": dict(\n",
    "            backbone=\"eca_nfnet_l0\",\n",
    "            mel_spec_paramms={\n",
    "                \"sample_rate\": 32000,\n",
    "                \"n_mels\": 128,\n",
    "                \"f_min\": 20,\n",
    "                \"n_fft\": 2048,\n",
    "                \"hop_length\": 512,\n",
    "                \"normalized\": True,\n",
    "            },\n",
    "            head_config={\n",
    "                \"p\": 0.5,\n",
    "                \"num_class\": 206,\n",
    "                \"train_period\": TRAIN_PERIOD,\n",
    "                \"infer_period\": TRAIN_PERIOD,\n",
    "                \"output_type\": \"clipwise_pred_long\",\n",
    "            },\n",
    "            exportable=True,\n",
    "            fixed_amplitude_to_db=True\n",
    "        ),\n",
    "        \"exp_name\": \"eca_nfnet_l0_Exp_noamp_64bs_5sec_mixupP05_RandomFiltering_SqrtBalancing_Radamlr1e3_CosBatchLR1e6_Epoch50_BackGroundSoundScapeORESC50P05_SpecAugV1_FocalBCELoss_LSF1005_5Folds_ScoredPrevCompsAndXCsnipet28032025_FromV2Y2025Last_PseudoF2PT05MT01P04I1OOF\",\n",
    "        \"fold\": [0, 1, 2, 3, 4],\n",
    "        \"chkp_name\":\"last.ckpt\",\n",
    "        \"swa_checkpoint_regex\": r'(?P<key>\\w+)=(?P<value>[\\d.]+)(?=\\.ckpt|$)',\n",
    "        \"swa_sort_rule\": lambda x: -float(x[\"valid_roc_auc\"]),\n",
    "        \"delete_prefix\": \"model.\",\n",
    "        \"n_swa_models\": 1,\n",
    "        \"model_output_key\": None,\n",
    "    },\n",
    "    # {\n",
    "    #     \"model_config\": dict(\n",
    "    #         backbone=\"eca_nfnet_l0\",\n",
    "    #         mel_spec_paramms={\n",
    "    #             \"sample_rate\": 32000,\n",
    "    #             \"n_mels\": 128,\n",
    "    #             \"f_min\": 20,\n",
    "    #             \"n_fft\": 2048,\n",
    "    #             \"hop_length\": 512,\n",
    "    #             \"normalized\": True,\n",
    "    #         },\n",
    "    #         head_config={\n",
    "    #             \"p\": 0.5,\n",
    "    #             \"num_class\": 206,\n",
    "    #             \"train_period\": TRAIN_PERIOD,\n",
    "    #             \"infer_period\": TRAIN_PERIOD,\n",
    "    #             \"output_type\": \"clipwise_pred_long\",\n",
    "    #         },\n",
    "    #         exportable=True,\n",
    "    #         fixed_amplitude_to_db=True\n",
    "    #     ),\n",
    "    #     \"exp_name\": \"eca_nfnet_l0_Exp_noamp_64bs_5sec_mixupP05_RandomFiltering_SqrtBalancing_Radamlr1e3_CosBatchLR1e6_Epoch50_BackGroundSoundScapeORESC50P05_SpecAugV1_FocalBCELoss_5Folds_ScoredPrevCompsAndXCsnipet28032025_FromPreca4_CurV1\",\n",
    "    #     \"fold\": [0, 1, 2, 3, 4],\n",
    "    #     \"chkp_name\":\"last.ckpt\",\n",
    "    #     \"swa_checkpoint_regex\": r'(?P<key>\\w+)=(?P<value>[\\d.]+)(?=\\.ckpt|$)',\n",
    "    #     \"swa_sort_rule\": lambda x: -float(x[\"valid_roc_auc\"]),\n",
    "    #     \"delete_prefix\": \"model.\",\n",
    "    #     \"n_swa_models\": 1,\n",
    "    #     \"model_output_key\": None,\n",
    "    # },\n",
    "    # {\n",
    "    #     \"model_config\": dict(\n",
    "    #         backbone=\"eca_nfnet_l0\",\n",
    "    #         mel_spec_paramms={\n",
    "    #             \"sample_rate\": 32000,\n",
    "    #             \"n_mels\": 128,\n",
    "    #             \"f_min\": 20,\n",
    "    #             \"n_fft\": 2048,\n",
    "    #             \"hop_length\": 512,\n",
    "    #             \"normalized\": True,\n",
    "    #         },\n",
    "    #         head_config={\n",
    "    #             \"p\": 0.5,\n",
    "    #             \"num_class\": 206,\n",
    "    #             \"train_period\": TRAIN_PERIOD,\n",
    "    #             \"infer_period\": TRAIN_PERIOD,\n",
    "    #             \"output_type\": \"clipwise_pred_long\",\n",
    "    #         },\n",
    "    #         exportable=True,\n",
    "    #         fixed_amplitude_to_db=True\n",
    "    #     ),\n",
    "    #     \"exp_name\": \"eca_nfnet_l0_Exp_noamp_64bs_5sec_mixupP05_RandomFiltering_SqrtBalancing_Radamlr1e3_CosBatchLR1e6_Epoch50_BackGroundSoundScapeORESC50P05_SpecAugV1_FocalBCELoss_5Folds_ScoredPrevCompsAndXCsnipet28032025_FromPreca4\",\n",
    "    #     \"fold\": [0, 1, 2, 3, 4],\n",
    "    #     \"chkp_name\":\"last.ckpt\",\n",
    "    #     \"swa_checkpoint_regex\": r'(?P<key>\\w+)=(?P<value>[\\d.]+)(?=\\.ckpt|$)',\n",
    "    #     \"swa_sort_rule\": lambda x: -float(x[\"valid_roc_auc\"]),\n",
    "    #     \"delete_prefix\": \"model.\",\n",
    "    #     \"n_swa_models\": 1,\n",
    "    #     \"model_output_key\": None,\n",
    "    # },\n",
    "    # {\n",
    "    #     \"model_config\": dict(\n",
    "    #         backbone=\"eca_nfnet_l1\",\n",
    "    #         mel_spec_paramms={\n",
    "    #             \"sample_rate\": 32000,\n",
    "    #             \"n_mels\": 128,\n",
    "    #             \"f_min\": 20,\n",
    "    #             \"n_fft\": 2048,\n",
    "    #             \"hop_length\": 512,\n",
    "    #             \"normalized\": True,\n",
    "    #         },\n",
    "    #         head_config={\n",
    "    #             \"p\": 0.5,\n",
    "    #             \"num_class\": 206,\n",
    "    #             \"train_period\": TRAIN_PERIOD,\n",
    "    #             \"infer_period\": TRAIN_PERIOD,\n",
    "    #             \"output_type\": \"clipwise_pred_long\",\n",
    "    #         },\n",
    "    #         exportable=True,\n",
    "    #     ),\n",
    "    #     \"exp_name\": \"eca_nfnet_l1_Exp_DPR02_64bs_5sec_mixupP05_RandomFiltering_SqrtBalancing_Radamlr1e3_CosBatchLR1e6_Epoch50_BackGroundSoundScapeORESC50P05_SpecAugV1_FocalBCELoss_5Folds_ScoredPrevCompsAndXCsnipet28032025_FromV2Y2025Last\",\n",
    "    #     \"fold\": [0, 1, 2, 3, 4],\n",
    "    #     \"chkp_name\":\"last.ckpt\",\n",
    "    #     \"swa_checkpoint_regex\": r'(?P<key>\\w+)=(?P<value>[\\d.]+)(?=\\.ckpt|$)',\n",
    "    #     \"swa_sort_rule\": lambda x: -float(x[\"valid_roc_auc\"]),\n",
    "    #     \"delete_prefix\": \"model.\",\n",
    "    #     \"n_swa_models\": 1,\n",
    "    #     \"model_output_key\": None,\n",
    "    # },\n",
    "]\n",
    "\n",
    "INFERENCE_CONFIG = {\n",
    "    # Inference Class\n",
    "    \"use_sigmoid\": False,\n",
    "    # Data\n",
    "    \"test_data_root\":\"../data/train_audio_soundscapes/*.ogg\",\n",
    "    \"label_map_data_path\": \"../data/bird2int_2025.json\",\n",
    "    \"scored_birds_path\":\"../data/sb_2025.json\",  \n",
    "    \"lookback\":None,\n",
    "    \"lookahead\":None,\n",
    "    \"segment_len\":5,\n",
    "    \"step\": None,\n",
    "    \"late_normalize\": True,\n",
    "\n",
    "    \"model_output_key\": None,\n",
    "}"
   ]
  },
  {
   "cell_type": "code",
   "execution_count": null,
   "id": "a3cba2c8-e51d-49f0-8045-5c1ed7739b88",
   "metadata": {},
   "outputs": [],
   "source": [
    "def create_model_and_upload_chkp(\n",
    "    model_class,\n",
    "    model_config,\n",
    "    model_device,\n",
    "    model_chkp_root,\n",
    "    model_chkp_basename=None,\n",
    "    model_chkp_regex=None,\n",
    "    delete_prefix=None,\n",
    "    swa_sort_rule=None,\n",
    "    n_swa_to_take=3,\n",
    "    prune_checkpoint_func=None\n",
    "):\n",
    "    if model_chkp_basename is None:\n",
    "        basenames = os.listdir(model_chkp_root)\n",
    "        checkpoints = []\n",
    "        for el in basenames:\n",
    "            matches = re.findall(model_chkp_regex, el)\n",
    "            if not matches:\n",
    "                continue\n",
    "            parsed_dict = {key: value for key, value in matches}\n",
    "            parsed_dict[\"name\"] = el\n",
    "            checkpoints.append(parsed_dict)\n",
    "        print(\"SWA checkpoints\")\n",
    "        pprint(checkpoints)\n",
    "        checkpoints = sorted(checkpoints, key=swa_sort_rule)\n",
    "        checkpoints = checkpoints[:n_swa_to_take]\n",
    "        print(\"SWA sorted checkpoints\")\n",
    "        pprint(checkpoints)\n",
    "        if len(checkpoints) > 1:\n",
    "            checkpoints = [\n",
    "                torch.load(os.path.join(model_chkp_root, el[\"name\"]), map_location=\"cpu\")[\"state_dict\"] for el in checkpoints\n",
    "            ]\n",
    "            t_chkp = avarage_weights(\n",
    "                nn_weights=checkpoints,\n",
    "                delete_prefix=delete_prefix\n",
    "            )\n",
    "        else:\n",
    "            chkp_path = os.path.join(model_chkp_root, checkpoints[0][\"name\"])\n",
    "            print(\"vanilla model\")\n",
    "            print(\"Loading\", chkp_path)\n",
    "            t_chkp = torch.load(\n",
    "                chkp_path, \n",
    "                map_location=\"cpu\"\n",
    "            )[\"state_dict\"]\n",
    "            if delete_prefix is not None:\n",
    "                t_chkp = delete_prefix_from_chkp(t_chkp, delete_prefix)\n",
    "    else:\n",
    "        chkp_path = os.path.join(model_chkp_root, model_chkp_basename)\n",
    "        print(\"vanilla model\")\n",
    "        print(\"Loading\", chkp_path)\n",
    "        t_chkp = torch.load(\n",
    "            chkp_path, \n",
    "            map_location=\"cpu\"\n",
    "        )[\"state_dict\"]\n",
    "        if delete_prefix is not None:\n",
    "            t_chkp = delete_prefix_from_chkp(t_chkp, delete_prefix)\n",
    "\n",
    "    if prune_checkpoint_func is not None:\n",
    "        t_chkp = prune_checkpoint_func(t_chkp)\n",
    "    t_model = model_class(**model_config, device=model_device) \n",
    "    print(\"Missing keys: \", set(t_model.state_dict().keys()) - set(t_chkp))\n",
    "    print(\"Extra keys: \",  set(t_chkp) - set(t_model.state_dict().keys()))\n",
    "    t_model.load_state_dict(t_chkp, strict=False)\n",
    "    t_model.eval()\n",
    "    return t_model"
   ]
  },
  {
   "cell_type": "code",
   "execution_count": null,
   "id": "ed8b3caa-a688-4c88-b16b-e939c857d086",
   "metadata": {},
   "outputs": [],
   "source": [
    "model = []\n",
    "for model_config in MODELS:\n",
    "    if model_config[\"fold\"] is None:\n",
    "        model.append(create_model_and_upload_chkp(\n",
    "            model_class=MODEL_CLASS,\n",
    "            model_config=model_config['model_config'],\n",
    "            model_device=\"cuda\",\n",
    "            model_chkp_root=f\"../logdirs/{model_config['exp_name']}/checkpoints\",\n",
    "            model_chkp_basename=model_config[\"chkp_name\"] if model_config[\"swa_checkpoint_regex\"] is None else None,\n",
    "            model_chkp_regex=model_config.get(\"swa_checkpoint_regex\"),\n",
    "            swa_sort_rule=model_config.get(\"swa_sort_rule\"),\n",
    "            n_swa_to_take=model_config.get(\"n_swa_models\", 3),\n",
    "            delete_prefix=model_config.get(\"delete_prefix\"),\n",
    "            prune_checkpoint_func=model_config.get(\"prune_checkpoint_func\")\n",
    "        ))\n",
    "    else:\n",
    "        model.extend([create_model_and_upload_chkp(\n",
    "            model_class=MODEL_CLASS,\n",
    "            model_config=model_config['model_config'],\n",
    "            model_device=\"cuda\",\n",
    "            model_chkp_root=f\"../logdirs/{model_config['exp_name']}/fold_{m_i}/checkpoints\",\n",
    "            # model_chkp_root=f\"../logdirs/{CONFIG['exp_name']}/checkpoints\",\n",
    "            model_chkp_basename=model_config[\"chkp_name\"] if model_config[\"swa_checkpoint_regex\"] is None else None,\n",
    "            model_chkp_regex=model_config.get(\"swa_checkpoint_regex\"),\n",
    "            swa_sort_rule=model_config.get(\"swa_sort_rule\"),\n",
    "            n_swa_to_take=model_config.get(\"n_swa_models\", 3),\n",
    "            delete_prefix=model_config.get(\"delete_prefix\"),\n",
    "            prune_checkpoint_func=model_config.get(\"prune_checkpoint_func\")\n",
    "        ) for m_i in model_config[\"fold\"]])"
   ]
  },
  {
   "cell_type": "code",
   "execution_count": null,
   "id": "8b55d91d-add0-4173-91af-b3ce17923e6b",
   "metadata": {},
   "outputs": [],
   "source": [
    "len(model)"
   ]
  },
  {
   "cell_type": "markdown",
   "id": "7459893e-97cc-4dc6-8e32-12818ce431cc",
   "metadata": {},
   "source": [
    "# Prepare Data"
   ]
  },
  {
   "cell_type": "code",
   "execution_count": null,
   "id": "ebe4ee6f-0773-4708-9491-a45e60575aaa",
   "metadata": {},
   "outputs": [],
   "source": [
    "bird2id = load_json(INFERENCE_CONFIG[\"label_map_data_path\"])\n",
    "\n",
    "test_au_pathes = glob(INFERENCE_CONFIG[\"test_data_root\"])#[:100]\n",
    "\n",
    "test_df = pd.DataFrame({\n",
    "    \"filename\": test_au_pathes,\n",
    "    \"duration_s\": [librosa.get_duration(filename=el) for el in tqdm(test_au_pathes)]\n",
    "})"
   ]
  },
  {
   "cell_type": "code",
   "execution_count": null,
   "id": "5d4ba00b-c050-4f23-b469-851442382810",
   "metadata": {},
   "outputs": [],
   "source": [
    "previou_itter_folds = pd.read_csv(\n",
    "    \"../data/pseudo/eca_124__eca_117__eca_112__eca_118__eca_113__ebs_123__eca_120__eca_121/v0_0_filteredProb05_grouped_cv_split5.csv\"\n",
    ")\n",
    "previou_itter_folds[\"sample_id\"] = previou_itter_folds[\"row_id\"].apply(lambda x: \"_\".join(x.split(\"_\")[:-1]))\n",
    "previou_itter_folds = previou_itter_folds[[\"sample_id\", \"fold_id\"]].drop_duplicates()\n",
    "\n",
    "test_df[\"sample_id\"] = test_df[\"filename\"].apply(lambda x: os.path.splitext(os.path.basename(x))[0])\n",
    "\n",
    "test_df = test_df.merge(previou_itter_folds, on=\"sample_id\", how=\"left\")\n",
    "test_df = test_df.drop(columns=[\"sample_id\"])"
   ]
  },
  {
   "cell_type": "code",
   "execution_count": null,
   "id": "271f4783-ead9-4d5c-b110-168f91ac72fc",
   "metadata": {},
   "outputs": [],
   "source": [
    "test_df"
   ]
  },
  {
   "cell_type": "code",
   "execution_count": null,
   "id": "0146265e-3f2e-42af-9283-48a9fa565fc8",
   "metadata": {},
   "outputs": [],
   "source": [
    "ds_config_test = {\n",
    "   \"root\": \"\",\n",
    "   \"label_str2int_mapping_path\": INFERENCE_CONFIG[\"label_map_data_path\"],\n",
    "   \"n_cores\": 8,\n",
    "   \"use_audio_cache\": True,\n",
    "   \"test_mode\": True,\n",
    "   \"segment_len\": INFERENCE_CONFIG[\"segment_len\"],\n",
    "   \"lookback\":INFERENCE_CONFIG[\"lookback\"],\n",
    "   \"lookahead\":INFERENCE_CONFIG[\"lookahead\"],\n",
    "    \"sample_id\": None,\n",
    "    \"late_normalize\": INFERENCE_CONFIG[\"late_normalize\"],\n",
    "    \"step\": INFERENCE_CONFIG[\"step\"],\n",
    "    \"validate_sr\": 32_000,\n",
    "    \"verbose\": False\n",
    "}\n",
    "loader_config = {\n",
    "    \"batch_size\": 8,\n",
    "    \"drop_last\": False,\n",
    "    \"shuffle\": False,\n",
    "    \"num_workers\": 0,\n",
    "}"
   ]
  },
  {
   "cell_type": "code",
   "execution_count": null,
   "id": "be6697df-3a57-4608-92af-c00958489cc5",
   "metadata": {},
   "outputs": [],
   "source": [
    "ds_test = WaveAllFileDataset(\n",
    "    df=test_df[test_df[\"fold_id\"].isna()].reset_index(drop=True), \n",
    "    **ds_config_test\n",
    ")\n",
    "loader_test = torch.utils.data.DataLoader(\n",
    "    ds_test,\n",
    "    **loader_config,\n",
    ")"
   ]
  },
  {
   "cell_type": "code",
   "execution_count": null,
   "id": "d980e131-0b5e-4888-b087-2493339c4e79",
   "metadata": {},
   "outputs": [],
   "source": [
    "ds_test_oofs = [\n",
    "    WaveAllFileDataset(df=test_df[test_df[\"fold_id\"] == i], **ds_config_test) for i in range(int(test_df[\"fold_id\"].max()) + 1) \n",
    "]\n",
    "loader_test_oofs = [\n",
    "    torch.utils.data.DataLoader(\n",
    "        ds,\n",
    "        **loader_config,\n",
    "    ) for ds in ds_test_oofs\n",
    "]"
   ]
  },
  {
   "cell_type": "markdown",
   "id": "59856748-0694-4fc5-86da-6dd665137818",
   "metadata": {},
   "source": [
    "# Ineference Class"
   ]
  },
  {
   "cell_type": "code",
   "execution_count": null,
   "id": "043cadf6-cec1-4307-93f0-438904bcf59c",
   "metadata": {},
   "outputs": [],
   "source": [
    "inference_class = BirdsInference(\n",
    "    device=\"cuda\",\n",
    "    verbose_tqdm=True,\n",
    "    use_sigmoid=INFERENCE_CONFIG[\"use_sigmoid\"],\n",
    "    model_output_key=INFERENCE_CONFIG[\"model_output_key\"],\n",
    ")"
   ]
  },
  {
   "cell_type": "markdown",
   "id": "066886ba-3aae-4f2a-97cf-deaf9247c817",
   "metadata": {},
   "source": [
    "# Prediction"
   ]
  },
  {
   "cell_type": "markdown",
   "id": "b46509e8-9c0e-4313-a798-0ff250c52760",
   "metadata": {},
   "source": [
    "## Predict NOT OOF Part"
   ]
  },
  {
   "cell_type": "code",
   "execution_count": null,
   "id": "c7819619-714b-4269-b9cb-2580a689f440",
   "metadata": {},
   "outputs": [],
   "source": [
    "test_preds, test_dfidx, test_end = inference_class.predict_test_loader(\n",
    "    nn_models=model,\n",
    "    data_loader=loader_test\n",
    ")\n",
    "test_pred_df = compose_submission_dataframe(\n",
    "    probs=test_preds,\n",
    "    dfidxs=test_dfidx,\n",
    "    end_seconds=test_end,\n",
    "    filenames=loader_test.dataset.df[loader_test.dataset.name_col].copy(),\n",
    "    bird2id=bird2id\n",
    ")"
   ]
  },
  {
   "cell_type": "code",
   "execution_count": null,
   "id": "33fc8723-1432-42ee-963a-98b25b97d881",
   "metadata": {},
   "outputs": [],
   "source": [
    "plt.title(\"Most 'Probable' class probability distribution\")\n",
    "plt.hist(test_preds.max(axis=1), bins=30)\n",
    "plt.show()\n",
    "\n",
    "print(\n",
    "    \"Max Prob: \", test_preds.max(), \n",
    "    \"Min Prob: \", test_preds.min(),\n",
    "    \"Median Prob: \", np.median(test_preds)\n",
    ")"
   ]
  },
  {
   "cell_type": "code",
   "execution_count": null,
   "id": "f34911e9-3c19-438f-b595-b8fe79bb1e08",
   "metadata": {},
   "outputs": [],
   "source": [
    "test_pred_df[\"sample_id\"] = test_pred_df[\"row_id\"].apply(lambda x: \"_\".join(x.split(\"_\")[:-1]))"
   ]
  },
  {
   "cell_type": "markdown",
   "id": "88f8095a-f17d-4030-b3db-271b1dddf70c",
   "metadata": {},
   "source": [
    "## Predict OOF Part"
   ]
  },
  {
   "cell_type": "code",
   "execution_count": null,
   "id": "4108fa55-9946-4cbf-93c2-ba00f991402d",
   "metadata": {},
   "outputs": [],
   "source": [
    "all_folds_test_pred_df = []\n",
    "for one_model, one_loader in zip(model, loader_test_oofs):\n",
    "    fold_test_preds, fold_test_dfidx, fold_test_end = inference_class.predict_test_loader(\n",
    "        nn_models=[one_model],\n",
    "        data_loader=one_loader\n",
    "    )\n",
    "    fold_test_pred_df = compose_submission_dataframe(\n",
    "        probs=fold_test_preds,\n",
    "        dfidxs=fold_test_dfidx,\n",
    "        end_seconds=fold_test_end,\n",
    "        filenames=one_loader.dataset.df[one_loader.dataset.name_col].copy(),\n",
    "        bird2id=bird2id\n",
    "    )\n",
    "    all_folds_test_pred_df.append(fold_test_pred_df)"
   ]
  },
  {
   "cell_type": "code",
   "execution_count": null,
   "id": "83492e8a-79f0-42e0-8d7d-3ddac1d58b5f",
   "metadata": {},
   "outputs": [],
   "source": [
    "all_folds_test_pred_df = pd.concat(all_folds_test_pred_df).reset_index(drop=True)"
   ]
  },
  {
   "cell_type": "code",
   "execution_count": null,
   "id": "d9ede981-c7d7-4d08-acb8-34729bc3f23c",
   "metadata": {},
   "outputs": [],
   "source": [
    "plt.title(\"Most 'Probable' class probability distribution\")\n",
    "plt.hist(all_folds_test_pred_df.iloc[:,1:].values.max(axis=1), bins=30)\n",
    "plt.show()\n",
    "\n",
    "print(\n",
    "    \"Max Prob: \", all_folds_test_pred_df.iloc[:,1:].values.max(), \n",
    "    \"Min Prob: \", all_folds_test_pred_df.iloc[:,1:].values.min(),\n",
    "    \"Median Prob: \", np.median(all_folds_test_pred_df.iloc[:,1:].values)\n",
    ")"
   ]
  },
  {
   "cell_type": "markdown",
   "id": "56f816b2-c77a-40ec-b992-77fe9661aa49",
   "metadata": {},
   "source": [
    "## Merge"
   ]
  },
  {
   "cell_type": "code",
   "execution_count": null,
   "id": "bb630828-170c-4789-b96e-e73823a68977",
   "metadata": {},
   "outputs": [],
   "source": [
    "test_df[\"sample_id\"] = test_df[\"filename\"].apply(lambda x: os.path.splitext(os.path.basename(x))[0])\n",
    "\n",
    "concat_test_pred_df = pd.concat([test_pred_df, all_folds_test_pred_df]).reset_index(drop=True)\n",
    "concat_test_pred_df[\"sample_id\"] = concat_test_pred_df[\"row_id\"].apply(lambda x: \"_\".join(x.split(\"_\")[:-1]))\n",
    "\n",
    "assert set(concat_test_pred_df[\"sample_id\"]) == set(test_df[\"sample_id\"])\n",
    "\n",
    "concat_test_pred_df = concat_test_pred_df.drop(columns=[\"sample_id\"])"
   ]
  },
  {
   "cell_type": "code",
   "execution_count": null,
   "id": "55da8f4b-6c43-4a24-a052-3a8969fb8281",
   "metadata": {},
   "outputs": [],
   "source": [
    "plt.title(\"Most 'Probable' class probability distribution\")\n",
    "plt.hist(concat_test_pred_df.iloc[:,1:].values.max(axis=1), bins=30)\n",
    "plt.show()\n",
    "\n",
    "print(\n",
    "    \"Max Prob: \", concat_test_pred_df.iloc[:,1:].values.max(), \n",
    "    \"Min Prob: \", concat_test_pred_df.iloc[:,1:].values.min(),\n",
    "    \"Median Prob: \", np.median(concat_test_pred_df.iloc[:,1:].values)\n",
    ")"
   ]
  },
  {
   "cell_type": "markdown",
   "id": "07fa9b9b-8f1f-4a70-9b96-02e6bc800db5",
   "metadata": {},
   "source": [
    "## Save"
   ]
  },
  {
   "cell_type": "code",
   "execution_count": null,
   "id": "be9e028d-f59c-4ef9-8117-40f891e6486f",
   "metadata": {},
   "outputs": [],
   "source": [
    "EXP_NAME + POSTFIX"
   ]
  },
  {
   "cell_type": "code",
   "execution_count": null,
   "id": "3434b3dc-da42-457a-92f9-8fc6aa74338f",
   "metadata": {},
   "outputs": [],
   "source": [
    "# save_path = f\"../data/pseudo/{EXP_NAME + POSTFIX}/v0_oof.csv\"\n",
    "# assert not os.path.exists(save_path)\n",
    "# os.makedirs(os.path.dirname(save_path), exist_ok=True)\n",
    "# test_pred_df.to_csv(save_path, index=False)\n",
    "\n",
    "save_path = f\"../data/pseudo/{EXP_NAME + POSTFIX}/v0_oof.csv\"\n",
    "assert not os.path.exists(save_path)\n",
    "os.makedirs(os.path.dirname(save_path), exist_ok=True)\n",
    "concat_test_pred_df.to_csv(save_path, index=False)"
   ]
  },
  {
   "cell_type": "markdown",
   "id": "3e0720db-7535-487c-b837-31c82e25366b",
   "metadata": {},
   "source": [
    "# Load Pseudo DF"
   ]
  },
  {
   "cell_type": "code",
   "execution_count": null,
   "id": "9dabd035-e9ed-4de6-aa8a-a59865f1cb95",
   "metadata": {},
   "outputs": [],
   "source": [
    "test_pred_df = pd.read_csv(\n",
    "    save_path\n",
    ")"
   ]
  },
  {
   "cell_type": "markdown",
   "id": "19cf07b9-96f8-495c-8141-83606c3bec57",
   "metadata": {},
   "source": [
    "# Prepare Ready2Use DF (2025)"
   ]
  },
  {
   "cell_type": "code",
   "execution_count": null,
   "id": "986b978d-cc55-43b1-8467-468a4e0f5c95",
   "metadata": {},
   "outputs": [],
   "source": [
    "!ls -lt ../data/pseudo/ | head"
   ]
  },
  {
   "cell_type": "code",
   "execution_count": null,
   "id": "94065039-44be-4d44-b3b4-e788056381e6",
   "metadata": {},
   "outputs": [],
   "source": [
    "test_pred_df_eca = pd.read_csv(\n",
    "    \"../data/pseudo/eca_nfnet_l0_Exp_noamp_64bs_5sec_mixupP05_RandomFiltering_SqrtBalancing_Radamlr1e3_CosBatchLR1e6_Epoch50_BackGroundSoundScapeORESC50P05_SpecAugV1_FocalBCELoss_LSF1005_5Folds_ScoredPrevCompsAndXCsnipet28032025_FromV2Y2025Last_PseudoF2PT05MT01P04I1OOF/v0_oof.csv\"\n",
    ")\n",
    "test_pred_df_ebs = pd.read_csv(\n",
    "    \"../data/pseudo/eca_nfnet_l0_Exp_noamp_64bs_5sec_mixupP05_RandomFiltering_SqrtBalancing_Radamlr1e3_CosBatchLR1e6_Epoch50_BackGroundSoundScapeORESC50P05_SpecAugV1_FocalBCELoss_LSF1005_5Folds_ScoredPrevCompsAndXCsnipet28032025_FromPreca4_PseudoF2PT05MT01P04I1OOF/v0_oof.csv\"\n",
    ")"
   ]
  },
  {
   "cell_type": "code",
   "execution_count": null,
   "id": "7051bfad-cd72-4059-a414-84d5bc806bad",
   "metadata": {},
   "outputs": [],
   "source": [
    "assert (test_pred_df_eca[\"row_id\"] == test_pred_df_ebs[\"row_id\"]).all()"
   ]
  },
  {
   "cell_type": "code",
   "execution_count": null,
   "id": "fc5c995c-b42a-4415-bec3-7f7ccf813eaf",
   "metadata": {},
   "outputs": [],
   "source": [
    "test_pred_df_eca"
   ]
  },
  {
   "cell_type": "code",
   "execution_count": null,
   "id": "a1784c20-7dd5-494e-8d2d-b4ab39ffcc51",
   "metadata": {},
   "outputs": [],
   "source": [
    "test_pred_df = test_pred_df_eca.copy()"
   ]
  },
  {
   "cell_type": "code",
   "execution_count": null,
   "id": "a6fbe038-ac62-4ed3-b85c-3bd653964961",
   "metadata": {},
   "outputs": [],
   "source": [
    "test_pred_df = test_pred_df_eca.copy()\n",
    "\n",
    "test_pred_df.iloc[:,1:] = (\n",
    "    test_pred_df_eca.iloc[:,1:].values + test_pred_df_ebs.iloc[:,1:].values\n",
    ") / 2"
   ]
  },
  {
   "cell_type": "code",
   "execution_count": null,
   "id": "3b9eb44f-fb08-4a41-acf3-4e6f43e471ab",
   "metadata": {},
   "outputs": [],
   "source": [
    "CLASSES = test_pred_df.columns[1:].to_list()"
   ]
  },
  {
   "cell_type": "code",
   "execution_count": null,
   "id": "a468949d-7fd8-4c5d-bc90-2db3ffe18159",
   "metadata": {},
   "outputs": [],
   "source": [
    "primary_label = [CLASSES[argmax_idx] for argmax_idx in np.argmax(test_pred_df.iloc[:,1:].values, axis=1)]\n",
    "primary_label_prob = np.max(test_pred_df.iloc[:,1:].values, axis=1)\n",
    "test_pred_df[\"primary_label\"] = primary_label\n",
    "test_pred_df[\"primary_label_prob\"] = primary_label_prob"
   ]
  },
  {
   "cell_type": "code",
   "execution_count": null,
   "id": "efe03d4a-c39d-4d82-9844-c9361625fbca",
   "metadata": {
    "scrolled": true
   },
   "outputs": [],
   "source": [
    "test_pred_df.drop(columns=CLASSES)"
   ]
  },
  {
   "cell_type": "code",
   "execution_count": null,
   "id": "89b2a716-66d6-402c-9dd1-90b2ffb2ff59",
   "metadata": {},
   "outputs": [],
   "source": [
    "save_path = f\"../data/pseudo/ensem_26052025_fromVer1OOF/v0.csv\"\n",
    "assert not os.path.exists(save_path)\n",
    "os.makedirs(os.path.dirname(save_path), exist_ok=True)\n",
    "test_pred_df.to_csv(save_path, index=False)"
   ]
  },
  {
   "cell_type": "markdown",
   "id": "2d645356-6b1d-4298-a12e-ff01c5533147",
   "metadata": {},
   "source": [
    "# Split Pseudo DF(2025)"
   ]
  },
  {
   "cell_type": "code",
   "execution_count": null,
   "id": "b516c129-8688-4ce3-80ac-166bd85bf692",
   "metadata": {},
   "outputs": [],
   "source": [
    "previou_itter_folds = pd.read_csv(\n",
    "    \"../data/pseudo/eca_124__eca_117__eca_112__eca_118__eca_113__ebs_123__eca_120__eca_121/v0_0_filteredProb05_grouped_cv_split5.csv\"\n",
    ")\n",
    "previou_itter_folds[\"sample_id\"] = previou_itter_folds[\"row_id\"].apply(lambda x: \"_\".join(x.split(\"_\")[:-1]))\n",
    "previou_itter_folds = previou_itter_folds[[\"sample_id\", \"fold_id\"]].drop_duplicates()\n",
    "\n",
    "test_pred_df = pd.read_csv(\n",
    "    \"../data/pseudo/ensem_26052025_fromVer1OOF/v0.csv\"\n",
    ")\n",
    "test_pred_df[\"sample_id\"] = test_pred_df[\"row_id\"].apply(lambda x: \"_\".join(x.split(\"_\")[:-1]))"
   ]
  },
  {
   "cell_type": "code",
   "execution_count": null,
   "id": "22584e78-94bb-488b-9c2f-fc5b64bac1a3",
   "metadata": {},
   "outputs": [],
   "source": [
    "test_pred_df_selected = test_pred_df[test_pred_df[\"primary_label_prob\"] > 0.5].reset_index(drop=True)"
   ]
  },
  {
   "cell_type": "code",
   "execution_count": null,
   "id": "44b4e7f9-61ba-44de-8c9f-f09713708a3b",
   "metadata": {},
   "outputs": [],
   "source": [
    "# test_pred_df_selected = test_pred_df_selected.merge(\n",
    "#     previou_itter_folds, on=\"sample_id\", how=\"left\"\n",
    "# ).rename(columns={\"fold_id\": \"group_col\"})\n",
    "# test_pred_df_selected.loc[~test_pred_df_selected[\"group_col\"].isna(), \"group_col\"] = test_pred_df_selected.loc[~test_pred_df_selected[\"group_col\"].isna(), \"group_col\"].astype(str) \n",
    "# test_pred_df_selected.loc[test_pred_df_selected[\"group_col\"].isna(), \"group_col\"] = test_pred_df_selected.loc[test_pred_df_selected[\"group_col\"].isna(), \"sample_id\"] "
   ]
  },
  {
   "cell_type": "code",
   "execution_count": null,
   "id": "584c99e7-9447-40b3-a472-7e791fe2fca1",
   "metadata": {},
   "outputs": [],
   "source": [
    "# test_pred_df_selected = test_pred_df_selected.merge(\n",
    "#     previou_itter_folds, on=\"sample_id\", how=\"left\"\n",
    "# )"
   ]
  },
  {
   "cell_type": "code",
   "execution_count": null,
   "id": "36957af9-52c0-41da-9870-5f0290c8f602",
   "metadata": {},
   "outputs": [],
   "source": [
    "# test_pred_df_selected_for_split = test_pred_df_selected[test_pred_df_selected[\"fold_id\"].isna()]"
   ]
  },
  {
   "cell_type": "code",
   "execution_count": null,
   "id": "76ed98b9-bf57-4930-a4aa-ab9aaac21393",
   "metadata": {},
   "outputs": [],
   "source": [
    "cv_split = list(StratifiedGroupKFold(n_splits=5, shuffle=True, random_state=42).split(\n",
    "    test_pred_df_selected,\n",
    "    test_pred_df_selected[\"primary_label\"],\n",
    "    # test_pred_df_selected[\"group_col\"]\n",
    "    test_pred_df_selected[\"sample_id\"]\n",
    "))"
   ]
  },
  {
   "cell_type": "code",
   "execution_count": null,
   "id": "0591d7d7-72eb-4970-a083-1f6442f6c305",
   "metadata": {},
   "outputs": [],
   "source": [
    "# cv_split = list(StratifiedGroupKFold(n_splits=5, shuffle=True, random_state=42).split(\n",
    "#     test_pred_df_selected_for_split,\n",
    "#     test_pred_df_selected_for_split[\"primary_label\"],\n",
    "#     # test_pred_df_selected[\"group_col\"]\n",
    "#     test_pred_df_selected_for_split[\"sample_id\"]\n",
    "# ))"
   ]
  },
  {
   "cell_type": "code",
   "execution_count": null,
   "id": "85c0c671-10d6-4f50-96e3-fe88d1e2ccc2",
   "metadata": {},
   "outputs": [],
   "source": [
    "for train_fold, val_fold in cv_split:\n",
    "    assert not set(test_pred_df_selected[\"sample_id\"].iloc[train_fold]) & set(test_pred_df_selected[\"sample_id\"].iloc[val_fold])"
   ]
  },
  {
   "cell_type": "code",
   "execution_count": null,
   "id": "2534e0c5-cc16-44a7-8c2d-b5735d7ee071",
   "metadata": {},
   "outputs": [],
   "source": [
    "np.save(\n",
    "    \"../data/pseudo/ensem_26052025_fromVer1OOF/grouped_filteredProb05_cv_split5.npy\",\n",
    "    np.array(cv_split, dtype=object)\n",
    ")"
   ]
  },
  {
   "cell_type": "code",
   "execution_count": null,
   "id": "d4734e87-a2e7-47ee-b188-737d9ae073cc",
   "metadata": {},
   "outputs": [],
   "source": [
    "# test_pred_df_selected.drop(columns=[\"sample_id\", \"group_col\"]).to_csv(\n",
    "#     \"../data/pseudo/ensem_25052025_fromVer1OOF/v0_0_filteredProb05_respectPrev.csv\",\n",
    "#     index=False\n",
    "# )\n",
    "\n",
    "test_pred_df_selected.drop(columns=[\"sample_id\"]).to_csv(\n",
    "    \"../data/pseudo/ensem_26052025_fromVer1OOF/v0_0_filteredProb05.csv\",\n",
    "    index=False\n",
    ")"
   ]
  },
  {
   "cell_type": "code",
   "execution_count": null,
   "id": "5a6daa30-09b3-4036-8af3-8c23e425da41",
   "metadata": {},
   "outputs": [],
   "source": [
    "test_pred_df_selected[\"fold_id\"] = None\n",
    "for fold_id, (train_fold, val_fold) in enumerate(cv_split):\n",
    "    assert test_pred_df_selected.iloc[val_fold, -1].isna().all()\n",
    "    test_pred_df_selected.iloc[val_fold, -1] = fold_id\n",
    "assert not test_pred_df_selected[\"fold_id\"].isna().any()"
   ]
  },
  {
   "cell_type": "code",
   "execution_count": null,
   "id": "d01da04e-58c6-4cd3-9429-6ab1bb98ff16",
   "metadata": {},
   "outputs": [],
   "source": [
    "# test_pred_df_selected_for_split[\"fold_id\"] = None\n",
    "# for fold_id, (train_fold, val_fold) in enumerate(cv_split):\n",
    "#     assert test_pred_df_selected_for_split.iloc[val_fold, -1].isna().all()\n",
    "#     test_pred_df_selected_for_split.iloc[val_fold, -1] = fold_id\n",
    "# assert not test_pred_df_selected_for_split[\"fold_id\"].isna().any()"
   ]
  },
  {
   "cell_type": "code",
   "execution_count": null,
   "id": "8aeb0ca1-6214-4497-ace8-a5ef09daffa6",
   "metadata": {},
   "outputs": [],
   "source": [
    "# test_pred_df_selected.loc[test_pred_df_selected[\"fold_id\"].isna(), \"fold_id\"] = test_pred_df_selected_for_split[\"fold_id\"]"
   ]
  },
  {
   "cell_type": "code",
   "execution_count": null,
   "id": "6051e1bf-dd2b-4c63-b02c-bb598d7f10fb",
   "metadata": {},
   "outputs": [],
   "source": [
    "test_pred_df_selected_for_split[\"fold_id\"].isna().sum()"
   ]
  },
  {
   "cell_type": "code",
   "execution_count": null,
   "id": "7cc182cb-9ac4-4d1f-a6ab-f8a6c37b2286",
   "metadata": {},
   "outputs": [],
   "source": [
    "test_pred_df_selected[\"fold_id\"].value_counts()"
   ]
  },
  {
   "cell_type": "code",
   "execution_count": null,
   "id": "538891fb-91f5-4d90-a7dc-55d004f81826",
   "metadata": {},
   "outputs": [],
   "source": [
    "cv_split = []\n",
    "for f_id in range(5):\n",
    "    cv_split.append([\n",
    "        np.where(test_pred_df_selected[\"fold_id\"] != f_id)[0],\n",
    "        np.where(test_pred_df_selected[\"fold_id\"] == f_id)[0],\n",
    "    ])\n",
    "\n",
    "for train_fold, val_fold in cv_split:\n",
    "    assert not set(test_pred_df_selected[\"sample_id\"].iloc[train_fold]) & set(test_pred_df_selected[\"sample_id\"].iloc[val_fold])"
   ]
  },
  {
   "cell_type": "code",
   "execution_count": null,
   "id": "8b441ba4-bea1-4fe5-8f3e-d7393b472da0",
   "metadata": {},
   "outputs": [],
   "source": [
    "np.save(\n",
    "    \"../data/pseudo/ensem_26052025_fromVer1OOF/grouped_filteredProb05_cv_split5_respectPrev.npy\",\n",
    "    np.array(cv_split, dtype=object)\n",
    ")"
   ]
  },
  {
   "cell_type": "code",
   "execution_count": null,
   "id": "5f8d2b4b-c56b-4ba2-9388-8f9286ddba68",
   "metadata": {},
   "outputs": [],
   "source": [
    "# test_pred_df_selected.drop(columns=[\"sample_id\"]).to_csv(\n",
    "#     \"../data/pseudo/ensem_26052025_fromVer1OOF/v0_0_filteredProb05_grouped_cv_split5_respectPrev.csv\",\n",
    "#     index=False\n",
    "# )\n",
    "\n",
    "test_pred_df_selected.drop(columns=[\"sample_id\"]).to_csv(\n",
    "    \"../data/pseudo/ensem_26052025_fromVer1OOF/v0_0_filteredProb05_grouped_cv_split5.csv\",\n",
    "    index=False\n",
    ")"
   ]
  },
  {
   "cell_type": "code",
   "execution_count": null,
   "id": "c63802a1-e467-444d-9708-36fffa37d8ad",
   "metadata": {},
   "outputs": [],
   "source": [
    "ver1_df = pd.read_csv(\n",
    "    \"../data/pseudo/ensem_26052025_fromVer1OOF/v0_0_filteredProb05_grouped_cv_split5_respectPrev.csv\"\n",
    ")\n",
    "ver2_df = pd.read_csv(\n",
    "    \"../data/pseudo/ensem_26052025_fromVer1OOF/v0_0_filteredProb05_grouped_cv_split5.csv\"\n",
    ")\n",
    "prev_ver = pd.read_csv(\n",
    "    \"../data/pseudo/eca_124__eca_117__eca_112__eca_118__eca_113__ebs_123__eca_120__eca_121/v0_0_filteredProb05_grouped_cv_split5.csv\"\n",
    ")"
   ]
  },
  {
   "cell_type": "code",
   "execution_count": null,
   "id": "92fbae03-8638-4379-bdb8-8948d46b2b51",
   "metadata": {},
   "outputs": [],
   "source": [
    "assert (ver1_df[\"row_id\"] == ver2_df[\"row_id\"]).all()"
   ]
  },
  {
   "cell_type": "code",
   "execution_count": null,
   "id": "1af2c5b2-926d-40e3-ad2f-3a8b6b34dd9e",
   "metadata": {},
   "outputs": [],
   "source": [
    "ver1_df[\"fold_id\"].value_counts(dropna=False)"
   ]
  },
  {
   "cell_type": "code",
   "execution_count": null,
   "id": "a2408cc9-2cc2-48c7-9974-7856e0b7e4c4",
   "metadata": {},
   "outputs": [],
   "source": [
    "ver2_df[\"fold_id\"].value_counts(dropna=False)"
   ]
  },
  {
   "cell_type": "code",
   "execution_count": null,
   "id": "7a353e1c-a959-4aa8-a5c1-a523700e33e9",
   "metadata": {},
   "outputs": [],
   "source": [
    "prev_ver[\"fold_id\"].value_counts()"
   ]
  },
  {
   "cell_type": "markdown",
   "id": "ee7c9575-260e-4b4d-b106-3712b650361c",
   "metadata": {},
   "source": [
    "# Prepare Ready2Use DF (2024)"
   ]
  },
  {
   "cell_type": "code",
   "execution_count": null,
   "id": "f684eabf-637c-448f-b972-96e4508070dc",
   "metadata": {},
   "outputs": [],
   "source": [
    "def get_aranged_classes(probs, ordered_classes, tresh):\n",
    "    probs = probs.values\n",
    "    accepted_classes_idx = np.where(probs > tresh)[0]\n",
    "    if len(accepted_classes_idx) == 0:\n",
    "        return []\n",
    "    elif len(accepted_classes_idx) == 1:\n",
    "        return [ordered_classes[accepted_classes_idx[0]]]\n",
    "    else:\n",
    "        accepted_classes_names_and_probs = [\n",
    "            (ordered_classes[idx], probs[idx]) for idx in accepted_classes_idx\n",
    "        ]\n",
    "        accepted_classes_names_and_probs = sorted(\n",
    "            accepted_classes_names_and_probs,\n",
    "            key=lambda x: -x[1]\n",
    "        )\n",
    "        return [el[0] for el in accepted_classes_names_and_probs]"
   ]
  },
  {
   "cell_type": "code",
   "execution_count": null,
   "id": "f25301de-86b7-4c20-864b-9620d71a39ac",
   "metadata": {},
   "outputs": [],
   "source": [
    "def merge_intervals(data_):\n",
    "    if not data_:\n",
    "        return []\n",
    "\n",
    "    data  = deepcopy(data_)\n",
    "\n",
    "    # Sort by start time\n",
    "    data.sort(key=lambda x: x[0])\n",
    "\n",
    "    # Initialize the list of merged intervals with the first interval\n",
    "    merged = [data[0]]\n",
    "\n",
    "    for current in data[1:]:\n",
    "        prev_end = merged[-1][1]\n",
    "        current_start = current[0]\n",
    "        current_end = current[1]\n",
    "        \n",
    "        # Check if the current interval overlaps or is adjacent to the previous interval\n",
    "        if current_start <= prev_end:\n",
    "            # Merge the intervals\n",
    "            merged[-1][1] = max(prev_end, current_end)\n",
    "        else:\n",
    "            merged.append(current)\n",
    "\n",
    "    return merged\n",
    "\n",
    "def get_file_length_from_h5py(path):\n",
    "    with h5py.File(path, \"r\") as f:\n",
    "        file_length_in_sec = len(f[\"au\"]) / 32_000\n",
    "    return file_length_in_sec\n",
    "\n",
    "def trim_last_label_if_needed(row):\n",
    "    if not row[\"nocall\"]:\n",
    "        return []\n",
    "    row[\"nocall\"][-1][1] = min(row[\"duration_s\"], row[\"nocall\"][-1][1])\n",
    "    return row[\"nocall\"]"
   ]
  },
  {
   "cell_type": "markdown",
   "id": "3198cc37-8dc5-4e0e-9989-7bcde43a5804",
   "metadata": {},
   "source": [
    "## V1.1"
   ]
  },
  {
   "cell_type": "code",
   "execution_count": null,
   "id": "1adb5a33-d44e-491b-a0d2-33e22f1ba0cd",
   "metadata": {},
   "outputs": [],
   "source": [
    "test_pred_df[\"all_labels\"] = test_pred_df[CLASSES].apply(lambda row: get_aranged_classes(row, ordered_classes=CLASSES, tresh=0.5), axis=1)"
   ]
  },
  {
   "cell_type": "code",
   "execution_count": null,
   "id": "57bbf461-6a69-4720-87c3-8c4088d246e3",
   "metadata": {},
   "outputs": [],
   "source": [
    "test_pred_df[\"primary_label\"] = test_pred_df[\"all_labels\"].apply(lambda x: x[0] if len(x) > 0 else None)\n",
    "test_pred_df[\"secondary_labels\"] = test_pred_df[\"all_labels\"].apply(lambda x: x[1:])"
   ]
  },
  {
   "cell_type": "code",
   "execution_count": null,
   "id": "97bf677a-6d29-434b-ba0d-f3825669ea12",
   "metadata": {},
   "outputs": [],
   "source": [
    "test_pred_df[\"filename\"] = test_pred_df[\"row_id\"].apply(lambda x: x.split(\"_\")[0] + \".ogg\")"
   ]
  },
  {
   "cell_type": "code",
   "execution_count": null,
   "id": "2046b0a7-fd47-48b3-b7d4-ff45ad41bc2e",
   "metadata": {},
   "outputs": [],
   "source": [
    "test_pred_df"
   ]
  },
  {
   "cell_type": "code",
   "execution_count": null,
   "id": "79d8eb83-d098-4bff-a495-e5d49dc8d3ba",
   "metadata": {},
   "outputs": [],
   "source": [
    "positive_test_pred_df = test_pred_df[~test_pred_df[\"primary_label\"].isna()].reset_index(drop=True)"
   ]
  },
  {
   "cell_type": "code",
   "execution_count": null,
   "id": "9dfbaddf-4c6e-42e9-8afa-55d3f1d9b9b1",
   "metadata": {},
   "outputs": [],
   "source": [
    "positive_test_pred_df = positive_test_pred_df[[\n",
    "    \"row_id\", \"all_labels\", \"primary_label\", \"secondary_labels\", \"filename\"\n",
    "]]"
   ]
  },
  {
   "cell_type": "code",
   "execution_count": null,
   "id": "784b837f-0126-4a6f-9e4a-ef1d4a773af6",
   "metadata": {},
   "outputs": [],
   "source": [
    "positive_test_pred_df[\"stratify_col\"] = positive_test_pred_df[\"primary_label\"] + \"_soundscapes\""
   ]
  },
  {
   "cell_type": "code",
   "execution_count": null,
   "id": "7bb30b7b-3830-4069-8a56-95bcca3c2625",
   "metadata": {},
   "outputs": [],
   "source": [
    "positive_test_pred_df"
   ]
  },
  {
   "cell_type": "code",
   "execution_count": null,
   "id": "e5e697af-c6cf-4690-b2a9-32ed94a557ba",
   "metadata": {},
   "outputs": [],
   "source": [
    "positive_test_pred_df.to_csv(\n",
    "    \"../pseudo/v2/positive_filtered_05.csv\",\n",
    "    index=False\n",
    ")"
   ]
  },
  {
   "cell_type": "code",
   "execution_count": null,
   "id": "89dcf865-647b-4d07-999a-bd3ef4802d28",
   "metadata": {},
   "outputs": [],
   "source": [
    "positive_test_pred_df[\"stratify_col\"] = positive_test_pred_df[\"stratify_col\"].apply(lambda x: x.split(\"_\")[0])"
   ]
  },
  {
   "cell_type": "code",
   "execution_count": null,
   "id": "441dd027-066d-44af-8d0a-71312f34e84d",
   "metadata": {},
   "outputs": [],
   "source": [
    "positive_test_pred_df.to_csv(\n",
    "    \"../pseudo/v2/positive_filtered_05_stratifyV2.csv\",\n",
    "    index=False\n",
    ")"
   ]
  },
  {
   "cell_type": "code",
   "execution_count": null,
   "id": "3a9c324f-c702-469b-8a92-429aad94c394",
   "metadata": {},
   "outputs": [],
   "source": [
    "positive_test_pred_df[\"primary_label\"].value_counts()"
   ]
  },
  {
   "cell_type": "markdown",
   "id": "a9e0e4b0-c79c-46df-85f6-85bd7bdf0384",
   "metadata": {},
   "source": [
    "## V2.0 "
   ]
  },
  {
   "cell_type": "code",
   "execution_count": null,
   "id": "c5e4e76c-da05-4bc5-a8e9-debef87d9ce2",
   "metadata": {},
   "outputs": [],
   "source": [
    "test_pred_df[\"all_labels\"] = test_pred_df[CLASSES].apply(lambda row: get_aranged_classes(row, ordered_classes=CLASSES, tresh=0.75), axis=1)"
   ]
  },
  {
   "cell_type": "code",
   "execution_count": null,
   "id": "cefc8965-b729-4a80-9808-6f4c6c589b87",
   "metadata": {},
   "outputs": [],
   "source": [
    "test_pred_df[\"primary_label\"] = test_pred_df[\"all_labels\"].apply(lambda x: x[0] if len(x) > 0 else None)\n",
    "test_pred_df[\"secondary_labels\"] = test_pred_df[\"all_labels\"].apply(lambda x: x[1:])\n",
    "test_pred_df[\"filename\"] = test_pred_df[\"row_id\"].apply(lambda x: x.split(\"_\")[0] + \".ogg\")"
   ]
  },
  {
   "cell_type": "code",
   "execution_count": null,
   "id": "10799a9b-fadf-42d5-991e-aedaa5d2f852",
   "metadata": {},
   "outputs": [],
   "source": [
    "positive_test_pred_df = test_pred_df[~test_pred_df[\"primary_label\"].isna()].reset_index(drop=True)"
   ]
  },
  {
   "cell_type": "code",
   "execution_count": null,
   "id": "6b8238c7-d0f0-445d-a2c3-bf75bbf545d8",
   "metadata": {},
   "outputs": [],
   "source": [
    "positive_test_pred_df[\"primary_label_prob\"] = positive_test_pred_df[CLASSES + [\"primary_label\"]].apply(lambda row: row[row[\"primary_label\"]], axis=1)"
   ]
  },
  {
   "cell_type": "code",
   "execution_count": null,
   "id": "8bf122f1-1b69-42e3-bc33-b4d7778581c8",
   "metadata": {},
   "outputs": [],
   "source": [
    "positive_test_pred_df.shape"
   ]
  },
  {
   "cell_type": "code",
   "execution_count": null,
   "id": "160d0d75-aff3-466b-b923-01e65239f2a3",
   "metadata": {},
   "outputs": [],
   "source": [
    "positive_test_pred_df[\"primary_label\"].value_counts()"
   ]
  },
  {
   "cell_type": "code",
   "execution_count": null,
   "id": "c2945f81-d425-4fde-ab42-bd912e1f40ea",
   "metadata": {},
   "outputs": [],
   "source": [
    "positive_test_pred_df[\"primary_label_prob\"].hist(bins=100)"
   ]
  },
  {
   "cell_type": "code",
   "execution_count": null,
   "id": "6104f5cb-c842-4c27-b85c-a540832c21c8",
   "metadata": {},
   "outputs": [],
   "source": [
    "def take_max_prob_samples_for_class(pseudo_df, max_samples_to_take=500):\n",
    "    final_rows = []\n",
    "    for label in tqdm(set(pseudo_df[\"primary_label\"])):\n",
    "        label_df = pseudo_df[pseudo_df['primary_label'] == label]        \n",
    "        sorted_label_df = label_df.sort_values(by='primary_label_prob', ascending=False)        \n",
    "        selected_rows = sorted_label_df.head(max_samples_to_take)        \n",
    "        final_rows.append(selected_rows)    \n",
    "    final_sub_df = pd.concat(final_rows)\n",
    "    return final_sub_df"
   ]
  },
  {
   "cell_type": "code",
   "execution_count": null,
   "id": "18436eb5-3afb-4116-a2fa-b8f705ba93a9",
   "metadata": {},
   "outputs": [],
   "source": [
    "positive_test_pred_df_cap_500 = take_max_prob_samples_for_class(positive_test_pred_df)"
   ]
  },
  {
   "cell_type": "code",
   "execution_count": null,
   "id": "95cd1bea-0d53-4b3d-9fdc-d70ac1ca0db9",
   "metadata": {},
   "outputs": [],
   "source": [
    "positive_test_pred_df_cap_500[\"primary_label\"].value_counts()"
   ]
  },
  {
   "cell_type": "code",
   "execution_count": null,
   "id": "4cd5d298-c0aa-4cf9-af0d-0873fe376537",
   "metadata": {},
   "outputs": [],
   "source": [
    "positive_test_pred_df_cap_500[\"primary_label_prob\"].hist(bins=100)"
   ]
  },
  {
   "cell_type": "code",
   "execution_count": null,
   "id": "04eb7812-b5e9-406a-a9a9-afb72bc946c7",
   "metadata": {},
   "outputs": [],
   "source": [
    "positive_test_pred_df_cap_500.shape"
   ]
  },
  {
   "cell_type": "code",
   "execution_count": null,
   "id": "77397b58-675c-4712-9fc9-313322dc84b6",
   "metadata": {},
   "outputs": [],
   "source": [
    "positive_test_pred_df_cap_500 = positive_test_pred_df_cap_500[[\n",
    "    \"row_id\", \"all_labels\", \"primary_label\", \"secondary_labels\", \"filename\"\n",
    "]]"
   ]
  },
  {
   "cell_type": "code",
   "execution_count": null,
   "id": "599d959c-5269-495c-b8f4-791fab5b0c49",
   "metadata": {},
   "outputs": [],
   "source": [
    "positive_test_pred_df_cap_500[\"stratify_col\"] = positive_test_pred_df_cap_500[\"primary_label\"] + \"_soundscapes\""
   ]
  },
  {
   "cell_type": "code",
   "execution_count": null,
   "id": "df17aae6-eb57-496a-9ee5-b70c42f7af19",
   "metadata": {},
   "outputs": [],
   "source": [
    "positive_test_pred_df_cap_500"
   ]
  },
  {
   "cell_type": "code",
   "execution_count": null,
   "id": "4103d764-f2b5-46cc-868b-282aee6730d3",
   "metadata": {},
   "outputs": [],
   "source": [
    "positive_test_pred_df_cap_500.to_csv(\n",
    "    \"../pseudo/v2/positive_filtered_075_cap_500.csv\",\n",
    "    index=False\n",
    ")"
   ]
  },
  {
   "cell_type": "code",
   "execution_count": null,
   "id": "389a8de8-f763-4ccf-b1b0-c29aecd367fe",
   "metadata": {},
   "outputs": [],
   "source": [
    "positive_test_pred_df_cap_500[\"stratify_col\"] = positive_test_pred_df_cap_500[\"stratify_col\"].apply(lambda x: x.split(\"_\")[0])\n",
    "positive_test_pred_df_cap_500"
   ]
  },
  {
   "cell_type": "code",
   "execution_count": null,
   "id": "21ebf927-c352-4ce5-8273-7ae499140e2e",
   "metadata": {},
   "outputs": [],
   "source": [
    "positive_test_pred_df_cap_500"
   ]
  },
  {
   "cell_type": "code",
   "execution_count": null,
   "id": "7e7c9fc7-0fdc-4fb1-bac3-63ec26ac0194",
   "metadata": {},
   "outputs": [],
   "source": [
    "positive_test_pred_df_cap_500.to_csv(\n",
    "    \"../pseudo/v2/positive_filtered_075_cap_500_stratifyV2.csv\",\n",
    "    index=False\n",
    ")"
   ]
  },
  {
   "cell_type": "markdown",
   "id": "f64b435a-3939-464a-b5ad-db0776a6d1a2",
   "metadata": {},
   "source": [
    "## v1.1 empty unlabeled"
   ]
  },
  {
   "cell_type": "code",
   "execution_count": null,
   "id": "70cd0888-ac1e-465b-818c-cf3185a0aa04",
   "metadata": {},
   "outputs": [],
   "source": [
    "plt.title(\"Max Class Probability Distribution over chnunks\")\n",
    "plt.hist(test_pred_df.iloc[:,1:].max(axis=1), bins=100)\n",
    "plt.show()"
   ]
  },
  {
   "cell_type": "code",
   "execution_count": null,
   "id": "cb9232a2-ee6f-4518-b49d-75ebf98ac07d",
   "metadata": {},
   "outputs": [],
   "source": [
    "test_pred_df[\"id\"]"
   ]
  },
  {
   "cell_type": "code",
   "execution_count": null,
   "id": "2d69c17e-8104-40b1-ab65-6a51e15a4275",
   "metadata": {},
   "outputs": [],
   "source": [
    "test_pred_df[\"max_prob\"] = test_pred_df.iloc[:,1:].max(axis=1)\n",
    "test_pred_df[\"id\"] = test_pred_df[\"row_id\"].apply(lambda x: x.split(\"_\")[0])\n",
    "test_pred_df[\"final_second\"] = test_pred_df[\"row_id\"].apply(lambda x: int(x.split(\"_\")[1]))"
   ]
  },
  {
   "cell_type": "code",
   "execution_count": null,
   "id": "028602c5-8658-4fbd-9084-6f97757e0b5b",
   "metadata": {},
   "outputs": [],
   "source": [
    "test_pred_df"
   ]
  },
  {
   "cell_type": "code",
   "execution_count": null,
   "id": "eae346f8-7e93-4bee-878f-bb75b96cb414",
   "metadata": {},
   "outputs": [],
   "source": [
    "id_seconds_nocall = test_pred_df.groupby(\"id\").apply(lambda df: [[f_s - 5, f_s] for f_s, m_p in zip(df[\"final_second\"], df[\"max_prob\"]) if m_p < 0.2]).reset_index().rename(columns={0:\"nocall\"})"
   ]
  },
  {
   "cell_type": "code",
   "execution_count": null,
   "id": "dcdf39a8-881f-4423-8806-13f08d724a9f",
   "metadata": {},
   "outputs": [],
   "source": [
    "id_seconds_nocall = id_seconds_nocall[id_seconds_nocall[\"nocall\"].apply(len) > 0].reset_index(drop=True)"
   ]
  },
  {
   "cell_type": "code",
   "execution_count": null,
   "id": "9c505f14-3fb8-4b28-9125-b305f1395d35",
   "metadata": {},
   "outputs": [],
   "source": [
    "id_seconds_nocall[\"nocall\"] = id_seconds_nocall[\"nocall\"].apply(merge_intervals)"
   ]
  },
  {
   "cell_type": "code",
   "execution_count": null,
   "id": "16b04daf-73a9-4ed3-9580-506be672f682",
   "metadata": {},
   "outputs": [],
   "source": [
    "def get_file_length_from_h5py(path):\n",
    "    with h5py.File(path, \"r\") as f:\n",
    "        file_length_in_sec = len(f[\"au\"]) / 32_000\n",
    "    return file_length_in_sec"
   ]
  },
  {
   "cell_type": "code",
   "execution_count": null,
   "id": "1e8d6eac-02d7-4dd0-aae9-858f21a8c085",
   "metadata": {},
   "outputs": [],
   "source": [
    "id_seconds_nocall[\"duration_s\"] = id_seconds_nocall[\"id\"].apply(lambda x: get_file_length_from_h5py(os.path.join(\n",
    "    \"/home/vova/data/exps/birdclef_2024/birdclef_2024/unlabeled_soundscapes_features/\",\n",
    "    x + \".hdf5\"\n",
    ")))"
   ]
  },
  {
   "cell_type": "code",
   "execution_count": null,
   "id": "c0b718c4-1bf7-4136-b4a0-32319dadd444",
   "metadata": {},
   "outputs": [],
   "source": [
    "id_seconds_nocall[\"nocall\"] = id_seconds_nocall.apply(trim_last_label_if_needed, axis=1)"
   ]
  },
  {
   "cell_type": "code",
   "execution_count": null,
   "id": "717d9159-ef36-417a-9409-dff76dd31973",
   "metadata": {},
   "outputs": [],
   "source": [
    "id_seconds_nocall"
   ]
  },
  {
   "cell_type": "code",
   "execution_count": null,
   "id": "cc0c8d37-b7a3-44ba-8b36-ba1f8b6a8ad1",
   "metadata": {},
   "outputs": [],
   "source": [
    "id_seconds_nocall[\"filename\"] = id_seconds_nocall[\"id\"].apply(lambda x: x + \".ogg\")\n",
    "id_seconds_nocall"
   ]
  },
  {
   "cell_type": "code",
   "execution_count": null,
   "id": "ed4c97b8-7803-4382-a5bf-64b87082220e",
   "metadata": {},
   "outputs": [],
   "source": [
    "id_seconds_nocall.to_csv(\"../pseudo/v1/negative_filtered_02.csv\", index=False)"
   ]
  },
  {
   "cell_type": "code",
   "execution_count": null,
   "id": "5009066d-a06b-453d-822f-a66d709cc92e",
   "metadata": {},
   "outputs": [],
   "source": [
    "id_seconds_nocall.iloc[1482]"
   ]
  },
  {
   "cell_type": "code",
   "execution_count": null,
   "id": "5ac6a585-75c8-44e6-b066-2a55f043c2cd",
   "metadata": {},
   "outputs": [],
   "source": []
  }
 ],
 "metadata": {
  "kernelspec": {
   "display_name": "Python 3 (ipykernel)",
   "language": "python",
   "name": "python3"
  },
  "language_info": {
   "codemirror_mode": {
    "name": "ipython",
    "version": 3
   },
   "file_extension": ".py",
   "mimetype": "text/x-python",
   "name": "python",
   "nbconvert_exporter": "python",
   "pygments_lexer": "ipython3",
   "version": "3.11.11"
  }
 },
 "nbformat": 4,
 "nbformat_minor": 5
}
