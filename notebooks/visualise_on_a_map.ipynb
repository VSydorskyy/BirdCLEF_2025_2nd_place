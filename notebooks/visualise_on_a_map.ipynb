{
 "cells": [
  {
   "cell_type": "code",
   "execution_count": 11,
   "id": "bcb56169-2ed4-4552-a182-a09da0fa5c9d",
   "metadata": {},
   "outputs": [],
   "source": [
    "import pandas as pd\n",
    "import numpy as np\n",
    "\n",
    "import folium"
   ]
  },
  {
   "cell_type": "code",
   "execution_count": 12,
   "id": "e5170f14-20b3-4838-be14-5492277117d4",
   "metadata": {},
   "outputs": [],
   "source": [
    "def convert_lat_long(input):\n",
    "    try:\n",
    "        return float(input)\n",
    "    except:\n",
    "        return np.nan"
   ]
  },
  {
   "cell_type": "code",
   "execution_count": 13,
   "id": "cb0d9ae5-694c-4f2c-b659-30f66a484543",
   "metadata": {},
   "outputs": [],
   "source": [
    "train_df = pd.read_csv(\n",
    "    \"/home/vova/data/exps/birdclef_2024/birdclef_2024/train_metadata_extended_noduplv1.csv\"\n",
    ")\n",
    "train_df = train_df.dropna(subset=[\"latitude\", \"longitude\"]).reset_index(drop=True)\n",
    "prev_data_df = pd.read_csv(\n",
    "    \"/home/vova/data/exps/birdclef_2024/dfs/full_noduplsV3_scored_meta_prev_comps_extended_2024SecLabels.csv\",\n",
    "    converters={\"latitude\": convert_lat_long, \"longitude\": convert_lat_long}\n",
    ")\n",
    "prev_data_df = prev_data_df.dropna(subset=[\"latitude\", \"longitude\"]).reset_index(drop=True)\n",
    "xc_data_df = pd.read_csv(\n",
    "    \"/home/vova/data/exps/birdclef_2024/xeno_canto/dataset_2024_classes/train_metadata_noduplV3_extended_2024SecLabels.csv\",\n",
    "    converters={\"latitude\": convert_lat_long, \"longitude\": convert_lat_long}\n",
    ")\n",
    "xc_data_df = xc_data_df.dropna(subset=[\"latitude\", \"longitude\"]).reset_index(drop=True)"
   ]
  },
  {
   "cell_type": "code",
   "execution_count": 4,
   "id": "34b551f5-be6f-4fc7-934d-bd5db6a03870",
   "metadata": {},
   "outputs": [],
   "source": [
    "def india_filter(input_df, pad=0.5):\n",
    "    return input_df[\n",
    "        (input_df[\"latitude\"] >= 6.75 - pad) & (input_df[\"latitude\"] <= 35.5 + pad) &\n",
    "        (input_df[\"longitude\"] >= 68.2 - pad) & (input_df[\"longitude\"] <= 97.4 + pad)\n",
    "    ].reset_index(drop=True)"
   ]
  },
  {
   "cell_type": "code",
   "execution_count": 5,
   "id": "0c770acc-bdf4-428a-a838-5cc504aeb776",
   "metadata": {},
   "outputs": [
    {
     "data": {
      "text/plain": [
       "(23977, 4903)"
      ]
     },
     "execution_count": 5,
     "metadata": {},
     "output_type": "execute_result"
    }
   ],
   "source": [
    "train_df.shape[0], india_filter(train_df).shape[0]"
   ]
  },
  {
   "cell_type": "code",
   "execution_count": 6,
   "id": "73532e20-0cc9-4352-8597-f9daa3fc4a18",
   "metadata": {},
   "outputs": [
    {
     "data": {
      "text/plain": [
       "(182, 179)"
      ]
     },
     "execution_count": 6,
     "metadata": {},
     "output_type": "execute_result"
    }
   ],
   "source": [
    "len(set(train_df[\"primary_label\"])), len(set(india_filter(train_df)[\"primary_label\"]))"
   ]
  },
  {
   "cell_type": "code",
   "execution_count": 7,
   "id": "31f17aeb-df7d-49b9-82be-08efd3f3a144",
   "metadata": {},
   "outputs": [
    {
     "data": {
      "text/plain": [
       "(2694, 26)"
      ]
     },
     "execution_count": 7,
     "metadata": {},
     "output_type": "execute_result"
    }
   ],
   "source": [
    "prev_data_df.shape[0], india_filter(prev_data_df).shape[0]"
   ]
  },
  {
   "cell_type": "code",
   "execution_count": 8,
   "id": "a23ec604-16fb-4615-8afe-b5eeed256dd5",
   "metadata": {},
   "outputs": [
    {
     "data": {
      "text/plain": [
       "(14, 6)"
      ]
     },
     "execution_count": 8,
     "metadata": {},
     "output_type": "execute_result"
    }
   ],
   "source": [
    "len(set(prev_data_df[\"primary_label\"])), len(set(india_filter(prev_data_df)[\"primary_label\"]))"
   ]
  },
  {
   "cell_type": "code",
   "execution_count": 9,
   "id": "3a988b14-87a8-4f64-953d-86b9a72e8c8e",
   "metadata": {},
   "outputs": [
    {
     "data": {
      "text/plain": [
       "(21404, 2937)"
      ]
     },
     "execution_count": 9,
     "metadata": {},
     "output_type": "execute_result"
    }
   ],
   "source": [
    "xc_data_df.shape[0], india_filter(xc_data_df).shape[0]"
   ]
  },
  {
   "cell_type": "code",
   "execution_count": 10,
   "id": "83f54ee0-7e89-4548-a071-b6158d08bf6b",
   "metadata": {},
   "outputs": [
    {
     "data": {
      "text/plain": [
       "(182, 180)"
      ]
     },
     "execution_count": 10,
     "metadata": {},
     "output_type": "execute_result"
    }
   ],
   "source": [
    "len(set(xc_data_df[\"primary_label\"])), len(set(india_filter(xc_data_df)[\"primary_label\"]))"
   ]
  },
  {
   "cell_type": "code",
   "execution_count": null,
   "id": "83ca8d9c-0234-43c6-90f9-357d1c8f8c8d",
   "metadata": {},
   "outputs": [],
   "source": [
    "# Create a map centered around an average location\n",
    "m = folium.Map(location=[train_df['latitude'].mean(), train_df['longitude'].mean()], zoom_start=5)\n",
    "\n",
    "# Add points\n",
    "for i, row in train_df.iterrows():\n",
    "    folium.Marker([row['latitude'], row['longitude']], popup=row['primary_label']).add_to(m)\n",
    "\n",
    "# Display the map\n",
    "m"
   ]
  },
  {
   "cell_type": "markdown",
   "id": "9e55dbbf-fc63-458e-b87a-70ad7e75c17b",
   "metadata": {},
   "source": [
    "# Prepare Data"
   ]
  },
  {
   "cell_type": "code",
   "execution_count": 14,
   "id": "7041eb00-cfb5-42df-a491-1e6cc3c250be",
   "metadata": {},
   "outputs": [],
   "source": [
    "train_df_india = india_filter(train_df)\n",
    "prev_data_df_india = india_filter(prev_data_df)\n",
    "xc_data_df_india = india_filter(xc_data_df)"
   ]
  },
  {
   "cell_type": "code",
   "execution_count": 16,
   "id": "17c06e90-1c74-4b23-993d-712e189773eb",
   "metadata": {},
   "outputs": [],
   "source": [
    "prev_data_df_india.to_csv(\n",
    "    \"/home/vova/data/exps/birdclef_2024/dfs/full_noduplsV3_scored_meta_prev_comps_extended_2024SecLabels_IndiaV1.csv\",\n",
    "    index=False\n",
    ")"
   ]
  },
  {
   "cell_type": "code",
   "execution_count": 18,
   "id": "809ca48c-adf9-442a-8e20-cdbefb70d84b",
   "metadata": {},
   "outputs": [],
   "source": [
    "xc_data_df_india.to_csv(\n",
    "    \"/home/vova/data/exps/birdclef_2024/xeno_canto/dataset_2024_classes/train_metadata_noduplV3_extended_2024SecLabels_IndiaV1.csv\",\n",
    "    index=False\n",
    ")"
   ]
  },
  {
   "cell_type": "code",
   "execution_count": null,
   "id": "d600eb05-f0a5-4e28-bfa5-026937b15c54",
   "metadata": {},
   "outputs": [],
   "source": []
  }
 ],
 "metadata": {
  "kernelspec": {
   "display_name": "Python 3 (ipykernel)",
   "language": "python",
   "name": "python3"
  },
  "language_info": {
   "codemirror_mode": {
    "name": "ipython",
    "version": 3
   },
   "file_extension": ".py",
   "mimetype": "text/x-python",
   "name": "python",
   "nbconvert_exporter": "python",
   "pygments_lexer": "ipython3",
   "version": "3.11.6"
  }
 },
 "nbformat": 4,
 "nbformat_minor": 5
}
