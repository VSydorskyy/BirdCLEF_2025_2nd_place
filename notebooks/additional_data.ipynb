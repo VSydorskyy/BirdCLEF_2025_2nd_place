{
 "cells": [
  {
   "cell_type": "code",
   "execution_count": null,
   "id": "56e4a56c-b4a6-4ffd-8148-097669a1a305",
   "metadata": {},
   "outputs": [],
   "source": [
    "import pandas as pd\n",
    "import numpy as np\n",
    "import librosa\n",
    "import seaborn as sns\n",
    "import os\n",
    "import json\n",
    "import IPython.display as ipd\n",
    "import soundfile as sf\n",
    "import math\n",
    "import torch\n",
    "import h5py\n",
    "import re\n",
    "from scipy.io import wavfile\n",
    "\n",
    "from glob import glob\n",
    "from tqdm import tqdm\n",
    "from matplotlib import pyplot as plt\n",
    "from itertools import chain\n",
    "from os.path import join as pjoin\n",
    "from shutil import copyfile\n",
    "from copy import deepcopy\n",
    "from itertools import chain\n",
    "from sklearn.model_selection import train_test_split\n",
    "from joblib import delayed\n",
    "\n",
    "from code_base.utils import write_json, load_json\n",
    "from code_base.utils.main_utils import ProgressParallel\n",
    "\n",
    "from code_base.utils import parallel_librosa_load\n",
    "%matplotlib inline"
   ]
  },
  {
   "cell_type": "code",
   "execution_count": null,
   "id": "31a317d8-c2c0-457d-93c0-ea1269ac108e",
   "metadata": {},
   "outputs": [],
   "source": [
    "def check_url_structure(input_df, with_xc=True):\n",
    "    if with_xc:\n",
    "        return (\n",
    "            input_df[\"url\"].apply(lambda x: x.split(\"/\")[-1]) == \n",
    "            input_df[\"filename\"].apply(lambda x: os.path.splitext(x.split(\"/\")[-1])[0][2:])\n",
    "        ).all()\n",
    "    else:\n",
    "        return (\n",
    "            input_df[\"url\"].apply(lambda x: x.split(\"/\")[-1]) == \n",
    "            input_df[\"filename\"].apply(lambda x: os.path.splitext(x.split(\"/\")[-1])[0])\n",
    "        ).all()"
   ]
  },
  {
   "cell_type": "code",
   "execution_count": null,
   "id": "ae9e8896-a461-4462-9618-d2c7c1b0a33b",
   "metadata": {},
   "outputs": [],
   "source": [
    "def read_length_and_sr(file_path: str):\n",
    "    with h5py.File(file_path, \"r\") as data_file:\n",
    "        au_length = data_file[\"au\"].shape[0]\n",
    "        sr = int(np.array(data_file[\"sr\"]))\n",
    "    return au_length, sr"
   ]
  },
  {
   "cell_type": "markdown",
   "id": "e4671737-76d2-41ec-b15b-c1942a8ae517",
   "metadata": {},
   "source": [
    "# 2024 Data"
   ]
  },
  {
   "cell_type": "code",
   "execution_count": null,
   "id": "b049f694-714a-498f-922a-b5f3c36b2f3e",
   "metadata": {},
   "outputs": [],
   "source": [
    "eBird_Taxonomy_v2021 = pd.read_csv(\"/home/vova/data/exps/birdclef_2024/birdclef_2024/eBird_Taxonomy_v2021.csv\")\n",
    "sample_submission = pd.read_csv(\"/home/vova/data/exps/birdclef_2024/birdclef_2024/sample_submission.csv\")\n",
    "train_metadata = pd.read_csv(\"/home/vova/data/exps/birdclef_2024/birdclef_2024/train_metadata_extended.csv\", converters={\"secondary_labels\": eval, \"all_labels\": eval})"
   ]
  },
  {
   "cell_type": "code",
   "execution_count": null,
   "id": "fc7477ef-4235-4b92-8d71-bb8754c0a98e",
   "metadata": {},
   "outputs": [],
   "source": [
    "scored_birds = set(sample_submission.columns[1:].tolist())"
   ]
  },
  {
   "cell_type": "code",
   "execution_count": null,
   "id": "bc22d50d-099f-4ea4-9311-a43afafb79b0",
   "metadata": {},
   "outputs": [],
   "source": [
    "check_url_structure(train_metadata)"
   ]
  },
  {
   "cell_type": "code",
   "execution_count": null,
   "id": "c501ae60-5533-4853-901a-d6fa60862325",
   "metadata": {},
   "outputs": [],
   "source": [
    "train_metadata.url.value_counts()"
   ]
  },
  {
   "cell_type": "markdown",
   "id": "988c0233-d11b-443c-be42-a93dffaca927",
   "metadata": {},
   "source": [
    "# 2023 Data"
   ]
  },
  {
   "cell_type": "code",
   "execution_count": null,
   "id": "afce25ed-7f54-4fb9-bc5f-53051e418bef",
   "metadata": {},
   "outputs": [],
   "source": [
    "# eBird_Taxonomy_v2021 = pd.read_csv(\"/home/vova/data/exps/birdclef_2024/birdclef_2023/eBird_Taxonomy_v2021.csv\")\n",
    "sample_submission_2023 = pd.read_csv(\"/home/vova/data/exps/birdclef_2024/birdclef_2023/sample_submission.csv\")\n",
    "train_metadata_2023 = pd.read_csv(\"/home/vova/data/exps/birdclef_2024/birdclef_2023/train_metadata.csv\", converters={\"secondary_labels\": eval})"
   ]
  },
  {
   "cell_type": "code",
   "execution_count": null,
   "id": "1e705516-3c74-4ab5-83a6-f8b7181c1712",
   "metadata": {},
   "outputs": [],
   "source": [
    "train_metadata_2023[\"dataset\"] = \"comp_2023\""
   ]
  },
  {
   "cell_type": "code",
   "execution_count": null,
   "id": "fe879509-ac0c-4086-9c7f-a9b5c567161c",
   "metadata": {},
   "outputs": [],
   "source": [
    "train_metadata_2023.url.value_counts()"
   ]
  },
  {
   "cell_type": "code",
   "execution_count": null,
   "id": "ae59a7e9-965d-4cb2-ac23-6cf35f8bbc0f",
   "metadata": {},
   "outputs": [],
   "source": [
    "check_url_structure(train_metadata_2023)"
   ]
  },
  {
   "cell_type": "code",
   "execution_count": null,
   "id": "fb6d247a-60da-4638-bfb2-e9087a6f1a6d",
   "metadata": {},
   "outputs": [],
   "source": [
    "train_metadata_2023[\"all_labels\"] = train_metadata_2023.apply(lambda row: [row[\"primary_label\"]] + row[\"secondary_labels\"], axis=1)\n",
    "scored_filenames_2023 = train_metadata_2023.loc[\n",
    "    train_metadata_2023[\"all_labels\"].apply(lambda x: len(set(x) & scored_birds) > 0), \n",
    "    \"filename\"\n",
    "].tolist()\n",
    "print(f\"New scored recordings: {len(set(scored_filenames_2023) - set(train_metadata.filename))}\")\n",
    "print(f\"New recording: {len(set(train_metadata_2023.filename) - set(train_metadata.filename))}\")"
   ]
  },
  {
   "cell_type": "markdown",
   "id": "811b552f-1224-4a79-bcae-10b561faf587",
   "metadata": {},
   "source": [
    "# 2022 Data"
   ]
  },
  {
   "cell_type": "code",
   "execution_count": null,
   "id": "809f2492-5df3-4d7e-9f46-beacf5d37d02",
   "metadata": {},
   "outputs": [],
   "source": [
    "glob(\"/home/vova/data/exps/BirdCLEF_2023/birdclef_2022/*.csv\")"
   ]
  },
  {
   "cell_type": "code",
   "execution_count": null,
   "id": "bcf48043-6637-443b-9b85-972b6014c292",
   "metadata": {},
   "outputs": [],
   "source": [
    "# eBird_Taxonomy_v2021_2022 = pd.read_csv(\"/home/vova/data/exps/BirdCLEF_2023/birdclef_2022/eBird_Taxonomy_v2021.csv\")\n",
    "sample_submission_2022 = pd.read_csv(\"/home/vova/data/exps/birdclef_2024/birdclef_2022/sample_submission.csv\")\n",
    "train_metadata_2022 = pd.read_csv(\"/home/vova/data/exps/birdclef_2024/birdclef_2022/train_metadata_fixed.csv\", converters={\"secondary_labels\": eval})\n",
    "test_2022 = pd.read_csv(\"/home/vova/data/exps/birdclef_2024/birdclef_2022/test.csv\")"
   ]
  },
  {
   "cell_type": "code",
   "execution_count": null,
   "id": "9f1de89c-fb97-4ccb-8f13-5a684dcd2002",
   "metadata": {},
   "outputs": [],
   "source": [
    "train_metadata_2022[\"dataset\"] = \"comp_2022\""
   ]
  },
  {
   "cell_type": "code",
   "execution_count": null,
   "id": "163a8ef3-f243-44e2-be16-0baa3e4a261b",
   "metadata": {},
   "outputs": [],
   "source": [
    "train_metadata_2022.url.value_counts()"
   ]
  },
  {
   "cell_type": "code",
   "execution_count": null,
   "id": "e871ca19-db0e-4701-b42c-3bb962aa04f1",
   "metadata": {},
   "outputs": [],
   "source": [
    "# train_metadata_2022[\n",
    "#     train_metadata_2022.url.isin([\n",
    "#         \"https://www.xeno-canto.org/294370\",\n",
    "#         \"https://www.xeno-canto.org/501149\"\n",
    "#     ])\n",
    "# ]"
   ]
  },
  {
   "cell_type": "code",
   "execution_count": null,
   "id": "e933d92e-5fd8-415a-af00-aa24664f68db",
   "metadata": {},
   "outputs": [],
   "source": [
    "# train_metadata_2022.loc[5748, \"secondary_labels\"] = [\"mallar3\"]\n",
    "# train_metadata_2022 = train_metadata_2022.drop(index=[8441])\n",
    "\n",
    "# train_metadata_2022.loc[1518, \"secondary_labels\"] = [\"gadwal\"]\n",
    "# train_metadata_2022 = train_metadata_2022.drop(index=[5208])\n",
    "\n",
    "# train_metadata_2022 = train_metadata_2022.reset_index(drop=True)\n",
    "# train_metadata_2022.to_csv(\n",
    "#     \"/home/vova/data/exps/birdclef_2024/birdclef_2022/train_metadata_fixed.csv\",\n",
    "#     index=False\n",
    "# )"
   ]
  },
  {
   "cell_type": "code",
   "execution_count": null,
   "id": "aa1db1b3-121e-420a-bb18-c3ea49cd825b",
   "metadata": {},
   "outputs": [],
   "source": [
    "# train_metadata_2022 = train_metadata_2022.drop_duplicates(\"url\", keep=False).reset_index(drop=True)"
   ]
  },
  {
   "cell_type": "code",
   "execution_count": null,
   "id": "56dab74c-9ea6-4f5e-a660-f9c69f3138e8",
   "metadata": {},
   "outputs": [],
   "source": [
    "train_metadata_2022.url.value_counts()"
   ]
  },
  {
   "cell_type": "code",
   "execution_count": null,
   "id": "c88005f0-00e3-43e5-9b00-84d20a2368bb",
   "metadata": {},
   "outputs": [],
   "source": [
    "check_url_structure(train_metadata_2022)"
   ]
  },
  {
   "cell_type": "code",
   "execution_count": null,
   "id": "0c08a56f-d333-4f82-b23e-a5616a1e5dea",
   "metadata": {},
   "outputs": [],
   "source": [
    "train_metadata_2022[\"all_labels\"] = train_metadata_2022.apply(lambda row: [row[\"primary_label\"]] + row[\"secondary_labels\"], axis=1)\n",
    "scored_filenames_2022 = train_metadata_2022.loc[\n",
    "    train_metadata_2022[\"all_labels\"].apply(lambda x: len(set(x) & scored_birds) > 0), \n",
    "    \"filename\"\n",
    "].tolist()\n",
    "print(f\"New scored recordings: {len(set(scored_filenames_2022) - (set(train_metadata.url) | set(train_metadata_2023.url)))}\")\n",
    "print(f\"New recording: {len(set(train_metadata_2022.filename) - (set(train_metadata.url) | set(train_metadata_2023.url)))}\")"
   ]
  },
  {
   "cell_type": "code",
   "execution_count": null,
   "id": "1f89e707-e0ca-46e8-babd-a4b48f55a08f",
   "metadata": {},
   "outputs": [],
   "source": [
    "print(f\"New recording: {len(set(train_metadata_2022.url) - set(train_metadata.url))}\")"
   ]
  },
  {
   "cell_type": "markdown",
   "id": "0c5fab66-5ba1-4eed-8457-354b849e4f86",
   "metadata": {},
   "source": [
    "# 2021 Data"
   ]
  },
  {
   "cell_type": "code",
   "execution_count": null,
   "id": "47430038-1006-40e2-944e-58ff8b1a8f86",
   "metadata": {},
   "outputs": [],
   "source": [
    "glob(\"/home/vova/data/exps/birdclef_2024/birdclef_2021/*\")"
   ]
  },
  {
   "cell_type": "code",
   "execution_count": null,
   "id": "2da7de21-a726-4fa1-abf0-cea4cf1b397b",
   "metadata": {},
   "outputs": [],
   "source": [
    "sample_submission_2021 = pd.read_csv(\"/home/vova/data/exps/birdclef_2024/birdclef_2021/sample_submission.csv\")\n",
    "train_metadata_2021 = pd.read_csv(\"/home/vova/data/exps/birdclef_2024/birdclef_2021/train_metadata.csv\", converters={\"secondary_labels\": eval})\n",
    "test_2021 = pd.read_csv(\"/home/vova/data/exps/birdclef_2024/birdclef_2021/test.csv\")\n",
    "train_soundscape_labels_2021 = pd.read_csv(\"/home/vova/data/exps/birdclef_2024/birdclef_2021/train_soundscape_labels.csv\")\n",
    "\n",
    "train_metadata_2021.secondary_labels = train_metadata_2021.secondary_labels.apply(lambda x: [\"rocpig\" if el == \"rocpig1\" else el for el in x])"
   ]
  },
  {
   "cell_type": "code",
   "execution_count": null,
   "id": "66e9f735-2f19-4119-90d6-832c1b6c9924",
   "metadata": {},
   "outputs": [],
   "source": [
    "# Create filename\n",
    "train_metadata_2021[\"filename\"] = train_metadata_2021.apply(lambda x: pjoin(x[\"primary_label\"], x[\"filename\"]), axis=1)"
   ]
  },
  {
   "cell_type": "code",
   "execution_count": null,
   "id": "2270b5eb-3369-4bf7-8d09-95c4f721880f",
   "metadata": {},
   "outputs": [],
   "source": [
    "train_metadata_2021[\"dataset\"] = \"comp_2021\""
   ]
  },
  {
   "cell_type": "code",
   "execution_count": null,
   "id": "ac69c659-c1f9-4469-be85-88a317325a72",
   "metadata": {},
   "outputs": [],
   "source": [
    "train_metadata_2021.url.value_counts()"
   ]
  },
  {
   "cell_type": "code",
   "execution_count": null,
   "id": "c9923bb0-4f79-4e40-8f52-441a0a9e1693",
   "metadata": {},
   "outputs": [],
   "source": [
    "train_metadata_2021[\"all_labels\"] = train_metadata_2021.apply(lambda row: [row[\"primary_label\"]] + row[\"secondary_labels\"], axis=1)\n",
    "scored_filenames_2021 = train_metadata_2021.loc[\n",
    "    train_metadata_2021[\"all_labels\"].apply(lambda x: len(set(x) & scored_birds) > 0), \n",
    "    \"filename\"\n",
    "].tolist()\n",
    "print(f\"New scored recordings: {len(set(scored_filenames_2021) - (set(train_metadata.filename) | set(train_metadata_2022.filename) | set(train_metadata_2023.url)))}\")\n",
    "print(f\"New recording: {len(set(train_metadata_2021.filename) - (set(train_metadata.filename) | set(train_metadata_2022.filename) | set(train_metadata_2023.url)))}\")"
   ]
  },
  {
   "cell_type": "code",
   "execution_count": null,
   "id": "8235ffdf-0028-4564-974f-77672fbc8bac",
   "metadata": {},
   "outputs": [],
   "source": [
    "print(f\"New recording: {len(set(train_metadata_2021.url) - (set(train_metadata.url) | set(train_metadata_2022.url) | set(train_metadata_2023.url)))}\")"
   ]
  },
  {
   "cell_type": "markdown",
   "id": "23998a65-ebd5-48cb-8bb0-0188d0108535",
   "metadata": {},
   "source": [
    "# 2020 Data"
   ]
  },
  {
   "cell_type": "code",
   "execution_count": null,
   "id": "6c82da42-660e-402b-8a5d-fae3cb66b0c7",
   "metadata": {},
   "outputs": [],
   "source": [
    "glob(\"/home/vova/data/exps/birdclef_2024/birdsong_recognition/*\")"
   ]
  },
  {
   "cell_type": "code",
   "execution_count": null,
   "id": "99310cc0-35e0-4386-8e3b-d999b76eb60a",
   "metadata": {},
   "outputs": [],
   "source": [
    "glob(\"/home/vova/data/exps/birdclef_2024/xeno_canto_bird_recordings_extended_a_m/*\")"
   ]
  },
  {
   "cell_type": "code",
   "execution_count": null,
   "id": "b782608b-f184-4f4d-bfd9-4e819333a782",
   "metadata": {},
   "outputs": [],
   "source": [
    "glob(\"/home/vova/data/exps/birdclef_2024/xeno_canto_bird_recordings_extended_n_z/*\")"
   ]
  },
  {
   "cell_type": "code",
   "execution_count": null,
   "id": "1d32768d-6b1b-42ee-97fb-c99140383d7a",
   "metadata": {},
   "outputs": [],
   "source": [
    "example_test_audio_metadata_2020 = pd.read_csv(\"/home/vova/data/exps/birdclef_2024/birdsong_recognition/example_test_audio_metadata.csv\")\n",
    "example_test_audio_summary_2020 = pd.read_csv(\"/home/vova/data/exps/birdclef_2024/birdsong_recognition/example_test_audio_summary.csv\")\n",
    "sample_submission_2020 = pd.read_csv(\"/home/vova/data/exps/birdclef_2024/birdsong_recognition/sample_submission.csv\")\n",
    "test_2020 = pd.read_csv(\"/home/vova/data/exps/birdclef_2024/birdsong_recognition/test.csv\")\n",
    "train_2020 = pd.read_csv(\"/home/vova/data/exps/birdclef_2024/birdsong_recognition/train.csv\", converters={\"secondary_labels\": eval})\n",
    "\n",
    "train_xc_a_m_2020 = pd.read_csv(\"/home/vova/data/exps/birdclef_2024/xeno_canto_bird_recordings_extended_a_m/train_extended.csv\", converters={\"secondary_labels\": eval})\n",
    "# train_xc_n_z_2020 = pd.read_csv(\"/home/vova/data/exps/birdclef_2024/xeno_canto_bird_recordings_extended_n_z/train_extended.csv\", converters={\"secondary_labels\": eval})\n",
    "\n",
    "# train_2020[\"dataset\"] = \"comp_2020\"\n",
    "# train_xc_a_m_2020[\"dataset\"] = \"a_m_2020\"\n",
    "# train_xc_n_z_2020[\"dataset\"] = \"n_z_2020\"\n",
    "# train_2020 = pd.concat([\n",
    "#     train_2020, train_xc_a_m_2020, train_xc_n_z_2020\n",
    "# ]).reset_index(drop=True)\n",
    "# train_2020 = train_2020.drop_duplicates(\"url\").reset_index(drop=True)"
   ]
  },
  {
   "cell_type": "code",
   "execution_count": null,
   "id": "771f6ab8-bc89-4173-96ff-07b73610f254",
   "metadata": {},
   "outputs": [],
   "source": [
    "(\n",
    "    len(glob(\"/home/vova/data/exps/birdclef_2024/xeno_canto_bird_recordings_extended_a_m/A-M/*/*.mp3\")) + len(glob(\"/home/vova/data/exps/birdclef_2024/xeno_canto_bird_recordings_extended_n_z/N-Z/*/*.mp3\"))\n",
    ") == train_xc_a_m_2020.shape[0]"
   ]
  },
  {
   "cell_type": "code",
   "execution_count": null,
   "id": "f3aeabbe-cc19-45b7-97ce-1cc1f850bb23",
   "metadata": {},
   "outputs": [],
   "source": [
    "train_2020[\"url\"].value_counts()"
   ]
  },
  {
   "cell_type": "code",
   "execution_count": null,
   "id": "f5943882-f0f4-425d-a92c-924dd2e9654e",
   "metadata": {},
   "outputs": [],
   "source": [
    "check_url_structure(train_2020)"
   ]
  },
  {
   "cell_type": "code",
   "execution_count": null,
   "id": "8d145ca1-f1d9-46fb-8e76-5c8ac4cd70cf",
   "metadata": {},
   "outputs": [],
   "source": [
    "train_xc_a_m_2020[\"url\"].value_counts()"
   ]
  },
  {
   "cell_type": "code",
   "execution_count": null,
   "id": "e3acd857-0fa9-4508-b4d6-fdebe549c9fb",
   "metadata": {},
   "outputs": [],
   "source": [
    "check_url_structure(train_xc_a_m_2020)"
   ]
  },
  {
   "cell_type": "code",
   "execution_count": null,
   "id": "1747865a-7c3a-4584-a17c-f078940552b4",
   "metadata": {},
   "outputs": [],
   "source": [
    "train_xc_a_m_2020[\"dataset\"] = None\n",
    "train_xc_a_m_2020.loc[\n",
    "    train_xc_a_m_2020[\"ebird_code\"].isin(os.listdir(\"/home/vova/data/exps/birdclef_2024/xeno_canto_bird_recordings_extended_a_m/A-M/\")),\n",
    "    \"dataset\"\n",
    "] = \"a_m_2020\"\n",
    "train_xc_a_m_2020.loc[\n",
    "    train_xc_a_m_2020[\"ebird_code\"].isin(os.listdir(\"/home/vova/data/exps/birdclef_2024/xeno_canto_bird_recordings_extended_n_z/N-Z/\")),\n",
    "    \"dataset\"\n",
    "] = \"n_z_2020\"\n",
    "train_xc_a_m_2020[\"dataset\"].isna().sum()"
   ]
  },
  {
   "cell_type": "code",
   "execution_count": null,
   "id": "9b8bab9d-d3cb-4944-9176-7275fa32cfd9",
   "metadata": {},
   "outputs": [],
   "source": [
    "train_2020[\"dataset\"] = \"comp_2020\"\n",
    "train_2020 = pd.concat([\n",
    "    train_2020, train_xc_a_m_2020\n",
    "])\n",
    "train_2020 = train_2020.drop_duplicates(\"url\").reset_index(drop=True)"
   ]
  },
  {
   "cell_type": "code",
   "execution_count": null,
   "id": "031c27a6-1c8c-4613-a3ed-cb2269e587e8",
   "metadata": {},
   "outputs": [],
   "source": [
    "train_2020"
   ]
  },
  {
   "cell_type": "code",
   "execution_count": null,
   "id": "0e13036b-4345-44af-91a4-209bf7179da1",
   "metadata": {},
   "outputs": [],
   "source": [
    "# Rename to other years convention\n",
    "train_2020 = train_2020.rename(columns={\"sci_name\": \"scientific_name\", \"species\": \"common_name\"})\n",
    "# Transform secondary_labels\n",
    "ebird2name = train_2020.drop_duplicates(\"ebird_code\")[[\"ebird_code\", \"primary_label\"]].set_index(\"ebird_code\")[\"primary_label\"].to_dict()\n",
    "name2ebird = {v:k for k,v in ebird2name.items()}\n",
    "train_2020['secondary_labels'] = train_2020['secondary_labels'].apply(lambda x: [name2ebird[el] for el in x if el in name2ebird])\n",
    "# ebird_code to primary_label\n",
    "train_2020[\"primary_label\"] = train_2020[\"ebird_code\"]\n",
    "# Create all_labels\n",
    "train_2020['all_labels'] = train_2020.apply(lambda x: [x[\"primary_label\"]] + x[\"secondary_labels\"], axis=1)\n",
    "# Create filename\n",
    "train_2020[\"filename\"] = train_2020.apply(lambda x: pjoin(x[\"primary_label\"], x[\"filename\"]).replace(\".mp3\", \".ogg\"), axis=1)"
   ]
  },
  {
   "cell_type": "code",
   "execution_count": null,
   "id": "3ee780ca-db71-4e73-b20a-fc2b9a3e6abb",
   "metadata": {},
   "outputs": [],
   "source": [
    "scored_filenames_2020 = train_2020.loc[\n",
    "    train_2020[\"all_labels\"].apply(lambda x: len(set(x) & scored_birds) > 0), \n",
    "    \"filename\"\n",
    "].tolist()\n",
    "print(f\"New scored recordings: {len(set(scored_filenames_2020) - (set(train_metadata.filename) | set(train_metadata_2022.filename) | set(train_metadata_2021.filename) | set(train_metadata_2023.filename)))}\")\n",
    "print(f\"New recording: {len(set(train_2020.filename) - (set(train_metadata.filename) | set(train_metadata_2022.filename) | set(train_metadata_2021.filename) | set(train_metadata_2023.filename)))}\")"
   ]
  },
  {
   "cell_type": "code",
   "execution_count": null,
   "id": "bdab5670-3f45-4bd9-bf56-b4e53904e748",
   "metadata": {},
   "outputs": [],
   "source": [
    "print(f\"New recording: {len(set(train_2020.url) - (set(train_metadata.url) | set(train_metadata_2022.url) | set(train_metadata_2021.url) | set(train_metadata_2023.filename)))}\")"
   ]
  },
  {
   "cell_type": "markdown",
   "id": "70594753-04aa-434f-b7fd-c7d40e93d5ca",
   "metadata": {},
   "source": [
    "# Compose Pretrain DataFrame"
   ]
  },
  {
   "cell_type": "code",
   "execution_count": null,
   "id": "b45a1d27-db5b-4b4a-99a6-afc6e4e8dd8f",
   "metadata": {},
   "outputs": [],
   "source": [
    "# train_metadata_2022[\"old_filename\"] = train_metadata_2022[\"filename\"]\n",
    "# train_metadata_2022[\"filename\"] = train_metadata_2022[\"filename\"].apply(lambda x: os.path.join(\"/home/vova/data/exps/BirdCLEF_2023/birdclef_2022/train_audio/\", x))"
   ]
  },
  {
   "cell_type": "code",
   "execution_count": null,
   "id": "64cd3534-f6a9-41e7-91b0-313355464b52",
   "metadata": {},
   "outputs": [],
   "source": [
    "# train_metadata_2021[\"old_filename\"] = train_metadata_2021[\"filename\"]\n",
    "# train_metadata_2021[\"filename\"] = train_metadata_2021[\"filename\"].apply(lambda x: os.path.join(\"/home/vova/data/exps/BirdCLEF_2023/birdclef_2021/train_short_audio/\", x))"
   ]
  },
  {
   "cell_type": "code",
   "execution_count": null,
   "id": "eb3f3cae-72f8-49e1-85bb-b21e5c8a526a",
   "metadata": {},
   "outputs": [],
   "source": [
    "# train_2020[\"old_filename\"] = train_2020[\"filename\"]\n",
    "\n",
    "# train_2020.loc[train_2020[\"2020_source\"] == \"comp\" ,\"filename\"] = (\n",
    "#     train_2020.loc[train_2020[\"2020_source\"] == \"comp\" ,\"filename\"].apply(lambda x: os.path.join(\"/home/vova/data/exps/BirdCLEF_2023/birdclef_2020/train_audio/\", x).replace(\".ogg\", \".mp3\"))\n",
    "# )\n",
    "# train_2020.loc[train_2020[\"2020_source\"] == \"a_m\" ,\"filename\"] = (\n",
    "#     train_2020.loc[train_2020[\"2020_source\"] == \"a_m\" ,\"filename\"].apply(lambda x: os.path.join(\"/home/vova/data/exps/BirdCLEF_2023/birdclef_2020_xc_a_m/A-M/\", x).replace(\".ogg\", \".mp3\"))\n",
    "# )\n",
    "# train_2020.loc[train_2020[\"2020_source\"] == \"n_z\" ,\"filename\"] = (\n",
    "#     train_2020.loc[train_2020[\"2020_source\"] == \"n_z\" ,\"filename\"].apply(lambda x: os.path.join(\"/home/vova/data/exps/BirdCLEF_2023/birdclef_2020_xc_n_z/N-Z/\", x).replace(\".ogg\", \".mp3\"))\n",
    "# )"
   ]
  },
  {
   "cell_type": "code",
   "execution_count": null,
   "id": "806ce48f-1f1e-49b1-853e-dae44f0705e1",
   "metadata": {},
   "outputs": [],
   "source": [
    "columns2take = list(\n",
    "    set(train_metadata_2023.columns) & \n",
    "    set(train_metadata_2022.columns) & \n",
    "    set(train_metadata_2021.columns) & \n",
    "    set(train_2020.columns)\n",
    ")\n",
    "columns2take"
   ]
  },
  {
   "cell_type": "code",
   "execution_count": null,
   "id": "6ca44818-4540-4e3f-8896-b57d46cd04f5",
   "metadata": {},
   "outputs": [],
   "source": [
    "# full_add_df_with_duplicates = pd.concat([train_metadata_2023, train_metadata_2022, train_metadata_2021, train_2020]).reset_index(drop=True)\n",
    "# full_add_df_with_duplicates.to_csv(\"/home/vova/data/exps/birdclef_2024/dfs/full_meta_prev_comps.csv\", index=False)\n",
    "# full_add_df_with_duplicates.shape"
   ]
  },
  {
   "cell_type": "code",
   "execution_count": null,
   "id": "e57e52ab-0a72-4c99-98ef-d360e950b447",
   "metadata": {},
   "outputs": [],
   "source": [
    "full_add_df_no_duplicates = pd.concat([\n",
    "    train_metadata_2023[columns2take],\n",
    "    train_metadata_2022.loc[~train_metadata_2022[\"url\"].isin(train_metadata_2023[\"url\"]), columns2take],\n",
    "    train_metadata_2021.loc[~train_metadata_2021[\"url\"].isin(set(train_metadata_2023[\"url\"]) | set(train_metadata_2022[\"url\"])), columns2take],\n",
    "    train_2020.loc[~train_2020[\"url\"].isin(set(train_metadata_2023[\"url\"]) | set(train_metadata_2022[\"url\"]) | set(train_metadata_2021[\"url\"])), columns2take]\n",
    "]).reset_index(drop=True)"
   ]
  },
  {
   "cell_type": "code",
   "execution_count": null,
   "id": "1a0746e8-e2d0-4c69-a9e8-8110196abd52",
   "metadata": {},
   "outputs": [],
   "source": [
    "full_add_df_no_duplicates[\"url\"].value_counts()"
   ]
  },
  {
   "cell_type": "code",
   "execution_count": null,
   "id": "70bcce84-d52b-4349-8288-85fcab1c878e",
   "metadata": {},
   "outputs": [],
   "source": [
    "set(train_metadata.columns) - set(full_add_df_no_duplicates.columns)"
   ]
  },
  {
   "cell_type": "code",
   "execution_count": null,
   "id": "af645085-423e-4fd4-952c-4e134140da57",
   "metadata": {},
   "outputs": [],
   "source": [
    "full_add_df_no_duplicates[\"dataset\"].value_counts()"
   ]
  },
  {
   "cell_type": "code",
   "execution_count": null,
   "id": "f69f9d6a-dcef-41bd-8f9c-1bc8134c3529",
   "metadata": {},
   "outputs": [],
   "source": [
    "dataset_mapping = {\n",
    "    \"comp_2021\":\"birdclef_2021/train_features/\",\n",
    "    \"comp_2023\":\"birdclef_2023/train_features/\",\n",
    "    \"comp_2022\":\"birdclef_2022/train_features/\",\n",
    "    \"comp_2020\":\"birdsong_recognition/train_features/\",\n",
    "    \"a_m_2020\": \"xeno_canto_bird_recordings_extended_a_m/train_features/\",\n",
    "    \"n_z_2020\": \"xeno_canto_bird_recordings_extended_n_z/train_features/\",\n",
    "}"
   ]
  },
  {
   "cell_type": "code",
   "execution_count": null,
   "id": "e2b092b5-d389-402a-bce2-85b39ea65535",
   "metadata": {},
   "outputs": [],
   "source": [
    "train_audio_lengts_and_srs =  ProgressParallel(n_jobs=32, total=len(full_add_df_no_duplicates))(\n",
    "    delayed(read_length_and_sr)(path) for path in full_add_df_no_duplicates.apply(\n",
    "        lambda row: os.path.join(\n",
    "            \"/home/vova/data/exps/birdclef_2024/\", dataset_mapping[row[\"dataset\"]], row[\"filename\"].replace(\".ogg\", \".hdf5\")\n",
    "        ), \n",
    "        axis=1\n",
    "    )\n",
    ")"
   ]
  },
  {
   "cell_type": "code",
   "execution_count": null,
   "id": "dea41bfd-c3b3-4f2d-b734-b901913a1fda",
   "metadata": {},
   "outputs": [],
   "source": [
    "full_add_df_no_duplicates[\"sample_rate\"] = [el[1] for el in train_audio_lengts_and_srs]\n",
    "full_add_df_no_duplicates[\"au_len\"] = [el[0] for el in train_audio_lengts_and_srs]\n",
    "full_add_df_no_duplicates[\"duration_s\"] = full_add_df_no_duplicates[\"au_len\"] / full_add_df_no_duplicates[\"sample_rate\"]"
   ]
  },
  {
   "cell_type": "code",
   "execution_count": null,
   "id": "f39d0c25-c4d7-4019-8127-738f55174aaa",
   "metadata": {},
   "outputs": [],
   "source": [
    "set(train_metadata.columns) - set(full_add_df_no_duplicates.columns)"
   ]
  },
  {
   "cell_type": "code",
   "execution_count": null,
   "id": "2f0f2522-d00b-4ac7-bfb0-b2619e10f933",
   "metadata": {},
   "outputs": [],
   "source": [
    "set(full_add_df_no_duplicates.columns) - set(train_metadata.columns)"
   ]
  },
  {
   "cell_type": "code",
   "execution_count": null,
   "id": "b2c7bb71-1fa0-4efa-85bd-31bc33293c3e",
   "metadata": {},
   "outputs": [],
   "source": [
    "full_add_df_no_duplicates.to_csv(\"/home/vova/data/exps/birdclef_2024/dfs/full_nodupls_meta_prev_comps_extended.csv\", index=False)"
   ]
  },
  {
   "cell_type": "code",
   "execution_count": null,
   "id": "2199580a-209b-4f38-bf71-f09e584e597b",
   "metadata": {},
   "outputs": [],
   "source": [
    "full_add_df_no_duplicates_v2 = full_add_df_no_duplicates[~full_add_df_no_duplicates[\"url\"].isin(train_metadata[\"url\"])].reset_index(drop=True)"
   ]
  },
  {
   "cell_type": "code",
   "execution_count": null,
   "id": "24aa8ccb-bc6a-4d51-b1cf-a302fc72a7b6",
   "metadata": {},
   "outputs": [],
   "source": [
    "full_add_df_no_duplicates_v2.to_csv(\"/home/vova/data/exps/birdclef_2024/dfs/full_noduplsV2_meta_prev_comps_extended.csv\", index=False)"
   ]
  },
  {
   "cell_type": "code",
   "execution_count": null,
   "id": "bb15ec6a-a005-43a9-a2ee-a80e55b05ae6",
   "metadata": {},
   "outputs": [],
   "source": [
    "train_metadata_unique_labels = set(chain(*train_metadata[\"all_labels\"].to_list()))\n",
    "len(train_metadata_unique_labels)"
   ]
  },
  {
   "cell_type": "code",
   "execution_count": null,
   "id": "ca906b91-8918-4c76-a9d7-73f1c1dc5ddb",
   "metadata": {},
   "outputs": [],
   "source": [
    "full_add_df_no_duplicates_v2_scored = full_add_df_no_duplicates_v2[\n",
    "    full_add_df_no_duplicates_v2[\"all_labels\"].apply(lambda x: len(set(x) & train_metadata_unique_labels) > 0)\n",
    "].reset_index(drop=True)"
   ]
  },
  {
   "cell_type": "code",
   "execution_count": null,
   "id": "b5af9778-6965-43e2-8a23-1fc5e06f1cc1",
   "metadata": {},
   "outputs": [],
   "source": [
    "full_add_df_no_duplicates_v2_scored.to_csv(\"/home/vova/data/exps/birdclef_2024/dfs/full_noduplsV2_scored_meta_prev_comps_extended.csv\", index=False)"
   ]
  },
  {
   "cell_type": "code",
   "execution_count": null,
   "id": "9eeb85de-0637-4165-ac6a-e82bc966a0c4",
   "metadata": {},
   "outputs": [],
   "source": [
    "train_metadata_with_prev_comp = pd.concat([train_metadata, full_add_df_no_duplicates_v2_scored]).reset_index(drop=True)"
   ]
  },
  {
   "cell_type": "code",
   "execution_count": null,
   "id": "6b7adb41-8cee-4f0e-991c-3797d836730e",
   "metadata": {},
   "outputs": [],
   "source": [
    "train_metadata_with_prev_comp.url.value_counts()"
   ]
  },
  {
   "cell_type": "code",
   "execution_count": null,
   "id": "3ea1991f-5817-47c3-b41c-d987b361a386",
   "metadata": {},
   "outputs": [],
   "source": [
    "train_metadata_with_prev_comp.to_csv(\"/home/vova/data/exps/birdclef_2024/dfs/train_2024_with_prev_extended.csv\", index=False)"
   ]
  },
  {
   "cell_type": "markdown",
   "id": "7aaa85f4-7ccd-487a-91cc-e1d940bda2bb",
   "metadata": {},
   "source": [
    "# Prune files"
   ]
  },
  {
   "cell_type": "code",
   "execution_count": null,
   "id": "848fccfc-c2ea-46c6-aeff-45e9cd714ee0",
   "metadata": {},
   "outputs": [],
   "source": [
    "full_add_df_no_duplicates = pd.read_csv(\n",
    "    \"/home/vova/data/exps/birdclef_2024/dfs/full_noduplsV2_meta_prev_comps_extended.csv\"\n",
    ")"
   ]
  },
  {
   "cell_type": "code",
   "execution_count": null,
   "id": "acd20b47-15b1-4d54-96b3-053eed99e678",
   "metadata": {},
   "outputs": [],
   "source": [
    "dataset_mapping = {\n",
    "    \"comp_2021\":\"birdclef_2021/train_features/\",\n",
    "    \"comp_2023\":\"birdclef_2023/train_features/\",\n",
    "    \"comp_2022\":\"birdclef_2022/train_features/\",\n",
    "    \"comp_2020\":\"birdsong_recognition/train_features/\",\n",
    "    \"a_m_2020\": \"xeno_canto_bird_recordings_extended_a_m/train_features/\",\n",
    "    \"n_z_2020\": \"xeno_canto_bird_recordings_extended_n_z/train_features/\",\n",
    "}"
   ]
  },
  {
   "cell_type": "code",
   "execution_count": null,
   "id": "eff60867-c3df-4507-8291-24c2744bf878",
   "metadata": {},
   "outputs": [],
   "source": [
    "full_add_df_no_duplicates[\"h5py_filename\"] = full_add_df_no_duplicates.apply(\n",
    "    lambda row: os.path.join(\n",
    "        \"/home/vova/data/exps/birdclef_2024/\", dataset_mapping[row[\"dataset\"]], row[\"filename\"].replace(\".ogg\", \".hdf5\")\n",
    "    ), \n",
    "    axis=1\n",
    ")"
   ]
  },
  {
   "cell_type": "code",
   "execution_count": null,
   "id": "95338eec-9640-44a8-baa4-f66360ea41c3",
   "metadata": {},
   "outputs": [],
   "source": [
    "full_add_df_no_duplicates.shape"
   ]
  },
  {
   "cell_type": "code",
   "execution_count": null,
   "id": "0e710499-383f-4a61-86e0-340dc1a8fba7",
   "metadata": {},
   "outputs": [],
   "source": [
    "full_add_df_no_duplicates[\"h5py_filename\"].apply(os.path.exists).all()"
   ]
  },
  {
   "cell_type": "code",
   "execution_count": null,
   "id": "b373159d-fbe5-4663-a25d-7738cd72b0a5",
   "metadata": {},
   "outputs": [],
   "source": [
    "picked_files = set(full_add_df_no_duplicates[\"h5py_filename\"])"
   ]
  },
  {
   "cell_type": "code",
   "execution_count": null,
   "id": "b85b6a9a-7388-47d3-a27f-25557b17a18f",
   "metadata": {},
   "outputs": [],
   "source": [
    "full_add_df_no_duplicates[\"h5py_filename\"].iloc[0]"
   ]
  },
  {
   "cell_type": "code",
   "execution_count": null,
   "id": "9c62d7ce-7dfe-4db0-9a05-5bad712b6659",
   "metadata": {},
   "outputs": [],
   "source": [
    "all_h5py_files = (\n",
    "    glob(\"/home/vova/data/exps/birdclef_2024/birdclef_2023/**/*.hdf5\", recursive=True) + \n",
    "    glob(\"/home/vova/data/exps/birdclef_2024/birdclef_2022/**/*.hdf5\", recursive=True) + \n",
    "    glob(\"/home/vova/data/exps/birdclef_2024/birdclef_2021/**/*.hdf5\", recursive=True) +\n",
    "    glob(\"/home/vova/data/exps/birdclef_2024/birdsong_recognition/**/*.hdf5\", recursive=True) +\n",
    "    glob(\"/home/vova/data/exps/birdclef_2024/xeno_canto_bird_recordings_extended_a_m/**/*.hdf5\", recursive=True) +\n",
    "    glob(\"/home/vova/data/exps/birdclef_2024/xeno_canto_bird_recordings_extended_n_z/**/*.hdf5\", recursive=True) \n",
    ")\n",
    "len(all_h5py_files)"
   ]
  },
  {
   "cell_type": "code",
   "execution_count": null,
   "id": "3167676e-22cc-4d9a-843f-292d88857372",
   "metadata": {},
   "outputs": [],
   "source": [
    "to_del = [el for el in all_h5py_files if el not in picked_files]\n",
    "len(to_del)"
   ]
  },
  {
   "cell_type": "code",
   "execution_count": null,
   "id": "edce6ee4-300f-4333-ae54-f6e001801dbd",
   "metadata": {},
   "outputs": [],
   "source": [
    "for el in tqdm(to_del):\n",
    "    os.remove(el)"
   ]
  },
  {
   "cell_type": "code",
   "execution_count": null,
   "id": "ada993c8-ee04-4043-98b9-52cdf2396d68",
   "metadata": {},
   "outputs": [],
   "source": []
  }
 ],
 "metadata": {
  "kernelspec": {
   "display_name": "Python 3 (ipykernel)",
   "language": "python",
   "name": "python3"
  },
  "language_info": {
   "codemirror_mode": {
    "name": "ipython",
    "version": 3
   },
   "file_extension": ".py",
   "mimetype": "text/x-python",
   "name": "python",
   "nbconvert_exporter": "python",
   "pygments_lexer": "ipython3",
   "version": "3.11.6"
  }
 },
 "nbformat": 4,
 "nbformat_minor": 5
}
