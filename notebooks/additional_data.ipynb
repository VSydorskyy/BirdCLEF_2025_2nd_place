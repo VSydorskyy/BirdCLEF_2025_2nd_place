{
 "cells": [
  {
   "cell_type": "code",
   "execution_count": 1,
   "id": "56e4a56c-b4a6-4ffd-8148-097669a1a305",
   "metadata": {},
   "outputs": [
    {
     "name": "stderr",
     "output_type": "stream",
     "text": [
      "/backup/vova/src/exps/bird_clef_2024/.venv/lib/python3.11/site-packages/tqdm/auto.py:21: TqdmWarning: IProgress not found. Please update jupyter and ipywidgets. See https://ipywidgets.readthedocs.io/en/stable/user_install.html\n",
      "  from .autonotebook import tqdm as notebook_tqdm\n"
     ]
    }
   ],
   "source": [
    "import pandas as pd\n",
    "import numpy as np\n",
    "import librosa\n",
    "import seaborn as sns\n",
    "import os\n",
    "import json\n",
    "import IPython.display as ipd\n",
    "import soundfile as sf\n",
    "import math\n",
    "import torch\n",
    "import h5py\n",
    "import re\n",
    "from scipy.io import wavfile\n",
    "\n",
    "from glob import glob\n",
    "from tqdm import tqdm\n",
    "from matplotlib import pyplot as plt\n",
    "from itertools import chain\n",
    "from os.path import join as pjoin\n",
    "from shutil import copyfile\n",
    "from copy import deepcopy\n",
    "from itertools import chain\n",
    "from sklearn.model_selection import train_test_split\n",
    "from joblib import delayed\n",
    "\n",
    "from code_base.utils import write_json, load_json\n",
    "from code_base.utils.main_utils import ProgressParallel\n",
    "\n",
    "from code_base.utils import parallel_librosa_load\n",
    "%matplotlib inline"
   ]
  },
  {
   "cell_type": "code",
   "execution_count": 2,
   "id": "31a317d8-c2c0-457d-93c0-ea1269ac108e",
   "metadata": {},
   "outputs": [],
   "source": [
    "def check_url_structure(input_df, with_xc=True):\n",
    "    if with_xc:\n",
    "        return (\n",
    "            input_df[\"url\"].apply(lambda x: x.split(\"/\")[-1]) == \n",
    "            input_df[\"filename\"].apply(lambda x: os.path.splitext(x.split(\"/\")[-1])[0][2:])\n",
    "        ).all()\n",
    "    else:\n",
    "        return (\n",
    "            input_df[\"url\"].apply(lambda x: x.split(\"/\")[-1]) == \n",
    "            input_df[\"filename\"].apply(lambda x: os.path.splitext(x.split(\"/\")[-1])[0])\n",
    "        ).all()"
   ]
  },
  {
   "cell_type": "code",
   "execution_count": 3,
   "id": "ae9e8896-a461-4462-9618-d2c7c1b0a33b",
   "metadata": {},
   "outputs": [],
   "source": [
    "def read_length_and_sr(file_path: str):\n",
    "    with h5py.File(file_path, \"r\") as data_file:\n",
    "        au_length = data_file[\"au\"].shape[0]\n",
    "        sr = int(np.array(data_file[\"sr\"]))\n",
    "    return au_length, sr"
   ]
  },
  {
   "cell_type": "markdown",
   "id": "e4671737-76d2-41ec-b15b-c1942a8ae517",
   "metadata": {},
   "source": [
    "# 2024 Data"
   ]
  },
  {
   "cell_type": "code",
   "execution_count": 4,
   "id": "b049f694-714a-498f-922a-b5f3c36b2f3e",
   "metadata": {},
   "outputs": [],
   "source": [
    "eBird_Taxonomy_v2021 = pd.read_csv(\"/home/vova/data/exps/birdclef_2024/birdclef_2024/eBird_Taxonomy_v2021.csv\")\n",
    "sample_submission = pd.read_csv(\"/home/vova/data/exps/birdclef_2024/birdclef_2024/sample_submission.csv\")\n",
    "train_metadata = pd.read_csv(\"/home/vova/data/exps/birdclef_2024/birdclef_2024/train_metadata_extended.csv\", converters={\"secondary_labels\": eval, \"all_labels\": eval})"
   ]
  },
  {
   "cell_type": "code",
   "execution_count": 5,
   "id": "fc7477ef-4235-4b92-8d71-bb8754c0a98e",
   "metadata": {},
   "outputs": [],
   "source": [
    "scored_birds = set(sample_submission.columns[1:].tolist())"
   ]
  },
  {
   "cell_type": "code",
   "execution_count": 6,
   "id": "bc22d50d-099f-4ea4-9311-a43afafb79b0",
   "metadata": {},
   "outputs": [
    {
     "data": {
      "text/plain": [
       "True"
      ]
     },
     "execution_count": 6,
     "metadata": {},
     "output_type": "execute_result"
    }
   ],
   "source": [
    "check_url_structure(train_metadata)"
   ]
  },
  {
   "cell_type": "code",
   "execution_count": 7,
   "id": "c501ae60-5533-4853-901a-d6fa60862325",
   "metadata": {},
   "outputs": [
    {
     "data": {
      "text/plain": [
       "url\n",
       "https://www.xeno-canto.org/134896    1\n",
       "https://www.xeno-canto.org/191729    1\n",
       "https://www.xeno-canto.org/265870    1\n",
       "https://www.xeno-canto.org/265869    1\n",
       "https://www.xeno-canto.org/265868    1\n",
       "                                    ..\n",
       "https://www.xeno-canto.org/359359    1\n",
       "https://www.xeno-canto.org/358708    1\n",
       "https://www.xeno-canto.org/356320    1\n",
       "https://www.xeno-canto.org/351356    1\n",
       "https://xeno-canto.org/858550        1\n",
       "Name: count, Length: 24458, dtype: int64"
      ]
     },
     "execution_count": 7,
     "metadata": {},
     "output_type": "execute_result"
    }
   ],
   "source": [
    "train_metadata.url.value_counts()"
   ]
  },
  {
   "cell_type": "markdown",
   "id": "988c0233-d11b-443c-be42-a93dffaca927",
   "metadata": {},
   "source": [
    "# 2023 Data"
   ]
  },
  {
   "cell_type": "code",
   "execution_count": 8,
   "id": "afce25ed-7f54-4fb9-bc5f-53051e418bef",
   "metadata": {},
   "outputs": [],
   "source": [
    "# eBird_Taxonomy_v2021 = pd.read_csv(\"/home/vova/data/exps/birdclef_2024/birdclef_2023/eBird_Taxonomy_v2021.csv\")\n",
    "sample_submission_2023 = pd.read_csv(\"/home/vova/data/exps/birdclef_2024/birdclef_2023/sample_submission.csv\")\n",
    "train_metadata_2023 = pd.read_csv(\"/home/vova/data/exps/birdclef_2024/birdclef_2023/train_metadata.csv\", converters={\"secondary_labels\": eval})"
   ]
  },
  {
   "cell_type": "code",
   "execution_count": 9,
   "id": "1e705516-3c74-4ab5-83a6-f8b7181c1712",
   "metadata": {},
   "outputs": [],
   "source": [
    "train_metadata_2023[\"dataset\"] = \"comp_2023\""
   ]
  },
  {
   "cell_type": "code",
   "execution_count": 10,
   "id": "fe879509-ac0c-4086-9c7f-a9b5c567161c",
   "metadata": {},
   "outputs": [
    {
     "data": {
      "text/plain": [
       "url\n",
       "https://www.xeno-canto.org/128013    1\n",
       "https://www.xeno-canto.org/636130    1\n",
       "https://www.xeno-canto.org/610310    1\n",
       "https://www.xeno-canto.org/610311    1\n",
       "https://www.xeno-canto.org/611448    1\n",
       "                                    ..\n",
       "https://www.xeno-canto.org/397735    1\n",
       "https://www.xeno-canto.org/126187    1\n",
       "https://www.xeno-canto.org/126188    1\n",
       "https://www.xeno-canto.org/206031    1\n",
       "https://xeno-canto.org/753190        1\n",
       "Name: count, Length: 16941, dtype: int64"
      ]
     },
     "execution_count": 10,
     "metadata": {},
     "output_type": "execute_result"
    }
   ],
   "source": [
    "train_metadata_2023.url.value_counts()"
   ]
  },
  {
   "cell_type": "code",
   "execution_count": 11,
   "id": "ae59a7e9-965d-4cb2-ac23-6cf35f8bbc0f",
   "metadata": {},
   "outputs": [
    {
     "data": {
      "text/plain": [
       "True"
      ]
     },
     "execution_count": 11,
     "metadata": {},
     "output_type": "execute_result"
    }
   ],
   "source": [
    "check_url_structure(train_metadata_2023)"
   ]
  },
  {
   "cell_type": "code",
   "execution_count": 12,
   "id": "fb6d247a-60da-4638-bfb2-e9087a6f1a6d",
   "metadata": {},
   "outputs": [
    {
     "name": "stdout",
     "output_type": "stream",
     "text": [
      "New scored recordings: 1334\n",
      "New recording: 13929\n"
     ]
    }
   ],
   "source": [
    "train_metadata_2023[\"all_labels\"] = train_metadata_2023.apply(lambda row: [row[\"primary_label\"]] + row[\"secondary_labels\"], axis=1)\n",
    "scored_filenames_2023 = train_metadata_2023.loc[\n",
    "    train_metadata_2023[\"all_labels\"].apply(lambda x: len(set(x) & scored_birds) > 0), \n",
    "    \"filename\"\n",
    "].tolist()\n",
    "print(f\"New scored recordings: {len(set(scored_filenames_2023) - set(train_metadata.filename))}\")\n",
    "print(f\"New recording: {len(set(train_metadata_2023.filename) - set(train_metadata.filename))}\")"
   ]
  },
  {
   "cell_type": "markdown",
   "id": "811b552f-1224-4a79-bcae-10b561faf587",
   "metadata": {},
   "source": [
    "# 2022 Data"
   ]
  },
  {
   "cell_type": "code",
   "execution_count": 13,
   "id": "809f2492-5df3-4d7e-9f46-beacf5d37d02",
   "metadata": {},
   "outputs": [
    {
     "data": {
      "text/plain": [
       "[]"
      ]
     },
     "execution_count": 13,
     "metadata": {},
     "output_type": "execute_result"
    }
   ],
   "source": [
    "glob(\"/home/vova/data/exps/BirdCLEF_2023/birdclef_2022/*.csv\")"
   ]
  },
  {
   "cell_type": "code",
   "execution_count": 14,
   "id": "bcf48043-6637-443b-9b85-972b6014c292",
   "metadata": {},
   "outputs": [],
   "source": [
    "# eBird_Taxonomy_v2021_2022 = pd.read_csv(\"/home/vova/data/exps/BirdCLEF_2023/birdclef_2022/eBird_Taxonomy_v2021.csv\")\n",
    "sample_submission_2022 = pd.read_csv(\"/home/vova/data/exps/birdclef_2024/birdclef_2022/sample_submission.csv\")\n",
    "train_metadata_2022 = pd.read_csv(\"/home/vova/data/exps/birdclef_2024/birdclef_2022/train_metadata_fixed.csv\", converters={\"secondary_labels\": eval})\n",
    "test_2022 = pd.read_csv(\"/home/vova/data/exps/birdclef_2024/birdclef_2022/test.csv\")"
   ]
  },
  {
   "cell_type": "code",
   "execution_count": 15,
   "id": "9f1de89c-fb97-4ccb-8f13-5a684dcd2002",
   "metadata": {},
   "outputs": [],
   "source": [
    "train_metadata_2022[\"dataset\"] = \"comp_2022\""
   ]
  },
  {
   "cell_type": "code",
   "execution_count": 16,
   "id": "163a8ef3-f243-44e2-be16-0baa3e4a261b",
   "metadata": {},
   "outputs": [
    {
     "data": {
      "text/plain": [
       "url\n",
       "https://www.xeno-canto.org/125458    1\n",
       "https://www.xeno-canto.org/654864    1\n",
       "https://www.xeno-canto.org/629467    1\n",
       "https://www.xeno-canto.org/630434    1\n",
       "https://www.xeno-canto.org/636553    1\n",
       "                                    ..\n",
       "https://www.xeno-canto.org/522535    1\n",
       "https://www.xeno-canto.org/522536    1\n",
       "https://www.xeno-canto.org/522537    1\n",
       "https://www.xeno-canto.org/522538    1\n",
       "https://www.xeno-canto.org/666195    1\n",
       "Name: count, Length: 14850, dtype: int64"
      ]
     },
     "execution_count": 16,
     "metadata": {},
     "output_type": "execute_result"
    }
   ],
   "source": [
    "train_metadata_2022.url.value_counts()"
   ]
  },
  {
   "cell_type": "code",
   "execution_count": 17,
   "id": "e871ca19-db0e-4701-b42c-3bb962aa04f1",
   "metadata": {},
   "outputs": [],
   "source": [
    "# train_metadata_2022[\n",
    "#     train_metadata_2022.url.isin([\n",
    "#         \"https://www.xeno-canto.org/294370\",\n",
    "#         \"https://www.xeno-canto.org/501149\"\n",
    "#     ])\n",
    "# ]"
   ]
  },
  {
   "cell_type": "code",
   "execution_count": 18,
   "id": "e933d92e-5fd8-415a-af00-aa24664f68db",
   "metadata": {},
   "outputs": [],
   "source": [
    "# train_metadata_2022.loc[5748, \"secondary_labels\"] = [\"mallar3\"]\n",
    "# train_metadata_2022 = train_metadata_2022.drop(index=[8441])\n",
    "\n",
    "# train_metadata_2022.loc[1518, \"secondary_labels\"] = [\"gadwal\"]\n",
    "# train_metadata_2022 = train_metadata_2022.drop(index=[5208])\n",
    "\n",
    "# train_metadata_2022 = train_metadata_2022.reset_index(drop=True)\n",
    "# train_metadata_2022.to_csv(\n",
    "#     \"/home/vova/data/exps/birdclef_2024/birdclef_2022/train_metadata_fixed.csv\",\n",
    "#     index=False\n",
    "# )"
   ]
  },
  {
   "cell_type": "code",
   "execution_count": 19,
   "id": "aa1db1b3-121e-420a-bb18-c3ea49cd825b",
   "metadata": {},
   "outputs": [],
   "source": [
    "# train_metadata_2022 = train_metadata_2022.drop_duplicates(\"url\", keep=False).reset_index(drop=True)"
   ]
  },
  {
   "cell_type": "code",
   "execution_count": 20,
   "id": "56dab74c-9ea6-4f5e-a660-f9c69f3138e8",
   "metadata": {},
   "outputs": [
    {
     "data": {
      "text/plain": [
       "url\n",
       "https://www.xeno-canto.org/125458    1\n",
       "https://www.xeno-canto.org/654864    1\n",
       "https://www.xeno-canto.org/629467    1\n",
       "https://www.xeno-canto.org/630434    1\n",
       "https://www.xeno-canto.org/636553    1\n",
       "                                    ..\n",
       "https://www.xeno-canto.org/522535    1\n",
       "https://www.xeno-canto.org/522536    1\n",
       "https://www.xeno-canto.org/522537    1\n",
       "https://www.xeno-canto.org/522538    1\n",
       "https://www.xeno-canto.org/666195    1\n",
       "Name: count, Length: 14850, dtype: int64"
      ]
     },
     "execution_count": 20,
     "metadata": {},
     "output_type": "execute_result"
    }
   ],
   "source": [
    "train_metadata_2022.url.value_counts()"
   ]
  },
  {
   "cell_type": "code",
   "execution_count": 21,
   "id": "c88005f0-00e3-43e5-9b00-84d20a2368bb",
   "metadata": {},
   "outputs": [
    {
     "data": {
      "text/plain": [
       "True"
      ]
     },
     "execution_count": 21,
     "metadata": {},
     "output_type": "execute_result"
    }
   ],
   "source": [
    "check_url_structure(train_metadata_2022)"
   ]
  },
  {
   "cell_type": "code",
   "execution_count": 22,
   "id": "0c08a56f-d333-4f82-b23e-a5616a1e5dea",
   "metadata": {},
   "outputs": [
    {
     "name": "stdout",
     "output_type": "stream",
     "text": [
      "New scored recordings: 2707\n",
      "New recording: 14850\n"
     ]
    }
   ],
   "source": [
    "train_metadata_2022[\"all_labels\"] = train_metadata_2022.apply(lambda row: [row[\"primary_label\"]] + row[\"secondary_labels\"], axis=1)\n",
    "scored_filenames_2022 = train_metadata_2022.loc[\n",
    "    train_metadata_2022[\"all_labels\"].apply(lambda x: len(set(x) & scored_birds) > 0), \n",
    "    \"filename\"\n",
    "].tolist()\n",
    "print(f\"New scored recordings: {len(set(scored_filenames_2022) - (set(train_metadata.url) | set(train_metadata_2023.url)))}\")\n",
    "print(f\"New recording: {len(set(train_metadata_2022.filename) - (set(train_metadata.url) | set(train_metadata_2023.url)))}\")"
   ]
  },
  {
   "cell_type": "code",
   "execution_count": 23,
   "id": "1f89e707-e0ca-46e8-babd-a4b48f55a08f",
   "metadata": {},
   "outputs": [
    {
     "name": "stdout",
     "output_type": "stream",
     "text": [
      "New recording: 13104\n"
     ]
    }
   ],
   "source": [
    "print(f\"New recording: {len(set(train_metadata_2022.url) - set(train_metadata.url))}\")"
   ]
  },
  {
   "cell_type": "markdown",
   "id": "0c5fab66-5ba1-4eed-8457-354b849e4f86",
   "metadata": {},
   "source": [
    "# 2021 Data"
   ]
  },
  {
   "cell_type": "code",
   "execution_count": 24,
   "id": "47430038-1006-40e2-944e-58ff8b1a8f86",
   "metadata": {},
   "outputs": [
    {
     "data": {
      "text/plain": [
       "['/home/vova/data/exps/birdclef_2024/birdclef_2021/train_metadata.csv',\n",
       " '/home/vova/data/exps/birdclef_2024/birdclef_2021/train_features',\n",
       " '/home/vova/data/exps/birdclef_2024/birdclef_2021/train_short_audio',\n",
       " '/home/vova/data/exps/birdclef_2024/birdclef_2021/train_soundscape_labels.csv',\n",
       " '/home/vova/data/exps/birdclef_2024/birdclef_2021/train_soundscapes',\n",
       " '/home/vova/data/exps/birdclef_2024/birdclef_2021/test_soundscapes',\n",
       " '/home/vova/data/exps/birdclef_2024/birdclef_2021/sample_submission.csv',\n",
       " '/home/vova/data/exps/birdclef_2024/birdclef_2021/test.csv']"
      ]
     },
     "execution_count": 24,
     "metadata": {},
     "output_type": "execute_result"
    }
   ],
   "source": [
    "glob(\"/home/vova/data/exps/birdclef_2024/birdclef_2021/*\")"
   ]
  },
  {
   "cell_type": "code",
   "execution_count": 25,
   "id": "2da7de21-a726-4fa1-abf0-cea4cf1b397b",
   "metadata": {},
   "outputs": [],
   "source": [
    "sample_submission_2021 = pd.read_csv(\"/home/vova/data/exps/birdclef_2024/birdclef_2021/sample_submission.csv\")\n",
    "train_metadata_2021 = pd.read_csv(\"/home/vova/data/exps/birdclef_2024/birdclef_2021/train_metadata.csv\", converters={\"secondary_labels\": eval})\n",
    "test_2021 = pd.read_csv(\"/home/vova/data/exps/birdclef_2024/birdclef_2021/test.csv\")\n",
    "train_soundscape_labels_2021 = pd.read_csv(\"/home/vova/data/exps/birdclef_2024/birdclef_2021/train_soundscape_labels.csv\")\n",
    "\n",
    "train_metadata_2021.secondary_labels = train_metadata_2021.secondary_labels.apply(lambda x: [\"rocpig\" if el == \"rocpig1\" else el for el in x])"
   ]
  },
  {
   "cell_type": "code",
   "execution_count": 26,
   "id": "66e9f735-2f19-4119-90d6-832c1b6c9924",
   "metadata": {},
   "outputs": [],
   "source": [
    "# Create filename\n",
    "train_metadata_2021[\"filename\"] = train_metadata_2021.apply(lambda x: pjoin(x[\"primary_label\"], x[\"filename\"]), axis=1)"
   ]
  },
  {
   "cell_type": "code",
   "execution_count": 27,
   "id": "2270b5eb-3369-4bf7-8d09-95c4f721880f",
   "metadata": {},
   "outputs": [],
   "source": [
    "train_metadata_2021[\"dataset\"] = \"comp_2021\""
   ]
  },
  {
   "cell_type": "code",
   "execution_count": 28,
   "id": "ac69c659-c1f9-4469-be85-88a317325a72",
   "metadata": {},
   "outputs": [
    {
     "data": {
      "text/plain": [
       "url\n",
       "https://www.xeno-canto.org/109605    1\n",
       "https://www.xeno-canto.org/195784    1\n",
       "https://www.xeno-canto.org/288979    1\n",
       "https://www.xeno-canto.org/309486    1\n",
       "https://www.xeno-canto.org/323999    1\n",
       "                                    ..\n",
       "https://www.xeno-canto.org/382235    1\n",
       "https://www.xeno-canto.org/388583    1\n",
       "https://www.xeno-canto.org/388709    1\n",
       "https://www.xeno-canto.org/389236    1\n",
       "https://www.xeno-canto.org/615888    1\n",
       "Name: count, Length: 62874, dtype: int64"
      ]
     },
     "execution_count": 28,
     "metadata": {},
     "output_type": "execute_result"
    }
   ],
   "source": [
    "train_metadata_2021.url.value_counts()"
   ]
  },
  {
   "cell_type": "code",
   "execution_count": 29,
   "id": "c9923bb0-4f79-4e40-8f52-441a0a9e1693",
   "metadata": {},
   "outputs": [
    {
     "name": "stdout",
     "output_type": "stream",
     "text": [
      "New scored recordings: 1206\n",
      "New recording: 56240\n"
     ]
    }
   ],
   "source": [
    "train_metadata_2021[\"all_labels\"] = train_metadata_2021.apply(lambda row: [row[\"primary_label\"]] + row[\"secondary_labels\"], axis=1)\n",
    "scored_filenames_2021 = train_metadata_2021.loc[\n",
    "    train_metadata_2021[\"all_labels\"].apply(lambda x: len(set(x) & scored_birds) > 0), \n",
    "    \"filename\"\n",
    "].tolist()\n",
    "print(f\"New scored recordings: {len(set(scored_filenames_2021) - (set(train_metadata.filename) | set(train_metadata_2022.filename) | set(train_metadata_2023.url)))}\")\n",
    "print(f\"New recording: {len(set(train_metadata_2021.filename) - (set(train_metadata.filename) | set(train_metadata_2022.filename) | set(train_metadata_2023.url)))}\")"
   ]
  },
  {
   "cell_type": "code",
   "execution_count": 30,
   "id": "8235ffdf-0028-4564-974f-77672fbc8bac",
   "metadata": {},
   "outputs": [
    {
     "name": "stdout",
     "output_type": "stream",
     "text": [
      "New recording: 56106\n"
     ]
    }
   ],
   "source": [
    "print(f\"New recording: {len(set(train_metadata_2021.url) - (set(train_metadata.url) | set(train_metadata_2022.url) | set(train_metadata_2023.url)))}\")"
   ]
  },
  {
   "cell_type": "markdown",
   "id": "23998a65-ebd5-48cb-8bb0-0188d0108535",
   "metadata": {},
   "source": [
    "# 2020 Data"
   ]
  },
  {
   "cell_type": "code",
   "execution_count": 31,
   "id": "6c82da42-660e-402b-8a5d-fae3cb66b0c7",
   "metadata": {},
   "outputs": [
    {
     "data": {
      "text/plain": [
       "['/home/vova/data/exps/birdclef_2024/birdsong_recognition/example_test_audio_summary.csv',\n",
       " '/home/vova/data/exps/birdclef_2024/birdsong_recognition/train_features',\n",
       " '/home/vova/data/exps/birdclef_2024/birdsong_recognition/example_test_audio_metadata.csv',\n",
       " '/home/vova/data/exps/birdclef_2024/birdsong_recognition/train.csv',\n",
       " '/home/vova/data/exps/birdclef_2024/birdsong_recognition/train_audio',\n",
       " '/home/vova/data/exps/birdclef_2024/birdsong_recognition/example_test_audio',\n",
       " '/home/vova/data/exps/birdclef_2024/birdsong_recognition/sample_submission.csv',\n",
       " '/home/vova/data/exps/birdclef_2024/birdsong_recognition/test.csv']"
      ]
     },
     "execution_count": 31,
     "metadata": {},
     "output_type": "execute_result"
    }
   ],
   "source": [
    "glob(\"/home/vova/data/exps/birdclef_2024/birdsong_recognition/*\")"
   ]
  },
  {
   "cell_type": "code",
   "execution_count": 32,
   "id": "99310cc0-35e0-4386-8e3b-d999b76eb60a",
   "metadata": {},
   "outputs": [
    {
     "data": {
      "text/plain": [
       "['/home/vova/data/exps/birdclef_2024/xeno_canto_bird_recordings_extended_a_m/train_features',\n",
       " '/home/vova/data/exps/birdclef_2024/xeno_canto_bird_recordings_extended_a_m/train_extended.csv',\n",
       " '/home/vova/data/exps/birdclef_2024/xeno_canto_bird_recordings_extended_a_m/A-M']"
      ]
     },
     "execution_count": 32,
     "metadata": {},
     "output_type": "execute_result"
    }
   ],
   "source": [
    "glob(\"/home/vova/data/exps/birdclef_2024/xeno_canto_bird_recordings_extended_a_m/*\")"
   ]
  },
  {
   "cell_type": "code",
   "execution_count": 33,
   "id": "b782608b-f184-4f4d-bfd9-4e819333a782",
   "metadata": {},
   "outputs": [
    {
     "data": {
      "text/plain": [
       "['/home/vova/data/exps/birdclef_2024/xeno_canto_bird_recordings_extended_n_z/train_features',\n",
       " '/home/vova/data/exps/birdclef_2024/xeno_canto_bird_recordings_extended_n_z/train_extended.csv',\n",
       " '/home/vova/data/exps/birdclef_2024/xeno_canto_bird_recordings_extended_n_z/N-Z']"
      ]
     },
     "execution_count": 33,
     "metadata": {},
     "output_type": "execute_result"
    }
   ],
   "source": [
    "glob(\"/home/vova/data/exps/birdclef_2024/xeno_canto_bird_recordings_extended_n_z/*\")"
   ]
  },
  {
   "cell_type": "code",
   "execution_count": 34,
   "id": "1d32768d-6b1b-42ee-97fb-c99140383d7a",
   "metadata": {},
   "outputs": [],
   "source": [
    "example_test_audio_metadata_2020 = pd.read_csv(\"/home/vova/data/exps/birdclef_2024/birdsong_recognition/example_test_audio_metadata.csv\")\n",
    "example_test_audio_summary_2020 = pd.read_csv(\"/home/vova/data/exps/birdclef_2024/birdsong_recognition/example_test_audio_summary.csv\")\n",
    "sample_submission_2020 = pd.read_csv(\"/home/vova/data/exps/birdclef_2024/birdsong_recognition/sample_submission.csv\")\n",
    "test_2020 = pd.read_csv(\"/home/vova/data/exps/birdclef_2024/birdsong_recognition/test.csv\")\n",
    "train_2020 = pd.read_csv(\"/home/vova/data/exps/birdclef_2024/birdsong_recognition/train.csv\", converters={\"secondary_labels\": eval})\n",
    "\n",
    "train_xc_a_m_2020 = pd.read_csv(\"/home/vova/data/exps/birdclef_2024/xeno_canto_bird_recordings_extended_a_m/train_extended.csv\", converters={\"secondary_labels\": eval})\n",
    "# train_xc_n_z_2020 = pd.read_csv(\"/home/vova/data/exps/birdclef_2024/xeno_canto_bird_recordings_extended_n_z/train_extended.csv\", converters={\"secondary_labels\": eval})\n",
    "\n",
    "# train_2020[\"dataset\"] = \"comp_2020\"\n",
    "# train_xc_a_m_2020[\"dataset\"] = \"a_m_2020\"\n",
    "# train_xc_n_z_2020[\"dataset\"] = \"n_z_2020\"\n",
    "# train_2020 = pd.concat([\n",
    "#     train_2020, train_xc_a_m_2020, train_xc_n_z_2020\n",
    "# ]).reset_index(drop=True)\n",
    "# train_2020 = train_2020.drop_duplicates(\"url\").reset_index(drop=True)"
   ]
  },
  {
   "cell_type": "code",
   "execution_count": 35,
   "id": "771f6ab8-bc89-4173-96ff-07b73610f254",
   "metadata": {},
   "outputs": [
    {
     "data": {
      "text/plain": [
       "True"
      ]
     },
     "execution_count": 35,
     "metadata": {},
     "output_type": "execute_result"
    }
   ],
   "source": [
    "(\n",
    "    len(glob(\"/home/vova/data/exps/birdclef_2024/xeno_canto_bird_recordings_extended_a_m/A-M/*/*.mp3\")) + len(glob(\"/home/vova/data/exps/birdclef_2024/xeno_canto_bird_recordings_extended_n_z/N-Z/*/*.mp3\"))\n",
    ") == train_xc_a_m_2020.shape[0]"
   ]
  },
  {
   "cell_type": "code",
   "execution_count": 36,
   "id": "f3aeabbe-cc19-45b7-97ce-1cc1f850bb23",
   "metadata": {},
   "outputs": [
    {
     "data": {
      "text/plain": [
       "url\n",
       "https://www.xeno-canto.org/134874    1\n",
       "https://www.xeno-canto.org/420847    1\n",
       "https://www.xeno-canto.org/420730    1\n",
       "https://www.xeno-canto.org/419729    1\n",
       "https://www.xeno-canto.org/419727    1\n",
       "                                    ..\n",
       "https://www.xeno-canto.org/141826    1\n",
       "https://www.xeno-canto.org/134879    1\n",
       "https://www.xeno-canto.org/118417    1\n",
       "https://www.xeno-canto.org/115431    1\n",
       "https://www.xeno-canto.org/55761     1\n",
       "Name: count, Length: 21375, dtype: int64"
      ]
     },
     "execution_count": 36,
     "metadata": {},
     "output_type": "execute_result"
    }
   ],
   "source": [
    "train_2020[\"url\"].value_counts()"
   ]
  },
  {
   "cell_type": "code",
   "execution_count": 37,
   "id": "f5943882-f0f4-425d-a92c-924dd2e9654e",
   "metadata": {},
   "outputs": [
    {
     "data": {
      "text/plain": [
       "True"
      ]
     },
     "execution_count": 37,
     "metadata": {},
     "output_type": "execute_result"
    }
   ],
   "source": [
    "check_url_structure(train_2020)"
   ]
  },
  {
   "cell_type": "code",
   "execution_count": 38,
   "id": "8d145ca1-f1d9-46fb-8e76-5c8ac4cd70cf",
   "metadata": {},
   "outputs": [
    {
     "data": {
      "text/plain": [
       "url\n",
       "https://www.xeno-canto.org/554809    1\n",
       "https://www.xeno-canto.org/468372    1\n",
       "https://www.xeno-canto.org/388424    1\n",
       "https://www.xeno-canto.org/395413    1\n",
       "https://www.xeno-canto.org/406253    1\n",
       "                                    ..\n",
       "https://www.xeno-canto.org/528212    1\n",
       "https://www.xeno-canto.org/528213    1\n",
       "https://www.xeno-canto.org/528214    1\n",
       "https://www.xeno-canto.org/531294    1\n",
       "https://www.xeno-canto.org/565140    1\n",
       "Name: count, Length: 23784, dtype: int64"
      ]
     },
     "execution_count": 38,
     "metadata": {},
     "output_type": "execute_result"
    }
   ],
   "source": [
    "train_xc_a_m_2020[\"url\"].value_counts()"
   ]
  },
  {
   "cell_type": "code",
   "execution_count": 39,
   "id": "e3acd857-0fa9-4508-b4d6-fdebe549c9fb",
   "metadata": {},
   "outputs": [
    {
     "data": {
      "text/plain": [
       "True"
      ]
     },
     "execution_count": 39,
     "metadata": {},
     "output_type": "execute_result"
    }
   ],
   "source": [
    "check_url_structure(train_xc_a_m_2020)"
   ]
  },
  {
   "cell_type": "code",
   "execution_count": 40,
   "id": "1747865a-7c3a-4584-a17c-f078940552b4",
   "metadata": {},
   "outputs": [
    {
     "data": {
      "text/plain": [
       "0"
      ]
     },
     "execution_count": 40,
     "metadata": {},
     "output_type": "execute_result"
    }
   ],
   "source": [
    "train_xc_a_m_2020[\"dataset\"] = None\n",
    "train_xc_a_m_2020.loc[\n",
    "    train_xc_a_m_2020[\"ebird_code\"].isin(os.listdir(\"/home/vova/data/exps/birdclef_2024/xeno_canto_bird_recordings_extended_a_m/A-M/\")),\n",
    "    \"dataset\"\n",
    "] = \"a_m_2020\"\n",
    "train_xc_a_m_2020.loc[\n",
    "    train_xc_a_m_2020[\"ebird_code\"].isin(os.listdir(\"/home/vova/data/exps/birdclef_2024/xeno_canto_bird_recordings_extended_n_z/N-Z/\")),\n",
    "    \"dataset\"\n",
    "] = \"n_z_2020\"\n",
    "train_xc_a_m_2020[\"dataset\"].isna().sum()"
   ]
  },
  {
   "cell_type": "code",
   "execution_count": 41,
   "id": "9b8bab9d-d3cb-4944-9176-7275fa32cfd9",
   "metadata": {},
   "outputs": [],
   "source": [
    "train_2020[\"dataset\"] = \"comp_2020\"\n",
    "train_2020 = pd.concat([\n",
    "    train_2020, train_xc_a_m_2020\n",
    "])\n",
    "train_2020 = train_2020.drop_duplicates(\"url\").reset_index(drop=True)"
   ]
  },
  {
   "cell_type": "code",
   "execution_count": 42,
   "id": "031c27a6-1c8c-4613-a3ed-cb2269e587e8",
   "metadata": {},
   "outputs": [
    {
     "data": {
      "text/html": [
       "<div>\n",
       "<style scoped>\n",
       "    .dataframe tbody tr th:only-of-type {\n",
       "        vertical-align: middle;\n",
       "    }\n",
       "\n",
       "    .dataframe tbody tr th {\n",
       "        vertical-align: top;\n",
       "    }\n",
       "\n",
       "    .dataframe thead th {\n",
       "        text-align: right;\n",
       "    }\n",
       "</style>\n",
       "<table border=\"1\" class=\"dataframe\">\n",
       "  <thead>\n",
       "    <tr style=\"text-align: right;\">\n",
       "      <th></th>\n",
       "      <th>rating</th>\n",
       "      <th>playback_used</th>\n",
       "      <th>ebird_code</th>\n",
       "      <th>channels</th>\n",
       "      <th>date</th>\n",
       "      <th>pitch</th>\n",
       "      <th>duration</th>\n",
       "      <th>filename</th>\n",
       "      <th>speed</th>\n",
       "      <th>species</th>\n",
       "      <th>...</th>\n",
       "      <th>url</th>\n",
       "      <th>country</th>\n",
       "      <th>author</th>\n",
       "      <th>primary_label</th>\n",
       "      <th>longitude</th>\n",
       "      <th>length</th>\n",
       "      <th>time</th>\n",
       "      <th>recordist</th>\n",
       "      <th>license</th>\n",
       "      <th>dataset</th>\n",
       "    </tr>\n",
       "  </thead>\n",
       "  <tbody>\n",
       "    <tr>\n",
       "      <th>0</th>\n",
       "      <td>3.5</td>\n",
       "      <td>no</td>\n",
       "      <td>aldfly</td>\n",
       "      <td>1 (mono)</td>\n",
       "      <td>2013-05-25</td>\n",
       "      <td>Not specified</td>\n",
       "      <td>25</td>\n",
       "      <td>XC134874.mp3</td>\n",
       "      <td>Not specified</td>\n",
       "      <td>Alder Flycatcher</td>\n",
       "      <td>...</td>\n",
       "      <td>https://www.xeno-canto.org/134874</td>\n",
       "      <td>United States</td>\n",
       "      <td>Jonathon Jongsma</td>\n",
       "      <td>Empidonax alnorum_Alder Flycatcher</td>\n",
       "      <td>-92.962</td>\n",
       "      <td>Not specified</td>\n",
       "      <td>8:00</td>\n",
       "      <td>Jonathon Jongsma</td>\n",
       "      <td>Creative Commons Attribution-ShareAlike 3.0</td>\n",
       "      <td>comp_2020</td>\n",
       "    </tr>\n",
       "    <tr>\n",
       "      <th>1</th>\n",
       "      <td>4.0</td>\n",
       "      <td>no</td>\n",
       "      <td>aldfly</td>\n",
       "      <td>2 (stereo)</td>\n",
       "      <td>2013-05-27</td>\n",
       "      <td>both</td>\n",
       "      <td>36</td>\n",
       "      <td>XC135454.mp3</td>\n",
       "      <td>both</td>\n",
       "      <td>Alder Flycatcher</td>\n",
       "      <td>...</td>\n",
       "      <td>https://www.xeno-canto.org/135454</td>\n",
       "      <td>United States</td>\n",
       "      <td>Mike Nelson</td>\n",
       "      <td>Empidonax alnorum_Alder Flycatcher</td>\n",
       "      <td>-82.1106</td>\n",
       "      <td>0-3(s)</td>\n",
       "      <td>08:30</td>\n",
       "      <td>Mike Nelson</td>\n",
       "      <td>Creative Commons Attribution-NonCommercial-Sha...</td>\n",
       "      <td>comp_2020</td>\n",
       "    </tr>\n",
       "    <tr>\n",
       "      <th>2</th>\n",
       "      <td>4.0</td>\n",
       "      <td>no</td>\n",
       "      <td>aldfly</td>\n",
       "      <td>2 (stereo)</td>\n",
       "      <td>2013-05-27</td>\n",
       "      <td>both</td>\n",
       "      <td>39</td>\n",
       "      <td>XC135455.mp3</td>\n",
       "      <td>both</td>\n",
       "      <td>Alder Flycatcher</td>\n",
       "      <td>...</td>\n",
       "      <td>https://www.xeno-canto.org/135455</td>\n",
       "      <td>United States</td>\n",
       "      <td>Mike Nelson</td>\n",
       "      <td>Empidonax alnorum_Alder Flycatcher</td>\n",
       "      <td>-82.1106</td>\n",
       "      <td>0-3(s)</td>\n",
       "      <td>08:30</td>\n",
       "      <td>Mike Nelson</td>\n",
       "      <td>Creative Commons Attribution-NonCommercial-Sha...</td>\n",
       "      <td>comp_2020</td>\n",
       "    </tr>\n",
       "    <tr>\n",
       "      <th>3</th>\n",
       "      <td>3.5</td>\n",
       "      <td>no</td>\n",
       "      <td>aldfly</td>\n",
       "      <td>2 (stereo)</td>\n",
       "      <td>2013-05-27</td>\n",
       "      <td>both</td>\n",
       "      <td>33</td>\n",
       "      <td>XC135456.mp3</td>\n",
       "      <td>both</td>\n",
       "      <td>Alder Flycatcher</td>\n",
       "      <td>...</td>\n",
       "      <td>https://www.xeno-canto.org/135456</td>\n",
       "      <td>United States</td>\n",
       "      <td>Mike Nelson</td>\n",
       "      <td>Empidonax alnorum_Alder Flycatcher</td>\n",
       "      <td>-82.1106</td>\n",
       "      <td>0-3(s)</td>\n",
       "      <td>08:30</td>\n",
       "      <td>Mike Nelson</td>\n",
       "      <td>Creative Commons Attribution-NonCommercial-Sha...</td>\n",
       "      <td>comp_2020</td>\n",
       "    </tr>\n",
       "    <tr>\n",
       "      <th>4</th>\n",
       "      <td>4.0</td>\n",
       "      <td>no</td>\n",
       "      <td>aldfly</td>\n",
       "      <td>2 (stereo)</td>\n",
       "      <td>2013-05-27</td>\n",
       "      <td>both</td>\n",
       "      <td>36</td>\n",
       "      <td>XC135457.mp3</td>\n",
       "      <td>level</td>\n",
       "      <td>Alder Flycatcher</td>\n",
       "      <td>...</td>\n",
       "      <td>https://www.xeno-canto.org/135457</td>\n",
       "      <td>United States</td>\n",
       "      <td>Mike Nelson</td>\n",
       "      <td>Empidonax alnorum_Alder Flycatcher</td>\n",
       "      <td>-82.1106</td>\n",
       "      <td>0-3(s)</td>\n",
       "      <td>08:30</td>\n",
       "      <td>Mike Nelson</td>\n",
       "      <td>Creative Commons Attribution-NonCommercial-Sha...</td>\n",
       "      <td>comp_2020</td>\n",
       "    </tr>\n",
       "    <tr>\n",
       "      <th>...</th>\n",
       "      <td>...</td>\n",
       "      <td>...</td>\n",
       "      <td>...</td>\n",
       "      <td>...</td>\n",
       "      <td>...</td>\n",
       "      <td>...</td>\n",
       "      <td>...</td>\n",
       "      <td>...</td>\n",
       "      <td>...</td>\n",
       "      <td>...</td>\n",
       "      <td>...</td>\n",
       "      <td>...</td>\n",
       "      <td>...</td>\n",
       "      <td>...</td>\n",
       "      <td>...</td>\n",
       "      <td>...</td>\n",
       "      <td>...</td>\n",
       "      <td>...</td>\n",
       "      <td>...</td>\n",
       "      <td>...</td>\n",
       "      <td>...</td>\n",
       "    </tr>\n",
       "    <tr>\n",
       "      <th>45154</th>\n",
       "      <td>4.5</td>\n",
       "      <td>no</td>\n",
       "      <td>yetvir</td>\n",
       "      <td>2 (stereo)</td>\n",
       "      <td>2020-05-16</td>\n",
       "      <td>NaN</td>\n",
       "      <td>63</td>\n",
       "      <td>XC558915.mp3</td>\n",
       "      <td>NaN</td>\n",
       "      <td>Yellow-throated Vireo</td>\n",
       "      <td>...</td>\n",
       "      <td>https://www.xeno-canto.org/558915</td>\n",
       "      <td>United States</td>\n",
       "      <td>William Whitehead</td>\n",
       "      <td>Vireo flavifrons_Yellow-throated Vireo</td>\n",
       "      <td>-74.2495</td>\n",
       "      <td>NaN</td>\n",
       "      <td>07:00</td>\n",
       "      <td>William Whitehead</td>\n",
       "      <td>Creative Commons Attribution-NonCommercial-Sha...</td>\n",
       "      <td>n_z_2020</td>\n",
       "    </tr>\n",
       "    <tr>\n",
       "      <th>45155</th>\n",
       "      <td>4.0</td>\n",
       "      <td>no</td>\n",
       "      <td>yetvir</td>\n",
       "      <td>1 (mono)</td>\n",
       "      <td>2020-07-27</td>\n",
       "      <td>NaN</td>\n",
       "      <td>41</td>\n",
       "      <td>XC579823.mp3</td>\n",
       "      <td>NaN</td>\n",
       "      <td>Yellow-throated Vireo</td>\n",
       "      <td>...</td>\n",
       "      <td>https://www.xeno-canto.org/579823</td>\n",
       "      <td>United States</td>\n",
       "      <td>Bobby Wilcox</td>\n",
       "      <td>Vireo flavifrons_Yellow-throated Vireo</td>\n",
       "      <td>-91.0756</td>\n",
       "      <td>NaN</td>\n",
       "      <td>12:00</td>\n",
       "      <td>Bobby Wilcox</td>\n",
       "      <td>Creative Commons Attribution-NonCommercial-Sha...</td>\n",
       "      <td>n_z_2020</td>\n",
       "    </tr>\n",
       "    <tr>\n",
       "      <th>45156</th>\n",
       "      <td>4.0</td>\n",
       "      <td>no</td>\n",
       "      <td>yetvir</td>\n",
       "      <td>2 (stereo)</td>\n",
       "      <td>2020-07-10</td>\n",
       "      <td>NaN</td>\n",
       "      <td>25</td>\n",
       "      <td>XC574737.mp3</td>\n",
       "      <td>NaN</td>\n",
       "      <td>Yellow-throated Vireo</td>\n",
       "      <td>...</td>\n",
       "      <td>https://www.xeno-canto.org/574737</td>\n",
       "      <td>Canada</td>\n",
       "      <td>Jon Ruddy</td>\n",
       "      <td>Vireo flavifrons_Yellow-throated Vireo</td>\n",
       "      <td>-76.3558</td>\n",
       "      <td>NaN</td>\n",
       "      <td>10:30</td>\n",
       "      <td>Jon Ruddy</td>\n",
       "      <td>Creative Commons Attribution-NonCommercial-Sha...</td>\n",
       "      <td>n_z_2020</td>\n",
       "    </tr>\n",
       "    <tr>\n",
       "      <th>45157</th>\n",
       "      <td>3.5</td>\n",
       "      <td>no</td>\n",
       "      <td>yetvir</td>\n",
       "      <td>1 (mono)</td>\n",
       "      <td>2020-07-03</td>\n",
       "      <td>NaN</td>\n",
       "      <td>33</td>\n",
       "      <td>XC573213.mp3</td>\n",
       "      <td>NaN</td>\n",
       "      <td>Yellow-throated Vireo</td>\n",
       "      <td>...</td>\n",
       "      <td>https://www.xeno-canto.org/573213</td>\n",
       "      <td>United States</td>\n",
       "      <td>Annette McClellan</td>\n",
       "      <td>Vireo flavifrons_Yellow-throated Vireo</td>\n",
       "      <td>-87.8015</td>\n",
       "      <td>NaN</td>\n",
       "      <td>06:00</td>\n",
       "      <td>Annette McClellan</td>\n",
       "      <td>Creative Commons Attribution-NonCommercial-Sha...</td>\n",
       "      <td>n_z_2020</td>\n",
       "    </tr>\n",
       "    <tr>\n",
       "      <th>45158</th>\n",
       "      <td>4.0</td>\n",
       "      <td>no</td>\n",
       "      <td>yetvir</td>\n",
       "      <td>2 (stereo)</td>\n",
       "      <td>2020-06-04</td>\n",
       "      <td>NaN</td>\n",
       "      <td>15</td>\n",
       "      <td>XC565140.mp3</td>\n",
       "      <td>NaN</td>\n",
       "      <td>Yellow-throated Vireo</td>\n",
       "      <td>...</td>\n",
       "      <td>https://www.xeno-canto.org/565140</td>\n",
       "      <td>United States</td>\n",
       "      <td>Michael Hurben</td>\n",
       "      <td>Vireo flavifrons_Yellow-throated Vireo</td>\n",
       "      <td>-93.3786</td>\n",
       "      <td>NaN</td>\n",
       "      <td>07:30</td>\n",
       "      <td>Michael Hurben</td>\n",
       "      <td>Creative Commons Attribution-NonCommercial-Sha...</td>\n",
       "      <td>n_z_2020</td>\n",
       "    </tr>\n",
       "  </tbody>\n",
       "</table>\n",
       "<p>45159 rows × 36 columns</p>\n",
       "</div>"
      ],
      "text/plain": [
       "       rating playback_used ebird_code    channels        date          pitch  \\\n",
       "0         3.5            no     aldfly    1 (mono)  2013-05-25  Not specified   \n",
       "1         4.0            no     aldfly  2 (stereo)  2013-05-27           both   \n",
       "2         4.0            no     aldfly  2 (stereo)  2013-05-27           both   \n",
       "3         3.5            no     aldfly  2 (stereo)  2013-05-27           both   \n",
       "4         4.0            no     aldfly  2 (stereo)  2013-05-27           both   \n",
       "...       ...           ...        ...         ...         ...            ...   \n",
       "45154     4.5            no     yetvir  2 (stereo)  2020-05-16            NaN   \n",
       "45155     4.0            no     yetvir    1 (mono)  2020-07-27            NaN   \n",
       "45156     4.0            no     yetvir  2 (stereo)  2020-07-10            NaN   \n",
       "45157     3.5            no     yetvir    1 (mono)  2020-07-03            NaN   \n",
       "45158     4.0            no     yetvir  2 (stereo)  2020-06-04            NaN   \n",
       "\n",
       "       duration      filename          speed                species  ...  \\\n",
       "0            25  XC134874.mp3  Not specified       Alder Flycatcher  ...   \n",
       "1            36  XC135454.mp3           both       Alder Flycatcher  ...   \n",
       "2            39  XC135455.mp3           both       Alder Flycatcher  ...   \n",
       "3            33  XC135456.mp3           both       Alder Flycatcher  ...   \n",
       "4            36  XC135457.mp3          level       Alder Flycatcher  ...   \n",
       "...         ...           ...            ...                    ...  ...   \n",
       "45154        63  XC558915.mp3            NaN  Yellow-throated Vireo  ...   \n",
       "45155        41  XC579823.mp3            NaN  Yellow-throated Vireo  ...   \n",
       "45156        25  XC574737.mp3            NaN  Yellow-throated Vireo  ...   \n",
       "45157        33  XC573213.mp3            NaN  Yellow-throated Vireo  ...   \n",
       "45158        15  XC565140.mp3            NaN  Yellow-throated Vireo  ...   \n",
       "\n",
       "                                     url        country             author  \\\n",
       "0      https://www.xeno-canto.org/134874  United States   Jonathon Jongsma   \n",
       "1      https://www.xeno-canto.org/135454  United States        Mike Nelson   \n",
       "2      https://www.xeno-canto.org/135455  United States        Mike Nelson   \n",
       "3      https://www.xeno-canto.org/135456  United States        Mike Nelson   \n",
       "4      https://www.xeno-canto.org/135457  United States        Mike Nelson   \n",
       "...                                  ...            ...                ...   \n",
       "45154  https://www.xeno-canto.org/558915  United States  William Whitehead   \n",
       "45155  https://www.xeno-canto.org/579823  United States       Bobby Wilcox   \n",
       "45156  https://www.xeno-canto.org/574737         Canada          Jon Ruddy   \n",
       "45157  https://www.xeno-canto.org/573213  United States  Annette McClellan   \n",
       "45158  https://www.xeno-canto.org/565140  United States     Michael Hurben   \n",
       "\n",
       "                                primary_label longitude         length   time  \\\n",
       "0          Empidonax alnorum_Alder Flycatcher   -92.962  Not specified   8:00   \n",
       "1          Empidonax alnorum_Alder Flycatcher  -82.1106         0-3(s)  08:30   \n",
       "2          Empidonax alnorum_Alder Flycatcher  -82.1106         0-3(s)  08:30   \n",
       "3          Empidonax alnorum_Alder Flycatcher  -82.1106         0-3(s)  08:30   \n",
       "4          Empidonax alnorum_Alder Flycatcher  -82.1106         0-3(s)  08:30   \n",
       "...                                       ...       ...            ...    ...   \n",
       "45154  Vireo flavifrons_Yellow-throated Vireo  -74.2495            NaN  07:00   \n",
       "45155  Vireo flavifrons_Yellow-throated Vireo  -91.0756            NaN  12:00   \n",
       "45156  Vireo flavifrons_Yellow-throated Vireo  -76.3558            NaN  10:30   \n",
       "45157  Vireo flavifrons_Yellow-throated Vireo  -87.8015            NaN  06:00   \n",
       "45158  Vireo flavifrons_Yellow-throated Vireo  -93.3786            NaN  07:30   \n",
       "\n",
       "               recordist                                            license  \\\n",
       "0       Jonathon Jongsma        Creative Commons Attribution-ShareAlike 3.0   \n",
       "1            Mike Nelson  Creative Commons Attribution-NonCommercial-Sha...   \n",
       "2            Mike Nelson  Creative Commons Attribution-NonCommercial-Sha...   \n",
       "3            Mike Nelson  Creative Commons Attribution-NonCommercial-Sha...   \n",
       "4            Mike Nelson  Creative Commons Attribution-NonCommercial-Sha...   \n",
       "...                  ...                                                ...   \n",
       "45154  William Whitehead  Creative Commons Attribution-NonCommercial-Sha...   \n",
       "45155       Bobby Wilcox  Creative Commons Attribution-NonCommercial-Sha...   \n",
       "45156          Jon Ruddy  Creative Commons Attribution-NonCommercial-Sha...   \n",
       "45157  Annette McClellan  Creative Commons Attribution-NonCommercial-Sha...   \n",
       "45158     Michael Hurben  Creative Commons Attribution-NonCommercial-Sha...   \n",
       "\n",
       "         dataset  \n",
       "0      comp_2020  \n",
       "1      comp_2020  \n",
       "2      comp_2020  \n",
       "3      comp_2020  \n",
       "4      comp_2020  \n",
       "...          ...  \n",
       "45154   n_z_2020  \n",
       "45155   n_z_2020  \n",
       "45156   n_z_2020  \n",
       "45157   n_z_2020  \n",
       "45158   n_z_2020  \n",
       "\n",
       "[45159 rows x 36 columns]"
      ]
     },
     "execution_count": 42,
     "metadata": {},
     "output_type": "execute_result"
    }
   ],
   "source": [
    "train_2020"
   ]
  },
  {
   "cell_type": "code",
   "execution_count": 43,
   "id": "0e13036b-4345-44af-91a4-209bf7179da1",
   "metadata": {},
   "outputs": [],
   "source": [
    "# Rename to other years convention\n",
    "train_2020 = train_2020.rename(columns={\"sci_name\": \"scientific_name\", \"species\": \"common_name\"})\n",
    "# Transform secondary_labels\n",
    "ebird2name = train_2020.drop_duplicates(\"ebird_code\")[[\"ebird_code\", \"primary_label\"]].set_index(\"ebird_code\")[\"primary_label\"].to_dict()\n",
    "name2ebird = {v:k for k,v in ebird2name.items()}\n",
    "train_2020['secondary_labels'] = train_2020['secondary_labels'].apply(lambda x: [name2ebird[el] for el in x if el in name2ebird])\n",
    "# ebird_code to primary_label\n",
    "train_2020[\"primary_label\"] = train_2020[\"ebird_code\"]\n",
    "# Create all_labels\n",
    "train_2020['all_labels'] = train_2020.apply(lambda x: [x[\"primary_label\"]] + x[\"secondary_labels\"], axis=1)\n",
    "# Create filename\n",
    "train_2020[\"filename\"] = train_2020.apply(lambda x: pjoin(x[\"primary_label\"], x[\"filename\"]).replace(\".mp3\", \".ogg\"), axis=1)"
   ]
  },
  {
   "cell_type": "code",
   "execution_count": 44,
   "id": "3ee780ca-db71-4e73-b20a-fc2b9a3e6abb",
   "metadata": {},
   "outputs": [
    {
     "name": "stdout",
     "output_type": "stream",
     "text": [
      "New scored recordings: 735\n",
      "New recording: 12077\n"
     ]
    }
   ],
   "source": [
    "scored_filenames_2020 = train_2020.loc[\n",
    "    train_2020[\"all_labels\"].apply(lambda x: len(set(x) & scored_birds) > 0), \n",
    "    \"filename\"\n",
    "].tolist()\n",
    "print(f\"New scored recordings: {len(set(scored_filenames_2020) - (set(train_metadata.filename) | set(train_metadata_2022.filename) | set(train_metadata_2021.filename) | set(train_metadata_2023.filename)))}\")\n",
    "print(f\"New recording: {len(set(train_2020.filename) - (set(train_metadata.filename) | set(train_metadata_2022.filename) | set(train_metadata_2021.filename) | set(train_metadata_2023.filename)))}\")"
   ]
  },
  {
   "cell_type": "code",
   "execution_count": 45,
   "id": "bdab5670-3f45-4bd9-bf56-b4e53904e748",
   "metadata": {},
   "outputs": [
    {
     "name": "stdout",
     "output_type": "stream",
     "text": [
      "New recording: 12123\n"
     ]
    }
   ],
   "source": [
    "print(f\"New recording: {len(set(train_2020.url) - (set(train_metadata.url) | set(train_metadata_2022.url) | set(train_metadata_2021.url) | set(train_metadata_2023.filename)))}\")"
   ]
  },
  {
   "cell_type": "markdown",
   "id": "70594753-04aa-434f-b7fd-c7d40e93d5ca",
   "metadata": {},
   "source": [
    "# Compose Pretrain DataFrame"
   ]
  },
  {
   "cell_type": "code",
   "execution_count": 46,
   "id": "b45a1d27-db5b-4b4a-99a6-afc6e4e8dd8f",
   "metadata": {},
   "outputs": [],
   "source": [
    "# train_metadata_2022[\"old_filename\"] = train_metadata_2022[\"filename\"]\n",
    "# train_metadata_2022[\"filename\"] = train_metadata_2022[\"filename\"].apply(lambda x: os.path.join(\"/home/vova/data/exps/BirdCLEF_2023/birdclef_2022/train_audio/\", x))"
   ]
  },
  {
   "cell_type": "code",
   "execution_count": 47,
   "id": "64cd3534-f6a9-41e7-91b0-313355464b52",
   "metadata": {},
   "outputs": [],
   "source": [
    "# train_metadata_2021[\"old_filename\"] = train_metadata_2021[\"filename\"]\n",
    "# train_metadata_2021[\"filename\"] = train_metadata_2021[\"filename\"].apply(lambda x: os.path.join(\"/home/vova/data/exps/BirdCLEF_2023/birdclef_2021/train_short_audio/\", x))"
   ]
  },
  {
   "cell_type": "code",
   "execution_count": 48,
   "id": "eb3f3cae-72f8-49e1-85bb-b21e5c8a526a",
   "metadata": {},
   "outputs": [],
   "source": [
    "# train_2020[\"old_filename\"] = train_2020[\"filename\"]\n",
    "\n",
    "# train_2020.loc[train_2020[\"2020_source\"] == \"comp\" ,\"filename\"] = (\n",
    "#     train_2020.loc[train_2020[\"2020_source\"] == \"comp\" ,\"filename\"].apply(lambda x: os.path.join(\"/home/vova/data/exps/BirdCLEF_2023/birdclef_2020/train_audio/\", x).replace(\".ogg\", \".mp3\"))\n",
    "# )\n",
    "# train_2020.loc[train_2020[\"2020_source\"] == \"a_m\" ,\"filename\"] = (\n",
    "#     train_2020.loc[train_2020[\"2020_source\"] == \"a_m\" ,\"filename\"].apply(lambda x: os.path.join(\"/home/vova/data/exps/BirdCLEF_2023/birdclef_2020_xc_a_m/A-M/\", x).replace(\".ogg\", \".mp3\"))\n",
    "# )\n",
    "# train_2020.loc[train_2020[\"2020_source\"] == \"n_z\" ,\"filename\"] = (\n",
    "#     train_2020.loc[train_2020[\"2020_source\"] == \"n_z\" ,\"filename\"].apply(lambda x: os.path.join(\"/home/vova/data/exps/BirdCLEF_2023/birdclef_2020_xc_n_z/N-Z/\", x).replace(\".ogg\", \".mp3\"))\n",
    "# )"
   ]
  },
  {
   "cell_type": "code",
   "execution_count": 50,
   "id": "806ce48f-1f1e-49b1-853e-dae44f0705e1",
   "metadata": {},
   "outputs": [
    {
     "data": {
      "text/plain": [
       "['primary_label',\n",
       " 'longitude',\n",
       " 'url',\n",
       " 'all_labels',\n",
       " 'type',\n",
       " 'scientific_name',\n",
       " 'secondary_labels',\n",
       " 'latitude',\n",
       " 'rating',\n",
       " 'filename',\n",
       " 'dataset',\n",
       " 'common_name',\n",
       " 'license',\n",
       " 'author']"
      ]
     },
     "execution_count": 50,
     "metadata": {},
     "output_type": "execute_result"
    }
   ],
   "source": [
    "columns2take = list(\n",
    "    set(train_metadata_2023.columns) & \n",
    "    set(train_metadata_2022.columns) & \n",
    "    set(train_metadata_2021.columns) & \n",
    "    set(train_2020.columns)\n",
    ")\n",
    "columns2take"
   ]
  },
  {
   "cell_type": "code",
   "execution_count": 51,
   "id": "6ca44818-4540-4e3f-8896-b57d46cd04f5",
   "metadata": {},
   "outputs": [],
   "source": [
    "# full_add_df_with_duplicates = pd.concat([train_metadata_2023, train_metadata_2022, train_metadata_2021, train_2020]).reset_index(drop=True)\n",
    "# full_add_df_with_duplicates.to_csv(\"/home/vova/data/exps/birdclef_2024/dfs/full_meta_prev_comps.csv\", index=False)\n",
    "# full_add_df_with_duplicates.shape"
   ]
  },
  {
   "cell_type": "code",
   "execution_count": 52,
   "id": "e57e52ab-0a72-4c99-98ef-d360e950b447",
   "metadata": {},
   "outputs": [],
   "source": [
    "full_add_df_no_duplicates = pd.concat([\n",
    "    train_metadata_2023[columns2take],\n",
    "    train_metadata_2022.loc[~train_metadata_2022[\"url\"].isin(train_metadata_2023[\"url\"]), columns2take],\n",
    "    train_metadata_2021.loc[~train_metadata_2021[\"url\"].isin(set(train_metadata_2023[\"url\"]) | set(train_metadata_2022[\"url\"])), columns2take],\n",
    "    train_2020.loc[~train_2020[\"url\"].isin(set(train_metadata_2023[\"url\"]) | set(train_metadata_2022[\"url\"]) | set(train_metadata_2021[\"url\"])), columns2take]\n",
    "]).reset_index(drop=True)"
   ]
  },
  {
   "cell_type": "code",
   "execution_count": 53,
   "id": "1a0746e8-e2d0-4c69-a9e8-8110196abd52",
   "metadata": {},
   "outputs": [
    {
     "data": {
      "text/plain": [
       "url\n",
       "https://www.xeno-canto.org/128013    1\n",
       "https://www.xeno-canto.org/531446    1\n",
       "https://www.xeno-canto.org/249088    1\n",
       "https://www.xeno-canto.org/249087    1\n",
       "https://www.xeno-canto.org/249086    1\n",
       "                                    ..\n",
       "https://www.xeno-canto.org/240029    1\n",
       "https://www.xeno-canto.org/237876    1\n",
       "https://www.xeno-canto.org/237871    1\n",
       "https://www.xeno-canto.org/237849    1\n",
       "https://www.xeno-canto.org/177143    1\n",
       "Name: count, Length: 100158, dtype: int64"
      ]
     },
     "execution_count": 53,
     "metadata": {},
     "output_type": "execute_result"
    }
   ],
   "source": [
    "full_add_df_no_duplicates[\"url\"].value_counts()"
   ]
  },
  {
   "cell_type": "code",
   "execution_count": 54,
   "id": "70bcce84-d52b-4349-8288-85fcab1c878e",
   "metadata": {},
   "outputs": [
    {
     "data": {
      "text/plain": [
       "{'duration_s'}"
      ]
     },
     "execution_count": 54,
     "metadata": {},
     "output_type": "execute_result"
    }
   ],
   "source": [
    "set(train_metadata.columns) - set(full_add_df_no_duplicates.columns)"
   ]
  },
  {
   "cell_type": "code",
   "execution_count": 55,
   "id": "af645085-423e-4fd4-952c-4e134140da57",
   "metadata": {},
   "outputs": [
    {
     "data": {
      "text/plain": [
       "dataset\n",
       "comp_2021    56575\n",
       "comp_2023    16941\n",
       "comp_2022    14367\n",
       "comp_2020     5507\n",
       "a_m_2020      4080\n",
       "n_z_2020      2688\n",
       "Name: count, dtype: int64"
      ]
     },
     "execution_count": 55,
     "metadata": {},
     "output_type": "execute_result"
    }
   ],
   "source": [
    "full_add_df_no_duplicates[\"dataset\"].value_counts()"
   ]
  },
  {
   "cell_type": "code",
   "execution_count": 56,
   "id": "f69f9d6a-dcef-41bd-8f9c-1bc8134c3529",
   "metadata": {},
   "outputs": [],
   "source": [
    "dataset_mapping = {\n",
    "    \"comp_2021\":\"birdclef_2021/train_features/\",\n",
    "    \"comp_2023\":\"birdclef_2023/train_features/\",\n",
    "    \"comp_2022\":\"birdclef_2022/train_features/\",\n",
    "    \"comp_2020\":\"birdsong_recognition/train_features/\",\n",
    "    \"a_m_2020\": \"xeno_canto_bird_recordings_extended_a_m/train_features/\",\n",
    "    \"n_z_2020\": \"xeno_canto_bird_recordings_extended_n_z/train_features/\",\n",
    "}"
   ]
  },
  {
   "cell_type": "code",
   "execution_count": 57,
   "id": "e2b092b5-d389-402a-bce2-85b39ea65535",
   "metadata": {},
   "outputs": [
    {
     "name": "stderr",
     "output_type": "stream",
     "text": [
      "100%|████████████████████████████████████████████████████████████████████████████████████████████████████████████████████████████████████████████████████████████| 100158/100158 [00:08<00:00, 11723.82it/s]\n"
     ]
    }
   ],
   "source": [
    "train_audio_lengts_and_srs =  ProgressParallel(n_jobs=32, total=len(full_add_df_no_duplicates))(\n",
    "    delayed(read_length_and_sr)(path) for path in full_add_df_no_duplicates.apply(\n",
    "        lambda row: os.path.join(\n",
    "            \"/home/vova/data/exps/birdclef_2024/\", dataset_mapping[row[\"dataset\"]], row[\"filename\"].replace(\".ogg\", \".hdf5\")\n",
    "        ), \n",
    "        axis=1\n",
    "    )\n",
    ")"
   ]
  },
  {
   "cell_type": "code",
   "execution_count": 58,
   "id": "dea41bfd-c3b3-4f2d-b734-b901913a1fda",
   "metadata": {},
   "outputs": [],
   "source": [
    "full_add_df_no_duplicates[\"sample_rate\"] = [el[1] for el in train_audio_lengts_and_srs]\n",
    "full_add_df_no_duplicates[\"au_len\"] = [el[0] for el in train_audio_lengts_and_srs]\n",
    "full_add_df_no_duplicates[\"duration_s\"] = full_add_df_no_duplicates[\"au_len\"] / full_add_df_no_duplicates[\"sample_rate\"]"
   ]
  },
  {
   "cell_type": "code",
   "execution_count": 59,
   "id": "f39d0c25-c4d7-4019-8127-738f55174aaa",
   "metadata": {},
   "outputs": [
    {
     "data": {
      "text/plain": [
       "set()"
      ]
     },
     "execution_count": 59,
     "metadata": {},
     "output_type": "execute_result"
    }
   ],
   "source": [
    "set(train_metadata.columns) - set(full_add_df_no_duplicates.columns)"
   ]
  },
  {
   "cell_type": "code",
   "execution_count": 60,
   "id": "2f0f2522-d00b-4ac7-bfb0-b2619e10f933",
   "metadata": {},
   "outputs": [
    {
     "data": {
      "text/plain": [
       "{'au_len', 'dataset', 'sample_rate'}"
      ]
     },
     "execution_count": 60,
     "metadata": {},
     "output_type": "execute_result"
    }
   ],
   "source": [
    "set(full_add_df_no_duplicates.columns) - set(train_metadata.columns)"
   ]
  },
  {
   "cell_type": "code",
   "execution_count": 61,
   "id": "b2c7bb71-1fa0-4efa-85bd-31bc33293c3e",
   "metadata": {},
   "outputs": [],
   "source": [
    "full_add_df_no_duplicates.to_csv(\"/home/vova/data/exps/birdclef_2024/dfs/full_nodupls_meta_prev_comps_extended.csv\", index=False)"
   ]
  },
  {
   "cell_type": "code",
   "execution_count": 62,
   "id": "2199580a-209b-4f38-bf71-f09e584e597b",
   "metadata": {},
   "outputs": [],
   "source": [
    "full_add_df_no_duplicates_v2 = full_add_df_no_duplicates[~full_add_df_no_duplicates[\"url\"].isin(train_metadata[\"url\"])].reset_index(drop=True)"
   ]
  },
  {
   "cell_type": "code",
   "execution_count": 63,
   "id": "24aa8ccb-bc6a-4d51-b1cf-a302fc72a7b6",
   "metadata": {},
   "outputs": [],
   "source": [
    "full_add_df_no_duplicates_v2.to_csv(\"/home/vova/data/exps/birdclef_2024/dfs/full_noduplsV2_meta_prev_comps_extended.csv\", index=False)"
   ]
  },
  {
   "cell_type": "code",
   "execution_count": 64,
   "id": "bb15ec6a-a005-43a9-a2ee-a80e55b05ae6",
   "metadata": {},
   "outputs": [
    {
     "data": {
      "text/plain": [
       "188"
      ]
     },
     "execution_count": 64,
     "metadata": {},
     "output_type": "execute_result"
    }
   ],
   "source": [
    "train_metadata_unique_labels = set(chain(*train_metadata[\"all_labels\"].to_list()))\n",
    "len(train_metadata_unique_labels)"
   ]
  },
  {
   "cell_type": "code",
   "execution_count": 65,
   "id": "ca906b91-8918-4c76-a9d7-73f1c1dc5ddb",
   "metadata": {},
   "outputs": [],
   "source": [
    "full_add_df_no_duplicates_v2_scored = full_add_df_no_duplicates_v2[\n",
    "    full_add_df_no_duplicates_v2[\"all_labels\"].apply(lambda x: len(set(x) & train_metadata_unique_labels) > 0)\n",
    "].reset_index(drop=True)"
   ]
  },
  {
   "cell_type": "code",
   "execution_count": 66,
   "id": "b5af9778-6965-43e2-8a23-1fc5e06f1cc1",
   "metadata": {},
   "outputs": [],
   "source": [
    "full_add_df_no_duplicates_v2_scored.to_csv(\"/home/vova/data/exps/birdclef_2024/dfs/full_noduplsV2_scored_meta_prev_comps_extended.csv\", index=False)"
   ]
  },
  {
   "cell_type": "code",
   "execution_count": 67,
   "id": "9eeb85de-0637-4165-ac6a-e82bc966a0c4",
   "metadata": {},
   "outputs": [],
   "source": [
    "train_metadata_with_prev_comp = pd.concat([train_metadata, full_add_df_no_duplicates_v2_scored]).reset_index(drop=True)"
   ]
  },
  {
   "cell_type": "code",
   "execution_count": 68,
   "id": "6b7adb41-8cee-4f0e-991c-3797d836730e",
   "metadata": {},
   "outputs": [
    {
     "data": {
      "text/plain": [
       "url\n",
       "https://www.xeno-canto.org/134896    1\n",
       "https://www.xeno-canto.org/540753    1\n",
       "https://www.xeno-canto.org/592535    1\n",
       "https://www.xeno-canto.org/592502    1\n",
       "https://www.xeno-canto.org/578469    1\n",
       "                                    ..\n",
       "https://xeno-canto.org/747424        1\n",
       "https://xeno-canto.org/747422        1\n",
       "https://xeno-canto.org/747408        1\n",
       "https://xeno-canto.org/746321        1\n",
       "https://www.xeno-canto.org/315587    1\n",
       "Name: count, Length: 28408, dtype: int64"
      ]
     },
     "execution_count": 68,
     "metadata": {},
     "output_type": "execute_result"
    }
   ],
   "source": [
    "train_metadata_with_prev_comp.url.value_counts()"
   ]
  },
  {
   "cell_type": "code",
   "execution_count": 69,
   "id": "3ea1991f-5817-47c3-b41c-d987b361a386",
   "metadata": {},
   "outputs": [],
   "source": [
    "train_metadata_with_prev_comp.to_csv(\"/home/vova/data/exps/birdclef_2024/dfs/train_2024_with_prev_extended.csv\", index=False)"
   ]
  }
 ],
 "metadata": {
  "kernelspec": {
   "display_name": "Python 3 (ipykernel)",
   "language": "python",
   "name": "python3"
  },
  "language_info": {
   "codemirror_mode": {
    "name": "ipython",
    "version": 3
   },
   "file_extension": ".py",
   "mimetype": "text/x-python",
   "name": "python",
   "nbconvert_exporter": "python",
   "pygments_lexer": "ipython3",
   "version": "3.11.6"
  }
 },
 "nbformat": 4,
 "nbformat_minor": 5
}
