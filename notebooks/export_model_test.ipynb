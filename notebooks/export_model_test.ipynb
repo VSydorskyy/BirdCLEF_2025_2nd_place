{
 "cells": [
  {
   "cell_type": "code",
   "execution_count": null,
   "id": "21ac3599-7795-418b-8c0f-9cb6e8b23f3a",
   "metadata": {},
   "outputs": [],
   "source": [
    "!nvidia-smi"
   ]
  },
  {
   "cell_type": "code",
   "execution_count": null,
   "id": "de71ce59-eafd-40f7-aacf-cb2b6c0f914a",
   "metadata": {},
   "outputs": [],
   "source": [
    "%load_ext autoreload\n",
    "%autoreload 2\n",
    "\n",
    "import os\n",
    "os.environ[\"CUDA_VISIBLE_DEVICES\"]=\"2\"\n",
    "\n",
    "import pandas as pd\n",
    "import numpy as np\n",
    "import librosa\n",
    "import seaborn as sns\n",
    "import os\n",
    "import json\n",
    "import IPython.display as ipd\n",
    "import soundfile as sf\n",
    "import torch\n",
    "import h5py\n",
    "import onnxruntime as ort\n",
    "import openvino as ov\n",
    "import re\n",
    "\n",
    "from glob import glob\n",
    "from tqdm import tqdm\n",
    "from matplotlib import pyplot as plt\n",
    "from itertools import chain\n",
    "from os.path import join as pjoin\n",
    "from torchaudio.transforms import AmplitudeToDB, MelSpectrogram\n",
    "from copy import deepcopy\n",
    "from pprint import pprint\n",
    "\n",
    "# from code_base.utils import parallel_librosa_load, groupby_np_array, stack_and_max_by_samples, macro_f1_similarity, N_CLASSES_2021_2022, N_CLASSES_2021, comp_metric, N_CLASSES_XC_LIGIT_SHORTEN, N_CLASSES_XC_LIGIT_EVEN_SHORTEN\n",
    "# from code_base.utils.constants import SAMPLE_RATE\n",
    "from code_base.utils.onnx_utils import ONNXEnsemble, convert_to_onnx\n",
    "from code_base.models import WaveCNNClasifier, WaveCNNAttenClasifier\n",
    "from code_base.datasets import WaveDataset, WaveAllFileDataset\n",
    "from code_base.utils.swa import avarage_weights, delete_prefix_from_chkp\n",
    "from code_base.inefernce import BirdsInference\n",
    "from code_base.utils import load_json, compose_submission_dataframe, groupby_np_array, stack_and_max_by_samples, write_json\n",
    "from code_base.utils.metrics import score_numpy\n",
    "%matplotlib inline\n"
   ]
  },
  {
   "cell_type": "markdown",
   "id": "2fbefe7e-9217-4b0e-8d8d-7b690038a69f",
   "metadata": {},
   "source": [
    "# Export Models"
   ]
  },
  {
   "cell_type": "code",
   "execution_count": 1,
   "id": "a0fc7060-f499-41ee-93e2-725a9ac06a65",
   "metadata": {},
   "outputs": [],
   "source": [
    "import torch.nn as nn\n",
    "\n",
    "class UniversalRNN(nn.Module):\n",
    "    \n",
    "    def __init__(\n",
    "        self,\n",
    "        in_channels,\n",
    "        out_channels,\n",
    "        rnn_channels=512,\n",
    "        rnn_type=nn.GRU,\n",
    "        n_rnns=1,\n",
    "        bidirectional=True,\n",
    "        average_type=None,\n",
    "        dropout_rate=0.4\n",
    "    ):\n",
    "        super().__init__()\n",
    "\n",
    "        self.projection = nn.Linear(in_channels, rnn_channels)\n",
    "        self.rnns = rnn_type(\n",
    "            rnn_channels, \n",
    "            rnn_channels, \n",
    "            bidirectional=bidirectional, \n",
    "            num_layers=n_rnns,\n",
    "            batch_first=True\n",
    "        )\n",
    "        if not (average_type is None or average_type in [\"mean\", \"last\"]):\n",
    "            raise ValueError(f\"{average_type} is nit supported average_type\")\n",
    "        self.average_type = average_type\n",
    "        self.classifier = nn.Sequential(\n",
    "            nn.Dropout(dropout_rate),\n",
    "            nn.Linear(\n",
    "                rnn_channels * 2 if bidirectional else rnn_channels, \n",
    "                out_channels, \n",
    "            )\n",
    "        )\n",
    "        \n",
    "    def forward(self, x):\n",
    "        x = self.projection(x)\n",
    "        x = self.rnns(x)[0]\n",
    "        if self.average_type is None:\n",
    "            x = self.classifier(x)\n",
    "        else:\n",
    "            # Dimension reminder : [Batch, Time Dimension, Channels]\n",
    "            if self.average_type == \"mean\":\n",
    "                x = x.mean(1)\n",
    "            elif self.average_type == \"last\":\n",
    "                x = x[:,-1,:]\n",
    "            x = self.classifier(x)\n",
    "        return x"
   ]
  },
  {
   "cell_type": "code",
   "execution_count": 3,
   "id": "3033f822-110c-4311-8aae-f033fabee8a3",
   "metadata": {},
   "outputs": [
    {
     "data": {
      "text/plain": [
       "UniversalRNN(\n",
       "  (projection): Linear(in_features=4096, out_features=512, bias=True)\n",
       "  (rnns): GRU(512, 512, batch_first=True, bidirectional=True)\n",
       "  (classifier): Sequential(\n",
       "    (0): Dropout(p=0.4, inplace=False)\n",
       "    (1): Linear(in_features=1024, out_features=188, bias=True)\n",
       "  )\n",
       ")"
      ]
     },
     "execution_count": 3,
     "metadata": {},
     "output_type": "execute_result"
    }
   ],
   "source": [
    "exportable_ensem = UniversalRNN(\n",
    "    in_channels=2048*2,\n",
    "    out_channels=188,\n",
    "    average_type=\"mean\"\n",
    ")\n",
    "exportable_ensem"
   ]
  },
  {
   "cell_type": "code",
   "execution_count": null,
   "id": "2142313a-73cf-4df7-843e-e98ad0e137d2",
   "metadata": {
    "tags": []
   },
   "outputs": [],
   "source": [
    "exportable_ensem.eval()\n",
    "convert_to_onnx(\n",
    "    model_to_convert=exportable_ensem,\n",
    "    sample_input=torch.randn(5, 48, 2048*2),\n",
    "    base_path=f\"../logdirs/dummy_gru/onnx_ensem_logits\",\n",
    "    use_fp16=True,\n",
    "    use_openvino=True,\n",
    "    # opset_version=14\n",
    "    # base_path=\"test_onnx\"\n",
    ")"
   ]
  },
  {
   "cell_type": "code",
   "execution_count": null,
   "id": "b9ec5a73-ded8-4532-99f8-b5727b670842",
   "metadata": {},
   "outputs": [],
   "source": [
    "# !rm ../logdirs/convnext_small_fb_in22k_ft_in1k_384__convnextv2_tiny_fcmae_ft_in22k_in1k_384__eca_nfnet_l0_noval_v27_075Clipwise025TimeMax_GausMean -rf"
   ]
  },
  {
   "cell_type": "code",
   "execution_count": null,
   "id": "645ea4bb-1236-4a9e-b8a2-6511c778bf73",
   "metadata": {},
   "outputs": [],
   "source": [
    "# !rm ../logdirs/convnext_small_fb_in22k_ft_in1k_384__convnextv2_tiny_fcmae_ft_in22k_in1k_384__eca_nfnet_l0_noval_v27_075Clipwise025TimeMax_GausMean -rf"
   ]
  }
 ],
 "metadata": {
  "kernelspec": {
   "display_name": "Python 3 (ipykernel)",
   "language": "python",
   "name": "python3"
  },
  "language_info": {
   "codemirror_mode": {
    "name": "ipython",
    "version": 3
   },
   "file_extension": ".py",
   "mimetype": "text/x-python",
   "name": "python",
   "nbconvert_exporter": "python",
   "pygments_lexer": "ipython3",
   "version": "3.11.6"
  }
 },
 "nbformat": 4,
 "nbformat_minor": 5
}
