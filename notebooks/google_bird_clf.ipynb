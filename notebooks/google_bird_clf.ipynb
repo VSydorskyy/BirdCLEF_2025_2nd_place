{
 "cells": [
  {
   "cell_type": "code",
   "execution_count": 61,
   "id": "34947f70-7bd9-4198-b2e8-664ae9dc749d",
   "metadata": {},
   "outputs": [
    {
     "name": "stdout",
     "output_type": "stream",
     "text": [
      "The autoreload extension is already loaded. To reload it, use:\n",
      "  %reload_ext autoreload\n"
     ]
    }
   ],
   "source": [
    "%load_ext autoreload\n",
    "%autoreload 2\n",
    "\n",
    "import os\n",
    "os.environ[\"CUDA_VISIBLE_DEVICES\"]=\"2\"\n",
    "\n",
    "import pandas as pd\n",
    "import numpy as np\n",
    "import librosa\n",
    "import seaborn as sns\n",
    "import os\n",
    "import json\n",
    "import IPython.display as ipd\n",
    "import soundfile as sf\n",
    "import torch\n",
    "import collections\n",
    "import h5py\n",
    "import timm\n",
    "import torch.nn as nn\n",
    "import onnxruntime as ort\n",
    "# import torchaudio\n",
    "import onnx\n",
    "# import tensorflow as tf\n",
    "# import tensorflow_hub as hub\n",
    "# import tf2onnx\n",
    "import onnx\n",
    "import onnxruntime as ort\n",
    "from onnxsim import simplify\n",
    "from scipy.special import expit\n",
    "from collections import Counter\n",
    "\n",
    "\n",
    "\n",
    "from glob import glob\n",
    "from tqdm import tqdm\n",
    "from matplotlib import pyplot as plt\n",
    "from itertools import chain\n",
    "from os.path import join as pjoin\n",
    "from torchaudio.transforms import AmplitudeToDB, MelSpectrogram\n",
    "from copy import deepcopy\n",
    "from typing import Callable\n",
    "from nnAudio.Spectrogram import CQT1992v2\n",
    "# import leaf_audio_pytorch.frontend as frontend\n",
    "from torchaudio.transforms import TimeMasking, FrequencyMasking\n",
    "from shutil import copyfile\n",
    "from torchaudio.transforms import Resample\n",
    "\n",
    "# from code_base.utils import parallel_librosa_load, groupby_np_array, stack_and_max_by_samples, load_pp_audio\n",
    "# from code_base.utils.constants import SAMPLE_RATE, N_CLASSES_2021_2022\n",
    "from code_base.utils.onnx_utils import convert_to_onnx\n",
    "from code_base.models import WaveCNNClasifier, WaveCNNAttenClasifier, WaveTDNNClasifier, RandomFiltering\n",
    "from code_base.models.blocks import TraceableMelspec, NormalizeMelSpec, GeMFreqFixed\n",
    "from code_base.utils.metrics import score_numpy\n",
    "# from code_base.models.wave_clasifier import WaveCNNAttenClasifier\n",
    "from code_base.datasets import WaveDataset, WaveAllFileDataset\n",
    "from code_base.utils import load_json, write_json\n",
    "from code_base.utils.audio_utils import get_librosa_load\n",
    "# from code_base.augmentations.background_noise import AddBackgoundFromSoundScapes\n",
    "# from code_base.augmentations.transforms import BackgroundNoise, Compose, GaussianNoise, PinkNoise, OneOf\n",
    "# from code_base.forwards import MultilabelClsForwardLongShort\n",
    "# from code_base.utils.onnx_utils import ONNXEnsemble, convert_to_onnx\n",
    "from code_base.augmentations.transforms import (\n",
    "    BackgroundNoise,\n",
    "    Compose,\n",
    "    GaussianNoise,\n",
    "    OneOf,\n",
    "    PinkNoise,\n",
    ")\n",
    "%matplotlib inline\n"
   ]
  },
  {
   "cell_type": "markdown",
   "id": "38da17b7-ad07-4044-8434-a7eca562bf14",
   "metadata": {},
   "source": [
    "# Data"
   ]
  },
  {
   "cell_type": "code",
   "execution_count": 2,
   "id": "ef1072e0-6c84-4b45-b08b-6c7786cc277d",
   "metadata": {},
   "outputs": [],
   "source": [
    "# df = pd.read_csv(\n",
    "#     \"/home/vova/data/exps/birdclef_2024/birdclef_2024/train_metadata_extended_noduplv1.csv\",\n",
    "#     converters={\"secondary_labels\": eval, \"all_labels\": eval}\n",
    "# )\n",
    "# df = pd.read_csv(\n",
    "#     \"/home/vova/data/exps/birdclef_2024/dfs/full_noduplsV3_scored_meta_prev_comps_extended_2024SecLabels.csv\",\n",
    "#     converters={\"secondary_labels\": eval, \"all_labels\": eval}\n",
    "# )\n",
    "df = pd.read_csv(\n",
    "    \"/home/vova/data/exps/birdclef_2024/xeno_canto/dataset_2024_classes/train_metadata_noduplV3_extended_2024SecLabels.csv\",\n",
    "    converters={\"secondary_labels\": eval, \"all_labels\": eval}\n",
    ")\n",
    "# taxonomy = pd.read_csv(\"/home/vova/data/exps/birdclef_2024/birdclef_2024/eBird_Taxonomy_v2021.csv\")\n",
    "# previous_soundscapes = pd.read_csv(\n",
    "#     \"/home/vova/data/exps/birdclef_2024/my_2023_data/soundscapes_nocall/v1_no_call_meta_fixed.csv\"\n",
    "# )\n",
    "# df = pd.read_csv(\"/home/vova/data/exps/BirdCLEF_2023/xeno_canto/train_metadata_extended_shorten_and_2023x_v1.csv\")\n",
    "# df.head()"
   ]
  },
  {
   "cell_type": "code",
   "execution_count": 3,
   "id": "c7604ec3-01ec-4b50-9f84-9c38a60686ac",
   "metadata": {},
   "outputs": [],
   "source": [
    "scored_birds = load_json(\n",
    "    \"/home/vova/data/exps/birdclef_2024/scored_birds/sb_2024.json\"\n",
    ")"
   ]
  },
  {
   "cell_type": "code",
   "execution_count": null,
   "id": "80182ed7-53c9-47f2-a69e-85a57eb56f53",
   "metadata": {},
   "outputs": [],
   "source": [
    "df[df[\"duration_s\"] <=5]"
   ]
  },
  {
   "cell_type": "code",
   "execution_count": null,
   "id": "f292d75e-8aed-4958-8ee0-d6e3a9a8111b",
   "metadata": {},
   "outputs": [],
   "source": [
    "train_dataset_full = WaveAllFileDataset(\n",
    "    # df=df,\n",
    "    df=df[df[\"duration_s\"] <=5].reset_index(drop=True),\n",
    "    # root=\"/home/vova/data/exps/birdclef_2024/birdclef_2024/train_features/\",\n",
    "    root=\"/home/vova/data/exps/birdclef_2024/birdclef_2024/train_audio\",\n",
    "    label_str2int_mapping_path=\"/home/vova/data/exps/birdclef_2024/class_mappings/bird2int_2024.json\",\n",
    "    precompute=False,\n",
    "    n_cores=4,\n",
    "    debug=False,\n",
    "    segment_len=5,\n",
    "    sample_id=None,\n",
    "    late_normalize=True,\n",
    "    use_h5py=False,\n",
    "    load_normalize=False,\n",
    "\n",
    "    use_audio_cache=True,\n",
    "    test_mode=False\n",
    ")\n",
    "\n",
    "id2bird_vova = {v:k for k,v in train_dataset_full.label_str2int.items()}"
   ]
  },
  {
   "cell_type": "code",
   "execution_count": null,
   "id": "af5b0781-a06c-433a-b6ec-35efec47a39f",
   "metadata": {},
   "outputs": [],
   "source": [
    "np.abs(train_dataset_full.test_audio_cache[\"au\"]).max()"
   ]
  },
  {
   "cell_type": "code",
   "execution_count": null,
   "id": "5c07fdd3-dd32-4054-9d7e-2ea563bca055",
   "metadata": {},
   "outputs": [],
   "source": [
    "np.abs(train_dataset_full[0][0]).max()"
   ]
  },
  {
   "cell_type": "markdown",
   "id": "d3ecb23c-97e0-42a5-bca7-734b6f63b780",
   "metadata": {},
   "source": [
    "# Google Model"
   ]
  },
  {
   "cell_type": "code",
   "execution_count": null,
   "id": "b21da4ee-426a-4569-bfb9-97435fb54e47",
   "metadata": {},
   "outputs": [],
   "source": [
    "import tensorflow_hub as hub"
   ]
  },
  {
   "cell_type": "code",
   "execution_count": null,
   "id": "f489b85b-0078-41a4-aed9-24624a577778",
   "metadata": {},
   "outputs": [],
   "source": [
    "model_path = 'https://www.kaggle.com/models/google/bird-vocalization-classifier/TensorFlow2/bird-vocalization-classifier/8'\n",
    "model = hub.load(model_path)\n",
    "model_labels_df = pd.read_csv(hub.resolve(model_path) + \"/assets/label.csv\")"
   ]
  },
  {
   "cell_type": "code",
   "execution_count": null,
   "id": "8fc3fdae-cde7-4ee6-ac97-5cdac6bcab33",
   "metadata": {},
   "outputs": [],
   "source": [
    "model"
   ]
  },
  {
   "cell_type": "code",
   "execution_count": null,
   "id": "0b2bcd98-14db-49f7-be76-b51c76d2e19a",
   "metadata": {},
   "outputs": [],
   "source": [
    "set(scored_birds) - set(model_labels_df[\"ebird2021\"])"
   ]
  },
  {
   "cell_type": "code",
   "execution_count": null,
   "id": "2ba4dd31-f52e-43ba-974d-6b2f2fdf5206",
   "metadata": {},
   "outputs": [],
   "source": [
    "scored_birds = pd.Series(scored_birds)"
   ]
  },
  {
   "cell_type": "code",
   "execution_count": null,
   "id": "ee99bf70-6e18-4e85-9247-7115a1f93119",
   "metadata": {},
   "outputs": [],
   "source": [
    "scored_birds[scored_birds.apply(lambda x: x.startswith(\"indrol\"))]"
   ]
  },
  {
   "cell_type": "code",
   "execution_count": null,
   "id": "5904c9d2-0bd0-4f34-a24a-dbcf1c335fc8",
   "metadata": {},
   "outputs": [],
   "source": [
    "model_labels_df[model_labels_df[\"ebird2021\"].apply(lambda x: x.startswith(\"bkrfla\"))]"
   ]
  },
  {
   "cell_type": "code",
   "execution_count": null,
   "id": "cb4f7633-a448-42fb-90bb-4cda13e3b71f",
   "metadata": {},
   "outputs": [],
   "source": [
    "model_labels_df[model_labels_df[\"ebird2021\"].apply(lambda x: x.startswith(\"indrol\"))]"
   ]
  },
  {
   "cell_type": "code",
   "execution_count": null,
   "id": "6870c8b5-e80f-4507-86d5-c8866f711b94",
   "metadata": {},
   "outputs": [],
   "source": [
    "model_labels_df.shape"
   ]
  },
  {
   "cell_type": "code",
   "execution_count": null,
   "id": "daa927f6-0031-4cc9-91ca-8dcff9d80b27",
   "metadata": {},
   "outputs": [],
   "source": [
    "id2bird_google = model_labels_df[\"ebird2021\"].to_dict()"
   ]
  },
  {
   "cell_type": "code",
   "execution_count": null,
   "id": "3afe7bc1-0464-496b-afa5-91de8958fec0",
   "metadata": {},
   "outputs": [],
   "source": [
    "from tensorflow.python.client import device_lib\n",
    "\n",
    "def get_available_devices():\n",
    "    local_device_protos = device_lib.list_local_devices()\n",
    "    return [x.name for x in local_device_protos]\n",
    "\n",
    "print(get_available_devices())"
   ]
  },
  {
   "cell_type": "code",
   "execution_count": null,
   "id": "bb854f3e-bef6-4417-a002-39b0f3e44333",
   "metadata": {},
   "outputs": [],
   "source": [
    "import tensorflow as tf"
   ]
  },
  {
   "cell_type": "code",
   "execution_count": null,
   "id": "8480ebed-f8b0-448b-ad67-8ea5f0ac2e07",
   "metadata": {},
   "outputs": [],
   "source": [
    "print(\"Is GPU available:\", tf.config.list_physical_devices('GPU'))"
   ]
  },
  {
   "cell_type": "code",
   "execution_count": null,
   "id": "c5117e20-c7af-4ad2-9377-fefd7e80076c",
   "metadata": {},
   "outputs": [],
   "source": [
    "with tf.device('/gpu:0'):\n",
    "    model_output = model.infer_tf(np.random.uniform(size=(64, 5*32000)))"
   ]
  },
  {
   "cell_type": "code",
   "execution_count": null,
   "id": "b57ce5a4-f18f-4225-8ab5-d41be4a1657e",
   "metadata": {},
   "outputs": [],
   "source": [
    "model_output"
   ]
  },
  {
   "cell_type": "code",
   "execution_count": null,
   "id": "685fd881-587e-4f35-bd67-61544df921b0",
   "metadata": {},
   "outputs": [],
   "source": [
    "def google_postprocessor_v8(input):\n",
    "    return expit(input[\"label\"].numpy())"
   ]
  },
  {
   "cell_type": "code",
   "execution_count": null,
   "id": "e2ced380-8965-4dfe-8c65-6dbe509ada7c",
   "metadata": {},
   "outputs": [],
   "source": [
    "REARRANGE_INDICES = np.array([ 7717,  4041,   354,  4914,  1643,  5186,  4749,  4621,  2750,\n",
    "        1017,  1802,  4524,  3890,  7289,  8703,  6664,  7355,  9680,\n",
    "       10237,  1372,  4096,  5373,  6389,  5418,  2593,  4402,  4003,\n",
    "        6925,  3922, 10533,  7725,  1507,  5486,  8873,  7804,  4250,\n",
    "        5572,   901,  3624,  1031,  2707,  4791,  4609,  1692,  1016,\n",
    "        5120,   971, 10611,  2881,  3825,  6772,  4489,  1297,  1661,\n",
    "        7352,  9047,  2607,  1788,  8236,  6933,  4728,  6906,  5039,\n",
    "        4579,  2623,  5385, 10065,  7167,   967, 10050,  4522,  7359,\n",
    "        4754,  4942,  7436,  2598,  5235,  2601,   727,  3913,  6921,\n",
    "        8530,  6725,  5975,  8832,  4611,  5047,  4174,  9961,   990,\n",
    "        8029,  6260,  1594,  6649,  3792,  3462,  9378,  5145,  4076,\n",
    "        1964,  6922,  4623,  4602,  2524,  6315,  2815,  7666,  5718,\n",
    "        9836,  4753,   362,  5982,  2103,  9888,  2898,  9422,  6268,\n",
    "        5148,  1600,  7998,   577,  2627, 10584,  5409,  4618,  4794,\n",
    "        8784,  3697,  7476,  4855,   326,   364,  6823, 10056,  3218,\n",
    "        4603,  4619,  3894,  1417,  6726,  3221,   315,  2605,  2612,\n",
    "        2622,   600,  5097, 10031,  3904,  5417,  6068,   347,  3886,\n",
    "        4601,  3958,  9676,  1704,  1353,  8767, 10058,  2776,  4614,\n",
    "       10299,  2201,  5115,  4112,  4006,   337,  4636,  6271,  2599,\n",
    "        6736,  3176,   360, 10077,  1715,  2643, 10928,  9408,  3551,\n",
    "       10377,   366,  1789, 10620,  3207,  3126,  7483,  8444])"
   ]
  },
  {
   "cell_type": "code",
   "execution_count": null,
   "id": "58b7765f-df52-49e0-942b-64823395c1e5",
   "metadata": {},
   "outputs": [],
   "source": [
    "expit(model_output[\"label\"].numpy())[:,REARRANGE_INDICES].shape"
   ]
  },
  {
   "cell_type": "code",
   "execution_count": null,
   "id": "c1ad63c8-1b46-4a69-87d5-4b5eff45a867",
   "metadata": {},
   "outputs": [],
   "source": [
    "logits"
   ]
  },
  {
   "cell_type": "code",
   "execution_count": null,
   "id": "3ae9ad80-83f2-433a-86a8-256491614639",
   "metadata": {},
   "outputs": [],
   "source": [
    "len(train_dataset_full)"
   ]
  },
  {
   "cell_type": "code",
   "execution_count": null,
   "id": "0c5798c1-3144-49f8-9e3e-0bf5778ff89e",
   "metadata": {},
   "outputs": [],
   "source": [
    "probs"
   ]
  },
  {
   "cell_type": "code",
   "execution_count": null,
   "id": "488b5e56-4cd5-4f65-b798-df653b6cb614",
   "metadata": {},
   "outputs": [],
   "source": [
    "wave, target, dfidx, start, end = train_dataset_full[0]\n",
    "\n",
    "print(\"Target IDS:\", np.where(target > 0)[0])\n",
    "print(\"Birds: \", [id2bird_vova[el] for el in np.where(target > 0)[0]])\n",
    "\n",
    "output = model.infer_tf(wave[np.newaxis, :])\n",
    "probs = torch.sigmoid(torch.from_numpy(output[0].numpy()))[0]\n",
    "\n",
    "print(\"Predicted IDS:\", np.where(probs > 0.5)[0])\n",
    "print(\"Birds: \", [id2bird_google[el] for el in np.where(probs > 0.5)[0]])"
   ]
  },
  {
   "cell_type": "code",
   "execution_count": null,
   "id": "799786ac-430f-46bf-a7ea-aefef135822b",
   "metadata": {},
   "outputs": [],
   "source": [
    "ipd.Audio(wave, rate=32000)"
   ]
  },
  {
   "cell_type": "code",
   "execution_count": null,
   "id": "d894a89e-55dc-4e08-96f0-c75a2e8d5ed8",
   "metadata": {},
   "outputs": [],
   "source": [
    "plt.plot(wave)"
   ]
  },
  {
   "cell_type": "code",
   "execution_count": null,
   "id": "0ee964f9-68bf-4aec-80f8-0f04caaf2750",
   "metadata": {},
   "outputs": [],
   "source": [
    "probs = torch.sigmoid(torch.from_numpy(output[\"label\"].numpy()))"
   ]
  },
  {
   "cell_type": "code",
   "execution_count": null,
   "id": "4129b5d3-53de-480a-8f5a-75b53df64eed",
   "metadata": {},
   "outputs": [],
   "source": [
    "print(\"Predicted IDS:\", np.where(probs > 0.5)[0])\n",
    "print(\"Birds: \", [id2bird_google[el] for el in np.where(probs > 0.5)[0]])"
   ]
  },
  {
   "cell_type": "code",
   "execution_count": null,
   "id": "a8950b77-c727-4590-8b00-65ac433cf4e7",
   "metadata": {},
   "outputs": [],
   "source": [
    "probs"
   ]
  },
  {
   "cell_type": "markdown",
   "id": "f9d72881-ca26-47d2-94a0-c00a3efed181",
   "metadata": {},
   "source": [
    "# Convert to ONNX"
   ]
  },
  {
   "cell_type": "code",
   "execution_count": null,
   "id": "5ddc4990-49a8-491b-b6c0-d841d28d9a35",
   "metadata": {},
   "outputs": [],
   "source": [
    "model_path = 'https://kaggle.com/models/google/bird-vocalization-classifier/frameworks/TensorFlow2/variations/bird-vocalization-classifier/versions/4'\n",
    "hub_model = hub.load(model_path)"
   ]
  },
  {
   "cell_type": "code",
   "execution_count": null,
   "id": "cf3c497b-dc18-4541-9d0f-5e485c566639",
   "metadata": {},
   "outputs": [],
   "source": [
    "# Define a wrapper model\n",
    "class HubModelWrapper(tf.keras.Model):\n",
    "    output_names = [\"logits\", \"embeddings\"]\n",
    "    \n",
    "    def __init__(self, hub_model):\n",
    "        super(HubModelWrapper, self).__init__()\n",
    "        self.hub_model = hub_model\n",
    "    \n",
    "    def call(self, inputs):\n",
    "        return self.hub_model.infer_tf(inputs)\n",
    "\n",
    "# Create an instance of the wrapper model\n",
    "model = HubModelWrapper(hub_model)\n",
    "\n",
    "# Compile the model (necessary for saving)\n",
    "model.compile(optimizer='adam', loss='sparse_categorical_crossentropy')\n",
    "\n",
    "# Define input shape for the model, assuming the input size as given in the original post\n",
    "input_shape = (None, 5*32000)  # Adjust based on the actual expected input shape\n",
    "model.build([input_shape])  # This is necessary to create the model layers"
   ]
  },
  {
   "cell_type": "code",
   "execution_count": null,
   "id": "59abbb76-78f3-4ab7-86d6-6bb2255ff7ba",
   "metadata": {},
   "outputs": [],
   "source": [
    "# # Save the model locally as a SavedModel\n",
    "# saved_model_path = './google_model_onnx/'\n",
    "# model.save('./google_model_onnx/model.keras')"
   ]
  },
  {
   "cell_type": "code",
   "execution_count": null,
   "id": "631e37b9-2b2d-4ebe-bb64-a069468e373a",
   "metadata": {},
   "outputs": [],
   "source": [
    "spec = (tf.TensorSpec((None, 5*32000), tf.float32, name=\"input\"),)\n",
    "\n",
    "# Convert\n",
    "model_proto, external_tensor_storage = tf2onnx.convert.from_keras(\n",
    "    model, \n",
    "    input_signature=spec, \n",
    "    output_path='./google_model_onnx/model.onnx', \n",
    "    opset=12\n",
    ")\n",
    "\n",
    "# Save the ONNX model\n",
    "onnx.save(model_proto, './google_model_onnx/model.onnx')"
   ]
  },
  {
   "cell_type": "code",
   "execution_count": null,
   "id": "afe1340e-1100-4a84-b880-3362d651a06b",
   "metadata": {
    "scrolled": true
   },
   "outputs": [],
   "source": [
    "sess = ort.InferenceSession('./google_model_onnx/model.onnx')"
   ]
  },
  {
   "cell_type": "markdown",
   "id": "0aa9b157-3a95-4ce3-8d33-b61981fcec8d",
   "metadata": {},
   "source": [
    "# Create Processed Google Model"
   ]
  },
  {
   "cell_type": "markdown",
   "id": "b90ff063-9fc0-4327-bd5b-5ce9129a0e0c",
   "metadata": {},
   "source": [
    "## Train Data"
   ]
  },
  {
   "cell_type": "code",
   "execution_count": null,
   "id": "982e09fb-2a80-4758-9fa5-87879485fa02",
   "metadata": {},
   "outputs": [],
   "source": [
    "df[\"id\"] = df[\"filename\"].apply(lambda x: os.path.splitext(os.path.basename(x))[0])"
   ]
  },
  {
   "cell_type": "code",
   "execution_count": null,
   "id": "2fd5a4da-28a7-4f93-ac9e-99f077ecb89b",
   "metadata": {},
   "outputs": [],
   "source": [
    "train_data_google_results = glob(\n",
    "    # \"../google_bird_predictions/train_data/*.csv\"\n",
    "    # \"../google_bird_predictions/add_scored_data/*.csv\"\n",
    "    \"../google_bird_predictions/unlabeled_data/*.csv\"\n",
    ")\n",
    "train_data_google_results = pd.concat([pd.read_csv(el) for el in train_data_google_results]).reset_index(drop=True)"
   ]
  },
  {
   "cell_type": "code",
   "execution_count": null,
   "id": "c4bd719e-9588-4ab5-b793-5115c8db0003",
   "metadata": {},
   "outputs": [],
   "source": [
    "train_data_google_results = train_data_google_results.drop_duplicates(\"row_id\").reset_index(drop=True)"
   ]
  },
  {
   "cell_type": "code",
   "execution_count": null,
   "id": "8a11653c-11b5-4ed1-918d-ba1b08bd2539",
   "metadata": {},
   "outputs": [],
   "source": [
    "train_data_google_results[\"id\"] = train_data_google_results[\"row_id\"].apply(lambda x: x.split(\"_\")[0])\n",
    "train_data_google_results[\"final_second\"] = train_data_google_results[\"row_id\"].apply(lambda x: int(x.split(\"_\")[1]))"
   ]
  },
  {
   "cell_type": "code",
   "execution_count": null,
   "id": "fdf68f18-2999-4f5c-a3d6-e48311995af1",
   "metadata": {},
   "outputs": [],
   "source": [
    "train_data_google_results.to_csv(\n",
    "    \"../google_bird_predictions/unlabeled_data/unlabeled_data_google_bird_model_pseudo.csv\", \n",
    "    index=False\n",
    ")"
   ]
  },
  {
   "cell_type": "code",
   "execution_count": null,
   "id": "166bd46a-395f-45e3-a3bf-3f845c488e51",
   "metadata": {},
   "outputs": [],
   "source": [
    "missing_birds = set(scored_birds) - set(train_data_google_results.columns[1:])"
   ]
  },
  {
   "cell_type": "code",
   "execution_count": null,
   "id": "3f8c9b31-6b3c-4e2a-b8ab-1ecd19b12955",
   "metadata": {},
   "outputs": [],
   "source": [
    "google_birds = [el for el in scored_birds if el not in missing_birds]\n",
    "# train_data_google_results.columns[1:-2]"
   ]
  },
  {
   "cell_type": "markdown",
   "id": "cbcfd070-96ee-4181-9665-957e4d8439fd",
   "metadata": {},
   "source": [
    "### Compute metric"
   ]
  },
  {
   "cell_type": "code",
   "execution_count": null,
   "id": "ff9081c1-8bd5-4817-a688-6804b1cb2604",
   "metadata": {},
   "outputs": [],
   "source": [
    "train_data_google_results"
   ]
  },
  {
   "cell_type": "code",
   "execution_count": null,
   "id": "7b80c5c0-f8ed-40c7-a408-b4232ac01d11",
   "metadata": {},
   "outputs": [],
   "source": [
    "train_data_google_results_aggr = train_data_google_results.groupby(\"id\").apply(\n",
    "    lambda sub_df: sub_df[google_birds].max(axis=0)\n",
    ").reset_index()"
   ]
  },
  {
   "cell_type": "code",
   "execution_count": null,
   "id": "a43d4860-a7a2-4aaf-aa71-bafd2c8d9a39",
   "metadata": {},
   "outputs": [],
   "source": [
    "train_data_google_results_aggr"
   ]
  },
  {
   "cell_type": "code",
   "execution_count": null,
   "id": "25eb9f3f-fdb2-40de-876f-85f7d8389116",
   "metadata": {},
   "outputs": [],
   "source": [
    "df_without_missing = df[~df[\"all_labels\"].apply(lambda x: any(el in missing_birds for el in x))].reset_index(drop=True)"
   ]
  },
  {
   "cell_type": "code",
   "execution_count": null,
   "id": "0b373073-6ff8-4434-a228-6d6c56fe52da",
   "metadata": {},
   "outputs": [],
   "source": [
    "set(df[\"id\"]) - set(train_data_google_results[\"id\"])"
   ]
  },
  {
   "cell_type": "code",
   "execution_count": null,
   "id": "b567ac8d-dc31-4ff9-b23f-ae0862d485d6",
   "metadata": {},
   "outputs": [],
   "source": []
  },
  {
   "cell_type": "code",
   "execution_count": null,
   "id": "e286ea77-4749-4457-9490-f2780bc5f6bf",
   "metadata": {},
   "outputs": [],
   "source": [
    "train_data_google_results_aggr = train_data_google_results_aggr[\n",
    "    train_data_google_results_aggr[\"id\"].isin(df_without_missing[\"id\"])\n",
    "].reset_index(drop=True)"
   ]
  },
  {
   "cell_type": "code",
   "execution_count": null,
   "id": "92ebacaa-7cdb-436a-bee1-42399923e0f8",
   "metadata": {},
   "outputs": [],
   "source": [
    "df_without_missing = df_without_missing.sort_values(\"id\").reset_index(drop=True)\n",
    "train_data_google_results_aggr = train_data_google_results_aggr.sort_values(\"id\").reset_index(drop=True)\n",
    "\n",
    "assert (df_without_missing[\"id\"] == train_data_google_results_aggr[\"id\"]).all()"
   ]
  },
  {
   "cell_type": "code",
   "execution_count": null,
   "id": "730f1566-c385-498f-bd5a-bb8c5010b454",
   "metadata": {},
   "outputs": [],
   "source": [
    "gt = np.stack(df_without_missing[\"all_labels\"].apply(lambda gt: np.array([float(el in gt) for el in google_birds])).to_list())\n",
    "pred = train_data_google_results_aggr[google_birds].values"
   ]
  },
  {
   "cell_type": "code",
   "execution_count": null,
   "id": "c773d44c-3bcb-40e8-8d9b-296cfe3c42e6",
   "metadata": {},
   "outputs": [],
   "source": [
    "gt"
   ]
  },
  {
   "cell_type": "code",
   "execution_count": null,
   "id": "ea202497-56a4-40af-9f04-8cafdd7078f6",
   "metadata": {},
   "outputs": [],
   "source": [
    "pred"
   ]
  },
  {
   "cell_type": "code",
   "execution_count": null,
   "id": "3252ea16-f645-4e97-83e9-a9831c83b66a",
   "metadata": {},
   "outputs": [],
   "source": [
    "score_numpy(gt, pred)"
   ]
  },
  {
   "cell_type": "markdown",
   "id": "68ee4283-3dfc-477f-99e1-5ac2da33ef0a",
   "metadata": {},
   "source": [
    "### Prepare DF"
   ]
  },
  {
   "cell_type": "code",
   "execution_count": 4,
   "id": "5b635944-05a5-4cb4-9d2c-120654d1f041",
   "metadata": {},
   "outputs": [],
   "source": [
    "def merge_intervals(data):\n",
    "    if not data:\n",
    "        return []\n",
    "\n",
    "    # Sort by start time\n",
    "    data.sort(key=lambda x: x[0])\n",
    "\n",
    "    # Initialize the list of merged intervals with the first interval\n",
    "    merged = [data[0]]\n",
    "\n",
    "    for current in data[1:]:\n",
    "        prev_end = merged[-1][1]\n",
    "        current_start = current[0]\n",
    "        current_end = current[1]\n",
    "        current_labels = set(current[2])  # Convert list of labels to a set for union operation\n",
    "\n",
    "        # Check if the current interval overlaps or is adjacent to the previous interval\n",
    "        if current_start <= prev_end:\n",
    "            # Merge the intervals\n",
    "            merged[-1][1] = max(prev_end, current_end)\n",
    "            # Union of the labels\n",
    "            merged[-1][2] = list(set(merged[-1][2]).union(current_labels))\n",
    "        else:\n",
    "            # If no overlap, add the current interval to the result\n",
    "            current[2] = list(current_labels)  # Convert back the set to list\n",
    "            merged.append(current)\n",
    "\n",
    "    # Ensure the labels are in list format, not a set\n",
    "    for interval in merged:\n",
    "        interval[2] = list(set(interval[2]))\n",
    "\n",
    "    return merged\n",
    "\n",
    "def create_timewise_label(row):\n",
    "    real_label = set(row[\"all_labels\"])\n",
    "    result = [\n",
    "        set(labels) & real_label for labels in row[\"all_labels_pred\"]\n",
    "    ]\n",
    "    return [\n",
    "        [end-5, end, list(labels)] for labels, end in zip(result, row[\"final_second\"]) if len(labels) > 0\n",
    "    ]\n",
    "\n",
    "def trim_last_label_if_needed(row):\n",
    "    if not row[\"label_second\"]:\n",
    "        return []\n",
    "    row[\"label_second\"][-1][1] = min(row[\"duration_s\"], row[\"label_second\"][-1][1])\n",
    "    return row[\"label_second\"]"
   ]
  },
  {
   "cell_type": "code",
   "execution_count": null,
   "id": "87b76551-2120-449b-8e5e-4885af3c6df2",
   "metadata": {},
   "outputs": [],
   "source": [
    "all_google_birds = train_data_google_results.columns[1:-2]"
   ]
  },
  {
   "cell_type": "code",
   "execution_count": null,
   "id": "dc9cf6e0-a82c-49a3-98cc-8a1a42c0b9b5",
   "metadata": {},
   "outputs": [],
   "source": [
    "train_data_google_results[\"all_labels\"] = train_data_google_results.apply(\n",
    "    lambda x: list(all_google_birds[expit(x[all_google_birds].values.astype(np.float32)) > 0.5]), \n",
    "    axis=1\n",
    ")"
   ]
  },
  {
   "cell_type": "code",
   "execution_count": null,
   "id": "ef741492-33d9-4412-a56e-69821157a92c",
   "metadata": {},
   "outputs": [],
   "source": [
    "train_data_google_results[\"all_labels\"] = train_data_google_results[\"all_labels\"].apply(list)"
   ]
  },
  {
   "cell_type": "code",
   "execution_count": null,
   "id": "79df3978-7f29-4d2b-9039-778fb354d401",
   "metadata": {},
   "outputs": [],
   "source": [
    "pd.Series(list(chain(*df[\"all_labels\"].to_list()))).value_counts().head(20)"
   ]
  },
  {
   "cell_type": "code",
   "execution_count": null,
   "id": "2e6290ad-710d-4060-9902-d1bd73dfc608",
   "metadata": {},
   "outputs": [],
   "source": [
    "pd.Series(list(chain(*train_data_google_results[\"all_labels\"].to_list()))).value_counts().head(20)"
   ]
  },
  {
   "cell_type": "code",
   "execution_count": null,
   "id": "9825479f-328e-4b95-a2b4-4e56ad9c6a4b",
   "metadata": {},
   "outputs": [],
   "source": [
    "train_data_google_results_for_merge = train_data_google_results.groupby(\"id\").agg({\n",
    "    \"all_labels\": list,\n",
    "    \"final_second\": list\n",
    "}).reset_index()"
   ]
  },
  {
   "cell_type": "code",
   "execution_count": null,
   "id": "a261e280-ce36-41df-b2e5-0ec4513eab40",
   "metadata": {},
   "outputs": [],
   "source": [
    "df.shape"
   ]
  },
  {
   "cell_type": "code",
   "execution_count": null,
   "id": "071c2a94-ab47-400c-a628-52c624c5be23",
   "metadata": {},
   "outputs": [],
   "source": [
    "df = df.merge(train_data_google_results_for_merge, on=\"id\", how=\"left\", suffixes=(\"\", \"_pred\"))"
   ]
  },
  {
   "cell_type": "code",
   "execution_count": null,
   "id": "1329aee3-1cf5-4068-b456-bb1c59df893a",
   "metadata": {},
   "outputs": [],
   "source": [
    "df.shape"
   ]
  },
  {
   "cell_type": "code",
   "execution_count": null,
   "id": "8adec093-34db-4fb4-b8ed-ca7390567e54",
   "metadata": {},
   "outputs": [],
   "source": [
    "df[\"label_second\"] = df.apply(create_timewise_label, axis=1)"
   ]
  },
  {
   "cell_type": "code",
   "execution_count": null,
   "id": "f6d211a1-79bc-4600-b923-36fc84b4c260",
   "metadata": {},
   "outputs": [],
   "source": [
    "df[\"label_second\"] = df[\"label_second\"].apply(merge_intervals)"
   ]
  },
  {
   "cell_type": "code",
   "execution_count": null,
   "id": "a0542b36-55de-45d4-a510-c76e6918a310",
   "metadata": {},
   "outputs": [],
   "source": [
    "df[\"label_second\"] = df.apply(trim_last_label_if_needed, axis=1)"
   ]
  },
  {
   "cell_type": "code",
   "execution_count": null,
   "id": "6f9ecdcd-2ad3-4f22-b11d-2b327ce05d1e",
   "metadata": {},
   "outputs": [],
   "source": [
    "df[df[\"label_second\"].apply(lambda x: x[-1][1] if x else 0) > df[\"duration_s\"]]"
   ]
  },
  {
   "cell_type": "code",
   "execution_count": null,
   "id": "ec5b7fb3-f1d9-425e-83f0-777b031579da",
   "metadata": {},
   "outputs": [],
   "source": [
    "df[[\"all_labels\", \"all_labels_pred\", \"label_second\"]]"
   ]
  },
  {
   "cell_type": "code",
   "execution_count": null,
   "id": "5f1132ed-835e-4d43-bfb4-be3f5819c645",
   "metadata": {},
   "outputs": [],
   "source": [
    "missing_label_mask = df[\"primary_label\"].isin(missing_birds)"
   ]
  },
  {
   "cell_type": "code",
   "execution_count": null,
   "id": "adf1a88e-f8c2-48dd-a6f2-2017238d1804",
   "metadata": {},
   "outputs": [],
   "source": [
    "missing_label_mask.sum()"
   ]
  },
  {
   "cell_type": "code",
   "execution_count": null,
   "id": "b7c10f29-9e8b-4747-840a-83a2e31ca104",
   "metadata": {},
   "outputs": [],
   "source": [
    "df.loc[missing_label_mask, \"label_second\"]"
   ]
  },
  {
   "cell_type": "code",
   "execution_count": null,
   "id": "80539442-aaaf-4748-a5bc-71ea7496b196",
   "metadata": {},
   "outputs": [],
   "source": [
    "df.loc[missing_label_mask, \"label_second\"] = df.loc[missing_label_mask].apply(\n",
    "    lambda row: [[0, row[\"duration_s\"], row[\"all_labels\"]]], axis=1\n",
    ")"
   ]
  },
  {
   "cell_type": "code",
   "execution_count": null,
   "id": "6e530075-7f86-4844-ae22-d7667d136075",
   "metadata": {},
   "outputs": [],
   "source": [
    "df.loc[missing_label_mask, \"label_second\"]"
   ]
  },
  {
   "cell_type": "code",
   "execution_count": null,
   "id": "6de46552-63bf-4e25-a89a-34659593ed5b",
   "metadata": {},
   "outputs": [],
   "source": [
    "df[[\"all_labels\", \"all_labels_pred\", \"label_second\"]]"
   ]
  },
  {
   "cell_type": "code",
   "execution_count": null,
   "id": "8139930f-e676-4219-ab0c-5306b3478db3",
   "metadata": {},
   "outputs": [],
   "source": [
    "missing_birds_after_filter = (\n",
    "    set(scored_birds) - set(chain(*df[\"label_second\"].apply(lambda x: list(chain(*[el[-1] for el in x]))).to_list()))\n",
    ")\n",
    "missing_birds_after_filter"
   ]
  },
  {
   "cell_type": "code",
   "execution_count": null,
   "id": "2463d46c-f1d6-415e-bf9f-cbd0b4a8a9a6",
   "metadata": {},
   "outputs": [],
   "source": [
    "df.loc[df[\"primary_label\"].isin(missing_birds_after_filter), \"label_second\"] = df.loc[df[\"primary_label\"].isin(missing_birds_after_filter)].apply(\n",
    "    lambda row: [[0, row[\"duration_s\"], row[\"all_labels\"]]], axis=1\n",
    ")"
   ]
  },
  {
   "cell_type": "code",
   "execution_count": null,
   "id": "a0bedb3f-4b75-4d59-899c-cb27c6ffe992",
   "metadata": {},
   "outputs": [],
   "source": [
    "missing_birds_after_filter = (\n",
    "    set(scored_birds) - set(chain(*df[\"label_second\"].apply(lambda x: list(chain(*[el[-1] for el in x]))).to_list()))\n",
    ")\n",
    "missing_birds_after_filter"
   ]
  },
  {
   "cell_type": "code",
   "execution_count": null,
   "id": "f9a38b10-9c84-49f9-bba4-22d81f65ef30",
   "metadata": {},
   "outputs": [],
   "source": [
    "df = df[df[\"label_second\"].apply(len) > 0].reset_index(drop=True)"
   ]
  },
  {
   "cell_type": "code",
   "execution_count": null,
   "id": "089a6924-248b-49b3-8b44-646c95d569a6",
   "metadata": {},
   "outputs": [],
   "source": [
    "df.shape"
   ]
  },
  {
   "cell_type": "code",
   "execution_count": null,
   "id": "dd043f4a-99c8-4174-ba3c-89c022ad9921",
   "metadata": {},
   "outputs": [],
   "source": [
    "df.to_csv(\n",
    "    # \"/home/vova/data/exps/birdclef_2024/birdclef_2024/train_metadata_extended_noduplv1_GBirdV1.csv\",\n",
    "    # \"/home/vova/data/exps/birdclef_2024/dfs/full_noduplsV3_scored_meta_prev_comps_extended_2024SecLabels_GBirdV1.csv\",\n",
    "    \"/home/vova/data/exps/birdclef_2024/xeno_canto/dataset_2024_classes/train_metadata_noduplV3_extended_2024SecLabels_GBirdV1.csv\",\n",
    "    index=False\n",
    ")"
   ]
  },
  {
   "cell_type": "markdown",
   "id": "82609dd8-a9ff-4461-8f4f-11880b758415",
   "metadata": {},
   "source": [
    "#### Unlabeled"
   ]
  },
  {
   "cell_type": "code",
   "execution_count": 60,
   "id": "58f0a6dc-db7c-4e78-8839-23a9b3bb697d",
   "metadata": {},
   "outputs": [],
   "source": [
    "def create_timewise_label(row):\n",
    "    return [\n",
    "        [end-5, end, labels] for labels, end in zip(row[\"all_labels\"], row[\"final_second\"]) if len(labels) > 0\n",
    "    ]\n",
    "\n",
    "def most_frequent_element(lst):\n",
    "    if not lst:\n",
    "        return None\n",
    "    count = Counter(lst)\n",
    "    return count.most_common(1)[0][0]"
   ]
  },
  {
   "cell_type": "code",
   "execution_count": 13,
   "id": "e2294dc7-fabf-4961-ab5b-e5fc5d58a5db",
   "metadata": {},
   "outputs": [],
   "source": [
    "train_pseudo = pd.read_csv(\"../google_bird_predictions/train_data/train_data_google_bird_model_pseudo.csv\")\n",
    "unlabeled_pseudo = pd.read_csv(\"../google_bird_predictions/unlabeled_data/unlabeled_data_google_bird_model_pseudo.csv\")"
   ]
  },
  {
   "cell_type": "code",
   "execution_count": 14,
   "id": "19fc3a20-e6e4-4093-ae91-1ed4da6f8554",
   "metadata": {},
   "outputs": [
    {
     "data": {
      "image/png": "[encoded data removed]",
      "text/plain": [
       "<Figure size 640x480 with 1 Axes>"
      ]
     },
     "metadata": {},
     "output_type": "display_data"
    }
   ],
   "source": [
    "plt.hist(expit(train_pseudo.iloc[:,1:-2].max(axis=1)), bins=30);"
   ]
  },
  {
   "cell_type": "code",
   "execution_count": 19,
   "id": "1c116dc6-c8d8-4da1-8560-667768263f15",
   "metadata": {},
   "outputs": [
    {
     "data": {
      "image/png": "[encoded data removed]",
      "text/plain": [
       "<Figure size 640x480 with 1 Axes>"
      ]
     },
     "metadata": {},
     "output_type": "display_data"
    }
   ],
   "source": [
    "plt.hist(expit(unlabeled_pseudo.iloc[:,1:-2].max(axis=1)), bins=100);"
   ]
  },
  {
   "cell_type": "code",
   "execution_count": 16,
   "id": "21a52fbe-138e-4083-b1a3-77795473daa7",
   "metadata": {},
   "outputs": [],
   "source": [
    "all_google_birds = unlabeled_pseudo.columns[1:-2]"
   ]
  },
  {
   "cell_type": "code",
   "execution_count": 26,
   "id": "b5690ac0-80e9-46ea-ad0d-e8f00bb9b25b",
   "metadata": {},
   "outputs": [],
   "source": [
    "unlabeled_pseudo[\"all_labels\"] = unlabeled_pseudo.apply(\n",
    "    lambda x: list(all_google_birds[expit(x[all_google_birds].values.astype(np.float32)) > 0.2]), \n",
    "    axis=1\n",
    ")"
   ]
  },
  {
   "cell_type": "code",
   "execution_count": 28,
   "id": "a8eb6c85-b950-4d96-bedd-11f7f38ebc19",
   "metadata": {},
   "outputs": [],
   "source": [
    "unlabeled_pseudo[\"all_labels\"] = unlabeled_pseudo[\"all_labels\"].apply(list)"
   ]
  },
  {
   "cell_type": "code",
   "execution_count": 31,
   "id": "b4796049-34e8-46c7-b30d-886c43ff8b33",
   "metadata": {},
   "outputs": [],
   "source": [
    "unlabeled_pseudo_for_merge = unlabeled_pseudo.groupby(\"id\").agg({\n",
    "    \"all_labels\": list,\n",
    "    \"final_second\": list\n",
    "}).reset_index()"
   ]
  },
  {
   "cell_type": "code",
   "execution_count": 32,
   "id": "136c9bc3-080c-46b7-a872-ee17b45a54db",
   "metadata": {},
   "outputs": [
    {
     "data": {
      "text/html": [
       "<div>\n",
       "<style scoped>\n",
       "    .dataframe tbody tr th:only-of-type {\n",
       "        vertical-align: middle;\n",
       "    }\n",
       "\n",
       "    .dataframe tbody tr th {\n",
       "        vertical-align: top;\n",
       "    }\n",
       "\n",
       "    .dataframe thead th {\n",
       "        text-align: right;\n",
       "    }\n",
       "</style>\n",
       "<table border=\"1\" class=\"dataframe\">\n",
       "  <thead>\n",
       "    <tr style=\"text-align: right;\">\n",
       "      <th></th>\n",
       "      <th>id</th>\n",
       "      <th>all_labels</th>\n",
       "      <th>final_second</th>\n",
       "    </tr>\n",
       "  </thead>\n",
       "  <tbody>\n",
       "    <tr>\n",
       "      <th>0</th>\n",
       "      <td>460830</td>\n",
       "      <td>[[mawthr1], [mawthr1], [mawthr1], [mawthr1], [...</td>\n",
       "      <td>[5, 10, 15, 20, 25, 30, 35, 40, 45, 50, 55, 60...</td>\n",
       "    </tr>\n",
       "    <tr>\n",
       "      <th>1</th>\n",
       "      <td>969749</td>\n",
       "      <td>[[], [], [], [], [], [], [], [], [], [], [], [...</td>\n",
       "      <td>[5, 10, 15, 20, 25, 30, 35, 40, 45, 50, 55, 60...</td>\n",
       "    </tr>\n",
       "    <tr>\n",
       "      <th>2</th>\n",
       "      <td>1225526</td>\n",
       "      <td>[[], [], [grewar3, grnwar1], [], [], [], [], [...</td>\n",
       "      <td>[5, 10, 15, 20, 25, 30, 35, 40, 45, 50, 55, 60...</td>\n",
       "    </tr>\n",
       "    <tr>\n",
       "      <th>3</th>\n",
       "      <td>1451354</td>\n",
       "      <td>[[], [], [whcbar1], [], [], [], [], [], [], []...</td>\n",
       "      <td>[5, 10, 15, 20, 25, 30, 35, 40, 45, 50, 55, 60...</td>\n",
       "    </tr>\n",
       "    <tr>\n",
       "      <th>4</th>\n",
       "      <td>1527167</td>\n",
       "      <td>[[], [], [], [], [], [brcful1, putbab1], [putb...</td>\n",
       "      <td>[5, 10, 15, 20, 25, 30, 35, 40, 45, 50, 55, 60...</td>\n",
       "    </tr>\n",
       "    <tr>\n",
       "      <th>...</th>\n",
       "      <td>...</td>\n",
       "      <td>...</td>\n",
       "      <td>...</td>\n",
       "    </tr>\n",
       "    <tr>\n",
       "      <th>8439</th>\n",
       "      <td>2147237737</td>\n",
       "      <td>[[brwowl1], [], [], [brwowl1], [brwowl1], [brw...</td>\n",
       "      <td>[5, 10, 15, 20, 25, 30, 35, 40, 45, 50, 55, 60...</td>\n",
       "    </tr>\n",
       "    <tr>\n",
       "      <th>8440</th>\n",
       "      <td>2147319176</td>\n",
       "      <td>[[], [], [], [], [], [], [], [], [whcbar1], []...</td>\n",
       "      <td>[5, 10, 15, 20, 25, 30, 35, 40, 45, 50, 55, 60...</td>\n",
       "    </tr>\n",
       "    <tr>\n",
       "      <th>8441</th>\n",
       "      <td>2147372093</td>\n",
       "      <td>[[], [], [], [], [], [], [], [], [], [], [], [...</td>\n",
       "      <td>[5, 10, 15, 20, 25, 30, 35, 40, 45, 50, 55, 60...</td>\n",
       "    </tr>\n",
       "    <tr>\n",
       "      <th>8442</th>\n",
       "      <td>2147385068</td>\n",
       "      <td>[[whcbar1], [whcbar1], [], [], [whcbar1], [whc...</td>\n",
       "      <td>[5, 10, 15, 20, 25, 30, 35, 40, 45, 50, 55, 60...</td>\n",
       "    </tr>\n",
       "    <tr>\n",
       "      <th>8443</th>\n",
       "      <td>2147390555</td>\n",
       "      <td>[[], [], [], [], [], [brcful1], [brcful1], [],...</td>\n",
       "      <td>[5, 10, 15, 20, 25, 30, 35, 40, 45, 50, 55, 60...</td>\n",
       "    </tr>\n",
       "  </tbody>\n",
       "</table>\n",
       "<p>8444 rows × 3 columns</p>\n",
       "</div>"
      ],
      "text/plain": [
       "              id                                         all_labels  \\\n",
       "0         460830  [[mawthr1], [mawthr1], [mawthr1], [mawthr1], [...   \n",
       "1         969749  [[], [], [], [], [], [], [], [], [], [], [], [...   \n",
       "2        1225526  [[], [], [grewar3, grnwar1], [], [], [], [], [...   \n",
       "3        1451354  [[], [], [whcbar1], [], [], [], [], [], [], []...   \n",
       "4        1527167  [[], [], [], [], [], [brcful1, putbab1], [putb...   \n",
       "...          ...                                                ...   \n",
       "8439  2147237737  [[brwowl1], [], [], [brwowl1], [brwowl1], [brw...   \n",
       "8440  2147319176  [[], [], [], [], [], [], [], [], [whcbar1], []...   \n",
       "8441  2147372093  [[], [], [], [], [], [], [], [], [], [], [], [...   \n",
       "8442  2147385068  [[whcbar1], [whcbar1], [], [], [whcbar1], [whc...   \n",
       "8443  2147390555  [[], [], [], [], [], [brcful1], [brcful1], [],...   \n",
       "\n",
       "                                           final_second  \n",
       "0     [5, 10, 15, 20, 25, 30, 35, 40, 45, 50, 55, 60...  \n",
       "1     [5, 10, 15, 20, 25, 30, 35, 40, 45, 50, 55, 60...  \n",
       "2     [5, 10, 15, 20, 25, 30, 35, 40, 45, 50, 55, 60...  \n",
       "3     [5, 10, 15, 20, 25, 30, 35, 40, 45, 50, 55, 60...  \n",
       "4     [5, 10, 15, 20, 25, 30, 35, 40, 45, 50, 55, 60...  \n",
       "...                                                 ...  \n",
       "8439  [5, 10, 15, 20, 25, 30, 35, 40, 45, 50, 55, 60...  \n",
       "8440  [5, 10, 15, 20, 25, 30, 35, 40, 45, 50, 55, 60...  \n",
       "8441  [5, 10, 15, 20, 25, 30, 35, 40, 45, 50, 55, 60...  \n",
       "8442  [5, 10, 15, 20, 25, 30, 35, 40, 45, 50, 55, 60...  \n",
       "8443  [5, 10, 15, 20, 25, 30, 35, 40, 45, 50, 55, 60...  \n",
       "\n",
       "[8444 rows x 3 columns]"
      ]
     },
     "execution_count": 32,
     "metadata": {},
     "output_type": "execute_result"
    }
   ],
   "source": [
    "unlabeled_pseudo_for_merge"
   ]
  },
  {
   "cell_type": "code",
   "execution_count": 35,
   "id": "9bd88e84-39b6-4186-a4a9-8fed0238a2bc",
   "metadata": {},
   "outputs": [],
   "source": [
    "unlabeled_pseudo_for_merge[\"filename\"] = unlabeled_pseudo_for_merge[\"id\"].apply(lambda x: str(x) + \".ogg\")"
   ]
  },
  {
   "cell_type": "code",
   "execution_count": 40,
   "id": "70d71153-66ca-4886-8f14-0ce33298e712",
   "metadata": {},
   "outputs": [
    {
     "name": "stderr",
     "output_type": "stream",
     "text": [
      "/tmp/ipykernel_2996291/2214459338.py:2: FutureWarning: get_duration() keyword argument 'filename' has been renamed to 'path' in version 0.10.0.\n",
      "\tThis alias will be removed in version 1.0.\n",
      "  lambda x: librosa.get_duration(filename=os.path.join(\"/home/vova/data/exps/birdclef_2024/birdclef_2024/unlabeled_soundscapes\", x))\n"
     ]
    }
   ],
   "source": [
    "unlabeled_pseudo_for_merge[\"duration_s\"] = unlabeled_pseudo_for_merge[\"filename\"].apply(\n",
    "    lambda x: librosa.get_duration(filename=os.path.join(\"/home/vova/data/exps/birdclef_2024/birdclef_2024/unlabeled_soundscapes\", x))\n",
    ")"
   ]
  },
  {
   "cell_type": "code",
   "execution_count": 44,
   "id": "767e7c94-c6db-4fff-963f-16a649944761",
   "metadata": {},
   "outputs": [],
   "source": [
    "unlabeled_pseudo_for_merge[\"label_second\"] = unlabeled_pseudo_for_merge.apply(create_timewise_label, axis=1)"
   ]
  },
  {
   "cell_type": "code",
   "execution_count": 47,
   "id": "6816b252-92a0-46b2-a41f-42c4bd07f6a6",
   "metadata": {},
   "outputs": [],
   "source": [
    "unlabeled_pseudo_for_merge[\"label_second\"] = unlabeled_pseudo_for_merge[\"label_second\"].apply(merge_intervals)"
   ]
  },
  {
   "cell_type": "code",
   "execution_count": 49,
   "id": "ff6a9e86-e1a3-4b39-8b19-09bb3d551a9a",
   "metadata": {},
   "outputs": [],
   "source": [
    "unlabeled_pseudo_for_merge[\"label_second\"] = unlabeled_pseudo_for_merge.apply(trim_last_label_if_needed, axis=1)"
   ]
  },
  {
   "cell_type": "code",
   "execution_count": 50,
   "id": "d5a1dd5f-c4fd-49c3-a3e8-4c1029d8a197",
   "metadata": {},
   "outputs": [
    {
     "data": {
      "text/html": [
       "<div>\n",
       "<style scoped>\n",
       "    .dataframe tbody tr th:only-of-type {\n",
       "        vertical-align: middle;\n",
       "    }\n",
       "\n",
       "    .dataframe tbody tr th {\n",
       "        vertical-align: top;\n",
       "    }\n",
       "\n",
       "    .dataframe thead th {\n",
       "        text-align: right;\n",
       "    }\n",
       "</style>\n",
       "<table border=\"1\" class=\"dataframe\">\n",
       "  <thead>\n",
       "    <tr style=\"text-align: right;\">\n",
       "      <th></th>\n",
       "      <th>id</th>\n",
       "      <th>all_labels</th>\n",
       "      <th>final_second</th>\n",
       "      <th>filename</th>\n",
       "      <th>duration_s</th>\n",
       "      <th>label_second</th>\n",
       "    </tr>\n",
       "  </thead>\n",
       "  <tbody>\n",
       "    <tr>\n",
       "      <th>0</th>\n",
       "      <td>460830</td>\n",
       "      <td>[[mawthr1], [mawthr1], [mawthr1], [mawthr1], [...</td>\n",
       "      <td>[5, 10, 15, 20, 25, 30, 35, 40, 45, 50, 55, 60...</td>\n",
       "      <td>460830.ogg</td>\n",
       "      <td>240.0</td>\n",
       "      <td>[[0, 55, [mawthr1]], [60, 70, [comros, mawthr1...</td>\n",
       "    </tr>\n",
       "    <tr>\n",
       "      <th>1</th>\n",
       "      <td>969749</td>\n",
       "      <td>[[], [], [], [], [], [], [], [], [], [], [], [...</td>\n",
       "      <td>[5, 10, 15, 20, 25, 30, 35, 40, 45, 50, 55, 60...</td>\n",
       "      <td>969749.ogg</td>\n",
       "      <td>240.0</td>\n",
       "      <td>[]</td>\n",
       "    </tr>\n",
       "    <tr>\n",
       "      <th>2</th>\n",
       "      <td>1225526</td>\n",
       "      <td>[[], [], [grewar3, grnwar1], [], [], [], [], [...</td>\n",
       "      <td>[5, 10, 15, 20, 25, 30, 35, 40, 45, 50, 55, 60...</td>\n",
       "      <td>1225526.ogg</td>\n",
       "      <td>240.0</td>\n",
       "      <td>[[10, 15, [grewar3, grnwar1]]]</td>\n",
       "    </tr>\n",
       "    <tr>\n",
       "      <th>3</th>\n",
       "      <td>1451354</td>\n",
       "      <td>[[], [], [whcbar1], [], [], [], [], [], [], []...</td>\n",
       "      <td>[5, 10, 15, 20, 25, 30, 35, 40, 45, 50, 55, 60...</td>\n",
       "      <td>1451354.ogg</td>\n",
       "      <td>240.0</td>\n",
       "      <td>[[10, 15, [whcbar1]], [70, 75, [whcbar1]], [14...</td>\n",
       "    </tr>\n",
       "    <tr>\n",
       "      <th>4</th>\n",
       "      <td>1527167</td>\n",
       "      <td>[[], [], [], [], [], [brcful1, putbab1], [putb...</td>\n",
       "      <td>[5, 10, 15, 20, 25, 30, 35, 40, 45, 50, 55, 60...</td>\n",
       "      <td>1527167.ogg</td>\n",
       "      <td>240.0</td>\n",
       "      <td>[[25, 50, [putbab1, brcful1]], [55, 60, [crbsu...</td>\n",
       "    </tr>\n",
       "    <tr>\n",
       "      <th>...</th>\n",
       "      <td>...</td>\n",
       "      <td>...</td>\n",
       "      <td>...</td>\n",
       "      <td>...</td>\n",
       "      <td>...</td>\n",
       "      <td>...</td>\n",
       "    </tr>\n",
       "    <tr>\n",
       "      <th>8439</th>\n",
       "      <td>2147237737</td>\n",
       "      <td>[[brwowl1], [], [], [brwowl1], [brwowl1], [brw...</td>\n",
       "      <td>[5, 10, 15, 20, 25, 30, 35, 40, 45, 50, 55, 60...</td>\n",
       "      <td>2147237737.ogg</td>\n",
       "      <td>240.0</td>\n",
       "      <td>[[0, 5, [brwowl1]], [15, 30, [brwowl1]], [40, ...</td>\n",
       "    </tr>\n",
       "    <tr>\n",
       "      <th>8440</th>\n",
       "      <td>2147319176</td>\n",
       "      <td>[[], [], [], [], [], [], [], [], [whcbar1], []...</td>\n",
       "      <td>[5, 10, 15, 20, 25, 30, 35, 40, 45, 50, 55, 60...</td>\n",
       "      <td>2147319176.ogg</td>\n",
       "      <td>240.0</td>\n",
       "      <td>[[40, 45, [whcbar1]], [230, 235, [mawthr1]]]</td>\n",
       "    </tr>\n",
       "    <tr>\n",
       "      <th>8441</th>\n",
       "      <td>2147372093</td>\n",
       "      <td>[[], [], [], [], [], [], [], [], [], [], [], [...</td>\n",
       "      <td>[5, 10, 15, 20, 25, 30, 35, 40, 45, 50, 55, 60...</td>\n",
       "      <td>2147372093.ogg</td>\n",
       "      <td>240.0</td>\n",
       "      <td>[]</td>\n",
       "    </tr>\n",
       "    <tr>\n",
       "      <th>8442</th>\n",
       "      <td>2147385068</td>\n",
       "      <td>[[whcbar1], [whcbar1], [], [], [whcbar1], [whc...</td>\n",
       "      <td>[5, 10, 15, 20, 25, 30, 35, 40, 45, 50, 55, 60...</td>\n",
       "      <td>2147385068.ogg</td>\n",
       "      <td>240.0</td>\n",
       "      <td>[[0, 10, [whcbar1]], [20, 40, [whcbar1]], [45,...</td>\n",
       "    </tr>\n",
       "    <tr>\n",
       "      <th>8443</th>\n",
       "      <td>2147390555</td>\n",
       "      <td>[[], [], [], [], [], [brcful1], [brcful1], [],...</td>\n",
       "      <td>[5, 10, 15, 20, 25, 30, 35, 40, 45, 50, 55, 60...</td>\n",
       "      <td>2147390555.ogg</td>\n",
       "      <td>240.0</td>\n",
       "      <td>[[25, 35, [brcful1]], [60, 65, [brcful1]], [90...</td>\n",
       "    </tr>\n",
       "  </tbody>\n",
       "</table>\n",
       "<p>8444 rows × 6 columns</p>\n",
       "</div>"
      ],
      "text/plain": [
       "              id                                         all_labels  \\\n",
       "0         460830  [[mawthr1], [mawthr1], [mawthr1], [mawthr1], [...   \n",
       "1         969749  [[], [], [], [], [], [], [], [], [], [], [], [...   \n",
       "2        1225526  [[], [], [grewar3, grnwar1], [], [], [], [], [...   \n",
       "3        1451354  [[], [], [whcbar1], [], [], [], [], [], [], []...   \n",
       "4        1527167  [[], [], [], [], [], [brcful1, putbab1], [putb...   \n",
       "...          ...                                                ...   \n",
       "8439  2147237737  [[brwowl1], [], [], [brwowl1], [brwowl1], [brw...   \n",
       "8440  2147319176  [[], [], [], [], [], [], [], [], [whcbar1], []...   \n",
       "8441  2147372093  [[], [], [], [], [], [], [], [], [], [], [], [...   \n",
       "8442  2147385068  [[whcbar1], [whcbar1], [], [], [whcbar1], [whc...   \n",
       "8443  2147390555  [[], [], [], [], [], [brcful1], [brcful1], [],...   \n",
       "\n",
       "                                           final_second        filename  \\\n",
       "0     [5, 10, 15, 20, 25, 30, 35, 40, 45, 50, 55, 60...      460830.ogg   \n",
       "1     [5, 10, 15, 20, 25, 30, 35, 40, 45, 50, 55, 60...      969749.ogg   \n",
       "2     [5, 10, 15, 20, 25, 30, 35, 40, 45, 50, 55, 60...     1225526.ogg   \n",
       "3     [5, 10, 15, 20, 25, 30, 35, 40, 45, 50, 55, 60...     1451354.ogg   \n",
       "4     [5, 10, 15, 20, 25, 30, 35, 40, 45, 50, 55, 60...     1527167.ogg   \n",
       "...                                                 ...             ...   \n",
       "8439  [5, 10, 15, 20, 25, 30, 35, 40, 45, 50, 55, 60...  2147237737.ogg   \n",
       "8440  [5, 10, 15, 20, 25, 30, 35, 40, 45, 50, 55, 60...  2147319176.ogg   \n",
       "8441  [5, 10, 15, 20, 25, 30, 35, 40, 45, 50, 55, 60...  2147372093.ogg   \n",
       "8442  [5, 10, 15, 20, 25, 30, 35, 40, 45, 50, 55, 60...  2147385068.ogg   \n",
       "8443  [5, 10, 15, 20, 25, 30, 35, 40, 45, 50, 55, 60...  2147390555.ogg   \n",
       "\n",
       "      duration_s                                       label_second  \n",
       "0          240.0  [[0, 55, [mawthr1]], [60, 70, [comros, mawthr1...  \n",
       "1          240.0                                                 []  \n",
       "2          240.0                     [[10, 15, [grewar3, grnwar1]]]  \n",
       "3          240.0  [[10, 15, [whcbar1]], [70, 75, [whcbar1]], [14...  \n",
       "4          240.0  [[25, 50, [putbab1, brcful1]], [55, 60, [crbsu...  \n",
       "...          ...                                                ...  \n",
       "8439       240.0  [[0, 5, [brwowl1]], [15, 30, [brwowl1]], [40, ...  \n",
       "8440       240.0       [[40, 45, [whcbar1]], [230, 235, [mawthr1]]]  \n",
       "8441       240.0                                                 []  \n",
       "8442       240.0  [[0, 10, [whcbar1]], [20, 40, [whcbar1]], [45,...  \n",
       "8443       240.0  [[25, 35, [brcful1]], [60, 65, [brcful1]], [90...  \n",
       "\n",
       "[8444 rows x 6 columns]"
      ]
     },
     "execution_count": 50,
     "metadata": {},
     "output_type": "execute_result"
    }
   ],
   "source": [
    "unlabeled_pseudo_for_merge"
   ]
  },
  {
   "cell_type": "code",
   "execution_count": 56,
   "id": "ebe801aa-2a28-4074-8b2c-925ec50eb19f",
   "metadata": {},
   "outputs": [],
   "source": [
    "unlabeled_pseudo_for_merge_nonempt = unlabeled_pseudo_for_merge[unlabeled_pseudo_for_merge[\"label_second\"].apply(len) > 0].reset_index(drop=True)"
   ]
  },
  {
   "cell_type": "code",
   "execution_count": 58,
   "id": "566b8377-acbf-4643-8980-dcb5905e57ce",
   "metadata": {},
   "outputs": [],
   "source": [
    "unlabeled_pseudo_for_merge_nonempt[\"dataset\"] = \"soundscape\"\n",
    "unlabeled_pseudo_for_merge_nonempt[\"url\"] = \"empty_url\"\n",
    "unlabeled_pseudo_for_merge_nonempt[\"secondary_labels\"] = \"[]\""
   ]
  },
  {
   "cell_type": "code",
   "execution_count": 59,
   "id": "06300d3a-2c3f-4506-9394-53ae962565f8",
   "metadata": {},
   "outputs": [
    {
     "data": {
      "text/html": [
       "<div>\n",
       "<style scoped>\n",
       "    .dataframe tbody tr th:only-of-type {\n",
       "        vertical-align: middle;\n",
       "    }\n",
       "\n",
       "    .dataframe tbody tr th {\n",
       "        vertical-align: top;\n",
       "    }\n",
       "\n",
       "    .dataframe thead th {\n",
       "        text-align: right;\n",
       "    }\n",
       "</style>\n",
       "<table border=\"1\" class=\"dataframe\">\n",
       "  <thead>\n",
       "    <tr style=\"text-align: right;\">\n",
       "      <th></th>\n",
       "      <th>id</th>\n",
       "      <th>all_labels</th>\n",
       "      <th>final_second</th>\n",
       "      <th>filename</th>\n",
       "      <th>duration_s</th>\n",
       "      <th>label_second</th>\n",
       "      <th>dataset</th>\n",
       "      <th>url</th>\n",
       "      <th>secondary_labels</th>\n",
       "    </tr>\n",
       "  </thead>\n",
       "  <tbody>\n",
       "    <tr>\n",
       "      <th>0</th>\n",
       "      <td>460830</td>\n",
       "      <td>[[mawthr1], [mawthr1], [mawthr1], [mawthr1], [...</td>\n",
       "      <td>[5, 10, 15, 20, 25, 30, 35, 40, 45, 50, 55, 60...</td>\n",
       "      <td>460830.ogg</td>\n",
       "      <td>240.0</td>\n",
       "      <td>[[0, 55, [mawthr1]], [60, 70, [comros, mawthr1...</td>\n",
       "      <td>soundscape</td>\n",
       "      <td>empty_url</td>\n",
       "      <td>[]</td>\n",
       "    </tr>\n",
       "    <tr>\n",
       "      <th>1</th>\n",
       "      <td>1225526</td>\n",
       "      <td>[[], [], [grewar3, grnwar1], [], [], [], [], [...</td>\n",
       "      <td>[5, 10, 15, 20, 25, 30, 35, 40, 45, 50, 55, 60...</td>\n",
       "      <td>1225526.ogg</td>\n",
       "      <td>240.0</td>\n",
       "      <td>[[10, 15, [grewar3, grnwar1]]]</td>\n",
       "      <td>soundscape</td>\n",
       "      <td>empty_url</td>\n",
       "      <td>[]</td>\n",
       "    </tr>\n",
       "    <tr>\n",
       "      <th>2</th>\n",
       "      <td>1451354</td>\n",
       "      <td>[[], [], [whcbar1], [], [], [], [], [], [], []...</td>\n",
       "      <td>[5, 10, 15, 20, 25, 30, 35, 40, 45, 50, 55, 60...</td>\n",
       "      <td>1451354.ogg</td>\n",
       "      <td>240.0</td>\n",
       "      <td>[[10, 15, [whcbar1]], [70, 75, [whcbar1]], [14...</td>\n",
       "      <td>soundscape</td>\n",
       "      <td>empty_url</td>\n",
       "      <td>[]</td>\n",
       "    </tr>\n",
       "    <tr>\n",
       "      <th>3</th>\n",
       "      <td>1527167</td>\n",
       "      <td>[[], [], [], [], [], [brcful1, putbab1], [putb...</td>\n",
       "      <td>[5, 10, 15, 20, 25, 30, 35, 40, 45, 50, 55, 60...</td>\n",
       "      <td>1527167.ogg</td>\n",
       "      <td>240.0</td>\n",
       "      <td>[[25, 50, [putbab1, brcful1]], [55, 60, [crbsu...</td>\n",
       "      <td>soundscape</td>\n",
       "      <td>empty_url</td>\n",
       "      <td>[]</td>\n",
       "    </tr>\n",
       "    <tr>\n",
       "      <th>4</th>\n",
       "      <td>1653006</td>\n",
       "      <td>[[], [], [], [], [], [], [], [], [], [], [], [...</td>\n",
       "      <td>[5, 10, 15, 20, 25, 30, 35, 40, 45, 50, 55, 60...</td>\n",
       "      <td>1653006.ogg</td>\n",
       "      <td>240.0</td>\n",
       "      <td>[[60, 65, [brwowl1]]]</td>\n",
       "      <td>soundscape</td>\n",
       "      <td>empty_url</td>\n",
       "      <td>[]</td>\n",
       "    </tr>\n",
       "    <tr>\n",
       "      <th>...</th>\n",
       "      <td>...</td>\n",
       "      <td>...</td>\n",
       "      <td>...</td>\n",
       "      <td>...</td>\n",
       "      <td>...</td>\n",
       "      <td>...</td>\n",
       "      <td>...</td>\n",
       "      <td>...</td>\n",
       "      <td>...</td>\n",
       "    </tr>\n",
       "    <tr>\n",
       "      <th>4572</th>\n",
       "      <td>2146228323</td>\n",
       "      <td>[[], [], [crseag1], [crseag1], [], [bwfshr1], ...</td>\n",
       "      <td>[5, 10, 15, 20, 25, 30, 35, 40, 45, 50, 55, 60...</td>\n",
       "      <td>2146228323.ogg</td>\n",
       "      <td>240.0</td>\n",
       "      <td>[[10, 20, [crseag1]], [25, 30, [bwfshr1]], [21...</td>\n",
       "      <td>soundscape</td>\n",
       "      <td>empty_url</td>\n",
       "      <td>[]</td>\n",
       "    </tr>\n",
       "    <tr>\n",
       "      <th>4573</th>\n",
       "      <td>2147237737</td>\n",
       "      <td>[[brwowl1], [], [], [brwowl1], [brwowl1], [brw...</td>\n",
       "      <td>[5, 10, 15, 20, 25, 30, 35, 40, 45, 50, 55, 60...</td>\n",
       "      <td>2147237737.ogg</td>\n",
       "      <td>240.0</td>\n",
       "      <td>[[0, 5, [brwowl1]], [15, 30, [brwowl1]], [40, ...</td>\n",
       "      <td>soundscape</td>\n",
       "      <td>empty_url</td>\n",
       "      <td>[]</td>\n",
       "    </tr>\n",
       "    <tr>\n",
       "      <th>4574</th>\n",
       "      <td>2147319176</td>\n",
       "      <td>[[], [], [], [], [], [], [], [], [whcbar1], []...</td>\n",
       "      <td>[5, 10, 15, 20, 25, 30, 35, 40, 45, 50, 55, 60...</td>\n",
       "      <td>2147319176.ogg</td>\n",
       "      <td>240.0</td>\n",
       "      <td>[[40, 45, [whcbar1]], [230, 235, [mawthr1]]]</td>\n",
       "      <td>soundscape</td>\n",
       "      <td>empty_url</td>\n",
       "      <td>[]</td>\n",
       "    </tr>\n",
       "    <tr>\n",
       "      <th>4575</th>\n",
       "      <td>2147385068</td>\n",
       "      <td>[[whcbar1], [whcbar1], [], [], [whcbar1], [whc...</td>\n",
       "      <td>[5, 10, 15, 20, 25, 30, 35, 40, 45, 50, 55, 60...</td>\n",
       "      <td>2147385068.ogg</td>\n",
       "      <td>240.0</td>\n",
       "      <td>[[0, 10, [whcbar1]], [20, 40, [whcbar1]], [45,...</td>\n",
       "      <td>soundscape</td>\n",
       "      <td>empty_url</td>\n",
       "      <td>[]</td>\n",
       "    </tr>\n",
       "    <tr>\n",
       "      <th>4576</th>\n",
       "      <td>2147390555</td>\n",
       "      <td>[[], [], [], [], [], [brcful1], [brcful1], [],...</td>\n",
       "      <td>[5, 10, 15, 20, 25, 30, 35, 40, 45, 50, 55, 60...</td>\n",
       "      <td>2147390555.ogg</td>\n",
       "      <td>240.0</td>\n",
       "      <td>[[25, 35, [brcful1]], [60, 65, [brcful1]], [90...</td>\n",
       "      <td>soundscape</td>\n",
       "      <td>empty_url</td>\n",
       "      <td>[]</td>\n",
       "    </tr>\n",
       "  </tbody>\n",
       "</table>\n",
       "<p>4577 rows × 9 columns</p>\n",
       "</div>"
      ],
      "text/plain": [
       "              id                                         all_labels  \\\n",
       "0         460830  [[mawthr1], [mawthr1], [mawthr1], [mawthr1], [...   \n",
       "1        1225526  [[], [], [grewar3, grnwar1], [], [], [], [], [...   \n",
       "2        1451354  [[], [], [whcbar1], [], [], [], [], [], [], []...   \n",
       "3        1527167  [[], [], [], [], [], [brcful1, putbab1], [putb...   \n",
       "4        1653006  [[], [], [], [], [], [], [], [], [], [], [], [...   \n",
       "...          ...                                                ...   \n",
       "4572  2146228323  [[], [], [crseag1], [crseag1], [], [bwfshr1], ...   \n",
       "4573  2147237737  [[brwowl1], [], [], [brwowl1], [brwowl1], [brw...   \n",
       "4574  2147319176  [[], [], [], [], [], [], [], [], [whcbar1], []...   \n",
       "4575  2147385068  [[whcbar1], [whcbar1], [], [], [whcbar1], [whc...   \n",
       "4576  2147390555  [[], [], [], [], [], [brcful1], [brcful1], [],...   \n",
       "\n",
       "                                           final_second        filename  \\\n",
       "0     [5, 10, 15, 20, 25, 30, 35, 40, 45, 50, 55, 60...      460830.ogg   \n",
       "1     [5, 10, 15, 20, 25, 30, 35, 40, 45, 50, 55, 60...     1225526.ogg   \n",
       "2     [5, 10, 15, 20, 25, 30, 35, 40, 45, 50, 55, 60...     1451354.ogg   \n",
       "3     [5, 10, 15, 20, 25, 30, 35, 40, 45, 50, 55, 60...     1527167.ogg   \n",
       "4     [5, 10, 15, 20, 25, 30, 35, 40, 45, 50, 55, 60...     1653006.ogg   \n",
       "...                                                 ...             ...   \n",
       "4572  [5, 10, 15, 20, 25, 30, 35, 40, 45, 50, 55, 60...  2146228323.ogg   \n",
       "4573  [5, 10, 15, 20, 25, 30, 35, 40, 45, 50, 55, 60...  2147237737.ogg   \n",
       "4574  [5, 10, 15, 20, 25, 30, 35, 40, 45, 50, 55, 60...  2147319176.ogg   \n",
       "4575  [5, 10, 15, 20, 25, 30, 35, 40, 45, 50, 55, 60...  2147385068.ogg   \n",
       "4576  [5, 10, 15, 20, 25, 30, 35, 40, 45, 50, 55, 60...  2147390555.ogg   \n",
       "\n",
       "      duration_s                                       label_second  \\\n",
       "0          240.0  [[0, 55, [mawthr1]], [60, 70, [comros, mawthr1...   \n",
       "1          240.0                     [[10, 15, [grewar3, grnwar1]]]   \n",
       "2          240.0  [[10, 15, [whcbar1]], [70, 75, [whcbar1]], [14...   \n",
       "3          240.0  [[25, 50, [putbab1, brcful1]], [55, 60, [crbsu...   \n",
       "4          240.0                              [[60, 65, [brwowl1]]]   \n",
       "...          ...                                                ...   \n",
       "4572       240.0  [[10, 20, [crseag1]], [25, 30, [bwfshr1]], [21...   \n",
       "4573       240.0  [[0, 5, [brwowl1]], [15, 30, [brwowl1]], [40, ...   \n",
       "4574       240.0       [[40, 45, [whcbar1]], [230, 235, [mawthr1]]]   \n",
       "4575       240.0  [[0, 10, [whcbar1]], [20, 40, [whcbar1]], [45,...   \n",
       "4576       240.0  [[25, 35, [brcful1]], [60, 65, [brcful1]], [90...   \n",
       "\n",
       "         dataset        url secondary_labels  \n",
       "0     soundscape  empty_url               []  \n",
       "1     soundscape  empty_url               []  \n",
       "2     soundscape  empty_url               []  \n",
       "3     soundscape  empty_url               []  \n",
       "4     soundscape  empty_url               []  \n",
       "...          ...        ...              ...  \n",
       "4572  soundscape  empty_url               []  \n",
       "4573  soundscape  empty_url               []  \n",
       "4574  soundscape  empty_url               []  \n",
       "4575  soundscape  empty_url               []  \n",
       "4576  soundscape  empty_url               []  \n",
       "\n",
       "[4577 rows x 9 columns]"
      ]
     },
     "execution_count": 59,
     "metadata": {},
     "output_type": "execute_result"
    }
   ],
   "source": [
    "unlabeled_pseudo_for_merge_nonempt"
   ]
  },
  {
   "cell_type": "code",
   "execution_count": 64,
   "id": "9139204f-ccb9-4ec5-8f45-7118e179f4ce",
   "metadata": {},
   "outputs": [],
   "source": [
    "unlabeled_pseudo_for_merge_nonempt[\"primary_label\"] = unlabeled_pseudo_for_merge_nonempt[\"label_second\"].apply(lambda x: most_frequent_element(\n",
    "    list(chain(*[el[-1] for el in x]))\n",
    "))"
   ]
  },
  {
   "cell_type": "code",
   "execution_count": 74,
   "id": "51f15c74-12ee-4ada-b29c-39b6fff46405",
   "metadata": {},
   "outputs": [],
   "source": [
    "unlabeled_pseudo_for_merge_nonempt[\"stratify_col\"] = unlabeled_pseudo_for_merge_nonempt[\"primary_label\"]"
   ]
  },
  {
   "cell_type": "code",
   "execution_count": 67,
   "id": "51758b1f-e647-48e5-b9d9-8887d70b5ed8",
   "metadata": {},
   "outputs": [],
   "source": [
    "vc  = unlabeled_pseudo_for_merge_nonempt[\"primary_label\"].value_counts()"
   ]
  },
  {
   "cell_type": "code",
   "execution_count": 53,
   "id": "8ea32b34-724f-4180-b6c5-70d56205ea9b",
   "metadata": {},
   "outputs": [
    {
     "data": {
      "text/plain": [
       "{'ashwoo2',\n",
       " 'asiope1',\n",
       " 'aspswi1',\n",
       " 'bkrfla1',\n",
       " 'blaeag1',\n",
       " 'brasta1',\n",
       " 'brwjac1',\n",
       " 'dafbab1',\n",
       " 'darter2',\n",
       " 'greegr',\n",
       " 'gryfra',\n",
       " 'heswoo1',\n",
       " 'indrob1',\n",
       " 'indrol2',\n",
       " 'inpher1',\n",
       " 'integr',\n",
       " 'isbduc1',\n",
       " 'jerbus2',\n",
       " 'kerlau2',\n",
       " 'lesyel1',\n",
       " 'lewduc1',\n",
       " 'marsan',\n",
       " 'oripip1',\n",
       " 'paisto1',\n",
       " 'piebus1',\n",
       " 'piekin1',\n",
       " 'purswa3',\n",
       " 'rossta2',\n",
       " 'rutfly6',\n",
       " 'whbwag1',\n",
       " 'whiter2'}"
      ]
     },
     "execution_count": 53,
     "metadata": {},
     "output_type": "execute_result"
    }
   ],
   "source": [
    "missing_birds_after_filter = (\n",
    "    set(scored_birds) - set(chain(*unlabeled_pseudo_for_merge[\"label_second\"].apply(lambda x: list(chain(*[el[-1] for el in x]))).to_list()))\n",
    ")\n",
    "new_birds = (\n",
    "    set(chain(*unlabeled_pseudo_for_merge[\"label_second\"].apply(lambda x: list(chain(*[el[-1] for el in x]))).to_list())) - set(scored_birds)\n",
    ")\n",
    "missing_birds_after_filter"
   ]
  },
  {
   "cell_type": "code",
   "execution_count": 71,
   "id": "c8c596a2-ed95-4fb9-be0b-d32e6c00eda9",
   "metadata": {},
   "outputs": [],
   "source": [
    "needed_additional_classes = vc[vc < 10].index.to_list() + list(missing_birds_after_filter)"
   ]
  },
  {
   "cell_type": "code",
   "execution_count": 90,
   "id": "b7619a09-8380-4487-af44-45820cd33d40",
   "metadata": {},
   "outputs": [],
   "source": [
    "prepared_train_metadata_google_bird = pd.read_csv(\n",
    "    \"/home/vova/data/exps/birdclef_2024/birdclef_2024/train_metadata_extended_noduplv1_GBirdV1.csv\"\n",
    ")"
   ]
  },
  {
   "cell_type": "code",
   "execution_count": 89,
   "id": "a5adf3d5-d971-4c21-be09-8eada772c416",
   "metadata": {},
   "outputs": [],
   "source": [
    "needed_additional_classes = set(needed_additional_classes) | (set(scored_birds) - set(unlabeled_pseudo_for_merge_nonempt[\"primary_label\"]))"
   ]
  },
  {
   "cell_type": "code",
   "execution_count": 91,
   "id": "0543f291-5bb1-4350-bb33-cea9f4b123e5",
   "metadata": {},
   "outputs": [],
   "source": [
    "prepared_train_metadata_google_bird = prepared_train_metadata_google_bird[prepared_train_metadata_google_bird[\"primary_label\"].isin(needed_additional_classes)].reset_index(drop=True)"
   ]
  },
  {
   "cell_type": "code",
   "execution_count": 92,
   "id": "9ea1cf72-cc5c-4314-9c2f-f8dee2f19b46",
   "metadata": {},
   "outputs": [
    {
     "data": {
      "text/plain": [
       "{'all_labels',\n",
       " 'duration_s',\n",
       " 'filename',\n",
       " 'final_second',\n",
       " 'id',\n",
       " 'label_second',\n",
       " 'primary_label',\n",
       " 'secondary_labels',\n",
       " 'stratify_col',\n",
       " 'url'}"
      ]
     },
     "execution_count": 92,
     "metadata": {},
     "output_type": "execute_result"
    }
   ],
   "source": [
    "set(unlabeled_pseudo_for_merge_nonempt.columns) & set(prepared_train_metadata_google_bird.columns)"
   ]
  },
  {
   "cell_type": "code",
   "execution_count": 93,
   "id": "3e250ab5-e34c-4ea6-af9b-d4f63d9e6469",
   "metadata": {},
   "outputs": [],
   "source": [
    "# unlabeled_pseudo_for_merge_nonempt.to_csv(\"../google_bird_predictions/unlabeled_data/processed_data_v1.csv\", index=False)\n",
    "prepared_train_metadata_google_bird.to_csv(\"../google_bird_predictions/unlabeled_data/processed_data_v1_add_train.csv\", index=False)"
   ]
  },
  {
   "cell_type": "code",
   "execution_count": null,
   "id": "592f3a20-de78-486e-a89f-a6a18a22dd32",
   "metadata": {},
   "outputs": [],
   "source": []
  }
 ],
 "metadata": {
  "kernelspec": {
   "display_name": "Python 3 (ipykernel)",
   "language": "python",
   "name": "python3"
  },
  "language_info": {
   "codemirror_mode": {
    "name": "ipython",
    "version": 3
   },
   "file_extension": ".py",
   "mimetype": "text/x-python",
   "name": "python",
   "nbconvert_exporter": "python",
   "pygments_lexer": "ipython3",
   "version": "3.11.6"
  }
 },
 "nbformat": 4,
 "nbformat_minor": 5
}
