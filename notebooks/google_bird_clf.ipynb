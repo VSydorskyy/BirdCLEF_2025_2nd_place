{
 "cells": [
  {
   "cell_type": "code",
   "execution_count": null,
   "id": "34947f70-7bd9-4198-b2e8-664ae9dc749d",
   "metadata": {},
   "outputs": [],
   "source": [
    "%load_ext autoreload\n",
    "%autoreload 2\n",
    "\n",
    "import os\n",
    "os.environ[\"CUDA_VISIBLE_DEVICES\"]=\"2\"\n",
    "\n",
    "import pandas as pd\n",
    "import numpy as np\n",
    "import librosa\n",
    "import seaborn as sns\n",
    "import os\n",
    "import json\n",
    "import IPython.display as ipd\n",
    "import soundfile as sf\n",
    "import torch\n",
    "import collections\n",
    "import h5py\n",
    "import timm\n",
    "import torch.nn as nn\n",
    "import onnxruntime as ort\n",
    "# import torchaudio\n",
    "import onnx\n",
    "# import tensorflow as tf\n",
    "# import tensorflow_hub as hub\n",
    "# import tf2onnx\n",
    "import onnx\n",
    "import onnxruntime as ort\n",
    "from onnxsim import simplify\n",
    "from scipy.special import expit\n",
    "\n",
    "\n",
    "from glob import glob\n",
    "from tqdm import tqdm\n",
    "from matplotlib import pyplot as plt\n",
    "from itertools import chain\n",
    "from os.path import join as pjoin\n",
    "from torchaudio.transforms import AmplitudeToDB, MelSpectrogram\n",
    "from copy import deepcopy\n",
    "from typing import Callable\n",
    "from nnAudio.Spectrogram import CQT1992v2\n",
    "# import leaf_audio_pytorch.frontend as frontend\n",
    "from torchaudio.transforms import TimeMasking, FrequencyMasking\n",
    "from shutil import copyfile\n",
    "from torchaudio.transforms import Resample\n",
    "\n",
    "# from code_base.utils import parallel_librosa_load, groupby_np_array, stack_and_max_by_samples, load_pp_audio\n",
    "# from code_base.utils.constants import SAMPLE_RATE, N_CLASSES_2021_2022\n",
    "from code_base.utils.onnx_utils import convert_to_onnx\n",
    "from code_base.models import WaveCNNClasifier, WaveCNNAttenClasifier, WaveTDNNClasifier, RandomFiltering\n",
    "from code_base.models.blocks import TraceableMelspec, NormalizeMelSpec, GeMFreqFixed\n",
    "from code_base.utils.metrics import score_numpy\n",
    "# from code_base.models.wave_clasifier import WaveCNNAttenClasifier\n",
    "from code_base.datasets import WaveDataset, WaveAllFileDataset\n",
    "from code_base.utils import load_json, write_json\n",
    "from code_base.utils.audio_utils import get_librosa_load\n",
    "# from code_base.augmentations.background_noise import AddBackgoundFromSoundScapes\n",
    "# from code_base.augmentations.transforms import BackgroundNoise, Compose, GaussianNoise, PinkNoise, OneOf\n",
    "# from code_base.forwards import MultilabelClsForwardLongShort\n",
    "# from code_base.utils.onnx_utils import ONNXEnsemble, convert_to_onnx\n",
    "from code_base.augmentations.transforms import (\n",
    "    BackgroundNoise,\n",
    "    Compose,\n",
    "    GaussianNoise,\n",
    "    OneOf,\n",
    "    PinkNoise,\n",
    ")\n",
    "%matplotlib inline\n"
   ]
  },
  {
   "cell_type": "markdown",
   "id": "38da17b7-ad07-4044-8434-a7eca562bf14",
   "metadata": {},
   "source": [
    "# Data"
   ]
  },
  {
   "cell_type": "code",
   "execution_count": null,
   "id": "ef1072e0-6c84-4b45-b08b-6c7786cc277d",
   "metadata": {},
   "outputs": [],
   "source": [
    "# df = pd.read_csv(\n",
    "#     \"/home/vova/data/exps/birdclef_2024/birdclef_2024/train_metadata_extended_noduplv1.csv\",\n",
    "#     converters={\"secondary_labels\": eval, \"all_labels\": eval}\n",
    "# )\n",
    "# df = pd.read_csv(\n",
    "#     \"/home/vova/data/exps/birdclef_2024/dfs/full_noduplsV3_scored_meta_prev_comps_extended_2024SecLabels.csv\",\n",
    "#     converters={\"secondary_labels\": eval, \"all_labels\": eval}\n",
    "# )\n",
    "df = pd.read_csv(\n",
    "    \"/home/vova/data/exps/birdclef_2024/xeno_canto/dataset_2024_classes/train_metadata_noduplV3_extended_2024SecLabels.csv\",\n",
    "    converters={\"secondary_labels\": eval, \"all_labels\": eval}\n",
    ")\n",
    "# taxonomy = pd.read_csv(\"/home/vova/data/exps/birdclef_2024/birdclef_2024/eBird_Taxonomy_v2021.csv\")\n",
    "# previous_soundscapes = pd.read_csv(\n",
    "#     \"/home/vova/data/exps/birdclef_2024/my_2023_data/soundscapes_nocall/v1_no_call_meta_fixed.csv\"\n",
    "# )\n",
    "# df = pd.read_csv(\"/home/vova/data/exps/BirdCLEF_2023/xeno_canto/train_metadata_extended_shorten_and_2023x_v1.csv\")\n",
    "# df.head()"
   ]
  },
  {
   "cell_type": "code",
   "execution_count": null,
   "id": "c7604ec3-01ec-4b50-9f84-9c38a60686ac",
   "metadata": {},
   "outputs": [],
   "source": [
    "scored_birds = load_json(\n",
    "    \"/home/vova/data/exps/birdclef_2024/scored_birds/sb_2024.json\"\n",
    ")"
   ]
  },
  {
   "cell_type": "code",
   "execution_count": null,
   "id": "80182ed7-53c9-47f2-a69e-85a57eb56f53",
   "metadata": {},
   "outputs": [],
   "source": [
    "df[df[\"duration_s\"] <=5]"
   ]
  },
  {
   "cell_type": "code",
   "execution_count": null,
   "id": "f292d75e-8aed-4958-8ee0-d6e3a9a8111b",
   "metadata": {},
   "outputs": [],
   "source": [
    "train_dataset_full = WaveAllFileDataset(\n",
    "    # df=df,\n",
    "    df=df[df[\"duration_s\"] <=5].reset_index(drop=True),\n",
    "    # root=\"/home/vova/data/exps/birdclef_2024/birdclef_2024/train_features/\",\n",
    "    root=\"/home/vova/data/exps/birdclef_2024/birdclef_2024/train_audio\",\n",
    "    label_str2int_mapping_path=\"/home/vova/data/exps/birdclef_2024/class_mappings/bird2int_2024.json\",\n",
    "    precompute=False,\n",
    "    n_cores=4,\n",
    "    debug=False,\n",
    "    segment_len=5,\n",
    "    sample_id=None,\n",
    "    late_normalize=True,\n",
    "    use_h5py=False,\n",
    "    load_normalize=False,\n",
    "\n",
    "    use_audio_cache=True,\n",
    "    test_mode=False\n",
    ")\n",
    "\n",
    "id2bird_vova = {v:k for k,v in train_dataset_full.label_str2int.items()}"
   ]
  },
  {
   "cell_type": "code",
   "execution_count": null,
   "id": "af5b0781-a06c-433a-b6ec-35efec47a39f",
   "metadata": {},
   "outputs": [],
   "source": [
    "np.abs(train_dataset_full.test_audio_cache[\"au\"]).max()"
   ]
  },
  {
   "cell_type": "code",
   "execution_count": null,
   "id": "5c07fdd3-dd32-4054-9d7e-2ea563bca055",
   "metadata": {},
   "outputs": [],
   "source": [
    "np.abs(train_dataset_full[0][0]).max()"
   ]
  },
  {
   "cell_type": "markdown",
   "id": "d3ecb23c-97e0-42a5-bca7-734b6f63b780",
   "metadata": {},
   "source": [
    "# Google Model"
   ]
  },
  {
   "cell_type": "code",
   "execution_count": null,
   "id": "b21da4ee-426a-4569-bfb9-97435fb54e47",
   "metadata": {},
   "outputs": [],
   "source": [
    "import tensorflow_hub as hub"
   ]
  },
  {
   "cell_type": "code",
   "execution_count": null,
   "id": "f489b85b-0078-41a4-aed9-24624a577778",
   "metadata": {},
   "outputs": [],
   "source": [
    "model_path = 'https://www.kaggle.com/models/google/bird-vocalization-classifier/TensorFlow2/bird-vocalization-classifier/8'\n",
    "model = hub.load(model_path)\n",
    "model_labels_df = pd.read_csv(hub.resolve(model_path) + \"/assets/label.csv\")"
   ]
  },
  {
   "cell_type": "code",
   "execution_count": null,
   "id": "8fc3fdae-cde7-4ee6-ac97-5cdac6bcab33",
   "metadata": {},
   "outputs": [],
   "source": [
    "model"
   ]
  },
  {
   "cell_type": "code",
   "execution_count": null,
   "id": "0b2bcd98-14db-49f7-be76-b51c76d2e19a",
   "metadata": {},
   "outputs": [],
   "source": [
    "set(scored_birds) - set(model_labels_df[\"ebird2021\"])"
   ]
  },
  {
   "cell_type": "code",
   "execution_count": null,
   "id": "2ba4dd31-f52e-43ba-974d-6b2f2fdf5206",
   "metadata": {},
   "outputs": [],
   "source": [
    "scored_birds = pd.Series(scored_birds)"
   ]
  },
  {
   "cell_type": "code",
   "execution_count": null,
   "id": "ee99bf70-6e18-4e85-9247-7115a1f93119",
   "metadata": {},
   "outputs": [],
   "source": [
    "scored_birds[scored_birds.apply(lambda x: x.startswith(\"indrol\"))]"
   ]
  },
  {
   "cell_type": "code",
   "execution_count": null,
   "id": "5904c9d2-0bd0-4f34-a24a-dbcf1c335fc8",
   "metadata": {},
   "outputs": [],
   "source": [
    "model_labels_df[model_labels_df[\"ebird2021\"].apply(lambda x: x.startswith(\"bkrfla\"))]"
   ]
  },
  {
   "cell_type": "code",
   "execution_count": null,
   "id": "cb4f7633-a448-42fb-90bb-4cda13e3b71f",
   "metadata": {},
   "outputs": [],
   "source": [
    "model_labels_df[model_labels_df[\"ebird2021\"].apply(lambda x: x.startswith(\"indrol\"))]"
   ]
  },
  {
   "cell_type": "code",
   "execution_count": null,
   "id": "6870c8b5-e80f-4507-86d5-c8866f711b94",
   "metadata": {},
   "outputs": [],
   "source": [
    "model_labels_df.shape"
   ]
  },
  {
   "cell_type": "code",
   "execution_count": null,
   "id": "daa927f6-0031-4cc9-91ca-8dcff9d80b27",
   "metadata": {},
   "outputs": [],
   "source": [
    "id2bird_google = model_labels_df[\"ebird2021\"].to_dict()"
   ]
  },
  {
   "cell_type": "code",
   "execution_count": null,
   "id": "3afe7bc1-0464-496b-afa5-91de8958fec0",
   "metadata": {},
   "outputs": [],
   "source": [
    "from tensorflow.python.client import device_lib\n",
    "\n",
    "def get_available_devices():\n",
    "    local_device_protos = device_lib.list_local_devices()\n",
    "    return [x.name for x in local_device_protos]\n",
    "\n",
    "print(get_available_devices())"
   ]
  },
  {
   "cell_type": "code",
   "execution_count": null,
   "id": "bb854f3e-bef6-4417-a002-39b0f3e44333",
   "metadata": {},
   "outputs": [],
   "source": [
    "import tensorflow as tf"
   ]
  },
  {
   "cell_type": "code",
   "execution_count": null,
   "id": "8480ebed-f8b0-448b-ad67-8ea5f0ac2e07",
   "metadata": {},
   "outputs": [],
   "source": [
    "print(\"Is GPU available:\", tf.config.list_physical_devices('GPU'))"
   ]
  },
  {
   "cell_type": "code",
   "execution_count": null,
   "id": "c5117e20-c7af-4ad2-9377-fefd7e80076c",
   "metadata": {},
   "outputs": [],
   "source": [
    "with tf.device('/gpu:0'):\n",
    "    model_output = model.infer_tf(np.random.uniform(size=(64, 5*32000)))"
   ]
  },
  {
   "cell_type": "code",
   "execution_count": null,
   "id": "b57ce5a4-f18f-4225-8ab5-d41be4a1657e",
   "metadata": {},
   "outputs": [],
   "source": [
    "model_output"
   ]
  },
  {
   "cell_type": "code",
   "execution_count": null,
   "id": "685fd881-587e-4f35-bd67-61544df921b0",
   "metadata": {},
   "outputs": [],
   "source": [
    "def google_postprocessor_v8(input):\n",
    "    return expit(input[\"label\"].numpy())"
   ]
  },
  {
   "cell_type": "code",
   "execution_count": null,
   "id": "e2ced380-8965-4dfe-8c65-6dbe509ada7c",
   "metadata": {},
   "outputs": [],
   "source": [
    "REARRANGE_INDICES = np.array([ 7717,  4041,   354,  4914,  1643,  5186,  4749,  4621,  2750,\n",
    "        1017,  1802,  4524,  3890,  7289,  8703,  6664,  7355,  9680,\n",
    "       10237,  1372,  4096,  5373,  6389,  5418,  2593,  4402,  4003,\n",
    "        6925,  3922, 10533,  7725,  1507,  5486,  8873,  7804,  4250,\n",
    "        5572,   901,  3624,  1031,  2707,  4791,  4609,  1692,  1016,\n",
    "        5120,   971, 10611,  2881,  3825,  6772,  4489,  1297,  1661,\n",
    "        7352,  9047,  2607,  1788,  8236,  6933,  4728,  6906,  5039,\n",
    "        4579,  2623,  5385, 10065,  7167,   967, 10050,  4522,  7359,\n",
    "        4754,  4942,  7436,  2598,  5235,  2601,   727,  3913,  6921,\n",
    "        8530,  6725,  5975,  8832,  4611,  5047,  4174,  9961,   990,\n",
    "        8029,  6260,  1594,  6649,  3792,  3462,  9378,  5145,  4076,\n",
    "        1964,  6922,  4623,  4602,  2524,  6315,  2815,  7666,  5718,\n",
    "        9836,  4753,   362,  5982,  2103,  9888,  2898,  9422,  6268,\n",
    "        5148,  1600,  7998,   577,  2627, 10584,  5409,  4618,  4794,\n",
    "        8784,  3697,  7476,  4855,   326,   364,  6823, 10056,  3218,\n",
    "        4603,  4619,  3894,  1417,  6726,  3221,   315,  2605,  2612,\n",
    "        2622,   600,  5097, 10031,  3904,  5417,  6068,   347,  3886,\n",
    "        4601,  3958,  9676,  1704,  1353,  8767, 10058,  2776,  4614,\n",
    "       10299,  2201,  5115,  4112,  4006,   337,  4636,  6271,  2599,\n",
    "        6736,  3176,   360, 10077,  1715,  2643, 10928,  9408,  3551,\n",
    "       10377,   366,  1789, 10620,  3207,  3126,  7483,  8444])"
   ]
  },
  {
   "cell_type": "code",
   "execution_count": null,
   "id": "58b7765f-df52-49e0-942b-64823395c1e5",
   "metadata": {},
   "outputs": [],
   "source": [
    "expit(model_output[\"label\"].numpy())[:,REARRANGE_INDICES].shape"
   ]
  },
  {
   "cell_type": "code",
   "execution_count": null,
   "id": "c1ad63c8-1b46-4a69-87d5-4b5eff45a867",
   "metadata": {},
   "outputs": [],
   "source": [
    "logits"
   ]
  },
  {
   "cell_type": "code",
   "execution_count": null,
   "id": "3ae9ad80-83f2-433a-86a8-256491614639",
   "metadata": {},
   "outputs": [],
   "source": [
    "len(train_dataset_full)"
   ]
  },
  {
   "cell_type": "code",
   "execution_count": null,
   "id": "0c5798c1-3144-49f8-9e3e-0bf5778ff89e",
   "metadata": {},
   "outputs": [],
   "source": [
    "probs"
   ]
  },
  {
   "cell_type": "code",
   "execution_count": null,
   "id": "488b5e56-4cd5-4f65-b798-df653b6cb614",
   "metadata": {},
   "outputs": [],
   "source": [
    "wave, target, dfidx, start, end = train_dataset_full[0]\n",
    "\n",
    "print(\"Target IDS:\", np.where(target > 0)[0])\n",
    "print(\"Birds: \", [id2bird_vova[el] for el in np.where(target > 0)[0]])\n",
    "\n",
    "output = model.infer_tf(wave[np.newaxis, :])\n",
    "probs = torch.sigmoid(torch.from_numpy(output[0].numpy()))[0]\n",
    "\n",
    "print(\"Predicted IDS:\", np.where(probs > 0.5)[0])\n",
    "print(\"Birds: \", [id2bird_google[el] for el in np.where(probs > 0.5)[0]])"
   ]
  },
  {
   "cell_type": "code",
   "execution_count": null,
   "id": "799786ac-430f-46bf-a7ea-aefef135822b",
   "metadata": {},
   "outputs": [],
   "source": [
    "ipd.Audio(wave, rate=32000)"
   ]
  },
  {
   "cell_type": "code",
   "execution_count": null,
   "id": "d894a89e-55dc-4e08-96f0-c75a2e8d5ed8",
   "metadata": {},
   "outputs": [],
   "source": [
    "plt.plot(wave)"
   ]
  },
  {
   "cell_type": "code",
   "execution_count": null,
   "id": "0ee964f9-68bf-4aec-80f8-0f04caaf2750",
   "metadata": {},
   "outputs": [],
   "source": [
    "probs = torch.sigmoid(torch.from_numpy(output[\"label\"].numpy()))"
   ]
  },
  {
   "cell_type": "code",
   "execution_count": null,
   "id": "4129b5d3-53de-480a-8f5a-75b53df64eed",
   "metadata": {},
   "outputs": [],
   "source": [
    "print(\"Predicted IDS:\", np.where(probs > 0.5)[0])\n",
    "print(\"Birds: \", [id2bird_google[el] for el in np.where(probs > 0.5)[0]])"
   ]
  },
  {
   "cell_type": "code",
   "execution_count": null,
   "id": "a8950b77-c727-4590-8b00-65ac433cf4e7",
   "metadata": {},
   "outputs": [],
   "source": [
    "probs"
   ]
  },
  {
   "cell_type": "markdown",
   "id": "f9d72881-ca26-47d2-94a0-c00a3efed181",
   "metadata": {},
   "source": [
    "# Convert to ONNX"
   ]
  },
  {
   "cell_type": "code",
   "execution_count": null,
   "id": "5ddc4990-49a8-491b-b6c0-d841d28d9a35",
   "metadata": {},
   "outputs": [],
   "source": [
    "model_path = 'https://kaggle.com/models/google/bird-vocalization-classifier/frameworks/TensorFlow2/variations/bird-vocalization-classifier/versions/4'\n",
    "hub_model = hub.load(model_path)"
   ]
  },
  {
   "cell_type": "code",
   "execution_count": null,
   "id": "cf3c497b-dc18-4541-9d0f-5e485c566639",
   "metadata": {},
   "outputs": [],
   "source": [
    "# Define a wrapper model\n",
    "class HubModelWrapper(tf.keras.Model):\n",
    "    output_names = [\"logits\", \"embeddings\"]\n",
    "    \n",
    "    def __init__(self, hub_model):\n",
    "        super(HubModelWrapper, self).__init__()\n",
    "        self.hub_model = hub_model\n",
    "    \n",
    "    def call(self, inputs):\n",
    "        return self.hub_model.infer_tf(inputs)\n",
    "\n",
    "# Create an instance of the wrapper model\n",
    "model = HubModelWrapper(hub_model)\n",
    "\n",
    "# Compile the model (necessary for saving)\n",
    "model.compile(optimizer='adam', loss='sparse_categorical_crossentropy')\n",
    "\n",
    "# Define input shape for the model, assuming the input size as given in the original post\n",
    "input_shape = (None, 5*32000)  # Adjust based on the actual expected input shape\n",
    "model.build([input_shape])  # This is necessary to create the model layers"
   ]
  },
  {
   "cell_type": "code",
   "execution_count": null,
   "id": "59abbb76-78f3-4ab7-86d6-6bb2255ff7ba",
   "metadata": {},
   "outputs": [],
   "source": [
    "# # Save the model locally as a SavedModel\n",
    "# saved_model_path = './google_model_onnx/'\n",
    "# model.save('./google_model_onnx/model.keras')"
   ]
  },
  {
   "cell_type": "code",
   "execution_count": null,
   "id": "631e37b9-2b2d-4ebe-bb64-a069468e373a",
   "metadata": {},
   "outputs": [],
   "source": [
    "spec = (tf.TensorSpec((None, 5*32000), tf.float32, name=\"input\"),)\n",
    "\n",
    "# Convert\n",
    "model_proto, external_tensor_storage = tf2onnx.convert.from_keras(\n",
    "    model, \n",
    "    input_signature=spec, \n",
    "    output_path='./google_model_onnx/model.onnx', \n",
    "    opset=12\n",
    ")\n",
    "\n",
    "# Save the ONNX model\n",
    "onnx.save(model_proto, './google_model_onnx/model.onnx')"
   ]
  },
  {
   "cell_type": "code",
   "execution_count": null,
   "id": "afe1340e-1100-4a84-b880-3362d651a06b",
   "metadata": {
    "scrolled": true
   },
   "outputs": [],
   "source": [
    "sess = ort.InferenceSession('./google_model_onnx/model.onnx')"
   ]
  },
  {
   "cell_type": "markdown",
   "id": "0aa9b157-3a95-4ce3-8d33-b61981fcec8d",
   "metadata": {},
   "source": [
    "# Create Processed Google Model"
   ]
  },
  {
   "cell_type": "markdown",
   "id": "b90ff063-9fc0-4327-bd5b-5ce9129a0e0c",
   "metadata": {},
   "source": [
    "## Train Data"
   ]
  },
  {
   "cell_type": "code",
   "execution_count": null,
   "id": "982e09fb-2a80-4758-9fa5-87879485fa02",
   "metadata": {},
   "outputs": [],
   "source": [
    "df[\"id\"] = df[\"filename\"].apply(lambda x: os.path.splitext(os.path.basename(x))[0])"
   ]
  },
  {
   "cell_type": "code",
   "execution_count": null,
   "id": "2fd5a4da-28a7-4f93-ac9e-99f077ecb89b",
   "metadata": {},
   "outputs": [],
   "source": [
    "train_data_google_results = glob(\n",
    "    # \"../google_bird_predictions/train_data/*.csv\"\n",
    "    \"../google_bird_predictions/add_scored_data/*.csv\"\n",
    ")\n",
    "train_data_google_results = pd.concat([pd.read_csv(el) for el in train_data_google_results]).reset_index(drop=True)"
   ]
  },
  {
   "cell_type": "code",
   "execution_count": null,
   "id": "c4bd719e-9588-4ab5-b793-5115c8db0003",
   "metadata": {},
   "outputs": [],
   "source": [
    "train_data_google_results = train_data_google_results.drop_duplicates(\"row_id\").reset_index(drop=True)"
   ]
  },
  {
   "cell_type": "code",
   "execution_count": null,
   "id": "8a11653c-11b5-4ed1-918d-ba1b08bd2539",
   "metadata": {},
   "outputs": [],
   "source": [
    "train_data_google_results[\"id\"] = train_data_google_results[\"row_id\"].apply(lambda x: x.split(\"_\")[0])\n",
    "train_data_google_results[\"final_second\"] = train_data_google_results[\"row_id\"].apply(lambda x: int(x.split(\"_\")[1]))"
   ]
  },
  {
   "cell_type": "code",
   "execution_count": null,
   "id": "166bd46a-395f-45e3-a3bf-3f845c488e51",
   "metadata": {},
   "outputs": [],
   "source": [
    "missing_birds = set(scored_birds) - set(train_data_google_results.columns[1:])"
   ]
  },
  {
   "cell_type": "code",
   "execution_count": null,
   "id": "3f8c9b31-6b3c-4e2a-b8ab-1ecd19b12955",
   "metadata": {},
   "outputs": [],
   "source": [
    "google_birds = [el for el in scored_birds if el not in missing_birds]\n",
    "# train_data_google_results.columns[1:-2]"
   ]
  },
  {
   "cell_type": "markdown",
   "id": "cbcfd070-96ee-4181-9665-957e4d8439fd",
   "metadata": {},
   "source": [
    "### Compute metric"
   ]
  },
  {
   "cell_type": "code",
   "execution_count": null,
   "id": "ff9081c1-8bd5-4817-a688-6804b1cb2604",
   "metadata": {},
   "outputs": [],
   "source": [
    "train_data_google_results"
   ]
  },
  {
   "cell_type": "code",
   "execution_count": null,
   "id": "7b80c5c0-f8ed-40c7-a408-b4232ac01d11",
   "metadata": {},
   "outputs": [],
   "source": [
    "train_data_google_results_aggr = train_data_google_results.groupby(\"id\").apply(\n",
    "    lambda sub_df: sub_df[google_birds].max(axis=0)\n",
    ").reset_index()"
   ]
  },
  {
   "cell_type": "code",
   "execution_count": null,
   "id": "a43d4860-a7a2-4aaf-aa71-bafd2c8d9a39",
   "metadata": {},
   "outputs": [],
   "source": [
    "train_data_google_results_aggr"
   ]
  },
  {
   "cell_type": "code",
   "execution_count": null,
   "id": "25eb9f3f-fdb2-40de-876f-85f7d8389116",
   "metadata": {},
   "outputs": [],
   "source": [
    "df_without_missing = df[~df[\"all_labels\"].apply(lambda x: any(el in missing_birds for el in x))].reset_index(drop=True)"
   ]
  },
  {
   "cell_type": "code",
   "execution_count": null,
   "id": "0b373073-6ff8-4434-a228-6d6c56fe52da",
   "metadata": {},
   "outputs": [],
   "source": [
    "set(df[\"id\"]) - set(train_data_google_results[\"id\"])"
   ]
  },
  {
   "cell_type": "code",
   "execution_count": null,
   "id": "b567ac8d-dc31-4ff9-b23f-ae0862d485d6",
   "metadata": {},
   "outputs": [],
   "source": []
  },
  {
   "cell_type": "code",
   "execution_count": null,
   "id": "e286ea77-4749-4457-9490-f2780bc5f6bf",
   "metadata": {},
   "outputs": [],
   "source": [
    "train_data_google_results_aggr = train_data_google_results_aggr[\n",
    "    train_data_google_results_aggr[\"id\"].isin(df_without_missing[\"id\"])\n",
    "].reset_index(drop=True)"
   ]
  },
  {
   "cell_type": "code",
   "execution_count": null,
   "id": "92ebacaa-7cdb-436a-bee1-42399923e0f8",
   "metadata": {},
   "outputs": [],
   "source": [
    "df_without_missing = df_without_missing.sort_values(\"id\").reset_index(drop=True)\n",
    "train_data_google_results_aggr = train_data_google_results_aggr.sort_values(\"id\").reset_index(drop=True)\n",
    "\n",
    "assert (df_without_missing[\"id\"] == train_data_google_results_aggr[\"id\"]).all()"
   ]
  },
  {
   "cell_type": "code",
   "execution_count": null,
   "id": "730f1566-c385-498f-bd5a-bb8c5010b454",
   "metadata": {},
   "outputs": [],
   "source": [
    "gt = np.stack(df_without_missing[\"all_labels\"].apply(lambda gt: np.array([float(el in gt) for el in google_birds])).to_list())\n",
    "pred = train_data_google_results_aggr[google_birds].values"
   ]
  },
  {
   "cell_type": "code",
   "execution_count": null,
   "id": "c773d44c-3bcb-40e8-8d9b-296cfe3c42e6",
   "metadata": {},
   "outputs": [],
   "source": [
    "gt"
   ]
  },
  {
   "cell_type": "code",
   "execution_count": null,
   "id": "ea202497-56a4-40af-9f04-8cafdd7078f6",
   "metadata": {},
   "outputs": [],
   "source": [
    "pred"
   ]
  },
  {
   "cell_type": "code",
   "execution_count": null,
   "id": "3252ea16-f645-4e97-83e9-a9831c83b66a",
   "metadata": {},
   "outputs": [],
   "source": [
    "score_numpy(gt, pred)"
   ]
  },
  {
   "cell_type": "markdown",
   "id": "68ee4283-3dfc-477f-99e1-5ac2da33ef0a",
   "metadata": {},
   "source": [
    "### Prepare DF"
   ]
  },
  {
   "cell_type": "code",
   "execution_count": null,
   "id": "5b635944-05a5-4cb4-9d2c-120654d1f041",
   "metadata": {},
   "outputs": [],
   "source": [
    "def merge_intervals(data):\n",
    "    if not data:\n",
    "        return []\n",
    "\n",
    "    # Sort by start time\n",
    "    data.sort(key=lambda x: x[0])\n",
    "\n",
    "    # Initialize the list of merged intervals with the first interval\n",
    "    merged = [data[0]]\n",
    "\n",
    "    for current in data[1:]:\n",
    "        prev_end = merged[-1][1]\n",
    "        current_start = current[0]\n",
    "        current_end = current[1]\n",
    "        current_labels = set(current[2])  # Convert list of labels to a set for union operation\n",
    "\n",
    "        # Check if the current interval overlaps or is adjacent to the previous interval\n",
    "        if current_start <= prev_end:\n",
    "            # Merge the intervals\n",
    "            merged[-1][1] = max(prev_end, current_end)\n",
    "            # Union of the labels\n",
    "            merged[-1][2] = list(set(merged[-1][2]).union(current_labels))\n",
    "        else:\n",
    "            # If no overlap, add the current interval to the result\n",
    "            current[2] = list(current_labels)  # Convert back the set to list\n",
    "            merged.append(current)\n",
    "\n",
    "    # Ensure the labels are in list format, not a set\n",
    "    for interval in merged:\n",
    "        interval[2] = list(set(interval[2]))\n",
    "\n",
    "    return merged\n",
    "\n",
    "def create_timewise_label(row):\n",
    "    real_label = set(row[\"all_labels\"])\n",
    "    result = [\n",
    "        set(labels) & real_label for labels in row[\"all_labels_pred\"]\n",
    "    ]\n",
    "    return [\n",
    "        [end-5, end, list(labels)] for labels, end in zip(result, row[\"final_second\"]) if len(labels) > 0\n",
    "    ]\n",
    "\n",
    "def trim_last_label_if_needed(row):\n",
    "    if not row[\"label_second\"]:\n",
    "        return []\n",
    "    row[\"label_second\"][-1][1] = min(row[\"duration_s\"], row[\"label_second\"][-1][1])\n",
    "    return row[\"label_second\"]"
   ]
  },
  {
   "cell_type": "code",
   "execution_count": null,
   "id": "87b76551-2120-449b-8e5e-4885af3c6df2",
   "metadata": {},
   "outputs": [],
   "source": [
    "all_google_birds = train_data_google_results.columns[1:-2]"
   ]
  },
  {
   "cell_type": "code",
   "execution_count": null,
   "id": "dc9cf6e0-a82c-49a3-98cc-8a1a42c0b9b5",
   "metadata": {},
   "outputs": [],
   "source": [
    "train_data_google_results[\"all_labels\"] = train_data_google_results.apply(\n",
    "    lambda x: list(all_google_birds[expit(x[all_google_birds].values.astype(np.float32)) > 0.5]), \n",
    "    axis=1\n",
    ")"
   ]
  },
  {
   "cell_type": "code",
   "execution_count": null,
   "id": "ef741492-33d9-4412-a56e-69821157a92c",
   "metadata": {},
   "outputs": [],
   "source": [
    "train_data_google_results[\"all_labels\"] = train_data_google_results[\"all_labels\"].apply(list)"
   ]
  },
  {
   "cell_type": "code",
   "execution_count": null,
   "id": "79df3978-7f29-4d2b-9039-778fb354d401",
   "metadata": {},
   "outputs": [],
   "source": [
    "pd.Series(list(chain(*df[\"all_labels\"].to_list()))).value_counts().head(20)"
   ]
  },
  {
   "cell_type": "code",
   "execution_count": null,
   "id": "2e6290ad-710d-4060-9902-d1bd73dfc608",
   "metadata": {},
   "outputs": [],
   "source": [
    "pd.Series(list(chain(*train_data_google_results[\"all_labels\"].to_list()))).value_counts().head(20)"
   ]
  },
  {
   "cell_type": "code",
   "execution_count": null,
   "id": "9825479f-328e-4b95-a2b4-4e56ad9c6a4b",
   "metadata": {},
   "outputs": [],
   "source": [
    "train_data_google_results_for_merge = train_data_google_results.groupby(\"id\").agg({\n",
    "    \"all_labels\": list,\n",
    "    \"final_second\": list\n",
    "}).reset_index()"
   ]
  },
  {
   "cell_type": "code",
   "execution_count": null,
   "id": "a261e280-ce36-41df-b2e5-0ec4513eab40",
   "metadata": {},
   "outputs": [],
   "source": [
    "df.shape"
   ]
  },
  {
   "cell_type": "code",
   "execution_count": null,
   "id": "071c2a94-ab47-400c-a628-52c624c5be23",
   "metadata": {},
   "outputs": [],
   "source": [
    "df = df.merge(train_data_google_results_for_merge, on=\"id\", how=\"left\", suffixes=(\"\", \"_pred\"))"
   ]
  },
  {
   "cell_type": "code",
   "execution_count": null,
   "id": "1329aee3-1cf5-4068-b456-bb1c59df893a",
   "metadata": {},
   "outputs": [],
   "source": [
    "df.shape"
   ]
  },
  {
   "cell_type": "code",
   "execution_count": null,
   "id": "8adec093-34db-4fb4-b8ed-ca7390567e54",
   "metadata": {},
   "outputs": [],
   "source": [
    "df[\"label_second\"] = df.apply(create_timewise_label, axis=1)"
   ]
  },
  {
   "cell_type": "code",
   "execution_count": null,
   "id": "f6d211a1-79bc-4600-b923-36fc84b4c260",
   "metadata": {},
   "outputs": [],
   "source": [
    "df[\"label_second\"] = df[\"label_second\"].apply(merge_intervals)"
   ]
  },
  {
   "cell_type": "code",
   "execution_count": null,
   "id": "a0542b36-55de-45d4-a510-c76e6918a310",
   "metadata": {},
   "outputs": [],
   "source": [
    "df[\"label_second\"] = df.apply(trim_last_label_if_needed, axis=1)"
   ]
  },
  {
   "cell_type": "code",
   "execution_count": null,
   "id": "6f9ecdcd-2ad3-4f22-b11d-2b327ce05d1e",
   "metadata": {},
   "outputs": [],
   "source": [
    "df[df[\"label_second\"].apply(lambda x: x[-1][1] if x else 0) > df[\"duration_s\"]]"
   ]
  },
  {
   "cell_type": "code",
   "execution_count": null,
   "id": "ec5b7fb3-f1d9-425e-83f0-777b031579da",
   "metadata": {},
   "outputs": [],
   "source": [
    "df[[\"all_labels\", \"all_labels_pred\", \"label_second\"]]"
   ]
  },
  {
   "cell_type": "code",
   "execution_count": null,
   "id": "5f1132ed-835e-4d43-bfb4-be3f5819c645",
   "metadata": {},
   "outputs": [],
   "source": [
    "missing_label_mask = df[\"primary_label\"].isin(missing_birds)"
   ]
  },
  {
   "cell_type": "code",
   "execution_count": null,
   "id": "adf1a88e-f8c2-48dd-a6f2-2017238d1804",
   "metadata": {},
   "outputs": [],
   "source": [
    "missing_label_mask.sum()"
   ]
  },
  {
   "cell_type": "code",
   "execution_count": null,
   "id": "b7c10f29-9e8b-4747-840a-83a2e31ca104",
   "metadata": {},
   "outputs": [],
   "source": [
    "df.loc[missing_label_mask, \"label_second\"]"
   ]
  },
  {
   "cell_type": "code",
   "execution_count": null,
   "id": "80539442-aaaf-4748-a5bc-71ea7496b196",
   "metadata": {},
   "outputs": [],
   "source": [
    "df.loc[missing_label_mask, \"label_second\"] = df.loc[missing_label_mask].apply(\n",
    "    lambda row: [[0, row[\"duration_s\"], row[\"all_labels\"]]], axis=1\n",
    ")"
   ]
  },
  {
   "cell_type": "code",
   "execution_count": null,
   "id": "6e530075-7f86-4844-ae22-d7667d136075",
   "metadata": {},
   "outputs": [],
   "source": [
    "df.loc[missing_label_mask, \"label_second\"]"
   ]
  },
  {
   "cell_type": "code",
   "execution_count": null,
   "id": "6de46552-63bf-4e25-a89a-34659593ed5b",
   "metadata": {},
   "outputs": [],
   "source": [
    "df[[\"all_labels\", \"all_labels_pred\", \"label_second\"]]"
   ]
  },
  {
   "cell_type": "code",
   "execution_count": null,
   "id": "8139930f-e676-4219-ab0c-5306b3478db3",
   "metadata": {},
   "outputs": [],
   "source": [
    "missing_birds_after_filter = (\n",
    "    set(scored_birds) - set(chain(*df[\"label_second\"].apply(lambda x: list(chain(*[el[-1] for el in x]))).to_list()))\n",
    ")\n",
    "missing_birds_after_filter"
   ]
  },
  {
   "cell_type": "code",
   "execution_count": null,
   "id": "2463d46c-f1d6-415e-bf9f-cbd0b4a8a9a6",
   "metadata": {},
   "outputs": [],
   "source": [
    "df.loc[df[\"primary_label\"].isin(missing_birds_after_filter), \"label_second\"] = df.loc[df[\"primary_label\"].isin(missing_birds_after_filter)].apply(\n",
    "    lambda row: [[0, row[\"duration_s\"], row[\"all_labels\"]]], axis=1\n",
    ")"
   ]
  },
  {
   "cell_type": "code",
   "execution_count": null,
   "id": "a0bedb3f-4b75-4d59-899c-cb27c6ffe992",
   "metadata": {},
   "outputs": [],
   "source": [
    "missing_birds_after_filter = (\n",
    "    set(scored_birds) - set(chain(*df[\"label_second\"].apply(lambda x: list(chain(*[el[-1] for el in x]))).to_list()))\n",
    ")\n",
    "missing_birds_after_filter"
   ]
  },
  {
   "cell_type": "code",
   "execution_count": null,
   "id": "f9a38b10-9c84-49f9-bba4-22d81f65ef30",
   "metadata": {},
   "outputs": [],
   "source": [
    "df = df[df[\"label_second\"].apply(len) > 0].reset_index(drop=True)"
   ]
  },
  {
   "cell_type": "code",
   "execution_count": null,
   "id": "089a6924-248b-49b3-8b44-646c95d569a6",
   "metadata": {},
   "outputs": [],
   "source": [
    "df.shape"
   ]
  },
  {
   "cell_type": "code",
   "execution_count": null,
   "id": "dd043f4a-99c8-4174-ba3c-89c022ad9921",
   "metadata": {},
   "outputs": [],
   "source": [
    "df.to_csv(\n",
    "    # \"/home/vova/data/exps/birdclef_2024/birdclef_2024/train_metadata_extended_noduplv1_GBirdV1.csv\",\n",
    "    # \"/home/vova/data/exps/birdclef_2024/dfs/full_noduplsV3_scored_meta_prev_comps_extended_2024SecLabels_GBirdV1.csv\",\n",
    "    \"/home/vova/data/exps/birdclef_2024/xeno_canto/dataset_2024_classes/train_metadata_noduplV3_extended_2024SecLabels_GBirdV1.csv\",\n",
    "    index=False\n",
    ")"
   ]
  },
  {
   "cell_type": "code",
   "execution_count": null,
   "id": "e2294dc7-fabf-4961-ab5b-e5fc5d58a5db",
   "metadata": {},
   "outputs": [],
   "source": []
  }
 ],
 "metadata": {
  "kernelspec": {
   "display_name": "Python 3 (ipykernel)",
   "language": "python",
   "name": "python3"
  },
  "language_info": {
   "codemirror_mode": {
    "name": "ipython",
    "version": 3
   },
   "file_extension": ".py",
   "mimetype": "text/x-python",
   "name": "python",
   "nbconvert_exporter": "python",
   "pygments_lexer": "ipython3",
   "version": "3.11.6"
  }
 },
 "nbformat": 4,
 "nbformat_minor": 5
}
