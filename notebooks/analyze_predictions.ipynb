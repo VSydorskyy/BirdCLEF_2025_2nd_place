{
 "cells": [
  {
   "cell_type": "code",
   "execution_count": 1,
   "id": "d7a698eb-8dcb-4d67-b582-a25007591c77",
   "metadata": {},
   "outputs": [
    {
     "name": "stderr",
     "output_type": "stream",
     "text": [
      "/backup/vova/src/exps/bird_clef_2024/.venv/lib/python3.11/site-packages/tqdm/auto.py:21: TqdmWarning: IProgress not found. Please update jupyter and ipywidgets. See https://ipywidgets.readthedocs.io/en/stable/user_install.html\n",
      "  from .autonotebook import tqdm as notebook_tqdm\n"
     ]
    }
   ],
   "source": [
    "import numpy as np\n",
    "import pandas as pd\n",
    "import json\n",
    "import os\n",
    "\n",
    "from matplotlib import pyplot as plt\n",
    "from glob import glob\n",
    "from sklearn.metrics import roc_auc_score\n",
    "\n",
    "from code_base.utils import load_json\n",
    "from code_base.utils.metrics import score_numpy"
   ]
  },
  {
   "cell_type": "markdown",
   "id": "7a745d80-4751-421a-8aa6-2465d142d0d4",
   "metadata": {},
   "source": [
    "# GT Data"
   ]
  },
  {
   "cell_type": "code",
   "execution_count": 2,
   "id": "d8ec7004-5db7-4877-af9b-f24d40a48dd5",
   "metadata": {},
   "outputs": [],
   "source": [
    "df = pd.read_csv(\n",
    "    \"/home/vova/data/exps/birdclef_2024/birdclef_2024/train_metadata_extended_noduplv1.csv\"\n",
    ")\n",
    "split = np.load(\n",
    "    \"/home/vova/data/exps/birdclef_2024/cv_splits/birdclef_2024_5_folds_split_nodupl.npy\",\n",
    "    allow_pickle=True\n",
    ")\n",
    "val_df = [df.iloc[split[i][1]].reset_index(drop=True) for i in range(len(split))]\n",
    "\n",
    "bird2id = load_json(\n",
    "    \"/home/vova/data/exps/birdclef_2024/class_mappings/bird2int_2024.json\"\n",
    ")\n",
    "scored_birds = load_json(\"/home/vova/data/exps/birdclef_2024/scored_birds/sb_2024.json\")\n",
    "id2bird = {v:k for k,v in bird2id.items()}"
   ]
  },
  {
   "cell_type": "markdown",
   "id": "04f13c48-a871-4b6d-908b-7f0afc930e92",
   "metadata": {},
   "source": [
    "# Predicted Data"
   ]
  },
  {
   "cell_type": "code",
   "execution_count": 11,
   "id": "a6b77ce2-09c7-4af8-b43b-2b1f4d5df506",
   "metadata": {},
   "outputs": [],
   "source": [
    "## IMPORTANT!!!\n",
    "# print(\"Extracting scored_bird_ids indices\")\n",
    "# scored_bird = load_json(CONFIG[\"scored_birds_path\"])\n",
    "# scored_bird_ids = [bird2id[el] for el in scored_bird]\n",
    "# val_tgts = [el[:,scored_bird_ids] for el in val_tgts]\n",
    "# val_preds = [el[:,scored_bird_ids] for el in val_preds]"
   ]
  },
  {
   "cell_type": "code",
   "execution_count": 3,
   "id": "fc5abb8f-e215-42d4-9b38-38ef2d9eb736",
   "metadata": {},
   "outputs": [],
   "source": [
    "predictions = glob(\"../predictions/*\")\n",
    "predictions = {\n",
    "    os.path.basename(el): {\n",
    "        \"gt\": np.load(os.path.join(el, \"tgts.npy\"), allow_pickle=True),\n",
    "        \"pred\": np.load(os.path.join(el, \"preds.npy\"), allow_pickle=True),\n",
    "    }\n",
    "    for el in predictions\n",
    "}"
   ]
  },
  {
   "cell_type": "code",
   "execution_count": 4,
   "id": "5481420b-4f1a-42ec-8e19-782ee705b37b",
   "metadata": {},
   "outputs": [
    {
     "name": "stdout",
     "output_type": "stream",
     "text": [
      "eca_nfnet_l0_Exp_noamp_64bs_5sec_PrevCompXCScoredDataNoSecLab_TimeFlip05_FormixupAlpha05_AdamW_wd1e6_lr1e5_1e4_0_WarmCosEpoch_Epoch50_SpecAugV207_FocalBCELoss_5Folds_NoDuplsV1\n",
      "eca_nfnet_l0_Exp_noamp_64bs_5sec_TimeFlip05_FormixupAlpha05_AdamW_wd1e6_lr1e5_1e4_0_WarmCosEpoch_Epoch50_SpecAugV207_FocalBCELoss_5Folds_NoDuplsV1\n",
      "eca_nfnet_l0_Exp_noamp_64bs_5sec_PrevCompXCScoredDataNoSecLab_TimeFlip05_FormixupAlpha05_balSampl_AdamW_wd1e6_lr1e5_1e4_0_WarmCosEpoch_Epoch50_SpecAugV207_FocalBCELoss_5Folds_NoDuplsV1\n",
      "eca_nfnet_l0_Exp_noamp_64bs_5sec_PrevCompXCScoredDataNoSecLab_TimeFlip05_FormixupAlpha05_balSamplas2024_AdamW_wd1e6_lr1e5_1e4_0_WarmCosEpoch_Epoch50_SpecAugV207_FocalBCELoss_5Folds_NoDuplsV1\n",
      "eca_nfnet_l0_Exp_noamp_64bs_5sec_TimeFlip05_FormixupAlpha05_balSampl_AdamW_wd1e6_lr1e5_1e4_0_WarmCosEpoch_Epoch50_SpecAugV207_FocalBCELoss_5Folds_NoDuplsV1\n"
     ]
    }
   ],
   "source": [
    "print(\"\\n\".join([el for el in predictions.keys()]))"
   ]
  },
  {
   "cell_type": "markdown",
   "id": "c1dc75e6-cf25-446c-b228-84f267996546",
   "metadata": {},
   "source": [
    "# Analyze"
   ]
  },
  {
   "cell_type": "code",
   "execution_count": 5,
   "id": "f7c59298-6d52-4fed-ab2a-25efcd42e866",
   "metadata": {},
   "outputs": [],
   "source": [
    "def compute_each_roc_auc(y_trues, y_preds, fold_id=None):\n",
    "    if fold_id is None:\n",
    "        y_true = np.concatenate(y_trues)\n",
    "        y_pred = np.concatenate(y_preds)\n",
    "    else:\n",
    "        y_true = y_trues[fold_id]\n",
    "        y_pred = y_preds[fold_id]\n",
    "\n",
    "    return [\n",
    "        roc_auc_score(yt, yp) for yt, yp in zip(y_true.T, y_pred.T)\n",
    "    ]"
   ]
  },
  {
   "cell_type": "code",
   "execution_count": 6,
   "id": "70a4c68b-b1b8-442a-b100-fe44ee12e6a0",
   "metadata": {},
   "outputs": [
    {
     "data": {
      "text/html": [
       "<div>\n",
       "<style scoped>\n",
       "    .dataframe tbody tr th:only-of-type {\n",
       "        vertical-align: middle;\n",
       "    }\n",
       "\n",
       "    .dataframe tbody tr th {\n",
       "        vertical-align: top;\n",
       "    }\n",
       "\n",
       "    .dataframe thead th {\n",
       "        text-align: right;\n",
       "    }\n",
       "</style>\n",
       "<table border=\"1\" class=\"dataframe\">\n",
       "  <thead>\n",
       "    <tr style=\"text-align: right;\">\n",
       "      <th></th>\n",
       "      <th>exp_names</th>\n",
       "      <th>weighting</th>\n",
       "    </tr>\n",
       "  </thead>\n",
       "  <tbody>\n",
       "    <tr>\n",
       "      <th>0</th>\n",
       "      <td>eca_nfnet_l0_Exp_noamp_64bs_5sec_PrevCompXCSco...</td>\n",
       "      <td>with_add_data</td>\n",
       "    </tr>\n",
       "    <tr>\n",
       "      <th>1</th>\n",
       "      <td>eca_nfnet_l0_Exp_noamp_64bs_5sec_TimeFlip05_Fo...</td>\n",
       "      <td>baseline</td>\n",
       "    </tr>\n",
       "    <tr>\n",
       "      <th>2</th>\n",
       "      <td>eca_nfnet_l0_Exp_noamp_64bs_5sec_PrevCompXCSco...</td>\n",
       "      <td>with_add_data__sqrt</td>\n",
       "    </tr>\n",
       "    <tr>\n",
       "      <th>3</th>\n",
       "      <td>eca_nfnet_l0_Exp_noamp_64bs_5sec_PrevCompXCSco...</td>\n",
       "      <td>with_add_data__baseW</td>\n",
       "    </tr>\n",
       "    <tr>\n",
       "      <th>4</th>\n",
       "      <td>eca_nfnet_l0_Exp_noamp_64bs_5sec_TimeFlip05_Fo...</td>\n",
       "      <td>baseline__sqrt</td>\n",
       "    </tr>\n",
       "  </tbody>\n",
       "</table>\n",
       "</div>"
      ],
      "text/plain": [
       "                                           exp_names             weighting\n",
       "0  eca_nfnet_l0_Exp_noamp_64bs_5sec_PrevCompXCSco...         with_add_data\n",
       "1  eca_nfnet_l0_Exp_noamp_64bs_5sec_TimeFlip05_Fo...              baseline\n",
       "2  eca_nfnet_l0_Exp_noamp_64bs_5sec_PrevCompXCSco...   with_add_data__sqrt\n",
       "3  eca_nfnet_l0_Exp_noamp_64bs_5sec_PrevCompXCSco...  with_add_data__baseW\n",
       "4  eca_nfnet_l0_Exp_noamp_64bs_5sec_TimeFlip05_Fo...        baseline__sqrt"
      ]
     },
     "execution_count": 6,
     "metadata": {},
     "output_type": "execute_result"
    }
   ],
   "source": [
    "info_df = pd.DataFrame({\n",
    "    \"exp_names\":[el for el in predictions.keys()],\n",
    "    \"weighting\": [\n",
    "        \"with_add_data\",\n",
    "        \"baseline\",\n",
    "        \"with_add_data__sqrt\",\n",
    "        \"with_add_data__baseW\",\n",
    "        \"baseline__sqrt\"\n",
    "    ]\n",
    "})\n",
    "info_df"
   ]
  },
  {
   "cell_type": "code",
   "execution_count": 9,
   "id": "c728e4ab-9d9e-4805-9e98-9d1b028d635d",
   "metadata": {},
   "outputs": [],
   "source": [
    "for bird in scored_birds:\n",
    "    info_df[bird] = None\n",
    "\n",
    "all_roc_aucs = []\n",
    "for exp_name in info_df[\"exp_names\"].to_list():\n",
    "    all_roc_aucs.append(compute_each_roc_auc(\n",
    "        predictions[exp_name][\"gt\"],\n",
    "        predictions[exp_name][\"pred\"],\n",
    "        fold_id=0\n",
    "    ))\n",
    "info_df.iloc[:,2:] = np.stack(all_roc_aucs)"
   ]
  },
  {
   "cell_type": "code",
   "execution_count": 10,
   "id": "acd9c80c-e86d-43b8-b92b-fcec075065ab",
   "metadata": {},
   "outputs": [
    {
     "data": {
      "text/html": [
       "<div>\n",
       "<style scoped>\n",
       "    .dataframe tbody tr th:only-of-type {\n",
       "        vertical-align: middle;\n",
       "    }\n",
       "\n",
       "    .dataframe tbody tr th {\n",
       "        vertical-align: top;\n",
       "    }\n",
       "\n",
       "    .dataframe thead th {\n",
       "        text-align: right;\n",
       "    }\n",
       "</style>\n",
       "<table border=\"1\" class=\"dataframe\">\n",
       "  <thead>\n",
       "    <tr style=\"text-align: right;\">\n",
       "      <th></th>\n",
       "      <th>exp_names</th>\n",
       "      <th>weighting</th>\n",
       "      <th>asbfly</th>\n",
       "      <th>ashdro1</th>\n",
       "      <th>ashpri1</th>\n",
       "      <th>ashwoo2</th>\n",
       "      <th>asikoe2</th>\n",
       "      <th>asiope1</th>\n",
       "      <th>aspfly1</th>\n",
       "      <th>aspswi1</th>\n",
       "      <th>...</th>\n",
       "      <th>whbwoo2</th>\n",
       "      <th>whcbar1</th>\n",
       "      <th>whiter2</th>\n",
       "      <th>whrmun</th>\n",
       "      <th>whtkin2</th>\n",
       "      <th>woosan</th>\n",
       "      <th>wynlau1</th>\n",
       "      <th>yebbab1</th>\n",
       "      <th>yebbul3</th>\n",
       "      <th>zitcis1</th>\n",
       "    </tr>\n",
       "  </thead>\n",
       "  <tbody>\n",
       "    <tr>\n",
       "      <th>0</th>\n",
       "      <td>eca_nfnet_l0_Exp_noamp_64bs_5sec_PrevCompXCSco...</td>\n",
       "      <td>with_add_data</td>\n",
       "      <td>0.988405</td>\n",
       "      <td>0.956038</td>\n",
       "      <td>0.970399</td>\n",
       "      <td>0.99968</td>\n",
       "      <td>0.982129</td>\n",
       "      <td>0.993429</td>\n",
       "      <td>0.993765</td>\n",
       "      <td>0.999966</td>\n",
       "      <td>...</td>\n",
       "      <td>0.999221</td>\n",
       "      <td>0.970893</td>\n",
       "      <td>0.984005</td>\n",
       "      <td>0.986573</td>\n",
       "      <td>0.978186</td>\n",
       "      <td>0.987637</td>\n",
       "      <td>0.999795</td>\n",
       "      <td>0.96275</td>\n",
       "      <td>0.999794</td>\n",
       "      <td>0.998261</td>\n",
       "    </tr>\n",
       "    <tr>\n",
       "      <th>1</th>\n",
       "      <td>eca_nfnet_l0_Exp_noamp_64bs_5sec_TimeFlip05_Fo...</td>\n",
       "      <td>baseline</td>\n",
       "      <td>0.986578</td>\n",
       "      <td>0.934925</td>\n",
       "      <td>0.969271</td>\n",
       "      <td>0.999566</td>\n",
       "      <td>0.981512</td>\n",
       "      <td>0.941068</td>\n",
       "      <td>0.965707</td>\n",
       "      <td>0.998424</td>\n",
       "      <td>...</td>\n",
       "      <td>0.995588</td>\n",
       "      <td>0.950364</td>\n",
       "      <td>0.986028</td>\n",
       "      <td>0.976914</td>\n",
       "      <td>0.971001</td>\n",
       "      <td>0.992889</td>\n",
       "      <td>0.997125</td>\n",
       "      <td>0.92182</td>\n",
       "      <td>0.997773</td>\n",
       "      <td>0.997287</td>\n",
       "    </tr>\n",
       "    <tr>\n",
       "      <th>2</th>\n",
       "      <td>eca_nfnet_l0_Exp_noamp_64bs_5sec_PrevCompXCSco...</td>\n",
       "      <td>with_add_data__sqrt</td>\n",
       "      <td>0.98757</td>\n",
       "      <td>0.946255</td>\n",
       "      <td>0.949699</td>\n",
       "      <td>0.999794</td>\n",
       "      <td>0.983258</td>\n",
       "      <td>0.974949</td>\n",
       "      <td>0.993936</td>\n",
       "      <td>0.99976</td>\n",
       "      <td>...</td>\n",
       "      <td>0.995235</td>\n",
       "      <td>0.938682</td>\n",
       "      <td>0.981757</td>\n",
       "      <td>0.985733</td>\n",
       "      <td>0.985978</td>\n",
       "      <td>0.98925</td>\n",
       "      <td>0.999384</td>\n",
       "      <td>0.980141</td>\n",
       "      <td>0.998767</td>\n",
       "      <td>0.997707</td>\n",
       "    </tr>\n",
       "    <tr>\n",
       "      <th>3</th>\n",
       "      <td>eca_nfnet_l0_Exp_noamp_64bs_5sec_PrevCompXCSco...</td>\n",
       "      <td>with_add_data__baseW</td>\n",
       "      <td>0.986058</td>\n",
       "      <td>0.948628</td>\n",
       "      <td>0.944485</td>\n",
       "      <td>0.999726</td>\n",
       "      <td>0.981405</td>\n",
       "      <td>0.777413</td>\n",
       "      <td>0.991778</td>\n",
       "      <td>0.992532</td>\n",
       "      <td>...</td>\n",
       "      <td>0.996941</td>\n",
       "      <td>0.975165</td>\n",
       "      <td>0.985808</td>\n",
       "      <td>0.988045</td>\n",
       "      <td>0.979434</td>\n",
       "      <td>0.988916</td>\n",
       "      <td>0.850308</td>\n",
       "      <td>0.942411</td>\n",
       "      <td>0.999623</td>\n",
       "      <td>0.998052</td>\n",
       "    </tr>\n",
       "    <tr>\n",
       "      <th>4</th>\n",
       "      <td>eca_nfnet_l0_Exp_noamp_64bs_5sec_TimeFlip05_Fo...</td>\n",
       "      <td>baseline__sqrt</td>\n",
       "      <td>0.982995</td>\n",
       "      <td>0.933816</td>\n",
       "      <td>0.946329</td>\n",
       "      <td>0.999452</td>\n",
       "      <td>0.975049</td>\n",
       "      <td>0.856057</td>\n",
       "      <td>0.981124</td>\n",
       "      <td>0.999555</td>\n",
       "      <td>...</td>\n",
       "      <td>0.991264</td>\n",
       "      <td>0.950803</td>\n",
       "      <td>0.986281</td>\n",
       "      <td>0.993017</td>\n",
       "      <td>0.977164</td>\n",
       "      <td>0.991005</td>\n",
       "      <td>0.989733</td>\n",
       "      <td>0.93135</td>\n",
       "      <td>0.999418</td>\n",
       "      <td>0.996139</td>\n",
       "    </tr>\n",
       "  </tbody>\n",
       "</table>\n",
       "<p>5 rows × 184 columns</p>\n",
       "</div>"
      ],
      "text/plain": [
       "                                           exp_names             weighting  \\\n",
       "0  eca_nfnet_l0_Exp_noamp_64bs_5sec_PrevCompXCSco...         with_add_data   \n",
       "1  eca_nfnet_l0_Exp_noamp_64bs_5sec_TimeFlip05_Fo...              baseline   \n",
       "2  eca_nfnet_l0_Exp_noamp_64bs_5sec_PrevCompXCSco...   with_add_data__sqrt   \n",
       "3  eca_nfnet_l0_Exp_noamp_64bs_5sec_PrevCompXCSco...  with_add_data__baseW   \n",
       "4  eca_nfnet_l0_Exp_noamp_64bs_5sec_TimeFlip05_Fo...        baseline__sqrt   \n",
       "\n",
       "     asbfly   ashdro1   ashpri1   ashwoo2   asikoe2   asiope1   aspfly1  \\\n",
       "0  0.988405  0.956038  0.970399   0.99968  0.982129  0.993429  0.993765   \n",
       "1  0.986578  0.934925  0.969271  0.999566  0.981512  0.941068  0.965707   \n",
       "2   0.98757  0.946255  0.949699  0.999794  0.983258  0.974949  0.993936   \n",
       "3  0.986058  0.948628  0.944485  0.999726  0.981405  0.777413  0.991778   \n",
       "4  0.982995  0.933816  0.946329  0.999452  0.975049  0.856057  0.981124   \n",
       "\n",
       "    aspswi1  ...   whbwoo2   whcbar1   whiter2    whrmun   whtkin2    woosan  \\\n",
       "0  0.999966  ...  0.999221  0.970893  0.984005  0.986573  0.978186  0.987637   \n",
       "1  0.998424  ...  0.995588  0.950364  0.986028  0.976914  0.971001  0.992889   \n",
       "2   0.99976  ...  0.995235  0.938682  0.981757  0.985733  0.985978   0.98925   \n",
       "3  0.992532  ...  0.996941  0.975165  0.985808  0.988045  0.979434  0.988916   \n",
       "4  0.999555  ...  0.991264  0.950803  0.986281  0.993017  0.977164  0.991005   \n",
       "\n",
       "    wynlau1   yebbab1   yebbul3   zitcis1  \n",
       "0  0.999795   0.96275  0.999794  0.998261  \n",
       "1  0.997125   0.92182  0.997773  0.997287  \n",
       "2  0.999384  0.980141  0.998767  0.997707  \n",
       "3  0.850308  0.942411  0.999623  0.998052  \n",
       "4  0.989733   0.93135  0.999418  0.996139  \n",
       "\n",
       "[5 rows x 184 columns]"
      ]
     },
     "execution_count": 10,
     "metadata": {},
     "output_type": "execute_result"
    }
   ],
   "source": [
    "info_df"
   ]
  },
  {
   "cell_type": "code",
   "execution_count": 15,
   "id": "f4f5ae45-9671-4499-a6cf-d4a2eec92b7b",
   "metadata": {},
   "outputs": [
    {
     "data": {
      "text/html": [
       "<div>\n",
       "<style scoped>\n",
       "    .dataframe tbody tr th:only-of-type {\n",
       "        vertical-align: middle;\n",
       "    }\n",
       "\n",
       "    .dataframe tbody tr th {\n",
       "        vertical-align: top;\n",
       "    }\n",
       "\n",
       "    .dataframe thead th {\n",
       "        text-align: right;\n",
       "    }\n",
       "</style>\n",
       "<table border=\"1\" class=\"dataframe\">\n",
       "  <thead>\n",
       "    <tr style=\"text-align: right;\">\n",
       "      <th></th>\n",
       "      <th>exp_names</th>\n",
       "      <th>weighting</th>\n",
       "      <th>asbfly</th>\n",
       "      <th>ashdro1</th>\n",
       "      <th>ashpri1</th>\n",
       "      <th>ashwoo2</th>\n",
       "      <th>asikoe2</th>\n",
       "      <th>asiope1</th>\n",
       "      <th>aspfly1</th>\n",
       "      <th>aspswi1</th>\n",
       "      <th>...</th>\n",
       "      <th>whbwoo2</th>\n",
       "      <th>whcbar1</th>\n",
       "      <th>whiter2</th>\n",
       "      <th>whrmun</th>\n",
       "      <th>whtkin2</th>\n",
       "      <th>woosan</th>\n",
       "      <th>wynlau1</th>\n",
       "      <th>yebbab1</th>\n",
       "      <th>yebbul3</th>\n",
       "      <th>zitcis1</th>\n",
       "    </tr>\n",
       "  </thead>\n",
       "  <tbody>\n",
       "    <tr>\n",
       "      <th>0</th>\n",
       "      <td>eca_nfnet_l0_Exp_noamp_64bs_5sec_PrevCompXCSco...</td>\n",
       "      <td>with_add_data</td>\n",
       "      <td>0.988405</td>\n",
       "      <td>0.956038</td>\n",
       "      <td>0.970399</td>\n",
       "      <td>0.99968</td>\n",
       "      <td>0.982129</td>\n",
       "      <td>0.993429</td>\n",
       "      <td>0.993765</td>\n",
       "      <td>0.999966</td>\n",
       "      <td>...</td>\n",
       "      <td>0.999221</td>\n",
       "      <td>0.970893</td>\n",
       "      <td>0.984005</td>\n",
       "      <td>0.986573</td>\n",
       "      <td>0.978186</td>\n",
       "      <td>0.987637</td>\n",
       "      <td>0.999795</td>\n",
       "      <td>0.96275</td>\n",
       "      <td>0.999794</td>\n",
       "      <td>0.998261</td>\n",
       "    </tr>\n",
       "    <tr>\n",
       "      <th>1</th>\n",
       "      <td>eca_nfnet_l0_Exp_noamp_64bs_5sec_TimeFlip05_Fo...</td>\n",
       "      <td>baseline</td>\n",
       "      <td>0.986578</td>\n",
       "      <td>0.934925</td>\n",
       "      <td>0.969271</td>\n",
       "      <td>0.999566</td>\n",
       "      <td>0.981512</td>\n",
       "      <td>0.941068</td>\n",
       "      <td>0.965707</td>\n",
       "      <td>0.998424</td>\n",
       "      <td>...</td>\n",
       "      <td>0.995588</td>\n",
       "      <td>0.950364</td>\n",
       "      <td>0.986028</td>\n",
       "      <td>0.976914</td>\n",
       "      <td>0.971001</td>\n",
       "      <td>0.992889</td>\n",
       "      <td>0.997125</td>\n",
       "      <td>0.92182</td>\n",
       "      <td>0.997773</td>\n",
       "      <td>0.997287</td>\n",
       "    </tr>\n",
       "    <tr>\n",
       "      <th>2</th>\n",
       "      <td>eca_nfnet_l0_Exp_noamp_64bs_5sec_PrevCompXCSco...</td>\n",
       "      <td>with_add_data__sqrt</td>\n",
       "      <td>0.98757</td>\n",
       "      <td>0.946255</td>\n",
       "      <td>0.949699</td>\n",
       "      <td>0.999794</td>\n",
       "      <td>0.983258</td>\n",
       "      <td>0.974949</td>\n",
       "      <td>0.993936</td>\n",
       "      <td>0.99976</td>\n",
       "      <td>...</td>\n",
       "      <td>0.995235</td>\n",
       "      <td>0.938682</td>\n",
       "      <td>0.981757</td>\n",
       "      <td>0.985733</td>\n",
       "      <td>0.985978</td>\n",
       "      <td>0.98925</td>\n",
       "      <td>0.999384</td>\n",
       "      <td>0.980141</td>\n",
       "      <td>0.998767</td>\n",
       "      <td>0.997707</td>\n",
       "    </tr>\n",
       "    <tr>\n",
       "      <th>3</th>\n",
       "      <td>eca_nfnet_l0_Exp_noamp_64bs_5sec_PrevCompXCSco...</td>\n",
       "      <td>with_add_data__baseW</td>\n",
       "      <td>0.986058</td>\n",
       "      <td>0.948628</td>\n",
       "      <td>0.944485</td>\n",
       "      <td>0.999726</td>\n",
       "      <td>0.981405</td>\n",
       "      <td>0.777413</td>\n",
       "      <td>0.991778</td>\n",
       "      <td>0.992532</td>\n",
       "      <td>...</td>\n",
       "      <td>0.996941</td>\n",
       "      <td>0.975165</td>\n",
       "      <td>0.985808</td>\n",
       "      <td>0.988045</td>\n",
       "      <td>0.979434</td>\n",
       "      <td>0.988916</td>\n",
       "      <td>0.850308</td>\n",
       "      <td>0.942411</td>\n",
       "      <td>0.999623</td>\n",
       "      <td>0.998052</td>\n",
       "    </tr>\n",
       "    <tr>\n",
       "      <th>4</th>\n",
       "      <td>eca_nfnet_l0_Exp_noamp_64bs_5sec_TimeFlip05_Fo...</td>\n",
       "      <td>baseline__sqrt</td>\n",
       "      <td>0.982995</td>\n",
       "      <td>0.933816</td>\n",
       "      <td>0.946329</td>\n",
       "      <td>0.999452</td>\n",
       "      <td>0.975049</td>\n",
       "      <td>0.856057</td>\n",
       "      <td>0.981124</td>\n",
       "      <td>0.999555</td>\n",
       "      <td>...</td>\n",
       "      <td>0.991264</td>\n",
       "      <td>0.950803</td>\n",
       "      <td>0.986281</td>\n",
       "      <td>0.993017</td>\n",
       "      <td>0.977164</td>\n",
       "      <td>0.991005</td>\n",
       "      <td>0.989733</td>\n",
       "      <td>0.93135</td>\n",
       "      <td>0.999418</td>\n",
       "      <td>0.996139</td>\n",
       "    </tr>\n",
       "    <tr>\n",
       "      <th>5</th>\n",
       "      <td>-</td>\n",
       "      <td>-</td>\n",
       "      <td>21</td>\n",
       "      <td>22</td>\n",
       "      <td>19</td>\n",
       "      <td>9</td>\n",
       "      <td>55</td>\n",
       "      <td>1</td>\n",
       "      <td>5</td>\n",
       "      <td>5</td>\n",
       "      <td>...</td>\n",
       "      <td>14</td>\n",
       "      <td>11</td>\n",
       "      <td>46</td>\n",
       "      <td>12</td>\n",
       "      <td>37</td>\n",
       "      <td>100</td>\n",
       "      <td>1</td>\n",
       "      <td>5</td>\n",
       "      <td>6</td>\n",
       "      <td>100</td>\n",
       "    </tr>\n",
       "  </tbody>\n",
       "</table>\n",
       "<p>6 rows × 184 columns</p>\n",
       "</div>"
      ],
      "text/plain": [
       "                                           exp_names             weighting  \\\n",
       "0  eca_nfnet_l0_Exp_noamp_64bs_5sec_PrevCompXCSco...         with_add_data   \n",
       "1  eca_nfnet_l0_Exp_noamp_64bs_5sec_TimeFlip05_Fo...              baseline   \n",
       "2  eca_nfnet_l0_Exp_noamp_64bs_5sec_PrevCompXCSco...   with_add_data__sqrt   \n",
       "3  eca_nfnet_l0_Exp_noamp_64bs_5sec_PrevCompXCSco...  with_add_data__baseW   \n",
       "4  eca_nfnet_l0_Exp_noamp_64bs_5sec_TimeFlip05_Fo...        baseline__sqrt   \n",
       "5                                                  -                     -   \n",
       "\n",
       "     asbfly   ashdro1   ashpri1   ashwoo2   asikoe2   asiope1   aspfly1  \\\n",
       "0  0.988405  0.956038  0.970399   0.99968  0.982129  0.993429  0.993765   \n",
       "1  0.986578  0.934925  0.969271  0.999566  0.981512  0.941068  0.965707   \n",
       "2   0.98757  0.946255  0.949699  0.999794  0.983258  0.974949  0.993936   \n",
       "3  0.986058  0.948628  0.944485  0.999726  0.981405  0.777413  0.991778   \n",
       "4  0.982995  0.933816  0.946329  0.999452  0.975049  0.856057  0.981124   \n",
       "5        21        22        19         9        55         1         5   \n",
       "\n",
       "    aspswi1  ...   whbwoo2   whcbar1   whiter2    whrmun   whtkin2    woosan  \\\n",
       "0  0.999966  ...  0.999221  0.970893  0.984005  0.986573  0.978186  0.987637   \n",
       "1  0.998424  ...  0.995588  0.950364  0.986028  0.976914  0.971001  0.992889   \n",
       "2   0.99976  ...  0.995235  0.938682  0.981757  0.985733  0.985978   0.98925   \n",
       "3  0.992532  ...  0.996941  0.975165  0.985808  0.988045  0.979434  0.988916   \n",
       "4  0.999555  ...  0.991264  0.950803  0.986281  0.993017  0.977164  0.991005   \n",
       "5         5  ...        14        11        46        12        37       100   \n",
       "\n",
       "    wynlau1   yebbab1   yebbul3   zitcis1  \n",
       "0  0.999795   0.96275  0.999794  0.998261  \n",
       "1  0.997125   0.92182  0.997773  0.997287  \n",
       "2  0.999384  0.980141  0.998767  0.997707  \n",
       "3  0.850308  0.942411  0.999623  0.998052  \n",
       "4  0.989733   0.93135  0.999418  0.996139  \n",
       "5         1         5         6       100  \n",
       "\n",
       "[6 rows x 184 columns]"
      ]
     },
     "execution_count": 15,
     "metadata": {},
     "output_type": "execute_result"
    }
   ],
   "source": [
    "stats_row = val_df[0].primary_label.value_counts().to_dict()\n",
    "stats_row.update({\"exp_names\": \"-\", \"weighting\": \"-\"})\n",
    "\n",
    "info_df = pd.concat([info_df, pd.Series(stats_row).to_frame().T]).reset_index(drop=True)\n",
    "info_df"
   ]
  },
  {
   "cell_type": "code",
   "execution_count": 30,
   "id": "d471d6f9-8146-4f59-9fab-ff97807f92d5",
   "metadata": {},
   "outputs": [
    {
     "data": {
      "text/plain": [
       "0.9778199537034745"
      ]
     },
     "execution_count": 30,
     "metadata": {},
     "output_type": "execute_result"
    }
   ],
   "source": [
    "info_df.iloc[1,2:].mean()"
   ]
  },
  {
   "cell_type": "code",
   "execution_count": 32,
   "id": "ee849575-d11d-4925-b522-5913323aab8e",
   "metadata": {},
   "outputs": [
    {
     "data": {
      "text/plain": [
       "0.9830511765134269"
      ]
     },
     "execution_count": 32,
     "metadata": {},
     "output_type": "execute_result"
    }
   ],
   "source": [
    "info_df.iloc[2,2:].mean()"
   ]
  },
  {
   "cell_type": "code",
   "execution_count": 25,
   "id": "75e53dc7-5e7b-4601-a59b-13b039ea2819",
   "metadata": {},
   "outputs": [],
   "source": [
    "scores_diff = info_df.iloc[1,2:] - info_df.iloc[2,2:]"
   ]
  },
  {
   "cell_type": "code",
   "execution_count": 27,
   "id": "28b38114-9846-478b-895f-114a9f6b2efd",
   "metadata": {},
   "outputs": [
    {
     "data": {
      "text/plain": [
       "<Axes: >"
      ]
     },
     "execution_count": 27,
     "metadata": {},
     "output_type": "execute_result"
    },
    {
     "data": {
      "image/png": "[encoded data removed]",
      "text/plain": [
       "<Figure size 640x480 with 1 Axes>"
      ]
     },
     "metadata": {},
     "output_type": "display_data"
    }
   ],
   "source": [
    "scores_diff.hist(bins=30)"
   ]
  },
  {
   "cell_type": "code",
   "execution_count": 37,
   "id": "49ed778b-7899-40ff-ba70-f6504e8950f4",
   "metadata": {},
   "outputs": [],
   "source": [
    "robust_scores_diff = scores_diff[info_df.iloc[-1,2:] > 20]"
   ]
  },
  {
   "cell_type": "code",
   "execution_count": 38,
   "id": "452aefcc-8279-40f4-9da1-60c384c37a8e",
   "metadata": {},
   "outputs": [
    {
     "data": {
      "text/plain": [
       "<Axes: >"
      ]
     },
     "execution_count": 38,
     "metadata": {},
     "output_type": "execute_result"
    },
    {
     "data": {
      "image/png": "[encoded data removed]",
      "text/plain": [
       "<Figure size 640x480 with 1 Axes>"
      ]
     },
     "metadata": {},
     "output_type": "display_data"
    }
   ],
   "source": [
    "robust_scores_diff.hist(bins=30)"
   ]
  },
  {
   "cell_type": "code",
   "execution_count": 56,
   "id": "7e610d43-452b-496c-8136-44db0391956d",
   "metadata": {},
   "outputs": [
    {
     "data": {
      "text/plain": [
       "Index(['blhori1', 'greegr', 'rerswa1', 'categr', 'blnmon1'], dtype='object')"
      ]
     },
     "execution_count": 56,
     "metadata": {},
     "output_type": "execute_result"
    }
   ],
   "source": [
    "robust_scores_diff.sort_values(ascending=False).head(5).index"
   ]
  },
  {
   "cell_type": "code",
   "execution_count": null,
   "id": "0e0fc42b-e6e1-43f9-b432-2daf97fa0cc4",
   "metadata": {},
   "outputs": [],
   "source": []
  }
 ],
 "metadata": {
  "kernelspec": {
   "display_name": "Python 3 (ipykernel)",
   "language": "python",
   "name": "python3"
  },
  "language_info": {
   "codemirror_mode": {
    "name": "ipython",
    "version": 3
   },
   "file_extension": ".py",
   "mimetype": "text/x-python",
   "name": "python",
   "nbconvert_exporter": "python",
   "pygments_lexer": "ipython3",
   "version": "3.11.6"
  }
 },
 "nbformat": 4,
 "nbformat_minor": 5
}
