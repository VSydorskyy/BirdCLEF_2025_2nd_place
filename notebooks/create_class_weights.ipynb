{
 "cells": [
  {
   "cell_type": "code",
   "execution_count": 1,
   "id": "8901bf13-68c9-4cdf-bf5e-ad22d616cd99",
   "metadata": {},
   "outputs": [
    {
     "name": "stderr",
     "output_type": "stream",
     "text": [
      "/backup/vova/src/exps/bird_clef_2024/.venv/lib/python3.11/site-packages/tqdm/auto.py:21: TqdmWarning: IProgress not found. Please update jupyter and ipywidgets. See https://ipywidgets.readthedocs.io/en/stable/user_install.html\n",
      "  from .autonotebook import tqdm as notebook_tqdm\n"
     ]
    }
   ],
   "source": [
    "import pandas as pd\n",
    "import numpy as np\n",
    "import librosa\n",
    "import seaborn as sns\n",
    "import os\n",
    "import json\n",
    "import IPython.display as ipd\n",
    "import soundfile as sf\n",
    "import math\n",
    "import h5py\n",
    "\n",
    "from glob import glob\n",
    "from tqdm import tqdm\n",
    "from matplotlib import pyplot as plt\n",
    "from itertools import chain\n",
    "from os.path import join as pjoin\n",
    "from shutil import copyfile\n",
    "from copy import deepcopy\n",
    "\n",
    "from code_base.utils import write_json, load_json"
   ]
  },
  {
   "cell_type": "markdown",
   "id": "bc4868f0-1aaa-459f-8ef2-1a48246095e6",
   "metadata": {},
   "source": [
    "# 2024 Scored Data DF"
   ]
  },
  {
   "cell_type": "code",
   "execution_count": 4,
   "id": "83ed162a-a2bb-448f-903d-a6b888d65bd2",
   "metadata": {},
   "outputs": [],
   "source": [
    "train_metadata = pd.read_csv(\"/home/vova/data/exps/birdclef_2024/birdclef_2024/train_metadata_extended_noduplv1.csv\", converters={\"secondary_labels\":eval, \"all_labels\": eval})\n",
    "train_metadata_prev_comp = pd.read_csv(\"/home/vova/data/exps/birdclef_2024/dfs/full_noduplsV3_scored_meta_prev_comps_extended_2024SecLabels.csv\", converters={\"secondary_labels\":eval, \"all_labels\": eval})\n",
    "train_metadata_xeno_canto = pd.read_csv(\"/home/vova/data/exps/birdclef_2024/xeno_canto/dataset_2024_classes/train_metadata_noduplV3_extended_2024SecLabels.csv\", converters={\"secondary_labels\":eval, \"all_labels\": eval})"
   ]
  },
  {
   "cell_type": "code",
   "execution_count": null,
   "id": "cef9ea82-d120-451e-86de-c7bea7d5b999",
   "metadata": {},
   "outputs": [],
   "source": [
    "scored_birds = load_json(\"/home/vova/data/exps/birdclef_2024/scored_birds/sb_2024.json\")"
   ]
  },
  {
   "cell_type": "code",
   "execution_count": null,
   "id": "65bebc08-f405-4b31-b225-7d6f99ea447b",
   "metadata": {},
   "outputs": [],
   "source": [
    "def extract_sampler_col(row, scored_birds_):\n",
    "    if row[\"primary_label\"] in scored_birds_:\n",
    "        return row[\"primary_label\"]\n",
    "    else:\n",
    "        return list(set(row[\"secondary_labels\"]) & set(scored_birds_))[0]"
   ]
  },
  {
   "cell_type": "code",
   "execution_count": null,
   "id": "79d3c005-b85a-4fa9-a558-b0379940c7d2",
   "metadata": {},
   "outputs": [],
   "source": [
    "train_metadata_prev_comp[\"stratify_col\"] = train_metadata_prev_comp.apply(\n",
    "    lambda row: extract_sampler_col(row, scored_birds),\n",
    "    axis=1\n",
    ")"
   ]
  },
  {
   "cell_type": "code",
   "execution_count": null,
   "id": "4432cba6-b4aa-4c37-b147-4e1483cfc266",
   "metadata": {},
   "outputs": [],
   "source": [
    "train_metadata[\"stratify_col\"] = train_metadata[\"primary_label\"]\n",
    "train_metadata_xeno_canto[\"stratify_col\"] = train_metadata_xeno_canto[\"primary_label\"]"
   ]
  },
  {
   "cell_type": "code",
   "execution_count": null,
   "id": "8dd186a6-e022-41f0-b0eb-646ae72c4990",
   "metadata": {},
   "outputs": [],
   "source": [
    "train_metadata_prev_comp[\"stratify_col\"].apply(lambda x: x in scored_birds).all()"
   ]
  },
  {
   "cell_type": "code",
   "execution_count": null,
   "id": "bc8536e7-203f-4097-bfd4-fb971c61414e",
   "metadata": {},
   "outputs": [],
   "source": [
    "# train_metadata_prev_comp.to_csv(\n",
    "#     \"/home/vova/data/exps/birdclef_2024/dfs/full_noduplsV2_scored_meta_prev_comps_extended.csv\",\n",
    "#     index=False\n",
    "# )"
   ]
  },
  {
   "cell_type": "code",
   "execution_count": null,
   "id": "50d652c7-9a53-4bca-8382-6d8767fe5109",
   "metadata": {},
   "outputs": [],
   "source": [
    "# train_metadata.to_csv(\n",
    "#     \"/home/vova/data/exps/birdclef_2024/birdclef_2024/train_metadata_extended.csv\",\n",
    "#     index=False\n",
    "# )"
   ]
  },
  {
   "cell_type": "code",
   "execution_count": null,
   "id": "92c70770-928b-4cdc-ad14-ed6e5a80a61d",
   "metadata": {},
   "outputs": [],
   "source": [
    "# train_metadata_xeno_canto.to_csv(\n",
    "#     \"/home/vova/data/exps/birdclef_2024/xeno_canto/dataset_2024_classes/train_metadata_nodupl_extended.csv\",\n",
    "#     index=False\n",
    "# )"
   ]
  },
  {
   "cell_type": "code",
   "execution_count": null,
   "id": "6f2beede-2f84-4bcb-988a-c95629a3949f",
   "metadata": {},
   "outputs": [],
   "source": [
    "all_labels = pd.concat([\n",
    "    train_metadata[\"primary_label\"], train_metadata_prev_comp[\"stratify_col\"], train_metadata_xeno_canto[\"primary_label\"]\n",
    "]).reset_index(drop=True)"
   ]
  },
  {
   "cell_type": "markdown",
   "id": "55ba2cbd-6497-4c40-a84d-f5c3e2c9cbef",
   "metadata": {},
   "source": [
    "## \"Power\" Balanced"
   ]
  },
  {
   "cell_type": "code",
   "execution_count": null,
   "id": "8599061b-d66e-4303-ae59-2ba34fe6e9de",
   "metadata": {},
   "outputs": [],
   "source": [
    "sample_weights = (all_labels.value_counts() / all_labels.value_counts().sum())  ** (-0.5)"
   ]
  },
  {
   "cell_type": "code",
   "execution_count": null,
   "id": "1dc5544e-dbc8-4a13-b002-7dae94d945e4",
   "metadata": {},
   "outputs": [],
   "source": [
    "sample_weights"
   ]
  },
  {
   "cell_type": "code",
   "execution_count": null,
   "id": "ddb7c7db-95d5-480d-8c8e-2d49a4cdf2e2",
   "metadata": {},
   "outputs": [],
   "source": [
    "write_json(\"/home/vova/data/exps/birdclef_2024/sample_weights/sw_2024_add_data_v1.json\", sample_weights.to_dict())"
   ]
  },
  {
   "cell_type": "markdown",
   "id": "455fa951-ffdf-4518-852c-c59e3189db1b",
   "metadata": {},
   "source": [
    "# Simple Balanced"
   ]
  },
  {
   "cell_type": "code",
   "execution_count": 6,
   "id": "e6826f85-0bab-44e1-a33a-44b4298d4483",
   "metadata": {},
   "outputs": [],
   "source": [
    "all_labels = pd.concat([\n",
    "    train_metadata[\"stratify_col\"], train_metadata_prev_comp[\"stratify_col\"], train_metadata_xeno_canto[\"stratify_col\"]\n",
    "]).reset_index(drop=True)"
   ]
  },
  {
   "cell_type": "code",
   "execution_count": 13,
   "id": "12a602d1-5712-4a1d-b1d0-f5d37525bfc8",
   "metadata": {},
   "outputs": [],
   "source": [
    "sample_weights = (all_labels.value_counts() / all_labels.value_counts().sum()) ** (-1)"
   ]
  },
  {
   "cell_type": "code",
   "execution_count": 14,
   "id": "24f19670-a602-4967-ab79-724c5c6b19e2",
   "metadata": {},
   "outputs": [
    {
     "data": {
      "text/plain": [
       "stratify_col\n",
       "houspa     2618\n",
       "eaywag1    2474\n",
       "commoo3    2256\n",
       "eurcoo     2157\n",
       "barswa     1753\n",
       "           ... \n",
       "integr       11\n",
       "blaeag1      11\n",
       "wbbfly1       9\n",
       "niwpig1       8\n",
       "asiope1       7\n",
       "Name: count, Length: 182, dtype: int64"
      ]
     },
     "execution_count": 14,
     "metadata": {},
     "output_type": "execute_result"
    }
   ],
   "source": [
    "all_labels.value_counts()"
   ]
  },
  {
   "cell_type": "code",
   "execution_count": 15,
   "id": "87f83d65-260c-4d2a-adf9-86dd3411c0eb",
   "metadata": {},
   "outputs": [
    {
     "data": {
      "text/plain": [
       "stratify_col\n",
       "houspa       18.695951\n",
       "eaywag1      19.784155\n",
       "commoo3      21.695922\n",
       "eurcoo       22.691701\n",
       "barswa       27.921278\n",
       "              ...     \n",
       "integr     4449.636364\n",
       "blaeag1    4449.636364\n",
       "wbbfly1    5438.444444\n",
       "niwpig1    6118.250000\n",
       "asiope1    6992.285714\n",
       "Name: count, Length: 182, dtype: float64"
      ]
     },
     "execution_count": 15,
     "metadata": {},
     "output_type": "execute_result"
    }
   ],
   "source": [
    "sample_weights"
   ]
  },
  {
   "cell_type": "code",
   "execution_count": 16,
   "id": "c91cf271-884b-41da-bc56-788caae8988c",
   "metadata": {},
   "outputs": [],
   "source": [
    "write_json(\"/home/vova/data/exps/birdclef_2024/sample_weights/sw_2024_add_data_v2_bal.json\", sample_weights.to_dict())"
   ]
  },
  {
   "cell_type": "markdown",
   "id": "fb3699b2-eda5-42c9-800c-2b6147a1326c",
   "metadata": {},
   "source": [
    "# 2024 + 2024 Scored from XC + Prev Comps"
   ]
  },
  {
   "cell_type": "code",
   "execution_count": 17,
   "id": "bc9bdc8d-7095-41f3-89c9-3cbd97c5fbc5",
   "metadata": {},
   "outputs": [
    {
     "name": "stderr",
     "output_type": "stream",
     "text": [
      "/tmp/ipykernel_1175714/1563590999.py:2: DtypeWarning: Columns (3,4) have mixed types. Specify dtype option on import or set low_memory=False.\n",
      "  train_metadata_prev_comp = pd.read_csv(\"/home/vova/data/exps/birdclef_2024/dfs/full_noduplsV2_meta_prev_comps_extended_pruned.csv\", converters={\"secondary_labels\":eval, \"all_labels\": eval})\n"
     ]
    }
   ],
   "source": [
    "train_metadata = pd.read_csv(\"/home/vova/data/exps/birdclef_2024/birdclef_2024/train_metadata_extended_noduplv1.csv\", converters={\"secondary_labels\":eval, \"all_labels\": eval})\n",
    "train_metadata_prev_comp = pd.read_csv(\"/home/vova/data/exps/birdclef_2024/dfs/full_noduplsV2_meta_prev_comps_extended_pruned.csv\", converters={\"secondary_labels\":eval, \"all_labels\": eval})\n",
    "train_metadata_xeno_canto = pd.read_csv(\"/home/vova/data/exps/birdclef_2024/xeno_canto/dataset_2024_classes/train_metadata_noduplV3_extended.csv\", converters={\"secondary_labels\":eval, \"all_labels\": eval})"
   ]
  },
  {
   "cell_type": "code",
   "execution_count": 18,
   "id": "96c9b3a8-f958-4b4c-aeb9-ef704617d013",
   "metadata": {},
   "outputs": [],
   "source": [
    "all_labels = pd.concat([\n",
    "    train_metadata[\"primary_label\"], train_metadata_prev_comp[\"primary_label\"], train_metadata_xeno_canto[\"primary_label\"]\n",
    "]).reset_index(drop=True)"
   ]
  },
  {
   "cell_type": "code",
   "execution_count": 19,
   "id": "c0b08472-3b62-47dd-aad1-809c3a2d4c2e",
   "metadata": {},
   "outputs": [],
   "source": [
    "sample_weights = (all_labels.value_counts() / all_labels.value_counts().sum())  ** (-0.5)"
   ]
  },
  {
   "cell_type": "code",
   "execution_count": 20,
   "id": "86373b0d-b244-46a2-bd5b-06742e925de8",
   "metadata": {},
   "outputs": [],
   "source": [
    "write_json(\"/home/vova/data/exps/birdclef_2024/sample_weights/sw_2024_PrevComp_v1.json\", sample_weights.to_dict())"
   ]
  },
  {
   "cell_type": "code",
   "execution_count": 21,
   "id": "e384c171-3e71-4c6f-9b5d-f4abac3584fc",
   "metadata": {},
   "outputs": [
    {
     "data": {
      "text/plain": [
       "primary_label\n",
       "houspa       7.334228\n",
       "eaywag1      7.546349\n",
       "commoo3      7.897756\n",
       "eurcoo       8.076965\n",
       "redcro       8.488328\n",
       "              ...    \n",
       "yebsto1    375.122647\n",
       "maupar     375.122647\n",
       "brtcha1    375.122647\n",
       "crefra2    375.122647\n",
       "lotcor1    375.122647\n",
       "Name: count, Length: 992, dtype: float64"
      ]
     },
     "execution_count": 21,
     "metadata": {},
     "output_type": "execute_result"
    }
   ],
   "source": [
    "sample_weights"
   ]
  },
  {
   "cell_type": "code",
   "execution_count": 23,
   "id": "1e9be376-777c-484b-b033-26d3184815cc",
   "metadata": {},
   "outputs": [
    {
     "data": {
      "text/plain": [
       "0"
      ]
     },
     "execution_count": 23,
     "metadata": {},
     "output_type": "execute_result"
    }
   ],
   "source": [
    "all_labels.isna().sum()"
   ]
  },
  {
   "cell_type": "code",
   "execution_count": null,
   "id": "5bb90de7-3d8d-4292-926e-a32552f57ec2",
   "metadata": {},
   "outputs": [],
   "source": []
  }
 ],
 "metadata": {
  "kernelspec": {
   "display_name": "Python 3 (ipykernel)",
   "language": "python",
   "name": "python3"
  },
  "language_info": {
   "codemirror_mode": {
    "name": "ipython",
    "version": 3
   },
   "file_extension": ".py",
   "mimetype": "text/x-python",
   "name": "python",
   "nbconvert_exporter": "python",
   "pygments_lexer": "ipython3",
   "version": "3.11.6"
  }
 },
 "nbformat": 4,
 "nbformat_minor": 5
}
