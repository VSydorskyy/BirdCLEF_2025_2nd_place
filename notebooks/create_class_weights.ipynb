{
 "cells": [
  {
   "cell_type": "code",
   "execution_count": 3,
   "id": "8901bf13-68c9-4cdf-bf5e-ad22d616cd99",
   "metadata": {},
   "outputs": [],
   "source": [
    "import pandas as pd\n",
    "import numpy as np\n",
    "import librosa\n",
    "import seaborn as sns\n",
    "import os\n",
    "import json\n",
    "import IPython.display as ipd\n",
    "import soundfile as sf\n",
    "import math\n",
    "import h5py\n",
    "\n",
    "from glob import glob\n",
    "from tqdm import tqdm\n",
    "from matplotlib import pyplot as plt\n",
    "from itertools import chain\n",
    "from os.path import join as pjoin\n",
    "from shutil import copyfile\n",
    "from copy import deepcopy\n",
    "\n",
    "from code_base.utils import write_json, load_json"
   ]
  },
  {
   "cell_type": "markdown",
   "id": "bc4868f0-1aaa-459f-8ef2-1a48246095e6",
   "metadata": {},
   "source": [
    "# 2024 Scored Data DF"
   ]
  },
  {
   "cell_type": "code",
   "execution_count": 2,
   "id": "83ed162a-a2bb-448f-903d-a6b888d65bd2",
   "metadata": {},
   "outputs": [],
   "source": [
    "train_metadata = pd.read_csv(\"/home/vova/data/exps/birdclef_2024/birdclef_2024/train_metadata_extended.csv\", converters={\"secondary_labels\":eval, \"all_labels\": eval})\n",
    "train_metadata_prev_comp = pd.read_csv(\"/home/vova/data/exps/birdclef_2024/dfs/full_noduplsV2_scored_meta_prev_comps_extended.csv\", converters={\"secondary_labels\":eval, \"all_labels\": eval})\n",
    "train_metadata_xeno_canto = pd.read_csv(\"/home/vova/data/exps/birdclef_2024/xeno_canto/dataset_2024_classes/train_metadata_nodupl_extended.csv\", converters={\"secondary_labels\":eval, \"all_labels\": eval})"
   ]
  },
  {
   "cell_type": "code",
   "execution_count": 4,
   "id": "cef9ea82-d120-451e-86de-c7bea7d5b999",
   "metadata": {},
   "outputs": [],
   "source": [
    "scored_birds = load_json(\"/home/vova/data/exps/birdclef_2024/scored_birds/sb_2024.json\")"
   ]
  },
  {
   "cell_type": "code",
   "execution_count": 9,
   "id": "65bebc08-f405-4b31-b225-7d6f99ea447b",
   "metadata": {},
   "outputs": [],
   "source": [
    "def extract_sampler_col(row, scored_birds_):\n",
    "    if row[\"primary_label\"] in scored_birds_:\n",
    "        return row[\"primary_label\"]\n",
    "    else:\n",
    "        return list(set(row[\"secondary_labels\"]) & set(scored_birds_))[0]"
   ]
  },
  {
   "cell_type": "code",
   "execution_count": 10,
   "id": "79d3c005-b85a-4fa9-a558-b0379940c7d2",
   "metadata": {},
   "outputs": [],
   "source": [
    "train_metadata_prev_comp[\"stratify_col\"] = train_metadata_prev_comp.apply(\n",
    "    lambda row: extract_sampler_col(row, scored_birds),\n",
    "    axis=1\n",
    ")"
   ]
  },
  {
   "cell_type": "code",
   "execution_count": 21,
   "id": "4432cba6-b4aa-4c37-b147-4e1483cfc266",
   "metadata": {},
   "outputs": [],
   "source": [
    "train_metadata[\"stratify_col\"] = train_metadata[\"primary_label\"]\n",
    "train_metadata_xeno_canto[\"stratify_col\"] = train_metadata_xeno_canto[\"primary_label\"]"
   ]
  },
  {
   "cell_type": "code",
   "execution_count": 13,
   "id": "8dd186a6-e022-41f0-b0eb-646ae72c4990",
   "metadata": {},
   "outputs": [
    {
     "data": {
      "text/plain": [
       "True"
      ]
     },
     "execution_count": 13,
     "metadata": {},
     "output_type": "execute_result"
    }
   ],
   "source": [
    "train_metadata_prev_comp[\"stratify_col\"].apply(lambda x: x in scored_birds).all()"
   ]
  },
  {
   "cell_type": "code",
   "execution_count": 15,
   "id": "bc8536e7-203f-4097-bfd4-fb971c61414e",
   "metadata": {},
   "outputs": [],
   "source": [
    "# train_metadata_prev_comp.to_csv(\n",
    "#     \"/home/vova/data/exps/birdclef_2024/dfs/full_noduplsV2_scored_meta_prev_comps_extended.csv\",\n",
    "#     index=False\n",
    "# )"
   ]
  },
  {
   "cell_type": "code",
   "execution_count": 22,
   "id": "50d652c7-9a53-4bca-8382-6d8767fe5109",
   "metadata": {},
   "outputs": [],
   "source": [
    "# train_metadata.to_csv(\n",
    "#     \"/home/vova/data/exps/birdclef_2024/birdclef_2024/train_metadata_extended.csv\",\n",
    "#     index=False\n",
    "# )"
   ]
  },
  {
   "cell_type": "code",
   "execution_count": 23,
   "id": "92c70770-928b-4cdc-ad14-ed6e5a80a61d",
   "metadata": {},
   "outputs": [],
   "source": [
    "# train_metadata_xeno_canto.to_csv(\n",
    "#     \"/home/vova/data/exps/birdclef_2024/xeno_canto/dataset_2024_classes/train_metadata_nodupl_extended.csv\",\n",
    "#     index=False\n",
    "# )"
   ]
  },
  {
   "cell_type": "code",
   "execution_count": 16,
   "id": "6f2beede-2f84-4bcb-988a-c95629a3949f",
   "metadata": {},
   "outputs": [],
   "source": [
    "all_labels = pd.concat([\n",
    "    train_metadata[\"primary_label\"], train_metadata_prev_comp[\"stratify_col\"], train_metadata_xeno_canto[\"primary_label\"]\n",
    "]).reset_index(drop=True)"
   ]
  },
  {
   "cell_type": "code",
   "execution_count": 17,
   "id": "8599061b-d66e-4303-ae59-2ba34fe6e9de",
   "metadata": {},
   "outputs": [],
   "source": [
    "sample_weights = (all_labels.value_counts() / all_labels.value_counts().sum())  ** (-0.5)"
   ]
  },
  {
   "cell_type": "code",
   "execution_count": 19,
   "id": "1dc5544e-dbc8-4a13-b002-7dae94d945e4",
   "metadata": {},
   "outputs": [
    {
     "data": {
      "text/plain": [
       "houspa      3.991019\n",
       "eaywag1     4.494504\n",
       "commoo3     4.715205\n",
       "eurcoo      4.822198\n",
       "barswa      5.140697\n",
       "             ...    \n",
       "integr     67.526426\n",
       "blaeag1    67.526426\n",
       "wbbfly1    74.653273\n",
       "niwpig1    79.181753\n",
       "asiope1    84.648855\n",
       "Name: count, Length: 182, dtype: float64"
      ]
     },
     "execution_count": 19,
     "metadata": {},
     "output_type": "execute_result"
    }
   ],
   "source": [
    "sample_weights"
   ]
  },
  {
   "cell_type": "code",
   "execution_count": 20,
   "id": "ddb7c7db-95d5-480d-8c8e-2d49a4cdf2e2",
   "metadata": {},
   "outputs": [],
   "source": [
    "write_json(\"/home/vova/data/exps/birdclef_2024/sample_weights/sw_2024_add_data_v1.json\", sample_weights.to_dict())"
   ]
  },
  {
   "cell_type": "code",
   "execution_count": null,
   "id": "bf5a70cc-bd92-4476-8b20-7717977525cc",
   "metadata": {},
   "outputs": [],
   "source": []
  }
 ],
 "metadata": {
  "kernelspec": {
   "display_name": "Python 3 (ipykernel)",
   "language": "python",
   "name": "python3"
  },
  "language_info": {
   "codemirror_mode": {
    "name": "ipython",
    "version": 3
   },
   "file_extension": ".py",
   "mimetype": "text/x-python",
   "name": "python",
   "nbconvert_exporter": "python",
   "pygments_lexer": "ipython3",
   "version": "3.11.6"
  }
 },
 "nbformat": 4,
 "nbformat_minor": 5
}
