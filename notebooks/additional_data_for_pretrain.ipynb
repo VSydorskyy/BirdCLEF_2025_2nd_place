{
 "cells": [
  {
   "cell_type": "code",
   "execution_count": null,
   "id": "56e4a56c-b4a6-4ffd-8148-097669a1a305",
   "metadata": {},
   "outputs": [],
   "source": [
    "import pandas as pd\n",
    "import numpy as np\n",
    "import librosa\n",
    "import seaborn as sns\n",
    "import os\n",
    "import json\n",
    "import IPython.display as ipd\n",
    "import soundfile as sf\n",
    "import math\n",
    "import torch\n",
    "import h5py\n",
    "import re\n",
    "from scipy.io import wavfile\n",
    "\n",
    "from glob import glob\n",
    "from tqdm import tqdm\n",
    "from matplotlib import pyplot as plt\n",
    "from itertools import chain\n",
    "from os.path import join as pjoin\n",
    "from shutil import copyfile\n",
    "from copy import deepcopy\n",
    "from itertools import chain\n",
    "from sklearn.model_selection import train_test_split\n",
    "from joblib import delayed\n",
    "\n",
    "from code_base.utils import write_json, load_json\n",
    "from code_base.utils.main_utils import ProgressParallel\n",
    "from code_base.utils.audio_utils import get_audio_metadata\n",
    "\n",
    "from code_base.utils import parallel_librosa_load\n",
    "%matplotlib inline"
   ]
  },
  {
   "cell_type": "code",
   "execution_count": null,
   "id": "31a317d8-c2c0-457d-93c0-ea1269ac108e",
   "metadata": {},
   "outputs": [],
   "source": [
    "def check_url_structure(input_df, with_xc=True):\n",
    "    if with_xc:\n",
    "        return (\n",
    "            input_df[\"url\"].apply(lambda x: x.split(\"/\")[-1]) == \n",
    "            input_df[\"filename\"].apply(lambda x: os.path.splitext(x.split(\"/\")[-1])[0][2:])\n",
    "        ).all()\n",
    "    else:\n",
    "        return (\n",
    "            input_df[\"url\"].apply(lambda x: x.split(\"/\")[-1]) == \n",
    "            input_df[\"filename\"].apply(lambda x: os.path.splitext(x.split(\"/\")[-1])[0])\n",
    "        ).all()\n",
    "\n",
    "def get_recording_id(fname):\n",
    "    fname_pp = os.path.splitext(os.path.basename(fname))[0]\n",
    "    for dataset_id in [\"XC\", \"CSA\", \"iNat\"]:\n",
    "        if fname_pp.startswith(dataset_id):\n",
    "            return int(fname_pp.replace(dataset_id, \"\"))\n",
    "    raise RuntimeError(f\"{fname} does not follow convention\")"
   ]
  },
  {
   "cell_type": "markdown",
   "id": "4fbcc5d4-b319-4883-979b-e2254c46a879",
   "metadata": {},
   "source": [
    "# 2025 Data"
   ]
  },
  {
   "cell_type": "code",
   "execution_count": null,
   "id": "5f440faa-5848-4852-983d-5fd54f08aee8",
   "metadata": {},
   "outputs": [],
   "source": [
    "eBird_Taxonomy_v2025 = pd.read_csv(\"/gpfs/space/projects/BetterMedicine/volodymyr1/exps/bird_clef_2025/birdclef_2025/taxonomy.csv\")\n",
    "sample_submission = pd.read_csv(\"/gpfs/space/projects/BetterMedicine/volodymyr1/exps/bird_clef_2025/birdclef_2025/sample_submission.csv\")\n",
    "train_metadata = pd.read_csv(\"/gpfs/space/projects/BetterMedicine/volodymyr1/exps/bird_clef_2025/birdclef_2025/train_extendedv1.csv\", converters={\"secondary_labels\":eval, \"all_labels\": eval})"
   ]
  },
  {
   "cell_type": "code",
   "execution_count": null,
   "id": "3bb31d2b-73a6-476e-9e12-a2587a9b4f0a",
   "metadata": {},
   "outputs": [],
   "source": [
    "train_metadata.loc[train_metadata[\"collection\"] == \"XC\", \"filename\"]"
   ]
  },
  {
   "cell_type": "code",
   "execution_count": null,
   "id": "30dfe396-0784-4b3d-b62e-cd82bd6ec62d",
   "metadata": {},
   "outputs": [],
   "source": [
    "scored_birds = set(sample_submission.columns[1:].tolist())"
   ]
  },
  {
   "cell_type": "code",
   "execution_count": null,
   "id": "b163261b-ff64-402e-8093-04095f3c0e12",
   "metadata": {},
   "outputs": [],
   "source": [
    "assert scored_birds == set(eBird_Taxonomy_v2025[\"primary_label\"])"
   ]
  },
  {
   "cell_type": "code",
   "execution_count": null,
   "id": "8a751855-6a7d-4512-afcf-5cd68fd00fc0",
   "metadata": {},
   "outputs": [],
   "source": [
    "check_url_structure(train_metadata[train_metadata[\"collection\"] == \"XC\"])"
   ]
  },
  {
   "cell_type": "code",
   "execution_count": null,
   "id": "13072a68-95b0-4d7f-a51a-aec7da381a25",
   "metadata": {},
   "outputs": [],
   "source": [
    "train_metadata[\"id\"] = train_metadata[\"filename\"].apply(get_recording_id)"
   ]
  },
  {
   "cell_type": "code",
   "execution_count": null,
   "id": "3dfb9420-edde-464d-b3a8-510f6a3ebd25",
   "metadata": {},
   "outputs": [],
   "source": [
    "train_metadata[\"dataset\"] = \"comp_2025\""
   ]
  },
  {
   "cell_type": "markdown",
   "id": "e4671737-76d2-41ec-b15b-c1942a8ae517",
   "metadata": {},
   "source": [
    "# 2024 Data"
   ]
  },
  {
   "cell_type": "code",
   "execution_count": null,
   "id": "b049f694-714a-498f-922a-b5f3c36b2f3e",
   "metadata": {},
   "outputs": [],
   "source": [
    "train_metadata = pd.read_csv(\"/gpfs/space/projects/BetterMedicine/volodymyr1/exps/bird_clef_2025/birdclef_2024/train_metadata.csv\", converters={\"secondary_labels\": eval, \"all_labels\": eval})"
   ]
  },
  {
   "cell_type": "code",
   "execution_count": null,
   "id": "e7f3812a-d0eb-472d-8d52-9a388014ca3b",
   "metadata": {},
   "outputs": [],
   "source": [
    "check_url_structure(train_metadata)"
   ]
  },
  {
   "cell_type": "code",
   "execution_count": null,
   "id": "df38c99e-8880-4993-a893-deeb83de42cb",
   "metadata": {},
   "outputs": [],
   "source": [
    "train_metadata[\"id\"] = train_metadata[\"filename\"].apply(get_recording_id)\n",
    "train_metadata[\"dataset\"] = \"comp_2024\""
   ]
  },
  {
   "cell_type": "markdown",
   "id": "988c0233-d11b-443c-be42-a93dffaca927",
   "metadata": {},
   "source": [
    "# 2023 Data"
   ]
  },
  {
   "cell_type": "code",
   "execution_count": null,
   "id": "afce25ed-7f54-4fb9-bc5f-53051e418bef",
   "metadata": {},
   "outputs": [],
   "source": [
    "train_metadata_2023 = pd.read_csv(\"/gpfs/space/projects/BetterMedicine/volodymyr1/exps/bird_clef_2025/birdclef_2023/train_metadata.csv\", converters={\"secondary_labels\": eval, \"all_labels\": eval})"
   ]
  },
  {
   "cell_type": "code",
   "execution_count": null,
   "id": "1dbf8d2e-78c9-495f-ab98-8adadb8ce9cf",
   "metadata": {},
   "outputs": [],
   "source": [
    "check_url_structure(train_metadata_2023)"
   ]
  },
  {
   "cell_type": "code",
   "execution_count": null,
   "id": "1e705516-3c74-4ab5-83a6-f8b7181c1712",
   "metadata": {},
   "outputs": [],
   "source": [
    "train_metadata_2023[\"id\"] = train_metadata_2023[\"filename\"].apply(get_recording_id)\n",
    "train_metadata_2023[\"dataset\"] = \"comp_2023\""
   ]
  },
  {
   "cell_type": "code",
   "execution_count": null,
   "id": "fe879509-ac0c-4086-9c7f-a9b5c567161c",
   "metadata": {},
   "outputs": [],
   "source": [
    "train_metadata_2023[\n",
    "   (~train_metadata_2023[\"id\"].isin(train_metadata[\"id\"]))\n",
    "]"
   ]
  },
  {
   "cell_type": "code",
   "execution_count": null,
   "id": "20c02ac1-2fdb-40e8-916c-802d6a077595",
   "metadata": {},
   "outputs": [],
   "source": [
    "train_metadata = pd.concat([\n",
    "    train_metadata,\n",
    "    train_metadata_2023[\n",
    "       (~train_metadata_2023[\"id\"].isin(train_metadata[\"id\"]))\n",
    "    ]\n",
    "]).reset_index(drop=True)"
   ]
  },
  {
   "cell_type": "code",
   "execution_count": null,
   "id": "a581b1e8-1a57-4e4c-8cff-95950ef6d760",
   "metadata": {},
   "outputs": [],
   "source": [
    "train_metadata.shape"
   ]
  },
  {
   "cell_type": "markdown",
   "id": "811b552f-1224-4a79-bcae-10b561faf587",
   "metadata": {},
   "source": [
    "# 2022 Data"
   ]
  },
  {
   "cell_type": "code",
   "execution_count": null,
   "id": "bcf48043-6637-443b-9b85-972b6014c292",
   "metadata": {},
   "outputs": [],
   "source": [
    "train_metadata_2022 = pd.read_csv(\"/gpfs/space/projects/BetterMedicine/volodymyr1/exps/bird_clef_2025/birdclef_2022/train_metadata.csv\", converters={\"secondary_labels\": eval, \"all_labels\": eval})"
   ]
  },
  {
   "cell_type": "code",
   "execution_count": null,
   "id": "2f65e9fc-b68e-4d9a-9e6b-3712c4387d1f",
   "metadata": {},
   "outputs": [],
   "source": [
    "check_url_structure(train_metadata_2022)"
   ]
  },
  {
   "cell_type": "code",
   "execution_count": null,
   "id": "9f1de89c-fb97-4ccb-8f13-5a684dcd2002",
   "metadata": {},
   "outputs": [],
   "source": [
    "train_metadata_2022[\"id\"] = train_metadata_2022[\"filename\"].apply(get_recording_id)\n",
    "train_metadata_2022[\"dataset\"] = \"comp_2022\""
   ]
  },
  {
   "cell_type": "code",
   "execution_count": null,
   "id": "4ea2f14b-53e4-4dce-a880-64d4e268a1b2",
   "metadata": {},
   "outputs": [],
   "source": [
    "train_metadata_2022[\n",
    "    (~train_metadata_2022[\"id\"].isin(train_metadata[\"id\"]))\n",
    "]"
   ]
  },
  {
   "cell_type": "code",
   "execution_count": null,
   "id": "9ae28b35-f242-455b-9f1d-4723fe997639",
   "metadata": {},
   "outputs": [],
   "source": [
    "train_metadata = pd.concat([\n",
    "    train_metadata,\n",
    "    train_metadata_2022[\n",
    "       (~train_metadata_2022[\"id\"].isin(train_metadata[\"id\"]))\n",
    "    ]\n",
    "]).reset_index(drop=True)"
   ]
  },
  {
   "cell_type": "code",
   "execution_count": null,
   "id": "022a1abd-426c-4023-8ae1-5fd449647ef5",
   "metadata": {},
   "outputs": [],
   "source": [
    "train_metadata.shape"
   ]
  },
  {
   "cell_type": "markdown",
   "id": "0c5fab66-5ba1-4eed-8457-354b849e4f86",
   "metadata": {},
   "source": [
    "# 2021 Data"
   ]
  },
  {
   "cell_type": "code",
   "execution_count": null,
   "id": "4cfe06cf-297d-4872-93b7-0e1c9f94f8e1",
   "metadata": {},
   "outputs": [],
   "source": [
    "train_metadata_2021 = pd.read_csv(\"/gpfs/space/projects/BetterMedicine/volodymyr1/exps/bird_clef_2025/birdclef_2021/train_metadata.csv\", converters={\"secondary_labels\": eval, \"all_labels\": eval})\n",
    "train_metadata_2021.secondary_labels = train_metadata_2021.secondary_labels.apply(lambda x: [\"rocpig\" if el == \"rocpig1\" else el for el in x])"
   ]
  },
  {
   "cell_type": "code",
   "execution_count": null,
   "id": "6f73d813-d505-4f16-9521-c49c0164d852",
   "metadata": {},
   "outputs": [],
   "source": [
    "train_metadata_2021"
   ]
  },
  {
   "cell_type": "code",
   "execution_count": null,
   "id": "66e9f735-2f19-4119-90d6-832c1b6c9924",
   "metadata": {},
   "outputs": [],
   "source": [
    "# Create filename\n",
    "train_metadata_2021[\"filename\"] = train_metadata_2021.apply(lambda x: pjoin(x[\"primary_label\"], x[\"filename\"]), axis=1)"
   ]
  },
  {
   "cell_type": "code",
   "execution_count": null,
   "id": "a7db3c79-fbfc-4328-a9b5-9aa322052836",
   "metadata": {},
   "outputs": [],
   "source": [
    "check_url_structure(train_metadata_2021)"
   ]
  },
  {
   "cell_type": "code",
   "execution_count": null,
   "id": "b758ec6a-6403-420c-ae46-c033864d64d2",
   "metadata": {},
   "outputs": [],
   "source": [
    "train_metadata_2021[\"id\"] = train_metadata_2021[\"filename\"].apply(get_recording_id)\n",
    "train_metadata_2021[\"dataset\"] = \"comp_2021\""
   ]
  },
  {
   "cell_type": "code",
   "execution_count": null,
   "id": "2270b5eb-3369-4bf7-8d09-95c4f721880f",
   "metadata": {},
   "outputs": [],
   "source": [
    "train_metadata_2021[\n",
    "   (~train_metadata_2021[\"id\"].isin(train_metadata[\"id\"]))\n",
    "]"
   ]
  },
  {
   "cell_type": "code",
   "execution_count": null,
   "id": "bd4dbb5f-0b6a-47f3-af04-a5261d7babe5",
   "metadata": {},
   "outputs": [],
   "source": [
    "train_metadata = pd.concat([\n",
    "    train_metadata,\n",
    "    train_metadata_2021[\n",
    "        (~train_metadata_2021[\"id\"].isin(train_metadata[\"id\"]))\n",
    "    ]\n",
    "]).reset_index(drop=True)"
   ]
  },
  {
   "cell_type": "code",
   "execution_count": null,
   "id": "ca8bd9a4-01b7-42f2-a0f6-30017d9ce0cd",
   "metadata": {},
   "outputs": [],
   "source": [
    "train_metadata.shape"
   ]
  },
  {
   "cell_type": "markdown",
   "id": "23998a65-ebd5-48cb-8bb0-0188d0108535",
   "metadata": {},
   "source": [
    "# 2020 Data"
   ]
  },
  {
   "cell_type": "code",
   "execution_count": null,
   "id": "1d32768d-6b1b-42ee-97fb-c99140383d7a",
   "metadata": {},
   "outputs": [],
   "source": [
    "train_2020 = pd.read_csv(\"/gpfs/space/projects/BetterMedicine/volodymyr1/exps/bird_clef_2025/birdclef_2020/train.csv\", converters={\"secondary_labels\": eval})\n",
    "\n",
    "train_xc_a_m_2020 = pd.read_csv(\"/gpfs/space/projects/BetterMedicine/volodymyr1/exps/bird_clef_2025/birdclef_2020_add_data/train_extended.csv\", converters={\"secondary_labels\": eval})"
   ]
  },
  {
   "cell_type": "code",
   "execution_count": null,
   "id": "771f6ab8-bc89-4173-96ff-07b73610f254",
   "metadata": {},
   "outputs": [],
   "source": [
    "(\n",
    "    len(glob(\"/gpfs/space/projects/BetterMedicine/volodymyr1/exps/bird_clef_2025/birdclef_2020_add_data/A-M/*/*.mp3\")) + \n",
    "    len(glob(\"/gpfs/space/projects/BetterMedicine/volodymyr1/exps/bird_clef_2025/birdclef_2020_add_data/N-Z/*/*.mp3\"))\n",
    ") == train_xc_a_m_2020.shape[0]"
   ]
  },
  {
   "cell_type": "code",
   "execution_count": null,
   "id": "f5943882-f0f4-425d-a92c-924dd2e9654e",
   "metadata": {},
   "outputs": [],
   "source": [
    "check_url_structure(train_2020)\n",
    "check_url_structure(train_xc_a_m_2020)"
   ]
  },
  {
   "cell_type": "code",
   "execution_count": null,
   "id": "1747865a-7c3a-4584-a17c-f078940552b4",
   "metadata": {},
   "outputs": [],
   "source": [
    "train_xc_a_m_2020[\"dataset\"] = None\n",
    "train_xc_a_m_2020.loc[\n",
    "    train_xc_a_m_2020[\"ebird_code\"].isin(os.listdir(\"/gpfs/space/projects/BetterMedicine/volodymyr1/exps/bird_clef_2025/birdclef_2020_add_data/A-M/\")),\n",
    "    \"dataset\"\n",
    "] = \"a_m_2020\"\n",
    "train_xc_a_m_2020.loc[\n",
    "    train_xc_a_m_2020[\"ebird_code\"].isin(os.listdir(\"/gpfs/space/projects/BetterMedicine/volodymyr1/exps/bird_clef_2025/birdclef_2020_add_data/N-Z/\")),\n",
    "    \"dataset\"\n",
    "] = \"n_z_2020\"\n",
    "train_xc_a_m_2020[\"dataset\"].isna().sum()"
   ]
  },
  {
   "cell_type": "code",
   "execution_count": null,
   "id": "9b8bab9d-d3cb-4944-9176-7275fa32cfd9",
   "metadata": {},
   "outputs": [],
   "source": [
    "train_2020[\"dataset\"] = \"comp_2020\"\n",
    "train_2020 = pd.concat([\n",
    "    train_2020, train_xc_a_m_2020\n",
    "])\n",
    "train_2020 = train_2020.drop_duplicates(\"url\").reset_index(drop=True)"
   ]
  },
  {
   "cell_type": "code",
   "execution_count": null,
   "id": "0e13036b-4345-44af-91a4-209bf7179da1",
   "metadata": {},
   "outputs": [],
   "source": [
    "# Rename to other years convention\n",
    "train_2020 = train_2020.rename(columns={\"sci_name\": \"scientific_name\", \"species\": \"common_name\"})\n",
    "# Transform secondary_labels\n",
    "ebird2name = train_2020.drop_duplicates(\"ebird_code\")[[\"ebird_code\", \"primary_label\"]].set_index(\"ebird_code\")[\"primary_label\"].to_dict()\n",
    "name2ebird = {v:k for k,v in ebird2name.items()}\n",
    "train_2020['secondary_labels'] = train_2020['secondary_labels'].apply(lambda x: [name2ebird[el] for el in x if el in name2ebird])\n",
    "# ebird_code to primary_label\n",
    "train_2020[\"primary_label\"] = train_2020[\"ebird_code\"]\n",
    "# Create filename\n",
    "train_2020[\"filename\"] = train_2020.apply(lambda x: pjoin(x[\"primary_label\"], x[\"filename\"]).replace(\".mp3\", \".ogg\"), axis=1)\n",
    "# Create ID\n",
    "train_2020[\"id\"] = train_2020[\"filename\"].apply(get_recording_id)"
   ]
  },
  {
   "cell_type": "code",
   "execution_count": null,
   "id": "c0b7736a-4405-4899-966a-28afc56b75b6",
   "metadata": {},
   "outputs": [],
   "source": [
    "train_2020[\n",
    "    (~train_2020[\"id\"].isin(train_metadata[\"id\"]))\n",
    "]"
   ]
  },
  {
   "cell_type": "code",
   "execution_count": null,
   "id": "f7258c4b-aeaf-4548-8371-8964b24a7413",
   "metadata": {},
   "outputs": [],
   "source": [
    "train_metadata = pd.concat([\n",
    "    train_metadata,\n",
    "    train_2020[\n",
    "        (~train_2020[\"id\"].isin(train_metadata[\"id\"]))\n",
    "    ]\n",
    "]).reset_index(drop=True)"
   ]
  },
  {
   "cell_type": "markdown",
   "id": "d139456d-2dd2-45c8-a6ab-c0d7fd8899db",
   "metadata": {},
   "source": [
    "# Prune Columns and Compute Stats"
   ]
  },
  {
   "cell_type": "code",
   "execution_count": null,
   "id": "2c27e52c-1d9e-4caa-a18b-6c2f812c5ad3",
   "metadata": {},
   "outputs": [],
   "source": [
    "main_train_df = pd.read_csv(\"/gpfs/space/projects/BetterMedicine/volodymyr1/exps/bird_clef_2025/birdclef_2025/train_and_prev_comps_extendedv1_pruneSL_XConly2025_snipet28032025_hdf5.csv\", converters={\"secondary_labels\":eval, \"all_labels\": eval})"
   ]
  },
  {
   "cell_type": "code",
   "execution_count": null,
   "id": "dbe7ca55-f104-4021-a236-2206533a6453",
   "metadata": {},
   "outputs": [],
   "source": [
    "print(f\"New columns: {set(train_metadata.columns) - set(main_train_df.columns)}\")"
   ]
  },
  {
   "cell_type": "code",
   "execution_count": null,
   "id": "3dfd3e66-c94e-485f-a19e-c49fc6110199",
   "metadata": {},
   "outputs": [],
   "source": [
    "train_metadata = train_metadata.drop(columns=[\n",
    "    'time', 'channels', 'recordist', 'ebird_code', \n",
    "    'background', 'elevation', 'title', 'volume', \n",
    "    'xc_id', 'number_of_notes', 'description', \n",
    "    'country', 'length', 'speed', 'location', \n",
    "    'bitrate_of_mp3', 'pitch', 'sampling_rate', \n",
    "    'duration', 'bird_seen', 'file_type', 'playback_used', 'date'\n",
    "])"
   ]
  },
  {
   "cell_type": "code",
   "execution_count": null,
   "id": "8e78fab0-d2e4-43bb-a57b-0095571279a5",
   "metadata": {},
   "outputs": [],
   "source": [
    "DATASET2ROOT = {\n",
    "    \"comp_2021\": \"/gpfs/space/projects/BetterMedicine/volodymyr1/exps/bird_clef_2025/birdclef_2021/train_short_audio/\",\n",
    "    \"comp_2022\": \"/gpfs/space/projects/BetterMedicine/volodymyr1/exps/bird_clef_2025/birdclef_2022/train_audio/\",\n",
    "    \"comp_2024\": \"/gpfs/space/projects/BetterMedicine/volodymyr1/exps/bird_clef_2025/birdclef_2024/train_audio/\",\n",
    "    \"comp_2023\": \"/gpfs/space/projects/BetterMedicine/volodymyr1/exps/bird_clef_2025/birdclef_2023/train_audio/\",\n",
    "    \"a_m_2020\": \"/gpfs/space/projects/BetterMedicine/volodymyr1/exps/bird_clef_2025/birdclef_2020_add_data/A-M/\",\n",
    "    \"n_z_2020\": \"/gpfs/space/projects/BetterMedicine/volodymyr1/exps/bird_clef_2025/birdclef_2020_add_data/N-Z/\",\n",
    "    \"comp_2020\": \"/gpfs/space/projects/BetterMedicine/volodymyr1/exps/bird_clef_2025/birdclef_2020/train_audio/\",\n",
    "}\n",
    "def get_add_data_fname(row):\n",
    "    fname = os.path.join(DATASET2ROOT[row[\"dataset\"]], row[\"filename\"])\n",
    "    if not os.path.exists(fname):\n",
    "        fname = fname.replace(\".ogg\", \".mp3\")\n",
    "    return fname"
   ]
  },
  {
   "cell_type": "code",
   "execution_count": null,
   "id": "513e788b-66e5-4de6-b04e-ee7ab349ccc7",
   "metadata": {},
   "outputs": [],
   "source": [
    "train_metadata = train_metadata[~train_metadata[\"id\"].isin(main_train_df[\"id\"])].reset_index(drop=True)"
   ]
  },
  {
   "cell_type": "code",
   "execution_count": null,
   "id": "aac3d502-69d9-4338-a2a8-0017449221ea",
   "metadata": {},
   "outputs": [],
   "source": [
    "for filename in tqdm(train_metadata.apply(get_add_data_fname, axis=1).to_list()):\n",
    "    shorten_filename = \"/\".join(filename.split(\"/\")[-2:])\n",
    "    destination_filename = os.path.join(\n",
    "        \"/gpfs/helios/home/volodymyr1/src/bird_clef_2025/data/pretrain_audio_from_prev_comps\",\n",
    "        shorten_filename\n",
    "    )\n",
    "    if not os.path.exists(os.path.dirname(destination_filename)):\n",
    "        os.makedirs(os.path.dirname(destination_filename))\n",
    "    copyfile(\n",
    "        filename,\n",
    "        destination_filename\n",
    "    )"
   ]
  },
  {
   "cell_type": "code",
   "execution_count": null,
   "id": "9e01bb48-119b-477f-b5aa-8aedabde5267",
   "metadata": {},
   "outputs": [],
   "source": [
    "train_metadata.loc[train_metadata[\"dataset\"].isin([\"a_m_2020\", \"comp_2020\"]), \"filename\"] = train_metadata.loc[\n",
    "    train_metadata[\"dataset\"].isin([\"a_m_2020\", \"comp_2020\"]), \"filename\"\n",
    "].apply(lambda x: x.replace(\".ogg\", \".mp3\"))"
   ]
  },
  {
   "cell_type": "code",
   "execution_count": null,
   "id": "eff6dadc-b5f8-4ffe-bb88-3a2d3a18fb4f",
   "metadata": {},
   "outputs": [],
   "source": [
    "train_metadata[\"data_root_id\"] = \"train_audio\"\n",
    "\n",
    "train_metadata.loc[train_metadata[\"dataset\"] != \"comp_2025\", \"data_root_id\"] = \"pretrain_audio_from_prev_comps\"\n",
    "\n",
    "train_metadata[\"data_root_id\"].value_counts()"
   ]
  },
  {
   "cell_type": "code",
   "execution_count": null,
   "id": "bd8bc560-fefc-45c9-be9e-6194aa8a519e",
   "metadata": {},
   "outputs": [],
   "source": [
    "def get_audio_metadata_with_diff_dtypes(input):\n",
    "    returned_meta = get_audio_metadata(input)\n",
    "    if returned_meta[\"sample_rate\"] is None:\n",
    "        returned_meta = get_audio_metadata(input.replace(\".ogg\", \".mp3\"))\n",
    "    return returned_meta\n",
    "\n",
    "add_audio_meta = pd.DataFrame(train_metadata[\"filename\"].apply(lambda x: get_audio_metadata_with_diff_dtypes(os.path.join(\n",
    "    \"/gpfs/helios/home/volodymyr1/src/bird_clef_2025/data/pretrain_audio_from_prev_comps\",\n",
    "    x\n",
    "))).to_list())"
   ]
  },
  {
   "cell_type": "code",
   "execution_count": null,
   "id": "a9423898-27f0-4bde-888a-555210f7f62d",
   "metadata": {},
   "outputs": [],
   "source": [
    "train_metadata = pd.concat([train_metadata, add_audio_meta], axis=1)\n",
    "\n",
    "print(\"Failed samples:\", train_metadata[\"sample_rate\"].isna().sum())\n",
    "\n",
    "train_metadata = train_metadata[~train_metadata[\"sample_rate\"].isna()].reset_index(drop=True)"
   ]
  },
  {
   "cell_type": "code",
   "execution_count": null,
   "id": "0a6598c1-81a4-494a-b547-6099366b779f",
   "metadata": {},
   "outputs": [],
   "source": [
    "train_metadata[\"collection\"] = \"XC\""
   ]
  },
  {
   "cell_type": "code",
   "execution_count": null,
   "id": "06e6343e-e436-4810-9cc2-0dd1ebd31a0c",
   "metadata": {},
   "outputs": [],
   "source": [
    "train_metadata[\"primary_label\"].value_counts()"
   ]
  },
  {
   "cell_type": "code",
   "execution_count": null,
   "id": "1a9b74aa-9eda-483b-a65f-a33b1e43437c",
   "metadata": {},
   "outputs": [],
   "source": [
    "train_metadata.shape"
   ]
  },
  {
   "cell_type": "code",
   "execution_count": null,
   "id": "bbed53e1-b0dd-4b1e-8dd6-8c49c9984cee",
   "metadata": {},
   "outputs": [],
   "source": [
    "train_metadata = train_metadata[\n",
    "    train_metadata[\"filename\"].apply(lambda x: os.path.join(\"../data/pretrain_features_from_prev_comps/\", os.path.splitext(x)[0] + \".hdf5\")).apply(os.path.exists)\n",
    "].reset_index(drop=True)"
   ]
  },
  {
   "cell_type": "code",
   "execution_count": null,
   "id": "d6f64fc7-d070-493d-9c8a-220f142a5140",
   "metadata": {},
   "outputs": [],
   "source": [
    "train_metadata.to_csv(\n",
    "    \"/gpfs/space/projects/BetterMedicine/volodymyr1/exps/bird_clef_2025/birdclef_2025/pretraintrain_prev_comps_extendedv1.csv\", index=False\n",
    ")"
   ]
  },
  {
   "cell_type": "markdown",
   "id": "39c93009-3332-4f6f-92cb-c7e77b8930f7",
   "metadata": {},
   "source": [
    "## Shorten pretrain without undersampled classes"
   ]
  },
  {
   "cell_type": "code",
   "execution_count": null,
   "id": "cbe01c81-f9ac-4faa-a9cf-e5da7c1efe00",
   "metadata": {},
   "outputs": [],
   "source": [
    "train_metadata = pd.read_csv(\n",
    "    \"/gpfs/space/projects/BetterMedicine/volodymyr1/exps/bird_clef_2025/birdclef_2025/pretraintrain_prev_comps_extendedv1.csv\", \n",
    "    converters={\"secondary_labels\":eval, \"all_labels\": eval}\n",
    ")"
   ]
  },
  {
   "cell_type": "code",
   "execution_count": null,
   "id": "1492bc1f-2fc8-4238-ab45-b33c6ed44f83",
   "metadata": {},
   "outputs": [],
   "source": [
    "train_metadata[\"all_labels\"] = train_metadata.apply(lambda row: [row[\"primary_label\"]] + row[\"secondary_labels\"], axis=1)"
   ]
  },
  {
   "cell_type": "code",
   "execution_count": null,
   "id": "42be362b-24b9-4cae-9fad-9a0d96e17d63",
   "metadata": {},
   "outputs": [],
   "source": [
    "pl_vc = pd.Series(list(chain(*train_metadata[\"all_labels\"]))).value_counts()\n",
    "selected_species = set(pl_vc[pl_vc > 10].index)\n",
    "\n",
    "print(f\"Selecting {len(selected_species)} out of {pl_vc.shape[0]}\")"
   ]
  },
  {
   "cell_type": "code",
   "execution_count": null,
   "id": "6109220b-ab5f-4610-8ada-685e2bcf6f1b",
   "metadata": {},
   "outputs": [],
   "source": [
    "train_metadata_shorten = train_metadata[train_metadata[\"primary_label\"].isin(selected_species)].reset_index(drop=True)\n",
    "\n",
    "print(f\"Selecting rows {train_metadata_shorten.shape[0]} out of {train_metadata.shape[0]}\")"
   ]
  },
  {
   "cell_type": "code",
   "execution_count": null,
   "id": "51db036d-98e6-4ac8-acf5-0f7f97900946",
   "metadata": {},
   "outputs": [],
   "source": [
    "train_metadata_shorten[\"secondary_labels\"] = train_metadata_shorten[\"secondary_labels\"].apply(lambda x: [el for el in x if el in selected_species]) \n",
    "train_metadata_shorten[\"all_labels\"] = train_metadata_shorten[\"all_labels\"].apply(lambda x: [el for el in x if el in selected_species]) "
   ]
  },
  {
   "cell_type": "code",
   "execution_count": null,
   "id": "f0769e17-0905-437e-af99-f9f4821f36b7",
   "metadata": {},
   "outputs": [],
   "source": [
    "assert set(chain(*train_metadata_shorten[\"all_labels\"])) == (set(chain(*train_metadata_shorten[\"secondary_labels\"])) | set(train_metadata_shorten[\"primary_label\"]))\n",
    "assert set(list(chain(*train_metadata_shorten[\"secondary_labels\"]))) <= selected_species"
   ]
  },
  {
   "cell_type": "code",
   "execution_count": null,
   "id": "72a95eca-9e75-4fc3-9403-817ced45b9a9",
   "metadata": {},
   "outputs": [],
   "source": [
    "train_metadata_shorten.to_csv(\n",
    "    \"/gpfs/space/projects/BetterMedicine/volodymyr1/exps/bird_clef_2025/birdclef_2025/pretraintrain_prev_comps_nosmall10sp_extendedv1.csv\", index=False\n",
    ")"
   ]
  },
  {
   "cell_type": "markdown",
   "id": "34267332-4677-49b9-b268-8231b8e2fa68",
   "metadata": {},
   "source": [
    "# Prune Additional labels"
   ]
  },
  {
   "cell_type": "code",
   "execution_count": null,
   "id": "dbbc1da8-dd66-4cf7-874c-363fa480498c",
   "metadata": {},
   "outputs": [],
   "source": [
    "train_metadata = pd.read_csv(\n",
    "    \"/gpfs/space/projects/BetterMedicine/volodymyr1/exps/bird_clef_2025/birdclef_2025/train_and_prev_comps_extendedv1.csv\",\n",
    "    converters={\"secondary_labels\":eval}\n",
    ")"
   ]
  },
  {
   "cell_type": "code",
   "execution_count": null,
   "id": "95312726-b462-45a6-b28b-b48bd7ad97a9",
   "metadata": {},
   "outputs": [],
   "source": [
    "sb_2025 = load_json(\n",
    "    \"/gpfs/space/projects/BetterMedicine/volodymyr1/exps/bird_clef_2025/birdclef_2025/sb_2025.json\"\n",
    ")"
   ]
  },
  {
   "cell_type": "code",
   "execution_count": null,
   "id": "4b1f1611-d11f-442f-a32f-f16c1035536b",
   "metadata": {},
   "outputs": [],
   "source": [
    "set([el for el in list(chain(*train_metadata[\"secondary_labels\"])) if el]) - set(sb_2025)"
   ]
  },
  {
   "cell_type": "code",
   "execution_count": null,
   "id": "1c49dbaa-be74-4eb6-8dc0-3b48883affcb",
   "metadata": {},
   "outputs": [],
   "source": [
    "train_metadata[\"secondary_labels\"] = train_metadata[\"secondary_labels\"].apply(\n",
    "    lambda x: [el for el in x if el in sb_2025]\n",
    ")"
   ]
  },
  {
   "cell_type": "code",
   "execution_count": null,
   "id": "2c8efe4d-0e6f-49e4-b40a-82d4b8bd0ec5",
   "metadata": {},
   "outputs": [],
   "source": [
    "set([el for el in list(chain(*train_metadata[\"secondary_labels\"])) if el]) - set(sb_2025)"
   ]
  },
  {
   "cell_type": "code",
   "execution_count": null,
   "id": "11fc7512-5fd5-474a-b085-14bd1e8808e5",
   "metadata": {},
   "outputs": [],
   "source": [
    "train_metadata.to_csv(\n",
    "    \"/gpfs/space/projects/BetterMedicine/volodymyr1/exps/bird_clef_2025/birdclef_2025/train_and_prev_comps_extendedv1_pruneSL.csv\", index=False\n",
    ")"
   ]
  },
  {
   "cell_type": "code",
   "execution_count": null,
   "id": "85b59de3-ec17-4902-abac-0e324f899331",
   "metadata": {},
   "outputs": [],
   "source": []
  }
 ],
 "metadata": {
  "kernelspec": {
   "display_name": "Python 3 (ipykernel)",
   "language": "python",
   "name": "python3"
  },
  "language_info": {
   "codemirror_mode": {
    "name": "ipython",
    "version": 3
   },
   "file_extension": ".py",
   "mimetype": "text/x-python",
   "name": "python",
   "nbconvert_exporter": "python",
   "pygments_lexer": "ipython3",
   "version": "3.11.1"
  }
 },
 "nbformat": 4,
 "nbformat_minor": 5
}
