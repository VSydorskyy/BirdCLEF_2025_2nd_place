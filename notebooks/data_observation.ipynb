{
 "cells": [
  {
   "cell_type": "code",
   "execution_count": 1,
   "id": "7482afbd-a9cd-4d9d-b26f-82dc1dc56264",
   "metadata": {},
   "outputs": [
    {
     "name": "stderr",
     "output_type": "stream",
     "text": [
      "/backup/vova/src/exps/bird_clef_2024/.venv/lib/python3.11/site-packages/tqdm/auto.py:21: TqdmWarning: IProgress not found. Please update jupyter and ipywidgets. See https://ipywidgets.readthedocs.io/en/stable/user_install.html\n",
      "  from .autonotebook import tqdm as notebook_tqdm\n"
     ]
    },
    {
     "name": "stdout",
     "output_type": "stream",
     "text": [
      "`speechbrain` was not imported\n",
      "`LEAF` was not imported\n"
     ]
    },
    {
     "name": "stderr",
     "output_type": "stream",
     "text": [
      "/backup/vova/src/exps/bird_clef_2024/.venv/lib/python3.11/site-packages/nnAudio/Spectrogram.py:4: Warning: importing Spectrogram subpackage will be deprecated soon. You should import the feature extractor from the feature subpackage. See actual documentation.\n",
      "  warnings.warn(\n"
     ]
    }
   ],
   "source": [
    "import pandas as pd\n",
    "import numpy as np\n",
    "import librosa\n",
    "import seaborn as sns\n",
    "import os\n",
    "import json\n",
    "import IPython.display as ipd\n",
    "import soundfile as sf\n",
    "import math\n",
    "import h5py\n",
    "\n",
    "from glob import glob\n",
    "from tqdm import tqdm\n",
    "from matplotlib import pyplot as plt\n",
    "from itertools import chain\n",
    "from os.path import join as pjoin\n",
    "from shutil import copyfile\n",
    "from copy import deepcopy\n",
    "\n",
    "from code_base.utils import parallel_librosa_load, write_json, load_json\n",
    "from code_base.models.blocks import TraceableMelspec\n",
    "%matplotlib inline"
   ]
  },
  {
   "cell_type": "markdown",
   "id": "ff9f1390-8172-46b0-9b41-e9e0b49934ff",
   "metadata": {},
   "source": [
    "# Input Data"
   ]
  },
  {
   "cell_type": "code",
   "execution_count": null,
   "id": "99a05575-f9c8-40e1-bad8-04cf5d886e07",
   "metadata": {},
   "outputs": [],
   "source": [
    "glob(\"/home/vova/data/exps/birdclef_2024/birdclef_2024/*\")"
   ]
  },
  {
   "cell_type": "code",
   "execution_count": null,
   "id": "94b2b452-7715-4cb5-8fd0-cc90ce8b1c7f",
   "metadata": {},
   "outputs": [],
   "source": [
    "eBird_Taxonomy_v2021 = pd.read_csv(\"/home/vova/data/exps/birdclef_2024/birdclef_2024/eBird_Taxonomy_v2021.csv\")\n",
    "sample_submission = pd.read_csv(\"/home/vova/data/exps/birdclef_2024/birdclef_2024/sample_submission.csv\")\n",
    "train_metadata = pd.read_csv(\"/home/vova/data/exps/birdclef_2024/birdclef_2024/train_metadata_extended.csv\", converters={\"secondary_labels\":eval, \"all_labels\": eval})"
   ]
  },
  {
   "cell_type": "code",
   "execution_count": null,
   "id": "2b5849a4-dabe-4a6a-9eec-ada87887531e",
   "metadata": {},
   "outputs": [],
   "source": [
    "train_metadata.head()"
   ]
  },
  {
   "cell_type": "code",
   "execution_count": null,
   "id": "57a7281b-4554-457d-b520-e5ad50bff9df",
   "metadata": {},
   "outputs": [],
   "source": [
    "eBird_Taxonomy_v2021.head()"
   ]
  },
  {
   "cell_type": "code",
   "execution_count": null,
   "id": "746bcd22-29b9-449b-a166-be390fbe4e5b",
   "metadata": {},
   "outputs": [],
   "source": [
    "scored_birds = sample_submission.columns[1:]\n",
    "len(scored_birds)"
   ]
  },
  {
   "cell_type": "code",
   "execution_count": null,
   "id": "ba6f253f-3f10-49f8-87e2-cc008729f0cc",
   "metadata": {},
   "outputs": [],
   "source": [
    "train_metadata[\"primary_label\"].isin(scored_birds).sum() / train_metadata.shape[0]"
   ]
  },
  {
   "cell_type": "code",
   "execution_count": null,
   "id": "00d5d15c-52f1-42ac-b23d-73357131f686",
   "metadata": {},
   "outputs": [],
   "source": [
    "train_metadata[\"primary_label\"].value_counts()"
   ]
  },
  {
   "cell_type": "code",
   "execution_count": null,
   "id": "32954268-603b-42e0-a701-c17e3a16c82c",
   "metadata": {},
   "outputs": [],
   "source": [
    "train_metadata"
   ]
  },
  {
   "cell_type": "code",
   "execution_count": null,
   "id": "6b9730d1-dcc3-413d-9939-46d4728a47ca",
   "metadata": {},
   "outputs": [],
   "source": [
    "sample_submission"
   ]
  },
  {
   "cell_type": "code",
   "execution_count": null,
   "id": "84e9c1fb-6c0f-4213-8c82-36022a5e1902",
   "metadata": {},
   "outputs": [],
   "source": [
    "glob(\"/home/vova/data/exps/birdclef_2024/birdclef_2024/test_soundscapes/*\")"
   ]
  },
  {
   "cell_type": "code",
   "execution_count": null,
   "id": "3ab7782c-76e8-4508-8135-bcd7efd09396",
   "metadata": {},
   "outputs": [],
   "source": [
    "train_metadata.columns"
   ]
  },
  {
   "cell_type": "code",
   "execution_count": null,
   "id": "003e8923-834d-46cd-b283-0f43237009e4",
   "metadata": {
    "scrolled": true
   },
   "outputs": [],
   "source": [
    "(set(train_metadata[\"primary_label\"]) | set(chain(*train_metadata[\"secondary_labels\"]))) - set(scored_birds)"
   ]
  },
  {
   "cell_type": "code",
   "execution_count": null,
   "id": "60464734-108a-4f2c-809b-a34c5c636caf",
   "metadata": {
    "scrolled": true
   },
   "outputs": [],
   "source": [
    "set(scored_birds)"
   ]
  },
  {
   "cell_type": "code",
   "execution_count": null,
   "id": "afeceeda-430d-42ac-8c98-3fc74e8c657c",
   "metadata": {},
   "outputs": [],
   "source": [
    "write_json(\n",
    "    \"/home/vova/data/exps/birdclef_2024/scored_birds/sb_2024.json\",\n",
    "    scored_birds.to_list()\n",
    ")"
   ]
  },
  {
   "cell_type": "markdown",
   "id": "d88f7a91-ce7c-4bde-b194-b2b1f276b137",
   "metadata": {},
   "source": [
    "# Dataset Description\n",
    "\n",
    "Your challenge in this competition is to identify which birds are calling in recordings made in a Global Biodiversity Hotspot in the Western Ghats. This is an important task for scientists who monitor bird populations for conservation purposes. More accurate solutions could enable more comprehensive monitoring.\n",
    "\n",
    "This competition uses a hidden test set. When your submitted notebook is scored, the actual test data will be made available to your notebook.\n",
    "\n",
    "# Files\n",
    "\n",
    "**train_audio/** The training data consists of short recordings of individual bird calls generously uploaded by users of xenocanto.org. These files have been downsampled to 32 kHz where applicable to match the test set audio and converted to the ogg format. The training data should have nearly all relevant files; we expect there is no benefit to looking for more on xenocanto.org and appreciate your cooperation in limiting the burden on their servers.\n",
    "\n",
    "**test_soundscapes/** When you submit a notebook, the test_soundscapes directory will be populated with approximately 1,100 recordings to be used for scoring. They are 4 minutes long and in ogg audio format. The file names are randomized but have the general form of soundscape_xxxxxx.ogg. It should take your submission notebook approximately five minutes to load all of the test soundscapes.\n",
    "\n",
    "**unlabeled_soundscapes/** Unlabeled audio data from the same recording locations as the test soundscapes.\n",
    "\n",
    "**train_metadata.csv** A wide range of metadata is provided for the training data. The most directly relevant fields are:\n",
    "\n",
    "- `primary_label` - a code for the bird species. You can review detailed information about the bird codes by appending the code to `https://ebird.org/species/`, such as `https://ebird.org/species/amecro` for the American Crow. Not all species have their own pages; some links will fail.\n",
    "- `latitude & longitude`: coordinates for where the recording was taken. Some bird species may have local call 'dialects,' so you may want to seek geographic diversity in your training data.\n",
    "- `author` - The user who provided the recording.\n",
    "- `filename`: the name of the associated audio file.\n",
    "\n",
    "**sample_submission.csv** A valid sample submission.\n",
    "\n",
    "- `row_id`: A slug of `soundscape_[soundscape_id]_[end_time]` for the prediction.\n",
    "- `[bird_id]`: There are 182 bird ID columns. You will need to predict the probability of the presence of each bird for each row.\n",
    "\n",
    "**eBird_Taxonomy_v2021.csv** - Data on the relationships between different species."
   ]
  },
  {
   "cell_type": "markdown",
   "id": "0d30652e-0ec1-49b0-9f67-96f0036f861e",
   "metadata": {},
   "source": [
    "# Fix Duplicates"
   ]
  },
  {
   "cell_type": "code",
   "execution_count": 2,
   "id": "8d7c9c98-c58d-43d4-a4ca-9576917df935",
   "metadata": {},
   "outputs": [],
   "source": [
    "def plot_n_spectograms_with_librosa(\n",
    "    pathes,\n",
    "    sr: int,\n",
    "    n_mels: int,\n",
    "    fmin: int,\n",
    "    fmax: int,\n",
    "    hop_length: int,\n",
    "    n_fft: int,\n",
    "    n_cols: int = 5,\n",
    "    figsize: tuple = (5, 5),\n",
    "    save_path: str = None,\n",
    "):\n",
    "    \"\"\"\n",
    "    Plot n spectograms from df using librosa\n",
    "    \"\"\"\n",
    "    import librosa\n",
    "    import librosa.display\n",
    "\n",
    "    fig, axs = plt.subplots(\n",
    "        len(pathes), 1, figsize=figsize, sharex=True, sharey=True\n",
    "    )\n",
    "    axs = axs.flatten()\n",
    "    for i, path in enumerate(pathes):\n",
    "        y, sr = librosa.load(f\"/home/vova/data/exps/birdclef_2024/birdclef_2024/train_audio/{path}\", sr=sr)\n",
    "        D = librosa.amplitude_to_db(np.abs(librosa.stft(y, hop_length=hop_length)),ref=np.max)\n",
    "        librosa.display.specshow(D, sr=sr, hop_length=hop_length,x_axis='time', ax=axs[i])\n",
    "    plt.tight_layout()\n",
    "    if save_path:\n",
    "        plt.savefig(save_path)\n",
    "    plt.show()"
   ]
  },
  {
   "cell_type": "code",
   "execution_count": null,
   "id": "caf5cf08-dbd2-4623-8f60-6387782be043",
   "metadata": {},
   "outputs": [],
   "source": [
    "train_metadata = pd.read_csv(\"/home/vova/data/exps/birdclef_2024/birdclef_2024/train_metadata_extended.csv\")\n",
    "train_metadata.head()"
   ]
  },
  {
   "cell_type": "code",
   "execution_count": 3,
   "id": "0def3148-2c33-4142-bf1a-fcee1c286526",
   "metadata": {},
   "outputs": [],
   "source": [
    "def merge_duplicates(full_df, dupl_idxs, with_labels_merge=True):\n",
    "    if len(dupl_idxs) > 2 and with_labels_merge:\n",
    "        raise ValueError(\"Can not handle more than 2 dupls\")\n",
    "    dupl_df = full_df.loc[dupl_idxs]\n",
    "    if with_labels_merge:\n",
    "        dupl_df[\"all_labels\"] = dupl_df[\"all_labels\"].apply(eval)\n",
    "        if set(dupl_df[\"all_labels\"].iloc[0]) != set(dupl_df[\"all_labels\"].iloc[1]):\n",
    "            dupl_df = dupl_df.sort_values(\"rating\", ascending=False)\n",
    "            full_df.loc[dupl_df.index[0], \"secondary_labels\"] = repr(list(set(\n",
    "                eval(full_df.loc[dupl_df.index[0], \"secondary_labels\"]) +\n",
    "                [full_df.loc[dupl_df.index[1], \"primary_label\"]] +\n",
    "                eval(full_df.loc[dupl_df.index[1], \"secondary_labels\"])\n",
    "            )))\n",
    "            full_df.loc[dupl_df.index[0], \"all_labels\"] = repr(list(set(\n",
    "                eval(full_df.loc[dupl_df.index[0], \"all_labels\"]) + eval(full_df.loc[dupl_df.index[1], \"all_labels\"])\n",
    "            )))\n",
    "\n",
    "        full_df = full_df.drop(index=[dupl_df.index[-1]])\n",
    "    else:\n",
    "        full_df = full_df.drop(index=dupl_df.index[1:])\n",
    "    return full_df"
   ]
  },
  {
   "cell_type": "code",
   "execution_count": null,
   "id": "e6d0026a-2e40-46e7-b221-5e0fc8a63030",
   "metadata": {},
   "outputs": [],
   "source": [
    "train_metadata[\"id\"] = train_metadata[\"url\"].apply(lambda x: x.split(\"/\")[-1])"
   ]
  },
  {
   "cell_type": "code",
   "execution_count": null,
   "id": "90ef4fd9-8886-4267-9003-81005adb946e",
   "metadata": {},
   "outputs": [],
   "source": [
    "id_vc = train_metadata[\"id\"].value_counts()"
   ]
  },
  {
   "cell_type": "code",
   "execution_count": null,
   "id": "e0af80fc-582c-40e3-87ac-82c98367222a",
   "metadata": {},
   "outputs": [],
   "source": [
    "duplicated_id = id_vc[id_vc > 1].index"
   ]
  },
  {
   "cell_type": "code",
   "execution_count": null,
   "id": "5f28339c-82d7-4e86-8aeb-6745420664af",
   "metadata": {},
   "outputs": [],
   "source": [
    "for dupl_id in duplicated_id:\n",
    "    print(\"\\n\\n\\nBefore\\n\\n\\n\")\n",
    "    print(train_metadata.loc[train_metadata[\"id\"] == dupl_id, [\"primary_label\", \"secondary_labels\", \"latitude\", \"longitude\", \"duration_s\", \"all_labels\"]])\n",
    "    train_metadata = merge_duplicates(train_metadata, train_metadata[train_metadata[\"id\"] == dupl_id].index)\n",
    "    print(\"\\n\\n\\nAfter\\n\\n\\n\")\n",
    "    print(train_metadata.loc[train_metadata[\"id\"] == dupl_id, [\"primary_label\", \"secondary_labels\", \"latitude\", \"longitude\", \"duration_s\", \"all_labels\"]])"
   ]
  },
  {
   "cell_type": "code",
   "execution_count": null,
   "id": "1c7f89f2-93b4-4e6b-96e0-97ad053d9c49",
   "metadata": {},
   "outputs": [],
   "source": [
    "train_metadata[\"id\"].value_counts()"
   ]
  },
  {
   "cell_type": "code",
   "execution_count": null,
   "id": "bf5c0f5e-9b1a-4bc5-ab16-57baf6182cc5",
   "metadata": {},
   "outputs": [],
   "source": [
    "train_metadata = train_metadata.reset_index(drop=True)"
   ]
  },
  {
   "cell_type": "code",
   "execution_count": null,
   "id": "1feddc7d-d037-40b9-b2e2-0befc9f2e8b8",
   "metadata": {},
   "outputs": [],
   "source": [
    "my_duplicates = train_metadata.groupby([\"duration_s\", \"author\", \"primary_label\"])[\"filename\"].apply(list).to_list()\n",
    "my_duplicates = [el for el in my_duplicates if len(el) > 1]\n",
    "len(my_duplicates)"
   ]
  },
  {
   "cell_type": "code",
   "execution_count": null,
   "id": "e9040343-db8e-474f-9371-88c7c9d58ac7",
   "metadata": {},
   "outputs": [],
   "source": [
    "my_duplicates[187]"
   ]
  },
  {
   "cell_type": "code",
   "execution_count": null,
   "id": "5d15bf96-b555-4cb6-8fdb-42ea870cb2b1",
   "metadata": {
    "tags": []
   },
   "outputs": [],
   "source": [
    "for idx, dupl in enumerate(my_duplicates):\n",
    "    print(f\"Duplicate ID: {idx}\")\n",
    "    plot_n_spectograms_with_librosa(\n",
    "        dupl,\n",
    "        sr=None,\n",
    "        n_mels=129,\n",
    "        fmin=20,\n",
    "        fmax=None,\n",
    "        hop_length=512,\n",
    "        n_fft=1024,\n",
    "    )"
   ]
  },
  {
   "cell_type": "code",
   "execution_count": null,
   "id": "96eb6868-802d-4758-aad7-72cb91b9f54b",
   "metadata": {},
   "outputs": [],
   "source": [
    "my_vis_dupl_indices = [\n",
    "    0, 4, 6, 11, 14, 25, 27, 30, 31, 34, 37, 39, 40, 46, 52, 54, 58, 62, 63, 72, 77, 79, \n",
    "    81, 82, 85, 87, 90, 91, 92, 94, 95, 96, 101, 102, 103, 104, 105, 108, 111, 112, 114, \n",
    "    115, 116, 119, 120, 121, 124, 125, 126, 127, 128, 130, 133, 135, 136, 144, 147, 149, \n",
    "    151, 152, 154, 156, 157, 158, 159, 161, 162, 163, 165, 166, 167, 168, 169, 170, 171, \n",
    "    173, 175, 176, 178, 179, 180, 181, 182, 183, 184, 185, 187\n",
    "]\n",
    "my_duplicates_vis = [my_duplicates[idx] for idx in my_vis_dupl_indices]\n",
    "my_duplicates_vis = [el for el in my_duplicates_vis if len(el) ==2]"
   ]
  },
  {
   "cell_type": "code",
   "execution_count": null,
   "id": "edb991f3-2bba-4104-80e6-22ec90057940",
   "metadata": {},
   "outputs": [],
   "source": [
    "len(my_duplicates_vis)"
   ]
  },
  {
   "cell_type": "code",
   "execution_count": null,
   "id": "3b9cb88f-9fba-4c77-bd83-68bfd07a7de8",
   "metadata": {
    "scrolled": true
   },
   "outputs": [],
   "source": [
    "for idx, dupl in enumerate(my_duplicates_vis):\n",
    "    print(f\"Duplicate ID: {idx}\")\n",
    "    plot_n_spectograms_with_librosa(\n",
    "        dupl,\n",
    "        sr=None,\n",
    "        n_mels=129,\n",
    "        fmin=20,\n",
    "        fmax=None,\n",
    "        hop_length=512,\n",
    "        n_fft=1024,\n",
    "    )"
   ]
  },
  {
   "cell_type": "code",
   "execution_count": null,
   "id": "c3e2f741-a2f4-4d8a-9e32-5b283d40657b",
   "metadata": {},
   "outputs": [],
   "source": [
    "train_metadata.loc[train_metadata[\"filename\"].isin(my_duplicates_vis[0]), [\"primary_label\", \"secondary_labels\", \"latitude\", \"longitude\", \"duration_s\", \"all_labels\"]]"
   ]
  },
  {
   "cell_type": "code",
   "execution_count": null,
   "id": "c7947e84-ad56-43ad-8c76-ee6e91ff2c64",
   "metadata": {},
   "outputs": [],
   "source": [
    "for dupl_fnames in my_duplicates_vis:\n",
    "    print(\"\\n\\n\\nBefore\\n\\n\\n\")\n",
    "    print(train_metadata.loc[train_metadata[\"filename\"].isin(dupl_fnames), [\"primary_label\", \"secondary_labels\", \"latitude\", \"longitude\", \"duration_s\", \"all_labels\"]])\n",
    "    train_metadata = merge_duplicates(train_metadata, train_metadata[train_metadata[\"filename\"].isin(dupl_fnames)].index)\n",
    "    print(\"\\n\\n\\nAfter\\n\\n\\n\")\n",
    "    print(train_metadata.loc[train_metadata[\"filename\"].isin(dupl_fnames), [\"primary_label\", \"secondary_labels\", \"latitude\", \"longitude\", \"duration_s\", \"all_labels\"]])"
   ]
  },
  {
   "cell_type": "code",
   "execution_count": null,
   "id": "6ddd6832-55b9-426f-b96e-044d5e8a5f1b",
   "metadata": {},
   "outputs": [],
   "source": [
    "train_metadata.head()"
   ]
  },
  {
   "cell_type": "code",
   "execution_count": null,
   "id": "bc599649-63f5-4b7d-92c8-3e25fe8e0efb",
   "metadata": {},
   "outputs": [],
   "source": [
    "orig_train_metadata = pd.read_csv(\n",
    "    \"/home/vova/data/exps/birdclef_2024/birdclef_2024/train_metadata_extended.csv\"\n",
    ")"
   ]
  },
  {
   "cell_type": "code",
   "execution_count": null,
   "id": "bd7e5a06-e7d1-4ab4-bba7-fc10b88af0cf",
   "metadata": {},
   "outputs": [],
   "source": [
    "orig_train_metadata.shape[0] - train_metadata.shape[0]"
   ]
  },
  {
   "cell_type": "code",
   "execution_count": null,
   "id": "bce023a3-a4d6-4fb1-90ac-55c98cadeb5f",
   "metadata": {},
   "outputs": [],
   "source": [
    "train_metadata[\"primary_label\"].value_counts()"
   ]
  },
  {
   "cell_type": "code",
   "execution_count": null,
   "id": "c5a8258e-c0db-41a2-94f0-b48ac98f78f9",
   "metadata": {},
   "outputs": [],
   "source": [
    "train_metadata.to_csv(\"/home/vova/data/exps/birdclef_2024/birdclef_2024/train_metadata_extended_noduplv1.csv\", index=False)"
   ]
  },
  {
   "cell_type": "code",
   "execution_count": 11,
   "id": "dc2f0323-b7ba-4d01-9e84-914b1f092c16",
   "metadata": {},
   "outputs": [
    {
     "name": "stderr",
     "output_type": "stream",
     "text": [
      "/tmp/ipykernel_2127945/2733893673.py:3: DtypeWarning: Columns (1,7) have mixed types. Specify dtype option on import or set low_memory=False.\n",
      "  add_data_prev_comp = pd.read_csv(\"/home/vova/data/exps/birdclef_2024/dfs/full_noduplsV2_meta_prev_comps_extended.csv\")\n"
     ]
    }
   ],
   "source": [
    "train_metadata = pd.read_csv(\"/home/vova/data/exps/birdclef_2024/birdclef_2024/train_metadata_extended_noduplv1.csv\")\n",
    "\n",
    "add_data_prev_comp = pd.read_csv(\"/home/vova/data/exps/birdclef_2024/dfs/full_noduplsV2_meta_prev_comps_extended.csv\")\n",
    "\n",
    "add_data_xc = pd.read_csv(\"/home/vova/data/exps/birdclef_2024/xeno_canto/dataset_2024_classes/train_metadata_noduplV3_extended.csv\")\n",
    "\n",
    "# merged = pd.concat([train_metadata, add_data_prev_comp, add_data_xc]).reset_index(drop=True)\n",
    "merged = pd.concat([train_metadata, add_data_xc, add_data_prev_comp]).reset_index(drop=True)"
   ]
  },
  {
   "cell_type": "code",
   "execution_count": 12,
   "id": "b86bf310-992e-4f06-ab8c-8e556f2adfbb",
   "metadata": {},
   "outputs": [
    {
     "data": {
      "text/plain": [
       "url\n",
       "590213    2\n",
       "316684    2\n",
       "134896    1\n",
       "498913    1\n",
       "481601    1\n",
       "         ..\n",
       "192549    1\n",
       "192547    1\n",
       "191394    1\n",
       "191025    1\n",
       "177143    1\n",
       "Name: count, Length: 141094, dtype: int64"
      ]
     },
     "execution_count": 12,
     "metadata": {},
     "output_type": "execute_result"
    }
   ],
   "source": [
    "merged[\"url\"].apply(lambda x: x.split(\"/\")[-1]).value_counts()"
   ]
  },
  {
   "cell_type": "code",
   "execution_count": 13,
   "id": "cb701973-9eef-41ed-9adf-b4190f149f29",
   "metadata": {},
   "outputs": [],
   "source": [
    "dupls = merged.groupby([\"duration_s\", \"author\", \"primary_label\", \"latitude\", \"longitude\"])[\"filename\"].apply(list).to_list()\n",
    "dupls = [el for el in dupls if len(el) > 1]"
   ]
  },
  {
   "cell_type": "code",
   "execution_count": 14,
   "id": "4cc6ba4b-fc4b-4b31-9ac7-452d23bc07de",
   "metadata": {},
   "outputs": [
    {
     "data": {
      "text/plain": [
       "539"
      ]
     },
     "execution_count": 14,
     "metadata": {},
     "output_type": "execute_result"
    }
   ],
   "source": [
    "len(dupls)"
   ]
  },
  {
   "cell_type": "code",
   "execution_count": 15,
   "id": "b1c68d85-f3a6-4c1c-ba46-20f126ee87ac",
   "metadata": {},
   "outputs": [
    {
     "data": {
      "text/plain": [
       "481"
      ]
     },
     "execution_count": 15,
     "metadata": {},
     "output_type": "execute_result"
    }
   ],
   "source": [
    "train_metadat_fnames_set = set(train_metadata[\"filename\"])\n",
    "dupls = [el for el in dupls if not all(sub_el in train_metadat_fnames_set for sub_el in el)]\n",
    "len(dupls)"
   ]
  },
  {
   "cell_type": "code",
   "execution_count": 16,
   "id": "1675515d-9ca5-4b64-b212-42bfd8917840",
   "metadata": {},
   "outputs": [
    {
     "data": {
      "text/html": [
       "<div>\n",
       "<style scoped>\n",
       "    .dataframe tbody tr th:only-of-type {\n",
       "        vertical-align: middle;\n",
       "    }\n",
       "\n",
       "    .dataframe tbody tr th {\n",
       "        vertical-align: top;\n",
       "    }\n",
       "\n",
       "    .dataframe thead th {\n",
       "        text-align: right;\n",
       "    }\n",
       "</style>\n",
       "<table border=\"1\" class=\"dataframe\">\n",
       "  <thead>\n",
       "    <tr style=\"text-align: right;\">\n",
       "      <th></th>\n",
       "      <th>primary_label</th>\n",
       "      <th>secondary_labels</th>\n",
       "      <th>type</th>\n",
       "      <th>latitude</th>\n",
       "      <th>longitude</th>\n",
       "      <th>scientific_name</th>\n",
       "      <th>common_name</th>\n",
       "      <th>author</th>\n",
       "      <th>license</th>\n",
       "      <th>rating</th>\n",
       "      <th>...</th>\n",
       "      <th>id</th>\n",
       "      <th>gen</th>\n",
       "      <th>sp</th>\n",
       "      <th>file-name</th>\n",
       "      <th>time</th>\n",
       "      <th>also</th>\n",
       "      <th>foldername</th>\n",
       "      <th>dataset</th>\n",
       "      <th>sample_rate</th>\n",
       "      <th>au_len</th>\n",
       "    </tr>\n",
       "  </thead>\n",
       "  <tbody>\n",
       "    <tr>\n",
       "      <th>51777</th>\n",
       "      <td>eubeat1</td>\n",
       "      <td>['cohmar1']</td>\n",
       "      <td>['call', 'female', 'flight call', 'male']</td>\n",
       "      <td>37.3823</td>\n",
       "      <td>-6.1363</td>\n",
       "      <td>Merops apiaster</td>\n",
       "      <td>European Bee-eater</td>\n",
       "      <td>José Carlos Sires</td>\n",
       "      <td>Creative Commons Attribution-NonCommercial-Sha...</td>\n",
       "      <td>4.5</td>\n",
       "      <td>...</td>\n",
       "      <td>NaN</td>\n",
       "      <td>NaN</td>\n",
       "      <td>NaN</td>\n",
       "      <td>NaN</td>\n",
       "      <td>NaN</td>\n",
       "      <td>NaN</td>\n",
       "      <td>NaN</td>\n",
       "      <td>comp_2023</td>\n",
       "      <td>32000.0</td>\n",
       "      <td>27943079.0</td>\n",
       "    </tr>\n",
       "    <tr>\n",
       "      <th>51779</th>\n",
       "      <td>eubeat1</td>\n",
       "      <td>['cohmar1']</td>\n",
       "      <td>['call', 'female', 'flight call', 'male']</td>\n",
       "      <td>37.3823</td>\n",
       "      <td>-6.1363</td>\n",
       "      <td>Merops apiaster</td>\n",
       "      <td>European Bee-eater</td>\n",
       "      <td>José Carlos Sires</td>\n",
       "      <td>Creative Commons Attribution-NonCommercial-Sha...</td>\n",
       "      <td>0.0</td>\n",
       "      <td>...</td>\n",
       "      <td>NaN</td>\n",
       "      <td>NaN</td>\n",
       "      <td>NaN</td>\n",
       "      <td>NaN</td>\n",
       "      <td>NaN</td>\n",
       "      <td>NaN</td>\n",
       "      <td>NaN</td>\n",
       "      <td>comp_2023</td>\n",
       "      <td>32000.0</td>\n",
       "      <td>27943079.0</td>\n",
       "    </tr>\n",
       "  </tbody>\n",
       "</table>\n",
       "<p>2 rows × 25 columns</p>\n",
       "</div>"
      ],
      "text/plain": [
       "      primary_label secondary_labels  \\\n",
       "51777       eubeat1      ['cohmar1']   \n",
       "51779       eubeat1      ['cohmar1']   \n",
       "\n",
       "                                            type latitude longitude  \\\n",
       "51777  ['call', 'female', 'flight call', 'male']  37.3823   -6.1363   \n",
       "51779  ['call', 'female', 'flight call', 'male']  37.3823   -6.1363   \n",
       "\n",
       "       scientific_name         common_name             author  \\\n",
       "51777  Merops apiaster  European Bee-eater  José Carlos Sires   \n",
       "51779  Merops apiaster  European Bee-eater  José Carlos Sires   \n",
       "\n",
       "                                                 license  rating  ...  id  \\\n",
       "51777  Creative Commons Attribution-NonCommercial-Sha...     4.5  ... NaN   \n",
       "51779  Creative Commons Attribution-NonCommercial-Sha...     0.0  ... NaN   \n",
       "\n",
       "       gen   sp file-name time  also foldername    dataset sample_rate  \\\n",
       "51777  NaN  NaN       NaN  NaN   NaN        NaN  comp_2023     32000.0   \n",
       "51779  NaN  NaN       NaN  NaN   NaN        NaN  comp_2023     32000.0   \n",
       "\n",
       "           au_len  \n",
       "51777  27943079.0  \n",
       "51779  27943079.0  \n",
       "\n",
       "[2 rows x 25 columns]"
      ]
     },
     "execution_count": 16,
     "metadata": {},
     "output_type": "execute_result"
    }
   ],
   "source": [
    "merged[merged[\"filename\"].isin(dupls[-1])]"
   ]
  },
  {
   "cell_type": "code",
   "execution_count": 17,
   "id": "355f2408-b818-4dad-9bf3-bc5100a94d61",
   "metadata": {},
   "outputs": [],
   "source": [
    "for dupl_fnames in dupls:\n",
    "    merged = merge_duplicates(merged, merged[merged[\"filename\"].isin(dupl_fnames)].index, with_labels_merge=False)\n"
   ]
  },
  {
   "cell_type": "code",
   "execution_count": 18,
   "id": "210c5cb8-384f-4c86-bfff-61b6a3728560",
   "metadata": {},
   "outputs": [
    {
     "data": {
      "text/html": [
       "<div>\n",
       "<style scoped>\n",
       "    .dataframe tbody tr th:only-of-type {\n",
       "        vertical-align: middle;\n",
       "    }\n",
       "\n",
       "    .dataframe tbody tr th {\n",
       "        vertical-align: top;\n",
       "    }\n",
       "\n",
       "    .dataframe thead th {\n",
       "        text-align: right;\n",
       "    }\n",
       "</style>\n",
       "<table border=\"1\" class=\"dataframe\">\n",
       "  <thead>\n",
       "    <tr style=\"text-align: right;\">\n",
       "      <th></th>\n",
       "      <th>primary_label</th>\n",
       "      <th>secondary_labels</th>\n",
       "      <th>type</th>\n",
       "      <th>latitude</th>\n",
       "      <th>longitude</th>\n",
       "      <th>scientific_name</th>\n",
       "      <th>common_name</th>\n",
       "      <th>author</th>\n",
       "      <th>license</th>\n",
       "      <th>rating</th>\n",
       "      <th>...</th>\n",
       "      <th>id</th>\n",
       "      <th>gen</th>\n",
       "      <th>sp</th>\n",
       "      <th>file-name</th>\n",
       "      <th>time</th>\n",
       "      <th>also</th>\n",
       "      <th>foldername</th>\n",
       "      <th>dataset</th>\n",
       "      <th>sample_rate</th>\n",
       "      <th>au_len</th>\n",
       "    </tr>\n",
       "  </thead>\n",
       "  <tbody>\n",
       "    <tr>\n",
       "      <th>51777</th>\n",
       "      <td>eubeat1</td>\n",
       "      <td>['cohmar1']</td>\n",
       "      <td>['call', 'female', 'flight call', 'male']</td>\n",
       "      <td>37.3823</td>\n",
       "      <td>-6.1363</td>\n",
       "      <td>Merops apiaster</td>\n",
       "      <td>European Bee-eater</td>\n",
       "      <td>José Carlos Sires</td>\n",
       "      <td>Creative Commons Attribution-NonCommercial-Sha...</td>\n",
       "      <td>4.5</td>\n",
       "      <td>...</td>\n",
       "      <td>NaN</td>\n",
       "      <td>NaN</td>\n",
       "      <td>NaN</td>\n",
       "      <td>NaN</td>\n",
       "      <td>NaN</td>\n",
       "      <td>NaN</td>\n",
       "      <td>NaN</td>\n",
       "      <td>comp_2023</td>\n",
       "      <td>32000.0</td>\n",
       "      <td>27943079.0</td>\n",
       "    </tr>\n",
       "  </tbody>\n",
       "</table>\n",
       "<p>1 rows × 25 columns</p>\n",
       "</div>"
      ],
      "text/plain": [
       "      primary_label secondary_labels  \\\n",
       "51777       eubeat1      ['cohmar1']   \n",
       "\n",
       "                                            type latitude longitude  \\\n",
       "51777  ['call', 'female', 'flight call', 'male']  37.3823   -6.1363   \n",
       "\n",
       "       scientific_name         common_name             author  \\\n",
       "51777  Merops apiaster  European Bee-eater  José Carlos Sires   \n",
       "\n",
       "                                                 license  rating  ...  id  \\\n",
       "51777  Creative Commons Attribution-NonCommercial-Sha...     4.5  ... NaN   \n",
       "\n",
       "       gen   sp file-name time  also foldername    dataset sample_rate  \\\n",
       "51777  NaN  NaN       NaN  NaN   NaN        NaN  comp_2023     32000.0   \n",
       "\n",
       "           au_len  \n",
       "51777  27943079.0  \n",
       "\n",
       "[1 rows x 25 columns]"
      ]
     },
     "execution_count": 18,
     "metadata": {},
     "output_type": "execute_result"
    }
   ],
   "source": [
    "merged[merged[\"filename\"].isin(dupls[-1])]"
   ]
  },
  {
   "cell_type": "code",
   "execution_count": 19,
   "id": "6697fdcf-8796-45da-9348-6f10b110fc11",
   "metadata": {},
   "outputs": [],
   "source": [
    "merged = merged.reset_index(drop=True)"
   ]
  },
  {
   "cell_type": "code",
   "execution_count": 20,
   "id": "1eed1b3f-340a-4e5f-86bc-25179e11af6c",
   "metadata": {},
   "outputs": [
    {
     "data": {
      "text/plain": [
       "{'xc_2024_classes'}"
      ]
     },
     "execution_count": 20,
     "metadata": {},
     "output_type": "execute_result"
    }
   ],
   "source": [
    "set(add_data_xc[\"dataset\"])"
   ]
  },
  {
   "cell_type": "code",
   "execution_count": 21,
   "id": "908dd122-f7af-460a-b95a-d95a343fbb08",
   "metadata": {},
   "outputs": [],
   "source": [
    "new_train_metadata = merged[merged[\"dataset\"].isna()].reset_index(drop=True)\n",
    "\n",
    "new_add_data_prev_comp = merged[(merged[\"dataset\"] != \"xc_2024_classes\") & (~merged[\"dataset\"].isna())].reset_index(drop=True)\n",
    "\n",
    "new_add_data_xc = merged[merged[\"dataset\"] == \"xc_2024_classes\"].reset_index(drop=True)"
   ]
  },
  {
   "cell_type": "code",
   "execution_count": 22,
   "id": "21c10f98-6666-4bb8-8fb7-41e514a10777",
   "metadata": {},
   "outputs": [
    {
     "data": {
      "text/plain": [
       "(-2, -376, -137)"
      ]
     },
     "execution_count": 22,
     "metadata": {},
     "output_type": "execute_result"
    }
   ],
   "source": [
    "new_train_metadata.shape[0] - train_metadata.shape[0], new_add_data_prev_comp.shape[0] - add_data_prev_comp.shape[0], new_add_data_xc.shape[0] - add_data_xc.shape[0]"
   ]
  },
  {
   "cell_type": "code",
   "execution_count": 31,
   "id": "8db62b7d-d631-4165-8f61-61f19cacd330",
   "metadata": {},
   "outputs": [],
   "source": [
    "new_add_data_prev_comp = new_add_data_prev_comp[~new_add_data_prev_comp[\"url\"].apply(lambda x: x.split(\"/\")[-1]).isin([\"590213\", \"316684\"])].reset_index(drop=True)"
   ]
  },
  {
   "cell_type": "code",
   "execution_count": 32,
   "id": "aeba0d36-623a-4432-ba49-107932654c11",
   "metadata": {},
   "outputs": [],
   "source": [
    "new_add_data_prev_comp.to_csv(\"/home/vova/data/exps/birdclef_2024/dfs/full_noduplsV2_meta_prev_comps_extended_pruned.csv\", index=False)\n",
    "# add_data_xc.to_csv(\"/home/vova/data/exps/birdclef_2024/xeno_canto/dataset_2024_classes/train_metadata_noduplV3_extended.csv\", index=False)"
   ]
  },
  {
   "cell_type": "markdown",
   "id": "99f51fc5-9531-4eb9-a13d-3a2e4f2ba727",
   "metadata": {},
   "source": [
    "# Handling one sample classes"
   ]
  },
  {
   "cell_type": "code",
   "execution_count": null,
   "id": "a859364e-bd24-4f47-b3fb-abee1963b813",
   "metadata": {},
   "outputs": [],
   "source": [
    "def add_postfix(input, postfix):\n",
    "    base, ext = os.path.splitext(input)\n",
    "    return base + postfix + ext"
   ]
  },
  {
   "cell_type": "code",
   "execution_count": null,
   "id": "a596f2b5-7b0b-4bea-9ce5-f5a9d973112f",
   "metadata": {},
   "outputs": [],
   "source": [
    "one_sample_classes = train_metadata_nodupl[\"primary_label\"].value_counts().iloc[-7:].index"
   ]
  },
  {
   "cell_type": "code",
   "execution_count": null,
   "id": "f0175288-df3a-4f3a-a797-b7b7017403ed",
   "metadata": {},
   "outputs": [],
   "source": [
    "one_sample_df = train_metadata_nodupl[train_metadata_nodupl[\"primary_label\"].isin(one_sample_classes)].reset_index(drop=True)\n",
    "\n",
    "one_sample_df_1 = one_sample_df.copy()\n",
    "one_sample_df_2 = one_sample_df.copy()\n",
    "\n",
    "one_sample_df_1[\"filename\"] = one_sample_df_1[\"filename\"].apply(lambda x: add_postfix(x, \"_1\"))\n",
    "one_sample_df_2[\"filename\"] = one_sample_df_2[\"filename\"].apply(lambda x: add_postfix(x, \"_2\"))\n",
    "\n",
    "one_sample_df_ext = pd.concat([one_sample_df_1, one_sample_df_2])"
   ]
  },
  {
   "cell_type": "code",
   "execution_count": null,
   "id": "1662c1c3-6477-426e-b68e-64777c07f7d2",
   "metadata": {},
   "outputs": [],
   "source": [
    "one_sample_df_ext[\"filename\"].apply(lambda x: os.path.join(\"/home/vova/data/exps/BirdCLEF_2023/birdclef_2023/train_audio/\", x)).to_list()"
   ]
  },
  {
   "cell_type": "code",
   "execution_count": null,
   "id": "45b30355-7425-4736-971a-cfcc2916794d",
   "metadata": {},
   "outputs": [],
   "source": [
    "train_audio_samples = parallel_librosa_load(\n",
    "    one_sample_df_ext[\"filename\"].apply(lambda x: os.path.join(\"/home/vova/data/exps/BirdCLEF_2023/birdclef_2023/train_audio/\", x)).to_list(), \n",
    "    return_sr=False, \n",
    "    sr=None\n",
    ")\n",
    "sample_rates = parallel_librosa_load(\n",
    "    one_sample_df_ext[\"filename\"].apply(lambda x: os.path.join(\"/home/vova/data/exps/BirdCLEF_2023/birdclef_2023/train_audio/\", x)).to_list(), \n",
    "    return_audio=False, \n",
    "    sr=None\n",
    ")"
   ]
  },
  {
   "cell_type": "code",
   "execution_count": null,
   "id": "13f807f7-f0b3-420d-b8c0-2323f01265cd",
   "metadata": {},
   "outputs": [],
   "source": [
    "one_sample_df_ext[\"duration_s\"] = [len(au_) / sr_ for au_, sr_ in zip(train_audio_samples, sample_rates)]"
   ]
  },
  {
   "cell_type": "code",
   "execution_count": null,
   "id": "4a62d7b5-3fc0-4764-87b2-dc4d8b8851f8",
   "metadata": {},
   "outputs": [],
   "source": [
    "train_metadata_nodupl_split_1sample = train_metadata_nodupl.copy()\n",
    "train_metadata_nodupl_split_1sample = train_metadata_nodupl_split_1sample[~train_metadata_nodupl_split_1sample[\"primary_label\"].isin(one_sample_classes)].reset_index(drop=True)\n",
    "train_metadata_nodupl_split_1sample = pd.concat([train_metadata_nodupl_split_1sample, one_sample_df_ext]).reset_index(drop=True)"
   ]
  },
  {
   "cell_type": "code",
   "execution_count": null,
   "id": "83d5ce70-1329-4ab3-a833-efa50bd35cfc",
   "metadata": {},
   "outputs": [],
   "source": [
    "add_data = pd.read_csv(\"/home/vova/data/exps/BirdCLEF_2023/train_metadata_extended_2020_2022_no2023_scored.csv\", converters={\"all_labels\": eval})"
   ]
  },
  {
   "cell_type": "code",
   "execution_count": null,
   "id": "d1fb9a1e-d1a6-4e56-9cb9-2dc9890017bc",
   "metadata": {},
   "outputs": [],
   "source": [
    "train_metadata_nodupl.loc[\n",
    "    train_metadata_nodupl[\"primary_label\"].isin(set(list(chain(*add_data[\"all_labels\"].to_list())))), \n",
    "    \"primary_label\"\n",
    "].value_counts()"
   ]
  },
  {
   "cell_type": "code",
   "execution_count": null,
   "id": "5b39f8c2-b9a8-40d9-a020-46298ff8ec61",
   "metadata": {},
   "outputs": [],
   "source": [
    "train_metadata_nodupl_split_1sample.to_csv(\"/home/vova/data/exps/BirdCLEF_2023/birdclef_2023/train_metadata_extended_nodupl_v1_1SampleSplitV1.csv\", index=False)"
   ]
  },
  {
   "cell_type": "code",
   "execution_count": null,
   "id": "d86f6164-2f5a-4835-b5e1-987e3c1c7a88",
   "metadata": {},
   "outputs": [],
   "source": [
    "train_metadata_nodupl_split_1sample[\"primary_label\"].value_counts()"
   ]
  },
  {
   "cell_type": "markdown",
   "id": "117ce58d-2a00-403f-af89-70b801fe6cd5",
   "metadata": {},
   "source": [
    "# Check 2 Previous steps"
   ]
  },
  {
   "cell_type": "code",
   "execution_count": null,
   "id": "67dc7f73-ddf8-44c8-a6b6-1f91a54b62eb",
   "metadata": {},
   "outputs": [],
   "source": [
    "new_df = pd.read_csv(\"/home/vova/data/exps/BirdCLEF_2023/birdclef_2023/train_metadata_extended_nodupl_v1_1SampleSplitV1.csv\")\n",
    "old_df = pd.read_csv(\"/home/vova/data/exps/BirdCLEF_2023/birdclef_2023/train_metadata_extended.csv\")"
   ]
  },
  {
   "cell_type": "code",
   "execution_count": null,
   "id": "47388b97-12e8-45c9-9a98-7c02eb76d343",
   "metadata": {},
   "outputs": [],
   "source": [
    "duplicates = load_json(\"/home/vova/data/exps/BirdCLEF_2023/birdclef_2023/duplicates_v1.json\")"
   ]
  },
  {
   "cell_type": "markdown",
   "id": "6852ce8f-913f-4913-aea4-25697b6a08bf",
   "metadata": {},
   "source": [
    "# Test Audio Data"
   ]
  },
  {
   "cell_type": "code",
   "execution_count": null,
   "id": "8f698c39-80ff-4b1b-9692-457ea4030499",
   "metadata": {},
   "outputs": [],
   "source": [
    "ipd.Audio(\"/home/vova/data/exps/BirdCLEF_2023/birdclef_2023/test_soundscapes/soundscape_29201.ogg\")"
   ]
  },
  {
   "cell_type": "code",
   "execution_count": null,
   "id": "1cf70e5b-57c7-46ed-bcf1-99768d0cefa0",
   "metadata": {},
   "outputs": [],
   "source": [
    "test_au, test_sr = librosa.load(\"/home/vova/data/exps/BirdCLEF_2023/birdclef_2023/test_soundscapes/soundscape_29201.ogg\", sr=None)"
   ]
  },
  {
   "cell_type": "code",
   "execution_count": null,
   "id": "6a5cb675-9c23-42f9-bddf-a4662acb4b43",
   "metadata": {},
   "outputs": [],
   "source": [
    "len(test_au) / test_sr, test_sr"
   ]
  },
  {
   "cell_type": "markdown",
   "id": "323d67cf-a25e-4b2c-b0aa-e05336241473",
   "metadata": {},
   "source": [
    "# Train Audio "
   ]
  },
  {
   "cell_type": "code",
   "execution_count": null,
   "id": "68096fd0-87ff-4d4d-8e84-1b8a8a5cea58",
   "metadata": {},
   "outputs": [],
   "source": [
    "train_samples = glob(\"/home/vova/data/exps/birdclef_2024/birdclef_2024/train_audio/*/*.ogg\", recursive=True)"
   ]
  },
  {
   "cell_type": "code",
   "execution_count": null,
   "id": "7fcbbb9b-9124-479e-a8e7-a7dfee44ebca",
   "metadata": {},
   "outputs": [],
   "source": [
    "sample_rates = parallel_librosa_load(\n",
    "    train_samples, \n",
    "    return_audio=False, \n",
    "    sr=None\n",
    ")"
   ]
  },
  {
   "cell_type": "code",
   "execution_count": null,
   "id": "7a952fe6-139c-47a3-abf3-b777bbf02369",
   "metadata": {},
   "outputs": [],
   "source": [
    "train_audio_samples = parallel_librosa_load(\n",
    "    train_samples, \n",
    "    return_sr=False, \n",
    "    sr=None\n",
    ")"
   ]
  },
  {
   "cell_type": "code",
   "execution_count": null,
   "id": "24b5ddef-3075-484d-9ee7-4cb8cf26f609",
   "metadata": {},
   "outputs": [],
   "source": [
    "np.unique(sample_rates)"
   ]
  },
  {
   "cell_type": "code",
   "execution_count": null,
   "id": "03664742-0399-42c5-9f26-1f688b6d78cd",
   "metadata": {},
   "outputs": [],
   "source": [
    "train_audio_samples_lens = [len(au_) / sr_ for au_, sr_ in zip(train_audio_samples, sample_rates)]\n",
    "plt.hist(train_audio_samples_lens, bins=30);"
   ]
  },
  {
   "cell_type": "code",
   "execution_count": null,
   "id": "221f9c38-9001-45b1-963e-8e4fcb1ae7d2",
   "metadata": {},
   "outputs": [],
   "source": [
    "def get_filename(path):\n",
    "    return \"/\".join(path.split(\"/\")[-2:])\n",
    "\n",
    "audio_info = pd.DataFrame({\n",
    "    \"filename\":[get_filename(el) for el in train_samples],\n",
    "    \"duration_s\":train_audio_samples_lens\n",
    "})\n",
    "\n",
    "audio_info"
   ]
  },
  {
   "cell_type": "code",
   "execution_count": null,
   "id": "e7e781b3-ca14-4c08-8f06-63b2bfe43e97",
   "metadata": {},
   "outputs": [],
   "source": [
    "(audio_info[\"duration_s\"] < 30).sum() / audio_info.shape[0]"
   ]
  },
  {
   "cell_type": "code",
   "execution_count": null,
   "id": "8582ab07-bff6-4735-8997-a96f0c30a482",
   "metadata": {},
   "outputs": [],
   "source": [
    "train_metadata = train_metadata.merge(audio_info, on=\"filename\")\n",
    "train_metadata"
   ]
  },
  {
   "cell_type": "code",
   "execution_count": null,
   "id": "bd3bc363-f657-4494-a0c1-c9d26ecf7343",
   "metadata": {},
   "outputs": [],
   "source": [
    "train_metadata.url.value_counts()"
   ]
  },
  {
   "cell_type": "code",
   "execution_count": null,
   "id": "fd1c61b7-b574-40ea-8b43-6e44749528fb",
   "metadata": {},
   "outputs": [],
   "source": [
    "train_metadata[train_metadata.url == \"https://www.xeno-canto.org/514027\"]"
   ]
  },
  {
   "cell_type": "code",
   "execution_count": null,
   "id": "68443dea-fecb-41a3-aee1-41be4658d50d",
   "metadata": {},
   "outputs": [],
   "source": [
    "train_metadata.loc[9245, \"secondary_labels\"] = [\"laudov1\"]\n",
    "train_metadata = train_metadata.drop(index=[16259]).reset_index(drop=True)"
   ]
  },
  {
   "cell_type": "code",
   "execution_count": null,
   "id": "3c998fd8-7d3b-4257-8500-50a2580ba7ea",
   "metadata": {},
   "outputs": [],
   "source": [
    "train_metadata[train_metadata.url == \"https://www.xeno-canto.org/514027\"]"
   ]
  },
  {
   "cell_type": "code",
   "execution_count": null,
   "id": "fd5631f5-d1e0-47cf-996c-f0ee722276c6",
   "metadata": {},
   "outputs": [],
   "source": [
    "train_metadata['all_labels'] = train_metadata.apply(lambda x: [x[\"primary_label\"]] + x[\"secondary_labels\"], axis=1)"
   ]
  },
  {
   "cell_type": "code",
   "execution_count": null,
   "id": "9682c466-faa4-4fb1-b067-726823785733",
   "metadata": {},
   "outputs": [],
   "source": [
    "train_metadata.to_csv(\"/home/vova/data/exps/birdclef_2024/birdclef_2024/train_metadata_extended.csv\", index=False)"
   ]
  },
  {
   "cell_type": "markdown",
   "id": "edb590b3-c9d3-408c-a5e6-34d86a5e5081",
   "metadata": {},
   "source": [
    "# Secondary Labels"
   ]
  },
  {
   "cell_type": "code",
   "execution_count": null,
   "id": "0884cecd-380f-453f-b791-5f826fa7375a",
   "metadata": {},
   "outputs": [],
   "source": [
    "train_metadata[\"secondary_labels\"] = train_metadata[\"secondary_labels\"].apply(eval)"
   ]
  },
  {
   "cell_type": "code",
   "execution_count": null,
   "id": "a8a43d76-1d5f-4c17-a06c-dc534ff87c00",
   "metadata": {},
   "outputs": [],
   "source": [
    "secondary_labels_unique = set(list(chain(*train_metadata[\"secondary_labels\"].to_list())))"
   ]
  },
  {
   "cell_type": "code",
   "execution_count": null,
   "id": "fde4b656-d335-4adc-8228-9e5bd0d08059",
   "metadata": {},
   "outputs": [],
   "source": [
    "secondary_labels_unique - set(train_metadata[\"primary_label\"])"
   ]
  },
  {
   "cell_type": "code",
   "execution_count": null,
   "id": "cad58592-1a60-4ade-95c5-f506eead290a",
   "metadata": {
    "tags": []
   },
   "outputs": [],
   "source": [
    "set(train_metadata[\"primary_label\"]) - secondary_labels_unique"
   ]
  },
  {
   "cell_type": "markdown",
   "id": "49a45b38-250a-473a-836f-e3d348634835",
   "metadata": {},
   "source": [
    "# Metric"
   ]
  },
  {
   "cell_type": "code",
   "execution_count": null,
   "id": "244fa279-3542-42e1-b58a-15f425d30005",
   "metadata": {},
   "outputs": [],
   "source": [
    "!pip list | grep scikit"
   ]
  },
  {
   "cell_type": "code",
   "execution_count": null,
   "id": "f9322438-7ea1-4a86-80c0-7f8d3d63f3df",
   "metadata": {},
   "outputs": [],
   "source": [
    "from sklearn.metrics import roc_auc_score"
   ]
  },
  {
   "cell_type": "code",
   "execution_count": null,
   "id": "bf2e5580-379f-4d47-90da-bfb1b89d719b",
   "metadata": {},
   "outputs": [],
   "source": [
    "def adjust_classes(array):\n",
    "    \"\"\" Adjust the array to ensure no column has only one class present.\n",
    "    \n",
    "    Args:\n",
    "    array (np.ndarray): The input array of shape (N_rows, N_classes).\n",
    "    \n",
    "    Returns:\n",
    "    np.ndarray: The adjusted array.\n",
    "    \"\"\"\n",
    "    # Iterate over each column in the array\n",
    "    for col_idx in range(array.shape[1]):\n",
    "        if np.all(array[:, col_idx] == 1):\n",
    "            # If all values in the column are 1, randomly select one row to change to 0\n",
    "            row_to_change = np.random.choice(array.shape[0])\n",
    "            array[row_to_change, col_idx] = 0\n",
    "            \n",
    "    return array\n",
    "\n",
    "def score(solution: pd.DataFrame, submission: pd.DataFrame, row_id_column_name: str = \"row_id\") -> float:\n",
    "    '''\n",
    "    Version of macro-averaged ROC-AUC score that ignores all classes that have no true positive labels.\n",
    "    '''\n",
    "    del solution[row_id_column_name]\n",
    "    del submission[row_id_column_name]\n",
    "\n",
    "    solution_sums = solution.sum(axis=0)\n",
    "    scored_columns = list(solution_sums[solution_sums > 0].index.values)\n",
    "    assert len(scored_columns) > 0\n",
    "\n",
    "    return roc_auc_score(\n",
    "        y_true=solution[scored_columns].values,\n",
    "        y_score=submission[scored_columns].values,\n",
    "        average=\"macro\"\n",
    "    )\n",
    "\n",
    "def score_numpy(y_true: np.ndarray, y_pred: np.ndarray):\n",
    "    scored_columns_mask = y_true.sum(axis=0) > 0\n",
    "\n",
    "    y_true_filtered = y_true.T[scored_columns_mask].T\n",
    "    y_pred_filtered = y_pred.T[scored_columns_mask].T\n",
    "\n",
    "    return roc_auc_score(\n",
    "        y_true=y_true_filtered,\n",
    "        y_score=y_pred_filtered,\n",
    "        average=\"macro\"\n",
    "    )"
   ]
  },
  {
   "cell_type": "code",
   "execution_count": null,
   "id": "6a434b5b-88c7-41a6-8b84-5c4330d8c898",
   "metadata": {},
   "outputs": [],
   "source": [
    "sample_solution = sample_submission.copy()\n",
    "sample_solution[[col for col in sample_solution.columns if col != \"row_id\"]] = adjust_classes(np.random.randint(\n",
    "    0,\n",
    "    2, \n",
    "    size=sample_solution[[col for col in sample_solution.columns if col != \"row_id\"]].shape\n",
    "))"
   ]
  },
  {
   "cell_type": "code",
   "execution_count": null,
   "id": "52f4a75d-bc46-495a-b99e-7e0a9e7a9793",
   "metadata": {},
   "outputs": [],
   "source": [
    "score(\n",
    "    solution=sample_solution.copy(),\n",
    "    submission=sample_submission.copy(),\n",
    ")"
   ]
  },
  {
   "cell_type": "code",
   "execution_count": null,
   "id": "ac8e3313-25b5-401a-8b85-432f61eb5ddd",
   "metadata": {},
   "outputs": [],
   "source": [
    "score(\n",
    "    solution=sample_solution.copy(),\n",
    "    submission=sample_solution.copy(),\n",
    ")"
   ]
  },
  {
   "cell_type": "code",
   "execution_count": null,
   "id": "caa59709-878f-4aa4-8b2c-1006c967e956",
   "metadata": {},
   "outputs": [],
   "source": [
    "score_numpy(\n",
    "    y_true=sample_solution[[col for col in sample_submission.columns if col != \"row_id\"]].values,\n",
    "    y_pred=sample_solution[[col for col in sample_solution.columns if col != \"row_id\"]].values\n",
    ")"
   ]
  },
  {
   "cell_type": "code",
   "execution_count": null,
   "id": "b7fc6ac2-0df8-495d-ba3b-47e3f637e20b",
   "metadata": {},
   "outputs": [],
   "source": [
    "score_numpy(\n",
    "    y_true=sample_solution[[col for col in sample_submission.columns if col != \"row_id\"]].values,\n",
    "    y_pred=sample_submission[[col for col in sample_solution.columns if col != \"row_id\"]].values\n",
    ")"
   ]
  },
  {
   "cell_type": "markdown",
   "id": "e9d90507-c29d-42dd-8aa2-3b37b67fecef",
   "metadata": {},
   "source": [
    "# Sample Weights"
   ]
  },
  {
   "cell_type": "code",
   "execution_count": null,
   "id": "768f4daf-4888-4157-825b-b0bb1a6439af",
   "metadata": {},
   "outputs": [],
   "source": [
    "# sample_weights = train_metadata[\"primary_label\"].value_counts()"
   ]
  },
  {
   "cell_type": "code",
   "execution_count": null,
   "id": "c2a273a7-e05c-4bcf-9e98-5f55e5f294f2",
   "metadata": {},
   "outputs": [],
   "source": [
    "sample_weights = (train_metadata[\"primary_label\"].value_counts() / train_metadata[\"primary_label\"].value_counts().sum())  ** (-0.5)"
   ]
  },
  {
   "cell_type": "code",
   "execution_count": null,
   "id": "3e2b147c-45fd-4f97-a01f-05634f26cd64",
   "metadata": {},
   "outputs": [],
   "source": [
    "write_json(\"/home/vova/data/exps/birdclef_2024/sample_weights/sw_2024_v1.json\", sample_weights.to_dict())"
   ]
  },
  {
   "cell_type": "markdown",
   "id": "66cf9d62-943b-45cd-b658-74a1c65a952d",
   "metadata": {},
   "source": [
    "# CV Split"
   ]
  },
  {
   "cell_type": "code",
   "execution_count": null,
   "id": "47314057-478c-4dae-9802-dbc3e6a41c90",
   "metadata": {},
   "outputs": [],
   "source": [
    "cv_split = np.load(\"/home/vova/data/exps/birdclef_2024/cv_splits/birdclef_2024_5_folds_split.npy\", allow_pickle=True)"
   ]
  },
  {
   "cell_type": "code",
   "execution_count": null,
   "id": "e5e59942-4cea-47d3-a556-58f271f89e92",
   "metadata": {},
   "outputs": [],
   "source": [
    "len(set(train_metadata[\"primary_label\"]))"
   ]
  },
  {
   "cell_type": "markdown",
   "id": "f6413976-f816-40c2-b174-dec987079e92",
   "metadata": {},
   "source": [
    "## CV Split Precise Check"
   ]
  },
  {
   "cell_type": "code",
   "execution_count": null,
   "id": "1ae8679f-92a8-4d2c-abd8-8fe69daae5f0",
   "metadata": {},
   "outputs": [],
   "source": [
    "cv_split = np.load(\"/home/vova/data/exps/birdclef_2024/cv_splits/birdclef_2024_5_folds_split.npy\", allow_pickle=True)\n",
    "df = pd.read_csv(\"/home/vova/data/exps/birdclef_2024/birdclef_2024/train_metadata.csv\")"
   ]
  },
  {
   "cell_type": "code",
   "execution_count": null,
   "id": "7af0529e-a740-4b13-85e8-2158d125974a",
   "metadata": {},
   "outputs": [],
   "source": [
    "all_classes = set(df[\"primary_label\"])\n",
    "len(all_classes)"
   ]
  },
  {
   "cell_type": "code",
   "execution_count": null,
   "id": "6be2ba56-5c17-4d10-8575-0b177e4a60be",
   "metadata": {},
   "outputs": [],
   "source": [
    "for fold_id, (train_idx, val_idx) in enumerate(cv_split):\n",
    "    assert len(set(df[\"filename\"].iloc[val_idx]) & set(df[\"filename\"].iloc[train_idx])) == 0, fold_id\n",
    "    assert set(df[\"primary_label\"].iloc[train_idx]) == all_classes, fold_id"
   ]
  },
  {
   "cell_type": "markdown",
   "id": "e33f178c-5749-4bd4-b8fb-9ecb51b2012c",
   "metadata": {},
   "source": [
    "# Create Fake Test Data"
   ]
  },
  {
   "cell_type": "code",
   "execution_count": null,
   "id": "ae12de27-0179-409d-864c-f6db157c48dc",
   "metadata": {},
   "outputs": [],
   "source": [
    "file_to_copy = \"/home/vova/data/exps/BirdCLEF_2023/birdclef_2023/test_soundscapes/soundscape_29201.ogg\""
   ]
  },
  {
   "cell_type": "code",
   "execution_count": null,
   "id": "229d8161-af16-4a4f-8482-67ad6913ae3c",
   "metadata": {},
   "outputs": [],
   "source": [
    "for i in range(20):\n",
    "    copyfile(\n",
    "        file_to_copy,\n",
    "        f\"/home/vova/data/exps/BirdCLEF_2023/kaggle_datasets/bird_clef_2023_addones/fake_test_20/fake_test_file_{i}.ogg\"\n",
    "    )"
   ]
  },
  {
   "cell_type": "code",
   "execution_count": null,
   "id": "d3105f37-6c7b-46f2-b7ff-abecf24835a7",
   "metadata": {},
   "outputs": [],
   "source": []
  }
 ],
 "metadata": {
  "kernelspec": {
   "display_name": "Python 3 (ipykernel)",
   "language": "python",
   "name": "python3"
  },
  "language_info": {
   "codemirror_mode": {
    "name": "ipython",
    "version": 3
   },
   "file_extension": ".py",
   "mimetype": "text/x-python",
   "name": "python",
   "nbconvert_exporter": "python",
   "pygments_lexer": "ipython3",
   "version": "3.11.6"
  }
 },
 "nbformat": 4,
 "nbformat_minor": 5
}
