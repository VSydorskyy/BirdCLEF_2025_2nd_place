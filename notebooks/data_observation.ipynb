{
 "cells": [
  {
   "cell_type": "code",
   "execution_count": 2,
   "id": "7482afbd-a9cd-4d9d-b26f-82dc1dc56264",
   "metadata": {},
   "outputs": [
    {
     "name": "stderr",
     "output_type": "stream",
     "text": [
      "/gpfs/helios/home/volodymyr1/src/bird_clef_2025/.venv/lib/python3.11/site-packages/tqdm/auto.py:21: TqdmWarning: IProgress not found. Please update jupyter and ipywidgets. See https://ipywidgets.readthedocs.io/en/stable/user_install.html\n",
      "  from .autonotebook import tqdm as notebook_tqdm\n"
     ]
    },
    {
     "name": "stdout",
     "output_type": "stream",
     "text": [
      "`speechbrain` was not imported\n",
      "`LEAF` was not imported\n"
     ]
    },
    {
     "name": "stderr",
     "output_type": "stream",
     "text": [
      "/gpfs/helios/home/volodymyr1/src/bird_clef_2025/.venv/lib/python3.11/site-packages/nnAudio/Spectrogram.py:4: Warning: importing Spectrogram subpackage will be deprecated soon. You should import the feature extractor from the feature subpackage. See actual documentation.\n",
      "  warnings.warn(\n"
     ]
    }
   ],
   "source": [
    "import pandas as pd\n",
    "import numpy as np\n",
    "import librosa\n",
    "import seaborn as sns\n",
    "import os\n",
    "import json\n",
    "import IPython.display as ipd\n",
    "import soundfile as sf\n",
    "import math\n",
    "import h5py\n",
    "import torchaudio\n",
    "\n",
    "from glob import glob\n",
    "from tqdm import tqdm\n",
    "from matplotlib import pyplot as plt\n",
    "from itertools import chain\n",
    "from os.path import join as pjoin\n",
    "from shutil import copyfile\n",
    "from copy import deepcopy\n",
    "\n",
    "from code_base.utils import parallel_librosa_load, write_json, load_json\n",
    "from code_base.models.blocks import TraceableMelspec\n",
    "%matplotlib inline"
   ]
  },
  {
   "cell_type": "markdown",
   "id": "ff9f1390-8172-46b0-9b41-e9e0b49934ff",
   "metadata": {},
   "source": [
    "# Input Data"
   ]
  },
  {
   "cell_type": "code",
   "execution_count": 2,
   "id": "99a05575-f9c8-40e1-bad8-04cf5d886e07",
   "metadata": {},
   "outputs": [
    {
     "data": {
      "text/plain": [
       "['/gpfs/space/projects/BetterMedicine/volodymyr1/exps/bird_clef_2025/birdclef_2025/recording_location.txt',\n",
       " '/gpfs/space/projects/BetterMedicine/volodymyr1/exps/bird_clef_2025/birdclef_2025/birdclef-2025.zip',\n",
       " '/gpfs/space/projects/BetterMedicine/volodymyr1/exps/bird_clef_2025/birdclef_2025/sample_submission.csv',\n",
       " '/gpfs/space/projects/BetterMedicine/volodymyr1/exps/bird_clef_2025/birdclef_2025/train.csv',\n",
       " '/gpfs/space/projects/BetterMedicine/volodymyr1/exps/bird_clef_2025/birdclef_2025/test_soundscapes',\n",
       " '/gpfs/space/projects/BetterMedicine/volodymyr1/exps/bird_clef_2025/birdclef_2025/taxonomy.csv',\n",
       " '/gpfs/space/projects/BetterMedicine/volodymyr1/exps/bird_clef_2025/birdclef_2025/train_soundscapes',\n",
       " '/gpfs/space/projects/BetterMedicine/volodymyr1/exps/bird_clef_2025/birdclef_2025/train_audio']"
      ]
     },
     "execution_count": 2,
     "metadata": {},
     "output_type": "execute_result"
    }
   ],
   "source": [
    "glob(\"/gpfs/space/projects/BetterMedicine/volodymyr1/exps/bird_clef_2025/birdclef_2025/*\")"
   ]
  },
  {
   "cell_type": "code",
   "execution_count": 3,
   "id": "7ef625f3-6d66-41e0-88fc-102d7b3df694",
   "metadata": {},
   "outputs": [
    {
     "name": "stdout",
     "output_type": "stream",
     "text": [
      "Nature reserve \"El Silencio\" in the municipality of Yondó in the Middle Magdalena Valley of Colombia.\n",
      "\n",
      "Website: https://www.fundacionbiodiversa.org/fundacion2024/information/  \n",
      "\n",
      "Coordinates:\n",
      "\n",
      "Latitude: 6.76\n",
      "Longitude: -74.21"
     ]
    }
   ],
   "source": [
    "!cat /gpfs/space/projects/BetterMedicine/volodymyr1/exps/bird_clef_2025/birdclef_2025/recording_location.txt"
   ]
  },
  {
   "cell_type": "code",
   "execution_count": 4,
   "id": "94b2b452-7715-4cb5-8fd0-cc90ce8b1c7f",
   "metadata": {},
   "outputs": [],
   "source": [
    "eBird_Taxonomy_v2021 = pd.read_csv(\"/gpfs/space/projects/BetterMedicine/volodymyr1/exps/bird_clef_2025/birdclef_2025/taxonomy.csv\")\n",
    "sample_submission = pd.read_csv(\"/gpfs/space/projects/BetterMedicine/volodymyr1/exps/bird_clef_2025/birdclef_2025/sample_submission.csv\")\n",
    "train_metadata = pd.read_csv(\"/gpfs/space/projects/BetterMedicine/volodymyr1/exps/bird_clef_2025/birdclef_2025/train.csv\", converters={\"secondary_labels\":eval, \"all_labels\": eval})"
   ]
  },
  {
   "cell_type": "code",
   "execution_count": 5,
   "id": "2b5849a4-dabe-4a6a-9eec-ada87887531e",
   "metadata": {},
   "outputs": [
    {
     "data": {
      "text/html": [
       "<div>\n",
       "<style scoped>\n",
       "    .dataframe tbody tr th:only-of-type {\n",
       "        vertical-align: middle;\n",
       "    }\n",
       "\n",
       "    .dataframe tbody tr th {\n",
       "        vertical-align: top;\n",
       "    }\n",
       "\n",
       "    .dataframe thead th {\n",
       "        text-align: right;\n",
       "    }\n",
       "</style>\n",
       "<table border=\"1\" class=\"dataframe\">\n",
       "  <thead>\n",
       "    <tr style=\"text-align: right;\">\n",
       "      <th></th>\n",
       "      <th>primary_label</th>\n",
       "      <th>secondary_labels</th>\n",
       "      <th>type</th>\n",
       "      <th>filename</th>\n",
       "      <th>collection</th>\n",
       "      <th>rating</th>\n",
       "      <th>url</th>\n",
       "      <th>latitude</th>\n",
       "      <th>longitude</th>\n",
       "      <th>scientific_name</th>\n",
       "      <th>common_name</th>\n",
       "      <th>author</th>\n",
       "      <th>license</th>\n",
       "    </tr>\n",
       "  </thead>\n",
       "  <tbody>\n",
       "    <tr>\n",
       "      <th>0</th>\n",
       "      <td>1139490</td>\n",
       "      <td>[]</td>\n",
       "      <td>['']</td>\n",
       "      <td>1139490/CSA36385.ogg</td>\n",
       "      <td>CSA</td>\n",
       "      <td>0.0</td>\n",
       "      <td>http://colecciones.humboldt.org.co/rec/sonidos...</td>\n",
       "      <td>7.3206</td>\n",
       "      <td>-73.7128</td>\n",
       "      <td>Ragoniella pulchella</td>\n",
       "      <td>Ragoniella pulchella</td>\n",
       "      <td>Fabio A. Sarria-S</td>\n",
       "      <td>cc-by-nc-sa 4.0</td>\n",
       "    </tr>\n",
       "    <tr>\n",
       "      <th>1</th>\n",
       "      <td>1139490</td>\n",
       "      <td>[]</td>\n",
       "      <td>['']</td>\n",
       "      <td>1139490/CSA36389.ogg</td>\n",
       "      <td>CSA</td>\n",
       "      <td>0.0</td>\n",
       "      <td>http://colecciones.humboldt.org.co/rec/sonidos...</td>\n",
       "      <td>7.3206</td>\n",
       "      <td>-73.7128</td>\n",
       "      <td>Ragoniella pulchella</td>\n",
       "      <td>Ragoniella pulchella</td>\n",
       "      <td>Fabio A. Sarria-S</td>\n",
       "      <td>cc-by-nc-sa 4.0</td>\n",
       "    </tr>\n",
       "    <tr>\n",
       "      <th>2</th>\n",
       "      <td>1192948</td>\n",
       "      <td>[]</td>\n",
       "      <td>['']</td>\n",
       "      <td>1192948/CSA36358.ogg</td>\n",
       "      <td>CSA</td>\n",
       "      <td>0.0</td>\n",
       "      <td>http://colecciones.humboldt.org.co/rec/sonidos...</td>\n",
       "      <td>7.3791</td>\n",
       "      <td>-73.7313</td>\n",
       "      <td>Oxyprora surinamensis</td>\n",
       "      <td>Oxyprora surinamensis</td>\n",
       "      <td>Fabio A. Sarria-S</td>\n",
       "      <td>cc-by-nc-sa 4.0</td>\n",
       "    </tr>\n",
       "    <tr>\n",
       "      <th>3</th>\n",
       "      <td>1192948</td>\n",
       "      <td>[]</td>\n",
       "      <td>['']</td>\n",
       "      <td>1192948/CSA36366.ogg</td>\n",
       "      <td>CSA</td>\n",
       "      <td>0.0</td>\n",
       "      <td>http://colecciones.humboldt.org.co/rec/sonidos...</td>\n",
       "      <td>7.2800</td>\n",
       "      <td>-73.8582</td>\n",
       "      <td>Oxyprora surinamensis</td>\n",
       "      <td>Oxyprora surinamensis</td>\n",
       "      <td>Fabio A. Sarria-S</td>\n",
       "      <td>cc-by-nc-sa 4.0</td>\n",
       "    </tr>\n",
       "    <tr>\n",
       "      <th>4</th>\n",
       "      <td>1192948</td>\n",
       "      <td>[]</td>\n",
       "      <td>['']</td>\n",
       "      <td>1192948/CSA36373.ogg</td>\n",
       "      <td>CSA</td>\n",
       "      <td>0.0</td>\n",
       "      <td>http://colecciones.humboldt.org.co/rec/sonidos...</td>\n",
       "      <td>7.3791</td>\n",
       "      <td>-73.7313</td>\n",
       "      <td>Oxyprora surinamensis</td>\n",
       "      <td>Oxyprora surinamensis</td>\n",
       "      <td>Fabio A. Sarria-S</td>\n",
       "      <td>cc-by-nc-sa 4.0</td>\n",
       "    </tr>\n",
       "  </tbody>\n",
       "</table>\n",
       "</div>"
      ],
      "text/plain": [
       "  primary_label secondary_labels  type              filename collection  \\\n",
       "0       1139490               []  ['']  1139490/CSA36385.ogg        CSA   \n",
       "1       1139490               []  ['']  1139490/CSA36389.ogg        CSA   \n",
       "2       1192948               []  ['']  1192948/CSA36358.ogg        CSA   \n",
       "3       1192948               []  ['']  1192948/CSA36366.ogg        CSA   \n",
       "4       1192948               []  ['']  1192948/CSA36373.ogg        CSA   \n",
       "\n",
       "   rating                                                url  latitude  \\\n",
       "0     0.0  http://colecciones.humboldt.org.co/rec/sonidos...    7.3206   \n",
       "1     0.0  http://colecciones.humboldt.org.co/rec/sonidos...    7.3206   \n",
       "2     0.0  http://colecciones.humboldt.org.co/rec/sonidos...    7.3791   \n",
       "3     0.0  http://colecciones.humboldt.org.co/rec/sonidos...    7.2800   \n",
       "4     0.0  http://colecciones.humboldt.org.co/rec/sonidos...    7.3791   \n",
       "\n",
       "   longitude        scientific_name            common_name             author  \\\n",
       "0   -73.7128   Ragoniella pulchella   Ragoniella pulchella  Fabio A. Sarria-S   \n",
       "1   -73.7128   Ragoniella pulchella   Ragoniella pulchella  Fabio A. Sarria-S   \n",
       "2   -73.7313  Oxyprora surinamensis  Oxyprora surinamensis  Fabio A. Sarria-S   \n",
       "3   -73.8582  Oxyprora surinamensis  Oxyprora surinamensis  Fabio A. Sarria-S   \n",
       "4   -73.7313  Oxyprora surinamensis  Oxyprora surinamensis  Fabio A. Sarria-S   \n",
       "\n",
       "           license  \n",
       "0  cc-by-nc-sa 4.0  \n",
       "1  cc-by-nc-sa 4.0  \n",
       "2  cc-by-nc-sa 4.0  \n",
       "3  cc-by-nc-sa 4.0  \n",
       "4  cc-by-nc-sa 4.0  "
      ]
     },
     "execution_count": 5,
     "metadata": {},
     "output_type": "execute_result"
    }
   ],
   "source": [
    "train_metadata.head()"
   ]
  },
  {
   "cell_type": "code",
   "execution_count": 6,
   "id": "57a7281b-4554-457d-b520-e5ad50bff9df",
   "metadata": {},
   "outputs": [
    {
     "data": {
      "text/html": [
       "<div>\n",
       "<style scoped>\n",
       "    .dataframe tbody tr th:only-of-type {\n",
       "        vertical-align: middle;\n",
       "    }\n",
       "\n",
       "    .dataframe tbody tr th {\n",
       "        vertical-align: top;\n",
       "    }\n",
       "\n",
       "    .dataframe thead th {\n",
       "        text-align: right;\n",
       "    }\n",
       "</style>\n",
       "<table border=\"1\" class=\"dataframe\">\n",
       "  <thead>\n",
       "    <tr style=\"text-align: right;\">\n",
       "      <th></th>\n",
       "      <th>primary_label</th>\n",
       "      <th>inat_taxon_id</th>\n",
       "      <th>scientific_name</th>\n",
       "      <th>common_name</th>\n",
       "      <th>class_name</th>\n",
       "    </tr>\n",
       "  </thead>\n",
       "  <tbody>\n",
       "    <tr>\n",
       "      <th>0</th>\n",
       "      <td>1139490</td>\n",
       "      <td>1139490</td>\n",
       "      <td>Ragoniella pulchella</td>\n",
       "      <td>Ragoniella pulchella</td>\n",
       "      <td>Insecta</td>\n",
       "    </tr>\n",
       "    <tr>\n",
       "      <th>1</th>\n",
       "      <td>1192948</td>\n",
       "      <td>1192948</td>\n",
       "      <td>Oxyprora surinamensis</td>\n",
       "      <td>Oxyprora surinamensis</td>\n",
       "      <td>Insecta</td>\n",
       "    </tr>\n",
       "    <tr>\n",
       "      <th>2</th>\n",
       "      <td>1194042</td>\n",
       "      <td>1194042</td>\n",
       "      <td>Copiphora colombiae</td>\n",
       "      <td>Copiphora colombiae</td>\n",
       "      <td>Insecta</td>\n",
       "    </tr>\n",
       "    <tr>\n",
       "      <th>3</th>\n",
       "      <td>126247</td>\n",
       "      <td>126247</td>\n",
       "      <td>Leptodactylus insularum</td>\n",
       "      <td>Spotted Foam-nest Frog</td>\n",
       "      <td>Amphibia</td>\n",
       "    </tr>\n",
       "    <tr>\n",
       "      <th>4</th>\n",
       "      <td>1346504</td>\n",
       "      <td>1346504</td>\n",
       "      <td>Neoconocephalus brachypterus</td>\n",
       "      <td>Neoconocephalus brachypterus</td>\n",
       "      <td>Insecta</td>\n",
       "    </tr>\n",
       "  </tbody>\n",
       "</table>\n",
       "</div>"
      ],
      "text/plain": [
       "  primary_label  inat_taxon_id               scientific_name  \\\n",
       "0       1139490        1139490          Ragoniella pulchella   \n",
       "1       1192948        1192948         Oxyprora surinamensis   \n",
       "2       1194042        1194042           Copiphora colombiae   \n",
       "3        126247         126247       Leptodactylus insularum   \n",
       "4       1346504        1346504  Neoconocephalus brachypterus   \n",
       "\n",
       "                    common_name class_name  \n",
       "0          Ragoniella pulchella    Insecta  \n",
       "1         Oxyprora surinamensis    Insecta  \n",
       "2           Copiphora colombiae    Insecta  \n",
       "3        Spotted Foam-nest Frog   Amphibia  \n",
       "4  Neoconocephalus brachypterus    Insecta  "
      ]
     },
     "execution_count": 6,
     "metadata": {},
     "output_type": "execute_result"
    }
   ],
   "source": [
    "eBird_Taxonomy_v2021.head()"
   ]
  },
  {
   "cell_type": "code",
   "execution_count": 8,
   "id": "746bcd22-29b9-449b-a166-be390fbe4e5b",
   "metadata": {},
   "outputs": [
    {
     "data": {
      "text/plain": [
       "206"
      ]
     },
     "execution_count": 8,
     "metadata": {},
     "output_type": "execute_result"
    }
   ],
   "source": [
    "scored_birds = sample_submission.columns[1:]\n",
    "len(scored_birds)"
   ]
  },
  {
   "cell_type": "code",
   "execution_count": 9,
   "id": "ba6f253f-3f10-49f8-87e2-cc008729f0cc",
   "metadata": {},
   "outputs": [
    {
     "data": {
      "text/plain": [
       "1.0"
      ]
     },
     "execution_count": 9,
     "metadata": {},
     "output_type": "execute_result"
    }
   ],
   "source": [
    "train_metadata[\"primary_label\"].isin(scored_birds).sum() / train_metadata.shape[0]"
   ]
  },
  {
   "cell_type": "code",
   "execution_count": 10,
   "id": "00d5d15c-52f1-42ac-b23d-73357131f686",
   "metadata": {},
   "outputs": [
    {
     "data": {
      "text/plain": [
       "primary_label\n",
       "grekis     990\n",
       "compau     808\n",
       "trokin     787\n",
       "roahaw     709\n",
       "banana     610\n",
       "          ... \n",
       "476537       2\n",
       "47067        2\n",
       "42113        2\n",
       "42087        2\n",
       "1139490      2\n",
       "Name: count, Length: 206, dtype: int64"
      ]
     },
     "execution_count": 10,
     "metadata": {},
     "output_type": "execute_result"
    }
   ],
   "source": [
    "train_metadata[\"primary_label\"].value_counts()"
   ]
  },
  {
   "cell_type": "code",
   "execution_count": 11,
   "id": "32954268-603b-42e0-a701-c17e3a16c82c",
   "metadata": {},
   "outputs": [
    {
     "data": {
      "text/html": [
       "<div>\n",
       "<style scoped>\n",
       "    .dataframe tbody tr th:only-of-type {\n",
       "        vertical-align: middle;\n",
       "    }\n",
       "\n",
       "    .dataframe tbody tr th {\n",
       "        vertical-align: top;\n",
       "    }\n",
       "\n",
       "    .dataframe thead th {\n",
       "        text-align: right;\n",
       "    }\n",
       "</style>\n",
       "<table border=\"1\" class=\"dataframe\">\n",
       "  <thead>\n",
       "    <tr style=\"text-align: right;\">\n",
       "      <th></th>\n",
       "      <th>primary_label</th>\n",
       "      <th>secondary_labels</th>\n",
       "      <th>type</th>\n",
       "      <th>filename</th>\n",
       "      <th>collection</th>\n",
       "      <th>rating</th>\n",
       "      <th>url</th>\n",
       "      <th>latitude</th>\n",
       "      <th>longitude</th>\n",
       "      <th>scientific_name</th>\n",
       "      <th>common_name</th>\n",
       "      <th>author</th>\n",
       "      <th>license</th>\n",
       "    </tr>\n",
       "  </thead>\n",
       "  <tbody>\n",
       "    <tr>\n",
       "      <th>0</th>\n",
       "      <td>1139490</td>\n",
       "      <td>[]</td>\n",
       "      <td>['']</td>\n",
       "      <td>1139490/CSA36385.ogg</td>\n",
       "      <td>CSA</td>\n",
       "      <td>0.0</td>\n",
       "      <td>http://colecciones.humboldt.org.co/rec/sonidos...</td>\n",
       "      <td>7.3206</td>\n",
       "      <td>-73.7128</td>\n",
       "      <td>Ragoniella pulchella</td>\n",
       "      <td>Ragoniella pulchella</td>\n",
       "      <td>Fabio A. Sarria-S</td>\n",
       "      <td>cc-by-nc-sa 4.0</td>\n",
       "    </tr>\n",
       "    <tr>\n",
       "      <th>1</th>\n",
       "      <td>1139490</td>\n",
       "      <td>[]</td>\n",
       "      <td>['']</td>\n",
       "      <td>1139490/CSA36389.ogg</td>\n",
       "      <td>CSA</td>\n",
       "      <td>0.0</td>\n",
       "      <td>http://colecciones.humboldt.org.co/rec/sonidos...</td>\n",
       "      <td>7.3206</td>\n",
       "      <td>-73.7128</td>\n",
       "      <td>Ragoniella pulchella</td>\n",
       "      <td>Ragoniella pulchella</td>\n",
       "      <td>Fabio A. Sarria-S</td>\n",
       "      <td>cc-by-nc-sa 4.0</td>\n",
       "    </tr>\n",
       "    <tr>\n",
       "      <th>2</th>\n",
       "      <td>1192948</td>\n",
       "      <td>[]</td>\n",
       "      <td>['']</td>\n",
       "      <td>1192948/CSA36358.ogg</td>\n",
       "      <td>CSA</td>\n",
       "      <td>0.0</td>\n",
       "      <td>http://colecciones.humboldt.org.co/rec/sonidos...</td>\n",
       "      <td>7.3791</td>\n",
       "      <td>-73.7313</td>\n",
       "      <td>Oxyprora surinamensis</td>\n",
       "      <td>Oxyprora surinamensis</td>\n",
       "      <td>Fabio A. Sarria-S</td>\n",
       "      <td>cc-by-nc-sa 4.0</td>\n",
       "    </tr>\n",
       "    <tr>\n",
       "      <th>3</th>\n",
       "      <td>1192948</td>\n",
       "      <td>[]</td>\n",
       "      <td>['']</td>\n",
       "      <td>1192948/CSA36366.ogg</td>\n",
       "      <td>CSA</td>\n",
       "      <td>0.0</td>\n",
       "      <td>http://colecciones.humboldt.org.co/rec/sonidos...</td>\n",
       "      <td>7.2800</td>\n",
       "      <td>-73.8582</td>\n",
       "      <td>Oxyprora surinamensis</td>\n",
       "      <td>Oxyprora surinamensis</td>\n",
       "      <td>Fabio A. Sarria-S</td>\n",
       "      <td>cc-by-nc-sa 4.0</td>\n",
       "    </tr>\n",
       "    <tr>\n",
       "      <th>4</th>\n",
       "      <td>1192948</td>\n",
       "      <td>[]</td>\n",
       "      <td>['']</td>\n",
       "      <td>1192948/CSA36373.ogg</td>\n",
       "      <td>CSA</td>\n",
       "      <td>0.0</td>\n",
       "      <td>http://colecciones.humboldt.org.co/rec/sonidos...</td>\n",
       "      <td>7.3791</td>\n",
       "      <td>-73.7313</td>\n",
       "      <td>Oxyprora surinamensis</td>\n",
       "      <td>Oxyprora surinamensis</td>\n",
       "      <td>Fabio A. Sarria-S</td>\n",
       "      <td>cc-by-nc-sa 4.0</td>\n",
       "    </tr>\n",
       "    <tr>\n",
       "      <th>...</th>\n",
       "      <td>...</td>\n",
       "      <td>...</td>\n",
       "      <td>...</td>\n",
       "      <td>...</td>\n",
       "      <td>...</td>\n",
       "      <td>...</td>\n",
       "      <td>...</td>\n",
       "      <td>...</td>\n",
       "      <td>...</td>\n",
       "      <td>...</td>\n",
       "      <td>...</td>\n",
       "      <td>...</td>\n",
       "      <td>...</td>\n",
       "    </tr>\n",
       "    <tr>\n",
       "      <th>28559</th>\n",
       "      <td>ywcpar</td>\n",
       "      <td>[]</td>\n",
       "      <td>['']</td>\n",
       "      <td>ywcpar/iNat77392.ogg</td>\n",
       "      <td>iNat</td>\n",
       "      <td>0.0</td>\n",
       "      <td>https://static.inaturalist.org/sounds/77392.m4a</td>\n",
       "      <td>7.6921</td>\n",
       "      <td>-80.3379</td>\n",
       "      <td>Amazona ochrocephala</td>\n",
       "      <td>Yellow-crowned Parrot</td>\n",
       "      <td>Yennifer Alfaro</td>\n",
       "      <td>cc-by-nc 4.0</td>\n",
       "    </tr>\n",
       "    <tr>\n",
       "      <th>28560</th>\n",
       "      <td>ywcpar</td>\n",
       "      <td>[]</td>\n",
       "      <td>['']</td>\n",
       "      <td>ywcpar/iNat78624.ogg</td>\n",
       "      <td>iNat</td>\n",
       "      <td>0.0</td>\n",
       "      <td>https://static.inaturalist.org/sounds/78624.wav</td>\n",
       "      <td>8.9918</td>\n",
       "      <td>-79.4877</td>\n",
       "      <td>Amazona ochrocephala</td>\n",
       "      <td>Yellow-crowned Parrot</td>\n",
       "      <td>Evan Centanni</td>\n",
       "      <td>cc-by-nc-sa 4.0</td>\n",
       "    </tr>\n",
       "    <tr>\n",
       "      <th>28561</th>\n",
       "      <td>ywcpar</td>\n",
       "      <td>[]</td>\n",
       "      <td>['']</td>\n",
       "      <td>ywcpar/iNat789234.ogg</td>\n",
       "      <td>iNat</td>\n",
       "      <td>0.0</td>\n",
       "      <td>https://static.inaturalist.org/sounds/789234.wav</td>\n",
       "      <td>9.2316</td>\n",
       "      <td>-70.2041</td>\n",
       "      <td>Amazona ochrocephala</td>\n",
       "      <td>Yellow-crowned Parrot</td>\n",
       "      <td>Henrry</td>\n",
       "      <td>cc-by 4.0</td>\n",
       "    </tr>\n",
       "    <tr>\n",
       "      <th>28562</th>\n",
       "      <td>ywcpar</td>\n",
       "      <td>[]</td>\n",
       "      <td>['']</td>\n",
       "      <td>ywcpar/iNat819873.ogg</td>\n",
       "      <td>iNat</td>\n",
       "      <td>0.0</td>\n",
       "      <td>https://static.inaturalist.org/sounds/819873.mp3</td>\n",
       "      <td>10.5838</td>\n",
       "      <td>-66.8545</td>\n",
       "      <td>Amazona ochrocephala</td>\n",
       "      <td>Yellow-crowned Parrot</td>\n",
       "      <td>Alejandro Luy</td>\n",
       "      <td>cc-by-nc 4.0</td>\n",
       "    </tr>\n",
       "    <tr>\n",
       "      <th>28563</th>\n",
       "      <td>ywcpar</td>\n",
       "      <td>[]</td>\n",
       "      <td>['']</td>\n",
       "      <td>ywcpar/iNat922688.ogg</td>\n",
       "      <td>iNat</td>\n",
       "      <td>0.0</td>\n",
       "      <td>https://static.inaturalist.org/sounds/922688.wav</td>\n",
       "      <td>9.1156</td>\n",
       "      <td>-79.4907</td>\n",
       "      <td>Amazona ochrocephala</td>\n",
       "      <td>Yellow-crowned Parrot</td>\n",
       "      <td>Kalvin Chan</td>\n",
       "      <td>cc-0 4.0</td>\n",
       "    </tr>\n",
       "  </tbody>\n",
       "</table>\n",
       "<p>28564 rows × 13 columns</p>\n",
       "</div>"
      ],
      "text/plain": [
       "      primary_label secondary_labels  type               filename collection  \\\n",
       "0           1139490               []  ['']   1139490/CSA36385.ogg        CSA   \n",
       "1           1139490               []  ['']   1139490/CSA36389.ogg        CSA   \n",
       "2           1192948               []  ['']   1192948/CSA36358.ogg        CSA   \n",
       "3           1192948               []  ['']   1192948/CSA36366.ogg        CSA   \n",
       "4           1192948               []  ['']   1192948/CSA36373.ogg        CSA   \n",
       "...             ...              ...   ...                    ...        ...   \n",
       "28559        ywcpar               []  ['']   ywcpar/iNat77392.ogg       iNat   \n",
       "28560        ywcpar               []  ['']   ywcpar/iNat78624.ogg       iNat   \n",
       "28561        ywcpar               []  ['']  ywcpar/iNat789234.ogg       iNat   \n",
       "28562        ywcpar               []  ['']  ywcpar/iNat819873.ogg       iNat   \n",
       "28563        ywcpar               []  ['']  ywcpar/iNat922688.ogg       iNat   \n",
       "\n",
       "       rating                                                url  latitude  \\\n",
       "0         0.0  http://colecciones.humboldt.org.co/rec/sonidos...    7.3206   \n",
       "1         0.0  http://colecciones.humboldt.org.co/rec/sonidos...    7.3206   \n",
       "2         0.0  http://colecciones.humboldt.org.co/rec/sonidos...    7.3791   \n",
       "3         0.0  http://colecciones.humboldt.org.co/rec/sonidos...    7.2800   \n",
       "4         0.0  http://colecciones.humboldt.org.co/rec/sonidos...    7.3791   \n",
       "...       ...                                                ...       ...   \n",
       "28559     0.0    https://static.inaturalist.org/sounds/77392.m4a    7.6921   \n",
       "28560     0.0    https://static.inaturalist.org/sounds/78624.wav    8.9918   \n",
       "28561     0.0   https://static.inaturalist.org/sounds/789234.wav    9.2316   \n",
       "28562     0.0   https://static.inaturalist.org/sounds/819873.mp3   10.5838   \n",
       "28563     0.0   https://static.inaturalist.org/sounds/922688.wav    9.1156   \n",
       "\n",
       "       longitude        scientific_name            common_name  \\\n",
       "0       -73.7128   Ragoniella pulchella   Ragoniella pulchella   \n",
       "1       -73.7128   Ragoniella pulchella   Ragoniella pulchella   \n",
       "2       -73.7313  Oxyprora surinamensis  Oxyprora surinamensis   \n",
       "3       -73.8582  Oxyprora surinamensis  Oxyprora surinamensis   \n",
       "4       -73.7313  Oxyprora surinamensis  Oxyprora surinamensis   \n",
       "...          ...                    ...                    ...   \n",
       "28559   -80.3379   Amazona ochrocephala  Yellow-crowned Parrot   \n",
       "28560   -79.4877   Amazona ochrocephala  Yellow-crowned Parrot   \n",
       "28561   -70.2041   Amazona ochrocephala  Yellow-crowned Parrot   \n",
       "28562   -66.8545   Amazona ochrocephala  Yellow-crowned Parrot   \n",
       "28563   -79.4907   Amazona ochrocephala  Yellow-crowned Parrot   \n",
       "\n",
       "                  author          license  \n",
       "0      Fabio A. Sarria-S  cc-by-nc-sa 4.0  \n",
       "1      Fabio A. Sarria-S  cc-by-nc-sa 4.0  \n",
       "2      Fabio A. Sarria-S  cc-by-nc-sa 4.0  \n",
       "3      Fabio A. Sarria-S  cc-by-nc-sa 4.0  \n",
       "4      Fabio A. Sarria-S  cc-by-nc-sa 4.0  \n",
       "...                  ...              ...  \n",
       "28559    Yennifer Alfaro     cc-by-nc 4.0  \n",
       "28560      Evan Centanni  cc-by-nc-sa 4.0  \n",
       "28561             Henrry        cc-by 4.0  \n",
       "28562      Alejandro Luy     cc-by-nc 4.0  \n",
       "28563        Kalvin Chan         cc-0 4.0  \n",
       "\n",
       "[28564 rows x 13 columns]"
      ]
     },
     "execution_count": 11,
     "metadata": {},
     "output_type": "execute_result"
    }
   ],
   "source": [
    "train_metadata"
   ]
  },
  {
   "cell_type": "code",
   "execution_count": 12,
   "id": "6b9730d1-dcc3-413d-9939-46d4728a47ca",
   "metadata": {},
   "outputs": [
    {
     "data": {
      "text/html": [
       "<div>\n",
       "<style scoped>\n",
       "    .dataframe tbody tr th:only-of-type {\n",
       "        vertical-align: middle;\n",
       "    }\n",
       "\n",
       "    .dataframe tbody tr th {\n",
       "        vertical-align: top;\n",
       "    }\n",
       "\n",
       "    .dataframe thead th {\n",
       "        text-align: right;\n",
       "    }\n",
       "</style>\n",
       "<table border=\"1\" class=\"dataframe\">\n",
       "  <thead>\n",
       "    <tr style=\"text-align: right;\">\n",
       "      <th></th>\n",
       "      <th>row_id</th>\n",
       "      <th>1139490</th>\n",
       "      <th>1192948</th>\n",
       "      <th>1194042</th>\n",
       "      <th>126247</th>\n",
       "      <th>1346504</th>\n",
       "      <th>134933</th>\n",
       "      <th>135045</th>\n",
       "      <th>1462711</th>\n",
       "      <th>1462737</th>\n",
       "      <th>...</th>\n",
       "      <th>yebfly1</th>\n",
       "      <th>yebsee1</th>\n",
       "      <th>yecspi2</th>\n",
       "      <th>yectyr1</th>\n",
       "      <th>yehbla2</th>\n",
       "      <th>yehcar1</th>\n",
       "      <th>yelori1</th>\n",
       "      <th>yeofly1</th>\n",
       "      <th>yercac1</th>\n",
       "      <th>ywcpar</th>\n",
       "    </tr>\n",
       "  </thead>\n",
       "  <tbody>\n",
       "    <tr>\n",
       "      <th>0</th>\n",
       "      <td>soundscape_8358733_5</td>\n",
       "      <td>0.004854</td>\n",
       "      <td>0.004854</td>\n",
       "      <td>0.004854</td>\n",
       "      <td>0.004854</td>\n",
       "      <td>0.004854</td>\n",
       "      <td>0.004854</td>\n",
       "      <td>0.004854</td>\n",
       "      <td>0.004854</td>\n",
       "      <td>0.004854</td>\n",
       "      <td>...</td>\n",
       "      <td>0.004854</td>\n",
       "      <td>0.004854</td>\n",
       "      <td>0.004854</td>\n",
       "      <td>0.004854</td>\n",
       "      <td>0.004854</td>\n",
       "      <td>0.004854</td>\n",
       "      <td>0.004854</td>\n",
       "      <td>0.004854</td>\n",
       "      <td>0.004854</td>\n",
       "      <td>0.004854</td>\n",
       "    </tr>\n",
       "    <tr>\n",
       "      <th>1</th>\n",
       "      <td>soundscape_8358733_10</td>\n",
       "      <td>0.004854</td>\n",
       "      <td>0.004854</td>\n",
       "      <td>0.004854</td>\n",
       "      <td>0.004854</td>\n",
       "      <td>0.004854</td>\n",
       "      <td>0.004854</td>\n",
       "      <td>0.004854</td>\n",
       "      <td>0.004854</td>\n",
       "      <td>0.004854</td>\n",
       "      <td>...</td>\n",
       "      <td>0.004854</td>\n",
       "      <td>0.004854</td>\n",
       "      <td>0.004854</td>\n",
       "      <td>0.004854</td>\n",
       "      <td>0.004854</td>\n",
       "      <td>0.004854</td>\n",
       "      <td>0.004854</td>\n",
       "      <td>0.004854</td>\n",
       "      <td>0.004854</td>\n",
       "      <td>0.004854</td>\n",
       "    </tr>\n",
       "    <tr>\n",
       "      <th>2</th>\n",
       "      <td>soundscape_8358733_15</td>\n",
       "      <td>0.004854</td>\n",
       "      <td>0.004854</td>\n",
       "      <td>0.004854</td>\n",
       "      <td>0.004854</td>\n",
       "      <td>0.004854</td>\n",
       "      <td>0.004854</td>\n",
       "      <td>0.004854</td>\n",
       "      <td>0.004854</td>\n",
       "      <td>0.004854</td>\n",
       "      <td>...</td>\n",
       "      <td>0.004854</td>\n",
       "      <td>0.004854</td>\n",
       "      <td>0.004854</td>\n",
       "      <td>0.004854</td>\n",
       "      <td>0.004854</td>\n",
       "      <td>0.004854</td>\n",
       "      <td>0.004854</td>\n",
       "      <td>0.004854</td>\n",
       "      <td>0.004854</td>\n",
       "      <td>0.004854</td>\n",
       "    </tr>\n",
       "  </tbody>\n",
       "</table>\n",
       "<p>3 rows × 207 columns</p>\n",
       "</div>"
      ],
      "text/plain": [
       "                  row_id   1139490   1192948   1194042    126247   1346504  \\\n",
       "0   soundscape_8358733_5  0.004854  0.004854  0.004854  0.004854  0.004854   \n",
       "1  soundscape_8358733_10  0.004854  0.004854  0.004854  0.004854  0.004854   \n",
       "2  soundscape_8358733_15  0.004854  0.004854  0.004854  0.004854  0.004854   \n",
       "\n",
       "     134933    135045   1462711   1462737  ...   yebfly1   yebsee1   yecspi2  \\\n",
       "0  0.004854  0.004854  0.004854  0.004854  ...  0.004854  0.004854  0.004854   \n",
       "1  0.004854  0.004854  0.004854  0.004854  ...  0.004854  0.004854  0.004854   \n",
       "2  0.004854  0.004854  0.004854  0.004854  ...  0.004854  0.004854  0.004854   \n",
       "\n",
       "    yectyr1   yehbla2   yehcar1   yelori1   yeofly1   yercac1    ywcpar  \n",
       "0  0.004854  0.004854  0.004854  0.004854  0.004854  0.004854  0.004854  \n",
       "1  0.004854  0.004854  0.004854  0.004854  0.004854  0.004854  0.004854  \n",
       "2  0.004854  0.004854  0.004854  0.004854  0.004854  0.004854  0.004854  \n",
       "\n",
       "[3 rows x 207 columns]"
      ]
     },
     "execution_count": 12,
     "metadata": {},
     "output_type": "execute_result"
    }
   ],
   "source": [
    "sample_submission"
   ]
  },
  {
   "cell_type": "code",
   "execution_count": 13,
   "id": "3ab7782c-76e8-4508-8135-bcd7efd09396",
   "metadata": {},
   "outputs": [
    {
     "data": {
      "text/plain": [
       "Index(['primary_label', 'secondary_labels', 'type', 'filename', 'collection',\n",
       "       'rating', 'url', 'latitude', 'longitude', 'scientific_name',\n",
       "       'common_name', 'author', 'license'],\n",
       "      dtype='object')"
      ]
     },
     "execution_count": 13,
     "metadata": {},
     "output_type": "execute_result"
    }
   ],
   "source": [
    "train_metadata.columns"
   ]
  },
  {
   "cell_type": "code",
   "execution_count": 35,
   "id": "07634e7d-7cc9-463e-a3af-e065e1fe9558",
   "metadata": {},
   "outputs": [
    {
     "data": {
      "text/plain": [
       "collection\n",
       "XC      21204\n",
       "iNat     7198\n",
       "CSA       162\n",
       "Name: count, dtype: int64"
      ]
     },
     "execution_count": 35,
     "metadata": {},
     "output_type": "execute_result"
    }
   ],
   "source": [
    "train_metadata[\"collection\"].value_counts()"
   ]
  },
  {
   "cell_type": "code",
   "execution_count": 39,
   "id": "8b34eb23-e57e-469c-9fab-1fc1cb43e9de",
   "metadata": {},
   "outputs": [
    {
     "data": {
      "text/plain": [
       "'http://colecciones.humboldt.org.co/rec/sonidos/IAvH-CSA-36385/IAvH-CSA-36385.mp3'"
      ]
     },
     "execution_count": 39,
     "metadata": {},
     "output_type": "execute_result"
    }
   ],
   "source": [
    "train_metadata.loc[train_metadata[\"collection\"] == \"CSA\", \"url\"].iloc[0]"
   ]
  },
  {
   "cell_type": "markdown",
   "id": "65bb85bb-29c3-451c-affe-c5aca4b2d854",
   "metadata": {},
   "source": [
    "# Enrich Meta"
   ]
  },
  {
   "cell_type": "code",
   "execution_count": 23,
   "id": "f6188026-7821-4f97-927f-d6b95f43ce73",
   "metadata": {},
   "outputs": [],
   "source": [
    "def get_audio_metadata(file_path: str):\n",
    "    \"\"\"\n",
    "    Extract metadata from an audio file using torchaudio.\n",
    "    \n",
    "    Args:\n",
    "        file_path (str): Path to the audio file.\n",
    "    \n",
    "    Returns:\n",
    "        dict: Metadata containing sample rate, duration, channels, bit depth, and encoding format.\n",
    "    \"\"\"\n",
    "    # Get basic metadata\n",
    "    metadata = torchaudio.info(file_path)\n",
    "    \n",
    "    # Extract key information\n",
    "    sample_rate = metadata.sample_rate\n",
    "    num_channels = metadata.num_channels\n",
    "    num_frames = metadata.num_frames\n",
    "    duration = num_frames / sample_rate if sample_rate else None\n",
    "    \n",
    "    # Additional metadata (if available)\n",
    "    bit_depth = getattr(metadata, \"bits_per_sample\", None)  # Only available for certain formats\n",
    "    encoding = getattr(metadata, \"encoding\", None)  # Available for some formats\n",
    "    \n",
    "    return {\n",
    "        \"sample_rate\": sample_rate,\n",
    "        \"duration_s\": duration,\n",
    "        \"num_channels\": num_channels,\n",
    "        \"bit_depth\": bit_depth,\n",
    "        \"encoding\": encoding,\n",
    "    }"
   ]
  },
  {
   "cell_type": "code",
   "execution_count": 46,
   "id": "265316f6-bfc2-40e3-83af-23b3da5410a6",
   "metadata": {},
   "outputs": [
    {
     "data": {
      "text/plain": [
       "True"
      ]
     },
     "execution_count": 46,
     "metadata": {},
     "output_type": "execute_result"
    }
   ],
   "source": [
    "train_metadata[\"filename\"].apply(lambda x: os.path.splitext(os.path.join(\n",
    "    \"/gpfs/space/projects/BetterMedicine/volodymyr1/exps/bird_clef_2025/birdclef_2025/train_audio\",\n",
    "    x\n",
    ").replace(\"train_audio\", \"train_features\"))[0] + \".hdf5\").apply(os.path.exists).all()"
   ]
  },
  {
   "cell_type": "code",
   "execution_count": 25,
   "id": "68c25199-f845-41c8-9226-ed516f1dfed6",
   "metadata": {},
   "outputs": [],
   "source": [
    "audio_meta = pd.DataFrame(train_metadata[\"filename\"].apply(lambda x: get_audio_metadata(os.path.join(\n",
    "    \"/gpfs/space/projects/BetterMedicine/volodymyr1/exps/bird_clef_2025/birdclef_2025/train_audio\",\n",
    "    x\n",
    "))).to_list())"
   ]
  },
  {
   "cell_type": "code",
   "execution_count": 27,
   "id": "7cee6f1a-bbeb-4999-961f-269167adbaa9",
   "metadata": {},
   "outputs": [
    {
     "data": {
      "text/plain": [
       "num_channels\n",
       "1    28564\n",
       "Name: count, dtype: int64"
      ]
     },
     "execution_count": 27,
     "metadata": {},
     "output_type": "execute_result"
    }
   ],
   "source": [
    "audio_meta[\"num_channels\"].value_counts()"
   ]
  },
  {
   "cell_type": "code",
   "execution_count": 33,
   "id": "550b1769-f7a1-455e-962f-62942a8ffdf5",
   "metadata": {},
   "outputs": [
    {
     "data": {
      "text/plain": [
       "sample_rate\n",
       "32000    28564\n",
       "Name: count, dtype: int64"
      ]
     },
     "execution_count": 33,
     "metadata": {},
     "output_type": "execute_result"
    }
   ],
   "source": [
    "audio_meta[\"sample_rate\"].value_counts()"
   ]
  },
  {
   "cell_type": "code",
   "execution_count": 30,
   "id": "5ca4a8d2-509b-4061-856f-8980516fe875",
   "metadata": {},
   "outputs": [
    {
     "data": {
      "text/plain": [
       "<Axes: >"
      ]
     },
     "execution_count": 30,
     "metadata": {},
     "output_type": "execute_result"
    },
    {
     "data": {
      "image/png": "[encoded data removed]",
      "text/plain": [
       "<Figure size 640x480 with 1 Axes>"
      ]
     },
     "metadata": {},
     "output_type": "display_data"
    }
   ],
   "source": [
    "audio_meta[\"duration_s\"].hist(bins=50)"
   ]
  },
  {
   "cell_type": "code",
   "execution_count": 31,
   "id": "9304bac2-5cee-4943-b019-abf807082410",
   "metadata": {},
   "outputs": [],
   "source": [
    "train_metadata = pd.concat([train_metadata, audio_meta], axis=1)"
   ]
  },
  {
   "cell_type": "code",
   "execution_count": 41,
   "id": "4a4c0baf-b870-4456-a871-783f8c6e3225",
   "metadata": {},
   "outputs": [],
   "source": [
    "train_metadata.to_csv(\n",
    "    \"/gpfs/space/projects/BetterMedicine/volodymyr1/exps/bird_clef_2025/birdclef_2025/train_extendedv1.csv\", index=False\n",
    ")"
   ]
  },
  {
   "cell_type": "code",
   "execution_count": null,
   "id": "b1501d9e-09a8-4cfa-a67d-f57f71ccab52",
   "metadata": {},
   "outputs": [],
   "source": [
    "librosa.load()"
   ]
  },
  {
   "cell_type": "code",
   "execution_count": 45,
   "id": "62850b4b-2b60-4c61-ae08-9a0cceb76d47",
   "metadata": {},
   "outputs": [
    {
     "data": {
      "text/html": [
       "<div>\n",
       "<style scoped>\n",
       "    .dataframe tbody tr th:only-of-type {\n",
       "        vertical-align: middle;\n",
       "    }\n",
       "\n",
       "    .dataframe tbody tr th {\n",
       "        vertical-align: top;\n",
       "    }\n",
       "\n",
       "    .dataframe thead th {\n",
       "        text-align: right;\n",
       "    }\n",
       "</style>\n",
       "<table border=\"1\" class=\"dataframe\">\n",
       "  <thead>\n",
       "    <tr style=\"text-align: right;\">\n",
       "      <th></th>\n",
       "      <th>primary_label</th>\n",
       "      <th>secondary_labels</th>\n",
       "      <th>type</th>\n",
       "      <th>filename</th>\n",
       "      <th>collection</th>\n",
       "      <th>rating</th>\n",
       "      <th>url</th>\n",
       "      <th>latitude</th>\n",
       "      <th>longitude</th>\n",
       "      <th>scientific_name</th>\n",
       "      <th>common_name</th>\n",
       "      <th>author</th>\n",
       "      <th>license</th>\n",
       "      <th>sample_rate</th>\n",
       "      <th>duration_s</th>\n",
       "      <th>num_channels</th>\n",
       "      <th>bit_depth</th>\n",
       "      <th>encoding</th>\n",
       "    </tr>\n",
       "  </thead>\n",
       "  <tbody>\n",
       "    <tr>\n",
       "      <th>0</th>\n",
       "      <td>1139490</td>\n",
       "      <td>[]</td>\n",
       "      <td>['']</td>\n",
       "      <td>1139490/CSA36385.ogg</td>\n",
       "      <td>CSA</td>\n",
       "      <td>0.0</td>\n",
       "      <td>http://colecciones.humboldt.org.co/rec/sonidos...</td>\n",
       "      <td>7.3206</td>\n",
       "      <td>-73.7128</td>\n",
       "      <td>Ragoniella pulchella</td>\n",
       "      <td>Ragoniella pulchella</td>\n",
       "      <td>Fabio A. Sarria-S</td>\n",
       "      <td>cc-by-nc-sa 4.0</td>\n",
       "      <td>32000</td>\n",
       "      <td>98.853375</td>\n",
       "      <td>1</td>\n",
       "      <td>0</td>\n",
       "      <td>VORBIS</td>\n",
       "    </tr>\n",
       "    <tr>\n",
       "      <th>1</th>\n",
       "      <td>1139490</td>\n",
       "      <td>[]</td>\n",
       "      <td>['']</td>\n",
       "      <td>1139490/CSA36389.ogg</td>\n",
       "      <td>CSA</td>\n",
       "      <td>0.0</td>\n",
       "      <td>http://colecciones.humboldt.org.co/rec/sonidos...</td>\n",
       "      <td>7.3206</td>\n",
       "      <td>-73.7128</td>\n",
       "      <td>Ragoniella pulchella</td>\n",
       "      <td>Ragoniella pulchella</td>\n",
       "      <td>Fabio A. Sarria-S</td>\n",
       "      <td>cc-by-nc-sa 4.0</td>\n",
       "      <td>32000</td>\n",
       "      <td>96.537719</td>\n",
       "      <td>1</td>\n",
       "      <td>0</td>\n",
       "      <td>VORBIS</td>\n",
       "    </tr>\n",
       "    <tr>\n",
       "      <th>2</th>\n",
       "      <td>1192948</td>\n",
       "      <td>[]</td>\n",
       "      <td>['']</td>\n",
       "      <td>1192948/CSA36358.ogg</td>\n",
       "      <td>CSA</td>\n",
       "      <td>0.0</td>\n",
       "      <td>http://colecciones.humboldt.org.co/rec/sonidos...</td>\n",
       "      <td>7.3791</td>\n",
       "      <td>-73.7313</td>\n",
       "      <td>Oxyprora surinamensis</td>\n",
       "      <td>Oxyprora surinamensis</td>\n",
       "      <td>Fabio A. Sarria-S</td>\n",
       "      <td>cc-by-nc-sa 4.0</td>\n",
       "      <td>32000</td>\n",
       "      <td>116.599812</td>\n",
       "      <td>1</td>\n",
       "      <td>0</td>\n",
       "      <td>VORBIS</td>\n",
       "    </tr>\n",
       "    <tr>\n",
       "      <th>3</th>\n",
       "      <td>1192948</td>\n",
       "      <td>[]</td>\n",
       "      <td>['']</td>\n",
       "      <td>1192948/CSA36366.ogg</td>\n",
       "      <td>CSA</td>\n",
       "      <td>0.0</td>\n",
       "      <td>http://colecciones.humboldt.org.co/rec/sonidos...</td>\n",
       "      <td>7.2800</td>\n",
       "      <td>-73.8582</td>\n",
       "      <td>Oxyprora surinamensis</td>\n",
       "      <td>Oxyprora surinamensis</td>\n",
       "      <td>Fabio A. Sarria-S</td>\n",
       "      <td>cc-by-nc-sa 4.0</td>\n",
       "      <td>32000</td>\n",
       "      <td>105.446313</td>\n",
       "      <td>1</td>\n",
       "      <td>0</td>\n",
       "      <td>VORBIS</td>\n",
       "    </tr>\n",
       "    <tr>\n",
       "      <th>4</th>\n",
       "      <td>1192948</td>\n",
       "      <td>[]</td>\n",
       "      <td>['']</td>\n",
       "      <td>1192948/CSA36373.ogg</td>\n",
       "      <td>CSA</td>\n",
       "      <td>0.0</td>\n",
       "      <td>http://colecciones.humboldt.org.co/rec/sonidos...</td>\n",
       "      <td>7.3791</td>\n",
       "      <td>-73.7313</td>\n",
       "      <td>Oxyprora surinamensis</td>\n",
       "      <td>Oxyprora surinamensis</td>\n",
       "      <td>Fabio A. Sarria-S</td>\n",
       "      <td>cc-by-nc-sa 4.0</td>\n",
       "      <td>32000</td>\n",
       "      <td>103.631469</td>\n",
       "      <td>1</td>\n",
       "      <td>0</td>\n",
       "      <td>VORBIS</td>\n",
       "    </tr>\n",
       "    <tr>\n",
       "      <th>...</th>\n",
       "      <td>...</td>\n",
       "      <td>...</td>\n",
       "      <td>...</td>\n",
       "      <td>...</td>\n",
       "      <td>...</td>\n",
       "      <td>...</td>\n",
       "      <td>...</td>\n",
       "      <td>...</td>\n",
       "      <td>...</td>\n",
       "      <td>...</td>\n",
       "      <td>...</td>\n",
       "      <td>...</td>\n",
       "      <td>...</td>\n",
       "      <td>...</td>\n",
       "      <td>...</td>\n",
       "      <td>...</td>\n",
       "      <td>...</td>\n",
       "      <td>...</td>\n",
       "    </tr>\n",
       "    <tr>\n",
       "      <th>28559</th>\n",
       "      <td>ywcpar</td>\n",
       "      <td>[]</td>\n",
       "      <td>['']</td>\n",
       "      <td>ywcpar/iNat77392.ogg</td>\n",
       "      <td>iNat</td>\n",
       "      <td>0.0</td>\n",
       "      <td>https://static.inaturalist.org/sounds/77392.m4a</td>\n",
       "      <td>7.6921</td>\n",
       "      <td>-80.3379</td>\n",
       "      <td>Amazona ochrocephala</td>\n",
       "      <td>Yellow-crowned Parrot</td>\n",
       "      <td>Yennifer Alfaro</td>\n",
       "      <td>cc-by-nc 4.0</td>\n",
       "      <td>32000</td>\n",
       "      <td>3.392000</td>\n",
       "      <td>1</td>\n",
       "      <td>0</td>\n",
       "      <td>VORBIS</td>\n",
       "    </tr>\n",
       "    <tr>\n",
       "      <th>28560</th>\n",
       "      <td>ywcpar</td>\n",
       "      <td>[]</td>\n",
       "      <td>['']</td>\n",
       "      <td>ywcpar/iNat78624.ogg</td>\n",
       "      <td>iNat</td>\n",
       "      <td>0.0</td>\n",
       "      <td>https://static.inaturalist.org/sounds/78624.wav</td>\n",
       "      <td>8.9918</td>\n",
       "      <td>-79.4877</td>\n",
       "      <td>Amazona ochrocephala</td>\n",
       "      <td>Yellow-crowned Parrot</td>\n",
       "      <td>Evan Centanni</td>\n",
       "      <td>cc-by-nc-sa 4.0</td>\n",
       "      <td>32000</td>\n",
       "      <td>7.659688</td>\n",
       "      <td>1</td>\n",
       "      <td>0</td>\n",
       "      <td>VORBIS</td>\n",
       "    </tr>\n",
       "    <tr>\n",
       "      <th>28561</th>\n",
       "      <td>ywcpar</td>\n",
       "      <td>[]</td>\n",
       "      <td>['']</td>\n",
       "      <td>ywcpar/iNat789234.ogg</td>\n",
       "      <td>iNat</td>\n",
       "      <td>0.0</td>\n",
       "      <td>https://static.inaturalist.org/sounds/789234.wav</td>\n",
       "      <td>9.2316</td>\n",
       "      <td>-70.2041</td>\n",
       "      <td>Amazona ochrocephala</td>\n",
       "      <td>Yellow-crowned Parrot</td>\n",
       "      <td>Henrry</td>\n",
       "      <td>cc-by 4.0</td>\n",
       "      <td>32000</td>\n",
       "      <td>7.666656</td>\n",
       "      <td>1</td>\n",
       "      <td>0</td>\n",
       "      <td>VORBIS</td>\n",
       "    </tr>\n",
       "    <tr>\n",
       "      <th>28562</th>\n",
       "      <td>ywcpar</td>\n",
       "      <td>[]</td>\n",
       "      <td>['']</td>\n",
       "      <td>ywcpar/iNat819873.ogg</td>\n",
       "      <td>iNat</td>\n",
       "      <td>0.0</td>\n",
       "      <td>https://static.inaturalist.org/sounds/819873.mp3</td>\n",
       "      <td>10.5838</td>\n",
       "      <td>-66.8545</td>\n",
       "      <td>Amazona ochrocephala</td>\n",
       "      <td>Yellow-crowned Parrot</td>\n",
       "      <td>Alejandro Luy</td>\n",
       "      <td>cc-by-nc 4.0</td>\n",
       "      <td>32000</td>\n",
       "      <td>27.036750</td>\n",
       "      <td>1</td>\n",
       "      <td>0</td>\n",
       "      <td>VORBIS</td>\n",
       "    </tr>\n",
       "    <tr>\n",
       "      <th>28563</th>\n",
       "      <td>ywcpar</td>\n",
       "      <td>[]</td>\n",
       "      <td>['']</td>\n",
       "      <td>ywcpar/iNat922688.ogg</td>\n",
       "      <td>iNat</td>\n",
       "      <td>0.0</td>\n",
       "      <td>https://static.inaturalist.org/sounds/922688.wav</td>\n",
       "      <td>9.1156</td>\n",
       "      <td>-79.4907</td>\n",
       "      <td>Amazona ochrocephala</td>\n",
       "      <td>Yellow-crowned Parrot</td>\n",
       "      <td>Kalvin Chan</td>\n",
       "      <td>cc-0 4.0</td>\n",
       "      <td>32000</td>\n",
       "      <td>16.015031</td>\n",
       "      <td>1</td>\n",
       "      <td>0</td>\n",
       "      <td>VORBIS</td>\n",
       "    </tr>\n",
       "  </tbody>\n",
       "</table>\n",
       "<p>28564 rows × 18 columns</p>\n",
       "</div>"
      ],
      "text/plain": [
       "      primary_label secondary_labels  type               filename collection  \\\n",
       "0           1139490               []  ['']   1139490/CSA36385.ogg        CSA   \n",
       "1           1139490               []  ['']   1139490/CSA36389.ogg        CSA   \n",
       "2           1192948               []  ['']   1192948/CSA36358.ogg        CSA   \n",
       "3           1192948               []  ['']   1192948/CSA36366.ogg        CSA   \n",
       "4           1192948               []  ['']   1192948/CSA36373.ogg        CSA   \n",
       "...             ...              ...   ...                    ...        ...   \n",
       "28559        ywcpar               []  ['']   ywcpar/iNat77392.ogg       iNat   \n",
       "28560        ywcpar               []  ['']   ywcpar/iNat78624.ogg       iNat   \n",
       "28561        ywcpar               []  ['']  ywcpar/iNat789234.ogg       iNat   \n",
       "28562        ywcpar               []  ['']  ywcpar/iNat819873.ogg       iNat   \n",
       "28563        ywcpar               []  ['']  ywcpar/iNat922688.ogg       iNat   \n",
       "\n",
       "       rating                                                url  latitude  \\\n",
       "0         0.0  http://colecciones.humboldt.org.co/rec/sonidos...    7.3206   \n",
       "1         0.0  http://colecciones.humboldt.org.co/rec/sonidos...    7.3206   \n",
       "2         0.0  http://colecciones.humboldt.org.co/rec/sonidos...    7.3791   \n",
       "3         0.0  http://colecciones.humboldt.org.co/rec/sonidos...    7.2800   \n",
       "4         0.0  http://colecciones.humboldt.org.co/rec/sonidos...    7.3791   \n",
       "...       ...                                                ...       ...   \n",
       "28559     0.0    https://static.inaturalist.org/sounds/77392.m4a    7.6921   \n",
       "28560     0.0    https://static.inaturalist.org/sounds/78624.wav    8.9918   \n",
       "28561     0.0   https://static.inaturalist.org/sounds/789234.wav    9.2316   \n",
       "28562     0.0   https://static.inaturalist.org/sounds/819873.mp3   10.5838   \n",
       "28563     0.0   https://static.inaturalist.org/sounds/922688.wav    9.1156   \n",
       "\n",
       "       longitude        scientific_name            common_name  \\\n",
       "0       -73.7128   Ragoniella pulchella   Ragoniella pulchella   \n",
       "1       -73.7128   Ragoniella pulchella   Ragoniella pulchella   \n",
       "2       -73.7313  Oxyprora surinamensis  Oxyprora surinamensis   \n",
       "3       -73.8582  Oxyprora surinamensis  Oxyprora surinamensis   \n",
       "4       -73.7313  Oxyprora surinamensis  Oxyprora surinamensis   \n",
       "...          ...                    ...                    ...   \n",
       "28559   -80.3379   Amazona ochrocephala  Yellow-crowned Parrot   \n",
       "28560   -79.4877   Amazona ochrocephala  Yellow-crowned Parrot   \n",
       "28561   -70.2041   Amazona ochrocephala  Yellow-crowned Parrot   \n",
       "28562   -66.8545   Amazona ochrocephala  Yellow-crowned Parrot   \n",
       "28563   -79.4907   Amazona ochrocephala  Yellow-crowned Parrot   \n",
       "\n",
       "                  author          license  sample_rate  duration_s  \\\n",
       "0      Fabio A. Sarria-S  cc-by-nc-sa 4.0        32000   98.853375   \n",
       "1      Fabio A. Sarria-S  cc-by-nc-sa 4.0        32000   96.537719   \n",
       "2      Fabio A. Sarria-S  cc-by-nc-sa 4.0        32000  116.599812   \n",
       "3      Fabio A. Sarria-S  cc-by-nc-sa 4.0        32000  105.446313   \n",
       "4      Fabio A. Sarria-S  cc-by-nc-sa 4.0        32000  103.631469   \n",
       "...                  ...              ...          ...         ...   \n",
       "28559    Yennifer Alfaro     cc-by-nc 4.0        32000    3.392000   \n",
       "28560      Evan Centanni  cc-by-nc-sa 4.0        32000    7.659688   \n",
       "28561             Henrry        cc-by 4.0        32000    7.666656   \n",
       "28562      Alejandro Luy     cc-by-nc 4.0        32000   27.036750   \n",
       "28563        Kalvin Chan         cc-0 4.0        32000   16.015031   \n",
       "\n",
       "       num_channels  bit_depth encoding  \n",
       "0                 1          0   VORBIS  \n",
       "1                 1          0   VORBIS  \n",
       "2                 1          0   VORBIS  \n",
       "3                 1          0   VORBIS  \n",
       "4                 1          0   VORBIS  \n",
       "...             ...        ...      ...  \n",
       "28559             1          0   VORBIS  \n",
       "28560             1          0   VORBIS  \n",
       "28561             1          0   VORBIS  \n",
       "28562             1          0   VORBIS  \n",
       "28563             1          0   VORBIS  \n",
       "\n",
       "[28564 rows x 18 columns]"
      ]
     },
     "execution_count": 45,
     "metadata": {},
     "output_type": "execute_result"
    }
   ],
   "source": [
    "train_metadata"
   ]
  },
  {
   "cell_type": "code",
   "execution_count": 44,
   "id": "1357eac3-73a0-4482-8de9-ba0669f16d2d",
   "metadata": {},
   "outputs": [
    {
     "data": {
      "text/plain": [
       "(28564, 18)"
      ]
     },
     "execution_count": 44,
     "metadata": {},
     "output_type": "execute_result"
    }
   ],
   "source": [
    "train_metadata.shape"
   ]
  },
  {
   "cell_type": "code",
   "execution_count": 42,
   "id": "003e8923-834d-46cd-b283-0f43237009e4",
   "metadata": {
    "scrolled": true
   },
   "outputs": [
    {
     "data": {
      "text/plain": [
       "{''}"
      ]
     },
     "execution_count": 42,
     "metadata": {},
     "output_type": "execute_result"
    }
   ],
   "source": [
    "(set(train_metadata[\"primary_label\"]) | set(chain(*train_metadata[\"secondary_labels\"]))) - set(scored_birds)"
   ]
  },
  {
   "cell_type": "code",
   "execution_count": 43,
   "id": "60464734-108a-4f2c-809b-a34c5c636caf",
   "metadata": {
    "scrolled": true
   },
   "outputs": [
    {
     "data": {
      "text/plain": [
       "{'1139490',\n",
       " '1192948',\n",
       " '1194042',\n",
       " '126247',\n",
       " '1346504',\n",
       " '134933',\n",
       " '135045',\n",
       " '1462711',\n",
       " '1462737',\n",
       " '1564122',\n",
       " '21038',\n",
       " '21116',\n",
       " '21211',\n",
       " '22333',\n",
       " '22973',\n",
       " '22976',\n",
       " '24272',\n",
       " '24292',\n",
       " '24322',\n",
       " '41663',\n",
       " '41778',\n",
       " '41970',\n",
       " '42007',\n",
       " '42087',\n",
       " '42113',\n",
       " '46010',\n",
       " '47067',\n",
       " '476537',\n",
       " '476538',\n",
       " '48124',\n",
       " '50186',\n",
       " '517119',\n",
       " '523060',\n",
       " '528041',\n",
       " '52884',\n",
       " '548639',\n",
       " '555086',\n",
       " '555142',\n",
       " '566513',\n",
       " '64862',\n",
       " '65336',\n",
       " '65344',\n",
       " '65349',\n",
       " '65373',\n",
       " '65419',\n",
       " '65448',\n",
       " '65547',\n",
       " '65962',\n",
       " '66016',\n",
       " '66531',\n",
       " '66578',\n",
       " '66893',\n",
       " '67082',\n",
       " '67252',\n",
       " '714022',\n",
       " '715170',\n",
       " '787625',\n",
       " '81930',\n",
       " '868458',\n",
       " '963335',\n",
       " 'amakin1',\n",
       " 'amekes',\n",
       " 'ampkin1',\n",
       " 'anhing',\n",
       " 'babwar',\n",
       " 'bafibi1',\n",
       " 'banana',\n",
       " 'baymac',\n",
       " 'bbwduc',\n",
       " 'bicwre1',\n",
       " 'bkcdon',\n",
       " 'bkmtou1',\n",
       " 'blbgra1',\n",
       " 'blbwre1',\n",
       " 'blcant4',\n",
       " 'blchaw1',\n",
       " 'blcjay1',\n",
       " 'blctit1',\n",
       " 'blhpar1',\n",
       " 'blkvul',\n",
       " 'bobfly1',\n",
       " 'bobher1',\n",
       " 'brtpar1',\n",
       " 'bubcur1',\n",
       " 'bubwre1',\n",
       " 'bucmot3',\n",
       " 'bugtan',\n",
       " 'butsal1',\n",
       " 'cargra1',\n",
       " 'cattyr',\n",
       " 'chbant1',\n",
       " 'chfmac1',\n",
       " 'cinbec1',\n",
       " 'cocher1',\n",
       " 'cocwoo1',\n",
       " 'colara1',\n",
       " 'colcha1',\n",
       " 'compau',\n",
       " 'compot1',\n",
       " 'cotfly1',\n",
       " 'crbtan1',\n",
       " 'crcwoo1',\n",
       " 'crebob1',\n",
       " 'cregua1',\n",
       " 'creoro1',\n",
       " 'eardov1',\n",
       " 'fotfly',\n",
       " 'gohman1',\n",
       " 'grasal4',\n",
       " 'grbhaw1',\n",
       " 'greani1',\n",
       " 'greegr',\n",
       " 'greibi1',\n",
       " 'grekis',\n",
       " 'grepot1',\n",
       " 'gretin1',\n",
       " 'grnkin',\n",
       " 'grysee1',\n",
       " 'gybmar',\n",
       " 'gycwor1',\n",
       " 'labter1',\n",
       " 'laufal1',\n",
       " 'leagre',\n",
       " 'linwoo1',\n",
       " 'littin1',\n",
       " 'mastit1',\n",
       " 'neocor',\n",
       " 'norscr1',\n",
       " 'olipic1',\n",
       " 'orcpar',\n",
       " 'palhor2',\n",
       " 'paltan1',\n",
       " 'pavpig2',\n",
       " 'piepuf1',\n",
       " 'pirfly1',\n",
       " 'piwtyr1',\n",
       " 'plbwoo1',\n",
       " 'plctan1',\n",
       " 'plukit1',\n",
       " 'purgal2',\n",
       " 'ragmac1',\n",
       " 'rebbla1',\n",
       " 'recwoo1',\n",
       " 'rinkin1',\n",
       " 'roahaw',\n",
       " 'rosspo1',\n",
       " 'royfly1',\n",
       " 'rtlhum',\n",
       " 'rubsee1',\n",
       " 'rufmot1',\n",
       " 'rugdov',\n",
       " 'rumfly1',\n",
       " 'ruther1',\n",
       " 'rutjac1',\n",
       " 'rutpuf1',\n",
       " 'saffin',\n",
       " 'sahpar1',\n",
       " 'savhaw1',\n",
       " 'secfly1',\n",
       " 'shghum1',\n",
       " 'shtfly1',\n",
       " 'smbani',\n",
       " 'snoegr',\n",
       " 'sobtyr1',\n",
       " 'socfly1',\n",
       " 'solsan',\n",
       " 'soulap1',\n",
       " 'spbwoo1',\n",
       " 'speowl1',\n",
       " 'spepar1',\n",
       " 'srwswa1',\n",
       " 'stbwoo2',\n",
       " 'strcuc1',\n",
       " 'strfly1',\n",
       " 'strher',\n",
       " 'strowl1',\n",
       " 'tbsfin1',\n",
       " 'thbeup1',\n",
       " 'thlsch3',\n",
       " 'trokin',\n",
       " 'tropar',\n",
       " 'trsowl',\n",
       " 'turvul',\n",
       " 'verfly',\n",
       " 'watjac1',\n",
       " 'wbwwre1',\n",
       " 'whbant1',\n",
       " 'whbman1',\n",
       " 'whfant1',\n",
       " 'whmtyr1',\n",
       " 'whtdov',\n",
       " 'whttro1',\n",
       " 'whwswa1',\n",
       " 'woosto',\n",
       " 'y00678',\n",
       " 'yebela1',\n",
       " 'yebfly1',\n",
       " 'yebsee1',\n",
       " 'yecspi2',\n",
       " 'yectyr1',\n",
       " 'yehbla2',\n",
       " 'yehcar1',\n",
       " 'yelori1',\n",
       " 'yeofly1',\n",
       " 'yercac1',\n",
       " 'ywcpar'}"
      ]
     },
     "execution_count": 43,
     "metadata": {},
     "output_type": "execute_result"
    }
   ],
   "source": [
    "set(scored_birds)"
   ]
  },
  {
   "cell_type": "code",
   "execution_count": 47,
   "id": "8a253c0a-0651-48db-80d7-46011aeaf76e",
   "metadata": {},
   "outputs": [
    {
     "data": {
      "text/plain": [
       "206"
      ]
     },
     "execution_count": 47,
     "metadata": {},
     "output_type": "execute_result"
    }
   ],
   "source": [
    "len(scored_birds)"
   ]
  },
  {
   "cell_type": "code",
   "execution_count": 16,
   "id": "afeceeda-430d-42ac-8c98-3fc74e8c657c",
   "metadata": {},
   "outputs": [],
   "source": [
    "write_json(\n",
    "    \"/gpfs/space/projects/BetterMedicine/volodymyr1/exps/bird_clef_2025/birdclef_2025/sb_2024.json\",\n",
    "    scored_birds.to_list()\n",
    ")"
   ]
  },
  {
   "cell_type": "markdown",
   "id": "b3307baa-27dc-4421-b0f8-6ae41dd12683",
   "metadata": {},
   "source": [
    "# Explore undersampled"
   ]
  },
  {
   "cell_type": "code",
   "execution_count": 3,
   "id": "a482bcf7-cff8-4452-b4a6-553b907682cd",
   "metadata": {},
   "outputs": [],
   "source": [
    "train_metadata = pd.read_csv(\n",
    "    \"/gpfs/space/projects/BetterMedicine/volodymyr1/exps/bird_clef_2025/birdclef_2025/train_extendedv1.csv\"\n",
    ")\n",
    "eBird_Taxonomy_v2021 = pd.read_csv(\"/gpfs/space/projects/BetterMedicine/volodymyr1/exps/bird_clef_2025/birdclef_2025/taxonomy.csv\")\n",
    "eBird_Taxonomy_v2021 = eBird_Taxonomy_v2021.merge(\n",
    "    train_metadata[[\"primary_label\", \"collection\"]].drop_duplicates(\"primary_label\"),\n",
    "    on=\"primary_label\"\n",
    ")\n",
    "eBird_Taxonomy_v2021 = eBird_Taxonomy_v2021.merge(\n",
    "    train_metadata[\"primary_label\"].value_counts().reset_index(),\n",
    "    on=\"primary_label\"\n",
    ")"
   ]
  },
  {
   "cell_type": "code",
   "execution_count": 7,
   "id": "a46c6ca8-2f9b-4f55-b6b9-e91c1675cc6a",
   "metadata": {},
   "outputs": [
    {
     "data": {
      "text/html": [
       "<div>\n",
       "<style scoped>\n",
       "    .dataframe tbody tr th:only-of-type {\n",
       "        vertical-align: middle;\n",
       "    }\n",
       "\n",
       "    .dataframe tbody tr th {\n",
       "        vertical-align: top;\n",
       "    }\n",
       "\n",
       "    .dataframe thead th {\n",
       "        text-align: right;\n",
       "    }\n",
       "</style>\n",
       "<table border=\"1\" class=\"dataframe\">\n",
       "  <thead>\n",
       "    <tr style=\"text-align: right;\">\n",
       "      <th></th>\n",
       "      <th>primary_label</th>\n",
       "      <th>inat_taxon_id</th>\n",
       "      <th>scientific_name</th>\n",
       "      <th>common_name</th>\n",
       "      <th>class_name</th>\n",
       "      <th>collection</th>\n",
       "      <th>count</th>\n",
       "    </tr>\n",
       "  </thead>\n",
       "  <tbody>\n",
       "  </tbody>\n",
       "</table>\n",
       "</div>"
      ],
      "text/plain": [
       "Empty DataFrame\n",
       "Columns: [primary_label, inat_taxon_id, scientific_name, common_name, class_name, collection, count]\n",
       "Index: []"
      ]
     },
     "execution_count": 7,
     "metadata": {},
     "output_type": "execute_result"
    }
   ],
   "source": [
    "eBird_Taxonomy_v2021[eBird_Taxonomy_v2021[\"count\"] == 500]"
   ]
  },
  {
   "cell_type": "code",
   "execution_count": 8,
   "id": "99a3da92-9029-45b0-a005-b98a1c570070",
   "metadata": {},
   "outputs": [
    {
     "data": {
      "text/html": [
       "<div>\n",
       "<style scoped>\n",
       "    .dataframe tbody tr th:only-of-type {\n",
       "        vertical-align: middle;\n",
       "    }\n",
       "\n",
       "    .dataframe tbody tr th {\n",
       "        vertical-align: top;\n",
       "    }\n",
       "\n",
       "    .dataframe thead th {\n",
       "        text-align: right;\n",
       "    }\n",
       "</style>\n",
       "<table border=\"1\" class=\"dataframe\">\n",
       "  <thead>\n",
       "    <tr style=\"text-align: right;\">\n",
       "      <th></th>\n",
       "      <th>primary_label</th>\n",
       "      <th>inat_taxon_id</th>\n",
       "      <th>scientific_name</th>\n",
       "      <th>common_name</th>\n",
       "      <th>class_name</th>\n",
       "      <th>collection</th>\n",
       "      <th>count</th>\n",
       "    </tr>\n",
       "  </thead>\n",
       "  <tbody>\n",
       "    <tr>\n",
       "      <th>0</th>\n",
       "      <td>1139490</td>\n",
       "      <td>1139490</td>\n",
       "      <td>Ragoniella pulchella</td>\n",
       "      <td>Ragoniella pulchella</td>\n",
       "      <td>Insecta</td>\n",
       "      <td>CSA</td>\n",
       "      <td>2</td>\n",
       "    </tr>\n",
       "    <tr>\n",
       "      <th>1</th>\n",
       "      <td>1192948</td>\n",
       "      <td>1192948</td>\n",
       "      <td>Oxyprora surinamensis</td>\n",
       "      <td>Oxyprora surinamensis</td>\n",
       "      <td>Insecta</td>\n",
       "      <td>CSA</td>\n",
       "      <td>4</td>\n",
       "    </tr>\n",
       "    <tr>\n",
       "      <th>2</th>\n",
       "      <td>1194042</td>\n",
       "      <td>1194042</td>\n",
       "      <td>Copiphora colombiae</td>\n",
       "      <td>Copiphora colombiae</td>\n",
       "      <td>Insecta</td>\n",
       "      <td>CSA</td>\n",
       "      <td>3</td>\n",
       "    </tr>\n",
       "    <tr>\n",
       "      <th>3</th>\n",
       "      <td>126247</td>\n",
       "      <td>126247</td>\n",
       "      <td>Leptodactylus insularum</td>\n",
       "      <td>Spotted Foam-nest Frog</td>\n",
       "      <td>Amphibia</td>\n",
       "      <td>XC</td>\n",
       "      <td>6</td>\n",
       "    </tr>\n",
       "    <tr>\n",
       "      <th>4</th>\n",
       "      <td>1346504</td>\n",
       "      <td>1346504</td>\n",
       "      <td>Neoconocephalus brachypterus</td>\n",
       "      <td>Neoconocephalus brachypterus</td>\n",
       "      <td>Insecta</td>\n",
       "      <td>CSA</td>\n",
       "      <td>5</td>\n",
       "    </tr>\n",
       "    <tr>\n",
       "      <th>...</th>\n",
       "      <td>...</td>\n",
       "      <td>...</td>\n",
       "      <td>...</td>\n",
       "      <td>...</td>\n",
       "      <td>...</td>\n",
       "      <td>...</td>\n",
       "      <td>...</td>\n",
       "    </tr>\n",
       "    <tr>\n",
       "      <th>201</th>\n",
       "      <td>yehcar1</td>\n",
       "      <td>1432779</td>\n",
       "      <td>Milvago chimachima</td>\n",
       "      <td>Yellow-headed Caracara</td>\n",
       "      <td>Aves</td>\n",
       "      <td>XC</td>\n",
       "      <td>238</td>\n",
       "    </tr>\n",
       "    <tr>\n",
       "      <th>202</th>\n",
       "      <td>yelori1</td>\n",
       "      <td>9352</td>\n",
       "      <td>Icterus nigrogularis</td>\n",
       "      <td>Yellow Oriole</td>\n",
       "      <td>Aves</td>\n",
       "      <td>XC</td>\n",
       "      <td>60</td>\n",
       "    </tr>\n",
       "    <tr>\n",
       "      <th>203</th>\n",
       "      <td>yeofly1</td>\n",
       "      <td>16567</td>\n",
       "      <td>Tolmomyias sulphurescens</td>\n",
       "      <td>Yellow-olive Flycatcher</td>\n",
       "      <td>Aves</td>\n",
       "      <td>XC</td>\n",
       "      <td>525</td>\n",
       "    </tr>\n",
       "    <tr>\n",
       "      <th>204</th>\n",
       "      <td>yercac1</td>\n",
       "      <td>10359</td>\n",
       "      <td>Cacicus cela</td>\n",
       "      <td>Yellow-rumped Cacique</td>\n",
       "      <td>Aves</td>\n",
       "      <td>XC</td>\n",
       "      <td>302</td>\n",
       "    </tr>\n",
       "    <tr>\n",
       "      <th>205</th>\n",
       "      <td>ywcpar</td>\n",
       "      <td>19003</td>\n",
       "      <td>Amazona ochrocephala</td>\n",
       "      <td>Yellow-crowned Parrot</td>\n",
       "      <td>Aves</td>\n",
       "      <td>XC</td>\n",
       "      <td>142</td>\n",
       "    </tr>\n",
       "  </tbody>\n",
       "</table>\n",
       "<p>206 rows × 7 columns</p>\n",
       "</div>"
      ],
      "text/plain": [
       "    primary_label  inat_taxon_id               scientific_name  \\\n",
       "0         1139490        1139490          Ragoniella pulchella   \n",
       "1         1192948        1192948         Oxyprora surinamensis   \n",
       "2         1194042        1194042           Copiphora colombiae   \n",
       "3          126247         126247       Leptodactylus insularum   \n",
       "4         1346504        1346504  Neoconocephalus brachypterus   \n",
       "..            ...            ...                           ...   \n",
       "201       yehcar1        1432779            Milvago chimachima   \n",
       "202       yelori1           9352          Icterus nigrogularis   \n",
       "203       yeofly1          16567      Tolmomyias sulphurescens   \n",
       "204       yercac1          10359                  Cacicus cela   \n",
       "205        ywcpar          19003          Amazona ochrocephala   \n",
       "\n",
       "                      common_name class_name collection  count  \n",
       "0            Ragoniella pulchella    Insecta        CSA      2  \n",
       "1           Oxyprora surinamensis    Insecta        CSA      4  \n",
       "2             Copiphora colombiae    Insecta        CSA      3  \n",
       "3          Spotted Foam-nest Frog   Amphibia         XC      6  \n",
       "4    Neoconocephalus brachypterus    Insecta        CSA      5  \n",
       "..                            ...        ...        ...    ...  \n",
       "201        Yellow-headed Caracara       Aves         XC    238  \n",
       "202                 Yellow Oriole       Aves         XC     60  \n",
       "203       Yellow-olive Flycatcher       Aves         XC    525  \n",
       "204         Yellow-rumped Cacique       Aves         XC    302  \n",
       "205         Yellow-crowned Parrot       Aves         XC    142  \n",
       "\n",
       "[206 rows x 7 columns]"
      ]
     },
     "execution_count": 8,
     "metadata": {},
     "output_type": "execute_result"
    }
   ],
   "source": [
    "eBird_Taxonomy_v2021"
   ]
  },
  {
   "cell_type": "code",
   "execution_count": 36,
   "id": "d42063f5-37ba-4dc1-b68b-f71611fd3dec",
   "metadata": {},
   "outputs": [
    {
     "data": {
      "text/plain": [
       "primary_label                                                 1139490\n",
       "secondary_labels                                                 ['']\n",
       "type                                                             ['']\n",
       "filename                                         1139490/CSA36385.ogg\n",
       "collection                                                        CSA\n",
       "rating                                                            0.0\n",
       "url                 http://colecciones.humboldt.org.co/rec/sonidos...\n",
       "latitude                                                       7.3206\n",
       "longitude                                                    -73.7128\n",
       "scientific_name                                  Ragoniella pulchella\n",
       "common_name                                      Ragoniella pulchella\n",
       "author                                              Fabio A. Sarria-S\n",
       "license                                               cc-by-nc-sa 4.0\n",
       "sample_rate                                                     32000\n",
       "duration_s                                                  98.853375\n",
       "num_channels                                                        1\n",
       "bit_depth                                                           0\n",
       "encoding                                                       VORBIS\n",
       "Name: 0, dtype: object"
      ]
     },
     "execution_count": 36,
     "metadata": {},
     "output_type": "execute_result"
    }
   ],
   "source": [
    "train_metadata[train_metadata[\"collection\"] == \"CSA\"].iloc[0]"
   ]
  },
  {
   "cell_type": "code",
   "execution_count": 28,
   "id": "78c535ea-707e-480f-9f22-a7aec8fafe2e",
   "metadata": {},
   "outputs": [
    {
     "data": {
      "text/html": [
       "<div>\n",
       "<style scoped>\n",
       "    .dataframe tbody tr th:only-of-type {\n",
       "        vertical-align: middle;\n",
       "    }\n",
       "\n",
       "    .dataframe tbody tr th {\n",
       "        vertical-align: top;\n",
       "    }\n",
       "\n",
       "    .dataframe thead th {\n",
       "        text-align: right;\n",
       "    }\n",
       "</style>\n",
       "<table border=\"1\" class=\"dataframe\">\n",
       "  <thead>\n",
       "    <tr style=\"text-align: right;\">\n",
       "      <th></th>\n",
       "      <th>primary_label</th>\n",
       "      <th>inat_taxon_id</th>\n",
       "      <th>scientific_name</th>\n",
       "      <th>common_name</th>\n",
       "      <th>class_name</th>\n",
       "      <th>collection</th>\n",
       "      <th>count</th>\n",
       "    </tr>\n",
       "  </thead>\n",
       "  <tbody>\n",
       "    <tr>\n",
       "      <th>0</th>\n",
       "      <td>1139490</td>\n",
       "      <td>1139490</td>\n",
       "      <td>Ragoniella pulchella</td>\n",
       "      <td>Ragoniella pulchella</td>\n",
       "      <td>Insecta</td>\n",
       "      <td>CSA</td>\n",
       "      <td>2</td>\n",
       "    </tr>\n",
       "    <tr>\n",
       "      <th>1</th>\n",
       "      <td>1192948</td>\n",
       "      <td>1192948</td>\n",
       "      <td>Oxyprora surinamensis</td>\n",
       "      <td>Oxyprora surinamensis</td>\n",
       "      <td>Insecta</td>\n",
       "      <td>CSA</td>\n",
       "      <td>4</td>\n",
       "    </tr>\n",
       "    <tr>\n",
       "      <th>2</th>\n",
       "      <td>1194042</td>\n",
       "      <td>1194042</td>\n",
       "      <td>Copiphora colombiae</td>\n",
       "      <td>Copiphora colombiae</td>\n",
       "      <td>Insecta</td>\n",
       "      <td>CSA</td>\n",
       "      <td>3</td>\n",
       "    </tr>\n",
       "    <tr>\n",
       "      <th>3</th>\n",
       "      <td>126247</td>\n",
       "      <td>126247</td>\n",
       "      <td>Leptodactylus insularum</td>\n",
       "      <td>Spotted Foam-nest Frog</td>\n",
       "      <td>Amphibia</td>\n",
       "      <td>XC</td>\n",
       "      <td>6</td>\n",
       "    </tr>\n",
       "    <tr>\n",
       "      <th>4</th>\n",
       "      <td>1346504</td>\n",
       "      <td>1346504</td>\n",
       "      <td>Neoconocephalus brachypterus</td>\n",
       "      <td>Neoconocephalus brachypterus</td>\n",
       "      <td>Insecta</td>\n",
       "      <td>CSA</td>\n",
       "      <td>5</td>\n",
       "    </tr>\n",
       "    <tr>\n",
       "      <th>...</th>\n",
       "      <td>...</td>\n",
       "      <td>...</td>\n",
       "      <td>...</td>\n",
       "      <td>...</td>\n",
       "      <td>...</td>\n",
       "      <td>...</td>\n",
       "      <td>...</td>\n",
       "    </tr>\n",
       "    <tr>\n",
       "      <th>201</th>\n",
       "      <td>yehcar1</td>\n",
       "      <td>1432779</td>\n",
       "      <td>Milvago chimachima</td>\n",
       "      <td>Yellow-headed Caracara</td>\n",
       "      <td>Aves</td>\n",
       "      <td>XC</td>\n",
       "      <td>238</td>\n",
       "    </tr>\n",
       "    <tr>\n",
       "      <th>202</th>\n",
       "      <td>yelori1</td>\n",
       "      <td>9352</td>\n",
       "      <td>Icterus nigrogularis</td>\n",
       "      <td>Yellow Oriole</td>\n",
       "      <td>Aves</td>\n",
       "      <td>XC</td>\n",
       "      <td>60</td>\n",
       "    </tr>\n",
       "    <tr>\n",
       "      <th>203</th>\n",
       "      <td>yeofly1</td>\n",
       "      <td>16567</td>\n",
       "      <td>Tolmomyias sulphurescens</td>\n",
       "      <td>Yellow-olive Flycatcher</td>\n",
       "      <td>Aves</td>\n",
       "      <td>XC</td>\n",
       "      <td>525</td>\n",
       "    </tr>\n",
       "    <tr>\n",
       "      <th>204</th>\n",
       "      <td>yercac1</td>\n",
       "      <td>10359</td>\n",
       "      <td>Cacicus cela</td>\n",
       "      <td>Yellow-rumped Cacique</td>\n",
       "      <td>Aves</td>\n",
       "      <td>XC</td>\n",
       "      <td>302</td>\n",
       "    </tr>\n",
       "    <tr>\n",
       "      <th>205</th>\n",
       "      <td>ywcpar</td>\n",
       "      <td>19003</td>\n",
       "      <td>Amazona ochrocephala</td>\n",
       "      <td>Yellow-crowned Parrot</td>\n",
       "      <td>Aves</td>\n",
       "      <td>XC</td>\n",
       "      <td>142</td>\n",
       "    </tr>\n",
       "  </tbody>\n",
       "</table>\n",
       "<p>206 rows × 7 columns</p>\n",
       "</div>"
      ],
      "text/plain": [
       "    primary_label  inat_taxon_id               scientific_name  \\\n",
       "0         1139490        1139490          Ragoniella pulchella   \n",
       "1         1192948        1192948         Oxyprora surinamensis   \n",
       "2         1194042        1194042           Copiphora colombiae   \n",
       "3          126247         126247       Leptodactylus insularum   \n",
       "4         1346504        1346504  Neoconocephalus brachypterus   \n",
       "..            ...            ...                           ...   \n",
       "201       yehcar1        1432779            Milvago chimachima   \n",
       "202       yelori1           9352          Icterus nigrogularis   \n",
       "203       yeofly1          16567      Tolmomyias sulphurescens   \n",
       "204       yercac1          10359                  Cacicus cela   \n",
       "205        ywcpar          19003          Amazona ochrocephala   \n",
       "\n",
       "                      common_name class_name collection  count  \n",
       "0            Ragoniella pulchella    Insecta        CSA      2  \n",
       "1           Oxyprora surinamensis    Insecta        CSA      4  \n",
       "2             Copiphora colombiae    Insecta        CSA      3  \n",
       "3          Spotted Foam-nest Frog   Amphibia         XC      6  \n",
       "4    Neoconocephalus brachypterus    Insecta        CSA      5  \n",
       "..                            ...        ...        ...    ...  \n",
       "201        Yellow-headed Caracara       Aves         XC    238  \n",
       "202                 Yellow Oriole       Aves         XC     60  \n",
       "203       Yellow-olive Flycatcher       Aves         XC    525  \n",
       "204         Yellow-rumped Cacique       Aves         XC    302  \n",
       "205         Yellow-crowned Parrot       Aves         XC    142  \n",
       "\n",
       "[206 rows x 7 columns]"
      ]
     },
     "execution_count": 28,
     "metadata": {},
     "output_type": "execute_result"
    }
   ],
   "source": [
    "eBird_Taxonomy_v2021"
   ]
  },
  {
   "cell_type": "code",
   "execution_count": 30,
   "id": "c1fc658f-3efd-4587-b530-301a26c85c2b",
   "metadata": {},
   "outputs": [
    {
     "data": {
      "text/plain": [
       "<Axes: >"
      ]
     },
     "execution_count": 30,
     "metadata": {},
     "output_type": "execute_result"
    },
    {
     "data": {
      "image/png": "[encoded data removed]",
      "text/plain": [
       "<Figure size 640x480 with 1 Axes>"
      ]
     },
     "metadata": {},
     "output_type": "display_data"
    }
   ],
   "source": [
    "eBird_Taxonomy_v2021[\"count\"].hist(bins=100)"
   ]
  },
  {
   "cell_type": "code",
   "execution_count": 34,
   "id": "4c6a5ab4-c70f-438a-9660-5ac3348785e4",
   "metadata": {},
   "outputs": [
    {
     "data": {
      "text/plain": [
       "collection\n",
       "XC      21\n",
       "CSA     17\n",
       "iNat    15\n",
       "Name: count, dtype: int64"
      ]
     },
     "execution_count": 34,
     "metadata": {},
     "output_type": "execute_result"
    }
   ],
   "source": [
    "eBird_Taxonomy_v2021.loc[eBird_Taxonomy_v2021[\"count\"] < 20, \"collection\"].value_counts()"
   ]
  },
  {
   "cell_type": "markdown",
   "id": "0d30652e-0ec1-49b0-9f67-96f0036f861e",
   "metadata": {},
   "source": [
    "# Fix Duplicates"
   ]
  },
  {
   "cell_type": "code",
   "execution_count": null,
   "id": "8d7c9c98-c58d-43d4-a4ca-9576917df935",
   "metadata": {},
   "outputs": [],
   "source": [
    "def plot_n_spectograms_with_librosa(\n",
    "    pathes,\n",
    "    sr: int,\n",
    "    n_mels: int,\n",
    "    fmin: int,\n",
    "    fmax: int,\n",
    "    hop_length: int,\n",
    "    n_fft: int,\n",
    "    n_cols: int = 5,\n",
    "    figsize: tuple = (5, 5),\n",
    "    save_path: str = None,\n",
    "):\n",
    "    \"\"\"\n",
    "    Plot n spectograms from df using librosa\n",
    "    \"\"\"\n",
    "    import librosa\n",
    "    import librosa.display\n",
    "\n",
    "    fig, axs = plt.subplots(\n",
    "        len(pathes), 1, figsize=figsize, sharex=True, sharey=True\n",
    "    )\n",
    "    axs = axs.flatten()\n",
    "    for i, path in enumerate(pathes):\n",
    "        y, sr = librosa.load(f\"/home/vova/data/exps/birdclef_2024/birdclef_2024/train_audio/{path}\", sr=sr)\n",
    "        D = librosa.amplitude_to_db(np.abs(librosa.stft(y, hop_length=hop_length)),ref=np.max)\n",
    "        librosa.display.specshow(D, sr=sr, hop_length=hop_length,x_axis='time', ax=axs[i])\n",
    "    plt.tight_layout()\n",
    "    if save_path:\n",
    "        plt.savefig(save_path)\n",
    "    plt.show()"
   ]
  },
  {
   "cell_type": "code",
   "execution_count": null,
   "id": "caf5cf08-dbd2-4623-8f60-6387782be043",
   "metadata": {},
   "outputs": [],
   "source": [
    "train_metadata = pd.read_csv(\"/home/vova/data/exps/birdclef_2024/birdclef_2024/train_metadata_extended.csv\")\n",
    "train_metadata.head()"
   ]
  },
  {
   "cell_type": "code",
   "execution_count": null,
   "id": "0def3148-2c33-4142-bf1a-fcee1c286526",
   "metadata": {},
   "outputs": [],
   "source": [
    "def merge_duplicates(full_df, dupl_idxs, with_labels_merge=True):\n",
    "    if len(dupl_idxs) > 2 and with_labels_merge:\n",
    "        raise ValueError(\"Can not handle more than 2 dupls\")\n",
    "    dupl_df = full_df.loc[dupl_idxs]\n",
    "    if with_labels_merge:\n",
    "        dupl_df[\"all_labels\"] = dupl_df[\"all_labels\"].apply(eval)\n",
    "        if len(dupl_df) < 2:\n",
    "            import ipdb; ipdb.set_trace()\n",
    "        if set(dupl_df[\"all_labels\"].iloc[0]) != set(dupl_df[\"all_labels\"].iloc[1]):\n",
    "            dupl_df = dupl_df.sort_values(\"rating\", ascending=False)\n",
    "            full_df.loc[dupl_df.index[0], \"secondary_labels\"] = repr(list(set(\n",
    "                eval(full_df.loc[dupl_df.index[0], \"secondary_labels\"]) +\n",
    "                [full_df.loc[dupl_df.index[1], \"primary_label\"]] +\n",
    "                eval(full_df.loc[dupl_df.index[1], \"secondary_labels\"])\n",
    "            )))\n",
    "            full_df.loc[dupl_df.index[0], \"all_labels\"] = repr(list(set(\n",
    "                eval(full_df.loc[dupl_df.index[0], \"all_labels\"]) + eval(full_df.loc[dupl_df.index[1], \"all_labels\"])\n",
    "            )))\n",
    "\n",
    "        full_df = full_df.drop(index=[dupl_df.index[-1]])\n",
    "    else:\n",
    "        full_df = full_df.drop(index=dupl_df.index[1:])\n",
    "    return full_df"
   ]
  },
  {
   "cell_type": "code",
   "execution_count": null,
   "id": "e6d0026a-2e40-46e7-b221-5e0fc8a63030",
   "metadata": {},
   "outputs": [],
   "source": [
    "train_metadata[\"id\"] = train_metadata[\"url\"].apply(lambda x: x.split(\"/\")[-1])"
   ]
  },
  {
   "cell_type": "code",
   "execution_count": null,
   "id": "90ef4fd9-8886-4267-9003-81005adb946e",
   "metadata": {},
   "outputs": [],
   "source": [
    "id_vc = train_metadata[\"id\"].value_counts()"
   ]
  },
  {
   "cell_type": "code",
   "execution_count": null,
   "id": "e0af80fc-582c-40e3-87ac-82c98367222a",
   "metadata": {},
   "outputs": [],
   "source": [
    "duplicated_id = id_vc[id_vc > 1].index"
   ]
  },
  {
   "cell_type": "code",
   "execution_count": null,
   "id": "5f28339c-82d7-4e86-8aeb-6745420664af",
   "metadata": {},
   "outputs": [],
   "source": [
    "for dupl_id in duplicated_id:\n",
    "    print(\"\\n\\n\\nBefore\\n\\n\\n\")\n",
    "    print(train_metadata.loc[train_metadata[\"id\"] == dupl_id, [\"primary_label\", \"secondary_labels\", \"latitude\", \"longitude\", \"duration_s\", \"all_labels\"]])\n",
    "    train_metadata = merge_duplicates(train_metadata, train_metadata[train_metadata[\"id\"] == dupl_id].index)\n",
    "    print(\"\\n\\n\\nAfter\\n\\n\\n\")\n",
    "    print(train_metadata.loc[train_metadata[\"id\"] == dupl_id, [\"primary_label\", \"secondary_labels\", \"latitude\", \"longitude\", \"duration_s\", \"all_labels\"]])"
   ]
  },
  {
   "cell_type": "code",
   "execution_count": null,
   "id": "1c7f89f2-93b4-4e6b-96e0-97ad053d9c49",
   "metadata": {},
   "outputs": [],
   "source": [
    "train_metadata[\"id\"].value_counts()"
   ]
  },
  {
   "cell_type": "code",
   "execution_count": null,
   "id": "bf5c0f5e-9b1a-4bc5-ab16-57baf6182cc5",
   "metadata": {},
   "outputs": [],
   "source": [
    "train_metadata = train_metadata.reset_index(drop=True)"
   ]
  },
  {
   "cell_type": "code",
   "execution_count": null,
   "id": "1feddc7d-d037-40b9-b2e2-0befc9f2e8b8",
   "metadata": {},
   "outputs": [],
   "source": [
    "my_duplicates = train_metadata.groupby([\"duration_s\", \"author\", \"primary_label\"])[\"filename\"].apply(list).to_list()\n",
    "my_duplicates = [el for el in my_duplicates if len(el) > 1]\n",
    "len(my_duplicates)"
   ]
  },
  {
   "cell_type": "code",
   "execution_count": null,
   "id": "e9040343-db8e-474f-9371-88c7c9d58ac7",
   "metadata": {},
   "outputs": [],
   "source": [
    "my_duplicates[187]"
   ]
  },
  {
   "cell_type": "code",
   "execution_count": null,
   "id": "5d15bf96-b555-4cb6-8fdb-42ea870cb2b1",
   "metadata": {
    "tags": []
   },
   "outputs": [],
   "source": [
    "for idx, dupl in enumerate(my_duplicates):\n",
    "    print(f\"Duplicate ID: {idx}\")\n",
    "    plot_n_spectograms_with_librosa(\n",
    "        dupl,\n",
    "        sr=None,\n",
    "        n_mels=129,\n",
    "        fmin=20,\n",
    "        fmax=None,\n",
    "        hop_length=512,\n",
    "        n_fft=1024,\n",
    "    )"
   ]
  },
  {
   "cell_type": "code",
   "execution_count": null,
   "id": "96eb6868-802d-4758-aad7-72cb91b9f54b",
   "metadata": {},
   "outputs": [],
   "source": [
    "my_vis_dupl_indices = [\n",
    "    0, 4, 6, 11, 14, 25, 27, 30, 31, 34, 37, 39, 40, 46, 52, 54, 58, 62, 63, 72, 77, 79, \n",
    "    81, 82, 85, 87, 90, 91, 92, 94, 95, 96, 101, 102, 103, 104, 105, 108, 111, 112, 114, \n",
    "    115, 116, 119, 120, 121, 124, 125, 126, 127, 128, 130, 133, 135, 136, 144, 147, 149, \n",
    "    151, 152, 154, 156, 157, 158, 159, 161, 162, 163, 165, 166, 167, 168, 169, 170, 171, \n",
    "    173, 175, 176, 178, 179, 180, 181, 182, 183, 184, 185, 187\n",
    "]\n",
    "my_duplicates_vis = [my_duplicates[idx] for idx in my_vis_dupl_indices]\n",
    "my_duplicates_vis = [el for el in my_duplicates_vis if len(el) ==2]"
   ]
  },
  {
   "cell_type": "code",
   "execution_count": null,
   "id": "edb991f3-2bba-4104-80e6-22ec90057940",
   "metadata": {},
   "outputs": [],
   "source": [
    "len(my_duplicates_vis)"
   ]
  },
  {
   "cell_type": "code",
   "execution_count": null,
   "id": "3b9cb88f-9fba-4c77-bd83-68bfd07a7de8",
   "metadata": {
    "scrolled": true
   },
   "outputs": [],
   "source": [
    "for idx, dupl in enumerate(my_duplicates_vis):\n",
    "    print(f\"Duplicate ID: {idx}\")\n",
    "    plot_n_spectograms_with_librosa(\n",
    "        dupl,\n",
    "        sr=None,\n",
    "        n_mels=129,\n",
    "        fmin=20,\n",
    "        fmax=None,\n",
    "        hop_length=512,\n",
    "        n_fft=1024,\n",
    "    )"
   ]
  },
  {
   "cell_type": "code",
   "execution_count": null,
   "id": "c3e2f741-a2f4-4d8a-9e32-5b283d40657b",
   "metadata": {},
   "outputs": [],
   "source": [
    "train_metadata.loc[train_metadata[\"filename\"].isin(my_duplicates_vis[0]), [\"primary_label\", \"secondary_labels\", \"latitude\", \"longitude\", \"duration_s\", \"all_labels\"]]"
   ]
  },
  {
   "cell_type": "code",
   "execution_count": null,
   "id": "c7947e84-ad56-43ad-8c76-ee6e91ff2c64",
   "metadata": {},
   "outputs": [],
   "source": [
    "for dupl_fnames in my_duplicates_vis:\n",
    "    print(\"\\n\\n\\nBefore\\n\\n\\n\")\n",
    "    print(train_metadata.loc[train_metadata[\"filename\"].isin(dupl_fnames), [\"primary_label\", \"secondary_labels\", \"latitude\", \"longitude\", \"duration_s\", \"all_labels\"]])\n",
    "    train_metadata = merge_duplicates(train_metadata, train_metadata[train_metadata[\"filename\"].isin(dupl_fnames)].index)\n",
    "    print(\"\\n\\n\\nAfter\\n\\n\\n\")\n",
    "    print(train_metadata.loc[train_metadata[\"filename\"].isin(dupl_fnames), [\"primary_label\", \"secondary_labels\", \"latitude\", \"longitude\", \"duration_s\", \"all_labels\"]])"
   ]
  },
  {
   "cell_type": "code",
   "execution_count": null,
   "id": "6ddd6832-55b9-426f-b96e-044d5e8a5f1b",
   "metadata": {},
   "outputs": [],
   "source": [
    "train_metadata.head()"
   ]
  },
  {
   "cell_type": "code",
   "execution_count": null,
   "id": "bc599649-63f5-4b7d-92c8-3e25fe8e0efb",
   "metadata": {},
   "outputs": [],
   "source": [
    "orig_train_metadata = pd.read_csv(\n",
    "    \"/home/vova/data/exps/birdclef_2024/birdclef_2024/train_metadata_extended.csv\"\n",
    ")"
   ]
  },
  {
   "cell_type": "code",
   "execution_count": null,
   "id": "bd7e5a06-e7d1-4ab4-bba7-fc10b88af0cf",
   "metadata": {},
   "outputs": [],
   "source": [
    "orig_train_metadata.shape[0] - train_metadata.shape[0]"
   ]
  },
  {
   "cell_type": "code",
   "execution_count": null,
   "id": "bce023a3-a4d6-4fb1-90ac-55c98cadeb5f",
   "metadata": {},
   "outputs": [],
   "source": [
    "train_metadata[\"primary_label\"].value_counts()"
   ]
  },
  {
   "cell_type": "code",
   "execution_count": null,
   "id": "c5a8258e-c0db-41a2-94f0-b48ac98f78f9",
   "metadata": {},
   "outputs": [],
   "source": [
    "train_metadata.to_csv(\"/home/vova/data/exps/birdclef_2024/birdclef_2024/train_metadata_extended_noduplv1.csv\", index=False)"
   ]
  },
  {
   "cell_type": "code",
   "execution_count": null,
   "id": "dc2f0323-b7ba-4d01-9e84-914b1f092c16",
   "metadata": {},
   "outputs": [],
   "source": [
    "train_metadata = pd.read_csv(\"/home/vova/data/exps/birdclef_2024/birdclef_2024/train_metadata_extended_noduplv2.csv\")\n",
    "\n",
    "add_data_prev_comp = pd.read_csv(\"/home/vova/data/exps/birdclef_2024/dfs/full_noduplsV3_scored_meta_prev_comps_extended_2024SecLabels.csv\")\n",
    "add_data_prev_comp[\"prev_comp_full\"] = False\n",
    "\n",
    "add_data_xc = pd.read_csv(\"/home/vova/data/exps/birdclef_2024/xeno_canto/dataset_2024_classes/train_metadata_noduplV4_extended_2024SecLabels.csv\")\n",
    "\n",
    "add_data_prev_comp_all = pd.read_csv(\"/home/vova/data/exps/birdclef_2024/dfs/full_noduplsV2_meta_prev_comps_extended.csv\")\n",
    "add_data_prev_comp_all[\"prev_comp_full\"] = True\n",
    "\n",
    "add_data_xc_massive = pd.read_csv(\"/home/vova/data/exps/birdclef_2024/xeno_canto/dataset_NO2024_classes/train_metadata_extended_india_vc50.csv\")\n",
    "\n",
    "# merged = pd.concat([train_metadata, add_data_prev_comp, add_data_xc]).reset_index(drop=True)\n",
    "merged = pd.concat([train_metadata, add_data_xc, add_data_prev_comp, add_data_prev_comp_all, add_data_xc_massive]).reset_index(drop=True)"
   ]
  },
  {
   "cell_type": "code",
   "execution_count": null,
   "id": "9e8b099f-2c02-443a-b0f6-7f4fe52e0064",
   "metadata": {},
   "outputs": [],
   "source": [
    "add_data_xc_massive.shape"
   ]
  },
  {
   "cell_type": "code",
   "execution_count": null,
   "id": "4256838a-a567-424a-a40b-f636f785613d",
   "metadata": {},
   "outputs": [],
   "source": [
    "add_data_xc_massive[\"dataset\"]"
   ]
  },
  {
   "cell_type": "code",
   "execution_count": null,
   "id": "05f9c284-add8-473d-a2b4-28efc42b5c44",
   "metadata": {},
   "outputs": [],
   "source": [
    "merged[\"dataset\"].isna().sum(), (merged[\"dataset\"] == \"xc_2024_classes\").sum(), (~merged[\"prev_comp_full\"].fillna(True)).sum(), merged[\"prev_comp_full\"].sum(),  (merged[\"dataset\"] == \"xc_india_vc50\").sum()"
   ]
  },
  {
   "cell_type": "code",
   "execution_count": null,
   "id": "b5527a1a-b2cd-41d2-9860-acd1bc6babec",
   "metadata": {},
   "outputs": [],
   "source": [
    "merged[\"id\"] = merged[\"url\"].apply(lambda x: x.split(\"/\")[-1])\n",
    "merged = merged.drop_duplicates(\"id\").reset_index()\n",
    "merged = merged.drop(columns=[\"id\"])\n",
    "merged[\"url\"].apply(lambda x: x.split(\"/\")[-1]).value_counts()"
   ]
  },
  {
   "cell_type": "code",
   "execution_count": null,
   "id": "db4f5e1a-9018-4496-9a82-701b6ea0a5ee",
   "metadata": {},
   "outputs": [],
   "source": [
    "merged[\"dataset\"].isna().sum(), (merged[\"dataset\"] == \"xc_2024_classes\").sum(), (~merged[\"prev_comp_full\"].fillna(True)).sum(), merged[\"prev_comp_full\"].sum(), (merged[\"dataset\"] == \"xc_india_vc50\").sum()"
   ]
  },
  {
   "cell_type": "code",
   "execution_count": null,
   "id": "cb701973-9eef-41ed-9adf-b4190f149f29",
   "metadata": {},
   "outputs": [],
   "source": [
    "dupls = merged.groupby([\"duration_s\", \"author\", \"primary_label\", \"latitude\", \"longitude\"])[\"filename\"].apply(list).to_list()\n",
    "dupls = [el for el in dupls if len(el) > 1]"
   ]
  },
  {
   "cell_type": "code",
   "execution_count": null,
   "id": "4cc6ba4b-fc4b-4b31-9ac7-452d23bc07de",
   "metadata": {},
   "outputs": [],
   "source": [
    "len(dupls)"
   ]
  },
  {
   "cell_type": "code",
   "execution_count": null,
   "id": "b1c68d85-f3a6-4c1c-ba46-20f126ee87ac",
   "metadata": {},
   "outputs": [],
   "source": [
    "train_metadat_fnames_set = set(train_metadata[\"filename\"])\n",
    "dupls = [el for el in dupls if not all(sub_el in train_metadat_fnames_set for sub_el in el)]\n",
    "len(dupls)"
   ]
  },
  {
   "cell_type": "code",
   "execution_count": null,
   "id": "1675515d-9ca5-4b64-b212-42bfd8917840",
   "metadata": {},
   "outputs": [],
   "source": [
    "merged[merged[\"filename\"].isin(dupls[-1])]"
   ]
  },
  {
   "cell_type": "code",
   "execution_count": null,
   "id": "355f2408-b818-4dad-9bf3-bc5100a94d61",
   "metadata": {},
   "outputs": [],
   "source": [
    "for dupl_fnames in tqdm(dupls):\n",
    "    merged = merge_duplicates(merged, merged[merged[\"filename\"].isin(dupl_fnames)].index, with_labels_merge=False)\n"
   ]
  },
  {
   "cell_type": "code",
   "execution_count": null,
   "id": "210c5cb8-384f-4c86-bfff-61b6a3728560",
   "metadata": {},
   "outputs": [],
   "source": [
    "merged[merged[\"filename\"].isin(dupls[-1])]"
   ]
  },
  {
   "cell_type": "code",
   "execution_count": null,
   "id": "6697fdcf-8796-45da-9348-6f10b110fc11",
   "metadata": {},
   "outputs": [],
   "source": [
    "merged = merged.reset_index(drop=True)"
   ]
  },
  {
   "cell_type": "code",
   "execution_count": null,
   "id": "1eed1b3f-340a-4e5f-86bc-25179e11af6c",
   "metadata": {},
   "outputs": [],
   "source": [
    "merged[\"dataset\"].value_counts()"
   ]
  },
  {
   "cell_type": "code",
   "execution_count": null,
   "id": "4b9db1e5-2fe4-45a0-a056-7ba02e331b6e",
   "metadata": {},
   "outputs": [],
   "source": [
    "merged[\"dataset\"].isna().sum()"
   ]
  },
  {
   "cell_type": "code",
   "execution_count": null,
   "id": "908dd122-f7af-460a-b95a-d95a343fbb08",
   "metadata": {},
   "outputs": [],
   "source": [
    "new_train_metadata = merged[merged[\"dataset\"].isna()].reset_index(drop=True)\n",
    "\n",
    "new_add_data_prev_comp = merged[~merged[\"prev_comp_full\"].fillna(True)].reset_index(drop=True)\n",
    "\n",
    "new_add_data_prev_comp_all = merged[merged[\"prev_comp_full\"].fillna(False)].reset_index(drop=True)\n",
    "\n",
    "new_add_data_xc = merged[merged[\"dataset\"] == \"xc_2024_classes\"].reset_index(drop=True)\n",
    "\n",
    "new_add_data_xc_massive = merged[merged[\"dataset\"] == \"xc_india_vc50\"].reset_index(drop=True)"
   ]
  },
  {
   "cell_type": "code",
   "execution_count": null,
   "id": "21c10f98-6666-4bb8-8fb7-41e514a10777",
   "metadata": {},
   "outputs": [],
   "source": [
    "new_train_metadata.shape[0] - train_metadata.shape[0], new_add_data_prev_comp.shape[0] - add_data_prev_comp.shape[0], new_add_data_prev_comp_all.shape[0] - add_data_prev_comp_all.shape[0], new_add_data_xc.shape[0] - add_data_xc.shape[0], new_add_data_xc_massive.shape[0] - add_data_xc_massive.shape[0]"
   ]
  },
  {
   "cell_type": "code",
   "execution_count": null,
   "id": "8db62b7d-d631-4165-8f61-61f19cacd330",
   "metadata": {},
   "outputs": [],
   "source": [
    "# new_add_data_prev_comp = new_add_data_prev_comp[~new_add_data_prev_comp[\"url\"].apply(lambda x: x.split(\"/\")[-1]).isin([\"590213\", \"316684\"])].reset_index(drop=True)"
   ]
  },
  {
   "cell_type": "code",
   "execution_count": null,
   "id": "8b39fd97-c345-440e-bfd0-6b186be4b5f1",
   "metadata": {},
   "outputs": [],
   "source": [
    "# new_add_data_xc.to_csv(\"/home/vova/data/exps/birdclef_2024/xeno_canto/dataset_2024_classes/train_metadata_noduplV4_extended_2024SecLabels.csv\", index=False)"
   ]
  },
  {
   "cell_type": "code",
   "execution_count": null,
   "id": "9bd643fc-5d9a-4844-854e-dac9063cc419",
   "metadata": {},
   "outputs": [],
   "source": [
    "new_add_data_prev_comp_all.drop(columns=[\"prev_comp_full\"]).to_csv(\"/home/vova/data/exps/birdclef_2024/dfs/full_noduplsV4_meta_prev_comps_extended.csv\", index=False)"
   ]
  },
  {
   "cell_type": "code",
   "execution_count": null,
   "id": "3b635589-63bc-484b-9701-022a83955fb2",
   "metadata": {},
   "outputs": [],
   "source": [
    "# new_add_data_xc.drop(columns=[\"prev_comp_full\"]).to_csv(\"/home/vova/data/exps/birdclef_2024/xeno_canto/dataset_2024_classes/train_metadata_noduplV5_extended.csv\", index=False)"
   ]
  },
  {
   "cell_type": "code",
   "execution_count": null,
   "id": "895710e9-64d6-47d9-8eaa-ad0f742485f3",
   "metadata": {},
   "outputs": [],
   "source": [
    "new_add_data_xc_massive.drop(columns=[\"prev_comp_full\"]).to_csv(\"/home/vova/data/exps/birdclef_2024/xeno_canto/dataset_NO2024_classes/train_metadata_noduplV5_extended_india_vc50.csv\", index=False)"
   ]
  },
  {
   "cell_type": "code",
   "execution_count": null,
   "id": "aeba0d36-623a-4432-ba49-107932654c11",
   "metadata": {},
   "outputs": [],
   "source": [
    "# new_add_data_prev_comp.to_csv(\"/home/vova/data/exps/birdclef_2024/dfs/full_noduplsV2_meta_prev_comps_extended_pruned.csv\", index=False)\n",
    "# add_data_xc.to_csv(\"/home/vova/data/exps/birdclef_2024/xeno_canto/dataset_2024_classes/train_metadata_noduplV3_extended.csv\", index=False)"
   ]
  },
  {
   "cell_type": "markdown",
   "id": "5c4b8310-53de-4470-8b50-6988cf39576c",
   "metadata": {},
   "source": [
    "# Duplicates from [Discussion](https://www.kaggle.com/competitions/birdclef-2024/discussion/494134)"
   ]
  },
  {
   "cell_type": "code",
   "execution_count": null,
   "id": "daa3231e-de11-4ce4-860e-e45f18f4145d",
   "metadata": {},
   "outputs": [],
   "source": [
    "train_metadata = pd.read_csv(\n",
    "    \"/home/vova/data/exps/birdclef_2024/birdclef_2024/train_metadata_extended_noduplv1.csv\", \n",
    "    # converters={\"secondary_labels\":eval, \"all_labels\": eval}\n",
    ")"
   ]
  },
  {
   "cell_type": "code",
   "execution_count": null,
   "id": "f04deae4-c79b-4d7c-81db-5a93918822da",
   "metadata": {},
   "outputs": [],
   "source": [
    "dupes = list({\n",
    "    (\"asbfly/XC347563.ogg\", \"asbfly/XC341611.ogg\"),\n",
    "    (\"grewar3/XC507658.ogg\", \"grewar3/XC184040.ogg\"),\n",
    "    \n",
    "    ('asbfly/XC724266.ogg', 'asbfly/XC724148.ogg'),\n",
    "    ('barswa/XC575749.ogg', 'barswa/XC575747.ogg'),\n",
    "    ('bcnher/XC669544.ogg', 'bcnher/XC669542.ogg'),\n",
    "    ('bkskit1/XC350251.ogg', 'bkskit1/XC350249.ogg'),\n",
    "    ('blhori1/XC417215.ogg', 'blhori1/XC417133.ogg'),\n",
    "    ('blhori1/XC743616.ogg', 'blhori1/XC537503.ogg'),\n",
    "    ('blrwar1/XC662286.ogg', 'blrwar1/XC662285.ogg'),\n",
    "    ('brakit1/XC743675.ogg', 'brakit1/XC537471.ogg'),\n",
    "    ('brcful1/XC197746.ogg', 'brcful1/XC157971.ogg'),\n",
    "    ('brnshr/XC510751.ogg', 'brnshr/XC510750.ogg'),\n",
    "    ('btbeat1/XC665307.ogg', 'btbeat1/XC513403.ogg'),\n",
    "    ('btbeat1/XC743618.ogg', 'btbeat1/XC683300.ogg'),\n",
    "    ('btbeat1/XC743619.ogg', 'btbeat1/XC683300.ogg'),\n",
    "    ('btbeat1/XC743619.ogg', 'btbeat1/XC743618.ogg'),\n",
    "    ('categr/XC787914.ogg', 'categr/XC438523.ogg'),\n",
    "    ('cohcuc1/XC253418.ogg', 'cohcuc1/XC241127.ogg'),\n",
    "    ('cohcuc1/XC423422.ogg', 'cohcuc1/XC423419.ogg'),\n",
    "    ('comgre/XC202776.ogg', 'comgre/XC192404.ogg'),\n",
    "    ('comgre/XC602468.ogg', 'comgre/XC175341.ogg'),\n",
    "    ('comgre/XC64628.ogg', 'comgre/XC58586.ogg'),\n",
    "    ('comior1/XC305930.ogg', 'comior1/XC303819.ogg'),\n",
    "    ('comkin1/XC207123.ogg', 'comior1/XC207062.ogg'),\n",
    "    ('comkin1/XC691421.ogg', 'comkin1/XC690633.ogg'),\n",
    "    ('commyn/XC577887.ogg', 'commyn/XC577886.ogg'),\n",
    "    ('commyn/XC652903.ogg', 'commyn/XC652901.ogg'),\n",
    "    ('compea/XC665320.ogg', 'compea/XC644022.ogg'),\n",
    "    ('comsan/XC385909.ogg', 'comsan/XC385908.ogg'),\n",
    "    ('comsan/XC643721.ogg', 'comsan/XC642698.ogg'),\n",
    "    ('comsan/XC667807.ogg', 'comsan/XC667806.ogg'),\n",
    "    ('comtai1/XC126749.ogg', 'comtai1/XC122978.ogg'),\n",
    "    ('comtai1/XC305210.ogg', 'comtai1/XC304811.ogg'),\n",
    "    ('comtai1/XC542375.ogg', 'comtai1/XC540351.ogg'),\n",
    "    ('comtai1/XC542379.ogg', 'comtai1/XC540352.ogg'),\n",
    "    ('crfbar1/XC615780.ogg', 'crfbar1/XC615778.ogg'),\n",
    "    ('dafbab1/XC188307.ogg', 'dafbab1/XC187059.ogg'),\n",
    "    ('dafbab1/XC188308.ogg', 'dafbab1/XC187068.ogg'),\n",
    "    ('dafbab1/XC188309.ogg', 'dafbab1/XC187069.ogg'),\n",
    "    ('dafbab1/XC197745.ogg', 'dafbab1/XC157972.ogg'),\n",
    "    ('eaywag1/XC527600.ogg', 'eaywag1/XC527598.ogg'),\n",
    "    ('eucdov/XC355153.ogg', 'eucdov/XC355152.ogg'),\n",
    "    ('eucdov/XC360303.ogg', 'eucdov/XC347428.ogg'),\n",
    "    ('eucdov/XC365606.ogg', 'eucdov/XC124694.ogg'),\n",
    "    ('eucdov/XC371039.ogg', 'eucdov/XC368596.ogg'),\n",
    "    ('eucdov/XC747422.ogg', 'eucdov/XC747408.ogg'),\n",
    "    ('eucdov/XC789608.ogg', 'eucdov/XC788267.ogg'),\n",
    "    ('goflea1/XC163901.ogg', 'bladro1/XC163901.ogg'),\n",
    "    ('goflea1/XC208794.ogg', 'bladro1/XC208794.ogg'),\n",
    "    ('goflea1/XC208795.ogg', 'bladro1/XC208795.ogg'),\n",
    "    ('goflea1/XC209203.ogg', 'bladro1/XC209203.ogg'),\n",
    "    ('goflea1/XC209549.ogg', 'bladro1/XC209549.ogg'),\n",
    "    ('goflea1/XC209564.ogg', 'bladro1/XC209564.ogg'),\n",
    "    ('graher1/XC357552.ogg', 'graher1/XC357551.ogg'),\n",
    "    ('graher1/XC590235.ogg', 'graher1/XC590144.ogg'),\n",
    "    ('grbeat1/XC304004.ogg', 'grbeat1/XC303999.ogg'),\n",
    "    ('grecou1/XC365426.ogg', 'grecou1/XC365425.ogg'),\n",
    "    ('greegr/XC247286.ogg', 'categr/XC197438.ogg'),\n",
    "    ('grewar3/XC743681.ogg', 'grewar3/XC537475.ogg'),\n",
    "    ('grnwar1/XC197744.ogg', 'grnwar1/XC157973.ogg'),\n",
    "    ('grtdro1/XC651708.ogg', 'grtdro1/XC613192.ogg'),\n",
    "    ('grywag/XC459760.ogg', 'grywag/XC457124.ogg'),\n",
    "    ('grywag/XC575903.ogg', 'grywag/XC575901.ogg'),\n",
    "    ('grywag/XC650696.ogg', 'grywag/XC592019.ogg'),\n",
    "    ('grywag/XC690448.ogg', 'grywag/XC655063.ogg'),\n",
    "    ('grywag/XC745653.ogg', 'grywag/XC745650.ogg'),\n",
    "    ('grywag/XC812496.ogg', 'grywag/XC812495.ogg'),\n",
    "    ('heswoo1/XC357155.ogg', 'heswoo1/XC357149.ogg'),\n",
    "    ('heswoo1/XC744698.ogg', 'heswoo1/XC665715.ogg'),\n",
    "    ('hoopoe/XC631301.ogg', 'hoopoe/XC365530.ogg'),\n",
    "    ('hoopoe/XC631304.ogg', 'hoopoe/XC252584.ogg'),\n",
    "    ('houcro1/XC744704.ogg', 'houcro1/XC683047.ogg'),\n",
    "    ('houspa/XC326675.ogg', 'houspa/XC326674.ogg'),\n",
    "    ('inbrob1/XC744708.ogg', 'inbrob1/XC744706.ogg'),\n",
    "    ('insowl1/XC305214.ogg', 'insowl1/XC301142.ogg'),\n",
    "    ('junbab2/XC282587.ogg', 'junbab2/XC282586.ogg'),\n",
    "    ('labcro1/XC267645.ogg', 'labcro1/XC265731.ogg'),\n",
    "    ('labcro1/XC345836.ogg', 'labcro1/XC312582.ogg'),\n",
    "    ('labcro1/XC37773.ogg', 'labcro1/XC19736.ogg'),\n",
    "    ('labcro1/XC447036.ogg', 'houcro1/XC447036.ogg'),\n",
    "    ('labcro1/XC823514.ogg', 'gybpri1/XC823527.ogg'),\n",
    "    ('laudov1/XC185511.ogg', 'grewar3/XC185505.ogg'),\n",
    "    ('laudov1/XC405375.ogg', 'laudov1/XC405374.ogg'),\n",
    "    ('laudov1/XC514027.ogg', 'eucdov/XC514027.ogg'),\n",
    "    ('lblwar1/XC197743.ogg', 'lblwar1/XC157974.ogg'),\n",
    "    ('lewduc1/XC261506.ogg', 'lewduc1/XC254813.ogg'),\n",
    "    ('litegr/XC403621.ogg', 'bcnher/XC403621.ogg'),\n",
    "    ('litegr/XC535540.ogg', 'litegr/XC448898.ogg'),\n",
    "    ('litegr/XC535552.ogg', 'litegr/XC447850.ogg'),\n",
    "    ('litgre1/XC630775.ogg', 'litgre1/XC630560.ogg'),\n",
    "    ('litgre1/XC776082.ogg', 'litgre1/XC663244.ogg'),\n",
    "    ('litspi1/XC674522.ogg', 'comtai1/XC674522.ogg'),\n",
    "    ('litspi1/XC722435.ogg', 'litspi1/XC721636.ogg'),\n",
    "    ('litspi1/XC722436.ogg', 'litspi1/XC721637.ogg'),\n",
    "    ('litswi1/XC443070.ogg', 'litswi1/XC440301.ogg'),\n",
    "    ('lobsun2/XC197742.ogg', 'lobsun2/XC157975.ogg'),\n",
    "    ('maghor2/XC197740.ogg', 'maghor2/XC157978.ogg'),\n",
    "    ('maghor2/XC786588.ogg', 'maghor2/XC786587.ogg'),\n",
    "    ('malpar1/XC197770.ogg', 'malpar1/XC157976.ogg'),\n",
    "    ('marsan/XC383290.ogg', 'marsan/XC383288.ogg'),\n",
    "    ('marsan/XC733175.ogg', 'marsan/XC716673.ogg'),\n",
    "    ('mawthr1/XC455222.ogg', 'mawthr1/XC455211.ogg'),\n",
    "    ('orihob2/XC557991.ogg', 'orihob2/XC557293.ogg'),\n",
    "    ('piebus1/XC165050.ogg', 'piebus1/XC122395.ogg'),\n",
    "    ('piebus1/XC814459.ogg', 'piebus1/XC792272.ogg'),\n",
    "    ('placuc3/XC490344.ogg', 'placuc3/XC486683.ogg'),\n",
    "    ('placuc3/XC572952.ogg', 'placuc3/XC572950.ogg'),\n",
    "    ('plaflo1/XC615781.ogg', 'plaflo1/XC614946.ogg'),\n",
    "    ('purher1/XC467373.ogg', 'graher1/XC467373.ogg'),\n",
    "    ('purher1/XC827209.ogg', 'purher1/XC827207.ogg'),\n",
    "    ('pursun3/XC268375.ogg', 'comtai1/XC241382.ogg'),\n",
    "    ('pursun4/XC514853.ogg', 'pursun4/XC514852.ogg'),\n",
    "    ('putbab1/XC574864.ogg', 'brcful1/XC574864.ogg'),\n",
    "    ('rewbul/XC306398.ogg', 'bkcbul1/XC306398.ogg'),\n",
    "    ('rewbul/XC713308.ogg', 'asbfly/XC713467.ogg'),\n",
    "    ('rewlap1/XC733007.ogg', 'rewlap1/XC732874.ogg'),\n",
    "    ('rorpar/XC199488.ogg', 'rorpar/XC199339.ogg'),\n",
    "    ('rorpar/XC402325.ogg', 'comior1/XC402326.ogg'),\n",
    "    ('rorpar/XC516404.ogg', 'rorpar/XC516402.ogg'),\n",
    "    ('sbeowl1/XC522123.ogg', 'brfowl1/XC522123.ogg'),\n",
    "    ('sohmyn1/XC744700.ogg', 'sohmyn1/XC743682.ogg'),\n",
    "    ('spepic1/XC804432.ogg', 'spepic1/XC804431.ogg'),\n",
    "    ('spodov/XC163930.ogg', 'bladro1/XC163901.ogg'),\n",
    "    ('spodov/XC163930.ogg', 'goflea1/XC163901.ogg'),\n",
    "    ('spoowl1/XC591485.ogg', 'spoowl1/XC591177.ogg'),\n",
    "    ('stbkin1/XC266782.ogg', 'stbkin1/XC266682.ogg'),\n",
    "    ('stbkin1/XC360661.ogg', 'stbkin1/XC199815.ogg'),\n",
    "    ('stbkin1/XC406140.ogg', 'stbkin1/XC406138.ogg'),\n",
    "    ('vefnut1/XC197738.ogg', 'vefnut1/XC157979.ogg'),\n",
    "    ('vefnut1/XC293526.ogg', 'vefnut1/XC289785.ogg'),\n",
    "    ('wemhar1/XC581045.ogg', 'comsan/XC581045.ogg'),\n",
    "    ('wemhar1/XC590355.ogg', 'wemhar1/XC590354.ogg'),\n",
    "    ('whbbul2/XC335671.ogg', 'whbbul2/XC335670.ogg'),\n",
    "    ('whbsho3/XC856465.ogg', 'whbsho3/XC856463.ogg'),\n",
    "    ('whbsho3/XC856468.ogg', 'whbsho3/XC856463.ogg'),\n",
    "    ('whbsho3/XC856468.ogg', 'whbsho3/XC856465.ogg'),\n",
    "    ('whbwat1/XC840073.ogg', 'whbwat1/XC840071.ogg'),\n",
    "    ('whbwoo2/XC239509.ogg', 'rufwoo2/XC239509.ogg'),\n",
    "    ('whcbar1/XC659329.ogg', 'insowl1/XC659329.ogg'),\n",
    "    ('whiter2/XC265271.ogg', 'whiter2/XC265267.ogg'),\n",
    "    ('whtkin2/XC197737.ogg', 'whtkin2/XC157981.ogg'),\n",
    "    ('whtkin2/XC430267.ogg', 'whtkin2/XC430256.ogg'),\n",
    "    ('whtkin2/XC503389.ogg', 'comior1/XC503389.ogg'),\n",
    "    ('whtkin2/XC540094.ogg', 'whtkin2/XC540087.ogg'),\n",
    "    ('woosan/XC184466.ogg', 'marsan/XC184466.ogg'),\n",
    "    ('woosan/XC545316.ogg', 'woosan/XC476064.ogg'),\n",
    "    ('woosan/XC587076.ogg', 'woosan/XC578599.ogg'),\n",
    "    ('woosan/XC742927.ogg', 'woosan/XC740798.ogg'),\n",
    "    ('woosan/XC825766.ogg', 'grnsan/XC825765.ogg'),\n",
    "    ('zitcis1/XC303866.ogg', 'zitcis1/XC302781.ogg'),\n",
    "})"
   ]
  },
  {
   "cell_type": "code",
   "execution_count": null,
   "id": "af0c7403-5de0-4a7c-a529-09a8e5ea6df0",
   "metadata": {},
   "outputs": [],
   "source": [
    "while len(dupes) > 0:\n",
    "    dupe = dupes.pop()\n",
    "    if train_metadata[\"filename\"].isin(dupe).sum() > 1:\n",
    "        print(\"Dropping: \", dupe)\n",
    "        train_metadata = merge_duplicates(\n",
    "            train_metadata, \n",
    "            train_metadata[train_metadata[\"filename\"].isin(dupe)].index, \n",
    "            with_labels_merge=True\n",
    "        )"
   ]
  },
  {
   "cell_type": "code",
   "execution_count": null,
   "id": "291e258e-0301-4b99-850b-32024598fa46",
   "metadata": {},
   "outputs": [],
   "source": [
    "train_metadata = train_metadata.reset_index(drop=True)"
   ]
  },
  {
   "cell_type": "code",
   "execution_count": null,
   "id": "2ec6c881-6e88-4f42-8d64-5b71ef813826",
   "metadata": {},
   "outputs": [],
   "source": [
    "train_metadata[\"primary_label\"].value_counts()"
   ]
  },
  {
   "cell_type": "code",
   "execution_count": null,
   "id": "374f50aa-a298-4320-b897-f574aa434ebe",
   "metadata": {},
   "outputs": [],
   "source": [
    "train_metadata.to_csv(\n",
    "    \"/home/vova/data/exps/birdclef_2024/birdclef_2024/train_metadata_extended_noduplv2.csv\",\n",
    "    index=False\n",
    ")"
   ]
  },
  {
   "cell_type": "markdown",
   "id": "c81ba8c3-8e79-4b49-bc78-57ad4dd44bfa",
   "metadata": {},
   "source": [
    "# Create Merged dataset"
   ]
  },
  {
   "cell_type": "code",
   "execution_count": null,
   "id": "99a525fa-f94a-460b-822a-df0387f3b7c2",
   "metadata": {},
   "outputs": [],
   "source": [
    "train_metadata = pd.read_csv(\"/home/vova/data/exps/birdclef_2024/birdclef_2024/train_metadata_extended_noduplv2.csv\")\n",
    "\n",
    "add_data_prev_comp = pd.read_csv(\"/home/vova/data/exps/birdclef_2024/dfs/full_noduplsV3_scored_meta_prev_comps_extended_2024SecLabels.csv\")\n",
    "\n",
    "add_data_xc = pd.read_csv(\"/home/vova/data/exps/birdclef_2024/xeno_canto/dataset_2024_classes/train_metadata_noduplV4_extended_2024SecLabels.csv\")"
   ]
  },
  {
   "cell_type": "code",
   "execution_count": null,
   "id": "641b885f-9382-48b8-b710-06dd72a0912e",
   "metadata": {},
   "outputs": [],
   "source": [
    "train_metadata[\"dataset\"] = \"base\""
   ]
  },
  {
   "cell_type": "code",
   "execution_count": null,
   "id": "0c935e4f-745f-49af-88df-1f83ec76b013",
   "metadata": {},
   "outputs": [],
   "source": [
    "merged_data = pd.concat([train_metadata, add_data_prev_comp, add_data_xc]).reset_index(drop=True)"
   ]
  },
  {
   "cell_type": "code",
   "execution_count": null,
   "id": "4281113f-1fe8-4735-890c-d93cd1369846",
   "metadata": {},
   "outputs": [],
   "source": [
    "merged_data.to_csv(\n",
    "    \"/home/vova/data/exps/birdclef_2024/birdclef_2024/merged_train_metadata_extended_noduplv2.csv\", index=False\n",
    ")"
   ]
  },
  {
   "cell_type": "markdown",
   "id": "99f51fc5-9531-4eb9-a13d-3a2e4f2ba727",
   "metadata": {},
   "source": [
    "# Handling one sample classes"
   ]
  },
  {
   "cell_type": "code",
   "execution_count": null,
   "id": "a859364e-bd24-4f47-b3fb-abee1963b813",
   "metadata": {},
   "outputs": [],
   "source": [
    "def add_postfix(input, postfix):\n",
    "    base, ext = os.path.splitext(input)\n",
    "    return base + postfix + ext"
   ]
  },
  {
   "cell_type": "code",
   "execution_count": null,
   "id": "a596f2b5-7b0b-4bea-9ce5-f5a9d973112f",
   "metadata": {},
   "outputs": [],
   "source": [
    "one_sample_classes = train_metadata_nodupl[\"primary_label\"].value_counts().iloc[-7:].index"
   ]
  },
  {
   "cell_type": "code",
   "execution_count": null,
   "id": "f0175288-df3a-4f3a-a797-b7b7017403ed",
   "metadata": {},
   "outputs": [],
   "source": [
    "one_sample_df = train_metadata_nodupl[train_metadata_nodupl[\"primary_label\"].isin(one_sample_classes)].reset_index(drop=True)\n",
    "\n",
    "one_sample_df_1 = one_sample_df.copy()\n",
    "one_sample_df_2 = one_sample_df.copy()\n",
    "\n",
    "one_sample_df_1[\"filename\"] = one_sample_df_1[\"filename\"].apply(lambda x: add_postfix(x, \"_1\"))\n",
    "one_sample_df_2[\"filename\"] = one_sample_df_2[\"filename\"].apply(lambda x: add_postfix(x, \"_2\"))\n",
    "\n",
    "one_sample_df_ext = pd.concat([one_sample_df_1, one_sample_df_2])"
   ]
  },
  {
   "cell_type": "code",
   "execution_count": null,
   "id": "1662c1c3-6477-426e-b68e-64777c07f7d2",
   "metadata": {},
   "outputs": [],
   "source": [
    "one_sample_df_ext[\"filename\"].apply(lambda x: os.path.join(\"/home/vova/data/exps/BirdCLEF_2023/birdclef_2023/train_audio/\", x)).to_list()"
   ]
  },
  {
   "cell_type": "code",
   "execution_count": null,
   "id": "45b30355-7425-4736-971a-cfcc2916794d",
   "metadata": {},
   "outputs": [],
   "source": [
    "train_audio_samples = parallel_librosa_load(\n",
    "    one_sample_df_ext[\"filename\"].apply(lambda x: os.path.join(\"/home/vova/data/exps/BirdCLEF_2023/birdclef_2023/train_audio/\", x)).to_list(), \n",
    "    return_sr=False, \n",
    "    sr=None\n",
    ")\n",
    "sample_rates = parallel_librosa_load(\n",
    "    one_sample_df_ext[\"filename\"].apply(lambda x: os.path.join(\"/home/vova/data/exps/BirdCLEF_2023/birdclef_2023/train_audio/\", x)).to_list(), \n",
    "    return_audio=False, \n",
    "    sr=None\n",
    ")"
   ]
  },
  {
   "cell_type": "code",
   "execution_count": null,
   "id": "13f807f7-f0b3-420d-b8c0-2323f01265cd",
   "metadata": {},
   "outputs": [],
   "source": [
    "one_sample_df_ext[\"duration_s\"] = [len(au_) / sr_ for au_, sr_ in zip(train_audio_samples, sample_rates)]"
   ]
  },
  {
   "cell_type": "code",
   "execution_count": null,
   "id": "4a62d7b5-3fc0-4764-87b2-dc4d8b8851f8",
   "metadata": {},
   "outputs": [],
   "source": [
    "train_metadata_nodupl_split_1sample = train_metadata_nodupl.copy()\n",
    "train_metadata_nodupl_split_1sample = train_metadata_nodupl_split_1sample[~train_metadata_nodupl_split_1sample[\"primary_label\"].isin(one_sample_classes)].reset_index(drop=True)\n",
    "train_metadata_nodupl_split_1sample = pd.concat([train_metadata_nodupl_split_1sample, one_sample_df_ext]).reset_index(drop=True)"
   ]
  },
  {
   "cell_type": "code",
   "execution_count": null,
   "id": "83d5ce70-1329-4ab3-a833-efa50bd35cfc",
   "metadata": {},
   "outputs": [],
   "source": [
    "add_data = pd.read_csv(\"/home/vova/data/exps/BirdCLEF_2023/train_metadata_extended_2020_2022_no2023_scored.csv\", converters={\"all_labels\": eval})"
   ]
  },
  {
   "cell_type": "code",
   "execution_count": null,
   "id": "d1fb9a1e-d1a6-4e56-9cb9-2dc9890017bc",
   "metadata": {},
   "outputs": [],
   "source": [
    "train_metadata_nodupl.loc[\n",
    "    train_metadata_nodupl[\"primary_label\"].isin(set(list(chain(*add_data[\"all_labels\"].to_list())))), \n",
    "    \"primary_label\"\n",
    "].value_counts()"
   ]
  },
  {
   "cell_type": "code",
   "execution_count": null,
   "id": "5b39f8c2-b9a8-40d9-a020-46298ff8ec61",
   "metadata": {},
   "outputs": [],
   "source": [
    "train_metadata_nodupl_split_1sample.to_csv(\"/home/vova/data/exps/BirdCLEF_2023/birdclef_2023/train_metadata_extended_nodupl_v1_1SampleSplitV1.csv\", index=False)"
   ]
  },
  {
   "cell_type": "code",
   "execution_count": null,
   "id": "d86f6164-2f5a-4835-b5e1-987e3c1c7a88",
   "metadata": {},
   "outputs": [],
   "source": [
    "train_metadata_nodupl_split_1sample[\"primary_label\"].value_counts()"
   ]
  },
  {
   "cell_type": "markdown",
   "id": "117ce58d-2a00-403f-af89-70b801fe6cd5",
   "metadata": {},
   "source": [
    "# Check 2 Previous steps"
   ]
  },
  {
   "cell_type": "code",
   "execution_count": null,
   "id": "67dc7f73-ddf8-44c8-a6b6-1f91a54b62eb",
   "metadata": {},
   "outputs": [],
   "source": [
    "new_df = pd.read_csv(\"/home/vova/data/exps/BirdCLEF_2023/birdclef_2023/train_metadata_extended_nodupl_v1_1SampleSplitV1.csv\")\n",
    "old_df = pd.read_csv(\"/home/vova/data/exps/BirdCLEF_2023/birdclef_2023/train_metadata_extended.csv\")"
   ]
  },
  {
   "cell_type": "code",
   "execution_count": null,
   "id": "47388b97-12e8-45c9-9a98-7c02eb76d343",
   "metadata": {},
   "outputs": [],
   "source": [
    "duplicates = load_json(\"/home/vova/data/exps/BirdCLEF_2023/birdclef_2023/duplicates_v1.json\")"
   ]
  },
  {
   "cell_type": "markdown",
   "id": "6852ce8f-913f-4913-aea4-25697b6a08bf",
   "metadata": {},
   "source": [
    "# Test Audio Data"
   ]
  },
  {
   "cell_type": "code",
   "execution_count": null,
   "id": "8f698c39-80ff-4b1b-9692-457ea4030499",
   "metadata": {},
   "outputs": [],
   "source": [
    "ipd.Audio(\"/home/vova/data/exps/BirdCLEF_2023/birdclef_2023/test_soundscapes/soundscape_29201.ogg\")"
   ]
  },
  {
   "cell_type": "code",
   "execution_count": null,
   "id": "1cf70e5b-57c7-46ed-bcf1-99768d0cefa0",
   "metadata": {},
   "outputs": [],
   "source": [
    "test_au, test_sr = librosa.load(\"/home/vova/data/exps/BirdCLEF_2023/birdclef_2023/test_soundscapes/soundscape_29201.ogg\", sr=None)"
   ]
  },
  {
   "cell_type": "code",
   "execution_count": null,
   "id": "6a5cb675-9c23-42f9-bddf-a4662acb4b43",
   "metadata": {},
   "outputs": [],
   "source": [
    "len(test_au) / test_sr, test_sr"
   ]
  },
  {
   "cell_type": "markdown",
   "id": "323d67cf-a25e-4b2c-b0aa-e05336241473",
   "metadata": {},
   "source": [
    "# Train Audio "
   ]
  },
  {
   "cell_type": "code",
   "execution_count": null,
   "id": "68096fd0-87ff-4d4d-8e84-1b8a8a5cea58",
   "metadata": {},
   "outputs": [],
   "source": [
    "train_samples = glob(\"/home/vova/data/exps/birdclef_2024/birdclef_2024/train_audio/*/*.ogg\", recursive=True)"
   ]
  },
  {
   "cell_type": "code",
   "execution_count": null,
   "id": "7fcbbb9b-9124-479e-a8e7-a7dfee44ebca",
   "metadata": {},
   "outputs": [],
   "source": [
    "sample_rates = parallel_librosa_load(\n",
    "    train_samples, \n",
    "    return_audio=False, \n",
    "    sr=None\n",
    ")"
   ]
  },
  {
   "cell_type": "code",
   "execution_count": null,
   "id": "7a952fe6-139c-47a3-abf3-b777bbf02369",
   "metadata": {},
   "outputs": [],
   "source": [
    "train_audio_samples = parallel_librosa_load(\n",
    "    train_samples, \n",
    "    return_sr=False, \n",
    "    sr=None\n",
    ")"
   ]
  },
  {
   "cell_type": "code",
   "execution_count": null,
   "id": "24b5ddef-3075-484d-9ee7-4cb8cf26f609",
   "metadata": {},
   "outputs": [],
   "source": [
    "np.unique(sample_rates)"
   ]
  },
  {
   "cell_type": "code",
   "execution_count": null,
   "id": "03664742-0399-42c5-9f26-1f688b6d78cd",
   "metadata": {},
   "outputs": [],
   "source": [
    "train_audio_samples_lens = [len(au_) / sr_ for au_, sr_ in zip(train_audio_samples, sample_rates)]\n",
    "plt.hist(train_audio_samples_lens, bins=30);"
   ]
  },
  {
   "cell_type": "code",
   "execution_count": null,
   "id": "221f9c38-9001-45b1-963e-8e4fcb1ae7d2",
   "metadata": {},
   "outputs": [],
   "source": [
    "def get_filename(path):\n",
    "    return \"/\".join(path.split(\"/\")[-2:])\n",
    "\n",
    "audio_info = pd.DataFrame({\n",
    "    \"filename\":[get_filename(el) for el in train_samples],\n",
    "    \"duration_s\":train_audio_samples_lens\n",
    "})\n",
    "\n",
    "audio_info"
   ]
  },
  {
   "cell_type": "code",
   "execution_count": null,
   "id": "e7e781b3-ca14-4c08-8f06-63b2bfe43e97",
   "metadata": {},
   "outputs": [],
   "source": [
    "(audio_info[\"duration_s\"] < 30).sum() / audio_info.shape[0]"
   ]
  },
  {
   "cell_type": "code",
   "execution_count": null,
   "id": "8582ab07-bff6-4735-8997-a96f0c30a482",
   "metadata": {},
   "outputs": [],
   "source": [
    "train_metadata = train_metadata.merge(audio_info, on=\"filename\")\n",
    "train_metadata"
   ]
  },
  {
   "cell_type": "code",
   "execution_count": null,
   "id": "bd3bc363-f657-4494-a0c1-c9d26ecf7343",
   "metadata": {},
   "outputs": [],
   "source": [
    "train_metadata.url.value_counts()"
   ]
  },
  {
   "cell_type": "code",
   "execution_count": null,
   "id": "fd1c61b7-b574-40ea-8b43-6e44749528fb",
   "metadata": {},
   "outputs": [],
   "source": [
    "train_metadata[train_metadata.url == \"https://www.xeno-canto.org/514027\"]"
   ]
  },
  {
   "cell_type": "code",
   "execution_count": null,
   "id": "68443dea-fecb-41a3-aee1-41be4658d50d",
   "metadata": {},
   "outputs": [],
   "source": [
    "train_metadata.loc[9245, \"secondary_labels\"] = [\"laudov1\"]\n",
    "train_metadata = train_metadata.drop(index=[16259]).reset_index(drop=True)"
   ]
  },
  {
   "cell_type": "code",
   "execution_count": null,
   "id": "3c998fd8-7d3b-4257-8500-50a2580ba7ea",
   "metadata": {},
   "outputs": [],
   "source": [
    "train_metadata[train_metadata.url == \"https://www.xeno-canto.org/514027\"]"
   ]
  },
  {
   "cell_type": "code",
   "execution_count": null,
   "id": "fd5631f5-d1e0-47cf-996c-f0ee722276c6",
   "metadata": {},
   "outputs": [],
   "source": [
    "train_metadata['all_labels'] = train_metadata.apply(lambda x: [x[\"primary_label\"]] + x[\"secondary_labels\"], axis=1)"
   ]
  },
  {
   "cell_type": "code",
   "execution_count": null,
   "id": "9682c466-faa4-4fb1-b067-726823785733",
   "metadata": {},
   "outputs": [],
   "source": [
    "train_metadata.to_csv(\"/home/vova/data/exps/birdclef_2024/birdclef_2024/train_metadata_extended.csv\", index=False)"
   ]
  },
  {
   "cell_type": "markdown",
   "id": "edb590b3-c9d3-408c-a5e6-34d86a5e5081",
   "metadata": {},
   "source": [
    "# Secondary Labels"
   ]
  },
  {
   "cell_type": "code",
   "execution_count": null,
   "id": "0884cecd-380f-453f-b791-5f826fa7375a",
   "metadata": {},
   "outputs": [],
   "source": [
    "train_metadata[\"secondary_labels\"] = train_metadata[\"secondary_labels\"].apply(eval)"
   ]
  },
  {
   "cell_type": "code",
   "execution_count": null,
   "id": "a8a43d76-1d5f-4c17-a06c-dc534ff87c00",
   "metadata": {},
   "outputs": [],
   "source": [
    "secondary_labels_unique = set(list(chain(*train_metadata[\"secondary_labels\"].to_list())))"
   ]
  },
  {
   "cell_type": "code",
   "execution_count": null,
   "id": "fde4b656-d335-4adc-8228-9e5bd0d08059",
   "metadata": {},
   "outputs": [],
   "source": [
    "secondary_labels_unique - set(train_metadata[\"primary_label\"])"
   ]
  },
  {
   "cell_type": "code",
   "execution_count": null,
   "id": "cad58592-1a60-4ade-95c5-f506eead290a",
   "metadata": {
    "tags": []
   },
   "outputs": [],
   "source": [
    "set(train_metadata[\"primary_label\"]) - secondary_labels_unique"
   ]
  },
  {
   "cell_type": "markdown",
   "id": "49a45b38-250a-473a-836f-e3d348634835",
   "metadata": {},
   "source": [
    "# Metric"
   ]
  },
  {
   "cell_type": "code",
   "execution_count": null,
   "id": "244fa279-3542-42e1-b58a-15f425d30005",
   "metadata": {},
   "outputs": [],
   "source": [
    "!pip list | grep scikit"
   ]
  },
  {
   "cell_type": "code",
   "execution_count": null,
   "id": "f9322438-7ea1-4a86-80c0-7f8d3d63f3df",
   "metadata": {},
   "outputs": [],
   "source": [
    "from sklearn.metrics import roc_auc_score"
   ]
  },
  {
   "cell_type": "code",
   "execution_count": null,
   "id": "bf2e5580-379f-4d47-90da-bfb1b89d719b",
   "metadata": {},
   "outputs": [],
   "source": [
    "def adjust_classes(array):\n",
    "    \"\"\" Adjust the array to ensure no column has only one class present.\n",
    "    \n",
    "    Args:\n",
    "    array (np.ndarray): The input array of shape (N_rows, N_classes).\n",
    "    \n",
    "    Returns:\n",
    "    np.ndarray: The adjusted array.\n",
    "    \"\"\"\n",
    "    # Iterate over each column in the array\n",
    "    for col_idx in range(array.shape[1]):\n",
    "        if np.all(array[:, col_idx] == 1):\n",
    "            # If all values in the column are 1, randomly select one row to change to 0\n",
    "            row_to_change = np.random.choice(array.shape[0])\n",
    "            array[row_to_change, col_idx] = 0\n",
    "            \n",
    "    return array\n",
    "\n",
    "def score(solution: pd.DataFrame, submission: pd.DataFrame, row_id_column_name: str = \"row_id\") -> float:\n",
    "    '''\n",
    "    Version of macro-averaged ROC-AUC score that ignores all classes that have no true positive labels.\n",
    "    '''\n",
    "    del solution[row_id_column_name]\n",
    "    del submission[row_id_column_name]\n",
    "\n",
    "    solution_sums = solution.sum(axis=0)\n",
    "    scored_columns = list(solution_sums[solution_sums > 0].index.values)\n",
    "    assert len(scored_columns) > 0\n",
    "\n",
    "    return roc_auc_score(\n",
    "        y_true=solution[scored_columns].values,\n",
    "        y_score=submission[scored_columns].values,\n",
    "        average=\"macro\"\n",
    "    )\n",
    "\n",
    "def score_numpy(y_true: np.ndarray, y_pred: np.ndarray):\n",
    "    scored_columns_mask = y_true.sum(axis=0) > 0\n",
    "\n",
    "    y_true_filtered = y_true.T[scored_columns_mask].T\n",
    "    y_pred_filtered = y_pred.T[scored_columns_mask].T\n",
    "\n",
    "    return roc_auc_score(\n",
    "        y_true=y_true_filtered,\n",
    "        y_score=y_pred_filtered,\n",
    "        average=\"macro\"\n",
    "    )"
   ]
  },
  {
   "cell_type": "code",
   "execution_count": null,
   "id": "6a434b5b-88c7-41a6-8b84-5c4330d8c898",
   "metadata": {},
   "outputs": [],
   "source": [
    "sample_solution = sample_submission.copy()\n",
    "sample_solution[[col for col in sample_solution.columns if col != \"row_id\"]] = adjust_classes(np.random.randint(\n",
    "    0,\n",
    "    2, \n",
    "    size=sample_solution[[col for col in sample_solution.columns if col != \"row_id\"]].shape\n",
    "))"
   ]
  },
  {
   "cell_type": "code",
   "execution_count": null,
   "id": "52f4a75d-bc46-495a-b99e-7e0a9e7a9793",
   "metadata": {},
   "outputs": [],
   "source": [
    "score(\n",
    "    solution=sample_solution.copy(),\n",
    "    submission=sample_submission.copy(),\n",
    ")"
   ]
  },
  {
   "cell_type": "code",
   "execution_count": null,
   "id": "ac8e3313-25b5-401a-8b85-432f61eb5ddd",
   "metadata": {},
   "outputs": [],
   "source": [
    "score(\n",
    "    solution=sample_solution.copy(),\n",
    "    submission=sample_solution.copy(),\n",
    ")"
   ]
  },
  {
   "cell_type": "code",
   "execution_count": null,
   "id": "caa59709-878f-4aa4-8b2c-1006c967e956",
   "metadata": {},
   "outputs": [],
   "source": [
    "score_numpy(\n",
    "    y_true=sample_solution[[col for col in sample_submission.columns if col != \"row_id\"]].values,\n",
    "    y_pred=sample_solution[[col for col in sample_solution.columns if col != \"row_id\"]].values\n",
    ")"
   ]
  },
  {
   "cell_type": "code",
   "execution_count": null,
   "id": "b7fc6ac2-0df8-495d-ba3b-47e3f637e20b",
   "metadata": {},
   "outputs": [],
   "source": [
    "score_numpy(\n",
    "    y_true=sample_solution[[col for col in sample_submission.columns if col != \"row_id\"]].values,\n",
    "    y_pred=sample_submission[[col for col in sample_solution.columns if col != \"row_id\"]].values\n",
    ")"
   ]
  },
  {
   "cell_type": "markdown",
   "id": "e9d90507-c29d-42dd-8aa2-3b37b67fecef",
   "metadata": {},
   "source": [
    "# Sample Weights"
   ]
  },
  {
   "cell_type": "code",
   "execution_count": null,
   "id": "768f4daf-4888-4157-825b-b0bb1a6439af",
   "metadata": {},
   "outputs": [],
   "source": [
    "# sample_weights = train_metadata[\"primary_label\"].value_counts()"
   ]
  },
  {
   "cell_type": "code",
   "execution_count": null,
   "id": "c2a273a7-e05c-4bcf-9e98-5f55e5f294f2",
   "metadata": {},
   "outputs": [],
   "source": [
    "sample_weights = (train_metadata[\"primary_label\"].value_counts() / train_metadata[\"primary_label\"].value_counts().sum())  ** (-0.5)"
   ]
  },
  {
   "cell_type": "code",
   "execution_count": null,
   "id": "3e2b147c-45fd-4f97-a01f-05634f26cd64",
   "metadata": {},
   "outputs": [],
   "source": [
    "write_json(\"/home/vova/data/exps/birdclef_2024/sample_weights/sw_2024_v1.json\", sample_weights.to_dict())"
   ]
  },
  {
   "cell_type": "markdown",
   "id": "66cf9d62-943b-45cd-b658-74a1c65a952d",
   "metadata": {},
   "source": [
    "# CV Split"
   ]
  },
  {
   "cell_type": "code",
   "execution_count": null,
   "id": "47314057-478c-4dae-9802-dbc3e6a41c90",
   "metadata": {},
   "outputs": [],
   "source": [
    "cv_split = np.load(\"/home/vova/data/exps/birdclef_2024/cv_splits/birdclef_2024_5_folds_split.npy\", allow_pickle=True)"
   ]
  },
  {
   "cell_type": "code",
   "execution_count": null,
   "id": "e5e59942-4cea-47d3-a556-58f271f89e92",
   "metadata": {},
   "outputs": [],
   "source": [
    "len(set(train_metadata[\"primary_label\"]))"
   ]
  },
  {
   "cell_type": "markdown",
   "id": "f6413976-f816-40c2-b174-dec987079e92",
   "metadata": {},
   "source": [
    "## CV Split Precise Check"
   ]
  },
  {
   "cell_type": "code",
   "execution_count": null,
   "id": "1ae8679f-92a8-4d2c-abd8-8fe69daae5f0",
   "metadata": {},
   "outputs": [],
   "source": [
    "cv_split = np.load(\"/home/vova/data/exps/birdclef_2024/cv_splits/birdclef_2024_5_folds_split.npy\", allow_pickle=True)\n",
    "df = pd.read_csv(\"/home/vova/data/exps/birdclef_2024/birdclef_2024/train_metadata.csv\")"
   ]
  },
  {
   "cell_type": "code",
   "execution_count": null,
   "id": "7af0529e-a740-4b13-85e8-2158d125974a",
   "metadata": {},
   "outputs": [],
   "source": [
    "all_classes = set(df[\"primary_label\"])\n",
    "len(all_classes)"
   ]
  },
  {
   "cell_type": "code",
   "execution_count": null,
   "id": "6be2ba56-5c17-4d10-8575-0b177e4a60be",
   "metadata": {},
   "outputs": [],
   "source": [
    "for fold_id, (train_idx, val_idx) in enumerate(cv_split):\n",
    "    assert len(set(df[\"filename\"].iloc[val_idx]) & set(df[\"filename\"].iloc[train_idx])) == 0, fold_id\n",
    "    assert set(df[\"primary_label\"].iloc[train_idx]) == all_classes, fold_id"
   ]
  },
  {
   "cell_type": "markdown",
   "id": "e33f178c-5749-4bd4-b8fb-9ecb51b2012c",
   "metadata": {},
   "source": [
    "# Create Fake Test Data"
   ]
  },
  {
   "cell_type": "code",
   "execution_count": null,
   "id": "ae12de27-0179-409d-864c-f6db157c48dc",
   "metadata": {},
   "outputs": [],
   "source": [
    "file_to_copy = \"/home/vova/data/exps/BirdCLEF_2023/birdclef_2023/test_soundscapes/soundscape_29201.ogg\""
   ]
  },
  {
   "cell_type": "code",
   "execution_count": null,
   "id": "229d8161-af16-4a4f-8482-67ad6913ae3c",
   "metadata": {},
   "outputs": [],
   "source": [
    "for i in range(20):\n",
    "    copyfile(\n",
    "        file_to_copy,\n",
    "        f\"/home/vova/data/exps/BirdCLEF_2023/kaggle_datasets/bird_clef_2023_addones/fake_test_20/fake_test_file_{i}.ogg\"\n",
    "    )"
   ]
  },
  {
   "cell_type": "code",
   "execution_count": null,
   "id": "d3105f37-6c7b-46f2-b7ff-abecf24835a7",
   "metadata": {},
   "outputs": [],
   "source": []
  }
 ],
 "metadata": {
  "kernelspec": {
   "display_name": "Python 3 (ipykernel)",
   "language": "python",
   "name": "python3"
  },
  "language_info": {
   "codemirror_mode": {
    "name": "ipython",
    "version": 3
   },
   "file_extension": ".py",
   "mimetype": "text/x-python",
   "name": "python",
   "nbconvert_exporter": "python",
   "pygments_lexer": "ipython3",
   "version": "3.11.1"
  }
 },
 "nbformat": 4,
 "nbformat_minor": 5
}
