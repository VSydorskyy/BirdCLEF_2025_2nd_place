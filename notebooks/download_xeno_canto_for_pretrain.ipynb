{
 "cells": [
  {
   "cell_type": "code",
   "execution_count": null,
   "id": "b9d04246-3f49-4e15-a7bd-49a9132e5a14",
   "metadata": {},
   "outputs": [],
   "source": [
    "import json\n",
    "import os\n",
    "import IPython.display as ipd\n",
    "\n",
    "from glob import glob\n",
    "from os.path import splitext, join as pjoin\n",
    "from itertools import chain\n",
    "from shutil import copyfile\n",
    "from tqdm import tqdm\n",
    "from copy import deepcopy\n",
    "import xenocanto\n",
    "import pandas as pd\n",
    "import numpy as np\n",
    "import librosa\n",
    "import soundfile as SF\n",
    "\n",
    "from code_base.utils.audio_utils import get_audio_metadata\n",
    "from code_base.utils import load_json, write_json"
   ]
  },
  {
   "cell_type": "markdown",
   "id": "d4c3503f-dd53-4f8c-a1b0-671d060cfe1c",
   "metadata": {},
   "source": [
    "# Load Taxonomies"
   ]
  },
  {
   "cell_type": "code",
   "execution_count": null,
   "id": "3b052204-cda9-41b5-9229-a8fe6606394b",
   "metadata": {},
   "outputs": [],
   "source": [
    "eBird_Taxonomy_v2021 = pd.read_csv(\"/gpfs/space/projects/BetterMedicine/volodymyr1/exps/bird_clef_2025/birdclef_2025/taxonomy.csv\")\n",
    "\n",
    "eBird_Taxonomy_v2021[\"scientific_name\"] = eBird_Taxonomy_v2021[\"scientific_name\"].str.lower()\n",
    "eBird_Taxonomy_v2021[\"common_name\"] = eBird_Taxonomy_v2021[\"common_name\"].str.lower()\n",
    "\n",
    "undersampled_df = pd.read_csv(\"undersampled_classes_birdclef_2025.csv\")"
   ]
  },
  {
   "cell_type": "code",
   "execution_count": null,
   "id": "d42fa95e-c935-439e-afc3-a5cec8657ad8",
   "metadata": {},
   "outputs": [],
   "source": [
    "# Prepare load JSON for 2025\n",
    "\n",
    "# write_json(\n",
    "#     \"/gpfs/space/projects/BetterMedicine/volodymyr1/exps/bird_clef_2025/xeno_canto/data_2025/download_species.json\",\n",
    "#     eBird_Taxonomy_v2021[\"scientific_name\"].str.lower().to_list(),\n",
    "# )"
   ]
  },
  {
   "cell_type": "code",
   "execution_count": null,
   "id": "657d351b-c409-4e27-88a9-5b4795fe5d3c",
   "metadata": {},
   "outputs": [],
   "source": [
    "# Enrich taxonomy with previous year taxonomy\n",
    "# It was checked that there are no conflicts\n",
    "\n",
    "taxonomy_2024 = pd.read_csv(\n",
    "    \"/gpfs/space/projects/BetterMedicine/volodymyr1/exps/bird_clef_2025/birdclef_2024/eBird_Taxonomy_v2021.csv\"\n",
    ")\n",
    "taxonomy_2024 = taxonomy_2024.rename(columns={\n",
    "    \"SPECIES_CODE\": \"primary_label\",\n",
    "    \"PRIMARY_COM_NAME\": \"common_name\",\n",
    "    \"SCI_NAME\": \"scientific_name\"\n",
    "})[[\"primary_label\", \"common_name\", \"scientific_name\"]]\n",
    "\n",
    "taxonomy_2024[\"scientific_name\"] = taxonomy_2024[\"scientific_name\"].str.lower()\n",
    "taxonomy_2024[\"common_name\"] = taxonomy_2024[\"common_name\"].str.lower()\n",
    "\n",
    "eBird_Taxonomy_v2021 = pd.concat([\n",
    "    eBird_Taxonomy_v2021,\n",
    "    taxonomy_2024\n",
    "])\n",
    "\n",
    "eBird_Taxonomy_v2021 = eBird_Taxonomy_v2021.drop_duplicates(\"primary_label\")"
   ]
  },
  {
   "cell_type": "code",
   "execution_count": null,
   "id": "99402639-33f3-4dae-b02f-e290abdd86aa",
   "metadata": {},
   "outputs": [],
   "source": [
    "eBird_Taxonomy_v2021.shape"
   ]
  },
  {
   "cell_type": "code",
   "execution_count": null,
   "id": "93593cc4-2f33-4e7a-9c7e-c1b333784354",
   "metadata": {},
   "outputs": [],
   "source": [
    "eBird_Taxonomy_v2021[\"scientific_name\"]"
   ]
  },
  {
   "cell_type": "code",
   "execution_count": null,
   "id": "6bba01ca-c94a-4291-8614-2ef23d5b98d5",
   "metadata": {},
   "outputs": [],
   "source": [
    "# Prepare load JSON for all years and more\n",
    "\n",
    "write_json(\n",
    "    \"/gpfs/space/projects/BetterMedicine/volodymyr1/exps/bird_clef_2025/xeno_canto/data_all_years_and_more/download_species.json\",\n",
    "    eBird_Taxonomy_v2021[\"scientific_name\"].str.lower().to_list(),\n",
    ")"
   ]
  },
  {
   "cell_type": "markdown",
   "id": "3e7a8562-5076-4c1d-a6fc-d04e1071c030",
   "metadata": {},
   "source": [
    "# Check Loading Process"
   ]
  },
  {
   "cell_type": "code",
   "execution_count": null,
   "id": "9005a506-f29a-4a34-8ed1-a764785c536a",
   "metadata": {},
   "outputs": [],
   "source": [
    "downloaded_files = glob(\"/gpfs/space/projects/BetterMedicine/volodymyr1/exps/bird_clef_2025/xeno_canto/data_2025/dataset/audio/**/*.mp3\", recursive=True)"
   ]
  },
  {
   "cell_type": "code",
   "execution_count": null,
   "id": "17777459-7927-44cd-ad6b-41e4b14fade1",
   "metadata": {},
   "outputs": [],
   "source": [
    "# Validate that all IDs are unique\n",
    "len(set([os.path.basename(el) for el in downloaded_files])) == len(downloaded_files)"
   ]
  },
  {
   "cell_type": "code",
   "execution_count": null,
   "id": "3ac5e965-a6fc-4365-8666-cc47f1a089c6",
   "metadata": {},
   "outputs": [],
   "source": [
    "\"877358.mp3\" in set([os.path.basename(el) for el in downloaded_files])"
   ]
  },
  {
   "cell_type": "code",
   "execution_count": null,
   "id": "4cfc43db-0c68-4e2d-b652-68d7c7c53c27",
   "metadata": {},
   "outputs": [],
   "source": [
    "# Check loaded files distribution\n",
    "\n",
    "pd.Series([el.split(\"/\")[-2] for el in downloaded_files]).value_counts()"
   ]
  },
  {
   "cell_type": "markdown",
   "id": "b5a240b5-e29d-428d-8131-ae289f396219",
   "metadata": {},
   "source": [
    "# Process metadata"
   ]
  },
  {
   "cell_type": "code",
   "execution_count": null,
   "id": "c9efd3da-7f02-4b4f-b417-d964ae94bf50",
   "metadata": {},
   "outputs": [],
   "source": [
    "train_metadata = pd.read_csv(\n",
    "    \"/gpfs/space/projects/BetterMedicine/volodymyr1/exps/bird_clef_2025/birdclef_2025/train_and_prev_comps_extendedv1_pruneSL.csv\"\n",
    ")"
   ]
  },
  {
   "cell_type": "code",
   "execution_count": null,
   "id": "95c249d9-eda5-4987-870d-17425baf7673",
   "metadata": {},
   "outputs": [],
   "source": [
    "# Compose initial XC DF\n",
    "\n",
    "all_meta_files = glob(\"/gpfs/space/projects/BetterMedicine/volodymyr1/exps/bird_clef_2025/xeno_canto/data_2025/dataset/metadata/**/*.json\")\n",
    "\n",
    "NEEDED_COLUMNS = [\n",
    "    \"id\",\n",
    "    \"type\",\n",
    "    \"lat\",\n",
    "    \"lng\",\n",
    "    \"en\",\n",
    "    \"gen\",\n",
    "    \"sp\",\n",
    "    \"rec\",\n",
    "    \"time\",\n",
    "    \"url\",\n",
    "    \"also\",\n",
    "    \"file-name\",\n",
    "    \"lic\"\n",
    "]\n",
    "print(f\"Jsons found = {len(all_meta_files)}\")\n",
    "\n",
    "def process_dict(\n",
    "    input,\n",
    "    folder_name,\n",
    "    needed_cols=NEEDED_COLUMNS\n",
    "):\n",
    "    input = {k:v for k,v in input.items() if k in NEEDED_COLUMNS}\n",
    "    input[\"foldername\"] = folder_name\n",
    "    return input\n",
    "\n",
    "add_xeno_canto_df = pd.DataFrame()\n",
    "\n",
    "for meta_file_path in tqdm(all_meta_files):\n",
    "    meta_file = json.load(open(meta_file_path))['recordings']\n",
    "    foldname = meta_file_path.split(\"/\")[-2]\n",
    "    # add_xeno_canto_df = add_xeno_canto_df.append(\n",
    "    #     [process_dict(bird_info, foldname) for bird_info in meta_file],\n",
    "    #     ignore_index=True\n",
    "    # )\n",
    "    add_xeno_canto_df = pd.concat([\n",
    "        add_xeno_canto_df,\n",
    "        pd.DataFrame([process_dict(bird_info, foldname) for bird_info in meta_file])\n",
    "    ]).reset_index(drop=True)"
   ]
  },
  {
   "cell_type": "code",
   "execution_count": null,
   "id": "5634bbdd-ee95-4b54-9d2b-3aed31801d26",
   "metadata": {},
   "outputs": [],
   "source": [
    "# Create existing filename columns\n",
    "\n",
    "add_xeno_canto_df[\"id\"] = add_xeno_canto_df[\"id\"].astype(int) \n",
    "\n",
    "downloaded_files = glob(\"/gpfs/space/projects/BetterMedicine/volodymyr1/exps/bird_clef_2025/xeno_canto/data_2025/dataset/audio/**/*.mp3\", recursive=True)\n",
    "\n",
    "xcid2filename = {\n",
    "    int(os.path.splitext(os.path.basename(el))[0]):el for el in downloaded_files\n",
    "}\n",
    "\n",
    "add_xeno_canto_df[\"filename\"] = add_xeno_canto_df[\"id\"].map(xcid2filename)\n",
    "\n",
    "print(\"Not Loaded Paritition:\", add_xeno_canto_df[\"filename\"].isna().sum() / add_xeno_canto_df.shape[0])"
   ]
  },
  {
   "cell_type": "code",
   "execution_count": null,
   "id": "f0c5ed2b-9873-4296-b3ce-3f8d481b8e4d",
   "metadata": {},
   "outputs": [],
   "source": [
    "# Map columns to casual names and create `scientific_name` column\n",
    "add_xeno_canto_df = add_xeno_canto_df.rename(columns={\n",
    "    \"en\":\"common_name\",\n",
    "    \"lat\": \"latitude\",\n",
    "    \"lng\": \"longitude\",\n",
    "    \"rec\": \"author\",\n",
    "    \"lic\": \"license\"\n",
    "})\n",
    "\n",
    "add_xeno_canto_df[\"scientific_name\"] = add_xeno_canto_df[\"gen\"] + \" \" + add_xeno_canto_df[\"sp\"]"
   ]
  },
  {
   "cell_type": "code",
   "execution_count": null,
   "id": "c950726b-9124-4674-a615-2a283d908db9",
   "metadata": {},
   "outputs": [],
   "source": [
    "# 1. Check which files we have in taxonomy by `common_name` and `scientific_name`\n",
    "# 2. Validate that there no inconsistency in primary label mapping by common_name and scientific_name\n",
    "# 3. Map to primary_label\n",
    "\n",
    "common_name_intersection = set(eBird_Taxonomy_v2021[\"common_name\"]) & set(add_xeno_canto_df[\"common_name\"].str.lower())\n",
    "scientific_name_intersection = set(eBird_Taxonomy_v2021[\"scientific_name\"]) & set(add_xeno_canto_df[\"scientific_name\"].str.lower())\n",
    "\n",
    "add_xeno_canto_df[\"primary_label_cn\"] = None\n",
    "add_xeno_canto_df[\"primary_label_sn\"] = None\n",
    "add_xeno_canto_df.loc[add_xeno_canto_df[\"common_name\"].str.lower().isin(common_name_intersection), \"primary_label_cn\"] = (\n",
    "    add_xeno_canto_df.loc[add_xeno_canto_df[\"common_name\"].str.lower().isin(common_name_intersection), \"common_name\"].str.lower().map(eBird_Taxonomy_v2021.set_index(\"common_name\")[\"primary_label\"].to_dict())\n",
    ")\n",
    "add_xeno_canto_df.loc[add_xeno_canto_df[\"scientific_name\"].str.lower().isin(scientific_name_intersection), \"primary_label_sn\"] = (\n",
    "    add_xeno_canto_df.loc[add_xeno_canto_df[\"scientific_name\"].str.lower().isin(scientific_name_intersection), \"scientific_name\"].str.lower().map(eBird_Taxonomy_v2021.set_index(\"scientific_name\")[\"primary_label\"].to_dict())\n",
    ")\n",
    "\n",
    "assert (add_xeno_canto_df.loc[\n",
    "    (~add_xeno_canto_df[\"primary_label_cn\"].isna()) & (~add_xeno_canto_df[\"primary_label_sn\"].isna()),\n",
    "    \"primary_label_cn\"\n",
    "] != add_xeno_canto_df.loc[\n",
    "    (~add_xeno_canto_df[\"primary_label_cn\"].isna()) & (~add_xeno_canto_df[\"primary_label_sn\"].isna()),\n",
    "    \"primary_label_sn\"\n",
    "]).sum() == 0\n",
    "\n",
    "add_xeno_canto_df[\"primary_label\"] = add_xeno_canto_df[\"primary_label_cn\"]\n",
    "add_xeno_canto_df.loc[add_xeno_canto_df[\"primary_label\"].isna(), \"primary_label\"] = add_xeno_canto_df.loc[add_xeno_canto_df[\"primary_label\"].isna(), \"primary_label_sn\"]"
   ]
  },
  {
   "cell_type": "code",
   "execution_count": null,
   "id": "f6d52975-801b-4ba9-bc6b-d5013995370b",
   "metadata": {},
   "outputs": [],
   "source": [
    "print(\"Not Appropriate Labels Paritition:\", (~add_xeno_canto_df[\"primary_label\"].isna()).sum() / add_xeno_canto_df.shape[0])"
   ]
  },
  {
   "cell_type": "code",
   "execution_count": null,
   "id": "64395f8a-3ca7-4ccc-88c6-9aa43baec583",
   "metadata": {
    "scrolled": true
   },
   "outputs": [],
   "source": [
    "# add_xeno_canto_df.loc[\n",
    "#     (add_xeno_canto_df[\"primary_label_cn\"].isna()) & (add_xeno_canto_df[\"primary_label_sn\"].isna()),\n",
    "#     \"common_name\"\n",
    "# ].drop_duplicates().to_list()"
   ]
  },
  {
   "cell_type": "code",
   "execution_count": null,
   "id": "8fc6dda7-a5bf-4c42-8653-1d9103b31f64",
   "metadata": {},
   "outputs": [],
   "source": [
    "# add_xeno_canto_df.loc[\n",
    "#     (add_xeno_canto_df[\"primary_label_cn\"].isna()) & (add_xeno_canto_df[\"primary_label_sn\"].isna()),\n",
    "#     \"scientific_name\"\n",
    "# ].drop_duplicates().to_list()"
   ]
  },
  {
   "cell_type": "code",
   "execution_count": null,
   "id": "76702e6b-486d-4721-8645-6ad4fd174161",
   "metadata": {},
   "outputs": [],
   "source": [
    "# Apply Filters\n",
    "\n",
    "xc_new_ids = set(add_xeno_canto_df[\"id\"].astype(int)) - set(train_metadata.loc[(train_metadata[\"collection\"].isna()) | (train_metadata[\"collection\"] == \"XC\"), \"id\"].astype(int))\n",
    "\n",
    "# Remove already existing files in train\n",
    "add_xeno_canto_df = add_xeno_canto_df[add_xeno_canto_df[\"id\"].astype(int).isin(xc_new_ids)].reset_index(drop=True)\n",
    "# Remove not matched primary_label\n",
    "add_xeno_canto_df = add_xeno_canto_df[~add_xeno_canto_df[\"primary_label\"].isna()].reset_index(drop=True)\n",
    "# Remove not existing filenames\n",
    "add_xeno_canto_df = add_xeno_canto_df[~add_xeno_canto_df[\"filename\"].isna()].reset_index(drop=True)"
   ]
  },
  {
   "cell_type": "markdown",
   "id": "cdec58ce-5d58-4701-b8fd-c871f8d1f840",
   "metadata": {},
   "source": [
    "## Check Left Classes"
   ]
  },
  {
   "cell_type": "code",
   "execution_count": null,
   "id": "8474e741-a8bf-488f-99b1-f6ff8b1bc5b8",
   "metadata": {},
   "outputs": [],
   "source": [
    "add_xeno_canto_df[\"primary_label\"].value_counts()"
   ]
  },
  {
   "cell_type": "code",
   "execution_count": null,
   "id": "c6b6c241-2db5-4c62-b2c8-ed1300a0e779",
   "metadata": {},
   "outputs": [],
   "source": [
    "undersampled_df[undersampled_df[\"primary_label\"].isin(add_xeno_canto_df[\"primary_label\"])].merge(\n",
    "    add_xeno_canto_df.loc[add_xeno_canto_df[\"primary_label\"].isin(undersampled_df[\"primary_label\"]), \"scientific_name\"].value_counts().reset_index().rename(columns={\"count\":\"add_count_from_XC\"}),\n",
    "    on=\"scientific_name\"\n",
    ")"
   ]
  },
  {
   "cell_type": "code",
   "execution_count": null,
   "id": "ab8f95ba-5bb3-414d-8cf1-1410069d2658",
   "metadata": {},
   "outputs": [],
   "source": [
    "# Continue processing"
   ]
  },
  {
   "cell_type": "code",
   "execution_count": null,
   "id": "eb3aad01-2032-4491-ad34-0c235f00ce29",
   "metadata": {},
   "outputs": [],
   "source": [
    "# Map also, which is secondary_labels, from common_names to primary_label\n",
    "# Ignore species that are not presented in target taxonomy\n",
    "\n",
    "print(\"Number of matched secondary_labels:\", len(set([el.lower() for el in list(chain(*add_xeno_canto_df[\"also\"].tolist()))]) & set(eBird_Taxonomy_v2021[\"scientific_name\"])))\n",
    "print(\"Number of not matched secondary_labels:\", len(set([el.lower() for el in list(chain(*add_xeno_canto_df[\"also\"].tolist()))]) - set(eBird_Taxonomy_v2021[\"scientific_name\"])))\n",
    "\n",
    "pl2sn = eBird_Taxonomy_v2021.set_index(\"scientific_name\")[\"primary_label\"].to_dict()\n",
    "add_xeno_canto_df[\"secondary_labels\"] = add_xeno_canto_df[\"also\"].apply(lambda x: [pl2sn[el.lower()] for el in x if el.lower() in pl2sn])\n",
    "\n",
    "# Double Check\n",
    "print(\"Number of matched secondary_labels:\", len(set([el.lower() for el in list(chain(*add_xeno_canto_df[\"secondary_labels\"].tolist()))])))"
   ]
  },
  {
   "cell_type": "code",
   "execution_count": null,
   "id": "80ae54b4-01bd-471e-b5f6-eea08b173d65",
   "metadata": {},
   "outputs": [],
   "source": [
    "# Retrieve other columns\n",
    "\n",
    "add_xeno_canto_df[\"url\"] = \"https:\" + add_xeno_canto_df[\"url\"]\n",
    "add_xeno_canto_df[\"type\"] = add_xeno_canto_df[\"type\"].apply(lambda x: [el.strip() for el in x.split(\",\")])\n",
    "add_xeno_canto_df[\"rating\"] = None\n",
    "add_xeno_canto_df[\"collection\"] = \"XC\""
   ]
  },
  {
   "cell_type": "code",
   "execution_count": null,
   "id": "174dae90-2091-4da9-af85-5e8c6ab28a0e",
   "metadata": {
    "scrolled": true
   },
   "outputs": [],
   "source": [
    "# Enrich with audio meta\n",
    "\n",
    "add_xeno_canto_audio_meta = pd.DataFrame(add_xeno_canto_df[\"filename\"].apply(get_audio_metadata).to_list())\n",
    "\n",
    "add_xeno_canto_df = pd.concat([\n",
    "    add_xeno_canto_df, add_xeno_canto_audio_meta\n",
    "], axis=1)\n",
    "\n",
    "add_xeno_canto_df = add_xeno_canto_df[~add_xeno_canto_df[\"sample_rate\"].isna()].reset_index(drop=True)"
   ]
  },
  {
   "cell_type": "code",
   "execution_count": null,
   "id": "4910fd0f-ef4c-4ec2-bb6c-2c29bd380e67",
   "metadata": {},
   "outputs": [],
   "source": [
    "# Add dataset specific columns\n",
    "\n",
    "SAVE_DATASET_NAME = \"add_train_audio_from_xeno_canto_28032025\"\n",
    "\n",
    "add_xeno_canto_df[\"dataset\"] = \"xeno_canto_only_2025\"\n",
    "add_xeno_canto_df[\"data_root_id\"] = SAVE_DATASET_NAME"
   ]
  },
  {
   "cell_type": "code",
   "execution_count": null,
   "id": "a32b76ae-dcfe-4ccb-b9b7-319e4c13dca7",
   "metadata": {},
   "outputs": [],
   "source": [
    "# Shrink columns\n",
    "\n",
    "add_xeno_canto_df = add_xeno_canto_df[train_metadata.columns]\n",
    "assert set(train_metadata.columns) == set(add_xeno_canto_df.columns)"
   ]
  },
  {
   "cell_type": "code",
   "execution_count": null,
   "id": "43e638e9-d77c-4bf4-a9b1-358fe359b29e",
   "metadata": {},
   "outputs": [],
   "source": [
    "# Copy only needed audio files\n",
    "\n",
    "new_filenames = []\n",
    "for or_fname, pl_label, sample_id in tqdm(zip(\n",
    "        add_xeno_canto_df[\"filename\"].to_list(),\n",
    "        add_xeno_canto_df[\"primary_label\"].to_list(), \n",
    "        add_xeno_canto_df[\"id\"].to_list()\n",
    ")):\n",
    "    assert int(os.path.splitext(os.path.basename(or_fname))[0]) == sample_id\n",
    "    new_fname = os.path.join(\n",
    "        \"../data\", SAVE_DATASET_NAME, pl_label, os.path.basename(or_fname)\n",
    "    )\n",
    "    if not os.path.exists(os.path.dirname(new_fname)):\n",
    "        os.makedirs(os.path.dirname(new_fname))\n",
    "    copyfile(\n",
    "        or_fname,\n",
    "        new_fname\n",
    "    )\n",
    "    new_filenames.append(new_fname)"
   ]
  },
  {
   "cell_type": "code",
   "execution_count": null,
   "id": "dd5a9e9b-1d58-4d11-9762-5075e67359ba",
   "metadata": {},
   "outputs": [],
   "source": [
    "# Preserve only primary_label/filename.mp3 in filename\n",
    "\n",
    "add_xeno_canto_df[\"filename\"] = [\n",
    "    \"/\".join(el.split(\"/\")[-2:]) for el in new_filenames\n",
    "]"
   ]
  },
  {
   "cell_type": "code",
   "execution_count": null,
   "id": "50376baf-7c20-44b7-b3f4-b426e453e2d9",
   "metadata": {},
   "outputs": [],
   "source": [
    "assert not set(train_metadata.loc[train_metadata[\"collection\"] == \"XC\", \"id\"].apply(int)) & set(add_xeno_canto_df[\"id\"])"
   ]
  },
  {
   "cell_type": "code",
   "execution_count": null,
   "id": "62e08c65-7f30-4183-973f-fa026dc7f517",
   "metadata": {},
   "outputs": [],
   "source": [
    "print(\"Extended dataset will contain next Partition of XC Add Data: \", add_xeno_canto_df.shape[0] / (train_metadata.shape[0] + add_xeno_canto_df.shape[0]))"
   ]
  },
  {
   "cell_type": "code",
   "execution_count": null,
   "id": "ade1e4ad-0bef-4fc0-b258-5d1f7e2e7483",
   "metadata": {},
   "outputs": [],
   "source": [
    "add_xeno_canto_df.to_csv(\n",
    "    \"/gpfs/space/projects/BetterMedicine/volodymyr1/exps/bird_clef_2025/xeno_canto/data_2025/dataset/train_only_2025_snipet28032025.csv\",\n",
    "    index=False\n",
    ")"
   ]
  },
  {
   "cell_type": "code",
   "execution_count": null,
   "id": "33244448-8b2c-4652-b3e2-a2a49575b4b2",
   "metadata": {},
   "outputs": [],
   "source": [
    "# Merge for training\n",
    "\n",
    "train_metadata = pd.concat([\n",
    "    train_metadata,\n",
    "    add_xeno_canto_df\n",
    "], axis=0).reset_index(drop=True)"
   ]
  },
  {
   "cell_type": "code",
   "execution_count": null,
   "id": "c84e7da5-6453-4ca9-949b-4af486440c0f",
   "metadata": {},
   "outputs": [],
   "source": [
    "train_metadata[\"filename\"].value_counts()"
   ]
  },
  {
   "cell_type": "code",
   "execution_count": null,
   "id": "aa0e0296-bc1e-4306-add8-f81fb2512596",
   "metadata": {},
   "outputs": [],
   "source": [
    "train_metadata.to_csv(\n",
    "    \"/gpfs/space/projects/BetterMedicine/volodymyr1/exps/bird_clef_2025/birdclef_2025/train_and_prev_comps_extendedv1_pruneSL_XConly2025_snipet28032025.csv\", index=False\n",
    ")"
   ]
  },
  {
   "cell_type": "code",
   "execution_count": null,
   "id": "864de82a-44bb-4524-bf6f-20fca96580f7",
   "metadata": {},
   "outputs": [],
   "source": [
    "train_metadata[\"data_root_id\"].value_counts()"
   ]
  },
  {
   "cell_type": "markdown",
   "id": "03abb253-d7bc-4cf0-a801-5561eb6727b3",
   "metadata": {},
   "source": [
    "## Prune failed on h5py convertion"
   ]
  },
  {
   "cell_type": "code",
   "execution_count": null,
   "id": "aa757c45-9f8a-4181-beda-bad1f9ebbbbf",
   "metadata": {},
   "outputs": [],
   "source": [
    "add_xeno_canto_df = pd.read_csv(\n",
    "    \"/gpfs/space/projects/BetterMedicine/volodymyr1/exps/bird_clef_2025/xeno_canto/data_2025/dataset/train_only_2025_snipet28032025.csv\",\n",
    ")\n",
    "train_metadata = pd.read_csv(\n",
    "    \"/gpfs/space/projects/BetterMedicine/volodymyr1/exps/bird_clef_2025/birdclef_2025/train_and_prev_comps_extendedv1_pruneSL.csv\"\n",
    ")"
   ]
  },
  {
   "cell_type": "code",
   "execution_count": null,
   "id": "71c52b5a-f76e-4fa2-88bb-9221f9f59f1e",
   "metadata": {},
   "outputs": [],
   "source": [
    "add_xeno_canto_df = add_xeno_canto_df[\n",
    "    add_xeno_canto_df[\"filename\"].apply(lambda x: os.path.join(\"../data/add_train_features_from_xeno_canto_28032025\", x.replace(\".mp3\", \".hdf5\"))).apply(os.path.exists)\n",
    "].reset_index(drop=True)"
   ]
  },
  {
   "cell_type": "code",
   "execution_count": null,
   "id": "5e6252d6-8e80-42de-9ece-58fd47cca410",
   "metadata": {},
   "outputs": [],
   "source": [
    "add_xeno_canto_df.to_csv(\n",
    "    \"/gpfs/space/projects/BetterMedicine/volodymyr1/exps/bird_clef_2025/xeno_canto/data_2025/dataset/train_only_2025_snipet28032025_hdf5.csv\",\n",
    "    index=False\n",
    ")"
   ]
  },
  {
   "cell_type": "code",
   "execution_count": null,
   "id": "ffc1f994-3e67-4da7-9e9f-112faec928a5",
   "metadata": {},
   "outputs": [],
   "source": [
    "# Merge for training\n",
    "\n",
    "train_metadata = pd.concat([\n",
    "    train_metadata,\n",
    "    add_xeno_canto_df\n",
    "], axis=0).reset_index(drop=True)\n",
    "\n",
    "train_metadata.to_csv(\n",
    "    \"/gpfs/space/projects/BetterMedicine/volodymyr1/exps/bird_clef_2025/birdclef_2025/train_and_prev_comps_extendedv1_pruneSL_XConly2025_snipet28032025_hdf5.csv\", index=False\n",
    ")"
   ]
  },
  {
   "cell_type": "code",
   "execution_count": null,
   "id": "a74faf18-9f9f-4c65-ad99-0286172cb4cd",
   "metadata": {},
   "outputs": [],
   "source": []
  },
  {
   "cell_type": "markdown",
   "id": "90c711f0-1968-42f2-bf14-d21f36546aac",
   "metadata": {},
   "source": [
    "# Prepare big Xeno-Canto DF"
   ]
  },
  {
   "cell_type": "code",
   "execution_count": null,
   "id": "d46d9f66-f794-4f00-a373-c7ef96d8af56",
   "metadata": {},
   "outputs": [],
   "source": [
    "dataset_root=\"/home/vova/data/exps/birdclef_2024/xeno_canto/dataset_2024_classes\""
   ]
  },
  {
   "cell_type": "code",
   "execution_count": null,
   "id": "21eda5f8-ef1c-4f81-b7d1-f611e7bdb0c9",
   "metadata": {},
   "outputs": [],
   "source": [
    "print(f\"Downloaded\\nspecies = {len(glob(os.path.join(dataset_root, 'audio/*')))}\\nsamples = {len(glob(os.path.join(dataset_root, 'audio/*/*.mp3')))}\")\n",
    "print(f\"Ready samples {round(len(glob(os.path.join(dataset_root, 'audio/*'))) / len(json.load(open(os.path.join(dataset_root, 'all_xeno_canto_species.json')))), 3)*100}%\")"
   ]
  },
  {
   "cell_type": "code",
   "execution_count": null,
   "id": "e2a36668-b05f-42b0-b88b-d8774ad1ae4f",
   "metadata": {},
   "outputs": [],
   "source": [
    "all_meta_files = glob(os.path.join(dataset_root, \"metadata/**/*.json\"))\n",
    "\n",
    "NEEDED_COLUMNS = [\n",
    "    \"id\",\n",
    "    \"type\",\n",
    "    \"lat\",\n",
    "    \"lng\",\n",
    "    \"en\",\n",
    "    \"gen\",\n",
    "    \"sp\",\n",
    "    \"rec\",\n",
    "    \"time\",\n",
    "    \"url\",\n",
    "    \"also\",\n",
    "    \"file-name\",\n",
    "    \"lic\"\n",
    "]\n",
    "print(f\"Jsons found = {len(all_meta_files)}\")\n",
    "\n",
    "def process_dict(\n",
    "    input,\n",
    "    folder_name,\n",
    "    needed_cols=NEEDED_COLUMNS\n",
    "):\n",
    "    input = {k:v for k,v in input.items() if k in NEEDED_COLUMNS}\n",
    "    input[\"foldername\"] = folder_name\n",
    "    return input\n",
    "\n",
    "add_xeno_canto_df = pd.DataFrame()\n",
    "\n",
    "for meta_file_path in tqdm(all_meta_files):\n",
    "    meta_file = json.load(open(meta_file_path))['recordings']\n",
    "    foldname = meta_file_path.split(\"/\")[-2]\n",
    "    add_xeno_canto_df = pd.concat([\n",
    "        add_xeno_canto_df,\n",
    "        pd.DataFrame([process_dict(bird_info, foldname) for bird_info in meta_file])\n",
    "    ]).reset_index(drop=True)\n",
    "    \n",
    "add_xeno_canto_df = add_xeno_canto_df.rename(columns={\n",
    "    \"en\":\"common_name\",\n",
    "    \"lat\": \"latitude\",\n",
    "    \"lng\": \"longitude\",\n",
    "    \"rec\": \"author\",\n",
    "    \"lic\": \"license\"\n",
    "})\n",
    "\n",
    "add_xeno_canto_df[\"scientific_name\"] = add_xeno_canto_df[\"gen\"] + \" \" + add_xeno_canto_df[\"sp\"]\n",
    "add_xeno_canto_df[\"primary_label\"] = add_xeno_canto_df[\"common_name\"]\n",
    "add_xeno_canto_df[\"url\"] = \"https:\" + add_xeno_canto_df[\"url\"]\n",
    "add_xeno_canto_df[\"type\"] = add_xeno_canto_df[\"type\"].apply(lambda x: [el.strip() for el in x.split(\",\")])\n",
    "add_xeno_canto_df[\"rating\"] = None\n",
    "\n",
    "add_xeno_canto_df[\"secondary_labels\"] = add_xeno_canto_df[\"also\"]\n",
    "add_xeno_canto_df[\"filename\"] = add_xeno_canto_df[\"primary_label\"] + \"/\" + add_xeno_canto_df[\"id\"].astype(str) + \".mp3\""
   ]
  },
  {
   "cell_type": "code",
   "execution_count": null,
   "id": "533b3297-afd5-4b87-a5f1-ae65ede3db07",
   "metadata": {},
   "outputs": [],
   "source": [
    "add_xeno_canto_df.shape"
   ]
  },
  {
   "cell_type": "code",
   "execution_count": null,
   "id": "5098e66e-4564-4cc2-ac37-375d893421d5",
   "metadata": {},
   "outputs": [],
   "source": [
    "# add_xeno_canto_df.to_csv(\"dataset/raw_metadata_07_05_2022.csv\", index=False)\n",
    "# add_xeno_canto_df = pd.read_csv(\"dataset/raw_metadata_07_05_2022.csv\", converters={\"secondary_labels\": eval})"
   ]
  },
  {
   "cell_type": "code",
   "execution_count": null,
   "id": "e594d042-a7b7-4444-b3f5-6b29218d073c",
   "metadata": {},
   "outputs": [],
   "source": [
    "all_loaded_samples = glob(os.path.join(dataset_root, \"audio/*/*.mp3\"))\n",
    "all_loaded_samples_id = [int(os.path.splitext(os.path.basename(el))[0]) for el in all_loaded_samples]\n",
    "\n",
    "add_xeno_canto_df[\"id\"] = add_xeno_canto_df[\"id\"].astype(int)\n",
    "add_xeno_canto_df = add_xeno_canto_df.drop_duplicates(\"id\").reset_index(drop=True)\n",
    "add_xeno_canto_df = add_xeno_canto_df[add_xeno_canto_df[\"id\"].isin(set(all_loaded_samples_id))].reset_index(drop=True)"
   ]
  },
  {
   "cell_type": "code",
   "execution_count": null,
   "id": "70baaf40-0ee6-43e7-94ff-5b0e9ca15b65",
   "metadata": {},
   "outputs": [],
   "source": [
    "train_metadata = pd.read_csv(\"/home/vova/data/exps/birdclef_2024/birdclef_2024/train_metadata_extended.csv\", converters={\"secondary_labels\": eval, \"all_labels\": eval})\n",
    "train_metadata_prev_comps = pd.read_csv(\n",
    "    \"/home/vova/data/exps/birdclef_2024/dfs/full_nodupls_meta_prev_comps_extended.csv\", \n",
    "    converters={\"secondary_labels\": eval, \"all_labels\": eval}\n",
    ")"
   ]
  },
  {
   "cell_type": "code",
   "execution_count": null,
   "id": "683e8602-c6fa-4a20-b75d-c49511e6d4cb",
   "metadata": {},
   "outputs": [],
   "source": [
    "comp_data = pd.concat([\n",
    "    train_metadata[[\"primary_label\", \"scientific_name\", \"common_name\", \"url\", \"secondary_labels\"]],\n",
    "    train_metadata_prev_comps[[\"primary_label\", \"scientific_name\", \"common_name\", \"url\", \"secondary_labels\"]]\n",
    "]).reset_index(drop=True)\n",
    "comp_data[\"id\"] = comp_data[\"url\"].apply(lambda x: int(x.split(\"/\")[-1]))"
   ]
  },
  {
   "cell_type": "code",
   "execution_count": null,
   "id": "05be2850-b7a6-4b38-85af-978a512a23f2",
   "metadata": {},
   "outputs": [],
   "source": [
    "xeno_canto_all_unique_sec_labels = set([el for el in set(list(chain(*add_xeno_canto_df[\"secondary_labels\"]))) if el != \"\"])\n",
    "xeno_canto_all_unique_sn_labels = set([el for el in set(add_xeno_canto_df[\"scientific_name\"]) if el != \"\"])\n",
    "xeno_canto_all_unique_cn_labels = set([el for el in set(add_xeno_canto_df[\"common_name\"]) if el != \"\"])\n",
    "xeno_canto_all_unique_sec_and_sn_labels = xeno_canto_all_unique_sec_labels | xeno_canto_all_unique_sn_labels"
   ]
  },
  {
   "cell_type": "code",
   "execution_count": null,
   "id": "a2c8bf36-f3ef-49e6-aa65-cdf738bdac83",
   "metadata": {},
   "outputs": [],
   "source": [
    "# Xeno Canto secondary labels are taken from `scientific_name`\n",
    "assert not (xeno_canto_all_unique_sec_labels & xeno_canto_all_unique_cn_labels)"
   ]
  },
  {
   "cell_type": "code",
   "execution_count": null,
   "id": "2c115aca-3f47-45b2-89f6-51ef4b04ec38",
   "metadata": {},
   "outputs": [],
   "source": [
    "comp_data_pl_2_id = comp_data.groupby(\"primary_label\")[\"id\"].apply(set).to_dict()\n",
    "add_xeno_canto_df_sn_2_id = add_xeno_canto_df.groupby(\"scientific_name\")[\"id\"].apply(set).to_dict()\n",
    "add_xeno_canto_df_sn_2_id = {k:v for k,v in add_xeno_canto_df_sn_2_id.items()}"
   ]
  },
  {
   "cell_type": "code",
   "execution_count": null,
   "id": "ed60476e-da98-4740-8894-7d73fa86db27",
   "metadata": {},
   "outputs": [],
   "source": [
    "def get_common_name(input):\n",
    "    if len(set(input)) > 1:\n",
    "        # raise RuntimeError(f\"There should be one2one mapping between `primary_label` and `common_name`. Failed example: {set(input)}\")\n",
    "        print(f\"There should be one2one mapping between `primary_label` and `common_name`. Failed example: {set(input)}\")\n",
    "    return input.iloc[0]"
   ]
  },
  {
   "cell_type": "code",
   "execution_count": null,
   "id": "5c1e9a59-c4e6-4952-8981-b0ee9f1b9e9e",
   "metadata": {},
   "outputs": [],
   "source": [
    "pl2sc = comp_data.groupby(\"primary_label\")[\"scientific_name\"].apply(get_common_name).to_dict()\n",
    "# pl2sc = {v:k.lower() for k,v in pl2sc.items()}\n",
    "sc2pl = {v:k for k,v in pl2sc.items()}"
   ]
  },
  {
   "cell_type": "code",
   "execution_count": null,
   "id": "0f34661c-647f-4a1c-afb9-07b4f5c76b0e",
   "metadata": {},
   "outputs": [],
   "source": [
    "lost_classes = {}\n",
    "for k in set(comp_data[\"scientific_name\"]) - xeno_canto_all_unique_sec_and_sn_labels:\n",
    "    lost_classes[sc2pl[k]] = {}\n",
    "    for k_ref in add_xeno_canto_df_sn_2_id.keys():\n",
    "        lost_classes[sc2pl[k]][k_ref] = len(add_xeno_canto_df_sn_2_id[k_ref] & comp_data_pl_2_id[sc2pl[k]]) / len(comp_data_pl_2_id[sc2pl[k]])\n",
    "    lost_classes[sc2pl[k]] = pd.Series(lost_classes[sc2pl[k]]).sort_values(ascending=False)"
   ]
  },
  {
   "cell_type": "code",
   "execution_count": null,
   "id": "e1fe6473-2f88-4b4e-9b83-3042aec81a5f",
   "metadata": {},
   "outputs": [],
   "source": [
    "top_lost_classes = {k:v.reset_index().iloc[0].to_dict() for k,v in lost_classes.items()}"
   ]
  },
  {
   "cell_type": "code",
   "execution_count": null,
   "id": "ae8e8676-9d7a-4716-a216-e228ff833b76",
   "metadata": {},
   "outputs": [],
   "source": [
    "top_lost_classes = {k:v for k,v in top_lost_classes.items() if v[0] > 0}"
   ]
  },
  {
   "cell_type": "code",
   "execution_count": null,
   "id": "fd59215b-0469-4c87-ab3a-f98803ab1940",
   "metadata": {},
   "outputs": [],
   "source": [
    "top_lost_classes"
   ]
  },
  {
   "cell_type": "code",
   "execution_count": null,
   "id": "b13b933f-6b04-4fab-95b6-879d527ea996",
   "metadata": {},
   "outputs": [],
   "source": [
    "sc2pl_xeno_canto = deepcopy(sc2pl)\n",
    "for k,v in top_lost_classes.items():\n",
    "    # if v[0] > 0:\n",
    "    sc2pl_xeno_canto.pop(pl2sc[k])\n",
    "    sc2pl_xeno_canto[v[\"index\"]] = k"
   ]
  },
  {
   "cell_type": "code",
   "execution_count": null,
   "id": "d4fc54a4-6f39-420e-8d90-76b2e18c2a91",
   "metadata": {},
   "outputs": [],
   "source": [
    "# All keys unique\n",
    "assert len(set(sc2pl_xeno_canto.keys())) == len(sc2pl_xeno_canto)\n",
    "# All values unique\n",
    "assert len(set(sc2pl_xeno_canto.values())) == len(sc2pl_xeno_canto)\n",
    "# # All keys are present in Xeno Canto\n",
    "# assert not set(sc2pl_xeno_canto.keys()) - xeno_canto_all_unique_sec_and_sn_labels"
   ]
  },
  {
   "cell_type": "code",
   "execution_count": null,
   "id": "bd4aa24a-315a-4034-99b2-a5a92b1a9c22",
   "metadata": {},
   "outputs": [],
   "source": [
    "add_xeno_canto_df[\"primary_label\"] = add_xeno_canto_df[\"scientific_name\"].apply(lambda x: sc2pl_xeno_canto.get(x,x))\n",
    "add_xeno_canto_df[\"secondary_labels\"] = add_xeno_canto_df[\"secondary_labels\"].apply(lambda x: [sc2pl_xeno_canto.get(el,el) for el in x])\n",
    "add_xeno_canto_df[\"secondary_labels\"] = add_xeno_canto_df[\"secondary_labels\"].apply(lambda x: [el for el in x if el != \"\"])"
   ]
  },
  {
   "cell_type": "code",
   "execution_count": null,
   "id": "d48dc061-0af3-4559-a644-5083dd23924d",
   "metadata": {},
   "outputs": [],
   "source": [
    "# Create all_labels\n",
    "add_xeno_canto_df['all_labels'] = add_xeno_canto_df.apply(lambda x: [x[\"primary_label\"]] + x[\"secondary_labels\"], axis=1)"
   ]
  },
  {
   "cell_type": "code",
   "execution_count": null,
   "id": "1bdff481-9cb9-401b-b41d-2b2580435385",
   "metadata": {},
   "outputs": [],
   "source": [
    "add_xeno_canto_df[\"dataset\"] = \"xc_2024_classes\""
   ]
  },
  {
   "cell_type": "code",
   "execution_count": null,
   "id": "a9b81623-25e2-4dce-93d8-985af52bc6e6",
   "metadata": {},
   "outputs": [],
   "source": [
    "set(train_metadata.columns) - set(add_xeno_canto_df.columns)"
   ]
  },
  {
   "cell_type": "code",
   "execution_count": null,
   "id": "aba084aa-a3e2-42cf-bea5-3635fa2919fa",
   "metadata": {},
   "outputs": [],
   "source": [
    "add_xeno_canto_df[\"filename\"] = add_xeno_canto_df[\"filename\"].apply(lambda x: x.replace(\" \", \"\"))"
   ]
  },
  {
   "cell_type": "code",
   "execution_count": null,
   "id": "22754133-41f6-4376-99ed-9d865bb86ab6",
   "metadata": {},
   "outputs": [],
   "source": [
    "xeno_canto_lengts_and_srs =  ProgressParallel(n_jobs=32, total=len(add_xeno_canto_df))(\n",
    "    delayed(read_length_and_sr)(path) for path in add_xeno_canto_df[\"filename\"].apply(\n",
    "        lambda x: os.path.join(\n",
    "            \"/home/vova/data/exps/birdclef_2024/xeno_canto/dataset_2024_classes/train_features\", x.replace(\".mp3\", \".hdf5\")\n",
    "        )\n",
    "    )\n",
    ")"
   ]
  },
  {
   "cell_type": "code",
   "execution_count": null,
   "id": "9cb0290a-4282-4164-94d7-a4a66370205f",
   "metadata": {},
   "outputs": [],
   "source": [
    "add_xeno_canto_df[\"is_valid\"] = [\n",
    "    el is not None for el in xeno_canto_lengts_and_srs\n",
    "]\n",
    "add_xeno_canto_df[\"sample_rate\"] = [el[1] if el is not None else None for el in xeno_canto_lengts_and_srs]\n",
    "add_xeno_canto_df[\"au_len\"] = [el[0] if el is not None else None for el in xeno_canto_lengts_and_srs]\n",
    "add_xeno_canto_df = add_xeno_canto_df[add_xeno_canto_df[\"is_valid\"]]\n",
    "add_xeno_canto_df = add_xeno_canto_df.drop(columns=[\"is_valid\"])\n",
    "add_xeno_canto_df[\"duration_s\"] = add_xeno_canto_df[\"au_len\"] / add_xeno_canto_df[\"sample_rate\"]"
   ]
  },
  {
   "cell_type": "code",
   "execution_count": null,
   "id": "5f15cd96-357b-4c4f-8e06-fa4ed04272c5",
   "metadata": {},
   "outputs": [],
   "source": [
    "set(train_metadata.columns) - set(add_xeno_canto_df.columns)"
   ]
  },
  {
   "cell_type": "code",
   "execution_count": null,
   "id": "ff2dcac9-35f1-41e3-a8e4-17819732115e",
   "metadata": {},
   "outputs": [],
   "source": [
    "add_xeno_canto_df.to_csv(\"/home/vova/data/exps/birdclef_2024/xeno_canto/dataset_2024_classes/train_metadata_extended.csv\", index=False)"
   ]
  },
  {
   "cell_type": "code",
   "execution_count": null,
   "id": "a5243bb0-2945-4a75-98a5-48ce5bdb9ea0",
   "metadata": {},
   "outputs": [],
   "source": [
    "add_xeno_canto_df = add_xeno_canto_df[~add_xeno_canto_df[\"id\"].isin(comp_data[\"id\"])].reset_index(drop=True)"
   ]
  },
  {
   "cell_type": "code",
   "execution_count": null,
   "id": "579c2df8-eb7e-494e-9643-9d5505574227",
   "metadata": {},
   "outputs": [],
   "source": [
    "add_xeno_canto_df.shape"
   ]
  },
  {
   "cell_type": "code",
   "execution_count": null,
   "id": "a0d6ab74-2a73-496f-be0e-2c9dbfbb4a56",
   "metadata": {},
   "outputs": [],
   "source": [
    "add_xeno_canto_df.to_csv(\"/home/vova/data/exps/birdclef_2024/xeno_canto/dataset_2024_classes/train_metadata_nodupl_extended.csv\", index=False)"
   ]
  },
  {
   "cell_type": "code",
   "execution_count": null,
   "id": "54a7bf8a-f584-4204-a207-f623b1d1991b",
   "metadata": {},
   "outputs": [],
   "source": [
    "add_xeno_canto_df = pd.read_csv(\n",
    "    \"/home/vova/data/exps/birdclef_2024/xeno_canto/dataset_2024_classes/train_metadata_noduplV3_extended.csv\", \n",
    "    converters={\"secondary_labels\": eval, \"all_labels\": eval}\n",
    ")\n",
    "train_metadata = pd.read_csv(\n",
    "    \"/home/vova/data/exps/birdclef_2024/birdclef_2024/train_metadata_extended_noduplv1.csv\", \n",
    "    converters={\"secondary_labels\": eval, \"all_labels\": eval}\n",
    ")\n",
    "train_metadata_prev_comp = pd.read_csv(\n",
    "    \"/home/vova/data/exps/birdclef_2024/dfs/full_noduplsV3_scored_meta_prev_comps_extended.csv\", \n",
    "    converters={\"secondary_labels\": eval, \"all_labels\": eval}\n",
    ")"
   ]
  },
  {
   "cell_type": "code",
   "execution_count": null,
   "id": "703f0367-e3ee-461a-bea2-f9fd0407dfbd",
   "metadata": {},
   "outputs": [],
   "source": [
    "all_classes = set(chain(*train_metadata[\"all_labels\"]))\n",
    "len(all_classes)"
   ]
  },
  {
   "cell_type": "code",
   "execution_count": null,
   "id": "998229f4-745d-43b3-942e-c3c5be331ddc",
   "metadata": {},
   "outputs": [],
   "source": [
    "add_xeno_canto_df[\"all_labels\"] = add_xeno_canto_df[\"all_labels\"].apply(lambda x: [bird for bird in x if bird in all_classes])\n",
    "add_xeno_canto_df[\"secondary_labels\"] = add_xeno_canto_df[\"secondary_labels\"].apply(lambda x: [bird for bird in x if bird in all_classes])\n",
    "\n",
    "train_metadata_prev_comp = train_metadata_prev_comp[train_metadata_prev_comp[\"primary_label\"].isin(all_classes)].reset_index(drop=True)\n",
    "train_metadata_prev_comp[\"all_labels\"] = train_metadata_prev_comp[\"all_labels\"].apply(lambda x: [bird for bird in x if bird in all_classes])\n",
    "train_metadata_prev_comp[\"secondary_labels\"] = train_metadata_prev_comp[\"secondary_labels\"].apply(lambda x: [bird for bird in x if bird in all_classes])"
   ]
  },
  {
   "cell_type": "code",
   "execution_count": null,
   "id": "53fa5cb9-b869-4b89-b94f-f9a6595096b3",
   "metadata": {},
   "outputs": [],
   "source": [
    "add_xeno_canto_df.to_csv(\n",
    "    \"/home/vova/data/exps/birdclef_2024/xeno_canto/dataset_2024_classes/train_metadata_noduplV3_extended_2024SecLabels.csv\",\n",
    "    index=False\n",
    ")\n",
    "train_metadata_prev_comp.to_csv(\n",
    "    \"/home/vova/data/exps/birdclef_2024/dfs/full_noduplsV3_scored_meta_prev_comps_extended_2024SecLabels.csv\",\n",
    "    index=False\n",
    ")"
   ]
  },
  {
   "cell_type": "code",
   "execution_count": null,
   "id": "46cf8b34-ed28-4095-9874-d3ee98b78dbf",
   "metadata": {},
   "outputs": [],
   "source": []
  }
 ],
 "metadata": {
  "kernelspec": {
   "display_name": "Python 3 (ipykernel)",
   "language": "python",
   "name": "python3"
  },
  "language_info": {
   "codemirror_mode": {
    "name": "ipython",
    "version": 3
   },
   "file_extension": ".py",
   "mimetype": "text/x-python",
   "name": "python",
   "nbconvert_exporter": "python",
   "pygments_lexer": "ipython3",
   "version": "3.11.1"
  }
 },
 "nbformat": 4,
 "nbformat_minor": 5
}
